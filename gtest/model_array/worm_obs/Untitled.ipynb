{
 "cells": [
  {
   "cell_type": "code",
   "execution_count": 1,
   "id": "6618d8fa",
   "metadata": {},
   "outputs": [
    {
     "data": {
      "text/plain": [
       "array([[0., 1.],\n",
       "       [1., 0.]])"
      ]
     },
     "execution_count": 1,
     "metadata": {},
     "output_type": "execute_result"
    }
   ],
   "source": [
    "import numpy as np\n",
    "np.load(\"g/0.npy\")"
   ]
  },
  {
   "cell_type": "code",
   "execution_count": 2,
   "id": "a15f1803",
   "metadata": {},
   "outputs": [
    {
     "data": {
      "text/plain": [
       "array([[0., 0., 0., 1.],\n",
       "       [0., 0., 0., 0.],\n",
       "       [0., 0., 0., 0.],\n",
       "       [1., 0., 0., 0.]])"
      ]
     },
     "execution_count": 2,
     "metadata": {},
     "output_type": "execute_result"
    }
   ],
   "source": [
    "np.load(\"g/1.npy\")"
   ]
  },
  {
   "cell_type": "code",
   "execution_count": 3,
   "id": "d70b6255",
   "metadata": {},
   "outputs": [],
   "source": [
    "Sz = np.zeros([2,2])\n",
    "Sz[0,0] = 1/2\n",
    "Sz[1,1] = -1/2\n",
    "Sx = np.zeros([2,2])\n",
    "Sx[1,0] = 1/2\n",
    "Sx[0,1] = 1/2\n",
    "Sy = np.zeros([2,2], dtype=np.complex64)\n",
    "Sy[1,0] = 1j/2\n",
    "Sy[0,1] = -1j/2"
   ]
  },
  {
   "cell_type": "code",
   "execution_count": 4,
   "id": "69d3ad1d",
   "metadata": {},
   "outputs": [],
   "source": [
    "Sp = Sx + Sy\n",
    "Sm = Sx - Sy"
   ]
  },
  {
   "cell_type": "code",
   "execution_count": 6,
   "id": "4ed55ba1",
   "metadata": {},
   "outputs": [
    {
     "data": {
      "text/plain": [
       "array([[0. +0.j , 0. +0.j , 0. +0.j , 0.5+0.j ],\n",
       "       [0. +0.j , 0. +0.j , 0. -0.5j, 0. +0.j ],\n",
       "       [0. +0.j , 0. +0.5j, 0. +0.j , 0. +0.j ],\n",
       "       [0.5+0.j , 0. +0.j , 0. +0.j , 0. +0.j ]])"
      ]
     },
     "execution_count": 6,
     "metadata": {},
     "output_type": "execute_result"
    }
   ],
   "source": [
    "np.kron(Sp, Sm)"
   ]
  },
  {
   "cell_type": "code",
   "execution_count": 2,
   "id": "1ad7ebf6",
   "metadata": {},
   "outputs": [],
   "source": [
    "import numpy as np\n",
    "zero = np.zeros((4,4))\n",
    "np.save(\"zero.npy\", zero)"
   ]
  },
  {
   "cell_type": "code",
   "execution_count": null,
   "id": "f80e8047",
   "metadata": {},
   "outputs": [],
   "source": []
  }
 ],
 "metadata": {
  "kernelspec": {
   "display_name": "py39",
   "language": "python",
   "name": "python3"
  },
  "language_info": {
   "codemirror_mode": {
    "name": "ipython",
    "version": 3
   },
   "file_extension": ".py",
   "mimetype": "text/x-python",
   "name": "python",
   "nbconvert_exporter": "python",
   "pygments_lexer": "ipython3",
   "version": "3.9.16"
  },
  "vscode": {
   "interpreter": {
    "hash": "635093cb382d24e7bb09df67eef84e97b3e0429c00b0294b3c9882ac411b8a1a"
   }
  }
 },
 "nbformat": 4,
 "nbformat_minor": 5
}
