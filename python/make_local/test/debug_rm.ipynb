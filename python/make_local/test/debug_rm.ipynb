{
 "cells": [
  {
   "cell_type": "code",
   "execution_count": 2,
   "metadata": {},
   "outputs": [
    {
     "name": "stdout",
     "output_type": "stream",
     "text": [
      "/home/user/project/python/rmsKit\n"
     ]
    }
   ],
   "source": [
    "cd '/home/user/project/python/rmsKit/'"
   ]
  },
  {
   "cell_type": "code",
   "execution_count": 3,
   "metadata": {},
   "outputs": [],
   "source": [
    "%load_ext autoreload\n",
    "%autoreload 2"
   ]
  },
  {
   "cell_type": "code",
   "execution_count": 4,
   "metadata": {},
   "outputs": [
    {
     "name": "stderr",
     "output_type": "stream",
     "text": [
      "/home/user/miniconda3/envs/py39/lib/python3.9/site-packages/tqdm/auto.py:22: TqdmWarning: IProgress not found. Please update jupyter and ipywidgets. See https://ipywidgets.readthedocs.io/en/stable/user_install.html\n",
      "  from .autonotebook import tqdm as notebook_tqdm\n"
     ]
    }
   ],
   "source": [
    "from importlib import reload\n",
    "import sys\n",
    "import rms\n",
    "import jax \n",
    "import numpy as np\n",
    "import jax.numpy as jnp\n",
    "from jax.config import config\n",
    "sys.path.append(\"/home/user/project/python/reduce_nsp\")\n",
    "sys.path.append(\"/home/user/project/python/exact\")\n",
    "import nsp\n",
    "import numpy as np\n",
    "reload(rms)\n",
    "groundstate = np.load(\"../exact/test/out/KH_2x2/Jx_1_Jy_1_Jz_1_h_0/groundstate.npy\")\n"
   ]
  },
  {
   "cell_type": "code",
   "execution_count": 5,
   "metadata": {},
   "outputs": [],
   "source": [
    "import jax "
   ]
  },
  {
   "cell_type": "code",
   "execution_count": 6,
   "metadata": {},
   "outputs": [
    {
     "data": {
      "text/plain": [
       "[StreamExecutorGpuDevice(id=0, process_index=0, slice_index=0)]"
      ]
     },
     "execution_count": 6,
     "metadata": {},
     "output_type": "execute_result"
    }
   ],
   "source": [
    "jax.devices()"
   ]
  },
  {
   "cell_type": "code",
   "execution_count": 7,
   "metadata": {},
   "outputs": [],
   "source": [
    "H0 = -np.load(\"/home/user/project/python/rmsKit/array/KH/3site/none/Jx_1_Jy_1_Jz_1_hx_0_hz_0/H/0.npy\")\n",
    "H1 = -np.load(\"/home/user/project/python/rmsKit/array/KH/3site/none/Jx_1_Jy_1_Jz_1_hx_0_hz_0/H/1.npy\")\n",
    "H2 = -np.load(\"/home/user/project/python/rmsKit/array/KH/3site/none/Jx_1_Jy_1_Jz_1_hx_0_hz_0/H/2.npy\")\n",
    "U = np.load(\"/home/user/project/python/rmsKit/array/KH/3site/mes/Jx_1_Jy_1_Jz_1_hx_0_hz_0/M_240/u/0.npy\")\n",
    "H_list = [H0, H1, H2]\n",
    "SH_list = [\n",
    "    -nsp.utils.stoquastic(-H) for H in H_list\n",
    "]"
   ]
  },
  {
   "cell_type": "code",
   "execution_count": 8,
   "metadata": {},
   "outputs": [
    {
     "name": "stdout",
     "output_type": "stream",
     "text": [
      "UnitaryRiemanGenerator is initialized\n"
     ]
    }
   ],
   "source": [
    "ur = rms.unitary.UnitaryRiemanGenerator(8, jax.random.PRNGKey(0), np.float64)"
   ]
  },
  {
   "cell_type": "code",
   "execution_count": 9,
   "metadata": {},
   "outputs": [],
   "source": [
    "u = ur.reset_matrix()\n",
    "if not rms.check_is_unitary(u):\n",
    "    print(\"u is unitary\")"
   ]
  },
  {
   "cell_type": "code",
   "execution_count": 10,
   "metadata": {},
   "outputs": [
    {
     "data": {
      "text/plain": [
       "(64, 64)"
      ]
     },
     "execution_count": 10,
     "metadata": {},
     "output_type": "execute_result"
    }
   ],
   "source": [
    "H0.shape"
   ]
  },
  {
   "cell_type": "code",
   "execution_count": null,
   "metadata": {},
   "outputs": [],
   "source": []
  },
  {
   "cell_type": "code",
   "execution_count": 12,
   "metadata": {},
   "outputs": [
    {
     "name": "stdout",
     "output_type": "stream",
     "text": [
      "upper bounds : -1.363760\n",
      "target       : -1.045609\n"
     ]
    }
   ],
   "source": [
    "x0 = groundstate.reshape([8]*4)\n",
    "x0 = x0.transpose([0,2,1,3]).reshape(-1)\n",
    "x0 = jnp.array(x0)\n",
    "\n",
    "x1 = groundstate\n",
    "x1 = jnp.array(x0)\n",
    "\n",
    "x2 = groundstate.reshape([8]*4)\n",
    "x2 = x2.transpose([0,3,1,2]).reshape(-1)\n",
    "x2 = jnp.array(x2)\n",
    "\n",
    "x_list = [x0, x1, x2]\n",
    "\n",
    "\n",
    "loss = rms.loss.QuasiEnergy(jnp.array(H0), x0, 8,  np.float64)\n",
    "\n",
    "qesLoss_list = [\n",
    "    rms.loss.QuasiEnergy(jnp.array(h), _x, 8 , np.float64) for h, _x in zip(H_list, x_list)\n",
    "    ]\n",
    "qesLoss = rms.loss.MeanMultiLoss(qesLoss_list)\n",
    "# mesLoss_list = [\n",
    "#     rms.loss.MinimumEnergy(jnp.array(h), 8, np.float64) for h in H_list\n",
    "#     ]\n",
    "# mesLoss = rms.loss.MeanMultiLoss(mesLoss_list)"
   ]
  },
  {
   "cell_type": "code",
   "execution_count": 13,
   "metadata": {},
   "outputs": [
    {
     "data": {
      "text/plain": [
       "Array(-0.45374004, dtype=float64)"
      ]
     },
     "execution_count": 13,
     "metadata": {},
     "output_type": "execute_result"
    }
   ],
   "source": [
    "loss.target"
   ]
  },
  {
   "cell_type": "code",
   "execution_count": 14,
   "metadata": {},
   "outputs": [
    {
     "data": {
      "text/plain": [
       "Array(-0.51876355, dtype=float64)"
      ]
     },
     "execution_count": 14,
     "metadata": {},
     "output_type": "execute_result"
    }
   ],
   "source": [
    "loss(jnp.eye(8)) "
   ]
  },
  {
   "cell_type": "code",
   "execution_count": 30,
   "metadata": {},
   "outputs": [
    {
     "name": "stdout",
     "output_type": "stream",
     "text": [
      "gpu:0\n",
      "60282637824\n",
      "gpu:0\n",
      "60282719744\n"
     ]
    }
   ],
   "source": [
    "print(x.device_buffer.device())\n",
    "print(x.device_buffer.unsafe_buffer_pointer())\n",
    "y = x.reshape(2, -1)\n",
    "print(y.device_buffer.device())\n",
    "print(y.device_buffer.unsafe_buffer_pointer())"
   ]
  },
  {
   "cell_type": "code",
   "execution_count": null,
   "metadata": {},
   "outputs": [],
   "source": []
  },
  {
   "cell_type": "code",
   "execution_count": 97,
   "metadata": {},
   "outputs": [],
   "source": [
    "u = ur.reset_matrix()\n",
    "u = a"
   ]
  },
  {
   "cell_type": "code",
   "execution_count": 135,
   "metadata": {},
   "outputs": [],
   "source": [
    "# u = jnp.array(U)\n",
    "opt_init, opt_update, get_unitary = rms.optimizer.cg(0.0003, 0.3, mesLoss)\n",
    "opt_state = opt_init(ur.unitarize(a))"
   ]
  },
  {
   "cell_type": "code",
   "execution_count": 46,
   "metadata": {},
   "outputs": [
    {
     "data": {
      "text/plain": [
       "Array(3.16071851, dtype=float64)"
      ]
     },
     "execution_count": 46,
     "metadata": {},
     "output_type": "execute_result"
    }
   ],
   "source": [
    "mesLoss(a)"
   ]
  },
  {
   "cell_type": "code",
   "execution_count": 155,
   "metadata": {},
   "outputs": [],
   "source": [
    "opt_init, opt_update, get_unitary = rms.optimizer.momentum(0.0003, 0.3)\n",
    "opt_state = opt_init(ur.unitarize(U))"
   ]
  },
  {
   "cell_type": "code",
   "execution_count": 157,
   "metadata": {},
   "outputs": [],
   "source": [
    "opt_init, opt_update, get_unitary = rms.optimizer.cg(0.0003, 0.1, mesLoss)\n",
    "opt_state = opt_init(ur.unitarize(u))"
   ]
  },
  {
   "cell_type": "code",
   "execution_count": 15,
   "metadata": {},
   "outputs": [
    {
     "name": "stdout",
     "output_type": "stream",
     "text": [
      "ERROR! Session/line number was not unique in database. History logging moved to new session 66\n"
     ]
    },
    {
     "ename": "TypeError",
     "evalue": "isinstance() arg 2 must be a type or tuple of types",
     "output_type": "error",
     "traceback": [
      "\u001b[0;31m---------------------------------------------------------------------------\u001b[0m",
      "\u001b[0;31mTypeError\u001b[0m                                 Traceback (most recent call last)",
      "File \u001b[0;32m~/miniconda3/envs/py39/lib/python3.9/site-packages/IPython/core/async_helpers.py:129\u001b[0m, in \u001b[0;36m_pseudo_sync_runner\u001b[0;34m(coro)\u001b[0m\n\u001b[1;32m    121\u001b[0m \u001b[39m\"\"\"\u001b[39;00m\n\u001b[1;32m    122\u001b[0m \u001b[39mA runner that does not really allow async execution, and just advance the coroutine.\u001b[39;00m\n\u001b[1;32m    123\u001b[0m \n\u001b[0;32m   (...)\u001b[0m\n\u001b[1;32m    126\u001b[0m \u001b[39mCredit to Nathaniel Smith\u001b[39;00m\n\u001b[1;32m    127\u001b[0m \u001b[39m\"\"\"\u001b[39;00m\n\u001b[1;32m    128\u001b[0m \u001b[39mtry\u001b[39;00m:\n\u001b[0;32m--> 129\u001b[0m     coro\u001b[39m.\u001b[39;49msend(\u001b[39mNone\u001b[39;49;00m)\n\u001b[1;32m    130\u001b[0m \u001b[39mexcept\u001b[39;00m \u001b[39mStopIteration\u001b[39;00m \u001b[39mas\u001b[39;00m exc:\n\u001b[1;32m    131\u001b[0m     \u001b[39mreturn\u001b[39;00m exc\u001b[39m.\u001b[39mvalue\n",
      "File \u001b[0;32m~/miniconda3/envs/py39/lib/python3.9/site-packages/IPython/core/interactiveshell.py:3215\u001b[0m, in \u001b[0;36mInteractiveShell.run_cell_async\u001b[0;34m(self, raw_cell, store_history, silent, shell_futures, transformed_cell, preprocessing_exc_tuple, cell_id)\u001b[0m\n\u001b[1;32m   3211\u001b[0m     \u001b[39mreturn\u001b[39;00m error_before_exec(e)\n\u001b[1;32m   3213\u001b[0m \u001b[39m# Give the displayhook a reference to our ExecutionResult so it\u001b[39;00m\n\u001b[1;32m   3214\u001b[0m \u001b[39m# can fill in the output value.\u001b[39;00m\n\u001b[0;32m-> 3215\u001b[0m \u001b[39mself\u001b[39m\u001b[39m.\u001b[39mdisplayhook\u001b[39m.\u001b[39mexec_result \u001b[39m=\u001b[39m result\n\u001b[1;32m   3217\u001b[0m \u001b[39m# Execute the user code\u001b[39;00m\n\u001b[1;32m   3218\u001b[0m interactivity \u001b[39m=\u001b[39m \u001b[39m\"\u001b[39m\u001b[39mnone\u001b[39m\u001b[39m\"\u001b[39m \u001b[39mif\u001b[39;00m silent \u001b[39melse\u001b[39;00m \u001b[39mself\u001b[39m\u001b[39m.\u001b[39mast_node_interactivity\n",
      "File \u001b[0;32m~/miniconda3/envs/py39/lib/python3.9/site-packages/traitlets/traitlets.py:729\u001b[0m, in \u001b[0;36mTraitType.__set__\u001b[0;34m(self, obj, value)\u001b[0m\n\u001b[1;32m    727\u001b[0m     \u001b[39mraise\u001b[39;00m TraitError(\u001b[39m'\u001b[39m\u001b[39mThe \u001b[39m\u001b[39m\"\u001b[39m\u001b[39m%s\u001b[39;00m\u001b[39m\"\u001b[39m\u001b[39m trait is read-only.\u001b[39m\u001b[39m'\u001b[39m \u001b[39m%\u001b[39m \u001b[39mself\u001b[39m\u001b[39m.\u001b[39mname)\n\u001b[1;32m    728\u001b[0m \u001b[39melse\u001b[39;00m:\n\u001b[0;32m--> 729\u001b[0m     \u001b[39mself\u001b[39;49m\u001b[39m.\u001b[39;49mset(obj, value)\n",
      "File \u001b[0;32m~/miniconda3/envs/py39/lib/python3.9/site-packages/traitlets/traitlets.py:703\u001b[0m, in \u001b[0;36mTraitType.set\u001b[0;34m(self, obj, value)\u001b[0m\n\u001b[1;32m    702\u001b[0m \u001b[39mdef\u001b[39;00m \u001b[39mset\u001b[39m(\u001b[39mself\u001b[39m, obj, value):\n\u001b[0;32m--> 703\u001b[0m     new_value \u001b[39m=\u001b[39m \u001b[39mself\u001b[39;49m\u001b[39m.\u001b[39;49m_validate(obj, value)\n\u001b[1;32m    704\u001b[0m     \u001b[39mtry\u001b[39;00m:\n\u001b[1;32m    705\u001b[0m         old_value \u001b[39m=\u001b[39m obj\u001b[39m.\u001b[39m_trait_values[\u001b[39mself\u001b[39m\u001b[39m.\u001b[39mname]\n",
      "File \u001b[0;32m~/miniconda3/envs/py39/lib/python3.9/site-packages/traitlets/traitlets.py:735\u001b[0m, in \u001b[0;36mTraitType._validate\u001b[0;34m(self, obj, value)\u001b[0m\n\u001b[1;32m    733\u001b[0m     \u001b[39mreturn\u001b[39;00m value\n\u001b[1;32m    734\u001b[0m \u001b[39mif\u001b[39;00m \u001b[39mhasattr\u001b[39m(\u001b[39mself\u001b[39m, \u001b[39m\"\u001b[39m\u001b[39mvalidate\u001b[39m\u001b[39m\"\u001b[39m):\n\u001b[0;32m--> 735\u001b[0m     value \u001b[39m=\u001b[39m \u001b[39mself\u001b[39;49m\u001b[39m.\u001b[39;49mvalidate(obj, value)\n\u001b[1;32m    736\u001b[0m \u001b[39mif\u001b[39;00m obj\u001b[39m.\u001b[39m_cross_validation_lock \u001b[39mis\u001b[39;00m \u001b[39mFalse\u001b[39;00m:\n\u001b[1;32m    737\u001b[0m     value \u001b[39m=\u001b[39m \u001b[39mself\u001b[39m\u001b[39m.\u001b[39m_cross_validate(obj, value)\n",
      "File \u001b[0;32m~/miniconda3/envs/py39/lib/python3.9/site-packages/traitlets/traitlets.py:2144\u001b[0m, in \u001b[0;36mInstance.validate\u001b[0;34m(self, obj, value)\u001b[0m\n\u001b[1;32m   2142\u001b[0m \u001b[39mdef\u001b[39;00m \u001b[39mvalidate\u001b[39m(\u001b[39mself\u001b[39m, obj, value):\n\u001b[1;32m   2143\u001b[0m     \u001b[39massert\u001b[39;00m \u001b[39mself\u001b[39m\u001b[39m.\u001b[39mklass \u001b[39mis\u001b[39;00m \u001b[39mnot\u001b[39;00m \u001b[39mNone\u001b[39;00m\n\u001b[0;32m-> 2144\u001b[0m     \u001b[39mif\u001b[39;00m \u001b[39misinstance\u001b[39;49m(value, \u001b[39mself\u001b[39;49m\u001b[39m.\u001b[39;49mklass):  \u001b[39m# type:ignore[arg-type]\u001b[39;00m\n\u001b[1;32m   2145\u001b[0m         \u001b[39mreturn\u001b[39;00m value\n\u001b[1;32m   2146\u001b[0m     \u001b[39melse\u001b[39;00m:\n",
      "\u001b[0;31mTypeError\u001b[0m: isinstance() arg 2 must be a type or tuple of types"
     ]
    }
   ],
   "source": [
    "jax.devices()"
   ]
  },
  {
   "cell_type": "code",
   "execution_count": 15,
   "metadata": {},
   "outputs": [
    {
     "name": "stderr",
     "output_type": "stream",
     "text": [
      "/home/user/miniconda3/envs/py39/lib/python3.9/site-packages/PIL/Image.py:125: RuntimeWarning: The _imaging extension was built for another version of Pillow or PIL:\n",
      "Core version: 9.3.0\n",
      "Pillow version: 9.4.0\n",
      "  warnings.warn(str(v), RuntimeWarning)\n",
      "[autoreload of PIL.Image failed: Traceback (most recent call last):\n",
      "  File \"/home/user/miniconda3/envs/py39/lib/python3.9/site-packages/IPython/extensions/autoreload.py\", line 261, in check\n",
      "    superreload(m, reload, self.old_objects)\n",
      "  File \"/home/user/miniconda3/envs/py39/lib/python3.9/site-packages/IPython/extensions/autoreload.py\", line 459, in superreload\n",
      "    module = reload(module)\n",
      "  File \"/home/user/miniconda3/envs/py39/lib/python3.9/importlib/__init__.py\", line 169, in reload\n",
      "    _bootstrap._exec(spec, module)\n",
      "  File \"<frozen importlib._bootstrap>\", line 613, in _exec\n",
      "  File \"<frozen importlib._bootstrap_external>\", line 850, in exec_module\n",
      "  File \"<frozen importlib._bootstrap>\", line 228, in _call_with_frames_removed\n",
      "  File \"/home/user/miniconda3/envs/py39/lib/python3.9/site-packages/PIL/Image.py\", line 111, in <module>\n",
      "    raise ImportError(msg)\n",
      "ImportError: The _imaging extension was built for another version of Pillow or PIL:\n",
      "Core version: 9.3.0\n",
      "Pillow version: 9.4.0\n",
      "]\n"
     ]
    },
    {
     "ename": "TypeError",
     "evalue": "isinstance() arg 2 must be a type or tuple of types",
     "output_type": "error",
     "traceback": [
      "\u001b[0;31m---------------------------------------------------------------------------\u001b[0m",
      "\u001b[0;31mTypeError\u001b[0m                                 Traceback (most recent call last)",
      "File \u001b[0;32m~/miniconda3/envs/py39/lib/python3.9/site-packages/IPython/core/async_helpers.py:129\u001b[0m, in \u001b[0;36m_pseudo_sync_runner\u001b[0;34m(coro)\u001b[0m\n\u001b[1;32m    121\u001b[0m \u001b[39m\"\"\"\u001b[39;00m\n\u001b[1;32m    122\u001b[0m \u001b[39mA runner that does not really allow async execution, and just advance the coroutine.\u001b[39;00m\n\u001b[1;32m    123\u001b[0m \n\u001b[0;32m   (...)\u001b[0m\n\u001b[1;32m    126\u001b[0m \u001b[39mCredit to Nathaniel Smith\u001b[39;00m\n\u001b[1;32m    127\u001b[0m \u001b[39m\"\"\"\u001b[39;00m\n\u001b[1;32m    128\u001b[0m \u001b[39mtry\u001b[39;00m:\n\u001b[0;32m--> 129\u001b[0m     coro\u001b[39m.\u001b[39;49msend(\u001b[39mNone\u001b[39;49;00m)\n\u001b[1;32m    130\u001b[0m \u001b[39mexcept\u001b[39;00m \u001b[39mStopIteration\u001b[39;00m \u001b[39mas\u001b[39;00m exc:\n\u001b[1;32m    131\u001b[0m     \u001b[39mreturn\u001b[39;00m exc\u001b[39m.\u001b[39mvalue\n",
      "File \u001b[0;32m~/miniconda3/envs/py39/lib/python3.9/site-packages/IPython/core/interactiveshell.py:3198\u001b[0m, in \u001b[0;36mInteractiveShell.run_cell_async\u001b[0;34m(self, raw_cell, store_history, silent, shell_futures, transformed_cell, preprocessing_exc_tuple, cell_id)\u001b[0m\n\u001b[1;32m   3194\u001b[0m     \u001b[39mreturn\u001b[39;00m error_before_exec(e)\n\u001b[1;32m   3196\u001b[0m \u001b[39m# Give the displayhook a reference to our ExecutionResult so it\u001b[39;00m\n\u001b[1;32m   3197\u001b[0m \u001b[39m# can fill in the output value.\u001b[39;00m\n\u001b[0;32m-> 3198\u001b[0m \u001b[39mself\u001b[39m\u001b[39m.\u001b[39mdisplayhook\u001b[39m.\u001b[39mexec_result \u001b[39m=\u001b[39m result\n\u001b[1;32m   3200\u001b[0m \u001b[39m# Execute the user code\u001b[39;00m\n\u001b[1;32m   3201\u001b[0m interactivity \u001b[39m=\u001b[39m \u001b[39m\"\u001b[39m\u001b[39mnone\u001b[39m\u001b[39m\"\u001b[39m \u001b[39mif\u001b[39;00m silent \u001b[39melse\u001b[39;00m \u001b[39mself\u001b[39m\u001b[39m.\u001b[39mast_node_interactivity\n",
      "File \u001b[0;32m~/miniconda3/envs/py39/lib/python3.9/site-packages/traitlets/traitlets.py:729\u001b[0m, in \u001b[0;36mTraitType.__set__\u001b[0;34m(self, obj, value)\u001b[0m\n\u001b[1;32m    727\u001b[0m     \u001b[39mraise\u001b[39;00m TraitError(\u001b[39m'\u001b[39m\u001b[39mThe \u001b[39m\u001b[39m\"\u001b[39m\u001b[39m%s\u001b[39;00m\u001b[39m\"\u001b[39m\u001b[39m trait is read-only.\u001b[39m\u001b[39m'\u001b[39m \u001b[39m%\u001b[39m \u001b[39mself\u001b[39m\u001b[39m.\u001b[39mname)\n\u001b[1;32m    728\u001b[0m \u001b[39melse\u001b[39;00m:\n\u001b[0;32m--> 729\u001b[0m     \u001b[39mself\u001b[39;49m\u001b[39m.\u001b[39;49mset(obj, value)\n",
      "File \u001b[0;32m~/miniconda3/envs/py39/lib/python3.9/site-packages/traitlets/traitlets.py:703\u001b[0m, in \u001b[0;36mTraitType.set\u001b[0;34m(self, obj, value)\u001b[0m\n\u001b[1;32m    702\u001b[0m \u001b[39mdef\u001b[39;00m \u001b[39mset\u001b[39m(\u001b[39mself\u001b[39m, obj, value):\n\u001b[0;32m--> 703\u001b[0m     new_value \u001b[39m=\u001b[39m \u001b[39mself\u001b[39;49m\u001b[39m.\u001b[39;49m_validate(obj, value)\n\u001b[1;32m    704\u001b[0m     \u001b[39mtry\u001b[39;00m:\n\u001b[1;32m    705\u001b[0m         old_value \u001b[39m=\u001b[39m obj\u001b[39m.\u001b[39m_trait_values[\u001b[39mself\u001b[39m\u001b[39m.\u001b[39mname]\n",
      "File \u001b[0;32m~/miniconda3/envs/py39/lib/python3.9/site-packages/traitlets/traitlets.py:735\u001b[0m, in \u001b[0;36mTraitType._validate\u001b[0;34m(self, obj, value)\u001b[0m\n\u001b[1;32m    733\u001b[0m     \u001b[39mreturn\u001b[39;00m value\n\u001b[1;32m    734\u001b[0m \u001b[39mif\u001b[39;00m \u001b[39mhasattr\u001b[39m(\u001b[39mself\u001b[39m, \u001b[39m\"\u001b[39m\u001b[39mvalidate\u001b[39m\u001b[39m\"\u001b[39m):\n\u001b[0;32m--> 735\u001b[0m     value \u001b[39m=\u001b[39m \u001b[39mself\u001b[39;49m\u001b[39m.\u001b[39;49mvalidate(obj, value)\n\u001b[1;32m    736\u001b[0m \u001b[39mif\u001b[39;00m obj\u001b[39m.\u001b[39m_cross_validation_lock \u001b[39mis\u001b[39;00m \u001b[39mFalse\u001b[39;00m:\n\u001b[1;32m    737\u001b[0m     value \u001b[39m=\u001b[39m \u001b[39mself\u001b[39m\u001b[39m.\u001b[39m_cross_validate(obj, value)\n",
      "File \u001b[0;32m~/miniconda3/envs/py39/lib/python3.9/site-packages/traitlets/traitlets.py:2144\u001b[0m, in \u001b[0;36mInstance.validate\u001b[0;34m(self, obj, value)\u001b[0m\n\u001b[1;32m   2142\u001b[0m \u001b[39mdef\u001b[39;00m \u001b[39mvalidate\u001b[39m(\u001b[39mself\u001b[39m, obj, value):\n\u001b[1;32m   2143\u001b[0m     \u001b[39massert\u001b[39;00m \u001b[39mself\u001b[39m\u001b[39m.\u001b[39mklass \u001b[39mis\u001b[39;00m \u001b[39mnot\u001b[39;00m \u001b[39mNone\u001b[39;00m\n\u001b[0;32m-> 2144\u001b[0m     \u001b[39mif\u001b[39;00m \u001b[39misinstance\u001b[39;49m(value, \u001b[39mself\u001b[39;49m\u001b[39m.\u001b[39;49mklass):  \u001b[39m# type:ignore[arg-type]\u001b[39;00m\n\u001b[1;32m   2145\u001b[0m         \u001b[39mreturn\u001b[39;00m value\n\u001b[1;32m   2146\u001b[0m     \u001b[39melse\u001b[39;00m:\n",
      "\u001b[0;31mTypeError\u001b[0m: isinstance() arg 2 must be a type or tuple of types"
     ]
    }
   ],
   "source": [
    "devices = jax.devices()"
   ]
  },
  {
   "cell_type": "code",
   "execution_count": 158,
   "metadata": {},
   "outputs": [
    {
     "name": "stdout",
     "output_type": "stream",
     "text": [
      "3.0015916946511423\n",
      "3.0002018155968457\n",
      "3.0001176412621753\n",
      "3.0000827293522976\n",
      "3.0000641289934045\n",
      "3.000057903643606\n",
      "3.0000555114091694\n",
      "3.0000541716679336\n",
      "3.0000537052514917\n",
      "3.0000535315793444\n",
      "3.0000534568777226\n"
     ]
    },
    {
     "ename": "KeyboardInterrupt",
     "evalue": "",
     "output_type": "error",
     "traceback": [
      "\u001b[0;31m---------------------------------------------------------------------------\u001b[0m",
      "\u001b[0;31mKeyboardInterrupt\u001b[0m                         Traceback (most recent call last)",
      "Cell \u001b[0;32mIn[158], line 7\u001b[0m\n\u001b[1;32m      5\u001b[0m     \u001b[39mreturn\u001b[39;00m value, opt_state\n\u001b[1;32m      6\u001b[0m \u001b[39mfor\u001b[39;00m i \u001b[39min\u001b[39;00m \u001b[39mrange\u001b[39m(\u001b[39m1000\u001b[39m):\n\u001b[0;32m----> 7\u001b[0m     value, opt_state \u001b[39m=\u001b[39m step(i, opt_state)\n\u001b[1;32m      8\u001b[0m     u \u001b[39m=\u001b[39m get_unitary(opt_state)\n\u001b[1;32m      9\u001b[0m     \u001b[39mprint\u001b[39m(value)\n",
      "Cell \u001b[0;32mIn[158], line 4\u001b[0m, in \u001b[0;36mstep\u001b[0;34m(step, opt_state)\u001b[0m\n\u001b[1;32m      2\u001b[0m value, grads \u001b[39m=\u001b[39m jax\u001b[39m.\u001b[39mvalue_and_grad(mesLoss)(get_unitary(opt_state))\n\u001b[1;32m      3\u001b[0m riemannian_grad \u001b[39m=\u001b[39m ur\u001b[39m.\u001b[39mriemannian_grad(u, grads)\n\u001b[0;32m----> 4\u001b[0m opt_state \u001b[39m=\u001b[39m opt_update(step, riemannian_grad, opt_state)\n\u001b[1;32m      5\u001b[0m \u001b[39mreturn\u001b[39;00m value, opt_state\n",
      "File \u001b[0;32m~/miniconda3/envs/py39/lib/python3.9/site-packages/jax/example_libraries/optimizers.py:197\u001b[0m, in \u001b[0;36moptimizer.<locals>.tree_opt_maker.<locals>.tree_update\u001b[0;34m(i, grad_tree, opt_state)\u001b[0m\n\u001b[1;32m    195\u001b[0m   \u001b[39mraise\u001b[39;00m \u001b[39mTypeError\u001b[39;00m(msg\u001b[39m.\u001b[39mformat(tree, tree2))\n\u001b[1;32m    196\u001b[0m states \u001b[39m=\u001b[39m \u001b[39mmap\u001b[39m(tree_unflatten, subtrees, states_flat)\n\u001b[0;32m--> 197\u001b[0m new_states \u001b[39m=\u001b[39m \u001b[39mmap\u001b[39;49m(partial(update, i), grad_flat, states)\n\u001b[1;32m    198\u001b[0m new_states_flat, subtrees2 \u001b[39m=\u001b[39m unzip2(\u001b[39mmap\u001b[39m(tree_flatten, new_states))\n\u001b[1;32m    199\u001b[0m \u001b[39mfor\u001b[39;00m subtree, subtree2 \u001b[39min\u001b[39;00m \u001b[39mzip\u001b[39m(subtrees, subtrees2):\n",
      "File \u001b[0;32m~/miniconda3/envs/py39/lib/python3.9/site-packages/jax/_src/util.py:79\u001b[0m, in \u001b[0;36msafe_map\u001b[0;34m(f, *args)\u001b[0m\n\u001b[1;32m     77\u001b[0m \u001b[39mfor\u001b[39;00m arg \u001b[39min\u001b[39;00m args[\u001b[39m1\u001b[39m:]:\n\u001b[1;32m     78\u001b[0m   \u001b[39massert\u001b[39;00m \u001b[39mlen\u001b[39m(arg) \u001b[39m==\u001b[39m n, \u001b[39mf\u001b[39m\u001b[39m'\u001b[39m\u001b[39mlength mismatch: \u001b[39m\u001b[39m{\u001b[39;00m\u001b[39mlist\u001b[39m(\u001b[39mmap\u001b[39m(\u001b[39mlen\u001b[39m, args))\u001b[39m}\u001b[39;00m\u001b[39m'\u001b[39m\n\u001b[0;32m---> 79\u001b[0m \u001b[39mreturn\u001b[39;00m \u001b[39mlist\u001b[39;49m(\u001b[39mmap\u001b[39;49m(f, \u001b[39m*\u001b[39;49margs))\n",
      "File \u001b[0;32m~/project/python/make_local/rms/optimizer/optimizer.py:102\u001b[0m, in \u001b[0;36mcg.<locals>.update\u001b[0;34m(i, rg, state)\u001b[0m\n\u001b[1;32m    100\u001b[0m u, vrg \u001b[39m=\u001b[39m state\n\u001b[1;32m    101\u001b[0m vrg \u001b[39m=\u001b[39m mass \u001b[39m*\u001b[39m vrg \u001b[39m+\u001b[39m rg\n\u001b[0;32m--> 102\u001b[0m lr \u001b[39m=\u001b[39m golden(u, vrg, loss, delta \u001b[39m=\u001b[39;49m step_size)\n\u001b[1;32m    103\u001b[0m u \u001b[39m=\u001b[39m expm(\u001b[39m-\u001b[39mlr \u001b[39m*\u001b[39m vrg) \u001b[39m@\u001b[39m u\n\u001b[1;32m    104\u001b[0m \u001b[39mreturn\u001b[39;00m u, vrg\n",
      "File \u001b[0;32m~/project/python/make_local/rms/optimizer/optimizer.py:132\u001b[0m, in \u001b[0;36mgolden\u001b[0;34m(u, rg, loss, delta, cout)\u001b[0m\n\u001b[1;32m    129\u001b[0m \u001b[39mwhile\u001b[39;00m \u001b[39mTrue\u001b[39;00m:\n\u001b[1;32m    130\u001b[0m     \u001b[39mif\u001b[39;00m objective(step) \u001b[39m<\u001b[39m objective(step\u001b[39m*\u001b[39mt):\n\u001b[1;32m    131\u001b[0m         \u001b[39m# print(objective(0) ,objective(step), objective(step*t))\u001b[39;00m\n\u001b[0;32m--> 132\u001b[0m         a \u001b[39m=\u001b[39m optimize\u001b[39m.\u001b[39;49mgolden(objective, brack \u001b[39m=\u001b[39;49m (\u001b[39m0\u001b[39;49m, step, step\u001b[39m*\u001b[39;49mt))\n\u001b[1;32m    133\u001b[0m         \u001b[39mif\u001b[39;00m \u001b[39misinstance\u001b[39m(a, \u001b[39mfloat\u001b[39m):\n\u001b[1;32m    134\u001b[0m             \u001b[39mreturn\u001b[39;00m a\n",
      "File \u001b[0;32m~/miniconda3/envs/py39/lib/python3.9/site-packages/scipy/optimize/_optimize.py:2580\u001b[0m, in \u001b[0;36mgolden\u001b[0;34m(func, args, brack, tol, full_output, maxiter)\u001b[0m\n\u001b[1;32m   2522\u001b[0m \u001b[39m\"\"\"\u001b[39;00m\n\u001b[1;32m   2523\u001b[0m \u001b[39mReturn the minimum of a function of one variable using golden section\u001b[39;00m\n\u001b[1;32m   2524\u001b[0m \u001b[39mmethod.\u001b[39;00m\n\u001b[0;32m   (...)\u001b[0m\n\u001b[1;32m   2577\u001b[0m \n\u001b[1;32m   2578\u001b[0m \u001b[39m\"\"\"\u001b[39;00m\n\u001b[1;32m   2579\u001b[0m options \u001b[39m=\u001b[39m {\u001b[39m'\u001b[39m\u001b[39mxtol\u001b[39m\u001b[39m'\u001b[39m: tol, \u001b[39m'\u001b[39m\u001b[39mmaxiter\u001b[39m\u001b[39m'\u001b[39m: maxiter}\n\u001b[0;32m-> 2580\u001b[0m res \u001b[39m=\u001b[39m _minimize_scalar_golden(func, brack, args, \u001b[39m*\u001b[39;49m\u001b[39m*\u001b[39;49moptions)\n\u001b[1;32m   2581\u001b[0m \u001b[39mif\u001b[39;00m full_output:\n\u001b[1;32m   2582\u001b[0m     \u001b[39mreturn\u001b[39;00m res[\u001b[39m'\u001b[39m\u001b[39mx\u001b[39m\u001b[39m'\u001b[39m], res[\u001b[39m'\u001b[39m\u001b[39mfun\u001b[39m\u001b[39m'\u001b[39m], res[\u001b[39m'\u001b[39m\u001b[39mnfev\u001b[39m\u001b[39m'\u001b[39m]\n",
      "File \u001b[0;32m~/miniconda3/envs/py39/lib/python3.9/site-packages/scipy/optimize/_optimize.py:2653\u001b[0m, in \u001b[0;36m_minimize_scalar_golden\u001b[0;34m(func, brack, args, xtol, maxiter, disp, **unknown_options)\u001b[0m\n\u001b[1;32m   2651\u001b[0m     x2 \u001b[39m=\u001b[39m _gR \u001b[39m*\u001b[39m x1 \u001b[39m+\u001b[39m _gC \u001b[39m*\u001b[39m x3\n\u001b[1;32m   2652\u001b[0m     f1 \u001b[39m=\u001b[39m f2\n\u001b[0;32m-> 2653\u001b[0m     f2 \u001b[39m=\u001b[39m func(\u001b[39m*\u001b[39;49m((x2,) \u001b[39m+\u001b[39;49m args))\n\u001b[1;32m   2654\u001b[0m \u001b[39melse\u001b[39;00m:\n\u001b[1;32m   2655\u001b[0m     x3 \u001b[39m=\u001b[39m x2\n",
      "File \u001b[0;32m~/project/python/make_local/rms/optimizer/optimizer.py:116\u001b[0m, in \u001b[0;36mgolden.<locals>.objective\u001b[0;34m(t)\u001b[0m\n\u001b[1;32m    115\u001b[0m \u001b[39mdef\u001b[39;00m \u001b[39mobjective\u001b[39m(t):\n\u001b[0;32m--> 116\u001b[0m     \u001b[39mreturn\u001b[39;00m loss(jax\u001b[39m.\u001b[39;49mscipy\u001b[39m.\u001b[39;49mlinalg\u001b[39m.\u001b[39;49mexpm(\u001b[39m-\u001b[39;49mt\u001b[39m*\u001b[39;49mrg)\u001b[39m@u\u001b[39;49m)\n",
      "File \u001b[0;32m~/project/python/make_local/rms/loss/multi_loss.py:45\u001b[0m, in \u001b[0;36mBaseMultiLoss.__call__\u001b[0;34m(self, M, stq)\u001b[0m\n\u001b[1;32m     40\u001b[0m \u001b[39mdef\u001b[39;00m \u001b[39m__call__\u001b[39m(\n\u001b[1;32m     41\u001b[0m         \u001b[39mself\u001b[39m,\n\u001b[1;32m     42\u001b[0m         M: Array,\n\u001b[1;32m     43\u001b[0m         stq: \u001b[39mbool\u001b[39m \u001b[39m=\u001b[39m \u001b[39mTrue\u001b[39;00m,\n\u001b[1;32m     44\u001b[0m ) \u001b[39m-\u001b[39m\u001b[39m>\u001b[39m Array:\n\u001b[0;32m---> 45\u001b[0m     \u001b[39mreturn\u001b[39;00m \u001b[39mself\u001b[39;49m\u001b[39m.\u001b[39;49m_multi_loss(M, stq)\n",
      "File \u001b[0;32m~/project/python/make_local/rms/loss/multi_loss.py:56\u001b[0m, in \u001b[0;36mMeanMultiLoss._multi_loss\u001b[0;34m(self, M, stq)\u001b[0m\n\u001b[1;32m     54\u001b[0m loss \u001b[39m=\u001b[39m jnp\u001b[39m.\u001b[39marray(\u001b[39m0\u001b[39m)\n\u001b[1;32m     55\u001b[0m \u001b[39mfor\u001b[39;00m loss_func \u001b[39min\u001b[39;00m \u001b[39mself\u001b[39m\u001b[39m.\u001b[39mloss_list:\n\u001b[0;32m---> 56\u001b[0m     loss \u001b[39m+\u001b[39m\u001b[39m=\u001b[39m loss_func(M, stq)\n\u001b[1;32m     57\u001b[0m \u001b[39mreturn\u001b[39;00m loss\n",
      "File \u001b[0;32m~/project/python/make_local/rms/loss/loss.py:52\u001b[0m, in \u001b[0;36mBaseLoss.__call__\u001b[0;34m(self, M, stq)\u001b[0m\n\u001b[1;32m     50\u001b[0m \u001b[39mif\u001b[39;00m (M\u001b[39m.\u001b[39mdtype \u001b[39m!=\u001b[39m \u001b[39mself\u001b[39m\u001b[39m.\u001b[39mdtype):\n\u001b[1;32m     51\u001b[0m     \u001b[39mraise\u001b[39;00m \u001b[39mValueError\u001b[39;00m(\u001b[39m\"\u001b[39m\u001b[39mdtype of M is not appropriate\u001b[39m\u001b[39m\"\u001b[39m)\n\u001b[0;32m---> 52\u001b[0m \u001b[39mreturn\u001b[39;00m \u001b[39mself\u001b[39;49m\u001b[39m.\u001b[39;49m_loss(M, stq)\n",
      "File \u001b[0;32m~/project/python/make_local/rms/loss/loss.py:132\u001b[0m, in \u001b[0;36mMinimumEnergy._loss\u001b[0;34m(self, M, stq)\u001b[0m\n\u001b[1;32m    128\u001b[0m \u001b[39mdef\u001b[39;00m \u001b[39m_loss\u001b[39m(\u001b[39mself\u001b[39m, M: Array, stq : \u001b[39mbool\u001b[39m) \u001b[39m-\u001b[39m\u001b[39m>\u001b[39m Array:\n\u001b[1;32m    129\u001b[0m     \u001b[39m\"\"\"\u001b[39;00m\n\u001b[1;32m    130\u001b[0m \u001b[39m    loss function\u001b[39;00m\n\u001b[1;32m    131\u001b[0m \u001b[39m    \"\"\"\u001b[39;00m\n\u001b[0;32m--> 132\u001b[0m     \u001b[39mreturn\u001b[39;00m \u001b[39mself\u001b[39;49m\u001b[39m.\u001b[39;49m_stq_loss(M, \u001b[39mself\u001b[39;49m\u001b[39m.\u001b[39;49mH) \u001b[39mif\u001b[39;00m stq \u001b[39melse\u001b[39;00m \u001b[39mself\u001b[39m\u001b[39m.\u001b[39m_nstq_loss(M, \u001b[39mself\u001b[39m\u001b[39m.\u001b[39mH)\n",
      "\u001b[0;31mKeyboardInterrupt\u001b[0m: "
     ]
    }
   ],
   "source": [
    "def step(step, opt_state):\n",
    "    value, grads = jax.value_and_grad(mesLoss)(get_unitary(opt_state))\n",
    "    riemannian_grad = ur.riemannian_grad(u, grads)\n",
    "    opt_state = opt_update(step, riemannian_grad, opt_state)\n",
    "    return value, opt_state\n",
    "for i in range(1000):\n",
    "    value, opt_state = step(i, opt_state)\n",
    "    u = get_unitary(opt_state)\n",
    "    print(value)"
   ]
  },
  {
   "cell_type": "code",
   "execution_count": 114,
   "metadata": {},
   "outputs": [],
   "source": [
    "value, grads = jax.value_and_grad(mesLoss)(u)\n",
    "riemannian_grad = ur.riemannian_grad(u, grads)"
   ]
  },
  {
   "cell_type": "code",
   "execution_count": null,
   "metadata": {},
   "outputs": [
    {
     "data": {
      "text/plain": [
       "Array([0], dtype=int64)"
      ]
     },
     "execution_count": 33,
     "metadata": {},
     "output_type": "execute_result"
    }
   ],
   "source": [
    "t = jnp.array([0])\n",
    "t"
   ]
  },
  {
   "cell_type": "code",
   "execution_count": 18,
   "metadata": {},
   "outputs": [],
   "source": [
    "from scipy import optimize\n",
    "\n",
    "def golden(u, rg, loss, delta = 0.001, cout = False):\n",
    "    def objective(t):\n",
    "        return loss(jax.scipy.linalg.expm(-t*rg)@u)\n",
    "    t = jnp.array(1.0)\n",
    "\n",
    "    g = jax.grad(objective)(t)\n",
    "    g2 = jax.grad(jax.grad(objective))(t)\n",
    "    step = g/g2 * delta\n",
    "    step = abs(step.item())\n",
    "    t = 10\n",
    "    for _ in range(10):\n",
    "        # print(objective(step))\n",
    "        if (objective(step) < objective(0)):\n",
    "            while True:\n",
    "                if objective(step) < objective(step*t):\n",
    "                    # print(objective(0) ,objective(step), objective(step*t))\n",
    "                    a = optimize.golden(objective, brack = (0, step, step*t))\n",
    "                    return a\n",
    "                else:\n",
    "                    step *= t\n",
    "        else:\n",
    "            step /= t\n",
    "    if cout:\n",
    "        print(\"No local minimum found\")\n",
    "    a = optimize.golden(objective)\n"
   ]
  },
  {
   "cell_type": "code",
   "execution_count": 24,
   "metadata": {},
   "outputs": [],
   "source": [
    "a = golden(u, riemannian_grad, mesLoss)"
   ]
  },
  {
   "cell_type": "code",
   "execution_count": 115,
   "metadata": {},
   "outputs": [],
   "source": [
    "def objective(t):\n",
    "    return mesLoss(jax.scipy.linalg.expm(-t*riemannian_grad)@u)"
   ]
  },
  {
   "cell_type": "code",
   "execution_count": 121,
   "metadata": {},
   "outputs": [],
   "source": [
    "v = jax.vmap(objective, (0,), 0)\n",
    "T = np.linspace(0, 0.01, 1000)\n",
    "Y = v(T)"
   ]
  },
  {
   "cell_type": "code",
   "execution_count": 122,
   "metadata": {},
   "outputs": [
    {
     "data": {
      "text/plain": [
       "[<matplotlib.lines.Line2D at 0x7ff6704c55b0>]"
      ]
     },
     "execution_count": 122,
     "metadata": {},
     "output_type": "execute_result"
    },
    {
     "data": {
      "image/png": "[encoded data removed]",
      "text/plain": [
       "<Figure size 640x480 with 1 Axes>"
      ]
     },
     "metadata": {},
     "output_type": "display_data"
    }
   ],
   "source": [
    "from matplotlib import pyplot as plt\n",
    "\n",
    "plt.plot(T, Y)\n",
    "# plt.vlines(golden(u, riemannian_grad, mesLoss), ymin = 0, ymax = 1)"
   ]
  },
  {
   "cell_type": "code",
   "execution_count": 123,
   "metadata": {},
   "outputs": [
    {
     "data": {
      "text/plain": [
       "nan"
      ]
     },
     "execution_count": 123,
     "metadata": {},
     "output_type": "execute_result"
    }
   ],
   "source": [
    "(jnp.nan)"
   ]
  },
  {
   "cell_type": "code",
   "execution_count": 14,
   "metadata": {},
   "outputs": [
    {
     "data": {
      "text/plain": [
       "0.0010209440758175122"
      ]
     },
     "execution_count": 14,
     "metadata": {},
     "output_type": "execute_result"
    }
   ],
   "source": [
    "golden(u, riemannian_grad, mesLoss)"
   ]
  },
  {
   "cell_type": "code",
   "execution_count": 40,
   "metadata": {},
   "outputs": [
    {
     "name": "stdout",
     "output_type": "stream",
     "text": [
      "[[ 0.          0.04848574 -0.14949599 -0.12895075  0.08539086  0.21497774\n",
      "  -0.30938472  0.146692  ]\n",
      " [-0.04848574  0.         -0.13104768  0.1381185   0.15857814  0.02893414\n",
      "   0.03815241  0.12007688]\n",
      " [ 0.14949599  0.13104768  0.         -0.1519691   0.01669821  0.09771466\n",
      "  -0.07352611  0.08505269]\n",
      " [ 0.12895075 -0.1381185   0.1519691   0.          0.14733817  0.00988164\n",
      "   0.03453659  0.04185871]\n",
      " [-0.08539086 -0.15857814 -0.01669821 -0.14733817  0.          0.19016541\n",
      "  -0.0569112   0.27680873]\n",
      " [-0.21497774 -0.02893414 -0.09771466 -0.00988164 -0.19016541  0.\n",
      "  -0.06713462 -0.1142042 ]\n",
      " [ 0.30938472 -0.03815241  0.07352611 -0.03453659  0.0569112   0.06713462\n",
      "   0.          0.17117901]\n",
      " [-0.146692   -0.12007688 -0.08505269 -0.04185871 -0.27680873  0.1142042\n",
      "  -0.17117901  0.        ]]\n"
     ]
    }
   ],
   "source": [
    "ur.reset_params()\n",
    "val = mesLoss(ur.matrix)\n",
    "# print(val)\n",
    "grad = jax.grad(mesLoss)(ur.matrix)\n",
    "riemannian_grad = ur.riemannian_grad(grad)\n",
    "print(riemannian_grad)\n",
    "\n"
   ]
  },
  {
   "cell_type": "code",
   "execution_count": 15,
   "metadata": {},
   "outputs": [
    {
     "data": {
      "text/plain": [
       "Array(1.03253213e-15, dtype=float64)"
      ]
     },
     "execution_count": 15,
     "metadata": {},
     "output_type": "execute_result"
    }
   ],
   "source": [
    "jnp.linalg.norm(riemannian_grad)"
   ]
  },
  {
   "attachments": {},
   "cell_type": "markdown",
   "metadata": {},
   "source": [
    "## Gradient"
   ]
  }
 ],
 "metadata": {
  "kernelspec": {
   "display_name": "py39",
   "language": "python",
   "name": "python3"
  },
  "language_info": {
   "codemirror_mode": {
    "name": "ipython",
    "version": 3
   },
   "file_extension": ".py",
   "mimetype": "text/x-python",
   "name": "python",
   "nbconvert_exporter": "python",
   "pygments_lexer": "ipython3",
   "version": "3.9.16"
  },
  "orig_nbformat": 4,
  "vscode": {
   "interpreter": {
    "hash": "635093cb382d24e7bb09df67eef84e97b3e0429c00b0294b3c9882ac411b8a1a"
   }
  }
 },
 "nbformat": 4,
 "nbformat_minor": 2
}
