import sys
sys.path.append("/home/user/project/python/reduce_nsp")
sys.path.append("/home/user/project/python/exact")
import nsp
from jax_exact.core.constants import *
import numpy as np

from jax import numpy as jnp
import jax