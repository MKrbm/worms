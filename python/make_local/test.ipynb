{
 "cells": [
  {
   "cell_type": "code",
   "execution_count": 1,
   "metadata": {},
   "outputs": [
    {
     "name": "stderr",
     "output_type": "stream",
     "text": [
      "/home/user/miniconda3/envs/py39/lib/python3.9/site-packages/tqdm/auto.py:22: TqdmWarning: IProgress not found. Please update jupyter and ipywidgets. See https://ipywidgets.readthedocs.io/en/stable/user_install.html\n",
      "  from .autonotebook import tqdm as notebook_tqdm\n"
     ]
    }
   ],
   "source": [
    "import numpy as np\n",
    "from make_local import *"
   ]
  },
  {
   "cell_type": "code",
   "execution_count": 27,
   "metadata": {},
   "outputs": [],
   "source": [
    "import sys\n",
    "sys.path.append('../reduce_nsp')\n",
    "import nsp\n",
    "from nsp.utils import l2nl, sum_ham, cast_local_jax\n",
    "from nsp.utils.func import *\n",
    "from nsp.utils.local2global import *\n",
    "from nsp.utils.print import beauty_array"
   ]
  },
  {
   "cell_type": "code",
   "execution_count": 85,
   "metadata": {},
   "outputs": [],
   "source": [
    "h_bond = SzSz + SxSx + SySy\n",
    "h_bond *= -1 \n",
    "_h = sum_ham(h_bond , [\n",
    "    [0,1],[1,2],[2,0]\n",
    "], 3, 2) "
   ]
  },
  {
   "cell_type": "code",
   "execution_count": 86,
   "metadata": {},
   "outputs": [
    {
     "data": {
      "text/plain": [
       "array([-0.75, -0.75, -0.75, -0.75,  0.75,  0.75,  0.75,  0.75])"
      ]
     },
     "execution_count": 86,
     "metadata": {},
     "output_type": "execute_result"
    }
   ],
   "source": [
    "np.linalg.eigvalsh(_h)"
   ]
  },
  {
   "cell_type": "code",
   "execution_count": 87,
   "metadata": {},
   "outputs": [
    {
     "data": {
      "text/plain": [
       "array([-0.75, -0.75, -0.25, -0.25, -0.25, -0.25,  1.25,  1.25])"
      ]
     },
     "execution_count": 87,
     "metadata": {},
     "output_type": "execute_result"
    }
   ],
   "source": [
    "np.linalg.eigvalsh(stoquastic(_h))"
   ]
  },
  {
   "cell_type": "code",
   "execution_count": 73,
   "metadata": {},
   "outputs": [],
   "source": [
    "h0 = np.load(\"array/KH/3site/mes/Jx_1_Jy_1_Jz_1_hx_0_hz_0/H/0.npy\")\n",
    "h1 = np.load(\"array/KH/3site/mes/Jx_1_Jy_1_Jz_1_hx_0_hz_0/H/1.npy\")\n",
    "h2 = np.load(\"array/KH/3site/mes/Jx_1_Jy_1_Jz_1_hx_0_hz_0/H/2.npy\")\n",
    "u = np.load(\"array/KH/3site/mes/Jx_1_Jy_1_Jz_1_hx_0_hz_0/u/0.npy\")\n",
    "h0_ = np.load(\"array/KH/3site/none/Jx_1_Jy_1_Jz_1_hx_0_hz_0/H/0.npy\")\n",
    "\n"
   ]
  },
  {
   "cell_type": "code",
   "execution_count": 89,
   "metadata": {},
   "outputs": [],
   "source": [
    "E, V = np.linalg.eigh(_h)"
   ]
  },
  {
   "cell_type": "code",
   "execution_count": 93,
   "metadata": {},
   "outputs": [
    {
     "data": {
      "text/plain": [
       "array([[-7.50000000e-01,  0.00000000e+00,  0.00000000e+00,\n",
       "         0.00000000e+00,  0.00000000e+00,  0.00000000e+00,\n",
       "         0.00000000e+00,  0.00000000e+00],\n",
       "       [ 0.00000000e+00, -7.50000000e-01,  0.00000000e+00,\n",
       "         0.00000000e+00,  0.00000000e+00,  0.00000000e+00,\n",
       "         0.00000000e+00,  0.00000000e+00],\n",
       "       [ 0.00000000e+00,  0.00000000e+00, -7.50000000e-01,\n",
       "         0.00000000e+00,  0.00000000e+00, -1.11022302e-16,\n",
       "         0.00000000e+00, -1.96023753e-16],\n",
       "       [ 0.00000000e+00,  0.00000000e+00,  0.00000000e+00,\n",
       "        -7.50000000e-01, -1.11022302e-16,  0.00000000e+00,\n",
       "        -1.96023753e-16,  0.00000000e+00],\n",
       "       [ 0.00000000e+00,  0.00000000e+00,  0.00000000e+00,\n",
       "         0.00000000e+00,  7.50000000e-01,  0.00000000e+00,\n",
       "        -1.00613962e-16,  0.00000000e+00],\n",
       "       [ 0.00000000e+00,  0.00000000e+00,  0.00000000e+00,\n",
       "         0.00000000e+00,  0.00000000e+00,  7.50000000e-01,\n",
       "         0.00000000e+00, -1.00613962e-16],\n",
       "       [ 0.00000000e+00,  0.00000000e+00,  0.00000000e+00,\n",
       "        -2.37657116e-16, -1.63064007e-16,  0.00000000e+00,\n",
       "         7.50000000e-01,  0.00000000e+00],\n",
       "       [ 0.00000000e+00,  0.00000000e+00, -2.37657116e-16,\n",
       "         0.00000000e+00,  0.00000000e+00, -1.63064007e-16,\n",
       "         0.00000000e+00,  7.50000000e-01]])"
      ]
     },
     "execution_count": 93,
     "metadata": {},
     "output_type": "execute_result"
    }
   ],
   "source": [
    "V.T @ _h @ V"
   ]
  },
  {
   "cell_type": "code",
   "execution_count": 75,
   "metadata": {},
   "outputs": [
    {
     "data": {
      "text/plain": [
       "array([-0.5       , -0.5       , -0.41666667, -0.41666667, -0.41666667,\n",
       "       -0.41666667, -0.41666667, -0.41666667, -0.40130413, -0.39492758,\n",
       "       -0.39225271, -0.39225271, -0.37770757, -0.37770757, -0.36991249,\n",
       "       -0.36991249, -0.36991249, -0.36991249, -0.33333333, -0.33333333,\n",
       "       -0.33333333, -0.33333333, -0.33333333, -0.27388046, -0.27388046,\n",
       "       -0.26490903, -0.26490903, -0.26267228, -0.26267228, -0.19211731,\n",
       "       -0.16666667, -0.16666667, -0.1465635 , -0.1465635 , -0.1465635 ,\n",
       "       -0.1465635 , -0.13414648, -0.13414648, -0.09614093, -0.09614093,\n",
       "       -0.0959206 , -0.08333333, -0.08333333, -0.08333333, -0.08333333,\n",
       "        0.04955615,  0.04955615,  0.12545684,  0.66666667,  0.6815757 ,\n",
       "        0.6815757 ,  0.68314266,  0.68314266,  0.68314266,  0.68314266,\n",
       "        0.71434413,  0.71796461,  0.84518738,  0.84518738,  0.84600561,\n",
       "        0.84600561,  0.87938462,  0.87938462,  1.02650406])"
      ]
     },
     "execution_count": 75,
     "metadata": {},
     "output_type": "execute_result"
    }
   ],
   "source": [
    "np.linalg.eigvalsh(stoquastic(h0_))"
   ]
  },
  {
   "cell_type": "code",
   "execution_count": 76,
   "metadata": {},
   "outputs": [
    {
     "data": {
      "text/plain": [
       "array([-5.00000000e-01, -5.00000000e-01, -5.00000000e-01, -5.00000000e-01,\n",
       "       -5.00000000e-01, -5.00000000e-01, -5.00000000e-01, -4.29338946e-01,\n",
       "       -4.29338946e-01, -4.29338946e-01, -4.29338946e-01, -4.29338946e-01,\n",
       "       -3.53159650e-01, -3.53159650e-01, -3.53159650e-01, -2.50000000e-01,\n",
       "       -2.50000000e-01, -2.50000000e-01, -2.50000000e-01, -2.50000000e-01,\n",
       "       -2.50000000e-01, -2.50000000e-01, -2.50000000e-01, -2.50000000e-01,\n",
       "       -2.50000000e-01, -2.50000000e-01, -2.50000000e-01, -2.50000000e-01,\n",
       "       -2.50000000e-01, -2.50000000e-01, -2.50000000e-01, -2.50000000e-01,\n",
       "       -2.50000000e-01, -2.28713554e-01, -1.10251944e-01, -1.10251944e-01,\n",
       "       -1.10251944e-01, -9.82423622e-02, -9.82423622e-02, -9.82423622e-02,\n",
       "       -9.82423622e-02, -9.82423622e-02, -9.82423622e-02, -7.45018367e-16,\n",
       "       -2.95327135e-16, -1.94579756e-16, -4.53634668e-18,  1.54160124e-16,\n",
       "        6.79338946e-01,  6.79338946e-01,  6.79338946e-01,  6.79338946e-01,\n",
       "        6.79338946e-01,  7.13411595e-01,  7.13411595e-01,  7.13411595e-01,\n",
       "        7.28713554e-01,  8.48242362e-01,  8.48242362e-01,  8.48242362e-01,\n",
       "        8.48242362e-01,  8.48242362e-01,  8.48242362e-01,  1.00000000e+00])"
      ]
     },
     "execution_count": 76,
     "metadata": {},
     "output_type": "execute_result"
    }
   ],
   "source": [
    "np.linalg.eigvalsh(h0)"
   ]
  },
  {
   "cell_type": "code",
   "execution_count": null,
   "metadata": {},
   "outputs": [],
   "source": []
  }
 ],
 "metadata": {
  "kernelspec": {
   "display_name": "py39",
   "language": "python",
   "name": "python3"
  },
  "language_info": {
   "codemirror_mode": {
    "name": "ipython",
    "version": 3
   },
   "file_extension": ".py",
   "mimetype": "text/x-python",
   "name": "python",
   "nbconvert_exporter": "python",
   "pygments_lexer": "ipython3",
   "version": "3.9.16"
  },
  "orig_nbformat": 4,
  "vscode": {
   "interpreter": {
    "hash": "635093cb382d24e7bb09df67eef84e97b3e0429c00b0294b3c9882ac411b8a1a"
   }
  }
 },
 "nbformat": 4,
 "nbformat_minor": 2
}
