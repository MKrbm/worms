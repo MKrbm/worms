{
 "cells": [
  {
   "cell_type": "code",
   "execution_count": 1,
   "id": "19cad9a0",
   "metadata": {},
   "outputs": [
    {
     "name": "stderr",
     "output_type": "stream",
     "text": [
      "/home/user/miniconda3/envs/py39/lib/python3.9/site-packages/tqdm/auto.py:22: TqdmWarning: IProgress not found. Please update jupyter and ipywidgets. See https://ipywidgets.readthedocs.io/en/stable/user_install.html\n",
      "  from .autonotebook import tqdm as notebook_tqdm\n"
     ]
    }
   ],
   "source": [
    "import numpy as np\n",
    "import pandas as pd\n",
    "import re\n",
    "import sys\n",
    "sys.path.insert(0, \"/home/user/project/python/reduce_nsp\")\n",
    "from nsp.utils import save_fig\n",
    "from matplotlib.lines import Line2D\n",
    "from matplotlib import pyplot as plt\n",
    "\n",
    "def process_line(stdout):\n",
    "    energy = []\n",
    "    sign = []\n",
    "    time = []\n",
    "    dimer = []\n",
    "    weight_r = []\n",
    "    \n",
    "    for line in stdout.split(\"\\n\"):\n",
    "        pat = \"Total Energy\"\n",
    "        if pat in line:\n",
    "            line = line.replace(pat,\"\")\n",
    "            line = line.replace(\" \",\"\")\n",
    "            line = line.replace(\"=\",\"\")\n",
    "            line = line.split(\"+-\")\n",
    "            energy = [float(line[0]), float(line[1])]\n",
    "\n",
    "\n",
    "        pat = \"average sign\"\n",
    "        if pat in line:\n",
    "            line = line.replace(pat,\"\")\n",
    "            line = line.replace(\" \",\"\")\n",
    "            line = line.replace(\"=\",\"\")\n",
    "            line = line.split(\"+-\")\n",
    "            sign = [float(line[0]), float(line[1])]\n",
    "\n",
    "        pat = \"Elapsed time\"\n",
    "        if pat in line:\n",
    "            line = line.replace(pat,\"\")\n",
    "            line = line.replace(\" \",\"\")\n",
    "            line = line.replace(\"=\",\"\")\n",
    "            line = line.replace(\"sec\",\"\")\n",
    "            time = [float(line)]\n",
    "            \n",
    "\n",
    "            \n",
    "    return energy, sign, time\n",
    "\n",
    "\n",
    "import os"
   ]
  },
  {
   "cell_type": "code",
   "execution_count": 2,
   "id": "846203f2",
   "metadata": {},
   "outputs": [
    {
     "name": "stderr",
     "output_type": "stream",
     "text": [
      "<>:18: SyntaxWarning: \"is\" with a literal. Did you mean \"==\"?\n",
      "<>:18: SyntaxWarning: \"is\" with a literal. Did you mean \"==\"?\n",
      "/tmp/ipykernel_11159/3095355061.py:18: SyntaxWarning: \"is\" with a literal. Did you mean \"==\"?\n",
      "  if lat is \"dimer_optim\":\n"
     ]
    }
   ],
   "source": [
    "\n",
    "import os\n",
    "df = {}\n",
    "folder_path = \"/home/user/project/python/reduce_nsp/make_local/out/SS\"\n",
    "M = 240\n",
    "lats = [\"dimer_optim\", \"original\", \"singlet\"]\n",
    "\n",
    "files = []\n",
    "Js = np.arange(0.1, 1.2, 0.01)\n",
    "T =  np.logspace(-1, 0.2, num=20)\n",
    "N = 100000; L = 8\n",
    "# N = 1000000; L = 4\n",
    "\n",
    "for lat in lats:\n",
    "    df[lat] = {}\n",
    "    for J in Js:\n",
    "        df[lat][J] = {}\n",
    "        for t in T:\n",
    "            if lat is \"dimer_optim\":\n",
    "                file_name = f\"{lat}_L_[{L},{L}]_J_[{J:.3},1]_T_{t:.5}_N_{N}_M_{M}\"\n",
    "            else:\n",
    "                file_name = f\"{lat}_L_[{L},{L}]_J_[{J:.3},1]_T_{t:.5}_N_{N}\"\n",
    "            with open(folder_path+ \"/\" + file_name, \"r\") as f:\n",
    "                a = f.read()\n",
    "                try:\n",
    "                    energy, sign, time = process_line(a)\n",
    "                    # print(f\"J={J}, T={t}, s = {sign[0]}\")\n",
    "                    df[lat][J][t] = sign[0]\n",
    "                except:\n",
    "                    print(a)\n",
    "                    print(file_name)\n",
    "\n",
    "\n",
    "dfs = {lat : pd.DataFrame(df[lat]) for lat in lats}\n",
    "for key in dfs.keys():\n",
    "    dfs[key].columns = np.round(dfs[key].columns, 3)"
   ]
  },
  {
   "cell_type": "code",
   "execution_count": 4,
   "id": "2588f357",
   "metadata": {},
   "outputs": [
    {
     "data": {
      "text/plain": [
       "0.100000    0.99826\n",
       "0.115653    0.99748\n",
       "0.133757    0.99482\n",
       "0.154694    0.99244\n",
       "0.178909    0.98972\n",
       "0.206914    0.98616\n",
       "0.239303    0.98332\n",
       "0.276761    0.98316\n",
       "0.320083    0.98534\n",
       "0.370187    0.98546\n",
       "0.428133    0.98728\n",
       "0.495150    0.98894\n",
       "0.572657    0.99112\n",
       "0.662297    0.99292\n",
       "0.765968    0.99366\n",
       "0.885867    0.99564\n",
       "1.024534    0.99642\n",
       "1.184907    0.99692\n",
       "1.370383    0.99796\n",
       "1.584893    0.99828\n",
       "Name: 0.12, dtype: float64"
      ]
     },
     "execution_count": 4,
     "metadata": {},
     "output_type": "execute_result"
    }
   ],
   "source": [
    "dfs[\"dimer_optim\"][0.12]"
   ]
  }
 ],
 "metadata": {
  "kernelspec": {
   "display_name": "Python 3 (ipykernel)",
   "language": "python",
   "name": "python3"
  },
  "language_info": {
   "codemirror_mode": {
    "name": "ipython",
    "version": 3
   },
   "file_extension": ".py",
   "mimetype": "text/x-python",
   "name": "python",
   "nbconvert_exporter": "python",
   "pygments_lexer": "ipython3",
   "version": "3.9.15"
  }
 },
 "nbformat": 4,
 "nbformat_minor": 5
}
