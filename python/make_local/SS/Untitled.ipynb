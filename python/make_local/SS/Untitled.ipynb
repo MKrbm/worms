{
 "cells": [
  {
   "cell_type": "code",
   "execution_count": 18,
   "id": "57ba845c",
   "metadata": {},
   "outputs": [
    {
     "name": "stdout",
     "output_type": "stream",
     "text": [
      " LOGFILE          \u001b[0m\u001b[01;34mdataframe\u001b[0m/   make_ss_local.py   study_optim_ham.py    x2.npy\r\n",
      " Untitled.ipynb   figure.py    \u001b[01;34mout\u001b[0m/              'test firugre.ipynb'\r\n",
      " \u001b[01;34marray\u001b[0m/           genSS.py     \u001b[01;31mout.zip\u001b[0m            x1.npy\r\n"
     ]
    }
   ],
   "source": [
    "ls"
   ]
  },
  {
   "cell_type": "code",
   "execution_count": 1,
   "id": "eb298ebb",
   "metadata": {},
   "outputs": [
    {
     "name": "stderr",
     "output_type": "stream",
     "text": [
      "/home/user/miniconda3/envs/py39/lib/python3.9/site-packages/tqdm/auto.py:22: TqdmWarning: IProgress not found. Please update jupyter and ipywidgets. See https://ipywidgets.readthedocs.io/en/stable/user_install.html\n",
      "  from .autonotebook import tqdm as notebook_tqdm\n"
     ]
    }
   ],
   "source": [
    "import numpy as np\n",
    "import sys\n",
    "sys.path.append('../../reduce_nsp')\n",
    "from nsp.utils.base_conv import *\n",
    "from header import *"
   ]
  },
  {
   "cell_type": "code",
   "execution_count": 14,
   "id": "cf622d93",
   "metadata": {},
   "outputs": [],
   "source": [
    "H = np.load(\"/home/user/project/python/make_local/SS/array/dimer_optim_J_[0.7,1]_M_240/H/0.npy\")\n",
    "HS = np.load(\"/home/user/project/python/make_local/SS/array/singlet_J_[0.7,1]/H/0.npy\")\n",
    "O = np.load(\"/home/user/project/python/make_local/SS/array/dimer_optim_J_[0.7,1]_M_240/Sz/0.npy\")\n",
    "U = np.load(\"/home/user/project/python/make_local/SS/array/U_dimer_optim_J_[0.7,1]_M_240/U/0.npy\")\n",
    "OS = np.load(\"/home/user/project/python/make_local/SS/array/singlet_J_[0.7,1]/Sz/0.npy\")"
   ]
  },
  {
   "cell_type": "code",
   "execution_count": 16,
   "id": "8895fdb6",
   "metadata": {},
   "outputs": [
    {
     "data": {
      "text/plain": [
       "array([[ 0.24  ,  0.    ,  0.7071,  0.6651],\n",
       "       [-0.6651, -0.7071, -0.    ,  0.24  ],\n",
       "       [-0.6651,  0.7071, -0.    ,  0.24  ],\n",
       "       [-0.24  ,  0.    ,  0.7071, -0.6651]])"
      ]
     },
     "execution_count": 16,
     "metadata": {},
     "output_type": "execute_result"
    }
   ],
   "source": [
    "np.round(U,4)"
   ]
  },
  {
   "cell_type": "code",
   "execution_count": 17,
   "id": "9a3f58d4",
   "metadata": {
    "scrolled": true
   },
   "outputs": [
    {
     "data": {
      "text/plain": [
       "array([[-0.     ,  0.     ,  0.08484, -0.     ,  0.     ,  0.     ,\n",
       "         0.     , -0.     ,  0.08484,  0.     ,  0.     ,  0.     ,\n",
       "        -0.     , -0.     ,  0.     , -0.     ],\n",
       "       [ 0.     , -0.     , -0.     ,  0.     ,  0.     ,  0.     ,\n",
       "         0.     ,  0.     ,  0.     ,  0.08484,  0.     ,  0.     ,\n",
       "         0.     , -0.     , -0.     , -0.     ],\n",
       "       [ 0.08484, -0.     , -0.     ,  0.23517,  0.     ,  0.     ,\n",
       "         0.     ,  0.     ,  0.     ,  0.     ,  0.08484,  0.     ,\n",
       "         0.     , -0.     , -0.     ,  0.     ],\n",
       "       [-0.     ,  0.     ,  0.23517, -0.     ,  0.     ,  0.     ,\n",
       "         0.     ,  0.     ,  0.     ,  0.     ,  0.     ,  0.08484,\n",
       "         0.     ,  0.     ,  0.     , -0.     ],\n",
       "       [ 0.     ,  0.     ,  0.     ,  0.     , -0.     ,  0.     ,\n",
       "         0.08484, -0.     , -0.     ,  0.     ,  0.     , -0.     ,\n",
       "         0.     ,  0.     ,  0.     ,  0.     ],\n",
       "       [ 0.     ,  0.     ,  0.     ,  0.     ,  0.     , -0.     ,\n",
       "        -0.     ,  0.     ,  0.     , -0.     , -0.     ,  0.     ,\n",
       "         0.     ,  0.     ,  0.     ,  0.     ],\n",
       "       [ 0.     ,  0.     ,  0.     ,  0.     ,  0.08484, -0.     ,\n",
       "         0.     ,  0.23517,  0.     , -0.     , -0.     ,  0.     ,\n",
       "         0.     ,  0.     ,  0.     ,  0.     ],\n",
       "       [-0.     ,  0.     ,  0.     ,  0.     , -0.     ,  0.     ,\n",
       "         0.23517,  0.     , -0.     ,  0.     ,  0.     , -0.     ,\n",
       "         0.     ,  0.     ,  0.     ,  0.     ],\n",
       "       [ 0.08484,  0.     ,  0.     ,  0.     , -0.     ,  0.     ,\n",
       "         0.     , -0.     , -0.     ,  0.     ,  0.08484, -0.     ,\n",
       "         0.23517,  0.     ,  0.     ,  0.     ],\n",
       "       [ 0.     ,  0.08484,  0.     ,  0.     ,  0.     , -0.     ,\n",
       "        -0.     ,  0.     ,  0.     ,  0.     , -0.     ,  0.     ,\n",
       "         0.     ,  0.23517,  0.     ,  0.     ],\n",
       "       [ 0.     ,  0.     ,  0.08484,  0.     ,  0.     , -0.     ,\n",
       "        -0.     ,  0.     ,  0.08484, -0.     ,  0.     ,  0.23517,\n",
       "         0.     ,  0.     ,  0.23517,  0.     ],\n",
       "       [ 0.     ,  0.     ,  0.     ,  0.08484, -0.     ,  0.     ,\n",
       "         0.     , -0.     , -0.     ,  0.     ,  0.23517,  0.     ,\n",
       "         0.     ,  0.     ,  0.     ,  0.23517],\n",
       "       [-0.     ,  0.     ,  0.     ,  0.     ,  0.     ,  0.     ,\n",
       "         0.     ,  0.     ,  0.23517,  0.     ,  0.     ,  0.     ,\n",
       "        -0.     ,  0.     ,  0.08484, -0.     ],\n",
       "       [-0.     , -0.     , -0.     ,  0.     ,  0.     ,  0.     ,\n",
       "         0.     ,  0.     ,  0.     ,  0.23517,  0.     ,  0.     ,\n",
       "         0.     ,  0.     , -0.     ,  0.     ],\n",
       "       [ 0.     , -0.     , -0.     ,  0.     ,  0.     ,  0.     ,\n",
       "         0.     ,  0.     ,  0.     ,  0.     ,  0.23517,  0.     ,\n",
       "         0.08484, -0.     ,  0.     ,  0.23517],\n",
       "       [-0.     , -0.     ,  0.     , -0.     , -0.     ,  0.     ,\n",
       "         0.     ,  0.     ,  0.     ,  0.     ,  0.     ,  0.23517,\n",
       "        -0.     ,  0.     ,  0.23517,  0.     ]])"
      ]
     },
     "execution_count": 17,
     "metadata": {},
     "output_type": "execute_result"
    }
   ],
   "source": [
    "np.round(O,5)"
   ]
  },
  {
   "cell_type": "code",
   "execution_count": 12,
   "id": "f4afa449",
   "metadata": {
    "scrolled": true
   },
   "outputs": [
    {
     "data": {
      "text/plain": [
       "array([[ 0.375,  0.   ,  0.   ,  0.   ,  0.   ,  0.   ,  0.   , -0.   ,\n",
       "         0.   ,  0.   ,  0.   ,  0.   ,  0.   ,  0.   ,  0.   ,  0.   ],\n",
       "       [ 0.   ,  0.125,  0.   ,  0.   , -0.   ,  0.   , -0.35 ,  0.   ,\n",
       "         0.   ,  0.35 ,  0.   ,  0.   ,  0.   ,  0.   ,  0.   ,  0.   ],\n",
       "       [-0.   ,  0.   ,  0.125,  0.   ,  0.   ,  0.   ,  0.   , -0.35 ,\n",
       "         0.   ,  0.   , -0.   ,  0.   ,  0.   ,  0.35 ,  0.   ,  0.   ],\n",
       "       [ 0.   ,  0.   ,  0.   ,  0.125,  0.   ,  0.   ,  0.   ,  0.   ,\n",
       "         0.   ,  0.   ,  0.   , -0.35 ,  0.   ,  0.   ,  0.35 ,  0.   ],\n",
       "       [ 0.   ,  0.   ,  0.   ,  0.   ,  0.125,  0.   , -0.   ,  0.   ,\n",
       "         0.   ,  0.   ,  0.   ,  0.   ,  0.   ,  0.   ,  0.   ,  0.   ],\n",
       "       [ 0.   ,  0.   ,  0.   ,  0.   ,  0.   , -0.475,  0.   ,  0.   ,\n",
       "         0.   ,  0.   ,  0.   ,  0.   ,  0.   ,  0.   ,  0.   ,  0.   ],\n",
       "       [ 0.   , -0.35 ,  0.   ,  0.   ,  0.   ,  0.   , -0.125,  0.   ,\n",
       "         0.   , -0.35 ,  0.   ,  0.   ,  0.   ,  0.   ,  0.   ,  0.   ],\n",
       "       [-0.   ,  0.   , -0.35 ,  0.   ,  0.   ,  0.   ,  0.   ,  0.225,\n",
       "        -0.   ,  0.   , -0.35 ,  0.   ,  0.   ,  0.   ,  0.   ,  0.   ],\n",
       "       [-0.   ,  0.   ,  0.   ,  0.   ,  0.   ,  0.   ,  0.   , -0.   ,\n",
       "         0.125,  0.   , -0.   ,  0.   ,  0.   ,  0.   ,  0.   ,  0.   ],\n",
       "       [ 0.   ,  0.35 ,  0.   ,  0.   , -0.   ,  0.   , -0.35 ,  0.   ,\n",
       "         0.   , -0.125,  0.   ,  0.   ,  0.   ,  0.   ,  0.   ,  0.   ],\n",
       "       [-0.   ,  0.   ,  0.   ,  0.   ,  0.   ,  0.   ,  0.   , -0.35 ,\n",
       "         0.   ,  0.   , -0.125,  0.   ,  0.   , -0.35 ,  0.   ,  0.   ],\n",
       "       [ 0.   ,  0.   ,  0.   , -0.35 ,  0.   ,  0.   ,  0.   ,  0.   ,\n",
       "         0.   ,  0.   ,  0.   , -0.125,  0.   ,  0.   , -0.35 ,  0.   ],\n",
       "       [ 0.   ,  0.   ,  0.   , -0.   ,  0.   ,  0.   ,  0.   ,  0.   ,\n",
       "         0.   ,  0.   ,  0.   ,  0.   ,  0.125,  0.   ,  0.   ,  0.   ],\n",
       "       [ 0.   ,  0.   ,  0.35 ,  0.   ,  0.   ,  0.   ,  0.   ,  0.   ,\n",
       "        -0.   ,  0.   , -0.35 ,  0.   ,  0.   ,  0.225,  0.   ,  0.   ],\n",
       "       [ 0.   ,  0.   ,  0.   ,  0.35 ,  0.   ,  0.   ,  0.   ,  0.   ,\n",
       "         0.   ,  0.   ,  0.   , -0.35 ,  0.   ,  0.   , -0.125,  0.   ],\n",
       "       [ 0.   ,  0.   ,  0.   ,  0.   ,  0.   ,  0.   ,  0.   ,  0.   ,\n",
       "         0.   ,  0.   ,  0.   ,  0.   ,  0.   ,  0.   ,  0.   , -0.475]])"
      ]
     },
     "execution_count": 12,
     "metadata": {},
     "output_type": "execute_result"
    }
   ],
   "source": [
    "np.round(HS, 5)"
   ]
  },
  {
   "cell_type": "code",
   "execution_count": 7,
   "id": "9ac0ebc7",
   "metadata": {},
   "outputs": [
    {
     "data": {
      "text/plain": [
       "array([[-0.125,  0.   ,  0.   , -0.   ,  0.   , -0.   , -0.   ,  0.   ,\n",
       "         0.   , -0.   , -0.35 , -0.   , -0.   ,  0.   , -0.   ,  0.35 ],\n",
       "       [ 0.   ,  0.125, -0.   , -0.   ,  0.   ,  0.   ,  0.   ,  0.   ,\n",
       "        -0.   ,  0.   ,  0.   , -0.   , -0.   ,  0.   ,  0.   , -0.   ],\n",
       "       [ 0.   , -0.   , -0.125,  0.   , -0.   ,  0.   , -0.   ,  0.35 ,\n",
       "        -0.35 ,  0.   , -0.   , -0.   , -0.   , -0.   , -0.   ,  0.   ],\n",
       "       [-0.   , -0.   ,  0.   , -0.125, -0.   ,  0.   ,  0.35 ,  0.   ,\n",
       "        -0.   ,  0.   , -0.   , -0.   , -0.35 ,  0.   , -0.   , -0.   ],\n",
       "       [ 0.   ,  0.   , -0.   , -0.   ,  0.125,  0.   , -0.   ,  0.   ,\n",
       "        -0.   ,  0.   ,  0.   ,  0.35 ,  0.   , -0.   , -0.35 , -0.   ],\n",
       "       [-0.   ,  0.   ,  0.   ,  0.   ,  0.   ,  0.375, -0.   ,  0.   ,\n",
       "        -0.   , -0.   , -0.   , -0.   , -0.   ,  0.   ,  0.   ,  0.   ],\n",
       "       [-0.   ,  0.   , -0.   ,  0.35 , -0.   , -0.   ,  0.125, -0.   ,\n",
       "         0.   ,  0.   , -0.   ,  0.   , -0.35 ,  0.   , -0.   , -0.   ],\n",
       "       [ 0.   ,  0.   ,  0.35 ,  0.   ,  0.   ,  0.   , -0.   ,  0.125,\n",
       "        -0.35 ,  0.   , -0.   , -0.   , -0.   , -0.   , -0.   , -0.   ],\n",
       "       [ 0.   , -0.   , -0.35 , -0.   , -0.   , -0.   ,  0.   , -0.35 ,\n",
       "        -0.125,  0.   , -0.   , -0.   , -0.   ,  0.   ,  0.   ,  0.   ],\n",
       "       [-0.   ,  0.   ,  0.   ,  0.   ,  0.   , -0.   ,  0.   ,  0.   ,\n",
       "         0.   ,  0.125, -0.   , -0.   ,  0.   ,  0.   , -0.   , -0.   ],\n",
       "       [-0.35 ,  0.   , -0.   , -0.   ,  0.   ,  0.   , -0.   , -0.   ,\n",
       "        -0.   , -0.   , -0.125,  0.   ,  0.   , -0.   ,  0.   , -0.35 ],\n",
       "       [-0.   ,  0.   , -0.   , -0.   ,  0.35 , -0.   ,  0.   , -0.   ,\n",
       "        -0.   , -0.   ,  0.   , -0.125, -0.   , -0.   , -0.35 , -0.   ],\n",
       "       [-0.   , -0.   , -0.   , -0.35 ,  0.   , -0.   , -0.35 , -0.   ,\n",
       "        -0.   ,  0.   ,  0.   , -0.   , -0.125,  0.   ,  0.   , -0.   ],\n",
       "       [ 0.   ,  0.   ,  0.   ,  0.   , -0.   ,  0.   ,  0.   ,  0.   ,\n",
       "         0.   ,  0.   , -0.   , -0.   ,  0.   ,  0.125, -0.   , -0.   ],\n",
       "       [-0.   , -0.   , -0.   , -0.   , -0.35 ,  0.   , -0.   , -0.   ,\n",
       "         0.   , -0.   ,  0.   , -0.35 ,  0.   , -0.   , -0.125, -0.   ],\n",
       "       [ 0.35 , -0.   ,  0.   , -0.   , -0.   ,  0.   , -0.   , -0.   ,\n",
       "         0.   , -0.   , -0.35 , -0.   , -0.   , -0.   , -0.   , -0.125]])"
      ]
     },
     "execution_count": 7,
     "metadata": {},
     "output_type": "execute_result"
    }
   ],
   "source": [
    "np.round(H, 5)"
   ]
  },
  {
   "cell_type": "code",
   "execution_count": 2,
   "id": "806d67d1",
   "metadata": {},
   "outputs": [
    {
     "ename": "FileNotFoundError",
     "evalue": "[Errno 2] No such file or directory: 'H1_optim.npy'",
     "output_type": "error",
     "traceback": [
      "\u001b[0;31m---------------------------------------------------------------------------\u001b[0m",
      "\u001b[0;31mFileNotFoundError\u001b[0m                         Traceback (most recent call last)",
      "Cell \u001b[0;32mIn[2], line 1\u001b[0m\n\u001b[0;32m----> 1\u001b[0m Ho \u001b[38;5;241m=\u001b[39m np\u001b[38;5;241m.\u001b[39mround(\u001b[43mnp\u001b[49m\u001b[38;5;241;43m.\u001b[39;49m\u001b[43mload\u001b[49m\u001b[43m(\u001b[49m\u001b[38;5;124;43m\"\u001b[39;49m\u001b[38;5;124;43mH1_optim.npy\u001b[39;49m\u001b[38;5;124;43m\"\u001b[39;49m\u001b[43m)\u001b[49m,\u001b[38;5;241m5\u001b[39m)\n\u001b[1;32m      2\u001b[0m Hs \u001b[38;5;241m=\u001b[39m np\u001b[38;5;241m.\u001b[39mround(np\u001b[38;5;241m.\u001b[39mload(\u001b[38;5;124m\"\u001b[39m\u001b[38;5;124mH1_singlet.npy\u001b[39m\u001b[38;5;124m\"\u001b[39m),\u001b[38;5;241m5\u001b[39m)\n\u001b[1;32m      3\u001b[0m H \u001b[38;5;241m=\u001b[39m np\u001b[38;5;241m.\u001b[39mround(np\u001b[38;5;241m.\u001b[39mload(\u001b[38;5;124m\"\u001b[39m\u001b[38;5;124mH1.npy\u001b[39m\u001b[38;5;124m\"\u001b[39m),\u001b[38;5;241m5\u001b[39m)\n",
      "File \u001b[0;32m~/miniconda3/envs/py39/lib/python3.9/site-packages/numpy/lib/npyio.py:407\u001b[0m, in \u001b[0;36mload\u001b[0;34m(file, mmap_mode, allow_pickle, fix_imports, encoding)\u001b[0m\n\u001b[1;32m    405\u001b[0m     own_fid \u001b[38;5;241m=\u001b[39m \u001b[38;5;28;01mFalse\u001b[39;00m\n\u001b[1;32m    406\u001b[0m \u001b[38;5;28;01melse\u001b[39;00m:\n\u001b[0;32m--> 407\u001b[0m     fid \u001b[38;5;241m=\u001b[39m stack\u001b[38;5;241m.\u001b[39menter_context(\u001b[38;5;28;43mopen\u001b[39;49m\u001b[43m(\u001b[49m\u001b[43mos_fspath\u001b[49m\u001b[43m(\u001b[49m\u001b[43mfile\u001b[49m\u001b[43m)\u001b[49m\u001b[43m,\u001b[49m\u001b[43m \u001b[49m\u001b[38;5;124;43m\"\u001b[39;49m\u001b[38;5;124;43mrb\u001b[39;49m\u001b[38;5;124;43m\"\u001b[39;49m\u001b[43m)\u001b[49m)\n\u001b[1;32m    408\u001b[0m     own_fid \u001b[38;5;241m=\u001b[39m \u001b[38;5;28;01mTrue\u001b[39;00m\n\u001b[1;32m    410\u001b[0m \u001b[38;5;66;03m# Code to distinguish from NumPy binary files and pickles.\u001b[39;00m\n",
      "\u001b[0;31mFileNotFoundError\u001b[0m: [Errno 2] No such file or directory: 'H1_optim.npy'"
     ]
    }
   ],
   "source": [
    "Ho = np.round(np.load(\"H1_optim.npy\"),5)\n",
    "Hs = np.round(np.load(\"H1_singlet.npy\"),5)\n",
    "H = np.round(np.load(\"H1.npy\"),5)"
   ]
  },
  {
   "cell_type": "code",
   "execution_count": null,
   "id": "92d3f46b",
   "metadata": {},
   "outputs": [],
   "source": [
    "u = np.array([\n",
    "    [0,1,0,0],\n",
    "    [1/np.sqrt(2), 0, 1/np.sqrt(2), 0],\n",
    "    [-1/np.sqrt(2), 0, 1/np.sqrt(2), 0],\n",
    "    [0,0,0,1]\n",
    "])\n",
    "\n",
    "u1 = np.array([\n",
    "    [0, 1/np.sqrt(2),0,1/np.sqrt(2)],\n",
    "    [1/np.sqrt(2), 0, 1/np.sqrt(2), 0],\n",
    "    [-1/np.sqrt(2), 0, 1/np.sqrt(2), 0],\n",
    "    [0,-1/np.sqrt(2),0,1/np.sqrt(2)]\n",
    "])\n",
    "\n",
    "U = np.kron(u1, u1)"
   ]
  },
  {
   "cell_type": "code",
   "execution_count": 3,
   "id": "709bb84c",
   "metadata": {},
   "outputs": [],
   "source": [
    "H1 = np.load(\"array/dimer_optim_J_[1.0,1]_M_100/0.npy\")\n",
    "H2 = np.load(\"array/dimer_optim_J_[1.0,1]_M_100/1.npy\")\n",
    "U = np.load(\"array/U_dimer_optim_J_[1.0,1]_M_100/0.npy\")\n",
    "O = np.load(\"array/dimer_optim_J_[1.0,1]_M_100_z/0.npy\")"
   ]
  },
  {
   "cell_type": "code",
   "execution_count": 5,
   "id": "7d9b40f4",
   "metadata": {},
   "outputs": [
    {
     "name": "stderr",
     "output_type": "stream",
     "text": [
      "/tmp/ipykernel_4634/1007873463.py:1: RuntimeWarning: invalid value encountered in true_divide\n",
      "  np.zeros(4) / np.zeros(4)\n"
     ]
    },
    {
     "data": {
      "text/plain": [
       "array([nan, nan, nan, nan])"
      ]
     },
     "execution_count": 5,
     "metadata": {},
     "output_type": "execute_result"
    }
   ],
   "source": [
    "np.zeros(4) / np.zeros(4)"
   ]
  },
  {
   "cell_type": "code",
   "execution_count": 4,
   "id": "3413e349",
   "metadata": {
    "scrolled": false
   },
   "outputs": [
    {
     "data": {
      "text/plain": [
       "array([[ 0., -0., -0.,  0., -0., -0., -0.,  0., -0.,  0., -0.,  0.,  0.,\n",
       "        -0., -0., -0.],\n",
       "       [-0.,  0., -0.,  0.,  0., -0., -0., -0.,  0.,  0., -0.,  0., -0.,\n",
       "        -0., -0., -0.],\n",
       "       [-0., -0., -0., -0.,  0., -0.,  0., -0.,  0., -0.,  0.,  0., -0.,\n",
       "        -0., -0., -0.],\n",
       "       [ 0.,  0., -0., -0., -0., -0.,  0.,  0.,  0.,  0., -0.,  0., -0.,\n",
       "        -0.,  0.,  0.],\n",
       "       [-0.,  0.,  0., -0.,  0., -0., -0., -0., -0., -0., -0.,  0.,  0.,\n",
       "        -0.,  0., -0.],\n",
       "       [-0., -0., -0., -0., -0., -0.,  0., -0., -0.,  0., -0., -0., -0.,\n",
       "        -0., -0., -2.],\n",
       "       [-0., -0.,  0.,  0., -0.,  0.,  0.,  0., -0., -0., -0., -0., -0.,\n",
       "        -0.,  0.,  0.],\n",
       "       [ 0., -0., -0.,  0., -0., -0.,  0.,  0., -0., -0., -0., -0., -0.,\n",
       "        -2., -0., -0.],\n",
       "       [-0.,  0.,  0.,  0., -0., -0., -0., -0., -0.,  0.,  0.,  0., -0.,\n",
       "        -0.,  0., -0.],\n",
       "       [ 0.,  0., -0.,  0., -0.,  0., -0., -0.,  0.,  0., -0.,  0., -0.,\n",
       "         0., -0., -0.],\n",
       "       [ 0., -0.,  0., -0., -0., -0., -0., -0.,  0., -0.,  0., -0., -0.,\n",
       "        -0., -0., -0.],\n",
       "       [ 0.,  0.,  0.,  0.,  0., -0., -0., -0.,  0.,  0., -0., -0.,  0.,\n",
       "        -0., -0., -0.],\n",
       "       [ 0., -0., -0., -0.,  0., -0.,  0., -0., -0.,  0., -0.,  0., -0.,\n",
       "         0.,  0.,  0.],\n",
       "       [-0., -0., -0., -0., -0., -0., -0., -2.,  0.,  0., -0., -0.,  0.,\n",
       "         0.,  0., -0.],\n",
       "       [-0., -0., -0.,  0.,  0., -0.,  0., -0.,  0., -0., -0., -0.,  0.,\n",
       "         0., -0., -0.],\n",
       "       [ 0., -0., -0.,  0., -0., -2.,  0., -0., -0., -0., -0., -0.,  0.,\n",
       "        -0., -0.,  0.]])"
      ]
     },
     "execution_count": 4,
     "metadata": {},
     "output_type": "execute_result"
    }
   ],
   "source": [
    "np.round(O) / H1"
   ]
  },
  {
   "cell_type": "code",
   "execution_count": 49,
   "id": "2959e094",
   "metadata": {
    "scrolled": false
   },
   "outputs": [],
   "source": [
    "np.set_printoptions(linewidth=200, precision=4, suppress=True)"
   ]
  },
  {
   "cell_type": "code",
   "execution_count": 52,
   "id": "e9d4bf91",
   "metadata": {},
   "outputs": [
    {
     "data": {
      "text/plain": [
       "0.0"
      ]
     },
     "execution_count": 52,
     "metadata": {},
     "output_type": "execute_result"
    }
   ],
   "source": [
    "np.linalg.norm(np.round(U.T @ H @ U,5) - Ho)"
   ]
  },
  {
   "cell_type": "code",
   "execution_count": 23,
   "id": "219cc597",
   "metadata": {},
   "outputs": [
    {
     "name": "stdout",
     "output_type": "stream",
     "text": [
      " H1_optim.npy     \u001b[0m\u001b[01;34marray\u001b[0m/       make_ss_local.py    'test firugre.ipynb'\r\n",
      " H1_singlet.npy   \u001b[01;34mdataframe\u001b[0m/   \u001b[01;34mout\u001b[0m/\r\n",
      " LOGFILE          figure.py    \u001b[01;31mout.zip\u001b[0m\r\n",
      " Untitled.ipynb   genSS.py     study_optim_ham.py\r\n"
     ]
    }
   ],
   "source": [
    "np.load(\"array/U\")"
   ]
  },
  {
   "cell_type": "code",
   "execution_count": 56,
   "id": "d3dcb8e5",
   "metadata": {},
   "outputs": [
    {
     "name": "stdout",
     "output_type": "stream",
     "text": [
      "0.375\n",
      "0.125\n",
      "0.125\n",
      "0.125\n"
     ]
    }
   ],
   "source": [
    "for i in range(4):\n",
    "        print(Hs[i,  i])"
   ]
  },
  {
   "cell_type": "code",
   "execution_count": 55,
   "id": "ca5bdabb",
   "metadata": {},
   "outputs": [
    {
     "name": "stdout",
     "output_type": "stream",
     "text": [
      "0.375\n",
      "-0.0\n",
      "0.0\n",
      "-0.0\n",
      "-0.0\n",
      "-0.0\n",
      "0.0\n",
      "0.0\n",
      "0.0\n",
      "-0.0\n",
      "0.0\n",
      "-0.0\n",
      "-0.0\n",
      "0.0\n",
      "-0.0\n",
      "0.0\n"
     ]
    }
   ],
   "source": [
    "for i in range(4):\n",
    "    for j in range(4):\n",
    "        print(Ho[0*4 + i, j * 4 + 0])"
   ]
  },
  {
   "cell_type": "code",
   "execution_count": 3,
   "id": "4323a993",
   "metadata": {},
   "outputs": [],
   "source": [
    "Sz = np.zeros([2,2])\n",
    "Sz[0,0] = 1/2\n",
    "Sz[1,1] = -1/2\n",
    "Sx = np.zeros([2,2])\n",
    "Sx[1,0] = 1/2\n",
    "Sx[0,1] = 1/2\n",
    "Sy = np.zeros([2,2], dtype=np.complex64)\n",
    "Sy[1,0] = 1j/2\n",
    "Sy[0,1] = -1j/2\n",
    "\n",
    "SzSz = np.kron(Sz,Sz).real.astype(np.float64)\n",
    "SxSx = np.kron(Sx,Sx).real.astype(np.float64)\n",
    "SySy = np.kron(Sy,Sy).real.astype(np.float64)\n",
    "\n",
    "lh = SzSz + SxSx + SySy\n",
    "\n",
    "lh = -lh # use minus of local hamiltonian for monte-carlo (exp(-beta H ))\n",
    "\n",
    "\n",
    "u = np.array([\n",
    "    [0,1,0,0],\n",
    "    [1/np.sqrt(2), 0, 1/np.sqrt(2), 0],\n",
    "    [-1/np.sqrt(2), 0, 1/np.sqrt(2), 0],\n",
    "    [0,0,0,1]\n",
    "])\n"
   ]
  },
  {
   "cell_type": "code",
   "execution_count": 4,
   "id": "70bbd66d",
   "metadata": {},
   "outputs": [],
   "source": [
    "x1 = sum_ham(lh, [[1,2],[1,3]], 4, 2)\n",
    "x2 = sum_ham(lh/4, [[0,1],[2,3]], 4, 2)"
   ]
  },
  {
   "cell_type": "code",
   "execution_count": 11,
   "id": "f9b36763",
   "metadata": {},
   "outputs": [],
   "source": [
    "np.save(\"x1.npy\", x1)\n",
    "np.save(\"x2.npy\",x2)"
   ]
  },
  {
   "cell_type": "code",
   "execution_count": 8,
   "id": "7e02d61d",
   "metadata": {},
   "outputs": [
    {
     "name": "stdout",
     "output_type": "stream",
     "text": [
      "  (0, 0)\t-0.125\n",
      "  (1, 2)\t-0.125\n",
      "  (2, 1)\t-0.125\n",
      "  (3, 3)\t-0.125\n",
      "  (4, 8)\t-0.125\n",
      "  (5, 5)\t0.125\n",
      "  (5, 6)\t-0.125\n",
      "  (5, 9)\t-0.125\n",
      "  (6, 5)\t-0.125\n",
      "  (6, 6)\t0.125\n",
      "  (6, 10)\t-0.125\n",
      "  (7, 11)\t-0.125\n",
      "  (8, 4)\t-0.125\n",
      "  (9, 5)\t-0.125\n",
      "  (9, 9)\t0.125\n",
      "  (9, 10)\t-0.125\n",
      "  (10, 6)\t-0.125\n",
      "  (10, 9)\t-0.125\n",
      "  (10, 10)\t0.125\n",
      "  (11, 7)\t-0.125\n",
      "  (12, 12)\t-0.125\n",
      "  (13, 14)\t-0.125\n",
      "  (14, 13)\t-0.125\n",
      "  (15, 15)\t-0.125\n"
     ]
    }
   ],
   "source": [
    "print(sparse.csr_matrix(x2) )"
   ]
  }
 ],
 "metadata": {
  "kernelspec": {
   "display_name": "Python 3 (ipykernel)",
   "language": "python",
   "name": "python3"
  },
  "language_info": {
   "codemirror_mode": {
    "name": "ipython",
    "version": 3
   },
   "file_extension": ".py",
   "mimetype": "text/x-python",
   "name": "python",
   "nbconvert_exporter": "python",
   "pygments_lexer": "ipython3",
   "version": "3.9.15"
  }
 },
 "nbformat": 4,
 "nbformat_minor": 5
}
