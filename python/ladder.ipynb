{
 "cells": [
  {
   "cell_type": "code",
   "execution_count": 209,
   "id": "6fd19c8d",
   "metadata": {},
   "outputs": [
    {
     "data": {
      "text/plain": [
       "<module 'functions' from '/Users/keisukemurota/Documents/todo/worms/python/functions.py'>"
      ]
     },
     "execution_count": 209,
     "metadata": {},
     "output_type": "execute_result"
    }
   ],
   "source": [
    "import numpy as np\n",
    "import scipy\n",
    "from scipy import sparse\n",
    "from scipy.sparse import linalg\n",
    "import functions as f\n",
    "from importlib import reload\n",
    "reload(f)"
   ]
  },
  {
   "cell_type": "markdown",
   "id": "8b04502a",
   "metadata": {},
   "source": [
    "### ladder model without unitary transformation"
   ]
  },
  {
   "cell_type": "code",
   "execution_count": 211,
   "id": "98203d06",
   "metadata": {},
   "outputs": [],
   "source": [
    "I = np.identity(2)\n",
    "Sz = np.zeros([2,2])\n",
    "Sz[0,0] = 1/2\n",
    "Sz[1,1] = -1/2\n",
    "Sx = np.zeros([2,2])\n",
    "Sx[1,0] = 1/2\n",
    "Sx[0,1] = 1/2\n",
    "Sy = np.zeros([2,2], dtype=np.complex64)\n",
    "Sy[1,0] = 1j/2\n",
    "Sy[0,1] = -1j/2\n",
    "\n",
    "\n",
    "Sz = sparse.csr_matrix(Sz)\n",
    "Sx = sparse.csr_matrix(Sx)\n",
    "Sy = sparse.csr_matrix(Sy)\n",
    "I = sparse.csr_matrix(I)\n",
    "\n",
    "Sz1 = sparse.kron(I,Sz,format='csr')\n",
    "Sz2 = sparse.kron(Sz,I,format='csr')\n",
    "SzSz = sparse.kron(Sz,Sz,format='csr')\n",
    "\n",
    "Sx1 = sparse.kron(I,Sx,format='csr')\n",
    "Sx2 = sparse.kron(Sx,I,format='csr')\n",
    "SxSx = sparse.kron(Sx,Sx,format='csr')\n",
    "\n",
    "Sy1 = sparse.kron(I,Sy,format='csr')\n",
    "Sy2 = sparse.kron(Sy,I,format='csr')\n",
    "SySy = sparse.kron(Sy,Sy,format='csr')\n",
    "\n",
    "\n",
    "h = SzSz + SxSx + SySy\n",
    "\n",
    "tmp = [[0, 2, 0], [1, 3, 0], [0, 1, 1], [0, 3, 2], [1, 2, 2], [2, 4, 0], [3, 5, 0], [2, 3, 1], [2, 5, 2], [3, 4, 2], [4, 6, 0], [5, 7, 0], [4, 5, 1], [4, 7, 2], [5, 6, 2], [6, 0, 0], [7, 1, 0], [6, 7, 1], [6, 1, 2], [7, 0, 2]]\n",
    "J = [1,2,1]\n",
    "bonds = np.array(tmp)[:,:2]\n",
    "b_type = np.array(tmp)[:,2]\n",
    "L = np.max(bonds)+1"
   ]
  },
  {
   "cell_type": "code",
   "execution_count": 212,
   "id": "d8934a89",
   "metadata": {},
   "outputs": [
    {
     "name": "stderr",
     "output_type": "stream",
     "text": [
      "/Users/keisukemurota/miniconda3/envs/research/lib/python3.7/site-packages/numpy/core/_asarray.py:102: ComplexWarning: Casting complex values to real discards the imaginary part\n",
      "  return array(a, dtype, copy=False, order=order)\n",
      "/Users/keisukemurota/miniconda3/envs/research/lib/python3.7/site-packages/scipy/sparse/_index.py:82: SparseEfficiencyWarning: Changing the sparsity structure of a csr_matrix is expensive. lil_matrix is more efficient.\n",
      "  self._set_intXint(row, col, x.flat[0])\n"
     ]
    },
    {
     "data": {
      "text/plain": [
       "-3.672710303748796"
      ]
     },
     "execution_count": 212,
     "metadata": {},
     "output_type": "execute_result"
    }
   ],
   "source": [
    "H = sparse.csr_matrix((1<<L,1<<L),dtype=np.float64)\n",
    "for i in range(len(bonds)):\n",
    "    H += f.l2nl(h, L, bond = bonds[i], nls=1) * J[b_type[i]]\n",
    "E, V = scipy.linalg.eigh(H.toarray())\n",
    "T = 1\n",
    "beta = 1/T\n",
    "np.sum(E * np.exp(-beta*E))/np.sum(np.exp(-beta*E))"
   ]
  },
  {
   "cell_type": "markdown",
   "id": "8b2c74db",
   "metadata": {},
   "source": [
    "### with local unitary transformation\n",
    "\n",
    "$$\n",
    "\\mathbf{T}_i = \\mathbf{S}_i^1 + \\mathbf{S}_i^2 \\\\\n",
    "\\mathbf{D}_i = \\mathbf{S}_i^1 - \\mathbf{S}_i^2\n",
    "$$\n",
    "\n",
    "$$\n",
    "H = \\sum_i J_\\perp (\\frac{\\mathbf{T}_i^2}{2} - 3/4) + \\frac{J_\\parallel + J_\\times}{2} \\mathbf{T}_i \\cdot \\mathbf{T}_{i+1} + \\frac{J_\\parallel - J_\\times}{2} \\mathbf{D}_i \\cdot \\mathbf{D}_{i+1}\n",
    "$$"
   ]
  },
  {
   "cell_type": "code",
   "execution_count": 230,
   "id": "492ac2e1",
   "metadata": {},
   "outputs": [],
   "source": [
    "Tz = Sz1+Sz2\n",
    "Tx = Sx1-Sx2\n",
    "Ty = Sy1-Sy2\n",
    "\n",
    "Dz = Sz1-Sz2\n",
    "Dx = Sx1+Sx2\n",
    "Dy = Sy1+Sy2\n",
    "\n",
    "TzTz = sparse.kron(Tz,Tz,format='csr')\n",
    "TxTx = sparse.kron(Tx,Tx,format='csr')\n",
    "TyTy = sparse.kron(Ty,Ty,format='csr')\n",
    "\n",
    "DzDz = sparse.kron(Dz,Dz,format='csr')\n",
    "DxDx = sparse.kron(Dx,Dx,format='csr')\n",
    "DyDy = sparse.kron(Dy,Dy,format='csr')\n",
    "\n",
    "Tz2 = Tz@Tz + Tx@Tx + Ty@Ty\n",
    "h1 = TzTz - TxTx - TyTy\n",
    "h2 = DzDz - DxDx - DyDy\n",
    "\n",
    "h1 = TzTz + TxTx + TyTy\n",
    "h2 = DzDz + DxDx + DyDy\n",
    "\n",
    "h0 = Tz2/2 - 3/4*sparse.identity(4)\n",
    "h_on = sparse.kron(sparse.identity(4), h0) + sparse.kron(h0, sparse.identity(4))\n",
    "h_on /= 2\n",
    "\n",
    "u = np.array([\n",
    "    [0,1,0,0],\n",
    "    [1/np.sqrt(2), 0, 1/np.sqrt(2), 0],\n",
    "    [1/np.sqrt(2), 0, -1/np.sqrt(2), 0],\n",
    "    [0,0,0,1]\n",
    "])\n",
    "\n",
    "u = sparse.csr_matrix(u)\n",
    "U = sparse.kron(u, u,format='csr')\n",
    "\n",
    "h1 = U.T @ h1 @ U\n",
    "h2 = U.T @ h2 @ U\n",
    "h_on = U.T @ h_on @ U"
   ]
  },
  {
   "cell_type": "code",
   "execution_count": 232,
   "id": "44159038",
   "metadata": {},
   "outputs": [
    {
     "name": "stderr",
     "output_type": "stream",
     "text": [
      "/Users/keisukemurota/miniconda3/envs/research/lib/python3.7/site-packages/numpy/core/_asarray.py:102: ComplexWarning: Casting complex values to real discards the imaginary part\n",
      "  return array(a, dtype, copy=False, order=order)\n",
      "/Users/keisukemurota/miniconda3/envs/research/lib/python3.7/site-packages/scipy/sparse/_index.py:82: SparseEfficiencyWarning: Changing the sparsity structure of a csr_matrix is expensive. lil_matrix is more efficient.\n",
      "  self._set_intXint(row, col, x.flat[0])\n"
     ]
    }
   ],
   "source": [
    "L = 4\n",
    "H = sparse.csr_matrix((1<<(2*L),1<<(2*L)),dtype=np.float64)\n",
    "J = [1,2,1]\n",
    "for i in range(L):\n",
    "    H += f.l2nl(h1, L, bond = [i,(i+1)%L], nls=2) * (J[0]+J[2])/2.0\n",
    "    H += f.l2nl(h2, L, bond = [i,(i+1)%L], nls=2) * (J[0]-J[2])/2.0\n",
    "    H += f.l2nl(h_on, L, bond = [i,(i+1)%L], nls=2) * J[1]\n",
    "E2, V2 = scipy.linalg.eigh(H.toarray())"
   ]
  },
  {
   "cell_type": "code",
   "execution_count": 237,
   "id": "2a3deadf",
   "metadata": {},
   "outputs": [
    {
     "data": {
      "text/plain": [
       "-5.999999929913197"
      ]
     },
     "execution_count": 237,
     "metadata": {},
     "output_type": "execute_result"
    }
   ],
   "source": [
    "T = 0.1\n",
    "beta = 1/T\n",
    "np.sum(E2 * np.exp(-beta*E2))/np.sum(np.exp(-beta*E2))"
   ]
  },
  {
   "cell_type": "code",
   "execution_count": null,
   "id": "174d9aec",
   "metadata": {},
   "outputs": [],
   "source": []
  }
 ],
 "metadata": {
  "kernelspec": {
   "display_name": "Python 3",
   "language": "python",
   "name": "python3"
  },
  "language_info": {
   "codemirror_mode": {
    "name": "ipython",
    "version": 3
   },
   "file_extension": ".py",
   "mimetype": "text/x-python",
   "name": "python",
   "nbconvert_exporter": "python",
   "pygments_lexer": "ipython3",
   "version": "3.7.7"
  }
 },
 "nbformat": 4,
 "nbformat_minor": 5
}
