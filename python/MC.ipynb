{
 "cells": [
  {
   "cell_type": "code",
   "execution_count": 2,
   "id": "cc227d62",
   "metadata": {},
   "outputs": [],
   "source": [
    "import numpy as np\n",
    "from numba import njit\n",
    "from matplotlib import pyplot as plt"
   ]
  },
  {
   "cell_type": "markdown",
   "id": "dffb470e",
   "metadata": {},
   "source": [
    "### random walk in 1D chain with loop "
   ]
  },
  {
   "cell_type": "code",
   "execution_count": 81,
   "id": "78936fe6",
   "metadata": {},
   "outputs": [],
   "source": [
    "L = 10\n",
    "x0 = 0\n",
    "N = 8\n",
    "\n",
    "site = np.arange(L)\n",
    "chain = []\n",
    "c = 0\n",
    "for _ in range(100):\n",
    "    chain_tmp = []\n",
    "    x = x0\n",
    "    cnt = 0\n",
    "    trigger = 0\n",
    "    for _ in range(10000):\n",
    "        step = np.random.randint(3)\n",
    "        x_tmp = (x+step-1)%L\n",
    "        if (x>7):\n",
    "            cnt+=1\n",
    "        else:\n",
    "            cnt = 0\n",
    "        if (cnt == N):\n",
    "            x = x0\n",
    "            cnt = 0\n",
    "        else:\n",
    "            x = x_tmp\n",
    "        chain_tmp.append(x)\n",
    "    chain = chain + chain_tmp\n",
    "    c+=1"
   ]
  },
  {
   "cell_type": "code",
   "execution_count": 82,
   "id": "f60f4919",
   "metadata": {},
   "outputs": [
    {
     "data": {
      "image/png": "[encoded data removed]",
      "text/plain": [
       "<Figure size 432x288 with 1 Axes>"
      ]
     },
     "metadata": {
      "needs_background": "light"
     },
     "output_type": "display_data"
    }
   ],
   "source": [
    "site, cnt = np.unique(chain, return_counts=True)\n",
    "fig, ax = plt.subplots()\n",
    "\n",
    "ax.bar(site, cnt)\n",
    "plt.show()"
   ]
  },
  {
   "cell_type": "code",
   "execution_count": 85,
   "id": "3331bbec",
   "metadata": {
    "scrolled": true
   },
   "outputs": [
    {
     "name": "stdout",
     "output_type": "stream",
     "text": [
      "233000\n"
     ]
    }
   ],
   "source": [
    "chain = []\n",
    "c = 0\n",
    "N = 8\n",
    "for _ in range(10000):\n",
    "    chain_tmp = []\n",
    "    x = x0\n",
    "    cnt = 0\n",
    "    trigger = 0\n",
    "    for _ in range(1000):\n",
    "        step = np.random.randint(3)\n",
    "        x_tmp = (x+step-1)%L\n",
    "        if (x>7):\n",
    "            cnt+=1\n",
    "        else:\n",
    "            cnt = 0\n",
    "        if (cnt == N):\n",
    "            trigger = 1\n",
    "#             print(\"step at\", c ,\"discard\")\n",
    "            break;\n",
    "        else:\n",
    "            x = x_tmp\n",
    "        chain_tmp.append(x)\n",
    "    if (trigger==0):\n",
    "#         print(len(chain_tmp))\n",
    "        chain = chain + chain_tmp\n",
    "    c+=1\n",
    "print(len(chain))"
   ]
  },
  {
   "cell_type": "code",
   "execution_count": 86,
   "id": "6af83b24",
   "metadata": {},
   "outputs": [
    {
     "data": {
      "image/png": "[encoded data removed]",
      "text/plain": [
       "<Figure size 432x288 with 1 Axes>"
      ]
     },
     "metadata": {
      "needs_background": "light"
     },
     "output_type": "display_data"
    }
   ],
   "source": [
    "site, cnt = np.unique(chain, return_counts=True)\n",
    "fig, ax = plt.subplots()\n",
    "\n",
    "ax.bar(site, cnt)\n",
    "plt.show()"
   ]
  },
  {
   "cell_type": "code",
   "execution_count": null,
   "id": "4c1f69f4",
   "metadata": {},
   "outputs": [],
   "source": []
  }
 ],
 "metadata": {
  "kernelspec": {
   "display_name": "Python 3",
   "language": "python",
   "name": "python3"
  },
  "language_info": {
   "codemirror_mode": {
    "name": "ipython",
    "version": 3
   },
   "file_extension": ".py",
   "mimetype": "text/x-python",
   "name": "python",
   "nbconvert_exporter": "python",
   "pygments_lexer": "ipython3",
   "version": "3.7.7"
  }
 },
 "nbformat": 4,
 "nbformat_minor": 5
}
