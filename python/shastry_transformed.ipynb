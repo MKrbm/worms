{
 "cells": [
  {
   "cell_type": "code",
   "execution_count": 6,
   "id": "9df5422a",
   "metadata": {},
   "outputs": [],
   "source": [
    "import numpy as np\n",
    "from scipy import sparse"
   ]
  },
  {
   "cell_type": "markdown",
   "id": "ccad03ef",
   "metadata": {},
   "source": [
    "## exact diagonalization"
   ]
  },
  {
   "cell_type": "code",
   "execution_count": 10,
   "id": "5d5c2f5d",
   "metadata": {},
   "outputs": [],
   "source": [
    "from quspin.basis import spin_basis_1d, spin_basis_general\n",
    "from quspin.operators import hamiltonian,quantum_operator\n",
    "from quspin.tools.lanczos import lanczos_full,lanczos_iter,FTLM_static_iteration,LTLM_static_iteration\n",
    "import numpy as np\n",
    "import matplotlib.pyplot as plt\n",
    "from mpl_toolkits.axes_grid1.inset_locator import inset_axes"
   ]
  },
  {
   "cell_type": "code",
   "execution_count": 11,
   "id": "cd303174",
   "metadata": {},
   "outputs": [
    {
     "name": "stderr",
     "output_type": "stream",
     "text": [
      "/Users/keisukemurota/miniconda3/envs/research/lib/python3.7/site-packages/ipykernel_launcher.py:12: GeneralBasisWarning: using non-commuting symmetries can lead to unwanted behaviour of general basis, make sure that quantum numbers are invariant under non-commuting symmetries!\n",
      "  if sys.path[0] == '':\n"
     ]
    }
   ],
   "source": [
    "Lx, Ly = 4, 4 # linear dimension of spin 1 2d lattice\n",
    "N_2d = Lx*Ly # number of sites for spin 1\n",
    "s = np.arange(N_2d) # sites [0,1,2,....]\n",
    "x = s%Lx # x positions for sites\n",
    "y = s//Lx # y positions for sites\n",
    "T_x = (x+1)%Lx + Lx*y # translation along x-direction\n",
    "T_y = x +Lx*((y+1)%Ly) # translation along y-direction\n",
    "P_x = x + Lx*(Ly-y-1) # reflection about x-axis\n",
    "P_y = (Lx-x-1) + Lx*y # reflection about y-axis\n",
    "Z   = -(s+1) # spin inversion\n",
    "# basis_2d = spin_basis_general(N_2d,pauli=False)\n",
    "spin_basis_general(N_2d,kxblock=(T_x,0),kyblock=(T_y,0),pxblock=(P_x,0),pyblock=(P_y,0),zblock=(Z,0), pauli=True)\n",
    "\n",
    "# set up coupling \n",
    "J1 = 1\n",
    "J2 = 1\n",
    "J_zz = [[J1,i,T_x[i]] for i in range(N_2d)]+[[J1,i,T_y[i]] for i in range(N_2d)] \n",
    "J_zz = J_zz + [[J2,0,5],[J2,2,7],[J2,8,13],[J2,10,15],[J2,1,14],[J2,3,12],[J2,6,9],[J2,4,11]]\n",
    "J_xy = [[J1/2.0,i,T_x[i]] for i in range(N_2d)]+[[J1/2.0,i,T_y[i]] for i in range(N_2d)]\n",
    "J_xy = J_xy + [[J2/2.0,0,5],[J2/2.0,2,7],[J2/2.0,8,13],[J2/2.0,10,15],[J2/2.0,1,14],[J2/2.0,3,12],[J2/2.0,6,9],[J2/2.0,4,11]]\n",
    "ops_dict = dict(Jpm=[[\"+-\",J_xy]],Jmp=[[\"-+\",J_xy]],Jzz=[[\"zz\",J_zz]])"
   ]
  },
  {
   "cell_type": "code",
   "execution_count": 12,
   "id": "da257ccf",
   "metadata": {},
   "outputs": [
    {
     "name": "stdout",
     "output_type": "stream",
     "text": [
      "0\n",
      "Hermiticity check passed!\n",
      "Particle conservation check passed!\n",
      "1\n",
      "Hermiticity check passed!\n",
      "Particle conservation check passed!\n",
      "2\n",
      "Hermiticity check passed!\n",
      "Particle conservation check passed!\n",
      "3\n",
      "Hermiticity check passed!\n",
      "Particle conservation check passed!\n",
      "4\n",
      "Hermiticity check passed!\n",
      "Particle conservation check passed!\n",
      "5\n",
      "Hermiticity check passed!\n",
      "Particle conservation check passed!\n",
      "6\n",
      "Hermiticity check passed!\n",
      "Particle conservation check passed!\n",
      "7\n",
      "Hermiticity check passed!\n",
      "Particle conservation check passed!\n",
      "8\n",
      "Hermiticity check passed!\n",
      "Particle conservation check passed!\n",
      "9\n",
      "Hermiticity check passed!\n",
      "Particle conservation check passed!\n",
      "10\n",
      "Hermiticity check passed!\n",
      "Particle conservation check passed!\n",
      "11\n",
      "Hermiticity check passed!\n",
      "Particle conservation check passed!\n",
      "12\n",
      "Hermiticity check passed!\n",
      "Particle conservation check passed!\n",
      "13\n",
      "Hermiticity check passed!\n",
      "Particle conservation check passed!\n",
      "14\n",
      "Hermiticity check passed!\n",
      "Particle conservation check passed!\n",
      "15\n",
      "Hermiticity check passed!\n",
      "Particle conservation check passed!\n",
      "16\n",
      "Hermiticity check passed!\n",
      "Particle conservation check passed!\n"
     ]
    },
    {
     "data": {
      "text/plain": [
       "-0.34909498266712946"
      ]
     },
     "execution_count": 12,
     "metadata": {},
     "output_type": "execute_result"
    }
   ],
   "source": [
    "E = []\n",
    "for i in range(Lx*Ly+1):\n",
    "    print(i)\n",
    "    basis_2d = spin_basis_general(N_2d, Nup = i ,pauli=False)\n",
    "    H_ = quantum_operator(ops_dict,basis=basis_2d,dtype=np.float64, check_symm=False)\n",
    "    E_,V_ = H_.eigh({})\n",
    "    E.append(E_)\n",
    "E = np.concatenate(E,axis=0)\n",
    "T = 1\n",
    "beta = 1/T\n",
    "# del H2D\n",
    "np.sum(E * np.exp(-beta*E))/np.sum(np.exp(-beta*E)) / 16"
   ]
  },
  {
   "cell_type": "code",
   "execution_count": 13,
   "id": "e8dc5a61",
   "metadata": {},
   "outputs": [
    {
     "data": {
      "text/plain": [
       "-5.585519722674071"
      ]
     },
     "execution_count": 13,
     "metadata": {},
     "output_type": "execute_result"
    }
   ],
   "source": [
    "np.sum(E * np.exp(-beta*E))/np.sum(np.exp(-beta*E))"
   ]
  },
  {
   "cell_type": "markdown",
   "id": "76c25a46",
   "metadata": {},
   "source": [
    "## apply unitary transformation to Shastry-Sutherland\n",
    "\n",
    "local state will be transformed from standard basis to singlet & triplet."
   ]
  },
  {
   "cell_type": "markdown",
   "id": "0624802a",
   "metadata": {},
   "source": [
    "### original local hamiltonian"
   ]
  },
  {
   "cell_type": "code",
   "execution_count": 19,
   "id": "5e1d0541",
   "metadata": {},
   "outputs": [],
   "source": [
    "I = np.identity(2)\n",
    "Sz = np.zeros([2,2])\n",
    "Sz[0,0] = 1/2\n",
    "Sz[1,1] = -1/2\n",
    "Sx = np.zeros([2,2])\n",
    "Sx[1,0] = 1/2\n",
    "Sx[0,1] = 1/2\n",
    "Sy = np.zeros([2,2], dtype=np.complex64)\n",
    "Sy[1,0] = 1j/2\n",
    "Sy[0,1] = -1j/2\n",
    "\n",
    "\n",
    "Sz = sparse.csr_matrix(Sz)\n",
    "Sx = sparse.csr_matrix(Sx)\n",
    "Sy = sparse.csr_matrix(Sy)\n",
    "I = sparse.csr_matrix(I)\n",
    "\n",
    "h1 = -(sparse.kron(sparse.kron(I,Sz,format='csr'), sparse.kron(Sz,I,format='csr'),format='csr') \n",
    "       - sparse.kron(sparse.kron(I,Sx,format='csr'), sparse.kron(Sx,I,format='csr'),format='csr')\n",
    "       - sparse.kron(sparse.kron(I,Sy,format='csr'), sparse.kron(Sy,I,format='csr'),format='csr') \n",
    "     ).real\n",
    "\n",
    "\n",
    "h2 = -(sparse.kron(sparse.kron(Sz,I,format='csr'), sparse.kron(Sz,I,format='csr'),format='csr') \n",
    "       - sparse.kron(sparse.kron(Sx,I,format='csr'), sparse.kron(Sx,I,format='csr'),format='csr')\n",
    "       - sparse.kron(sparse.kron(Sy,I,format='csr'), sparse.kron(Sy,I,format='csr'),format='csr') \n",
    "     ).real\n",
    "\n",
    "\n",
    "\n",
    "\n",
    "h1_ = -(sparse.kron(sparse.kron(Sz,I,format='csr'), sparse.kron(I,Sz,format='csr'),format='csr') \n",
    "       - sparse.kron(sparse.kron(Sx,I,format='csr'), sparse.kron(I,Sx,format='csr'),format='csr')\n",
    "       - sparse.kron(sparse.kron(Sy,I,format='csr'), sparse.kron(I,Sy,format='csr'),format='csr') \n",
    "     ).real\n",
    "\n",
    "h2_ = -(sparse.kron(sparse.kron(I,Sz,format='csr'), sparse.kron(I,Sz,format='csr'),format='csr') \n",
    "       - sparse.kron(sparse.kron(I,Sx,format='csr'), sparse.kron(I,Sx,format='csr'),format='csr')\n",
    "       - sparse.kron(sparse.kron(I,Sy,format='csr'), sparse.kron(I,Sy,format='csr'),format='csr') \n",
    "     ).real\n",
    "\n",
    "\n",
    "\n",
    "h = h1 + h2\n",
    "\n",
    "h_ = h1_ + h2_\n"
   ]
  },
  {
   "cell_type": "markdown",
   "id": "b2e5a82c",
   "metadata": {},
   "source": [
    "### construct unitary transformation"
   ]
  },
  {
   "cell_type": "code",
   "execution_count": 20,
   "id": "22d2bf13",
   "metadata": {},
   "outputs": [],
   "source": [
    "u = np.array([\n",
    "    [0,1,0,0],\n",
    "    [1/np.sqrt(2), 0, 1/np.sqrt(2), 0],\n",
    "    [-1/np.sqrt(2), 0, 1/np.sqrt(2), 0],\n",
    "    [0,0,0,1]\n",
    "])\n",
    "u = sparse.csr_matrix(u)\n",
    "U = sparse.kron(u, u,format='csr')\n",
    "\n"
   ]
  },
  {
   "cell_type": "code",
   "execution_count": 21,
   "id": "6be5fb87",
   "metadata": {},
   "outputs": [],
   "source": [
    "H = U.T @ h @ U\n",
    "H2 = U.T @ h_ @ U\n",
    "\n",
    "\n",
    "np.save(\"array/H.npy\",H.toarray())\n",
    "np.save(\"array/H2.npy\",H2.toarray())"
   ]
  },
  {
   "cell_type": "code",
   "execution_count": 22,
   "id": "063e0e34",
   "metadata": {},
   "outputs": [
    {
     "name": "stdout",
     "output_type": "stream",
     "text": [
      "  (9, 4)\t-0.4999999999999999\n",
      "  (6, 4)\t-0.4999999999999999\n",
      "  (5, 5)\t-0.5\n",
      "  (9, 6)\t0.4999999999999999\n",
      "  (4, 6)\t-0.4999999999999999\n",
      "  (7, 7)\t0.5\n",
      "  (8, 7)\t0.4999999999999999\n",
      "  (10, 7)\t0.4999999999999999\n",
      "  (13, 8)\t-0.4999999999999999\n",
      "  (7, 8)\t0.4999999999999999\n",
      "  (4, 9)\t-0.4999999999999999\n",
      "  (6, 9)\t0.4999999999999999\n",
      "  (13, 10)\t0.4999999999999999\n",
      "  (7, 10)\t0.4999999999999999\n",
      "  (12, 11)\t0.4999999999999999\n",
      "  (14, 11)\t0.4999999999999999\n",
      "  (11, 12)\t0.4999999999999999\n",
      "  (14, 12)\t0.4999999999999999\n",
      "  (8, 13)\t-0.4999999999999999\n",
      "  (10, 13)\t0.4999999999999999\n",
      "  (13, 13)\t0.5\n",
      "  (11, 14)\t0.4999999999999999\n",
      "  (12, 14)\t0.4999999999999999\n",
      "  (15, 15)\t-0.5\n"
     ]
    }
   ],
   "source": [
    "print(H)"
   ]
  },
  {
   "cell_type": "code",
   "execution_count": null,
   "id": "e9e5816b",
   "metadata": {},
   "outputs": [],
   "source": []
  }
 ],
 "metadata": {
  "kernelspec": {
   "display_name": "Python 3",
   "language": "python",
   "name": "python3"
  },
  "language_info": {
   "codemirror_mode": {
    "name": "ipython",
    "version": 3
   },
   "file_extension": ".py",
   "mimetype": "text/x-python",
   "name": "python",
   "nbconvert_exporter": "python",
   "pygments_lexer": "ipython3",
   "version": "3.7.7"
  }
 },
 "nbformat": 4,
 "nbformat_minor": 5
}
