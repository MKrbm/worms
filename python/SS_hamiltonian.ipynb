{
 "cells": [
  {
   "cell_type": "code",
   "execution_count": 23,
   "id": "9df5422a",
   "metadata": {},
   "outputs": [],
   "source": [
    "import numpy as np\n",
    "from scipy import sparse"
   ]
  },
  {
   "cell_type": "markdown",
   "id": "ccad03ef",
   "metadata": {},
   "source": [
    "## exact diagonalization"
   ]
  },
  {
   "cell_type": "code",
   "execution_count": 24,
   "id": "5d5c2f5d",
   "metadata": {},
   "outputs": [],
   "source": [
    "from quspin.basis import spin_basis_1d, spin_basis_general\n",
    "from quspin.operators import hamiltonian,quantum_operator\n",
    "from quspin.tools.lanczos import lanczos_full,lanczos_iter,FTLM_static_iteration,LTLM_static_iteration\n",
    "import numpy as np\n",
    "import matplotlib.pyplot as plt\n",
    "from mpl_toolkits.axes_grid1.inset_locator import inset_axes"
   ]
  },
  {
   "cell_type": "code",
   "execution_count": 5,
   "id": "cd303174",
   "metadata": {},
   "outputs": [
    {
     "name": "stderr",
     "output_type": "stream",
     "text": [
      "/Users/keisukemurota/miniconda3/envs/research/lib/python3.7/site-packages/ipykernel_launcher.py:12: GeneralBasisWarning: using non-commuting symmetries can lead to unwanted behaviour of general basis, make sure that quantum numbers are invariant under non-commuting symmetries!\n",
      "  if sys.path[0] == '':\n"
     ]
    }
   ],
   "source": [
    "Lx, Ly = 4, 4 # linear dimension of spin 1 2d lattice\n",
    "N_2d = Lx*Ly # number of sites for spin 1\n",
    "s = np.arange(N_2d) # sites [0,1,2,....]\n",
    "x = s%Lx # x positions for sites\n",
    "y = s//Lx # y positions for sites\n",
    "T_x = (x+1)%Lx + Lx*y # translation along x-direction\n",
    "T_y = x +Lx*((y+1)%Ly) # translation along y-direction\n",
    "P_x = x + Lx*(Ly-y-1) # reflection about x-axis\n",
    "P_y = (Lx-x-1) + Lx*y # reflection about y-axis\n",
    "Z   = -(s+1) # spin inversion\n",
    "# basis_2d = spin_basis_general(N_2d,pauli=False)\n",
    "spin_basis_general(N_2d,kxblock=(T_x,0),kyblock=(T_y,0),pxblock=(P_x,0),pyblock=(P_y,0),zblock=(Z,0), pauli=True)\n",
    "\n",
    "# set up coupling \n",
    "J1 = 0.4\n",
    "J2 = 1\n",
    "J_zz = [[J1,i,T_x[i]] for i in range(N_2d)]+[[J1,i,T_y[i]] for i in range(N_2d)] \n",
    "J_zz = J_zz + [[J2,0,5],[J2,2,7],[J2,8,13],[J2,10,15],[J2,1,14],[J2,3,12],[J2,6,9],[J2,4,11]]\n",
    "J_xy = [[J1/2.0,i,T_x[i]] for i in range(N_2d)]+[[J1/2.0,i,T_y[i]] for i in range(N_2d)]\n",
    "J_xy = J_xy + [[J2/2.0,0,5],[J2/2.0,2,7],[J2/2.0,8,13],[J2/2.0,10,15],[J2/2.0,1,14],[J2/2.0,3,12],[J2/2.0,6,9],[J2/2.0,4,11]]\n",
    "ops_dict = dict(Jpm=[[\"+-\",J_xy]],Jmp=[[\"-+\",J_xy]],Jzz=[[\"zz\",J_zz]])"
   ]
  },
  {
   "cell_type": "code",
   "execution_count": 6,
   "id": "da257ccf",
   "metadata": {},
   "outputs": [
    {
     "name": "stdout",
     "output_type": "stream",
     "text": [
      "0\n",
      "Hermiticity check passed!\n",
      "Particle conservation check passed!\n",
      "1\n",
      "Hermiticity check passed!\n",
      "Particle conservation check passed!\n",
      "2\n",
      "Hermiticity check passed!\n",
      "Particle conservation check passed!\n",
      "3\n",
      "Hermiticity check passed!\n",
      "Particle conservation check passed!\n",
      "4\n",
      "Hermiticity check passed!\n",
      "Particle conservation check passed!\n",
      "5\n",
      "Hermiticity check passed!\n",
      "Particle conservation check passed!\n",
      "6\n",
      "Hermiticity check passed!\n",
      "Particle conservation check passed!\n",
      "7\n",
      "Hermiticity check passed!\n",
      "Particle conservation check passed!\n",
      "8\n",
      "Hermiticity check passed!\n",
      "Particle conservation check passed!\n",
      "9\n",
      "Hermiticity check passed!\n",
      "Particle conservation check passed!\n",
      "10\n",
      "Hermiticity check passed!\n",
      "Particle conservation check passed!\n",
      "11\n",
      "Hermiticity check passed!\n",
      "Particle conservation check passed!\n",
      "12\n",
      "Hermiticity check passed!\n",
      "Particle conservation check passed!\n",
      "13\n",
      "Hermiticity check passed!\n",
      "Particle conservation check passed!\n",
      "14\n",
      "Hermiticity check passed!\n",
      "Particle conservation check passed!\n",
      "15\n",
      "Hermiticity check passed!\n",
      "Particle conservation check passed!\n",
      "16\n",
      "Hermiticity check passed!\n",
      "Particle conservation check passed!\n"
     ]
    }
   ],
   "source": [
    "E = []\n",
    "for i in range(Lx*Ly+1):\n",
    "    print(i)\n",
    "    basis_2d = spin_basis_general(N_2d, Nup = i ,pauli=False)\n",
    "    H_ = quantum_operator(ops_dict,basis=basis_2d,dtype=np.float64, check_symm=False)\n",
    "    E_,V_ = H_.eigh({})\n",
    "    E.append(E_)\n",
    "E = np.concatenate(E,axis=0)\n",
    "T = 1\n",
    "beta = 1/T\n",
    "# del H2D\n",
    "# np.sum(E * np.exp(-beta*E))/np.sum(np.exp(-beta*E)) \n",
    "np.save(\"../doc/data/shastry_exact_J1=0.4.npy\", E)"
   ]
  },
  {
   "cell_type": "code",
   "execution_count": null,
   "id": "e8dc5a61",
   "metadata": {},
   "outputs": [],
   "source": [
    "np.sum(E * np.exp(-beta*E))/np.sum(np.exp(-beta*E))"
   ]
  },
  {
   "cell_type": "markdown",
   "id": "76c25a46",
   "metadata": {},
   "source": [
    "## apply unitary transformation to Shastry-Sutherland\n",
    "\n",
    "local state will be transformed from standard basis to singlet & triplet."
   ]
  },
  {
   "cell_type": "markdown",
   "id": "0624802a",
   "metadata": {},
   "source": [
    "### original local hamiltonian"
   ]
  },
  {
   "cell_type": "code",
   "execution_count": 25,
   "id": "5e1d0541",
   "metadata": {},
   "outputs": [],
   "source": [
    "I = np.identity(2)\n",
    "Sz = np.zeros([2,2])\n",
    "Sz[0,0] = 1/2\n",
    "Sz[1,1] = -1/2\n",
    "Sx = np.zeros([2,2])\n",
    "Sx[1,0] = 1/2\n",
    "Sx[0,1] = 1/2\n",
    "Sy = np.zeros([2,2], dtype=np.complex64)\n",
    "Sy[1,0] = 1j/2\n",
    "Sy[0,1] = -1j/2\n",
    "\n",
    "\n",
    "Sz = sparse.csr_matrix(Sz)\n",
    "Sx = sparse.csr_matrix(Sx)\n",
    "Sy = sparse.csr_matrix(Sy)\n",
    "I = sparse.csr_matrix(I)\n",
    "\n",
    "h1 = -(sparse.kron(sparse.kron(I,Sz,format='csr'), sparse.kron(Sz,I,format='csr'),format='csr') \n",
    "       - sparse.kron(sparse.kron(I,Sx,format='csr'), sparse.kron(Sx,I,format='csr'),format='csr')\n",
    "       - sparse.kron(sparse.kron(I,Sy,format='csr'), sparse.kron(Sy,I,format='csr'),format='csr') \n",
    "     ).real\n",
    "\n",
    "\n",
    "h2 = -(sparse.kron(sparse.kron(Sz,I,format='csr'), sparse.kron(Sz,I,format='csr'),format='csr') \n",
    "       - sparse.kron(sparse.kron(Sx,I,format='csr'), sparse.kron(Sx,I,format='csr'),format='csr')\n",
    "       - sparse.kron(sparse.kron(Sy,I,format='csr'), sparse.kron(Sy,I,format='csr'),format='csr') \n",
    "     ).real\n",
    "\n",
    "\n",
    "h3 = -(sparse.kron(sparse.kron(Sz,Sz,format='csr'), sparse.kron(I,I,format='csr'),format='csr') \n",
    "       + sparse.kron(sparse.kron(Sx,Sx,format='csr'), sparse.kron(I,I,format='csr'),format='csr')\n",
    "       + sparse.kron(sparse.kron(Sy,Sy,format='csr'), sparse.kron(I,I,format='csr'),format='csr') \n",
    "     ).real\n",
    "\n",
    "h4 = -(sparse.kron(sparse.kron(I,I,format='csr'), sparse.kron(Sz,Sz,format='csr'),format='csr') \n",
    "       + sparse.kron(sparse.kron(I,I,format='csr'), sparse.kron(Sx,Sx,format='csr'),format='csr')\n",
    "       + sparse.kron(sparse.kron(I,I,format='csr'), sparse.kron(Sy,Sy,format='csr'),format='csr') \n",
    "     ).real\n",
    "\n",
    "\n",
    "\n",
    "\n",
    "h1_ = -(sparse.kron(sparse.kron(Sz,I,format='csr'), sparse.kron(I,Sz,format='csr'),format='csr') \n",
    "       - sparse.kron(sparse.kron(Sx,I,format='csr'), sparse.kron(I,Sx,format='csr'),format='csr')\n",
    "       - sparse.kron(sparse.kron(Sy,I,format='csr'), sparse.kron(I,Sy,format='csr'),format='csr') \n",
    "     ).real\n",
    "\n",
    "h2_ = -(sparse.kron(sparse.kron(I,Sz,format='csr'), sparse.kron(I,Sz,format='csr'),format='csr') \n",
    "       - sparse.kron(sparse.kron(I,Sx,format='csr'), sparse.kron(I,Sx,format='csr'),format='csr')\n",
    "       - sparse.kron(sparse.kron(I,Sy,format='csr'), sparse.kron(I,Sy,format='csr'),format='csr') \n",
    "     ).real\n",
    "\n",
    "\n",
    "\n",
    "h = h1 + h2\n",
    " \n",
    "h_ = h1_ + h2_\n",
    "\n",
    "on_site = h3/4 + h4/4\n"
   ]
  },
  {
   "cell_type": "markdown",
   "id": "b2e5a82c",
   "metadata": {},
   "source": [
    "### construct unitary transformation"
   ]
  },
  {
   "cell_type": "code",
   "execution_count": 26,
   "id": "22d2bf13",
   "metadata": {},
   "outputs": [],
   "source": [
    "u = np.array([\n",
    "    [0,1,0,0],\n",
    "    [1/np.sqrt(2), 0, 1/np.sqrt(2), 0],\n",
    "    [-1/np.sqrt(2), 0, 1/np.sqrt(2), 0],\n",
    "    [0,0,0,1]\n",
    "])\n",
    "u = sparse.csr_matrix(u)\n",
    "U = sparse.kron(u, u,format='csr')\n",
    "\n"
   ]
  },
  {
   "cell_type": "code",
   "execution_count": 27,
   "id": "6be5fb87",
   "metadata": {},
   "outputs": [],
   "source": [
    "H = U.T @ h @ U\n",
    "H2 = U.T @ h_ @ U\n",
    "ON = U.T @ on_site @ U\n",
    "\n",
    "\n",
    "# np.save(\"array/SS_bond1.npy\",H.toarray())\n",
    "# np.save(\"array/SS_bond2.npy\",H2.toarray())\n",
    "# np.save(\"array/SS_onsite.npy\",ON.toarray())\n",
    "\n",
    "\n",
    "# np.save(\"array/SS_ori_bond1.npy\",h.toarray())\n",
    "# np.save(\"array/SS_ori_bond2.npy\",h_.toarray())\n",
    "# np.save(\"array/SS_ori_onsite.npy\",on_site.toarray())"
   ]
  },
  {
   "cell_type": "code",
   "execution_count": 41,
   "id": "metropolitan-cattle",
   "metadata": {},
   "outputs": [],
   "source": [
    "def num2state(s, L = 4):\n",
    "    state = []\n",
    "    for i in range(L):\n",
    "        state.append(s%4)\n",
    "        s >>= 2\n",
    "    return state[::-1]"
   ]
  },
  {
   "cell_type": "code",
   "execution_count": 43,
   "id": "52f495c4",
   "metadata": {},
   "outputs": [],
   "source": [
    "def state2num(state):\n",
    "    s = 0\n",
    "    for i in range(len(state)):\n",
    "        s <<=2\n",
    "        s += state[i]\n",
    "    return s"
   ]
  },
  {
   "cell_type": "code",
   "execution_count": 21,
   "id": "7c89ffce",
   "metadata": {},
   "outputs": [
    {
     "data": {
      "text/plain": [
       "0.0"
      ]
     },
     "execution_count": 21,
     "metadata": {},
     "output_type": "execute_result"
    }
   ],
   "source": [
    "np.load(\"array/SS_bond_test1.npy\")[0,1]"
   ]
  },
  {
   "cell_type": "code",
   "execution_count": 19,
   "id": "a472809c",
   "metadata": {
    "scrolled": true
   },
   "outputs": [
    {
     "name": "stdout",
     "output_type": "stream",
     "text": [
      "SS_hamiltonian.ipynb      check_conn_from_index.py  simple_4site_model.ipynb\r\n",
      "Untitled1.ipynb           heisernberg.ipynb         test.py\r\n",
      "\u001b[34marray\u001b[m\u001b[m/                    make_SS_local.py          visualize.ipynb\r\n",
      "check_conn.py             shastry_exact.py\r\n"
     ]
    }
   ],
   "source": [
    "ls"
   ]
  },
  {
   "cell_type": "code",
   "execution_count": null,
   "id": "d419d954",
   "metadata": {},
   "outputs": [],
   "source": [
    "with open('readme.txt', 'w') as f:\n",
    "    f.write('readme')"
   ]
  },
  {
   "cell_type": "code",
   "execution_count": 52,
   "id": "unlimited-theater",
   "metadata": {},
   "outputs": [],
   "source": [
    "with open('readme.txt', 'w') as f:\n",
    "    H_tmp = (H+ON).toarray()\n",
    "    f.write(\"{:>6} \".format(\"\"))\n",
    "    for j in range(H_tmp.shape[1]):\n",
    "        f.write(\"{:>6}  \".format(str(num2state(j, 2))))\n",
    "\n",
    "    f.write(\"\\n\\n\")\n",
    "    for i in range(H_tmp.shape[0]):\n",
    "    #     print(\"{:>6}\".format(\"\"), end=\"\")\n",
    "        f.write(\"{:>6}\".format(str(num2state(i, 2))))\n",
    "        for j in range(H_tmp.shape[1]):    \n",
    "            f.write(\"{:>6.3f}, \".format(H_tmp[i,j]))\n",
    "        f.write(\"\\n\")"
   ]
  },
  {
   "cell_type": "code",
   "execution_count": null,
   "id": "593a53a0",
   "metadata": {},
   "outputs": [],
   "source": []
  }
 ],
 "metadata": {
  "kernelspec": {
   "display_name": "Python 3",
   "language": "python",
   "name": "python3"
  },
  "language_info": {
   "codemirror_mode": {
    "name": "ipython",
    "version": 3
   },
   "file_extension": ".py",
   "mimetype": "text/x-python",
   "name": "python",
   "nbconvert_exporter": "python",
   "pygments_lexer": "ipython3",
   "version": "3.7.7"
  }
 },
 "nbformat": 4,
 "nbformat_minor": 5
}
