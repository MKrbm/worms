{
 "cells": [
  {
   "cell_type": "code",
   "execution_count": 1,
   "id": "broadband-deadline",
   "metadata": {},
   "outputs": [],
   "source": [
    "import numpy as np\n",
    "X = np.load(\"../array/HP_bond_x.npy\")\n",
    "Y = np.load(\"../array/HP_bond_y.npy\")\n",
    "Z = np.load(\"../array/HP_bond_z.npy\")"
   ]
  },
  {
   "cell_type": "code",
   "execution_count": 2,
   "id": "surgical-surge",
   "metadata": {},
   "outputs": [],
   "source": [
    "H = -np.abs(Z)\n",
    "# print((H - np.identity(4)*np.max(np.diag(H))).round(6))"
   ]
  },
  {
   "cell_type": "code",
   "execution_count": 3,
   "id": "planned-preparation",
   "metadata": {},
   "outputs": [
    {
     "name": "stdout",
     "output_type": "stream",
     "text": [
      "[[-0.06044672 -0.10704146 -0.10704146 -0.18955328]\n",
      " [-0.10704146 -0.06044672 -0.18955328 -0.10704146]\n",
      " [-0.10704146 -0.18955328 -0.06044672 -0.10704146]\n",
      " [-0.18955328 -0.10704146 -0.10704146 -0.06044672]]\n"
     ]
    }
   ],
   "source": [
    "print(H)"
   ]
  },
  {
   "cell_type": "code",
   "execution_count": 4,
   "id": "mighty-biography",
   "metadata": {},
   "outputs": [],
   "source": [
    "E, V = np.linalg.eigh(H)"
   ]
  },
  {
   "cell_type": "code",
   "execution_count": 5,
   "id": "brutal-tomato",
   "metadata": {},
   "outputs": [
    {
     "data": {
      "text/plain": [
       "array([[-0.5       , -0.5       ,  0.39690928,  0.5852034 ],\n",
       "       [-0.5       ,  0.5       ,  0.5852034 , -0.39690928],\n",
       "       [-0.5       ,  0.5       , -0.5852034 ,  0.39690928],\n",
       "       [-0.5       , -0.5       , -0.39690928, -0.5852034 ]])"
      ]
     },
     "execution_count": 5,
     "metadata": {},
     "output_type": "execute_result"
    }
   ],
   "source": [
    "V"
   ]
  },
  {
   "cell_type": "code",
   "execution_count": 6,
   "id": "institutional-basketball",
   "metadata": {},
   "outputs": [
    {
     "data": {
      "text/plain": [
       "-0.9281658317130191"
      ]
     },
     "execution_count": 6,
     "metadata": {},
     "output_type": "execute_result"
    }
   ],
   "source": [
    "E[0] * 2"
   ]
  },
  {
   "cell_type": "code",
   "execution_count": 18,
   "id": "blessed-coordination",
   "metadata": {},
   "outputs": [],
   "source": [
    "import sys\n",
    "sys.path.append('..')\n",
    "from functions import *"
   ]
  },
  {
   "cell_type": "code",
   "execution_count": 22,
   "id": "traditional-report",
   "metadata": {},
   "outputs": [
    {
     "data": {
      "text/plain": [
       "[0, 1, 0, 1]"
      ]
     },
     "execution_count": 22,
     "metadata": {},
     "output_type": "execute_result"
    }
   ],
   "source": [
    "num2state(5, L = 4, nls = 1)\n",
    "# state2num(np.array([0,0,0,1]), nls = 1)"
   ]
  },
  {
   "cell_type": "code",
   "execution_count": 20,
   "id": "later-tomorrow",
   "metadata": {},
   "outputs": [
    {
     "name": "stdout",
     "output_type": "stream",
     "text": [
      "Help on CPUDispatcher in module functions:\n",
      "\n",
      "state2num(state, nls=2, rev=False)\n",
      "\n"
     ]
    }
   ],
   "source": [
    "help(state2num)"
   ]
  },
  {
   "cell_type": "code",
   "execution_count": null,
   "id": "union-article",
   "metadata": {},
   "outputs": [],
   "source": []
  }
 ],
 "metadata": {
  "kernelspec": {
   "display_name": "Python 3",
   "language": "python",
   "name": "python3"
  },
  "language_info": {
   "codemirror_mode": {
    "name": "ipython",
    "version": 3
   },
   "file_extension": ".py",
   "mimetype": "text/x-python",
   "name": "python",
   "nbconvert_exporter": "python",
   "pygments_lexer": "ipython3",
   "version": "3.7.7"
  }
 },
 "nbformat": 4,
 "nbformat_minor": 5
}
