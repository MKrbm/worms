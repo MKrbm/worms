{
 "cells": [
  {
   "cell_type": "code",
   "execution_count": 209,
   "id": "broadband-deadline",
   "metadata": {},
   "outputs": [
    {
     "name": "stdout",
     "output_type": "stream",
     "text": [
      "[ 0.075+0.j -0.25 +0.j -0.25 -0.j  0.425+0.j]\n"
     ]
    }
   ],
   "source": [
    "import numpy as np\n",
    "X = np.load(\"../array/HP_bond_x.npy\")\n",
    "Y = np.load(\"../array/HP_bond_y.npy\")\n",
    "Z = np.load(\"../array/HP_bond_z.npy\")\n",
    "H = (Z + 0.35*(X+Y))\n",
    "E, V = np.linalg.eig(H)\n",
    "print(E.round(5))"
   ]
  },
  {
   "cell_type": "code",
   "execution_count": 207,
   "id": "mighty-biography",
   "metadata": {},
   "outputs": [
    {
     "name": "stdout",
     "output_type": "stream",
     "text": [
      "[ 0.425  0.075 -0.25  -0.25 ]\n"
     ]
    }
   ],
   "source": [
    "X = np.load(\"../array/H_bond_x.npy\")\n",
    "Y = np.load(\"../array/H_bond_y.npy\")\n",
    "Z = np.load(\"../array/H_bond_z.npy\")\n",
    "H = (Z + 0.35*(X+Y))\n",
    "E, V = np.linalg.eig(H)\n",
    "print(E)a"
   ]
  },
  {
   "cell_type": "code",
   "execution_count": 210,
   "id": "61f9e8d4",
   "metadata": {},
   "outputs": [
    {
     "data": {
      "text/plain": [
       "array([-0.29740283,  0.29740283,  0.29740283, -0.29740283])"
      ]
     },
     "execution_count": 210,
     "metadata": {},
     "output_type": "execute_result"
    }
   ],
   "source": [
    "np.diag(H)"
   ]
  },
  {
   "cell_type": "code",
   "execution_count": 201,
   "id": "3f54fa7b",
   "metadata": {},
   "outputs": [
    {
     "data": {
      "text/plain": [
       "array([[-0.  , -0.  , -0.  , -0.25],\n",
       "       [-0.  , -0.  , -0.25, -0.  ],\n",
       "       [-0.  , -0.25, -0.  , -0.  ],\n",
       "       [-0.25, -0.  , -0.  , -0.  ]])"
      ]
     },
     "execution_count": 201,
     "metadata": {},
     "output_type": "execute_result"
    }
   ],
   "source": [
    "X"
   ]
  },
  {
   "cell_type": "code",
   "execution_count": 188,
   "id": "brutal-tomato",
   "metadata": {},
   "outputs": [
    {
     "data": {
      "text/plain": [
       "array([-0.  +0.j, -0.25+0.j, -0.25-0.j,  0.5 +0.j])"
      ]
     },
     "execution_count": 188,
     "metadata": {},
     "output_type": "execute_result"
    }
   ],
   "source": [
    "E.round(5)"
   ]
  },
  {
   "cell_type": "code",
   "execution_count": 186,
   "id": "institutional-basketball",
   "metadata": {},
   "outputs": [
    {
     "data": {
      "text/plain": [
       "array([-1.  +0.00000000e+00j, -1.25+1.82005481e-16j,\n",
       "       -1.25-1.82005481e-16j, -0.5 +0.00000000e+00j])"
      ]
     },
     "execution_count": 186,
     "metadata": {},
     "output_type": "execute_result"
    }
   ],
   "source": [
    "E - 1"
   ]
  },
  {
   "cell_type": "code",
   "execution_count": null,
   "id": "f5ec5323",
   "metadata": {},
   "outputs": [],
   "source": []
  },
  {
   "cell_type": "code",
   "execution_count": 100,
   "id": "blessed-coordination",
   "metadata": {},
   "outputs": [],
   "source": [
    "import sys\n",
    "sys.path.append('..')\n",
    "from functions import *"
   ]
  },
  {
   "cell_type": "code",
   "execution_count": 101,
   "id": "traditional-report",
   "metadata": {},
   "outputs": [
    {
     "data": {
      "text/plain": [
       "[0, 1, 0, 0]"
      ]
     },
     "execution_count": 101,
     "metadata": {},
     "output_type": "execute_result"
    }
   ],
   "source": [
    "num2state(2, L = 4, nls = 1, rev=True)\n",
    "# state2num(np.array([0,0,0,1]), nls = 1)"
   ]
  },
  {
   "cell_type": "code",
   "execution_count": 15,
   "id": "later-tomorrow",
   "metadata": {},
   "outputs": [
    {
     "name": "stdout",
     "output_type": "stream",
     "text": [
      "Help on CPUDispatcher in module functions:\n",
      "\n",
      "state2num(state, nls=2, rev=False)\n",
      "\n"
     ]
    }
   ],
   "source": [
    "help(state2num)"
   ]
  },
  {
   "cell_type": "code",
   "execution_count": null,
   "id": "union-article",
   "metadata": {},
   "outputs": [],
   "source": []
  }
 ],
 "metadata": {
  "kernelspec": {
   "display_name": "Python 3",
   "language": "python",
   "name": "python3"
  },
  "language_info": {
   "codemirror_mode": {
    "name": "ipython",
    "version": 3
   },
   "file_extension": ".py",
   "mimetype": "text/x-python",
   "name": "python",
   "nbconvert_exporter": "python",
   "pygments_lexer": "ipython3",
   "version": "3.7.7"
  }
 },
 "nbformat": 4,
 "nbformat_minor": 5
}
