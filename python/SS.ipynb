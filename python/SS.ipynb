{
 "cells": [
  {
   "cell_type": "markdown",
   "id": "caring-medicare",
   "metadata": {},
   "source": [
    "$$\n",
    "\\hat{H} = \\sum_{<i,j>} J_1 \\mathbf{S}_i \\cdot\\mathbf{S}_j + \\sum_{<i,j>^{\\prime}} J_2 \\mathbf{S}_i \\cdot\\mathbf{S}_j\n",
    "$$\n",
    "\n",
    "J1 is bond on square lattice Heisenberg, and J2 is cross part."
   ]
  },
  {
   "cell_type": "code",
   "execution_count": 18,
   "id": "polyphonic-identifier",
   "metadata": {},
   "outputs": [],
   "source": [
    "import numpy as np\n",
    "from scipy import sparse\n",
    "from functions import *\n",
    "h1 = np.load(\"array/SS_bond1.npy\")\n",
    "h2 = np.load(\"array/SS_bond2.npy\")\n",
    "h_on = np.load(\"array/SS_onsite.npy\")\n",
    "h1 = sparse.csr_matrix(h1)\n",
    "h2 = sparse.csr_matrix(h2)\n",
    "h_on = sparse.csr_matrix(h_on)\n",
    "J1, J2 = (1,1)"
   ]
  },
  {
   "cell_type": "code",
   "execution_count": 19,
   "id": "engaging-hollow",
   "metadata": {},
   "outputs": [
    {
     "name": "stdout",
     "output_type": "stream",
     "text": [
      "[0, 0] [0, 0] \t 0.375\n",
      "[0, 1] [0, 1] \t 0.125\n",
      "[0, 2] [0, 2] \t 0.125\n",
      "[0, 3] [0, 3] \t 0.125\n",
      "[1, 0] [1, 0] \t 0.125\n",
      "[1, 2] [1, 0] \t -0.500\n",
      "[2, 1] [1, 0] \t -0.500\n",
      "[1, 1] [1, 1] \t -0.625\n",
      "[1, 0] [1, 2] \t -0.500\n",
      "[1, 2] [1, 2] \t -0.125\n",
      "[2, 1] [1, 2] \t 0.500\n",
      "[1, 3] [1, 3] \t 0.375\n",
      "[2, 0] [1, 3] \t 0.500\n",
      "[2, 2] [1, 3] \t 0.500\n",
      "[1, 3] [2, 0] \t 0.500\n",
      "[2, 0] [2, 0] \t 0.125\n",
      "[3, 1] [2, 0] \t -0.500\n",
      "[1, 0] [2, 1] \t -0.500\n",
      "[1, 2] [2, 1] \t 0.500\n",
      "[2, 1] [2, 1] \t -0.125\n",
      "[1, 3] [2, 2] \t 0.500\n",
      "[2, 2] [2, 2] \t -0.125\n",
      "[3, 1] [2, 2] \t 0.500\n",
      "[2, 3] [2, 3] \t -0.125\n",
      "[3, 0] [2, 3] \t 0.500\n",
      "[3, 2] [2, 3] \t 0.500\n",
      "[2, 3] [3, 0] \t 0.500\n",
      "[3, 0] [3, 0] \t 0.125\n",
      "[3, 2] [3, 0] \t 0.500\n",
      "[2, 0] [3, 1] \t -0.500\n",
      "[2, 2] [3, 1] \t 0.500\n",
      "[3, 1] [3, 1] \t 0.375\n",
      "[2, 3] [3, 2] \t 0.500\n",
      "[3, 0] [3, 2] \t 0.500\n",
      "[3, 2] [3, 2] \t -0.125\n",
      "[3, 3] [3, 3] \t -0.625\n"
     ]
    }
   ],
   "source": [
    "index = sparse.find(J1*h1 + J2*h_on)\n",
    "for i,j, ele in zip(index[0], index[1], index[2]):\n",
    "    print(num2state(i, 2), num2state(j, 2), \"\\t {:.3f}\".format(ele))"
   ]
  },
  {
   "cell_type": "code",
   "execution_count": null,
   "id": "arabic-sensitivity",
   "metadata": {},
   "outputs": [],
   "source": []
  },
  {
   "cell_type": "code",
   "execution_count": null,
   "id": "neither-arrival",
   "metadata": {},
   "outputs": [],
   "source": []
  }
 ],
 "metadata": {
  "kernelspec": {
   "display_name": "Python 3",
   "language": "python",
   "name": "python3"
  },
  "language_info": {
   "codemirror_mode": {
    "name": "ipython",
    "version": 3
   },
   "file_extension": ".py",
   "mimetype": "text/x-python",
   "name": "python",
   "nbconvert_exporter": "python",
   "pygments_lexer": "ipython3",
   "version": "3.7.9"
  }
 },
 "nbformat": 4,
 "nbformat_minor": 5
}
