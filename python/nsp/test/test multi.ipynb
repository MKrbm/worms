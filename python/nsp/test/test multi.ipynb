{
 "cells": [
  {
   "cell_type": "code",
   "execution_count": 1,
   "id": "411d05a2",
   "metadata": {},
   "outputs": [],
   "source": [
    "import numpy as np\n",
    "from header import *\n",
    "from nsp.utils.base_conv import *\n",
    "import argparse\n",
    "import sys\n",
    "sys.path.append('../nsp')\n",
    "from nsp.utils.func import *\n",
    "\n",
    "\n",
    "Sz = np.zeros([2,2])\n",
    "Sz[0,0] = 1/2\n",
    "Sz[1,1] = -1/2\n",
    "Sx = np.zeros([2,2])\n",
    "Sx[1,0] = 1/2\n",
    "Sx[0,1] = 1/2\n",
    "Sy = np.zeros([2,2], dtype=np.complex64)\n",
    "Sy[1,0] = 1j/2\n",
    "Sy[0,1] = -1j/2\n",
    "\n",
    "\n",
    "SzSz = np.kron(Sz,Sz).real.astype(np.float64)\n",
    "SxSx = np.kron(Sx,Sx).real.astype(np.float64)\n",
    "SySy = np.kron(Sy,Sy).real.astype(np.float64)\n",
    "\n",
    "lh = SzSz + SxSx + SySy"
   ]
  },
  {
   "cell_type": "code",
   "execution_count": 2,
   "id": "10cd8e1a",
   "metadata": {},
   "outputs": [],
   "source": [
    "N = 2\n",
    "X = np.round(np.random.randn(N**3, N**3), 2)\n",
    "X = X.T + X\n",
    "lh = X\n",
    "lh_a = -np.abs(X)"
   ]
  },
  {
   "cell_type": "code",
   "execution_count": 27,
   "id": "52bffd7d",
   "metadata": {},
   "outputs": [
    {
     "data": {
      "text/plain": [
       "array([[-1.94, -0.19, -0.19, -1.93, -0.7 , -1.25, -0.04, -0.89],\n",
       "       [-0.19, -1.78, -0.77, -0.85, -0.34, -0.77, -0.62, -1.47],\n",
       "       [-0.19, -0.77, -3.88, -0.87, -2.88, -0.3 , -0.34, -0.47],\n",
       "       [-1.93, -0.85, -0.87, -0.98, -0.91, -0.09, -0.95, -0.93],\n",
       "       [-0.7 , -0.34, -2.88, -0.91, -0.98, -2.11, -0.3 , -0.85],\n",
       "       [-1.25, -0.77, -0.3 , -0.09, -2.11, -0.6 , -2.68, -0.03],\n",
       "       [-0.04, -0.62, -0.34, -0.95, -0.3 , -2.68, -0.18, -2.76],\n",
       "       [-0.89, -1.47, -0.47, -0.93, -0.85, -0.03, -2.76, -1.34]])"
      ]
     },
     "execution_count": 27,
     "metadata": {},
     "output_type": "execute_result"
    }
   ],
   "source": [
    "lh_a"
   ]
  },
  {
   "cell_type": "code",
   "execution_count": 38,
   "id": "85e18007",
   "metadata": {},
   "outputs": [],
   "source": [
    "XX = lh_a\n",
    "XX = XX.reshape((N, N, N, N, N, N,), order=\"f\").reshape(lh_a.shape)\n",
    "np.save(\"/home/user/project/python/array/3site_test/test1/0.npy\", -XX)\n"
   ]
  },
  {
   "cell_type": "code",
   "execution_count": 39,
   "id": "123cf867",
   "metadata": {},
   "outputs": [
    {
     "name": "stdout",
     "output_type": "stream",
     "text": [
      "1D chain lattice\n"
     ]
    }
   ],
   "source": [
    "print(\"1D chain lattice\")\n",
    "L = 4\n",
    "bonds = [[i, (i+1)%L, (i+2)%L] for i in range(L)]\n",
    "H = sum_ham(XX, bonds, L, 2)"
   ]
  },
  {
   "cell_type": "code",
   "execution_count": 40,
   "id": "cc8f3081",
   "metadata": {},
   "outputs": [
    {
     "data": {
      "text/plain": [
       "[[0, 1, 2], [1, 2, 3], [2, 3, 0], [3, 0, 1]]"
      ]
     },
     "execution_count": 40,
     "metadata": {},
     "output_type": "execute_result"
    }
   ],
   "source": [
    "bonds"
   ]
  },
  {
   "cell_type": "code",
   "execution_count": 30,
   "id": "675f77db",
   "metadata": {},
   "outputs": [
    {
     "name": "stdout",
     "output_type": "stream",
     "text": [
      "E[H] = -32.40994299401235\n"
     ]
    }
   ],
   "source": [
    "T = 1\n",
    "beta = 1/T\n",
    "E = np.linalg.eigvalsh(H)\n",
    "Z = np.exp(-beta*E)\n",
    "\n",
    "print(f\"E[H] = {(E * Z).sum() / Z.sum()}\")\n"
   ]
  },
  {
   "cell_type": "code",
   "execution_count": 31,
   "id": "ca8badc7",
   "metadata": {},
   "outputs": [
    {
     "data": {
      "text/plain": [
       "array([-32.40994324, -14.12152158, -11.59293542, -10.58950342,\n",
       "       -10.14333143, -10.14333143,  -5.48271413,  -5.48271413,\n",
       "        -5.17755242,  -2.83319574,  -0.06328009,   1.89399932,\n",
       "         2.60604555,   2.60604555,   3.34071801,   4.15321459])"
      ]
     },
     "execution_count": 31,
     "metadata": {},
     "output_type": "execute_result"
    }
   ],
   "source": [
    "E"
   ]
  },
  {
   "cell_type": "code",
   "execution_count": 6,
   "id": "3fa6df8c",
   "metadata": {},
   "outputs": [
    {
     "data": {
      "text/plain": [
       "array([-36.851606  , -15.01359242, -15.01032003, -13.14110443,\n",
       "       -13.14110443, -11.36205013, -10.31243638,  -9.52554365,\n",
       "        -9.10286337,  -9.10286337,  -6.53280477,  -6.53280477,\n",
       "        -6.11339439,  -5.10572339,  -3.74027113,  -1.29899846])"
      ]
     },
     "execution_count": 6,
     "metadata": {},
     "output_type": "execute_result"
    }
   ],
   "source": [
    "np.linalg.eigvalsh(H)"
   ]
  },
  {
   "cell_type": "code",
   "execution_count": 3,
   "id": "739c486e",
   "metadata": {},
   "outputs": [],
   "source": [
    "LH = np.load(\"/home/user/project/python/array/majumdar_ghosh/3site/0.npy\")"
   ]
  },
  {
   "cell_type": "code",
   "execution_count": 6,
   "id": "8cfba1b9",
   "metadata": {},
   "outputs": [
    {
     "name": "stdout",
     "output_type": "stream",
     "text": [
      "max_eig :  -2.250000000000005\n"
     ]
    }
   ],
   "source": [
    "L = 6\n",
    "bonds = [[i, (i+1)%L, (i+2)%L] for i in range(L)]\n",
    "H = sum_ham(-LH, bonds, L, 2)\n",
    "print(\"max_eig : \", np.linalg.eigvalsh(H)[0])"
   ]
  },
  {
   "cell_type": "code",
   "execution_count": 7,
   "id": "0020a278",
   "metadata": {},
   "outputs": [
    {
     "name": "stdout",
     "output_type": "stream",
     "text": [
      "E[H] = -1.1478481848393944\n"
     ]
    }
   ],
   "source": [
    "T = 1\n",
    "beta = 1/T\n",
    "E = np.linalg.eigvalsh(H)\n",
    "Z = np.exp(-beta*E)\n",
    "\n",
    "print(f\"E[H] = {(E * Z).sum() / Z.sum()}\")"
   ]
  },
  {
   "cell_type": "code",
   "execution_count": null,
   "id": "ba474e89",
   "metadata": {},
   "outputs": [],
   "source": []
  }
 ],
 "metadata": {
  "kernelspec": {
   "display_name": "Python 3 (ipykernel)",
   "language": "python",
   "name": "python3"
  },
  "language_info": {
   "codemirror_mode": {
    "name": "ipython",
    "version": 3
   },
   "file_extension": ".py",
   "mimetype": "text/x-python",
   "name": "python",
   "nbconvert_exporter": "python",
   "pygments_lexer": "ipython3",
   "version": "3.9.13"
  }
 },
 "nbformat": 4,
 "nbformat_minor": 5
}
