{
 "cells": [
  {
   "cell_type": "code",
   "execution_count": 2,
   "id": "411d05a2",
   "metadata": {},
   "outputs": [],
   "source": [
    "import numpy as np\n",
    "from header import *\n",
    "from nsp.utils.base_conv import *\n",
    "import argparse\n",
    "import sys\n",
    "sys.path.append('../nsp')\n",
    "from nsp.utils.func import *\n",
    "\n",
    "\n",
    "Sz = np.zeros([2,2])\n",
    "Sz[0,0] = 1/2\n",
    "Sz[1,1] = -1/2\n",
    "Sx = np.zeros([2,2])\n",
    "Sx[1,0] = 1/2\n",
    "Sx[0,1] = 1/2\n",
    "Sy = np.zeros([2,2], dtype=np.complex64)\n",
    "Sy[1,0] = 1j/2\n",
    "Sy[0,1] = -1j/2\n",
    "\n",
    "\n",
    "SzSz = np.kron(Sz,Sz).real.astype(np.float64)\n",
    "SxSx = np.kron(Sx,Sx).real.astype(np.float64)\n",
    "SySy = np.kron(Sy,Sy).real.astype(np.float64)\n",
    "\n",
    "lh = SzSz + SxSx + SySy"
   ]
  },
  {
   "cell_type": "code",
   "execution_count": 32,
   "id": "10cd8e1a",
   "metadata": {},
   "outputs": [],
   "source": [
    "N = 2\n",
    "X = np.random.randn(N**3, N**3)\n",
    "X = X.T + X\n",
    "lh = X\n",
    "lh_a = -np.abs(X)"
   ]
  },
  {
   "cell_type": "code",
   "execution_count": 33,
   "id": "85e18007",
   "metadata": {},
   "outputs": [],
   "source": [
    "np.save(\"/home/user/project/python/array/3site_test/test1/0.npy\", -lh_a)"
   ]
  },
  {
   "cell_type": "code",
   "execution_count": 39,
   "id": "123cf867",
   "metadata": {},
   "outputs": [
    {
     "name": "stdout",
     "output_type": "stream",
     "text": [
      "1D chain lattice\n"
     ]
    }
   ],
   "source": [
    "print(\"1D chain lattice\")\n",
    "L = 4\n",
    "bonds = [[i, (i+1)%L, (i+2)%L] for i in range(L)]\n",
    "H = sum_ham(lh_a, bonds, L, 2)"
   ]
  },
  {
   "cell_type": "code",
   "execution_count": 37,
   "id": "675f77db",
   "metadata": {},
   "outputs": [
    {
     "name": "stdout",
     "output_type": "stream",
     "text": [
      "E[H] = -48.94565064530723\n"
     ]
    }
   ],
   "source": [
    "T = 1\n",
    "beta = 1/T\n",
    "E = np.linalg.eigvalsh(H)\n",
    "Z = np.exp(-beta*E)\n",
    "\n",
    "print(f\"E[H] = {(E * Z).sum() / Z.sum()}\")\n"
   ]
  },
  {
   "cell_type": "code",
   "execution_count": 40,
   "id": "3fa6df8c",
   "metadata": {},
   "outputs": [
    {
     "data": {
      "text/plain": [
       "array([-48.94565065, -16.53856123, -15.08958262, -15.08958262,\n",
       "        -9.69963913,  -7.51184732,  -6.03013285,  -6.01810643,\n",
       "        -2.11839034,  -2.11839034,  -1.24317174,   1.28662934,\n",
       "         2.71172822,   2.75018138,   2.75018138,   5.54092823])"
      ]
     },
     "execution_count": 40,
     "metadata": {},
     "output_type": "execute_result"
    }
   ],
   "source": [
    "np.linalg.eigvalsh(H)"
   ]
  },
  {
   "cell_type": "code",
   "execution_count": 53,
   "id": "739c486e",
   "metadata": {},
   "outputs": [],
   "source": [
    "LH = np.load(\"/home/user/project/python/array/majumdar_ghosh/3site/0.npy\")"
   ]
  },
  {
   "cell_type": "code",
   "execution_count": 54,
   "id": "8cfba1b9",
   "metadata": {},
   "outputs": [
    {
     "name": "stdout",
     "output_type": "stream",
     "text": [
      "max_eig :  -2.250000000000005\n"
     ]
    }
   ],
   "source": [
    "L = 6\n",
    "bonds = [[i, (i+1)%L, (i+2)%L] for i in range(L)]\n",
    "H = sum_ham(-LH, bonds, L, 2)\n",
    "print(\"max_eig : \", np.linalg.eigvalsh(H)[0])"
   ]
  },
  {
   "cell_type": "code",
   "execution_count": 55,
   "id": "0020a278",
   "metadata": {},
   "outputs": [
    {
     "data": {
      "text/plain": [
       "array([[-0.375,  0.   ,  0.   ,  0.   ,  0.   ,  0.   ,  0.   ,  0.   ],\n",
       "       [ 0.   ,  0.125, -0.25 ,  0.   , -0.25 ,  0.   ,  0.   ,  0.   ],\n",
       "       [ 0.   , -0.25 ,  0.125,  0.   , -0.25 ,  0.   ,  0.   ,  0.   ],\n",
       "       [ 0.   ,  0.   ,  0.   ,  0.125,  0.   , -0.25 , -0.25 ,  0.   ],\n",
       "       [ 0.   , -0.25 , -0.25 ,  0.   ,  0.125,  0.   ,  0.   ,  0.   ],\n",
       "       [ 0.   ,  0.   ,  0.   , -0.25 ,  0.   ,  0.125, -0.25 ,  0.   ],\n",
       "       [ 0.   ,  0.   ,  0.   , -0.25 ,  0.   , -0.25 ,  0.125,  0.   ],\n",
       "       [ 0.   ,  0.   ,  0.   ,  0.   ,  0.   ,  0.   ,  0.   , -0.375]])"
      ]
     },
     "execution_count": 55,
     "metadata": {},
     "output_type": "execute_result"
    }
   ],
   "source": [
    "LH"
   ]
  }
 ],
 "metadata": {
  "kernelspec": {
   "display_name": "Python 3 (ipykernel)",
   "language": "python",
   "name": "python3"
  },
  "language_info": {
   "codemirror_mode": {
    "name": "ipython",
    "version": 3
   },
   "file_extension": ".py",
   "mimetype": "text/x-python",
   "name": "python",
   "nbconvert_exporter": "python",
   "pygments_lexer": "ipython3",
   "version": "3.9.13"
  }
 },
 "nbformat": 4,
 "nbformat_minor": 5
}
