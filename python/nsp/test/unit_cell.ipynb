{
 "cells": [
  {
   "cell_type": "code",
   "execution_count": 1,
   "id": "73b37020",
   "metadata": {},
   "outputs": [],
   "source": [
    "from header import *\n",
    "\n",
    "D = 10\n",
    "set_seed(3342432)\n",
    "\n",
    "model1 = nsp.model.UnitaryRiemanGenerator(D, dtype=torch.float64)\n",
    "model2 = nsp.model.UnitaryRiemanGenerator(D, dtype=torch.float64)\n",
    "model3 = nsp.model.UnitaryRiemanGenerator(D, dtype=torch.float64)\n",
    "model4 = nsp.model.UnitaryRiemanGenerator(D, dtype=torch.float64)\n",
    "model = copy.deepcopy(model1)\n",
    "\n",
    "X1 = model4.matrix().data.numpy() @ np.diag(np.random.rand(10)) @ model4.matrix().data.numpy().T\n",
    "X2 = model3.matrix().data.numpy() @ np.diag(np.random.rand(10)) @ model3.matrix().data.numpy().T"
   ]
  },
  {
   "cell_type": "code",
   "execution_count": 2,
   "id": "1c7449b9",
   "metadata": {},
   "outputs": [],
   "source": [
    "X = np.kron(X1, X1)"
   ]
  },
  {
   "cell_type": "code",
   "execution_count": 3,
   "id": "8ad8b072",
   "metadata": {},
   "outputs": [
    {
     "name": "stdout",
     "output_type": "stream",
     "text": [
      "number of models is :  2\n"
     ]
    }
   ],
   "source": [
    "\n",
    "\n",
    "# X = np.random.randn(D**2, D**2)\n",
    "# X = (X + X.T)/2\n",
    "# mask = np.abs(X)>=(1/(D))\n",
    "# X[mask] = 0\n",
    "\n",
    "loss = nsp.loss.MES(torch.Tensor(X), [D,D], inv = model1._inv)\n",
    "cg1 = RiemanUnitaryCG(model, loss, lr = 0.1)\n",
    "cg2 = RiemanUnitaryCG2([(model1, model2)], [loss])\n",
    "\n",
    "\n",
    "# S, W = cg._riemannian_grad(model._params)\n",
    "\n",
    "solver1 = UnitarySymmTs(RiemanUnitaryCG, model, loss, lr = 0.1)\n",
    "solver2 = UnitaryLocalTs(cg2)\n",
    "# ret_cg = solver_cg.run(200, disable_message=False)"
   ]
  },
  {
   "cell_type": "code",
   "execution_count": 4,
   "id": "9195db50",
   "metadata": {},
   "outputs": [
    {
     "name": "stdout",
     "output_type": "stream",
     "text": [
      "dtype changes from torch.float32 to torch.float64\n",
      "target loss      : 0.4143866301\n",
      "initial loss     : 0.7652189180\n",
      "\n",
      "================================================== \n",
      "\n"
     ]
    },
    {
     "data": {
      "application/vnd.jupyter.widget-view+json": {
       "model_id": "2e9816487a8b4d53ae6f5996208925a9",
       "version_major": 2,
       "version_minor": 0
      },
      "text/plain": [
       "  0%|          | 0/200 [00:00<?, ?it/s]"
      ]
     },
     "metadata": {},
     "output_type": "display_data"
    }
   ],
   "source": [
    "ret_cg = solver1.run(200, disable_message=False)"
   ]
  },
  {
   "cell_type": "code",
   "execution_count": 5,
   "id": "9faa6584",
   "metadata": {},
   "outputs": [
    {
     "name": "stdout",
     "output_type": "stream",
     "text": [
      "target loss      : 0.4143866301\n",
      "initial loss     : 0.7325662710\n",
      "\n",
      "dtype changes from torch.float64 to torch.float32\n",
      "loss upper bound: 0.7465435266\n",
      "\n",
      "================================================== \n",
      "\n"
     ]
    },
    {
     "data": {
      "application/vnd.jupyter.widget-view+json": {
       "model_id": "3655211e66364c5681a58496a32e6f3e",
       "version_major": 2,
       "version_minor": 0
      },
      "text/plain": [
       "  0%|          | 0/200 [00:00<?, ?it/s]"
      ]
     },
     "metadata": {},
     "output_type": "display_data"
    },
    {
     "name": "stdout",
     "output_type": "stream",
     "text": [
      "dtype changes from torch.float32 to torch.float64\n",
      "No local minimum found\n",
      "No local minimum found\n",
      "No local minimum found\n",
      "No local minimum found\n",
      "No local minimum found\n",
      "No local minimum found\n",
      "No local minimum found\n",
      "No local minimum found\n",
      "No local minimum found\n",
      "No local minimum found\n",
      "No local minimum found\n",
      "No local minimum found\n",
      "No local minimum found\n",
      "No local minimum found\n",
      "No local minimum found\n",
      "No local minimum found\n",
      "No local minimum found\n",
      "No local minimum found\n",
      "No local minimum found\n",
      "No local minimum found\n",
      "No local minimum found\n",
      "No local minimum found\n",
      "No local minimum found\n",
      "No local minimum found\n",
      "No local minimum found\n",
      "No local minimum found\n",
      "No local minimum found\n",
      "No local minimum found\n",
      "No local minimum found\n",
      "No local minimum found\n",
      "No local minimum found\n",
      "No local minimum found\n",
      "No local minimum found\n",
      "No local minimum found\n",
      "No local minimum found\n",
      "No local minimum found\n",
      "No local minimum found\n",
      "No local minimum found\n",
      "No local minimum found\n",
      "No local minimum found\n",
      "No local minimum found\n",
      "No local minimum found\n",
      "No local minimum found\n",
      "No local minimum found\n",
      "No local minimum found\n",
      "No local minimum found\n",
      "No local minimum found\n",
      "No local minimum found\n",
      "No local minimum found\n"
     ]
    },
    {
     "ename": "_LinAlgError",
     "evalue": "torch.linalg.eigvalsh: The algorithm failed to converge because the input matrix is ill-conditioned or has too many repeated eigenvalues (error code: 98).",
     "output_type": "error",
     "traceback": [
      "\u001b[0;31m---------------------------------------------------------------------------\u001b[0m",
      "\u001b[0;31m_LinAlgError\u001b[0m                              Traceback (most recent call last)",
      "Input \u001b[0;32mIn [5]\u001b[0m, in \u001b[0;36m<cell line: 1>\u001b[0;34m()\u001b[0m\n\u001b[0;32m----> 1\u001b[0m ret_cg \u001b[38;5;241m=\u001b[39m \u001b[43msolver2\u001b[49m\u001b[38;5;241;43m.\u001b[39;49m\u001b[43mrun\u001b[49m\u001b[43m(\u001b[49m\u001b[38;5;241;43m200\u001b[39;49m\u001b[43m,\u001b[49m\u001b[43m \u001b[49m\u001b[43mdisable_message\u001b[49m\u001b[38;5;241;43m=\u001b[39;49m\u001b[38;5;28;43;01mFalse\u001b[39;49;00m\u001b[43m)\u001b[49m\n",
      "File \u001b[0;32m~/project/python/nsp/test/../nsp/solver/torch_solver.py:190\u001b[0m, in \u001b[0;36mUnitaryLocalTs.run\u001b[0;34m(self, n_iter, disable_message)\u001b[0m\n\u001b[1;32m    188\u001b[0m optim\u001b[38;5;241m.\u001b[39mzero_grad()\n\u001b[1;32m    189\u001b[0m loss_\u001b[38;5;241m.\u001b[39mbackward()\n\u001b[0;32m--> 190\u001b[0m \u001b[38;5;28;01mif\u001b[39;00m \u001b[43moptim\u001b[49m\u001b[38;5;241;43m.\u001b[39;49m\u001b[43mstep\u001b[49m\u001b[43m(\u001b[49m\u001b[43m)\u001b[49m:\n\u001b[1;32m    191\u001b[0m     \u001b[38;5;28;01mif\u001b[39;00m \u001b[38;5;28mself\u001b[39m\u001b[38;5;241m.\u001b[39mpout:\n\u001b[1;32m    192\u001b[0m         \u001b[38;5;28mprint\u001b[39m(\u001b[38;5;124m\"\u001b[39m\u001b[38;5;124mstack in local minimum --> break loop\u001b[39m\u001b[38;5;124m\"\u001b[39m)\n",
      "File \u001b[0;32m~/project/python/nsp/test/../nsp/optim/rieman_unitary_optim_new.py:145\u001b[0m, in \u001b[0;36mBaseRiemanUnitaryOptimizer_2.step\u001b[0;34m(self, closure)\u001b[0m\n\u001b[1;32m    142\u001b[0m             \u001b[38;5;28;01melse\u001b[39;00m:\n\u001b[1;32m    143\u001b[0m                 momentum_buffer_list\u001b[38;5;241m.\u001b[39mappend(state[\u001b[38;5;124m'\u001b[39m\u001b[38;5;124mmomentum_buffer\u001b[39m\u001b[38;5;124m'\u001b[39m])\n\u001b[0;32m--> 145\u001b[0m \u001b[38;5;28;01mif\u001b[39;00m \u001b[38;5;28;43mself\u001b[39;49m\u001b[38;5;241;43m.\u001b[39;49m\u001b[43mmethod\u001b[49m\u001b[43m(\u001b[49m\n\u001b[1;32m    146\u001b[0m \u001b[43m    \u001b[49m\u001b[43mparams_with_grad\u001b[49m\u001b[43m,\u001b[49m\n\u001b[1;32m    147\u001b[0m \u001b[43m    \u001b[49m\u001b[43mrd_p_n_U_list\u001b[49m\u001b[43m,\u001b[49m\n\u001b[1;32m    148\u001b[0m \u001b[43m    \u001b[49m\u001b[43mmomentum_buffer_list\u001b[49m\u001b[43m,\u001b[49m\n\u001b[1;32m    149\u001b[0m \u001b[43m    \u001b[49m\u001b[43mweight_decay\u001b[49m\u001b[38;5;241;43m=\u001b[39;49m\u001b[38;5;28;43mself\u001b[39;49m\u001b[38;5;241;43m.\u001b[39;49m\u001b[43mweight_decay\u001b[49m\u001b[43m,\u001b[49m\n\u001b[1;32m    150\u001b[0m \u001b[43m    \u001b[49m\u001b[43mmomentum\u001b[49m\u001b[38;5;241;43m=\u001b[39;49m\u001b[38;5;28;43mself\u001b[39;49m\u001b[38;5;241;43m.\u001b[39;49m\u001b[43mmomentum\u001b[49m\u001b[43m,\u001b[49m\n\u001b[1;32m    151\u001b[0m \u001b[43m    \u001b[49m\u001b[43mlr\u001b[49m\u001b[38;5;241;43m=\u001b[39;49m\u001b[38;5;28;43mself\u001b[39;49m\u001b[38;5;241;43m.\u001b[39;49m\u001b[43mlr\u001b[49m\u001b[43m,\u001b[49m\u001b[43m)\u001b[49m \u001b[38;5;129;01mis\u001b[39;00m \u001b[38;5;28;01mTrue\u001b[39;00m:\n\u001b[1;32m    153\u001b[0m     \u001b[38;5;28;01mreturn\u001b[39;00m \u001b[38;5;28;01mTrue\u001b[39;00m\n\u001b[1;32m    155\u001b[0m \u001b[38;5;66;03m# update momentum_buffers in state\u001b[39;00m\n",
      "File \u001b[0;32m~/project/python/nsp/test/../nsp/optim/rieman_unitary_optim_new.py:305\u001b[0m, in \u001b[0;36mRiemanUnitaryCG2.method\u001b[0;34m(self, params, rd_p_n_U_list, momentum_buffer_list, weight_decay, momentum, lr)\u001b[0m\n\u001b[1;32m    299\u001b[0m         \u001b[38;5;66;03m# add old information to buffer\u001b[39;00m\n\u001b[1;32m    300\u001b[0m         momentum_buffer_list[i] \u001b[38;5;241m=\u001b[39m [\n\u001b[1;32m    301\u001b[0m             torch\u001b[38;5;241m.\u001b[39mclone(inv_step_dir\u001b[38;5;241m.\u001b[39mdata), \n\u001b[1;32m    302\u001b[0m             torch\u001b[38;5;241m.\u001b[39mclone(rd_p\u001b[38;5;241m.\u001b[39mdata),\n\u001b[1;32m    303\u001b[0m             rieman_grad_norm\n\u001b[1;32m    304\u001b[0m         ]\n\u001b[0;32m--> 305\u001b[0m lr \u001b[38;5;241m=\u001b[39m \u001b[38;5;28;43mself\u001b[39;49m\u001b[38;5;241;43m.\u001b[39;49m\u001b[43m_golden\u001b[49m\u001b[43m(\u001b[49m\u001b[38;5;28;43mself\u001b[39;49m\u001b[38;5;241;43m.\u001b[39;49m\u001b[43minv_list\u001b[49m\u001b[43m)\u001b[49m\n\u001b[1;32m    307\u001b[0m \u001b[38;5;28;01mfor\u001b[39;00m i, param \u001b[38;5;129;01min\u001b[39;00m \u001b[38;5;28menumerate\u001b[39m(params):\n\u001b[1;32m    308\u001b[0m     inv_step_dir, U \u001b[38;5;241m=\u001b[39m \u001b[38;5;28mself\u001b[39m\u001b[38;5;241m.\u001b[39minv_list[i]\n",
      "File \u001b[0;32m~/project/python/nsp/test/../nsp/optim/rieman_unitary_optim_new.py:243\u001b[0m, in \u001b[0;36mRiemanUnitaryCG2._golden\u001b[0;34m(self, grad_U_list, delta)\u001b[0m\n\u001b[1;32m    241\u001b[0m \u001b[38;5;28;01mif\u001b[39;00m (objective(step) \u001b[38;5;241m<\u001b[39m objective(\u001b[38;5;241m0\u001b[39m)):\n\u001b[1;32m    242\u001b[0m     \u001b[38;5;28;01mwhile\u001b[39;00m \u001b[38;5;28;01mTrue\u001b[39;00m:\n\u001b[0;32m--> 243\u001b[0m         \u001b[38;5;28;01mif\u001b[39;00m \u001b[43mobjective\u001b[49m\u001b[43m(\u001b[49m\u001b[43mstep\u001b[49m\u001b[43m)\u001b[49m \u001b[38;5;241m<\u001b[39m objective(step\u001b[38;5;241m*\u001b[39mt):\n\u001b[1;32m    244\u001b[0m             \u001b[38;5;66;03m# print(objective(0) ,objective(step), objective(step*t))\u001b[39;00m\n\u001b[1;32m    245\u001b[0m             a \u001b[38;5;241m=\u001b[39m optimize\u001b[38;5;241m.\u001b[39mgolden(objective, brack \u001b[38;5;241m=\u001b[39m (\u001b[38;5;241m0\u001b[39m, step, step\u001b[38;5;241m*\u001b[39mt))\n\u001b[1;32m    246\u001b[0m             \u001b[38;5;28;01mreturn\u001b[39;00m a\n",
      "File \u001b[0;32m~/project/python/nsp/test/../nsp/optim/rieman_unitary_optim_new.py:229\u001b[0m, in \u001b[0;36mRiemanUnitaryCG2._golden.<locals>.objective\u001b[0;34m(t)\u001b[0m\n\u001b[1;32m    227\u001b[0m \u001b[38;5;28;01mfor\u001b[39;00m H, U \u001b[38;5;129;01min\u001b[39;00m grad_U_list:\n\u001b[1;32m    228\u001b[0m     U_list\u001b[38;5;241m.\u001b[39mappend(torch\u001b[38;5;241m.\u001b[39mmatrix_exp(\u001b[38;5;241m-\u001b[39mt\u001b[38;5;241m*\u001b[39mH)\u001b[38;5;129m@U\u001b[39m)\n\u001b[0;32m--> 229\u001b[0m \u001b[38;5;28;01mreturn\u001b[39;00m \u001b[38;5;28;43mself\u001b[39;49m\u001b[38;5;241;43m.\u001b[39;49m\u001b[43mloss_val\u001b[49m\u001b[43m(\u001b[49m\u001b[43mU_list\u001b[49m\u001b[43m)\u001b[49m\n",
      "File \u001b[0;32m~/project/python/nsp/test/../nsp/optim/rieman_unitary_optim_new.py:91\u001b[0m, in \u001b[0;36mBaseRiemanUnitaryOptimizer_2.loss_val\u001b[0;34m(self, models)\u001b[0m\n\u001b[1;32m     89\u001b[0m loss_ \u001b[38;5;241m=\u001b[39m torch\u001b[38;5;241m.\u001b[39mzeros(\u001b[38;5;241m1\u001b[39m, dtype\u001b[38;5;241m=\u001b[39mtorch\u001b[38;5;241m.\u001b[39mfloat64)\n\u001b[1;32m     90\u001b[0m \u001b[38;5;28;01mfor\u001b[39;00m acts, loss \u001b[38;5;129;01min\u001b[39;00m \u001b[38;5;28mzip\u001b[39m(\u001b[38;5;28mself\u001b[39m\u001b[38;5;241m.\u001b[39mmodels_act, \u001b[38;5;28mself\u001b[39m\u001b[38;5;241m.\u001b[39mloss_list):\n\u001b[0;32m---> 91\u001b[0m     loss_ \u001b[38;5;241m+\u001b[39m\u001b[38;5;241m=\u001b[39m \u001b[43mloss\u001b[49m\u001b[43m(\u001b[49m\u001b[43m[\u001b[49m\u001b[43mmodels\u001b[49m\u001b[43m[\u001b[49m\u001b[43ma\u001b[49m\u001b[43m]\u001b[49m\u001b[43m \u001b[49m\u001b[38;5;28;43;01mfor\u001b[39;49;00m\u001b[43m \u001b[49m\u001b[43ma\u001b[49m\u001b[43m \u001b[49m\u001b[38;5;129;43;01min\u001b[39;49;00m\u001b[43m \u001b[49m\u001b[43macts\u001b[49m\u001b[43m]\u001b[49m\u001b[43m)\u001b[49m\n\u001b[1;32m     92\u001b[0m \u001b[38;5;28;01mreturn\u001b[39;00m loss_\n",
      "File \u001b[0;32m~/project/python/nsp/test/../nsp/loss/base_class.py:66\u001b[0m, in \u001b[0;36mBaseMatirxLoss.__call__\u001b[0;34m(self, U_list)\u001b[0m\n\u001b[1;32m     64\u001b[0m     U_list \u001b[38;5;241m=\u001b[39m [U_list] \u001b[38;5;241m*\u001b[39m \u001b[38;5;28mself\u001b[39m\u001b[38;5;241m.\u001b[39m_n_unitaries\n\u001b[1;32m     65\u001b[0m \u001b[38;5;28mself\u001b[39m\u001b[38;5;241m.\u001b[39m_matrix_check(U_list)\n\u001b[0;32m---> 66\u001b[0m \u001b[38;5;28;01mreturn\u001b[39;00m \u001b[38;5;28;43mself\u001b[39;49m\u001b[38;5;241;43m.\u001b[39;49m\u001b[43mforward\u001b[49m\u001b[43m(\u001b[49m\u001b[38;5;28;43mself\u001b[39;49m\u001b[38;5;241;43m.\u001b[39;49m\u001b[43m_transform\u001b[49m\u001b[43m(\u001b[49m\u001b[43mU_list\u001b[49m\u001b[43m)\u001b[49m\u001b[43m)\u001b[49m\n",
      "File \u001b[0;32m~/project/python/nsp/test/../nsp/loss/max_eig.py:38\u001b[0m, in \u001b[0;36mMES.forward\u001b[0;34m(self, A)\u001b[0m\n\u001b[1;32m     30\u001b[0m \u001b[38;5;28;01mdef\u001b[39;00m \u001b[38;5;21mforward\u001b[39m(\u001b[38;5;28mself\u001b[39m, A):\n\u001b[1;32m     31\u001b[0m \n\u001b[1;32m     32\u001b[0m     \u001b[38;5;66;03m# print(torch.sum(torch.abs(torch.diag(A)-torch.diag(stoquastic(A)))))\u001b[39;00m\n\u001b[1;32m     33\u001b[0m     \u001b[38;5;66;03m# print(torch.diag(A))\u001b[39;00m\n\u001b[1;32m     34\u001b[0m     \u001b[38;5;66;03m# print(torch.diag(stoquastic(A, p_def = self.p_def)))\u001b[39;00m\n\u001b[1;32m     35\u001b[0m     \u001b[38;5;66;03m# print(\"\\n\\n\")\u001b[39;00m\n\u001b[1;32m     36\u001b[0m     A \u001b[38;5;241m=\u001b[39m stoquastic(A, p_def \u001b[38;5;241m=\u001b[39m \u001b[38;5;28mself\u001b[39m\u001b[38;5;241m.\u001b[39mp_def)\n\u001b[0;32m---> 38\u001b[0m     \u001b[38;5;28;01mreturn\u001b[39;00m \u001b[43meigvalsh_\u001b[49m\u001b[43m(\u001b[49m\u001b[43mA\u001b[49m\u001b[43m)\u001b[49m[\u001b[38;5;241m-\u001b[39m\u001b[38;5;241m1\u001b[39m]\n",
      "File \u001b[0;32m~/project/python/nsp/test/../nsp/utils/func.py:183\u001b[0m, in \u001b[0;36meigvalsh_\u001b[0;34m(A)\u001b[0m\n\u001b[1;32m    181\u001b[0m     \u001b[38;5;28;01mreturn\u001b[39;00m np\u001b[38;5;241m.\u001b[39mlinalg\u001b[38;5;241m.\u001b[39meigvalsh(A)\n\u001b[1;32m    182\u001b[0m \u001b[38;5;28;01melif\u001b[39;00m _type \u001b[38;5;241m==\u001b[39m torch\u001b[38;5;241m.\u001b[39mTensor:\n\u001b[0;32m--> 183\u001b[0m     \u001b[38;5;28;01mreturn\u001b[39;00m \u001b[43mtorch\u001b[49m\u001b[38;5;241;43m.\u001b[39;49m\u001b[43mlinalg\u001b[49m\u001b[38;5;241;43m.\u001b[39;49m\u001b[43meigvalsh\u001b[49m\u001b[43m(\u001b[49m\u001b[43mA\u001b[49m\u001b[43m)\u001b[49m\n\u001b[1;32m    184\u001b[0m \u001b[38;5;28;01melse\u001b[39;00m:\n\u001b[1;32m    185\u001b[0m     \u001b[38;5;28;01mraise\u001b[39;00m \u001b[38;5;167;01mTypeError\u001b[39;00m(\u001b[38;5;124m\"\u001b[39m\u001b[38;5;124mA should be either np_array or tensor\u001b[39m\u001b[38;5;124m\"\u001b[39m)\n",
      "\u001b[0;31m_LinAlgError\u001b[0m: torch.linalg.eigvalsh: The algorithm failed to converge because the input matrix is ill-conditioned or has too many repeated eigenvalues (error code: 98)."
     ]
    }
   ],
   "source": [
    "ret_cg = solver2.run(200, disable_message=False)"
   ]
  },
  {
   "cell_type": "code",
   "execution_count": 40,
   "id": "d8dcc950",
   "metadata": {},
   "outputs": [
    {
     "name": "stdout",
     "output_type": "stream",
     "text": [
      "number of models is :  2\n"
     ]
    },
    {
     "data": {
      "text/plain": [
       "tensor(26.6966)"
      ]
     },
     "execution_count": 40,
     "metadata": {},
     "output_type": "execute_result"
    }
   ],
   "source": [
    "model = copy.deepcopy(model1)\n",
    "model2 = copy.deepcopy(model1)\n",
    "model2.reset_params()\n",
    "cg2 = RiemanUnitaryCG2([(model1, model2), (model2, model1)], [loss, loss])\n",
    "cg = RiemanUnitaryCG(model, loss, lr = 0.1)\n",
    "loss.target"
   ]
  },
  {
   "cell_type": "code",
   "execution_count": 45,
   "id": "ac48c334",
   "metadata": {
    "scrolled": true
   },
   "outputs": [
    {
     "data": {
      "text/plain": [
       "tensor(0., dtype=torch.float64)"
      ]
     },
     "execution_count": 45,
     "metadata": {},
     "output_type": "execute_result"
    }
   ],
   "source": [
    "(model2._params.grad - model1._params.grad).norm()"
   ]
  },
  {
   "cell_type": "code",
   "execution_count": null,
   "id": "a1ab7d1c",
   "metadata": {},
   "outputs": [],
   "source": []
  },
  {
   "cell_type": "code",
   "execution_count": 41,
   "id": "2a309b35",
   "metadata": {},
   "outputs": [
    {
     "name": "stdout",
     "output_type": "stream",
     "text": [
      "69.04452221485724\n",
      "tensor(-0.0948, dtype=torch.float64, grad_fn=<SelectBackward0>)\n"
     ]
    }
   ],
   "source": [
    "loss_ = cg2.loss_val()\n",
    "print(loss_.item()/2)\n",
    "loss_.backward()\n",
    "cg2.step()\n",
    "print(model1._params[0])"
   ]
  },
  {
   "cell_type": "code",
   "execution_count": 19,
   "id": "cea9a014",
   "metadata": {},
   "outputs": [
    {
     "name": "stdout",
     "output_type": "stream",
     "text": [
      "5184.598771197059\n",
      "tensor(-0.1200, dtype=torch.float64, grad_fn=<SelectBackward0>)\n"
     ]
    }
   ],
   "source": [
    "loss_ = loss(model.matrix())\n",
    "print(loss_.item())\n",
    "loss_.backward()\n",
    "cg.step()\n",
    "print(model._params[0])"
   ]
  },
  {
   "cell_type": "code",
   "execution_count": null,
   "id": "410a6902",
   "metadata": {},
   "outputs": [],
   "source": []
  },
  {
   "cell_type": "code",
   "execution_count": 119,
   "id": "cc1b47b8",
   "metadata": {},
   "outputs": [
    {
     "data": {
      "text/plain": [
       "tensor([0.4727, 1.7883, 2.1820, 2.2093, 2.4626, 3.6527, 3.9013, 4.7296, 6.4704],\n",
       "       dtype=torch.float64, grad_fn=<LinalgEighBackward0>)"
      ]
     },
     "execution_count": 119,
     "metadata": {},
     "output_type": "execute_result"
    }
   ],
   "source": [
    "U = torch.kron(model1.matrix(), model3.matrix())\n",
    "torch.linalg.eigvalsh(torch.abs(U.T @ loss.X @ U))"
   ]
  },
  {
   "cell_type": "code",
   "execution_count": 124,
   "id": "afc740a3",
   "metadata": {},
   "outputs": [
    {
     "data": {
      "text/plain": [
       "tensor([6.4704], dtype=torch.float64, grad_fn=<AddBackward0>)"
      ]
     },
     "execution_count": 124,
     "metadata": {},
     "output_type": "execute_result"
    }
   ],
   "source": [
    "cg2.loss_val([model1.matrix(), model3.matrix()])"
   ]
  },
  {
   "cell_type": "code",
   "execution_count": 122,
   "id": "a7509671",
   "metadata": {},
   "outputs": [
    {
     "data": {
      "text/plain": [
       "tensor([[-0.9294, -0.0230,  0.3683],\n",
       "        [-0.3606, -0.1556, -0.9196],\n",
       "        [ 0.0784, -0.9876,  0.1363]], dtype=torch.float64,\n",
       "       grad_fn=<ViewBackward0>)"
      ]
     },
     "execution_count": 122,
     "metadata": {},
     "output_type": "execute_result"
    }
   ],
   "source": [
    "model1.matrix()"
   ]
  },
  {
   "cell_type": "code",
   "execution_count": 118,
   "id": "3236be62",
   "metadata": {},
   "outputs": [
    {
     "data": {
      "text/plain": [
       "[(tensor([[ 0.0000, -0.0925, -8.8539],\n",
       "          [ 0.0925,  0.0000,  9.7535],\n",
       "          [ 8.8539, -9.7535,  0.0000]], dtype=torch.float64),\n",
       "  tensor([[-0.9294, -0.0230,  0.3683],\n",
       "          [-0.3606, -0.1556, -0.9196],\n",
       "          [ 0.0784, -0.9876,  0.1363]], dtype=torch.float64)),\n",
       " (tensor([[  0.0000,   4.0488,  -2.8550],\n",
       "          [ -4.0488,   0.0000,  16.5148],\n",
       "          [  2.8550, -16.5148,   0.0000]], dtype=torch.float64),\n",
       "  tensor([[-0.4595,  0.6831,  0.5677],\n",
       "          [-0.7013, -0.6712,  0.2401],\n",
       "          [-0.5451,  0.2878, -0.7875]], dtype=torch.float64))]"
      ]
     },
     "execution_count": 118,
     "metadata": {},
     "output_type": "execute_result"
    }
   ],
   "source": [
    "cg2.inv_list"
   ]
  },
  {
   "cell_type": "code",
   "execution_count": 6,
   "id": "2e83ffc0",
   "metadata": {},
   "outputs": [],
   "source": [
    "model1.matrix()\n",
    "def objective(t):\n",
    "    U_list = []\n",
    "    for H, U in cg2.inv_list:\n",
    "        U_list.append(torch.matrix_exp(-t*H)@U)\n",
    "    print(U_list)\n",
    "    return cg2.loss_val(U_list)"
   ]
  },
  {
   "cell_type": "code",
   "execution_count": 7,
   "id": "2f01d988",
   "metadata": {},
   "outputs": [
    {
     "name": "stdout",
     "output_type": "stream",
     "text": [
      "[tensor([[-0.2220, -0.7183, -0.6588,  0.0270],\n",
      "        [ 0.0659,  0.5110, -0.6044, -0.6077],\n",
      "        [ 0.9316, -0.0667, -0.2299,  0.2736],\n",
      "        [-0.2803,  0.4673, -0.3846,  0.7451]], dtype=torch.float64)]\n"
     ]
    },
    {
     "data": {
      "text/plain": [
       "tensor([10.9565], dtype=torch.float64)"
      ]
     },
     "execution_count": 7,
     "metadata": {},
     "output_type": "execute_result"
    }
   ],
   "source": [
    "objective(0)"
   ]
  },
  {
   "cell_type": "code",
   "execution_count": 9,
   "id": "53c90fd9",
   "metadata": {},
   "outputs": [
    {
     "ename": "AttributeError",
     "evalue": "'UnitaryRiemanGenerator' object has no attribute 'ndim'",
     "output_type": "error",
     "traceback": [
      "\u001b[0;31m---------------------------------------------------------------------------\u001b[0m",
      "\u001b[0;31mAttributeError\u001b[0m                            Traceback (most recent call last)",
      "Input \u001b[0;32mIn [9]\u001b[0m, in \u001b[0;36m<cell line: 1>\u001b[0;34m()\u001b[0m\n\u001b[0;32m----> 1\u001b[0m \u001b[43mcg2\u001b[49m\u001b[38;5;241;43m.\u001b[39;49m\u001b[43mloss_list\u001b[49m\u001b[43m[\u001b[49m\u001b[38;5;241;43m0\u001b[39;49m\u001b[43m]\u001b[49m\u001b[43m(\u001b[49m\u001b[43m[\u001b[49m\u001b[43mmodel\u001b[49m\u001b[43m,\u001b[49m\u001b[43m \u001b[49m\u001b[43mmodel\u001b[49m\u001b[43m]\u001b[49m\u001b[43m)\u001b[49m\n",
      "File \u001b[0;32m~/project/python/nsp/test/../nsp/loss/base_class.py:65\u001b[0m, in \u001b[0;36mBaseMatirxLoss.__call__\u001b[0;34m(self, U_list)\u001b[0m\n\u001b[1;32m     63\u001b[0m \u001b[38;5;28;01mif\u001b[39;00m \u001b[38;5;129;01mnot\u001b[39;00m \u001b[38;5;28misinstance\u001b[39m(U_list, \u001b[38;5;28mlist\u001b[39m):\n\u001b[1;32m     64\u001b[0m     U_list \u001b[38;5;241m=\u001b[39m [U_list] \u001b[38;5;241m*\u001b[39m \u001b[38;5;28mself\u001b[39m\u001b[38;5;241m.\u001b[39m_n_unitaries\n\u001b[0;32m---> 65\u001b[0m \u001b[38;5;28;43mself\u001b[39;49m\u001b[38;5;241;43m.\u001b[39;49m\u001b[43m_matrix_check\u001b[49m\u001b[43m(\u001b[49m\u001b[43mU_list\u001b[49m\u001b[43m)\u001b[49m\n\u001b[1;32m     66\u001b[0m \u001b[38;5;28;01mreturn\u001b[39;00m \u001b[38;5;28mself\u001b[39m\u001b[38;5;241m.\u001b[39mforward(\u001b[38;5;28mself\u001b[39m\u001b[38;5;241m.\u001b[39m_transform(U_list))\n",
      "File \u001b[0;32m~/project/python/nsp/test/../nsp/loss/base_class.py:129\u001b[0m, in \u001b[0;36mBaseMatirxLoss._matrix_check\u001b[0;34m(self, U)\u001b[0m\n\u001b[1;32m    125\u001b[0m \u001b[38;5;28;01mdef\u001b[39;00m \u001b[38;5;21m_matrix_check\u001b[39m(\u001b[38;5;28mself\u001b[39m, U):\n\u001b[1;32m    126\u001b[0m     \u001b[38;5;66;03m# if len(U) != len(self.act):\u001b[39;00m\n\u001b[1;32m    127\u001b[0m     \u001b[38;5;66;03m#     raise ValueError(\"U and act are inconsistent\")\u001b[39;00m\n\u001b[1;32m    128\u001b[0m     \u001b[38;5;28;01mfor\u001b[39;00m u, act \u001b[38;5;129;01min\u001b[39;00m \u001b[38;5;28mzip\u001b[39m(U, \u001b[38;5;28mself\u001b[39m\u001b[38;5;241m.\u001b[39mact):\n\u001b[0;32m--> 129\u001b[0m         \u001b[38;5;28;01mif\u001b[39;00m \u001b[38;5;28mself\u001b[39m\u001b[38;5;241m.\u001b[39m_type \u001b[38;5;241m!=\u001b[39m \u001b[43mtype_check\u001b[49m\u001b[43m(\u001b[49m\u001b[43mu\u001b[49m\u001b[43m)\u001b[49m:\n\u001b[1;32m    130\u001b[0m             \u001b[38;5;66;03m# raise ValueError(\"Type of U and X are required to be same\")\u001b[39;00m\n\u001b[1;32m    131\u001b[0m             \u001b[38;5;28mself\u001b[39m\u001b[38;5;241m.\u001b[39m_type_convert(type_check(u))\n\u001b[1;32m    132\u001b[0m             \u001b[38;5;28mprint\u001b[39m(\u001b[38;5;124m\"\u001b[39m\u001b[38;5;124mtype of loss is converted so taht loss._type == model._type\u001b[39m\u001b[38;5;124m\"\u001b[39m)\n",
      "File \u001b[0;32m~/project/python/nsp/test/../nsp/utils/func.py:83\u001b[0m, in \u001b[0;36mtype_check\u001b[0;34m(X)\u001b[0m\n\u001b[1;32m     82\u001b[0m \u001b[38;5;28;01mdef\u001b[39;00m \u001b[38;5;21mtype_check\u001b[39m(X):\n\u001b[0;32m---> 83\u001b[0m     \u001b[38;5;28;01mif\u001b[39;00m \u001b[38;5;129;01mnot\u001b[39;00m (\u001b[43mX\u001b[49m\u001b[38;5;241;43m.\u001b[39;49m\u001b[43mndim\u001b[49m \u001b[38;5;241m==\u001b[39m \u001b[38;5;241m2\u001b[39m \u001b[38;5;129;01mand\u001b[39;00m X\u001b[38;5;241m.\u001b[39mshape[\u001b[38;5;241m0\u001b[39m]\u001b[38;5;241m==\u001b[39mX\u001b[38;5;241m.\u001b[39mshape[\u001b[38;5;241m1\u001b[39m]):\n\u001b[1;32m     84\u001b[0m         \u001b[38;5;28;01mraise\u001b[39;00m \u001b[38;5;167;01mValueError\u001b[39;00m(\u001b[38;5;124m\"\u001b[39m\u001b[38;5;124mX must be a 2D square matrix\u001b[39m\u001b[38;5;124m\"\u001b[39m)\n\u001b[1;32m     86\u001b[0m     \u001b[38;5;28;01mif\u001b[39;00m \u001b[38;5;28misinstance\u001b[39m(X, np\u001b[38;5;241m.\u001b[39mndarray):\n",
      "File \u001b[0;32m~/.local/lib/python3.9/site-packages/torch/nn/modules/module.py:1185\u001b[0m, in \u001b[0;36mModule.__getattr__\u001b[0;34m(self, name)\u001b[0m\n\u001b[1;32m   1183\u001b[0m     \u001b[38;5;28;01mif\u001b[39;00m name \u001b[38;5;129;01min\u001b[39;00m modules:\n\u001b[1;32m   1184\u001b[0m         \u001b[38;5;28;01mreturn\u001b[39;00m modules[name]\n\u001b[0;32m-> 1185\u001b[0m \u001b[38;5;28;01mraise\u001b[39;00m \u001b[38;5;167;01mAttributeError\u001b[39;00m(\u001b[38;5;124m\"\u001b[39m\u001b[38;5;124m'\u001b[39m\u001b[38;5;132;01m{}\u001b[39;00m\u001b[38;5;124m'\u001b[39m\u001b[38;5;124m object has no attribute \u001b[39m\u001b[38;5;124m'\u001b[39m\u001b[38;5;132;01m{}\u001b[39;00m\u001b[38;5;124m'\u001b[39m\u001b[38;5;124m\"\u001b[39m\u001b[38;5;241m.\u001b[39mformat(\n\u001b[1;32m   1186\u001b[0m     \u001b[38;5;28mtype\u001b[39m(\u001b[38;5;28mself\u001b[39m)\u001b[38;5;241m.\u001b[39m\u001b[38;5;18m__name__\u001b[39m, name))\n",
      "\u001b[0;31mAttributeError\u001b[0m: 'UnitaryRiemanGenerator' object has no attribute 'ndim'"
     ]
    }
   ],
   "source": [
    "cg2.loss_list[0]([model, model])"
   ]
  },
  {
   "cell_type": "code",
   "execution_count": 19,
   "id": "482ca450",
   "metadata": {},
   "outputs": [],
   "source": [
    "for _ in range(10):\n",
    "    loss(model.matrix()).backward()\n",
    "    loss(model2.matrix()).backward()\n",
    "    cg2.step()\n",
    "    cg.step()\n",
    "    cg.zero_grad()\n",
    "    cg2.zero_grad()"
   ]
  },
  {
   "cell_type": "code",
   "execution_count": 20,
   "id": "77b1b54f",
   "metadata": {},
   "outputs": [
    {
     "data": {
      "text/plain": [
       "tensor([[ 0.6798,  0.0555,  0.4857,  0.5467],\n",
       "        [ 0.1244,  0.3583,  0.5885, -0.7140],\n",
       "        [-0.1170, -0.8943,  0.4119, -0.1297],\n",
       "        [-0.7132,  0.2621,  0.4980,  0.4178]], dtype=torch.float64,\n",
       "       grad_fn=<ViewBackward0>)"
      ]
     },
     "execution_count": 20,
     "metadata": {},
     "output_type": "execute_result"
    }
   ],
   "source": [
    "model.matrix()"
   ]
  },
  {
   "cell_type": "code",
   "execution_count": 21,
   "id": "179206a3",
   "metadata": {},
   "outputs": [
    {
     "data": {
      "text/plain": [
       "tensor([[ 0.6798,  0.0555,  0.4857,  0.5467],\n",
       "        [ 0.1244,  0.3583,  0.5885, -0.7140],\n",
       "        [-0.1170, -0.8943,  0.4119, -0.1297],\n",
       "        [-0.7132,  0.2621,  0.4980,  0.4178]], dtype=torch.float64,\n",
       "       grad_fn=<ViewBackward0>)"
      ]
     },
     "execution_count": 21,
     "metadata": {},
     "output_type": "execute_result"
    }
   ],
   "source": [
    "model2.matrix()"
   ]
  },
  {
   "cell_type": "code",
   "execution_count": 15,
   "id": "0315f9fc",
   "metadata": {},
   "outputs": [],
   "source": [
    "lr = slcg._golden(W.data, S.data)"
   ]
  },
  {
   "cell_type": "code",
   "execution_count": 16,
   "id": "c7c8a461",
   "metadata": {},
   "outputs": [
    {
     "data": {
      "text/plain": [
       "1.275625102976006"
      ]
     },
     "execution_count": 16,
     "metadata": {},
     "output_type": "execute_result"
    }
   ],
   "source": [
    "lr"
   ]
  },
  {
   "cell_type": "code",
   "execution_count": 8,
   "id": "d6eca4c7",
   "metadata": {},
   "outputs": [],
   "source": [
    "loss(model.matrix()).backward()"
   ]
  },
  {
   "cell_type": "code",
   "execution_count": 10,
   "id": "e5e877bc",
   "metadata": {},
   "outputs": [
    {
     "data": {
      "text/plain": [
       "tensor([  1.2769, -12.3206,   7.5504,   7.5007,  -7.3384, -47.3078, -43.3932,\n",
       "         28.8005,   1.4467,  27.3550,   8.5543, -16.6534, -12.1922, -75.3265,\n",
       "        -72.0942,  45.8580], dtype=torch.float64)"
      ]
     },
     "execution_count": 10,
     "metadata": {},
     "output_type": "execute_result"
    }
   ],
   "source": [
    "model._params.grad"
   ]
  },
  {
   "cell_type": "code",
   "execution_count": null,
   "id": "305943a3",
   "metadata": {},
   "outputs": [],
   "source": []
  },
  {
   "cell_type": "code",
   "execution_count": 38,
   "id": "f824d824",
   "metadata": {},
   "outputs": [
    {
     "data": {
      "text/plain": [
       "tensor([[ 1.2359, -0.7446,  0.8197,  1.7623],\n",
       "        [-0.4031,  0.7149,  0.1083,  0.1054],\n",
       "        [-0.3327, -0.3558, -0.2180,  0.1962],\n",
       "        [-1.1024, -0.0299,  0.3727, -0.9463]], dtype=torch.float64,\n",
       "       grad_fn=<ViewBackward0>)"
      ]
     },
     "execution_count": 38,
     "metadata": {},
     "output_type": "execute_result"
    }
   ],
   "source": [
    "model.matrix()"
   ]
  },
  {
   "cell_type": "code",
   "execution_count": 25,
   "id": "509c5c05",
   "metadata": {},
   "outputs": [
    {
     "data": {
      "text/plain": [
       "tensor([[ 1.1503e+09,  1.0250e+09],\n",
       "        [-1.2910e+09, -1.1503e+09]], dtype=torch.float64)"
      ]
     },
     "execution_count": 25,
     "metadata": {},
     "output_type": "execute_result"
    }
   ],
   "source": [
    "S"
   ]
  }
 ],
 "metadata": {
  "kernelspec": {
   "display_name": "Python 3 (ipykernel)",
   "language": "python",
   "name": "python3"
  },
  "language_info": {
   "codemirror_mode": {
    "name": "ipython",
    "version": 3
   },
   "file_extension": ".py",
   "mimetype": "text/x-python",
   "name": "python",
   "nbconvert_exporter": "python",
   "pygments_lexer": "ipython3",
   "version": "3.9.13"
  }
 },
 "nbformat": 4,
 "nbformat_minor": 5
}
