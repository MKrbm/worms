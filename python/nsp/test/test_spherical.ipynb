{
 "cells": [
  {
   "cell_type": "code",
   "execution_count": 2,
   "id": "congressional-occasions",
   "metadata": {},
   "outputs": [],
   "source": [
    "import sys\n",
    "sys.path.insert(0, \"../\")\n",
    "from utils import n_sphere\n",
    "import torch\n",
    "import numpy as np\n",
    "from importlib import reload\n",
    "import math"
   ]
  },
  {
   "cell_type": "code",
   "execution_count": 3,
   "id": "destroyed-services",
   "metadata": {},
   "outputs": [],
   "source": [
    "diff = []\n",
    "for i in range(1000):\n",
    "    X = 2*np.random.rand(10)-1\n",
    "    c_x = n_sphere.convert_spherical(X, digits=6)\n",
    "    diff.append(abs(np.linalg.norm(n_sphere.convert_rectangular(c_x)-X)))"
   ]
  },
  {
   "cell_type": "code",
   "execution_count": 7,
   "id": "furnished-occasions",
   "metadata": {},
   "outputs": [
    {
     "data": {
      "text/plain": [
       "tensor([0.2871, 0.0640])"
      ]
     },
     "execution_count": 7,
     "metadata": {},
     "output_type": "execute_result"
    }
   ],
   "source": [
    "torch.rand(4)[1:-1]"
   ]
  },
  {
   "cell_type": "code",
   "execution_count": null,
   "id": "rough-suffering",
   "metadata": {},
   "outputs": [],
   "source": []
  }
 ],
 "metadata": {
  "kernelspec": {
   "display_name": "Python 3 (ipykernel)",
   "language": "python",
   "name": "python3"
  },
  "language_info": {
   "codemirror_mode": {
    "name": "ipython",
    "version": 3
   },
   "file_extension": ".py",
   "mimetype": "text/x-python",
   "name": "python",
   "nbconvert_exporter": "python",
   "pygments_lexer": "ipython3",
   "version": "3.9.13"
  }
 },
 "nbformat": 4,
 "nbformat_minor": 5
}
