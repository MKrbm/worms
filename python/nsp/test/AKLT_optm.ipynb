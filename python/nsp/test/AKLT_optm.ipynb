{
 "cells": [
  {
   "cell_type": "code",
   "execution_count": 85,
   "id": "4bfbd3c6",
   "metadata": {},
   "outputs": [],
   "source": [
    "import numpy as np\n",
    "from header import *\n",
    "from nsp.utils.base_conv import *\n",
    "import argparse\n",
    "import sys\n",
    "sys.path.append('../nsp')\n",
    "from nsp.utils.func import *"
   ]
  },
  {
   "cell_type": "code",
   "execution_count": 91,
   "id": "8fd29ede",
   "metadata": {},
   "outputs": [
    {
     "name": "stderr",
     "output_type": "stream",
     "text": [
      "/tmp/ipykernel_13678/1961612155.py:13: ComplexWarning: Casting complex values to real discards the imaginary part\n",
      "  SySy = np.kron(Sy,Sy).astype(np.float64)\n"
     ]
    }
   ],
   "source": [
    "Sz = np.zeros([3,3])\n",
    "Sz[0,0] = 1\n",
    "Sz[2,2] = -1\n",
    "Sx = np.zeros([3, 3])\n",
    "Sx[1,0] = Sx[0,1] = Sx[2,1] = Sx[1,2] = 1/np.sqrt(2)\n",
    "Sy = np.zeros([3, 3], dtype=np.complex64)\n",
    "Sy[1,0] = Sy[2,1] = 1j/np.sqrt(2)\n",
    "Sy[0,1] = Sy[1,2] = -1j/np.sqrt(2)\n",
    "\n",
    "\n",
    "SzSz = np.kron(Sz,Sz).astype(np.float64)\n",
    "SxSx = np.kron(Sx,Sx).astype(np.float64)\n",
    "SySy = np.kron(Sy,Sy).astype(np.float64)\n",
    "\n",
    "lh = SzSz + SxSx + SySy\n",
    "J = [1, 1/3]\n",
    "lh = lh + lh@lh*J[1]\n",
    "lh = -lh"
   ]
  },
  {
   "cell_type": "code",
   "execution_count": 93,
   "id": "fdd271af",
   "metadata": {
    "scrolled": true
   },
   "outputs": [
    {
     "name": "stdout",
     "output_type": "stream",
     "text": [
      "target loss      : 2.0000000530\n",
      "initial loss     : 2.8322625136\n",
      "loss upper bound : 2.4880338969\n",
      "\n",
      "================================================== \n",
      "\n"
     ]
    },
    {
     "data": {
      "application/vnd.jupyter.widget-view+json": {
       "model_id": "420cf7b81dd147758f3577464208980c",
       "version_major": 2,
       "version_minor": 0
      },
      "text/plain": [
       "  0%|          | 0/3000 [00:00<?, ?it/s]"
      ]
     },
     "metadata": {},
     "output_type": "display_data"
    },
    {
     "name": "stderr",
     "output_type": "stream",
     "text": [
      "/home/user/project/python/nsp/test/../nsp/optim/rieman_unitary_optim.py:229: UserWarning: An output with one or more elements was resized since it had shape [1, 3, 3], which does not match the required output shape [1, 1, 3, 3]. This behavior is deprecated, and in a future PyTorch release outputs will not be resized unless they have zero elements. You can explicitly reuse an out tensor t by resizing it, inplace, to zero elements with t.resize_(0). (Triggered internally at  ../aten/src/ATen/native/Resize.cpp:17.)\n",
      "  return loss(torch.matrix_exp(-t*H)@U).item()\n",
      "/home/user/.local/lib/python3.9/site-packages/torch/autograd/__init__.py:276: UserWarning: An output with one or more elements was resized since it had shape [1, 6, 6], which does not match the required output shape [1, 1, 6, 6]. This behavior is deprecated, and in a future PyTorch release outputs will not be resized unless they have zero elements. You can explicitly reuse an out tensor t by resizing it, inplace, to zero elements with t.resize_(0). (Triggered internally at  ../aten/src/ATen/native/Resize.cpp:17.)\n",
      "  return Variable._execution_engine.run_backward(  # Calls into the C++ engine to run the backward pass\n",
      "/home/user/project/python/nsp/test/../nsp/optim/rieman_unitary_optim.py:294: UserWarning: An output with one or more elements was resized since it had shape [1, 3, 3], which does not match the required output shape [1, 1, 3, 3]. This behavior is deprecated, and in a future PyTorch release outputs will not be resized unless they have zero elements. You can explicitly reuse an out tensor t by resizing it, inplace, to zero elements with t.resize_(0). (Triggered internally at  ../aten/src/ATen/native/Resize.cpp:17.)\n",
      "  param.data = (torch.matrix_exp(inv_step_dir * -lr) @ U).view(-1)\n"
     ]
    },
    {
     "name": "stdout",
     "output_type": "stream",
     "text": [
      "No local minimum found\n",
      "8.018593175384687e-10 6.208908170587945e-23 2.0000000529811763 2.000000052981176\n",
      "No local minimum found\n",
      "2.435772181012275e-10 1.5661182203516313e-22 2.000000052981176 2.000000052981176\n",
      "No local minimum found\n",
      "1.544770754683377e-10 6.394700849572665e-23 2.000000052981176 2.0000000529811754\n",
      "stack in local minimum --> break loop\n",
      "res = 2.000000052981175 / seed = 3340220747\n",
      "loss(mes) : 2.000000052981175\n"
     ]
    }
   ],
   "source": [
    "from random import randint\n",
    "\n",
    "D = 3\n",
    "seed = randint(0, 2<<32 - 1)\n",
    "loss_mes = nsp.loss.MES(lh, [D, D], pout = False)\n",
    "model = nsp.model.UnitaryRiemanGenerator(D, dtype=torch.float64)\n",
    "solver = UnitaryTransTs(RiemanUnitaryCG,model, loss_mes, lr = 0.005, momentum=0.1, af = False)\n",
    "ret = solver.run(3000, False)\n",
    "# if loss_name == \"mes\":\n",
    "#     solver = UnitaryTransTs(RiemanUnitaryCG, model, loss_mes, lr = 0.005, momentum=0.1, af = False)\n",
    "#     ret = solver.run(1000, False)\n",
    "print(f\"res = {ret.fun} / seed = {seed}\")\n",
    "best_model = ret.model\n",
    "best_loss = loss_mes([ret.model.matrix()]*loss_mes._n_unitaries).detach().numpy()\n",
    "print(f\"loss(mes) : {best_loss}\")"
   ]
  },
  {
   "cell_type": "code",
   "execution_count": 56,
   "id": "69aa1c33",
   "metadata": {},
   "outputs": [],
   "source": [
    "LH = loss_mes._transform([best_model.matrix()]*loss_mes._n_unitaries, original = True).detach().numpy()"
   ]
  },
  {
   "cell_type": "code",
   "execution_count": 87,
   "id": "00036304",
   "metadata": {},
   "outputs": [],
   "source": [
    "L = 4\n",
    "H = sum_ham(lh, [[i, (i+1)%L] for i in range(L)], L, 3)"
   ]
  },
  {
   "cell_type": "code",
   "execution_count": 88,
   "id": "9911508f",
   "metadata": {},
   "outputs": [
    {
     "data": {
      "text/plain": [
       "array([-2.66666667, -2.00000005, -2.00000005, -1.99999996, -1.19419191,\n",
       "       -1.19419191, -1.19419191, -1.19419191, -1.1941919 , -1.1941919 ,\n",
       "       -1.0971676 , -1.0971676 , -1.09716753, -1.09716753, -1.09716751,\n",
       "        0.66666659,  0.66666659,  0.6666666 ,  0.66666669,  1.33333313,\n",
       "        1.33333313,  1.33333317,  1.33333317,  1.33333317,  1.33333317,\n",
       "        1.33333317,  1.33333317,  1.33333328,  1.33333328,  1.33333331,\n",
       "        1.33333331,  1.33333331,  1.33333331,  1.33333333,  1.33333333,\n",
       "        1.33333333,  1.33333335,  1.33333335,  1.33333339,  1.33333339,\n",
       "        1.3333334 ,  1.86085844,  1.86085844,  1.86085851,  1.86085851,\n",
       "        1.86085851,  1.86085851,  1.99999991,  2.43050073,  2.43050073,\n",
       "        2.43050079,  2.43050079,  2.43050082,  2.66666657,  2.66666657,\n",
       "        2.66666659,  2.66666659,  2.66666659,  3.33333313,  3.33333313,\n",
       "        3.33333313,  3.33333313,  3.33333324,  3.33333324,  3.33333324,\n",
       "        3.33333324,  3.3333333 ,  3.3333333 ,  3.3333333 ,  3.3333333 ,\n",
       "        3.33333333,  3.33333333,  5.33333294,  5.33333294,  5.33333313,\n",
       "        5.33333313,  5.33333328,  5.33333328,  5.33333336,  5.33333336,\n",
       "        5.33333339])"
      ]
     },
     "execution_count": 88,
     "metadata": {},
     "output_type": "execute_result"
    }
   ],
   "source": [
    "np.linalg.eigvalsh(H)"
   ]
  },
  {
   "cell_type": "code",
   "execution_count": 92,
   "id": "d53a2742",
   "metadata": {},
   "outputs": [
    {
     "data": {
      "text/plain": [
       "array([-1.33333337, -1.33333333, -1.33333333, -1.33333323, -1.33333323,\n",
       "        0.66666665,  0.66666667,  0.66666667,  0.66666668])"
      ]
     },
     "execution_count": 92,
     "metadata": {},
     "output_type": "execute_result"
    }
   ],
   "source": [
    "np.linalg.eigvalsh(lh)"
   ]
  },
  {
   "cell_type": "code",
   "execution_count": null,
   "id": "b4cecb1a",
   "metadata": {},
   "outputs": [],
   "source": []
  }
 ],
 "metadata": {
  "kernelspec": {
   "display_name": "Python 3 (ipykernel)",
   "language": "python",
   "name": "python3"
  },
  "language_info": {
   "codemirror_mode": {
    "name": "ipython",
    "version": 3
   },
   "file_extension": ".py",
   "mimetype": "text/x-python",
   "name": "python",
   "nbconvert_exporter": "python",
   "pygments_lexer": "ipython3",
   "version": "3.9.13"
  }
 },
 "nbformat": 4,
 "nbformat_minor": 5
}
