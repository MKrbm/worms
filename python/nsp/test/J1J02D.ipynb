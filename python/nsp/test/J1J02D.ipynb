{
 "cells": [
  {
   "cell_type": "code",
   "execution_count": 1,
   "id": "3f6f3110",
   "metadata": {},
   "outputs": [],
   "source": [
    "import quspin"
   ]
  },
  {
   "cell_type": "code",
   "execution_count": 3,
   "id": "a889e4c1",
   "metadata": {},
   "outputs": [
    {
     "ename": "ImportError",
     "evalue": "cannot import name 'spin_basis_2d' from 'quspin.basis' (/miniconda/envs/project/lib/python3.9/site-packages/quspin/basis/__init__.py)",
     "output_type": "error",
     "traceback": [
      "\u001b[0;31m---------------------------------------------------------------------------\u001b[0m",
      "\u001b[0;31mImportError\u001b[0m                               Traceback (most recent call last)",
      "Cell \u001b[0;32mIn [3], line 6\u001b[0m\n\u001b[1;32m      4\u001b[0m sys\u001b[38;5;241m.\u001b[39mpath\u001b[38;5;241m.\u001b[39minsert(\u001b[38;5;241m0\u001b[39m,qspin_path)\n\u001b[1;32m      5\u001b[0m \u001b[38;5;28;01mfrom\u001b[39;00m \u001b[38;5;21;01mquspin\u001b[39;00m\u001b[38;5;21;01m.\u001b[39;00m\u001b[38;5;21;01moperators\u001b[39;00m \u001b[38;5;28;01mimport\u001b[39;00m hamiltonian \u001b[38;5;66;03m# Hamiltonians and operators\u001b[39;00m\n\u001b[0;32m----> 6\u001b[0m \u001b[38;5;28;01mfrom\u001b[39;00m \u001b[38;5;21;01mquspin\u001b[39;00m\u001b[38;5;21;01m.\u001b[39;00m\u001b[38;5;21;01mbasis\u001b[39;00m \u001b[38;5;28;01mimport\u001b[39;00m spin_basis_2d \u001b[38;5;66;03m# Hilbert space spin basis\u001b[39;00m\n\u001b[1;32m      7\u001b[0m \u001b[38;5;28;01mimport\u001b[39;00m \u001b[38;5;21;01mnumpy\u001b[39;00m \u001b[38;5;28;01mas\u001b[39;00m \u001b[38;5;21;01mnp\u001b[39;00m \u001b[38;5;66;03m# generic math functions\u001b[39;00m\n\u001b[1;32m      8\u001b[0m L\u001b[38;5;241m=\u001b[39m\u001b[38;5;241m4\u001b[39m \n",
      "\u001b[0;31mImportError\u001b[0m: cannot import name 'spin_basis_2d' from 'quspin.basis' (/miniconda/envs/project/lib/python3.9/site-packages/quspin/basis/__init__.py)"
     ]
    }
   ],
   "source": [
    "from __future__ import print_function, division\n",
    "import sys,os\n",
    "qspin_path = os.path.join(os.getcwd(),\"../../\")\n",
    "sys.path.insert(0,qspin_path)\n",
    "from quspin.operators import hamiltonian # Hamiltonians and operators\n",
    "from quspin.basis import spin_basis_2d # Hilbert space spin basis\n",
    "import numpy as np # generic math functions\n",
    "L=4 \n",
    "Jxy=np.sqrt(2.0) # xy interaction\n",
    "Jzz_0=1.0 # zz interaction\n",
    "hz=1.0/np.sqrt(3.0) # z external field\n",
    "basis = spin_basis_2d(L*L,pauli=False) # and positive parity sector\n",
    "J_zz = [[Jzz_0,i,i+1] for i in range(L-1)] # OBC\n",
    "J_xy = [[Jxy/2.0,i,i+1] for i in range(L-1)] # OBC\n",
    "h_z=[[hz,i] for i in range(L)]\n",
    "static = [[\"+-\",J_xy],[\"-+\",J_xy],[\"zz\",J_zz],[\"z\",h_z]]\n",
    "dynamic=[]\n",
    "H_XXZ = hamiltonian(static,dynamic,basis=basis,dtype=np.float64)\n",
    "\n",
    "\n"
   ]
  },
  {
   "cell_type": "code",
   "execution_count": null,
   "id": "bbdee5b8",
   "metadata": {},
   "outputs": [],
   "source": []
  },
  {
   "cell_type": "code",
   "execution_count": 3,
   "id": "2f7fa1fd",
   "metadata": {},
   "outputs": [
    {
     "data": {
      "text/plain": [
       "array([-0.00077629])"
      ]
     },
     "execution_count": 3,
     "metadata": {},
     "output_type": "execute_result"
    }
   ],
   "source": [
    "E=H_XXZ.eigvalsh()\n",
    "# calculate full eigensystem\n",
    "E,V=H_XXZ.eigh()\n",
    "# calculate minimum and maximum energy only\n",
    "Emin,Emax=H_XXZ.eigsh(k=2,which=\"BE\",maxiter=1E4,return_eigenvectors=False)\n",
    "# calculate the eigenstate closest to energy E_star\n",
    "E_star = 0.0\n",
    "E,psi_0=H_XXZ.eigsh(k=1,sigma=E_star,maxiter=1E4)\n",
    "psi_0=psi_0.reshape((-1,))"
   ]
  },
  {
   "cell_type": "code",
   "execution_count": 1,
   "id": "1536c51b",
   "metadata": {},
   "outputs": [],
   "source": [
    "from __future__ import print_function, division\n",
    "import sys,os\n",
    "# line 4 and line 5 below are for development purposes and can be removed\n",
    "qspin_path = os.path.join(os.getcwd(),\"../../\")\n",
    "sys.path.insert(0,qspin_path)\n",
    "#####################################################################\n",
    "#                            example 9                              #\n",
    "#   In this script we demonstrate how to use QuSpin's               #\n",
    "#   general basis class to construct user-defined symmetry sectors.\t#\n",
    "#   We study thermalisation in the 2D transverse-field Ising model  #\n",
    "#   with periodic boundary conditions.                              #\n",
    "#####################################################################\n",
    "from quspin.operators import hamiltonian, exp_op # operators\n",
    "from quspin.basis import spin_basis_1d, spin_basis_general # spin basis constructor\n",
    "from quspin.tools.measurements import obs_vs_time # calculating dynamics\n",
    "from quspin.tools.Floquet import Floquet_t_vec # period-spaced time vector\n",
    "import numpy as np # general math functions\n",
    "import matplotlib.pyplot as plt # plotting library\n",
    "#\n",
    "###### define model parameters ######\n",
    "L_1d = 16 # length of chain for spin 1/2\n",
    "Lx, Ly = 4, 4 # linear dimension of spin 1 2d lattice\n",
    "N_2d = Lx*Ly # number of sites for spin 1"
   ]
  },
  {
   "cell_type": "code",
   "execution_count": 2,
   "id": "9a78ca1c",
   "metadata": {},
   "outputs": [
    {
     "name": "stdout",
     "output_type": "stream",
     "text": [
      "Size of 1D H-space: 1162\n",
      "Size of 2D H-space: 65536\n"
     ]
    }
   ],
   "source": [
    "###### setting up user-defined symmetry transformations for 2d lattice ######\n",
    "s = np.arange(N_2d) # sites [0,1,2,....]\n",
    "x = s%Lx # x positions for sites\n",
    "y = s//Lx # y positions for sites\n",
    "T_x = (x+1)%Lx + Lx*y # translation along x-direction\n",
    "T_x_inv = np.argsort(T_x)\n",
    "T_y = x +Lx*((y+1)%Ly) # translation along y-direction\n",
    "\n",
    "###### setting up bases ######\n",
    "basis_1d = spin_basis_1d(L_1d,kblock=0,pblock=1,zblock=1) # 1d - basis\n",
    "basis_2d = spin_basis_general(N_2d, S='1/2', pauli=0) # 2d - basis\n",
    "# print information about the basis\n",
    "print(\"Size of 1D H-space: {Ns:d}\".format(Ns=basis_1d.Ns))\n",
    "print(\"Size of 2D H-space: {Ns:d}\".format(Ns=basis_2d.Ns))"
   ]
  },
  {
   "cell_type": "code",
   "execution_count": 12,
   "id": "558e540a",
   "metadata": {},
   "outputs": [],
   "source": [
    "a = 0\n",
    "J = [1, a]"
   ]
  },
  {
   "cell_type": "code",
   "execution_count": 13,
   "id": "d0cdf288",
   "metadata": {},
   "outputs": [],
   "source": [
    "NN=[[J[0],i,T_x[i]] for i in range(N_2d)]+[[J[0],i,T_y[i]] for i in range(N_2d)]\n",
    "NNN = [[J[1],i,T_y[T_x[i]]] for i in range(N_2d)]+[[J[1],i,T_y[T_x_inv[i]]] for i in range(N_2d)]"
   ]
  },
  {
   "cell_type": "code",
   "execution_count": 14,
   "id": "7a1da42c",
   "metadata": {},
   "outputs": [
    {
     "name": "stdout",
     "output_type": "stream",
     "text": [
      "Hermiticity check passed!\n"
     ]
    },
    {
     "name": "stderr",
     "output_type": "stream",
     "text": [
      "/tmp/ipykernel_20502/1335180535.py:3: UserWarning: Test for symmetries not implemented for <class 'quspin.basis.basis_general.spin.spin_basis_general'>, to turn off this warning set check_symm=False in hamiltonian\n",
      "  H_J1J2=hamiltonian(J1 + J2, [],basis=basis_2d,dtype=np.float64).as_sparse_format()\n"
     ]
    }
   ],
   "source": [
    "J1 = [[opstr, NN] for opstr in [\"zz\", \"xx\", \"yy\"]]\n",
    "J2 = [[opstr, NNN] for opstr in [\"zz\", \"xx\", \"yy\"]]\n",
    "H_J1J2=hamiltonian(J1 + J2, [],basis=basis_2d,dtype=np.float64).as_sparse_format()"
   ]
  },
  {
   "cell_type": "code",
   "execution_count": 20,
   "id": "459ee2dc",
   "metadata": {},
   "outputs": [],
   "source": [
    "E = H_J1J2.eigsh(return_eigenvectors=False, which=\"SA\")"
   ]
  },
  {
   "cell_type": "code",
   "execution_count": 21,
   "id": "b665273a",
   "metadata": {},
   "outputs": [
    {
     "data": {
      "text/plain": [
       "array([ -9.51768798,  -9.51768798, -10.64988487, -10.64988487,\n",
       "       -10.64988487, -11.22848321])"
      ]
     },
     "execution_count": 21,
     "metadata": {},
     "output_type": "execute_result"
    }
   ],
   "source": [
    "E"
   ]
  },
  {
   "cell_type": "code",
   "execution_count": 16,
   "id": "23f85c83",
   "metadata": {},
   "outputs": [],
   "source": [
    "H = H_J1J2.H()"
   ]
  },
  {
   "cell_type": "code",
   "execution_count": 11,
   "id": "806468ac",
   "metadata": {},
   "outputs": [
    {
     "data": {
      "text/plain": [
       "10.399999999999977"
      ]
     },
     "execution_count": 11,
     "metadata": {},
     "output_type": "execute_result"
    }
   ],
   "source": [
    "H[0,0]"
   ]
  },
  {
   "cell_type": "code",
   "execution_count": 8,
   "id": "473b1023",
   "metadata": {},
   "outputs": [],
   "source": [
    "H_s = Hzz_2d.as_sparse_format()"
   ]
  },
  {
   "cell_type": "code",
   "execution_count": 14,
   "id": "86a3b07d",
   "metadata": {},
   "outputs": [],
   "source": [
    "E = H_s.eigsh(return_eigenvectors=False, which=\"SA\", k = 1000)"
   ]
  },
  {
   "cell_type": "code",
   "execution_count": 13,
   "id": "d33845a4",
   "metadata": {},
   "outputs": [
    {
     "data": {
      "text/plain": [
       "(65536, 65536)"
      ]
     },
     "execution_count": 13,
     "metadata": {},
     "output_type": "execute_result"
    }
   ],
   "source": []
  },
  {
   "cell_type": "code",
   "execution_count": 4,
   "id": "659e5869",
   "metadata": {},
   "outputs": [
    {
     "data": {
      "text/plain": [
       "65536"
      ]
     },
     "execution_count": 4,
     "metadata": {},
     "output_type": "execute_result"
    }
   ],
   "source": [
    "basis_2d.Ns"
   ]
  }
 ],
 "metadata": {
  "kernelspec": {
   "display_name": "Python 3 (ipykernel)",
   "language": "python",
   "name": "python3"
  },
  "language_info": {
   "codemirror_mode": {
    "name": "ipython",
    "version": 3
   },
   "file_extension": ".py",
   "mimetype": "text/x-python",
   "name": "python",
   "nbconvert_exporter": "python",
   "pygments_lexer": "ipython3",
   "version": "3.9.15"
  }
 },
 "nbformat": 4,
 "nbformat_minor": 5
}
