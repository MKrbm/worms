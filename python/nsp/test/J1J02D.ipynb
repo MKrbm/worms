{
 "cells": [
  {
   "cell_type": "code",
   "execution_count": 34,
   "id": "1536c51b",
   "metadata": {},
   "outputs": [],
   "source": [
    "from __future__ import print_function, division\n",
    "import sys,os\n",
    "# line 4 and line 5 below are for development purposes and can be removed\n",
    "qspin_path = os.path.join(os.getcwd(),\"../../\")\n",
    "sys.path.insert(0,qspin_path)\n",
    "#####################################################################\n",
    "#                            example 9                              #\n",
    "#   In this script we demonstrate how to use QuSpin's               #\n",
    "#   general basis class to construct user-defined symmetry sectors.\t#\n",
    "#   We study thermalisation in the 2D transverse-field Ising model  #\n",
    "#   with periodic boundary conditions.                              #\n",
    "#####################################################################\n",
    "from quspin.operators import hamiltonian, exp_op # operators\n",
    "from quspin.basis import spin_basis_1d, spin_basis_general # spin basis constructor\n",
    "from quspin.tools.measurements import obs_vs_time # calculating dynamics\n",
    "from quspin.tools.Floquet import Floquet_t_vec # period-spaced time vector\n",
    "import numpy as np # general math functions\n",
    "import matplotlib.pyplot as plt # plotting library\n",
    "#\n",
    "###### define model parameters ######\n",
    "L_1d = 16 # length of chain for spin 1/2\n",
    "Lx, Ly = 4, 4 # linear dimension of spin 1 2d lattice\n",
    "N_2d = Lx*Ly # number of sites for spin 1"
   ]
  },
  {
   "cell_type": "code",
   "execution_count": 35,
   "id": "9a78ca1c",
   "metadata": {},
   "outputs": [
    {
     "name": "stdout",
     "output_type": "stream",
     "text": [
      "Size of 1D H-space: 1162\n",
      "Size of 2D H-space: 65536\n"
     ]
    }
   ],
   "source": [
    "###### setting up user-defined symmetry transformations for 2d lattice ######\n",
    "s = np.arange(N_2d) # sites [0,1,2,....]\n",
    "x = s%Lx # x positions for sites\n",
    "y = s//Lx # y positions for sites\n",
    "T_x = (x+1)%Lx + Lx*y # translation along x-direction\n",
    "T_x_inv = np.argsort(T_x)\n",
    "T_y = x +Lx*((y+1)%Ly) # translation along y-direction\n",
    "\n",
    "###### setting up bases ######\n",
    "basis_1d = spin_basis_1d(L_1d,kblock=0,pblock=1,zblock=1) # 1d - basis\n",
    "basis_2d = spin_basis_general(N_2d, S='1/2', pauli=0) # 2d - basis\n",
    "# print information about the basis\n",
    "print(\"Size of 1D H-space: {Ns:d}\".format(Ns=basis_1d.Ns))\n",
    "print(\"Size of 2D H-space: {Ns:d}\".format(Ns=basis_2d.Ns))"
   ]
  },
  {
   "cell_type": "code",
   "execution_count": 36,
   "id": "558e540a",
   "metadata": {},
   "outputs": [],
   "source": [
    "a = 1\n",
    "J = [0.3, a]"
   ]
  },
  {
   "cell_type": "code",
   "execution_count": 37,
   "id": "d0cdf288",
   "metadata": {},
   "outputs": [],
   "source": [
    "NN=[[J[0],i,T_x[i]] for i in range(N_2d)]+[[J[0],i,T_y[i]] for i in range(N_2d)]\n",
    "NNN = [[J[1],i,T_y[T_x[i]]] for i in range(N_2d)]+[[J[1],i,T_y[T_x_inv[i]]] for i in range(N_2d)]"
   ]
  },
  {
   "cell_type": "code",
   "execution_count": 44,
   "id": "7a1da42c",
   "metadata": {},
   "outputs": [
    {
     "name": "stdout",
     "output_type": "stream",
     "text": [
      "Hermiticity check passed!\n"
     ]
    },
    {
     "name": "stderr",
     "output_type": "stream",
     "text": [
      "/tmp/ipykernel_19384/672290158.py:3: UserWarning: Test for symmetries not implemented for <class 'quspin.basis.basis_general.spin.spin_basis_general'>, to turn off this warning set check_symm=False in hamiltonian\n",
      "  H = hamiltonian(J1 + J2, [],basis=basis_2d,dtype=np.float64)\n"
     ]
    }
   ],
   "source": [
    "J1 = [[opstr, NN] for opstr in [\"zz\", \"xx\", \"yy\"]]\n",
    "J2 = [[opstr, NNN] for opstr in [\"zz\", \"xx\", \"yy\"]]\n",
    "H = hamiltonian(J1 + J2, [],basis=basis_2d,dtype=np.float64)\n",
    "H_J1J2 = H.as_sparse_format()"
   ]
  },
  {
   "cell_type": "code",
   "execution_count": 47,
   "id": "459ee2dc",
   "metadata": {},
   "outputs": [
    {
     "name": "stdout",
     "output_type": "stream",
     "text": [
      "[-10.17000314 -10.35258439 -11.02326761 -11.02326761 -11.02326761\n",
      " -12.02117043]\n"
     ]
    }
   ],
   "source": [
    "E = H_J1J2.eigsh(return_eigenvectors=False, which=\"SA\")\n",
    "print(E)"
   ]
  },
  {
   "cell_type": "markdown",
   "id": "66852bfd",
   "metadata": {},
   "source": [
    "## finite temperature calculation"
   ]
  },
  {
   "cell_type": "code",
   "execution_count": 48,
   "id": "6d719b0c",
   "metadata": {},
   "outputs": [],
   "source": [
    "from __future__ import print_function, division\n",
    "#\n",
    "import sys,os\n",
    "os.environ['KMP_DUPLICATE_LIB_OK']='True' # uncomment this line if omp error occurs on OSX for python 3\n",
    "os.environ['OMP_NUM_THREADS']='1' # set number of OpenMP threads to run in parallel\n",
    "os.environ['MKL_NUM_THREADS']='1' # set number of MKL threads to run in parallel\n",
    "#\n",
    "quspin_path = os.path.join(os.getcwd(),\"../../\")\n",
    "sys.path.insert(0,quspin_path)\n",
    "#######################################################################\n",
    "#                            example 21                               #    \n",
    "# This example shows how to use the `Lanczos` submodule of the        #\n",
    "# `tools` module to compute finite temperature expectation values     #\n",
    "# using `FTLM_statc_iteration` and `LTLM_statiic_iteration`.          #\n",
    "#######################################################################\n",
    "from quspin.basis import spin_basis_1d\n",
    "from quspin.operators import hamiltonian,quantum_operator\n",
    "from quspin.tools.lanczos import lanczos_full,lanczos_iter,FTLM_static_iteration,LTLM_static_iteration\n",
    "import numpy as np\n",
    "import matplotlib.pyplot as plt\n",
    "from mpl_toolkits.axes_grid1.inset_locator import inset_axes"
   ]
  },
  {
   "cell_type": "code",
   "execution_count": 49,
   "id": "612212f8",
   "metadata": {},
   "outputs": [],
   "source": [
    "def bootstrap_mean(O_r,Id_r,n_bootstrap=100):\n",
    "    \"\"\"\n",
    "    Uses boostraping to esimate the error due to sampling.\n",
    "\n",
    "    O_r: numerator\n",
    "    Id_r: denominator\n",
    "    n_bootstrap: bootstrap sample size\n",
    "\n",
    "    \"\"\"\n",
    "    O_r = np.asarray(O_r)\n",
    "    Id_r = np.asarray(Id_r)\n",
    "    #\n",
    "    avg = np.nanmean(O_r,axis=0)/np.nanmean(Id_r,axis=0)\n",
    "    n_Id = Id_r.shape[0]\n",
    "    #n_N = O_r.shape[0]\n",
    "    #\n",
    "    i_iter = (np.random.randint(n_Id,size=n_Id) for i in range(n_bootstrap))\n",
    "    #\n",
    "    bootstrap_iter = (np.nanmean(O_r[i,...],axis=0)/np.nanmean(Id_r[i,...],axis=0) for i in i_iter)\n",
    "    diff_iter = ((bootstrap-avg)**2 for bootstrap in bootstrap_iter)\n",
    "    err = np.sqrt(sum(diff_iter)/n_bootstrap)\n",
    "    #\n",
    "    return avg,err\n",
    "class lanczos_wrapper(object):\n",
    "    \"\"\"\n",
    "    Class that contains minimum requirments to use Lanczos. \n",
    "    \n",
    "    Using it is equired, since the dot and dtype methods of quantum_operator objects take more parameters \n",
    "    \n",
    "    \"\"\"\n",
    "    #\n",
    "    def __init__(self,A,**kwargs):\n",
    "        \"\"\"\n",
    "        A: array-like object to assign/overwrite the dot and dtype objects of\n",
    "        kwargs: any optional arguments used when overwriting the methods\n",
    "\n",
    "        \"\"\"\n",
    "        self._A = A\n",
    "        self._kwargs = kwargs\n",
    "    #\n",
    "    def dot(self,v,out=None):\n",
    "        \"\"\"\n",
    "        Calls the `dot` method of quantum_operator with the parameters fixed to a given value.\n",
    "\n",
    "        \"\"\"\n",
    "        return self._A.dot(v,out=out,pars=self._kwargs)\n",
    "    #\n",
    "    @property\n",
    "    def dtype(self):\n",
    "        \"\"\"\n",
    "        The dtype attribute is required to figure out result types in lanczos calculations.\n",
    "\n",
    "        \"\"\"\n",
    "        return self._A.dtype"
   ]
  },
  {
   "cell_type": "code",
   "execution_count": 50,
   "id": "89b6c350",
   "metadata": {},
   "outputs": [],
   "source": [
    "L = 10 # system size\n",
    "m = 50 # dimensio of Krylov space\n",
    "N_samples = 100 # of samples to approximate thermal expectation value with\n",
    "T = np.logspace(-3,3,51,base=10) # temperature vector\n",
    "beta = 1.0/(T+1e-15) # inverse temperature vector\n",
    "H_wrapped = lanczos_wrapper(H,J=s,h=(1-s))\n",
    "[E0] = H.eigsh(k=1,which=\"SA\",return_eigenvectors=False)\n",
    "# preallocate lists to store results from iterations\n",
    "out = np.zeros((m,H.Ns),dtype=np.float64)"
   ]
  },
  {
   "cell_type": "code",
   "execution_count": 51,
   "id": "98e0307d",
   "metadata": {},
   "outputs": [],
   "source": [
    "r = np.random.normal(0,1,size=H.Ns)\n",
    "r /= np.linalg.norm(r)\n",
    "E,V,lv = lanczos_full(H,r,m,eps=1e-8,full_ortho=True)"
   ]
  },
  {
   "cell_type": "code",
   "execution_count": 52,
   "id": "e978959e",
   "metadata": {},
   "outputs": [],
   "source": [
    "M2_FT_list = []\n",
    "M2_LT_list = []\n",
    "Z_FT_list = []\n",
    "Z_LT_list = []\n",
    "\n",
    "for i in range(N_samples):\n",
    "    r = np.random.normal(0,1,size=H.Ns)\n",
    "    r /= np.linalg.norm(r)\n",
    "    E,V,lv = lanczos_full(H,r,m,eps=1e-8,full_ortho=True)\n",
    "    E -= E0\n",
    "    results_FT,Id_FT = FTLM_static_iteration({\"E\":H},E,V,lv,beta=beta)\n",
    "    results_LT,Id_LT = LTLM_static_iteration({\"E\":H},E,V,lv,beta=beta)\n",
    "    # save results to a list\n",
    "    M2_FT_list.append(results_FT[\"E\"])\n",
    "    Z_FT_list.append(Id_FT)\n",
    "    M2_LT_list.append(results_LT[\"E\"])\n",
    "    Z_LT_list.append(Id_LT)"
   ]
  },
  {
   "cell_type": "code",
   "execution_count": 53,
   "id": "7185b5a2",
   "metadata": {},
   "outputs": [],
   "source": [
    "# calculating error bars on the expectation values\n",
    "m2_FT,dm2_FT = bootstrap_mean(M2_FT_list,Z_FT_list)\n",
    "m2_LT,dm2_LT = bootstrap_mean(M2_LT_list,Z_LT_list)\n",
    "#\n",
    "##### calculating exact results from full diagonalization #####\n",
    "#\n",
    "dim_cutoff=2000 # Hilbert space dimension cutoff  \n",
    "if H.Ns < dim_cutoff: # Hilbert space is not too big to diagonalize on a laptop\n",
    "    #\n",
    "    # adding more points for smooth line\n",
    "    T_new = np.logspace(np.log10(T.min()),np.log10(T.max()),10*len(T))\n",
    "    beta_new = 1.0/(T_new+1e-15)\n",
    "    #\n",
    "    # full diagonaization of H\n",
    "    E,V = H.eigh(pars=dict(J=s,h=1-s))\n",
    "    # shift energy to avoid overflows\n",
    "    E -= E[0]\n",
    "    # get boltzmann weights for each temperature\n",
    "    W = np.exp(-np.outer(E,beta_new))\n",
    "    # get diagonal matrix elements for trace\n",
    "    O = M2.matrix_ele(V,V,diagonal=True) \n",
    "    # calculate trace\n",
    "    O = np.einsum(\"j...,j->...\",W,O)/np.einsum(\"j...->...\",W)"
   ]
  },
  {
   "cell_type": "code",
   "execution_count": 60,
   "id": "2ec3d6fe",
   "metadata": {},
   "outputs": [],
   "source": [
    "energy = dict(zip(T, m2_FT))"
   ]
  },
  {
   "cell_type": "code",
   "execution_count": 62,
   "id": "3b95e94f",
   "metadata": {},
   "outputs": [
    {
     "data": {
      "text/plain": [
       "-7.7207803015753935"
      ]
     },
     "execution_count": 62,
     "metadata": {},
     "output_type": "execute_result"
    }
   ],
   "source": [
    "energy[1.0]"
   ]
  },
  {
   "cell_type": "code",
   "execution_count": 54,
   "id": "9db28c5b",
   "metadata": {},
   "outputs": [
    {
     "name": "stderr",
     "output_type": "stream",
     "text": [
      "/tmp/ipykernel_19384/2480774326.py:37: UserWarning: This figure includes Axes that are not compatible with tight_layout, so results might be incorrect.\n",
      "  f.tight_layout()\n"
     ]
    },
    {
     "data": {
      "image/png": "[encoded data removed]",
      "text/plain": [
       "<Figure size 630x420 with 2 Axes>"
      ]
     },
     "metadata": {},
     "output_type": "display_data"
    }
   ],
   "source": [
    "##### plot results #####\n",
    "#\n",
    "# setting up plot and inset\n",
    "h=4.2 # figure aspect ratio parameter\n",
    "f,ax = plt.subplots(figsize=(1.5*h,h))\n",
    "axinset = inset_axes(ax, width=\"45%\", height=\"65%\", loc=\"upper right\")\n",
    "axs = [ax,axinset]\n",
    "#\n",
    "# plot results for FTLM and LTLM.\n",
    "for a in axs:\n",
    "    a.errorbar(T,m2_LT,dm2_LT,marker=\".\",label=\"LTLM\",zorder=-1)\n",
    "    a.errorbar(T,m2_FT,dm2_FT,marker=\".\",label=\"FTLM\",zorder=-2)\n",
    "    #\n",
    "    if H.Ns < dim_cutoff: # hilbert space is not too big to diagonalize on a laptop\n",
    "        a.plot(T_new,O,label=\"exact\",zorder=0)\n",
    "    #\n",
    "    a.set_xscale(\"log\")\n",
    "#\n",
    "# adding space for inset by expanding x limits.\n",
    "xmin,xmax = ax.get_xlim()\n",
    "ax.set_xlim((xmin,10*xmax))\n",
    "ax.legend(loc=\"lower left\")\n",
    "#\n",
    "# inset adjustment to zoom in low-temp limit.\n",
    "xmin,xmax = axinset.get_xlim()\n",
    "#\n",
    "a = -0.6\n",
    "m = np.logical_and(T>=xmin,T<=10**(a))\n",
    "axinset.set_xlim((xmin,10**(a+0.1)))\n",
    "ymin = min(m2_LT[m].min(),m2_FT[m].min())\n",
    "ymax = max(m2_LT[m].max(),m2_FT[m].max())\n",
    "ywin = ymax-ymin\n",
    "boundy = 0.1*ywin\n",
    "axinset.set_ylim((ymin-boundy,ymax+boundy))\n",
    "#\n",
    "# display plot\n",
    "f.tight_layout()"
   ]
  },
  {
   "cell_type": "code",
   "execution_count": null,
   "id": "0773905f",
   "metadata": {},
   "outputs": [
    {
     "data": {
      "text/plain": [
       "-8.00000000000001"
      ]
     },
     "metadata": {},
     "output_type": "display_data"
    }
   ],
   "source": [
    "E0"
   ]
  },
  {
   "cell_type": "code",
   "execution_count": null,
   "id": "e8447ada",
   "metadata": {},
   "outputs": [],
   "source": []
  }
 ],
 "metadata": {
  "kernelspec": {
   "display_name": "Python 3 (ipykernel)",
   "language": "python",
   "name": "python3"
  },
  "language_info": {
   "codemirror_mode": {
    "name": "ipython",
    "version": 3
   },
   "file_extension": ".py",
   "mimetype": "text/x-python",
   "name": "python",
   "nbconvert_exporter": "python",
   "pygments_lexer": "ipython3",
   "version": "3.9.15"
  }
 },
 "nbformat": 4,
 "nbformat_minor": 5
}
