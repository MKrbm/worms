{
 "cells": [
  {
   "cell_type": "code",
   "execution_count": 14,
   "id": "635ccf15",
   "metadata": {},
   "outputs": [],
   "source": [
    "from header import *\n",
    "\n",
    "lr = 0.001\n",
    "D = 2\n",
    "import copy\n",
    "\n",
    "model_f = nsp.model.UnitaryGenerator(D, dtype=torch.float64)\n",
    "model_g = nsp.model.UnitaryGenerator(D, dtype=torch.complex128)\n",
    "model_rf = nsp.model.UnitaryRiemanGenerator(D, dtype=torch.float64)\n",
    "model_rg = nsp.model.UnitaryRiemanGenerator(D, dtype=torch.complex128)\n",
    "model_sl = nsp.model.SlRiemanGenerator(D, dtype=torch.float64)\n",
    "# set_seed(2022)\n",
    "\n",
    "X = np.random.randn(D**2,D**2)\n",
    "X = X.T + X \n",
    "# X = X_list[1]\n",
    "loss = nsp.loss.L2(torch.Tensor(X), [D,D], matinv)"
   ]
  },
  {
   "cell_type": "code",
   "execution_count": 15,
   "id": "45aae244",
   "metadata": {},
   "outputs": [],
   "source": [
    "slcg = RiemanSlCG(model_sl, loss, lr = 0.1)"
   ]
  },
  {
   "cell_type": "code",
   "execution_count": 16,
   "id": "344505db",
   "metadata": {},
   "outputs": [],
   "source": [
    "loss(model_sl.matrix()).backward()"
   ]
  },
  {
   "cell_type": "code",
   "execution_count": 17,
   "id": "1c91fd98",
   "metadata": {},
   "outputs": [
    {
     "data": {
      "text/plain": [
       "tensor(-1.8574, dtype=torch.float64, grad_fn=<DetLuBasedHelperBackward0>)"
      ]
     },
     "execution_count": 17,
     "metadata": {},
     "output_type": "execute_result"
    }
   ],
   "source": [
    "model_sl.reset_params()\n",
    "torch.linalg.det(model_sl.matrix())"
   ]
  },
  {
   "cell_type": "code",
   "execution_count": 18,
   "id": "336d81d1",
   "metadata": {},
   "outputs": [
    {
     "data": {
      "text/plain": [
       "tensor([[ 0.0663,  0.6326],\n",
       "        [-0.3200,  0.0023]], dtype=torch.float64, grad_fn=<ViewBackward0>)"
      ]
     },
     "execution_count": 18,
     "metadata": {},
     "output_type": "execute_result"
    }
   ],
   "source": [
    "model_sl.reset_params()\n",
    "model_sl.matrix()"
   ]
  },
  {
   "cell_type": "code",
   "execution_count": 10,
   "id": "29702c11",
   "metadata": {},
   "outputs": [
    {
     "data": {
      "text/plain": [
       "tensor(-11.8616, dtype=torch.float64, grad_fn=<DetLuBasedHelperBackward0>)"
      ]
     },
     "execution_count": 10,
     "metadata": {},
     "output_type": "execute_result"
    }
   ],
   "source": [
    "torch.linalg.det(model_sl.matrix())"
   ]
  },
  {
   "cell_type": "code",
   "execution_count": 7,
   "id": "05d5dabf",
   "metadata": {},
   "outputs": [
    {
     "data": {
      "text/plain": [
       "(tensor([[-3.7497e+12, -7.3609e+12],\n",
       "         [ 2.3916e+12,  4.6951e+12]], dtype=torch.float64),\n",
       " tensor([[  8.5561, -18.0918],\n",
       "         [ -5.9916,  11.2827]], dtype=torch.float64))"
      ]
     },
     "execution_count": 7,
     "metadata": {},
     "output_type": "execute_result"
    }
   ],
   "source": [
    "slcg._riemannian_grad(model_sl._params)"
   ]
  },
  {
   "cell_type": "code",
   "execution_count": 2,
   "id": "0b17350d",
   "metadata": {
    "scrolled": false
   },
   "outputs": [
    {
     "name": "stdout",
     "output_type": "stream",
     "text": [
      "target loss      : 0.0000000000\n",
      "initial loss     : 0.5642615937\n",
      "\n",
      "================================================== \n",
      "\n"
     ]
    },
    {
     "data": {
      "application/vnd.jupyter.widget-view+json": {
       "model_id": "46c72a4dc85948c3bd866b61fd21f767",
       "version_major": 2,
       "version_minor": 0
      },
      "text/plain": [
       "  0%|          | 0/500 [00:00<?, ?it/s]"
      ]
     },
     "metadata": {},
     "output_type": "display_data"
    },
    {
     "name": "stdout",
     "output_type": "stream",
     "text": [
      "tensor([[ 0.0000+0.j, -0.6575+0.j],\n",
      "        [ 0.6575+0.j,  0.0000+0.j]], dtype=torch.complex128)\n",
      "tensor([[ 0.0000+0.j, -1.6198+0.j],\n",
      "        [ 1.6198+0.j,  0.0000+0.j]], dtype=torch.complex128)\n",
      "tensor([[ 0.0000+0.j, -3.9904+0.j],\n",
      "        [ 3.9904+0.j,  0.0000+0.j]], dtype=torch.complex128)\n",
      "tensor([[ 0.0000e+00+0.j, -3.4157e-07+0.j],\n",
      "        [ 3.4157e-07+0.j,  0.0000e+00+0.j]], dtype=torch.complex128)\n",
      "stack in local minimum --> break loop\n",
      "Parameter containing:\n",
      "tensor([-0.4638+0.j,  0.2745+0.j, -0.2737+0.j, -0.4601+0.j],\n",
      "       dtype=torch.complex128, requires_grad=True)\n"
     ]
    }
   ],
   "source": [
    "model = model_rg\n",
    "model._params.data[:] = model._params.data[:].real\n",
    "# model.reset_params()\n",
    "solver = UnitarySymmTs(RiemanCG, model, loss, lr = 0.001, momentum=0.1, pout = True)\n",
    "ret = solver.run(500, disable_message=False)\n",
    "print(ret.model._params)"
   ]
  },
  {
   "cell_type": "code",
   "execution_count": 153,
   "id": "f210f220",
   "metadata": {},
   "outputs": [
    {
     "data": {
      "text/plain": [
       "tensor([  88.5757+0.j,  -56.3448+0.j,  103.6056+0.j, -129.1369+0.j],\n",
       "       dtype=torch.complex128)"
      ]
     },
     "execution_count": 153,
     "metadata": {},
     "output_type": "execute_result"
    }
   ],
   "source": [
    "model._params.grad"
   ]
  },
  {
   "cell_type": "code",
   "execution_count": 41,
   "id": "7d9065d2",
   "metadata": {},
   "outputs": [],
   "source": [
    "X_list = []\n",
    "D = 2\n",
    "for _ in range(1000):\n",
    "    X = np.random.randn(D**2,D**2)\n",
    "    X = X.T + X\n",
    "    loss = nsp.loss.L2(torch.Tensor(X), [D,D])    \n",
    "    model_f = nsp.model.UnitaryGenerator(D, dtype=torch.float64)\n",
    "    model_c = nsp.model.UnitaryGenerator(D, dtype=torch.complex128)\n",
    "\n",
    "    bounds = [[-30, 30]] * model_f._n_params\n",
    "    retf = scipy.optimize.dual_annealing(SymmSolver(model_f, loss, False), bounds = bounds, restart_temp_ratio = 1e-3,\n",
    "                                  visit = 2.7, initial_temp = 10**4, maxiter = 200)\n",
    "\n",
    "    bounds = [[-30, 30]] * model_c._n_params\n",
    "    retc = scipy.optimize.dual_annealing(SymmSolver(model_c, loss, False), bounds = bounds, restart_temp_ratio = 1e-3,\n",
    "                                  visit = 2.7, initial_temp = 10**4, maxiter = 200)\n",
    "\n",
    "    if (retf.fun > retc.fun):\n",
    "        X_list.append(X)"
   ]
  },
  {
   "cell_type": "code",
   "execution_count": 4,
   "id": "bc30b450",
   "metadata": {},
   "outputs": [],
   "source": [
    "X_list = np.load(\"X_list.npy\")"
   ]
  },
  {
   "cell_type": "code",
   "execution_count": 13,
   "id": "40d00eee",
   "metadata": {},
   "outputs": [
    {
     "name": "stdout",
     "output_type": "stream",
     "text": [
      "5.770925984678744 5.292979442869336\n",
      "27.847899756439006 13.895719214599572\n",
      "9.789390010988248 2.313756197872604\n",
      "28.791250599565174 26.383543581852283\n",
      "6.69481761216576 2.588452928564311\n",
      "7.800129720637193 6.635604708698235\n",
      "21.930120593746587 11.48976303839277\n",
      "30.37899820061749 21.650105739625694\n",
      "13.149980090020117 9.509583572453515\n"
     ]
    },
    {
     "ename": "KeyboardInterrupt",
     "evalue": "",
     "output_type": "error",
     "traceback": [
      "\u001b[0;31m---------------------------------------------------------------------------\u001b[0m",
      "\u001b[0;31mKeyboardInterrupt\u001b[0m                         Traceback (most recent call last)",
      "Input \u001b[0;32mIn [13]\u001b[0m, in \u001b[0;36m<cell line: 1>\u001b[0;34m()\u001b[0m\n\u001b[1;32m      4\u001b[0m model_c \u001b[38;5;241m=\u001b[39m nsp\u001b[38;5;241m.\u001b[39mmodel\u001b[38;5;241m.\u001b[39mUnitaryGenerator(D, dtype\u001b[38;5;241m=\u001b[39mtorch\u001b[38;5;241m.\u001b[39mcomplex128)\n\u001b[1;32m      6\u001b[0m bounds \u001b[38;5;241m=\u001b[39m [[\u001b[38;5;241m-\u001b[39m\u001b[38;5;241m30\u001b[39m, \u001b[38;5;241m30\u001b[39m]] \u001b[38;5;241m*\u001b[39m model_f\u001b[38;5;241m.\u001b[39m_n_params\n\u001b[0;32m----> 7\u001b[0m retf \u001b[38;5;241m=\u001b[39m \u001b[43mscipy\u001b[49m\u001b[38;5;241;43m.\u001b[39;49m\u001b[43moptimize\u001b[49m\u001b[38;5;241;43m.\u001b[39;49m\u001b[43mdual_annealing\u001b[49m\u001b[43m(\u001b[49m\u001b[43mSymmSolver\u001b[49m\u001b[43m(\u001b[49m\u001b[43mmodel_f\u001b[49m\u001b[43m,\u001b[49m\u001b[43m \u001b[49m\u001b[43mloss\u001b[49m\u001b[43m,\u001b[49m\u001b[43m \u001b[49m\u001b[38;5;28;43;01mFalse\u001b[39;49;00m\u001b[43m)\u001b[49m\u001b[43m,\u001b[49m\u001b[43m \u001b[49m\u001b[43mbounds\u001b[49m\u001b[43m \u001b[49m\u001b[38;5;241;43m=\u001b[39;49m\u001b[43m \u001b[49m\u001b[43mbounds\u001b[49m\u001b[43m,\u001b[49m\u001b[43m \u001b[49m\u001b[43mrestart_temp_ratio\u001b[49m\u001b[43m \u001b[49m\u001b[38;5;241;43m=\u001b[39;49m\u001b[43m \u001b[49m\u001b[38;5;241;43m1e-3\u001b[39;49m\u001b[43m,\u001b[49m\n\u001b[1;32m      8\u001b[0m \u001b[43m                              \u001b[49m\u001b[43mvisit\u001b[49m\u001b[43m \u001b[49m\u001b[38;5;241;43m=\u001b[39;49m\u001b[43m \u001b[49m\u001b[38;5;241;43m2.7\u001b[39;49m\u001b[43m,\u001b[49m\u001b[43m \u001b[49m\u001b[43minitial_temp\u001b[49m\u001b[43m \u001b[49m\u001b[38;5;241;43m=\u001b[39;49m\u001b[43m \u001b[49m\u001b[38;5;241;43m10\u001b[39;49m\u001b[38;5;241;43m*\u001b[39;49m\u001b[38;5;241;43m*\u001b[39;49m\u001b[38;5;241;43m4\u001b[39;49m\u001b[43m,\u001b[49m\u001b[43m \u001b[49m\u001b[43mmaxiter\u001b[49m\u001b[43m \u001b[49m\u001b[38;5;241;43m=\u001b[39;49m\u001b[43m \u001b[49m\u001b[38;5;241;43m200\u001b[39;49m\u001b[43m)\u001b[49m\n\u001b[1;32m     10\u001b[0m bounds \u001b[38;5;241m=\u001b[39m [[\u001b[38;5;241m-\u001b[39m\u001b[38;5;241m30\u001b[39m, \u001b[38;5;241m30\u001b[39m]] \u001b[38;5;241m*\u001b[39m model_c\u001b[38;5;241m.\u001b[39m_n_params\n\u001b[1;32m     11\u001b[0m retc \u001b[38;5;241m=\u001b[39m scipy\u001b[38;5;241m.\u001b[39moptimize\u001b[38;5;241m.\u001b[39mdual_annealing(SymmSolver(model_c, loss, \u001b[38;5;28;01mFalse\u001b[39;00m), bounds \u001b[38;5;241m=\u001b[39m bounds, restart_temp_ratio \u001b[38;5;241m=\u001b[39m \u001b[38;5;241m1e-3\u001b[39m,\n\u001b[1;32m     12\u001b[0m                               visit \u001b[38;5;241m=\u001b[39m \u001b[38;5;241m2.7\u001b[39m, initial_temp \u001b[38;5;241m=\u001b[39m \u001b[38;5;241m10\u001b[39m\u001b[38;5;241m*\u001b[39m\u001b[38;5;241m*\u001b[39m\u001b[38;5;241m4\u001b[39m, maxiter \u001b[38;5;241m=\u001b[39m \u001b[38;5;241m200\u001b[39m)\n",
      "File \u001b[0;32m/usr/local/lib/python3.9/dist-packages/scipy/optimize/_dual_annealing.py:693\u001b[0m, in \u001b[0;36mdual_annealing\u001b[0;34m(func, bounds, args, maxiter, minimizer_kwargs, initial_temp, restart_temp_ratio, visit, accept, maxfun, seed, no_local_search, callback, x0, local_search_options)\u001b[0m\n\u001b[1;32m    691\u001b[0m     \u001b[38;5;28;01mbreak\u001b[39;00m\n\u001b[1;32m    692\u001b[0m \u001b[38;5;66;03m# starting strategy chain\u001b[39;00m\n\u001b[0;32m--> 693\u001b[0m val \u001b[38;5;241m=\u001b[39m \u001b[43mstrategy_chain\u001b[49m\u001b[38;5;241;43m.\u001b[39;49m\u001b[43mrun\u001b[49m\u001b[43m(\u001b[49m\u001b[43mi\u001b[49m\u001b[43m,\u001b[49m\u001b[43m \u001b[49m\u001b[43mtemperature\u001b[49m\u001b[43m)\u001b[49m\n\u001b[1;32m    694\u001b[0m \u001b[38;5;28;01mif\u001b[39;00m val \u001b[38;5;129;01mis\u001b[39;00m \u001b[38;5;129;01mnot\u001b[39;00m \u001b[38;5;28;01mNone\u001b[39;00m:\n\u001b[1;32m    695\u001b[0m     message\u001b[38;5;241m.\u001b[39mappend(val)\n",
      "File \u001b[0;32m/usr/local/lib/python3.9/dist-packages/scipy/optimize/_dual_annealing.py:299\u001b[0m, in \u001b[0;36mStrategyChain.run\u001b[0;34m(self, step, temperature)\u001b[0m\n\u001b[1;32m    296\u001b[0m x_visit \u001b[38;5;241m=\u001b[39m \u001b[38;5;28mself\u001b[39m\u001b[38;5;241m.\u001b[39mvisit_dist\u001b[38;5;241m.\u001b[39mvisiting(\n\u001b[1;32m    297\u001b[0m     \u001b[38;5;28mself\u001b[39m\u001b[38;5;241m.\u001b[39menergy_state\u001b[38;5;241m.\u001b[39mcurrent_location, j, temperature)\n\u001b[1;32m    298\u001b[0m \u001b[38;5;66;03m# Calling the objective function\u001b[39;00m\n\u001b[0;32m--> 299\u001b[0m e \u001b[38;5;241m=\u001b[39m \u001b[38;5;28;43mself\u001b[39;49m\u001b[38;5;241;43m.\u001b[39;49m\u001b[43mfunc_wrapper\u001b[49m\u001b[38;5;241;43m.\u001b[39;49m\u001b[43mfun\u001b[49m\u001b[43m(\u001b[49m\u001b[43mx_visit\u001b[49m\u001b[43m)\u001b[49m\n\u001b[1;32m    300\u001b[0m \u001b[38;5;28;01mif\u001b[39;00m e \u001b[38;5;241m<\u001b[39m \u001b[38;5;28mself\u001b[39m\u001b[38;5;241m.\u001b[39menergy_state\u001b[38;5;241m.\u001b[39mcurrent_energy:\n\u001b[1;32m    301\u001b[0m     \u001b[38;5;66;03m# We have got a better energy value\u001b[39;00m\n\u001b[1;32m    302\u001b[0m     \u001b[38;5;28mself\u001b[39m\u001b[38;5;241m.\u001b[39menergy_state\u001b[38;5;241m.\u001b[39mupdate_current(e, x_visit)\n",
      "File \u001b[0;32m/usr/local/lib/python3.9/dist-packages/scipy/optimize/_dual_annealing.py:382\u001b[0m, in \u001b[0;36mObjectiveFunWrapper.fun\u001b[0;34m(self, x)\u001b[0m\n\u001b[1;32m    380\u001b[0m \u001b[38;5;28;01mdef\u001b[39;00m \u001b[38;5;21mfun\u001b[39m(\u001b[38;5;28mself\u001b[39m, x):\n\u001b[1;32m    381\u001b[0m     \u001b[38;5;28mself\u001b[39m\u001b[38;5;241m.\u001b[39mnfev \u001b[38;5;241m+\u001b[39m\u001b[38;5;241m=\u001b[39m \u001b[38;5;241m1\u001b[39m\n\u001b[0;32m--> 382\u001b[0m     \u001b[38;5;28;01mreturn\u001b[39;00m \u001b[38;5;28;43mself\u001b[39;49m\u001b[38;5;241;43m.\u001b[39;49m\u001b[43mfunc\u001b[49m\u001b[43m(\u001b[49m\u001b[43mx\u001b[49m\u001b[43m,\u001b[49m\u001b[43m \u001b[49m\u001b[38;5;241;43m*\u001b[39;49m\u001b[38;5;28;43mself\u001b[39;49m\u001b[38;5;241;43m.\u001b[39;49m\u001b[43margs\u001b[49m\u001b[43m)\u001b[49m\n",
      "File \u001b[0;32m~/project/python/nsp/test/../nsp/solver/unitary_solver.py:60\u001b[0m, in \u001b[0;36mSymmSolver.__call__\u001b[0;34m(self, x)\u001b[0m\n\u001b[1;32m     58\u001b[0m     \u001b[38;5;28mprint\u001b[39m(\u001b[38;5;124m\"\u001b[39m\u001b[38;5;124mHi\u001b[39m\u001b[38;5;124m\"\u001b[39m)\n\u001b[1;32m     59\u001b[0m     \u001b[38;5;28;01mreturn\u001b[39;00m \u001b[38;5;28mself\u001b[39m\u001b[38;5;241m.\u001b[39mloss([\u001b[38;5;28mself\u001b[39m\u001b[38;5;241m.\u001b[39mmodel\u001b[38;5;241m.\u001b[39mmatrix(x)]\u001b[38;5;241m*\u001b[39m\u001b[38;5;28mself\u001b[39m\u001b[38;5;241m.\u001b[39mloss\u001b[38;5;241m.\u001b[39m_n_unitaries) \u001b[38;5;241m-\u001b[39m \u001b[38;5;28mself\u001b[39m\u001b[38;5;241m.\u001b[39mloss\u001b[38;5;241m.\u001b[39mtarget\n\u001b[0;32m---> 60\u001b[0m \u001b[38;5;28;01mreturn\u001b[39;00m convert_type(\u001b[38;5;28;43mself\u001b[39;49m\u001b[38;5;241;43m.\u001b[39;49m\u001b[43mloss\u001b[49m\u001b[43m(\u001b[49m\u001b[43m[\u001b[49m\u001b[38;5;28;43mself\u001b[39;49m\u001b[38;5;241;43m.\u001b[39;49m\u001b[43mmodel\u001b[49m\u001b[38;5;241;43m.\u001b[39;49m\u001b[43mmatrix\u001b[49m\u001b[43m(\u001b[49m\u001b[43mx\u001b[49m\u001b[43m)\u001b[49m\u001b[43m]\u001b[49m\u001b[38;5;241;43m*\u001b[39;49m\u001b[38;5;28;43mself\u001b[39;49m\u001b[38;5;241;43m.\u001b[39;49m\u001b[43mloss\u001b[49m\u001b[38;5;241;43m.\u001b[39;49m\u001b[43m_n_unitaries\u001b[49m\u001b[43m)\u001b[49m, np\u001b[38;5;241m.\u001b[39mndarray)\n",
      "File \u001b[0;32m~/project/python/nsp/test/../nsp/loss/base_class.py:68\u001b[0m, in \u001b[0;36mBaseMatirxLoss.__call__\u001b[0;34m(self, U_list)\u001b[0m\n\u001b[1;32m     66\u001b[0m     U_list \u001b[38;5;241m=\u001b[39m [U_list] \u001b[38;5;241m*\u001b[39m \u001b[38;5;28mself\u001b[39m\u001b[38;5;241m.\u001b[39m_n_unitaries\n\u001b[1;32m     67\u001b[0m \u001b[38;5;28mself\u001b[39m\u001b[38;5;241m.\u001b[39m_unitary_check(U_list)\n\u001b[0;32m---> 68\u001b[0m \u001b[38;5;28;01mreturn\u001b[39;00m \u001b[38;5;28mself\u001b[39m\u001b[38;5;241m.\u001b[39mforward(\u001b[38;5;28;43mself\u001b[39;49m\u001b[38;5;241;43m.\u001b[39;49m\u001b[43m_transform\u001b[49m\u001b[43m(\u001b[49m\u001b[43mU_list\u001b[49m\u001b[43m)\u001b[49m)\n",
      "File \u001b[0;32m~/project/python/nsp/test/../nsp/loss/base_class.py:78\u001b[0m, in \u001b[0;36mBaseMatirxLoss._transform_kron\u001b[0;34m(self, U_list)\u001b[0m\n\u001b[1;32m     76\u001b[0m \u001b[38;5;28;01mdef\u001b[39;00m \u001b[38;5;21m_transform_kron\u001b[39m(\u001b[38;5;28mself\u001b[39m, U_list : \u001b[38;5;28mlist\u001b[39m):\n\u001b[1;32m     77\u001b[0m     U \u001b[38;5;241m=\u001b[39m \u001b[38;5;28mself\u001b[39m\u001b[38;5;241m.\u001b[39m_kron(U_list)\n\u001b[0;32m---> 78\u001b[0m     \u001b[38;5;28;01mreturn\u001b[39;00m \u001b[38;5;28;43mself\u001b[39;49m\u001b[38;5;241;43m.\u001b[39;49m\u001b[43m_inverse\u001b[49m\u001b[43m(\u001b[49m\u001b[43mU\u001b[49m\u001b[43m)\u001b[49m\u001b[43m \u001b[49m\u001b[38;5;241;43m@\u001b[39;49m\u001b[43m \u001b[49m\u001b[43mcast_dtype\u001b[49m\u001b[43m(\u001b[49m\u001b[38;5;28;43mself\u001b[39;49m\u001b[38;5;241;43m.\u001b[39;49m\u001b[43mX\u001b[49m\u001b[43m,\u001b[49m\u001b[43m \u001b[49m\u001b[43mU\u001b[49m\u001b[38;5;241;43m.\u001b[39;49m\u001b[43mdtype\u001b[49m\u001b[43m)\u001b[49m \u001b[38;5;241m@\u001b[39m U\n",
      "\u001b[0;31mKeyboardInterrupt\u001b[0m: "
     ]
    }
   ],
   "source": [
    "for X in X_list:\n",
    "    loss = nsp.loss.L2(torch.Tensor(X), [D,D])    \n",
    "    model_f = nsp.model.UnitaryGenerator(D, dtype=torch.float64)\n",
    "    model_c = nsp.model.UnitaryGenerator(D, dtype=torch.complex128)\n",
    "\n",
    "    bounds = [[-30, 30]] * model_f._n_params\n",
    "    retf = scipy.optimize.dual_annealing(SymmSolver(model_f, loss, False), bounds = bounds, restart_temp_ratio = 1e-3,\n",
    "                                  visit = 2.7, initial_temp = 10**4, maxiter = 200)\n",
    "\n",
    "    bounds = [[-30, 30]] * model_c._n_params\n",
    "    retc = scipy.optimize.dual_annealing(SymmSolver(model_c, loss, False), bounds = bounds, restart_temp_ratio = 1e-3,\n",
    "                                  visit = 2.7, initial_temp = 10**4, maxiter = 200)\n",
    "    print(retf.fun, retc.fun)"
   ]
  },
  {
   "cell_type": "code",
   "execution_count": 47,
   "id": "42d39c1d",
   "metadata": {},
   "outputs": [
    {
     "data": {
      "text/plain": [
       "(0.04376096578118228, 0.043760965781625895)"
      ]
     },
     "execution_count": 47,
     "metadata": {},
     "output_type": "execute_result"
    }
   ],
   "source": []
  },
  {
   "cell_type": "code",
   "execution_count": 4,
   "id": "e5fbfb39",
   "metadata": {},
   "outputs": [
    {
     "ename": "AttributeError",
     "evalue": "model",
     "output_type": "error",
     "traceback": [
      "\u001b[0;31m---------------------------------------------------------------------------\u001b[0m",
      "\u001b[0;31mKeyError\u001b[0m                                  Traceback (most recent call last)",
      "File \u001b[0;32m/usr/local/lib/python3.9/dist-packages/scipy/optimize/_optimize.py:124\u001b[0m, in \u001b[0;36mOptimizeResult.__getattr__\u001b[0;34m(self, name)\u001b[0m\n\u001b[1;32m    123\u001b[0m \u001b[38;5;28;01mtry\u001b[39;00m:\n\u001b[0;32m--> 124\u001b[0m     \u001b[38;5;28;01mreturn\u001b[39;00m \u001b[38;5;28;43mself\u001b[39;49m\u001b[43m[\u001b[49m\u001b[43mname\u001b[49m\u001b[43m]\u001b[49m\n\u001b[1;32m    125\u001b[0m \u001b[38;5;28;01mexcept\u001b[39;00m \u001b[38;5;167;01mKeyError\u001b[39;00m \u001b[38;5;28;01mas\u001b[39;00m e:\n",
      "\u001b[0;31mKeyError\u001b[0m: 'model'",
      "\nThe above exception was the direct cause of the following exception:\n",
      "\u001b[0;31mAttributeError\u001b[0m                            Traceback (most recent call last)",
      "Input \u001b[0;32mIn [4]\u001b[0m, in \u001b[0;36m<cell line: 2>\u001b[0;34m()\u001b[0m\n\u001b[1;32m      1\u001b[0m loss \u001b[38;5;241m=\u001b[39m nsp\u001b[38;5;241m.\u001b[39mloss\u001b[38;5;241m.\u001b[39mMES(torch\u001b[38;5;241m.\u001b[39mTensor(X), [\u001b[38;5;241m4\u001b[39m])\n\u001b[0;32m----> 2\u001b[0m loss_old \u001b[38;5;241m=\u001b[39m loss(\u001b[43mret\u001b[49m\u001b[38;5;241;43m.\u001b[39;49m\u001b[43mmodel\u001b[49m\u001b[38;5;241m.\u001b[39mmatrix())\u001b[38;5;241m.\u001b[39mitem()\n\u001b[1;32m      3\u001b[0m loss(ret\u001b[38;5;241m.\u001b[39mmodel\u001b[38;5;241m.\u001b[39mmatrix())\u001b[38;5;241m.\u001b[39mbackward()\n\u001b[1;32m      4\u001b[0m W \u001b[38;5;241m=\u001b[39m ret\u001b[38;5;241m.\u001b[39mmodel\u001b[38;5;241m.\u001b[39mmatrix()\u001b[38;5;241m.\u001b[39mdata\n",
      "File \u001b[0;32m/usr/local/lib/python3.9/dist-packages/scipy/optimize/_optimize.py:126\u001b[0m, in \u001b[0;36mOptimizeResult.__getattr__\u001b[0;34m(self, name)\u001b[0m\n\u001b[1;32m    124\u001b[0m     \u001b[38;5;28;01mreturn\u001b[39;00m \u001b[38;5;28mself\u001b[39m[name]\n\u001b[1;32m    125\u001b[0m \u001b[38;5;28;01mexcept\u001b[39;00m \u001b[38;5;167;01mKeyError\u001b[39;00m \u001b[38;5;28;01mas\u001b[39;00m e:\n\u001b[0;32m--> 126\u001b[0m     \u001b[38;5;28;01mraise\u001b[39;00m \u001b[38;5;167;01mAttributeError\u001b[39;00m(name) \u001b[38;5;28;01mfrom\u001b[39;00m \u001b[38;5;21;01me\u001b[39;00m\n",
      "\u001b[0;31mAttributeError\u001b[0m: model"
     ]
    }
   ],
   "source": [
    "loss = nsp.loss.MES(torch.Tensor(X), [4])\n",
    "loss_old = loss(ret.model.matrix()).item()\n",
    "loss(ret.model.matrix()).backward()\n",
    "W = ret.model.matrix().data\n",
    "t = 0.001\n",
    "res = []\n",
    "for _ in range(1000):\n",
    "    S_ = np.random.randn(4,4) + 1j*np.random.randn(4,4)\n",
    "    S_ = S_ - S_.T\n",
    "    S_ = torch.from_numpy(S_)\n",
    "    S_ = S_/torch.linalg.norm(S_@W)\n",
    "    loss_random = loss(torch.matrix_exp(-t*S_)@W)\n",
    "    res.append((loss_random-loss_old).item())\n"
   ]
  },
  {
   "cell_type": "code",
   "execution_count": 17,
   "id": "298bfa18",
   "metadata": {},
   "outputs": [],
   "source": [
    "from header import *\n",
    "\n",
    "lr = 0.005\n",
    "D = 2\n",
    "model_sgd_0 = nsp.model.UnitaryRiemanGenerator(D, dtype=torch.float64)\n",
    "model_sgd_1 = copy.deepcopy(model_sgd_0)\n",
    "model_sgd_2 = copy.deepcopy(model_sgd_0)\n",
    "model_cg = copy.deepcopy(model_sgd_0)\n",
    "\n",
    "model_lie = nsp.model.UnitaryGenerator(D, dtype=torch.float64)\n",
    "bounds = [[-30, 30]] * model_lie._n_params\n",
    "\n",
    "res = []\n",
    "for _ in range(100):\n",
    "    tmp = []\n",
    "    X = np.random.randn(D**2,D**2)\n",
    "    X = X.T + X\n",
    "    loss = nsp.loss.L1(torch.Tensor(X), [D,D])\n",
    "    solver = UnitarySymmTs(RiemanSGD, model_sgd_0, loss, lr = lr, momentum=0, pout = False)\n",
    "    ret = solver.run(500, disable_message=True)\n",
    "    tmp.append(ret[\"fun\"])\n",
    "    \n",
    "    solver = UnitarySymmTs(RiemanSGD, model_sgd_1, loss, lr = lr, momentum=0.1, pout = False)\n",
    "    ret = solver.run(500, disable_message=True)\n",
    "    tmp.append(ret[\"fun\"])\n",
    "\n",
    "    solver = UnitarySymmTs(RiemanSGD, model_sgd_2, loss, lr = lr, momentum=0.5, pout = False)\n",
    "    ret = solver.run(500, disable_message=True)\n",
    "    tmp.append(ret[\"fun\"])\n",
    "    \n",
    "    solver = UnitarySymmTs(RiemanCG, model_cg, loss, lr = lr, momentum=0, pout = False)\n",
    "    ret = solver.run(500, disable_message=True)\n",
    "    tmp.append(ret[\"fun\"])\n",
    "    \n",
    "    ret = scipy.optimize.dual_annealing(SymmSolver(model_lie, loss, False), bounds = bounds, restart_temp_ratio = 1e-3,\n",
    "                                  visit = 2.7, initial_temp = 10**4, maxiter = 200)\n",
    "    tmp.append(ret.fun)\n",
    "    res.append(tmp)"
   ]
  },
  {
   "cell_type": "code",
   "execution_count": 18,
   "id": "fa8f6679",
   "metadata": {},
   "outputs": [
    {
     "name": "stdout",
     "output_type": "stream",
     "text": [
      "Failed save figure : given path exsist images/hist_annealing_vs_riemansgd_D=2_L=L1.jpeg\n"
     ]
    },
    {
     "data": {
      "image/png": "[encoded data removed]",
      "text/plain": [
       "<Figure size 432x288 with 1 Axes>"
      ]
     },
     "metadata": {
      "needs_background": "light"
     },
     "output_type": "display_data"
    }
   ],
   "source": [
    "res = np.array(res)\n",
    "fig, ax = plt.subplots()\n",
    "res = np.array(res)\n",
    "ax.hist(res[:,0] - res[:,-1], label=\"samples\", bins=100)\n",
    "ax.legend()\n",
    "\n",
    "\n",
    "ax.set_title('annealing vs SGD (momentum = 0)')\n",
    "ax.set_xlabel('loss_aneeling - loss_sgd')\n",
    "ax.set_ylabel(\"frequency\")\n",
    "save_fig(plt, f'images/hist_annealing_vs_riemansgd_D={D}_L={type(loss).__name__}.jpeg', 400)\n",
    "# plt.savefig(f'images/hist_sgd_vs_cg_D={D}_L={type(loss).__name__}.jpeg', dpi=400)"
   ]
  },
  {
   "cell_type": "code",
   "execution_count": 19,
   "id": "3fc019f7",
   "metadata": {},
   "outputs": [
    {
     "name": "stdout",
     "output_type": "stream",
     "text": [
      "Failed save figure : given path exsist images/hist_annealing_vs_riemansgd1_D=2_L=L1.jpeg\n"
     ]
    },
    {
     "data": {
      "image/png": "[encoded data removed]",
      "text/plain": [
       "<Figure size 432x288 with 1 Axes>"
      ]
     },
     "metadata": {
      "needs_background": "light"
     },
     "output_type": "display_data"
    }
   ],
   "source": [
    "res = np.array(res)\n",
    "fig, ax = plt.subplots()\n",
    "res = np.array(res)\n",
    "ax.hist(res[:,1] - res[:,-1], label=\"samples\", bins=100)\n",
    "ax.legend()\n",
    "\n",
    "\n",
    "ax.set_title('annealing vs SGD (momentum = 0.1)')\n",
    "ax.set_xlabel('loss_aneeling - loss_sgd')\n",
    "ax.set_ylabel(\"frequency\")\n",
    "save_fig(plt, f'images/hist_annealing_vs_riemansgd1_D={D}_L={type(loss).__name__}.jpeg', 400)\n",
    "# plt.savefig(f'images/hist_sgd_vs_cg_D={D}_L={type(loss).__name__}.jpeg', dpi=400)"
   ]
  },
  {
   "cell_type": "code",
   "execution_count": 20,
   "id": "0988c3be",
   "metadata": {},
   "outputs": [
    {
     "name": "stdout",
     "output_type": "stream",
     "text": [
      "Failed save figure : given path exsist images/hist_annealing_vs_riemansgd2_D=2_L=L1.jpeg\n"
     ]
    },
    {
     "data": {
      "image/png": "[encoded data removed]",
      "text/plain": [
       "<Figure size 432x288 with 1 Axes>"
      ]
     },
     "metadata": {
      "needs_background": "light"
     },
     "output_type": "display_data"
    }
   ],
   "source": [
    "res = np.array(res)\n",
    "fig, ax = plt.subplots()\n",
    "res = np.array(res)\n",
    "ax.hist(res[:,2] - res[:,-1], label=\"samples\", bins=100)\n",
    "ax.legend()\n",
    "\n",
    "\n",
    "ax.set_title('annealing vs SGD (momentum = 0.5)')\n",
    "ax.set_xlabel('loss_aneeling - loss_sgd')\n",
    "ax.set_ylabel(\"frequency\")\n",
    "save_fig(plt, f'images/hist_annealing_vs_riemansgd2_D={D}_L={type(loss).__name__}.jpeg', 400)\n",
    "# plt.savefig(f'images/hist_sgd_vs_cg_D={D}_L={type(loss).__name__}.jpeg', dpi=400)"
   ]
  },
  {
   "cell_type": "code",
   "execution_count": 21,
   "id": "1ea6da31",
   "metadata": {},
   "outputs": [
    {
     "name": "stdout",
     "output_type": "stream",
     "text": [
      "Failed save figure : given path exsist images/hist_annealing_vs_cg_D=2_L=L1.jpeg\n"
     ]
    },
    {
     "data": {
      "image/png": "[encoded data removed]",
      "text/plain": [
       "<Figure size 432x288 with 1 Axes>"
      ]
     },
     "metadata": {
      "needs_background": "light"
     },
     "output_type": "display_data"
    }
   ],
   "source": [
    "res = np.array(res)\n",
    "fig, ax = plt.subplots()\n",
    "res = np.array(res)\n",
    "ax.hist(res[:,3] - res[:,-1], label=\"samples\", bins=100)\n",
    "ax.legend()\n",
    "\n",
    "\n",
    "ax.set_title('annealing vs CG')\n",
    "ax.set_xlabel('loss_aneeling - loss_cg')\n",
    "ax.set_ylabel(\"frequency\")\n",
    "save_fig(plt, f'images/hist_annealing_vs_cg_D={D}_L={type(loss).__name__}.jpeg', 400)\n",
    "# plt.savefig(f'images/hist_sgd_vs_cg_D={D}_L={type(loss).__name__}.jpeg', dpi=400)"
   ]
  },
  {
   "cell_type": "code",
   "execution_count": 27,
   "id": "1b671f16",
   "metadata": {},
   "outputs": [
    {
     "data": {
      "text/plain": [
       "'2022-07-05_06:00:59.753909'"
      ]
     },
     "execution_count": 27,
     "metadata": {},
     "output_type": "execute_result"
    }
   ],
   "source": [
    "import datetime\n",
    "\n",
    "dt = datetime.datetime.today()  # ローカルな現在の日付と時刻を取得\n",
    "\"_\".join(str(dt).split(\" \"))"
   ]
  },
  {
   "cell_type": "code",
   "execution_count": 54,
   "id": "e368ab63",
   "metadata": {},
   "outputs": [],
   "source": [
    "from header import *\n",
    "D = 3\n",
    "X = np.random.randn(D**2, D**2)\n",
    "X = (X + X.T)/2\n",
    "mask = X>=(1/(D**2))\n",
    "X[mask] = 0\n",
    "E0 = np.linalg.eigvalsh(X)[0]"
   ]
  },
  {
   "cell_type": "code",
   "execution_count": 55,
   "id": "7744926a",
   "metadata": {},
   "outputs": [
    {
     "data": {
      "text/plain": [
       "array([0.55854976, 0.81605303, 1.2024018 , 2.0357444 , 2.272951  ,\n",
       "       2.5335343 , 2.8768919 , 3.1520739 , 4.228941  ], dtype=float32)"
      ]
     },
     "execution_count": 55,
     "metadata": {},
     "output_type": "execute_result"
    }
   ],
   "source": [
    "Loss = nsp.loss.MES(torch.Tensor(X), [D,D]) \n",
    "Y = Loss.X.data\n",
    "np.linalg.eigvalsh(np.abs(Y))"
   ]
  },
  {
   "cell_type": "code",
   "execution_count": 94,
   "id": "123e7baa",
   "metadata": {},
   "outputs": [],
   "source": [
    "Y = np.array(Loss.X.data)\n",
    "E, V = np.linalg.eigh(Y) \n",
    "Ea, Va = np.linalg.eigh(np.abs(Y))"
   ]
  },
  {
   "cell_type": "code",
   "execution_count": 111,
   "id": "bc62875f",
   "metadata": {},
   "outputs": [
    {
     "data": {
      "text/plain": [
       "True"
      ]
     },
     "execution_count": 111,
     "metadata": {},
     "output_type": "execute_result"
    }
   ],
   "source": [
    "isinstance([3,4], list)"
   ]
  },
  {
   "cell_type": "code",
   "execution_count": 110,
   "id": "4ebcbd33",
   "metadata": {},
   "outputs": [
    {
     "data": {
      "text/plain": [
       "[Parameter containing:\n",
       " tensor([-0.9848,  0.0112,  0.1731,  0.1183, -0.6867,  0.7172,  0.1269,  0.7268,\n",
       "          0.6750], dtype=torch.float64, requires_grad=True)]"
      ]
     },
     "execution_count": 110,
     "metadata": {},
     "output_type": "execute_result"
    }
   ],
   "source": [
    "list(model_rf.parameters())"
   ]
  },
  {
   "cell_type": "code",
   "execution_count": 107,
   "id": "afe9ef98",
   "metadata": {},
   "outputs": [
    {
     "data": {
      "text/plain": [
       "array([[0.        , 0.        , 1.5164971 , 0.        , 0.993344  ,\n",
       "        0.        , 0.        , 0.93901885, 1.1813904 ],\n",
       "       [0.        , 0.        , 0.        , 0.        , 0.        ,\n",
       "        0.15686078, 0.        , 0.39691994, 0.        ],\n",
       "       [1.5164971 , 0.        , 0.        , 0.47393334, 0.        ,\n",
       "        0.        , 0.        , 0.        , 0.        ],\n",
       "       [0.        , 0.        , 0.47393334, 0.        , 0.        ,\n",
       "        0.        , 2.038791  , 0.15622143, 1.0123354 ],\n",
       "       [0.993344  , 0.        , 0.        , 0.        , 0.        ,\n",
       "        0.        , 0.47028244, 0.05242529, 1.8916839 ],\n",
       "       [0.        , 0.15686078, 0.        , 0.        , 0.        ,\n",
       "        0.        , 0.        , 0.        , 1.4775648 ],\n",
       "       [0.        , 0.        , 0.        , 2.038791  , 0.47028244,\n",
       "        0.        , 0.        , 1.5282452 , 0.5946963 ],\n",
       "       [0.93901885, 0.39691994, 0.        , 0.15622143, 0.05242529,\n",
       "        0.        , 1.5282452 , 0.        , 0.        ],\n",
       "       [1.1813904 , 0.        , 0.        , 1.0123354 , 1.8916839 ,\n",
       "        1.4775648 , 0.5946963 , 0.        , 0.        ]], dtype=float32)"
      ]
     },
     "execution_count": 107,
     "metadata": {},
     "output_type": "execute_result"
    }
   ],
   "source": [
    "np.abs(Y)-Y"
   ]
  },
  {
   "cell_type": "code",
   "execution_count": 106,
   "id": "76017dc1",
   "metadata": {},
   "outputs": [
    {
     "data": {
      "text/plain": [
       "3.8970418"
      ]
     },
     "execution_count": 106,
     "metadata": {},
     "output_type": "execute_result"
    }
   ],
   "source": [
    "Va[:,-1] @ (np.abs(Y)-Y) @ Va[:,-1] "
   ]
  },
  {
   "cell_type": "code",
   "execution_count": 105,
   "id": "9c144b9e",
   "metadata": {},
   "outputs": [
    {
     "data": {
      "text/plain": [
       "-2.716371"
      ]
     },
     "execution_count": 105,
     "metadata": {},
     "output_type": "execute_result"
    }
   ],
   "source": [
    "V[:,-1] @ (np.abs(Y)-Y) @ V[:,-1]"
   ]
  },
  {
   "cell_type": "code",
   "execution_count": 82,
   "id": "097902b0",
   "metadata": {},
   "outputs": [
    {
     "name": "stdout",
     "output_type": "stream",
     "text": [
      "tensor(4.2289, grad_fn=<SelectBackward0>)\n",
      "target loss      : 3.7395293713\n",
      "initial loss     : 4.5095285735\n",
      "\n",
      "================================================== \n",
      "\n"
     ]
    },
    {
     "data": {
      "application/vnd.jupyter.widget-view+json": {
       "model_id": "5dcfb70e6d124e45bc1d2da3c34fe3bf",
       "version_major": 2,
       "version_minor": 0
      },
      "text/plain": [
       "  0%|          | 0/500 [00:00<?, ?it/s]"
      ]
     },
     "metadata": {},
     "output_type": "display_data"
    },
    {
     "name": "stdout",
     "output_type": "stream",
     "text": [
      "No local minimum found\n",
      "-1.543498226630309e-11 3.6358858778839926e-15 4.103038151877053 4.103038151855147\n",
      "stack in local minimum --> break loop\n"
     ]
    }
   ],
   "source": [
    "from header import *\n",
    "\n",
    "lr = 0.001\n",
    "\n",
    "\n",
    "import copy\n",
    "\n",
    "model_rf = nsp.model.UnitaryRiemanGenerator(D, dtype=torch.float64)\n",
    "model_rg = nsp.model.UnitaryRiemanGenerator(D, dtype=torch.complex128)\n",
    "\n",
    "model_rf.set_params(torch.eye(model_rf.matrix().shape[0]).view(-1))\n",
    "\n",
    "print(Loss(model_rf.matrix()))\n",
    "\n",
    "model_rg.reset_params()\n",
    "model_rf.reset_params()\n",
    "\n",
    "# set_seed(333)\n",
    "\n",
    "res = []\n",
    "# X_list = np.load(\"X_list.npy\")\n",
    "# for X in X_list[:3]:\n",
    "sparse = 1/D\n",
    "\n",
    "\n",
    "tmp = []\n",
    "\n",
    "\n",
    "solver = UnitarySymmTs(RiemanUnitaryCG, model_rf, Loss, pout = True)\n",
    "ret = solver.run(500, disable_message=False)\n"
   ]
  },
  {
   "cell_type": "code",
   "execution_count": 52,
   "id": "1b186320",
   "metadata": {},
   "outputs": [],
   "source": [
    "model = model_rg\n",
    "cg = RiemanUnitaryCG(model, Loss, 0.001)\n",
    "Loss(model.matrix()).backward()\n",
    "S, W = cg._riemannian_grad(model._params)\n",
    "\n",
    "W = W.detach()\n",
    "S = S.detach()\n",
    "def objective(t):\n",
    "    return Loss(torch.matrix_exp(-t*S)@W).item()\n",
    "\n",
    "delta = 0.01\n",
    "t = torch.tensor([0.], requires_grad=True)\n",
    "Loss(torch.matrix_exp(-t*S)@W).backward()\n",
    "step = abs(objective(0) / t.grad.item() * delta)"
   ]
  },
  {
   "cell_type": "code",
   "execution_count": 53,
   "id": "8e014755",
   "metadata": {},
   "outputs": [
    {
     "name": "stdout",
     "output_type": "stream",
     "text": [
      "0.00037100838988031817\n"
     ]
    }
   ],
   "source": [
    "lr = cg._golden(W.detach(),S.detach())\n",
    "# print(objective(0), objective(step), objective(step*10))\n",
    "# step *= 10"
   ]
  },
  {
   "cell_type": "code",
   "execution_count": 54,
   "id": "b0bb28ae",
   "metadata": {},
   "outputs": [
    {
     "name": "stdout",
     "output_type": "stream",
     "text": [
      "0.00037100838988031817 164.72608349107475\n"
     ]
    }
   ],
   "source": [
    "from scipy.optimize import minimize_scalar\n",
    "\n",
    "# lr = scipy.optimize.golden(objective, brack=(0, step, step*10))\n",
    "print(lr, objective(lr))"
   ]
  },
  {
   "cell_type": "code",
   "execution_count": 55,
   "id": "da0fd4e6",
   "metadata": {},
   "outputs": [
    {
     "data": {
      "image/png": "[encoded data removed]",
      "text/plain": [
       "<Figure size 432x288 with 2 Axes>"
      ]
     },
     "metadata": {
      "needs_background": "light"
     },
     "output_type": "display_data"
    }
   ],
   "source": [
    "from header import *\n",
    "import numpy as np\n",
    "import matplotlib.pyplot as plt\n",
    "import matplotlib.ticker as mtick\n",
    "\n",
    "# loss_l2 = nsp.loss.L2(X, [D,D])\n",
    "# loss_mes = nsp.loss.MES(X, [D,D])\n",
    "t = 0.001\n",
    "ret_min_grad = 1e10\n",
    "\n",
    "\n",
    "\n",
    "res_grad = []\n",
    "res = []\n",
    "# step = step*10\n",
    "x = np.linspace(-10*abs(step), 10*abs(step), 200)\n",
    "for t_ in x:\n",
    "    t =  torch.tensor([t_], requires_grad=True, dtype=torch.float64)\n",
    "    U = torch.matrix_exp(-t*S)@W\n",
    "    loss = Loss(U)\n",
    "    g = torch.autograd.grad(loss, t, create_graph=True)\n",
    "    res.append(loss.item())\n",
    "    res_grad.append(g[0].item())   \n",
    "\n",
    "fig, ax1 = plt.subplots()\n",
    "ax2 = ax1.twinx()\n",
    "ax1.set_title('measure along geodesics in direction of riemannian gradient')\n",
    "ax1.set_xlabel('t along geodesics')\n",
    "ax1.set_ylabel('loss', color='g')\n",
    "ax2.set_ylabel('loss_grad', color='b')\n",
    "ax1.plot(x, res, color=\"g\")\n",
    "ax2.plot(x, res_grad, color=\"b\")\n",
    "current_values = plt.gca().get_yticks()\n",
    "ax1.xaxis.set_major_formatter(mtick.FormatStrFormatter('%.2e'))\n",
    "fig.show()"
   ]
  },
  {
   "cell_type": "code",
   "execution_count": 11,
   "id": "686ba4c8",
   "metadata": {},
   "outputs": [
    {
     "name": "stdout",
     "output_type": "stream",
     "text": [
      "1.9093e-05\n"
     ]
    },
    {
     "data": {
      "image/png": "[encoded data removed]",
      "text/plain": [
       "<Figure size 432x288 with 1 Axes>"
      ]
     },
     "metadata": {
      "needs_background": "light"
     },
     "output_type": "display_data"
    }
   ],
   "source": [
    "current_values = plt.gca().get_yticks()\n",
    "print(\"{:.4e}\".format(lr))"
   ]
  },
  {
   "cell_type": "code",
   "execution_count": 75,
   "id": "f213a206",
   "metadata": {},
   "outputs": [],
   "source": [
    "# cg._golden(W.detach(),S.detach())\n"
   ]
  },
  {
   "cell_type": "code",
   "execution_count": 80,
   "id": "a2f733eb",
   "metadata": {},
   "outputs": [],
   "source": [
    "f = Loss(torch.matrix_exp(-t*S)@W)\n",
    "g = torch.autograd.grad(f, t, create_graph=True)\n",
    "g2 = torch.autograd.grad(g, t, create_graph=True)"
   ]
  },
  {
   "cell_type": "code",
   "execution_count": 88,
   "id": "78cd148d",
   "metadata": {},
   "outputs": [],
   "source": [
    "with torch.no_grad():\n",
    "    step = (g[0] / g2[0]) * 0.01"
   ]
  },
  {
   "cell_type": "code",
   "execution_count": 89,
   "id": "a2958866",
   "metadata": {},
   "outputs": [
    {
     "data": {
      "text/plain": [
       "tensor([-6.1564e-05])"
      ]
     },
     "execution_count": 89,
     "metadata": {},
     "output_type": "execute_result"
    }
   ],
   "source": [
    "step"
   ]
  },
  {
   "cell_type": "code",
   "execution_count": 72,
   "id": "a294c2a5",
   "metadata": {},
   "outputs": [
    {
     "data": {
      "text/plain": [
       "-2.3202754821649574e-12"
      ]
     },
     "execution_count": 72,
     "metadata": {},
     "output_type": "execute_result"
    }
   ],
   "source": [
    "t.grad.item()"
   ]
  },
  {
   "cell_type": "code",
   "execution_count": 67,
   "id": "37e93f34",
   "metadata": {},
   "outputs": [
    {
     "data": {
      "text/plain": [
       "-1.963310156810616e-12"
      ]
     },
     "execution_count": 67,
     "metadata": {},
     "output_type": "execute_result"
    }
   ],
   "source": [
    "t.grad.item()"
   ]
  },
  {
   "cell_type": "code",
   "execution_count": 66,
   "id": "e8c95712",
   "metadata": {},
   "outputs": [
    {
     "data": {
      "text/plain": [
       "1.9120745386919595"
      ]
     },
     "execution_count": 66,
     "metadata": {},
     "output_type": "execute_result"
    }
   ],
   "source": [
    "objective(0)"
   ]
  },
  {
   "cell_type": "code",
   "execution_count": 32,
   "id": "3243c734",
   "metadata": {},
   "outputs": [
    {
     "data": {
      "text/plain": [
       "-2.9657366812972122e-06"
      ]
     },
     "execution_count": 32,
     "metadata": {},
     "output_type": "execute_result"
    }
   ],
   "source": [
    "step"
   ]
  },
  {
   "cell_type": "code",
   "execution_count": 41,
   "id": "5d99297a",
   "metadata": {},
   "outputs": [
    {
     "data": {
      "text/plain": [
       "(22622.053375366908, 22428.084411819087, 23502.480540665827)"
      ]
     },
     "execution_count": 41,
     "metadata": {},
     "output_type": "execute_result"
    }
   ],
   "source": [
    "objective(0), objective(step), objective(step*10)"
   ]
  },
  {
   "cell_type": "code",
   "execution_count": 42,
   "id": "d769a1e1",
   "metadata": {},
   "outputs": [
    {
     "data": {
      "text/plain": [
       "1.2291359954038044e-05"
      ]
     },
     "execution_count": 42,
     "metadata": {},
     "output_type": "execute_result"
    }
   ],
   "source": [
    "from scipy.optimize import minimize_scalar\n",
    "\n",
    "scipy.optimize.golden(objective, brack=(0, step, step*10))\n"
   ]
  },
  {
   "cell_type": "code",
   "execution_count": 52,
   "id": "5dcda39a",
   "metadata": {},
   "outputs": [
    {
     "data": {
      "text/plain": [
       "31163.407361635935"
      ]
     },
     "execution_count": 52,
     "metadata": {},
     "output_type": "execute_result"
    }
   ],
   "source": [
    "objective(step/delta)"
   ]
  }
 ],
 "metadata": {
  "kernelspec": {
   "display_name": "Python 3 (ipykernel)",
   "language": "python",
   "name": "python3"
  },
  "language_info": {
   "codemirror_mode": {
    "name": "ipython",
    "version": 3
   },
   "file_extension": ".py",
   "mimetype": "text/x-python",
   "name": "python",
   "nbconvert_exporter": "python",
   "pygments_lexer": "ipython3",
   "version": "3.9.13"
  }
 },
 "nbformat": 4,
 "nbformat_minor": 5
}
