{
 "cells": [
  {
   "cell_type": "code",
   "execution_count": 14,
   "id": "635ccf15",
   "metadata": {},
   "outputs": [],
   "source": [
    "from header import *\n",
    "\n",
    "lr = 0.001\n",
    "D = 2\n",
    "import copy\n",
    "\n",
    "model_f = nsp.model.UnitaryGenerator(D, dtype=torch.float64)\n",
    "model_g = nsp.model.UnitaryGenerator(D, dtype=torch.complex128)\n",
    "model_rf = nsp.model.UnitaryRiemanGenerator(D, dtype=torch.float64)\n",
    "model_rg = nsp.model.UnitaryRiemanGenerator(D, dtype=torch.complex128)\n",
    "model_sl = nsp.model.SlRiemanGenerator(D, dtype=torch.float64)\n",
    "# set_seed(2022)\n",
    "\n",
    "X = np.random.randn(D**2,D**2)\n",
    "X = X.T + X \n",
    "# X = X_list[1]\n",
    "loss = nsp.loss.L2(torch.Tensor(X), [D,D], matinv)"
   ]
  },
  {
   "cell_type": "code",
   "execution_count": 15,
   "id": "45aae244",
   "metadata": {},
   "outputs": [],
   "source": [
    "slcg = RiemanSlCG(model_sl, loss, lr = 0.1)"
   ]
  },
  {
   "cell_type": "code",
   "execution_count": 16,
   "id": "344505db",
   "metadata": {},
   "outputs": [],
   "source": [
    "loss(model_sl.matrix()).backward()"
   ]
  },
  {
   "cell_type": "code",
   "execution_count": 17,
   "id": "1c91fd98",
   "metadata": {},
   "outputs": [
    {
     "data": {
      "text/plain": [
       "tensor(-1.8574, dtype=torch.float64, grad_fn=<DetLuBasedHelperBackward0>)"
      ]
     },
     "execution_count": 17,
     "metadata": {},
     "output_type": "execute_result"
    }
   ],
   "source": [
    "model_sl.reset_params()\n",
    "torch.linalg.det(model_sl.matrix())"
   ]
  },
  {
   "cell_type": "code",
   "execution_count": 18,
   "id": "336d81d1",
   "metadata": {},
   "outputs": [
    {
     "data": {
      "text/plain": [
       "tensor([[ 0.0663,  0.6326],\n",
       "        [-0.3200,  0.0023]], dtype=torch.float64, grad_fn=<ViewBackward0>)"
      ]
     },
     "execution_count": 18,
     "metadata": {},
     "output_type": "execute_result"
    }
   ],
   "source": [
    "model_sl.reset_params()\n",
    "model_sl.matrix()"
   ]
  },
  {
   "cell_type": "code",
   "execution_count": 10,
   "id": "29702c11",
   "metadata": {},
   "outputs": [
    {
     "data": {
      "text/plain": [
       "tensor(-11.8616, dtype=torch.float64, grad_fn=<DetLuBasedHelperBackward0>)"
      ]
     },
     "execution_count": 10,
     "metadata": {},
     "output_type": "execute_result"
    }
   ],
   "source": [
    "torch.linalg.det(model_sl.matrix())"
   ]
  },
  {
   "cell_type": "code",
   "execution_count": 7,
   "id": "05d5dabf",
   "metadata": {},
   "outputs": [
    {
     "data": {
      "text/plain": [
       "(tensor([[-3.7497e+12, -7.3609e+12],\n",
       "         [ 2.3916e+12,  4.6951e+12]], dtype=torch.float64),\n",
       " tensor([[  8.5561, -18.0918],\n",
       "         [ -5.9916,  11.2827]], dtype=torch.float64))"
      ]
     },
     "execution_count": 7,
     "metadata": {},
     "output_type": "execute_result"
    }
   ],
   "source": [
    "slcg._riemannian_grad(model_sl._params)"
   ]
  },
  {
   "cell_type": "code",
   "execution_count": 2,
   "id": "0b17350d",
   "metadata": {
    "scrolled": false
   },
   "outputs": [
    {
     "name": "stdout",
     "output_type": "stream",
     "text": [
      "target loss      : 0.0000000000\n",
      "initial loss     : 0.5642615937\n",
      "\n",
      "================================================== \n",
      "\n"
     ]
    },
    {
     "data": {
      "application/vnd.jupyter.widget-view+json": {
       "model_id": "46c72a4dc85948c3bd866b61fd21f767",
       "version_major": 2,
       "version_minor": 0
      },
      "text/plain": [
       "  0%|          | 0/500 [00:00<?, ?it/s]"
      ]
     },
     "metadata": {},
     "output_type": "display_data"
    },
    {
     "name": "stdout",
     "output_type": "stream",
     "text": [
      "tensor([[ 0.0000+0.j, -0.6575+0.j],\n",
      "        [ 0.6575+0.j,  0.0000+0.j]], dtype=torch.complex128)\n",
      "tensor([[ 0.0000+0.j, -1.6198+0.j],\n",
      "        [ 1.6198+0.j,  0.0000+0.j]], dtype=torch.complex128)\n",
      "tensor([[ 0.0000+0.j, -3.9904+0.j],\n",
      "        [ 3.9904+0.j,  0.0000+0.j]], dtype=torch.complex128)\n",
      "tensor([[ 0.0000e+00+0.j, -3.4157e-07+0.j],\n",
      "        [ 3.4157e-07+0.j,  0.0000e+00+0.j]], dtype=torch.complex128)\n",
      "stack in local minimum --> break loop\n",
      "Parameter containing:\n",
      "tensor([-0.4638+0.j,  0.2745+0.j, -0.2737+0.j, -0.4601+0.j],\n",
      "       dtype=torch.complex128, requires_grad=True)\n"
     ]
    }
   ],
   "source": [
    "model = model_rg\n",
    "model._params.data[:] = model._params.data[:].real\n",
    "# model.reset_params()\n",
    "solver = UnitarySymmTs(RiemanCG, model, loss, lr = 0.001, momentum=0.1, pout = True)\n",
    "ret = solver.run(500, disable_message=False)\n",
    "print(ret.model._params)"
   ]
  },
  {
   "cell_type": "code",
   "execution_count": 153,
   "id": "f210f220",
   "metadata": {},
   "outputs": [
    {
     "data": {
      "text/plain": [
       "tensor([  88.5757+0.j,  -56.3448+0.j,  103.6056+0.j, -129.1369+0.j],\n",
       "       dtype=torch.complex128)"
      ]
     },
     "execution_count": 153,
     "metadata": {},
     "output_type": "execute_result"
    }
   ],
   "source": [
    "model._params.grad"
   ]
  },
  {
   "cell_type": "code",
   "execution_count": 41,
   "id": "7d9065d2",
   "metadata": {},
   "outputs": [],
   "source": [
    "X_list = []\n",
    "D = 2\n",
    "for _ in range(1000):\n",
    "    X = np.random.randn(D**2,D**2)\n",
    "    X = X.T + X\n",
    "    loss = nsp.loss.L2(torch.Tensor(X), [D,D])    \n",
    "    model_f = nsp.model.UnitaryGenerator(D, dtype=torch.float64)\n",
    "    model_c = nsp.model.UnitaryGenerator(D, dtype=torch.complex128)\n",
    "\n",
    "    bounds = [[-30, 30]] * model_f._n_params\n",
    "    retf = scipy.optimize.dual_annealing(SymmSolver(model_f, loss, False), bounds = bounds, restart_temp_ratio = 1e-3,\n",
    "                                  visit = 2.7, initial_temp = 10**4, maxiter = 200)\n",
    "\n",
    "    bounds = [[-30, 30]] * model_c._n_params\n",
    "    retc = scipy.optimize.dual_annealing(SymmSolver(model_c, loss, False), bounds = bounds, restart_temp_ratio = 1e-3,\n",
    "                                  visit = 2.7, initial_temp = 10**4, maxiter = 200)\n",
    "\n",
    "    if (retf.fun > retc.fun):\n",
    "        X_list.append(X)"
   ]
  },
  {
   "cell_type": "code",
   "execution_count": 4,
   "id": "bc30b450",
   "metadata": {},
   "outputs": [],
   "source": [
    "X_list = np.load(\"X_list.npy\")"
   ]
  },
  {
   "cell_type": "code",
   "execution_count": 13,
   "id": "40d00eee",
   "metadata": {},
   "outputs": [
    {
     "name": "stdout",
     "output_type": "stream",
     "text": [
      "5.770925984678744 5.292979442869336\n",
      "27.847899756439006 13.895719214599572\n",
      "9.789390010988248 2.313756197872604\n",
      "28.791250599565174 26.383543581852283\n",
      "6.69481761216576 2.588452928564311\n",
      "7.800129720637193 6.635604708698235\n",
      "21.930120593746587 11.48976303839277\n",
      "30.37899820061749 21.650105739625694\n",
      "13.149980090020117 9.509583572453515\n"
     ]
    },
    {
     "ename": "KeyboardInterrupt",
     "evalue": "",
     "output_type": "error",
     "traceback": [
      "\u001b[0;31m---------------------------------------------------------------------------\u001b[0m",
      "\u001b[0;31mKeyboardInterrupt\u001b[0m                         Traceback (most recent call last)",
      "Input \u001b[0;32mIn [13]\u001b[0m, in \u001b[0;36m<cell line: 1>\u001b[0;34m()\u001b[0m\n\u001b[1;32m      4\u001b[0m model_c \u001b[38;5;241m=\u001b[39m nsp\u001b[38;5;241m.\u001b[39mmodel\u001b[38;5;241m.\u001b[39mUnitaryGenerator(D, dtype\u001b[38;5;241m=\u001b[39mtorch\u001b[38;5;241m.\u001b[39mcomplex128)\n\u001b[1;32m      6\u001b[0m bounds \u001b[38;5;241m=\u001b[39m [[\u001b[38;5;241m-\u001b[39m\u001b[38;5;241m30\u001b[39m, \u001b[38;5;241m30\u001b[39m]] \u001b[38;5;241m*\u001b[39m model_f\u001b[38;5;241m.\u001b[39m_n_params\n\u001b[0;32m----> 7\u001b[0m retf \u001b[38;5;241m=\u001b[39m \u001b[43mscipy\u001b[49m\u001b[38;5;241;43m.\u001b[39;49m\u001b[43moptimize\u001b[49m\u001b[38;5;241;43m.\u001b[39;49m\u001b[43mdual_annealing\u001b[49m\u001b[43m(\u001b[49m\u001b[43mSymmSolver\u001b[49m\u001b[43m(\u001b[49m\u001b[43mmodel_f\u001b[49m\u001b[43m,\u001b[49m\u001b[43m \u001b[49m\u001b[43mloss\u001b[49m\u001b[43m,\u001b[49m\u001b[43m \u001b[49m\u001b[38;5;28;43;01mFalse\u001b[39;49;00m\u001b[43m)\u001b[49m\u001b[43m,\u001b[49m\u001b[43m \u001b[49m\u001b[43mbounds\u001b[49m\u001b[43m \u001b[49m\u001b[38;5;241;43m=\u001b[39;49m\u001b[43m \u001b[49m\u001b[43mbounds\u001b[49m\u001b[43m,\u001b[49m\u001b[43m \u001b[49m\u001b[43mrestart_temp_ratio\u001b[49m\u001b[43m \u001b[49m\u001b[38;5;241;43m=\u001b[39;49m\u001b[43m \u001b[49m\u001b[38;5;241;43m1e-3\u001b[39;49m\u001b[43m,\u001b[49m\n\u001b[1;32m      8\u001b[0m \u001b[43m                              \u001b[49m\u001b[43mvisit\u001b[49m\u001b[43m \u001b[49m\u001b[38;5;241;43m=\u001b[39;49m\u001b[43m \u001b[49m\u001b[38;5;241;43m2.7\u001b[39;49m\u001b[43m,\u001b[49m\u001b[43m \u001b[49m\u001b[43minitial_temp\u001b[49m\u001b[43m \u001b[49m\u001b[38;5;241;43m=\u001b[39;49m\u001b[43m \u001b[49m\u001b[38;5;241;43m10\u001b[39;49m\u001b[38;5;241;43m*\u001b[39;49m\u001b[38;5;241;43m*\u001b[39;49m\u001b[38;5;241;43m4\u001b[39;49m\u001b[43m,\u001b[49m\u001b[43m \u001b[49m\u001b[43mmaxiter\u001b[49m\u001b[43m \u001b[49m\u001b[38;5;241;43m=\u001b[39;49m\u001b[43m \u001b[49m\u001b[38;5;241;43m200\u001b[39;49m\u001b[43m)\u001b[49m\n\u001b[1;32m     10\u001b[0m bounds \u001b[38;5;241m=\u001b[39m [[\u001b[38;5;241m-\u001b[39m\u001b[38;5;241m30\u001b[39m, \u001b[38;5;241m30\u001b[39m]] \u001b[38;5;241m*\u001b[39m model_c\u001b[38;5;241m.\u001b[39m_n_params\n\u001b[1;32m     11\u001b[0m retc \u001b[38;5;241m=\u001b[39m scipy\u001b[38;5;241m.\u001b[39moptimize\u001b[38;5;241m.\u001b[39mdual_annealing(SymmSolver(model_c, loss, \u001b[38;5;28;01mFalse\u001b[39;00m), bounds \u001b[38;5;241m=\u001b[39m bounds, restart_temp_ratio \u001b[38;5;241m=\u001b[39m \u001b[38;5;241m1e-3\u001b[39m,\n\u001b[1;32m     12\u001b[0m                               visit \u001b[38;5;241m=\u001b[39m \u001b[38;5;241m2.7\u001b[39m, initial_temp \u001b[38;5;241m=\u001b[39m \u001b[38;5;241m10\u001b[39m\u001b[38;5;241m*\u001b[39m\u001b[38;5;241m*\u001b[39m\u001b[38;5;241m4\u001b[39m, maxiter \u001b[38;5;241m=\u001b[39m \u001b[38;5;241m200\u001b[39m)\n",
      "File \u001b[0;32m/usr/local/lib/python3.9/dist-packages/scipy/optimize/_dual_annealing.py:693\u001b[0m, in \u001b[0;36mdual_annealing\u001b[0;34m(func, bounds, args, maxiter, minimizer_kwargs, initial_temp, restart_temp_ratio, visit, accept, maxfun, seed, no_local_search, callback, x0, local_search_options)\u001b[0m\n\u001b[1;32m    691\u001b[0m     \u001b[38;5;28;01mbreak\u001b[39;00m\n\u001b[1;32m    692\u001b[0m \u001b[38;5;66;03m# starting strategy chain\u001b[39;00m\n\u001b[0;32m--> 693\u001b[0m val \u001b[38;5;241m=\u001b[39m \u001b[43mstrategy_chain\u001b[49m\u001b[38;5;241;43m.\u001b[39;49m\u001b[43mrun\u001b[49m\u001b[43m(\u001b[49m\u001b[43mi\u001b[49m\u001b[43m,\u001b[49m\u001b[43m \u001b[49m\u001b[43mtemperature\u001b[49m\u001b[43m)\u001b[49m\n\u001b[1;32m    694\u001b[0m \u001b[38;5;28;01mif\u001b[39;00m val \u001b[38;5;129;01mis\u001b[39;00m \u001b[38;5;129;01mnot\u001b[39;00m \u001b[38;5;28;01mNone\u001b[39;00m:\n\u001b[1;32m    695\u001b[0m     message\u001b[38;5;241m.\u001b[39mappend(val)\n",
      "File \u001b[0;32m/usr/local/lib/python3.9/dist-packages/scipy/optimize/_dual_annealing.py:299\u001b[0m, in \u001b[0;36mStrategyChain.run\u001b[0;34m(self, step, temperature)\u001b[0m\n\u001b[1;32m    296\u001b[0m x_visit \u001b[38;5;241m=\u001b[39m \u001b[38;5;28mself\u001b[39m\u001b[38;5;241m.\u001b[39mvisit_dist\u001b[38;5;241m.\u001b[39mvisiting(\n\u001b[1;32m    297\u001b[0m     \u001b[38;5;28mself\u001b[39m\u001b[38;5;241m.\u001b[39menergy_state\u001b[38;5;241m.\u001b[39mcurrent_location, j, temperature)\n\u001b[1;32m    298\u001b[0m \u001b[38;5;66;03m# Calling the objective function\u001b[39;00m\n\u001b[0;32m--> 299\u001b[0m e \u001b[38;5;241m=\u001b[39m \u001b[38;5;28;43mself\u001b[39;49m\u001b[38;5;241;43m.\u001b[39;49m\u001b[43mfunc_wrapper\u001b[49m\u001b[38;5;241;43m.\u001b[39;49m\u001b[43mfun\u001b[49m\u001b[43m(\u001b[49m\u001b[43mx_visit\u001b[49m\u001b[43m)\u001b[49m\n\u001b[1;32m    300\u001b[0m \u001b[38;5;28;01mif\u001b[39;00m e \u001b[38;5;241m<\u001b[39m \u001b[38;5;28mself\u001b[39m\u001b[38;5;241m.\u001b[39menergy_state\u001b[38;5;241m.\u001b[39mcurrent_energy:\n\u001b[1;32m    301\u001b[0m     \u001b[38;5;66;03m# We have got a better energy value\u001b[39;00m\n\u001b[1;32m    302\u001b[0m     \u001b[38;5;28mself\u001b[39m\u001b[38;5;241m.\u001b[39menergy_state\u001b[38;5;241m.\u001b[39mupdate_current(e, x_visit)\n",
      "File \u001b[0;32m/usr/local/lib/python3.9/dist-packages/scipy/optimize/_dual_annealing.py:382\u001b[0m, in \u001b[0;36mObjectiveFunWrapper.fun\u001b[0;34m(self, x)\u001b[0m\n\u001b[1;32m    380\u001b[0m \u001b[38;5;28;01mdef\u001b[39;00m \u001b[38;5;21mfun\u001b[39m(\u001b[38;5;28mself\u001b[39m, x):\n\u001b[1;32m    381\u001b[0m     \u001b[38;5;28mself\u001b[39m\u001b[38;5;241m.\u001b[39mnfev \u001b[38;5;241m+\u001b[39m\u001b[38;5;241m=\u001b[39m \u001b[38;5;241m1\u001b[39m\n\u001b[0;32m--> 382\u001b[0m     \u001b[38;5;28;01mreturn\u001b[39;00m \u001b[38;5;28;43mself\u001b[39;49m\u001b[38;5;241;43m.\u001b[39;49m\u001b[43mfunc\u001b[49m\u001b[43m(\u001b[49m\u001b[43mx\u001b[49m\u001b[43m,\u001b[49m\u001b[43m \u001b[49m\u001b[38;5;241;43m*\u001b[39;49m\u001b[38;5;28;43mself\u001b[39;49m\u001b[38;5;241;43m.\u001b[39;49m\u001b[43margs\u001b[49m\u001b[43m)\u001b[49m\n",
      "File \u001b[0;32m~/project/python/nsp/test/../nsp/solver/unitary_solver.py:60\u001b[0m, in \u001b[0;36mSymmSolver.__call__\u001b[0;34m(self, x)\u001b[0m\n\u001b[1;32m     58\u001b[0m     \u001b[38;5;28mprint\u001b[39m(\u001b[38;5;124m\"\u001b[39m\u001b[38;5;124mHi\u001b[39m\u001b[38;5;124m\"\u001b[39m)\n\u001b[1;32m     59\u001b[0m     \u001b[38;5;28;01mreturn\u001b[39;00m \u001b[38;5;28mself\u001b[39m\u001b[38;5;241m.\u001b[39mloss([\u001b[38;5;28mself\u001b[39m\u001b[38;5;241m.\u001b[39mmodel\u001b[38;5;241m.\u001b[39mmatrix(x)]\u001b[38;5;241m*\u001b[39m\u001b[38;5;28mself\u001b[39m\u001b[38;5;241m.\u001b[39mloss\u001b[38;5;241m.\u001b[39m_n_unitaries) \u001b[38;5;241m-\u001b[39m \u001b[38;5;28mself\u001b[39m\u001b[38;5;241m.\u001b[39mloss\u001b[38;5;241m.\u001b[39mtarget\n\u001b[0;32m---> 60\u001b[0m \u001b[38;5;28;01mreturn\u001b[39;00m convert_type(\u001b[38;5;28;43mself\u001b[39;49m\u001b[38;5;241;43m.\u001b[39;49m\u001b[43mloss\u001b[49m\u001b[43m(\u001b[49m\u001b[43m[\u001b[49m\u001b[38;5;28;43mself\u001b[39;49m\u001b[38;5;241;43m.\u001b[39;49m\u001b[43mmodel\u001b[49m\u001b[38;5;241;43m.\u001b[39;49m\u001b[43mmatrix\u001b[49m\u001b[43m(\u001b[49m\u001b[43mx\u001b[49m\u001b[43m)\u001b[49m\u001b[43m]\u001b[49m\u001b[38;5;241;43m*\u001b[39;49m\u001b[38;5;28;43mself\u001b[39;49m\u001b[38;5;241;43m.\u001b[39;49m\u001b[43mloss\u001b[49m\u001b[38;5;241;43m.\u001b[39;49m\u001b[43m_n_unitaries\u001b[49m\u001b[43m)\u001b[49m, np\u001b[38;5;241m.\u001b[39mndarray)\n",
      "File \u001b[0;32m~/project/python/nsp/test/../nsp/loss/base_class.py:68\u001b[0m, in \u001b[0;36mBaseMatirxLoss.__call__\u001b[0;34m(self, U_list)\u001b[0m\n\u001b[1;32m     66\u001b[0m     U_list \u001b[38;5;241m=\u001b[39m [U_list] \u001b[38;5;241m*\u001b[39m \u001b[38;5;28mself\u001b[39m\u001b[38;5;241m.\u001b[39m_n_unitaries\n\u001b[1;32m     67\u001b[0m \u001b[38;5;28mself\u001b[39m\u001b[38;5;241m.\u001b[39m_unitary_check(U_list)\n\u001b[0;32m---> 68\u001b[0m \u001b[38;5;28;01mreturn\u001b[39;00m \u001b[38;5;28mself\u001b[39m\u001b[38;5;241m.\u001b[39mforward(\u001b[38;5;28;43mself\u001b[39;49m\u001b[38;5;241;43m.\u001b[39;49m\u001b[43m_transform\u001b[49m\u001b[43m(\u001b[49m\u001b[43mU_list\u001b[49m\u001b[43m)\u001b[49m)\n",
      "File \u001b[0;32m~/project/python/nsp/test/../nsp/loss/base_class.py:78\u001b[0m, in \u001b[0;36mBaseMatirxLoss._transform_kron\u001b[0;34m(self, U_list)\u001b[0m\n\u001b[1;32m     76\u001b[0m \u001b[38;5;28;01mdef\u001b[39;00m \u001b[38;5;21m_transform_kron\u001b[39m(\u001b[38;5;28mself\u001b[39m, U_list : \u001b[38;5;28mlist\u001b[39m):\n\u001b[1;32m     77\u001b[0m     U \u001b[38;5;241m=\u001b[39m \u001b[38;5;28mself\u001b[39m\u001b[38;5;241m.\u001b[39m_kron(U_list)\n\u001b[0;32m---> 78\u001b[0m     \u001b[38;5;28;01mreturn\u001b[39;00m \u001b[38;5;28;43mself\u001b[39;49m\u001b[38;5;241;43m.\u001b[39;49m\u001b[43m_inverse\u001b[49m\u001b[43m(\u001b[49m\u001b[43mU\u001b[49m\u001b[43m)\u001b[49m\u001b[43m \u001b[49m\u001b[38;5;241;43m@\u001b[39;49m\u001b[43m \u001b[49m\u001b[43mcast_dtype\u001b[49m\u001b[43m(\u001b[49m\u001b[38;5;28;43mself\u001b[39;49m\u001b[38;5;241;43m.\u001b[39;49m\u001b[43mX\u001b[49m\u001b[43m,\u001b[49m\u001b[43m \u001b[49m\u001b[43mU\u001b[49m\u001b[38;5;241;43m.\u001b[39;49m\u001b[43mdtype\u001b[49m\u001b[43m)\u001b[49m \u001b[38;5;241m@\u001b[39m U\n",
      "\u001b[0;31mKeyboardInterrupt\u001b[0m: "
     ]
    }
   ],
   "source": [
    "for X in X_list:\n",
    "    loss = nsp.loss.L2(torch.Tensor(X), [D,D])    \n",
    "    model_f = nsp.model.UnitaryGenerator(D, dtype=torch.float64)\n",
    "    model_c = nsp.model.UnitaryGenerator(D, dtype=torch.complex128)\n",
    "\n",
    "    bounds = [[-30, 30]] * model_f._n_params\n",
    "    retf = scipy.optimize.dual_annealing(SymmSolver(model_f, loss, False), bounds = bounds, restart_temp_ratio = 1e-3,\n",
    "                                  visit = 2.7, initial_temp = 10**4, maxiter = 200)\n",
    "\n",
    "    bounds = [[-30, 30]] * model_c._n_params\n",
    "    retc = scipy.optimize.dual_annealing(SymmSolver(model_c, loss, False), bounds = bounds, restart_temp_ratio = 1e-3,\n",
    "                                  visit = 2.7, initial_temp = 10**4, maxiter = 200)\n",
    "    print(retf.fun, retc.fun)"
   ]
  },
  {
   "cell_type": "code",
   "execution_count": 47,
   "id": "42d39c1d",
   "metadata": {},
   "outputs": [
    {
     "data": {
      "text/plain": [
       "(0.04376096578118228, 0.043760965781625895)"
      ]
     },
     "execution_count": 47,
     "metadata": {},
     "output_type": "execute_result"
    }
   ],
   "source": []
  },
  {
   "cell_type": "code",
   "execution_count": 4,
   "id": "e5fbfb39",
   "metadata": {},
   "outputs": [
    {
     "ename": "AttributeError",
     "evalue": "model",
     "output_type": "error",
     "traceback": [
      "\u001b[0;31m---------------------------------------------------------------------------\u001b[0m",
      "\u001b[0;31mKeyError\u001b[0m                                  Traceback (most recent call last)",
      "File \u001b[0;32m/usr/local/lib/python3.9/dist-packages/scipy/optimize/_optimize.py:124\u001b[0m, in \u001b[0;36mOptimizeResult.__getattr__\u001b[0;34m(self, name)\u001b[0m\n\u001b[1;32m    123\u001b[0m \u001b[38;5;28;01mtry\u001b[39;00m:\n\u001b[0;32m--> 124\u001b[0m     \u001b[38;5;28;01mreturn\u001b[39;00m \u001b[38;5;28;43mself\u001b[39;49m\u001b[43m[\u001b[49m\u001b[43mname\u001b[49m\u001b[43m]\u001b[49m\n\u001b[1;32m    125\u001b[0m \u001b[38;5;28;01mexcept\u001b[39;00m \u001b[38;5;167;01mKeyError\u001b[39;00m \u001b[38;5;28;01mas\u001b[39;00m e:\n",
      "\u001b[0;31mKeyError\u001b[0m: 'model'",
      "\nThe above exception was the direct cause of the following exception:\n",
      "\u001b[0;31mAttributeError\u001b[0m                            Traceback (most recent call last)",
      "Input \u001b[0;32mIn [4]\u001b[0m, in \u001b[0;36m<cell line: 2>\u001b[0;34m()\u001b[0m\n\u001b[1;32m      1\u001b[0m loss \u001b[38;5;241m=\u001b[39m nsp\u001b[38;5;241m.\u001b[39mloss\u001b[38;5;241m.\u001b[39mMES(torch\u001b[38;5;241m.\u001b[39mTensor(X), [\u001b[38;5;241m4\u001b[39m])\n\u001b[0;32m----> 2\u001b[0m loss_old \u001b[38;5;241m=\u001b[39m loss(\u001b[43mret\u001b[49m\u001b[38;5;241;43m.\u001b[39;49m\u001b[43mmodel\u001b[49m\u001b[38;5;241m.\u001b[39mmatrix())\u001b[38;5;241m.\u001b[39mitem()\n\u001b[1;32m      3\u001b[0m loss(ret\u001b[38;5;241m.\u001b[39mmodel\u001b[38;5;241m.\u001b[39mmatrix())\u001b[38;5;241m.\u001b[39mbackward()\n\u001b[1;32m      4\u001b[0m W \u001b[38;5;241m=\u001b[39m ret\u001b[38;5;241m.\u001b[39mmodel\u001b[38;5;241m.\u001b[39mmatrix()\u001b[38;5;241m.\u001b[39mdata\n",
      "File \u001b[0;32m/usr/local/lib/python3.9/dist-packages/scipy/optimize/_optimize.py:126\u001b[0m, in \u001b[0;36mOptimizeResult.__getattr__\u001b[0;34m(self, name)\u001b[0m\n\u001b[1;32m    124\u001b[0m     \u001b[38;5;28;01mreturn\u001b[39;00m \u001b[38;5;28mself\u001b[39m[name]\n\u001b[1;32m    125\u001b[0m \u001b[38;5;28;01mexcept\u001b[39;00m \u001b[38;5;167;01mKeyError\u001b[39;00m \u001b[38;5;28;01mas\u001b[39;00m e:\n\u001b[0;32m--> 126\u001b[0m     \u001b[38;5;28;01mraise\u001b[39;00m \u001b[38;5;167;01mAttributeError\u001b[39;00m(name) \u001b[38;5;28;01mfrom\u001b[39;00m \u001b[38;5;21;01me\u001b[39;00m\n",
      "\u001b[0;31mAttributeError\u001b[0m: model"
     ]
    }
   ],
   "source": [
    "loss = nsp.loss.MES(torch.Tensor(X), [4])\n",
    "loss_old = loss(ret.model.matrix()).item()\n",
    "loss(ret.model.matrix()).backward()\n",
    "W = ret.model.matrix().data\n",
    "t = 0.001\n",
    "res = []\n",
    "for _ in range(1000):\n",
    "    S_ = np.random.randn(4,4) + 1j*np.random.randn(4,4)\n",
    "    S_ = S_ - S_.T\n",
    "    S_ = torch.from_numpy(S_)\n",
    "    S_ = S_/torch.linalg.norm(S_@W)\n",
    "    loss_random = loss(torch.matrix_exp(-t*S_)@W)\n",
    "    res.append((loss_random-loss_old).item())\n"
   ]
  },
  {
   "cell_type": "code",
   "execution_count": 17,
   "id": "298bfa18",
   "metadata": {},
   "outputs": [],
   "source": [
    "from header import *\n",
    "\n",
    "lr = 0.005\n",
    "D = 2\n",
    "model_sgd_0 = nsp.model.UnitaryRiemanGenerator(D, dtype=torch.float64)\n",
    "model_sgd_1 = copy.deepcopy(model_sgd_0)\n",
    "model_sgd_2 = copy.deepcopy(model_sgd_0)\n",
    "model_cg = copy.deepcopy(model_sgd_0)\n",
    "\n",
    "model_lie = nsp.model.UnitaryGenerator(D, dtype=torch.float64)\n",
    "bounds = [[-30, 30]] * model_lie._n_params\n",
    "\n",
    "res = []\n",
    "for _ in range(100):\n",
    "    tmp = []\n",
    "    X = np.random.randn(D**2,D**2)\n",
    "    X = X.T + X\n",
    "    loss = nsp.loss.L1(torch.Tensor(X), [D,D])\n",
    "    solver = UnitarySymmTs(RiemanSGD, model_sgd_0, loss, lr = lr, momentum=0, pout = False)\n",
    "    ret = solver.run(500, disable_message=True)\n",
    "    tmp.append(ret[\"fun\"])\n",
    "    \n",
    "    solver = UnitarySymmTs(RiemanSGD, model_sgd_1, loss, lr = lr, momentum=0.1, pout = False)\n",
    "    ret = solver.run(500, disable_message=True)\n",
    "    tmp.append(ret[\"fun\"])\n",
    "\n",
    "    solver = UnitarySymmTs(RiemanSGD, model_sgd_2, loss, lr = lr, momentum=0.5, pout = False)\n",
    "    ret = solver.run(500, disable_message=True)\n",
    "    tmp.append(ret[\"fun\"])\n",
    "    \n",
    "    solver = UnitarySymmTs(RiemanCG, model_cg, loss, lr = lr, momentum=0, pout = False)\n",
    "    ret = solver.run(500, disable_message=True)\n",
    "    tmp.append(ret[\"fun\"])\n",
    "    \n",
    "    ret = scipy.optimize.dual_annealing(SymmSolver(model_lie, loss, False), bounds = bounds, restart_temp_ratio = 1e-3,\n",
    "                                  visit = 2.7, initial_temp = 10**4, maxiter = 200)\n",
    "    tmp.append(ret.fun)\n",
    "    res.append(tmp)"
   ]
  },
  {
   "cell_type": "code",
   "execution_count": 18,
   "id": "fa8f6679",
   "metadata": {},
   "outputs": [
    {
     "name": "stdout",
     "output_type": "stream",
     "text": [
      "Failed save figure : given path exsist images/hist_annealing_vs_riemansgd_D=2_L=L1.jpeg\n"
     ]
    },
    {
     "data": {
      "image/png": "[encoded data removed]",
      "text/plain": [
       "<Figure size 432x288 with 1 Axes>"
      ]
     },
     "metadata": {
      "needs_background": "light"
     },
     "output_type": "display_data"
    }
   ],
   "source": [
    "res = np.array(res)\n",
    "fig, ax = plt.subplots()\n",
    "res = np.array(res)\n",
    "ax.hist(res[:,0] - res[:,-1], label=\"samples\", bins=100)\n",
    "ax.legend()\n",
    "\n",
    "\n",
    "ax.set_title('annealing vs SGD (momentum = 0)')\n",
    "ax.set_xlabel('loss_aneeling - loss_sgd')\n",
    "ax.set_ylabel(\"frequency\")\n",
    "save_fig(plt, f'images/hist_annealing_vs_riemansgd_D={D}_L={type(loss).__name__}.jpeg', 400)\n",
    "# plt.savefig(f'images/hist_sgd_vs_cg_D={D}_L={type(loss).__name__}.jpeg', dpi=400)"
   ]
  },
  {
   "cell_type": "code",
   "execution_count": 19,
   "id": "3fc019f7",
   "metadata": {},
   "outputs": [
    {
     "name": "stdout",
     "output_type": "stream",
     "text": [
      "Failed save figure : given path exsist images/hist_annealing_vs_riemansgd1_D=2_L=L1.jpeg\n"
     ]
    },
    {
     "data": {
      "image/png": "[encoded data removed]",
      "text/plain": [
       "<Figure size 432x288 with 1 Axes>"
      ]
     },
     "metadata": {
      "needs_background": "light"
     },
     "output_type": "display_data"
    }
   ],
   "source": [
    "res = np.array(res)\n",
    "fig, ax = plt.subplots()\n",
    "res = np.array(res)\n",
    "ax.hist(res[:,1] - res[:,-1], label=\"samples\", bins=100)\n",
    "ax.legend()\n",
    "\n",
    "\n",
    "ax.set_title('annealing vs SGD (momentum = 0.1)')\n",
    "ax.set_xlabel('loss_aneeling - loss_sgd')\n",
    "ax.set_ylabel(\"frequency\")\n",
    "save_fig(plt, f'images/hist_annealing_vs_riemansgd1_D={D}_L={type(loss).__name__}.jpeg', 400)\n",
    "# plt.savefig(f'images/hist_sgd_vs_cg_D={D}_L={type(loss).__name__}.jpeg', dpi=400)"
   ]
  },
  {
   "cell_type": "code",
   "execution_count": 20,
   "id": "0988c3be",
   "metadata": {},
   "outputs": [
    {
     "name": "stdout",
     "output_type": "stream",
     "text": [
      "Failed save figure : given path exsist images/hist_annealing_vs_riemansgd2_D=2_L=L1.jpeg\n"
     ]
    },
    {
     "data": {
      "image/png": "[encoded data removed]",
      "text/plain": [
       "<Figure size 432x288 with 1 Axes>"
      ]
     },
     "metadata": {
      "needs_background": "light"
     },
     "output_type": "display_data"
    }
   ],
   "source": [
    "res = np.array(res)\n",
    "fig, ax = plt.subplots()\n",
    "res = np.array(res)\n",
    "ax.hist(res[:,2] - res[:,-1], label=\"samples\", bins=100)\n",
    "ax.legend()\n",
    "\n",
    "\n",
    "ax.set_title('annealing vs SGD (momentum = 0.5)')\n",
    "ax.set_xlabel('loss_aneeling - loss_sgd')\n",
    "ax.set_ylabel(\"frequency\")\n",
    "save_fig(plt, f'images/hist_annealing_vs_riemansgd2_D={D}_L={type(loss).__name__}.jpeg', 400)\n",
    "# plt.savefig(f'images/hist_sgd_vs_cg_D={D}_L={type(loss).__name__}.jpeg', dpi=400)"
   ]
  },
  {
   "cell_type": "code",
   "execution_count": 21,
   "id": "1ea6da31",
   "metadata": {},
   "outputs": [
    {
     "name": "stdout",
     "output_type": "stream",
     "text": [
      "Failed save figure : given path exsist images/hist_annealing_vs_cg_D=2_L=L1.jpeg\n"
     ]
    },
    {
     "data": {
      "image/png": "[encoded data removed]",
      "text/plain": [
       "<Figure size 432x288 with 1 Axes>"
      ]
     },
     "metadata": {
      "needs_background": "light"
     },
     "output_type": "display_data"
    }
   ],
   "source": [
    "res = np.array(res)\n",
    "fig, ax = plt.subplots()\n",
    "res = np.array(res)\n",
    "ax.hist(res[:,3] - res[:,-1], label=\"samples\", bins=100)\n",
    "ax.legend()\n",
    "\n",
    "\n",
    "ax.set_title('annealing vs CG')\n",
    "ax.set_xlabel('loss_aneeling - loss_cg')\n",
    "ax.set_ylabel(\"frequency\")\n",
    "save_fig(plt, f'images/hist_annealing_vs_cg_D={D}_L={type(loss).__name__}.jpeg', 400)\n",
    "# plt.savefig(f'images/hist_sgd_vs_cg_D={D}_L={type(loss).__name__}.jpeg', dpi=400)"
   ]
  },
  {
   "cell_type": "code",
   "execution_count": 27,
   "id": "1b671f16",
   "metadata": {},
   "outputs": [
    {
     "data": {
      "text/plain": [
       "'2022-07-05_06:00:59.753909'"
      ]
     },
     "execution_count": 27,
     "metadata": {},
     "output_type": "execute_result"
    }
   ],
   "source": [
    "import datetime\n",
    "\n",
    "dt = datetime.datetime.today()  # ローカルな現在の日付と時刻を取得\n",
    "\"_\".join(str(dt).split(\" \"))"
   ]
  },
  {
   "cell_type": "code",
   "execution_count": 1,
   "id": "e368ab63",
   "metadata": {},
   "outputs": [],
   "source": [
    "from header import *\n",
    "D = 16\n",
    "X = np.random.randn(D**2, D**2)\n",
    "X = (X + X.T)/2\n",
    "mask = X>=(1/(D**2))\n",
    "X[mask] = 0"
   ]
  },
  {
   "cell_type": "code",
   "execution_count": 8,
   "id": "097902b0",
   "metadata": {
    "collapsed": true
   },
   "outputs": [
    {
     "name": "stdout",
     "output_type": "stream",
     "text": [
      "target loss      : 85.3484497070\n",
      "initial loss     : 174.3255729342\n",
      "\n",
      "================================================== \n",
      "\n"
     ]
    },
    {
     "data": {
      "application/vnd.jupyter.widget-view+json": {
       "model_id": "78245775712140aa9625cb803e910463",
       "version_major": 2,
       "version_minor": 0
      },
      "text/plain": [
       "  0%|          | 0/1 [00:00<?, ?it/s]"
      ]
     },
     "metadata": {},
     "output_type": "display_data"
    },
    {
     "name": "stdout",
     "output_type": "stream",
     "text": [
      "tensor(0.0009)\n",
      "174.32557293418643 165.65716206178092 175.50207880086344\n"
     ]
    },
    {
     "ename": "KeyboardInterrupt",
     "evalue": "",
     "output_type": "error",
     "traceback": [
      "\u001b[0;31m---------------------------------------------------------------------------\u001b[0m",
      "\u001b[0;31mKeyboardInterrupt\u001b[0m                         Traceback (most recent call last)",
      "Input \u001b[0;32mIn [8]\u001b[0m, in \u001b[0;36m<cell line: 24>\u001b[0;34m()\u001b[0m\n\u001b[1;32m     22\u001b[0m model_rf\u001b[38;5;241m.\u001b[39mreset_params()\n\u001b[1;32m     23\u001b[0m solver \u001b[38;5;241m=\u001b[39m UnitarySymmTs(RiemanUnitaryCG, model_rf, loss_orth, lr \u001b[38;5;241m=\u001b[39m lr, momentum\u001b[38;5;241m=\u001b[39m\u001b[38;5;241m0.00001\u001b[39m, pout \u001b[38;5;241m=\u001b[39m \u001b[38;5;28;01mTrue\u001b[39;00m)\n\u001b[0;32m---> 24\u001b[0m ret \u001b[38;5;241m=\u001b[39m \u001b[43msolver\u001b[49m\u001b[38;5;241;43m.\u001b[39;49m\u001b[43mrun\u001b[49m\u001b[43m(\u001b[49m\u001b[38;5;241;43m1\u001b[39;49m\u001b[43m,\u001b[49m\u001b[43m \u001b[49m\u001b[43mdisable_message\u001b[49m\u001b[38;5;241;43m=\u001b[39;49m\u001b[38;5;28;43;01mFalse\u001b[39;49;00m\u001b[43m)\u001b[49m\n",
      "File \u001b[0;32m~/project/python/nsp/test/../nsp/solver/torch_solver.py:114\u001b[0m, in \u001b[0;36mUnitarySymmTs.run\u001b[0;34m(self, n_iter, disable_message)\u001b[0m\n\u001b[1;32m    112\u001b[0m optim\u001b[38;5;241m.\u001b[39mzero_grad()\n\u001b[1;32m    113\u001b[0m loss_\u001b[38;5;241m.\u001b[39mbackward()\n\u001b[0;32m--> 114\u001b[0m \u001b[38;5;28;01mif\u001b[39;00m \u001b[43moptim\u001b[49m\u001b[38;5;241;43m.\u001b[39;49m\u001b[43mstep\u001b[49m\u001b[43m(\u001b[49m\u001b[43m)\u001b[49m:\n\u001b[1;32m    115\u001b[0m     \u001b[38;5;28;01mif\u001b[39;00m \u001b[38;5;28mself\u001b[39m\u001b[38;5;241m.\u001b[39mpout:\n\u001b[1;32m    116\u001b[0m         \u001b[38;5;28mprint\u001b[39m(\u001b[38;5;124m\"\u001b[39m\u001b[38;5;124mstack in local minimum --> break loop\u001b[39m\u001b[38;5;124m\"\u001b[39m)\n",
      "File \u001b[0;32m~/.local/lib/python3.9/site-packages/torch/optim/optimizer.py:88\u001b[0m, in \u001b[0;36mOptimizer._hook_for_profile.<locals>.profile_hook_step.<locals>.wrapper\u001b[0;34m(*args, **kwargs)\u001b[0m\n\u001b[1;32m     86\u001b[0m profile_name \u001b[38;5;241m=\u001b[39m \u001b[38;5;124m\"\u001b[39m\u001b[38;5;124mOptimizer.step#\u001b[39m\u001b[38;5;132;01m{}\u001b[39;00m\u001b[38;5;124m.step\u001b[39m\u001b[38;5;124m\"\u001b[39m\u001b[38;5;241m.\u001b[39mformat(obj\u001b[38;5;241m.\u001b[39m\u001b[38;5;18m__class__\u001b[39m\u001b[38;5;241m.\u001b[39m\u001b[38;5;18m__name__\u001b[39m)\n\u001b[1;32m     87\u001b[0m \u001b[38;5;28;01mwith\u001b[39;00m torch\u001b[38;5;241m.\u001b[39mautograd\u001b[38;5;241m.\u001b[39mprofiler\u001b[38;5;241m.\u001b[39mrecord_function(profile_name):\n\u001b[0;32m---> 88\u001b[0m     \u001b[38;5;28;01mreturn\u001b[39;00m \u001b[43mfunc\u001b[49m\u001b[43m(\u001b[49m\u001b[38;5;241;43m*\u001b[39;49m\u001b[43margs\u001b[49m\u001b[43m,\u001b[49m\u001b[43m \u001b[49m\u001b[38;5;241;43m*\u001b[39;49m\u001b[38;5;241;43m*\u001b[39;49m\u001b[43mkwargs\u001b[49m\u001b[43m)\u001b[49m\n",
      "File \u001b[0;32m~/project/python/nsp/test/../nsp/optim/rieman_unitary_optim.py:102\u001b[0m, in \u001b[0;36mBaseRiemanUnitaryOptimizer.step\u001b[0;34m(self, closure)\u001b[0m\n\u001b[1;32m     99\u001b[0m             \u001b[38;5;28;01melse\u001b[39;00m:\n\u001b[1;32m    100\u001b[0m                 momentum_buffer_list\u001b[38;5;241m.\u001b[39mappend(state[\u001b[38;5;124m'\u001b[39m\u001b[38;5;124mmomentum_buffer\u001b[39m\u001b[38;5;124m'\u001b[39m])\n\u001b[0;32m--> 102\u001b[0m \u001b[38;5;28;01mif\u001b[39;00m \u001b[38;5;28;43mself\u001b[39;49m\u001b[38;5;241;43m.\u001b[39;49m\u001b[43mmethod\u001b[49m\u001b[43m(\u001b[49m\n\u001b[1;32m    103\u001b[0m \u001b[43m    \u001b[49m\u001b[43mparams_with_grad\u001b[49m\u001b[43m,\u001b[49m\n\u001b[1;32m    104\u001b[0m \u001b[43m    \u001b[49m\u001b[43mrd_p_n_U_list\u001b[49m\u001b[43m,\u001b[49m\n\u001b[1;32m    105\u001b[0m \u001b[43m    \u001b[49m\u001b[43mmomentum_buffer_list\u001b[49m\u001b[43m,\u001b[49m\n\u001b[1;32m    106\u001b[0m \u001b[43m    \u001b[49m\u001b[43mweight_decay\u001b[49m\u001b[38;5;241;43m=\u001b[39;49m\u001b[43mweight_decay\u001b[49m\u001b[43m,\u001b[49m\n\u001b[1;32m    107\u001b[0m \u001b[43m    \u001b[49m\u001b[43mmomentum\u001b[49m\u001b[38;5;241;43m=\u001b[39;49m\u001b[43mmomentum\u001b[49m\u001b[43m,\u001b[49m\n\u001b[1;32m    108\u001b[0m \u001b[43m    \u001b[49m\u001b[43mlr\u001b[49m\u001b[38;5;241;43m=\u001b[39;49m\u001b[43mlr\u001b[49m\u001b[43m,\u001b[49m\n\u001b[1;32m    109\u001b[0m \u001b[43m    \u001b[49m\u001b[43mdampening\u001b[49m\u001b[38;5;241;43m=\u001b[39;49m\u001b[43mdampening\u001b[49m\u001b[43m,\u001b[49m\n\u001b[1;32m    110\u001b[0m \u001b[43m    \u001b[49m\u001b[43mnesterov\u001b[49m\u001b[38;5;241;43m=\u001b[39;49m\u001b[43mnesterov\u001b[49m\u001b[43m,\u001b[49m\n\u001b[1;32m    111\u001b[0m \u001b[43m    \u001b[49m\u001b[43mmaximize\u001b[49m\u001b[38;5;241;43m=\u001b[39;49m\u001b[43mmaximize\u001b[49m\u001b[43m,\u001b[49m\u001b[43m)\u001b[49m \u001b[38;5;129;01mis\u001b[39;00m \u001b[38;5;28;01mTrue\u001b[39;00m:\n\u001b[1;32m    113\u001b[0m     \u001b[38;5;28;01mreturn\u001b[39;00m \u001b[38;5;28;01mTrue\u001b[39;00m\n\u001b[1;32m    115\u001b[0m \u001b[38;5;66;03m# update momentum_buffers in state\u001b[39;00m\n",
      "File \u001b[0;32m~/project/python/nsp/test/../nsp/optim/rieman_unitary_optim.py:274\u001b[0m, in \u001b[0;36mRiemanUnitaryCG.method\u001b[0;34m(self, params, rd_p_n_U_list, momentum_buffer_list, weight_decay, momentum, lr, dampening, nesterov, maximize)\u001b[0m\n\u001b[1;32m    272\u001b[0m \u001b[38;5;66;03m# print(momentum_buffer_list[i] is None)\u001b[39;00m\n\u001b[1;32m    273\u001b[0m \u001b[38;5;28;01mif\u001b[39;00m momentum_buffer_list[i] \u001b[38;5;129;01mis\u001b[39;00m \u001b[38;5;28;01mNone\u001b[39;00m:\n\u001b[0;32m--> 274\u001b[0m     lr \u001b[38;5;241m=\u001b[39m \u001b[38;5;28;43mself\u001b[39;49m\u001b[38;5;241;43m.\u001b[39;49m\u001b[43m_golden\u001b[49m\u001b[43m(\u001b[49m\u001b[43mU\u001b[49m\u001b[38;5;241;43m.\u001b[39;49m\u001b[43mdata\u001b[49m\u001b[43m,\u001b[49m\u001b[43m \u001b[49m\u001b[43mrd_p\u001b[49m\u001b[38;5;241;43m.\u001b[39;49m\u001b[43mdata\u001b[49m\u001b[43m)\u001b[49m\n\u001b[1;32m    275\u001b[0m     param\u001b[38;5;241m.\u001b[39mdata \u001b[38;5;241m=\u001b[39m (torch\u001b[38;5;241m.\u001b[39mmatrix_exp(rd_p \u001b[38;5;241m*\u001b[39m \u001b[38;5;241m-\u001b[39mlr) \u001b[38;5;241m@\u001b[39m U)\u001b[38;5;241m.\u001b[39mview(\u001b[38;5;241m-\u001b[39m\u001b[38;5;241m1\u001b[39m)\n\u001b[1;32m    276\u001b[0m     momentum_buffer_list[i] \u001b[38;5;241m=\u001b[39m [torch\u001b[38;5;241m.\u001b[39mclone(rd_p\u001b[38;5;241m.\u001b[39mdata), torch\u001b[38;5;241m.\u001b[39mclone(rd_p\u001b[38;5;241m.\u001b[39mdata), rieman_grad_norm]\n",
      "File \u001b[0;32m~/project/python/nsp/test/../nsp/optim/rieman_unitary_optim.py:239\u001b[0m, in \u001b[0;36mRiemanUnitaryCG._golden\u001b[0;34m(self, U, H, delta)\u001b[0m\n\u001b[1;32m    237\u001b[0m \u001b[38;5;28;01mif\u001b[39;00m objective(step) \u001b[38;5;241m<\u001b[39m objective(step\u001b[38;5;241m*\u001b[39m\u001b[38;5;241m10\u001b[39m):\n\u001b[1;32m    238\u001b[0m     \u001b[38;5;28mprint\u001b[39m(objective(\u001b[38;5;241m0\u001b[39m) ,objective(step), objective(step\u001b[38;5;241m*\u001b[39m\u001b[38;5;241m10\u001b[39m))\n\u001b[0;32m--> 239\u001b[0m     a \u001b[38;5;241m=\u001b[39m \u001b[43moptimize\u001b[49m\u001b[38;5;241;43m.\u001b[39;49m\u001b[43mgolden\u001b[49m\u001b[43m(\u001b[49m\u001b[43mobjective\u001b[49m\u001b[43m,\u001b[49m\u001b[43m \u001b[49m\u001b[43mbrack\u001b[49m\u001b[43m \u001b[49m\u001b[38;5;241;43m=\u001b[39;49m\u001b[43m \u001b[49m\u001b[43m(\u001b[49m\u001b[38;5;241;43m0\u001b[39;49m\u001b[43m,\u001b[49m\u001b[43m \u001b[49m\u001b[43mstep\u001b[49m\u001b[43m,\u001b[49m\u001b[43m \u001b[49m\u001b[43mstep\u001b[49m\u001b[38;5;241;43m*\u001b[39;49m\u001b[38;5;241;43m10\u001b[39;49m\u001b[43m)\u001b[49m\u001b[43m)\u001b[49m\n\u001b[1;32m    240\u001b[0m     \u001b[38;5;28mprint\u001b[39m(a)\n\u001b[1;32m    241\u001b[0m     \u001b[38;5;28;01mreturn\u001b[39;00m a\n",
      "File \u001b[0;32m~/.local/lib/python3.9/site-packages/scipy/optimize/_optimize.py:2593\u001b[0m, in \u001b[0;36mgolden\u001b[0;34m(func, args, brack, tol, full_output, maxiter)\u001b[0m\n\u001b[1;32m   2535\u001b[0m \u001b[38;5;124;03m\"\"\"\u001b[39;00m\n\u001b[1;32m   2536\u001b[0m \u001b[38;5;124;03mReturn the minimum of a function of one variable using golden section\u001b[39;00m\n\u001b[1;32m   2537\u001b[0m \u001b[38;5;124;03mmethod.\u001b[39;00m\n\u001b[0;32m   (...)\u001b[0m\n\u001b[1;32m   2590\u001b[0m \n\u001b[1;32m   2591\u001b[0m \u001b[38;5;124;03m\"\"\"\u001b[39;00m\n\u001b[1;32m   2592\u001b[0m options \u001b[38;5;241m=\u001b[39m {\u001b[38;5;124m'\u001b[39m\u001b[38;5;124mxtol\u001b[39m\u001b[38;5;124m'\u001b[39m: tol, \u001b[38;5;124m'\u001b[39m\u001b[38;5;124mmaxiter\u001b[39m\u001b[38;5;124m'\u001b[39m: maxiter}\n\u001b[0;32m-> 2593\u001b[0m res \u001b[38;5;241m=\u001b[39m \u001b[43m_minimize_scalar_golden\u001b[49m\u001b[43m(\u001b[49m\u001b[43mfunc\u001b[49m\u001b[43m,\u001b[49m\u001b[43m \u001b[49m\u001b[43mbrack\u001b[49m\u001b[43m,\u001b[49m\u001b[43m \u001b[49m\u001b[43margs\u001b[49m\u001b[43m,\u001b[49m\u001b[43m \u001b[49m\u001b[38;5;241;43m*\u001b[39;49m\u001b[38;5;241;43m*\u001b[39;49m\u001b[43moptions\u001b[49m\u001b[43m)\u001b[49m\n\u001b[1;32m   2594\u001b[0m \u001b[38;5;28;01mif\u001b[39;00m full_output:\n\u001b[1;32m   2595\u001b[0m     \u001b[38;5;28;01mreturn\u001b[39;00m res[\u001b[38;5;124m'\u001b[39m\u001b[38;5;124mx\u001b[39m\u001b[38;5;124m'\u001b[39m], res[\u001b[38;5;124m'\u001b[39m\u001b[38;5;124mfun\u001b[39m\u001b[38;5;124m'\u001b[39m], res[\u001b[38;5;124m'\u001b[39m\u001b[38;5;124mnfev\u001b[39m\u001b[38;5;124m'\u001b[39m]\n",
      "File \u001b[0;32m~/.local/lib/python3.9/site-packages/scipy/optimize/_optimize.py:2672\u001b[0m, in \u001b[0;36m_minimize_scalar_golden\u001b[0;34m(func, brack, args, xtol, maxiter, disp, **unknown_options)\u001b[0m\n\u001b[1;32m   2670\u001b[0m     x1 \u001b[38;5;241m=\u001b[39m _gR \u001b[38;5;241m*\u001b[39m x2 \u001b[38;5;241m+\u001b[39m _gC \u001b[38;5;241m*\u001b[39m x0\n\u001b[1;32m   2671\u001b[0m     f2 \u001b[38;5;241m=\u001b[39m f1\n\u001b[0;32m-> 2672\u001b[0m     f1 \u001b[38;5;241m=\u001b[39m \u001b[43mfunc\u001b[49m\u001b[43m(\u001b[49m\u001b[38;5;241;43m*\u001b[39;49m\u001b[43m(\u001b[49m\u001b[43m(\u001b[49m\u001b[43mx1\u001b[49m\u001b[43m,\u001b[49m\u001b[43m)\u001b[49m\u001b[43m \u001b[49m\u001b[38;5;241;43m+\u001b[39;49m\u001b[43m \u001b[49m\u001b[43margs\u001b[49m\u001b[43m)\u001b[49m\u001b[43m)\u001b[49m\n\u001b[1;32m   2673\u001b[0m funcalls \u001b[38;5;241m+\u001b[39m\u001b[38;5;241m=\u001b[39m \u001b[38;5;241m1\u001b[39m\n\u001b[1;32m   2674\u001b[0m \u001b[38;5;28;01mif\u001b[39;00m disp \u001b[38;5;241m>\u001b[39m \u001b[38;5;241m2\u001b[39m:\n",
      "File \u001b[0;32m~/project/python/nsp/test/../nsp/optim/rieman_unitary_optim.py:227\u001b[0m, in \u001b[0;36mRiemanUnitaryCG._golden.<locals>.objective\u001b[0;34m(t)\u001b[0m\n\u001b[1;32m    226\u001b[0m \u001b[38;5;28;01mdef\u001b[39;00m \u001b[38;5;21mobjective\u001b[39m(t):\n\u001b[0;32m--> 227\u001b[0m     \u001b[38;5;28;01mreturn\u001b[39;00m \u001b[38;5;28;43mself\u001b[39;49m\u001b[38;5;241;43m.\u001b[39;49m\u001b[43mloss\u001b[49m\u001b[43m(\u001b[49m\u001b[43mtorch\u001b[49m\u001b[38;5;241;43m.\u001b[39;49m\u001b[43mmatrix_exp\u001b[49m\u001b[43m(\u001b[49m\u001b[38;5;241;43m-\u001b[39;49m\u001b[43mt\u001b[49m\u001b[38;5;241;43m*\u001b[39;49m\u001b[43mH\u001b[49m\u001b[43m)\u001b[49m\u001b[38;5;129;43m@U\u001b[39;49m\u001b[43m)\u001b[49m\u001b[38;5;241m.\u001b[39mitem()\n",
      "File \u001b[0;32m~/project/python/nsp/test/../nsp/loss/base_class.py:66\u001b[0m, in \u001b[0;36mBaseMatirxLoss.__call__\u001b[0;34m(self, U_list)\u001b[0m\n\u001b[1;32m     64\u001b[0m     U_list \u001b[38;5;241m=\u001b[39m [U_list] \u001b[38;5;241m*\u001b[39m \u001b[38;5;28mself\u001b[39m\u001b[38;5;241m.\u001b[39m_n_unitaries\n\u001b[1;32m     65\u001b[0m \u001b[38;5;28mself\u001b[39m\u001b[38;5;241m.\u001b[39m_matrix_check(U_list)\n\u001b[0;32m---> 66\u001b[0m \u001b[38;5;28;01mreturn\u001b[39;00m \u001b[38;5;28;43mself\u001b[39;49m\u001b[38;5;241;43m.\u001b[39;49m\u001b[43mforward\u001b[49m\u001b[43m(\u001b[49m\u001b[38;5;28;43mself\u001b[39;49m\u001b[38;5;241;43m.\u001b[39;49m\u001b[43m_transform\u001b[49m\u001b[43m(\u001b[49m\u001b[43mU_list\u001b[49m\u001b[43m)\u001b[49m\u001b[43m)\u001b[49m\n",
      "File \u001b[0;32m~/project/python/nsp/test/../nsp/loss/max_eig.py:38\u001b[0m, in \u001b[0;36mMES.forward\u001b[0;34m(self, A)\u001b[0m\n\u001b[1;32m     30\u001b[0m \u001b[38;5;28;01mdef\u001b[39;00m \u001b[38;5;21mforward\u001b[39m(\u001b[38;5;28mself\u001b[39m, A):\n\u001b[1;32m     31\u001b[0m \n\u001b[1;32m     32\u001b[0m     \u001b[38;5;66;03m# print(torch.sum(torch.abs(torch.diag(A)-torch.diag(stoquastic(A)))))\u001b[39;00m\n\u001b[1;32m     33\u001b[0m     \u001b[38;5;66;03m# print(torch.diag(A))\u001b[39;00m\n\u001b[1;32m     34\u001b[0m     \u001b[38;5;66;03m# print(torch.diag(stoquastic(A, p_def = self.p_def)))\u001b[39;00m\n\u001b[1;32m     35\u001b[0m     \u001b[38;5;66;03m# print(\"\\n\\n\")\u001b[39;00m\n\u001b[1;32m     36\u001b[0m     A \u001b[38;5;241m=\u001b[39m stoquastic(A, p_def \u001b[38;5;241m=\u001b[39m \u001b[38;5;28mself\u001b[39m\u001b[38;5;241m.\u001b[39mp_def)\n\u001b[0;32m---> 38\u001b[0m     \u001b[38;5;28;01mreturn\u001b[39;00m \u001b[43meigvalsh_\u001b[49m\u001b[43m(\u001b[49m\u001b[43mA\u001b[49m\u001b[43m)\u001b[49m[\u001b[38;5;241m-\u001b[39m\u001b[38;5;241m1\u001b[39m]\n",
      "File \u001b[0;32m~/project/python/nsp/test/../nsp/utils/func.py:183\u001b[0m, in \u001b[0;36meigvalsh_\u001b[0;34m(A)\u001b[0m\n\u001b[1;32m    181\u001b[0m     \u001b[38;5;28;01mreturn\u001b[39;00m np\u001b[38;5;241m.\u001b[39mlinalg\u001b[38;5;241m.\u001b[39meigvalsh(A)\n\u001b[1;32m    182\u001b[0m \u001b[38;5;28;01melif\u001b[39;00m _type \u001b[38;5;241m==\u001b[39m torch\u001b[38;5;241m.\u001b[39mTensor:\n\u001b[0;32m--> 183\u001b[0m     \u001b[38;5;28;01mreturn\u001b[39;00m \u001b[43mtorch\u001b[49m\u001b[38;5;241;43m.\u001b[39;49m\u001b[43mlinalg\u001b[49m\u001b[38;5;241;43m.\u001b[39;49m\u001b[43meigvalsh\u001b[49m\u001b[43m(\u001b[49m\u001b[43mA\u001b[49m\u001b[43m)\u001b[49m\n\u001b[1;32m    184\u001b[0m \u001b[38;5;28;01melse\u001b[39;00m:\n\u001b[1;32m    185\u001b[0m     \u001b[38;5;28;01mraise\u001b[39;00m \u001b[38;5;167;01mTypeError\u001b[39;00m(\u001b[38;5;124m\"\u001b[39m\u001b[38;5;124mA should be either np_array or tensor\u001b[39m\u001b[38;5;124m\"\u001b[39m)\n",
      "\u001b[0;31mKeyboardInterrupt\u001b[0m: "
     ]
    }
   ],
   "source": [
    "from header import *\n",
    "\n",
    "lr = 0.001\n",
    "\n",
    "\n",
    "import copy\n",
    "\n",
    "model_rf = nsp.model.UnitaryRiemanGenerator(D, dtype=torch.float64)\n",
    "model_rf2 = nsp.model.UnitaryRiemanGenerator(D, dtype=torch.complex128)\n",
    "\n",
    "# set_seed(333)\n",
    "\n",
    "res = []\n",
    "# X_list = np.load(\"X_list.npy\")\n",
    "# for X in X_list[:3]:\n",
    "sparse = 1/D\n",
    "\n",
    "loss_orth = nsp.loss.MES(torch.Tensor(X), [D,D], inv = model_rf._inv) \n",
    "tmp = []\n",
    "\n",
    "\n",
    "model_rf.reset_params()\n",
    "solver = UnitarySymmTs(RiemanUnitaryCG, model_rf, loss_orth, lr = lr, momentum=0.00001, pout = True)\n",
    "ret = solver.run(1, disable_message=False)\n"
   ]
  },
  {
   "cell_type": "code",
   "execution_count": 9,
   "id": "da0fd4e6",
   "metadata": {},
   "outputs": [
    {
     "data": {
      "image/png": "[encoded data removed]",
      "text/plain": [
       "<Figure size 432x288 with 2 Axes>"
      ]
     },
     "metadata": {
      "needs_background": "light"
     },
     "output_type": "display_data"
    }
   ],
   "source": [
    "from header import *\n",
    "\n",
    "\n",
    "# loss_l2 = nsp.loss.L2(X, [D,D])\n",
    "# loss_mes = nsp.loss.MES(X, [D,D])\n",
    "t = 0.001\n",
    "ret_min_grad = 1e10\n",
    "\n",
    "\n",
    "model = model_rf\n",
    "cg = RiemanUnitaryCG(model, loss_orth, 0.001)\n",
    "loss_orth(model.matrix()).backward()\n",
    "S, W = cg._riemannian_grad(model._params)\n",
    "H = S.data\n",
    "res_grad = []\n",
    "res = []\n",
    "x = np.linspace(-0.01, 10*0.01, 200)\n",
    "for t_ in x:\n",
    "    t =  torch.tensor([t_], requires_grad=True, dtype=torch.float64)\n",
    "    U = torch.matrix_exp(-t*H)@W\n",
    "    loss = loss_orth(U)\n",
    "    g = torch.autograd.grad(loss, t, create_graph=True)\n",
    "    res.append(loss.item())\n",
    "    res_grad.append(g[0].item())   \n",
    "    \n",
    "fig, ax1 = plt.subplots()\n",
    "ax2 = ax1.twinx()\n",
    "ax1.set_title('measure along geodesics in direction of riemannian gradient')\n",
    "ax1.set_xlabel('t along geodesics')\n",
    "ax1.set_ylabel('loss', color='g')\n",
    "ax2.set_ylabel('loss_grad', color='b')\n",
    "ax1.plot(x, res, color=\"g\")\n",
    "ax2.plot(x, res_grad, color=\"b\")\n",
    "fig.show()"
   ]
  },
  {
   "cell_type": "code",
   "execution_count": 10,
   "id": "f213a206",
   "metadata": {},
   "outputs": [],
   "source": [
    "# cg._golden(W.detach(),S.detach())\n",
    "W = W.detach()\n",
    "S = S.detach()\n",
    "def objective(t):\n",
    "    return loss_orth(torch.matrix_exp(-t*S)@W).item()\n",
    "\n",
    "# delta = 0.01\n",
    "# t = torch.tensor([0.], requires_grad=True)\n",
    "# loss_orth(torch.matrix_exp(-t*S)@W).backward()\n",
    "# step = objective(0) / t.grad.item() * delta"
   ]
  },
  {
   "cell_type": "code",
   "execution_count": 11,
   "id": "5d99297a",
   "metadata": {},
   "outputs": [
    {
     "data": {
      "text/plain": [
       "(174.32557293418643, 174.13882639546358, 171.7238697456125)"
      ]
     },
     "execution_count": 11,
     "metadata": {},
     "output_type": "execute_result"
    }
   ],
   "source": [
    "step = 0.0009\n",
    "objective(0), objective(step), objective(step*10)"
   ]
  },
  {
   "cell_type": "code",
   "execution_count": 12,
   "id": "d769a1e1",
   "metadata": {},
   "outputs": [
    {
     "ename": "ValueError",
     "evalue": "Not a bracketing interval.",
     "output_type": "error",
     "traceback": [
      "\u001b[0;31m---------------------------------------------------------------------------\u001b[0m",
      "\u001b[0;31mValueError\u001b[0m                                Traceback (most recent call last)",
      "Input \u001b[0;32mIn [12]\u001b[0m, in \u001b[0;36m<cell line: 3>\u001b[0;34m()\u001b[0m\n\u001b[1;32m      1\u001b[0m \u001b[38;5;28;01mfrom\u001b[39;00m \u001b[38;5;21;01mscipy\u001b[39;00m\u001b[38;5;21;01m.\u001b[39;00m\u001b[38;5;21;01moptimize\u001b[39;00m \u001b[38;5;28;01mimport\u001b[39;00m minimize_scalar\n\u001b[0;32m----> 3\u001b[0m \u001b[43mscipy\u001b[49m\u001b[38;5;241;43m.\u001b[39;49m\u001b[43moptimize\u001b[49m\u001b[38;5;241;43m.\u001b[39;49m\u001b[43mgolden\u001b[49m\u001b[43m(\u001b[49m\u001b[43mobjective\u001b[49m\u001b[43m,\u001b[49m\u001b[43m \u001b[49m\u001b[43mbrack\u001b[49m\u001b[38;5;241;43m=\u001b[39;49m\u001b[43m(\u001b[49m\u001b[38;5;241;43m0\u001b[39;49m\u001b[43m,\u001b[49m\u001b[43m \u001b[49m\u001b[43mstep\u001b[49m\u001b[43m,\u001b[49m\u001b[43m \u001b[49m\u001b[43mstep\u001b[49m\u001b[38;5;241;43m*\u001b[39;49m\u001b[38;5;241;43m10\u001b[39;49m\u001b[43m)\u001b[49m\u001b[43m)\u001b[49m\n",
      "File \u001b[0;32m~/.local/lib/python3.9/site-packages/scipy/optimize/_optimize.py:2593\u001b[0m, in \u001b[0;36mgolden\u001b[0;34m(func, args, brack, tol, full_output, maxiter)\u001b[0m\n\u001b[1;32m   2535\u001b[0m \u001b[38;5;124;03m\"\"\"\u001b[39;00m\n\u001b[1;32m   2536\u001b[0m \u001b[38;5;124;03mReturn the minimum of a function of one variable using golden section\u001b[39;00m\n\u001b[1;32m   2537\u001b[0m \u001b[38;5;124;03mmethod.\u001b[39;00m\n\u001b[0;32m   (...)\u001b[0m\n\u001b[1;32m   2590\u001b[0m \n\u001b[1;32m   2591\u001b[0m \u001b[38;5;124;03m\"\"\"\u001b[39;00m\n\u001b[1;32m   2592\u001b[0m options \u001b[38;5;241m=\u001b[39m {\u001b[38;5;124m'\u001b[39m\u001b[38;5;124mxtol\u001b[39m\u001b[38;5;124m'\u001b[39m: tol, \u001b[38;5;124m'\u001b[39m\u001b[38;5;124mmaxiter\u001b[39m\u001b[38;5;124m'\u001b[39m: maxiter}\n\u001b[0;32m-> 2593\u001b[0m res \u001b[38;5;241m=\u001b[39m \u001b[43m_minimize_scalar_golden\u001b[49m\u001b[43m(\u001b[49m\u001b[43mfunc\u001b[49m\u001b[43m,\u001b[49m\u001b[43m \u001b[49m\u001b[43mbrack\u001b[49m\u001b[43m,\u001b[49m\u001b[43m \u001b[49m\u001b[43margs\u001b[49m\u001b[43m,\u001b[49m\u001b[43m \u001b[49m\u001b[38;5;241;43m*\u001b[39;49m\u001b[38;5;241;43m*\u001b[39;49m\u001b[43moptions\u001b[49m\u001b[43m)\u001b[49m\n\u001b[1;32m   2594\u001b[0m \u001b[38;5;28;01mif\u001b[39;00m full_output:\n\u001b[1;32m   2595\u001b[0m     \u001b[38;5;28;01mreturn\u001b[39;00m res[\u001b[38;5;124m'\u001b[39m\u001b[38;5;124mx\u001b[39m\u001b[38;5;124m'\u001b[39m], res[\u001b[38;5;124m'\u001b[39m\u001b[38;5;124mfun\u001b[39m\u001b[38;5;124m'\u001b[39m], res[\u001b[38;5;124m'\u001b[39m\u001b[38;5;124mnfev\u001b[39m\u001b[38;5;124m'\u001b[39m]\n",
      "File \u001b[0;32m~/.local/lib/python3.9/site-packages/scipy/optimize/_optimize.py:2634\u001b[0m, in \u001b[0;36m_minimize_scalar_golden\u001b[0;34m(func, brack, args, xtol, maxiter, disp, **unknown_options)\u001b[0m\n\u001b[1;32m   2632\u001b[0m     fc \u001b[38;5;241m=\u001b[39m func(\u001b[38;5;241m*\u001b[39m((xc,) \u001b[38;5;241m+\u001b[39m args))\n\u001b[1;32m   2633\u001b[0m     \u001b[38;5;28;01mif\u001b[39;00m \u001b[38;5;129;01mnot\u001b[39;00m ((fb \u001b[38;5;241m<\u001b[39m fa) \u001b[38;5;129;01mand\u001b[39;00m (fb \u001b[38;5;241m<\u001b[39m fc)):\n\u001b[0;32m-> 2634\u001b[0m         \u001b[38;5;28;01mraise\u001b[39;00m \u001b[38;5;167;01mValueError\u001b[39;00m(\u001b[38;5;124m\"\u001b[39m\u001b[38;5;124mNot a bracketing interval.\u001b[39m\u001b[38;5;124m\"\u001b[39m)\n\u001b[1;32m   2635\u001b[0m     funcalls \u001b[38;5;241m=\u001b[39m \u001b[38;5;241m3\u001b[39m\n\u001b[1;32m   2636\u001b[0m \u001b[38;5;28;01melse\u001b[39;00m:\n",
      "\u001b[0;31mValueError\u001b[0m: Not a bracketing interval."
     ]
    }
   ],
   "source": [
    "from scipy.optimize import minimize_scalar\n",
    "\n",
    "scipy.optimize.golden(objective, brack=(0, step, step*10))\n"
   ]
  },
  {
   "cell_type": "code",
   "execution_count": 52,
   "id": "5dcda39a",
   "metadata": {},
   "outputs": [
    {
     "data": {
      "text/plain": [
       "31163.407361635935"
      ]
     },
     "execution_count": 52,
     "metadata": {},
     "output_type": "execute_result"
    }
   ],
   "source": [
    "objective(step/delta)"
   ]
  }
 ],
 "metadata": {
  "kernelspec": {
   "display_name": "Python 3 (ipykernel)",
   "language": "python",
   "name": "python3"
  },
  "language_info": {
   "codemirror_mode": {
    "name": "ipython",
    "version": 3
   },
   "file_extension": ".py",
   "mimetype": "text/x-python",
   "name": "python",
   "nbconvert_exporter": "python",
   "pygments_lexer": "ipython3",
   "version": "3.9.13"
  }
 },
 "nbformat": 4,
 "nbformat_minor": 5
}
