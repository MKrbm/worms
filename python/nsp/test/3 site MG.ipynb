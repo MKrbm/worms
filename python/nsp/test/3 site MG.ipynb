{
 "cells": [
  {
   "cell_type": "code",
   "execution_count": 1,
   "id": "36643cf3",
   "metadata": {},
   "outputs": [],
   "source": [
    "import numpy as np\n",
    "from header import *\n",
    "from nsp.utils.base_conv import *\n",
    "import argparse\n",
    "import sys\n",
    "sys.path.append('../nsp')\n",
    "from nsp.utils.func import *\n",
    "\n",
    "\n",
    "Sz = np.zeros([2,2])\n",
    "Sz[0,0] = 1/2\n",
    "Sz[1,1] = -1/2\n",
    "Sx = np.zeros([2,2])\n",
    "Sx[1,0] = 1/2\n",
    "Sx[0,1] = 1/2\n",
    "Sy = np.zeros([2,2], dtype=np.complex64)\n",
    "Sy[1,0] = 1j/2\n",
    "Sy[0,1] = -1j/2\n",
    "\n",
    "\n",
    "SzSz = np.kron(Sz,Sz).real.astype(np.float64)\n",
    "SxSx = np.kron(Sx,Sx).real.astype(np.float64)\n",
    "SySy = np.kron(Sy,Sy).real.astype(np.float64)\n",
    "\n",
    "lh = SzSz + SxSx + SySy"
   ]
  },
  {
   "cell_type": "code",
   "execution_count": 11,
   "id": "e3dee33a",
   "metadata": {},
   "outputs": [
    {
     "name": "stdout",
     "output_type": "stream",
     "text": [
      "1D chain lattice\n"
     ]
    }
   ],
   "source": [
    "print(\"1D chain lattice\")\n",
    "bonds = [[0,1], [0, 2], [1, 2]]\n",
    "lh2 = sum_ham(lh/2, bonds, 3, 2)"
   ]
  },
  {
   "cell_type": "code",
   "execution_count": null,
   "id": "8255e386",
   "metadata": {},
   "outputs": [],
   "source": [
    "L = 6\n",
    "bonds = [[i, (i+1)%L, (i+2)%L] for i in range(L)]\n",
    "H = sum_ham(lh2, bonds, L, 2)\n",
    "print(\"max_eig : \", np.linalg.eigvalsh(H)[-1])"
   ]
  },
  {
   "cell_type": "markdown",
   "id": "c8bf55ec",
   "metadata": {},
   "source": [
    "### add first 1D chain 8"
   ]
  },
  {
   "cell_type": "code",
   "execution_count": 2,
   "id": "7469043c",
   "metadata": {},
   "outputs": [],
   "source": [
    "LH = np.load(\"/home/user/project/python/array/majumdar_ghosh/1D_chain8/0.npy\")\n",
    "act = [8, 8]\n",
    "I_not1 = torch.logical_not(torch.eye(act[0]))\n",
    "I_not2 = torch.logical_not(torch.eye(act[1]))\n",
    "ML = torch.kron(I_not1, torch.eye(act[1]))\n",
    "MR = torch.kron(torch.eye(act[0]), I_not2)\n",
    "MI = torch.kron(I_not1, I_not2) + torch.eye(np.prod(act))"
   ]
  },
  {
   "cell_type": "code",
   "execution_count": 3,
   "id": "3a54e2dd",
   "metadata": {},
   "outputs": [],
   "source": [
    "LH_3_site = (torch.kron(torch.eye(act[0]), ML * LH) + torch.kron(MR * LH,torch.eye(act[1])))\n",
    "LH_2_site = MI * LH\n"
   ]
  },
  {
   "cell_type": "code",
   "execution_count": 7,
   "id": "27171592",
   "metadata": {},
   "outputs": [
    {
     "data": {
      "text/plain": [
       "(array([0]),)"
      ]
     },
     "execution_count": 7,
     "metadata": {},
     "output_type": "execute_result"
    }
   ],
   "source": [
    "np.where(LH_2_site != nsp.utils.base_conv.change_order(LH_2_site, act))"
   ]
  },
  {
   "cell_type": "code",
   "execution_count": 18,
   "id": "e1dadc7e",
   "metadata": {},
   "outputs": [],
   "source": [
    "LH = np.load(\"/home/user/project/python/array/majumdar_ghosh/1D_chain8_af/bond.npy\")"
   ]
  },
  {
   "cell_type": "code",
   "execution_count": 22,
   "id": "b5fe99fe",
   "metadata": {},
   "outputs": [
    {
     "data": {
      "text/plain": [
       "False"
      ]
     },
     "execution_count": 22,
     "metadata": {},
     "output_type": "execute_result"
    }
   ],
   "source": [
    "LH == LH_2_site"
   ]
  }
 ],
 "metadata": {
  "kernelspec": {
   "display_name": "Python 3 (ipykernel)",
   "language": "python",
   "name": "python3"
  },
  "language_info": {
   "codemirror_mode": {
    "name": "ipython",
    "version": 3
   },
   "file_extension": ".py",
   "mimetype": "text/x-python",
   "name": "python",
   "nbconvert_exporter": "python",
   "pygments_lexer": "ipython3",
   "version": "3.9.13"
  }
 },
 "nbformat": 4,
 "nbformat_minor": 5
}
