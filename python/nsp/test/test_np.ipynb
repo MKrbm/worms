{
 "cells": [
  {
   "cell_type": "code",
   "execution_count": 1,
   "id": "dab34b1a",
   "metadata": {},
   "outputs": [],
   "source": [
    "import sys\n",
    "sys.path.insert(0, \"../\")"
   ]
  },
  {
   "cell_type": "code",
   "execution_count": 2,
   "id": "fbea3873",
   "metadata": {},
   "outputs": [],
   "source": [
    "import nsp.utils as utils\n",
    "import numpy as np\n",
    "import torch"
   ]
  },
  {
   "cell_type": "code",
   "execution_count": 4,
   "id": "379d00ac",
   "metadata": {},
   "outputs": [
    {
     "name": "stdout",
     "output_type": "stream",
     "text": [
      "Help on package nsp.utils in nsp:\n",
      "\n",
      "NAME\n",
      "    nsp.utils\n",
      "\n",
      "PACKAGE CONTENTS\n",
      "    absolute_map\n",
      "    base_conv\n",
      "    func\n",
      "    local2global\n",
      "    loss\n",
      "    print\n",
      "\n",
      "FUNCTIONS\n",
      "    abs(X, sign=1)\n",
      "    \n",
      "    beauty_array(H_tmp, path='array.txt')\n",
      "    \n",
      "    exp_energy(E, beta)\n",
      "    \n",
      "    l2nl(ham, L, bond=[], sps=2, thres=1e-10)\n",
      "    \n",
      "    num2state(s, L=4, sps=2, rev=False)\n",
      "    \n",
      "    state2num(state, sps=2, rev=False)\n",
      "\n",
      "DATA\n",
      "    __all__ = ['abs', 'beauty_array', 'num2state', 'state2num', 'l2nl', 'e...\n",
      "\n",
      "FILE\n",
      "    /home/user/project/python/nsp/nsp/utils/__init__.py\n",
      "\n",
      "\n"
     ]
    }
   ],
   "source": [
    "help(utils)"
   ]
  },
  {
   "cell_type": "code",
   "execution_count": 16,
   "id": "9106d25c",
   "metadata": {},
   "outputs": [],
   "source": [
    "x = np.random.rand(16).reshape(4,4) - 1/2\n",
    "utils.abs(x)"
   ]
  },
  {
   "cell_type": "code",
   "execution_count": 21,
   "id": "efe649f3",
   "metadata": {},
   "outputs": [
    {
     "data": {
      "text/plain": [
       "2"
      ]
     },
     "execution_count": 21,
     "metadata": {},
     "output_type": "execute_result"
    }
   ],
   "source": [
    "torch.tensor(x).ndim"
   ]
  },
  {
   "cell_type": "code",
   "execution_count": null,
   "id": "7d5ff46b",
   "metadata": {},
   "outputs": [],
   "source": []
  }
 ],
 "metadata": {
  "kernelspec": {
   "display_name": "Python 3 (ipykernel)",
   "language": "python",
   "name": "python3"
  },
  "language_info": {
   "codemirror_mode": {
    "name": "ipython",
    "version": 3
   },
   "file_extension": ".py",
   "mimetype": "text/x-python",
   "name": "python",
   "nbconvert_exporter": "python",
   "pygments_lexer": "ipython3",
   "version": "3.9.13"
  }
 },
 "nbformat": 4,
 "nbformat_minor": 5
}
