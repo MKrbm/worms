{
 "cells": [
  {
   "cell_type": "code",
   "execution_count": 2,
   "id": "4187bc64",
   "metadata": {},
   "outputs": [],
   "source": [
    "import numpy as np\n",
    "from header import *\n",
    "from nsp.utils.base_conv import *\n",
    "import argparse\n",
    "import sys\n",
    "sys.path.append('../nsp')\n",
    "from nsp.utils.func import *\n",
    "from nsp.utils.local2global import *"
   ]
  },
  {
   "cell_type": "code",
   "execution_count": 105,
   "id": "060e4adb",
   "metadata": {},
   "outputs": [],
   "source": [
    "E4 = np.load(\"/home/user/project/doc/data/shastry_exact_J1=1.npy\")"
   ]
  },
  {
   "cell_type": "code",
   "execution_count": 109,
   "id": "d78b4f14",
   "metadata": {},
   "outputs": [
    {
     "data": {
      "text/plain": [
       "-5.585519722674071"
      ]
     },
     "execution_count": 109,
     "metadata": {},
     "output_type": "execute_result"
    }
   ],
   "source": [
    "T = 1\n",
    "beta = 1/T\n",
    "np.sum(E4 * np.exp(-beta*E4))/np.sum(np.exp(-beta*E4))"
   ]
  },
  {
   "cell_type": "markdown",
   "id": "9f476f07",
   "metadata": {},
   "source": [
    "## prepare local ham"
   ]
  },
  {
   "cell_type": "code",
   "execution_count": 110,
   "id": "7382a2c2",
   "metadata": {},
   "outputs": [],
   "source": [
    "u = np.array([\n",
    "    [0,1,0,0],\n",
    "    [1/np.sqrt(2), 0, 1/np.sqrt(2), 0],\n",
    "    [-1/np.sqrt(2), 0, 1/np.sqrt(2), 0],\n",
    "    [0,0,0,1]\n",
    "])\n",
    "\n",
    "U = np.kron(u, u)"
   ]
  },
  {
   "cell_type": "code",
   "execution_count": 122,
   "id": "d7600b93",
   "metadata": {},
   "outputs": [],
   "source": [
    "J = [0.35, 1] #J, J_D"
   ]
  },
  {
   "cell_type": "code",
   "execution_count": 123,
   "id": "2f4a352e",
   "metadata": {},
   "outputs": [],
   "source": [
    "Sz = np.zeros([2,2])\n",
    "Sz[0,0] = 1/2\n",
    "Sz[1,1] = -1/2\n",
    "Sx = np.zeros([2,2])\n",
    "Sx[1,0] = 1/2\n",
    "Sx[0,1] = 1/2\n",
    "Sy = np.zeros([2,2], dtype=np.complex64)\n",
    "Sy[1,0] = 1j/2\n",
    "Sy[0,1] = -1j/2\n",
    "\n",
    "SzSz = np.kron(Sz,Sz).real.astype(np.float64)\n",
    "SxSx = np.kron(Sx,Sx).real.astype(np.float64)\n",
    "SySy = np.kron(Sy,Sy).real.astype(np.float64)\n",
    "\n",
    "lh = SzSz + SxSx + SySy\n",
    "lh = -lh"
   ]
  },
  {
   "cell_type": "code",
   "execution_count": 124,
   "id": "69116ef7",
   "metadata": {},
   "outputs": [],
   "source": [
    "H1 = sum_ham(J[0]*lh, [[1,2],[1,3]], 4, 2)\n",
    "H1 += sum_ham(J[1]*lh/4, [[0,1],[2,3]], 4, 2)\n",
    "\n",
    "H2 = sum_ham(J[0]*lh, [[0,2],[0,3]], 4, 2)\n",
    "H2 += sum_ham(J[1]*lh/4, [[0,1],[2,3]], 4, 2)\n",
    "\n",
    "E1 = np.linalg.eigvalsh(H1)\n",
    "E2 = np.linalg.eigvalsh(H2)"
   ]
  },
  {
   "cell_type": "code",
   "execution_count": 125,
   "id": "2680aa18",
   "metadata": {
    "scrolled": true
   },
   "outputs": [
    {
     "name": "stdout",
     "output_type": "stream",
     "text": [
      "[[ 3.75000000e-01  0.00000000e+00  6.93889390e-18  0.00000000e+00\n",
      "   0.00000000e+00  0.00000000e+00  0.00000000e+00 -5.55111512e-18\n",
      "   6.93889390e-18  0.00000000e+00  6.93889390e-18  0.00000000e+00\n",
      "   0.00000000e+00  0.00000000e+00  0.00000000e+00  0.00000000e+00]\n",
      " [ 0.00000000e+00  1.25000000e-01  0.00000000e+00  0.00000000e+00\n",
      "  -3.93551224e-18  0.00000000e+00 -1.75000000e-01  0.00000000e+00\n",
      "   0.00000000e+00  1.75000000e-01  0.00000000e+00  0.00000000e+00\n",
      "   0.00000000e+00  0.00000000e+00  0.00000000e+00  0.00000000e+00]\n",
      " [-1.54074396e-33  0.00000000e+00  1.25000000e-01  0.00000000e+00\n",
      "   0.00000000e+00  0.00000000e+00  0.00000000e+00 -1.75000000e-01\n",
      "   1.54074396e-33  0.00000000e+00 -1.54074396e-33  0.00000000e+00\n",
      "   0.00000000e+00  1.75000000e-01  0.00000000e+00  0.00000000e+00]\n",
      " [ 0.00000000e+00  0.00000000e+00  0.00000000e+00  1.25000000e-01\n",
      "   0.00000000e+00  0.00000000e+00  0.00000000e+00  0.00000000e+00\n",
      "   0.00000000e+00  0.00000000e+00  0.00000000e+00 -1.75000000e-01\n",
      "   0.00000000e+00  0.00000000e+00  1.75000000e-01  0.00000000e+00]\n",
      " [ 0.00000000e+00  2.29934717e-18  0.00000000e+00  0.00000000e+00\n",
      "   1.25000000e-01  0.00000000e+00 -2.79639290e-18  0.00000000e+00\n",
      "   0.00000000e+00  2.29934717e-18  0.00000000e+00  0.00000000e+00\n",
      "   0.00000000e+00  0.00000000e+00  0.00000000e+00  0.00000000e+00]\n",
      " [ 0.00000000e+00  0.00000000e+00  0.00000000e+00  0.00000000e+00\n",
      "   0.00000000e+00 -3.00000000e-01  0.00000000e+00  0.00000000e+00\n",
      "   0.00000000e+00  0.00000000e+00  0.00000000e+00  0.00000000e+00\n",
      "   0.00000000e+00  0.00000000e+00  0.00000000e+00  0.00000000e+00]\n",
      " [ 0.00000000e+00 -1.75000000e-01  0.00000000e+00  0.00000000e+00\n",
      "   2.79639290e-18  0.00000000e+00 -1.25000000e-01  0.00000000e+00\n",
      "   0.00000000e+00 -1.75000000e-01  0.00000000e+00  0.00000000e+00\n",
      "   0.00000000e+00  0.00000000e+00  0.00000000e+00  0.00000000e+00]\n",
      " [-5.55111512e-18  0.00000000e+00 -1.75000000e-01  0.00000000e+00\n",
      "   0.00000000e+00  0.00000000e+00  0.00000000e+00  5.00000000e-02\n",
      "  -5.55111512e-18  0.00000000e+00 -1.75000000e-01  0.00000000e+00\n",
      "   0.00000000e+00  0.00000000e+00  0.00000000e+00  0.00000000e+00]\n",
      " [-1.54074396e-33  0.00000000e+00  1.54074396e-33  0.00000000e+00\n",
      "   0.00000000e+00  0.00000000e+00  0.00000000e+00 -5.55111512e-18\n",
      "   1.25000000e-01  0.00000000e+00 -1.54074396e-33  0.00000000e+00\n",
      "   0.00000000e+00  0.00000000e+00  0.00000000e+00  0.00000000e+00]\n",
      " [ 0.00000000e+00  1.75000000e-01  0.00000000e+00  0.00000000e+00\n",
      "  -3.93551224e-18  0.00000000e+00 -1.75000000e-01  0.00000000e+00\n",
      "   0.00000000e+00 -1.25000000e-01  0.00000000e+00  0.00000000e+00\n",
      "   0.00000000e+00  0.00000000e+00  0.00000000e+00  0.00000000e+00]\n",
      " [-1.54074396e-33  0.00000000e+00  1.54074396e-33  0.00000000e+00\n",
      "   0.00000000e+00  0.00000000e+00  0.00000000e+00 -1.75000000e-01\n",
      "   1.54074396e-33  0.00000000e+00 -1.25000000e-01  0.00000000e+00\n",
      "   0.00000000e+00 -1.75000000e-01  0.00000000e+00  0.00000000e+00]\n",
      " [ 0.00000000e+00  0.00000000e+00  0.00000000e+00 -1.75000000e-01\n",
      "   0.00000000e+00  0.00000000e+00  0.00000000e+00  0.00000000e+00\n",
      "   0.00000000e+00  0.00000000e+00  0.00000000e+00 -1.25000000e-01\n",
      "   0.00000000e+00  0.00000000e+00 -1.75000000e-01  0.00000000e+00]\n",
      " [ 0.00000000e+00  0.00000000e+00  0.00000000e+00 -2.29934717e-18\n",
      "   0.00000000e+00  0.00000000e+00  0.00000000e+00  0.00000000e+00\n",
      "   0.00000000e+00  0.00000000e+00  0.00000000e+00  2.29934717e-18\n",
      "   1.25000000e-01  0.00000000e+00  0.00000000e+00  0.00000000e+00]\n",
      " [ 5.55111512e-18  0.00000000e+00  1.75000000e-01  0.00000000e+00\n",
      "   0.00000000e+00  0.00000000e+00  0.00000000e+00  0.00000000e+00\n",
      "  -5.55111512e-18  0.00000000e+00 -1.75000000e-01  0.00000000e+00\n",
      "   0.00000000e+00  5.00000000e-02  0.00000000e+00  0.00000000e+00]\n",
      " [ 0.00000000e+00  0.00000000e+00  0.00000000e+00  1.75000000e-01\n",
      "   0.00000000e+00  0.00000000e+00  0.00000000e+00  0.00000000e+00\n",
      "   0.00000000e+00  0.00000000e+00  0.00000000e+00 -1.75000000e-01\n",
      "   0.00000000e+00  0.00000000e+00 -1.25000000e-01  0.00000000e+00]\n",
      " [ 0.00000000e+00  0.00000000e+00  0.00000000e+00  0.00000000e+00\n",
      "   0.00000000e+00  0.00000000e+00  0.00000000e+00  0.00000000e+00\n",
      "   0.00000000e+00  0.00000000e+00  0.00000000e+00  0.00000000e+00\n",
      "   0.00000000e+00  0.00000000e+00  0.00000000e+00 -3.00000000e-01]]\n"
     ]
    }
   ],
   "source": [
    "H1, H2 = U.T@H1@U, U.T@H2@U\n",
    "print(H1)"
   ]
  },
  {
   "cell_type": "code",
   "execution_count": 126,
   "id": "95f81718",
   "metadata": {},
   "outputs": [
    {
     "data": {
      "text/plain": [
       "array([-0.3      , -0.3      , -0.3      , -0.3      , -0.3      ,\n",
       "       -0.1628123, -0.1628123, -0.1628123,  0.125    ,  0.125    ,\n",
       "        0.125    ,  0.225    ,  0.3378123,  0.3378123,  0.3378123,\n",
       "        0.375    ])"
      ]
     },
     "execution_count": 126,
     "metadata": {},
     "output_type": "execute_result"
    }
   ],
   "source": [
    "E1"
   ]
  },
  {
   "cell_type": "markdown",
   "id": "15c0b1cb",
   "metadata": {},
   "source": [
    "### prepair plaquette "
   ]
  },
  {
   "cell_type": "code",
   "execution_count": null,
   "id": "a943bcdc",
   "metadata": {},
   "outputs": [],
   "source": [
    "square1 = [[0,1], [1,2], [2,3], [3,0]]\n",
    "square2 = [[4,5], [5,6], [6,7], [7,4]]\n",
    "H1 = sum_ham(J[0]*lh/4, square1 + square2, 8, 2)\n",
    "H1 += sum_ham(J[1]*lh, [[1,7]], 4, 2)\n",
    "\n",
    "H2 = sum_ham(J[0]*lh/4, square1 + square2, 8, 2)\n",
    "H2 += sum_ham(J[1]*lh, [[2,4]], 4, 2)"
   ]
  },
  {
   "cell_type": "code",
   "execution_count": 98,
   "id": "eae805f3",
   "metadata": {},
   "outputs": [
    {
     "data": {
      "text/plain": [
       "'/home/user/project/python/exact/SS'"
      ]
     },
     "execution_count": 98,
     "metadata": {},
     "output_type": "execute_result"
    }
   ],
   "source": [
    "os.getcwd()"
   ]
  },
  {
   "cell_type": "code",
   "execution_count": 100,
   "id": "51d0d891",
   "metadata": {},
   "outputs": [],
   "source": [
    "H1 = np.load(\"../../array/SS/plq_original_J=[1.0, 1]/0.npy\")"
   ]
  },
  {
   "cell_type": "code",
   "execution_count": 104,
   "id": "90f3ac96",
   "metadata": {},
   "outputs": [
    {
     "data": {
      "text/plain": [
       "65536"
      ]
     },
     "execution_count": 104,
     "metadata": {},
     "output_type": "execute_result"
    }
   ],
   "source": [
    "(2**4)**4"
   ]
  },
  {
   "cell_type": "code",
   "execution_count": 102,
   "id": "e2b760f2",
   "metadata": {},
   "outputs": [
    {
     "name": "stdout",
     "output_type": "stream",
     "text": [
      "(256, 256)\n"
     ]
    }
   ],
   "source": [
    "print(H1.shape)"
   ]
  },
  {
   "cell_type": "markdown",
   "id": "76513c01",
   "metadata": {},
   "source": [
    "## optimize unitary"
   ]
  },
  {
   "cell_type": "markdown",
   "id": "f76b5aa5",
   "metadata": {},
   "source": [
    "### dimer basis"
   ]
  },
  {
   "cell_type": "code",
   "execution_count": 53,
   "id": "2b333d3e",
   "metadata": {},
   "outputs": [],
   "source": [
    "D = 4\n",
    "\n",
    "models = nsp.model.UnitaryRiemanGenerator(D, dtype=torch.float64)"
   ]
  },
  {
   "cell_type": "code",
   "execution_count": 54,
   "id": "0332f208",
   "metadata": {},
   "outputs": [],
   "source": [
    "loss_f = nsp.loss.MES\n",
    "from datetime import datetime\n",
    "from random import randint"
   ]
  },
  {
   "cell_type": "code",
   "execution_count": 62,
   "id": "a144b0e0",
   "metadata": {},
   "outputs": [
    {
     "name": "stdout",
     "output_type": "stream",
     "text": [
      "target loss      : 1.3000000119\n",
      "initial loss     : 1.7798828929\n",
      "loss upper bound : 1.5000000119\n",
      "\n",
      "================================================== \n",
      "\n"
     ]
    },
    {
     "name": "stderr",
     "output_type": "stream",
     "text": [
      "  1%|██▉                                                                                                                                                                                                                         | 27/2000 [00:00<00:23, 83.77it/s, iter=26, loss=1.30000]\n"
     ]
    },
    {
     "name": "stdout",
     "output_type": "stream",
     "text": [
      "No local minimum found\n",
      "No local minimum found\n",
      "No local minimum found\n",
      "No local minimum found\n",
      "No local minimum found\n",
      "No local minimum found\n",
      "No local minimum found\n",
      "No local minimum found\n",
      "No local minimum found\n",
      "No local minimum found\n",
      "No local minimum found\n",
      "No local minimum found\n",
      "stack in local minimum --> break loop\n",
      "res = 1.3000000119208908 / seed = 3046045476\n",
      "\n",
      "best_fun updated : 1.3000000119208908\n",
      "\n",
      "target loss      : 1.3000000119\n",
      "initial loss     : 1.9955372456\n",
      "loss upper bound : 1.5000000119\n",
      "\n",
      "================================================== \n",
      "\n"
     ]
    },
    {
     "name": "stderr",
     "output_type": "stream",
     "text": [
      "  2%|████▋                                                                                                                                                                                                                       | 43/2000 [00:00<00:29, 67.35it/s, iter=42, loss=1.50000]\n"
     ]
    },
    {
     "name": "stdout",
     "output_type": "stream",
     "text": [
      "No local minimum found\n",
      "stack in local minimum --> break loop\n",
      "res = 1.5000000119206234 / seed = 3222352951\n",
      "target loss      : 1.3000000119\n",
      "initial loss     : 1.7897753081\n",
      "loss upper bound : 1.5000000119\n",
      "\n",
      "================================================== \n",
      "\n"
     ]
    },
    {
     "name": "stderr",
     "output_type": "stream",
     "text": [
      "  1%|███                                                                                                                                                                                                                         | 28/2000 [00:00<00:21, 90.40it/s, iter=27, loss=1.30821]\n"
     ]
    },
    {
     "name": "stdout",
     "output_type": "stream",
     "text": [
      "No local minimum found\n",
      "No local minimum found\n",
      "No local minimum found\n",
      "No local minimum found\n",
      "No local minimum found\n",
      "No local minimum found\n",
      "No local minimum found\n",
      "No local minimum found\n",
      "No local minimum found\n",
      "No local minimum found\n",
      "No local minimum found\n",
      "No local minimum found\n",
      "No local minimum found\n",
      "No local minimum found\n",
      "No local minimum found\n",
      "stack in local minimum --> break loop\n",
      "res = 1.3082070831056682 / seed = 2158409168\n",
      "target loss      : 1.3000000119\n",
      "initial loss     : 1.9910558634\n",
      "loss upper bound : 1.5000000119\n",
      "\n",
      "================================================== \n",
      "\n"
     ]
    },
    {
     "name": "stderr",
     "output_type": "stream",
     "text": [
      "  2%|█████▌                                                                                                                                                                                                                      | 50/2000 [00:00<00:30, 64.34it/s, iter=49, loss=1.68190]\n"
     ]
    },
    {
     "name": "stdout",
     "output_type": "stream",
     "text": [
      "stack in local minimum --> break loop\n",
      "res = 1.681904588066553 / seed = 786533599\n",
      "target loss      : 1.3000000119\n",
      "initial loss     : 1.8707051049\n",
      "loss upper bound : 1.5000000119\n",
      "\n",
      "================================================== \n",
      "\n"
     ]
    },
    {
     "name": "stderr",
     "output_type": "stream",
     "text": [
      "  1%|███                                                                                                                                                                                                                         | 28/2000 [00:00<00:24, 81.32it/s, iter=27, loss=1.30000]\n"
     ]
    },
    {
     "name": "stdout",
     "output_type": "stream",
     "text": [
      "No local minimum found\n",
      "No local minimum found\n",
      "No local minimum found\n",
      "No local minimum found\n",
      "No local minimum found\n",
      "No local minimum found\n",
      "No local minimum found\n",
      "No local minimum found\n",
      "No local minimum found\n",
      "No local minimum found\n",
      "No local minimum found\n",
      "No local minimum found\n",
      "stack in local minimum --> break loop\n",
      "res = 1.3000000119210529 / seed = 1121851147\n",
      "target loss      : 1.3000000119\n",
      "initial loss     : 2.0954257903\n",
      "loss upper bound : 1.5000000119\n",
      "\n",
      "================================================== \n",
      "\n"
     ]
    },
    {
     "name": "stderr",
     "output_type": "stream",
     "text": [
      "  2%|███▋                                                                                                                                                                                                                        | 33/2000 [00:00<00:25, 77.55it/s, iter=32, loss=1.30000]\n"
     ]
    },
    {
     "name": "stdout",
     "output_type": "stream",
     "text": [
      "No local minimum found\n",
      "No local minimum found\n",
      "No local minimum found\n",
      "No local minimum found\n",
      "No local minimum found\n",
      "No local minimum found\n",
      "No local minimum found\n",
      "No local minimum found\n",
      "No local minimum found\n",
      "No local minimum found\n",
      "No local minimum found\n",
      "stack in local minimum --> break loop\n",
      "res = 1.300000011919888 / seed = 3062348881\n",
      "\n",
      "best_fun updated : 1.300000011919888\n",
      "\n",
      "target loss      : 1.3000000119\n",
      "initial loss     : 2.0484505003\n",
      "loss upper bound : 1.5000000119\n",
      "\n",
      "================================================== \n",
      "\n"
     ]
    },
    {
     "name": "stderr",
     "output_type": "stream",
     "text": [
      "  1%|███▏                                                                                                                                                                                                                        | 29/2000 [00:00<00:23, 85.04it/s, iter=28, loss=1.30000]\n"
     ]
    },
    {
     "name": "stdout",
     "output_type": "stream",
     "text": [
      "No local minimum found\n",
      "No local minimum found\n",
      "No local minimum found\n",
      "No local minimum found\n",
      "No local minimum found\n",
      "No local minimum found\n",
      "No local minimum found\n",
      "No local minimum found\n",
      "No local minimum found\n",
      "No local minimum found\n",
      "No local minimum found\n",
      "No local minimum found\n",
      "No local minimum found\n",
      "stack in local minimum --> break loop\n",
      "res = 1.3000000119213093 / seed = 3411469672\n",
      "target loss      : 1.3000000119\n",
      "initial loss     : 1.9391566968\n",
      "loss upper bound : 1.5000000119\n",
      "\n",
      "================================================== \n",
      "\n"
     ]
    },
    {
     "name": "stderr",
     "output_type": "stream",
     "text": [
      "  1%|██▊                                                                                                                                                                                                                         | 26/2000 [00:00<00:21, 92.67it/s, iter=25, loss=1.30000]\n"
     ]
    },
    {
     "name": "stdout",
     "output_type": "stream",
     "text": [
      "No local minimum found\n",
      "No local minimum found\n",
      "No local minimum found\n",
      "No local minimum found\n",
      "No local minimum found\n",
      "No local minimum found\n",
      "No local minimum found\n",
      "No local minimum found\n",
      "No local minimum found\n",
      "No local minimum found\n",
      "No local minimum found\n",
      "No local minimum found\n",
      "No local minimum found\n",
      "No local minimum found\n",
      "No local minimum found\n",
      "stack in local minimum --> break loop\n",
      "res = 1.3000000119210653 / seed = 2851178001\n",
      "target loss      : 1.3000000119\n",
      "initial loss     : 2.0629344310\n",
      "loss upper bound : 1.5000000119\n",
      "\n",
      "================================================== \n",
      "\n"
     ]
    },
    {
     "name": "stderr",
     "output_type": "stream",
     "text": [
      "  3%|██████▌                                                                                                                                                                                                                     | 60/2000 [00:00<00:29, 65.37it/s, iter=59, loss=1.77918]\n"
     ]
    },
    {
     "name": "stdout",
     "output_type": "stream",
     "text": [
      "stack in local minimum --> break loop\n",
      "res = 1.7791814384438325 / seed = 1859769114\n",
      "target loss      : 1.3000000119\n",
      "initial loss     : 1.9053715810\n",
      "loss upper bound : 1.5000000119\n",
      "\n",
      "================================================== \n",
      "\n"
     ]
    },
    {
     "name": "stderr",
     "output_type": "stream",
     "text": [
      "  1%|██▉                                                                                                                                                                                                                         | 27/2000 [00:00<00:21, 90.16it/s, iter=26, loss=1.30000]"
     ]
    },
    {
     "name": "stdout",
     "output_type": "stream",
     "text": [
      "No local minimum found\n",
      "No local minimum found\n",
      "No local minimum found\n",
      "No local minimum found\n",
      "No local minimum found\n",
      "No local minimum found\n",
      "No local minimum found\n",
      "No local minimum found\n",
      "No local minimum found\n",
      "No local minimum found\n",
      "No local minimum found\n",
      "No local minimum found\n",
      "No local minimum found\n",
      "No local minimum found\n",
      "stack in local minimum --> break loop\n",
      "res = 1.3000000119213626 / seed = 2233820119\n"
     ]
    },
    {
     "name": "stderr",
     "output_type": "stream",
     "text": [
      "\n"
     ]
    }
   ],
   "source": [
    "D = 4\n",
    "M = 10\n",
    "loss1 = loss_f(H1, [D, D], pout = False)\n",
    "loss2 = loss_f(H2, [D, D], pout = False)\n",
    "best_fun = 1E10\n",
    "\n",
    "for _ in range(M):\n",
    "    seed = randint(0, 2<<32 - 1)\n",
    "    torch.manual_seed(seed)\n",
    "    np.random.seed(seed)\n",
    "#     models = [nsp.model.UnitaryRiemanGenerator(D, dtype=torch.float64) for _ in range(2)]\n",
    "    model = nsp.model.UnitaryRiemanGenerator(D, dtype=torch.float64)\n",
    "    cg = RiemanNonTransUnitaryCG([(model, model)]*2, [loss1, loss2], pout = False)\n",
    "    solver = UnitaryNonTransTs(cg, af=False)\n",
    "    ret = solver.run(2000, False)\n",
    "    print(f\"res = {ret.fun} / seed = {seed}\")\n",
    "    if ret.fun < best_fun:\n",
    "        print(f\"\\nbest_fun updated : {ret.fun}\\n\")\n",
    "        best_fun = ret.fun\n",
    "        best_model = ret.model\n",
    "# LHs = [loss._transform_kron([best_model[i].matrix(), best_model[(i+1)%L].matrix()], original=True).detach().numpy() for i in range(L)]\n",
    "# folder = f\"../../array/FL/optm_nt{L}Jp={(J[0]):.2}_Jx={(J[1]):.2}_{ham_type}_{loss_name}\"\n",
    "# co = nsp.utils.base_conv.change_order"
   ]
  },
  {
   "cell_type": "markdown",
   "id": "8ba1fc4d",
   "metadata": {},
   "source": [
    "### optimzie for many J"
   ]
  },
  {
   "cell_type": "code",
   "execution_count": 92,
   "id": "70913e58",
   "metadata": {},
   "outputs": [],
   "source": [
    "import re\n",
    "\n",
    "def process_line(stdout):\n",
    "    for line in str(stdout).split(\"\\\\n\"):\n",
    "        pat = \"best fun is : \"\n",
    "        if pat in line:\n",
    "            line = line.replace(pat,\"\")\n",
    "            return float(line)\n",
    "            \n"
   ]
  },
  {
   "cell_type": "code",
   "execution_count": 87,
   "id": "04463087",
   "metadata": {},
   "outputs": [
    {
     "name": "stdout",
     "output_type": "stream",
     "text": [
      "0.12\n"
     ]
    }
   ],
   "source": [
    "print(f\"{0.123:.2}\")"
   ]
  },
  {
   "cell_type": "code",
   "execution_count": 127,
   "id": "a08b12bb",
   "metadata": {},
   "outputs": [
    {
     "name": "stdout",
     "output_type": "stream",
     "text": [
      "best fun at J = 0.1 is :  None\n",
      "best fun at J = 0.2 is :  None\n",
      "best fun at J = 0.3 is :  None\n",
      "best fun at J = 0.4 is :  None\n",
      "best fun at J = 0.5 is :  None\n",
      "best fun at J = 0.6 is :  None\n",
      "best fun at J = 0.7 is :  None\n",
      "best fun at J = 0.8 is :  None\n",
      "best fun at J = 0.9 is :  None\n",
      "best fun at J = 1.0 is :  None\n"
     ]
    }
   ],
   "source": [
    "import numpy as np\n",
    "import os \n",
    "os.chdir(\"/home/user/project/python/exact/SS\")\n",
    "import subprocess\n",
    "energy_array = []\n",
    "sign_array = []\n",
    "time_array = []\n",
    "for J in np.arange(0.1, 1.1, 0.1):\n",
    "    out = subprocess.Popen([\"python\", \"make_ss_local.py\", \"-l\", \"dimer_basis\" ,\"-J\", f\"{J:.1}\", \"-M\", \"100\"], \n",
    "               stdout=subprocess.PIPE, \n",
    "               stderr=subprocess.STDOUT)\n",
    "    stdout,stderr = out.communicate()\n",
    "\n",
    "    best = process_line(stdout)\n",
    "    print(f\"best fun at J = {J:.2} is : \",best)\n",
    "#     energy_array.append(energy)\n",
    "#     sign_array.append(sign)\n",
    "#     time_array.append(time)"
   ]
  },
  {
   "cell_type": "markdown",
   "id": "529f5d8a",
   "metadata": {},
   "source": []
  }
 ],
 "metadata": {
  "kernelspec": {
   "display_name": "Python 3 (ipykernel)",
   "language": "python",
   "name": "python3"
  },
  "language_info": {
   "codemirror_mode": {
    "name": "ipython",
    "version": 3
   },
   "file_extension": ".py",
   "mimetype": "text/x-python",
   "name": "python",
   "nbconvert_exporter": "python",
   "pygments_lexer": "ipython3",
   "version": "3.9.12"
  }
 },
 "nbformat": 4,
 "nbformat_minor": 5
}
