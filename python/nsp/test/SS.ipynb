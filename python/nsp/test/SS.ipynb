{
 "cells": [
  {
   "cell_type": "code",
   "execution_count": 1,
   "id": "4187bc64",
   "metadata": {},
   "outputs": [
    {
     "name": "stderr",
     "output_type": "stream",
     "text": [
      "/home/user/miniconda3/envs/project/lib/python3.9/site-packages/tqdm/auto.py:22: TqdmWarning: IProgress not found. Please update jupyter and ipywidgets. See https://ipywidgets.readthedocs.io/en/stable/user_install.html\n",
      "  from .autonotebook import tqdm as notebook_tqdm\n"
     ]
    }
   ],
   "source": [
    "import numpy as np\n",
    "from header import *\n",
    "from nsp.utils.base_conv import *\n",
    "import argparse\n",
    "import sys\n",
    "sys.path.append('../nsp')\n",
    "from nsp.utils.func import *\n",
    "from nsp.utils.local2global import *"
   ]
  },
  {
   "cell_type": "code",
   "execution_count": 11,
   "id": "060e4adb",
   "metadata": {},
   "outputs": [],
   "source": [
    "E4 = np.load(\"/home/user/project/doc/data/shastry_exact_J1=1.npy\")"
   ]
  },
  {
   "cell_type": "code",
   "execution_count": 13,
   "id": "d78b4f14",
   "metadata": {},
   "outputs": [
    {
     "data": {
      "text/plain": [
       "-6.317601555407559"
      ]
     },
     "execution_count": 13,
     "metadata": {},
     "output_type": "execute_result"
    }
   ],
   "source": [
    "T = 0.8\n",
    "beta = 1/T\n",
    "np.sum(E4 * np.exp(-beta*E4))/np.sum(np.exp(-beta*E4))"
   ]
  },
  {
   "cell_type": "code",
   "execution_count": 4,
   "id": "2f4a352e",
   "metadata": {},
   "outputs": [],
   "source": [
    "Sz = np.zeros([2,2])\n",
    "Sz[0,0] = 1/2\n",
    "Sz[1,1] = -1/2\n",
    "Sx = np.zeros([2,2])\n",
    "Sx[1,0] = 1/2\n",
    "Sx[0,1] = 1/2\n",
    "Sy = np.zeros([2,2], dtype=np.complex64)\n",
    "Sy[1,0] = 1j/2\n",
    "Sy[0,1] = -1j/2\n",
    "\n",
    "SzSz = np.kron(Sz,Sz).real.astype(np.float64)\n",
    "SxSx = np.kron(Sx,Sx).real.astype(np.float64)\n",
    "SySy = np.kron(Sy,Sy).real.astype(np.float64)\n",
    "\n",
    "lh = SzSz + SxSx + SySy"
   ]
  },
  {
   "cell_type": "code",
   "execution_count": 5,
   "id": "cc965b2a",
   "metadata": {},
   "outputs": [
    {
     "data": {
      "text/plain": [
       "array([[ 0.25,  0.  ,  0.  ,  0.  ],\n",
       "       [ 0.  , -0.25,  0.5 ,  0.  ],\n",
       "       [ 0.  ,  0.5 , -0.25,  0.  ],\n",
       "       [ 0.  ,  0.  ,  0.  ,  0.25]])"
      ]
     },
     "execution_count": 5,
     "metadata": {},
     "output_type": "execute_result"
    }
   ],
   "source": [
    "lh"
   ]
  },
  {
   "cell_type": "code",
   "execution_count": 9,
   "id": "69116ef7",
   "metadata": {},
   "outputs": [],
   "source": [
    "H1 = sum_ham(lh, [[1,2],[1,3]], 4, 2)\n",
    "H1 += sum_ham(lh/4, [[0,1],[2,3]], 4, 2)\n",
    "\n",
    "H2 = sum_ham(lh, [[0,2],[0,3]], 4, 2)\n",
    "H2 += sum_ham(lh/4, [[0,1],[2,3]], 4, 2)"
   ]
  }
 ],
 "metadata": {
  "kernelspec": {
   "display_name": "Python 3 (ipykernel)",
   "language": "python",
   "name": "python3"
  },
  "language_info": {
   "codemirror_mode": {
    "name": "ipython",
    "version": 3
   },
   "file_extension": ".py",
   "mimetype": "text/x-python",
   "name": "python",
   "nbconvert_exporter": "python",
   "pygments_lexer": "ipython3",
   "version": "3.9.15"
  }
 },
 "nbformat": 4,
 "nbformat_minor": 5
}
