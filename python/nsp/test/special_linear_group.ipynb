{
 "cells": [
  {
   "cell_type": "code",
   "execution_count": 18,
   "id": "8ad8b072",
   "metadata": {},
   "outputs": [
    {
     "name": "stdout",
     "output_type": "stream",
     "text": [
      "number of models is :  1\n"
     ]
    }
   ],
   "source": [
    "from header import *\n",
    "\n",
    "D = 4\n",
    "\n",
    "model = nsp.model.UnitaryRiemanGenerator(D, dtype=torch.float64)\n",
    "model.reset_params()\n",
    "model2 = copy.deepcopy(model)\n",
    "set_seed(3342432)\n",
    "\n",
    "X = np.random.randn(D**2, D**2)\n",
    "X = (X + X.T)/2\n",
    "mask = X>=(1/(D**2))\n",
    "X[mask] = 0\n",
    "\n",
    "loss = nsp.loss.MES_SL(torch.Tensor(X), [D,D], inv = model._inv)\n",
    "\n",
    "\n",
    "\n",
    "cg2 = RiemanUnitaryCG2([model2], [loss])\n",
    "cg = RiemanUnitaryCG(model, loss, lr = 0.1)\n",
    "\n",
    "# S, W = cg._riemannian_grad(model._params)\n",
    "\n",
    "# solver_cg = UnitarySymmTs(RiemanUnitaryCG, model, loss, lr = 0.1)\n",
    "# ret_cg = solver_cg.run(200, disable_message=False)"
   ]
  },
  {
   "cell_type": "code",
   "execution_count": 19,
   "id": "482ca450",
   "metadata": {},
   "outputs": [],
   "source": [
    "for _ in range(10):\n",
    "    loss(model.matrix()).backward()\n",
    "    loss(model2.matrix()).backward()\n",
    "    cg2.step()\n",
    "    cg.step()\n",
    "    cg.zero_grad()\n",
    "    cg2.zero_grad()"
   ]
  },
  {
   "cell_type": "code",
   "execution_count": 20,
   "id": "77b1b54f",
   "metadata": {},
   "outputs": [
    {
     "data": {
      "text/plain": [
       "tensor([[ 0.6798,  0.0555,  0.4857,  0.5467],\n",
       "        [ 0.1244,  0.3583,  0.5885, -0.7140],\n",
       "        [-0.1170, -0.8943,  0.4119, -0.1297],\n",
       "        [-0.7132,  0.2621,  0.4980,  0.4178]], dtype=torch.float64,\n",
       "       grad_fn=<ViewBackward0>)"
      ]
     },
     "execution_count": 20,
     "metadata": {},
     "output_type": "execute_result"
    }
   ],
   "source": [
    "model.matrix()"
   ]
  },
  {
   "cell_type": "code",
   "execution_count": 21,
   "id": "179206a3",
   "metadata": {},
   "outputs": [
    {
     "data": {
      "text/plain": [
       "tensor([[ 0.6798,  0.0555,  0.4857,  0.5467],\n",
       "        [ 0.1244,  0.3583,  0.5885, -0.7140],\n",
       "        [-0.1170, -0.8943,  0.4119, -0.1297],\n",
       "        [-0.7132,  0.2621,  0.4980,  0.4178]], dtype=torch.float64,\n",
       "       grad_fn=<ViewBackward0>)"
      ]
     },
     "execution_count": 21,
     "metadata": {},
     "output_type": "execute_result"
    }
   ],
   "source": [
    "model2.matrix()"
   ]
  },
  {
   "cell_type": "code",
   "execution_count": 15,
   "id": "0315f9fc",
   "metadata": {},
   "outputs": [],
   "source": [
    "lr = slcg._golden(W.data, S.data)"
   ]
  },
  {
   "cell_type": "code",
   "execution_count": 16,
   "id": "c7c8a461",
   "metadata": {},
   "outputs": [
    {
     "data": {
      "text/plain": [
       "1.275625102976006"
      ]
     },
     "execution_count": 16,
     "metadata": {},
     "output_type": "execute_result"
    }
   ],
   "source": [
    "lr"
   ]
  },
  {
   "cell_type": "code",
   "execution_count": 8,
   "id": "d6eca4c7",
   "metadata": {},
   "outputs": [],
   "source": [
    "loss(model.matrix()).backward()"
   ]
  },
  {
   "cell_type": "code",
   "execution_count": 10,
   "id": "e5e877bc",
   "metadata": {},
   "outputs": [
    {
     "data": {
      "text/plain": [
       "tensor([  1.2769, -12.3206,   7.5504,   7.5007,  -7.3384, -47.3078, -43.3932,\n",
       "         28.8005,   1.4467,  27.3550,   8.5543, -16.6534, -12.1922, -75.3265,\n",
       "        -72.0942,  45.8580], dtype=torch.float64)"
      ]
     },
     "execution_count": 10,
     "metadata": {},
     "output_type": "execute_result"
    }
   ],
   "source": [
    "model._params.grad"
   ]
  },
  {
   "cell_type": "code",
   "execution_count": null,
   "id": "305943a3",
   "metadata": {},
   "outputs": [],
   "source": []
  },
  {
   "cell_type": "code",
   "execution_count": 38,
   "id": "f824d824",
   "metadata": {},
   "outputs": [
    {
     "data": {
      "text/plain": [
       "tensor([[ 1.2359, -0.7446,  0.8197,  1.7623],\n",
       "        [-0.4031,  0.7149,  0.1083,  0.1054],\n",
       "        [-0.3327, -0.3558, -0.2180,  0.1962],\n",
       "        [-1.1024, -0.0299,  0.3727, -0.9463]], dtype=torch.float64,\n",
       "       grad_fn=<ViewBackward0>)"
      ]
     },
     "execution_count": 38,
     "metadata": {},
     "output_type": "execute_result"
    }
   ],
   "source": [
    "model.matrix()"
   ]
  },
  {
   "cell_type": "code",
   "execution_count": 25,
   "id": "509c5c05",
   "metadata": {},
   "outputs": [
    {
     "data": {
      "text/plain": [
       "tensor([[ 1.1503e+09,  1.0250e+09],\n",
       "        [-1.2910e+09, -1.1503e+09]], dtype=torch.float64)"
      ]
     },
     "execution_count": 25,
     "metadata": {},
     "output_type": "execute_result"
    }
   ],
   "source": [
    "S"
   ]
  }
 ],
 "metadata": {
  "kernelspec": {
   "display_name": "Python 3 (ipykernel)",
   "language": "python",
   "name": "python3"
  },
  "language_info": {
   "codemirror_mode": {
    "name": "ipython",
    "version": 3
   },
   "file_extension": ".py",
   "mimetype": "text/x-python",
   "name": "python",
   "nbconvert_exporter": "python",
   "pygments_lexer": "ipython3",
   "version": "3.9.13"
  }
 },
 "nbformat": 4,
 "nbformat_minor": 5
}
