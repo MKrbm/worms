{
 "cells": [
  {
   "cell_type": "code",
   "execution_count": 67,
   "id": "8ad8b072",
   "metadata": {},
   "outputs": [
    {
     "name": "stdout",
     "output_type": "stream",
     "text": [
      "target loss      : 37.0190048218\n",
      "initial loss     : 4189.9892410269\n",
      "\n",
      "================================================== \n",
      "\n"
     ]
    },
    {
     "data": {
      "application/vnd.jupyter.widget-view+json": {
       "model_id": "78c171dd14464abb8b340738876e86e0",
       "version_major": 2,
       "version_minor": 0
      },
      "text/plain": [
       "  0%|          | 0/500 [00:00<?, ?it/s]"
      ]
     },
     "metadata": {},
     "output_type": "display_data"
    },
    {
     "name": "stdout",
     "output_type": "stream",
     "text": [
      "stack in local minimum --> break loop\n"
     ]
    }
   ],
   "source": [
    "from header import *\n",
    "\n",
    "D = 10\n",
    "\n",
    "model = nsp.model.SlRiemanGenerator(D, dtype=torch.float64)\n",
    "set_seed(3342432)\n",
    "\n",
    "X = np.random.randn(D**2, D**2)\n",
    "X = (X + X.T)/2\n",
    "mask = X>=(1/(D**2))\n",
    "X[mask] = 0\n",
    "\n",
    "loss = nsp.loss.MES_SL(torch.Tensor(X), [D,D], inv = model._inv)\n",
    "\n",
    "model.reset_params()\n",
    "loss(model.matrix()).backward()\n",
    "slcg = RiemanSlCG(model, loss)\n",
    "S, W = slcg._riemannian_grad(model._params)\n",
    "\n",
    "solver_cg = UnitarySymmTs(RiemanSlCG, model, loss)\n",
    "ret_cg = solver_cg.run(500, disable_message=False)"
   ]
  },
  {
   "cell_type": "code",
   "execution_count": null,
   "id": "19a51c5b",
   "metadata": {},
   "outputs": [],
   "source": []
  },
  {
   "cell_type": "code",
   "execution_count": 8,
   "id": "429a62a6",
   "metadata": {},
   "outputs": [
    {
     "data": {
      "text/plain": [
       "tensor([[ 0.5641, -0.0888],\n",
       "        [ 0.6804,  1.6656]], dtype=torch.float64)"
      ]
     },
     "execution_count": 8,
     "metadata": {},
     "output_type": "execute_result"
    }
   ],
   "source": [
    "torch.matrix_exp(-1*S.data)"
   ]
  },
  {
   "cell_type": "code",
   "execution_count": 9,
   "id": "1b8cca82",
   "metadata": {},
   "outputs": [
    {
     "data": {
      "text/plain": [
       "tensor(1., dtype=torch.float64)"
      ]
     },
     "execution_count": 9,
     "metadata": {},
     "output_type": "execute_result"
    }
   ],
   "source": [
    "torch.linalg.norm(S)"
   ]
  },
  {
   "cell_type": "code",
   "execution_count": 10,
   "id": "54175f60",
   "metadata": {},
   "outputs": [],
   "source": [
    "def objective(t):\n",
    "    return loss(torch.matrix_exp(-t*S.data)@W.data).item()"
   ]
  },
  {
   "cell_type": "code",
   "execution_count": 11,
   "id": "74e9cea2",
   "metadata": {},
   "outputs": [
    {
     "data": {
      "text/plain": [
       "tensor([ 0.4748+0.j, -0.4748+0.j], dtype=torch.complex128)"
      ]
     },
     "execution_count": 11,
     "metadata": {},
     "output_type": "execute_result"
    }
   ],
   "source": [
    "torch.linalg.eigvals(S.data)"
   ]
  },
  {
   "cell_type": "code",
   "execution_count": 14,
   "id": "e2ed48b5",
   "metadata": {},
   "outputs": [
    {
     "data": {
      "text/plain": [
       "tensor(11.8270, dtype=torch.float64, grad_fn=<MaxBackward1>)"
      ]
     },
     "execution_count": 14,
     "metadata": {},
     "output_type": "execute_result"
    }
   ],
   "source": [
    "loss(model.matrix())"
   ]
  },
  {
   "cell_type": "code",
   "execution_count": 13,
   "id": "aebfd125",
   "metadata": {},
   "outputs": [
    {
     "data": {
      "text/plain": [
       "11.850399187478192"
      ]
     },
     "execution_count": 13,
     "metadata": {},
     "output_type": "execute_result"
    }
   ],
   "source": [
    "objective(1)"
   ]
  },
  {
   "cell_type": "code",
   "execution_count": 74,
   "id": "0315f9fc",
   "metadata": {},
   "outputs": [
    {
     "ename": "_LinAlgError",
     "evalue": "torch.linalg.inv: The diagonal element 3 is zero, the inversion could not be completed because the input matrix is singular.",
     "output_type": "error",
     "traceback": [
      "\u001b[0;31m---------------------------------------------------------------------------\u001b[0m",
      "\u001b[0;31m_LinAlgError\u001b[0m                              Traceback (most recent call last)",
      "Input \u001b[0;32mIn [74]\u001b[0m, in \u001b[0;36m<cell line: 1>\u001b[0;34m()\u001b[0m\n\u001b[0;32m----> 1\u001b[0m lr \u001b[38;5;241m=\u001b[39m \u001b[43mslcg\u001b[49m\u001b[38;5;241;43m.\u001b[39;49m\u001b[43m_golden\u001b[49m\u001b[43m(\u001b[49m\u001b[43mW\u001b[49m\u001b[38;5;241;43m.\u001b[39;49m\u001b[43mdata\u001b[49m\u001b[43m,\u001b[49m\u001b[43m \u001b[49m\u001b[43mS\u001b[49m\u001b[38;5;241;43m.\u001b[39;49m\u001b[43mdata\u001b[49m\u001b[43m)\u001b[49m\n",
      "File \u001b[0;32m~/project/python/nsp/test/../nsp/optim/rieman_sl_optim.py:199\u001b[0m, in \u001b[0;36mRiemanSlCG._golden\u001b[0;34m(self, SL, H)\u001b[0m\n\u001b[1;32m    196\u001b[0m \u001b[38;5;28;01mdef\u001b[39;00m \u001b[38;5;21mobjective\u001b[39m(t):\n\u001b[1;32m    197\u001b[0m     \u001b[38;5;28;01mreturn\u001b[39;00m \u001b[38;5;28mself\u001b[39m\u001b[38;5;241m.\u001b[39mloss(torch\u001b[38;5;241m.\u001b[39mmatrix_exp(\u001b[38;5;241m-\u001b[39mt\u001b[38;5;241m*\u001b[39mH)\u001b[38;5;129m@SL\u001b[39m)\u001b[38;5;241m.\u001b[39mitem()\n\u001b[0;32m--> 199\u001b[0m \u001b[38;5;28;01mreturn\u001b[39;00m \u001b[43moptimize\u001b[49m\u001b[38;5;241;43m.\u001b[39;49m\u001b[43mgolden\u001b[49m\u001b[43m(\u001b[49m\u001b[43mobjective\u001b[49m\u001b[43m,\u001b[49m\u001b[43m \u001b[49m\u001b[43mbrack\u001b[49m\u001b[38;5;241;43m=\u001b[39;49m\u001b[43m(\u001b[49m\u001b[38;5;241;43m0\u001b[39;49m\u001b[43m,\u001b[49m\u001b[43m \u001b[49m\u001b[38;5;241;43m1\u001b[39;49m\u001b[43m)\u001b[49m\u001b[43m)\u001b[49m\n",
      "File \u001b[0;32m~/.local/lib/python3.9/site-packages/scipy/optimize/_optimize.py:2593\u001b[0m, in \u001b[0;36mgolden\u001b[0;34m(func, args, brack, tol, full_output, maxiter)\u001b[0m\n\u001b[1;32m   2535\u001b[0m \u001b[38;5;124;03m\"\"\"\u001b[39;00m\n\u001b[1;32m   2536\u001b[0m \u001b[38;5;124;03mReturn the minimum of a function of one variable using golden section\u001b[39;00m\n\u001b[1;32m   2537\u001b[0m \u001b[38;5;124;03mmethod.\u001b[39;00m\n\u001b[0;32m   (...)\u001b[0m\n\u001b[1;32m   2590\u001b[0m \n\u001b[1;32m   2591\u001b[0m \u001b[38;5;124;03m\"\"\"\u001b[39;00m\n\u001b[1;32m   2592\u001b[0m options \u001b[38;5;241m=\u001b[39m {\u001b[38;5;124m'\u001b[39m\u001b[38;5;124mxtol\u001b[39m\u001b[38;5;124m'\u001b[39m: tol, \u001b[38;5;124m'\u001b[39m\u001b[38;5;124mmaxiter\u001b[39m\u001b[38;5;124m'\u001b[39m: maxiter}\n\u001b[0;32m-> 2593\u001b[0m res \u001b[38;5;241m=\u001b[39m \u001b[43m_minimize_scalar_golden\u001b[49m\u001b[43m(\u001b[49m\u001b[43mfunc\u001b[49m\u001b[43m,\u001b[49m\u001b[43m \u001b[49m\u001b[43mbrack\u001b[49m\u001b[43m,\u001b[49m\u001b[43m \u001b[49m\u001b[43margs\u001b[49m\u001b[43m,\u001b[49m\u001b[43m \u001b[49m\u001b[38;5;241;43m*\u001b[39;49m\u001b[38;5;241;43m*\u001b[39;49m\u001b[43moptions\u001b[49m\u001b[43m)\u001b[49m\n\u001b[1;32m   2594\u001b[0m \u001b[38;5;28;01mif\u001b[39;00m full_output:\n\u001b[1;32m   2595\u001b[0m     \u001b[38;5;28;01mreturn\u001b[39;00m res[\u001b[38;5;124m'\u001b[39m\u001b[38;5;124mx\u001b[39m\u001b[38;5;124m'\u001b[39m], res[\u001b[38;5;124m'\u001b[39m\u001b[38;5;124mfun\u001b[39m\u001b[38;5;124m'\u001b[39m], res[\u001b[38;5;124m'\u001b[39m\u001b[38;5;124mnfev\u001b[39m\u001b[38;5;124m'\u001b[39m]\n",
      "File \u001b[0;32m~/.local/lib/python3.9/site-packages/scipy/optimize/_optimize.py:2622\u001b[0m, in \u001b[0;36m_minimize_scalar_golden\u001b[0;34m(func, brack, args, xtol, maxiter, disp, **unknown_options)\u001b[0m\n\u001b[1;32m   2620\u001b[0m     xa, xb, xc, fa, fb, fc, funcalls \u001b[38;5;241m=\u001b[39m bracket(func, args\u001b[38;5;241m=\u001b[39margs)\n\u001b[1;32m   2621\u001b[0m \u001b[38;5;28;01melif\u001b[39;00m \u001b[38;5;28mlen\u001b[39m(brack) \u001b[38;5;241m==\u001b[39m \u001b[38;5;241m2\u001b[39m:\n\u001b[0;32m-> 2622\u001b[0m     xa, xb, xc, fa, fb, fc, funcalls \u001b[38;5;241m=\u001b[39m \u001b[43mbracket\u001b[49m\u001b[43m(\u001b[49m\u001b[43mfunc\u001b[49m\u001b[43m,\u001b[49m\u001b[43m \u001b[49m\u001b[43mxa\u001b[49m\u001b[38;5;241;43m=\u001b[39;49m\u001b[43mbrack\u001b[49m\u001b[43m[\u001b[49m\u001b[38;5;241;43m0\u001b[39;49m\u001b[43m]\u001b[49m\u001b[43m,\u001b[49m\n\u001b[1;32m   2623\u001b[0m \u001b[43m                                               \u001b[49m\u001b[43mxb\u001b[49m\u001b[38;5;241;43m=\u001b[39;49m\u001b[43mbrack\u001b[49m\u001b[43m[\u001b[49m\u001b[38;5;241;43m1\u001b[39;49m\u001b[43m]\u001b[49m\u001b[43m,\u001b[49m\u001b[43m \u001b[49m\u001b[43margs\u001b[49m\u001b[38;5;241;43m=\u001b[39;49m\u001b[43margs\u001b[49m\u001b[43m)\u001b[49m\n\u001b[1;32m   2624\u001b[0m \u001b[38;5;28;01melif\u001b[39;00m \u001b[38;5;28mlen\u001b[39m(brack) \u001b[38;5;241m==\u001b[39m \u001b[38;5;241m3\u001b[39m:\n\u001b[1;32m   2625\u001b[0m     xa, xb, xc \u001b[38;5;241m=\u001b[39m brack\n",
      "File \u001b[0;32m~/.local/lib/python3.9/site-packages/scipy/optimize/_optimize.py:2766\u001b[0m, in \u001b[0;36mbracket\u001b[0;34m(func, xa, xb, args, grow_limit, maxiter)\u001b[0m\n\u001b[1;32m   2764\u001b[0m _verysmall_num \u001b[38;5;241m=\u001b[39m \u001b[38;5;241m1e-21\u001b[39m\n\u001b[1;32m   2765\u001b[0m fa \u001b[38;5;241m=\u001b[39m func(\u001b[38;5;241m*\u001b[39m(xa,) \u001b[38;5;241m+\u001b[39m args)\n\u001b[0;32m-> 2766\u001b[0m fb \u001b[38;5;241m=\u001b[39m \u001b[43mfunc\u001b[49m\u001b[43m(\u001b[49m\u001b[38;5;241;43m*\u001b[39;49m\u001b[43m(\u001b[49m\u001b[43mxb\u001b[49m\u001b[43m,\u001b[49m\u001b[43m)\u001b[49m\u001b[43m \u001b[49m\u001b[38;5;241;43m+\u001b[39;49m\u001b[43m \u001b[49m\u001b[43margs\u001b[49m\u001b[43m)\u001b[49m\n\u001b[1;32m   2767\u001b[0m \u001b[38;5;28;01mif\u001b[39;00m (fa \u001b[38;5;241m<\u001b[39m fb):                      \u001b[38;5;66;03m# Switch so fa > fb\u001b[39;00m\n\u001b[1;32m   2768\u001b[0m     xa, xb \u001b[38;5;241m=\u001b[39m xb, xa\n",
      "File \u001b[0;32m~/project/python/nsp/test/../nsp/optim/rieman_sl_optim.py:197\u001b[0m, in \u001b[0;36mRiemanSlCG._golden.<locals>.objective\u001b[0;34m(t)\u001b[0m\n\u001b[1;32m    196\u001b[0m \u001b[38;5;28;01mdef\u001b[39;00m \u001b[38;5;21mobjective\u001b[39m(t):\n\u001b[0;32m--> 197\u001b[0m     \u001b[38;5;28;01mreturn\u001b[39;00m \u001b[38;5;28;43mself\u001b[39;49m\u001b[38;5;241;43m.\u001b[39;49m\u001b[43mloss\u001b[49m\u001b[43m(\u001b[49m\u001b[43mtorch\u001b[49m\u001b[38;5;241;43m.\u001b[39;49m\u001b[43mmatrix_exp\u001b[49m\u001b[43m(\u001b[49m\u001b[38;5;241;43m-\u001b[39;49m\u001b[43mt\u001b[49m\u001b[38;5;241;43m*\u001b[39;49m\u001b[43mH\u001b[49m\u001b[43m)\u001b[49m\u001b[38;5;129;43m@SL\u001b[39;49m\u001b[43m)\u001b[49m\u001b[38;5;241m.\u001b[39mitem()\n",
      "File \u001b[0;32m~/project/python/nsp/test/../nsp/loss/base_class.py:66\u001b[0m, in \u001b[0;36mBaseMatirxLoss.__call__\u001b[0;34m(self, U_list)\u001b[0m\n\u001b[1;32m     64\u001b[0m     U_list \u001b[38;5;241m=\u001b[39m [U_list] \u001b[38;5;241m*\u001b[39m \u001b[38;5;28mself\u001b[39m\u001b[38;5;241m.\u001b[39m_n_unitaries\n\u001b[1;32m     65\u001b[0m \u001b[38;5;28mself\u001b[39m\u001b[38;5;241m.\u001b[39m_matrix_check(U_list)\n\u001b[0;32m---> 66\u001b[0m \u001b[38;5;28;01mreturn\u001b[39;00m \u001b[38;5;28mself\u001b[39m\u001b[38;5;241m.\u001b[39mforward(\u001b[38;5;28;43mself\u001b[39;49m\u001b[38;5;241;43m.\u001b[39;49m\u001b[43m_transform\u001b[49m\u001b[43m(\u001b[49m\u001b[43mU_list\u001b[49m\u001b[43m)\u001b[49m)\n",
      "File \u001b[0;32m~/project/python/nsp/test/../nsp/loss/base_class.py:76\u001b[0m, in \u001b[0;36mBaseMatirxLoss._transform_kron\u001b[0;34m(self, U_list)\u001b[0m\n\u001b[1;32m     74\u001b[0m \u001b[38;5;28;01mdef\u001b[39;00m \u001b[38;5;21m_transform_kron\u001b[39m(\u001b[38;5;28mself\u001b[39m, U_list : \u001b[38;5;28mlist\u001b[39m):\n\u001b[1;32m     75\u001b[0m     U \u001b[38;5;241m=\u001b[39m \u001b[38;5;28mself\u001b[39m\u001b[38;5;241m.\u001b[39m_kron(U_list)\n\u001b[0;32m---> 76\u001b[0m     \u001b[38;5;28;01mreturn\u001b[39;00m \u001b[38;5;28;43mself\u001b[39;49m\u001b[38;5;241;43m.\u001b[39;49m\u001b[43m_inverse\u001b[49m\u001b[43m(\u001b[49m\u001b[43mU\u001b[49m\u001b[43m)\u001b[49m \u001b[38;5;241m@\u001b[39m cast_dtype(\u001b[38;5;28mself\u001b[39m\u001b[38;5;241m.\u001b[39mX, U\u001b[38;5;241m.\u001b[39mdtype) \u001b[38;5;241m@\u001b[39m U\n",
      "File \u001b[0;32m~/project/python/nsp/test/../nsp/model/similarity_model.py:73\u001b[0m, in \u001b[0;36mSlRiemanGenerator._inv\u001b[0;34m(self, U, buffer)\u001b[0m\n\u001b[1;32m     71\u001b[0m \u001b[38;5;28;01mif\u001b[39;00m buffer:\n\u001b[1;32m     72\u001b[0m     \u001b[38;5;28;01mreturn\u001b[39;00m \u001b[38;5;28mself\u001b[39m\u001b[38;5;241m.\u001b[39mU_inv\n\u001b[0;32m---> 73\u001b[0m \u001b[38;5;28mself\u001b[39m\u001b[38;5;241m.\u001b[39mU_inv \u001b[38;5;241m=\u001b[39m \u001b[43mmatinv\u001b[49m\u001b[43m(\u001b[49m\u001b[43mU\u001b[49m\u001b[43m)\u001b[49m\n\u001b[1;32m     74\u001b[0m \u001b[38;5;28;01mreturn\u001b[39;00m \u001b[38;5;28mself\u001b[39m\u001b[38;5;241m.\u001b[39mU_inv\n",
      "File \u001b[0;32m~/project/python/nsp/test/../nsp/utils/func.py:296\u001b[0m, in \u001b[0;36mmatinv\u001b[0;34m(X)\u001b[0m\n\u001b[1;32m    294\u001b[0m \u001b[38;5;28;01mdef\u001b[39;00m \u001b[38;5;21mmatinv\u001b[39m(X):\n\u001b[1;32m    295\u001b[0m     \u001b[38;5;28;01mif\u001b[39;00m \u001b[38;5;28misinstance\u001b[39m(X, torch\u001b[38;5;241m.\u001b[39mTensor):\n\u001b[0;32m--> 296\u001b[0m         \u001b[38;5;28;01mreturn\u001b[39;00m \u001b[43mtorch\u001b[49m\u001b[38;5;241;43m.\u001b[39;49m\u001b[43mlinalg\u001b[49m\u001b[38;5;241;43m.\u001b[39;49m\u001b[43minv\u001b[49m\u001b[43m(\u001b[49m\u001b[43mX\u001b[49m\u001b[43m)\u001b[49m\n\u001b[1;32m    297\u001b[0m     \u001b[38;5;28;01melif\u001b[39;00m \u001b[38;5;28misinstance\u001b[39m(X, np\u001b[38;5;241m.\u001b[39mndarray):\n\u001b[1;32m    298\u001b[0m         \u001b[38;5;28;01mreturn\u001b[39;00m np\u001b[38;5;241m.\u001b[39mlinalg\u001b[38;5;241m.\u001b[39minv(X)\n",
      "\u001b[0;31m_LinAlgError\u001b[0m: torch.linalg.inv: The diagonal element 3 is zero, the inversion could not be completed because the input matrix is singular."
     ]
    }
   ],
   "source": [
    "lr = slcg._golden(W.data, S.data)"
   ]
  },
  {
   "cell_type": "code",
   "execution_count": 7,
   "id": "c7c8a461",
   "metadata": {},
   "outputs": [
    {
     "data": {
      "text/plain": [
       "tensor(11.5067, dtype=torch.float64, grad_fn=<MaxBackward1>)"
      ]
     },
     "execution_count": 7,
     "metadata": {},
     "output_type": "execute_result"
    }
   ],
   "source": [
    "loss(model.matrix())"
   ]
  },
  {
   "cell_type": "code",
   "execution_count": 8,
   "id": "d6eca4c7",
   "metadata": {},
   "outputs": [],
   "source": [
    "loss(model.matrix()).backward()"
   ]
  },
  {
   "cell_type": "code",
   "execution_count": 10,
   "id": "e5e877bc",
   "metadata": {},
   "outputs": [
    {
     "data": {
      "text/plain": [
       "tensor([  1.2769, -12.3206,   7.5504,   7.5007,  -7.3384, -47.3078, -43.3932,\n",
       "         28.8005,   1.4467,  27.3550,   8.5543, -16.6534, -12.1922, -75.3265,\n",
       "        -72.0942,  45.8580], dtype=torch.float64)"
      ]
     },
     "execution_count": 10,
     "metadata": {},
     "output_type": "execute_result"
    }
   ],
   "source": [
    "model._params.grad"
   ]
  },
  {
   "cell_type": "code",
   "execution_count": null,
   "id": "305943a3",
   "metadata": {},
   "outputs": [],
   "source": []
  },
  {
   "cell_type": "code",
   "execution_count": 38,
   "id": "f824d824",
   "metadata": {},
   "outputs": [
    {
     "data": {
      "text/plain": [
       "tensor([[ 1.2359, -0.7446,  0.8197,  1.7623],\n",
       "        [-0.4031,  0.7149,  0.1083,  0.1054],\n",
       "        [-0.3327, -0.3558, -0.2180,  0.1962],\n",
       "        [-1.1024, -0.0299,  0.3727, -0.9463]], dtype=torch.float64,\n",
       "       grad_fn=<ViewBackward0>)"
      ]
     },
     "execution_count": 38,
     "metadata": {},
     "output_type": "execute_result"
    }
   ],
   "source": [
    "model.matrix()"
   ]
  },
  {
   "cell_type": "code",
   "execution_count": 25,
   "id": "509c5c05",
   "metadata": {},
   "outputs": [
    {
     "data": {
      "text/plain": [
       "tensor([[ 1.1503e+09,  1.0250e+09],\n",
       "        [-1.2910e+09, -1.1503e+09]], dtype=torch.float64)"
      ]
     },
     "execution_count": 25,
     "metadata": {},
     "output_type": "execute_result"
    }
   ],
   "source": [
    "S"
   ]
  }
 ],
 "metadata": {
  "kernelspec": {
   "display_name": "Python 3 (ipykernel)",
   "language": "python",
   "name": "python3"
  },
  "language_info": {
   "codemirror_mode": {
    "name": "ipython",
    "version": 3
   },
   "file_extension": ".py",
   "mimetype": "text/x-python",
   "name": "python",
   "nbconvert_exporter": "python",
   "pygments_lexer": "ipython3",
   "version": "3.9.13"
  }
 },
 "nbformat": 4,
 "nbformat_minor": 5
}
