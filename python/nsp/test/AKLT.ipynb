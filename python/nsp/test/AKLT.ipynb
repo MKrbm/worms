{
 "cells": [
  {
   "cell_type": "code",
   "execution_count": 47,
   "id": "4bfbd3c6",
   "metadata": {},
   "outputs": [],
   "source": [
    "import numpy as np\n",
    "from header import *\n",
    "from nsp.utils.base_conv import *\n",
    "import argparse\n",
    "import sys\n",
    "sys.path.append('../nsp')\n",
    "from nsp.utils.func import *"
   ]
  },
  {
   "cell_type": "code",
   "execution_count": 48,
   "id": "8fd29ede",
   "metadata": {},
   "outputs": [
    {
     "name": "stderr",
     "output_type": "stream",
     "text": [
      "/tmp/ipykernel_47576/935684403.py:13: ComplexWarning: Casting complex values to real discards the imaginary part\n",
      "  SySy = np.kron(Sy,Sy).astype(np.float64)\n"
     ]
    }
   ],
   "source": [
    "Sz = np.zeros([3,3])\n",
    "Sz[0,0] = 1\n",
    "Sz[2,2] = -1\n",
    "Sx = np.zeros([3, 3])\n",
    "Sx[1,0] = Sx[0,1] = Sx[2,1] = Sx[1,2] = 1/np.sqrt(2)\n",
    "Sy = np.zeros([3, 3], dtype=np.complex64)\n",
    "Sy[1,0] = Sy[2,1] = 1j/np.sqrt(2)\n",
    "Sy[0,1] = Sy[1,2] = -1j/np.sqrt(2)\n",
    "\n",
    "\n",
    "SzSz = np.kron(Sz,Sz).astype(np.float64)\n",
    "SxSx = np.kron(Sx,Sx).astype(np.float64)\n",
    "SySy = np.kron(Sy,Sy).astype(np.float64)\n",
    "\n",
    "lh = SzSz + SxSx + SySy\n",
    "J = [1, 2]\n",
    "lh = -(lh + lh@lh*J[1]) + np.eye(lh.shape[0])*5"
   ]
  },
  {
   "cell_type": "code",
   "execution_count": 49,
   "id": "168a4638",
   "metadata": {},
   "outputs": [
    {
     "data": {
      "text/plain": [
       "0.3333333333333333"
      ]
     },
     "execution_count": 49,
     "metadata": {},
     "output_type": "execute_result"
    }
   ],
   "source": [
    "1/3"
   ]
  },
  {
   "cell_type": "code",
   "execution_count": 50,
   "id": "3b1b35ec",
   "metadata": {},
   "outputs": [
    {
     "data": {
      "text/plain": [
       "array([-0.99999972,  1.9999999 ,  2.        ,  2.        ,  2.0000003 ,\n",
       "        2.0000003 ,  4.        ,  4.        ,  4.00000018])"
      ]
     },
     "execution_count": 50,
     "metadata": {},
     "output_type": "execute_result"
    }
   ],
   "source": [
    "np.linalg.eigvalsh(lh)"
   ]
  },
  {
   "cell_type": "code",
   "execution_count": 51,
   "id": "c80eeba8",
   "metadata": {},
   "outputs": [
    {
     "data": {
      "text/plain": [
       "array([2.38418576e-07, 4.38447422e-01, 2.00000000e+00, 2.00000000e+00,\n",
       "       2.00000006e+00, 2.00000024e+00, 3.99999994e+00, 4.00000024e+00,\n",
       "       4.56155282e+00])"
      ]
     },
     "execution_count": 51,
     "metadata": {},
     "output_type": "execute_result"
    }
   ],
   "source": [
    "np.linalg.eigvalsh(stoquastic(lh))"
   ]
  },
  {
   "cell_type": "code",
   "execution_count": 46,
   "id": "66b09447",
   "metadata": {},
   "outputs": [
    {
     "data": {
      "text/plain": [
       "(array([1, 2, 3, 5, 6, 7]), array([3, 6, 1, 7, 2, 5]))"
      ]
     },
     "execution_count": 46,
     "metadata": {},
     "output_type": "execute_result"
    }
   ],
   "source": [
    "np.where(lh<=-1E-6)"
   ]
  },
  {
   "cell_type": "code",
   "execution_count": 34,
   "id": "acd259e6",
   "metadata": {},
   "outputs": [
    {
     "data": {
      "text/plain": [
       "-0.9999999701976775"
      ]
     },
     "execution_count": 34,
     "metadata": {},
     "output_type": "execute_result"
    }
   ],
   "source": [
    "lh[1,3]"
   ]
  },
  {
   "cell_type": "code",
   "execution_count": 3,
   "id": "f762f4cd",
   "metadata": {},
   "outputs": [
    {
     "ename": "NameError",
     "evalue": "name 'sum_ham' is not defined",
     "output_type": "error",
     "traceback": [
      "\u001b[0;31m---------------------------------------------------------------------------\u001b[0m",
      "\u001b[0;31mNameError\u001b[0m                                 Traceback (most recent call last)",
      "Input \u001b[0;32mIn [3]\u001b[0m, in \u001b[0;36m<cell line: 3>\u001b[0;34m()\u001b[0m\n\u001b[1;32m      1\u001b[0m L \u001b[38;5;241m=\u001b[39m \u001b[38;5;241m6\u001b[39m\n\u001b[1;32m      2\u001b[0m bonds \u001b[38;5;241m=\u001b[39m [[i, (i\u001b[38;5;241m+\u001b[39m\u001b[38;5;241m1\u001b[39m)\u001b[38;5;241m%\u001b[39mL] \u001b[38;5;28;01mfor\u001b[39;00m i \u001b[38;5;129;01min\u001b[39;00m \u001b[38;5;28mrange\u001b[39m(L)]\n\u001b[0;32m----> 3\u001b[0m H \u001b[38;5;241m=\u001b[39m \u001b[43msum_ham\u001b[49m(lh, bonds, L, \u001b[38;5;241m3\u001b[39m)\n",
      "\u001b[0;31mNameError\u001b[0m: name 'sum_ham' is not defined"
     ]
    }
   ],
   "source": [
    "L = 6\n",
    "bonds = [[i, (i+1)%L] for i in range(L)]\n",
    "H = sum_ham(lh, bonds, L, 3)"
   ]
  },
  {
   "cell_type": "code",
   "execution_count": 61,
   "id": "65fd9ca2",
   "metadata": {},
   "outputs": [
    {
     "data": {
      "text/plain": [
       "(-13.574818528205567, -9.538498000658288)"
      ]
     },
     "execution_count": 61,
     "metadata": {},
     "output_type": "execute_result"
    }
   ],
   "source": [
    "np.linalg.eigvalsh(H)[-1], np.linalg.eigvalsh(stoquastic(H))[-1]"
   ]
  },
  {
   "cell_type": "code",
   "execution_count": 67,
   "id": "c4b02c52",
   "metadata": {},
   "outputs": [],
   "source": [
    "E = np.linalg.eigvalsh(H)"
   ]
  },
  {
   "cell_type": "code",
   "execution_count": 69,
   "id": "bd8c4020",
   "metadata": {},
   "outputs": [
    {
     "data": {
      "text/plain": [
       "17.338893075343783"
      ]
     },
     "execution_count": 69,
     "metadata": {},
     "output_type": "execute_result"
    }
   ],
   "source": [
    "(E * np.exp(-E/2)).sum() / np.exp(-E/2).sum()"
   ]
  },
  {
   "cell_type": "code",
   "execution_count": 31,
   "id": "c770a46a",
   "metadata": {},
   "outputs": [],
   "source": [
    "bonds = [[0, 1], [2, 3]]\n",
    "LH = sum_ham(lh/2, bonds, 4, 3)\n",
    "LH += sum_ham(lh, [[1, 2]], 4, 3)"
   ]
  },
  {
   "cell_type": "code",
   "execution_count": 32,
   "id": "e425c8b4",
   "metadata": {},
   "outputs": [],
   "source": [
    "L_ = int(L/2)\n",
    "bonds = [[i, (i+1)%L_] for i in range(L_)]\n",
    "H2 = sum_ham(LH, bonds, L_, 9)"
   ]
  },
  {
   "cell_type": "code",
   "execution_count": 40,
   "id": "23615976",
   "metadata": {
    "scrolled": true
   },
   "outputs": [
    {
     "data": {
      "text/plain": [
       "(array([0.62215418, 0.82856679, 0.94225412, 0.95614189, 0.99344436,\n",
       "        1.07825878, 1.37554313, 1.51634402, 1.56073277, 1.69545747]),\n",
       " array([0.54784826, 0.94826642, 0.94826645, 0.97828283, 0.98775734,\n",
       "        0.98775734, 1.33779673, 1.51828621, 1.51828628, 1.61024625]))"
      ]
     },
     "execution_count": 40,
     "metadata": {},
     "output_type": "execute_result"
    }
   ],
   "source": [
    "a = np.load(\"/home/user/project/python/array/AKLT/optm2_l1/0.npy\")\n",
    "np.linalg.eigvalsh(stoquastic(a))[-10:], np.linalg.eigvalsh(stoquastic(LH))[-10:]"
   ]
  },
  {
   "cell_type": "code",
   "execution_count": 41,
   "id": "3612d884",
   "metadata": {},
   "outputs": [],
   "source": [
    "L_ = int(L/2)\n",
    "bonds = [[i, (i+1)%L_] for i in range(L_)]\n",
    "H2 = sum_ham(a, bonds, L_, 9)\n",
    "E2 = np.linalg.eigvalsh(H2)\n",
    "\n",
    "H2a = sum_ham(stoquastic(a), bonds, L_, 9)\n",
    "E2a = np.linalg.eigvalsh(H2a)\n",
    "\n",
    "H2ao = sum_ham(stoquastic(LH), bonds, L_, 9)\n",
    "E2ao = np.linalg.eigvalsh(H2ao)"
   ]
  },
  {
   "cell_type": "code",
   "execution_count": 42,
   "id": "09995a98",
   "metadata": {},
   "outputs": [
    {
     "data": {
      "text/plain": [
       "array([2.79622998, 3.3042685 , 3.30426859, 3.30426859, 4.        ])"
      ]
     },
     "execution_count": 42,
     "metadata": {},
     "output_type": "execute_result"
    }
   ],
   "source": [
    "E2[-5:]"
   ]
  },
  {
   "cell_type": "code",
   "execution_count": 43,
   "id": "e5522652",
   "metadata": {},
   "outputs": [
    {
     "data": {
      "text/plain": [
       "array([3.1115286 , 3.49285155, 4.05362475, 4.1701804 , 4.73977601])"
      ]
     },
     "execution_count": 43,
     "metadata": {},
     "output_type": "execute_result"
    }
   ],
   "source": [
    "E2a[-5:]"
   ]
  },
  {
   "cell_type": "code",
   "execution_count": 44,
   "id": "0c9def20",
   "metadata": {},
   "outputs": [
    {
     "data": {
      "text/plain": [
       "array([3.0779268 , 3.47297087, 4.09360903, 4.09360933, 4.54849741])"
      ]
     },
     "execution_count": 44,
     "metadata": {},
     "output_type": "execute_result"
    }
   ],
   "source": [
    "E2ao[-5:]"
   ]
  },
  {
   "cell_type": "code",
   "execution_count": 45,
   "id": "9d39af35",
   "metadata": {},
   "outputs": [],
   "source": [
    "bonds = [[0, 1], [1, 2], [3, 4], [4, 5]]\n",
    "LH = sum_ham(lh/2, bonds, 6, 3)\n",
    "LH += sum_ham(lh, [[2, 3]], 6, 3)"
   ]
  },
  {
   "cell_type": "code",
   "execution_count": 47,
   "id": "34b1c29b",
   "metadata": {},
   "outputs": [],
   "source": [
    "L_ = int(L/3)\n",
    "bonds = [[i, (i+1)%L_] for i in range(L_)]\n",
    "H2 = sum_ham(LH, bonds, L_, 27)\n",
    "E2 = np.linalg.eigvalsh(H2)"
   ]
  },
  {
   "cell_type": "code",
   "execution_count": 3,
   "id": "db3d94a2",
   "metadata": {},
   "outputs": [],
   "source": [
    "a = np.load(\"/home/user/project/python/array/AKLT/optm2_l1_J=2.0/0.npy\")\n",
    "b = np.load(\"/home/user/project/python/array/AKLT/optm2_mes_J=2.0/0.npy\")"
   ]
  },
  {
   "cell_type": "code",
   "execution_count": 6,
   "id": "1f76a1ab",
   "metadata": {},
   "outputs": [
    {
     "data": {
      "text/plain": [
       "116.02654286704728"
      ]
     },
     "execution_count": 6,
     "metadata": {},
     "output_type": "execute_result"
    }
   ],
   "source": [
    "l1_measure(a)"
   ]
  },
  {
   "cell_type": "code",
   "execution_count": 7,
   "id": "c0a1ae4b",
   "metadata": {},
   "outputs": [
    {
     "data": {
      "text/plain": [
       "183.99999697835335"
      ]
     },
     "execution_count": 7,
     "metadata": {},
     "output_type": "execute_result"
    }
   ],
   "source": [
    "l1_measure(b)"
   ]
  },
  {
   "cell_type": "code",
   "execution_count": 4,
   "id": "19654ea5",
   "metadata": {},
   "outputs": [
    {
     "data": {
      "text/plain": [
       "array([-8.86285815, -8.64441948, -8.44285465, -8.44284447, -8.19363929,\n",
       "       -8.02195427, -8.02194422, -7.81931371, -7.81931267, -7.72232941,\n",
       "       -7.72230962, -7.69073251, -7.69067863, -7.3550954 , -7.21999853,\n",
       "       -7.13429533, -7.13422925, -7.01978442, -6.93131736, -6.54601539,\n",
       "       -6.54597721, -6.40192933, -6.40191014, -6.37787486, -6.37771453,\n",
       "       -6.35289081, -6.0425805 , -6.04256724, -6.02433007, -6.        ,\n",
       "       -6.        , -5.99997351, -5.9997399 , -5.97431227, -5.97427479,\n",
       "       -5.6555868 , -5.61815023, -5.6180457 , -5.54658831, -5.54646388,\n",
       "       -5.28060965, -5.27382735, -5.27380124, -5.20140182, -5.20134172,\n",
       "       -5.19119468, -5.19100166, -5.15658322, -5.15631809, -5.0002597 ,\n",
       "       -5.00002622, -4.84826829, -4.84823485, -4.60610742, -4.12466606,\n",
       "       -4.12465086, -3.96663026, -3.96648473, -3.86452402, -3.77476244,\n",
       "       -3.62473856, -3.5286605 , -3.52851645, -3.4538742 , -3.45384242,\n",
       "       -3.38195409, -3.38184969, -3.21906561, -3.16575417, -3.1657043 ,\n",
       "       -3.08930333, -3.08910953, -2.89261696, -2.70690871, -2.70670015,\n",
       "       -2.58826566, -2.58808413, -2.57552452, -1.98499811, -1.98485487,\n",
       "       -1.90212574])"
      ]
     },
     "execution_count": 4,
     "metadata": {},
     "output_type": "execute_result"
    }
   ],
   "source": [
    "# a = set_mineig_zero(a)\n",
    "np.linalg.eigvalsh(stoquastic(a))"
   ]
  },
  {
   "cell_type": "code",
   "execution_count": 9,
   "id": "f7b67cfb",
   "metadata": {},
   "outputs": [
    {
     "data": {
      "text/plain": [
       "array([0.61768972, 0.89661907, 0.89661925, 1.26677718, 1.26677719,\n",
       "       1.26677731, 1.59306671, 1.59306671, 1.59306684, 2.02325163,\n",
       "       2.02325163, 2.02325181, 2.06759595, 2.06759596, 2.06759612,\n",
       "       2.39878635, 2.40995932, 2.40995951, 2.70156199, 3.1845595 ,\n",
       "       3.18455983, 3.32834117, 3.32834117, 3.3283414 , 3.70156181,\n",
       "       3.70156182, 3.70156183, 3.70156184, 3.70156195, 3.70156195,\n",
       "       3.701562  , 3.70156213, 4.07715082, 4.07715083, 4.07715096,\n",
       "       4.18455522, 4.18455529, 4.18455529, 4.48836366, 4.53055762,\n",
       "       4.53055762, 4.53055765, 4.70156186, 4.76836636, 4.76836653,\n",
       "       4.76836654, 4.77997811, 4.77997816, 4.77997817, 5.02934334,\n",
       "       5.02934334, 5.02934337, 5.05615016, 5.05615019, 5.70156178,\n",
       "       5.70156179, 5.70156203, 5.76480028, 5.76480029, 5.76480039,\n",
       "       6.00433749, 6.20156172, 6.20156197, 6.31005705, 6.31005716,\n",
       "       6.31005716, 6.46052114, 6.46052141, 6.55793026, 6.55793043,\n",
       "       6.55793043, 6.62813955, 6.62813955, 6.62813969, 6.67638218,\n",
       "       6.67638232, 6.67638232, 6.99863236, 7.3402579 , 7.34025794,\n",
       "       7.34025794])"
      ]
     },
     "execution_count": 9,
     "metadata": {},
     "output_type": "execute_result"
    }
   ],
   "source": [
    "b_ = set_mineig_zero(b)\n",
    "np.linalg.eigvalsh(stoquastic(b_))"
   ]
  },
  {
   "cell_type": "code",
   "execution_count": 146,
   "id": "7ba0fffa",
   "metadata": {},
   "outputs": [],
   "source": [
    "L = 6\n",
    "L_ = int(L/2)\n",
    "bonds = [[i, (i+1)%L_] for i in range(L_)]\n",
    "Ha = sum_ham(stoquastic(a), bonds, L_, 9)\n",
    "Ea = np.linalg.eigvalsh(Ha)"
   ]
  },
  {
   "cell_type": "code",
   "execution_count": 147,
   "id": "ddec03e9",
   "metadata": {},
   "outputs": [],
   "source": [
    "L = 6\n",
    "L_ = int(L/2)\n",
    "bonds = [[i, (i+1)%L_] for i in range(L_)]\n",
    "Hb = sum_ham(stoquastic(b), bonds, L_, 9)\n",
    "Eb = np.linalg.eigvalsh(Hb)"
   ]
  },
  {
   "cell_type": "code",
   "execution_count": 134,
   "id": "afa77bab",
   "metadata": {},
   "outputs": [
    {
     "data": {
      "text/plain": [
       "array([-8.78475267, -8.78253862, -8.60401719, -8.60401719, -8.46638732,\n",
       "       -7.26568017, -7.26488581, -6.38756684, -6.38419663, -6.04268853])"
      ]
     },
     "execution_count": 134,
     "metadata": {},
     "output_type": "execute_result"
    }
   ],
   "source": [
    "Ea[-10:]"
   ]
  },
  {
   "cell_type": "code",
   "execution_count": 148,
   "id": "58d003b9",
   "metadata": {},
   "outputs": [
    {
     "data": {
      "text/plain": [
       "array([-9.45752031, -9.31786172, -8.89892911, -8.89892911, -8.89892902,\n",
       "       -8.89892902, -7.66718403, -7.66718395, -7.66718393, -7.3194927 ])"
      ]
     },
     "execution_count": 148,
     "metadata": {},
     "output_type": "execute_result"
    }
   ],
   "source": [
    "Eb[-10:]"
   ]
  },
  {
   "cell_type": "code",
   "execution_count": 151,
   "id": "2aa6a4c7",
   "metadata": {},
   "outputs": [],
   "source": [
    "N = 9\n",
    "act = [N, N]\n",
    "I_not1 = torch.logical_not(torch.eye(act[0]))\n",
    "I_not2 = torch.logical_not(torch.eye(act[1]))\n",
    "ML = torch.kron(I_not1, torch.eye(act[1]))\n",
    "MR = torch.kron(torch.eye(act[0]), I_not2)\n",
    "MI = torch.kron(I_not1, I_not2) + torch.eye(np.prod(act))\n",
    "\n",
    "LH_3_site = (torch.kron(torch.eye(N),ML * b) + torch.kron(MR * b,torch.eye(N)))\n",
    "LH_2_site = MI * b\n",
    "\n",
    "bonds = [[i, (i+1)%L_] for i in range(L_)]\n",
    "H_af = sum_ham(LH_2_site, bonds, L_, 9)\n",
    "bonds = [[i, (i+1)%L_, (i+2)%L_] for i in range(L_)]\n",
    "H_af += sum_ham(LH_3_site, bonds, L_, 9)"
   ]
  },
  {
   "cell_type": "code",
   "execution_count": 4,
   "id": "04158184",
   "metadata": {},
   "outputs": [],
   "source": [
    "D = 3 ** 2\n",
    "bonds = [[0, 1], [2, 3]]\n",
    "LH = sum_ham(lh/2, bonds, 4, 3)\n",
    "LH += sum_ham(lh, [[1, 2]], 4, 3)\n",
    "loss = nsp.loss.MES(LH, [D, D], pout = False)"
   ]
  },
  {
   "cell_type": "code",
   "execution_count": 41,
   "id": "1b0f80f0",
   "metadata": {},
   "outputs": [],
   "source": [
    "name = [0, 1, 2, 3]\n",
    "hams = [np.load(f\"/home/user/project/python/array/AKLT/optm2_nt2_mes_J=2.0_af/{n}.npy\") for n in name]\n",
    "hams2 = hams[:2]\n",
    "hams3 = hams[2:]\n",
    "co = nsp.utils.base_conv.change_order\n",
    "LH_3 = [co(lh, [9, 9, 9]) for lh in hams3]\n",
    "LH_2 = [co(lh, [9, 9]) +9.7016*np.eye(81) for lh in hams2]\n",
    "LH_33  = []\n",
    "for i in range(2):\n",
    "    LH_33.append(LH_3[i] + np.kron(LH_2[i]/2, np.eye(9)) + np.kron(np.eye(9), LH_2[(i+1)%2]/2))"
   ]
  },
  {
   "cell_type": "code",
   "execution_count": 42,
   "id": "51c059b9",
   "metadata": {},
   "outputs": [],
   "source": [
    "loss1 = 0\n",
    "for x in LH_33:\n",
    "    loss1 += loss.forward(x)"
   ]
  },
  {
   "cell_type": "code",
   "execution_count": 43,
   "id": "e8fed726",
   "metadata": {},
   "outputs": [
    {
     "data": {
      "text/plain": [
       "14.6398196989342"
      ]
     },
     "execution_count": 43,
     "metadata": {},
     "output_type": "execute_result"
    }
   ],
   "source": [
    "loss1"
   ]
  },
  {
   "cell_type": "code",
   "execution_count": 53,
   "id": "6e9299aa",
   "metadata": {},
   "outputs": [],
   "source": [
    "name = [0, 1]\n",
    "hams = [np.load(f\"/home/user/project/python/array/AKLT/optm2_mes_J=2.0_af/{n}.npy\") for n in name]\n",
    "hams2 = hams[:1]\n",
    "hams3 = hams[1:]\n",
    "co = nsp.utils.base_conv.change_order\n",
    "LH_3 = [co(lh, [9, 9, 9]) for lh in hams3]\n",
    "LH_2 = [co(lh, [9, 9]) +9.7016*np.eye(81) for lh in hams2]\n",
    "LH_33  = LH_3[0] + np.kron(LH_2[0]/2, np.eye(9)) + np.kron(np.eye(9), LH_2[0]/2)\n"
   ]
  },
  {
   "cell_type": "code",
   "execution_count": 54,
   "id": "5c77bac3",
   "metadata": {},
   "outputs": [
    {
     "data": {
      "text/plain": [
       "7.319912658631336"
      ]
     },
     "execution_count": 54,
     "metadata": {},
     "output_type": "execute_result"
    }
   ],
   "source": [
    "loss.forward(LH_33)"
   ]
  },
  {
   "cell_type": "code",
   "execution_count": 52,
   "id": "d6e63e5a",
   "metadata": {},
   "outputs": [
    {
     "data": {
      "text/plain": [
       "14.639825317262671"
      ]
     },
     "execution_count": 52,
     "metadata": {},
     "output_type": "execute_result"
    }
   ],
   "source": [
    "7.319912658631336 * 2"
   ]
  }
 ],
 "metadata": {
  "kernelspec": {
   "display_name": "Python 3 (ipykernel)",
   "language": "python",
   "name": "python3"
  },
  "language_info": {
   "codemirror_mode": {
    "name": "ipython",
    "version": 3
   },
   "file_extension": ".py",
   "mimetype": "text/x-python",
   "name": "python",
   "nbconvert_exporter": "python",
   "pygments_lexer": "ipython3",
   "version": "3.9.13"
  }
 },
 "nbformat": 4,
 "nbformat_minor": 5
}
