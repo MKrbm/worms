{
 "cells": [
  {
   "cell_type": "code",
   "execution_count": 3,
   "id": "4bfbd3c6",
   "metadata": {},
   "outputs": [],
   "source": [
    "import numpy as np\n",
    "from header import *\n",
    "from nsp.utils.base_conv import *\n",
    "import argparse\n",
    "import sys\n",
    "sys.path.append('../nsp')\n",
    "from nsp.utils.func import *"
   ]
  },
  {
   "cell_type": "code",
   "execution_count": 30,
   "id": "8fd29ede",
   "metadata": {},
   "outputs": [
    {
     "name": "stderr",
     "output_type": "stream",
     "text": [
      "/tmp/ipykernel_1893/1493204115.py:13: ComplexWarning: Casting complex values to real discards the imaginary part\n",
      "  SySy = np.kron(Sy,Sy).astype(np.float64)\n"
     ]
    }
   ],
   "source": [
    "Sz = np.zeros([3,3])\n",
    "Sz[0,0] = 1\n",
    "Sz[2,2] = -1\n",
    "Sx = np.zeros([3, 3])\n",
    "Sx[1,0] = Sx[0,1] = Sx[2,1] = Sx[1,2] = 1/np.sqrt(2)\n",
    "Sy = np.zeros([3, 3], dtype=np.complex64)\n",
    "Sy[1,0] = Sy[2,1] = 1j/np.sqrt(2)\n",
    "Sy[0,1] = Sy[1,2] = -1j/np.sqrt(2)\n",
    "\n",
    "\n",
    "SzSz = np.kron(Sz,Sz).astype(np.float64)\n",
    "SxSx = np.kron(Sx,Sx).astype(np.float64)\n",
    "SySy = np.kron(Sy,Sy).astype(np.float64)\n",
    "\n",
    "lh = SzSz + SxSx + SySy\n",
    "lh = -(lh + lh@lh*(1/3))"
   ]
  },
  {
   "cell_type": "code",
   "execution_count": 5,
   "id": "f762f4cd",
   "metadata": {},
   "outputs": [],
   "source": [
    "L = 6\n",
    "bonds = [[i, (i+1)%L] for i in range(L)]\n",
    "H = sum_ham(lh, bonds, L, 3)"
   ]
  },
  {
   "cell_type": "code",
   "execution_count": 6,
   "id": "65fd9ca2",
   "metadata": {},
   "outputs": [],
   "source": [
    "E = np.linalg.eigvalsh(H)"
   ]
  },
  {
   "cell_type": "code",
   "execution_count": 7,
   "id": "bd8c4020",
   "metadata": {},
   "outputs": [
    {
     "data": {
      "text/plain": [
       "-1.8158525475376222"
      ]
     },
     "execution_count": 7,
     "metadata": {},
     "output_type": "execute_result"
    }
   ],
   "source": [
    "(E * np.exp(-E)).sum() / np.exp(-E).sum()"
   ]
  },
  {
   "cell_type": "code",
   "execution_count": 31,
   "id": "c770a46a",
   "metadata": {},
   "outputs": [],
   "source": [
    "bonds = [[0, 1], [2, 3]]\n",
    "LH = sum_ham(lh/2, bonds, 4, 3)\n",
    "LH += sum_ham(lh, [[1, 2]], 4, 3)"
   ]
  },
  {
   "cell_type": "code",
   "execution_count": 32,
   "id": "e425c8b4",
   "metadata": {},
   "outputs": [],
   "source": [
    "L_ = int(L/2)\n",
    "bonds = [[i, (i+1)%L_] for i in range(L_)]\n",
    "H2 = sum_ham(LH, bonds, L_, 9)"
   ]
  },
  {
   "cell_type": "code",
   "execution_count": 40,
   "id": "23615976",
   "metadata": {
    "scrolled": true
   },
   "outputs": [
    {
     "data": {
      "text/plain": [
       "(array([0.62215418, 0.82856679, 0.94225412, 0.95614189, 0.99344436,\n",
       "        1.07825878, 1.37554313, 1.51634402, 1.56073277, 1.69545747]),\n",
       " array([0.54784826, 0.94826642, 0.94826645, 0.97828283, 0.98775734,\n",
       "        0.98775734, 1.33779673, 1.51828621, 1.51828628, 1.61024625]))"
      ]
     },
     "execution_count": 40,
     "metadata": {},
     "output_type": "execute_result"
    }
   ],
   "source": [
    "a = np.load(\"/home/user/project/python/array/AKLT/optm2_l1/0.npy\")\n",
    "np.linalg.eigvalsh(stoquastic(a))[-10:], np.linalg.eigvalsh(stoquastic(LH))[-10:]"
   ]
  },
  {
   "cell_type": "code",
   "execution_count": 41,
   "id": "3612d884",
   "metadata": {},
   "outputs": [],
   "source": [
    "L_ = int(L/2)\n",
    "bonds = [[i, (i+1)%L_] for i in range(L_)]\n",
    "H2 = sum_ham(a, bonds, L_, 9)\n",
    "E2 = np.linalg.eigvalsh(H2)\n",
    "\n",
    "H2a = sum_ham(stoquastic(a), bonds, L_, 9)\n",
    "E2a = np.linalg.eigvalsh(H2a)\n",
    "\n",
    "H2ao = sum_ham(stoquastic(LH), bonds, L_, 9)\n",
    "E2ao = np.linalg.eigvalsh(H2ao)"
   ]
  },
  {
   "cell_type": "code",
   "execution_count": 42,
   "id": "09995a98",
   "metadata": {},
   "outputs": [
    {
     "data": {
      "text/plain": [
       "array([2.79622998, 3.3042685 , 3.30426859, 3.30426859, 4.        ])"
      ]
     },
     "execution_count": 42,
     "metadata": {},
     "output_type": "execute_result"
    }
   ],
   "source": [
    "E2[-5:]"
   ]
  },
  {
   "cell_type": "code",
   "execution_count": 43,
   "id": "c2638683",
   "metadata": {},
   "outputs": [
    {
     "data": {
      "text/plain": [
       "array([3.1115286 , 3.49285155, 4.05362475, 4.1701804 , 4.73977601])"
      ]
     },
     "execution_count": 43,
     "metadata": {},
     "output_type": "execute_result"
    }
   ],
   "source": [
    "E2a[-5:]"
   ]
  },
  {
   "cell_type": "code",
   "execution_count": 44,
   "id": "0c9def20",
   "metadata": {},
   "outputs": [
    {
     "data": {
      "text/plain": [
       "array([3.0779268 , 3.47297087, 4.09360903, 4.09360933, 4.54849741])"
      ]
     },
     "execution_count": 44,
     "metadata": {},
     "output_type": "execute_result"
    }
   ],
   "source": [
    "E2ao[-5:]"
   ]
  },
  {
   "cell_type": "code",
   "execution_count": 122,
   "id": "fbcd6136",
   "metadata": {},
   "outputs": [
    {
     "data": {
      "text/plain": [
       "array([[8.00000000e+00, 0.00000000e+00, 1.98682143e-08, ...,\n",
       "        0.00000000e+00, 0.00000000e+00, 0.00000000e+00],\n",
       "       [0.00000000e+00, 5.99999996e+00, 0.00000000e+00, ...,\n",
       "        0.00000000e+00, 0.00000000e+00, 0.00000000e+00],\n",
       "       [1.98682143e-08, 0.00000000e+00, 4.66666663e+00, ...,\n",
       "        0.00000000e+00, 0.00000000e+00, 0.00000000e+00],\n",
       "       ...,\n",
       "       [0.00000000e+00, 0.00000000e+00, 0.00000000e+00, ...,\n",
       "        4.66666663e+00, 0.00000000e+00, 1.98682143e-08],\n",
       "       [0.00000000e+00, 0.00000000e+00, 0.00000000e+00, ...,\n",
       "        0.00000000e+00, 5.99999996e+00, 0.00000000e+00],\n",
       "       [0.00000000e+00, 0.00000000e+00, 0.00000000e+00, ...,\n",
       "        1.98682143e-08, 0.00000000e+00, 8.00000000e+00]])"
      ]
     },
     "execution_count": 122,
     "metadata": {},
     "output_type": "execute_result"
    }
   ],
   "source": [
    "H2"
   ]
  },
  {
   "cell_type": "code",
   "execution_count": 124,
   "id": "9d39af35",
   "metadata": {},
   "outputs": [
    {
     "data": {
      "text/plain": [
       "array([[ 0,  0],\n",
       "       [ 1,  1],\n",
       "       [ 2,  2],\n",
       "       [ 3,  3],\n",
       "       [ 3,  9],\n",
       "       [ 4,  4],\n",
       "       [ 4, 10],\n",
       "       [ 5,  5],\n",
       "       [ 5, 11],\n",
       "       [ 6, 12],\n",
       "       [ 7, 13],\n",
       "       [ 8,  8],\n",
       "       [ 8, 14],\n",
       "       [ 9,  3],\n",
       "       [ 9,  9],\n",
       "       [10,  4],\n",
       "       [10, 10],\n",
       "       [11,  5],\n",
       "       [12,  6],\n",
       "       [12, 12],\n",
       "       [12, 18],\n",
       "       [13,  7],\n",
       "       [13, 13],\n",
       "       [13, 19],\n",
       "       [14,  8],\n",
       "       [14, 14],\n",
       "       [14, 20],\n",
       "       [15, 21],\n",
       "       [16, 16],\n",
       "       [16, 22],\n",
       "       [17, 17],\n",
       "       [17, 23],\n",
       "       [18, 12],\n",
       "       [19, 13],\n",
       "       [20, 14],\n",
       "       [20, 20],\n",
       "       [21, 15],\n",
       "       [22, 16],\n",
       "       [23, 17],\n",
       "       [24, 24],\n",
       "       [25, 25],\n",
       "       [26, 26],\n",
       "       [27, 27],\n",
       "       [28, 28],\n",
       "       [29, 29],\n",
       "       [30, 30],\n",
       "       [30, 36],\n",
       "       [31, 31],\n",
       "       [31, 37],\n",
       "       [32, 32],\n",
       "       [32, 38],\n",
       "       [33, 39],\n",
       "       [34, 40],\n",
       "       [35, 41],\n",
       "       [36, 30],\n",
       "       [36, 36],\n",
       "       [37, 31],\n",
       "       [37, 37],\n",
       "       [38, 32],\n",
       "       [39, 33],\n",
       "       [39, 39],\n",
       "       [39, 45],\n",
       "       [40, 34],\n",
       "       [40, 40],\n",
       "       [40, 46],\n",
       "       [41, 35],\n",
       "       [41, 41],\n",
       "       [41, 47],\n",
       "       [42, 48],\n",
       "       [43, 43],\n",
       "       [43, 49],\n",
       "       [44, 44],\n",
       "       [44, 50],\n",
       "       [45, 39],\n",
       "       [46, 40],\n",
       "       [47, 41],\n",
       "       [48, 42],\n",
       "       [48, 48],\n",
       "       [49, 43],\n",
       "       [49, 49],\n",
       "       [50, 44],\n",
       "       [50, 50],\n",
       "       [51, 51],\n",
       "       [52, 52],\n",
       "       [53, 53],\n",
       "       [54, 54],\n",
       "       [55, 55],\n",
       "       [56, 56],\n",
       "       [57, 63],\n",
       "       [58, 64],\n",
       "       [59, 65],\n",
       "       [60, 60],\n",
       "       [60, 66],\n",
       "       [61, 67],\n",
       "       [62, 68],\n",
       "       [63, 57],\n",
       "       [63, 63],\n",
       "       [64, 58],\n",
       "       [64, 64],\n",
       "       [65, 59],\n",
       "       [66, 60],\n",
       "       [66, 66],\n",
       "       [66, 72],\n",
       "       [67, 61],\n",
       "       [67, 67],\n",
       "       [67, 73],\n",
       "       [68, 62],\n",
       "       [68, 68],\n",
       "       [68, 74],\n",
       "       [69, 75],\n",
       "       [70, 70],\n",
       "       [70, 76],\n",
       "       [71, 71],\n",
       "       [71, 77],\n",
       "       [72, 66],\n",
       "       [72, 72],\n",
       "       [73, 67],\n",
       "       [74, 68],\n",
       "       [75, 69],\n",
       "       [75, 75],\n",
       "       [76, 70],\n",
       "       [76, 76],\n",
       "       [77, 71],\n",
       "       [77, 77],\n",
       "       [78, 78],\n",
       "       [79, 79],\n",
       "       [80, 80]])"
      ]
     },
     "execution_count": 124,
     "metadata": {},
     "output_type": "execute_result"
    }
   ],
   "source": [
    "np.argwhere(np.abs(a) > 0.5)"
   ]
  },
  {
   "cell_type": "code",
   "execution_count": 144,
   "id": "34b1c29b",
   "metadata": {},
   "outputs": [
    {
     "data": {
      "text/plain": [
       "[5, 4, 5, 4]"
      ]
     },
     "execution_count": 144,
     "metadata": {},
     "output_type": "execute_result"
    }
   ],
   "source": [
    "num2state(3362, L=4, sps=9, rev=True)"
   ]
  },
  {
   "cell_type": "code",
   "execution_count": 127,
   "id": "db3d94a2",
   "metadata": {},
   "outputs": [
    {
     "name": "stdout",
     "output_type": "stream",
     "text": [
      "Help on CPUDispatcher in module nsp.utils.base_conv:\n",
      "\n",
      "num2state(s, L=4, sps=2, rev=False)\n",
      "\n"
     ]
    }
   ],
   "source": [
    "help(num2state)"
   ]
  }
 ],
 "metadata": {
  "kernelspec": {
   "display_name": "Python 3 (ipykernel)",
   "language": "python",
   "name": "python3"
  },
  "language_info": {
   "codemirror_mode": {
    "name": "ipython",
    "version": 3
   },
   "file_extension": ".py",
   "mimetype": "text/x-python",
   "name": "python",
   "nbconvert_exporter": "python",
   "pygments_lexer": "ipython3",
   "version": "3.9.13"
  }
 },
 "nbformat": 4,
 "nbformat_minor": 5
}
