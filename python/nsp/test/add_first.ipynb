{
 "cells": [
  {
   "cell_type": "code",
   "execution_count": 1,
   "id": "11ce1718",
   "metadata": {},
   "outputs": [],
   "source": [
    "import numpy as np\n",
    "from header import *\n",
    "from nsp.utils.base_conv import *"
   ]
  },
  {
   "cell_type": "code",
   "execution_count": 28,
   "id": "e5d2b443",
   "metadata": {},
   "outputs": [],
   "source": [
    "N = 4\n",
    "X = np.random.randn(N**2, N**2)\n",
    "X = X.T + X\n",
    "# mask = np.abs(X)>=(np.max(X)/(N))\n",
    "# X[mask] = 0\n",
    "loss_l1 = nsp.loss.MES(torch.from_numpy(X), [N, N])\n",
    "t = 0.001\n",
    "ret_min_grad = 1e10\n",
    "model = nsp.model.UnitaryRiemanGenerator(N, dtype=torch.float64)\n",
    "model2 = nsp.model.UnitaryRiemanGenerator(N, dtype=torch.float64)\n",
    "\n",
    "# model._params.data[:] = torch.eye(model.D).view(-1)\n",
    "# solver = UnitaryTransTs(RiemanUnitaryCG, model, loss_l1, lr = 0.005, momentum=0.1)"
   ]
  },
  {
   "cell_type": "code",
   "execution_count": 29,
   "id": "7e560d17",
   "metadata": {},
   "outputs": [],
   "source": [
    "X1 = np.random.randn(N, N)\n",
    "X2 = np.random.randn(N, N)\n",
    "X = np.kron(X1, X2)"
   ]
  },
  {
   "cell_type": "code",
   "execution_count": 4,
   "id": "e7cf067e",
   "metadata": {
    "scrolled": true
   },
   "outputs": [
    {
     "data": {
      "text/plain": [
       "tensor([[ 3.1479, -0.6629,  2.9218, -1.2021],\n",
       "        [-0.6629,  4.3424, -1.2890,  0.3573],\n",
       "        [ 2.9218, -1.2890,  4.2736,  0.7619],\n",
       "        [-1.2021,  0.3573,  0.7619,  2.9306]], dtype=torch.float64,\n",
       "       grad_fn=<ViewBackward0>)"
      ]
     },
     "execution_count": 4,
     "metadata": {},
     "output_type": "execute_result"
    }
   ],
   "source": [
    "loss_l1._transform_einsum([model.matrix(), model2.matrix()])"
   ]
  },
  {
   "cell_type": "code",
   "execution_count": 57,
   "id": "efc65468",
   "metadata": {},
   "outputs": [],
   "source": [
    "M = view_tensor(loss_l1.X, loss_l1.act.tolist()*2)"
   ]
  },
  {
   "cell_type": "code",
   "execution_count": 59,
   "id": "0d774026",
   "metadata": {},
   "outputs": [
    {
     "data": {
      "text/plain": [
       "torch.Size([4, 4, 4, 4])"
      ]
     },
     "execution_count": 59,
     "metadata": {},
     "output_type": "execute_result"
    }
   ],
   "source": [
    "M.shape"
   ]
  },
  {
   "cell_type": "code",
   "execution_count": 62,
   "id": "e84d9ff9",
   "metadata": {},
   "outputs": [],
   "source": [
    "M = loss_l1.X.reshape(loss_l1.act.tolist()*2)\n",
    "M = torch.zeros_like(M)"
   ]
  },
  {
   "cell_type": "code",
   "execution_count": 78,
   "id": "34f2d9fb",
   "metadata": {},
   "outputs": [],
   "source": [
    "I_not = torch.logical_not(torch.eye(4))"
   ]
  },
  {
   "cell_type": "code",
   "execution_count": 94,
   "id": "f903d75b",
   "metadata": {},
   "outputs": [],
   "source": [
    "act = loss_l1.act.tolist()\n",
    "I_not1 = torch.logical_not(torch.eye(act[0]))\n",
    "I_not2 = torch.logical_not(torch.eye(act[1]))\n",
    "M1 = torch.kron(I_not1, torch.eye(act[1]))\n",
    "M2 = torch.kron(torch.eye(act[0]), I_not2)\n",
    "M3 = torch.kron(I_not1, I_not2) + torch.eye(np.prod(act))"
   ]
  },
  {
   "cell_type": "code",
   "execution_count": 95,
   "id": "0837522d",
   "metadata": {},
   "outputs": [
    {
     "data": {
      "text/plain": [
       "tensor([[1., 1., 1., 1., 1., 1., 1., 1., 1., 1., 1., 1., 1., 1., 1., 1.],\n",
       "        [1., 1., 1., 1., 1., 1., 1., 1., 1., 1., 1., 1., 1., 1., 1., 1.],\n",
       "        [1., 1., 1., 1., 1., 1., 1., 1., 1., 1., 1., 1., 1., 1., 1., 1.],\n",
       "        [1., 1., 1., 1., 1., 1., 1., 1., 1., 1., 1., 1., 1., 1., 1., 1.],\n",
       "        [1., 1., 1., 1., 1., 1., 1., 1., 1., 1., 1., 1., 1., 1., 1., 1.],\n",
       "        [1., 1., 1., 1., 1., 1., 1., 1., 1., 1., 1., 1., 1., 1., 1., 1.],\n",
       "        [1., 1., 1., 1., 1., 1., 1., 1., 1., 1., 1., 1., 1., 1., 1., 1.],\n",
       "        [1., 1., 1., 1., 1., 1., 1., 1., 1., 1., 1., 1., 1., 1., 1., 1.],\n",
       "        [1., 1., 1., 1., 1., 1., 1., 1., 1., 1., 1., 1., 1., 1., 1., 1.],\n",
       "        [1., 1., 1., 1., 1., 1., 1., 1., 1., 1., 1., 1., 1., 1., 1., 1.],\n",
       "        [1., 1., 1., 1., 1., 1., 1., 1., 1., 1., 1., 1., 1., 1., 1., 1.],\n",
       "        [1., 1., 1., 1., 1., 1., 1., 1., 1., 1., 1., 1., 1., 1., 1., 1.],\n",
       "        [1., 1., 1., 1., 1., 1., 1., 1., 1., 1., 1., 1., 1., 1., 1., 1.],\n",
       "        [1., 1., 1., 1., 1., 1., 1., 1., 1., 1., 1., 1., 1., 1., 1., 1.],\n",
       "        [1., 1., 1., 1., 1., 1., 1., 1., 1., 1., 1., 1., 1., 1., 1., 1.],\n",
       "        [1., 1., 1., 1., 1., 1., 1., 1., 1., 1., 1., 1., 1., 1., 1., 1.]])"
      ]
     },
     "execution_count": 95,
     "metadata": {},
     "output_type": "execute_result"
    }
   ],
   "source": [
    "M2 + M1 + M3"
   ]
  },
  {
   "cell_type": "code",
   "execution_count": 96,
   "id": "f111b5cd",
   "metadata": {},
   "outputs": [
    {
     "data": {
      "text/plain": [
       "array([[-0.25, -0.  , -0.  , -0.  ],\n",
       "       [-0.  ,  0.25, -0.5 , -0.  ],\n",
       "       [-0.  , -0.5 ,  0.25, -0.  ],\n",
       "       [-0.  , -0.  , -0.  , -0.25]])"
      ]
     },
     "execution_count": 96,
     "metadata": {},
     "output_type": "execute_result"
    }
   ],
   "source": [
    "np.load(\"/home/user/project/python/array/majumdar_ghosh/original/0.npy\")"
   ]
  }
 ],
 "metadata": {
  "kernelspec": {
   "display_name": "Python 3 (ipykernel)",
   "language": "python",
   "name": "python3"
  },
  "language_info": {
   "codemirror_mode": {
    "name": "ipython",
    "version": 3
   },
   "file_extension": ".py",
   "mimetype": "text/x-python",
   "name": "python",
   "nbconvert_exporter": "python",
   "pygments_lexer": "ipython3",
   "version": "3.9.13"
  }
 },
 "nbformat": 4,
 "nbformat_minor": 5
}
