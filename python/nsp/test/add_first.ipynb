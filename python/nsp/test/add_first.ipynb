{
 "cells": [
  {
   "cell_type": "code",
   "execution_count": 1,
   "id": "11ce1718",
   "metadata": {},
   "outputs": [],
   "source": [
    "import numpy as np\n",
    "from header import *\n",
    "from nsp.utils.base_conv import *"
   ]
  },
  {
   "cell_type": "code",
   "execution_count": 2,
   "id": "e5d2b443",
   "metadata": {},
   "outputs": [],
   "source": [
    "N = 4\n",
    "X = np.random.randn(N**2, N**2)\n",
    "X = X.T + X\n",
    "# mask = np.abs(X)>=(np.max(X)/(N))\n",
    "# X[mask] = 0\n",
    "loss_l1 = nsp.loss.MES(torch.from_numpy(X), [N, N])\n",
    "t = 0.001\n",
    "ret_min_grad = 1e10\n",
    "model = nsp.model.UnitaryRiemanGenerator(N, dtype=torch.float64)\n"
   ]
  },
  {
   "cell_type": "code",
   "execution_count": 3,
   "id": "7e560d17",
   "metadata": {},
   "outputs": [],
   "source": [
    "X1 = np.random.randn(N, N)\n",
    "X2 = np.random.randn(N, N)\n",
    "X3 = np.random.randn(N, N)\n",
    "\n",
    "Y = np.kron(X1, X2)\n",
    "Y = np.kron(Y, X3)"
   ]
  },
  {
   "cell_type": "code",
   "execution_count": 4,
   "id": "c5467fa2",
   "metadata": {},
   "outputs": [
    {
     "data": {
      "text/plain": [
       "(0.0071850677481504165, 0.0071850677481504165, 0.0071850677481504165)"
      ]
     },
     "execution_count": 4,
     "metadata": {},
     "output_type": "execute_result"
    }
   ],
   "source": [
    "Y.reshape(N,N,N,N,N,N, order='F').reshape(N**3, N**3)[N**2 + N, 0], Y[N+1, 0], X1[0,0] * X2[1,0] * X3[1,0]"
   ]
  },
  {
   "cell_type": "code",
   "execution_count": 5,
   "id": "e7cf067e",
   "metadata": {
    "scrolled": true
   },
   "outputs": [],
   "source": [
    "# loss_l1._transform_einsum([model.matrix(), model2.matrix()])"
   ]
  },
  {
   "cell_type": "code",
   "execution_count": 6,
   "id": "e84d9ff9",
   "metadata": {},
   "outputs": [],
   "source": [
    "M = loss_l1.X.reshape(loss_l1.act.tolist()*2)\n",
    "M = torch.zeros_like(M)"
   ]
  },
  {
   "cell_type": "code",
   "execution_count": 7,
   "id": "34f2d9fb",
   "metadata": {},
   "outputs": [],
   "source": [
    "I_not = torch.logical_not(torch.eye(4))"
   ]
  },
  {
   "cell_type": "code",
   "execution_count": 8,
   "id": "f903d75b",
   "metadata": {},
   "outputs": [],
   "source": [
    "act = loss_l1.act.tolist()\n",
    "I_not1 = torch.logical_not(torch.eye(act[0]))\n",
    "I_not2 = torch.logical_not(torch.eye(act[1]))\n",
    "ML = torch.kron(I_not1, torch.eye(act[1]))\n",
    "MR = torch.kron(torch.eye(act[0]), I_not2)\n",
    "MI = torch.kron(I_not1, I_not2) + torch.eye(np.prod(act))"
   ]
  },
  {
   "cell_type": "code",
   "execution_count": 9,
   "id": "0837522d",
   "metadata": {},
   "outputs": [],
   "source": [
    "X = torch.from_numpy(X)\n",
    "XI = X * MI\n",
    "XL = X * ML\n",
    "XR = X * MR\n"
   ]
  },
  {
   "cell_type": "code",
   "execution_count": 10,
   "id": "750203ad",
   "metadata": {},
   "outputs": [],
   "source": [
    "X_3site = (torch.kron(torch.eye(N),XL) + torch.kron(XR,torch.eye(N)))\n",
    "X_2 = XI"
   ]
  },
  {
   "cell_type": "code",
   "execution_count": 19,
   "id": "cb2229e3",
   "metadata": {},
   "outputs": [],
   "source": [
    "L = 4\n",
    "bonds = [[i, (i+1)%L] for i in range(L)]\n",
    "LH = sum_ham(X, bonds, L, 4)\n",
    "LH_abs = sum_ham(stoquastic(X), bonds, L, 4)"
   ]
  },
  {
   "cell_type": "code",
   "execution_count": 20,
   "id": "fae76442",
   "metadata": {
    "scrolled": true
   },
   "outputs": [
    {
     "data": {
      "text/plain": [
       "(66.69024444031078, 27.035349234148846)"
      ]
     },
     "execution_count": 20,
     "metadata": {},
     "output_type": "execute_result"
    }
   ],
   "source": [
    "np.linalg.eigvalsh(LH_abs)[-1], np.linalg.eigvalsh(LH)[-1]"
   ]
  },
  {
   "cell_type": "markdown",
   "id": "9a26c1f2",
   "metadata": {},
   "source": [
    "### added first then stoquastic"
   ]
  },
  {
   "cell_type": "code",
   "execution_count": 14,
   "id": "b65fc121",
   "metadata": {},
   "outputs": [],
   "source": [
    "L = 4\n",
    "bonds = [[i, (i+1)%L] for i in range(L)]\n",
    "LH = sum_ham(X_2, bonds, L, 4)\n",
    "bonds = [[i, (i+1)%L, (i+2)%L] for i in range(L)]\n",
    "LH += sum_ham(X_3site,bonds, L, 4)"
   ]
  },
  {
   "cell_type": "code",
   "execution_count": 18,
   "id": "fd12d941",
   "metadata": {},
   "outputs": [
    {
     "data": {
      "text/plain": [
       "(60.90619596800536, 27.035349234148846)"
      ]
     },
     "execution_count": 18,
     "metadata": {},
     "output_type": "execute_result"
    }
   ],
   "source": [
    "np.linalg.eigvalsh(LH_abs)[-1], np.linalg.eigvalsh(LH)[-1]"
   ]
  },
  {
   "cell_type": "code",
   "execution_count": 16,
   "id": "e3079f92",
   "metadata": {},
   "outputs": [],
   "source": [
    "L = 4\n",
    "bonds = [[i, (i+1)%L] for i in range(L)]\n",
    "LH_abs = sum_ham(stoquastic(X_2), bonds, L, 4)\n",
    "bonds = [[i, (i+1)%L, (i+2)%L] for i in range(L)]\n",
    "LH_abs += sum_ham(stoquastic(X_3site),bonds, L, 4)"
   ]
  },
  {
   "cell_type": "code",
   "execution_count": 17,
   "id": "b9905814",
   "metadata": {},
   "outputs": [
    {
     "data": {
      "text/plain": [
       "(60.90619596800536, 27.035349234148846)"
      ]
     },
     "execution_count": 17,
     "metadata": {},
     "output_type": "execute_result"
    }
   ],
   "source": [
    "np.linalg.eigvalsh(LH_abs)[-1], np.linalg.eigvalsh(LH)[-1]"
   ]
  },
  {
   "cell_type": "markdown",
   "id": "7f8a595e",
   "metadata": {},
   "source": [
    "## apply on MG"
   ]
  },
  {
   "cell_type": "code",
   "execution_count": 125,
   "id": "241c173c",
   "metadata": {},
   "outputs": [],
   "source": [
    "import numpy as np\n",
    "import argparse\n",
    "import sys\n",
    "sys.path.append('../nsp')\n",
    "from nsp.utils.func import *\n",
    "\n",
    "\n",
    "Sz = np.zeros([2,2])\n",
    "Sz[0,0] = 1/2\n",
    "Sz[1,1] = -1/2\n",
    "Sx = np.zeros([2,2])\n",
    "Sx[1,0] = 1/2\n",
    "Sx[0,1] = 1/2\n",
    "Sy = np.zeros([2,2], dtype=np.complex64)\n",
    "Sy[1,0] = 1j/2\n",
    "Sy[0,1] = -1j/2\n",
    "\n",
    "\n",
    "SzSz = np.kron(Sz,Sz).real.astype(np.float64)\n",
    "SxSx = np.kron(Sx,Sx).real.astype(np.float64)\n",
    "SySy = np.kron(Sy,Sy).real.astype(np.float64)\n",
    "\n",
    "lh = SzSz + SxSx + SySy"
   ]
  },
  {
   "cell_type": "code",
   "execution_count": 126,
   "id": "7984e08f",
   "metadata": {},
   "outputs": [
    {
     "name": "stdout",
     "output_type": "stream",
     "text": [
      "1D chain lattice\n"
     ]
    }
   ],
   "source": [
    "print(\"1D chain lattice\")\n",
    "assert L%3 == 0, \"L should be 3*K \"\n",
    "bonds = [[0,1], [0, 2], [1, 2]]\n",
    "lh2 = sum_ham(lh/2, bonds, 3, 2)\n",
    "LH = sum_ham(lh2/2, [[0,1,2], [3, 4, 5]], 6, 2) + sum_ham(lh2, [[1, 2, 3], [2, 3, 4]], 6, 2)\n",
    "LH = -LH"
   ]
  },
  {
   "cell_type": "markdown",
   "id": "cac5060c",
   "metadata": {},
   "source": [
    "### original"
   ]
  },
  {
   "cell_type": "code",
   "execution_count": 145,
   "id": "ace7cf01",
   "metadata": {},
   "outputs": [
    {
     "name": "stdout",
     "output_type": "stream",
     "text": [
      "max_eig :  4.499999999999985\n"
     ]
    }
   ],
   "source": [
    "L = 12\n",
    "bonds = [[i, (i+1)%int(L/3)] for i in range(int(L/3))]\n",
    "H = sum_ham(LH, bonds, int(L/3), 8)\n",
    "print(\"max_eig : \", np.linalg.eigvalsh(H)[-1])"
   ]
  },
  {
   "cell_type": "code",
   "execution_count": 146,
   "id": "4500f399",
   "metadata": {},
   "outputs": [
    {
     "name": "stdout",
     "output_type": "stream",
     "text": [
      "max_eig :  6.411629916792666\n"
     ]
    }
   ],
   "source": [
    "bonds = [[i, (i+1)%int(L/3)] for i in range(int(L/3))]\n",
    "H_abs = sum_ham(stoquastic(LH), bonds, int(L/3), 8)\n",
    "print(\"max_eig : \", np.linalg.eigvalsh(H_abs)[-1])"
   ]
  },
  {
   "cell_type": "markdown",
   "id": "aa83f1d0",
   "metadata": {},
   "source": [
    "## optim"
   ]
  },
  {
   "cell_type": "code",
   "execution_count": 129,
   "id": "599b5b1b",
   "metadata": {},
   "outputs": [
    {
     "name": "stdout",
     "output_type": "stream",
     "text": [
      "target loss      : 2.2500000000\n",
      "initial loss     : 5.2466106372\n",
      "dtype changes from torch.float64 to torch.float32\n",
      "loss upper bound : 2.8182671070\n",
      "\n",
      "================================================== \n",
      "\n"
     ]
    },
    {
     "data": {
      "application/vnd.jupyter.widget-view+json": {
       "model_id": "d791d13771d748798807e9daf3452fc6",
       "version_major": 2,
       "version_minor": 0
      },
      "text/plain": [
       "  0%|          | 0/10000 [00:00<?, ?it/s]"
      ]
     },
     "metadata": {},
     "output_type": "display_data"
    },
    {
     "name": "stdout",
     "output_type": "stream",
     "text": [
      "dtype changes from torch.float32 to torch.float64\n",
      "No local minimum found\n",
      "7.563405611135426e-13 1.0887419921346009e-14 2.740214187062595 2.7402141870625947\n",
      "No local minimum found\n",
      "3.203911359522078e-12 2.881776308640838e-13 2.740212774506367 2.7402127745063645\n",
      "No local minimum found\n",
      "3.4966026685994115e-12 1.8899414688348762e-12 2.740212774506367 2.740212774506363\n",
      "stack in local minimum --> break loop\n",
      "\n",
      "best_fun : 2.7402127745063694\n",
      "\n"
     ]
    }
   ],
   "source": [
    "X = LH # for N = 8\n",
    "N = 8\n",
    "loss_mes = nsp.loss.MES(X, [N, N])\n",
    "best_fun = 1E10\n",
    "for _ in range(1):\n",
    "    model = nsp.model.UnitaryRiemanGenerator(N, dtype=torch.float64)\n",
    "    solver = UnitaryTransTs(RiemanUnitaryCG, model, loss_mes, lr = 0.005, momentum=0.1)\n",
    "    ret = solver.run(10000, False)\n",
    "    if ret.fun < best_fun:\n",
    "        print(f\"\\nbest_fun : {ret.fun}\\n\")\n",
    "        best_fun = ret.fun\n",
    "        best_model = model\n",
    "\n",
    "LH_o = loss_mes._transform([best_model.matrix()]*loss_mes._n_unitaries, original = True).detach().numpy()"
   ]
  },
  {
   "cell_type": "code",
   "execution_count": 147,
   "id": "862fb8f9",
   "metadata": {},
   "outputs": [
    {
     "name": "stdout",
     "output_type": "stream",
     "text": [
      "max eig 4.499999999998592\n"
     ]
    }
   ],
   "source": [
    "bonds = [[i, (i+1)%int(L/3)] for i in range(int(L/3))]\n",
    "H_o = sum_ham(LH_o, bonds, int(L/3), 8)\n",
    "print(\"max eig\",np.linalg.eigvalsh(H_o)[-1])"
   ]
  },
  {
   "cell_type": "code",
   "execution_count": 148,
   "id": "9502296c",
   "metadata": {},
   "outputs": [
    {
     "name": "stdout",
     "output_type": "stream",
     "text": [
      "max eig 6.05378867487443\n"
     ]
    }
   ],
   "source": [
    "bonds = [[i, (i+1)%int(L/3)] for i in range(int(L/3))]\n",
    "H_o_abs = sum_ham(stoquastic(LH_o), bonds, int(L/3), 8)\n",
    "print(\"max eig\",np.linalg.eigvalsh(H_o_abs)[-1])"
   ]
  },
  {
   "cell_type": "markdown",
   "id": "c0fdb4c9",
   "metadata": {},
   "source": [
    "### add_first"
   ]
  },
  {
   "cell_type": "code",
   "execution_count": 149,
   "id": "a8cc9cdc",
   "metadata": {},
   "outputs": [],
   "source": [
    "act = loss_mes.act.tolist()\n",
    "I_not1 = torch.logical_not(torch.eye(act[0]))\n",
    "I_not2 = torch.logical_not(torch.eye(act[1]))\n",
    "ML = torch.kron(I_not1, torch.eye(act[1]))\n",
    "MR = torch.kron(torch.eye(act[0]), I_not2)\n",
    "MI = torch.kron(I_not1, I_not2) + torch.eye(np.prod(act))"
   ]
  },
  {
   "cell_type": "code",
   "execution_count": 150,
   "id": "e10f616b",
   "metadata": {},
   "outputs": [],
   "source": [
    "LH_3_site = (torch.kron(torch.eye(N),ML * LH_o) + torch.kron(MR * LH_o,torch.eye(N)))\n",
    "LH_2_site = MI * LH_o"
   ]
  },
  {
   "cell_type": "code",
   "execution_count": 151,
   "id": "d5c88538",
   "metadata": {},
   "outputs": [],
   "source": [
    "bonds = [[i, (i+1)%int(L/3)] for i in range(int(L/3))]\n",
    "H_af = sum_ham(LH_2_site, bonds, int(L/3), 8)\n",
    "bonds = [[i, (i+1)%int(L/3), (i+2)%int(L/3)] for i in range(int(L/3))]\n",
    "H_af += sum_ham(LH_3_site, bonds, int(L/3), 8)"
   ]
  },
  {
   "cell_type": "code",
   "execution_count": 152,
   "id": "574373ab",
   "metadata": {},
   "outputs": [
    {
     "name": "stdout",
     "output_type": "stream",
     "text": [
      "max eig of add first 4.499999999998592\n"
     ]
    }
   ],
   "source": [
    "print(\"max eig of add first\",np.linalg.eigvalsh(H_af)[-1])"
   ]
  },
  {
   "cell_type": "code",
   "execution_count": 153,
   "id": "02e7293e",
   "metadata": {},
   "outputs": [],
   "source": [
    "bonds = [[i, (i+1)%int(L/3)] for i in range(int(L/3))]\n",
    "H_af_abs = sum_ham(stoquastic(LH_2_site), bonds, int(L/3), 8)\n",
    "bonds = [[i, (i+1)%int(L/3), (i+2)%int(L/3)] for i in range(int(L/3))]\n",
    "H_af_abs += sum_ham(stoquastic(LH_3_site), bonds, int(L/3), 8)"
   ]
  },
  {
   "cell_type": "code",
   "execution_count": 154,
   "id": "bcf53d04",
   "metadata": {},
   "outputs": [
    {
     "name": "stdout",
     "output_type": "stream",
     "text": [
      "max eig of add first (abs) 5.90262796484217\n"
     ]
    }
   ],
   "source": [
    "print(\"max eig of add first (abs)\",np.linalg.eigvalsh(H_af_abs)[-1])"
   ]
  },
  {
   "cell_type": "code",
   "execution_count": null,
   "id": "eb21cbc1",
   "metadata": {},
   "outputs": [],
   "source": []
  }
 ],
 "metadata": {
  "kernelspec": {
   "display_name": "Python 3 (ipykernel)",
   "language": "python",
   "name": "python3"
  },
  "language_info": {
   "codemirror_mode": {
    "name": "ipython",
    "version": 3
   },
   "file_extension": ".py",
   "mimetype": "text/x-python",
   "name": "python",
   "nbconvert_exporter": "python",
   "pygments_lexer": "ipython3",
   "version": "3.9.13"
  }
 },
 "nbformat": 4,
 "nbformat_minor": 5
}
