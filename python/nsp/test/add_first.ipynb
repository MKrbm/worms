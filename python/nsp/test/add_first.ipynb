{
 "cells": [
  {
   "cell_type": "code",
   "execution_count": 5,
   "id": "11ce1718",
   "metadata": {},
   "outputs": [],
   "source": [
    "import numpy as np\n",
    "from header import *\n",
    "from nsp.utils.base_conv import *"
   ]
  },
  {
   "cell_type": "markdown",
   "id": "0f2013e6",
   "metadata": {},
   "source": [
    "### include addfirsting in optimization step"
   ]
  },
  {
   "cell_type": "code",
   "execution_count": 3,
   "id": "e5d2b443",
   "metadata": {
    "scrolled": true
   },
   "outputs": [
    {
     "name": "stdout",
     "output_type": "stream",
     "text": [
      "Turn on adding first settings. Note that available only for 1D chain\n",
      "target loss      : 48.9201656388\n",
      "initial loss     : 110.7061938792\n",
      "loss upper bound : 110.6870435339\n",
      "\n",
      "================================================== \n",
      "\n"
     ]
    },
    {
     "data": {
      "application/vnd.jupyter.widget-view+json": {
       "model_id": "62bb431617dc45c3955bae44a06bdcb3",
       "version_major": 2,
       "version_minor": 0
      },
      "text/plain": [
       "  0%|          | 0/10000 [00:00<?, ?it/s]"
      ]
     },
     "metadata": {},
     "output_type": "display_data"
    },
    {
     "name": "stderr",
     "output_type": "stream",
     "text": [
      "/home/project/python/nsp/test/../nsp/optim/rieman_unitary_optim.py:229: UserWarning: An output with one or more elements was resized since it had shape [1, 9, 9], which does not match the required output shape [1, 1, 9, 9]. This behavior is deprecated, and in a future PyTorch release outputs will not be resized unless they have zero elements. You can explicitly reuse an out tensor t by resizing it, inplace, to zero elements with t.resize_(0). (Triggered internally at  ../aten/src/ATen/native/Resize.cpp:17.)\n",
      "  return loss(torch.matrix_exp(-t*H)@U).item()\n",
      "/home/project/python/nsp/test/../nsp/optim/rieman_unitary_optim.py:294: UserWarning: An output with one or more elements was resized since it had shape [1, 9, 9], which does not match the required output shape [1, 1, 9, 9]. This behavior is deprecated, and in a future PyTorch release outputs will not be resized unless they have zero elements. You can explicitly reuse an out tensor t by resizing it, inplace, to zero elements with t.resize_(0). (Triggered internally at  ../aten/src/ATen/native/Resize.cpp:17.)\n",
      "  param.data = (torch.matrix_exp(inv_step_dir * -lr) @ U).view(-1)\n"
     ]
    },
    {
     "name": "stdout",
     "output_type": "stream",
     "text": [
      "stack in local minimum --> break loop\n"
     ]
    }
   ],
   "source": [
    "N = 9\n",
    "X = np.random.randn(N**2, N**2)\n",
    "X = X.T + X\n",
    "# mask = np.abs(X)>=(np.max(X)/(N))\n",
    "# X[mask] = 0\n",
    "loss_l1 = nsp.loss.MES(torch.from_numpy(X), [N, N])\n",
    "t = 0.001\n",
    "ret_min_grad = 1e10\n",
    "loss_mes = nsp.loss.MES(X, [N, N])\n",
    "best_fun = 1E10\n",
    "model = nsp.model.UnitaryRiemanGenerator(N, dtype=torch.float64)\n",
    "solver = UnitaryTransTs(RiemanUnitaryCG, model, loss_mes, lr = 0.005, momentum=0.1, af = True)\n",
    "ret = solver.run(10000, False)"
   ]
  },
  {
   "cell_type": "code",
   "execution_count": null,
   "id": "f2381e0e",
   "metadata": {},
   "outputs": [],
   "source": []
  },
  {
   "cell_type": "code",
   "execution_count": 19,
   "id": "cb2229e3",
   "metadata": {},
   "outputs": [],
   "source": [
    "L = 4\n",
    "bonds = [[i, (i+1)%L] for i in range(L)]\n",
    "LH = sum_ham(X, bonds, L, 4)\n",
    "LH_abs = sum_ham(stoquastic(X), bonds, L, 4)"
   ]
  },
  {
   "cell_type": "code",
   "execution_count": 20,
   "id": "fae76442",
   "metadata": {
    "scrolled": true
   },
   "outputs": [
    {
     "data": {
      "text/plain": [
       "(66.69024444031078, 27.035349234148846)"
      ]
     },
     "execution_count": 20,
     "metadata": {},
     "output_type": "execute_result"
    }
   ],
   "source": [
    "np.linalg.eigvalsh(LH_abs)[-1], np.linalg.eigvalsh(LH)[-1]"
   ]
  },
  {
   "cell_type": "markdown",
   "id": "9a26c1f2",
   "metadata": {},
   "source": [
    "### added first then stoquastic"
   ]
  },
  {
   "cell_type": "code",
   "execution_count": 14,
   "id": "b65fc121",
   "metadata": {},
   "outputs": [],
   "source": [
    "L = 4\n",
    "bonds = [[i, (i+1)%L] for i in range(L)]\n",
    "LH = sum_ham(X_2, bonds, L, 4)\n",
    "bonds = [[i, (i+1)%L, (i+2)%L] for i in range(L)]\n",
    "LH += sum_ham(X_3site,bonds, L, 4)"
   ]
  },
  {
   "cell_type": "code",
   "execution_count": 18,
   "id": "fd12d941",
   "metadata": {},
   "outputs": [
    {
     "data": {
      "text/plain": [
       "(60.90619596800536, 27.035349234148846)"
      ]
     },
     "execution_count": 18,
     "metadata": {},
     "output_type": "execute_result"
    }
   ],
   "source": [
    "np.linalg.eigvalsh(LH_abs)[-1], np.linalg.eigvalsh(LH)[-1]"
   ]
  },
  {
   "cell_type": "code",
   "execution_count": 16,
   "id": "e3079f92",
   "metadata": {},
   "outputs": [],
   "source": [
    "L = 4\n",
    "bonds = [[i, (i+1)%L] for i in range(L)]\n",
    "LH_abs = sum_ham(stoquastic(X_2), bonds, L, 4)\n",
    "bonds = [[i, (i+1)%L, (i+2)%L] for i in range(L)]\n",
    "LH_abs += sum_ham(stoquastic(X_3site),bonds, L, 4)"
   ]
  },
  {
   "cell_type": "code",
   "execution_count": 17,
   "id": "b9905814",
   "metadata": {},
   "outputs": [
    {
     "data": {
      "text/plain": [
       "(60.90619596800536, 27.035349234148846)"
      ]
     },
     "execution_count": 17,
     "metadata": {},
     "output_type": "execute_result"
    }
   ],
   "source": [
    "np.linalg.eigvalsh(LH_abs)[-1], np.linalg.eigvalsh(LH)[-1]"
   ]
  },
  {
   "cell_type": "markdown",
   "id": "7f8a595e",
   "metadata": {},
   "source": [
    "## apply on MG"
   ]
  },
  {
   "cell_type": "code",
   "execution_count": 6,
   "id": "241c173c",
   "metadata": {},
   "outputs": [],
   "source": [
    "import numpy as np\n",
    "import argparse\n",
    "import sys\n",
    "sys.path.append('../nsp')\n",
    "from nsp.utils.func import *\n",
    "\n",
    "\n",
    "Sz = np.zeros([2,2])\n",
    "Sz[0,0] = 1/2\n",
    "Sz[1,1] = -1/2\n",
    "Sx = np.zeros([2,2])\n",
    "Sx[1,0] = 1/2\n",
    "Sx[0,1] = 1/2\n",
    "Sy = np.zeros([2,2], dtype=np.complex64)\n",
    "Sy[1,0] = 1j/2\n",
    "Sy[0,1] = -1j/2\n",
    "\n",
    "\n",
    "SzSz = np.kron(Sz,Sz).real.astype(np.float64)\n",
    "SxSx = np.kron(Sx,Sx).real.astype(np.float64)\n",
    "SySy = np.kron(Sy,Sy).real.astype(np.float64)\n",
    "\n",
    "lh = SzSz + SxSx + SySy"
   ]
  },
  {
   "cell_type": "code",
   "execution_count": 219,
   "id": "7984e08f",
   "metadata": {},
   "outputs": [
    {
     "name": "stdout",
     "output_type": "stream",
     "text": [
      "1D chain lattice\n"
     ]
    }
   ],
   "source": [
    "print(\"1D chain lattice\")\n",
    "bonds = [[0,1], [0, 2], [1, 2]]\n",
    "lh2 = sum_ham(lh/2, bonds, 3, 2)\n",
    "LH = sum_ham(lh2/2, [[0,1,2], [3, 4, 5]], 6, 2) + sum_ham(lh2, [[1, 2, 3], [2, 3, 4]], 6, 2)\n",
    "# LH = -LH"
   ]
  },
  {
   "cell_type": "markdown",
   "id": "cac5060c",
   "metadata": {},
   "source": [
    "### original"
   ]
  },
  {
   "cell_type": "code",
   "execution_count": 220,
   "id": "ace7cf01",
   "metadata": {},
   "outputs": [],
   "source": [
    "L = 12\n",
    "bonds = [[i, (i+1)%int(L/3)] for i in range(int(L/3))]\n",
    "H = sum_ham(LH, bonds, int(L/3), 8)\n",
    "# print(\"max_eig : \", np.linalg.eigvalsh(H)[-1])\n",
    "E_origin = np.linalg.eigvalsh(H)"
   ]
  },
  {
   "cell_type": "code",
   "execution_count": 146,
   "id": "4500f399",
   "metadata": {},
   "outputs": [
    {
     "name": "stdout",
     "output_type": "stream",
     "text": [
      "max_eig :  6.411629916792666\n"
     ]
    }
   ],
   "source": [
    "bonds = [[i, (i+1)%int(L/3)] for i in range(int(L/3))]\n",
    "H_abs = sum_ham(stoquastic(LH), bonds, int(L/3), 8)\n",
    "print(\"max_eig : \", np.linalg.eigvalsh(H_abs)[-1])"
   ]
  },
  {
   "cell_type": "markdown",
   "id": "4561a521",
   "metadata": {},
   "source": [
    "#### adding first"
   ]
  },
  {
   "cell_type": "code",
   "execution_count": 5,
   "id": "da4df70a",
   "metadata": {},
   "outputs": [
    {
     "ename": "NameError",
     "evalue": "name 'L' is not defined",
     "output_type": "error",
     "traceback": [
      "\u001b[0;31m---------------------------------------------------------------------------\u001b[0m",
      "\u001b[0;31mNameError\u001b[0m                                 Traceback (most recent call last)",
      "Input \u001b[0;32mIn [5]\u001b[0m, in \u001b[0;36m<cell line: 12>\u001b[0;34m()\u001b[0m\n\u001b[1;32m      9\u001b[0m LH_3_site \u001b[38;5;241m=\u001b[39m (torch\u001b[38;5;241m.\u001b[39mkron(torch\u001b[38;5;241m.\u001b[39meye(N),ML \u001b[38;5;241m*\u001b[39m LH) \u001b[38;5;241m+\u001b[39m torch\u001b[38;5;241m.\u001b[39mkron(MR \u001b[38;5;241m*\u001b[39m LH,torch\u001b[38;5;241m.\u001b[39meye(N)))\n\u001b[1;32m     10\u001b[0m LH_2_site \u001b[38;5;241m=\u001b[39m MI \u001b[38;5;241m*\u001b[39m LH\n\u001b[0;32m---> 12\u001b[0m bonds \u001b[38;5;241m=\u001b[39m [[i, (i\u001b[38;5;241m+\u001b[39m\u001b[38;5;241m1\u001b[39m)\u001b[38;5;241m%\u001b[39m\u001b[38;5;28mint\u001b[39m(L\u001b[38;5;241m/\u001b[39m\u001b[38;5;241m3\u001b[39m)] \u001b[38;5;28;01mfor\u001b[39;00m i \u001b[38;5;129;01min\u001b[39;00m \u001b[38;5;28mrange\u001b[39m(\u001b[38;5;28mint\u001b[39m(\u001b[43mL\u001b[49m\u001b[38;5;241m/\u001b[39m\u001b[38;5;241m3\u001b[39m))]\n\u001b[1;32m     13\u001b[0m H_af \u001b[38;5;241m=\u001b[39m sum_ham(LH_2_site, bonds, \u001b[38;5;28mint\u001b[39m(L\u001b[38;5;241m/\u001b[39m\u001b[38;5;241m3\u001b[39m), \u001b[38;5;241m8\u001b[39m)\n\u001b[1;32m     14\u001b[0m bonds \u001b[38;5;241m=\u001b[39m [[i, (i\u001b[38;5;241m+\u001b[39m\u001b[38;5;241m1\u001b[39m)\u001b[38;5;241m%\u001b[39m\u001b[38;5;28mint\u001b[39m(L\u001b[38;5;241m/\u001b[39m\u001b[38;5;241m3\u001b[39m), (i\u001b[38;5;241m+\u001b[39m\u001b[38;5;241m2\u001b[39m)\u001b[38;5;241m%\u001b[39m\u001b[38;5;28mint\u001b[39m(L\u001b[38;5;241m/\u001b[39m\u001b[38;5;241m3\u001b[39m)] \u001b[38;5;28;01mfor\u001b[39;00m i \u001b[38;5;129;01min\u001b[39;00m \u001b[38;5;28mrange\u001b[39m(\u001b[38;5;28mint\u001b[39m(L\u001b[38;5;241m/\u001b[39m\u001b[38;5;241m3\u001b[39m))]\n",
      "\u001b[0;31mNameError\u001b[0m: name 'L' is not defined"
     ]
    }
   ],
   "source": [
    "N = 8\n",
    "act = [N, N]\n",
    "I_not1 = torch.logical_not(torch.eye(act[0]))\n",
    "I_not2 = torch.logical_not(torch.eye(act[1]))\n",
    "ML = torch.kron(I_not1, torch.eye(act[1]))\n",
    "MR = torch.kron(torch.eye(act[0]), I_not2)\n",
    "MI = torch.kron(I_not1, I_not2) + torch.eye(np.prod(act))\n",
    "\n",
    "LH_3_site = (torch.kron(torch.eye(N),ML * LH) + torch.kron(MR * LH,torch.eye(N)))\n",
    "LH_2_site = MI * LH\n",
    "\n",
    "bonds = [[i, (i+1)%int(L/3)] for i in range(int(L/3))]\n",
    "H_af = sum_ham(LH_2_site, bonds, int(L/3), 8)\n",
    "bonds = [[i, (i+1)%int(L/3), (i+2)%int(L/3)] for i in range(int(L/3))]\n",
    "H_af += sum_ham(LH_3_site, bonds, int(L/3), 8)\n",
    "\n",
    "print(\"max eig of add first\",np.linalg.eigvalsh(H_af)[-1])\n",
    "\n",
    "bonds = [[i, (i+1)%int(L/3)] for i in range(int(L/3))]\n",
    "H_af_abs = sum_ham(stoquastic(LH_2_site), bonds, int(L/3), 8)\n",
    "bonds = [[i, (i+1)%int(L/3), (i+2)%int(L/3)] for i in range(int(L/3))]\n",
    "H_af_abs += sum_ham(stoquastic(LH_3_site), bonds, int(L/3), 8)\n",
    "print(\"max eig of add first (abs)\",np.linalg.eigvalsh(H_af_abs)[-1])"
   ]
  },
  {
   "cell_type": "markdown",
   "id": "aa83f1d0",
   "metadata": {},
   "source": [
    "## optim"
   ]
  },
  {
   "cell_type": "code",
   "execution_count": 6,
   "id": "599b5b1b",
   "metadata": {
    "scrolled": true
   },
   "outputs": [
    {
     "name": "stdout",
     "output_type": "stream",
     "text": [
      "target loss      : 2.2500000000\n",
      "initial loss     : 5.2605534474\n",
      "dtype changes from torch.float64 to torch.float32\n",
      "loss upper bound : 2.8182671070\n",
      "\n",
      "================================================== \n",
      "\n"
     ]
    },
    {
     "data": {
      "application/vnd.jupyter.widget-view+json": {
       "model_id": "0d147c556b9948d1a96487a4f181f181",
       "version_major": 2,
       "version_minor": 0
      },
      "text/plain": [
       "  0%|          | 0/10000 [00:00<?, ?it/s]"
      ]
     },
     "metadata": {},
     "output_type": "display_data"
    },
    {
     "name": "stdout",
     "output_type": "stream",
     "text": [
      "dtype changes from torch.float32 to torch.float64\n"
     ]
    },
    {
     "name": "stderr",
     "output_type": "stream",
     "text": [
      "/home/project/python/nsp/test/../nsp/optim/rieman_unitary_optim.py:229: UserWarning: An output with one or more elements was resized since it had shape [1, 8, 8], which does not match the required output shape [1, 1, 8, 8]. This behavior is deprecated, and in a future PyTorch release outputs will not be resized unless they have zero elements. You can explicitly reuse an out tensor t by resizing it, inplace, to zero elements with t.resize_(0). (Triggered internally at  ../aten/src/ATen/native/Resize.cpp:17.)\n",
      "  return loss(torch.matrix_exp(-t*H)@U).item()\n",
      "/home/project/python/nsp/test/../nsp/optim/rieman_unitary_optim.py:294: UserWarning: An output with one or more elements was resized since it had shape [1, 8, 8], which does not match the required output shape [1, 1, 8, 8]. This behavior is deprecated, and in a future PyTorch release outputs will not be resized unless they have zero elements. You can explicitly reuse an out tensor t by resizing it, inplace, to zero elements with t.resize_(0). (Triggered internally at  ../aten/src/ATen/native/Resize.cpp:17.)\n",
      "  param.data = (torch.matrix_exp(inv_step_dir * -lr) @ U).view(-1)\n"
     ]
    },
    {
     "name": "stdout",
     "output_type": "stream",
     "text": [
      "No local minimum found\n",
      "5.976805818875855e-13 2.239696041215211e-14 2.692784112571943 2.6927841125719336\n",
      "No local minimum found\n",
      "5.900927950665241e-13 2.2396948770619928e-14 2.692784112571943 2.692784112571934\n",
      "stack in local minimum --> break loop\n",
      "\n",
      "best_fun : 2.6927841125719425\n",
      "\n"
     ]
    }
   ],
   "source": [
    "X = LH # for N = 8\n",
    "N = 8\n",
    "loss_mes = nsp.loss.MES(X, [N, N])\n",
    "best_fun = 1E10\n",
    "for _ in range(1):\n",
    "    model = nsp.model.UnitaryRiemanGenerator(N, dtype=torch.float64)\n",
    "    solver = UnitaryTransTs(RiemanUnitaryCG, model, loss_mes, lr = 0.005, momentum=0.1)\n",
    "    ret = solver.run(10000, False)\n",
    "    if ret.fun < best_fun:\n",
    "        print(f\"\\nbest_fun : {ret.fun}\\n\")\n",
    "        best_fun = ret.fun\n",
    "        best_model = model\n",
    "\n",
    "LH_o = loss_mes._transform([best_model.matrix()]*loss_mes._n_unitaries, original = True).detach().numpy()"
   ]
  },
  {
   "cell_type": "code",
   "execution_count": 10,
   "id": "16a331a2",
   "metadata": {},
   "outputs": [],
   "source": [
    "L = 12"
   ]
  },
  {
   "cell_type": "code",
   "execution_count": 11,
   "id": "862fb8f9",
   "metadata": {},
   "outputs": [
    {
     "name": "stdout",
     "output_type": "stream",
     "text": [
      "max eig 4.499999999999559\n"
     ]
    }
   ],
   "source": [
    "bonds = [[i, (i+1)%int(L/3)] for i in range(int(L/3))]\n",
    "H_o = sum_ham(LH_o, bonds, int(L/3), 8)\n",
    "print(\"max eig\",np.linalg.eigvalsh(H_o)[-1])"
   ]
  },
  {
   "cell_type": "code",
   "execution_count": 12,
   "id": "9502296c",
   "metadata": {},
   "outputs": [
    {
     "name": "stdout",
     "output_type": "stream",
     "text": [
      "max eig 5.879777583231808\n"
     ]
    }
   ],
   "source": [
    "bonds = [[i, (i+1)%int(L/3)] for i in range(int(L/3))]\n",
    "H_o_abs = sum_ham(stoquastic(LH_o), bonds, int(L/3), 8)\n",
    "print(\"max eig\",np.linalg.eigvalsh(H_o_abs)[-1])"
   ]
  },
  {
   "cell_type": "markdown",
   "id": "c0fdb4c9",
   "metadata": {},
   "source": [
    "### add_first"
   ]
  },
  {
   "cell_type": "code",
   "execution_count": 39,
   "id": "a8cc9cdc",
   "metadata": {},
   "outputs": [],
   "source": [
    "act = loss_mes.act.tolist()\n",
    "I_not1 = torch.logical_not(torch.eye(act[0]))\n",
    "I_not2 = torch.logical_not(torch.eye(act[1]))\n",
    "ML = torch.kron(I_not1, torch.eye(act[1]))\n",
    "MR = torch.kron(torch.eye(act[0]), I_not2)\n",
    "MI = torch.kron(I_not1, I_not2) + torch.eye(np.prod(act))"
   ]
  },
  {
   "cell_type": "code",
   "execution_count": 40,
   "id": "e10f616b",
   "metadata": {},
   "outputs": [],
   "source": [
    "LH_3_site = (torch.kron(torch.eye(N),ML * LH_o) + torch.kron(MR * LH_o,torch.eye(N)))\n",
    "LH_2_site = MI * LH_o"
   ]
  },
  {
   "cell_type": "code",
   "execution_count": 41,
   "id": "d5c88538",
   "metadata": {},
   "outputs": [],
   "source": [
    "bonds = [[i, (i+1)%int(L/3)] for i in range(int(L/3))]\n",
    "H_af = sum_ham(LH_2_site, bonds, int(L/3), 8)\n",
    "bonds = [[i, (i+1)%int(L/3), (i+2)%int(L/3)] for i in range(int(L/3))]\n",
    "H_af += sum_ham(LH_3_site, bonds, int(L/3), 8)"
   ]
  },
  {
   "cell_type": "code",
   "execution_count": 42,
   "id": "574373ab",
   "metadata": {},
   "outputs": [],
   "source": [
    "E = np.linalg.eigvalsh(H_af)"
   ]
  },
  {
   "cell_type": "code",
   "execution_count": 45,
   "id": "743490b3",
   "metadata": {},
   "outputs": [
    {
     "data": {
      "text/plain": [
       "2.2635109996382816"
      ]
     },
     "execution_count": 45,
     "metadata": {},
     "output_type": "execute_result"
    }
   ],
   "source": [
    "np.sum(E*np.exp(E))/np.exp(E).sum()"
   ]
  },
  {
   "cell_type": "code",
   "execution_count": 153,
   "id": "02e7293e",
   "metadata": {},
   "outputs": [],
   "source": [
    "bonds = [[i, (i+1)%int(L/3)] for i in range(int(L/3))]\n",
    "H_af_abs = sum_ham(stoquastic(LH_2_site), bonds, int(L/3), 8)\n",
    "bonds = [[i, (i+1)%int(L/3), (i+2)%int(L/3)] for i in range(int(L/3))]\n",
    "H_af_abs += sum_ham(stoquastic(LH_3_site), bonds, int(L/3), 8)\n"
   ]
  },
  {
   "cell_type": "code",
   "execution_count": 154,
   "id": "bcf53d04",
   "metadata": {},
   "outputs": [
    {
     "name": "stdout",
     "output_type": "stream",
     "text": [
      "max eig of add first (abs) 5.90262796484217\n"
     ]
    }
   ],
   "source": [
    "print(\"max eig of add first (abs)\",np.linalg.eigvalsh(H_af_abs)[-1])"
   ]
  },
  {
   "cell_type": "markdown",
   "id": "13fc63b6",
   "metadata": {},
   "source": [
    "### test multi "
   ]
  },
  {
   "cell_type": "code",
   "execution_count": 68,
   "id": "52f61ba3",
   "metadata": {},
   "outputs": [],
   "source": [
    "folder1 = \"/home/project/python/array/majumdar_ghosh/optimize8_2\"\n",
    "LHs = [np.load(folder1 + f\"/{i}.npy\") for i in range(2)]"
   ]
  },
  {
   "cell_type": "code",
   "execution_count": 69,
   "id": "b3cebb1c",
   "metadata": {},
   "outputs": [
    {
     "name": "stdout",
     "output_type": "stream",
     "text": [
      "max eig 4.4999999999951905\n"
     ]
    }
   ],
   "source": [
    "bonds = [[i, (i+1)%int(L/3)] for i in range(int(L/3))]\n",
    "H_o = sum_ham(LHs[0], bonds[::2], int(L/3), 8) + sum_ham(LHs[1], bonds[1::2], int(L/3), 8) \n",
    "E = np.linalg.eigvalsh(H_o)\n",
    "print(\"max eig\",E[-1])"
   ]
  },
  {
   "cell_type": "markdown",
   "id": "92b13dfe",
   "metadata": {},
   "source": [
    "#### adding"
   ]
  },
  {
   "cell_type": "code",
   "execution_count": 70,
   "id": "99cda315",
   "metadata": {},
   "outputs": [],
   "source": [
    "folder1 = \"/home/project/python/array/majumdar_ghosh/optimize8_2_af\"\n",
    "LHs = [np.load(folder1 + f\"/{i}.npy\") for i in range(4)]"
   ]
  },
  {
   "cell_type": "code",
   "execution_count": 13,
   "id": "0b4cb97b",
   "metadata": {
    "collapsed": true
   },
   "outputs": [
    {
     "name": "stdout",
     "output_type": "stream",
     "text": [
      "iteration : 1\n",
      "Turn on adding first settings. Note that available only for 1D chain\n",
      "target loss      : 9.0000000000\n",
      "initial loss     : 20.5325985331\n",
      "loss upper bound : 11.0849433715\n",
      "\n",
      "================================================== \n",
      "\n"
     ]
    },
    {
     "data": {
      "application/vnd.jupyter.widget-view+json": {
       "model_id": "687a0e525c034137a331bc2a65ee88d5",
       "version_major": 2,
       "version_minor": 0
      },
      "text/plain": [
       "  0%|          | 0/2000 [00:00<?, ?it/s]"
      ]
     },
     "metadata": {},
     "output_type": "display_data"
    },
    {
     "name": "stderr",
     "output_type": "stream",
     "text": [
      "/home/project/python/nsp/test/../nsp/optim/rieman_nontrans_unitary_optim.py:255: UserWarning: An output with one or more elements was resized since it had shape [1, 8, 8], which does not match the required output shape [1, 1, 8, 8]. This behavior is deprecated, and in a future PyTorch release outputs will not be resized unless they have zero elements. You can explicitly reuse an out tensor t by resizing it, inplace, to zero elements with t.resize_(0). (Triggered internally at  ../aten/src/ATen/native/Resize.cpp:17.)\n",
      "  param.data = (torch.matrix_exp(inv_step_dir * -lr) @ U).view(-1)\n"
     ]
    },
    {
     "ename": "KeyboardInterrupt",
     "evalue": "",
     "output_type": "error",
     "traceback": [
      "\u001b[0;31m---------------------------------------------------------------------------\u001b[0m",
      "\u001b[0;31mKeyboardInterrupt\u001b[0m                         Traceback (most recent call last)",
      "Input \u001b[0;32mIn [13]\u001b[0m, in \u001b[0;36m<cell line: 40>\u001b[0;34m()\u001b[0m\n\u001b[1;32m     46\u001b[0m \u001b[38;5;66;03m# cg2 = RiemanNonTransUnitaryCG([(models[i], models[(i+1)%L]) for i in range(L)], [loss]*L, pout = False)\u001b[39;00m\n\u001b[1;32m     47\u001b[0m solver2 \u001b[38;5;241m=\u001b[39m UnitaryNonTransTs(cg2, af \u001b[38;5;241m=\u001b[39m \u001b[38;5;28;01mTrue\u001b[39;00m)\n\u001b[0;32m---> 48\u001b[0m ret \u001b[38;5;241m=\u001b[39m \u001b[43msolver2\u001b[49m\u001b[38;5;241;43m.\u001b[39;49m\u001b[43mrun\u001b[49m\u001b[43m(\u001b[49m\u001b[38;5;241;43m2000\u001b[39;49m\u001b[43m,\u001b[49m\u001b[43m \u001b[49m\u001b[43mdisable_message\u001b[49m\u001b[38;5;241;43m=\u001b[39;49m\u001b[38;5;28;43;01mFalse\u001b[39;49;00m\u001b[43m)\u001b[49m\n\u001b[1;32m     49\u001b[0m \u001b[38;5;28mprint\u001b[39m(\u001b[38;5;124mf\u001b[39m\u001b[38;5;124m\"\u001b[39m\u001b[38;5;124mres = \u001b[39m\u001b[38;5;132;01m{\u001b[39;00mret\u001b[38;5;241m.\u001b[39mfun\u001b[38;5;132;01m}\u001b[39;00m\u001b[38;5;124m / seed = \u001b[39m\u001b[38;5;132;01m{\u001b[39;00mseed\u001b[38;5;132;01m}\u001b[39;00m\u001b[38;5;124m\"\u001b[39m)\n\u001b[1;32m     50\u001b[0m \u001b[38;5;28;01mif\u001b[39;00m ret\u001b[38;5;241m.\u001b[39mfun \u001b[38;5;241m<\u001b[39m best_fun:\n",
      "File \u001b[0;32m~/project/python/nsp/test/../nsp/solver/torch_solver.py:245\u001b[0m, in \u001b[0;36mUnitaryNonTransTs.run\u001b[0;34m(self, n_iter, disable_message)\u001b[0m\n\u001b[1;32m    243\u001b[0m optim\u001b[38;5;241m.\u001b[39mzero_grad()\n\u001b[1;32m    244\u001b[0m loss_\u001b[38;5;241m.\u001b[39mbackward()\n\u001b[0;32m--> 245\u001b[0m \u001b[38;5;28;01mif\u001b[39;00m \u001b[43moptim\u001b[49m\u001b[38;5;241;43m.\u001b[39;49m\u001b[43mstep\u001b[49m\u001b[43m(\u001b[49m\u001b[43m)\u001b[49m:\n\u001b[1;32m    246\u001b[0m     \u001b[38;5;28;01mif\u001b[39;00m \u001b[38;5;28mself\u001b[39m\u001b[38;5;241m.\u001b[39mprt:\n\u001b[1;32m    247\u001b[0m         \u001b[38;5;28mprint\u001b[39m(\u001b[38;5;124m\"\u001b[39m\u001b[38;5;124mstack in local minimum --> break loop\u001b[39m\u001b[38;5;124m\"\u001b[39m)\n",
      "File \u001b[0;32m~/project/python/nsp/test/../nsp/optim/rieman_nontrans_unitary_optim.py:154\u001b[0m, in \u001b[0;36mBaseRiemanNonTransUnitaryOptimizer.step\u001b[0;34m(self, closure)\u001b[0m\n\u001b[1;32m    152\u001b[0m momentum_buffer_list \u001b[38;5;241m=\u001b[39m []\n\u001b[1;32m    153\u001b[0m \u001b[38;5;28;01mfor\u001b[39;00m model, state \u001b[38;5;129;01min\u001b[39;00m \u001b[38;5;28mzip\u001b[39m(\u001b[38;5;28mself\u001b[39m\u001b[38;5;241m.\u001b[39mmodels, \u001b[38;5;28mself\u001b[39m\u001b[38;5;241m.\u001b[39mmomentum_buffer):\n\u001b[0;32m--> 154\u001b[0m     \u001b[38;5;28;01mwith\u001b[39;00m \u001b[43mtorch\u001b[49m\u001b[38;5;241;43m.\u001b[39;49m\u001b[43mno_grad\u001b[49m\u001b[43m(\u001b[49m\u001b[43m)\u001b[49m:\n\u001b[1;32m    155\u001b[0m         p \u001b[38;5;241m=\u001b[39m model\u001b[38;5;241m.\u001b[39m_params\n\u001b[1;32m    156\u001b[0m         \u001b[38;5;28;01mif\u001b[39;00m p\u001b[38;5;241m.\u001b[39mgrad \u001b[38;5;129;01mis\u001b[39;00m \u001b[38;5;129;01mnot\u001b[39;00m \u001b[38;5;28;01mNone\u001b[39;00m:\n",
      "File \u001b[0;32m~/.local/lib/python3.9/site-packages/torch/autograd/grad_mode.py:128\u001b[0m, in \u001b[0;36mno_grad.__init__\u001b[0;34m(self)\u001b[0m\n\u001b[1;32m    126\u001b[0m \u001b[38;5;28;01mdef\u001b[39;00m \u001b[38;5;21m__init__\u001b[39m(\u001b[38;5;28mself\u001b[39m) \u001b[38;5;241m-\u001b[39m\u001b[38;5;241m>\u001b[39m \u001b[38;5;28;01mNone\u001b[39;00m:\n\u001b[1;32m    127\u001b[0m     \u001b[38;5;28;01mif\u001b[39;00m \u001b[38;5;129;01mnot\u001b[39;00m torch\u001b[38;5;241m.\u001b[39m_jit_internal\u001b[38;5;241m.\u001b[39mis_scripting():\n\u001b[0;32m--> 128\u001b[0m         \u001b[38;5;28;43msuper\u001b[39;49m\u001b[43m(\u001b[49m\u001b[43m)\u001b[49m\u001b[38;5;241;43m.\u001b[39;49m\u001b[38;5;21;43m__init__\u001b[39;49m()\n\u001b[1;32m    129\u001b[0m     \u001b[38;5;28mself\u001b[39m\u001b[38;5;241m.\u001b[39mprev \u001b[38;5;241m=\u001b[39m \u001b[38;5;28;01mFalse\u001b[39;00m\n",
      "\u001b[0;31mKeyboardInterrupt\u001b[0m: "
     ]
    }
   ],
   "source": [
    "from random import randint\n",
    "\n",
    "L = 4\n",
    "M = 1\n",
    "Sz = np.zeros([2,2])\n",
    "Sz[0,0] = 1/2\n",
    "Sz[1,1] = -1/2\n",
    "Sx = np.zeros([2,2])\n",
    "Sx[1,0] = 1/2\n",
    "Sx[0,1] = 1/2\n",
    "Sy = np.zeros([2,2], dtype=np.complex64)\n",
    "Sy[1,0] = 1j/2\n",
    "Sy[0,1] = -1j/2\n",
    "\n",
    "\n",
    "SzSz = np.kron(Sz,Sz).real.astype(np.float64)\n",
    "SxSx = np.kron(Sx,Sx).real.astype(np.float64)\n",
    "SySy = np.kron(Sy,Sy).real.astype(np.float64)\n",
    "\n",
    "lh = SzSz + SxSx + SySy\n",
    "\n",
    "lh = -lh # use minus of local hamiltonian for monte-carlo (exp(-beta H ))\n",
    "bonds = [[0,1], [0, 2], [1, 2]]\n",
    "lh2 = sum_ham(lh/2, bonds, 3, 2)\n",
    "LH = sum_ham(lh2/2, [[0,1,2], [3, 4, 5]], 6, 2) + sum_ham(lh2, [[1, 2, 3], [2, 3, 4]], 6, 2)\n",
    "\n",
    "D = 8\n",
    "models = [nsp.model.UnitaryRiemanGenerator(D, dtype=torch.float64) for _ in range(L)]\n",
    "model = copy.deepcopy(models[0])\n",
    "loss = nsp.loss.MES(LH, [D,D])\n",
    "\n",
    "\n",
    "# set_seed(33244233)\n",
    "# X = LH\n",
    "t = 0.001\n",
    "ret_min_grad = 1e10\n",
    "\n",
    "best_fun = 1E10\n",
    "print(f\"iteration : {M}\")\n",
    "for _ in range(M):\n",
    "    seed = randint(0, 2<<32 - 1)\n",
    "    torch.manual_seed(seed)\n",
    "    np.random.seed(seed)\n",
    "    models = [nsp.model.UnitaryRiemanGenerator(D, dtype=torch.float64) for _ in range(L)]\n",
    "    cg2 = RiemanNonTransUnitarySGD([(models[i], models[(i+1)%L]) for i in range(L)], [loss]*L, pout = False, lr = 0.01, momentum = 0.05)\n",
    "    # cg2 = RiemanNonTransUnitaryCG([(models[i], models[(i+1)%L]) for i in range(L)], [loss]*L, pout = False)\n",
    "    solver2 = UnitaryNonTransTs(cg2, af = True)\n",
    "    ret = solver2.run(2000, disable_message=False)\n",
    "    print(f\"res = {ret.fun} / seed = {seed}\")\n",
    "    if ret.fun < best_fun:\n",
    "        print(f\"\\nbest_fun updated : {ret.fun}\\n\")\n",
    "        best_fun = ret.fun\n",
    "        best_model = ret.best_model"
   ]
  },
  {
   "cell_type": "code",
   "execution_count": 200,
   "id": "bc07efde",
   "metadata": {},
   "outputs": [
    {
     "data": {
      "text/plain": [
       "array([-1.125     , -1.125     , -1.125     , -1.125     , -1.125     ,\n",
       "       -1.125     , -1.125     , -0.91929537, -0.91929537, -0.91929537,\n",
       "       -0.91929537, -0.91929537, -0.75      , -0.75      , -0.75      ,\n",
       "       -0.75      , -0.75      , -0.61622747, -0.61622747, -0.61622747,\n",
       "       -0.35395916, -0.35395916, -0.35395916, -0.35395916, -0.35395916,\n",
       "       -0.20900301, -0.20900301, -0.20900301, -0.16316027, -0.16316027,\n",
       "       -0.16316027, -0.125     ,  0.25      ,  0.25      ,  0.25      ,\n",
       "        0.25      ,  0.25      ,  0.36183442,  0.36183442,  0.36183442,\n",
       "        0.43379923,  0.43379923,  0.43379923,  0.625     ,  0.625     ,\n",
       "        0.625     ,  0.625     ,  0.625     ,  0.64825453,  0.64825453,\n",
       "        0.64825453,  0.64825453,  0.64825453,  0.89143125,  0.89143125,\n",
       "        0.89143125,  0.92632585,  0.92632585,  0.92632585,  1.125     ,\n",
       "        1.125     ,  1.125     ,  1.125     ,  1.125     ])"
      ]
     },
     "execution_count": 200,
     "metadata": {},
     "output_type": "execute_result"
    }
   ],
   "source": [
    "np.linalg.eigvalsh(LH)"
   ]
  },
  {
   "cell_type": "code",
   "execution_count": 125,
   "id": "c4edd332",
   "metadata": {},
   "outputs": [],
   "source": [
    "best_model = ret.model"
   ]
  },
  {
   "cell_type": "code",
   "execution_count": 37,
   "id": "62008a4e",
   "metadata": {},
   "outputs": [],
   "source": [
    "L = 4\n",
    "LHs = [loss._transform_kron([best_model[i].matrix(), best_model[(i+1)%L].matrix()]).detach().numpy() for i in range(L)]"
   ]
  },
  {
   "cell_type": "code",
   "execution_count": 38,
   "id": "a79da7aa",
   "metadata": {},
   "outputs": [],
   "source": [
    "L_ = 4\n",
    "H = sum_ham(LHs[0], [[0,1]], L_, 8)\n",
    "H += sum_ham(LHs[1], [[1,2]], L_, 8)\n",
    "H += sum_ham(LHs[2], [[2,3]], L_, 8)\n",
    "H += sum_ham(LHs[3], [[3,0]], L_, 8)"
   ]
  },
  {
   "cell_type": "code",
   "execution_count": 49,
   "id": "e6403746",
   "metadata": {},
   "outputs": [],
   "source": [
    "E_4 = np.linalg.eigvalsh(H)\n",
    "E_4_iaf = np.linalg.eigvalsh(stoquastic(H))"
   ]
  },
  {
   "cell_type": "code",
   "execution_count": 45,
   "id": "d1de61ae",
   "metadata": {},
   "outputs": [],
   "source": [
    "L_ = 4\n",
    "H_4_af = sum_ham(stoquastic(LHs[0]), [[0,1]], L_, 8)\n",
    "H_4_af += sum_ham(stoquastic(LHs[1]), [[1,2]], L_, 8)\n",
    "H_4_af += sum_ham(stoquastic(LHs[2]), [[2,3]], L_, 8)\n",
    "H_4_af += sum_ham(stoquastic(LHs[3]), [[3,0]], L_, 8)"
   ]
  },
  {
   "cell_type": "code",
   "execution_count": 46,
   "id": "4e1f9644",
   "metadata": {},
   "outputs": [],
   "source": [
    "E_4_af = np.linalg.eigvalsh(H_4_af)"
   ]
  },
  {
   "cell_type": "code",
   "execution_count": 126,
   "id": "e5091f70",
   "metadata": {},
   "outputs": [],
   "source": [
    "models = best_model\n",
    "X = []\n",
    "for acts, loss in zip(cg2.models_act, cg2.loss_list):\n",
    "    X.append(loss._preprocess([models[a].matrix() for a in acts]))"
   ]
  },
  {
   "cell_type": "code",
   "execution_count": 82,
   "id": "1df78cea",
   "metadata": {},
   "outputs": [],
   "source": [
    "L_ = 4\n",
    "H = sum_ham(X[0].detach().numpy(), [[0,1]], L_, 8)\n",
    "H += sum_ham(X[1].detach().numpy(), [[1,2]], L_, 8)\n",
    "H += sum_ham(X[2].detach().numpy(), [[2,3]], L_, 8)\n",
    "H += sum_ham(X[3].detach().numpy(), [[3,0]], L_, 8)\n",
    "\n",
    "E_prime = np.linalg.eigvalsh(H)"
   ]
  },
  {
   "cell_type": "code",
   "execution_count": 127,
   "id": "4f8333c7",
   "metadata": {},
   "outputs": [],
   "source": [
    "D = 8\n",
    "I_not = torch.logical_not(torch.eye(D))\n",
    "I = torch.eye(D)\n",
    "MI = torch.kron(I_not, I_not) + torch.eye(D**2)   \n",
    "ML = torch.kron(I_not, torch.eye(D)) + MI/2\n",
    "MR = torch.kron(torch.eye(D), I_not) + MI/2"
   ]
  },
  {
   "cell_type": "code",
   "execution_count": 128,
   "id": "72c56dfa",
   "metadata": {},
   "outputs": [],
   "source": [
    "X_ = [(torch.kron(I,ML * X[(i+1)%len(X)]) + torch.kron(MR * X[i],I)) for i in range(len(X))]\n",
    "X_ = [x.detach().numpy() for x in X_]"
   ]
  },
  {
   "cell_type": "code",
   "execution_count": 131,
   "id": "0f5a5129",
   "metadata": {},
   "outputs": [
    {
     "data": {
      "text/plain": [
       "10.353602142883915"
      ]
     },
     "execution_count": 131,
     "metadata": {},
     "output_type": "execute_result"
    }
   ],
   "source": [
    "loss1"
   ]
  },
  {
   "cell_type": "code",
   "execution_count": 130,
   "id": "b47ce8e4",
   "metadata": {},
   "outputs": [],
   "source": [
    "loss1 = 0\n",
    "for x in X_:\n",
    "    loss1 += loss.forward(x)"
   ]
  },
  {
   "cell_type": "code",
   "execution_count": 122,
   "id": "94e33ef0",
   "metadata": {},
   "outputs": [
    {
     "data": {
      "text/plain": [
       "tensor([10.6059], dtype=torch.float64, grad_fn=<AddBackward0>)"
      ]
     },
     "execution_count": 122,
     "metadata": {},
     "output_type": "execute_result"
    }
   ],
   "source": [
    "cg2.loss_val()"
   ]
  },
  {
   "cell_type": "code",
   "execution_count": 99,
   "id": "aff89c02",
   "metadata": {},
   "outputs": [],
   "source": [
    "L_ = 4\n",
    "H_3 = sum_ham(stoquastic(X_[0]), [[0,1,2]], L_, 8)\n",
    "H_3 += sum_ham(stoquastic(X_[1]), [[1,2,3]], L_, 8)\n",
    "H_3 += sum_ham(stoquastic(X_[2]), [[2,3,0]], L_, 8)\n",
    "H_3 += sum_ham(stoquastic(X_[3]), [[3,0,1]], L_, 8)"
   ]
  },
  {
   "cell_type": "code",
   "execution_count": 100,
   "id": "8eaabcef",
   "metadata": {},
   "outputs": [],
   "source": [
    "E_3_iaf = np.linalg.eigvalsh(stoquastic(H_3))"
   ]
  },
  {
   "cell_type": "code",
   "execution_count": 115,
   "id": "8cdf08bc",
   "metadata": {},
   "outputs": [
    {
     "data": {
      "text/plain": [
       "[UnitaryRiemanGenerator(),\n",
       " UnitaryRiemanGenerator(),\n",
       " UnitaryRiemanGenerator(),\n",
       " UnitaryRiemanGenerator()]"
      ]
     },
     "execution_count": 115,
     "metadata": {},
     "output_type": "execute_result"
    }
   ],
   "source": [
    "best_model"
   ]
  },
  {
   "cell_type": "code",
   "execution_count": 113,
   "id": "434ff569",
   "metadata": {},
   "outputs": [],
   "source": [
    "cg2 = RiemanNonTransUnitarySGD([(best_model[i], best_model[(i+1)%L]) for i in range(L)], [loss]*L, pout = False, lr = 0.01, momentum = 0.05)"
   ]
  },
  {
   "cell_type": "code",
   "execution_count": 64,
   "id": "bc0b47f3",
   "metadata": {},
   "outputs": [],
   "source": [
    "name = [0, 1, 2, 3]\n",
    "hams = [np.load(f\"/home/project/python/array/AKLT/optm2_nt2_mes_J=2.0/{n}.npy\") for n in name]"
   ]
  },
  {
   "cell_type": "code",
   "execution_count": 65,
   "id": "b60a6032",
   "metadata": {},
   "outputs": [],
   "source": [
    "hams2 = hams[:z]\n",
    "hams3 = hams[4:]\n",
    "co = nsp.utils.base_conv.change_order\n",
    "LH_3 = [co(lh, [8, 8, 8]) for lh in hams3]\n",
    "LH_2 = [co(lh, [8, 8]) + np.eye(lh.shape[0])*1.125 for lh in hams2]"
   ]
  },
  {
   "cell_type": "code",
   "execution_count": 66,
   "id": "b7bcf22e",
   "metadata": {},
   "outputs": [],
   "source": [
    "LH_33  = []\n",
    "for i in range(4):\n",
    "    LH_33.append(LH_3[i] + np.kron(LH_2[i]/2, np.eye(8)) + np.kron(np.eye(8), LH_2[(i+1)%4]/2))"
   ]
  },
  {
   "cell_type": "code",
   "execution_count": 67,
   "id": "0e0bb8b5",
   "metadata": {},
   "outputs": [],
   "source": [
    "loss1 = 0\n",
    "for x in LH_33:\n",
    "    loss1 += loss.forward(x)"
   ]
  },
  {
   "cell_type": "code",
   "execution_count": 68,
   "id": "fa36edd1",
   "metadata": {},
   "outputs": [
    {
     "data": {
      "text/plain": [
       "19.205776321845327"
      ]
     },
     "execution_count": 68,
     "metadata": {},
     "output_type": "execute_result"
    }
   ],
   "source": [
    "loss1 "
   ]
  },
  {
   "cell_type": "code",
   "execution_count": 186,
   "id": "57d0522c",
   "metadata": {},
   "outputs": [],
   "source": [
    "L_ = 4\n",
    "H_33 = sum_ham(stoquastic(LH_33[0]), [[0,1,2]], L_, 8)\n",
    "H_33 += sum_ham(stoquastic(LH_33[1]), [[1,2,3]], L_, 8)\n",
    "H_33 += sum_ham(stoquastic(LH_33[2]), [[2,3,0]], L_, 8)\n",
    "H_33 += sum_ham(stoquastic(LH_33[3]), [[3,0,1]], L_, 8)"
   ]
  },
  {
   "cell_type": "code",
   "execution_count": 187,
   "id": "2b829fe3",
   "metadata": {},
   "outputs": [],
   "source": [
    "E_333 = np.linalg.eigvalsh(H_33)"
   ]
  },
  {
   "cell_type": "code",
   "execution_count": 189,
   "id": "6e04f78d",
   "metadata": {},
   "outputs": [
    {
     "data": {
      "text/plain": [
       "array([9.03278129, 9.04443296, 9.04447931, 9.11380781, 9.11382378,\n",
       "       9.29890728, 9.43219942, 9.65902022, 9.65910413, 9.91717051])"
      ]
     },
     "execution_count": 189,
     "metadata": {},
     "output_type": "execute_result"
    }
   ],
   "source": [
    "(E_333 + 4.5)[-10:]"
   ]
  },
  {
   "cell_type": "code",
   "execution_count": 159,
   "id": "7c0fa99b",
   "metadata": {},
   "outputs": [],
   "source": [
    "L_ = 4\n",
    "H_3 = sum_ham(stoquastic(LH_3[0]), [[0,1,2]], L_, 8)\n",
    "H_3 += sum_ham(stoquastic(LH_3[1]), [[1,2,3]], L_, 8)\n",
    "H_3 += sum_ham(stoquastic(LH_3[2]), [[2,3,0]], L_, 8)\n",
    "H_3 += sum_ham(stoquastic(LH_3[3]), [[3,0,1]], L_, 8)\n",
    "\n",
    "H_3 += sum_ham(stoquastic(LH_2[0]), [[0,1]], L_, 8)\n",
    "H_3 += sum_ham(stoquastic(LH_2[1]), [[1,2]], L_, 8)\n",
    "H_3 += sum_ham(stoquastic(LH_2[2]), [[2,3]], L_, 8)\n",
    "H_3 += sum_ham(stoquastic(LH_2[3]), [[3,0]], L_, 8)"
   ]
  },
  {
   "cell_type": "code",
   "execution_count": 160,
   "id": "83134c10",
   "metadata": {},
   "outputs": [],
   "source": [
    "E_33 = np.linalg.eigvalsh(H_3)"
   ]
  },
  {
   "cell_type": "code",
   "execution_count": 161,
   "id": "5e0d9311",
   "metadata": {},
   "outputs": [
    {
     "data": {
      "text/plain": [
       "array([8.23841571, 8.24641235, 8.25374496, 8.25799583, 8.25804177,\n",
       "       8.27124649, 8.2712883 , 8.27287063, 8.29687878, 8.29711798,\n",
       "       8.29715053, 8.33266612, 8.37969671, 8.38953372, 8.3895816 ,\n",
       "       8.42701942, 8.42702271, 8.44694611, 8.44695707, 8.48527957,\n",
       "       8.54231721, 8.54692224, 8.56585219, 8.56885378, 8.5765232 ,\n",
       "       8.59168667, 8.59172993, 8.69817799, 8.69820751, 8.80098724,\n",
       "       8.80103555, 8.85056855, 8.85068105, 8.88372041, 8.91060205,\n",
       "       8.9430519 , 8.98112921, 8.98910652, 8.99033886, 8.99078521,\n",
       "       9.03278129, 9.04443296, 9.04447931, 9.11380781, 9.11382378,\n",
       "       9.29890728, 9.43219942, 9.65902022, 9.65910413, 9.91717051])"
      ]
     },
     "execution_count": 161,
     "metadata": {},
     "output_type": "execute_result"
    }
   ],
   "source": [
    "(E_33 + 4.5)[-50:]"
   ]
  },
  {
   "cell_type": "code",
   "execution_count": 230,
   "id": "de227492",
   "metadata": {},
   "outputs": [
    {
     "data": {
      "text/plain": [
       "22.877618264689552"
      ]
     },
     "execution_count": 230,
     "metadata": {},
     "output_type": "execute_result"
    }
   ],
   "source": [
    "np.exp(4*E_4_iaf).sum() / np.exp(-4*(E_origin-4.5)).sum()"
   ]
  },
  {
   "cell_type": "code",
   "execution_count": 229,
   "id": "d189b5d1",
   "metadata": {},
   "outputs": [
    {
     "data": {
      "text/plain": [
       "13.945229661781077"
      ]
     },
     "execution_count": 229,
     "metadata": {},
     "output_type": "execute_result"
    }
   ],
   "source": [
    "np.exp(4*(E_33 + 4.5)).sum() / np.exp(-4*(E_origin-4.5)).sum()"
   ]
  },
  {
   "cell_type": "code",
   "execution_count": 29,
   "id": "e73b37c8",
   "metadata": {},
   "outputs": [],
   "source": [
    "hams = [np.load(f\"/home/project/python/array/majumdar_ghosh/optimize8_af/{n}.npy\") for n in np.arange(2)]"
   ]
  },
  {
   "cell_type": "code",
   "execution_count": 8,
   "id": "69fecb5c",
   "metadata": {},
   "outputs": [
    {
     "ename": "NameError",
     "evalue": "name 'co' is not defined",
     "output_type": "error",
     "traceback": [
      "\u001b[0;31m---------------------------------------------------------------------------\u001b[0m",
      "\u001b[0;31mNameError\u001b[0m                                 Traceback (most recent call last)",
      "Input \u001b[0;32mIn [8]\u001b[0m, in \u001b[0;36m<cell line: 1>\u001b[0;34m()\u001b[0m\n\u001b[0;32m----> 1\u001b[0m hams[\u001b[38;5;241m1\u001b[39m] \u001b[38;5;241m=\u001b[39m \u001b[43mco\u001b[49m(hams[\u001b[38;5;241m1\u001b[39m], [\u001b[38;5;241m8\u001b[39m, \u001b[38;5;241m8\u001b[39m, \u001b[38;5;241m8\u001b[39m])\n\u001b[1;32m      2\u001b[0m hams[\u001b[38;5;241m0\u001b[39m] \u001b[38;5;241m=\u001b[39m co(hams[\u001b[38;5;241m0\u001b[39m], [\u001b[38;5;241m8\u001b[39m, \u001b[38;5;241m8\u001b[39m])\n",
      "\u001b[0;31mNameError\u001b[0m: name 'co' is not defined"
     ]
    }
   ],
   "source": [
    "hams[1] = co(hams[1], [8, 8, 8])\n",
    "hams[0] = co(hams[0], [8, 8])"
   ]
  },
  {
   "cell_type": "code",
   "execution_count": 4,
   "id": "53be20f4",
   "metadata": {},
   "outputs": [],
   "source": [
    "L_ = 4\n",
    "H_8_af = sum_ham(hams[1], [[0,1,2]], L_, 8)\n",
    "H_8_af += sum_ham(hams[1], [[1,2,3]], L_, 8)\n",
    "H_8_af += sum_ham(hams[1], [[2,3,0]], L_, 8)\n",
    "H_8_af += sum_ham(hams[1], [[3,0,1]], L_, 8)\n",
    "\n",
    "H_8_af += sum_ham(hams[0], [[0,1]], L_, 8)\n",
    "H_8_af += sum_ham(hams[0], [[1,2]], L_, 8)\n",
    "H_8_af += sum_ham(hams[0], [[2,3]], L_, 8)\n",
    "H_8_af += sum_ham(hams[0], [[3,0]], L_, 8)"
   ]
  },
  {
   "cell_type": "code",
   "execution_count": 171,
   "id": "3149302a",
   "metadata": {},
   "outputs": [],
   "source": [
    "E_8 = np.linalg.eigvalsh(H_8_af)"
   ]
  },
  {
   "cell_type": "code",
   "execution_count": 172,
   "id": "51b75278",
   "metadata": {},
   "outputs": [
    {
     "data": {
      "text/plain": [
       "array([3.68594044e-13, 6.98108238e-13, 9.38804590e-13, ...,\n",
       "       8.68086623e+00, 9.00000000e+00, 9.00000000e+00])"
      ]
     },
     "execution_count": 172,
     "metadata": {},
     "output_type": "execute_result"
    }
   ],
   "source": [
    "E_8 + 4.5"
   ]
  },
  {
   "cell_type": "code",
   "execution_count": 211,
   "id": "36d8b3bc",
   "metadata": {},
   "outputs": [
    {
     "data": {
      "text/plain": [
       "array([-4.5       , -4.5       , -4.5       , ...,  4.18086623,\n",
       "        4.5       ,  4.5       ])"
      ]
     },
     "execution_count": 211,
     "metadata": {},
     "output_type": "execute_result"
    }
   ],
   "source": [
    "E_origin"
   ]
  },
  {
   "cell_type": "code",
   "execution_count": 221,
   "id": "26d46696",
   "metadata": {},
   "outputs": [
    {
     "data": {
      "text/plain": [
       "-2.263510999638674"
      ]
     },
     "execution_count": 221,
     "metadata": {},
     "output_type": "execute_result"
    }
   ],
   "source": [
    "(E_origin * np.exp(-1 * E_origin)).sum() /  np.exp(-1 * E_origin).sum()"
   ]
  },
  {
   "cell_type": "code",
   "execution_count": 217,
   "id": "e2eec0de",
   "metadata": {},
   "outputs": [
    {
     "data": {
      "text/plain": [
       "array([-4.5       , -4.5       , -4.5       , ...,  4.18086623,\n",
       "        4.5       ,  4.5       ])"
      ]
     },
     "execution_count": 217,
     "metadata": {},
     "output_type": "execute_result"
    }
   ],
   "source": [
    "E_origin"
   ]
  },
  {
   "cell_type": "code",
   "execution_count": 42,
   "id": "82c70d33",
   "metadata": {},
   "outputs": [
    {
     "data": {
      "text/plain": [
       "<function nsp.utils.func.l1_measure(X)>"
      ]
     },
     "execution_count": 42,
     "metadata": {},
     "output_type": "execute_result"
    }
   ],
   "source": []
  },
  {
   "cell_type": "code",
   "execution_count": 54,
   "id": "5d6dc95f",
   "metadata": {},
   "outputs": [],
   "source": [
    "N = 9\n",
    "X = np.random.randn(N**2, N**2)\n",
    "X = X.T + X"
   ]
  },
  {
   "cell_type": "code",
   "execution_count": 55,
   "id": "471f4ba0",
   "metadata": {},
   "outputs": [
    {
     "data": {
      "text/plain": [
       "7718.742156090741"
      ]
     },
     "execution_count": 55,
     "metadata": {},
     "output_type": "execute_result"
    }
   ],
   "source": [
    "nsp.utils.func.l1_measure(X)"
   ]
  },
  {
   "cell_type": "code",
   "execution_count": 62,
   "id": "55a53237",
   "metadata": {},
   "outputs": [
    {
     "data": {
      "text/plain": [
       "-3859.3710780453707"
      ]
     },
     "execution_count": 62,
     "metadata": {},
     "output_type": "execute_result"
    }
   ],
   "source": [
    "((X - stoquastic(X))/2).sum()"
   ]
  },
  {
   "cell_type": "code",
   "execution_count": 57,
   "id": "9ab0e6fc",
   "metadata": {},
   "outputs": [
    {
     "data": {
      "text/plain": [
       "array([[-2.02237703,  3.77630275, -0.71301597, ..., -2.5382281 ,\n",
       "        -1.26538107, -2.51056333],\n",
       "       [ 3.77630275, -1.24366319, -3.87237618, ...,  0.08905426,\n",
       "         0.5042383 ,  0.50323521],\n",
       "       [-0.71301597, -3.87237618,  0.39587544, ...,  1.08899415,\n",
       "         1.81309638,  0.77205963],\n",
       "       ...,\n",
       "       [-2.5382281 ,  0.08905426,  1.08899415, ...,  3.25962257,\n",
       "        -0.73955418,  1.34674103],\n",
       "       [-1.26538107,  0.5042383 ,  1.81309638, ..., -0.73955418,\n",
       "        -0.1730198 ,  1.11119799],\n",
       "       [-2.51056333,  0.50323521,  0.77205963, ...,  1.34674103,\n",
       "         1.11119799,  2.18836317]])"
      ]
     },
     "execution_count": 57,
     "metadata": {},
     "output_type": "execute_result"
    }
   ],
   "source": [
    "X"
   ]
  }
 ],
 "metadata": {
  "kernelspec": {
   "display_name": "Python 3 (ipykernel)",
   "language": "python",
   "name": "python3"
  },
  "language_info": {
   "codemirror_mode": {
    "name": "ipython",
    "version": 3
   },
   "file_extension": ".py",
   "mimetype": "text/x-python",
   "name": "python",
   "nbconvert_exporter": "python",
   "pygments_lexer": "ipython3",
   "version": "3.9.13"
  }
 },
 "nbformat": 4,
 "nbformat_minor": 5
}
