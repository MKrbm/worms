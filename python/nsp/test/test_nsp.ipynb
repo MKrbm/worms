{
 "cells": [
  {
   "cell_type": "code",
   "execution_count": 1,
   "id": "dab34b1a",
   "metadata": {},
   "outputs": [],
   "source": [
    "import sys\n",
    "sys.path.insert(0, \"../\")"
   ]
  },
  {
   "cell_type": "code",
   "execution_count": 2,
   "id": "fbea3873",
   "metadata": {},
   "outputs": [
    {
     "data": {
      "text/plain": [
       "<module 'nsp' from '/home/user/project/python/nsp/test/../nsp/__init__.py'>"
      ]
     },
     "execution_count": 2,
     "metadata": {},
     "output_type": "execute_result"
    }
   ],
   "source": [
    "import nsp\n",
    "import numpy as np\n",
    "import torch\n",
    "import utils\n",
    "import utils.optm as optm\n",
    "import utils.lossfunc as lf\n",
    "from importlib import reload\n",
    "\n",
    "reload(nsp)"
   ]
  },
  {
   "cell_type": "code",
   "execution_count": 3,
   "id": "9106d25c",
   "metadata": {},
   "outputs": [],
   "source": [
    "x = np.random.rand(16).reshape(4,4) - 1/2"
   ]
  },
  {
   "cell_type": "code",
   "execution_count": 4,
   "id": "99e45274",
   "metadata": {},
   "outputs": [],
   "source": [
    "model = nsp.model.unitary_generator(4, shperical=True)\n",
    "loss = nsp.loss.mes(x, [4])\n",
    "solver = nsp.solver.sym_solver(model, loss)"
   ]
  },
  {
   "cell_type": "code",
   "execution_count": 7,
   "id": "a79cebed",
   "metadata": {},
   "outputs": [
    {
     "data": {
      "text/plain": [
       "0.1245490583451837"
      ]
     },
     "execution_count": 7,
     "metadata": {},
     "output_type": "execute_result"
    }
   ],
   "source": [
    "solver(np.random.rand(6)*10)"
   ]
  }
 ],
 "metadata": {
  "kernelspec": {
   "display_name": "Python 3 (ipykernel)",
   "language": "python",
   "name": "python3"
  },
  "language_info": {
   "codemirror_mode": {
    "name": "ipython",
    "version": 3
   },
   "file_extension": ".py",
   "mimetype": "text/x-python",
   "name": "python",
   "nbconvert_exporter": "python",
   "pygments_lexer": "ipython3",
   "version": "3.9.13"
  }
 },
 "nbformat": 4,
 "nbformat_minor": 5
}
