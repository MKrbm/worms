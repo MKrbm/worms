{
 "cells": [
  {
   "cell_type": "code",
   "execution_count": 48,
   "id": "dab34b1a",
   "metadata": {},
   "outputs": [],
   "source": [
    "import sys\n",
    "sys.path.insert(0, \"../\")"
   ]
  },
  {
   "cell_type": "code",
   "execution_count": 49,
   "id": "fbea3873",
   "metadata": {},
   "outputs": [
    {
     "data": {
      "text/plain": [
       "<module 'nsp' from '/home/user/project/python/nsp/test/../nsp/__init__.py'>"
      ]
     },
     "execution_count": 49,
     "metadata": {},
     "output_type": "execute_result"
    }
   ],
   "source": [
    "import nsp\n",
    "import numpy as np\n",
    "import torch\n",
    "import utils\n",
    "import utils.optm as optm\n",
    "import utils.lossfunc as lf\n",
    "from importlib import reload\n",
    "\n",
    "reload(nsp)"
   ]
  },
  {
   "cell_type": "code",
   "execution_count": 50,
   "id": "3f0dd67b",
   "metadata": {},
   "outputs": [],
   "source": [
    "# %%time\n",
    "# for _ in range(1):\n",
    "x = np.random.randn(16,16)\n",
    "x = (x+x.T)/2\n",
    "x=torch.tensor(x)\n",
    "loss_l1 = nsp.loss.L1(x, [4, 4])\n",
    "loss_l2 = nsp.loss.L2(x, [4, 4])\n",
    "loss_mes = nsp.loss.MES(x, [4, 4])"
   ]
  },
  {
   "cell_type": "code",
   "execution_count": 72,
   "id": "b87f5210",
   "metadata": {},
   "outputs": [],
   "source": [
    "from nsp.optim import RiemanSGD\n",
    "from matplotlib import pyplot as plt\n",
    "\n",
    "t = 0.001\n",
    "model2 = nsp.model.UnitaryRiemanGenerator(4, dtype=torch.float64)\n",
    "sgd = RiemanSGD(model2, t)\n",
    "loss_old = loss_l1(model2.matrix()).item()\n",
    "loss_l1(model2.matrix()).backward()\n",
    "S, U = sgd._riemannian_grad(model2._params)\n",
    "W = model2.matrix().data\n",
    "S = S/torch.linalg.norm(S@W)\n",
    "loss_rieman_dir = loss_l1(torch.matrix_exp(-t*S)@W)\n",
    "\n",
    "res = []\n",
    "for _ in range(10000):\n",
    "    S_ = np.random.randn(4,4)\n",
    "    S_ = S_ - S_.T\n",
    "    S_ = torch.Tensor(S_).to(torch.float64)\n",
    "    S_ = S_/torch.linalg.norm(S_@W)\n",
    "    loss_random = loss_l1(torch.matrix_exp(-t*S_)@W)\n",
    "#     res.append((loss_random-loss_old).item())\n",
    "    res.append((loss_random-loss_rieman_dir).item())"
   ]
  },
  {
   "cell_type": "code",
   "execution_count": 73,
   "id": "b8a69f65",
   "metadata": {},
   "outputs": [
    {
     "name": "stderr",
     "output_type": "stream",
     "text": [
      "No artists with labels found to put in legend.  Note that artists whose label start with an underscore are ignored when legend() is called with no argument.\n"
     ]
    },
    {
     "data": {
      "image/png": "[encoded data removed]",
      "text/plain": [
       "<Figure size 432x288 with 1 Axes>"
      ]
     },
     "metadata": {
      "needs_background": "light"
     },
     "output_type": "display_data"
    }
   ],
   "source": [
    "fig, ax = plt.subplots()\n",
    "ax.hist(res, bins=100)\n",
    "ax.set_title('diff in the direction of rieman gradient, 1000 samples/lr = 0.001')\n",
    "ax.set_xlabel('diff')\n",
    "ax.set_ylabel('freq')\n",
    "ax.legend()\n",
    "fig.show()\n",
    "plt.savefig('rieman_grad_lr=0.001.jpg', dpi=400, bbox_inches=\"tight\")"
   ]
  },
  {
   "cell_type": "code",
   "execution_count": null,
   "id": "bc799f42",
   "metadata": {},
   "outputs": [],
   "source": []
  }
 ],
 "metadata": {
  "kernelspec": {
   "display_name": "Python 3 (ipykernel)",
   "language": "python",
   "name": "python3"
  },
  "language_info": {
   "codemirror_mode": {
    "name": "ipython",
    "version": 3
   },
   "file_extension": ".py",
   "mimetype": "text/x-python",
   "name": "python",
   "nbconvert_exporter": "python",
   "pygments_lexer": "ipython3",
   "version": "3.9.13"
  }
 },
 "nbformat": 4,
 "nbformat_minor": 5
}
