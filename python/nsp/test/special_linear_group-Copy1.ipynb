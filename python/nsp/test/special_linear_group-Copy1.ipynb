{
 "cells": [
  {
   "cell_type": "code",
   "execution_count": 29,
   "id": "8ad8b072",
   "metadata": {},
   "outputs": [
    {
     "name": "stdout",
     "output_type": "stream",
     "text": [
      "dtype changes from torch.float32 to torch.float64\n",
      "target loss      : 36.7649192810\n",
      "initial loss     : 57.0329045895\n",
      "\n",
      "================================================== \n",
      "\n"
     ]
    },
    {
     "data": {
      "application/vnd.jupyter.widget-view+json": {
       "model_id": "d71f65d37669466cac68d81add5152f5",
       "version_major": 2,
       "version_minor": 0
      },
      "text/plain": [
       "  0%|          | 0/200 [00:00<?, ?it/s]"
      ]
     },
     "metadata": {},
     "output_type": "display_data"
    },
    {
     "name": "stdout",
     "output_type": "stream",
     "text": [
      "No local minimum found\n",
      "4.707100857875599e-19 3.948736411985009e-15 57.03290458950981 57.03290458950981\n",
      "No local minimum found\n",
      "2.786398699561864e-18 3.2868761081772386e-16 57.03290458950981 57.0329045895098\n",
      "No local minimum found\n",
      "-1.7437395858757766e-18 3.5111028410028663e-15 57.03290458950981 57.032904589509755\n",
      "stack in local minimum --> break loop\n"
     ]
    }
   ],
   "source": [
    "from header import *\n",
    "\n",
    "\n",
    "set_seed(33244233)\n",
    "N = 14\n",
    "\n",
    "model = nsp.model.UnitaryRiemanGenerator(D, dtype=torch.float64)\n",
    "# model_sl = nsp.model.SlRiemanGenerator(D, dtype=torch.float64)\n",
    "model._params.data[:] = torch.eye(model.D).view(-1)\n",
    "# model_sl._params.data[:] = torch.eye(model.D).view(-1)\n",
    "\n",
    "\n",
    "X = np.random.randn(D**2, D**2)\n",
    "# X = np.random.randn(D, D)\n",
    "\n",
    "X = (X + X.T)\n",
    "# mask = X>=(1/(D**2))\n",
    "# X[mask] = 0\n",
    "\n",
    "loss_sl = nsp.loss.MES_SL(torch.Tensor(X), [D,D], inv = model_sl._inv)\n",
    "loss = nsp.loss.MES(torch.Tensor(X), [D,D], inv = model._inv)\n",
    "\n",
    "\n",
    "cg = RiemanUnitaryCG(model,loss, lr = 0.1)\n",
    "cg_sl = RiemanSlCG(model,loss_sl )\n",
    "\n",
    "# S, W = cg._riemannian_grad(model._params)\n",
    "\n",
    "solver_cg = UnitarySymmTs(RiemanUnitaryCG, model, loss, lr = 0.1)\n",
    "ret_cg = solver_cg.run(200, disable_message=False)"
   ]
  },
  {
   "cell_type": "code",
   "execution_count": 27,
   "id": "7bd3e6f1",
   "metadata": {},
   "outputs": [
    {
     "name": "stdout",
     "output_type": "stream",
     "text": [
      "dtype changes from torch.float32 to torch.float64\n"
     ]
    },
    {
     "data": {
      "text/plain": [
       "(tensor([[ 0.0000, -0.6752, -0.8750,  0.9680],\n",
       "         [ 0.6752,  0.0000, -0.7107,  0.1720],\n",
       "         [ 0.8750,  0.7107,  0.0000,  0.5287],\n",
       "         [-0.9680, -0.1720, -0.5287,  0.0000]], dtype=torch.float64,\n",
       "        grad_fn=<SubBackward0>),\n",
       " tensor([[1., 0., 0., 0.],\n",
       "         [0., 1., 0., 0.],\n",
       "         [0., 0., 1., 0.],\n",
       "         [0., 0., 0., 1.]], dtype=torch.float64, grad_fn=<ViewBackward0>))"
      ]
     },
     "execution_count": 27,
     "metadata": {},
     "output_type": "execute_result"
    }
   ],
   "source": [
    "loss(model.matrix()).backward()\n",
    "cg._riemannian_grad(model._params)"
   ]
  },
  {
   "cell_type": "code",
   "execution_count": 26,
   "id": "ab1a16df",
   "metadata": {},
   "outputs": [
    {
     "name": "stdout",
     "output_type": "stream",
     "text": [
      "dtype changes from torch.float32 to torch.float64\n"
     ]
    },
    {
     "data": {
      "text/plain": [
       "(tensor([[-6.6022e-16, -2.7693e-01, -3.5885e-01,  3.9698e-01],\n",
       "         [ 2.7693e-01, -8.9926e-16, -2.9146e-01,  7.0556e-02],\n",
       "         [ 3.5885e-01,  2.9146e-01,  1.7075e-16,  2.1684e-01],\n",
       "         [-3.9698e-01, -7.0556e-02, -2.1684e-01,  4.5532e-16]],\n",
       "        dtype=torch.float64),\n",
       " tensor([[1., 0., 0., 0.],\n",
       "         [0., 1., 0., 0.],\n",
       "         [0., 0., 1., 0.],\n",
       "         [0., 0., 0., 1.]], dtype=torch.float64))"
      ]
     },
     "execution_count": 26,
     "metadata": {},
     "output_type": "execute_result"
    }
   ],
   "source": [
    "loss_sl(model_sl.matrix()).backward()\n",
    "cg_sl._riemannian_grad(model_sl._params)"
   ]
  },
  {
   "cell_type": "code",
   "execution_count": 24,
   "id": "22b40fcf",
   "metadata": {},
   "outputs": [
    {
     "data": {
      "text/plain": [
       "tensor([[ 6.6613e-16,  2.2905e-01,  1.5359e-01, -8.2214e-02],\n",
       "        [-2.2905e-01,  4.5797e-16, -7.1891e-02, -4.3636e-01],\n",
       "        [-1.5359e-01,  7.1891e-02,  2.7894e-15, -6.1658e-01],\n",
       "        [ 8.2214e-02,  4.3636e-01,  6.1658e-01, -1.1102e-16]],\n",
       "       dtype=torch.float64)"
      ]
     },
     "execution_count": 24,
     "metadata": {},
     "output_type": "execute_result"
    }
   ],
   "source": [
    "model_sl._params.grad.view(4,4)"
   ]
  },
  {
   "cell_type": "code",
   "execution_count": 19,
   "id": "482ca450",
   "metadata": {},
   "outputs": [],
   "source": [
    "for _ in range(10):\n",
    "    loss(model.matrix()).backward()\n",
    "    loss(model2.matrix()).backward()\n",
    "    cg2.step()\n",
    "    cg.step()\n",
    "    cg.zero_grad()\n",
    "    cg2.zero_grad()"
   ]
  },
  {
   "cell_type": "code",
   "execution_count": 20,
   "id": "77b1b54f",
   "metadata": {},
   "outputs": [
    {
     "data": {
      "text/plain": [
       "tensor([[ 0.6798,  0.0555,  0.4857,  0.5467],\n",
       "        [ 0.1244,  0.3583,  0.5885, -0.7140],\n",
       "        [-0.1170, -0.8943,  0.4119, -0.1297],\n",
       "        [-0.7132,  0.2621,  0.4980,  0.4178]], dtype=torch.float64,\n",
       "       grad_fn=<ViewBackward0>)"
      ]
     },
     "execution_count": 20,
     "metadata": {},
     "output_type": "execute_result"
    }
   ],
   "source": [
    "model.matrix()"
   ]
  },
  {
   "cell_type": "code",
   "execution_count": 21,
   "id": "179206a3",
   "metadata": {},
   "outputs": [
    {
     "data": {
      "text/plain": [
       "tensor([[ 0.6798,  0.0555,  0.4857,  0.5467],\n",
       "        [ 0.1244,  0.3583,  0.5885, -0.7140],\n",
       "        [-0.1170, -0.8943,  0.4119, -0.1297],\n",
       "        [-0.7132,  0.2621,  0.4980,  0.4178]], dtype=torch.float64,\n",
       "       grad_fn=<ViewBackward0>)"
      ]
     },
     "execution_count": 21,
     "metadata": {},
     "output_type": "execute_result"
    }
   ],
   "source": [
    "model2.matrix()"
   ]
  },
  {
   "cell_type": "code",
   "execution_count": 15,
   "id": "0315f9fc",
   "metadata": {},
   "outputs": [],
   "source": [
    "lr = slcg._golden(W.data, S.data)"
   ]
  },
  {
   "cell_type": "code",
   "execution_count": 16,
   "id": "c7c8a461",
   "metadata": {},
   "outputs": [
    {
     "data": {
      "text/plain": [
       "1.275625102976006"
      ]
     },
     "execution_count": 16,
     "metadata": {},
     "output_type": "execute_result"
    }
   ],
   "source": [
    "lr"
   ]
  },
  {
   "cell_type": "code",
   "execution_count": 8,
   "id": "d6eca4c7",
   "metadata": {},
   "outputs": [],
   "source": [
    "loss(model.matrix()).backward()"
   ]
  },
  {
   "cell_type": "code",
   "execution_count": 10,
   "id": "e5e877bc",
   "metadata": {},
   "outputs": [
    {
     "data": {
      "text/plain": [
       "tensor([  1.2769, -12.3206,   7.5504,   7.5007,  -7.3384, -47.3078, -43.3932,\n",
       "         28.8005,   1.4467,  27.3550,   8.5543, -16.6534, -12.1922, -75.3265,\n",
       "        -72.0942,  45.8580], dtype=torch.float64)"
      ]
     },
     "execution_count": 10,
     "metadata": {},
     "output_type": "execute_result"
    }
   ],
   "source": [
    "model._params.grad"
   ]
  },
  {
   "cell_type": "code",
   "execution_count": null,
   "id": "305943a3",
   "metadata": {},
   "outputs": [],
   "source": []
  },
  {
   "cell_type": "code",
   "execution_count": 38,
   "id": "f824d824",
   "metadata": {},
   "outputs": [
    {
     "data": {
      "text/plain": [
       "tensor([[ 1.2359, -0.7446,  0.8197,  1.7623],\n",
       "        [-0.4031,  0.7149,  0.1083,  0.1054],\n",
       "        [-0.3327, -0.3558, -0.2180,  0.1962],\n",
       "        [-1.1024, -0.0299,  0.3727, -0.9463]], dtype=torch.float64,\n",
       "       grad_fn=<ViewBackward0>)"
      ]
     },
     "execution_count": 38,
     "metadata": {},
     "output_type": "execute_result"
    }
   ],
   "source": [
    "model.matrix()"
   ]
  },
  {
   "cell_type": "code",
   "execution_count": 6,
   "id": "509c5c05",
   "metadata": {},
   "outputs": [],
   "source": [
    "from scipy.integrate import quad\n",
    "import numpy as np\n",
    "def integrand(x, a, b):\n",
    "    return a*x**2 + b\n",
    "a = 2\n",
    "b = 1\n",
    "I = quad(integrand, 0, 1, args=(a,b))"
   ]
  },
  {
   "cell_type": "code",
   "execution_count": 8,
   "id": "5c4e7e53",
   "metadata": {},
   "outputs": [
    {
     "data": {
      "text/plain": [
       "array([0.10969197, 0.05673949, 0.03013338, 0.01629537, 0.00893065,\n",
       "       0.00494538])"
      ]
     },
     "execution_count": 8,
     "metadata": {},
     "output_type": "execute_result"
    }
   ],
   "source": [
    "from scipy.integrate import quad\n",
    "def integrand(t, n, x):\n",
    "    return np.exp(-x*t) / t**n\n",
    "def expint(n, x):\n",
    "    return quad(integrand, 1, np.inf, args=(n, x))[0]\n",
    "vec_expint = np.vectorize(expint)\n",
    "import scipy.special as special\n",
    "special.expn(3, np.arange(1.0,4.0,0.5))"
   ]
  },
  {
   "cell_type": "code",
   "execution_count": 9,
   "id": "f159ee9a",
   "metadata": {},
   "outputs": [],
   "source": [
    "from scipy.integrate import quad, dblquad\n",
    "def I(n):\n",
    "    return dblquad(lambda t, x: np.exp(-x*t)/t**n, 0, np.inf, lambda x: 1, lambda x: np.inf)"
   ]
  },
  {
   "cell_type": "code",
   "execution_count": 10,
   "id": "eff50940",
   "metadata": {},
   "outputs": [
    {
     "name": "stdout",
     "output_type": "stream",
     "text": [
      "(0.2500000000043577, 1.2983033469368098e-08)\n"
     ]
    }
   ],
   "source": [
    "print(I(4))"
   ]
  }
 ],
 "metadata": {
  "kernelspec": {
   "display_name": "Python 3 (ipykernel)",
   "language": "python",
   "name": "python3"
  },
  "language_info": {
   "codemirror_mode": {
    "name": "ipython",
    "version": 3
   },
   "file_extension": ".py",
   "mimetype": "text/x-python",
   "name": "python",
   "nbconvert_exporter": "python",
   "pygments_lexer": "ipython3",
   "version": "3.9.13"
  }
 },
 "nbformat": 4,
 "nbformat_minor": 5
}
