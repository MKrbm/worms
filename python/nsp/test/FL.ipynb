{
 "cells": [
  {
   "cell_type": "markdown",
   "id": "6e95c824",
   "metadata": {},
   "source": [
    "### Frustrated ladder"
   ]
  },
  {
   "cell_type": "code",
   "execution_count": 187,
   "id": "04258667",
   "metadata": {},
   "outputs": [],
   "source": [
    "import numpy as np\n",
    "from header import *\n",
    "from nsp.utils.base_conv import *\n",
    "import argparse\n",
    "import sys\n",
    "sys.path.append('../nsp')\n",
    "from nsp.utils.func import *\n",
    "from nsp.utils.local2global import *\n",
    "\n",
    "\n",
    "\n",
    "Sz = np.zeros([2,2])\n",
    "Sz[0,0] = 1/2\n",
    "Sz[1,1] = -1/2\n",
    "Sx = np.zeros([2,2])\n",
    "Sx[1,0] = 1/2\n",
    "Sx[0,1] = 1/2\n",
    "Sy = np.zeros([2,2], dtype=np.complex64)\n",
    "Sy[1,0] = 1j/2\n",
    "Sy[0,1] = -1j/2\n",
    "\n",
    "\n",
    "SzSz = np.kron(Sz,Sz).real.astype(np.float64)\n",
    "SxSx = np.kron(Sx,Sx).real.astype(np.float64)\n",
    "SySy = np.kron(Sy,Sy).real.astype(np.float64)\n",
    "\n",
    "lh = SzSz + SxSx + SySy\n",
    "lh = -lh"
   ]
  },
  {
   "cell_type": "code",
   "execution_count": 188,
   "id": "a2a213e5",
   "metadata": {},
   "outputs": [
    {
     "name": "stdout",
     "output_type": "stream",
     "text": [
      "[[0, 2], [1, 3], [2, 4], [3, 5], [4, 6], [5, 7], [6, 0], [7, 1]]\n",
      "[[0, 1], [2, 3], [4, 5], [6, 7]]\n",
      "[[0, 3], [2, 5], [4, 7], [6, 1], [1, 2], [3, 4], [5, 6], [7, 0]]\n"
     ]
    }
   ],
   "source": [
    "J = [1, 1, 0.5] # Jparallel, Jperpendicular, Jx\n",
    "L = 4\n",
    "bonds = [[i, (i+2)%(2*L)] for i in range(2*L)]\n",
    "print(bonds)\n",
    "H = sum_ham(lh*J[0], bonds, 2*L, 2)\n",
    "bonds = [[2*i, (2*i+1)%(2*L)] for i in range(L)]\n",
    "print(bonds)\n",
    "H += sum_ham(lh*J[1], bonds, 2*L, 2)\n",
    "bonds = [[2*i, (2*i+3)%(2*L)] for i in range(L)] + [[2*i + 1, (2*i + 2)%(2*L)] for i in range(L)]\n",
    "print(bonds)\n",
    "H += sum_ham(lh*J[2], bonds, 2*L, 2)"
   ]
  },
  {
   "cell_type": "code",
   "execution_count": 191,
   "id": "8637fe9b",
   "metadata": {},
   "outputs": [
    {
     "data": {
      "text/plain": [
       "-2.0189443149159474"
      ]
     },
     "execution_count": 191,
     "metadata": {},
     "output_type": "execute_result"
    }
   ],
   "source": [
    "E = np.linalg.eigvalsh(H)\n",
    "((-E)*np.exp(E)).sum() / np.exp(E).sum()"
   ]
  },
  {
   "cell_type": "code",
   "execution_count": null,
   "id": "3fdffcce",
   "metadata": {},
   "outputs": [],
   "source": []
  },
  {
   "cell_type": "markdown",
   "id": "4d0ce547",
   "metadata": {},
   "source": [
    "### quasi local"
   ]
  },
  {
   "cell_type": "code",
   "execution_count": 160,
   "id": "ceaae791",
   "metadata": {
    "scrolled": true
   },
   "outputs": [],
   "source": [
    "st = False\n",
    "LH = sum_ham(lh*J[0], [[0,2],[1,3]], 4, 2, st)\n",
    "LH += sum_ham(lh*J[1], [[0, 1]], 4, 2, st)\n",
    "LH += sum_ham(lh*J[2], [[0, 3], [1, 2]], 4, 2, st)"
   ]
  },
  {
   "cell_type": "code",
   "execution_count": 161,
   "id": "30262672",
   "metadata": {},
   "outputs": [
    {
     "data": {
      "text/plain": [
       "40.0"
      ]
     },
     "execution_count": 161,
     "metadata": {},
     "output_type": "execute_result"
    }
   ],
   "source": [
    "nsp.utils.func.l1_measure(LH)"
   ]
  },
  {
   "cell_type": "code",
   "execution_count": 174,
   "id": "1ef5a39b",
   "metadata": {},
   "outputs": [],
   "source": [
    "H = sum_ham(xx, [[i, (i+1)%L] for i in range(L)], L, 4)"
   ]
  },
  {
   "cell_type": "code",
   "execution_count": 180,
   "id": "feab0a5e",
   "metadata": {},
   "outputs": [],
   "source": [
    "E = np.linalg.eigvalsh(H)"
   ]
  },
  {
   "cell_type": "code",
   "execution_count": 181,
   "id": "63a95386",
   "metadata": {},
   "outputs": [
    {
     "data": {
      "text/plain": [
       "-2.7109007263031373"
      ]
     },
     "execution_count": 181,
     "metadata": {},
     "output_type": "execute_result"
    }
   ],
   "source": [
    "((-E)*np.exp(E)).sum() / np.exp(E).sum()"
   ]
  },
  {
   "cell_type": "code",
   "execution_count": 165,
   "id": "8d0488d1",
   "metadata": {},
   "outputs": [
    {
     "data": {
      "text/plain": [
       "array([-1.25, -1.25, -1.25, -1.25, -1.25, -0.25, -0.25, -0.25,  0.75,\n",
       "        0.75,  0.75,  0.75,  0.75,  0.75,  0.75,  1.75])"
      ]
     },
     "execution_count": 165,
     "metadata": {},
     "output_type": "execute_result"
    }
   ],
   "source": [
    "np.linalg.eigvalsh(LH)"
   ]
  },
  {
   "cell_type": "code",
   "execution_count": 166,
   "id": "a9bcfb38",
   "metadata": {},
   "outputs": [],
   "source": [
    "u = np.array([\n",
    "    [0,1,0,0],\n",
    "    [1/np.sqrt(2), 0, 1/np.sqrt(2), 0],\n",
    "    [-1/np.sqrt(2), 0, 1/np.sqrt(2), 0],\n",
    "    [0,0,0,1]\n",
    "])\n",
    "\n",
    "u1= np.array([\n",
    "    [0,1,0,0],\n",
    "    [1/np.sqrt(2), 0, -1/np.sqrt(2), 0],\n",
    "    [-1/np.sqrt(2), 0, -1/np.sqrt(2), 0],\n",
    "    [0,0,0,1]\n",
    "])\n",
    "\n",
    "U = np.kron(u, u1)"
   ]
  },
  {
   "cell_type": "code",
   "execution_count": 167,
   "id": "8494f8ff",
   "metadata": {},
   "outputs": [
    {
     "data": {
      "text/plain": [
       "0.0"
      ]
     },
     "execution_count": 167,
     "metadata": {},
     "output_type": "execute_result"
    }
   ],
   "source": [
    "nsp.utils.func.l1_measure(U.T @ LH @ U)"
   ]
  },
  {
   "cell_type": "code",
   "execution_count": 80,
   "id": "300eb90c",
   "metadata": {},
   "outputs": [],
   "source": [
    "Sz = np.zeros([2,2])\n",
    "Sz[0,0] = 1/2\n",
    "Sz[1,1] = -1/2\n",
    "Sx = np.zeros([2,2])\n",
    "Sx[1,0] = 1/2\n",
    "Sx[0,1] = 1/2\n",
    "Sy = np.zeros([2,2], dtype=np.complex64)\n",
    "Sy[1,0] = 1j/2\n",
    "Sy[0,1] = -1j/2\n",
    "\n",
    "Tz = np.kron(Sz, np.eye(2)) + np.kron(np.eye(2), Sz) \n",
    "Tx = np.kron(Sx, np.eye(2)) + np.kron(np.eye(2), Sx) \n",
    "Ty = np.kron(Sy, np.eye(2)) + np.kron(np.eye(2), Sy) \n",
    "\n",
    "SzSz = np.kron(Sz,Sz).real.astype(np.float64)\n",
    "SxSx = np.kron(Sx,Sx).real.astype(np.float64)\n",
    "SySy = np.kron(Sy,Sy).real.astype(np.float64)\n",
    "\n",
    "TzTz = np.kron(Tz,Tz).real.astype(np.float64)\n",
    "TxTx = np.kron(Tx,Tx).real.astype(np.float64)\n",
    "TyTy = np.kron(Ty,Ty).real.astype(np.float64)"
   ]
  },
  {
   "cell_type": "code",
   "execution_count": 118,
   "id": "ba573390",
   "metadata": {},
   "outputs": [],
   "source": [
    "LH1 = -(TzTz + TxTx + TyTy)\n",
    "LH2 = -(1/2*(Tz@Tz + Tx@Tx + Ty@Ty))"
   ]
  },
  {
   "cell_type": "code",
   "execution_count": 125,
   "id": "57bd1ff4",
   "metadata": {},
   "outputs": [
    {
     "data": {
      "text/plain": [
       "0.0"
      ]
     },
     "execution_count": 125,
     "metadata": {},
     "output_type": "execute_result"
    }
   ],
   "source": [
    "nsp.utils.func.l1_measure(U.T @ LH1 @ U)"
   ]
  },
  {
   "cell_type": "code",
   "execution_count": 173,
   "id": "6fe1a2f1",
   "metadata": {},
   "outputs": [],
   "source": [
    "xx = np.load(\"../../array/FL/original_Jp=1.0_Jx=1.0_spin/0.npy\")"
   ]
  },
  {
   "cell_type": "code",
   "execution_count": 171,
   "id": "b279be93",
   "metadata": {},
   "outputs": [
    {
     "data": {
      "text/plain": [
       "40.0"
      ]
     },
     "execution_count": 171,
     "metadata": {},
     "output_type": "execute_result"
    }
   ],
   "source": [
    "nsp.utils.func.l1_measure(np.load(\"../../array/FL/original_Jp=1.0_Jx=1.0_spin/0.npy\"))"
   ]
  },
  {
   "cell_type": "code",
   "execution_count": 179,
   "id": "f42b09e9",
   "metadata": {},
   "outputs": [],
   "source": [
    "# np.load(\"../../array/FL/optm_Jp=1.0_Jx=1.0_spin_l1/0.npy\")"
   ]
  }
 ],
 "metadata": {
  "kernelspec": {
   "display_name": "Python 3 (ipykernel)",
   "language": "python",
   "name": "python3"
  },
  "language_info": {
   "codemirror_mode": {
    "name": "ipython",
    "version": 3
   },
   "file_extension": ".py",
   "mimetype": "text/x-python",
   "name": "python",
   "nbconvert_exporter": "python",
   "pygments_lexer": "ipython3",
   "version": "3.9.13"
  }
 },
 "nbformat": 4,
 "nbformat_minor": 5
}
