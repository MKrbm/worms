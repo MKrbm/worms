{
 "cells": [
  {
   "cell_type": "markdown",
   "id": "6e95c824",
   "metadata": {},
   "source": [
    "### Frustrated ladder"
   ]
  },
  {
   "cell_type": "code",
   "execution_count": 50,
   "id": "04258667",
   "metadata": {},
   "outputs": [],
   "source": [
    "import numpy as np\n",
    "from header import *\n",
    "from nsp.utils.base_conv import *\n",
    "import argparse\n",
    "import sys\n",
    "sys.path.append('../nsp')\n",
    "from nsp.utils.func import *\n",
    "\n",
    "\n",
    "Sz = np.zeros([2,2])\n",
    "Sz[0,0] = 1/2\n",
    "Sz[1,1] = -1/2\n",
    "Sx = np.zeros([2,2])\n",
    "Sx[1,0] = 1/2\n",
    "Sx[0,1] = 1/2\n",
    "Sy = np.zeros([2,2], dtype=np.complex64)\n",
    "Sy[1,0] = 1j/2\n",
    "Sy[0,1] = -1j/2\n",
    "\n",
    "\n",
    "SzSz = np.kron(Sz,Sz).real.astype(np.float64)\n",
    "SxSx = np.kron(Sx,Sx).real.astype(np.float64)\n",
    "SySy = np.kron(Sy,Sy).real.astype(np.float64)\n",
    "\n",
    "lh = SzSz + SxSx + SySy\n",
    "lh = -lh"
   ]
  },
  {
   "cell_type": "code",
   "execution_count": 56,
   "id": "a2a213e5",
   "metadata": {},
   "outputs": [
    {
     "name": "stdout",
     "output_type": "stream",
     "text": [
      "[[0, 2], [1, 3], [2, 4], [3, 5], [4, 6], [5, 7], [6, 0], [7, 1]]\n",
      "[[0, 1], [2, 3], [4, 5], [6, 7]]\n",
      "[[0, 3], [2, 5], [4, 7], [6, 1], [1, 2], [3, 4], [5, 6], [7, 0]]\n"
     ]
    }
   ],
   "source": [
    "J = [1, 0.5, 0.5] # Jparallel, Jperpendicular, Jx\n",
    "L = 4\n",
    "bonds = [[i, (i+2)%(2*L)] for i in range(2*L)]\n",
    "print(bonds)\n",
    "H = sum_ham(lh*J[0], bonds, 2*L, 2)\n",
    "bonds = [[2*i, (2*i+1)%(2*L)] for i in range(L)]\n",
    "print(bonds)\n",
    "H += sum_ham(lh*J[1], bonds, 2*L, 2)\n",
    "bonds = [[2*i, (2*i+3)%(2*L)] for i in range(L)] + [[2*i + 1, (2*i + 2)%(2*L)] for i in range(L)]\n",
    "print(bonds)\n",
    "H += sum_ham(lh*J[2], bonds, 2*L, 2)"
   ]
  },
  {
   "cell_type": "code",
   "execution_count": 57,
   "id": "bfd0927f",
   "metadata": {},
   "outputs": [
    {
     "data": {
      "text/plain": [
       "-3.500000000000006"
      ]
     },
     "execution_count": 57,
     "metadata": {},
     "output_type": "execute_result"
    }
   ],
   "source": [
    "np.linalg.eigvalsh(H)[0]"
   ]
  },
  {
   "cell_type": "markdown",
   "id": "24a0a47f",
   "metadata": {},
   "source": [
    "### quasi local"
   ]
  },
  {
   "cell_type": "code",
   "execution_count": 58,
   "id": "ceaae791",
   "metadata": {
    "scrolled": true
   },
   "outputs": [],
   "source": [
    "LH = sum_ham(lh*J[0], [[0,2],[1,3]], 4, 2)\n",
    "LH += sum_ham(lh*J[1]/2, [[0, 1], [2, 3]], 4, 2)\n",
    "LH += sum_ham(lh*J[2], [[0, 3], [1, 2]], 4, 2)"
   ]
  },
  {
   "cell_type": "code",
   "execution_count": 59,
   "id": "1ef5a39b",
   "metadata": {},
   "outputs": [],
   "source": [
    "H = sum_ham(stoquastic(LH), [[i, (i+1)%L] for i in range(L)], L, 4)"
   ]
  },
  {
   "cell_type": "code",
   "execution_count": 60,
   "id": "e330e34d",
   "metadata": {},
   "outputs": [
    {
     "data": {
      "text/plain": [
       "4.950384037359803"
      ]
     },
     "execution_count": 60,
     "metadata": {},
     "output_type": "execute_result"
    }
   ],
   "source": [
    "np.linalg.eigvalsh(H)[-1]"
   ]
  }
 ],
 "metadata": {
  "kernelspec": {
   "display_name": "Python 3 (ipykernel)",
   "language": "python",
   "name": "python3"
  },
  "language_info": {
   "codemirror_mode": {
    "name": "ipython",
    "version": 3
   },
   "file_extension": ".py",
   "mimetype": "text/x-python",
   "name": "python",
   "nbconvert_exporter": "python",
   "pygments_lexer": "ipython3",
   "version": "3.9.13"
  }
 },
 "nbformat": 4,
 "nbformat_minor": 5
}
