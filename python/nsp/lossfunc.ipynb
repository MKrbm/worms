{
 "cells": [
  {
   "cell_type": "code",
   "execution_count": 24,
   "id": "deadly-anatomy",
   "metadata": {},
   "outputs": [],
   "source": [
    "import numpy as np\n",
    "from scipy.linalg import expm, sinm, cosm\n",
    "from scipy import sparse\n",
    "import scipy\n",
    "import sys\n",
    "sys.path.append('..')\n",
    "from importlib import reload\n",
    "from utils import optm\n",
    "import torch\n",
    "from torch import nn\n",
    "from torch.utils.data import DataLoader\n",
    "from torchvision import datasets\n",
    "from torchvision.transforms import ToTensor, Lambda"
   ]
  },
  {
   "cell_type": "code",
   "execution_count": 19,
   "id": "ea918140",
   "metadata": {},
   "outputs": [],
   "source": [
    "def loss(theta):\n",
    "    return torch.sum(theta)"
   ]
  },
  {
   "cell_type": "code",
   "execution_count": 60,
   "id": "c4f507d7",
   "metadata": {},
   "outputs": [],
   "source": [
    "tmp = torch.ones(4)\n",
    "x = torch.nn.Parameter(tmp)\n",
    "y = loss(x)\n",
    "optimizer = torch.optim.Adam([x], lr=0.2)\n",
    "y.backward()\n",
    "x.grad[0] = 0\n",
    "optimizer.step()"
   ]
  }
 ],
 "metadata": {
  "kernelspec": {
   "display_name": "Python 3 (ipykernel)",
   "language": "python",
   "name": "python3"
  },
  "language_info": {
   "codemirror_mode": {
    "name": "ipython",
    "version": 3
   },
   "file_extension": ".py",
   "mimetype": "text/x-python",
   "name": "python",
   "nbconvert_exporter": "python",
   "pygments_lexer": "ipython3",
   "version": "3.7.7"
  }
 },
 "nbformat": 4,
 "nbformat_minor": 5
}
