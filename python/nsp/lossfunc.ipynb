{
 "cells": [
  {
   "cell_type": "code",
   "execution_count": 286,
   "id": "deadly-anatomy",
   "metadata": {},
   "outputs": [],
   "source": [
    "import numpy as np\n",
    "from scipy.linalg import expm, sinm, cosm\n",
    "from scipy import sparse\n",
    "import scipy\n",
    "import sys\n",
    "sys.path.append('..')\n",
    "from importlib import reload\n",
    "import optm\n",
    "import torch\n",
    "from torch import nn\n",
    "from torch.utils.data import DataLoader\n",
    "from torchvision import datasets\n",
    "from torchvision.transforms import ToTensor, Lambda"
   ]
  },
  {
   "cell_type": "code",
   "execution_count": 287,
   "id": "8d2947cd",
   "metadata": {
    "scrolled": true
   },
   "outputs": [
    {
     "data": {
      "text/plain": [
       "<module 'optm' from '/home/keisuke/worms/python/nsp/optm.py'>"
      ]
     },
     "execution_count": 287,
     "metadata": {},
     "output_type": "execute_result"
    }
   ],
   "source": [
    "reload(optm)"
   ]
  },
  {
   "cell_type": "code",
   "execution_count": 288,
   "id": "northern-yahoo",
   "metadata": {},
   "outputs": [],
   "source": [
    "X = torch.rand((16,16),dtype=torch.float64)*2-1\n",
    "X = X + X.T"
   ]
  },
  {
   "cell_type": "code",
   "execution_count": 289,
   "id": "formal-farmer",
   "metadata": {},
   "outputs": [],
   "source": [
    "model_unitary = optm.unitary_solver([4,4],syms=True)\n",
    "model_diag = optm.diagonal_solver([4,4], syms = True)\n",
    "diag_optimizer = torch.optim.SGD(model_diag.parameters(), lr=0.001)\n",
    "# diag_optimizer = torch.optim.Adam(model_diag.parameters(), lr=0.001)\n",
    "unitary_optimizer = torch.optim.Adam(model_unitary.parameters(), lr=0.001)"
   ]
  },
  {
   "cell_type": "code",
   "execution_count": 290,
   "id": "seasonal-scoop",
   "metadata": {},
   "outputs": [
    {
     "name": "stdout",
     "output_type": "stream",
     "text": [
      "tensor(84.8454, dtype=torch.float64, grad_fn=<AddBackward0>)\n",
      "tensor(84.8454, dtype=torch.float64)\n"
     ]
    }
   ],
   "source": [
    "model_diag.matrix()\n",
    "y = model_diag(X)\n",
    "print(optm.loss_1(y))\n",
    "print(optm.loss_1(X))"
   ]
  },
  {
   "cell_type": "code",
   "execution_count": 291,
   "id": "inner-minimum",
   "metadata": {
    "scrolled": true
   },
   "outputs": [],
   "source": [
    "M, Minv = model_diag.matrix()"
   ]
  },
  {
   "cell_type": "code",
   "execution_count": 292,
   "id": "fifth-turning",
   "metadata": {},
   "outputs": [
    {
     "data": {
      "text/plain": [
       "Parameter containing:\n",
       "tensor([1., 1., 1., 1.], dtype=torch.float64, requires_grad=True)"
      ]
     },
     "execution_count": 292,
     "metadata": {},
     "output_type": "execute_result"
    }
   ],
   "source": [
    "model_diag._params3"
   ]
  },
  {
   "cell_type": "code",
   "execution_count": 293,
   "id": "rough-allowance",
   "metadata": {
    "scrolled": true
   },
   "outputs": [
    {
     "name": "stdout",
     "output_type": "stream",
     "text": [
      "0 84.84540000004077\n",
      "\n",
      "\n",
      "1000 84.84540000004077\n",
      "\n",
      "\n",
      "2000 84.84540000004077\n",
      "\n",
      "\n",
      "3000 84.84540000004077\n",
      "\n",
      "\n",
      "4000 84.84540000004077\n",
      "\n",
      "\n",
      "5000 84.84540000004077\n",
      "\n",
      "\n",
      "6000 84.84540000004077\n",
      "\n",
      "\n",
      "7000 84.84540000004077\n",
      "\n",
      "\n",
      "8000 84.84540000004077\n",
      "\n",
      "\n",
      "9000 84.84540000004077\n",
      "\n",
      "\n",
      "10000 84.84540000004077\n",
      "\n",
      "\n",
      "11000 84.84540000004077\n",
      "\n",
      "\n",
      "12000 84.84540000004077\n",
      "\n",
      "\n",
      "13000 84.84540000004077\n",
      "\n",
      "\n",
      "14000 84.84540000004077\n",
      "\n",
      "\n",
      "15000 84.84540000004077\n",
      "\n",
      "\n",
      "16000 84.84540000004077\n",
      "\n",
      "\n",
      "17000 84.84540000004077\n",
      "\n",
      "\n",
      "18000 84.84540000004077\n",
      "\n",
      "\n",
      "19000 84.84540000004077\n",
      "\n",
      "\n",
      "20000 84.84540000004077\n",
      "\n",
      "\n",
      "21000 84.84540000004077\n",
      "\n",
      "\n",
      "22000 84.84540000004077\n",
      "\n",
      "\n",
      "23000 84.84540000004077\n",
      "\n",
      "\n",
      "24000 84.84540000004077\n",
      "\n",
      "\n",
      "25000 84.84540000004077\n",
      "\n",
      "\n",
      "26000 84.84540000004077\n",
      "\n",
      "\n",
      "27000 84.84540000004077\n",
      "\n",
      "\n",
      "28000 84.84540000004077\n",
      "\n",
      "\n",
      "29000 84.84540000004077\n",
      "\n",
      "\n",
      "30000 84.84540000004077\n",
      "\n",
      "\n",
      "31000 84.84540000004077\n",
      "\n",
      "\n",
      "32000 84.84540000004077\n",
      "\n",
      "\n",
      "33000 84.84540000004077\n",
      "\n",
      "\n",
      "34000 84.84540000004077\n",
      "\n",
      "\n",
      "35000 84.84540000004077\n",
      "\n",
      "\n",
      "36000 84.84540000004077\n",
      "\n",
      "\n",
      "37000 84.84540000004077\n",
      "\n",
      "\n",
      "38000 84.84540000004077\n",
      "\n",
      "\n",
      "39000 84.84540000004077\n",
      "\n",
      "\n",
      "40000 84.84540000004077\n",
      "\n",
      "\n",
      "41000 84.84540000004077\n",
      "\n",
      "\n",
      "42000 84.84540000004077\n",
      "\n",
      "\n",
      "43000 84.84540000004077\n",
      "\n",
      "\n",
      "44000 84.84540000004077\n",
      "\n",
      "\n",
      "45000 84.84540000004077\n",
      "\n",
      "\n",
      "46000 84.84540000004077\n",
      "\n",
      "\n",
      "47000 84.84540000004077\n",
      "\n",
      "\n"
     ]
    },
    {
     "ename": "KeyboardInterrupt",
     "evalue": "",
     "output_type": "error",
     "traceback": [
      "\u001b[0;31m---------------------------------------------------------------------------\u001b[0m",
      "\u001b[0;31mKeyboardInterrupt\u001b[0m                         Traceback (most recent call last)",
      "\u001b[0;32m<ipython-input-293-a4c2cbc55079>\u001b[0m in \u001b[0;36m<module>\u001b[0;34m\u001b[0m\n\u001b[1;32m      9\u001b[0m     \u001b[0mdiag_optimizer\u001b[0m\u001b[0;34m.\u001b[0m\u001b[0mzero_grad\u001b[0m\u001b[0;34m(\u001b[0m\u001b[0;34m)\u001b[0m\u001b[0;34m\u001b[0m\u001b[0;34m\u001b[0m\u001b[0m\n\u001b[1;32m     10\u001b[0m     \u001b[0mloss\u001b[0m\u001b[0;34m.\u001b[0m\u001b[0mbackward\u001b[0m\u001b[0;34m(\u001b[0m\u001b[0;34m)\u001b[0m\u001b[0;34m\u001b[0m\u001b[0;34m\u001b[0m\u001b[0m\n\u001b[0;32m---> 11\u001b[0;31m     \u001b[0mdiag_optimizer\u001b[0m\u001b[0;34m.\u001b[0m\u001b[0mstep\u001b[0m\u001b[0;34m(\u001b[0m\u001b[0;34m)\u001b[0m\u001b[0;34m\u001b[0m\u001b[0;34m\u001b[0m\u001b[0m\n\u001b[0m",
      "\u001b[0;32m~/miniconda3/envs/quspin/lib/python3.7/site-packages/torch/optim/optimizer.py\u001b[0m in \u001b[0;36mwrapper\u001b[0;34m(*args, **kwargs)\u001b[0m\n\u001b[1;32m     85\u001b[0m                 \u001b[0mobj\u001b[0m\u001b[0;34m,\u001b[0m \u001b[0;34m*\u001b[0m\u001b[0m_\u001b[0m \u001b[0;34m=\u001b[0m \u001b[0margs\u001b[0m\u001b[0;34m\u001b[0m\u001b[0;34m\u001b[0m\u001b[0m\n\u001b[1;32m     86\u001b[0m                 \u001b[0mprofile_name\u001b[0m \u001b[0;34m=\u001b[0m \u001b[0;34m\"Optimizer.step#{}.step\"\u001b[0m\u001b[0;34m.\u001b[0m\u001b[0mformat\u001b[0m\u001b[0;34m(\u001b[0m\u001b[0mobj\u001b[0m\u001b[0;34m.\u001b[0m\u001b[0m__class__\u001b[0m\u001b[0;34m.\u001b[0m\u001b[0m__name__\u001b[0m\u001b[0;34m)\u001b[0m\u001b[0;34m\u001b[0m\u001b[0;34m\u001b[0m\u001b[0m\n\u001b[0;32m---> 87\u001b[0;31m                 \u001b[0;32mwith\u001b[0m \u001b[0mtorch\u001b[0m\u001b[0;34m.\u001b[0m\u001b[0mautograd\u001b[0m\u001b[0;34m.\u001b[0m\u001b[0mprofiler\u001b[0m\u001b[0;34m.\u001b[0m\u001b[0mrecord_function\u001b[0m\u001b[0;34m(\u001b[0m\u001b[0mprofile_name\u001b[0m\u001b[0;34m)\u001b[0m\u001b[0;34m:\u001b[0m\u001b[0;34m\u001b[0m\u001b[0;34m\u001b[0m\u001b[0m\n\u001b[0m\u001b[1;32m     88\u001b[0m                     \u001b[0;32mreturn\u001b[0m \u001b[0mfunc\u001b[0m\u001b[0;34m(\u001b[0m\u001b[0;34m*\u001b[0m\u001b[0margs\u001b[0m\u001b[0;34m,\u001b[0m \u001b[0;34m**\u001b[0m\u001b[0mkwargs\u001b[0m\u001b[0;34m)\u001b[0m\u001b[0;34m\u001b[0m\u001b[0;34m\u001b[0m\u001b[0m\n\u001b[1;32m     89\u001b[0m             \u001b[0;32mreturn\u001b[0m \u001b[0mwrapper\u001b[0m\u001b[0;34m\u001b[0m\u001b[0;34m\u001b[0m\u001b[0m\n",
      "\u001b[0;32m~/miniconda3/envs/quspin/lib/python3.7/site-packages/torch/autograd/profiler.py\u001b[0m in \u001b[0;36m__enter__\u001b[0;34m(self)\u001b[0m\n\u001b[1;32m    433\u001b[0m \u001b[0;34m\u001b[0m\u001b[0m\n\u001b[1;32m    434\u001b[0m     \u001b[0;32mdef\u001b[0m \u001b[0m__enter__\u001b[0m\u001b[0;34m(\u001b[0m\u001b[0mself\u001b[0m\u001b[0;34m)\u001b[0m\u001b[0;34m:\u001b[0m\u001b[0;34m\u001b[0m\u001b[0;34m\u001b[0m\u001b[0m\n\u001b[0;32m--> 435\u001b[0;31m         \u001b[0mself\u001b[0m\u001b[0;34m.\u001b[0m\u001b[0mhandle\u001b[0m \u001b[0;34m=\u001b[0m \u001b[0mtorch\u001b[0m\u001b[0;34m.\u001b[0m\u001b[0mops\u001b[0m\u001b[0;34m.\u001b[0m\u001b[0mprofiler\u001b[0m\u001b[0;34m.\u001b[0m\u001b[0m_record_function_enter\u001b[0m\u001b[0;34m(\u001b[0m\u001b[0mself\u001b[0m\u001b[0;34m.\u001b[0m\u001b[0mname\u001b[0m\u001b[0;34m)\u001b[0m\u001b[0;34m\u001b[0m\u001b[0;34m\u001b[0m\u001b[0m\n\u001b[0m\u001b[1;32m    436\u001b[0m         \u001b[0;32mreturn\u001b[0m \u001b[0mself\u001b[0m\u001b[0;34m\u001b[0m\u001b[0;34m\u001b[0m\u001b[0m\n\u001b[1;32m    437\u001b[0m \u001b[0;34m\u001b[0m\u001b[0m\n",
      "\u001b[0;31mKeyboardInterrupt\u001b[0m: "
     ]
    }
   ],
   "source": [
    "for t in range(50000):\n",
    "    y = model_diag(X)\n",
    "    loss = optm.loss_1(y)\n",
    "    if t % 1000 == 0:\n",
    "#         print(y)\n",
    "        print(t, loss.item())\n",
    "#         print(next(model_diag.parameters()))\n",
    "        print(\"\\n\")\n",
    "    diag_optimizer.zero_grad()\n",
    "    loss.backward()\n",
    "    diag_optimizer.step()"
   ]
  },
  {
   "cell_type": "code",
   "execution_count": 270,
   "id": "competent-syracuse",
   "metadata": {},
   "outputs": [
    {
     "data": {
      "text/plain": [
       "tensor([-1.0000,  1.0000, -1.0000, -1.0000], dtype=torch.float64,\n",
       "       grad_fn=<TanhBackward0>)"
      ]
     },
     "execution_count": 270,
     "metadata": {},
     "output_type": "execute_result"
    }
   ],
   "source": [
    "torch.tanh(100*(model_diag._params3 * 2 - 1))"
   ]
  },
  {
   "cell_type": "code",
   "execution_count": 190,
   "id": "industrial-cheat",
   "metadata": {},
   "outputs": [
    {
     "data": {
      "text/plain": [
       "Parameter containing:\n",
       "tensor([0.0525, 0.3825, 0.7558, 0.1916], dtype=torch.float64,\n",
       "       requires_grad=True)"
      ]
     },
     "execution_count": 190,
     "metadata": {},
     "output_type": "execute_result"
    }
   ],
   "source": [
    "model_diag._params3.grad\n",
    "diag_optimizer.step()\n",
    "model_diag._params3"
   ]
  },
  {
   "cell_type": "code",
   "execution_count": 84,
   "id": "abandoned-prototype",
   "metadata": {
    "scrolled": true
   },
   "outputs": [
    {
     "name": "stdout",
     "output_type": "stream",
     "text": [
      "0 86.48585808676306\n",
      "\n",
      "\n",
      "1000 86.48585808676306\n",
      "\n",
      "\n",
      "0 111.80780721366573\n",
      "\n",
      "\n"
     ]
    }
   ],
   "source": [
    "for t in range(10000):\n",
    "    y = model_unitary(X)\n",
    "    loss = optm.loss_1(y)\n",
    "    if t % 1000 == 0:\n",
    "#         print(y)\n",
    "        print(t, loss.item())\n",
    "#         print(next(model.parameters()))\n",
    "        print(\"\\n\")\n",
    "    unitary_optimizer.zero_grad()\n",
    "    loss.backward()\n",
    "    unitary_optimizer.step()\n",
    "with torch.no_grad():\n",
    "    X = model_unitary(X)\n",
    "\n",
    "\n",
    "for t in range(10000):\n",
    "    y = model_diag(X)\n",
    "    loss = optm.loss_1(y)\n",
    "    if t % 1000 == 0:\n",
    "#         print(y)\n",
    "        print(t, loss.item())\n",
    "#         print(next(model.parameters()))\n",
    "        print(\"\\n\")\n",
    "    unitary_optimizer.zero_grad()\n",
    "    loss.backward()\n",
    "    unitary_optimizer.step()"
   ]
  },
  {
   "cell_type": "code",
   "execution_count": 47,
   "id": "described-alias",
   "metadata": {},
   "outputs": [
    {
     "data": {
      "text/plain": [
       "tensor([[0.2162,    inf,    inf,    inf,    inf,    inf,    inf,    inf,    inf,\n",
       "            inf,    inf,    inf,    inf,    inf,    inf,    inf],\n",
       "        [   inf, 0.2072,    inf,    inf,    inf,    inf,    inf,    inf,    inf,\n",
       "            inf,    inf,    inf,    inf,    inf,    inf,    inf],\n",
       "        [   inf,    inf, 0.2028,    inf,    inf,    inf,    inf,    inf,    inf,\n",
       "            inf,    inf,    inf,    inf,    inf,    inf,    inf],\n",
       "        [   inf,    inf,    inf, 0.3929,    inf,    inf,    inf,    inf,    inf,\n",
       "            inf,    inf,    inf,    inf,    inf,    inf,    inf],\n",
       "        [   inf,    inf,    inf,    inf, 0.2072,    inf,    inf,    inf,    inf,\n",
       "            inf,    inf,    inf,    inf,    inf,    inf,    inf],\n",
       "        [   inf,    inf,    inf,    inf,    inf, 0.1986,    inf,    inf,    inf,\n",
       "            inf,    inf,    inf,    inf,    inf,    inf,    inf],\n",
       "        [   inf,    inf,    inf,    inf,    inf,    inf, 0.1943,    inf,    inf,\n",
       "            inf,    inf,    inf,    inf,    inf,    inf,    inf],\n",
       "        [   inf,    inf,    inf,    inf,    inf,    inf,    inf, 0.3765,    inf,\n",
       "            inf,    inf,    inf,    inf,    inf,    inf,    inf],\n",
       "        [   inf,    inf,    inf,    inf,    inf,    inf,    inf,    inf, 0.2028,\n",
       "            inf,    inf,    inf,    inf,    inf,    inf,    inf],\n",
       "        [   inf,    inf,    inf,    inf,    inf,    inf,    inf,    inf,    inf,\n",
       "         0.1943,    inf,    inf,    inf,    inf,    inf,    inf],\n",
       "        [   inf,    inf,    inf,    inf,    inf,    inf,    inf,    inf,    inf,\n",
       "            inf, 0.1901,    inf,    inf,    inf,    inf,    inf],\n",
       "        [   inf,    inf,    inf,    inf,    inf,    inf,    inf,    inf,    inf,\n",
       "            inf,    inf, 0.3683,    inf,    inf,    inf,    inf],\n",
       "        [   inf,    inf,    inf,    inf,    inf,    inf,    inf,    inf,    inf,\n",
       "            inf,    inf,    inf, 0.3929,    inf,    inf,    inf],\n",
       "        [   inf,    inf,    inf,    inf,    inf,    inf,    inf,    inf,    inf,\n",
       "            inf,    inf,    inf,    inf, 0.3765,    inf,    inf],\n",
       "        [   inf,    inf,    inf,    inf,    inf,    inf,    inf,    inf,    inf,\n",
       "            inf,    inf,    inf,    inf,    inf, 0.3683,    inf],\n",
       "        [   inf,    inf,    inf,    inf,    inf,    inf,    inf,    inf,    inf,\n",
       "            inf,    inf,    inf,    inf,    inf,    inf, 0.7137]],\n",
       "       dtype=torch.float64, grad_fn=<MulBackward0>)"
      ]
     },
     "execution_count": 47,
     "metadata": {},
     "output_type": "execute_result"
    }
   ],
   "source": [
    "1/model3.matrix"
   ]
  },
  {
   "cell_type": "code",
   "execution_count": null,
   "id": "focal-lecture",
   "metadata": {},
   "outputs": [],
   "source": []
  },
  {
   "cell_type": "code",
   "execution_count": 17,
   "id": "8478dfe1",
   "metadata": {},
   "outputs": [],
   "source": [
    "# u = model.one_site_matrix.data\n",
    "# U = torch.kron(u,u)\n",
    "U = model.matrix"
   ]
  },
  {
   "cell_type": "code",
   "execution_count": 18,
   "id": "05bde901",
   "metadata": {
    "scrolled": true
   },
   "outputs": [
    {
     "data": {
      "text/plain": [
       "(tensor([ 0,  0,  0,  0,  0,  0,  1,  1,  1,  1,  1,  1,  1,  2,  2,  2,  2,  2,\n",
       "          2,  2,  3,  3,  3,  3,  3,  3,  3,  3,  4,  4,  4,  4,  4,  5,  5,  5,\n",
       "          5,  5,  5,  5,  6,  6,  6,  6,  6,  6,  6,  6,  6,  6,  7,  7,  7,  7,\n",
       "          8,  8,  8,  8,  8,  8,  9,  9,  9,  9,  9,  9, 10, 10, 10, 10, 10, 10,\n",
       "         10, 11, 11, 11, 11, 12, 12, 12, 12, 12, 12, 12, 12, 13, 13, 13, 13, 13,\n",
       "         13, 14, 14, 14, 14, 14, 15, 15, 15, 15, 15, 15, 15, 15, 15]),\n",
       " tensor([ 0,  1,  4,  5,  9, 15,  0,  1,  3,  6, 10, 12, 13,  6,  8,  9, 10, 12,\n",
       "         14, 15,  1,  3,  5,  6,  7,  8, 12, 15,  0,  8, 10, 12, 13,  0,  3,  5,\n",
       "          6,  7,  8, 14,  1,  2,  3,  5,  6,  9, 10, 11, 14, 15,  3,  5, 11, 12,\n",
       "          2,  3,  4,  5,  8, 15,  0,  2,  6, 12, 13, 15,  1,  2,  4,  6, 11, 13,\n",
       "         15,  6,  7, 10, 11,  1,  2,  3,  4,  7,  9, 13, 14,  1,  4,  9, 10, 12,\n",
       "         15,  2,  5,  6, 12, 15,  0,  2,  3,  6,  8,  9, 10, 13, 14]))"
      ]
     },
     "execution_count": 18,
     "metadata": {},
     "output_type": "execute_result"
    }
   ],
   "source": [
    "tmp = U @ X @ U.T\n",
    "torch.where(tmp < 0)"
   ]
  },
  {
   "cell_type": "code",
   "execution_count": 19,
   "id": "eb0a9a8a",
   "metadata": {},
   "outputs": [
    {
     "data": {
      "text/plain": [
       "tensor([[-1.2637e+00, -5.9350e-01,  3.2222e-01,  4.2895e-03, -1.7757e-01,\n",
       "         -1.3073e-01,  4.1947e-01,  1.0912e+00,  5.3388e-01, -1.2388e+00,\n",
       "          2.7204e-01,  8.0699e-02,  3.4655e-01,  1.2000e+00,  1.5556e+00,\n",
       "         -1.5535e+00],\n",
       "        [-5.9350e-01, -5.7445e-01,  1.6736e+00, -1.0549e-01,  6.3196e-01,\n",
       "          7.1800e-01, -7.1169e-03,  6.4767e-01,  2.0338e-01,  9.0001e-01,\n",
       "         -6.2547e-02,  1.9446e-01, -1.8408e+00, -8.8294e-02,  1.3914e-01,\n",
       "          1.2739e+00],\n",
       "        [ 3.2222e-01,  1.6736e+00,  7.6978e-01,  3.4935e-01,  1.0349e+00,\n",
       "          4.8983e-01, -4.9617e-01,  1.7991e+00, -8.7214e-01, -2.6135e-01,\n",
       "         -6.5645e-02,  1.3359e-01, -2.9210e-01,  8.0559e-01, -1.7937e-01,\n",
       "         -3.9844e-01],\n",
       "        [ 4.2895e-03, -1.0549e-01,  3.4935e-01, -6.2874e-01,  8.6135e-01,\n",
       "         -2.5092e-02, -3.2712e-01, -4.5880e-02, -1.7703e-01,  9.6211e-02,\n",
       "          1.9591e-01,  5.0951e-01, -8.2023e-01,  1.1158e+00,  2.6127e-01,\n",
       "         -1.1396e-01],\n",
       "        [-1.7757e-01,  6.3196e-01,  1.0349e+00,  8.6135e-01,  1.1183e+00,\n",
       "          5.5770e-01,  9.0113e-01,  3.6774e-02, -1.0520e+00,  4.9392e-01,\n",
       "         -2.3036e+00,  5.1466e-01, -1.2735e+00, -8.6884e-01,  2.3295e-01,\n",
       "          1.2630e-01],\n",
       "        [-1.3073e-01,  7.1800e-01,  4.8983e-01, -2.5092e-02,  5.5770e-01,\n",
       "         -4.5138e+00, -3.6787e-01, -1.2774e+00, -3.7709e-02,  1.0215e+00,\n",
       "          1.7168e+00,  1.1572e+00,  4.2178e-03,  2.1864e-01, -1.0071e+00,\n",
       "          2.7940e-01],\n",
       "        [ 4.1947e-01, -7.1169e-03, -4.9617e-01, -3.2712e-01,  9.0113e-01,\n",
       "         -3.6787e-01, -1.5337e+00,  6.4740e-01,  1.7755e+00, -8.4232e-01,\n",
       "         -1.5739e+00, -1.4390e+00,  8.4886e-01,  1.1708e+00, -1.1526e-01,\n",
       "         -1.3417e-01],\n",
       "        [ 1.0912e+00,  6.4767e-01,  1.7991e+00, -4.5880e-02,  3.6774e-02,\n",
       "         -1.2774e+00,  6.4740e-01,  1.5399e+00,  1.2732e+00,  1.1229e+00,\n",
       "          9.5237e-01, -1.4707e+00, -2.0518e-01,  4.2570e-01,  2.7301e+00,\n",
       "          5.7675e-01],\n",
       "        [ 5.3388e-01,  2.0338e-01, -8.7214e-01, -1.7703e-01, -1.0520e+00,\n",
       "         -3.7709e-02,  1.7755e+00,  1.2732e+00, -5.9049e-01,  1.5238e-01,\n",
       "          1.1230e+00,  2.7874e-01,  6.1924e-01,  6.4388e-01,  2.9038e-02,\n",
       "         -6.5624e-01],\n",
       "        [-1.2388e+00,  9.0001e-01, -2.6135e-01,  9.6211e-02,  4.9392e-01,\n",
       "          1.0215e+00, -8.4232e-01,  1.1229e+00,  1.5238e-01,  2.2115e+00,\n",
       "          4.7394e-01,  3.9928e-01, -3.6302e-01, -1.0685e-01,  6.4012e-01,\n",
       "         -1.3089e-01],\n",
       "        [ 2.7204e-01, -6.2547e-02, -6.5645e-02,  1.9591e-01, -2.3036e+00,\n",
       "          1.7168e+00, -1.5739e+00,  9.5237e-01,  1.1230e+00,  4.7394e-01,\n",
       "          6.0209e-01, -8.0139e-01,  4.8301e-01, -7.5120e-01,  1.2424e-02,\n",
       "         -1.0917e+00],\n",
       "        [ 8.0699e-02,  1.9446e-01,  1.3359e-01,  5.0951e-01,  5.1466e-01,\n",
       "          1.1572e+00, -1.4390e+00, -1.4707e+00,  2.7874e-01,  3.9928e-01,\n",
       "         -8.0139e-01, -2.0549e-01,  1.0797e+00,  1.9792e-01,  6.9585e-01,\n",
       "          7.4200e-01],\n",
       "        [ 3.4655e-01, -1.8408e+00, -2.9210e-01, -8.2023e-01, -1.2735e+00,\n",
       "          4.2178e-03,  8.4886e-01, -2.0518e-01,  6.1924e-01, -3.6302e-01,\n",
       "          4.8301e-01,  1.0797e+00,  4.0409e-02, -1.6559e+00, -6.0628e-02,\n",
       "          6.8497e-01],\n",
       "        [ 1.2000e+00, -8.8294e-02,  8.0559e-01,  1.1158e+00, -8.6884e-01,\n",
       "          2.1864e-01,  1.1708e+00,  4.2570e-01,  6.4388e-01, -1.0685e-01,\n",
       "         -7.5120e-01,  1.9792e-01, -1.6559e+00,  1.5277e+00,  5.6503e-02,\n",
       "         -1.5144e-01],\n",
       "        [ 1.5556e+00,  1.3914e-01, -1.7937e-01,  2.6127e-01,  2.3295e-01,\n",
       "         -1.0071e+00, -1.1526e-01,  2.7301e+00,  2.9038e-02,  6.4012e-01,\n",
       "          1.2424e-02,  6.9585e-01, -6.0628e-02,  5.6503e-02,  1.6994e+00,\n",
       "         -2.7559e-01],\n",
       "        [-1.5535e+00,  1.2739e+00, -3.9844e-01, -1.1396e-01,  1.2630e-01,\n",
       "          2.7940e-01, -1.3417e-01,  5.7675e-01, -6.5624e-01, -1.3089e-01,\n",
       "         -1.0917e+00,  7.4200e-01,  6.8497e-01, -1.5144e-01, -2.7559e-01,\n",
       "          1.4745e-01]], dtype=torch.float64, grad_fn=<MmBackward0>)"
      ]
     },
     "execution_count": 19,
     "metadata": {},
     "output_type": "execute_result"
    }
   ],
   "source": [
    "tmp"
   ]
  },
  {
   "cell_type": "code",
   "execution_count": 22,
   "id": "c8ec0189",
   "metadata": {},
   "outputs": [
    {
     "data": {
      "text/plain": [
       "tensor([[ 0.2502,  0.0000,  0.0000,  0.0000,  0.0000,  0.0000],\n",
       "        [ 0.0000, -0.0757,  0.0000,  0.0000,  0.0000,  0.0000],\n",
       "        [ 0.0000,  0.0000,  0.0721,  0.0000,  0.0000,  0.0000],\n",
       "        [ 0.0000,  0.0000,  0.0000,  0.4275,  0.0000,  0.0000],\n",
       "        [ 0.0000,  0.0000,  0.0000,  0.0000,  0.8681,  0.0000],\n",
       "        [ 0.0000,  0.0000,  0.0000,  0.0000,  0.0000, -0.0988]],\n",
       "       grad_fn=<DiagBackward0>)"
      ]
     },
     "execution_count": 22,
     "metadata": {},
     "output_type": "execute_result"
    }
   ],
   "source": [
    "torch.diag(model._params)"
   ]
  },
  {
   "cell_type": "code",
   "execution_count": null,
   "id": "8d8180eb",
   "metadata": {},
   "outputs": [],
   "source": []
  }
 ],
 "metadata": {
  "kernelspec": {
   "display_name": "Python 3",
   "language": "python",
   "name": "python3"
  },
  "language_info": {
   "codemirror_mode": {
    "name": "ipython",
    "version": 3
   },
   "file_extension": ".py",
   "mimetype": "text/x-python",
   "name": "python",
   "nbconvert_exporter": "python",
   "pygments_lexer": "ipython3",
   "version": "3.7.9"
  }
 },
 "nbformat": 4,
 "nbformat_minor": 5
}
