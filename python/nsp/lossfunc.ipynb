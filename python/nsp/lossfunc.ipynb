{
 "cells": [
  {
   "cell_type": "code",
   "execution_count": 1,
   "id": "deadly-anatomy",
   "metadata": {},
   "outputs": [],
   "source": [
    "import numpy as np\n",
    "from scipy.linalg import expm, sinm, cosm\n",
    "from scipy import sparse\n",
    "import scipy\n",
    "import sys\n",
    "sys.path.append('..')\n",
    "from importlib import reload\n",
    "import optim as opm\n",
    "import torch\n",
    "from torch import nn\n",
    "from torch.utils.data import DataLoader\n",
    "from torchvision import datasets\n",
    "from torchvision.transforms import ToTensor, Lambda"
   ]
  },
  {
   "cell_type": "code",
   "execution_count": 68,
   "id": "7db78f1c",
   "metadata": {},
   "outputs": [],
   "source": [
    "def loss_1(A):\n",
    "#     A = -A**2\n",
    "    A = torch.nn.ReLU()(-A)\n",
    "    return - torch.trace(A) + A.sum()\n",
    "    \n",
    "    \n",
    "class unitary_solver(torch.nn.Module):\n",
    "    def __init__(self,sps_list):\n",
    "        super(unitary_solver, self).__init__()\n",
    "        self.sps_list = sps_list\n",
    "        self.generators = []\n",
    "        self._n_params = []\n",
    "        for N in sps_list:\n",
    "            self.generators.append(torch.tensor(self.make_generator(N), requires_grad=False))\n",
    "            self._n_params.append(int(N*(N-1)/2))\n",
    "        tmp = torch.rand(np.sum(self._n_params))\n",
    "        self._params = torch.nn.Parameter(tmp)\n",
    "        self._size = np.prod(sps_list)\n",
    "        \n",
    "    def forward(self, x):\n",
    "        assert x.shape[0] == x.shape[1], \"require square matrix\"\n",
    "        assert x.shape[0] == self._size\n",
    "        x = self.matrix @ x @ self.matrix.T\n",
    "        return x\n",
    "    \n",
    "    \n",
    "    @property\n",
    "    def params(self):\n",
    "        return self._params\n",
    "    \n",
    "    @property\n",
    "    def n_params(self):\n",
    "        return self._n_params\n",
    "    \n",
    "    def set_params(self,params):\n",
    "        self._params[:] = params[:]\n",
    "    \n",
    "    @property\n",
    "    def matrix(self):\n",
    "        tmp = self._params[:,None,None] * self.generators[i]\n",
    "        return torch.matrix_exp(tmp.sum(axis=0))\n",
    "    \n",
    "    @staticmethod\n",
    "    def make_generator(N):\n",
    "        tmp_list = []\n",
    "        for i, j in [[i,j] for i in range(N) for j in range(i+1,N)]:\n",
    "            tmp = np.zeros((N,N), dtype=np.float64)\n",
    "            tmp[i,j] = 1\n",
    "            tmp[j,i] = -1\n",
    "            tmp_list.append(tmp)\n",
    "        return np.array(tmp_list)"
   ]
  },
  {
   "cell_type": "code",
   "execution_count": 69,
   "id": "dominant-plant",
   "metadata": {},
   "outputs": [
    {
     "data": {
      "text/plain": [
       "tensor([[ 0.7625, -1.6185,  0.6985, -0.7313],\n",
       "        [-1.6185,  0.9239, -0.8712,  0.3864],\n",
       "        [ 0.6985, -0.8712,  0.1769, -1.6185],\n",
       "        [-0.7313,  0.3864, -1.6185,  0.6398]], dtype=torch.float64,\n",
       "       grad_fn=<MmBackward0>)"
      ]
     },
     "execution_count": 69,
     "metadata": {},
     "output_type": "execute_result"
    }
   ],
   "source": [
    "model(X)"
   ]
  },
  {
   "cell_type": "code",
   "execution_count": 70,
   "id": "swedish-praise",
   "metadata": {},
   "outputs": [
    {
     "data": {
      "text/plain": [
       "tensor(9.6791, dtype=torch.float64, grad_fn=<AddBackward0>)"
      ]
     },
     "execution_count": 70,
     "metadata": {},
     "output_type": "execute_result"
    }
   ],
   "source": [
    "loss_1(y)"
   ]
  },
  {
   "cell_type": "code",
   "execution_count": 71,
   "id": "northern-yahoo",
   "metadata": {},
   "outputs": [],
   "source": [
    "X = torch.rand((4,4),dtype=torch.float64)\n",
    "X = X + X.T\n",
    "model = unitary_solver([2,2])\n",
    "optimizer = torch.optim.SGD(model.parameters(), lr=0.03, momentum=0, weight_decay=0)"
   ]
  },
  {
   "cell_type": "code",
   "execution_count": 72,
   "id": "abandoned-prototype",
   "metadata": {
    "scrolled": true
   },
   "outputs": [
    {
     "name": "stdout",
     "output_type": "stream",
     "text": [
      "0 1.6556026824586438\n",
      "Parameter containing:\n",
      "tensor([0.7011, 0.6087], requires_grad=True)\n",
      "\n",
      "\n",
      "1000 0.0\n",
      "Parameter containing:\n",
      "tensor([0.2785, 0.2788], requires_grad=True)\n",
      "\n",
      "\n"
     ]
    }
   ],
   "source": [
    "for t in range(2000):\n",
    "    y = model(X)\n",
    "    loss = loss_1(y)\n",
    "    if t % 1000 == 0:\n",
    "#         print(y)\n",
    "        print(t, loss.item())\n",
    "        print(next(model.parameters()))\n",
    "        print(\"\\n\")\n",
    "    optimizer.zero_grad()\n",
    "    loss.backward()\n",
    "    optimizer.step()"
   ]
  },
  {
   "cell_type": "code",
   "execution_count": 73,
   "id": "meaning-edmonton",
   "metadata": {},
   "outputs": [
    {
     "data": {
      "text/plain": [
       "tensor([[2.1223, 1.1205, 1.2999, 0.1002],\n",
       "        [1.1205, 1.0407, 0.4026, 0.0177],\n",
       "        [1.2999, 0.4026, 1.2854, 0.1551],\n",
       "        [0.1002, 0.0177, 0.1551, 0.3699]], dtype=torch.float64,\n",
       "       grad_fn=<MmBackward0>)"
      ]
     },
     "execution_count": 73,
     "metadata": {},
     "output_type": "execute_result"
    }
   ],
   "source": [
    "model.matrix @ X @ model.matrix.T"
   ]
  }
 ],
 "metadata": {
  "kernelspec": {
   "display_name": "Python 3",
   "language": "python",
   "name": "python3"
  },
  "language_info": {
   "codemirror_mode": {
    "name": "ipython",
    "version": 3
   },
   "file_extension": ".py",
   "mimetype": "text/x-python",
   "name": "python",
   "nbconvert_exporter": "python",
   "pygments_lexer": "ipython3",
   "version": "3.7.9"
  }
 },
 "nbformat": 4,
 "nbformat_minor": 5
}
