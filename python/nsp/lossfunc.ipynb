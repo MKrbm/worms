{
 "cells": [
  {
   "cell_type": "code",
   "execution_count": 15,
   "id": "deadly-anatomy",
   "metadata": {},
   "outputs": [
    {
     "data": {
      "text/plain": [
       "<module 'utils.optm' from '/Users/keisukemurota/Documents/todo/worms/python/nsp/utils/optm.py'>"
      ]
     },
     "execution_count": 15,
     "metadata": {},
     "output_type": "execute_result"
    }
   ],
   "source": [
    "import numpy as np\n",
    "from scipy.linalg import expm, sinm, cosm\n",
    "from scipy import sparse\n",
    "import scipy\n",
    "import sys\n",
    "sys.path.append('..')\n",
    "from importlib import reload\n",
    "from utils import optm\n",
    "import torch\n",
    "from torch import nn\n",
    "from torch.utils.data import DataLoader\n",
    "from torchvision import datasets\n",
    "from torchvision.transforms import ToTensor, Lambda\n",
    "from importlib import reload\n",
    "reload(optm)"
   ]
  },
  {
   "cell_type": "code",
   "execution_count": 16,
   "id": "c4f507d7",
   "metadata": {},
   "outputs": [],
   "source": [
    "tmp = torch.ones(4)\n",
    "x = torch.nn.Parameter(tmp)\n",
    "y = loss(x)\n",
    "optimizer = torch.optim.Adam([x], lr=0.2)\n",
    "y.backward()\n",
    "x.grad[0] = 0\n",
    "optimizer.step()"
   ]
  },
  {
   "cell_type": "markdown",
   "id": "38f1870b",
   "metadata": {},
   "source": [
    "### test new algorithm"
   ]
  },
  {
   "cell_type": "code",
   "execution_count": 17,
   "id": "e9c54ef7",
   "metadata": {},
   "outputs": [],
   "source": [
    "def get_mat_status(X):\n",
    "    X = np.array(X)\n",
    "    L = X.shape[0]\n",
    "    lps = int(np.sqrt(L))\n",
    "    if lps**2 != L:\n",
    "        print(\"! ---- This matrix might not be the bond operator ---- !\")\n",
    "    if not np.all(np.diag(X)>=0):\n",
    "        print(\"! ---- diagonal elements of the local hamiltonian should be non negative ---- !\")\n",
    "        \n",
    "    E, V = np.linalg.eigh(X)\n",
    "    return L, lps, E\n",
    "\n",
    "def optim_matrix_symm(X, N_iter, lr, optm_method = torch.optim.Adam, loss_func = optm.loss_eig):\n",
    "    L, lps, E = get_mat_status(X)\n",
    "    model = optm.unitary_solver([lps,lps],syms=True)\n",
    "    optimizer = optm_method(model.parameters(), lr=lr)\n",
    "    \n",
    "    print(\"target loss : {:.2f}\\n\".format(E[-1]))\n",
    "    \n",
    "    print(\"-\"*10, \"iteration start\", \"-\"*10)\n",
    "    \n",
    "    for t in range(N_iter):\n",
    "        y = model(X)\n",
    "        loss = loss_func(y)\n",
    "        if t % 1000 == 0:\n",
    "            print(\"iteration : {:4d}   loss : {:.3f}\".format(t,loss.item()))\n",
    "        optimizer.zero_grad()\n",
    "        loss.backward()\n",
    "        optimizer.step()\n",
    "    return model"
   ]
  },
  {
   "cell_type": "code",
   "execution_count": 20,
   "id": "0929c9e7",
   "metadata": {},
   "outputs": [],
   "source": [
    "L = 5\n",
    "X = torch.rand((L**2,L**2),dtype=torch.float64)*2-1\n",
    "X = X + X.T + torch.eye(L**2)*2"
   ]
  },
  {
   "cell_type": "code",
   "execution_count": 27,
   "id": "e5fb83db",
   "metadata": {},
   "outputs": [
    {
     "name": "stdout",
     "output_type": "stream",
     "text": [
      "target loss : 8.22\n",
      "\n",
      "---------- iteration start ----------\n",
      "iteration :    0   loss : 16.294\n",
      "iteration : 1000   loss : 14.992\n",
      "iteration : 2000   loss : 14.992\n",
      "iteration : 3000   loss : 14.992\n",
      "iteration : 4000   loss : 14.992\n",
      "\n",
      "\n",
      " -------------- results --------------\n",
      "target loss      : 8.22\n",
      "loss before optm : 16.76\n",
      "loss after optm  : 14.99\n"
     ]
    }
   ],
   "source": [
    "reload(optm)\n",
    "model = optm.optim_matrix_symm(X, 5000, 0.001)"
   ]
  }
 ],
 "metadata": {
  "kernelspec": {
   "display_name": "Python 3 (ipykernel)",
   "language": "python",
   "name": "python3"
  },
  "language_info": {
   "codemirror_mode": {
    "name": "ipython",
    "version": 3
   },
   "file_extension": ".py",
   "mimetype": "text/x-python",
   "name": "python",
   "nbconvert_exporter": "python",
   "pygments_lexer": "ipython3",
   "version": "3.7.7"
  }
 },
 "nbformat": 4,
 "nbformat_minor": 5
}
