{
 "cells": [
  {
   "cell_type": "code",
   "execution_count": 2,
   "id": "valued-bookmark",
   "metadata": {},
   "outputs": [],
   "source": [
    "def return_class(x, y):\n",
    "    \n",
    "    class f:\n",
    "        def __init__(self, a):\n",
    "            self.x = x\n",
    "            self.a = a\n",
    "        def return_a(self):\n",
    "            return self.a\n",
    "    return f"
   ]
  },
  {
   "cell_type": "code",
   "execution_count": 5,
   "id": "generic-wound",
   "metadata": {},
   "outputs": [],
   "source": [
    "class_ = return_class(4,4)\n",
    "ins = class_(3)"
   ]
  },
  {
   "cell_type": "code",
   "execution_count": 7,
   "id": "floppy-arnold",
   "metadata": {},
   "outputs": [
    {
     "data": {
      "text/plain": [
       "3"
      ]
     },
     "execution_count": 7,
     "metadata": {},
     "output_type": "execute_result"
    }
   ],
   "source": [
    "ins.return_a()"
   ]
  },
  {
   "cell_type": "code",
   "execution_count": 3,
   "id": "minute-anatomy",
   "metadata": {},
   "outputs": [
    {
     "name": "stdout",
     "output_type": "stream",
     "text": [
      "h1.npy         HP_bond_y.txt      lad_bond_ori1.txt      SS_bond2.npy\r\n",
      "H2.npy         HP_bond_z.npy      lad_bond_ori2.npy      SS_bond2.txt\r\n",
      "H_bond_x.npy   HP_bond_z.txt      lad_bond_ori2.txt      SS_bond_test1.npy\r\n",
      "H_bond_x.txt   HP_onsite.npy      lad_bond_ori3.npy      SS_bond_test2.npy\r\n",
      "H_bond_y.npy   HP_onsite.txt      lad_bond_ori3.txt      SS_H2.npy\r\n",
      "H_bond_y.txt   lad_bond_0.npy     local_ham.txt          SS_H.npy\r\n",
      "H_bond_z.npy   lad_bond_0.txt     MG_ori_bond.npy        SS_onsite.npy\r\n",
      "H_bond_z.txt   lad_bond_1.npy     MG_ori_bond.txt        SS_onsite.txt\r\n",
      "H.npy          lad_bond_1.txt     MG_union_bond.npy      SS_ori_bond1.npy\r\n",
      "H_onsite.npy   lad_bond_2.npy     MG_union_bond.txt      SS_ori_bond2.npy\r\n",
      "H_onsite.txt   lad_bond_2.txt     MG_union_rns_bond.npy  SS_ori_onsite.npy\r\n",
      "HP_bond_x.npy  lad_bond_ori0.npy  MG_union_rns_bond.txt  test_model.npy\r\n",
      "HP_bond_x.txt  lad_bond_ori0.txt  SS_bond1.npy           test.npy\r\n",
      "HP_bond_y.npy  lad_bond_ori1.npy  SS_bond1.txt\r\n"
     ]
    }
   ],
   "source": [
    "ls ../array/"
   ]
  },
  {
   "cell_type": "code",
   "execution_count": 23,
   "id": "finished-harbor",
   "metadata": {},
   "outputs": [],
   "source": [
    "import numpy as np\n",
    "H = np.load(\"../array/MG_union_rns_bond.npy\")\n",
    "H2 = np.load(\"../array/MG_union_bond.npy\")\n",
    "# np.save(\"../array/MG_union_rns_bond.npy\", H/2)"
   ]
  },
  {
   "cell_type": "code",
   "execution_count": 18,
   "id": "heavy-duplicate",
   "metadata": {},
   "outputs": [],
   "source": [
    "from utils import lossfunc as lf"
   ]
  },
  {
   "cell_type": "code",
   "execution_count": 24,
   "id": "parliamentary-belly",
   "metadata": {},
   "outputs": [
    {
     "name": "stdout",
     "output_type": "stream",
     "text": [
      "1.1250000000000029 1.4357998130672058\n",
      "1.1250000000000009 1.7222890357759126\n"
     ]
    }
   ],
   "source": [
    "H_abs = lf.make_positive_np(H)\n",
    "H2_abs = lf.make_positive_np(H2)\n",
    "print(np.linalg.eigvalsh(H)[-1], np.linalg.eigvalsh(H_abs)[-1])\n",
    "print(np.linalg.eigvalsh(H2)[-1], np.linalg.eigvalsh(H2_abs)[-1])"
   ]
  },
  {
   "cell_type": "code",
   "execution_count": null,
   "id": "banner-tooth",
   "metadata": {},
   "outputs": [],
   "source": []
  }
 ],
 "metadata": {
  "kernelspec": {
   "display_name": "Python 3",
   "language": "python",
   "name": "python3"
  },
  "language_info": {
   "codemirror_mode": {
    "name": "ipython",
    "version": 3
   },
   "file_extension": ".py",
   "mimetype": "text/x-python",
   "name": "python",
   "nbconvert_exporter": "python",
   "pygments_lexer": "ipython3",
   "version": "3.7.9"
  }
 },
 "nbformat": 4,
 "nbformat_minor": 5
}
