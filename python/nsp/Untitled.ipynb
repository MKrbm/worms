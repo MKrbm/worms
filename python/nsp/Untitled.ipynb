{
 "cells": [
  {
   "cell_type": "code",
   "execution_count": 2,
   "id": "valued-bookmark",
   "metadata": {},
   "outputs": [],
   "source": [
    "def return_class(x, y):\n",
    "    \n",
    "    class f:\n",
    "        def __init__(self, a):\n",
    "            self.x = x\n",
    "            self.a = a\n",
    "        def return_a(self):\n",
    "            return self.a\n",
    "    return f"
   ]
  },
  {
   "cell_type": "code",
   "execution_count": 5,
   "id": "generic-wound",
   "metadata": {},
   "outputs": [],
   "source": [
    "class_ = return_class(4,4)\n",
    "ins = class_(3)"
   ]
  },
  {
   "cell_type": "code",
   "execution_count": 7,
   "id": "floppy-arnold",
   "metadata": {},
   "outputs": [
    {
     "data": {
      "text/plain": [
       "3"
      ]
     },
     "execution_count": 7,
     "metadata": {},
     "output_type": "execute_result"
    }
   ],
   "source": [
    "ins.return_a()"
   ]
  }
 ],
 "metadata": {
  "kernelspec": {
   "display_name": "Python 3",
   "language": "python",
   "name": "python3"
  },
  "language_info": {
   "codemirror_mode": {
    "name": "ipython",
    "version": 3
   },
   "file_extension": ".py",
   "mimetype": "text/x-python",
   "name": "python",
   "nbconvert_exporter": "python",
   "pygments_lexer": "ipython3",
   "version": "3.7.9"
  }
 },
 "nbformat": 4,
 "nbformat_minor": 5
}
