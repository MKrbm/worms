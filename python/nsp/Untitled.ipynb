{
 "cells": [
  {
   "cell_type": "code",
   "execution_count": 168,
   "id": "19a7e755",
   "metadata": {},
   "outputs": [],
   "source": [
    "import numpy as np\n",
    "from scipy.linalg import expm, sinm, cosm\n",
    "from scipy import sparse\n",
    "\n",
    "A = np.zeros((2,2),dtype=np.float128)\n",
    "A[1,0] = 1\n",
    "A[0,1] = -1\n",
    "\n",
    "# A = sparse.csr_matrix(u)\n",
    "\n",
    "def make_unitary(a, A):\n",
    "\n",
    "    return expm(a*A)\n",
    "\n",
    "def apply_unitary_(h, u):\n",
    "    O = sparse.kron(u,u, format='csr')\n",
    "    return (O.T @ h @ O).real\n",
    "\n",
    "def apply_unitary(h, a,A):\n",
    "    o = make_unitary(a,A)\n",
    "    return apply_unitary_(h, o)"
   ]
  },
  {
   "cell_type": "code",
   "execution_count": 169,
   "id": "9bcf2932",
   "metadata": {},
   "outputs": [],
   "source": [
    "I = np.identity(2)\n",
    "Sz = np.zeros([2,2])\n",
    "Sz[0,0] = 1/2\n",
    "Sz[1,1] = -1/2\n",
    "Sx = np.zeros([2,2])\n",
    "Sx[1,0] = 1/2\n",
    "Sx[0,1] = 1/2\n",
    "Sy = np.zeros([2,2], dtype=np.complex64)\n",
    "Sy[1,0] = 1j/2\n",
    "Sy[0,1] = -1j/2\n",
    "\n",
    "SzSz = sparse.kron(Sz,Sz,format='csr')\n",
    "SxSx = sparse.kron(Sx,Sx,format='csr')\n",
    "SySy = sparse.kron(Sy,Sy,format='csr')\n",
    "\n",
    "h = SzSz + SxSx + (1/2)*SySy\n",
    "# h = h.toarray().real"
   ]
  },
  {
   "cell_type": "code",
   "execution_count": null,
   "id": "7bbedec4",
   "metadata": {},
   "outputs": [],
   "source": [
    "def make_unitary()"
   ]
  },
  {
   "cell_type": "code",
   "execution_count": 170,
   "id": "c611abec",
   "metadata": {},
   "outputs": [
    {
     "name": "stdout",
     "output_type": "stream",
     "text": [
      "  (0, 0)\t(0.25+0j)\n",
      "  (0, 3)\t(0.125+0j)\n",
      "  (1, 1)\t(-0.25+0j)\n",
      "  (1, 2)\t(0.375+0j)\n",
      "  (2, 1)\t(0.375+0j)\n",
      "  (2, 2)\t(-0.25+0j)\n",
      "  (3, 0)\t(0.125+0j)\n",
      "  (3, 3)\t(0.25+0j)\n"
     ]
    }
   ],
   "source": [
    "print(h)"
   ]
  },
  {
   "cell_type": "code",
   "execution_count": null,
   "id": "9429ffd8",
   "metadata": {},
   "outputs": [],
   "source": []
  }
 ],
 "metadata": {
  "kernelspec": {
   "display_name": "Python 3",
   "language": "python",
   "name": "python3"
  },
  "language_info": {
   "codemirror_mode": {
    "name": "ipython",
    "version": 3
   },
   "file_extension": ".py",
   "mimetype": "text/x-python",
   "name": "python",
   "nbconvert_exporter": "python",
   "pygments_lexer": "ipython3",
   "version": "3.7.7"
  }
 },
 "nbformat": 4,
 "nbformat_minor": 5
}
