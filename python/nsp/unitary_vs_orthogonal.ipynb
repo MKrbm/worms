{
 "cells": [
  {
   "cell_type": "code",
   "execution_count": 48,
   "id": "61367f04",
   "metadata": {},
   "outputs": [],
   "source": [
    "import utils.optm as optm\n",
    "import numpy as np\n",
    "import torch\n",
    "from importlib import reload"
   ]
  },
  {
   "cell_type": "code",
   "execution_count": 49,
   "id": "4a60dd6b",
   "metadata": {},
   "outputs": [],
   "source": [
    "reload(optm)\n",
    "U = optm.unitary_solver([2], dtype=torch.complex128)"
   ]
  },
  {
   "cell_type": "code",
   "execution_count": 50,
   "id": "a9f7c44c",
   "metadata": {},
   "outputs": [
    {
     "data": {
      "text/plain": [
       "array([[ 0.35486697+0.41474703j, -0.13717153+0.82658231j],\n",
       "       [-0.69375014+0.46985645j,  0.52505248+0.14921648j]])"
      ]
     },
     "execution_count": 50,
     "metadata": {},
     "output_type": "execute_result"
    }
   ],
   "source": [
    "U.np_array"
   ]
  },
  {
   "cell_type": "code",
   "execution_count": 51,
   "id": "8709f12d",
   "metadata": {},
   "outputs": [
    {
     "data": {
      "text/plain": [
       "[tensor([[[ 0.+0.j,  1.+0.j],\n",
       "          [-1.+0.j,  0.+0.j]],\n",
       " \n",
       "         [[ 0.+0.j,  0.+1.j],\n",
       "          [ 0.+1.j,  0.+0.j]],\n",
       " \n",
       "         [[ 0.+1.j,  0.+0.j],\n",
       "          [ 0.+0.j,  0.+0.j]],\n",
       " \n",
       "         [[ 0.+0.j,  0.+0.j],\n",
       "          [ 0.+0.j,  0.+1.j]]], dtype=torch.complex128)]"
      ]
     },
     "execution_count": 51,
     "metadata": {},
     "output_type": "execute_result"
    }
   ],
   "source": [
    "U.generators"
   ]
  },
  {
   "cell_type": "code",
   "execution_count": null,
   "id": "43d1391d",
   "metadata": {},
   "outputs": [],
   "source": []
  }
 ],
 "metadata": {
  "kernelspec": {
   "display_name": "Python 3 (ipykernel)",
   "language": "python",
   "name": "python3"
  },
  "language_info": {
   "codemirror_mode": {
    "name": "ipython",
    "version": 3
   },
   "file_extension": ".py",
   "mimetype": "text/x-python",
   "name": "python",
   "nbconvert_exporter": "python",
   "pygments_lexer": "ipython3",
   "version": "3.7.7"
  }
 },
 "nbformat": 4,
 "nbformat_minor": 5
}
