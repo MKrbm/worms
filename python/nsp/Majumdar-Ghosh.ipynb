{
 "cells": [
  {
   "cell_type": "code",
   "execution_count": 1,
   "id": "prescription-ownership",
   "metadata": {},
   "outputs": [],
   "source": [
    "import numpy as np\n",
    "from scipy.linalg import expm, sinm, cosm\n",
    "from scipy import sparse\n",
    "import scipy\n",
    "\n",
    "\n",
    "import sys\n",
    "sys.path.append('..')"
   ]
  },
  {
   "cell_type": "code",
   "execution_count": 2,
   "id": "further-andrew",
   "metadata": {
    "scrolled": true
   },
   "outputs": [
    {
     "name": "stderr",
     "output_type": "stream",
     "text": [
      "/Users/keisukemurota/miniconda3/envs/research/lib/python3.7/site-packages/ipykernel_launcher.py:16: ComplexWarning: Casting complex values to real discards the imaginary part\n",
      "  app.launch_new_instance()\n"
     ]
    }
   ],
   "source": [
    "L = 6\n",
    "\n",
    "Sz = np.zeros([2,2])\n",
    "Sz[0,0] = 1/2\n",
    "Sz[1,1] = -1/2\n",
    "Sx = np.zeros([2,2])\n",
    "Sx[1,0] = 1/2\n",
    "Sx[0,1] = 1/2\n",
    "Sy = np.zeros([2,2], dtype=np.complex64)\n",
    "Sy[1,0] = 1j/2\n",
    "Sy[0,1] = -1j/2\n",
    "\n",
    "\n",
    "SzSz = np.kron(Sz,Sz).astype(np.float64)\n",
    "SxSx = np.kron(Sx,Sx).astype(np.float64)\n",
    "SySy = np.kron(Sy,Sy).astype(np.float64)\n",
    "\n",
    "lh = SzSz + SxSx + SySy"
   ]
  },
  {
   "cell_type": "markdown",
   "id": "athletic-newark",
   "metadata": {},
   "source": [
    "### exact diagonalization with original matrix"
   ]
  },
  {
   "cell_type": "code",
   "execution_count": 3,
   "id": "joint-jumping",
   "metadata": {},
   "outputs": [
    {
     "name": "stdout",
     "output_type": "stream",
     "text": [
      "[-2.25000000e+00 -2.25000000e+00 -1.75000000e+00 -1.75000000e+00\n",
      " -1.75000000e+00 -1.56872930e+00 -1.56872930e+00 -1.56872930e+00\n",
      " -1.56872930e+00 -1.56872930e+00 -1.56872930e+00 -1.25000000e+00\n",
      " -1.25000000e+00 -1.00000000e+00 -1.00000000e+00 -1.00000000e+00\n",
      " -1.00000000e+00 -1.00000000e+00 -1.00000000e+00 -2.50000000e-01\n",
      " -2.50000000e-01 -2.50000000e-01 -2.50000000e-01 -2.50000000e-01\n",
      " -2.50000000e-01 -5.30516917e-16 -4.91759089e-16 -3.05973681e-16\n",
      " -9.62409177e-17 -7.01392900e-17  1.16958990e-16  2.24511772e-16\n",
      "  3.25195482e-16  4.63662579e-16  5.11587843e-16  2.50000000e-01\n",
      "  2.50000000e-01  2.50000000e-01  2.50000000e-01  2.50000000e-01\n",
      "  2.50000000e-01  3.18729304e-01  3.18729304e-01  3.18729304e-01\n",
      "  3.18729304e-01  3.18729304e-01  3.18729304e-01  1.00000000e+00\n",
      "  1.00000000e+00  1.00000000e+00  1.00000000e+00  1.00000000e+00\n",
      "  1.00000000e+00  1.00000000e+00  1.00000000e+00  1.00000000e+00\n",
      "  1.00000000e+00  2.25000000e+00  2.25000000e+00  2.25000000e+00\n",
      "  2.25000000e+00  2.25000000e+00  2.25000000e+00  2.25000000e+00]\n"
     ]
    },
    {
     "name": "stderr",
     "output_type": "stream",
     "text": [
      "/Users/keisukemurota/miniconda3/envs/research/lib/python3.7/site-packages/scipy/sparse/_index.py:82: SparseEfficiencyWarning: Changing the sparsity structure of a csr_matrix is expensive. lil_matrix is more efficient.\n",
      "  self._set_intXint(row, col, x.flat[0])\n"
     ]
    }
   ],
   "source": [
    "import functions as f\n",
    "from importlib import reload\n",
    "from scipy import sparse\n",
    "import scipy.sparse.linalg\n",
    "import scipy\n",
    "reload(f)\n",
    "\n",
    "H = sparse.csr_matrix((2**L, 2**L), dtype=np.float64)\n",
    "for i in range(L):\n",
    "    \n",
    "    H += f.l2nl(lh, L, [i,(i+1)%L], sps = 2)\n",
    "    H += f.l2nl(lh/2, L, [i,(i+2)%L], sps = 2)   \n",
    "\n",
    "E, V = np.linalg.eigh(H.toarray())\n",
    "print(E)"
   ]
  },
  {
   "cell_type": "markdown",
   "id": "shaped-partner",
   "metadata": {},
   "source": [
    "### rewritten with projection operators"
   ]
  },
  {
   "cell_type": "code",
   "execution_count": 4,
   "id": "freelance-purple",
   "metadata": {},
   "outputs": [],
   "source": [
    "LH = sparse.csr_matrix((2**3,2**3), dtype = np.float64)\n",
    "i = 0\n",
    "LH += f.l2nl(lh/2, 3, [i,(i+1)%L], sps = 2)\n",
    "LH += f.l2nl(lh/2, 3, [(i+1)%L,(i+2)%L], sps = 2)\n",
    "LH += f.l2nl(lh/2, 3, [i,(i+2)%L], sps = 2) \n",
    "LH = LH"
   ]
  },
  {
   "cell_type": "code",
   "execution_count": 5,
   "id": "photographic-peeing",
   "metadata": {},
   "outputs": [
    {
     "data": {
      "text/plain": [
       "<function scipy.sparse.construct.kron(A, B, format=None)>"
      ]
     },
     "execution_count": 5,
     "metadata": {},
     "output_type": "execute_result"
    }
   ],
   "source": [
    "sparse.kron"
   ]
  },
  {
   "cell_type": "code",
   "execution_count": 6,
   "id": "measured-postcard",
   "metadata": {},
   "outputs": [],
   "source": [
    "LH_ = sparse.csr_matrix((2**3,2**3), dtype = np.float64)\n",
    "i = 0\n",
    "LH_ += f.l2nl(lh/2, 3, [0, 1], sps = 2)\n",
    "LH_ += f.l2nl(lh/2, 3, [0, 2], sps = 2)\n",
    "LH_ += f.l2nl(lh/2, 3, [1, 2], sps = 2)\n",
    "\n",
    "\n",
    "\n",
    "LH = sparse.csr_matrix((2**6,2**6), dtype = np.float64)\n",
    "LH += f.l2nl(LH_/2, 6, [0, 1, 2], sps = 2)\n",
    "LH += f.l2nl(LH_, 6, [1, 2, 3], sps = 2)\n",
    "LH += f.l2nl(LH_, 6, [2, 3, 4], sps = 2)\n",
    "LH += f.l2nl(LH_/2, 6, [3, 4, 5], sps = 2)\n",
    "\n",
    "H = sparse.csr_matrix((2**6,2**6), dtype = np.float64)\n",
    "H += f.l2nl(LH, 2, [0, 1], sps = 8)\n",
    "H += f.l2nl(LH, 2, [1, 0], sps = 8)"
   ]
  },
  {
   "cell_type": "code",
   "execution_count": 7,
   "id": "supported-finish",
   "metadata": {},
   "outputs": [],
   "source": [
    "# X = -LH.toarray()\n",
    "X = -H.toarray()\n",
    "X -= np.eye(X.shape[0]) * np.min(np.diag(X))"
   ]
  },
  {
   "cell_type": "markdown",
   "id": "cee548e4",
   "metadata": {},
   "source": [
    "### dual annealing"
   ]
  },
  {
   "cell_type": "code",
   "execution_count": 277,
   "id": "6bbf436e",
   "metadata": {},
   "outputs": [],
   "source": [
    "def callbackF(x, f, context):\n",
    "    print(\"target value : {:.5f} in the context {}\".format(f,context))"
   ]
  },
  {
   "cell_type": "code",
   "execution_count": 278,
   "id": "bibliographic-roulette",
   "metadata": {},
   "outputs": [
    {
     "name": "stdout",
     "output_type": "stream",
     "text": [
      "[28]\n",
      "target value : 8.23302 in the context 0\n",
      "target value : 8.20846 in the context 0\n",
      "target value : 5.27296 in the context 1\n",
      "target value : 5.01482 in the context 1\n",
      "target value : 4.95501 in the context 1\n",
      "target value : 4.94975 in the context 1\n",
      "target value : 4.94604 in the context 1\n",
      "target value : 4.94409 in the context 1\n",
      "target value : 4.94408 in the context 1\n",
      "target value : 4.94352 in the context 1\n",
      "     fun: 4.943524177271737\n",
      " message: ['Maximum number of iteration reached']\n",
      "    nfev: 1459443\n",
      "    nhev: 0\n",
      "     nit: 10000\n",
      "    njev: 31015\n",
      "  status: 0\n",
      " success: True\n",
      "       x: array([4.75 , 0.729, 6.007, 5.32 , 0.197, 3.201, 0.831, 5.672, 6.28 ,\n",
      "       0.881, 0.174, 1.327, 0.   , 5.26 , 5.943, 5.071, 4.333, 5.71 ,\n",
      "       4.543, 6.016, 0.509, 6.283, 1.608, 1.083, 6.283, 4.471, 0.   ,\n",
      "       4.858])\n"
     ]
    }
   ],
   "source": [
    "from utils import optm\n",
    "reload(optm)\n",
    "# X = np.stack([X1_prime, X2_prime])\n",
    "func = optm.unitary_optm(X)\n",
    "import scipy.optimize as optimize\n",
    "bounds = [[0, 2*np.pi] for _ in range(28)]\n",
    "ret = optimize.dual_annealing(func, bounds = bounds, restart_temp_ratio = 1e-5, visit = 2.7, initial_temp = 3*10**4, maxiter = 10000, callback = callbackF)\n",
    "print(ret)"
   ]
  },
  {
   "cell_type": "markdown",
   "id": "c8f3637b",
   "metadata": {},
   "source": [
    "### gradient descent"
   ]
  },
  {
   "cell_type": "code",
   "execution_count": 276,
   "id": "catholic-demand",
   "metadata": {},
   "outputs": [
    {
     "name": "stderr",
     "output_type": "stream",
     "text": [
      "/Users/keisukemurota/Documents/todo/worms/python/nsp/utils/optm.py:440: UserWarning: To copy construct from a tensor, it is recommended to use sourceTensor.clone().detach() or sourceTensor.clone().detach().requires_grad_(True), rather than torch.tensor(sourceTensor).\n",
      "  model._params = torch.nn.Parameter(torch.tensor(init_params))\n"
     ]
    },
    {
     "name": "stdout",
     "output_type": "stream",
     "text": [
      "target loss : 4.500\n",
      "\n",
      "---------- iteration start ----------\n",
      "iteration :    0   loss : 5.138\n",
      "iteration : 1000   loss : 5.139\n",
      "iteration : 2000   loss : 5.139\n",
      "iteration : 3000   loss : 5.139\n",
      "iteration : 4000   loss : 5.138\n",
      "iteration : 5000   loss : 5.139\n",
      "iteration : 6000   loss : 5.139\n",
      "iteration : 7000   loss : 5.139\n",
      "iteration : 8000   loss : 5.139\n",
      "iteration : 9000   loss : 5.139\n",
      "\n",
      " -------------- results --------------\n",
      "target loss      : 4.5000000000\n",
      "loss before optm : 5.6236516671\n",
      "loss after optm  : 5.1384372930\n"
     ]
    }
   ],
   "source": [
    "reload(optm)\n",
    "import torch.optim\n",
    "model, gl = optm.optim_matrix_symm([torch.tensor(X)], 10000, optm_method = torch.optim.SGD, seed = 10, lr = 0.001, init_params=model._params)"
   ]
  },
  {
   "cell_type": "code",
   "execution_count": 275,
   "id": "705a00a7",
   "metadata": {},
   "outputs": [
    {
     "data": {
      "text/plain": [
       "array([-6.745e-16,  0.000e+00,  0.000e+00,  1.242e-17,  2.742e-17,\n",
       "        3.264e-17,  3.195e-16,  1.250e+00,  1.250e+00,  1.250e+00,\n",
       "        1.250e+00,  1.250e+00,  1.250e+00,  1.250e+00,  1.250e+00,\n",
       "        1.250e+00,  1.250e+00,  1.931e+00,  1.931e+00,  1.931e+00,\n",
       "        1.931e+00,  1.931e+00,  1.931e+00,  2.000e+00,  2.000e+00,\n",
       "        2.000e+00,  2.000e+00,  2.000e+00,  2.000e+00,  2.250e+00,\n",
       "        2.250e+00,  2.250e+00,  2.250e+00,  2.250e+00,  2.250e+00,\n",
       "        2.250e+00,  2.250e+00,  2.250e+00,  2.250e+00,  2.500e+00,\n",
       "        2.500e+00,  2.500e+00,  2.500e+00,  2.500e+00,  2.500e+00,\n",
       "        3.250e+00,  3.250e+00,  3.250e+00,  3.250e+00,  3.250e+00,\n",
       "        3.250e+00,  3.500e+00,  3.500e+00,  3.819e+00,  3.819e+00,\n",
       "        3.819e+00,  3.819e+00,  3.819e+00,  3.819e+00,  4.000e+00,\n",
       "        4.000e+00,  4.000e+00,  4.500e+00,  4.500e+00])"
      ]
     },
     "execution_count": 275,
     "metadata": {},
     "output_type": "execute_result"
    }
   ],
   "source": [
    "np.linalg.eigvalsh(X)"
   ]
  },
  {
   "cell_type": "code",
   "execution_count": 112,
   "id": "automotive-raleigh",
   "metadata": {},
   "outputs": [
    {
     "name": "stdout",
     "output_type": "stream",
     "text": [
      "target loss : 2.250\n",
      "\n",
      "---------- iteration start ----------\n",
      "iteration :    0   loss : 20.031\n",
      "iteration : 1000   loss : 19.706\n",
      "iteration : 2000   loss : 19.703\n",
      "iteration : 3000   loss : 19.699\n",
      "iteration : 4000   loss : 19.704\n",
      "iteration : 5000   loss : 19.699\n",
      "iteration : 6000   loss : 19.701\n",
      "iteration : 7000   loss : 19.707\n",
      "iteration : 8000   loss : 19.705\n",
      "iteration : 9000   loss : 19.702\n",
      "\n",
      " -------------- results --------------\n",
      "target loss      : 2.2500000000\n",
      "loss before optm : 2.8182674076\n",
      "loss after optm  : 2.6929198104\n"
     ]
    }
   ],
   "source": [
    "reload(optm)\n",
    "import torch.optim\n",
    "model, gl = optm.optim_matrix_symm([torch.tensor(X)], 10000, optm_method = torch.optim.SGD, loss_func=optm.loss_1 , seed = 10, lr = 0.00001, init_params=model._params)"
   ]
  },
  {
   "cell_type": "markdown",
   "id": "1c496a3d",
   "metadata": {},
   "source": [
    "### another cost function\n",
    "\n",
    "minimize $\\langle \\psi ^ + \\vert H^+ \\vert \\psi ^ + \\rangle$ "
   ]
  },
  {
   "cell_type": "code",
   "execution_count": 268,
   "id": "b2d7b38c",
   "metadata": {},
   "outputs": [
    {
     "name": "stderr",
     "output_type": "stream",
     "text": [
      "/Users/keisukemurota/miniconda3/envs/research/lib/python3.7/site-packages/ipykernel_launcher.py:1: UserWarning: To copy construct from a tensor, it is recommended to use sourceTensor.clone().detach() or sourceTensor.clone().detach().requires_grad_(True), rather than torch.tensor(sourceTensor).\n",
      "  \"\"\"Entry point for launching an IPython kernel.\n"
     ]
    }
   ],
   "source": [
    "X_prime = torch.tensor(X)\n",
    "X_prime = X_prime[None, :, :]"
   ]
  },
  {
   "cell_type": "code",
   "execution_count": 247,
   "id": "78ac00fc",
   "metadata": {},
   "outputs": [],
   "source": [
    "reload(optm)\n",
    "solver = optm.unitary_solver2(X, [8,8], True)"
   ]
  },
  {
   "cell_type": "code",
   "execution_count": 248,
   "id": "c95b6f83",
   "metadata": {},
   "outputs": [
    {
     "name": "stdout",
     "output_type": "stream",
     "text": [
      "iteration :    0   loss : 17.725\n",
      "iteration : 1000   loss : 11.772\n",
      "iteration : 2000   loss : 11.426\n",
      "iteration : 3000   loss : 11.365\n",
      "iteration : 4000   loss : 11.361\n",
      "iteration : 5000   loss : 11.359\n",
      "iteration : 6000   loss : 11.357\n",
      "iteration : 7000   loss : 11.357\n",
      "iteration : 8000   loss : 11.357\n",
      "iteration : 9000   loss : 11.358\n"
     ]
    }
   ],
   "source": [
    "for t in range(10**4):\n",
    "    optimizer = torch.optim.SGD(solver.parameters(), lr = 0.001)\n",
    "    M, V = solver()\n",
    "    loss_ = optm.loss_2(M,V)\n",
    "    optimizer.zero_grad()\n",
    "    loss_.backward()\n",
    "    if (t % 1000) == 0:\n",
    "        print(\"iteration : {:4d}   loss : {:.3f}\".format(t,loss_.item()))\n",
    "    optimizer.step()"
   ]
  },
  {
   "cell_type": "markdown",
   "id": "c44771de",
   "metadata": {},
   "source": [
    "## test several optimization scheme\n",
    "\n",
    "$\\lambda_i$ is the eigenvalues of $(UHU^T)^+$\n",
    "$$\n",
    "E = \\max(\\lambda_i) \\\\\n",
    "w_{k+1} = w_k - \\alpha \\cdot \\gamma \\cdot \\text{sign}(\\partial E / \\partial w_k)\n",
    "$$"
   ]
  },
  {
   "cell_type": "code",
   "execution_count": 226,
   "id": "f408bfd9",
   "metadata": {},
   "outputs": [
    {
     "data": {
      "text/plain": [
       "<module 'utils.optm_method' from '/Users/keisukemurota/Documents/todo/worms/python/nsp/utils/optm_method.py'>"
      ]
     },
     "execution_count": 226,
     "metadata": {},
     "output_type": "execute_result"
    }
   ],
   "source": [
    "from utils import optm_method as optmm\n",
    "reload(optm)\n",
    "reload(optmm)"
   ]
  },
  {
   "cell_type": "code",
   "execution_count": 147,
   "id": "e2ce44fc",
   "metadata": {},
   "outputs": [
    {
     "data": {
      "text/plain": [
       "0.9999539493585035"
      ]
     },
     "execution_count": 147,
     "metadata": {},
     "output_type": "execute_result"
    }
   ],
   "source": [
    "N = 10**5\n",
    "10**(np.log10(0.01)/N)"
   ]
  },
  {
   "cell_type": "code",
   "execution_count": 149,
   "id": "b1425777",
   "metadata": {
    "scrolled": true
   },
   "outputs": [
    {
     "name": "stdout",
     "output_type": "stream",
     "text": [
      "target loss : 4.500\n",
      "loss before optm : 5.6236516671\n",
      "\n",
      "---------- iteration start ----------\n",
      "iteration :        0   loss : 8.868\tgamma = 0.0001\n",
      "iteration :     1000   loss : 8.278\tgamma = 0.0001\n",
      "iteration :     2000   loss : 7.840\tgamma = 0.0001\n",
      "iteration :     3000   loss : 7.414\tgamma = 0.0001\n",
      "iteration :     4000   loss : 7.099\tgamma = 0.0001\n",
      "iteration :     5000   loss : 6.848\tgamma = 0.0001\n",
      "iteration :     6000   loss : 6.494\tgamma = 0.0001\n",
      "iteration :     7000   loss : 5.841\tgamma = 0.0001\n",
      "iteration :     8000   loss : 5.349\tgamma = 0.0001\n",
      "iteration :     9000   loss : 5.249\tgamma = 0.0001\n",
      "iteration :    10000   loss : 5.230\tgamma = 0.0001\n",
      "iteration :    11000   loss : 5.224\tgamma = 0.0001\n",
      "iteration :    12000   loss : 5.123\tgamma = 0.0001\n",
      "iteration :    13000   loss : 4.894\tgamma = 0.0001\n",
      "iteration :    14000   loss : 4.778\tgamma = 0.0001\n",
      "iteration :    15000   loss : 4.765\tgamma = 0.0001\n",
      "iteration :    16000   loss : 4.762\tgamma = 0.0001\n",
      "iteration :    17000   loss : 4.762\tgamma = 0.0001\n",
      "iteration :    18000   loss : 4.762\tgamma = 0.0001\n",
      "iteration :    19000   loss : 4.762\tgamma = 0.0001\n",
      "iteration :    20000   loss : 4.762\tgamma = 0.0001\n",
      "iteration :    21000   loss : 4.762\tgamma = 0.0001\n",
      "iteration :    22000   loss : 4.762\tgamma = 0.0001\n",
      "iteration :    23000   loss : 4.762\tgamma = 0.0001\n",
      "iteration :    24000   loss : 4.762\tgamma = 0.0001\n",
      "iteration :    25000   loss : 4.762\tgamma = 0.0001\n",
      "iteration :    26000   loss : 4.762\tgamma = 0.0001\n",
      "iteration :    27000   loss : 4.762\tgamma = 0.0001\n",
      "iteration :    28000   loss : 4.762\tgamma = 0.0001\n",
      "iteration :    29000   loss : 4.762\tgamma = 0.0001\n",
      "iteration :    30000   loss : 4.762\tgamma = 0.0001\n",
      "iteration :    31000   loss : 4.762\tgamma = 0.0001\n",
      "iteration :    32000   loss : 4.762\tgamma = 0.0001\n",
      "iteration :    33000   loss : 4.762\tgamma = 0.0001\n",
      "iteration :    34000   loss : 4.762\tgamma = 0.0001\n",
      "iteration :    35000   loss : 4.762\tgamma = 0.0001\n",
      "iteration :    36000   loss : 4.761\tgamma = 0.0001\n",
      "iteration :    37000   loss : 4.762\tgamma = 0.0001\n",
      "iteration :    38000   loss : 4.762\tgamma = 0.0001\n",
      "iteration :    39000   loss : 4.761\tgamma = 0.0001\n",
      "\n",
      " -------------- results --------------\n",
      "target loss      : 4.5000000000\n",
      "loss before optm : 5.6236516671\n",
      "loss after optm  : 4.7617002238\n"
     ]
    }
   ],
   "source": [
    "reload(optm)\n",
    "import torch.optim\n",
    "model, gl = optm.optim_matrix_symm(\n",
    "        [torch.tensor(X)],\n",
    "        40000, \n",
    "        optm_method = optm.scheme1, \n",
    "        seed = 10,\n",
    "        gamma = 0.0001,\n",
    "        r = 1,\n",
    "        )"
   ]
  },
  {
   "cell_type": "markdown",
   "id": "f85ae225",
   "metadata": {},
   "source": [
    "## gridsearch revisit"
   ]
  },
  {
   "cell_type": "code",
   "execution_count": 272,
   "id": "d2383be9",
   "metadata": {},
   "outputs": [
    {
     "data": {
      "text/plain": [
       "<module 'utils.optm_method' from '/Users/keisukemurota/Documents/todo/worms/python/nsp/utils/optm_method.py'>"
      ]
     },
     "execution_count": 272,
     "metadata": {},
     "output_type": "execute_result"
    }
   ],
   "source": [
    "from utils import optm\n",
    "from utils import optm_method as optmm\n",
    "reload(optm)\n",
    "reload(optmm)"
   ]
  },
  {
   "cell_type": "code",
   "execution_count": 279,
   "id": "669d0ca4",
   "metadata": {},
   "outputs": [],
   "source": [
    "n_index = 4\n",
    "ranges = (slice(-10, 10), ) * n_index\n",
    "index = np.random.choice(28, n_index, replace=True)\n",
    "grid = optm.unitary_optm(X, 28, index=index, init_param = np.array(model._params.data))"
   ]
  },
  {
   "cell_type": "code",
   "execution_count": 280,
   "id": "3dacd2d5",
   "metadata": {
    "collapsed": true
   },
   "outputs": [
    {
     "ename": "KeyboardInterrupt",
     "evalue": "",
     "output_type": "error",
     "traceback": [
      "\u001b[0;31m---------------------------------------------------------------------------\u001b[0m",
      "\u001b[0;31mKeyboardInterrupt\u001b[0m                         Traceback (most recent call last)",
      "\u001b[0;32m/var/folders/z7/m5qzz0hj12z06hxsn5km2c400000gn/T/ipykernel_6135/3474955355.py\u001b[0m in \u001b[0;36m<module>\u001b[0;34m\u001b[0m\n\u001b[1;32m      2\u001b[0m \u001b[0;34m\u001b[0m\u001b[0m\n\u001b[1;32m      3\u001b[0m \u001b[0;32mfor\u001b[0m \u001b[0m_\u001b[0m \u001b[0;32min\u001b[0m \u001b[0mrange\u001b[0m\u001b[0;34m(\u001b[0m\u001b[0;36m100\u001b[0m\u001b[0;34m)\u001b[0m\u001b[0;34m:\u001b[0m\u001b[0;34m\u001b[0m\u001b[0;34m\u001b[0m\u001b[0m\n\u001b[0;32m----> 4\u001b[0;31m     \u001b[0mresbrute\u001b[0m \u001b[0;34m=\u001b[0m \u001b[0mscipy\u001b[0m\u001b[0;34m.\u001b[0m\u001b[0moptimize\u001b[0m\u001b[0;34m.\u001b[0m\u001b[0mbrute\u001b[0m\u001b[0;34m(\u001b[0m\u001b[0mgrid\u001b[0m\u001b[0;34m,\u001b[0m \u001b[0mranges\u001b[0m \u001b[0;34m=\u001b[0m \u001b[0mranges\u001b[0m\u001b[0;34m,\u001b[0m \u001b[0mfull_output\u001b[0m\u001b[0;34m=\u001b[0m\u001b[0;32mTrue\u001b[0m\u001b[0;34m)\u001b[0m\u001b[0;34m\u001b[0m\u001b[0;34m\u001b[0m\u001b[0m\n\u001b[0m\u001b[1;32m      5\u001b[0m     \u001b[0mindex\u001b[0m \u001b[0;34m=\u001b[0m \u001b[0mnp\u001b[0m\u001b[0;34m.\u001b[0m\u001b[0mrandom\u001b[0m\u001b[0;34m.\u001b[0m\u001b[0mchoice\u001b[0m\u001b[0;34m(\u001b[0m\u001b[0;36m28\u001b[0m\u001b[0;34m,\u001b[0m \u001b[0mn_index\u001b[0m \u001b[0;34m,\u001b[0m \u001b[0mreplace\u001b[0m\u001b[0;34m=\u001b[0m\u001b[0;32mTrue\u001b[0m\u001b[0;34m)\u001b[0m\u001b[0;34m\u001b[0m\u001b[0;34m\u001b[0m\u001b[0m\n\u001b[1;32m      6\u001b[0m \u001b[0;31m#     print(resbrute[0])\u001b[0m\u001b[0;34m\u001b[0m\u001b[0;34m\u001b[0m\u001b[0;34m\u001b[0m\u001b[0m\n",
      "\u001b[0;32m~/miniconda3/envs/research/lib/python3.7/site-packages/scipy/optimize/optimize.py\u001b[0m in \u001b[0;36mbrute\u001b[0;34m(func, ranges, args, Ns, full_output, finish, disp, workers)\u001b[0m\n\u001b[1;32m   3260\u001b[0m     \u001b[0;31m# iterate over input arrays, possibly in parallel\u001b[0m\u001b[0;34m\u001b[0m\u001b[0;34m\u001b[0m\u001b[0;34m\u001b[0m\u001b[0m\n\u001b[1;32m   3261\u001b[0m     \u001b[0;32mwith\u001b[0m \u001b[0mMapWrapper\u001b[0m\u001b[0;34m(\u001b[0m\u001b[0mpool\u001b[0m\u001b[0;34m=\u001b[0m\u001b[0mworkers\u001b[0m\u001b[0;34m)\u001b[0m \u001b[0;32mas\u001b[0m \u001b[0mmapper\u001b[0m\u001b[0;34m:\u001b[0m\u001b[0;34m\u001b[0m\u001b[0;34m\u001b[0m\u001b[0m\n\u001b[0;32m-> 3262\u001b[0;31m         \u001b[0mJout\u001b[0m \u001b[0;34m=\u001b[0m \u001b[0mnp\u001b[0m\u001b[0;34m.\u001b[0m\u001b[0marray\u001b[0m\u001b[0;34m(\u001b[0m\u001b[0mlist\u001b[0m\u001b[0;34m(\u001b[0m\u001b[0mmapper\u001b[0m\u001b[0;34m(\u001b[0m\u001b[0mwrapped_func\u001b[0m\u001b[0;34m,\u001b[0m \u001b[0mgrid\u001b[0m\u001b[0;34m)\u001b[0m\u001b[0;34m)\u001b[0m\u001b[0;34m)\u001b[0m\u001b[0;34m\u001b[0m\u001b[0;34m\u001b[0m\u001b[0m\n\u001b[0m\u001b[1;32m   3263\u001b[0m         \u001b[0;32mif\u001b[0m \u001b[0;34m(\u001b[0m\u001b[0mN\u001b[0m \u001b[0;34m==\u001b[0m \u001b[0;36m1\u001b[0m\u001b[0;34m)\u001b[0m\u001b[0;34m:\u001b[0m\u001b[0;34m\u001b[0m\u001b[0;34m\u001b[0m\u001b[0m\n\u001b[1;32m   3264\u001b[0m             \u001b[0mgrid\u001b[0m \u001b[0;34m=\u001b[0m \u001b[0;34m(\u001b[0m\u001b[0mgrid\u001b[0m\u001b[0;34m,\u001b[0m\u001b[0;34m)\u001b[0m\u001b[0;34m\u001b[0m\u001b[0;34m\u001b[0m\u001b[0m\n",
      "\u001b[0;32m~/miniconda3/envs/research/lib/python3.7/site-packages/scipy/optimize/optimize.py\u001b[0m in \u001b[0;36m__call__\u001b[0;34m(self, x)\u001b[0m\n\u001b[1;32m   3332\u001b[0m     \u001b[0;32mdef\u001b[0m \u001b[0m__call__\u001b[0m\u001b[0;34m(\u001b[0m\u001b[0mself\u001b[0m\u001b[0;34m,\u001b[0m \u001b[0mx\u001b[0m\u001b[0;34m)\u001b[0m\u001b[0;34m:\u001b[0m\u001b[0;34m\u001b[0m\u001b[0;34m\u001b[0m\u001b[0m\n\u001b[1;32m   3333\u001b[0m         \u001b[0;31m# flatten needed for one dimensional case.\u001b[0m\u001b[0;34m\u001b[0m\u001b[0;34m\u001b[0m\u001b[0;34m\u001b[0m\u001b[0m\n\u001b[0;32m-> 3334\u001b[0;31m         \u001b[0;32mreturn\u001b[0m \u001b[0mself\u001b[0m\u001b[0;34m.\u001b[0m\u001b[0mf\u001b[0m\u001b[0;34m(\u001b[0m\u001b[0mnp\u001b[0m\u001b[0;34m.\u001b[0m\u001b[0masarray\u001b[0m\u001b[0;34m(\u001b[0m\u001b[0mx\u001b[0m\u001b[0;34m)\u001b[0m\u001b[0;34m.\u001b[0m\u001b[0mflatten\u001b[0m\u001b[0;34m(\u001b[0m\u001b[0;34m)\u001b[0m\u001b[0;34m,\u001b[0m \u001b[0;34m*\u001b[0m\u001b[0mself\u001b[0m\u001b[0;34m.\u001b[0m\u001b[0margs\u001b[0m\u001b[0;34m)\u001b[0m\u001b[0;34m\u001b[0m\u001b[0;34m\u001b[0m\u001b[0m\n\u001b[0m\u001b[1;32m   3335\u001b[0m \u001b[0;34m\u001b[0m\u001b[0m\n\u001b[1;32m   3336\u001b[0m \u001b[0;34m\u001b[0m\u001b[0m\n",
      "\u001b[0;32m~/Documents/todo/worms/python/nsp/utils/optm.py\u001b[0m in \u001b[0;36m__call__\u001b[0;34m(self, param)\u001b[0m\n\u001b[1;32m    508\u001b[0m         \u001b[0monesite_mat\u001b[0m \u001b[0;34m=\u001b[0m \u001b[0mexpm\u001b[0m\u001b[0;34m(\u001b[0m\u001b[0mtmp\u001b[0m\u001b[0;34m.\u001b[0m\u001b[0msum\u001b[0m\u001b[0;34m(\u001b[0m\u001b[0maxis\u001b[0m\u001b[0;34m=\u001b[0m\u001b[0;36m0\u001b[0m\u001b[0;34m)\u001b[0m\u001b[0;34m)\u001b[0m\u001b[0;34m\u001b[0m\u001b[0;34m\u001b[0m\u001b[0m\n\u001b[1;32m    509\u001b[0m         \u001b[0mU\u001b[0m \u001b[0;34m=\u001b[0m \u001b[0mnp\u001b[0m\u001b[0;34m.\u001b[0m\u001b[0mkron\u001b[0m\u001b[0;34m(\u001b[0m\u001b[0monesite_mat\u001b[0m\u001b[0;34m,\u001b[0m \u001b[0monesite_mat\u001b[0m\u001b[0;34m)\u001b[0m\u001b[0;34m[\u001b[0m\u001b[0;32mNone\u001b[0m\u001b[0;34m,\u001b[0m \u001b[0;34m:\u001b[0m\u001b[0;34m,\u001b[0m \u001b[0;34m:\u001b[0m\u001b[0;34m]\u001b[0m\u001b[0;34m\u001b[0m\u001b[0;34m\u001b[0m\u001b[0m\n\u001b[0;32m--> 510\u001b[0;31m         \u001b[0;32mreturn\u001b[0m \u001b[0mloss_eig_np\u001b[0m\u001b[0;34m(\u001b[0m\u001b[0mU\u001b[0m \u001b[0;34m@\u001b[0m \u001b[0mself\u001b[0m\u001b[0;34m.\u001b[0m\u001b[0mX\u001b[0m \u001b[0;34m@\u001b[0m \u001b[0mU\u001b[0m\u001b[0;34m.\u001b[0m\u001b[0mswapaxes\u001b[0m\u001b[0;34m(\u001b[0m\u001b[0;36m1\u001b[0m\u001b[0;34m,\u001b[0m\u001b[0;36m2\u001b[0m\u001b[0;34m)\u001b[0m\u001b[0;34m)\u001b[0m\u001b[0;34m\u001b[0m\u001b[0;34m\u001b[0m\u001b[0m\n\u001b[0m\u001b[1;32m    511\u001b[0m \u001b[0;34m\u001b[0m\u001b[0m\n\u001b[1;32m    512\u001b[0m \u001b[0;34m\u001b[0m\u001b[0m\n",
      "\u001b[0;31mKeyboardInterrupt\u001b[0m: "
     ]
    }
   ],
   "source": [
    "import scipy.optimize\n",
    "\n",
    "for _ in range(100):\n",
    "    resbrute = scipy.optimize.brute(grid, ranges = ranges, full_output=True)\n",
    "    index = np.random.choice(28, n_index , replace=True)\n",
    "#     print(resbrute[0])\n",
    "    print(\"target {:.4f}\".format(resbrute[1]))\n",
    "#     print(grid.params)\n",
    "    grid = optm.unitary_optm(X, 28, index=index, init_param = grid.params)"
   ]
  },
  {
   "cell_type": "code",
   "execution_count": 127,
   "id": "547dd9a1",
   "metadata": {},
   "outputs": [
    {
     "data": {
      "text/plain": [
       "array([ 9, 21,  1])"
      ]
     },
     "execution_count": 127,
     "metadata": {},
     "output_type": "execute_result"
    }
   ],
   "source": [
    "index"
   ]
  },
  {
   "cell_type": "code",
   "execution_count": 254,
   "id": "8efe26a5",
   "metadata": {},
   "outputs": [
    {
     "data": {
      "text/plain": [
       "4.761640719693298"
      ]
     },
     "execution_count": 254,
     "metadata": {},
     "output_type": "execute_result"
    }
   ],
   "source": [
    "grid([0])"
   ]
  },
  {
   "cell_type": "code",
   "execution_count": 257,
   "id": "0ecd8bff",
   "metadata": {},
   "outputs": [],
   "source": [
    "T = np.linspace(-100,100, 1000)\n",
    "y = []\n",
    "grid = optm.unitary_optm(X, 28, index=index, init_param = np.array(model._params.data))\n",
    "for t in T:\n",
    "    y.append(grid([t*np.pi+250]))"
   ]
  },
  {
   "cell_type": "code",
   "execution_count": 258,
   "id": "bf76c7c8",
   "metadata": {},
   "outputs": [
    {
     "data": {
      "text/plain": [
       "[<matplotlib.lines.Line2D at 0x7f845bbaa390>]"
      ]
     },
     "execution_count": 258,
     "metadata": {},
     "output_type": "execute_result"
    },
    {
     "data": {
      "image/png": "[encoded data removed]",
      "text/plain": [
       "<Figure size 432x288 with 1 Axes>"
      ]
     },
     "metadata": {
      "needs_background": "light"
     },
     "output_type": "display_data"
    }
   ],
   "source": [
    "from matplotlib import pyplot as plt\n",
    "\n",
    "fig, ax = plt.subplots()\n",
    "ax.plot(T,y)"
   ]
  },
  {
   "cell_type": "code",
   "execution_count": 194,
   "id": "1942945b",
   "metadata": {},
   "outputs": [
    {
     "data": {
      "text/plain": [
       "array([248630.97], dtype=float32)"
      ]
     },
     "execution_count": 194,
     "metadata": {},
     "output_type": "execute_result"
    }
   ],
   "source": [
    "grid.params[grid.index]"
   ]
  },
  {
   "cell_type": "code",
   "execution_count": 68,
   "id": "7d9f4328",
   "metadata": {},
   "outputs": [
    {
     "data": {
      "text/plain": [
       "array([4.34404299e+00, 5.78362881e-04, 3.21762196e+00])"
      ]
     },
     "execution_count": 68,
     "metadata": {},
     "output_type": "execute_result"
    }
   ],
   "source": [
    "resbrute"
   ]
  },
  {
   "cell_type": "code",
   "execution_count": 199,
   "id": "6f005370",
   "metadata": {},
   "outputs": [
    {
     "data": {
      "text/plain": [
       "array([-1.,  0.,  0.,  0.,  0.,  0.,  0.,  1.])"
      ]
     },
     "execution_count": 199,
     "metadata": {},
     "output_type": "execute_result"
    }
   ],
   "source": [
    "np.linalg.eigvalsh(grid.generators[0])"
   ]
  }
 ],
 "metadata": {
  "kernelspec": {
   "display_name": "Python 3 (ipykernel)",
   "language": "python",
   "name": "python3"
  },
  "language_info": {
   "codemirror_mode": {
    "name": "ipython",
    "version": 3
   },
   "file_extension": ".py",
   "mimetype": "text/x-python",
   "name": "python",
   "nbconvert_exporter": "python",
   "pygments_lexer": "ipython3",
   "version": "3.7.7"
  }
 },
 "nbformat": 4,
 "nbformat_minor": 5
}
