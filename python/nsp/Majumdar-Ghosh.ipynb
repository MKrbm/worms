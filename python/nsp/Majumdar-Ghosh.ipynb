{
 "cells": [
  {
   "cell_type": "code",
   "execution_count": 152,
   "id": "prescription-ownership",
   "metadata": {},
   "outputs": [],
   "source": [
    "import numpy as np\n",
    "from scipy.linalg import expm, sinm, cosm\n",
    "from scipy import sparse\n",
    "import scipy\n",
    "\n",
    "\n",
    "import sys\n",
    "sys.path.append('..')"
   ]
  },
  {
   "cell_type": "code",
   "execution_count": 153,
   "id": "further-andrew",
   "metadata": {
    "scrolled": true
   },
   "outputs": [
    {
     "name": "stderr",
     "output_type": "stream",
     "text": [
      "/home/keisuke/miniconda3/envs/quspin/lib/python3.7/site-packages/ipykernel_launcher.py:35: ComplexWarning: Casting complex values to real discards the imaginary part\n"
     ]
    }
   ],
   "source": [
    "L = 6\n",
    "# Sz = np.zeros((3,3),dtype = np.complex128)\n",
    "# Sx = np.zeros((3,3),dtype = np.complex128)\n",
    "# Sy = np.zeros((3,3),dtype = np.complex128)\n",
    "\n",
    "# Sz[0,0] = 1\n",
    "# Sz[2,2] = -1\n",
    "# Sx[0,1] = 1/np.sqrt(2)\n",
    "# Sx[1,0] = 1/np.sqrt(2)\n",
    "# Sx[1,2] = 1/np.sqrt(2)\n",
    "# Sx[2,1] = 1/np.sqrt(2)\n",
    "# Sy[0,1] = -1j/np.sqrt(2)\n",
    "# Sy[1,0] = 1j/np.sqrt(2)\n",
    "# Sy[1,2] = -1j/np.sqrt(2)\n",
    "# Sy[2,1] = 1j/np.sqrt(2)\n",
    "\n",
    "Sz = np.zeros([2,2])\n",
    "Sz[0,0] = 1/2\n",
    "Sz[1,1] = -1/2\n",
    "Sx = np.zeros([2,2])\n",
    "Sx[1,0] = 1/2\n",
    "Sx[0,1] = 1/2\n",
    "Sy = np.zeros([2,2], dtype=np.complex64)\n",
    "Sy[1,0] = 1j/2\n",
    "Sy[0,1] = -1j/2\n",
    "\n",
    "# SzSz = sparse.kron(Sz,Sz,format='csr')\n",
    "# SxSx = sparse.kron(Sx,Sx,format='csr')\n",
    "# SySy = sparse.kron(Sy,Sy,format='csr')\n",
    "\n",
    "# h = SzSz + SxSx + SySy\n",
    "\n",
    "SzSz = np.kron(Sz,Sz).astype(np.float64)\n",
    "SxSx = np.kron(Sx,Sx).astype(np.float64)\n",
    "SySy = np.kron(Sy,Sy).astype(np.float64)\n",
    "\n",
    "lh = SzSz + SxSx + SySy"
   ]
  },
  {
   "cell_type": "markdown",
   "id": "athletic-newark",
   "metadata": {},
   "source": [
    "### exact diagonalization with original matrix"
   ]
  },
  {
   "cell_type": "code",
   "execution_count": 155,
   "id": "joint-jumping",
   "metadata": {
    "scrolled": false
   },
   "outputs": [
    {
     "name": "stdout",
     "output_type": "stream",
     "text": [
      "[-2.25000000e+00 -2.25000000e+00 -1.75000000e+00 -1.75000000e+00\n",
      " -1.75000000e+00 -1.56872930e+00 -1.56872930e+00 -1.56872930e+00\n",
      " -1.56872930e+00 -1.56872930e+00 -1.56872930e+00 -1.25000000e+00\n",
      " -1.25000000e+00 -1.00000000e+00 -1.00000000e+00 -1.00000000e+00\n",
      " -1.00000000e+00 -1.00000000e+00 -1.00000000e+00 -2.50000000e-01\n",
      " -2.50000000e-01 -2.50000000e-01 -2.50000000e-01 -2.50000000e-01\n",
      " -2.50000000e-01 -3.51510989e-16 -2.90853943e-16  5.92721140e-17\n",
      "  1.09018292e-16  1.61187079e-16  1.69567322e-16  2.27804931e-16\n",
      "  4.27895823e-16  5.70719320e-16  7.03265248e-16  2.50000000e-01\n",
      "  2.50000000e-01  2.50000000e-01  2.50000000e-01  2.50000000e-01\n",
      "  2.50000000e-01  3.18729304e-01  3.18729304e-01  3.18729304e-01\n",
      "  3.18729304e-01  3.18729304e-01  3.18729304e-01  1.00000000e+00\n",
      "  1.00000000e+00  1.00000000e+00  1.00000000e+00  1.00000000e+00\n",
      "  1.00000000e+00  1.00000000e+00  1.00000000e+00  1.00000000e+00\n",
      "  1.00000000e+00  2.25000000e+00  2.25000000e+00  2.25000000e+00\n",
      "  2.25000000e+00  2.25000000e+00  2.25000000e+00  2.25000000e+00]\n"
     ]
    },
    {
     "name": "stderr",
     "output_type": "stream",
     "text": [
      "/home/keisuke/miniconda3/envs/quspin/lib/python3.7/site-packages/scipy/sparse/_index.py:82: SparseEfficiencyWarning: Changing the sparsity structure of a csr_matrix is expensive. lil_matrix is more efficient.\n",
      "  self._set_intXint(row, col, x.flat[0])\n"
     ]
    }
   ],
   "source": [
    "import functions as f\n",
    "from importlib import reload\n",
    "from scipy import sparse\n",
    "import scipy.sparse.linalg\n",
    "import scipy\n",
    "reload(f)\n",
    "\n",
    "H = sparse.csr_matrix((2**L, 2**L), dtype=np.float64)\n",
    "for i in range(L):\n",
    "    \n",
    "    H += f.l2nl(lh, L, [i,(i+1)%L], sps = 2)\n",
    "    H += f.l2nl(lh/2, L, [i,(i+2)%L], sps = 2)   \n",
    "\n",
    "E, V = np.linalg.eigh(H.toarray())\n",
    "print(E)"
   ]
  },
  {
   "cell_type": "markdown",
   "id": "shaped-partner",
   "metadata": {},
   "source": [
    "### rewritten with projection operators"
   ]
  },
  {
   "cell_type": "code",
   "execution_count": 22,
   "id": "freelance-purple",
   "metadata": {},
   "outputs": [],
   "source": [
    "LH = sparse.csr_matrix((2**3,2**3), dtype = np.float64)\n",
    "i = 0\n",
    "LH += f.l2nl(lh/2, 3, [i,(i+1)%L], sps = 2)\n",
    "LH += f.l2nl(lh/2, 3, [(i+1)%L,(i+2)%L], sps = 2)\n",
    "LH += f.l2nl(lh/2, 3, [i,(i+2)%L], sps = 2) \n",
    "LH = LH"
   ]
  },
  {
   "cell_type": "code",
   "execution_count": 171,
   "id": "measured-postcard",
   "metadata": {},
   "outputs": [],
   "source": [
    "LH_ = sparse.csr_matrix((2**3,2**3), dtype = np.float64)\n",
    "i = 0\n",
    "LH_ += f.l2nl(lh/2, 3, [(i+1)%L,i], sps = 2)\n",
    "LH_ += f.l2nl(lh/2, 3, [(i+2)%L,(i+1)%L], sps = 2)\n",
    "LH_ += f.l2nl(lh/2, 3, [(i+2)%L,i], sps = 2) "
   ]
  },
  {
   "cell_type": "code",
   "execution_count": 23,
   "id": "coordinated-marking",
   "metadata": {},
   "outputs": [
    {
     "name": "stdout",
     "output_type": "stream",
     "text": [
      "[-0.375 -0.375 -0.375 -0.375  0.375  0.375  0.375  0.375]\n"
     ]
    }
   ],
   "source": [
    "E, V = np.linalg.eigh(LH.toarray())\n",
    "print((E).round(6))"
   ]
  },
  {
   "cell_type": "code",
   "execution_count": 160,
   "id": "happy-position",
   "metadata": {},
   "outputs": [
    {
     "name": "stdout",
     "output_type": "stream",
     "text": [
      "[-2.25 -2.25  2.25 -1.75  2.25 -1.75  2.25  2.25  2.25  2.25]\n"
     ]
    }
   ],
   "source": [
    "H = sparse.csr_matrix((2**L, 2**L), dtype=np.float64)\n",
    "for i in range(L):\n",
    "    \n",
    "    H += f.l2nl(LH, L, [i,(i+1)%L,(i+2)%L], sps = 2) \n",
    "    \n",
    "E, _ = scipy.sparse.linalg.eigsh(H, k = 10)\n",
    "print(E)"
   ]
  },
  {
   "cell_type": "markdown",
   "id": "voluntary-nelson",
   "metadata": {},
   "source": [
    "### apply local unitary transformation"
   ]
  },
  {
   "cell_type": "code",
   "execution_count": 161,
   "id": "reflected-myrtle",
   "metadata": {},
   "outputs": [
    {
     "name": "stdout",
     "output_type": "stream",
     "text": [
      "[-0.   -0.    0.    0.    0.75  0.75  0.75  0.75]\n"
     ]
    }
   ],
   "source": [
    "LH_prime = (LH + sparse.identity(2**3) * 3/8).toarray()\n",
    "E, V = np.linalg.eigh(LH_prime)\n",
    "V = V.real\n",
    "print((E).round(6))"
   ]
  },
  {
   "cell_type": "code",
   "execution_count": 162,
   "id": "viral-weapon",
   "metadata": {},
   "outputs": [],
   "source": [
    "LH2 = V.T @ LH_prime @ V"
   ]
  },
  {
   "cell_type": "code",
   "execution_count": 167,
   "id": "emerging-hudson",
   "metadata": {
    "scrolled": true
   },
   "outputs": [],
   "source": [
    "U = np.kron(V, V)\n",
    "C1 = sparse.csr_matrix((2**6, 2**6), dtype=np.float64)\n",
    "C1 += f.l2nl(LH_prime, L, [1,2,3], sps = 2)\n",
    "C1 += f.l2nl(LH_prime, L, [2,3,4], sps = 2)\n",
    "C1 = C1.real.toarray()\n",
    "C2 = U.T @ C1 @ U"
   ]
  },
  {
   "cell_type": "code",
   "execution_count": 168,
   "id": "aggressive-church",
   "metadata": {},
   "outputs": [],
   "source": [
    "U = np.kron(V, V)\n",
    "C1_prime = sparse.csr_matrix((2**6, 2**6), dtype=np.float64)\n",
    "C1_prime += f.l2nl(LH_prime, L, [4,5,0], sps = 2)\n",
    "C1_prime += f.l2nl(LH_prime, L, [5,0,1], sps = 2)\n",
    "C1_prime = C1_prime.real.toarray()\n",
    "C2_prime = U.T @ C1_prime @ U"
   ]
  },
  {
   "cell_type": "markdown",
   "id": "departmental-romania",
   "metadata": {},
   "source": [
    "### symmetrization operator"
   ]
  },
  {
   "cell_type": "code",
   "execution_count": 182,
   "id": "quick-impossible",
   "metadata": {},
   "outputs": [],
   "source": [
    "p = np.zeros((2**3, 2**3))\n",
    "for state in [[i,j,k] for i in range(2) for j in range(2) for k in range(2)]:\n",
    "    n = f.state2num(np.array(state), sps = 2)\n",
    "    m = f.state2num(np.array(state[::-1]), sps = 2)\n",
    "    p[m,n] += 1/2\n",
    "    p[n,n] += 1/2  \n",
    "P = np.kron(p,p)"
   ]
  },
  {
   "cell_type": "code",
   "execution_count": 184,
   "id": "guilty-superior",
   "metadata": {},
   "outputs": [
    {
     "data": {
      "text/plain": [
       "array([[1. , 0. , 0. , 0. , 0. , 0. , 0. , 0. ],\n",
       "       [0. , 0.5, 0. , 0. , 0.5, 0. , 0. , 0. ],\n",
       "       [0. , 0. , 1. , 0. , 0. , 0. , 0. , 0. ],\n",
       "       [0. , 0. , 0. , 0.5, 0. , 0. , 0.5, 0. ],\n",
       "       [0. , 0.5, 0. , 0. , 0.5, 0. , 0. , 0. ],\n",
       "       [0. , 0. , 0. , 0. , 0. , 1. , 0. , 0. ],\n",
       "       [0. , 0. , 0. , 0.5, 0. , 0. , 0.5, 0. ],\n",
       "       [0. , 0. , 0. , 0. , 0. , 0. , 0. , 1. ]])"
      ]
     },
     "execution_count": 184,
     "metadata": {},
     "output_type": "execute_result"
    }
   ],
   "source": [
    "p"
   ]
  },
  {
   "cell_type": "markdown",
   "id": "separate-confidentiality",
   "metadata": {},
   "source": [
    "### apply symmetrization operator to $C1$ and $C1^{\\prime}$ so that both become the same operator"
   ]
  },
  {
   "cell_type": "code",
   "execution_count": null,
   "id": "treated-cancellation",
   "metadata": {},
   "outputs": [],
   "source": [
    "C1@P"
   ]
  },
  {
   "cell_type": "code",
   "execution_count": 120,
   "id": "colonial-adult",
   "metadata": {},
   "outputs": [],
   "source": [
    "index = []\n",
    "for state in [[i,j] for i in range(4) for j in range(4)]:\n",
    "    index.append(f.state2num(np.array(state), sps = 8))\n",
    "index = np.array(index)"
   ]
  },
  {
   "cell_type": "code",
   "execution_count": 121,
   "id": "magnetic-basic",
   "metadata": {},
   "outputs": [],
   "source": [
    "C3 = C2[:,index]"
   ]
  },
  {
   "cell_type": "code",
   "execution_count": 127,
   "id": "white-constant",
   "metadata": {},
   "outputs": [],
   "source": [
    "U3, E3, V3 = np.linalg.svd(C3)"
   ]
  },
  {
   "cell_type": "code",
   "execution_count": 147,
   "id": "supreme-boating",
   "metadata": {},
   "outputs": [],
   "source": [
    "V4 = np.zeros((4, 2**L))\n",
    "V4[:, index] = V3[-4:]"
   ]
  },
  {
   "cell_type": "code",
   "execution_count": 148,
   "id": "elder-spirituality",
   "metadata": {},
   "outputs": [
    {
     "data": {
      "text/plain": [
       "array([-6.93889390e-18,  1.11022302e-16,  9.71445147e-17,  4.51028104e-17,\n",
       "       -1.47451495e-17, -5.26922256e-17,  0.00000000e+00,  2.08166817e-17,\n",
       "       -6.93889390e-18,  5.89805982e-17, -9.36750677e-17,  4.85722573e-17,\n",
       "       -3.29597460e-17, -3.12250226e-17,  1.73472348e-18,  1.56125113e-17,\n",
       "       -3.64291930e-17,  7.63278329e-17,  1.24900090e-16,  3.12250226e-17,\n",
       "        3.46944695e-18, -3.55618313e-17,  2.81491157e-19,  0.00000000e+00,\n",
       "        3.12250226e-17, -1.45716772e-16, -8.50014503e-17, -3.12250226e-17,\n",
       "       -7.02563008e-17,  1.38777878e-17, -4.33680869e-18, -3.46944695e-17,\n",
       "       -2.42861287e-17,  1.12757026e-17,  3.81639165e-17, -2.60208521e-18,\n",
       "        3.46944695e-18,  4.16333634e-17,  0.00000000e+00, -2.94902991e-17,\n",
       "        4.16333634e-17, -1.73472348e-17, -3.46944695e-17, -3.46944695e-18,\n",
       "        3.46944695e-18,  3.46944695e-18,  1.30104261e-17, -3.85185989e-33,\n",
       "        0.00000000e+00,  6.93889390e-18,  2.16840434e-17,  4.33680869e-18,\n",
       "        0.00000000e+00,  1.38777878e-17,  0.00000000e+00,  1.04083409e-16,\n",
       "        2.77555756e-17,  4.77048956e-18,  0.00000000e+00, -7.80625564e-18,\n",
       "       -1.73472348e-18, -6.74075481e-34,  1.21430643e-17,  0.00000000e+00])"
      ]
     },
     "execution_count": 148,
     "metadata": {},
     "output_type": "execute_result"
    }
   ],
   "source": [
    "C2 @ V4[0]"
   ]
  },
  {
   "cell_type": "code",
   "execution_count": 150,
   "id": "blank-glance",
   "metadata": {},
   "outputs": [
    {
     "data": {
      "text/plain": [
       "(4, 64)"
      ]
     },
     "execution_count": 150,
     "metadata": {},
     "output_type": "execute_result"
    }
   ],
   "source": [
    "V4.shape"
   ]
  }
 ],
 "metadata": {
  "kernelspec": {
   "display_name": "Python 3 (ipykernel)",
   "language": "python",
   "name": "python3"
  },
  "language_info": {
   "codemirror_mode": {
    "name": "ipython",
    "version": 3
   },
   "file_extension": ".py",
   "mimetype": "text/x-python",
   "name": "python",
   "nbconvert_exporter": "python",
   "pygments_lexer": "ipython3",
   "version": "3.7.7"
  }
 },
 "nbformat": 4,
 "nbformat_minor": 5
}
