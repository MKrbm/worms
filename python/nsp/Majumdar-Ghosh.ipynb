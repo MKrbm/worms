{
 "cells": [
  {
   "cell_type": "code",
   "execution_count": 1,
   "id": "prescription-ownership",
   "metadata": {},
   "outputs": [],
   "source": [
    "import numpy as np\n",
    "from scipy.linalg import expm, sinm, cosm\n",
    "from scipy import sparse\n",
    "import scipy\n",
    "from utils import lossfunc as lf\n",
    "\n",
    "import sys\n",
    "sys.path.append('..')"
   ]
  },
  {
   "cell_type": "code",
   "execution_count": 2,
   "id": "continued-austin",
   "metadata": {},
   "outputs": [],
   "source": [
    "from utils import functions as f"
   ]
  },
  {
   "cell_type": "code",
   "execution_count": 3,
   "id": "further-andrew",
   "metadata": {
    "scrolled": true
   },
   "outputs": [
    {
     "name": "stderr",
     "output_type": "stream",
     "text": [
      "/home/keisuke/miniconda3/envs/quspin/lib/python3.7/site-packages/ipykernel_launcher.py:16: ComplexWarning: Casting complex values to real discards the imaginary part\n",
      "  app.launch_new_instance()\n"
     ]
    }
   ],
   "source": [
    "L = 6\n",
    "\n",
    "Sz = np.zeros([2,2])\n",
    "Sz[0,0] = 1/2\n",
    "Sz[1,1] = -1/2\n",
    "Sx = np.zeros([2,2])\n",
    "Sx[1,0] = 1/2\n",
    "Sx[0,1] = 1/2\n",
    "Sy = np.zeros([2,2], dtype=np.complex64)\n",
    "Sy[1,0] = 1j/2\n",
    "Sy[0,1] = -1j/2\n",
    "\n",
    "\n",
    "SzSz = np.kron(Sz,Sz).astype(np.float64)\n",
    "SxSx = np.kron(Sx,Sx).astype(np.float64)\n",
    "SySy = np.kron(Sy,Sy).astype(np.float64)\n",
    "\n",
    "lh = SzSz + SxSx + SySy\n",
    "# lh = - lh\n",
    "\n",
    "\n",
    "LH_ = sparse.csr_matrix((2**3,2**3), dtype = np.float64)\n",
    "i = 0\n",
    "LH_ += f.l2nl(lh/2, 3, [0, 1], sps = 2)\n",
    "LH_ += f.l2nl(lh/2, 3, [0, 2], sps = 2)\n",
    "LH_ += f.l2nl(lh/2, 3, [1, 2], sps = 2)"
   ]
  },
  {
   "cell_type": "code",
   "execution_count": 6,
   "id": "iraqi-contrast",
   "metadata": {},
   "outputs": [
    {
     "name": "stdout",
     "output_type": "stream",
     "text": [
      "\u001b[0m\u001b[01;34marray\u001b[0m/                    heisernberg.ipynb  readme.txt\r\n",
      "array.txt                 ladder.ipynb       shastry_exact.py\r\n",
      "check_conn_from_index.py  \u001b[01;34mmake_local\u001b[0m/        simple_4site_model.ipynb\r\n",
      "check_conn.py             MC.ipynb           SS_hamiltonian.ipynb\r\n",
      "\u001b[01;34mfordebug\u001b[0m/                 \u001b[01;34mnsp\u001b[0m/               test.py\r\n",
      "functions_old.py          \u001b[01;34m__pycache__\u001b[0m/       visualize.ipynb\r\n"
     ]
    }
   ],
   "source": [
    "ls .."
   ]
  },
  {
   "cell_type": "markdown",
   "id": "athletic-newark",
   "metadata": {},
   "source": [
    "### exact diagonalization with original matrix"
   ]
  },
  {
   "cell_type": "code",
   "execution_count": 7,
   "id": "baking-bunny",
   "metadata": {},
   "outputs": [
    {
     "data": {
      "text/plain": [
       "<module 'utils.functions' from '/home/keisuke/worms/python/nsp/utils/functions.py'>"
      ]
     },
     "execution_count": 7,
     "metadata": {},
     "output_type": "execute_result"
    }
   ],
   "source": [
    "f"
   ]
  },
  {
   "cell_type": "code",
   "execution_count": 8,
   "id": "joint-jumping",
   "metadata": {},
   "outputs": [
    {
     "name": "stdout",
     "output_type": "stream",
     "text": [
      "[-2.25000000e+00 -2.25000000e+00 -1.75000000e+00 -1.75000000e+00\n",
      " -1.75000000e+00 -1.56872930e+00 -1.56872930e+00 -1.56872930e+00\n",
      " -1.56872930e+00 -1.56872930e+00 -1.56872930e+00 -1.25000000e+00\n",
      " -1.25000000e+00 -1.00000000e+00 -1.00000000e+00 -1.00000000e+00\n",
      " -1.00000000e+00 -1.00000000e+00 -1.00000000e+00 -2.50000000e-01\n",
      " -2.50000000e-01 -2.50000000e-01 -2.50000000e-01 -2.50000000e-01\n",
      " -2.50000000e-01 -5.74378323e-16 -3.74386533e-16 -2.56020317e-16\n",
      " -1.08727260e-16 -9.39622451e-17 -8.72558660e-18  1.85935954e-17\n",
      "  1.24795511e-16  1.71593828e-16  1.74052791e-16  2.50000000e-01\n",
      "  2.50000000e-01  2.50000000e-01  2.50000000e-01  2.50000000e-01\n",
      "  2.50000000e-01  3.18729304e-01  3.18729304e-01  3.18729304e-01\n",
      "  3.18729304e-01  3.18729304e-01  3.18729304e-01  1.00000000e+00\n",
      "  1.00000000e+00  1.00000000e+00  1.00000000e+00  1.00000000e+00\n",
      "  1.00000000e+00  1.00000000e+00  1.00000000e+00  1.00000000e+00\n",
      "  1.00000000e+00  2.25000000e+00  2.25000000e+00  2.25000000e+00\n",
      "  2.25000000e+00  2.25000000e+00  2.25000000e+00  2.25000000e+00]\n"
     ]
    },
    {
     "name": "stderr",
     "output_type": "stream",
     "text": [
      "/home/keisuke/miniconda3/envs/quspin/lib/python3.7/site-packages/scipy/sparse/_index.py:82: SparseEfficiencyWarning: Changing the sparsity structure of a csr_matrix is expensive. lil_matrix is more efficient.\n",
      "  self._set_intXint(row, col, x.flat[0])\n"
     ]
    }
   ],
   "source": [
    "from importlib import reload\n",
    "from scipy import sparse\n",
    "import scipy.sparse.linalg\n",
    "import scipy\n",
    "reload(f)\n",
    "L = 6\n",
    "H = sparse.csr_matrix((2**L, 2**L), dtype=np.float64)\n",
    "for i in range(L):\n",
    "    \n",
    "    H += f.l2nl(lh, L, [i,(i+1)%L], sps = 2)\n",
    "    H += f.l2nl(lh/2, L, [i,(i+2)%L], sps = 2)   \n",
    "\n",
    "E, V = np.linalg.eigh(H.toarray())\n",
    "print(E)"
   ]
  },
  {
   "cell_type": "markdown",
   "id": "numeric-amplifier",
   "metadata": {},
   "source": [
    "## Thermodynamical Properties"
   ]
  },
  {
   "cell_type": "code",
   "execution_count": 10,
   "id": "athletic-representative",
   "metadata": {},
   "outputs": [
    {
     "data": {
      "text/plain": [
       "-1.1478481848393933"
      ]
     },
     "execution_count": 10,
     "metadata": {},
     "output_type": "execute_result"
    }
   ],
   "source": [
    "beta = 1\n",
    "Z = np.exp(-beta*E).sum()\n",
    "EZ = (E*np.exp(-beta*E)).sum()\n",
    "EZ/Z"
   ]
  },
  {
   "cell_type": "markdown",
   "id": "shaped-partner",
   "metadata": {},
   "source": [
    "### rewritten with projection operators"
   ]
  },
  {
   "cell_type": "code",
   "execution_count": 11,
   "id": "freelance-purple",
   "metadata": {},
   "outputs": [],
   "source": [
    "LH = sparse.csr_matrix((2**3,2**3), dtype = np.float64)\n",
    "i = 0\n",
    "LH += f.l2nl(lh/2, 3, [i,(i+1)%L], sps = 2)\n",
    "LH += f.l2nl(lh/2, 3, [(i+1)%L,(i+2)%L], sps = 2)\n",
    "LH += f.l2nl(lh/2, 3, [i,(i+2)%L], sps = 2) \n",
    "LH = LH"
   ]
  },
  {
   "cell_type": "code",
   "execution_count": 12,
   "id": "measured-postcard",
   "metadata": {},
   "outputs": [],
   "source": [
    "LH_ = sparse.csr_matrix((2**3,2**3), dtype = np.float64)\n",
    "i = 0\n",
    "LH_ += f.l2nl(lh/2, 3, [0, 1], sps = 2)\n",
    "LH_ += f.l2nl(lh/2, 3, [0, 2], sps = 2)\n",
    "LH_ += f.l2nl(lh/2, 3, [1, 2], sps = 2)\n",
    "\n",
    "\n",
    "\n",
    "LH = sparse.csr_matrix((2**6,2**6), dtype = np.float64)\n",
    "LH += f.l2nl(LH_/2, 6, [0, 1, 2], sps = 2)\n",
    "LH += f.l2nl(LH_, 6, [1, 2, 3], sps = 2)\n",
    "LH += f.l2nl(LH_, 6, [2, 3, 4], sps = 2)\n",
    "LH += f.l2nl(LH_/2, 6, [3, 4, 5], sps = 2)\n",
    "\n",
    "H = sparse.csr_matrix((2**6,2**6), dtype = np.float64)\n",
    "H += f.l2nl(LH, 2, [0, 1], sps = 8)\n",
    "H += f.l2nl(LH, 2, [1, 0], sps = 8)\n",
    "\n",
    "LH2 = f.l2nl(LH, 2, [1, 0], sps = 8)\n",
    "X = -H.toarray()\n",
    "X1 = -LH.toarray()\n",
    "X2 = -LH2.toarray()"
   ]
  },
  {
   "cell_type": "code",
   "execution_count": 87,
   "id": "organic-closer",
   "metadata": {},
   "outputs": [
    {
     "data": {
      "text/plain": [
       "4096"
      ]
     },
     "execution_count": 87,
     "metadata": {},
     "output_type": "execute_result"
    }
   ],
   "source": [
    "2**12"
   ]
  },
  {
   "cell_type": "code",
   "execution_count": 91,
   "id": "north-suite",
   "metadata": {},
   "outputs": [
    {
     "name": "stderr",
     "output_type": "stream",
     "text": [
      "/home/keisuke/miniconda3/envs/quspin/lib/python3.7/site-packages/scipy/sparse/_index.py:82: SparseEfficiencyWarning: Changing the sparsity structure of a csr_matrix is expensive. lil_matrix is more efficient.\n",
      "  self._set_intXint(row, col, x.flat[0])\n"
     ]
    }
   ],
   "source": [
    "H2 = sparse.csr_matrix((2**12,2**12), dtype = np.float64)\n",
    "H2 += f.l2nl(LH, 4, [0, 1], sps = 8)\n",
    "H2 += f.l2nl(LH, 4, [1, 2], sps = 8)"
   ]
  },
  {
   "cell_type": "code",
   "execution_count": 92,
   "id": "loving-exclusive",
   "metadata": {},
   "outputs": [
    {
     "data": {
      "text/plain": [
       "array([-2.25+0.j, -2.25+0.j, -2.25+0.j, ..., -2.25+0.j, -2.25+0.j,\n",
       "       -2.25+0.j])"
      ]
     },
     "execution_count": 92,
     "metadata": {},
     "output_type": "execute_result"
    }
   ],
   "source": [
    "X = -(H2).toarray()\n",
    "np.linalg.eigvals(X)"
   ]
  },
  {
   "cell_type": "code",
   "execution_count": 94,
   "id": "stopped-volunteer",
   "metadata": {},
   "outputs": [
    {
     "data": {
      "text/plain": [
       "array([ 0.648, -0.354, -1.125, -0.75 , -0.919, -1.125, -1.125, -0.616,\n",
       "       -0.616, -1.125, -1.125, -0.125, -0.616, -0.919, -0.919, -0.919,\n",
       "       -0.919, -0.75 , -0.75 , -0.75 , -0.75 , -0.209, -0.209, -0.209,\n",
       "       -0.163, -0.163, -0.163,  0.891,  0.926,  0.926,  0.926,  0.891,\n",
       "        0.891, -0.354, -0.354, -0.354, -0.354,  0.434,  0.434,  0.362,\n",
       "        0.362,  0.362,  0.434,  1.125,  0.648,  0.648,  0.648,  0.648,\n",
       "        0.25 ,  0.25 ,  0.25 ,  0.25 ,  0.25 ,  1.125,  1.125,  1.125,\n",
       "        1.125,  0.625,  0.625,  0.625,  0.625,  0.625, -1.125, -1.125])"
      ]
     },
     "execution_count": 94,
     "metadata": {},
     "output_type": "execute_result"
    }
   ],
   "source": [
    "Y = -(LH).toarray()\n",
    "np.linalg.eigvals(Y)"
   ]
  },
  {
   "cell_type": "code",
   "execution_count": 37,
   "id": "advisory-magnitude",
   "metadata": {},
   "outputs": [],
   "source": [
    "XX = -H2.toarray()\n",
    "XX2 = H2_.toarray()"
   ]
  },
  {
   "cell_type": "code",
   "execution_count": 11,
   "id": "supported-finish",
   "metadata": {},
   "outputs": [
    {
     "name": "stdout",
     "output_type": "stream",
     "text": [
      "3.3736516671379335 3.3736516671379335\n"
     ]
    }
   ],
   "source": [
    "from utils import lossfunc as lf\n",
    "reload(lf)\n",
    "E1 = np.linalg.eigvalsh(lf.make_positive_np(X1)+lf.make_positive_np(X2))[-1]\n",
    "E2 = np.linalg.eigvalsh(lf.make_positive_np(X))[-1]\n",
    "print(E1, E2)"
   ]
  },
  {
   "cell_type": "markdown",
   "id": "cee548e4",
   "metadata": {},
   "source": [
    "### dual annealing"
   ]
  },
  {
   "cell_type": "code",
   "execution_count": 12,
   "id": "6bbf436e",
   "metadata": {},
   "outputs": [],
   "source": [
    "def callbackF(x, f, context):\n",
    "    print(\"target value : {:.5f} in the context {}\".format(f,context))"
   ]
  },
  {
   "cell_type": "code",
   "execution_count": 31,
   "id": "bibliographic-roulette",
   "metadata": {},
   "outputs": [
    {
     "name": "stdout",
     "output_type": "stream",
     "text": [
      "! ---- diagonal elements of the local hamiltonian should be non negative ---- !\n",
      "8 3\n",
      "target value : 11.47950 in the context 0\n",
      "target value : 11.18224 in the context 0\n",
      "target value : 11.13347 in the context 0\n",
      "target value : 11.10018 in the context 0\n",
      "target value : 10.81201 in the context 0\n",
      "target value : 10.45482 in the context 0\n",
      "target value : 10.45191 in the context 0\n",
      "target value : 10.39631 in the context 0\n",
      "target value : 10.20844 in the context 0\n",
      "target value : 9.69565 in the context 0\n",
      "target value : 4.76895 in the context 1\n"
     ]
    }
   ],
   "source": [
    "from utils import optm\n",
    "from utils import lossfunc\n",
    "reload(optm)\n",
    "reload(lossfunc)\n",
    "# X = np.stack([X1_prime, X2_prime])\n",
    "func = optm.unitary_optm([XX], 28, add=True, N = 3)\n",
    "import scipy.optimize as optimize\n",
    "bounds = [[10, 100] for _ in range(28)]\n",
    "ret = optimize.dual_annealing(func, bounds = bounds, restart_temp_ratio = 1e-5, visit = 2.7, initial_temp = 10**3, maxiter = 100, callback = callbackF)\n"
   ]
  },
  {
   "cell_type": "code",
   "execution_count": 38,
   "id": "controversial-engineer",
   "metadata": {},
   "outputs": [
    {
     "data": {
      "text/plain": [
       "4.768950917705867"
      ]
     },
     "execution_count": 38,
     "metadata": {},
     "output_type": "execute_result"
    }
   ],
   "source": [
    "np.linalg.eigvalsh(XX2)[-1]"
   ]
  },
  {
   "cell_type": "code",
   "execution_count": 14,
   "id": "monetary-facility",
   "metadata": {},
   "outputs": [
    {
     "ename": "NameError",
     "evalue": "name 'func' is not defined",
     "output_type": "error",
     "traceback": [
      "\u001b[0;31m---------------------------------------------------------------------------\u001b[0m",
      "\u001b[0;31mNameError\u001b[0m                                 Traceback (most recent call last)",
      "\u001b[0;32m<ipython-input-14-7837b8717988>\u001b[0m in \u001b[0;36m<module>\u001b[0;34m\u001b[0m\n\u001b[0;32m----> 1\u001b[0;31m \u001b[0mfunc\u001b[0m\u001b[0;34m(\u001b[0m\u001b[0mret\u001b[0m\u001b[0;34m.\u001b[0m\u001b[0mx\u001b[0m\u001b[0;34m)\u001b[0m\u001b[0;34m\u001b[0m\u001b[0;34m\u001b[0m\u001b[0m\n\u001b[0m\u001b[1;32m      2\u001b[0m \u001b[0mX1_\u001b[0m \u001b[0;34m=\u001b[0m \u001b[0mfunc\u001b[0m\u001b[0;34m.\u001b[0m\u001b[0mU\u001b[0m \u001b[0;34m@\u001b[0m \u001b[0mX1\u001b[0m \u001b[0;34m@\u001b[0m \u001b[0mfunc\u001b[0m\u001b[0;34m.\u001b[0m\u001b[0mU\u001b[0m\u001b[0;34m.\u001b[0m\u001b[0mT\u001b[0m\u001b[0;34m\u001b[0m\u001b[0;34m\u001b[0m\u001b[0m\n\u001b[1;32m      3\u001b[0m \u001b[0mX2_\u001b[0m \u001b[0;34m=\u001b[0m \u001b[0mfunc\u001b[0m\u001b[0;34m.\u001b[0m\u001b[0mU\u001b[0m \u001b[0;34m@\u001b[0m \u001b[0mX2\u001b[0m \u001b[0;34m@\u001b[0m \u001b[0mfunc\u001b[0m\u001b[0;34m.\u001b[0m\u001b[0mU\u001b[0m\u001b[0;34m.\u001b[0m\u001b[0mT\u001b[0m\u001b[0;34m\u001b[0m\u001b[0;34m\u001b[0m\u001b[0m\n\u001b[1;32m      4\u001b[0m \u001b[0mX_\u001b[0m \u001b[0;34m=\u001b[0m \u001b[0mfunc\u001b[0m\u001b[0;34m.\u001b[0m\u001b[0mU\u001b[0m \u001b[0;34m@\u001b[0m \u001b[0mX\u001b[0m \u001b[0;34m@\u001b[0m \u001b[0mfunc\u001b[0m\u001b[0;34m.\u001b[0m\u001b[0mU\u001b[0m\u001b[0;34m.\u001b[0m\u001b[0mT\u001b[0m\u001b[0;34m\u001b[0m\u001b[0;34m\u001b[0m\u001b[0m\n\u001b[1;32m      5\u001b[0m \u001b[0mE1\u001b[0m \u001b[0;34m=\u001b[0m \u001b[0mnp\u001b[0m\u001b[0;34m.\u001b[0m\u001b[0mlinalg\u001b[0m\u001b[0;34m.\u001b[0m\u001b[0meigvalsh\u001b[0m\u001b[0;34m(\u001b[0m\u001b[0mlf\u001b[0m\u001b[0;34m.\u001b[0m\u001b[0mmake_positive_np\u001b[0m\u001b[0;34m(\u001b[0m\u001b[0mX1_\u001b[0m\u001b[0;34m)\u001b[0m\u001b[0;34m+\u001b[0m\u001b[0mlf\u001b[0m\u001b[0;34m.\u001b[0m\u001b[0mmake_positive_np\u001b[0m\u001b[0;34m(\u001b[0m\u001b[0mX2_\u001b[0m\u001b[0;34m)\u001b[0m\u001b[0;34m)\u001b[0m\u001b[0;34m[\u001b[0m\u001b[0;34m-\u001b[0m\u001b[0;36m1\u001b[0m\u001b[0;34m]\u001b[0m\u001b[0;34m\u001b[0m\u001b[0;34m\u001b[0m\u001b[0m\n",
      "\u001b[0;31mNameError\u001b[0m: name 'func' is not defined"
     ]
    }
   ],
   "source": [
    "func(ret.x)\n",
    "X1_ = func.U @ X1 @ func.U.T\n",
    "X2_ = func.U @ X2 @ func.U.T\n",
    "X_ = func.U @ X @ func.U.T\n",
    "E1 = np.linalg.eigvalsh(lf.make_positive_np(X1_)+lf.make_positive_np(X2_))[-1]\n",
    "E2 = np.linalg.eigvalsh(lf.make_positive_np(X_))[-1]\n",
    "print(E1, E2)"
   ]
  },
  {
   "cell_type": "markdown",
   "id": "c8f3637b",
   "metadata": {},
   "source": [
    "### gradient descent"
   ]
  },
  {
   "cell_type": "code",
   "execution_count": 41,
   "id": "catholic-demand",
   "metadata": {},
   "outputs": [
    {
     "name": "stdout",
     "output_type": "stream",
     "text": [
      "! ---- diagonal elements of the local hamiltonian should be non negative ---- !\n",
      "target loss : 3.232\n",
      "loss before optm : 4.7689509177\n",
      "\n",
      "---------- iteration start ----------\n",
      "iteration :        0   loss : 11.349\n",
      "iteration :     1000   loss : 8.754\n",
      "iteration :     2000   loss : 6.759\n",
      "iteration :     3000   loss : 6.303\n",
      "iteration :     4000   loss : 5.926\n",
      "iteration :     5000   loss : 5.532\n",
      "iteration :     6000   loss : 4.779\n",
      "iteration :     7000   loss : 4.781\n",
      "iteration :     8000   loss : 4.780\n",
      "iteration :     9000   loss : 4.780\n",
      "\n",
      " -------------- results --------------\n",
      "target loss      : 3.2316287937\n",
      "loss before optm : 4.7987576602\n",
      "loss after optm  : 4.8113853127\n"
     ]
    }
   ],
   "source": [
    "from utils import optm\n",
    "import torch.optim\n",
    "reload(optm)\n",
    "model, gl = optm.optim_matrix_symm([torch.tensor(XX)], 10000, optm_method = torch.optim.SGD, seed = 10, lr = 0.001, add = False, N = 3)"
   ]
  },
  {
   "cell_type": "code",
   "execution_count": 52,
   "id": "still-fountain",
   "metadata": {},
   "outputs": [
    {
     "name": "stdout",
     "output_type": "stream",
     "text": [
      "3.1330417318092953 2.891255499117778\n"
     ]
    }
   ],
   "source": [
    "func(ret.x)\n",
    "U = np.array(model.matrix.data)\n",
    "X1_ = U @ X1 @ U.T\n",
    "X2_ = U @ X2 @ U.T\n",
    "X_ = U @ X @ U.T\n",
    "E1 = np.linalg.eigvalsh(lf.make_positive_np(X1_)+lf.make_positive_np(X2_))[-1]\n",
    "E2 = np.linalg.eigvalsh(lf.make_positive_np(X_))[-1]\n",
    "print(E1, E2)"
   ]
  },
  {
   "cell_type": "code",
   "execution_count": 72,
   "id": "capital-baseball",
   "metadata": {},
   "outputs": [
    {
     "data": {
      "text/plain": [
       "7.999999999999999"
      ]
     },
     "execution_count": 72,
     "metadata": {},
     "output_type": "execute_result"
    }
   ],
   "source": [
    "(2**9) ** (1/3)"
   ]
  },
  {
   "cell_type": "code",
   "execution_count": 112,
   "id": "automotive-raleigh",
   "metadata": {},
   "outputs": [
    {
     "name": "stdout",
     "output_type": "stream",
     "text": [
      "target loss : 2.250\n",
      "\n",
      "---------- iteration start ----------\n",
      "iteration :    0   loss : 20.031\n",
      "iteration : 1000   loss : 19.706\n",
      "iteration : 2000   loss : 19.703\n",
      "iteration : 3000   loss : 19.699\n",
      "iteration : 4000   loss : 19.704\n",
      "iteration : 5000   loss : 19.699\n",
      "iteration : 6000   loss : 19.701\n",
      "iteration : 7000   loss : 19.707\n",
      "iteration : 8000   loss : 19.705\n",
      "iteration : 9000   loss : 19.702\n",
      "\n",
      " -------------- results --------------\n",
      "target loss      : 2.2500000000\n",
      "loss before optm : 2.8182674076\n",
      "loss after optm  : 2.6929198104\n"
     ]
    }
   ],
   "source": [
    "from utils import optm\n",
    "import torch.optim\n",
    "reload(optm)\n",
    "model, gl = optm.optim_matrix_symm([torch.tensor(X)], 10000, optm_method = torch.optim.SGD, seed = 10, lr = 0.001, add = True)"
   ]
  },
  {
   "cell_type": "markdown",
   "id": "1c496a3d",
   "metadata": {},
   "source": [
    "### another cost function\n",
    "\n",
    "minimize $\\langle \\psi ^ + \\vert H^+ \\vert \\psi ^ + \\rangle$ "
   ]
  },
  {
   "cell_type": "code",
   "execution_count": 268,
   "id": "b2d7b38c",
   "metadata": {},
   "outputs": [
    {
     "name": "stderr",
     "output_type": "stream",
     "text": [
      "/Users/keisukemurota/miniconda3/envs/research/lib/python3.7/site-packages/ipykernel_launcher.py:1: UserWarning: To copy construct from a tensor, it is recommended to use sourceTensor.clone().detach() or sourceTensor.clone().detach().requires_grad_(True), rather than torch.tensor(sourceTensor).\n",
      "  \"\"\"Entry point for launching an IPython kernel.\n"
     ]
    }
   ],
   "source": [
    "X_prime = torch.tensor(X)\n",
    "X_prime = X_prime[None, :, :]"
   ]
  },
  {
   "cell_type": "code",
   "execution_count": 247,
   "id": "78ac00fc",
   "metadata": {},
   "outputs": [],
   "source": [
    "reload(optm)\n",
    "solver = optm.unitary_solver2(X, [8,8], True)"
   ]
  },
  {
   "cell_type": "code",
   "execution_count": 248,
   "id": "c95b6f83",
   "metadata": {},
   "outputs": [
    {
     "name": "stdout",
     "output_type": "stream",
     "text": [
      "iteration :    0   loss : 17.725\n",
      "iteration : 1000   loss : 11.772\n",
      "iteration : 2000   loss : 11.426\n",
      "iteration : 3000   loss : 11.365\n",
      "iteration : 4000   loss : 11.361\n",
      "iteration : 5000   loss : 11.359\n",
      "iteration : 6000   loss : 11.357\n",
      "iteration : 7000   loss : 11.357\n",
      "iteration : 8000   loss : 11.357\n",
      "iteration : 9000   loss : 11.358\n"
     ]
    }
   ],
   "source": [
    "for t in range(10**4):\n",
    "    optimizer = torch.optim.SGD(solver.parameters(), lr = 0.001)\n",
    "    M, V = solver()\n",
    "    loss_ = optm.loss_2(M,V)\n",
    "    optimizer.zero_grad()\n",
    "    loss_.backward()\n",
    "    if (t % 1000) == 0:\n",
    "        print(\"iteration : {:4d}   loss : {:.3f}\".format(t,loss_.item()))\n",
    "    optimizer.step()"
   ]
  },
  {
   "cell_type": "markdown",
   "id": "c44771de",
   "metadata": {},
   "source": [
    "## test several optimization scheme\n",
    "\n",
    "$\\lambda_i$ is the eigenvalues of $(UHU^T)^+$\n",
    "$$\n",
    "E = \\max(\\lambda_i) \\\\\n",
    "w_{k+1} = w_k - \\alpha \\cdot \\gamma \\cdot \\text{sign}(\\partial E / \\partial w_k)\n",
    "$$"
   ]
  },
  {
   "cell_type": "code",
   "execution_count": 60,
   "id": "f408bfd9",
   "metadata": {},
   "outputs": [
    {
     "data": {
      "text/plain": [
       "<module 'utils.optm_method' from '/home/keisuke/worms/python/nsp/utils/optm_method.py'>"
      ]
     },
     "execution_count": 60,
     "metadata": {},
     "output_type": "execute_result"
    }
   ],
   "source": [
    "from utils import optm_method as optmm\n",
    "reload(optm)\n",
    "reload(optmm)"
   ]
  },
  {
   "cell_type": "code",
   "execution_count": 47,
   "id": "b1425777",
   "metadata": {
    "collapsed": true
   },
   "outputs": [
    {
     "name": "stdout",
     "output_type": "stream",
     "text": [
      "add all matrix after positive map\n",
      "! ---- diagonal elements of the local hamiltonian should be non negative ---- !\n",
      "target loss : 3.232\n",
      "loss before optm : 4.7689509177\n",
      "\n",
      "---------- iteration start ----------\n",
      "iteration :        0   loss : 4.780\tgamma = 0.0001\n"
     ]
    },
    {
     "name": "stderr",
     "output_type": "stream",
     "text": [
      "/home/keisuke/worms/python/nsp/utils/optm.py:422: UserWarning: To copy construct from a tensor, it is recommended to use sourceTensor.clone().detach() or sourceTensor.clone().detach().requires_grad_(True), rather than torch.tensor(sourceTensor).\n",
      "  model._params = torch.nn.Parameter(torch.tensor(init_params))\n"
     ]
    },
    {
     "name": "stdout",
     "output_type": "stream",
     "text": [
      "iteration :     1000   loss : 4.771\tgamma = 0.0001\n",
      "iteration :     2000   loss : 4.772\tgamma = 0.0001\n",
      "iteration :     3000   loss : 4.770\tgamma = 0.0001\n",
      "iteration :     4000   loss : 4.771\tgamma = 0.0001\n",
      "iteration :     5000   loss : 4.771\tgamma = 0.0001\n",
      "iteration :     6000   loss : 4.771\tgamma = 0.0001\n",
      "iteration :     7000   loss : 4.771\tgamma = 0.0001\n",
      "iteration :     8000   loss : 4.771\tgamma = 0.0001\n",
      "iteration :     9000   loss : 4.771\tgamma = 0.0001\n"
     ]
    },
    {
     "ename": "KeyboardInterrupt",
     "evalue": "",
     "output_type": "error",
     "traceback": [
      "\u001b[0;31m---------------------------------------------------------------------------\u001b[0m",
      "\u001b[0;31mKeyboardInterrupt\u001b[0m                         Traceback (most recent call last)",
      "\u001b[0;32m<ipython-input-47-8029d8eb655b>\u001b[0m in \u001b[0;36m<module>\u001b[0;34m\u001b[0m\n\u001b[1;32m      9\u001b[0m         \u001b[0minit_params\u001b[0m \u001b[0;34m=\u001b[0m \u001b[0mmodel\u001b[0m\u001b[0;34m.\u001b[0m\u001b[0mparams\u001b[0m\u001b[0;34m.\u001b[0m\u001b[0mdata\u001b[0m\u001b[0;34m,\u001b[0m\u001b[0;34m\u001b[0m\u001b[0;34m\u001b[0m\u001b[0m\n\u001b[1;32m     10\u001b[0m         \u001b[0mgamma\u001b[0m \u001b[0;34m=\u001b[0m \u001b[0;36m0.0001\u001b[0m\u001b[0;34m,\u001b[0m\u001b[0;34m\u001b[0m\u001b[0;34m\u001b[0m\u001b[0m\n\u001b[0;32m---> 11\u001b[0;31m         \u001b[0mr\u001b[0m \u001b[0;34m=\u001b[0m \u001b[0;36m1\u001b[0m\u001b[0;34m,\u001b[0m\u001b[0;34m\u001b[0m\u001b[0;34m\u001b[0m\u001b[0m\n\u001b[0m\u001b[1;32m     12\u001b[0m         )\n",
      "\u001b[0;32m~/worms/python/nsp/utils/optm.py\u001b[0m in \u001b[0;36moptim_matrix_symm\u001b[0;34m(X, N_iter, optm_method, loss_func, print_status, seed, beta, init_params, add, N, **kwargs)\u001b[0m\n\u001b[1;32m    446\u001b[0m     \u001b[0;32mfor\u001b[0m \u001b[0mt\u001b[0m \u001b[0;32min\u001b[0m \u001b[0mrange\u001b[0m\u001b[0;34m(\u001b[0m\u001b[0mN_iter\u001b[0m\u001b[0;34m)\u001b[0m\u001b[0;34m:\u001b[0m\u001b[0;34m\u001b[0m\u001b[0;34m\u001b[0m\u001b[0m\n\u001b[1;32m    447\u001b[0m         \u001b[0my\u001b[0m\u001b[0;34m=\u001b[0m \u001b[0mmodel\u001b[0m\u001b[0;34m(\u001b[0m\u001b[0mX\u001b[0m\u001b[0;34m)\u001b[0m\u001b[0;34m\u001b[0m\u001b[0;34m\u001b[0m\u001b[0m\n\u001b[0;32m--> 448\u001b[0;31m         \u001b[0mloss\u001b[0m \u001b[0;34m=\u001b[0m \u001b[0mloss_func\u001b[0m\u001b[0;34m(\u001b[0m\u001b[0my\u001b[0m\u001b[0;34m,\u001b[0m \u001b[0madd\u001b[0m\u001b[0;34m)\u001b[0m\u001b[0;34m\u001b[0m\u001b[0;34m\u001b[0m\u001b[0m\n\u001b[0m\u001b[1;32m    449\u001b[0m         \u001b[0mloss_\u001b[0m \u001b[0;34m=\u001b[0m \u001b[0mloss\u001b[0m\u001b[0;34m\u001b[0m\u001b[0;34m\u001b[0m\u001b[0m\n\u001b[1;32m    450\u001b[0m         \u001b[0;32mif\u001b[0m \u001b[0mt\u001b[0m \u001b[0;34m%\u001b[0m \u001b[0;36m1000\u001b[0m \u001b[0;34m==\u001b[0m \u001b[0;36m0\u001b[0m\u001b[0;34m:\u001b[0m\u001b[0;34m\u001b[0m\u001b[0;34m\u001b[0m\u001b[0m\n",
      "\u001b[0;32m~/worms/python/nsp/utils/lossfunc.py\u001b[0m in \u001b[0;36mloss_eig\u001b[0;34m(A, add)\u001b[0m\n\u001b[1;32m     31\u001b[0m             \u001b[0;32mfor\u001b[0m \u001b[0ma\u001b[0m \u001b[0;32min\u001b[0m \u001b[0mA\u001b[0m\u001b[0;34m:\u001b[0m\u001b[0;34m\u001b[0m\u001b[0;34m\u001b[0m\u001b[0m\n\u001b[1;32m     32\u001b[0m                 \u001b[0ma_\u001b[0m \u001b[0;34m=\u001b[0m \u001b[0mmake_positive\u001b[0m\u001b[0;34m(\u001b[0m\u001b[0ma\u001b[0m\u001b[0;34m)\u001b[0m\u001b[0;34m\u001b[0m\u001b[0;34m\u001b[0m\u001b[0m\n\u001b[0;32m---> 33\u001b[0;31m                 \u001b[0meigs\u001b[0m \u001b[0;34m=\u001b[0m \u001b[0mtorch\u001b[0m\u001b[0;34m.\u001b[0m\u001b[0mlinalg\u001b[0m\u001b[0;34m.\u001b[0m\u001b[0meigvalsh\u001b[0m\u001b[0;34m(\u001b[0m\u001b[0ma_\u001b[0m\u001b[0;34m)\u001b[0m\u001b[0;34m\u001b[0m\u001b[0;34m\u001b[0m\u001b[0m\n\u001b[0m\u001b[1;32m     34\u001b[0m                 \u001b[0mB\u001b[0m \u001b[0;34m+=\u001b[0m \u001b[0meigs\u001b[0m\u001b[0;34m[\u001b[0m\u001b[0;34m-\u001b[0m\u001b[0;36m1\u001b[0m\u001b[0;34m]\u001b[0m\u001b[0;34m\u001b[0m\u001b[0;34m\u001b[0m\u001b[0m\n\u001b[1;32m     35\u001b[0m         \u001b[0;32melse\u001b[0m\u001b[0;34m:\u001b[0m\u001b[0;34m\u001b[0m\u001b[0;34m\u001b[0m\u001b[0m\n",
      "\u001b[0;31mKeyboardInterrupt\u001b[0m: "
     ]
    }
   ],
   "source": [
    "reload(optm)\n",
    "import torch.optim\n",
    "model, gl = optm.optim_matrix_symm(\n",
    "        [torch.tensor(XX)],\n",
    "        40000, \n",
    "        optm_method = optm.scheme1, \n",
    "        add = True,\n",
    "        N = 3,\n",
    "        init_params = model.params.data,\n",
    "        gamma = 0.0001,\n",
    "        r = 1,\n",
    "        )"
   ]
  },
  {
   "cell_type": "code",
   "execution_count": 61,
   "id": "boxed-acrylic",
   "metadata": {
    "scrolled": true
   },
   "outputs": [
    {
     "data": {
      "text/plain": [
       "tensor([[[-1.1249e+00,  5.7433e-04, -2.0622e-03,  ..., -2.6068e-04,\n",
       "           1.8573e-03,  1.4738e-04],\n",
       "         [ 5.7433e-04, -3.7621e-01, -3.8972e-05,  ..., -9.8915e-05,\n",
       "           1.2528e-01, -1.2440e-01],\n",
       "         [-2.0622e-03, -3.8972e-05, -1.2500e-01,  ...,  1.2482e-01,\n",
       "          -5.9196e-04,  4.1393e-04],\n",
       "         ...,\n",
       "         [-2.6068e-04, -9.8915e-05,  1.2482e-01,  ...,  2.5081e-03,\n",
       "           1.4832e-03, -4.6849e-04],\n",
       "         [ 1.8573e-03,  1.2528e-01, -5.9196e-04,  ...,  1.4832e-03,\n",
       "          -3.6737e-03,  1.2713e-01],\n",
       "         [ 1.4738e-04, -1.2440e-01,  4.1393e-04,  ..., -4.6849e-04,\n",
       "           1.2713e-01, -2.5187e-01]]], dtype=torch.float64,\n",
       "       grad_fn=<UnsafeViewBackward0>)"
      ]
     },
     "execution_count": 61,
     "metadata": {},
     "output_type": "execute_result"
    }
   ],
   "source": [
    "model(torch.tensor(X1))"
   ]
  },
  {
   "cell_type": "code",
   "execution_count": 69,
   "id": "adolescent-baltimore",
   "metadata": {},
   "outputs": [
    {
     "data": {
      "text/plain": [
       "array([[[0., 0., 0., ..., 0., 0., 0.],\n",
       "        [0., 0., 0., ..., 0., 0., 0.],\n",
       "        [0., 0., 0., ..., 0., 0., 0.],\n",
       "        ...,\n",
       "        [0., 0., 0., ..., 0., 0., 0.],\n",
       "        [0., 0., 0., ..., 0., 0., 0.],\n",
       "        [0., 0., 0., ..., 0., 0., 0.]]])"
      ]
     },
     "execution_count": 69,
     "metadata": {},
     "output_type": "execute_result"
    }
   ],
   "source": [
    "np.array(model.matrix.data) @ X1 @ np.array(model.matrix.data).T - np.array(model(torch.tensor(X1)).data)"
   ]
  },
  {
   "cell_type": "code",
   "execution_count": 70,
   "id": "moral-championship",
   "metadata": {
    "scrolled": true
   },
   "outputs": [
    {
     "name": "stdout",
     "output_type": "stream",
     "text": [
      "add all matrix after positive map\n",
      "! ---- diagonal elements of the local hamiltonian should be non negative ---- !\n",
      "target loss : 2.250\n",
      "loss before optm : 3.3736516671\n",
      "\n",
      "---------- iteration start ----------\n",
      "iteration :        0   loss : 6.657\tgamma = 0.001\n",
      "iteration :     1000   loss : 2.643\tgamma = 0.001\n",
      "iteration :     2000   loss : 2.515\tgamma = 0.001\n",
      "iteration :     3000   loss : 2.517\tgamma = 0.001\n",
      "iteration :     4000   loss : 2.518\tgamma = 0.001\n",
      "iteration :     5000   loss : 2.515\tgamma = 0.001\n",
      "iteration :     6000   loss : 2.516\tgamma = 0.001\n",
      "iteration :     7000   loss : 2.517\tgamma = 0.001\n",
      "iteration :     8000   loss : 2.516\tgamma = 0.001\n",
      "iteration :     9000   loss : 2.516\tgamma = 0.001\n",
      "\n",
      " -------------- results --------------\n",
      "target loss      : 2.2500000000\n",
      "loss before optm : 3.4361406616\n",
      "loss after optm  : 2.8780380129\n"
     ]
    }
   ],
   "source": [
    "reload(optm)\n",
    "import torch.optim\n",
    "model, gl = optm.optim_matrix_symm(\n",
    "        [torch.tensor(X)],\n",
    "        10000, \n",
    "        optm_method = optm.scheme1, \n",
    "        add = True,\n",
    "#         seed = 10,\n",
    "        gamma = 0.001,\n",
    "        r = 1,\n",
    "        )"
   ]
  },
  {
   "cell_type": "code",
   "execution_count": null,
   "id": "third-charity",
   "metadata": {},
   "outputs": [],
   "source": []
  },
  {
   "cell_type": "code",
   "execution_count": 57,
   "id": "needed-destruction",
   "metadata": {},
   "outputs": [
    {
     "name": "stdout",
     "output_type": "stream",
     "text": [
      "4.074062871639318 2.5194723775016445\n"
     ]
    }
   ],
   "source": [
    "U = np.array(model.matrix.data)\n",
    "X1_ = U @ X1 @ U.T\n",
    "X2_ = U @ X2 @ U.T\n",
    "X_ = U @ X @ U.T\n",
    "E1 = np.linalg.eigvalsh(lf.make_positive_np(X1_)+lf.make_positive_np(X2_))[-1]\n",
    "E2 = np.linalg.eigvalsh(lf.make_positive_np(X_))[-1]\n",
    "print(E1, E2)"
   ]
  },
  {
   "cell_type": "code",
   "execution_count": 57,
   "id": "extraordinary-expert",
   "metadata": {},
   "outputs": [
    {
     "name": "stderr",
     "output_type": "stream",
     "text": [
      "/home/keisuke/miniconda3/envs/quspin/lib/python3.7/site-packages/scipy/sparse/_index.py:82: SparseEfficiencyWarning: Changing the sparsity structure of a csr_matrix is expensive. lil_matrix is more efficient.\n",
      "  self._set_intXint(row, col, x.flat[0])\n"
     ]
    }
   ],
   "source": [
    "U = np.array(model.matrix.data)\n",
    "\n",
    "H2_ = sparse.csr_matrix((2**9,2**9), dtype = np.float64)\n",
    "H2_ += f.l2nl(lf.make_positive_np(-(U@LH.toarray()@U.T)), 3, [0, 1], sps = 8)\n",
    "H2_ += f.l2nl(lf.make_positive_np(-(U@LH.toarray()@U.T)), 3, [1, 2], sps = 8)\n",
    "H2_ += f.l2nl(lf.make_positive_np(-(U@LH.toarray()@U.T)), 3, [2, 0], sps = 8)\n",
    "\n",
    "H2 = sparse.csr_matrix((2**6,2**6), dtype = np.float64)\n",
    "H2 += f.l2nl(LH, 3, [0, 1], sps = 8)\n",
    "H2 += f.l2nl(LH, 3, [1, 2], sps = 8)\n",
    "H2 += f.l2nl(LH, 3, [2, 0], sps = 8)"
   ]
  },
  {
   "cell_type": "code",
   "execution_count": 60,
   "id": "robust-providence",
   "metadata": {},
   "outputs": [
    {
     "data": {
      "text/plain": [
       "array([-3.375, -3.375, -3.375, -3.375, -3.375, -3.375, -3.375, -3.375,\n",
       "       -3.375, -3.375, -2.728, -2.728, -2.728, -2.728, -2.728, -2.728,\n",
       "       -2.728, -2.728, -2.728, -2.728, -2.728, -2.728, -2.728, -2.728,\n",
       "       -2.728, -2.728, -2.274, -2.274, -2.274, -2.274, -2.274, -2.274,\n",
       "       -2.274, -2.274, -2.274, -2.274, -2.274, -2.274, -2.003, -2.003,\n",
       "       -2.003, -2.003, -2.003, -2.003, -2.003, -2.003, -1.918, -1.918,\n",
       "       -1.918, -1.918, -1.901, -1.901, -1.901, -1.901, -1.901, -1.901,\n",
       "       -1.622, -1.622, -1.622, -1.622, -1.622, -1.622, -1.622, -1.622,\n",
       "       -1.579, -1.579, -1.579, -1.579, -1.579, -1.579, -1.579, -1.579,\n",
       "       -1.579, -1.579, -1.579, -1.579, -1.579, -1.579, -1.579, -1.579,\n",
       "       -1.534, -1.534, -1.534, -1.534, -1.534, -1.534, -1.534, -1.534,\n",
       "       -1.534, -1.534, -1.534, -1.534, -1.318, -1.318, -1.318, -1.318,\n",
       "       -1.318, -1.318, -1.318, -1.318, -1.318, -1.318, -1.318, -1.318,\n",
       "       -1.318, -1.318, -1.318, -1.318, -1.29 , -1.29 , -1.29 , -1.29 ,\n",
       "       -1.29 , -1.29 , -1.29 , -1.29 , -1.193, -1.193, -1.193, -1.193,\n",
       "       -1.193, -1.193, -1.193, -1.193, -1.193, -1.193, -1.193, -1.193,\n",
       "       -1.125, -1.125, -1.125, -1.125, -1.125, -1.125, -1.125, -1.125,\n",
       "       -1.125, -1.125, -1.125, -1.125, -1.125, -1.125, -1.125, -1.125,\n",
       "       -0.894, -0.894, -0.894, -0.894, -0.894, -0.894, -0.894, -0.894,\n",
       "       -0.894, -0.894, -0.894, -0.894, -0.814, -0.814, -0.814, -0.814,\n",
       "       -0.743, -0.743, -0.743, -0.743, -0.743, -0.743, -0.743, -0.743,\n",
       "       -0.667, -0.667, -0.508, -0.508, -0.508, -0.508, -0.508, -0.508,\n",
       "       -0.508, -0.508, -0.508, -0.508, -0.508, -0.508, -0.451, -0.451,\n",
       "       -0.451, -0.451, -0.451, -0.451, -0.451, -0.451, -0.451, -0.451,\n",
       "       -0.451, -0.451, -0.447, -0.447, -0.447, -0.447, -0.419, -0.419,\n",
       "       -0.419, -0.419, -0.378, -0.378, -0.378, -0.378, -0.378, -0.378,\n",
       "       -0.378, -0.378, -0.239, -0.239, -0.239, -0.239, -0.23 , -0.23 ,\n",
       "       -0.23 , -0.23 , -0.212, -0.212, -0.212, -0.212, -0.212, -0.212,\n",
       "       -0.212, -0.212, -0.212, -0.212, -0.212, -0.212, -0.195, -0.195,\n",
       "       -0.195, -0.195, -0.195, -0.195, -0.195, -0.195, -0.116, -0.116,\n",
       "       -0.116, -0.116, -0.116, -0.116,  0.019,  0.019,  0.019,  0.019,\n",
       "        0.019,  0.019,  0.019,  0.019,  0.019,  0.019,  0.019,  0.019,\n",
       "        0.068,  0.068,  0.068,  0.068,  0.068,  0.068,  0.068,  0.068,\n",
       "        0.114,  0.114,  0.114,  0.114,  0.302,  0.302,  0.302,  0.302,\n",
       "        0.302,  0.302,  0.302,  0.302,  0.314,  0.314,  0.314,  0.314,\n",
       "        0.314,  0.314,  0.314,  0.314,  0.345,  0.345,  0.345,  0.345,\n",
       "        0.345,  0.345,  0.345,  0.345,  0.345,  0.345,  0.345,  0.345,\n",
       "        0.375,  0.375,  0.422,  0.422,  0.422,  0.422,  0.508,  0.508,\n",
       "        0.508,  0.508,  0.508,  0.508,  0.508,  0.508,  0.508,  0.508,\n",
       "        0.508,  0.508,  0.537,  0.537,  0.537,  0.537,  0.537,  0.537,\n",
       "        0.537,  0.537,  0.549,  0.549,  0.549,  0.549,  0.613,  0.613,\n",
       "        0.613,  0.613,  0.613,  0.613,  0.613,  0.613,  0.663,  0.663,\n",
       "        0.663,  0.663,  0.8  ,  0.8  ,  0.8  ,  0.8  ,  0.8  ,  0.8  ,\n",
       "        0.8  ,  0.8  ,  0.827,  0.827,  0.827,  0.827,  0.827,  0.827,\n",
       "        0.827,  0.827,  0.834,  0.834,  0.834,  0.834,  0.834,  0.834,\n",
       "        0.834,  0.834,  0.834,  0.834,  0.834,  0.834,  0.837,  0.837,\n",
       "        0.86 ,  0.86 ,  0.86 ,  0.86 ,  0.86 ,  0.86 ,  0.86 ,  0.86 ,\n",
       "        0.86 ,  0.86 ,  0.86 ,  0.86 ,  0.866,  0.866,  0.866,  0.866,\n",
       "        0.892,  0.892,  0.892,  0.892,  0.892,  0.892,  1.177,  1.177,\n",
       "        1.177,  1.177,  1.213,  1.213,  1.213,  1.213,  1.213,  1.213,\n",
       "        1.213,  1.213,  1.235,  1.235,  1.235,  1.235,  1.235,  1.235,\n",
       "        1.235,  1.235,  1.249,  1.249,  1.249,  1.249,  1.384,  1.384,\n",
       "        1.384,  1.384,  1.418,  1.418,  1.418,  1.418,  1.418,  1.418,\n",
       "        1.418,  1.418,  1.488,  1.488,  1.488,  1.488,  1.502,  1.502,\n",
       "        1.502,  1.502,  1.502,  1.502,  1.502,  1.502,  1.507,  1.507,\n",
       "        1.507,  1.507,  1.754,  1.754,  1.754,  1.754,  1.754,  1.754,\n",
       "        1.754,  1.754,  1.894,  1.894,  1.894,  1.894,  1.894,  1.894,\n",
       "        1.894,  1.894,  1.899,  1.899,  1.899,  1.899,  2.093,  2.093,\n",
       "        2.093,  2.093,  2.107,  2.107,  2.107,  2.107,  2.107,  2.107,\n",
       "        2.107,  2.107,  2.166,  2.166,  2.166,  2.166,  2.179,  2.179,\n",
       "        2.179,  2.179,  2.306,  2.306,  2.306,  2.306,  2.374,  2.374,\n",
       "        2.374,  2.374,  2.455,  2.455,  2.524,  2.524,  2.524,  2.524,\n",
       "        2.524,  2.524,  2.524,  2.524,  2.763,  2.763,  2.763,  2.763,\n",
       "        3.014,  3.014,  3.014,  3.014,  3.232,  3.232,  3.232,  3.232])"
      ]
     },
     "execution_count": 60,
     "metadata": {},
     "output_type": "execute_result"
    }
   ],
   "source": [
    "np.linalg.eigvalsh(-H2.toarray())"
   ]
  },
  {
   "cell_type": "markdown",
   "id": "f85ae225",
   "metadata": {},
   "source": [
    "## gridsearch revisit"
   ]
  },
  {
   "cell_type": "code",
   "execution_count": 272,
   "id": "d2383be9",
   "metadata": {},
   "outputs": [
    {
     "data": {
      "text/plain": [
       "<module 'utils.optm_method' from '/Users/keisukemurota/Documents/todo/worms/python/nsp/utils/optm_method.py'>"
      ]
     },
     "execution_count": 272,
     "metadata": {},
     "output_type": "execute_result"
    }
   ],
   "source": [
    "from utils import optm\n",
    "from utils import optm_method as optmm\n",
    "reload(optm)\n",
    "reload(optmm)"
   ]
  },
  {
   "cell_type": "code",
   "execution_count": 279,
   "id": "669d0ca4",
   "metadata": {},
   "outputs": [],
   "source": [
    "n_index = 4\n",
    "ranges = (slice(-10, 10), ) * n_index\n",
    "index = np.random.choice(28, n_index, replace=True)\n",
    "grid = optm.unitary_optm(X, 28, index=index, init_param = np.array(model._params.data))"
   ]
  },
  {
   "cell_type": "code",
   "execution_count": 280,
   "id": "3dacd2d5",
   "metadata": {
    "collapsed": true
   },
   "outputs": [
    {
     "ename": "KeyboardInterrupt",
     "evalue": "",
     "output_type": "error",
     "traceback": [
      "\u001b[0;31m---------------------------------------------------------------------------\u001b[0m",
      "\u001b[0;31mKeyboardInterrupt\u001b[0m                         Traceback (most recent call last)",
      "\u001b[0;32m/var/folders/z7/m5qzz0hj12z06hxsn5km2c400000gn/T/ipykernel_6135/3474955355.py\u001b[0m in \u001b[0;36m<module>\u001b[0;34m\u001b[0m\n\u001b[1;32m      2\u001b[0m \u001b[0;34m\u001b[0m\u001b[0m\n\u001b[1;32m      3\u001b[0m \u001b[0;32mfor\u001b[0m \u001b[0m_\u001b[0m \u001b[0;32min\u001b[0m \u001b[0mrange\u001b[0m\u001b[0;34m(\u001b[0m\u001b[0;36m100\u001b[0m\u001b[0;34m)\u001b[0m\u001b[0;34m:\u001b[0m\u001b[0;34m\u001b[0m\u001b[0;34m\u001b[0m\u001b[0m\n\u001b[0;32m----> 4\u001b[0;31m     \u001b[0mresbrute\u001b[0m \u001b[0;34m=\u001b[0m \u001b[0mscipy\u001b[0m\u001b[0;34m.\u001b[0m\u001b[0moptimize\u001b[0m\u001b[0;34m.\u001b[0m\u001b[0mbrute\u001b[0m\u001b[0;34m(\u001b[0m\u001b[0mgrid\u001b[0m\u001b[0;34m,\u001b[0m \u001b[0mranges\u001b[0m \u001b[0;34m=\u001b[0m \u001b[0mranges\u001b[0m\u001b[0;34m,\u001b[0m \u001b[0mfull_output\u001b[0m\u001b[0;34m=\u001b[0m\u001b[0;32mTrue\u001b[0m\u001b[0;34m)\u001b[0m\u001b[0;34m\u001b[0m\u001b[0;34m\u001b[0m\u001b[0m\n\u001b[0m\u001b[1;32m      5\u001b[0m     \u001b[0mindex\u001b[0m \u001b[0;34m=\u001b[0m \u001b[0mnp\u001b[0m\u001b[0;34m.\u001b[0m\u001b[0mrandom\u001b[0m\u001b[0;34m.\u001b[0m\u001b[0mchoice\u001b[0m\u001b[0;34m(\u001b[0m\u001b[0;36m28\u001b[0m\u001b[0;34m,\u001b[0m \u001b[0mn_index\u001b[0m \u001b[0;34m,\u001b[0m \u001b[0mreplace\u001b[0m\u001b[0;34m=\u001b[0m\u001b[0;32mTrue\u001b[0m\u001b[0;34m)\u001b[0m\u001b[0;34m\u001b[0m\u001b[0;34m\u001b[0m\u001b[0m\n\u001b[1;32m      6\u001b[0m \u001b[0;31m#     print(resbrute[0])\u001b[0m\u001b[0;34m\u001b[0m\u001b[0;34m\u001b[0m\u001b[0;34m\u001b[0m\u001b[0m\n",
      "\u001b[0;32m~/miniconda3/envs/research/lib/python3.7/site-packages/scipy/optimize/optimize.py\u001b[0m in \u001b[0;36mbrute\u001b[0;34m(func, ranges, args, Ns, full_output, finish, disp, workers)\u001b[0m\n\u001b[1;32m   3260\u001b[0m     \u001b[0;31m# iterate over input arrays, possibly in parallel\u001b[0m\u001b[0;34m\u001b[0m\u001b[0;34m\u001b[0m\u001b[0;34m\u001b[0m\u001b[0m\n\u001b[1;32m   3261\u001b[0m     \u001b[0;32mwith\u001b[0m \u001b[0mMapWrapper\u001b[0m\u001b[0;34m(\u001b[0m\u001b[0mpool\u001b[0m\u001b[0;34m=\u001b[0m\u001b[0mworkers\u001b[0m\u001b[0;34m)\u001b[0m \u001b[0;32mas\u001b[0m \u001b[0mmapper\u001b[0m\u001b[0;34m:\u001b[0m\u001b[0;34m\u001b[0m\u001b[0;34m\u001b[0m\u001b[0m\n\u001b[0;32m-> 3262\u001b[0;31m         \u001b[0mJout\u001b[0m \u001b[0;34m=\u001b[0m \u001b[0mnp\u001b[0m\u001b[0;34m.\u001b[0m\u001b[0marray\u001b[0m\u001b[0;34m(\u001b[0m\u001b[0mlist\u001b[0m\u001b[0;34m(\u001b[0m\u001b[0mmapper\u001b[0m\u001b[0;34m(\u001b[0m\u001b[0mwrapped_func\u001b[0m\u001b[0;34m,\u001b[0m \u001b[0mgrid\u001b[0m\u001b[0;34m)\u001b[0m\u001b[0;34m)\u001b[0m\u001b[0;34m)\u001b[0m\u001b[0;34m\u001b[0m\u001b[0;34m\u001b[0m\u001b[0m\n\u001b[0m\u001b[1;32m   3263\u001b[0m         \u001b[0;32mif\u001b[0m \u001b[0;34m(\u001b[0m\u001b[0mN\u001b[0m \u001b[0;34m==\u001b[0m \u001b[0;36m1\u001b[0m\u001b[0;34m)\u001b[0m\u001b[0;34m:\u001b[0m\u001b[0;34m\u001b[0m\u001b[0;34m\u001b[0m\u001b[0m\n\u001b[1;32m   3264\u001b[0m             \u001b[0mgrid\u001b[0m \u001b[0;34m=\u001b[0m \u001b[0;34m(\u001b[0m\u001b[0mgrid\u001b[0m\u001b[0;34m,\u001b[0m\u001b[0;34m)\u001b[0m\u001b[0;34m\u001b[0m\u001b[0;34m\u001b[0m\u001b[0m\n",
      "\u001b[0;32m~/miniconda3/envs/research/lib/python3.7/site-packages/scipy/optimize/optimize.py\u001b[0m in \u001b[0;36m__call__\u001b[0;34m(self, x)\u001b[0m\n\u001b[1;32m   3332\u001b[0m     \u001b[0;32mdef\u001b[0m \u001b[0m__call__\u001b[0m\u001b[0;34m(\u001b[0m\u001b[0mself\u001b[0m\u001b[0;34m,\u001b[0m \u001b[0mx\u001b[0m\u001b[0;34m)\u001b[0m\u001b[0;34m:\u001b[0m\u001b[0;34m\u001b[0m\u001b[0;34m\u001b[0m\u001b[0m\n\u001b[1;32m   3333\u001b[0m         \u001b[0;31m# flatten needed for one dimensional case.\u001b[0m\u001b[0;34m\u001b[0m\u001b[0;34m\u001b[0m\u001b[0;34m\u001b[0m\u001b[0m\n\u001b[0;32m-> 3334\u001b[0;31m         \u001b[0;32mreturn\u001b[0m \u001b[0mself\u001b[0m\u001b[0;34m.\u001b[0m\u001b[0mf\u001b[0m\u001b[0;34m(\u001b[0m\u001b[0mnp\u001b[0m\u001b[0;34m.\u001b[0m\u001b[0masarray\u001b[0m\u001b[0;34m(\u001b[0m\u001b[0mx\u001b[0m\u001b[0;34m)\u001b[0m\u001b[0;34m.\u001b[0m\u001b[0mflatten\u001b[0m\u001b[0;34m(\u001b[0m\u001b[0;34m)\u001b[0m\u001b[0;34m,\u001b[0m \u001b[0;34m*\u001b[0m\u001b[0mself\u001b[0m\u001b[0;34m.\u001b[0m\u001b[0margs\u001b[0m\u001b[0;34m)\u001b[0m\u001b[0;34m\u001b[0m\u001b[0;34m\u001b[0m\u001b[0m\n\u001b[0m\u001b[1;32m   3335\u001b[0m \u001b[0;34m\u001b[0m\u001b[0m\n\u001b[1;32m   3336\u001b[0m \u001b[0;34m\u001b[0m\u001b[0m\n",
      "\u001b[0;32m~/Documents/todo/worms/python/nsp/utils/optm.py\u001b[0m in \u001b[0;36m__call__\u001b[0;34m(self, param)\u001b[0m\n\u001b[1;32m    508\u001b[0m         \u001b[0monesite_mat\u001b[0m \u001b[0;34m=\u001b[0m \u001b[0mexpm\u001b[0m\u001b[0;34m(\u001b[0m\u001b[0mtmp\u001b[0m\u001b[0;34m.\u001b[0m\u001b[0msum\u001b[0m\u001b[0;34m(\u001b[0m\u001b[0maxis\u001b[0m\u001b[0;34m=\u001b[0m\u001b[0;36m0\u001b[0m\u001b[0;34m)\u001b[0m\u001b[0;34m)\u001b[0m\u001b[0;34m\u001b[0m\u001b[0;34m\u001b[0m\u001b[0m\n\u001b[1;32m    509\u001b[0m         \u001b[0mU\u001b[0m \u001b[0;34m=\u001b[0m \u001b[0mnp\u001b[0m\u001b[0;34m.\u001b[0m\u001b[0mkron\u001b[0m\u001b[0;34m(\u001b[0m\u001b[0monesite_mat\u001b[0m\u001b[0;34m,\u001b[0m \u001b[0monesite_mat\u001b[0m\u001b[0;34m)\u001b[0m\u001b[0;34m[\u001b[0m\u001b[0;32mNone\u001b[0m\u001b[0;34m,\u001b[0m \u001b[0;34m:\u001b[0m\u001b[0;34m,\u001b[0m \u001b[0;34m:\u001b[0m\u001b[0;34m]\u001b[0m\u001b[0;34m\u001b[0m\u001b[0;34m\u001b[0m\u001b[0m\n\u001b[0;32m--> 510\u001b[0;31m         \u001b[0;32mreturn\u001b[0m \u001b[0mloss_eig_np\u001b[0m\u001b[0;34m(\u001b[0m\u001b[0mU\u001b[0m \u001b[0;34m@\u001b[0m \u001b[0mself\u001b[0m\u001b[0;34m.\u001b[0m\u001b[0mX\u001b[0m \u001b[0;34m@\u001b[0m \u001b[0mU\u001b[0m\u001b[0;34m.\u001b[0m\u001b[0mswapaxes\u001b[0m\u001b[0;34m(\u001b[0m\u001b[0;36m1\u001b[0m\u001b[0;34m,\u001b[0m\u001b[0;36m2\u001b[0m\u001b[0;34m)\u001b[0m\u001b[0;34m)\u001b[0m\u001b[0;34m\u001b[0m\u001b[0;34m\u001b[0m\u001b[0m\n\u001b[0m\u001b[1;32m    511\u001b[0m \u001b[0;34m\u001b[0m\u001b[0m\n\u001b[1;32m    512\u001b[0m \u001b[0;34m\u001b[0m\u001b[0m\n",
      "\u001b[0;31mKeyboardInterrupt\u001b[0m: "
     ]
    }
   ],
   "source": [
    "import scipy.optimize\n",
    "\n",
    "for _ in range(100):\n",
    "    resbrute = scipy.optimize.brute(grid, ranges = ranges, full_output=True)\n",
    "    index = np.random.choice(28, n_index , replace=True)\n",
    "#     print(resbrute[0])\n",
    "    print(\"target {:.4f}\".format(resbrute[1]))\n",
    "#     print(grid.params)\n",
    "    grid = optm.unitary_optm(X, 28, index=index, init_param = grid.params)"
   ]
  },
  {
   "cell_type": "code",
   "execution_count": 127,
   "id": "547dd9a1",
   "metadata": {},
   "outputs": [
    {
     "data": {
      "text/plain": [
       "array([ 9, 21,  1])"
      ]
     },
     "execution_count": 127,
     "metadata": {},
     "output_type": "execute_result"
    }
   ],
   "source": [
    "index"
   ]
  },
  {
   "cell_type": "code",
   "execution_count": 254,
   "id": "8efe26a5",
   "metadata": {},
   "outputs": [
    {
     "data": {
      "text/plain": [
       "4.761640719693298"
      ]
     },
     "execution_count": 254,
     "metadata": {},
     "output_type": "execute_result"
    }
   ],
   "source": [
    "grid([0])"
   ]
  },
  {
   "cell_type": "code",
   "execution_count": 257,
   "id": "0ecd8bff",
   "metadata": {},
   "outputs": [],
   "source": [
    "T = np.linspace(-100,100, 1000)\n",
    "y = []\n",
    "grid = optm.unitary_optm(X, 28, index=index, init_param = np.array(model._params.data))\n",
    "for t in T:\n",
    "    y.append(grid([t*np.pi+250]))"
   ]
  },
  {
   "cell_type": "code",
   "execution_count": 258,
   "id": "bf76c7c8",
   "metadata": {},
   "outputs": [
    {
     "data": {
      "text/plain": [
       "[<matplotlib.lines.Line2D at 0x7f845bbaa390>]"
      ]
     },
     "execution_count": 258,
     "metadata": {},
     "output_type": "execute_result"
    },
    {
     "data": {
      "image/png": "[encoded data removed]",
      "text/plain": [
       "<Figure size 432x288 with 1 Axes>"
      ]
     },
     "metadata": {
      "needs_background": "light"
     },
     "output_type": "display_data"
    }
   ],
   "source": [
    "from matplotlib import pyplot as plt\n",
    "\n",
    "fig, ax = plt.subplots()\n",
    "ax.plot(T,y)"
   ]
  },
  {
   "cell_type": "code",
   "execution_count": 194,
   "id": "1942945b",
   "metadata": {},
   "outputs": [
    {
     "data": {
      "text/plain": [
       "array([248630.97], dtype=float32)"
      ]
     },
     "execution_count": 194,
     "metadata": {},
     "output_type": "execute_result"
    }
   ],
   "source": [
    "grid.params[grid.index]"
   ]
  },
  {
   "cell_type": "code",
   "execution_count": 68,
   "id": "7d9f4328",
   "metadata": {},
   "outputs": [
    {
     "data": {
      "text/plain": [
       "array([4.34404299e+00, 5.78362881e-04, 3.21762196e+00])"
      ]
     },
     "execution_count": 68,
     "metadata": {},
     "output_type": "execute_result"
    }
   ],
   "source": [
    "resbrute"
   ]
  },
  {
   "cell_type": "code",
   "execution_count": 199,
   "id": "6f005370",
   "metadata": {},
   "outputs": [
    {
     "data": {
      "text/plain": [
       "array([-1.,  0.,  0.,  0.,  0.,  0.,  0.,  1.])"
      ]
     },
     "execution_count": 199,
     "metadata": {},
     "output_type": "execute_result"
    }
   ],
   "source": [
    "np.linalg.eigvalsh(grid.generators[0])"
   ]
  },
  {
   "cell_type": "code",
   "execution_count": 100,
   "id": "clinical-reservation",
   "metadata": {},
   "outputs": [],
   "source": [
    "def exp_energy(E, beta):\n",
    "    Z = np.exp(-beta*E)\n",
    "    EZ = E*Z\n",
    "    return np.sum(EZ)/np.sum(Z)"
   ]
  },
  {
   "cell_type": "code",
   "execution_count": 190,
   "id": "black-rover",
   "metadata": {},
   "outputs": [],
   "source": [
    "X = np.load(\"../array/MG_union_bond.npy\")"
   ]
  },
  {
   "cell_type": "code",
   "execution_count": 191,
   "id": "starting-atlanta",
   "metadata": {},
   "outputs": [],
   "source": [
    "# X = f.set_origin(X)"
   ]
  },
  {
   "cell_type": "code",
   "execution_count": 192,
   "id": "divine-choir",
   "metadata": {},
   "outputs": [],
   "source": [
    "# X += 0.1*np.eye(X.shape[0])"
   ]
  },
  {
   "cell_type": "code",
   "execution_count": 197,
   "id": "ancient-professional",
   "metadata": {},
   "outputs": [],
   "source": [
    "Y = lf.positive_map_np(X) / 1.5"
   ]
  },
  {
   "cell_type": "code",
   "execution_count": 198,
   "id": "fifth-simon",
   "metadata": {},
   "outputs": [],
   "source": [
    "np.save(\"../array/MG_union_abs.npy\",Y)\n",
    "np.save(\"../array/MG_union_bond_mod.npy\", X)"
   ]
  },
  {
   "cell_type": "code",
   "execution_count": 199,
   "id": "great-increase",
   "metadata": {},
   "outputs": [],
   "source": [
    "L = 2\n",
    "H = np.zeros((2**(3*L), 2**(3*L)), dtype=np.float64)\n",
    "for i in range(L):\n",
    "    H += f.l2nl(X, L, [i, (i+1)%L], sps = 8)    \n",
    "    \n",
    "H_abs = np.zeros((2**(3*L), 2**(3*L)), dtype=np.float64)\n",
    "for i in range(L):\n",
    "    H_abs += f.l2nl(Y, L, [i, (i+1)%L], sps = 8) "
   ]
  },
  {
   "cell_type": "code",
   "execution_count": 200,
   "id": "proper-nature",
   "metadata": {},
   "outputs": [
    {
     "data": {
      "text/plain": [
       "0.9996004939667935"
      ]
     },
     "execution_count": 200,
     "metadata": {},
     "output_type": "execute_result"
    }
   ],
   "source": [
    "np.linalg.eigvalsh(H_abs)[-1] / np.linalg.eigvalsh(H)[-1]"
   ]
  },
  {
   "cell_type": "code",
   "execution_count": 201,
   "id": "bronze-cause",
   "metadata": {},
   "outputs": [
    {
     "data": {
      "text/plain": [
       "2.1476951995419356"
      ]
     },
     "execution_count": 201,
     "metadata": {},
     "output_type": "execute_result"
    }
   ],
   "source": [
    "E_abs = np.linalg.eigvalsh(H_abs)\n",
    "E= np.linalg.eigvalsh(H)\n",
    "exp_energy(E_abs, -1/0.2)"
   ]
  },
  {
   "cell_type": "code",
   "execution_count": 202,
   "id": "linear-throw",
   "metadata": {},
   "outputs": [
    {
     "data": {
      "text/plain": [
       "1.1478481848393938"
      ]
     },
     "execution_count": 202,
     "metadata": {},
     "output_type": "execute_result"
    }
   ],
   "source": [
    "exp_energy(E, -1/1)"
   ]
  },
  {
   "cell_type": "code",
   "execution_count": 203,
   "id": "advanced-terminal",
   "metadata": {},
   "outputs": [
    {
     "data": {
      "text/plain": [
       "2.0128533510410778"
      ]
     },
     "execution_count": 203,
     "metadata": {},
     "output_type": "execute_result"
    }
   ],
   "source": [
    "T = 0.3\n",
    "beta=1/T\n",
    "np.exp(beta*E).sum() / np.exp(beta*E_abs).sum()"
   ]
  },
  {
   "cell_type": "code",
   "execution_count": 204,
   "id": "southwest-exclusive",
   "metadata": {},
   "outputs": [
    {
     "data": {
      "text/plain": [
       "array([-2.25000000e+00, -2.25000000e+00, -2.25000000e+00, -2.25000000e+00,\n",
       "       -2.25000000e+00, -2.25000000e+00, -2.25000000e+00, -1.00000000e+00,\n",
       "       -1.00000000e+00, -1.00000000e+00, -1.00000000e+00, -1.00000000e+00,\n",
       "       -1.00000000e+00, -1.00000000e+00, -1.00000000e+00, -1.00000000e+00,\n",
       "       -1.00000000e+00, -3.18729304e-01, -3.18729304e-01, -3.18729304e-01,\n",
       "       -3.18729304e-01, -3.18729304e-01, -3.18729304e-01, -2.50000000e-01,\n",
       "       -2.50000000e-01, -2.50000000e-01, -2.50000000e-01, -2.50000000e-01,\n",
       "       -2.50000000e-01, -3.34820944e-16, -3.14925965e-16, -1.98312477e-16,\n",
       "       -1.62078241e-16, -7.96990183e-17,  6.25359746e-17,  8.48188160e-17,\n",
       "        1.56612853e-16,  2.38330387e-16,  4.27139659e-16,  2.50000000e-01,\n",
       "        2.50000000e-01,  2.50000000e-01,  2.50000000e-01,  2.50000000e-01,\n",
       "        2.50000000e-01,  1.00000000e+00,  1.00000000e+00,  1.00000000e+00,\n",
       "        1.00000000e+00,  1.00000000e+00,  1.00000000e+00,  1.25000000e+00,\n",
       "        1.25000000e+00,  1.56872930e+00,  1.56872930e+00,  1.56872930e+00,\n",
       "        1.56872930e+00,  1.56872930e+00,  1.56872930e+00,  1.75000000e+00,\n",
       "        1.75000000e+00,  1.75000000e+00,  2.25000000e+00,  2.25000000e+00])"
      ]
     },
     "execution_count": 204,
     "metadata": {},
     "output_type": "execute_result"
    }
   ],
   "source": [
    "E"
   ]
  },
  {
   "cell_type": "code",
   "execution_count": 200,
   "id": "rough-prophet",
   "metadata": {},
   "outputs": [],
   "source": [
    "E, V = np.linalg.eigh(X1)\n",
    "E2, V2 = np.linalg.eigh(H)\n",
    "E3, V3 = np.linalg.eig(V[:,-5:].T @ (H @ V[:,-5:]))"
   ]
  },
  {
   "cell_type": "code",
   "execution_count": 201,
   "id": "classical-arthur",
   "metadata": {},
   "outputs": [],
   "source": [
    "L = 4\n",
    "H2 = np.zeros((2**(3*L), 2**(3*L)), dtype=np.float64)\n",
    "for i in range(L):\n",
    "    H2 += f.l2nl(X1, L, [i, (i+1)%L], sps = 8)    "
   ]
  },
  {
   "cell_type": "code",
   "execution_count": 203,
   "id": "aggregate-slope",
   "metadata": {},
   "outputs": [],
   "source": [
    "phi_tmp = np.kron(V2[:,-1], V2[:,-1])"
   ]
  },
  {
   "cell_type": "code",
   "execution_count": 204,
   "id": "double-subcommittee",
   "metadata": {},
   "outputs": [
    {
     "data": {
      "text/plain": [
       "0.7159772618674878"
      ]
     },
     "execution_count": 204,
     "metadata": {},
     "output_type": "execute_result"
    }
   ],
   "source": [
    "v = np.array([0, 1, -1, 0])\n",
    "v = v / np.linalg.norm(v)\n",
    "v_ = np.kron(v,v)\n",
    "v = np.kron(v_,v)\n",
    "phi_tmp = np.kron(v, v)\n",
    "phi_tmp @ H2 @ phi_tmp"
   ]
  },
  {
   "cell_type": "code",
   "execution_count": 211,
   "id": "human-heaven",
   "metadata": {},
   "outputs": [],
   "source": [
    "L = 4\n",
    "H2 = np.zeros((2**(3*L), 2**(3*L)), dtype=np.float64)\n",
    "for i in range(L):\n",
    "    H2 += f.l2nl(lf.positive_map_np(X1), L, [i, (i+1)%L], sps = 8)    "
   ]
  },
  {
   "cell_type": "code",
   "execution_count": 215,
   "id": "printable-michigan",
   "metadata": {},
   "outputs": [
    {
     "data": {
      "text/plain": [
       "array([-2.56799223, -2.51829465, -2.51262853, -2.46030347, -2.14094017,\n",
       "       -2.13275673, -2.11210305, -1.86208982, -1.85565293, -1.84659392,\n",
       "       -1.22858167, -1.22835962, -1.17452311, -0.81129486, -0.39551445,\n",
       "       -0.38684563, -0.13643964,  0.03837732,  0.14414613,  0.15170647,\n",
       "        0.34898754,  0.35232475,  0.46348436,  0.463934  ,  0.65394476,\n",
       "        0.65432802,  0.93074564,  0.9528555 ,  0.9532637 ,  0.98791121,\n",
       "        1.40070567,  1.40094693,  1.81766211,  1.82818004,  1.91877007,\n",
       "        2.05119553,  2.05437568,  2.0637912 ,  2.17429791,  2.17461039,\n",
       "        2.36125111,  2.37459564,  2.390637  ,  2.48207021,  2.98785266,\n",
       "        3.0049577 ,  3.01901029,  3.19694763,  3.40221401,  3.40622817,\n",
       "        3.62745333,  3.62768165,  3.66353882,  3.97959519,  4.49940496,\n",
       "        4.49999625,  5.34065776,  5.3615753 ,  5.55952311,  5.56098537,\n",
       "        5.89930617,  6.24691235,  6.30026734,  6.59683929])"
      ]
     },
     "execution_count": 215,
     "metadata": {},
     "output_type": "execute_result"
    }
   ],
   "source": [
    "np.linalg.eigvalsh(lf.positive_map_np(X1))*4"
   ]
  },
  {
   "cell_type": "code",
   "execution_count": 212,
   "id": "eligible-trust",
   "metadata": {},
   "outputs": [
    {
     "data": {
      "text/plain": [
       "array([-2.36590386, -2.2125242 , -2.21042423, ...,  6.24414254,\n",
       "        6.28488415,  6.35020017])"
      ]
     },
     "execution_count": 212,
     "metadata": {},
     "output_type": "execute_result"
    }
   ],
   "source": [
    "np.linalg.eigvalsh(H2)"
   ]
  },
  {
   "cell_type": "code",
   "execution_count": 170,
   "id": "portuguese-liabilities",
   "metadata": {},
   "outputs": [],
   "source": [
    "X = np.load(\"../array/MG_union_rns2_bond.npy\")\n",
    "U = np.load(\"../array/MG_union_mat.npy\")\n",
    "X1_ = U @ X1 @ U.T\n",
    "X2_ = U @ X2 @ U.T"
   ]
  },
  {
   "cell_type": "code",
   "execution_count": 194,
   "id": "dominican-literacy",
   "metadata": {},
   "outputs": [],
   "source": [
    "L = 4\n",
    "H = np.zeros((2**(3*L), 2**(3*L)), dtype=np.float64)\n",
    "for i in range(L):\n",
    "    H += f.l2nl(X1_, L, [i, (i+1)%L], sps = 8)    "
   ]
  },
  {
   "cell_type": "code",
   "execution_count": 188,
   "id": "surprising-cambridge",
   "metadata": {},
   "outputs": [],
   "source": [
    "E, V = np.linalg.eigh(X1)\n",
    "E2, V2 = np.linalg.eigh(H)\n",
    "E3, V3 = np.linalg.eig(V[:,-5:].T @ (H @ V[:,-5:]))"
   ]
  },
  {
   "cell_type": "code",
   "execution_count": 186,
   "id": "correct-bubble",
   "metadata": {},
   "outputs": [
    {
     "data": {
      "text/plain": [
       "array([-2.25482596, -2.25009652, -2.24999998, -2.23026216, -2.22673583,\n",
       "       -2.22093704, -2.21893505, -0.99221572, -0.98770001, -0.95849054,\n",
       "       -0.94665373, -0.92718302, -0.86630655, -0.85222408, -0.5691183 ,\n",
       "       -0.55458313, -0.50017058, -0.49450494, -0.48769305, -0.48370753,\n",
       "       -0.47633295, -0.44513375, -0.34840904, -0.29570268, -0.27629952,\n",
       "       -0.26930589, -0.26590672, -0.25549648, -0.25372676, -0.25159202,\n",
       "       -0.22430953, -0.17872386, -0.1274621 , -0.04779233, -0.03514304,\n",
       "       -0.0145918 ,  0.0282751 ,  0.06202975,  0.16026682,  0.16185694,\n",
       "        0.30753828,  0.34763055,  0.48992818,  0.53433066,  0.55632192,\n",
       "        0.71118174,  0.76090692,  0.79311555,  0.80707199,  0.92263542,\n",
       "        0.95172627,  0.97559496,  0.97938528,  0.99621175,  1.2739015 ,\n",
       "        1.33526651,  1.35620203,  1.37186789,  1.41462228,  1.55105205,\n",
       "        2.08148512,  2.47318486,  2.54067919,  3.09400267])"
      ]
     },
     "execution_count": 186,
     "metadata": {},
     "output_type": "execute_result"
    }
   ],
   "source": [
    "np.linalg.eigvalsh(lf.positive_map_np(X, False))"
   ]
  },
  {
   "cell_type": "code",
   "execution_count": 195,
   "id": "civilian-authentication",
   "metadata": {},
   "outputs": [
    {
     "data": {
      "text/plain": [
       "array([-4.67640382, -4.67639054, -4.66969236, ...,  6.11413123,\n",
       "        6.23024843,  6.51680239])"
      ]
     },
     "execution_count": 195,
     "metadata": {},
     "output_type": "execute_result"
    }
   ],
   "source": [
    "np.linalg.eigvalsh(lf.positive_map_np(H, False))"
   ]
  },
  {
   "cell_type": "code",
   "execution_count": 196,
   "id": "legislative-bathroom",
   "metadata": {},
   "outputs": [
    {
     "data": {
      "text/plain": [
       "array([-4.5       , -4.5       , -4.5       , ...,  4.18086623,\n",
       "        4.5       ,  4.5       ])"
      ]
     },
     "execution_count": 196,
     "metadata": {},
     "output_type": "execute_result"
    }
   ],
   "source": [
    "np.linalg.eigvalsh(H)"
   ]
  },
  {
   "cell_type": "code",
   "execution_count": 88,
   "id": "dimensional-bidder",
   "metadata": {},
   "outputs": [
    {
     "data": {
      "text/plain": [
       "array([ 0., -0.,  0., ...,  0.,  0.,  0.])"
      ]
     },
     "execution_count": 88,
     "metadata": {},
     "output_type": "execute_result"
    }
   ],
   "source": [
    "np.kron(V[:,0], V[:,0])"
   ]
  },
  {
   "cell_type": "code",
   "execution_count": 81,
   "id": "descending-swift",
   "metadata": {},
   "outputs": [
    {
     "data": {
      "text/plain": [
       "True"
      ]
     },
     "execution_count": 81,
     "metadata": {},
     "output_type": "execute_result"
    }
   ],
   "source": [
    "isinstance(X1, np.ndarray)"
   ]
  },
  {
   "cell_type": "code",
   "execution_count": null,
   "id": "stylish-contributor",
   "metadata": {},
   "outputs": [],
   "source": [
    "def "
   ]
  }
 ],
 "metadata": {
  "kernelspec": {
   "display_name": "Python 3",
   "language": "python",
   "name": "python3"
  },
  "language_info": {
   "codemirror_mode": {
    "name": "ipython",
    "version": 3
   },
   "file_extension": ".py",
   "mimetype": "text/x-python",
   "name": "python",
   "nbconvert_exporter": "python",
   "pygments_lexer": "ipython3",
   "version": "3.7.9"
  }
 },
 "nbformat": 4,
 "nbformat_minor": 5
}
