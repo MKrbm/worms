{
 "cells": [
  {
   "cell_type": "code",
   "execution_count": 1,
   "id": "ba84ebff",
   "metadata": {},
   "outputs": [],
   "source": [
    "import numpy as np\n",
    "from scipy import sparse\n",
    "import os\n",
    "from utils import optm\n",
    "from utils.functions import *\n",
    "import numpy as np\n",
    "from scipy import sparse\n",
    "from importlib import reload\n",
    "\n",
    "\n",
    "\n",
    "I = np.identity(2)\n",
    "Sz = np.zeros([2,2])\n",
    "Sz[0,0] = 1/2\n",
    "Sz[1,1] = -1/2\n",
    "Sx = np.zeros([2,2])\n",
    "Sx[1,0] = 1/2\n",
    "Sx[0,1] = 1/2\n",
    "Sy = np.zeros([2,2], dtype=np.complex64)\n",
    "Sy[1,0] = 1j/2\n",
    "Sy[0,1] = -1j/2\n",
    "\n",
    "\n",
    "Sz = sparse.csr_matrix(Sz)\n",
    "Sx = sparse.csr_matrix(Sx)\n",
    "Sy = sparse.csr_matrix(Sy)\n",
    "I = sparse.csr_matrix(I)\n",
    "\n",
    "h1 = -(sparse.kron(sparse.kron(I,Sz,format='csr'), sparse.kron(Sz,I,format='csr'),format='csr') \n",
    "       - sparse.kron(sparse.kron(I,Sx,format='csr'), sparse.kron(Sx,I,format='csr'),format='csr')\n",
    "       - sparse.kron(sparse.kron(I,Sy,format='csr'), sparse.kron(Sy,I,format='csr'),format='csr') \n",
    "     ).real\n",
    "\n",
    "\n",
    "h2 = -(sparse.kron(sparse.kron(Sz,I,format='csr'), sparse.kron(Sz,I,format='csr'),format='csr') \n",
    "       - sparse.kron(sparse.kron(Sx,I,format='csr'), sparse.kron(Sx,I,format='csr'),format='csr')\n",
    "       - sparse.kron(sparse.kron(Sy,I,format='csr'), sparse.kron(Sy,I,format='csr'),format='csr') \n",
    "     ).real\n",
    "\n",
    "\n",
    "h3 = -(sparse.kron(sparse.kron(Sz,Sz,format='csr'), sparse.kron(I,I,format='csr'),format='csr') \n",
    "       + sparse.kron(sparse.kron(Sx,Sx,format='csr'), sparse.kron(I,I,format='csr'),format='csr')\n",
    "       + sparse.kron(sparse.kron(Sy,Sy,format='csr'), sparse.kron(I,I,format='csr'),format='csr') \n",
    "     ).real\n",
    "\n",
    "h4 = -(sparse.kron(sparse.kron(I,I,format='csr'), sparse.kron(Sz,Sz,format='csr'),format='csr') \n",
    "       + sparse.kron(sparse.kron(I,I,format='csr'), sparse.kron(Sx,Sx,format='csr'),format='csr')\n",
    "       + sparse.kron(sparse.kron(I,I,format='csr'), sparse.kron(Sy,Sy,format='csr'),format='csr') \n",
    "     ).real\n",
    "\n",
    "\n",
    "\n",
    "\n",
    "h1_ = -(sparse.kron(sparse.kron(Sz,I,format='csr'), sparse.kron(I,Sz,format='csr'),format='csr') \n",
    "       - sparse.kron(sparse.kron(Sx,I,format='csr'), sparse.kron(I,Sx,format='csr'),format='csr')\n",
    "       - sparse.kron(sparse.kron(Sy,I,format='csr'), sparse.kron(I,Sy,format='csr'),format='csr') \n",
    "     ).real\n",
    "\n",
    "h2_ = -(sparse.kron(sparse.kron(I,Sz,format='csr'), sparse.kron(I,Sz,format='csr'),format='csr') \n",
    "       - sparse.kron(sparse.kron(I,Sx,format='csr'), sparse.kron(I,Sx,format='csr'),format='csr')\n",
    "       - sparse.kron(sparse.kron(I,Sy,format='csr'), sparse.kron(I,Sy,format='csr'),format='csr') \n",
    "     ).real\n",
    "\n",
    "\n",
    "\n",
    "h = h1 + h2\n",
    "\n",
    "h_ = h1_ + h2_\n",
    "\n",
    "on_site = h3/4 + h4/4"
   ]
  },
  {
   "cell_type": "code",
   "execution_count": 2,
   "id": "2212d3a1",
   "metadata": {},
   "outputs": [],
   "source": [
    "J1 = 0.3\n",
    "X1 = torch.tensor((J1 * h + on_site).toarray())\n",
    "X1_prime = X1 - torch.eye(X1.shape[0])*(torch.diag(X1).min())\n",
    "\n",
    "X2 = torch.tensor((J1 * h_ + on_site).toarray())\n",
    "X2_prime = X2 - torch.eye(X2.shape[0])*(torch.diag(X2).min())"
   ]
  },
  {
   "cell_type": "code",
   "execution_count": 6,
   "id": "associate-water",
   "metadata": {},
   "outputs": [
    {
     "ename": "NameError",
     "evalue": "name 'model' is not defined",
     "output_type": "error",
     "traceback": [
      "\u001b[0;31m---------------------------------------------------------------------------\u001b[0m",
      "\u001b[0;31mNameError\u001b[0m                                 Traceback (most recent call last)",
      "\u001b[0;32m<ipython-input-6-fe01ae7b8fe0>\u001b[0m in \u001b[0;36m<module>\u001b[0;34m\u001b[0m\n\u001b[0;32m----> 1\u001b[0;31m \u001b[0mmodel\u001b[0m\u001b[0;34m.\u001b[0m\u001b[0m_params\u001b[0m \u001b[0;34m=\u001b[0m \u001b[0mtorch\u001b[0m\u001b[0;34m.\u001b[0m\u001b[0mnn\u001b[0m\u001b[0;34m.\u001b[0m\u001b[0mParameter\u001b[0m\u001b[0;34m(\u001b[0m\u001b[0mmodel\u001b[0m\u001b[0;34m.\u001b[0m\u001b[0m_params\u001b[0m\u001b[0;34m.\u001b[0m\u001b[0mdata\u001b[0m\u001b[0;34m)\u001b[0m\u001b[0;34m\u001b[0m\u001b[0;34m\u001b[0m\u001b[0m\n\u001b[0m",
      "\u001b[0;31mNameError\u001b[0m: name 'model' is not defined"
     ]
    }
   ],
   "source": [
    "model._params = torch.nn.Parameter(model._params.data)"
   ]
  },
  {
   "cell_type": "code",
   "execution_count": 7,
   "id": "ae285f36",
   "metadata": {
    "scrolled": false
   },
   "outputs": [
    {
     "ename": "NameError",
     "evalue": "name 'ret' is not defined",
     "output_type": "error",
     "traceback": [
      "\u001b[0;31m---------------------------------------------------------------------------\u001b[0m",
      "\u001b[0;31mNameError\u001b[0m                                 Traceback (most recent call last)",
      "\u001b[0;32m<ipython-input-7-56244b9132b0>\u001b[0m in \u001b[0;36m<module>\u001b[0;34m\u001b[0m\n\u001b[1;32m      1\u001b[0m \u001b[0mreload\u001b[0m\u001b[0;34m(\u001b[0m\u001b[0moptm\u001b[0m\u001b[0;34m)\u001b[0m\u001b[0;34m\u001b[0m\u001b[0;34m\u001b[0m\u001b[0m\n\u001b[0;32m----> 2\u001b[0;31m \u001b[0mmodel\u001b[0m\u001b[0;34m,\u001b[0m \u001b[0mgl\u001b[0m \u001b[0;34m=\u001b[0m \u001b[0moptm\u001b[0m\u001b[0;34m.\u001b[0m\u001b[0moptim_matrix_symm\u001b[0m\u001b[0;34m(\u001b[0m\u001b[0;34m[\u001b[0m\u001b[0mX1_prime\u001b[0m\u001b[0;34m,\u001b[0m \u001b[0mX2_prime\u001b[0m\u001b[0;34m]\u001b[0m\u001b[0;34m,\u001b[0m \u001b[0;36m10000\u001b[0m\u001b[0;34m,\u001b[0m \u001b[0moptm_method\u001b[0m \u001b[0;34m=\u001b[0m \u001b[0mtorch\u001b[0m\u001b[0;34m.\u001b[0m\u001b[0moptim\u001b[0m\u001b[0;34m.\u001b[0m\u001b[0mSGD\u001b[0m\u001b[0;34m,\u001b[0m \u001b[0mseed\u001b[0m \u001b[0;34m=\u001b[0m \u001b[0;36m10\u001b[0m\u001b[0;34m,\u001b[0m \u001b[0mlr\u001b[0m \u001b[0;34m=\u001b[0m \u001b[0;36m0.01\u001b[0m\u001b[0;34m,\u001b[0m \u001b[0minit_params\u001b[0m \u001b[0;34m=\u001b[0m \u001b[0mret\u001b[0m\u001b[0;34m.\u001b[0m\u001b[0mx\u001b[0m\u001b[0;34m)\u001b[0m\u001b[0;34m\u001b[0m\u001b[0;34m\u001b[0m\u001b[0m\n\u001b[0m",
      "\u001b[0;31mNameError\u001b[0m: name 'ret' is not defined"
     ]
    }
   ],
   "source": [
    "reload(optm)\n",
    "model, gl = optm.optim_matrix_symm([X1_prime, X2_prime], 10000, optm_method = torch.optim.SGD, seed = 10, lr = 0.01, init_params = ret.x)"
   ]
  },
  {
   "cell_type": "code",
   "execution_count": 35,
   "id": "furnished-while",
   "metadata": {},
   "outputs": [],
   "source": [
    "reload(optm)\n",
    "def optimize_func(X, seed = 0):\n",
    "    X = torch.stack(X)\n",
    "    if X.ndim!=3:\n",
    "        X = X[None,:]\n",
    "    L, lps, E = optm.get_mat_status(X)\n",
    "    model = optm.unitary_solver([lps,lps],syms=True, seed = seed)\n",
    "    N_param = (model._params).shape[0]\n",
    "    def func(params):\n",
    "        assert len(params) == N_param, \"inconsistent\"\n",
    "        model._params = torch.nn.Parameter(torch.tensor(params, dtype=torch.float64))\n",
    "        y = model(X)\n",
    "        return optm.loss_eig(y)[0].item()\n",
    "    return func"
   ]
  },
  {
   "cell_type": "code",
   "execution_count": 36,
   "id": "fuzzy-authority",
   "metadata": {},
   "outputs": [],
   "source": [
    "func = optimize_func([X1_prime, X2_prime])"
   ]
  },
  {
   "cell_type": "code",
   "execution_count": 6,
   "id": "revised-guidance",
   "metadata": {},
   "outputs": [
    {
     "ename": "NameError",
     "evalue": "name 'ret' is not defined",
     "output_type": "error",
     "traceback": [
      "\u001b[0;31m---------------------------------------------------------------------------\u001b[0m",
      "\u001b[0;31mNameError\u001b[0m                                 Traceback (most recent call last)",
      "\u001b[0;32m<ipython-input-6-b8fb17b8527f>\u001b[0m in \u001b[0;36m<module>\u001b[0;34m\u001b[0m\n\u001b[0;32m----> 1\u001b[0;31m \u001b[0mret\u001b[0m\u001b[0;34m.\u001b[0m\u001b[0mx\u001b[0m\u001b[0;34m\u001b[0m\u001b[0;34m\u001b[0m\u001b[0m\n\u001b[0m",
      "\u001b[0;31mNameError\u001b[0m: name 'ret' is not defined"
     ]
    }
   ],
   "source": [
    "ret.x"
   ]
  },
  {
   "cell_type": "code",
   "execution_count": 39,
   "id": "concerned-james",
   "metadata": {},
   "outputs": [
    {
     "name": "stdout",
     "output_type": "stream",
     "text": [
      "     fun: 1.3000000715255737\n",
      " message: ['Maximum number of iteration reached']\n",
      "    nfev: 24401\n",
      "    nhev: 0\n",
      "     nit: 2000\n",
      "    njev: 57\n",
      "  status: 0\n",
      " success: True\n",
      "       x: array([0.99376934, 1.78421771, 3.25076314, 3.37049956, 5.34690431,\n",
      "       1.82501702])\n",
      "CPU times: user 1min 44s, sys: 1.9 s, total: 1min 46s\n",
      "Wall time: 8.84 s\n"
     ]
    }
   ],
   "source": [
    "%%time\n",
    "minimizer_kwargs = {\"method\": \"BFGS\"}\n",
    "import scipy.optimize as optimize\n",
    "ret = optimize.dual_annealing(func, bounds = bounds, restart_temp_ratio = 1e-5, maxiter = 2000)\n",
    "print(ret)"
   ]
  },
  {
   "cell_type": "code",
   "execution_count": 40,
   "id": "chicken-oklahoma",
   "metadata": {},
   "outputs": [
    {
     "name": "stdout",
     "output_type": "stream",
     "text": [
      "[6]\n"
     ]
    }
   ],
   "source": []
  },
  {
   "cell_type": "code",
   "execution_count": 26,
   "id": "trained-conclusion",
   "metadata": {},
   "outputs": [
    {
     "name": "stdout",
     "output_type": "stream",
     "text": [
      "[6]\n"
     ]
    }
   ],
   "source": []
  },
  {
   "cell_type": "code",
   "execution_count": 91,
   "id": "caroline-bible",
   "metadata": {
    "scrolled": true
   },
   "outputs": [
    {
     "name": "stdout",
     "output_type": "stream",
     "text": [
      "[6]\n",
      "target value : 10.8269000718 in context : 1\n",
      "target value : 10.8253462301 in context : 0\n",
      "target value : 10.8230516672 in context : 1\n",
      "target value : 10.8229134129 in context : 0\n",
      "target value : 10.8037571976 in context : 1\n",
      "target value : 10.8036413619 in context : 0\n",
      "target value : 10.8034279203 in context : 1\n",
      "target value : 10.7870932133 in context : 0\n",
      "target value : 10.5119178074 in context : 1\n",
      "target value : 10.5119178047 in context : 2\n",
      "target value : 10.5119177412 in context : 2\n",
      "target value : 10.5119177336 in context : 2\n",
      "target value : 10.5119177336 in context : 2\n",
      "target value : 10.5119177313 in context : 2\n",
      "target value : 10.5119177308 in context : 2\n",
      "target value : 10.5119177295 in context : 2\n",
      "target value : 10.5119177284 in context : 2\n",
      "target value : 10.5119177281 in context : 2\n",
      "target value : 10.5119177281 in context : 2\n",
      "target value : 10.4590907380 in context : 2\n",
      "target value : 10.4590907368 in context : 2\n",
      "target value : 10.4590907364 in context : 2\n",
      "target value : 10.4590690485 in context : 0\n",
      "target value : 10.4590605499 in context : 1\n",
      "target value : 10.4590605484 in context : 2\n",
      "target value : 10.4590605461 in context : 2\n",
      "target value : 10.4590601458 in context : 2\n",
      "target value : 10.4590601458 in context : 2\n",
      "target value : 10.3639228572 in context : 2\n",
      "target value : 10.3638151026 in context : 2\n",
      "target value : 10.3638144687 in context : 2\n",
      "target value : 10.3638142911 in context : 2\n",
      "target value : 10.3638142899 in context : 2\n",
      "target value : 10.3638142800 in context : 2\n",
      "target value : 10.3638141597 in context : 2\n",
      "target value : 10.3638141565 in context : 2\n",
      "target value : 10.3638141521 in context : 2\n",
      "target value : 10.3638141519 in context : 2\n",
      "target value : 10.3638132443 in context : 0\n",
      "target value : 10.3638126537 in context : 1\n",
      "target value : 10.3638119535 in context : 2\n",
      "target value : 10.3638119525 in context : 2\n",
      "target value : 10.3638119466 in context : 2\n",
      "target value : 10.3638119272 in context : 2\n",
      "target value : 10.3638119149 in context : 2\n",
      "target value : 10.3638119149 in context : 2\n",
      "target value : 10.3638119149 in context : 2\n",
      "     fun: 10.363811914877413\n",
      " message: ['Maximum number of iteration reached']\n",
      "    nfev: 668554\n",
      "    nhev: 0\n",
      "     nit: 10000\n",
      "    njev: 78364\n",
      "  status: 0\n",
      " success: True\n",
      "       x: array([2.835, 1.269, 5.221, 1.919, 0.921, 3.597])\n",
      "CPU times: user 2min 39s, sys: 12 ms, total: 2min 39s\n",
      "Wall time: 2min 39s\n"
     ]
    }
   ],
   "source": [
    "%%time\n",
    "reload(optm)\n",
    "# X = np.stack([X1_prime, X2_prime])\n",
    "X = 2*np.random.rand(16*16).reshape(16,16)-1\n",
    "X = X + X.T + 2 * np.eye(16)\n",
    "func = optm.unitary_optm(X)\n",
    "import scipy.optimize as optimize\n",
    "bounds = [[0, 2*np.pi] for _ in range(6)]\n",
    "ret = optimize.dual_annealing(func, bounds = bounds, restart_temp_ratio = 1e-5, visit = 2.65, initial_temp = 2*10**4, maxiter = 10000, callback = callbackF)\n",
    "print(ret)"
   ]
  },
  {
   "cell_type": "code",
   "execution_count": 87,
   "id": "speaking-robertson",
   "metadata": {},
   "outputs": [
    {
     "name": "stdout",
     "output_type": "stream",
     "text": [
      "target loss : 7.765\n",
      "\n",
      "---------- iteration start ----------\n",
      "iteration :    0   loss : 11.155\n",
      "iteration : 1000   loss : 11.156\n",
      "iteration : 2000   loss : 11.157\n",
      "iteration : 3000   loss : 11.157\n",
      "iteration : 4000   loss : 11.159\n",
      "iteration : 5000   loss : 11.161\n",
      "iteration : 6000   loss : 11.160\n",
      "iteration : 7000   loss : 11.157\n",
      "iteration : 8000   loss : 11.162\n",
      "iteration : 9000   loss : 11.158\n",
      "\n",
      " -------------- results --------------\n",
      "target loss      : 7.7654734812\n",
      "loss before optm : 12.6343341692\n",
      "loss after optm  : 11.1578897134\n"
     ]
    }
   ],
   "source": [
    "reload(optm)\n",
    "model, gl = optm.optim_matrix_symm([torch.tensor(X)], 10000, optm_method = torch.optim.SGD, seed = 10, lr = 0.01, init_params = ret.x)"
   ]
  },
  {
   "cell_type": "code",
   "execution_count": 77,
   "id": "cheap-plaza",
   "metadata": {},
   "outputs": [
    {
     "data": {
      "text/plain": [
       "tensor([[-1.5575, -1.3128, -0.9974, -0.9227, -0.4537, -0.3640, -0.1814, -0.0176,\n",
       "          0.4268,  0.5763,  0.8236,  1.0566,  1.4807,  1.6735,  2.0359,  7.4246]],\n",
       "       dtype=torch.float64, grad_fn=<LinalgEighBackward0>)"
      ]
     },
     "execution_count": 77,
     "metadata": {},
     "output_type": "execute_result"
    }
   ],
   "source": [
    "torch.linalg.eigvalsh(model(torch.tensor(X)))"
   ]
  },
  {
   "cell_type": "code",
   "execution_count": 83,
   "id": "laughing-virginia",
   "metadata": {},
   "outputs": [
    {
     "data": {
      "text/plain": [
       "tensor([-1.5575, -1.3128, -0.9974, -0.9227, -0.4537, -0.3640, -0.1814, -0.0176,\n",
       "         0.4268,  0.5763,  0.8236,  1.0566,  1.4807,  1.6735,  2.0359,  7.4246],\n",
       "       dtype=torch.float64, grad_fn=<LinalgEighBackward0>)"
      ]
     },
     "execution_count": 83,
     "metadata": {},
     "output_type": "execute_result"
    }
   ],
   "source": [
    "torch.linalg.eigvalsh(model.matrix @ torch.tensor(X) @ model.matrix.T)"
   ]
  },
  {
   "cell_type": "code",
   "execution_count": null,
   "id": "instructional-helping",
   "metadata": {},
   "outputs": [],
   "source": []
  },
  {
   "cell_type": "code",
   "execution_count": 11,
   "id": "organizational-bridges",
   "metadata": {},
   "outputs": [
    {
     "data": {
      "text/plain": [
       "1.3000000119209285"
      ]
     },
     "execution_count": 11,
     "metadata": {},
     "output_type": "execute_result"
    }
   ],
   "source": [
    "np.sum(np.linalg.eigvalsh(X)[:,-1])"
   ]
  },
  {
   "cell_type": "code",
   "execution_count": 19,
   "id": "living-studio",
   "metadata": {},
   "outputs": [
    {
     "data": {
      "text/plain": [
       "array([[[ 5.96046446e-09,  0.00000000e+00,  0.00000000e+00,\n",
       "          0.00000000e+00,  0.00000000e+00,  0.00000000e+00,\n",
       "          0.00000000e+00,  0.00000000e+00,  0.00000000e+00,\n",
       "          0.00000000e+00,  0.00000000e+00,  0.00000000e+00,\n",
       "          0.00000000e+00,  0.00000000e+00,  0.00000000e+00,\n",
       "          0.00000000e+00],\n",
       "        [ 0.00000000e+00,  1.25000006e-01, -1.25000000e-01,\n",
       "          0.00000000e+00,  0.00000000e+00,  0.00000000e+00,\n",
       "          0.00000000e+00,  0.00000000e+00,  0.00000000e+00,\n",
       "          0.00000000e+00,  0.00000000e+00,  0.00000000e+00,\n",
       "          0.00000000e+00,  0.00000000e+00,  0.00000000e+00,\n",
       "          0.00000000e+00],\n",
       "        [ 0.00000000e+00, -1.25000000e-01,  4.25000006e-01,\n",
       "          0.00000000e+00,  1.50000000e-01,  0.00000000e+00,\n",
       "          0.00000000e+00,  0.00000000e+00,  1.50000000e-01,\n",
       "          0.00000000e+00,  0.00000000e+00,  0.00000000e+00,\n",
       "          0.00000000e+00,  0.00000000e+00,  0.00000000e+00,\n",
       "          0.00000000e+00],\n",
       "        [ 0.00000000e+00,  0.00000000e+00,  0.00000000e+00,\n",
       "          3.00000006e-01,  0.00000000e+00,  1.50000000e-01,\n",
       "          0.00000000e+00,  0.00000000e+00,  0.00000000e+00,\n",
       "          1.50000000e-01,  0.00000000e+00,  0.00000000e+00,\n",
       "          0.00000000e+00,  0.00000000e+00,  0.00000000e+00,\n",
       "          0.00000000e+00],\n",
       "        [ 0.00000000e+00,  0.00000000e+00,  1.50000000e-01,\n",
       "          0.00000000e+00,  2.75000006e-01,  0.00000000e+00,\n",
       "          0.00000000e+00,  0.00000000e+00, -1.25000000e-01,\n",
       "          0.00000000e+00,  0.00000000e+00,  0.00000000e+00,\n",
       "          0.00000000e+00,  0.00000000e+00,  0.00000000e+00,\n",
       "          0.00000000e+00],\n",
       "        [ 0.00000000e+00,  0.00000000e+00,  0.00000000e+00,\n",
       "          1.50000000e-01,  0.00000000e+00,  4.00000006e-01,\n",
       "         -1.25000000e-01,  0.00000000e+00,  0.00000000e+00,\n",
       "         -1.25000000e-01,  0.00000000e+00,  0.00000000e+00,\n",
       "          0.00000000e+00,  0.00000000e+00,  0.00000000e+00,\n",
       "          0.00000000e+00],\n",
       "        [ 0.00000000e+00,  0.00000000e+00,  0.00000000e+00,\n",
       "          0.00000000e+00,  0.00000000e+00, -1.25000000e-01,\n",
       "          4.00000006e-01,  0.00000000e+00,  0.00000000e+00,\n",
       "          0.00000000e+00, -1.25000000e-01,  0.00000000e+00,\n",
       "          1.50000000e-01,  0.00000000e+00,  0.00000000e+00,\n",
       "          0.00000000e+00],\n",
       "        [ 0.00000000e+00,  0.00000000e+00,  0.00000000e+00,\n",
       "          0.00000000e+00,  0.00000000e+00,  0.00000000e+00,\n",
       "          0.00000000e+00,  2.75000006e-01,  0.00000000e+00,\n",
       "          0.00000000e+00,  0.00000000e+00, -1.25000000e-01,\n",
       "          0.00000000e+00,  1.50000000e-01,  0.00000000e+00,\n",
       "          0.00000000e+00],\n",
       "        [ 0.00000000e+00,  0.00000000e+00,  1.50000000e-01,\n",
       "          0.00000000e+00, -1.25000000e-01,  0.00000000e+00,\n",
       "          0.00000000e+00,  0.00000000e+00,  2.75000006e-01,\n",
       "          0.00000000e+00,  0.00000000e+00,  0.00000000e+00,\n",
       "          0.00000000e+00,  0.00000000e+00,  0.00000000e+00,\n",
       "          0.00000000e+00],\n",
       "        [ 0.00000000e+00,  0.00000000e+00,  0.00000000e+00,\n",
       "          1.50000000e-01,  0.00000000e+00, -1.25000000e-01,\n",
       "          0.00000000e+00,  0.00000000e+00,  0.00000000e+00,\n",
       "          4.00000006e-01, -1.25000000e-01,  0.00000000e+00,\n",
       "          0.00000000e+00,  0.00000000e+00,  0.00000000e+00,\n",
       "          0.00000000e+00],\n",
       "        [ 0.00000000e+00,  0.00000000e+00,  0.00000000e+00,\n",
       "          0.00000000e+00,  0.00000000e+00,  0.00000000e+00,\n",
       "         -1.25000000e-01,  0.00000000e+00,  0.00000000e+00,\n",
       "         -1.25000000e-01,  4.00000006e-01,  0.00000000e+00,\n",
       "          1.50000000e-01,  0.00000000e+00,  0.00000000e+00,\n",
       "          0.00000000e+00],\n",
       "        [ 0.00000000e+00,  0.00000000e+00,  0.00000000e+00,\n",
       "          0.00000000e+00,  0.00000000e+00,  0.00000000e+00,\n",
       "          0.00000000e+00, -1.25000000e-01,  0.00000000e+00,\n",
       "          0.00000000e+00,  0.00000000e+00,  2.75000006e-01,\n",
       "          0.00000000e+00,  1.50000000e-01,  0.00000000e+00,\n",
       "          0.00000000e+00],\n",
       "        [ 0.00000000e+00,  0.00000000e+00,  0.00000000e+00,\n",
       "          0.00000000e+00,  0.00000000e+00,  0.00000000e+00,\n",
       "          1.50000000e-01,  0.00000000e+00,  0.00000000e+00,\n",
       "          0.00000000e+00,  1.50000000e-01,  0.00000000e+00,\n",
       "          3.00000006e-01,  0.00000000e+00,  0.00000000e+00,\n",
       "          0.00000000e+00],\n",
       "        [ 0.00000000e+00,  0.00000000e+00,  0.00000000e+00,\n",
       "          0.00000000e+00,  0.00000000e+00,  0.00000000e+00,\n",
       "          0.00000000e+00,  1.50000000e-01,  0.00000000e+00,\n",
       "          0.00000000e+00,  0.00000000e+00,  1.50000000e-01,\n",
       "          0.00000000e+00,  4.25000006e-01, -1.25000000e-01,\n",
       "          0.00000000e+00],\n",
       "        [ 0.00000000e+00,  0.00000000e+00,  0.00000000e+00,\n",
       "          0.00000000e+00,  0.00000000e+00,  0.00000000e+00,\n",
       "          0.00000000e+00,  0.00000000e+00,  0.00000000e+00,\n",
       "          0.00000000e+00,  0.00000000e+00,  0.00000000e+00,\n",
       "          0.00000000e+00, -1.25000000e-01,  1.25000006e-01,\n",
       "          0.00000000e+00],\n",
       "        [ 0.00000000e+00,  0.00000000e+00,  0.00000000e+00,\n",
       "          0.00000000e+00,  0.00000000e+00,  0.00000000e+00,\n",
       "          0.00000000e+00,  0.00000000e+00,  0.00000000e+00,\n",
       "          0.00000000e+00,  0.00000000e+00,  0.00000000e+00,\n",
       "          0.00000000e+00,  0.00000000e+00,  0.00000000e+00,\n",
       "          5.96046446e-09]],\n",
       "\n",
       "       [[ 5.96046446e-09,  0.00000000e+00,  0.00000000e+00,\n",
       "          0.00000000e+00,  0.00000000e+00,  0.00000000e+00,\n",
       "          0.00000000e+00,  0.00000000e+00,  0.00000000e+00,\n",
       "          0.00000000e+00,  0.00000000e+00,  0.00000000e+00,\n",
       "          0.00000000e+00,  0.00000000e+00,  0.00000000e+00,\n",
       "          0.00000000e+00],\n",
       "        [ 0.00000000e+00,  4.25000006e-01, -1.25000000e-01,\n",
       "          0.00000000e+00,  1.50000000e-01,  0.00000000e+00,\n",
       "          0.00000000e+00,  0.00000000e+00,  1.50000000e-01,\n",
       "          0.00000000e+00,  0.00000000e+00,  0.00000000e+00,\n",
       "          0.00000000e+00,  0.00000000e+00,  0.00000000e+00,\n",
       "          0.00000000e+00],\n",
       "        [ 0.00000000e+00, -1.25000000e-01,  1.25000006e-01,\n",
       "          0.00000000e+00,  0.00000000e+00,  0.00000000e+00,\n",
       "          0.00000000e+00,  0.00000000e+00,  0.00000000e+00,\n",
       "          0.00000000e+00,  0.00000000e+00,  0.00000000e+00,\n",
       "          0.00000000e+00,  0.00000000e+00,  0.00000000e+00,\n",
       "          0.00000000e+00],\n",
       "        [ 0.00000000e+00,  0.00000000e+00,  0.00000000e+00,\n",
       "          3.00000006e-01,  0.00000000e+00,  0.00000000e+00,\n",
       "          1.50000000e-01,  0.00000000e+00,  0.00000000e+00,\n",
       "          0.00000000e+00,  1.50000000e-01,  0.00000000e+00,\n",
       "          0.00000000e+00,  0.00000000e+00,  0.00000000e+00,\n",
       "          0.00000000e+00],\n",
       "        [ 0.00000000e+00,  1.50000000e-01,  0.00000000e+00,\n",
       "          0.00000000e+00,  2.75000006e-01,  0.00000000e+00,\n",
       "          0.00000000e+00,  0.00000000e+00, -1.25000000e-01,\n",
       "          0.00000000e+00,  0.00000000e+00,  0.00000000e+00,\n",
       "          0.00000000e+00,  0.00000000e+00,  0.00000000e+00,\n",
       "          0.00000000e+00],\n",
       "        [ 0.00000000e+00,  0.00000000e+00,  0.00000000e+00,\n",
       "          0.00000000e+00,  0.00000000e+00,  4.00000006e-01,\n",
       "         -1.25000000e-01,  0.00000000e+00,  0.00000000e+00,\n",
       "         -1.25000000e-01,  0.00000000e+00,  0.00000000e+00,\n",
       "          1.50000000e-01,  0.00000000e+00,  0.00000000e+00,\n",
       "          0.00000000e+00],\n",
       "        [ 0.00000000e+00,  0.00000000e+00,  0.00000000e+00,\n",
       "          1.50000000e-01,  0.00000000e+00, -1.25000000e-01,\n",
       "          4.00000006e-01,  0.00000000e+00,  0.00000000e+00,\n",
       "          0.00000000e+00, -1.25000000e-01,  0.00000000e+00,\n",
       "          0.00000000e+00,  0.00000000e+00,  0.00000000e+00,\n",
       "          0.00000000e+00],\n",
       "        [ 0.00000000e+00,  0.00000000e+00,  0.00000000e+00,\n",
       "          0.00000000e+00,  0.00000000e+00,  0.00000000e+00,\n",
       "          0.00000000e+00,  2.75000006e-01,  0.00000000e+00,\n",
       "          0.00000000e+00,  0.00000000e+00, -1.25000000e-01,\n",
       "          0.00000000e+00,  0.00000000e+00,  1.50000000e-01,\n",
       "          0.00000000e+00],\n",
       "        [ 0.00000000e+00,  1.50000000e-01,  0.00000000e+00,\n",
       "          0.00000000e+00, -1.25000000e-01,  0.00000000e+00,\n",
       "          0.00000000e+00,  0.00000000e+00,  2.75000006e-01,\n",
       "          0.00000000e+00,  0.00000000e+00,  0.00000000e+00,\n",
       "          0.00000000e+00,  0.00000000e+00,  0.00000000e+00,\n",
       "          0.00000000e+00],\n",
       "        [ 0.00000000e+00,  0.00000000e+00,  0.00000000e+00,\n",
       "          0.00000000e+00,  0.00000000e+00, -1.25000000e-01,\n",
       "          0.00000000e+00,  0.00000000e+00,  0.00000000e+00,\n",
       "          4.00000006e-01, -1.25000000e-01,  0.00000000e+00,\n",
       "          1.50000000e-01,  0.00000000e+00,  0.00000000e+00,\n",
       "          0.00000000e+00],\n",
       "        [ 0.00000000e+00,  0.00000000e+00,  0.00000000e+00,\n",
       "          1.50000000e-01,  0.00000000e+00,  0.00000000e+00,\n",
       "         -1.25000000e-01,  0.00000000e+00,  0.00000000e+00,\n",
       "         -1.25000000e-01,  4.00000006e-01,  0.00000000e+00,\n",
       "          0.00000000e+00,  0.00000000e+00,  0.00000000e+00,\n",
       "          0.00000000e+00],\n",
       "        [ 0.00000000e+00,  0.00000000e+00,  0.00000000e+00,\n",
       "          0.00000000e+00,  0.00000000e+00,  0.00000000e+00,\n",
       "          0.00000000e+00, -1.25000000e-01,  0.00000000e+00,\n",
       "          0.00000000e+00,  0.00000000e+00,  2.75000006e-01,\n",
       "          0.00000000e+00,  0.00000000e+00,  1.50000000e-01,\n",
       "          0.00000000e+00],\n",
       "        [ 0.00000000e+00,  0.00000000e+00,  0.00000000e+00,\n",
       "          0.00000000e+00,  0.00000000e+00,  1.50000000e-01,\n",
       "          0.00000000e+00,  0.00000000e+00,  0.00000000e+00,\n",
       "          1.50000000e-01,  0.00000000e+00,  0.00000000e+00,\n",
       "          3.00000006e-01,  0.00000000e+00,  0.00000000e+00,\n",
       "          0.00000000e+00],\n",
       "        [ 0.00000000e+00,  0.00000000e+00,  0.00000000e+00,\n",
       "          0.00000000e+00,  0.00000000e+00,  0.00000000e+00,\n",
       "          0.00000000e+00,  0.00000000e+00,  0.00000000e+00,\n",
       "          0.00000000e+00,  0.00000000e+00,  0.00000000e+00,\n",
       "          0.00000000e+00,  1.25000006e-01, -1.25000000e-01,\n",
       "          0.00000000e+00],\n",
       "        [ 0.00000000e+00,  0.00000000e+00,  0.00000000e+00,\n",
       "          0.00000000e+00,  0.00000000e+00,  0.00000000e+00,\n",
       "          0.00000000e+00,  1.50000000e-01,  0.00000000e+00,\n",
       "          0.00000000e+00,  0.00000000e+00,  1.50000000e-01,\n",
       "          0.00000000e+00, -1.25000000e-01,  4.25000006e-01,\n",
       "          0.00000000e+00],\n",
       "        [ 0.00000000e+00,  0.00000000e+00,  0.00000000e+00,\n",
       "          0.00000000e+00,  0.00000000e+00,  0.00000000e+00,\n",
       "          0.00000000e+00,  0.00000000e+00,  0.00000000e+00,\n",
       "          0.00000000e+00,  0.00000000e+00,  0.00000000e+00,\n",
       "          0.00000000e+00,  0.00000000e+00,  0.00000000e+00,\n",
       "          5.96046446e-09]]])"
      ]
     },
     "execution_count": 19,
     "metadata": {},
     "output_type": "execute_result"
    }
   ],
   "source": [
    "X.transpose((0,2,1))"
   ]
  },
  {
   "cell_type": "code",
   "execution_count": 14,
   "id": "exciting-jacksonville",
   "metadata": {},
   "outputs": [
    {
     "data": {
      "text/plain": [
       "(2, 16, 16)"
      ]
     },
     "execution_count": 14,
     "metadata": {},
     "output_type": "execute_result"
    }
   ],
   "source": [
    "X = np.array(X) \n",
    "X.shape\n"
   ]
  }
 ],
 "metadata": {
  "kernelspec": {
   "display_name": "Python 3",
   "language": "python",
   "name": "python3"
  },
  "language_info": {
   "codemirror_mode": {
    "name": "ipython",
    "version": 3
   },
   "file_extension": ".py",
   "mimetype": "text/x-python",
   "name": "python",
   "nbconvert_exporter": "python",
   "pygments_lexer": "ipython3",
   "version": "3.7.9"
  }
 },
 "nbformat": 4,
 "nbformat_minor": 5
}
