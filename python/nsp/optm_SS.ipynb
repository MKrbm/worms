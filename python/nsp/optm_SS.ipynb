{
 "cells": [
  {
   "cell_type": "code",
   "execution_count": 90,
   "id": "ba84ebff",
   "metadata": {},
   "outputs": [],
   "source": [
    "import numpy as np\n",
    "from scipy import sparse\n",
    "import os\n",
    "from utils import optm\n",
    "from utils.functions import *\n",
    "import numpy as np\n",
    "from scipy import sparse\n",
    "from importlib import reload\n",
    "\n",
    "\n",
    "\n",
    "I = np.identity(2)\n",
    "Sz = np.zeros([2,2])\n",
    "Sz[0,0] = 1/2\n",
    "Sz[1,1] = -1/2\n",
    "Sx = np.zeros([2,2])\n",
    "Sx[1,0] = 1/2\n",
    "Sx[0,1] = 1/2\n",
    "Sy = np.zeros([2,2], dtype=np.complex64)\n",
    "Sy[1,0] = 1j/2\n",
    "Sy[0,1] = -1j/2\n",
    "\n",
    "\n",
    "Sz = sparse.csr_matrix(Sz)\n",
    "Sx = sparse.csr_matrix(Sx)\n",
    "Sy = sparse.csr_matrix(Sy)\n",
    "I = sparse.csr_matrix(I)\n",
    "\n",
    "h1 = -(sparse.kron(sparse.kron(I,Sz,format='csr'), sparse.kron(Sz,I,format='csr'),format='csr') \n",
    "       - sparse.kron(sparse.kron(I,Sx,format='csr'), sparse.kron(Sx,I,format='csr'),format='csr')\n",
    "       - sparse.kron(sparse.kron(I,Sy,format='csr'), sparse.kron(Sy,I,format='csr'),format='csr') \n",
    "     ).real\n",
    "\n",
    "\n",
    "h2 = -(sparse.kron(sparse.kron(Sz,I,format='csr'), sparse.kron(Sz,I,format='csr'),format='csr') \n",
    "       - sparse.kron(sparse.kron(Sx,I,format='csr'), sparse.kron(Sx,I,format='csr'),format='csr')\n",
    "       - sparse.kron(sparse.kron(Sy,I,format='csr'), sparse.kron(Sy,I,format='csr'),format='csr') \n",
    "     ).real\n",
    "\n",
    "\n",
    "h3 = -(sparse.kron(sparse.kron(Sz,Sz,format='csr'), sparse.kron(I,I,format='csr'),format='csr') \n",
    "       + sparse.kron(sparse.kron(Sx,Sx,format='csr'), sparse.kron(I,I,format='csr'),format='csr')\n",
    "       + sparse.kron(sparse.kron(Sy,Sy,format='csr'), sparse.kron(I,I,format='csr'),format='csr') \n",
    "     ).real\n",
    "\n",
    "h4 = -(sparse.kron(sparse.kron(I,I,format='csr'), sparse.kron(Sz,Sz,format='csr'),format='csr') \n",
    "       + sparse.kron(sparse.kron(I,I,format='csr'), sparse.kron(Sx,Sx,format='csr'),format='csr')\n",
    "       + sparse.kron(sparse.kron(I,I,format='csr'), sparse.kron(Sy,Sy,format='csr'),format='csr') \n",
    "     ).real\n",
    "\n",
    "\n",
    "\n",
    "\n",
    "h1_ = -(sparse.kron(sparse.kron(Sz,I,format='csr'), sparse.kron(I,Sz,format='csr'),format='csr') \n",
    "       - sparse.kron(sparse.kron(Sx,I,format='csr'), sparse.kron(I,Sx,format='csr'),format='csr')\n",
    "       - sparse.kron(sparse.kron(Sy,I,format='csr'), sparse.kron(I,Sy,format='csr'),format='csr') \n",
    "     ).real\n",
    "\n",
    "h2_ = -(sparse.kron(sparse.kron(I,Sz,format='csr'), sparse.kron(I,Sz,format='csr'),format='csr') \n",
    "       - sparse.kron(sparse.kron(I,Sx,format='csr'), sparse.kron(I,Sx,format='csr'),format='csr')\n",
    "       - sparse.kron(sparse.kron(I,Sy,format='csr'), sparse.kron(I,Sy,format='csr'),format='csr') \n",
    "     ).real\n",
    "\n",
    "\n",
    "\n",
    "h = h1 + h2\n",
    "\n",
    "h_ = h1_ + h2_\n",
    "\n",
    "on_site = h3/4 + h4/4"
   ]
  },
  {
   "cell_type": "code",
   "execution_count": 91,
   "id": "2212d3a1",
   "metadata": {},
   "outputs": [],
   "source": [
    "J1 = 0.3\n",
    "X1 = torch.tensor((J1 * h + on_site).toarray())\n",
    "X1_prime = X1 - torch.eye(X1.shape[0])*(torch.diag(X1).min())\n",
    "\n",
    "X2 = torch.tensor((J1 * h_ + on_site).toarray())\n",
    "X2_prime = X2 - torch.eye(X2.shape[0])*(torch.diag(X2).min())"
   ]
  },
  {
   "cell_type": "code",
   "execution_count": 115,
   "id": "ae285f36",
   "metadata": {
    "scrolled": true
   },
   "outputs": [
    {
     "name": "stdout",
     "output_type": "stream",
     "text": [
      "target loss : 0.650\n",
      "\n",
      "---------- iteration start ----------\n",
      "iteration :    0   loss : 0.750\n",
      "iteration : 1000   loss : 0.750\n",
      "iteration : 2000   loss : 0.750\n",
      "iteration : 3000   loss : 0.750\n",
      "iteration : 4000   loss : 0.751\n",
      "iteration : 5000   loss : 0.751\n",
      "iteration : 6000   loss : 0.750\n",
      "iteration : 7000   loss : 0.751\n",
      "iteration : 8000   loss : 0.750\n",
      "iteration : 9000   loss : 0.750\n",
      "\n",
      " -------------- results --------------\n",
      "target loss      : 0.650\n",
      "loss before optm : 0.750\n",
      "loss after optm  : 0.751\n"
     ]
    }
   ],
   "source": [
    "reload(optm)\n",
    "model, gl = optm.optim_matrix_symm([X2_prime], 10000, optm_method = torch.optim.SGD, seed = 10, lr = 0.01, weight_decay = 0)"
   ]
  }
 ],
 "metadata": {
  "kernelspec": {
   "display_name": "Python 3",
   "language": "python",
   "name": "python3"
  },
  "language_info": {
   "codemirror_mode": {
    "name": "ipython",
    "version": 3
   },
   "file_extension": ".py",
   "mimetype": "text/x-python",
   "name": "python",
   "nbconvert_exporter": "python",
   "pygments_lexer": "ipython3",
   "version": "3.7.9"
  }
 },
 "nbformat": 4,
 "nbformat_minor": 5
}
