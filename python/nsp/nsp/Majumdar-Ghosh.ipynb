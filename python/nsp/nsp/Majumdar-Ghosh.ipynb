{
 "cells": [
  {
   "cell_type": "code",
   "execution_count": 7,
   "id": "prescription-ownership",
   "metadata": {},
   "outputs": [],
   "source": [
    "import numpy as np\n",
    "from scipy.linalg import expm, sinm, cosm\n",
    "from scipy import sparse\n",
    "import scipy\n",
    "from utils import lossfunc as lf\n",
    "\n",
    "import sys\n",
    "sys.path.append('..')"
   ]
  },
  {
   "cell_type": "code",
   "execution_count": 8,
   "id": "continued-austin",
   "metadata": {},
   "outputs": [],
   "source": [
    "from utils import functions as f"
   ]
  },
  {
   "cell_type": "code",
   "execution_count": 9,
   "id": "further-andrew",
   "metadata": {
    "scrolled": true
   },
   "outputs": [
    {
     "name": "stderr",
     "output_type": "stream",
     "text": [
      "/tmp/ipykernel_29449/4162200437.py:16: ComplexWarning: Casting complex values to real discards the imaginary part\n",
      "  SySy = np.kron(Sy,Sy).astype(np.float64)\n"
     ]
    }
   ],
   "source": [
    "L = 6\n",
    "\n",
    "Sz = np.zeros([2,2])\n",
    "Sz[0,0] = 1/2\n",
    "Sz[1,1] = -1/2\n",
    "Sx = np.zeros([2,2])\n",
    "Sx[1,0] = 1/2\n",
    "Sx[0,1] = 1/2\n",
    "Sy = np.zeros([2,2], dtype=np.complex64)\n",
    "Sy[1,0] = 1j/2\n",
    "Sy[0,1] = -1j/2\n",
    "\n",
    "\n",
    "SzSz = np.kron(Sz,Sz).astype(np.float64)\n",
    "SxSx = np.kron(Sx,Sx).astype(np.float64)\n",
    "SySy = np.kron(Sy,Sy).astype(np.float64)\n",
    "\n",
    "lh = SzSz + SxSx + SySy\n",
    "# lh = - lh\n",
    "\n",
    "\n",
    "LH_ = sparse.csr_matrix((2**3,2**3), dtype = np.float64)\n",
    "i = 0\n",
    "LH_ += f.l2nl(lh/2, 3, [0, 1], sps = 2)\n",
    "LH_ += f.l2nl(lh/2, 3, [0, 2], sps = 2)\n",
    "LH_ += f.l2nl(lh/2, 3, [1, 2], sps = 2)"
   ]
  },
  {
   "cell_type": "markdown",
   "id": "athletic-newark",
   "metadata": {},
   "source": [
    "### exact diagonalization with original matrix"
   ]
  },
  {
   "cell_type": "code",
   "execution_count": 10,
   "id": "baking-bunny",
   "metadata": {},
   "outputs": [
    {
     "data": {
      "text/plain": [
       "array([[0., 0., 0., ..., 0., 0., 0.],\n",
       "       [0., 0., 0., ..., 0., 0., 0.],\n",
       "       [0., 0., 0., ..., 0., 0., 0.],\n",
       "       ...,\n",
       "       [0., 0., 0., ..., 0., 0., 0.],\n",
       "       [0., 0., 0., ..., 0., 0., 0.],\n",
       "       [0., 0., 0., ..., 0., 0., 0.]])"
      ]
     },
     "execution_count": 10,
     "metadata": {},
     "output_type": "execute_result"
    }
   ],
   "source": [
    "sparse.csr_matrix((2**L, 2**L), dtype=np.float64).toarray()\n"
   ]
  },
  {
   "cell_type": "code",
   "execution_count": 11,
   "id": "1ecf37b8",
   "metadata": {},
   "outputs": [
    {
     "data": {
      "text/plain": [
       "array([[ 0.25,  0.  ,  0.  ,  0.  ],\n",
       "       [ 0.  , -0.25,  0.5 ,  0.  ],\n",
       "       [ 0.  ,  0.5 , -0.25,  0.  ],\n",
       "       [ 0.  ,  0.  ,  0.  ,  0.25]])"
      ]
     },
     "execution_count": 11,
     "metadata": {},
     "output_type": "execute_result"
    }
   ],
   "source": [
    "lh"
   ]
  },
  {
   "cell_type": "code",
   "execution_count": 12,
   "id": "joint-jumping",
   "metadata": {},
   "outputs": [
    {
     "name": "stdout",
     "output_type": "stream",
     "text": [
      "[-2.25000000e+00 -2.25000000e+00 -1.75000000e+00 -1.75000000e+00\n",
      " -1.75000000e+00 -1.56872930e+00 -1.56872930e+00 -1.56872930e+00\n",
      " -1.56872930e+00 -1.56872930e+00 -1.56872930e+00 -1.25000000e+00\n",
      " -1.25000000e+00 -1.00000000e+00 -1.00000000e+00 -1.00000000e+00\n",
      " -1.00000000e+00 -1.00000000e+00 -1.00000000e+00 -2.50000000e-01\n",
      " -2.50000000e-01 -2.50000000e-01 -2.50000000e-01 -2.50000000e-01\n",
      " -2.50000000e-01 -6.07357256e-16 -4.92925092e-16 -2.59158156e-16\n",
      " -2.42053313e-16 -2.10543718e-16 -1.57907789e-16 -1.35169170e-16\n",
      "  4.24120716e-18  3.34744382e-17  1.73317564e-16  2.50000000e-01\n",
      "  2.50000000e-01  2.50000000e-01  2.50000000e-01  2.50000000e-01\n",
      "  2.50000000e-01  3.18729304e-01  3.18729304e-01  3.18729304e-01\n",
      "  3.18729304e-01  3.18729304e-01  3.18729304e-01  1.00000000e+00\n",
      "  1.00000000e+00  1.00000000e+00  1.00000000e+00  1.00000000e+00\n",
      "  1.00000000e+00  1.00000000e+00  1.00000000e+00  1.00000000e+00\n",
      "  1.00000000e+00  2.25000000e+00  2.25000000e+00  2.25000000e+00\n",
      "  2.25000000e+00  2.25000000e+00  2.25000000e+00  2.25000000e+00]\n"
     ]
    }
   ],
   "source": [
    "from importlib import reload\n",
    "from scipy import sparse\n",
    "import scipy.sparse.linalg\n",
    "import scipy\n",
    "reload(f)\n",
    "L = 6\n",
    "# H = sparse.csr_matrix((2**L, 2**L), dtype=np.float64)\n",
    "H = np.zeros((2**L, 2**L), dtype=np.float64)\n",
    "for i in range(L):\n",
    "    \n",
    "    H += f.l2nl(lh, L, [i,(i+1)%L], sps = 2)\n",
    "    H += f.l2nl(lh/2, L, [i,(i+2)%L], sps = 2)   \n",
    "\n",
    "E, V = np.linalg.eigh(H)\n",
    "print(E)"
   ]
  },
  {
   "cell_type": "markdown",
   "id": "numeric-amplifier",
   "metadata": {},
   "source": [
    "## Thermodynamical Properties"
   ]
  },
  {
   "cell_type": "code",
   "execution_count": 7,
   "id": "athletic-representative",
   "metadata": {},
   "outputs": [
    {
     "data": {
      "text/plain": [
       "-1.1478481848393935"
      ]
     },
     "execution_count": 7,
     "metadata": {},
     "output_type": "execute_result"
    }
   ],
   "source": [
    "beta = 1\n",
    "Z = np.exp(-beta*E).sum()\n",
    "EZ = (E*np.exp(-beta*E)).sum()\n",
    "EZ/Z"
   ]
  },
  {
   "cell_type": "markdown",
   "id": "shaped-partner",
   "metadata": {},
   "source": [
    "### rewritten with projection operators"
   ]
  },
  {
   "cell_type": "code",
   "execution_count": 8,
   "id": "freelance-purple",
   "metadata": {},
   "outputs": [],
   "source": [
    "LH = sparse.csr_matrix((2**3,2**3), dtype = np.float64)\n",
    "i = 0\n",
    "LH += f.l2nl(lh/2, 3, [i,(i+1)%L], sps = 2)\n",
    "LH += f.l2nl(lh/2, 3, [(i+1)%L,(i+2)%L], sps = 2)\n",
    "LH += f.l2nl(lh/2, 3, [i,(i+2)%L], sps = 2) "
   ]
  },
  {
   "cell_type": "code",
   "execution_count": 9,
   "id": "measured-postcard",
   "metadata": {},
   "outputs": [],
   "source": [
    "LH_ = sparse.csr_matrix((2**3,2**3), dtype = np.float64)\n",
    "i = 0\n",
    "LH_ += f.l2nl(lh/2, 3, [0, 1], sps = 2)\n",
    "LH_ += f.l2nl(lh/2, 3, [0, 2], sps = 2)\n",
    "LH_ += f.l2nl(lh/2, 3, [1, 2], sps = 2)\n",
    "\n",
    "\n",
    "\n",
    "LH = sparse.csr_matrix((2**6,2**6), dtype = np.float64)\n",
    "LH += f.l2nl(LH_/2, 6, [0, 1, 2], sps = 2)\n",
    "LH += f.l2nl(LH_, 6, [1, 2, 3], sps = 2)\n",
    "LH += f.l2nl(LH_, 6, [2, 3, 4], sps = 2)\n",
    "LH += f.l2nl(LH_/2, 6, [3, 4, 5], sps = 2)\n",
    "\n",
    "H = sparse.csr_matrix((2**6,2**6), dtype = np.float64)\n",
    "H += f.l2nl(LH, 2, [0, 1], sps = 8)\n",
    "H += f.l2nl(LH, 2, [1, 0], sps = 8)\n",
    "\n",
    "LH2 = f.l2nl(LH, 2, [1, 0], sps = 8)\n",
    "X = -np.array(H)\n",
    "X1 = -np.array(LH)\n",
    "X2 = -np.array(LH2)"
   ]
  },
  {
   "cell_type": "code",
   "execution_count": 10,
   "id": "north-suite",
   "metadata": {},
   "outputs": [],
   "source": [
    "H2 = sparse.csr_matrix((2**12,2**12), dtype = np.float64)\n",
    "H2 += f.l2nl(LH, 4, [0, 1], sps = 8)\n",
    "H2 += f.l2nl(LH, 4, [1, 2], sps = 8)"
   ]
  },
  {
   "cell_type": "code",
   "execution_count": 11,
   "id": "loving-exclusive",
   "metadata": {},
   "outputs": [
    {
     "data": {
      "text/plain": [
       "array([-2.25, -2.25, -2.25, ...,  2.25,  2.25,  2.25])"
      ]
     },
     "execution_count": 11,
     "metadata": {},
     "output_type": "execute_result"
    }
   ],
   "source": [
    "X = -np.array(H2)\n",
    "np.linalg.eigvalsh(X)"
   ]
  },
  {
   "cell_type": "code",
   "execution_count": 12,
   "id": "stopped-volunteer",
   "metadata": {},
   "outputs": [
    {
     "data": {
      "text/plain": [
       "array([ 0.64825453, -0.35395916, -1.125     , -0.75      , -0.91929537,\n",
       "       -1.125     , -1.125     , -0.61622747, -0.61622747, -1.125     ,\n",
       "       -1.125     , -0.125     , -0.61622747, -0.91929537, -0.91929537,\n",
       "       -0.91929537, -0.91929537, -0.75      , -0.75      ,  0.92632585,\n",
       "        0.92632585,  0.92632585,  0.89143125,  0.89143125,  0.89143125,\n",
       "       -0.75      , -0.75      , -0.20900301, -0.20900301, -0.20900301,\n",
       "       -0.16316027, -0.16316027, -0.16316027, -0.35395916, -0.35395916,\n",
       "       -0.35395916, -0.35395916,  0.36183442,  0.36183442,  0.36183442,\n",
       "        0.43379923,  0.43379923,  0.43379923,  0.64825453,  0.64825453,\n",
       "        0.64825453,  0.25      ,  0.64825453,  0.25      ,  0.25      ,\n",
       "        0.25      ,  0.25      ,  1.125     ,  1.125     ,  1.125     ,\n",
       "        1.125     ,  1.125     ,  0.625     ,  0.625     ,  0.625     ,\n",
       "        0.625     ,  0.625     , -1.125     , -1.125     ])"
      ]
     },
     "execution_count": 12,
     "metadata": {},
     "output_type": "execute_result"
    }
   ],
   "source": [
    "Y = -np.array(LH)\n",
    "np.linalg.eigvals(Y)"
   ]
  },
  {
   "cell_type": "code",
   "execution_count": 13,
   "id": "advisory-magnitude",
   "metadata": {},
   "outputs": [],
   "source": [
    "XX = -np.array(H2)"
   ]
  },
  {
   "cell_type": "code",
   "execution_count": 11,
   "id": "supported-finish",
   "metadata": {},
   "outputs": [
    {
     "name": "stdout",
     "output_type": "stream",
     "text": [
      "3.3736516671379335 3.3736516671379335\n"
     ]
    }
   ],
   "source": [
    "from utils import lossfunc as lf\n",
    "reload(lf)\n",
    "E1 = np.linalg.eigvalsh(lf.make_positive_np(X1)+lf.make_positive_np(X2))[-1]\n",
    "E2 = np.linalg.eigvalsh(lf.make_positive_np(X))[-1]\n",
    "print(E1, E2)"
   ]
  },
  {
   "cell_type": "markdown",
   "id": "cee548e4",
   "metadata": {},
   "source": [
    "### dual annealing"
   ]
  },
  {
   "cell_type": "code",
   "execution_count": 12,
   "id": "6bbf436e",
   "metadata": {},
   "outputs": [],
   "source": [
    "def callbackF(x, f, context):\n",
    "    print(\"target value : {:.5f} in the context {}\".format(f,context))"
   ]
  },
  {
   "cell_type": "code",
   "execution_count": 31,
   "id": "bibliographic-roulette",
   "metadata": {},
   "outputs": [
    {
     "name": "stdout",
     "output_type": "stream",
     "text": [
      "! ---- diagonal elements of the local hamiltonian should be non negative ---- !\n",
      "8 3\n",
      "target value : 11.47950 in the context 0\n",
      "target value : 11.18224 in the context 0\n",
      "target value : 11.13347 in the context 0\n",
      "target value : 11.10018 in the context 0\n",
      "target value : 10.81201 in the context 0\n",
      "target value : 10.45482 in the context 0\n",
      "target value : 10.45191 in the context 0\n",
      "target value : 10.39631 in the context 0\n",
      "target value : 10.20844 in the context 0\n",
      "target value : 9.69565 in the context 0\n",
      "target value : 4.76895 in the context 1\n"
     ]
    }
   ],
   "source": [
    "from utils import optm\n",
    "from utils import lossfunc\n",
    "reload(optm)\n",
    "reload(lossfunc)\n",
    "# X = np.stack([X1_prime, X2_prime])\n",
    "func = optm.unitary_optm([XX], 28, add=True, N = 3)\n",
    "import scipy.optimize as optimize\n",
    "bounds = [[10, 100] for _ in range(28)]\n",
    "ret = optimize.dual_annealing(func, bounds = bounds, restart_temp_ratio = 1e-5, visit = 2.7, initial_temp = 10**3, maxiter = 100, callback = callbackF)\n"
   ]
  },
  {
   "cell_type": "code",
   "execution_count": 38,
   "id": "controversial-engineer",
   "metadata": {},
   "outputs": [
    {
     "data": {
      "text/plain": [
       "4.768950917705867"
      ]
     },
     "execution_count": 38,
     "metadata": {},
     "output_type": "execute_result"
    }
   ],
   "source": [
    "np.linalg.eigvalsh(XX2)[-1]"
   ]
  },
  {
   "cell_type": "code",
   "execution_count": 14,
   "id": "monetary-facility",
   "metadata": {},
   "outputs": [
    {
     "ename": "NameError",
     "evalue": "name 'func' is not defined",
     "output_type": "error",
     "traceback": [
      "\u001b[0;31m---------------------------------------------------------------------------\u001b[0m",
      "\u001b[0;31mNameError\u001b[0m                                 Traceback (most recent call last)",
      "\u001b[0;32m<ipython-input-14-7837b8717988>\u001b[0m in \u001b[0;36m<module>\u001b[0;34m\u001b[0m\n\u001b[0;32m----> 1\u001b[0;31m \u001b[0mfunc\u001b[0m\u001b[0;34m(\u001b[0m\u001b[0mret\u001b[0m\u001b[0;34m.\u001b[0m\u001b[0mx\u001b[0m\u001b[0;34m)\u001b[0m\u001b[0;34m\u001b[0m\u001b[0;34m\u001b[0m\u001b[0m\n\u001b[0m\u001b[1;32m      2\u001b[0m \u001b[0mX1_\u001b[0m \u001b[0;34m=\u001b[0m \u001b[0mfunc\u001b[0m\u001b[0;34m.\u001b[0m\u001b[0mU\u001b[0m \u001b[0;34m@\u001b[0m \u001b[0mX1\u001b[0m \u001b[0;34m@\u001b[0m \u001b[0mfunc\u001b[0m\u001b[0;34m.\u001b[0m\u001b[0mU\u001b[0m\u001b[0;34m.\u001b[0m\u001b[0mT\u001b[0m\u001b[0;34m\u001b[0m\u001b[0;34m\u001b[0m\u001b[0m\n\u001b[1;32m      3\u001b[0m \u001b[0mX2_\u001b[0m \u001b[0;34m=\u001b[0m \u001b[0mfunc\u001b[0m\u001b[0;34m.\u001b[0m\u001b[0mU\u001b[0m \u001b[0;34m@\u001b[0m \u001b[0mX2\u001b[0m \u001b[0;34m@\u001b[0m \u001b[0mfunc\u001b[0m\u001b[0;34m.\u001b[0m\u001b[0mU\u001b[0m\u001b[0;34m.\u001b[0m\u001b[0mT\u001b[0m\u001b[0;34m\u001b[0m\u001b[0;34m\u001b[0m\u001b[0m\n\u001b[1;32m      4\u001b[0m \u001b[0mX_\u001b[0m \u001b[0;34m=\u001b[0m \u001b[0mfunc\u001b[0m\u001b[0;34m.\u001b[0m\u001b[0mU\u001b[0m \u001b[0;34m@\u001b[0m \u001b[0mX\u001b[0m \u001b[0;34m@\u001b[0m \u001b[0mfunc\u001b[0m\u001b[0;34m.\u001b[0m\u001b[0mU\u001b[0m\u001b[0;34m.\u001b[0m\u001b[0mT\u001b[0m\u001b[0;34m\u001b[0m\u001b[0;34m\u001b[0m\u001b[0m\n\u001b[1;32m      5\u001b[0m \u001b[0mE1\u001b[0m \u001b[0;34m=\u001b[0m \u001b[0mnp\u001b[0m\u001b[0;34m.\u001b[0m\u001b[0mlinalg\u001b[0m\u001b[0;34m.\u001b[0m\u001b[0meigvalsh\u001b[0m\u001b[0;34m(\u001b[0m\u001b[0mlf\u001b[0m\u001b[0;34m.\u001b[0m\u001b[0mmake_positive_np\u001b[0m\u001b[0;34m(\u001b[0m\u001b[0mX1_\u001b[0m\u001b[0;34m)\u001b[0m\u001b[0;34m+\u001b[0m\u001b[0mlf\u001b[0m\u001b[0;34m.\u001b[0m\u001b[0mmake_positive_np\u001b[0m\u001b[0;34m(\u001b[0m\u001b[0mX2_\u001b[0m\u001b[0;34m)\u001b[0m\u001b[0;34m)\u001b[0m\u001b[0;34m[\u001b[0m\u001b[0;34m-\u001b[0m\u001b[0;36m1\u001b[0m\u001b[0;34m]\u001b[0m\u001b[0;34m\u001b[0m\u001b[0;34m\u001b[0m\u001b[0m\n",
      "\u001b[0;31mNameError\u001b[0m: name 'func' is not defined"
     ]
    }
   ],
   "source": [
    "func(ret.x)\n",
    "X1_ = func.U @ X1 @ func.U.T\n",
    "X2_ = func.U @ X2 @ func.U.T\n",
    "X_ = func.U @ X @ func.U.T\n",
    "E1 = np.linalg.eigvalsh(lf.make_positive_np(X1_)+lf.make_positive_np(X2_))[-1]\n",
    "E2 = np.linalg.eigvalsh(lf.make_positive_np(X_))[-1]\n",
    "print(E1, E2)"
   ]
  },
  {
   "cell_type": "markdown",
   "id": "c8f3637b",
   "metadata": {},
   "source": [
    "### gradient descent"
   ]
  },
  {
   "cell_type": "code",
   "execution_count": 1,
   "id": "catholic-demand",
   "metadata": {},
   "outputs": [
    {
     "name": "stderr",
     "output_type": "stream",
     "text": [
      "/home/miniconda3/envs/py39/lib/python3.9/site-packages/tqdm/auto.py:22: TqdmWarning: IProgress not found. Please update jupyter and ipywidgets. See https://ipywidgets.readthedocs.io/en/stable/user_install.html\n",
      "  from .autonotebook import tqdm as notebook_tqdm\n",
      "/home/miniconda3/envs/py39/lib/python3.9/site-packages/torchvision/io/image.py:13: UserWarning: Failed to load image Python extension: \n",
      "  warn(f\"Failed to load image Python extension: {e}\")\n"
     ]
    },
    {
     "ename": "NameError",
     "evalue": "name 'reload' is not defined",
     "output_type": "error",
     "traceback": [
      "\u001b[0;31m---------------------------------------------------------------------------\u001b[0m",
      "\u001b[0;31mNameError\u001b[0m                                 Traceback (most recent call last)",
      "Input \u001b[0;32mIn [1]\u001b[0m, in \u001b[0;36m<cell line: 3>\u001b[0;34m()\u001b[0m\n\u001b[1;32m      1\u001b[0m \u001b[38;5;28;01mfrom\u001b[39;00m \u001b[38;5;21;01mutils\u001b[39;00m \u001b[38;5;28;01mimport\u001b[39;00m optm\n\u001b[1;32m      2\u001b[0m \u001b[38;5;28;01mimport\u001b[39;00m \u001b[38;5;21;01mtorch\u001b[39;00m\u001b[38;5;21;01m.\u001b[39;00m\u001b[38;5;21;01moptim\u001b[39;00m\n\u001b[0;32m----> 3\u001b[0m \u001b[43mreload\u001b[49m(optm)\n\u001b[1;32m      4\u001b[0m model, gl \u001b[38;5;241m=\u001b[39m optm\u001b[38;5;241m.\u001b[39moptim_matrix_symm([torch\u001b[38;5;241m.\u001b[39mtensor(XX)], \u001b[38;5;241m10000\u001b[39m, optm_method \u001b[38;5;241m=\u001b[39m torch\u001b[38;5;241m.\u001b[39moptim\u001b[38;5;241m.\u001b[39mSGD, seed \u001b[38;5;241m=\u001b[39m \u001b[38;5;241m10\u001b[39m, lr \u001b[38;5;241m=\u001b[39m \u001b[38;5;241m0.001\u001b[39m, add \u001b[38;5;241m=\u001b[39m \u001b[38;5;28;01mFalse\u001b[39;00m, N \u001b[38;5;241m=\u001b[39m \u001b[38;5;241m3\u001b[39m)\n",
      "\u001b[0;31mNameError\u001b[0m: name 'reload' is not defined"
     ]
    }
   ],
   "source": [
    "from utils import optm\n",
    "import torch.optim\n",
    "reload(optm)\n",
    "model, gl = optm.optim_matrix_symm([torch.tensor(XX)], 10000, optm_method = torch.optim.SGD, seed = 10, lr = 0.001, add = False, N = 3)"
   ]
  },
  {
   "cell_type": "code",
   "execution_count": 52,
   "id": "still-fountain",
   "metadata": {},
   "outputs": [
    {
     "name": "stdout",
     "output_type": "stream",
     "text": [
      "3.1330417318092953 2.891255499117778\n"
     ]
    }
   ],
   "source": [
    "func(ret.x)\n",
    "U = np.array(model.matrix.data)\n",
    "X1_ = U @ X1 @ U.T\n",
    "X2_ = U @ X2 @ U.T\n",
    "X_ = U @ X @ U.T\n",
    "E1 = np.linalg.eigvalsh(lf.make_positive_np(X1_)+lf.make_positive_np(X2_))[-1]\n",
    "E2 = np.linalg.eigvalsh(lf.make_positive_np(X_))[-1]\n",
    "print(E1, E2)"
   ]
  },
  {
   "cell_type": "code",
   "execution_count": 72,
   "id": "capital-baseball",
   "metadata": {},
   "outputs": [
    {
     "data": {
      "text/plain": [
       "7.999999999999999"
      ]
     },
     "execution_count": 72,
     "metadata": {},
     "output_type": "execute_result"
    }
   ],
   "source": [
    "(2**9) ** (1/3)"
   ]
  },
  {
   "cell_type": "code",
   "execution_count": 14,
   "id": "automotive-raleigh",
   "metadata": {},
   "outputs": [
    {
     "name": "stdout",
     "output_type": "stream",
     "text": [
      "add all matrix after positive map\n",
      "! ---- diagonal elements of the local hamiltonian should be non negative ---- !\n",
      "target loss : 2.250\n",
      "loss before optm : 3.2441774461\n",
      "\n",
      "---------- iteration start ----------\n",
      "iteration :        0   loss : 32.178\n"
     ]
    },
    {
     "ename": "KeyboardInterrupt",
     "evalue": "",
     "output_type": "error",
     "traceback": [
      "\u001b[0;31m---------------------------------------------------------------------------\u001b[0m",
      "\u001b[0;31mKeyboardInterrupt\u001b[0m                         Traceback (most recent call last)",
      "Input \u001b[0;32mIn [14]\u001b[0m, in \u001b[0;36m<cell line: 4>\u001b[0;34m()\u001b[0m\n\u001b[1;32m      2\u001b[0m \u001b[38;5;28;01mimport\u001b[39;00m \u001b[38;5;21;01mtorch\u001b[39;00m\u001b[38;5;21;01m.\u001b[39;00m\u001b[38;5;21;01moptim\u001b[39;00m\n\u001b[1;32m      3\u001b[0m reload(optm)\n\u001b[0;32m----> 4\u001b[0m model, gl \u001b[38;5;241m=\u001b[39m \u001b[43moptm\u001b[49m\u001b[38;5;241;43m.\u001b[39;49m\u001b[43moptim_matrix_symm\u001b[49m\u001b[43m(\u001b[49m\u001b[43m[\u001b[49m\u001b[43mtorch\u001b[49m\u001b[38;5;241;43m.\u001b[39;49m\u001b[43mtensor\u001b[49m\u001b[43m(\u001b[49m\u001b[43mX\u001b[49m\u001b[43m)\u001b[49m\u001b[43m]\u001b[49m\u001b[43m,\u001b[49m\u001b[43m \u001b[49m\u001b[38;5;241;43m10000\u001b[39;49m\u001b[43m,\u001b[49m\u001b[43m \u001b[49m\u001b[43moptm_method\u001b[49m\u001b[43m \u001b[49m\u001b[38;5;241;43m=\u001b[39;49m\u001b[43m \u001b[49m\u001b[43mtorch\u001b[49m\u001b[38;5;241;43m.\u001b[39;49m\u001b[43moptim\u001b[49m\u001b[38;5;241;43m.\u001b[39;49m\u001b[43mSGD\u001b[49m\u001b[43m,\u001b[49m\u001b[43m \u001b[49m\u001b[43mseed\u001b[49m\u001b[43m \u001b[49m\u001b[38;5;241;43m=\u001b[39;49m\u001b[43m \u001b[49m\u001b[38;5;241;43m10\u001b[39;49m\u001b[43m,\u001b[49m\u001b[43m \u001b[49m\u001b[43mlr\u001b[49m\u001b[43m \u001b[49m\u001b[38;5;241;43m=\u001b[39;49m\u001b[43m \u001b[49m\u001b[38;5;241;43m0.001\u001b[39;49m\u001b[43m,\u001b[49m\u001b[43m \u001b[49m\u001b[43madd\u001b[49m\u001b[43m \u001b[49m\u001b[38;5;241;43m=\u001b[39;49m\u001b[43m \u001b[49m\u001b[38;5;28;43;01mTrue\u001b[39;49;00m\u001b[43m)\u001b[49m\n",
      "File \u001b[0;32m~/project/python/nsp/utils/optm.py:476\u001b[0m, in \u001b[0;36moptim_matrix_symm\u001b[0;34m(X, N_iter, optm_method, loss_func, print_status, seed, beta, init_params, add, N, **kwargs)\u001b[0m\n\u001b[1;32m    474\u001b[0m     \u001b[38;5;28mprint\u001b[39m(\u001b[38;5;124m\"\u001b[39m\u001b[38;5;124m\"\u001b[39m)\n\u001b[1;32m    475\u001b[0m optimizer\u001b[38;5;241m.\u001b[39mzero_grad()\n\u001b[0;32m--> 476\u001b[0m \u001b[43mloss_\u001b[49m\u001b[38;5;241;43m.\u001b[39;49m\u001b[43mbackward\u001b[49m\u001b[43m(\u001b[49m\u001b[43m)\u001b[49m\n\u001b[1;32m    477\u001b[0m model\u001b[38;5;241m.\u001b[39mset_loss(loss\u001b[38;5;241m.\u001b[39mdata)\n\u001b[1;32m    478\u001b[0m optimizer\u001b[38;5;241m.\u001b[39mstep()\n",
      "File \u001b[0;32m~/miniconda3/envs/py39/lib/python3.9/site-packages/torch/_tensor.py:363\u001b[0m, in \u001b[0;36mTensor.backward\u001b[0;34m(self, gradient, retain_graph, create_graph, inputs)\u001b[0m\n\u001b[1;32m    354\u001b[0m \u001b[38;5;28;01mif\u001b[39;00m has_torch_function_unary(\u001b[38;5;28mself\u001b[39m):\n\u001b[1;32m    355\u001b[0m     \u001b[38;5;28;01mreturn\u001b[39;00m handle_torch_function(\n\u001b[1;32m    356\u001b[0m         Tensor\u001b[38;5;241m.\u001b[39mbackward,\n\u001b[1;32m    357\u001b[0m         (\u001b[38;5;28mself\u001b[39m,),\n\u001b[0;32m   (...)\u001b[0m\n\u001b[1;32m    361\u001b[0m         create_graph\u001b[38;5;241m=\u001b[39mcreate_graph,\n\u001b[1;32m    362\u001b[0m         inputs\u001b[38;5;241m=\u001b[39minputs)\n\u001b[0;32m--> 363\u001b[0m \u001b[43mtorch\u001b[49m\u001b[38;5;241;43m.\u001b[39;49m\u001b[43mautograd\u001b[49m\u001b[38;5;241;43m.\u001b[39;49m\u001b[43mbackward\u001b[49m\u001b[43m(\u001b[49m\u001b[38;5;28;43mself\u001b[39;49m\u001b[43m,\u001b[49m\u001b[43m \u001b[49m\u001b[43mgradient\u001b[49m\u001b[43m,\u001b[49m\u001b[43m \u001b[49m\u001b[43mretain_graph\u001b[49m\u001b[43m,\u001b[49m\u001b[43m \u001b[49m\u001b[43mcreate_graph\u001b[49m\u001b[43m,\u001b[49m\u001b[43m \u001b[49m\u001b[43minputs\u001b[49m\u001b[38;5;241;43m=\u001b[39;49m\u001b[43minputs\u001b[49m\u001b[43m)\u001b[49m\n",
      "File \u001b[0;32m~/miniconda3/envs/py39/lib/python3.9/site-packages/torch/autograd/__init__.py:173\u001b[0m, in \u001b[0;36mbackward\u001b[0;34m(tensors, grad_tensors, retain_graph, create_graph, grad_variables, inputs)\u001b[0m\n\u001b[1;32m    168\u001b[0m     retain_graph \u001b[38;5;241m=\u001b[39m create_graph\n\u001b[1;32m    170\u001b[0m \u001b[38;5;66;03m# The reason we repeat same the comment below is that\u001b[39;00m\n\u001b[1;32m    171\u001b[0m \u001b[38;5;66;03m# some Python versions print out the first line of a multi-line function\u001b[39;00m\n\u001b[1;32m    172\u001b[0m \u001b[38;5;66;03m# calls in the traceback and some print out the last line\u001b[39;00m\n\u001b[0;32m--> 173\u001b[0m \u001b[43mVariable\u001b[49m\u001b[38;5;241;43m.\u001b[39;49m\u001b[43m_execution_engine\u001b[49m\u001b[38;5;241;43m.\u001b[39;49m\u001b[43mrun_backward\u001b[49m\u001b[43m(\u001b[49m\u001b[43m  \u001b[49m\u001b[38;5;66;43;03m# Calls into the C++ engine to run the backward pass\u001b[39;49;00m\n\u001b[1;32m    174\u001b[0m \u001b[43m    \u001b[49m\u001b[43mtensors\u001b[49m\u001b[43m,\u001b[49m\u001b[43m \u001b[49m\u001b[43mgrad_tensors_\u001b[49m\u001b[43m,\u001b[49m\u001b[43m \u001b[49m\u001b[43mretain_graph\u001b[49m\u001b[43m,\u001b[49m\u001b[43m \u001b[49m\u001b[43mcreate_graph\u001b[49m\u001b[43m,\u001b[49m\u001b[43m \u001b[49m\u001b[43minputs\u001b[49m\u001b[43m,\u001b[49m\n\u001b[1;32m    175\u001b[0m \u001b[43m    \u001b[49m\u001b[43mallow_unreachable\u001b[49m\u001b[38;5;241;43m=\u001b[39;49m\u001b[38;5;28;43;01mTrue\u001b[39;49;00m\u001b[43m,\u001b[49m\u001b[43m \u001b[49m\u001b[43maccumulate_grad\u001b[49m\u001b[38;5;241;43m=\u001b[39;49m\u001b[38;5;28;43;01mTrue\u001b[39;49;00m\u001b[43m)\u001b[49m\n",
      "\u001b[0;31mKeyboardInterrupt\u001b[0m: "
     ]
    }
   ],
   "source": [
    "from utils import optm\n",
    "import torch.optim\n",
    "reload(optm)\n",
    "model, gl = optm.optim_matrix_symm([torch.tensor(X)], 10000, optm_method = torch.optim.SGD, seed = 10, lr = 0.001, add = True)"
   ]
  },
  {
   "cell_type": "markdown",
   "id": "1c496a3d",
   "metadata": {},
   "source": [
    "### another cost function\n",
    "\n",
    "minimize $\\langle \\psi ^ + \\vert H^+ \\vert \\psi ^ + \\rangle$ "
   ]
  },
  {
   "cell_type": "code",
   "execution_count": 268,
   "id": "b2d7b38c",
   "metadata": {},
   "outputs": [
    {
     "name": "stderr",
     "output_type": "stream",
     "text": [
      "/Users/keisukemurota/miniconda3/envs/research/lib/python3.7/site-packages/ipykernel_launcher.py:1: UserWarning: To copy construct from a tensor, it is recommended to use sourceTensor.clone().detach() or sourceTensor.clone().detach().requires_grad_(True), rather than torch.tensor(sourceTensor).\n",
      "  \"\"\"Entry point for launching an IPython kernel.\n"
     ]
    }
   ],
   "source": [
    "X_prime = torch.tensor(X)\n",
    "X_prime = X_prime[None, :, :]"
   ]
  },
  {
   "cell_type": "code",
   "execution_count": 247,
   "id": "78ac00fc",
   "metadata": {},
   "outputs": [],
   "source": [
    "reload(optm)\n",
    "solver = optm.unitary_solver2(X, [8,8], True)"
   ]
  },
  {
   "cell_type": "code",
   "execution_count": 248,
   "id": "c95b6f83",
   "metadata": {},
   "outputs": [
    {
     "name": "stdout",
     "output_type": "stream",
     "text": [
      "iteration :    0   loss : 17.725\n",
      "iteration : 1000   loss : 11.772\n",
      "iteration : 2000   loss : 11.426\n",
      "iteration : 3000   loss : 11.365\n",
      "iteration : 4000   loss : 11.361\n",
      "iteration : 5000   loss : 11.359\n",
      "iteration : 6000   loss : 11.357\n",
      "iteration : 7000   loss : 11.357\n",
      "iteration : 8000   loss : 11.357\n",
      "iteration : 9000   loss : 11.358\n"
     ]
    }
   ],
   "source": [
    "for t in range(10**4):\n",
    "    optimizer = torch.optim.SGD(solver.parameters(), lr = 0.001)\n",
    "    M, V = solver()\n",
    "    loss_ = optm.loss_2(M,V)\n",
    "    optimizer.zero_grad()\n",
    "    loss_.backward()\n",
    "    if (t % 1000) == 0:\n",
    "        print(\"iteration : {:4d}   loss : {:.3f}\".format(t,loss_.item()))\n",
    "    optimizer.step()"
   ]
  },
  {
   "cell_type": "markdown",
   "id": "c44771de",
   "metadata": {},
   "source": [
    "## test several optimization scheme\n",
    "\n",
    "$\\lambda_i$ is the eigenvalues of $(UHU^T)^+$\n",
    "$$\n",
    "E = \\max(\\lambda_i) \\\\\n",
    "w_{k+1} = w_k - \\alpha \\cdot \\gamma \\cdot \\text{sign}(\\partial E / \\partial w_k)\n",
    "$$"
   ]
  },
  {
   "cell_type": "code",
   "execution_count": 60,
   "id": "f408bfd9",
   "metadata": {},
   "outputs": [
    {
     "data": {
      "text/plain": [
       "<module 'utils.optm_method' from '/home/keisuke/worms/python/nsp/utils/optm_method.py'>"
      ]
     },
     "execution_count": 60,
     "metadata": {},
     "output_type": "execute_result"
    }
   ],
   "source": [
    "from utils import optm_method as optmm\n",
    "reload(optm)\n",
    "reload(optmm)"
   ]
  },
  {
   "cell_type": "code",
   "execution_count": 47,
   "id": "b1425777",
   "metadata": {
    "collapsed": true
   },
   "outputs": [
    {
     "name": "stdout",
     "output_type": "stream",
     "text": [
      "add all matrix after positive map\n",
      "! ---- diagonal elements of the local hamiltonian should be non negative ---- !\n",
      "target loss : 3.232\n",
      "loss before optm : 4.7689509177\n",
      "\n",
      "---------- iteration start ----------\n",
      "iteration :        0   loss : 4.780\tgamma = 0.0001\n"
     ]
    },
    {
     "name": "stderr",
     "output_type": "stream",
     "text": [
      "/home/keisuke/worms/python/nsp/utils/optm.py:422: UserWarning: To copy construct from a tensor, it is recommended to use sourceTensor.clone().detach() or sourceTensor.clone().detach().requires_grad_(True), rather than torch.tensor(sourceTensor).\n",
      "  model._params = torch.nn.Parameter(torch.tensor(init_params))\n"
     ]
    },
    {
     "name": "stdout",
     "output_type": "stream",
     "text": [
      "iteration :     1000   loss : 4.771\tgamma = 0.0001\n",
      "iteration :     2000   loss : 4.772\tgamma = 0.0001\n",
      "iteration :     3000   loss : 4.770\tgamma = 0.0001\n",
      "iteration :     4000   loss : 4.771\tgamma = 0.0001\n",
      "iteration :     5000   loss : 4.771\tgamma = 0.0001\n",
      "iteration :     6000   loss : 4.771\tgamma = 0.0001\n",
      "iteration :     7000   loss : 4.771\tgamma = 0.0001\n",
      "iteration :     8000   loss : 4.771\tgamma = 0.0001\n",
      "iteration :     9000   loss : 4.771\tgamma = 0.0001\n"
     ]
    },
    {
     "ename": "KeyboardInterrupt",
     "evalue": "",
     "output_type": "error",
     "traceback": [
      "\u001b[0;31m---------------------------------------------------------------------------\u001b[0m",
      "\u001b[0;31mKeyboardInterrupt\u001b[0m                         Traceback (most recent call last)",
      "\u001b[0;32m<ipython-input-47-8029d8eb655b>\u001b[0m in \u001b[0;36m<module>\u001b[0;34m\u001b[0m\n\u001b[1;32m      9\u001b[0m         \u001b[0minit_params\u001b[0m \u001b[0;34m=\u001b[0m \u001b[0mmodel\u001b[0m\u001b[0;34m.\u001b[0m\u001b[0mparams\u001b[0m\u001b[0;34m.\u001b[0m\u001b[0mdata\u001b[0m\u001b[0;34m,\u001b[0m\u001b[0;34m\u001b[0m\u001b[0;34m\u001b[0m\u001b[0m\n\u001b[1;32m     10\u001b[0m         \u001b[0mgamma\u001b[0m \u001b[0;34m=\u001b[0m \u001b[0;36m0.0001\u001b[0m\u001b[0;34m,\u001b[0m\u001b[0;34m\u001b[0m\u001b[0;34m\u001b[0m\u001b[0m\n\u001b[0;32m---> 11\u001b[0;31m         \u001b[0mr\u001b[0m \u001b[0;34m=\u001b[0m \u001b[0;36m1\u001b[0m\u001b[0;34m,\u001b[0m\u001b[0;34m\u001b[0m\u001b[0;34m\u001b[0m\u001b[0m\n\u001b[0m\u001b[1;32m     12\u001b[0m         )\n",
      "\u001b[0;32m~/worms/python/nsp/utils/optm.py\u001b[0m in \u001b[0;36moptim_matrix_symm\u001b[0;34m(X, N_iter, optm_method, loss_func, print_status, seed, beta, init_params, add, N, **kwargs)\u001b[0m\n\u001b[1;32m    446\u001b[0m     \u001b[0;32mfor\u001b[0m \u001b[0mt\u001b[0m \u001b[0;32min\u001b[0m \u001b[0mrange\u001b[0m\u001b[0;34m(\u001b[0m\u001b[0mN_iter\u001b[0m\u001b[0;34m)\u001b[0m\u001b[0;34m:\u001b[0m\u001b[0;34m\u001b[0m\u001b[0;34m\u001b[0m\u001b[0m\n\u001b[1;32m    447\u001b[0m         \u001b[0my\u001b[0m\u001b[0;34m=\u001b[0m \u001b[0mmodel\u001b[0m\u001b[0;34m(\u001b[0m\u001b[0mX\u001b[0m\u001b[0;34m)\u001b[0m\u001b[0;34m\u001b[0m\u001b[0;34m\u001b[0m\u001b[0m\n\u001b[0;32m--> 448\u001b[0;31m         \u001b[0mloss\u001b[0m \u001b[0;34m=\u001b[0m \u001b[0mloss_func\u001b[0m\u001b[0;34m(\u001b[0m\u001b[0my\u001b[0m\u001b[0;34m,\u001b[0m \u001b[0madd\u001b[0m\u001b[0;34m)\u001b[0m\u001b[0;34m\u001b[0m\u001b[0;34m\u001b[0m\u001b[0m\n\u001b[0m\u001b[1;32m    449\u001b[0m         \u001b[0mloss_\u001b[0m \u001b[0;34m=\u001b[0m \u001b[0mloss\u001b[0m\u001b[0;34m\u001b[0m\u001b[0;34m\u001b[0m\u001b[0m\n\u001b[1;32m    450\u001b[0m         \u001b[0;32mif\u001b[0m \u001b[0mt\u001b[0m \u001b[0;34m%\u001b[0m \u001b[0;36m1000\u001b[0m \u001b[0;34m==\u001b[0m \u001b[0;36m0\u001b[0m\u001b[0;34m:\u001b[0m\u001b[0;34m\u001b[0m\u001b[0;34m\u001b[0m\u001b[0m\n",
      "\u001b[0;32m~/worms/python/nsp/utils/lossfunc.py\u001b[0m in \u001b[0;36mloss_eig\u001b[0;34m(A, add)\u001b[0m\n\u001b[1;32m     31\u001b[0m             \u001b[0;32mfor\u001b[0m \u001b[0ma\u001b[0m \u001b[0;32min\u001b[0m \u001b[0mA\u001b[0m\u001b[0;34m:\u001b[0m\u001b[0;34m\u001b[0m\u001b[0;34m\u001b[0m\u001b[0m\n\u001b[1;32m     32\u001b[0m                 \u001b[0ma_\u001b[0m \u001b[0;34m=\u001b[0m \u001b[0mmake_positive\u001b[0m\u001b[0;34m(\u001b[0m\u001b[0ma\u001b[0m\u001b[0;34m)\u001b[0m\u001b[0;34m\u001b[0m\u001b[0;34m\u001b[0m\u001b[0m\n\u001b[0;32m---> 33\u001b[0;31m                 \u001b[0meigs\u001b[0m \u001b[0;34m=\u001b[0m \u001b[0mtorch\u001b[0m\u001b[0;34m.\u001b[0m\u001b[0mlinalg\u001b[0m\u001b[0;34m.\u001b[0m\u001b[0meigvalsh\u001b[0m\u001b[0;34m(\u001b[0m\u001b[0ma_\u001b[0m\u001b[0;34m)\u001b[0m\u001b[0;34m\u001b[0m\u001b[0;34m\u001b[0m\u001b[0m\n\u001b[0m\u001b[1;32m     34\u001b[0m                 \u001b[0mB\u001b[0m \u001b[0;34m+=\u001b[0m \u001b[0meigs\u001b[0m\u001b[0;34m[\u001b[0m\u001b[0;34m-\u001b[0m\u001b[0;36m1\u001b[0m\u001b[0;34m]\u001b[0m\u001b[0;34m\u001b[0m\u001b[0;34m\u001b[0m\u001b[0m\n\u001b[1;32m     35\u001b[0m         \u001b[0;32melse\u001b[0m\u001b[0;34m:\u001b[0m\u001b[0;34m\u001b[0m\u001b[0;34m\u001b[0m\u001b[0m\n",
      "\u001b[0;31mKeyboardInterrupt\u001b[0m: "
     ]
    }
   ],
   "source": [
    "reload(optm)\n",
    "import torch.optim\n",
    "model, gl = optm.optim_matrix_symm(\n",
    "        [torch.tensor(XX)],\n",
    "        40000, \n",
    "        optm_method = optm.scheme1, \n",
    "        add = True,\n",
    "        N = 3,\n",
    "        init_params = model.params.data,\n",
    "        gamma = 0.0001,\n",
    "        r = 1,\n",
    "        )"
   ]
  },
  {
   "cell_type": "code",
   "execution_count": 61,
   "id": "boxed-acrylic",
   "metadata": {
    "scrolled": true
   },
   "outputs": [
    {
     "data": {
      "text/plain": [
       "tensor([[[-1.1249e+00,  5.7433e-04, -2.0622e-03,  ..., -2.6068e-04,\n",
       "           1.8573e-03,  1.4738e-04],\n",
       "         [ 5.7433e-04, -3.7621e-01, -3.8972e-05,  ..., -9.8915e-05,\n",
       "           1.2528e-01, -1.2440e-01],\n",
       "         [-2.0622e-03, -3.8972e-05, -1.2500e-01,  ...,  1.2482e-01,\n",
       "          -5.9196e-04,  4.1393e-04],\n",
       "         ...,\n",
       "         [-2.6068e-04, -9.8915e-05,  1.2482e-01,  ...,  2.5081e-03,\n",
       "           1.4832e-03, -4.6849e-04],\n",
       "         [ 1.8573e-03,  1.2528e-01, -5.9196e-04,  ...,  1.4832e-03,\n",
       "          -3.6737e-03,  1.2713e-01],\n",
       "         [ 1.4738e-04, -1.2440e-01,  4.1393e-04,  ..., -4.6849e-04,\n",
       "           1.2713e-01, -2.5187e-01]]], dtype=torch.float64,\n",
       "       grad_fn=<UnsafeViewBackward0>)"
      ]
     },
     "execution_count": 61,
     "metadata": {},
     "output_type": "execute_result"
    }
   ],
   "source": [
    "model(torch.tensor(X1))"
   ]
  },
  {
   "cell_type": "code",
   "execution_count": 69,
   "id": "adolescent-baltimore",
   "metadata": {},
   "outputs": [
    {
     "data": {
      "text/plain": [
       "array([[[0., 0., 0., ..., 0., 0., 0.],\n",
       "        [0., 0., 0., ..., 0., 0., 0.],\n",
       "        [0., 0., 0., ..., 0., 0., 0.],\n",
       "        ...,\n",
       "        [0., 0., 0., ..., 0., 0., 0.],\n",
       "        [0., 0., 0., ..., 0., 0., 0.],\n",
       "        [0., 0., 0., ..., 0., 0., 0.]]])"
      ]
     },
     "execution_count": 69,
     "metadata": {},
     "output_type": "execute_result"
    }
   ],
   "source": [
    "np.array(model.matrix.data) @ X1 @ np.array(model.matrix.data).T - np.array(model(torch.tensor(X1)).data)"
   ]
  },
  {
   "cell_type": "code",
   "execution_count": 70,
   "id": "moral-championship",
   "metadata": {
    "scrolled": true
   },
   "outputs": [
    {
     "name": "stdout",
     "output_type": "stream",
     "text": [
      "add all matrix after positive map\n",
      "! ---- diagonal elements of the local hamiltonian should be non negative ---- !\n",
      "target loss : 2.250\n",
      "loss before optm : 3.3736516671\n",
      "\n",
      "---------- iteration start ----------\n",
      "iteration :        0   loss : 6.657\tgamma = 0.001\n",
      "iteration :     1000   loss : 2.643\tgamma = 0.001\n",
      "iteration :     2000   loss : 2.515\tgamma = 0.001\n",
      "iteration :     3000   loss : 2.517\tgamma = 0.001\n",
      "iteration :     4000   loss : 2.518\tgamma = 0.001\n",
      "iteration :     5000   loss : 2.515\tgamma = 0.001\n",
      "iteration :     6000   loss : 2.516\tgamma = 0.001\n",
      "iteration :     7000   loss : 2.517\tgamma = 0.001\n",
      "iteration :     8000   loss : 2.516\tgamma = 0.001\n",
      "iteration :     9000   loss : 2.516\tgamma = 0.001\n",
      "\n",
      " -------------- results --------------\n",
      "target loss      : 2.2500000000\n",
      "loss before optm : 3.4361406616\n",
      "loss after optm  : 2.8780380129\n"
     ]
    }
   ],
   "source": [
    "reload(optm)\n",
    "import torch.optim\n",
    "model, gl = optm.optim_matrix_symm(\n",
    "        [torch.tensor(X)],\n",
    "        10000, \n",
    "        optm_method = optm.scheme1, \n",
    "        add = True,\n",
    "#         seed = 10,\n",
    "        gamma = 0.001,\n",
    "        r = 1,\n",
    "        )"
   ]
  },
  {
   "cell_type": "code",
   "execution_count": null,
   "id": "third-charity",
   "metadata": {},
   "outputs": [],
   "source": []
  },
  {
   "cell_type": "code",
   "execution_count": 57,
   "id": "needed-destruction",
   "metadata": {},
   "outputs": [
    {
     "name": "stdout",
     "output_type": "stream",
     "text": [
      "4.074062871639318 2.5194723775016445\n"
     ]
    }
   ],
   "source": [
    "U = np.array(model.matrix.data)\n",
    "X1_ = U @ X1 @ U.T\n",
    "X2_ = U @ X2 @ U.T\n",
    "X_ = U @ X @ U.T\n",
    "E1 = np.linalg.eigvalsh(lf.make_positive_np(X1_)+lf.make_positive_np(X2_))[-1]\n",
    "E2 = np.linalg.eigvalsh(lf.make_positive_np(X_))[-1]\n",
    "print(E1, E2)"
   ]
  },
  {
   "cell_type": "code",
   "execution_count": 57,
   "id": "extraordinary-expert",
   "metadata": {},
   "outputs": [
    {
     "name": "stderr",
     "output_type": "stream",
     "text": [
      "/home/keisuke/miniconda3/envs/quspin/lib/python3.7/site-packages/scipy/sparse/_index.py:82: SparseEfficiencyWarning: Changing the sparsity structure of a csr_matrix is expensive. lil_matrix is more efficient.\n",
      "  self._set_intXint(row, col, x.flat[0])\n"
     ]
    }
   ],
   "source": [
    "U = np.array(model.matrix.data)\n",
    "\n",
    "H2_ = sparse.csr_matrix((2**9,2**9), dtype = np.float64)\n",
    "H2_ += f.l2nl(lf.make_positive_np(-(U@LH.toarray()@U.T)), 3, [0, 1], sps = 8)\n",
    "H2_ += f.l2nl(lf.make_positive_np(-(U@LH.toarray()@U.T)), 3, [1, 2], sps = 8)\n",
    "H2_ += f.l2nl(lf.make_positive_np(-(U@LH.toarray()@U.T)), 3, [2, 0], sps = 8)\n",
    "\n",
    "H2 = sparse.csr_matrix((2**6,2**6), dtype = np.float64)\n",
    "H2 += f.l2nl(LH, 3, [0, 1], sps = 8)\n",
    "H2 += f.l2nl(LH, 3, [1, 2], sps = 8)\n",
    "H2 += f.l2nl(LH, 3, [2, 0], sps = 8)"
   ]
  },
  {
   "cell_type": "code",
   "execution_count": 60,
   "id": "robust-providence",
   "metadata": {},
   "outputs": [
    {
     "data": {
      "text/plain": [
       "array([-3.375, -3.375, -3.375, -3.375, -3.375, -3.375, -3.375, -3.375,\n",
       "       -3.375, -3.375, -2.728, -2.728, -2.728, -2.728, -2.728, -2.728,\n",
       "       -2.728, -2.728, -2.728, -2.728, -2.728, -2.728, -2.728, -2.728,\n",
       "       -2.728, -2.728, -2.274, -2.274, -2.274, -2.274, -2.274, -2.274,\n",
       "       -2.274, -2.274, -2.274, -2.274, -2.274, -2.274, -2.003, -2.003,\n",
       "       -2.003, -2.003, -2.003, -2.003, -2.003, -2.003, -1.918, -1.918,\n",
       "       -1.918, -1.918, -1.901, -1.901, -1.901, -1.901, -1.901, -1.901,\n",
       "       -1.622, -1.622, -1.622, -1.622, -1.622, -1.622, -1.622, -1.622,\n",
       "       -1.579, -1.579, -1.579, -1.579, -1.579, -1.579, -1.579, -1.579,\n",
       "       -1.579, -1.579, -1.579, -1.579, -1.579, -1.579, -1.579, -1.579,\n",
       "       -1.534, -1.534, -1.534, -1.534, -1.534, -1.534, -1.534, -1.534,\n",
       "       -1.534, -1.534, -1.534, -1.534, -1.318, -1.318, -1.318, -1.318,\n",
       "       -1.318, -1.318, -1.318, -1.318, -1.318, -1.318, -1.318, -1.318,\n",
       "       -1.318, -1.318, -1.318, -1.318, -1.29 , -1.29 , -1.29 , -1.29 ,\n",
       "       -1.29 , -1.29 , -1.29 , -1.29 , -1.193, -1.193, -1.193, -1.193,\n",
       "       -1.193, -1.193, -1.193, -1.193, -1.193, -1.193, -1.193, -1.193,\n",
       "       -1.125, -1.125, -1.125, -1.125, -1.125, -1.125, -1.125, -1.125,\n",
       "       -1.125, -1.125, -1.125, -1.125, -1.125, -1.125, -1.125, -1.125,\n",
       "       -0.894, -0.894, -0.894, -0.894, -0.894, -0.894, -0.894, -0.894,\n",
       "       -0.894, -0.894, -0.894, -0.894, -0.814, -0.814, -0.814, -0.814,\n",
       "       -0.743, -0.743, -0.743, -0.743, -0.743, -0.743, -0.743, -0.743,\n",
       "       -0.667, -0.667, -0.508, -0.508, -0.508, -0.508, -0.508, -0.508,\n",
       "       -0.508, -0.508, -0.508, -0.508, -0.508, -0.508, -0.451, -0.451,\n",
       "       -0.451, -0.451, -0.451, -0.451, -0.451, -0.451, -0.451, -0.451,\n",
       "       -0.451, -0.451, -0.447, -0.447, -0.447, -0.447, -0.419, -0.419,\n",
       "       -0.419, -0.419, -0.378, -0.378, -0.378, -0.378, -0.378, -0.378,\n",
       "       -0.378, -0.378, -0.239, -0.239, -0.239, -0.239, -0.23 , -0.23 ,\n",
       "       -0.23 , -0.23 , -0.212, -0.212, -0.212, -0.212, -0.212, -0.212,\n",
       "       -0.212, -0.212, -0.212, -0.212, -0.212, -0.212, -0.195, -0.195,\n",
       "       -0.195, -0.195, -0.195, -0.195, -0.195, -0.195, -0.116, -0.116,\n",
       "       -0.116, -0.116, -0.116, -0.116,  0.019,  0.019,  0.019,  0.019,\n",
       "        0.019,  0.019,  0.019,  0.019,  0.019,  0.019,  0.019,  0.019,\n",
       "        0.068,  0.068,  0.068,  0.068,  0.068,  0.068,  0.068,  0.068,\n",
       "        0.114,  0.114,  0.114,  0.114,  0.302,  0.302,  0.302,  0.302,\n",
       "        0.302,  0.302,  0.302,  0.302,  0.314,  0.314,  0.314,  0.314,\n",
       "        0.314,  0.314,  0.314,  0.314,  0.345,  0.345,  0.345,  0.345,\n",
       "        0.345,  0.345,  0.345,  0.345,  0.345,  0.345,  0.345,  0.345,\n",
       "        0.375,  0.375,  0.422,  0.422,  0.422,  0.422,  0.508,  0.508,\n",
       "        0.508,  0.508,  0.508,  0.508,  0.508,  0.508,  0.508,  0.508,\n",
       "        0.508,  0.508,  0.537,  0.537,  0.537,  0.537,  0.537,  0.537,\n",
       "        0.537,  0.537,  0.549,  0.549,  0.549,  0.549,  0.613,  0.613,\n",
       "        0.613,  0.613,  0.613,  0.613,  0.613,  0.613,  0.663,  0.663,\n",
       "        0.663,  0.663,  0.8  ,  0.8  ,  0.8  ,  0.8  ,  0.8  ,  0.8  ,\n",
       "        0.8  ,  0.8  ,  0.827,  0.827,  0.827,  0.827,  0.827,  0.827,\n",
       "        0.827,  0.827,  0.834,  0.834,  0.834,  0.834,  0.834,  0.834,\n",
       "        0.834,  0.834,  0.834,  0.834,  0.834,  0.834,  0.837,  0.837,\n",
       "        0.86 ,  0.86 ,  0.86 ,  0.86 ,  0.86 ,  0.86 ,  0.86 ,  0.86 ,\n",
       "        0.86 ,  0.86 ,  0.86 ,  0.86 ,  0.866,  0.866,  0.866,  0.866,\n",
       "        0.892,  0.892,  0.892,  0.892,  0.892,  0.892,  1.177,  1.177,\n",
       "        1.177,  1.177,  1.213,  1.213,  1.213,  1.213,  1.213,  1.213,\n",
       "        1.213,  1.213,  1.235,  1.235,  1.235,  1.235,  1.235,  1.235,\n",
       "        1.235,  1.235,  1.249,  1.249,  1.249,  1.249,  1.384,  1.384,\n",
       "        1.384,  1.384,  1.418,  1.418,  1.418,  1.418,  1.418,  1.418,\n",
       "        1.418,  1.418,  1.488,  1.488,  1.488,  1.488,  1.502,  1.502,\n",
       "        1.502,  1.502,  1.502,  1.502,  1.502,  1.502,  1.507,  1.507,\n",
       "        1.507,  1.507,  1.754,  1.754,  1.754,  1.754,  1.754,  1.754,\n",
       "        1.754,  1.754,  1.894,  1.894,  1.894,  1.894,  1.894,  1.894,\n",
       "        1.894,  1.894,  1.899,  1.899,  1.899,  1.899,  2.093,  2.093,\n",
       "        2.093,  2.093,  2.107,  2.107,  2.107,  2.107,  2.107,  2.107,\n",
       "        2.107,  2.107,  2.166,  2.166,  2.166,  2.166,  2.179,  2.179,\n",
       "        2.179,  2.179,  2.306,  2.306,  2.306,  2.306,  2.374,  2.374,\n",
       "        2.374,  2.374,  2.455,  2.455,  2.524,  2.524,  2.524,  2.524,\n",
       "        2.524,  2.524,  2.524,  2.524,  2.763,  2.763,  2.763,  2.763,\n",
       "        3.014,  3.014,  3.014,  3.014,  3.232,  3.232,  3.232,  3.232])"
      ]
     },
     "execution_count": 60,
     "metadata": {},
     "output_type": "execute_result"
    }
   ],
   "source": [
    "np.linalg.eigvalsh(-H2.toarray())"
   ]
  },
  {
   "cell_type": "markdown",
   "id": "f85ae225",
   "metadata": {},
   "source": [
    "## gridsearch revisit"
   ]
  },
  {
   "cell_type": "code",
   "execution_count": 272,
   "id": "d2383be9",
   "metadata": {},
   "outputs": [
    {
     "data": {
      "text/plain": [
       "<module 'utils.optm_method' from '/Users/keisukemurota/Documents/todo/worms/python/nsp/utils/optm_method.py'>"
      ]
     },
     "execution_count": 272,
     "metadata": {},
     "output_type": "execute_result"
    }
   ],
   "source": [
    "from utils import optm\n",
    "from utils import optm_method as optmm\n",
    "reload(optm)\n",
    "reload(optmm)"
   ]
  },
  {
   "cell_type": "code",
   "execution_count": 279,
   "id": "669d0ca4",
   "metadata": {},
   "outputs": [],
   "source": [
    "n_index = 4\n",
    "ranges = (slice(-10, 10), ) * n_index\n",
    "index = np.random.choice(28, n_index, replace=True)\n",
    "grid = optm.unitary_optm(X, 28, index=index, init_param = np.array(model._params.data))"
   ]
  },
  {
   "cell_type": "code",
   "execution_count": 280,
   "id": "3dacd2d5",
   "metadata": {
    "collapsed": true
   },
   "outputs": [
    {
     "ename": "KeyboardInterrupt",
     "evalue": "",
     "output_type": "error",
     "traceback": [
      "\u001b[0;31m---------------------------------------------------------------------------\u001b[0m",
      "\u001b[0;31mKeyboardInterrupt\u001b[0m                         Traceback (most recent call last)",
      "\u001b[0;32m/var/folders/z7/m5qzz0hj12z06hxsn5km2c400000gn/T/ipykernel_6135/3474955355.py\u001b[0m in \u001b[0;36m<module>\u001b[0;34m\u001b[0m\n\u001b[1;32m      2\u001b[0m \u001b[0;34m\u001b[0m\u001b[0m\n\u001b[1;32m      3\u001b[0m \u001b[0;32mfor\u001b[0m \u001b[0m_\u001b[0m \u001b[0;32min\u001b[0m \u001b[0mrange\u001b[0m\u001b[0;34m(\u001b[0m\u001b[0;36m100\u001b[0m\u001b[0;34m)\u001b[0m\u001b[0;34m:\u001b[0m\u001b[0;34m\u001b[0m\u001b[0;34m\u001b[0m\u001b[0m\n\u001b[0;32m----> 4\u001b[0;31m     \u001b[0mresbrute\u001b[0m \u001b[0;34m=\u001b[0m \u001b[0mscipy\u001b[0m\u001b[0;34m.\u001b[0m\u001b[0moptimize\u001b[0m\u001b[0;34m.\u001b[0m\u001b[0mbrute\u001b[0m\u001b[0;34m(\u001b[0m\u001b[0mgrid\u001b[0m\u001b[0;34m,\u001b[0m \u001b[0mranges\u001b[0m \u001b[0;34m=\u001b[0m \u001b[0mranges\u001b[0m\u001b[0;34m,\u001b[0m \u001b[0mfull_output\u001b[0m\u001b[0;34m=\u001b[0m\u001b[0;32mTrue\u001b[0m\u001b[0;34m)\u001b[0m\u001b[0;34m\u001b[0m\u001b[0;34m\u001b[0m\u001b[0m\n\u001b[0m\u001b[1;32m      5\u001b[0m     \u001b[0mindex\u001b[0m \u001b[0;34m=\u001b[0m \u001b[0mnp\u001b[0m\u001b[0;34m.\u001b[0m\u001b[0mrandom\u001b[0m\u001b[0;34m.\u001b[0m\u001b[0mchoice\u001b[0m\u001b[0;34m(\u001b[0m\u001b[0;36m28\u001b[0m\u001b[0;34m,\u001b[0m \u001b[0mn_index\u001b[0m \u001b[0;34m,\u001b[0m \u001b[0mreplace\u001b[0m\u001b[0;34m=\u001b[0m\u001b[0;32mTrue\u001b[0m\u001b[0;34m)\u001b[0m\u001b[0;34m\u001b[0m\u001b[0;34m\u001b[0m\u001b[0m\n\u001b[1;32m      6\u001b[0m \u001b[0;31m#     print(resbrute[0])\u001b[0m\u001b[0;34m\u001b[0m\u001b[0;34m\u001b[0m\u001b[0;34m\u001b[0m\u001b[0m\n",
      "\u001b[0;32m~/miniconda3/envs/research/lib/python3.7/site-packages/scipy/optimize/optimize.py\u001b[0m in \u001b[0;36mbrute\u001b[0;34m(func, ranges, args, Ns, full_output, finish, disp, workers)\u001b[0m\n\u001b[1;32m   3260\u001b[0m     \u001b[0;31m# iterate over input arrays, possibly in parallel\u001b[0m\u001b[0;34m\u001b[0m\u001b[0;34m\u001b[0m\u001b[0;34m\u001b[0m\u001b[0m\n\u001b[1;32m   3261\u001b[0m     \u001b[0;32mwith\u001b[0m \u001b[0mMapWrapper\u001b[0m\u001b[0;34m(\u001b[0m\u001b[0mpool\u001b[0m\u001b[0;34m=\u001b[0m\u001b[0mworkers\u001b[0m\u001b[0;34m)\u001b[0m \u001b[0;32mas\u001b[0m \u001b[0mmapper\u001b[0m\u001b[0;34m:\u001b[0m\u001b[0;34m\u001b[0m\u001b[0;34m\u001b[0m\u001b[0m\n\u001b[0;32m-> 3262\u001b[0;31m         \u001b[0mJout\u001b[0m \u001b[0;34m=\u001b[0m \u001b[0mnp\u001b[0m\u001b[0;34m.\u001b[0m\u001b[0marray\u001b[0m\u001b[0;34m(\u001b[0m\u001b[0mlist\u001b[0m\u001b[0;34m(\u001b[0m\u001b[0mmapper\u001b[0m\u001b[0;34m(\u001b[0m\u001b[0mwrapped_func\u001b[0m\u001b[0;34m,\u001b[0m \u001b[0mgrid\u001b[0m\u001b[0;34m)\u001b[0m\u001b[0;34m)\u001b[0m\u001b[0;34m)\u001b[0m\u001b[0;34m\u001b[0m\u001b[0;34m\u001b[0m\u001b[0m\n\u001b[0m\u001b[1;32m   3263\u001b[0m         \u001b[0;32mif\u001b[0m \u001b[0;34m(\u001b[0m\u001b[0mN\u001b[0m \u001b[0;34m==\u001b[0m \u001b[0;36m1\u001b[0m\u001b[0;34m)\u001b[0m\u001b[0;34m:\u001b[0m\u001b[0;34m\u001b[0m\u001b[0;34m\u001b[0m\u001b[0m\n\u001b[1;32m   3264\u001b[0m             \u001b[0mgrid\u001b[0m \u001b[0;34m=\u001b[0m \u001b[0;34m(\u001b[0m\u001b[0mgrid\u001b[0m\u001b[0;34m,\u001b[0m\u001b[0;34m)\u001b[0m\u001b[0;34m\u001b[0m\u001b[0;34m\u001b[0m\u001b[0m\n",
      "\u001b[0;32m~/miniconda3/envs/research/lib/python3.7/site-packages/scipy/optimize/optimize.py\u001b[0m in \u001b[0;36m__call__\u001b[0;34m(self, x)\u001b[0m\n\u001b[1;32m   3332\u001b[0m     \u001b[0;32mdef\u001b[0m \u001b[0m__call__\u001b[0m\u001b[0;34m(\u001b[0m\u001b[0mself\u001b[0m\u001b[0;34m,\u001b[0m \u001b[0mx\u001b[0m\u001b[0;34m)\u001b[0m\u001b[0;34m:\u001b[0m\u001b[0;34m\u001b[0m\u001b[0;34m\u001b[0m\u001b[0m\n\u001b[1;32m   3333\u001b[0m         \u001b[0;31m# flatten needed for one dimensional case.\u001b[0m\u001b[0;34m\u001b[0m\u001b[0;34m\u001b[0m\u001b[0;34m\u001b[0m\u001b[0m\n\u001b[0;32m-> 3334\u001b[0;31m         \u001b[0;32mreturn\u001b[0m \u001b[0mself\u001b[0m\u001b[0;34m.\u001b[0m\u001b[0mf\u001b[0m\u001b[0;34m(\u001b[0m\u001b[0mnp\u001b[0m\u001b[0;34m.\u001b[0m\u001b[0masarray\u001b[0m\u001b[0;34m(\u001b[0m\u001b[0mx\u001b[0m\u001b[0;34m)\u001b[0m\u001b[0;34m.\u001b[0m\u001b[0mflatten\u001b[0m\u001b[0;34m(\u001b[0m\u001b[0;34m)\u001b[0m\u001b[0;34m,\u001b[0m \u001b[0;34m*\u001b[0m\u001b[0mself\u001b[0m\u001b[0;34m.\u001b[0m\u001b[0margs\u001b[0m\u001b[0;34m)\u001b[0m\u001b[0;34m\u001b[0m\u001b[0;34m\u001b[0m\u001b[0m\n\u001b[0m\u001b[1;32m   3335\u001b[0m \u001b[0;34m\u001b[0m\u001b[0m\n\u001b[1;32m   3336\u001b[0m \u001b[0;34m\u001b[0m\u001b[0m\n",
      "\u001b[0;32m~/Documents/todo/worms/python/nsp/utils/optm.py\u001b[0m in \u001b[0;36m__call__\u001b[0;34m(self, param)\u001b[0m\n\u001b[1;32m    508\u001b[0m         \u001b[0monesite_mat\u001b[0m \u001b[0;34m=\u001b[0m \u001b[0mexpm\u001b[0m\u001b[0;34m(\u001b[0m\u001b[0mtmp\u001b[0m\u001b[0;34m.\u001b[0m\u001b[0msum\u001b[0m\u001b[0;34m(\u001b[0m\u001b[0maxis\u001b[0m\u001b[0;34m=\u001b[0m\u001b[0;36m0\u001b[0m\u001b[0;34m)\u001b[0m\u001b[0;34m)\u001b[0m\u001b[0;34m\u001b[0m\u001b[0;34m\u001b[0m\u001b[0m\n\u001b[1;32m    509\u001b[0m         \u001b[0mU\u001b[0m \u001b[0;34m=\u001b[0m \u001b[0mnp\u001b[0m\u001b[0;34m.\u001b[0m\u001b[0mkron\u001b[0m\u001b[0;34m(\u001b[0m\u001b[0monesite_mat\u001b[0m\u001b[0;34m,\u001b[0m \u001b[0monesite_mat\u001b[0m\u001b[0;34m)\u001b[0m\u001b[0;34m[\u001b[0m\u001b[0;32mNone\u001b[0m\u001b[0;34m,\u001b[0m \u001b[0;34m:\u001b[0m\u001b[0;34m,\u001b[0m \u001b[0;34m:\u001b[0m\u001b[0;34m]\u001b[0m\u001b[0;34m\u001b[0m\u001b[0;34m\u001b[0m\u001b[0m\n\u001b[0;32m--> 510\u001b[0;31m         \u001b[0;32mreturn\u001b[0m \u001b[0mloss_eig_np\u001b[0m\u001b[0;34m(\u001b[0m\u001b[0mU\u001b[0m \u001b[0;34m@\u001b[0m \u001b[0mself\u001b[0m\u001b[0;34m.\u001b[0m\u001b[0mX\u001b[0m \u001b[0;34m@\u001b[0m \u001b[0mU\u001b[0m\u001b[0;34m.\u001b[0m\u001b[0mswapaxes\u001b[0m\u001b[0;34m(\u001b[0m\u001b[0;36m1\u001b[0m\u001b[0;34m,\u001b[0m\u001b[0;36m2\u001b[0m\u001b[0;34m)\u001b[0m\u001b[0;34m)\u001b[0m\u001b[0;34m\u001b[0m\u001b[0;34m\u001b[0m\u001b[0m\n\u001b[0m\u001b[1;32m    511\u001b[0m \u001b[0;34m\u001b[0m\u001b[0m\n\u001b[1;32m    512\u001b[0m \u001b[0;34m\u001b[0m\u001b[0m\n",
      "\u001b[0;31mKeyboardInterrupt\u001b[0m: "
     ]
    }
   ],
   "source": [
    "import scipy.optimize\n",
    "\n",
    "for _ in range(100):\n",
    "    resbrute = scipy.optimize.brute(grid, ranges = ranges, full_output=True)\n",
    "    index = np.random.choice(28, n_index , replace=True)\n",
    "#     print(resbrute[0])\n",
    "    print(\"target {:.4f}\".format(resbrute[1]))\n",
    "#     print(grid.params)\n",
    "    grid = optm.unitary_optm(X, 28, index=index, init_param = grid.params)"
   ]
  },
  {
   "cell_type": "code",
   "execution_count": 127,
   "id": "547dd9a1",
   "metadata": {},
   "outputs": [
    {
     "data": {
      "text/plain": [
       "array([ 9, 21,  1])"
      ]
     },
     "execution_count": 127,
     "metadata": {},
     "output_type": "execute_result"
    }
   ],
   "source": [
    "index"
   ]
  },
  {
   "cell_type": "code",
   "execution_count": 254,
   "id": "8efe26a5",
   "metadata": {},
   "outputs": [
    {
     "data": {
      "text/plain": [
       "4.761640719693298"
      ]
     },
     "execution_count": 254,
     "metadata": {},
     "output_type": "execute_result"
    }
   ],
   "source": [
    "grid([0])"
   ]
  },
  {
   "cell_type": "code",
   "execution_count": 257,
   "id": "0ecd8bff",
   "metadata": {},
   "outputs": [],
   "source": [
    "T = np.linspace(-100,100, 1000)\n",
    "y = []\n",
    "grid = optm.unitary_optm(X, 28, index=index, init_param = np.array(model._params.data))\n",
    "for t in T:\n",
    "    y.append(grid([t*np.pi+250]))"
   ]
  },
  {
   "cell_type": "code",
   "execution_count": 258,
   "id": "bf76c7c8",
   "metadata": {},
   "outputs": [
    {
     "data": {
      "text/plain": [
       "[<matplotlib.lines.Line2D at 0x7f845bbaa390>]"
      ]
     },
     "execution_count": 258,
     "metadata": {},
     "output_type": "execute_result"
    },
    {
     "data": {
      "image/png": "[encoded data removed]",
      "text/plain": [
       "<Figure size 432x288 with 1 Axes>"
      ]
     },
     "metadata": {
      "needs_background": "light"
     },
     "output_type": "display_data"
    }
   ],
   "source": [
    "from matplotlib import pyplot as plt\n",
    "\n",
    "fig, ax = plt.subplots()\n",
    "ax.plot(T,y)"
   ]
  },
  {
   "cell_type": "code",
   "execution_count": 194,
   "id": "1942945b",
   "metadata": {},
   "outputs": [
    {
     "data": {
      "text/plain": [
       "array([248630.97], dtype=float32)"
      ]
     },
     "execution_count": 194,
     "metadata": {},
     "output_type": "execute_result"
    }
   ],
   "source": [
    "grid.params[grid.index]"
   ]
  },
  {
   "cell_type": "code",
   "execution_count": 68,
   "id": "7d9f4328",
   "metadata": {},
   "outputs": [
    {
     "data": {
      "text/plain": [
       "array([4.34404299e+00, 5.78362881e-04, 3.21762196e+00])"
      ]
     },
     "execution_count": 68,
     "metadata": {},
     "output_type": "execute_result"
    }
   ],
   "source": [
    "resbrute"
   ]
  },
  {
   "cell_type": "code",
   "execution_count": 199,
   "id": "6f005370",
   "metadata": {},
   "outputs": [
    {
     "data": {
      "text/plain": [
       "array([-1.,  0.,  0.,  0.,  0.,  0.,  0.,  1.])"
      ]
     },
     "execution_count": 199,
     "metadata": {},
     "output_type": "execute_result"
    }
   ],
   "source": [
    "np.linalg.eigvalsh(grid.generators[0])"
   ]
  },
  {
   "cell_type": "code",
   "execution_count": 4,
   "id": "clinical-reservation",
   "metadata": {},
   "outputs": [],
   "source": [
    "def exp_energy(E, beta):\n",
    "    Z = np.exp(-beta*E)\n",
    "    EZ = E*Z\n",
    "    return np.sum(EZ)/np.sum(Z)"
   ]
  },
  {
   "cell_type": "code",
   "execution_count": 5,
   "id": "black-rover",
   "metadata": {},
   "outputs": [],
   "source": []
  },
  {
   "cell_type": "code",
   "execution_count": 6,
   "id": "starting-atlanta",
   "metadata": {},
   "outputs": [],
   "source": [
    "# X = f.set_origin(X)"
   ]
  },
  {
   "cell_type": "code",
   "execution_count": 7,
   "id": "divine-choir",
   "metadata": {},
   "outputs": [],
   "source": [
    "# X += 0.1*np.eye(X.shape[0])"
   ]
  },
  {
   "cell_type": "markdown",
   "id": "d2d0fb85",
   "metadata": {},
   "source": [
    "### reweightin"
   ]
  },
  {
   "cell_type": "code",
   "execution_count": 268,
   "id": "ancient-professional",
   "metadata": {},
   "outputs": [],
   "source": [
    "X = np.load(\"../array/MG_union_bond.npy\")\n",
    "Y = lf.positive_map_np(X) / 1.5"
   ]
  },
  {
   "cell_type": "code",
   "execution_count": 266,
   "id": "fifth-simon",
   "metadata": {},
   "outputs": [],
   "source": [
    "np.save(\"../array/MG_union_abs.npy\",Y)\n",
    "np.save(\"../array/MG_union_bond_mod.npy\", X)"
   ]
  },
  {
   "cell_type": "code",
   "execution_count": 267,
   "id": "great-increase",
   "metadata": {},
   "outputs": [
    {
     "name": "stdout",
     "output_type": "stream",
     "text": [
      "rate of ground state energy =  0.9996004939667932\n"
     ]
    }
   ],
   "source": [
    "L = 2\n",
    "H = np.zeros((2**(3*L), 2**(3*L)), dtype=np.float64)\n",
    "for i in range(L):\n",
    "    H += f.l2nl(X, L, [i, (i+1)%L], sps = 8)    \n",
    "    \n",
    "H_abs = np.zeros((2**(3*L), 2**(3*L)), dtype=np.float64)\n",
    "for i in range(L):\n",
    "    H_abs += f.l2nl(Y, L, [i, (i+1)%L], sps = 8) \n",
    "    \n",
    "print(\"rate of ground state energy = \", np.linalg.eigvalsh(H_abs)[-1] / np.linalg.eigvalsh(H)[-1])"
   ]
  },
  {
   "cell_type": "code",
   "execution_count": 270,
   "id": "bronze-cause",
   "metadata": {},
   "outputs": [
    {
     "name": "stdout",
     "output_type": "stream",
     "text": [
      "expected weigh rate is :  1.8168268609655733 at T =  0.5\n"
     ]
    }
   ],
   "source": [
    "T = 0.5\n",
    "beta = 1/T\n",
    "E_abs = np.linalg.eigvalsh(H_abs)\n",
    "E= np.linalg.eigvalsh(H)\n",
    "print(\"expected weigh rate is : \",np.exp(beta*E).sum() / np.exp(beta*E_abs).sum(), \"at T = \", T)"
   ]
  },
  {
   "cell_type": "markdown",
   "id": "0ae87d2b",
   "metadata": {},
   "source": [
    "### reweight + scheme1"
   ]
  },
  {
   "cell_type": "code",
   "execution_count": 58,
   "id": "linear-throw",
   "metadata": {},
   "outputs": [],
   "source": [
    "X = np.load(\"../array/MG_union_rns_bond.npy\")\n",
    "Y = lf.positive_map_np(X) / 1.3911"
   ]
  },
  {
   "cell_type": "code",
   "execution_count": 59,
   "id": "advanced-terminal",
   "metadata": {},
   "outputs": [
    {
     "name": "stdout",
     "output_type": "stream",
     "text": [
      "rate of ground state energy =  0.9999906947911646\n"
     ]
    }
   ],
   "source": [
    "L = 2\n",
    "H = np.zeros((2**(3*L), 2**(3*L)), dtype=np.float64)\n",
    "for i in range(L):\n",
    "    H += f.l2nl(X, L, [i, (i+1)%L], sps = 8)    \n",
    "    \n",
    "H_abs = np.zeros((2**(3*L), 2**(3*L)), dtype=np.float64)\n",
    "for i in range(L):\n",
    "    H_abs += f.l2nl(Y, L, [i, (i+1)%L], sps = 8) \n",
    "    \n",
    "print(\"rate of ground state energy = \", np.linalg.eigvalsh(H_abs)[-1] / np.linalg.eigvalsh(H)[-1])"
   ]
  },
  {
   "cell_type": "code",
   "execution_count": 80,
   "id": "8b8e5748",
   "metadata": {},
   "outputs": [],
   "source": [
    "Y[np.abs(Y) < 1E-10] = 0\n",
    "X[np.abs(X) < 1E-9] = 0"
   ]
  },
  {
   "cell_type": "code",
   "execution_count": 81,
   "id": "southwest-exclusive",
   "metadata": {},
   "outputs": [],
   "source": [
    "np.save(\"../array/MG_union_abs2.npy\",Y)\n",
    "np.save(\"../array/MG_union_bond_mod2.npy\", X)"
   ]
  },
  {
   "cell_type": "code",
   "execution_count": 85,
   "id": "2faf32df",
   "metadata": {},
   "outputs": [
    {
     "name": "stdout",
     "output_type": "stream",
     "text": [
      "expected energy:  1.6903445121580893 at T =  0.5\n",
      "expected weigh rate is :  1.6081105899390657 at T =  0.5\n"
     ]
    }
   ],
   "source": [
    "T = 0.5\n",
    "beta = 1/T\n",
    "E_abs = np.linalg.eigvalsh(H_abs)\n",
    "E= np.linalg.eigvalsh(H)\n",
    "print(\"expected energy: \",exp_energy(E, -beta), \"at T = \", T)\n",
    "print(\"expected weigh rate is : \",np.exp(beta*E).sum() / np.exp(beta*E_abs).sum(), \"at T = \", T)"
   ]
  },
  {
   "cell_type": "markdown",
   "id": "5e71d1a7",
   "metadata": {},
   "source": [
    "#### 相似変換"
   ]
  },
  {
   "cell_type": "code",
   "execution_count": 219,
   "id": "420783cc",
   "metadata": {},
   "outputs": [],
   "source": [
    "X = np.load(\"../array/MG_union_rns_bond.npy\")\n",
    "Y = np.load(\"../array/MG_union_rns_bond.npy\")\n",
    "\n",
    "\n",
    "\n",
    "from scipy.stats import ortho_group  # Requires version 0.18 of scipy\n",
    "\n",
    "m = ortho_group.rvs(dim=8)\n",
    "m = np.eye(8)\n",
    "lam = (np.random.rand(8)-1/2) + 1\n",
    "n = ortho_group.rvs(dim=8)\n",
    "# n = np.eye(8)\n",
    "\n",
    "A = m @ np.diag(lam) @ n\n",
    "A_inv = n.T @ np.diag(1/lam) @ m.T\n",
    "B = np.kron(A,A)\n",
    "B_inv = np.kron(A_inv, A_inv)"
   ]
  },
  {
   "cell_type": "code",
   "execution_count": 220,
   "id": "753b5867",
   "metadata": {},
   "outputs": [],
   "source": [
    "X_prime = B @ X @ B_inv\n",
    "Y_prime = lf.positive_map_np(X_prime)\n",
    "L = 2\n",
    "\n",
    "H = np.zeros((2**(3*L), 2**(3*L)), dtype=np.float64)\n",
    "for i in range(L):\n",
    "    H += f.l2nl(X_prime, L, [i, (i+1)%L], sps = 8)    \n",
    "    \n",
    "H_abs = np.zeros((2**(3*L), 2**(3*L)), dtype=np.float64)\n",
    "for i in range(L):\n",
    "    H_abs += f.l2nl(Y_prime, L, [i, (i+1)%L], sps = 8) \n",
    "    \n",
    "# print(\"rate of ground state energy = \", np.linalg.eigvals(H_abs)[-1] / np.linalg.eigvals(H)[-1])"
   ]
  },
  {
   "cell_type": "code",
   "execution_count": 221,
   "id": "c006025e",
   "metadata": {},
   "outputs": [],
   "source": [
    "np.save(\"../array/MG_union_bond_sim.npy\", X_prime)\n",
    "np.save(\"../array/MG_union_bond_sim_abs.npy\", Y_prime)"
   ]
  },
  {
   "cell_type": "code",
   "execution_count": 222,
   "id": "70487e86",
   "metadata": {},
   "outputs": [
    {
     "data": {
      "text/plain": [
       "3.5417897164689784"
      ]
     },
     "execution_count": 222,
     "metadata": {},
     "output_type": "execute_result"
    }
   ],
   "source": [
    "np.max(np.linalg.eigvals(H_abs).real) / np.max(np.linalg.eigvals(H).real)"
   ]
  },
  {
   "cell_type": "markdown",
   "id": "3720c781",
   "metadata": {},
   "source": [
    "### virtual hamiltonianをひえるみーとにする"
   ]
  },
  {
   "cell_type": "code",
   "execution_count": 257,
   "id": "88ac2754",
   "metadata": {},
   "outputs": [],
   "source": [
    "X = np.load(\"../array/MG_union_rns_bond.npy\")\n",
    "Y = np.load(\"../array/MG_reweight.npy\")"
   ]
  },
  {
   "cell_type": "code",
   "execution_count": 258,
   "id": "b73e71dd",
   "metadata": {},
   "outputs": [
    {
     "name": "stdout",
     "output_type": "stream",
     "text": [
      "target values :  2.2499999999999973\n"
     ]
    }
   ],
   "source": [
    "L = 2\n",
    "H = np.zeros((2**(3*L), 2**(3*L)), dtype=np.float64)\n",
    "for i in range(L):\n",
    "    H += f.l2nl(X, L, [i, (i+1)%L], sps = 8)   \n",
    "print(\"target values : \",np.linalg.eigvalsh(H)[-1])"
   ]
  },
  {
   "cell_type": "code",
   "execution_count": 260,
   "id": "4d1215ec",
   "metadata": {},
   "outputs": [
    {
     "name": "stdout",
     "output_type": "stream",
     "text": [
      "initial value :  3.457806879034708\n"
     ]
    }
   ],
   "source": [
    "H_abs = np.zeros((2**(3*L), 2**(3*L)), dtype=np.float64)\n",
    "for i in range(L):\n",
    "    H_abs += f.l2nl(Y, L, [i, (i+1)%L], sps = 8) \n",
    "    \n",
    "print(\"initial value : \", np.max(np.linalg.eigvals(H_abs).real))"
   ]
  },
  {
   "cell_type": "code",
   "execution_count": 264,
   "id": "aa7d5264",
   "metadata": {},
   "outputs": [
    {
     "name": "stdout",
     "output_type": "stream",
     "text": [
      "expected weigh rate is :  0.06898474724431898 at T =  0.5\n",
      "expected energy :  1.6903445121580893\n"
     ]
    }
   ],
   "source": [
    "T = 0.5\n",
    "beta = 1/T\n",
    "E_abs = np.linalg.eigvalsh(H_abs)\n",
    "E= np.linalg.eigvalsh(H)\n",
    "print(\"expected weigh rate is : \",np.exp(beta*E).sum() / np.exp(beta*E_abs).sum(), \"at T = \", T)\n",
    "print(\"expected energy : \", exp_energy(E, -beta))"
   ]
  },
  {
   "cell_type": "code",
   "execution_count": 252,
   "id": "caf9b1c0",
   "metadata": {},
   "outputs": [
    {
     "name": "stdout",
     "output_type": "stream",
     "text": [
      "initial value :  14.543604945852746  a =  0.1\n",
      "initial value :  7.77621160841454  a =  0.2\n",
      "initial value :  5.616410081043032  a =  0.30000000000000004\n",
      "initial value :  4.607528465051908  a =  0.4\n",
      "initial value :  4.058320717862684  a =  0.5\n",
      "initial value :  3.7384915780730745  a =  0.6\n",
      "initial value :  3.549452342607605  a =  0.7000000000000001\n",
      "initial value :  3.4419933775689917  a =  0.8\n",
      "initial value :  3.3888357972137833  a =  0.9\n",
      "initial value :  3.373651667137916  a =  1.0\n",
      "initial value :  3.3860749200910387  a =  1.1\n",
      "initial value :  3.419209093669221  a =  1.2000000000000002\n",
      "initial value :  3.4682874139118844  a =  1.3000000000000003\n",
      "initial value :  3.5299087357156824  a =  1.4000000000000001\n",
      "initial value :  3.601580243234463  a =  1.5000000000000002\n",
      "initial value :  3.6814323923806307  a =  1.6\n",
      "initial value :  3.768034941101636  a =  1.7000000000000002\n",
      "initial value :  3.8602745965127525  a =  1.8000000000000003\n",
      "initial value :  3.957271473923664  a =  1.9000000000000001\n",
      "initial value :  4.058320717862685  a =  2.0\n",
      "initial value :  4.16285085728364  a =  2.1\n",
      "initial value :  4.270393546051043  a =  2.2\n",
      "initial value :  4.380561209249292  a =  2.3000000000000003\n",
      "initial value :  4.4930302812121345  a =  2.4000000000000004\n",
      "initial value :  4.607528465051905  a =  2.5000000000000004\n",
      "initial value :  4.723824928632787  a =  2.6\n",
      "initial value :  4.841722674624438  a =  2.7\n",
      "initial value :  4.96105254077615  a =  2.8000000000000003\n",
      "initial value :  5.081668436965954  a =  2.9000000000000004\n",
      "initial value :  5.203443530698352  a =  3.0000000000000004\n",
      "initial value :  5.326267167224775  a =  3.1\n",
      "initial value :  5.450042363950983  a =  3.2\n",
      "initial value :  5.574683757662827  a =  3.3000000000000003\n",
      "initial value :  5.700115911666862  a =  3.4000000000000004\n",
      "initial value :  5.826271911147561  a =  3.5000000000000004\n",
      "initial value :  5.9530921909517795  a =  3.6\n",
      "initial value :  6.08052355204182  a =  3.7\n",
      "initial value :  6.208518332047575  a =  3.8000000000000003\n",
      "initial value :  6.3370337024150665  a =  3.9000000000000004\n",
      "initial value :  6.46603107012934  a =  4.0\n",
      "initial value :  6.595475566268991  a =  4.1\n",
      "initial value :  6.7253356070148165  a =  4.2\n",
      "initial value :  6.855582515395933  a =  4.3\n",
      "initial value :  6.986190194178304  a =  4.3999999999999995\n",
      "initial value :  7.117134841994932  a =  4.5\n",
      "initial value :  7.248394706186009  a =  4.6\n",
      "initial value :  7.379949866920479  a =  4.7\n",
      "initial value :  7.511782048071207  a =  4.8\n",
      "initial value :  7.643874451050386  a =  4.9\n",
      "initial value :  7.776211608414533  a =  5.0\n",
      "initial value :  7.908779254546513  a =  5.1\n",
      "initial value :  8.041564211132844  a =  5.2\n",
      "initial value :  8.174554285496987  a =  5.3\n",
      "initial value :  8.307738180135244  a =  5.4\n",
      "initial value :  8.441105412040162  a =  5.5\n",
      "initial value :  8.574646240596135  a =  5.6\n",
      "initial value :  8.708351603004498  a =  5.7\n",
      "initial value :  8.842213056334533  a =  5.8\n",
      "initial value :  8.976222725421005  a =  5.9\n",
      "initial value :  9.110373255930499  a =  6.0\n",
      "initial value :  9.244657772008978  a =  6.1\n",
      "initial value :  9.379069837995752  a =  6.2\n",
      "initial value :  9.51360342375639  a =  6.3\n",
      "initial value :  9.648252873241075  a =  6.4\n",
      "initial value :  9.783012875923681  a =  6.5\n",
      "initial value :  9.91787844081865  a =  6.6\n",
      "initial value :  10.05284487280695  a =  6.7\n",
      "initial value :  10.187907751037015  a =  6.8\n",
      "initial value :  10.323062909189769  a =  6.9\n",
      "initial value :  10.458306417423927  a =  7.0\n",
      "initial value :  10.593634565836268  a =  7.1\n",
      "initial value :  10.729043849290806  a =  7.2\n",
      "initial value :  10.864530953486783  a =  7.3\n",
      "initial value :  11.00009274214842  a =  7.4\n",
      "initial value :  11.135726245232982  a =  7.5\n",
      "initial value :  11.271428648064083  a =  7.6\n",
      "initial value :  11.407197281305546  a =  7.7\n",
      "initial value :  11.54302961170242  a =  7.8\n",
      "initial value :  11.678923233520242  a =  7.9\n",
      "initial value :  11.814875860623197  a =  8.0\n",
      "initial value :  11.950885319134752  a =  8.1\n",
      "initial value :  12.086949540632201  a =  8.2\n",
      "initial value :  12.223066555830814  a =  8.3\n",
      "initial value :  12.359234488715993  a =  8.4\n",
      "initial value :  12.495451551087553  a =  8.5\n",
      "initial value :  12.631716037481866  a =  8.6\n",
      "initial value :  12.768026320443234  a =  8.7\n",
      "initial value :  12.904380846115087  a =  8.8\n",
      "initial value :  13.040778130126892  a =  8.9\n",
      "initial value :  13.177216753754246  a =  9.0\n",
      "initial value :  13.313695360330277  a =  9.1\n",
      "initial value :  13.45021265189019  a =  9.2\n",
      "initial value :  13.58676738603074  a =  9.3\n",
      "initial value :  13.723358372969754  a =  9.4\n",
      "initial value :  13.859984472789982  a =  9.5\n",
      "initial value :  13.996644592854572  a =  9.6\n",
      "initial value :  14.133337685381328  a =  9.700000000000001\n",
      "initial value :  14.270062745164955  a =  9.8\n",
      "initial value :  14.406818807436988  a =  9.9\n",
      "initial value :  14.543604945852831  a =  10.0\n"
     ]
    }
   ],
   "source": [
    "for a in np.linspace(0.1, 10, 100):\n",
    "    Z = a*np.tril(Y, k =-1) + np.diag(np.diag(Y)) + np.triu(Y, k =1)/a\n",
    "    H_z = np.zeros((2**(3*L), 2**(3*L)), dtype=np.float64)\n",
    "    for i in range(L):\n",
    "        H_z += f.l2nl(Z, L, [i, (i+1)%L], sps = 8) \n",
    "\n",
    "    print(\"initial value : \", np.max(np.linalg.eigvals(H_z).real), \" a = \", a)"
   ]
  },
  {
   "cell_type": "code",
   "execution_count": 226,
   "id": "c14e7e47",
   "metadata": {},
   "outputs": [
    {
     "name": "stdout",
     "output_type": "stream",
     "text": [
      "expected weigh rate is :  0.8163082000259331 at T =  1\n"
     ]
    }
   ],
   "source": [
    "T = 1\n",
    "beta = 1/T\n",
    "E_abs = np.linalg.eigvalsh(H_abs)\n",
    "E= np.linalg.eigvalsh(H)\n",
    "print(\"expected weigh rate is : \",np.exp(beta*E).sum() / np.exp(beta*E_abs).sum(), \"at T = \", T)"
   ]
  },
  {
   "cell_type": "code",
   "execution_count": null,
   "id": "d1cdb825",
   "metadata": {},
   "outputs": [],
   "source": []
  },
  {
   "cell_type": "code",
   "execution_count": 45,
   "id": "8bee8890",
   "metadata": {},
   "outputs": [],
   "source": [
    "np.save(\"../array/MG_union_abs.npy\",Y)\n",
    "np.save(\"../array/MG_union_bond_mod.npy\", X)"
   ]
  }
 ],
 "metadata": {
  "kernelspec": {
   "display_name": "Python 3 (ipykernel)",
   "language": "python",
   "name": "python3"
  },
  "language_info": {
   "codemirror_mode": {
    "name": "ipython",
    "version": 3
   },
   "file_extension": ".py",
   "mimetype": "text/x-python",
   "name": "python",
   "nbconvert_exporter": "python",
   "pygments_lexer": "ipython3",
   "version": "3.9.13"
  }
 },
 "nbformat": 4,
 "nbformat_minor": 5
}
