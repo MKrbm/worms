{
 "cells": [
  {
   "cell_type": "code",
   "execution_count": 68,
   "id": "broadband-deadline",
   "metadata": {},
   "outputs": [],
   "source": [
    "import numpy as np\n",
    "X = np.load(\"array/HP_bond_x.npy\")\n",
    "Y = np.load(\"array/HP_bond_y.npy\")\n",
    "Z = np.load(\"array/HP_bond_z.npy\")"
   ]
  },
  {
   "cell_type": "code",
   "execution_count": 69,
   "id": "surgical-surge",
   "metadata": {},
   "outputs": [],
   "source": [
    "H = -(Z + 1/2*(X+Y))\n",
    "Habs = np.copy(H)\n",
    "for i in range(4):\n",
    "    for j in range(i+1,4):\n",
    "        Habs[i,j] = -np.abs(H[i,j])\n",
    "        Habs[j,i] = -np.abs(H[j,i])        "
   ]
  },
  {
   "cell_type": "code",
   "execution_count": 70,
   "id": "institutional-basketball",
   "metadata": {},
   "outputs": [
    {
     "data": {
      "text/plain": [
       "(array([ 2.22044605e-16,  2.50000000e-01,  2.50000000e-01, -5.00000000e-01]),\n",
       " array([[ 8.86589866e-03,  5.41212883e-01, -1.76407218e-01,\n",
       "          2.75729944e-18],\n",
       "        [ 3.84200602e-01,  5.92145501e-01, -2.03582265e-01,\n",
       "         -7.07106781e-01],\n",
       "        [ 3.84200602e-01,  5.92145501e-01, -2.03582265e-01,\n",
       "          7.07106781e-01],\n",
       "        [ 8.39464824e-01,  7.62628686e-02, -9.41269896e-01,\n",
       "          1.99509715e-16]]))"
      ]
     },
     "execution_count": 70,
     "metadata": {},
     "output_type": "execute_result"
    }
   ],
   "source": [
    "np.linalg.eig(H)"
   ]
  },
  {
   "cell_type": "code",
   "execution_count": 71,
   "id": "likely-series",
   "metadata": {},
   "outputs": [
    {
     "data": {
      "text/plain": [
       "(array([-0.50463118,  0.26327449,  0.25463118, -0.01327449]),\n",
       " array([[ 5.01109290e-03,  1.05607811e-02, -1.05600967e-02,\n",
       "         -1.57564942e-17],\n",
       "        [ 6.22434553e-01,  4.20393680e-15,  8.04982421e-03,\n",
       "         -7.07106781e-01],\n",
       "        [ 6.22434553e-01,  4.00840486e-15,  8.04982421e-03,\n",
       "          7.07106781e-01],\n",
       "        [ 4.74473754e-01, -9.99944233e-01, -9.99879435e-01,\n",
       "          5.40967697e-16]]))"
      ]
     },
     "execution_count": 71,
     "metadata": {},
     "output_type": "execute_result"
    }
   ],
   "source": [
    "np.linalg.eig(Habs)"
   ]
  },
  {
   "cell_type": "code",
   "execution_count": 74,
   "id": "blessed-coordination",
   "metadata": {},
   "outputs": [
    {
     "data": {
      "text/plain": [
       "array([[ 2.56637247e-01, -3.03769043e-03, -3.03769043e-03,\n",
       "        -7.00984207e-05],\n",
       "       [-2.87622762e-01, -2.56637247e-01, -2.43362753e-01,\n",
       "        -3.03769043e-03],\n",
       "       [-2.87622762e-01, -2.43362753e-01, -2.56637247e-01,\n",
       "        -3.03769043e-03],\n",
       "       [-6.28445634e-01, -2.87622762e-01, -2.87622762e-01,\n",
       "         2.56637247e-01]])"
      ]
     },
     "execution_count": 74,
     "metadata": {},
     "output_type": "execute_result"
    }
   ],
   "source": [
    "Habs"
   ]
  },
  {
   "cell_type": "code",
   "execution_count": 75,
   "id": "traditional-report",
   "metadata": {},
   "outputs": [
    {
     "data": {
      "text/plain": [
       "array([[ 2.56637247e-01, -3.03769043e-03, -3.03769043e-03,\n",
       "         7.00984207e-05],\n",
       "       [ 2.87622762e-01, -2.56637247e-01,  2.43362753e-01,\n",
       "         3.03769043e-03],\n",
       "       [ 2.87622762e-01,  2.43362753e-01, -2.56637247e-01,\n",
       "         3.03769043e-03],\n",
       "       [ 6.28445634e-01, -2.87622762e-01, -2.87622762e-01,\n",
       "         2.56637247e-01]])"
      ]
     },
     "execution_count": 75,
     "metadata": {},
     "output_type": "execute_result"
    }
   ],
   "source": [
    "H"
   ]
  },
  {
   "cell_type": "code",
   "execution_count": null,
   "id": "later-tomorrow",
   "metadata": {},
   "outputs": [],
   "source": []
  }
 ],
 "metadata": {
  "kernelspec": {
   "display_name": "Python 3",
   "language": "python",
   "name": "python3"
  },
  "language_info": {
   "codemirror_mode": {
    "name": "ipython",
    "version": 3
   },
   "file_extension": ".py",
   "mimetype": "text/x-python",
   "name": "python",
   "nbconvert_exporter": "python",
   "pygments_lexer": "ipython3",
   "version": "3.7.9"
  }
 },
 "nbformat": 4,
 "nbformat_minor": 5
}
