{
 "cells": [
  {
   "cell_type": "code",
   "execution_count": 39,
   "id": "broadband-deadline",
   "metadata": {},
   "outputs": [],
   "source": [
    "import numpy as np\n",
    "X = np.load(\"array/HP_bond_x.npy\")\n",
    "Y = np.load(\"array/HP_bond_y.npy\")\n",
    "Z = np.load(\"array/HP_bond_z.npy\")"
   ]
  },
  {
   "cell_type": "code",
   "execution_count": 40,
   "id": "surgical-surge",
   "metadata": {},
   "outputs": [],
   "source": [
    "H = -Z\n",
    "# Habs = np.copy(H)\n",
    "# for i in range(H.shape[0]):\n",
    "#     for j in range(i+1,H.shape[0]):\n",
    "#         Habs[i,j] = -np.abs(H[i,j])\n",
    "#         Habs[j,i] = -np.abs(H[j,i])        "
   ]
  },
  {
   "cell_type": "code",
   "execution_count": 46,
   "id": "brutal-tomato",
   "metadata": {},
   "outputs": [
    {
     "data": {
      "text/plain": [
       "array([[0.     , 0.10513, 0.10513, 0.02992],\n",
       "       [0.41965, 0.73884, 0.11942, 0.10513],\n",
       "       [0.41965, 0.11942, 0.73884, 0.10513],\n",
       "       [0.47671, 0.41965, 0.41965, 0.     ]])"
      ]
     },
     "execution_count": 46,
     "metadata": {},
     "output_type": "execute_result"
    }
   ],
   "source": [
    "np.abs(-H + np.identity(4)*0.36942122227368901).round(5)"
   ]
  },
  {
   "cell_type": "code",
   "execution_count": 48,
   "id": "institutional-basketball",
   "metadata": {},
   "outputs": [
    {
     "data": {
      "text/plain": [
       "array([[-0.36942,  0.10513,  0.10513, -0.02992],\n",
       "       [-0.41965,  0.36942,  0.11942, -0.10513],\n",
       "       [-0.41965,  0.11942,  0.36942, -0.10513],\n",
       "       [-0.47671,  0.41965,  0.41965, -0.36942]])"
      ]
     },
     "execution_count": 48,
     "metadata": {},
     "output_type": "execute_result"
    }
   ],
   "source": [
    "(-H).round(5)"
   ]
  },
  {
   "cell_type": "code",
   "execution_count": 49,
   "id": "blessed-coordination",
   "metadata": {},
   "outputs": [],
   "source": [
    "from functions import *"
   ]
  },
  {
   "cell_type": "code",
   "execution_count": 63,
   "id": "traditional-report",
   "metadata": {},
   "outputs": [
    {
     "data": {
      "text/plain": [
       "[0, 0, 1, 1]"
      ]
     },
     "execution_count": 63,
     "metadata": {},
     "output_type": "execute_result"
    }
   ],
   "source": [
    "num2state(3, L = 4, nls = 1)\n",
    "# state2num(np.array([0,0,0,1]), nls = 1)"
   ]
  },
  {
   "cell_type": "code",
   "execution_count": 58,
   "id": "later-tomorrow",
   "metadata": {},
   "outputs": [
    {
     "name": "stdout",
     "output_type": "stream",
     "text": [
      "Help on CPUDispatcher in module functions:\n",
      "\n",
      "state2num(state, nls=2, rev=False)\n",
      "\n"
     ]
    }
   ],
   "source": [
    "help(state2num)"
   ]
  },
  {
   "cell_type": "code",
   "execution_count": null,
   "id": "union-article",
   "metadata": {},
   "outputs": [],
   "source": []
  }
 ],
 "metadata": {
  "kernelspec": {
   "display_name": "Python 3",
   "language": "python",
   "name": "python3"
  },
  "language_info": {
   "codemirror_mode": {
    "name": "ipython",
    "version": 3
   },
   "file_extension": ".py",
   "mimetype": "text/x-python",
   "name": "python",
   "nbconvert_exporter": "python",
   "pygments_lexer": "ipython3",
   "version": "3.7.9"
  }
 },
 "nbformat": 4,
 "nbformat_minor": 5
}
