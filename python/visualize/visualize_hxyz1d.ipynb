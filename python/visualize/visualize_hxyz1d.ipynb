{
 "cells": [
  {
   "cell_type": "code",
   "execution_count": 1,
   "id": "a0f75ac9",
   "metadata": {},
   "outputs": [],
   "source": [
    "import sys\n",
    "from pathlib import Path\n",
    "python_dir = Path(\"/Users/keisukemurota/Documents/todo/worms/python\")\n",
    "sys.path.insert(0, python_dir.resolve().as_posix())\n",
    "import numpy as np \n",
    "from rmsKit import utils, lattice\n",
    "import pandas\n",
    "import pandas as pd\n",
    "import matplotlib.pyplot as plt\n",
    "import matplotlib.gridspec as gridspec\n",
    "import os\n",
    "\n",
    "os.chdir(python_dir)"
   ]
  },
  {
   "cell_type": "code",
   "execution_count": 2,
   "id": "5fd69302",
   "metadata": {},
   "outputs": [],
   "source": [
    "IMAGE_PATH = Path(\"visualize/image\")\n",
    "WORM_RESULT_PATH = python_dir / \"rmsKit\" / \"array\" / \"quetta\" \n",
    "MODEL_NAME = \"HXYZ1D\"\n",
    "N = 10**6\n",
    "BETA_THRES = 20\n",
    "if not IMAGE_PATH.exists():\n",
    "    raise FileNotFoundError(\"{} does not exist.\".format(IMAGE_PATH.resolve()))\n",
    "if not WORM_RESULT_PATH.exists():\n",
    "    raise FileNotFoundError(\"{} does not exist.\".format(WORM_RESULT_PATH.resolve()))\n",
    "\n",
    "image_model_dir = IMAGE_PATH / MODEL_NAME\n",
    "worm_result_path = WORM_RESULT_PATH / (MODEL_NAME+\"_loc\")\n",
    "\n",
    "if not worm_result_path.exists():\n",
    "    raise FileNotFoundError(\"{} does not exist.\".format(worm_result_path.resolve()))\n"
   ]
  },
  {
   "cell_type": "code",
   "execution_count": 3,
   "id": "273b8e2d",
   "metadata": {},
   "outputs": [],
   "source": [
    "summary_files = utils.path.find_summary_files(worm_result_path)\n",
    "df = utils.path.get_df_from_summary_files(summary_files, N)"
   ]
  },
  {
   "cell_type": "code",
   "execution_count": 105,
   "id": "d8004803",
   "metadata": {},
   "outputs": [],
   "source": [
    "import re\n",
    "def extract_info_from_txt(file_path: Path):\n",
    "    \"\"\"Extract information from the given info.txt file.\"\"\"\n",
    "    best_loss_pattern = r\"best loss: ([\\d.e-]+)\"\n",
    "    initial_loss_pattern = r\"initial loss: ([\\d.e-]+)\"\n",
    "    hamiltonian_path_pattern = r\"hamiltonian was saved to ([/\\w._-]+)\"\n",
    "    unitary_path_pattern = r\"best loss was saved to ([/\\w._-]+)\"\n",
    "\n",
    "    # Read the file and extract information\n",
    "    with open(file_path, 'r') as file:\n",
    "        content = file.read()\n",
    "\n",
    "        # Extract best loss\n",
    "        best_loss_match = re.search(best_loss_pattern, content)\n",
    "        best_loss = best_loss_match.group(1) if best_loss_match else None\n",
    "\n",
    "        # Extract initial loss\n",
    "        initial_loss_match = re.search(initial_loss_pattern, content)\n",
    "        initial_loss = initial_loss_match.group(1) if initial_loss_match else None\n",
    "\n",
    "        # Extract hamiltonian path\n",
    "        hamiltonian_path_match = re.search(hamiltonian_path_pattern, content)\n",
    "        hamiltonian_path = hamiltonian_path_match.group(1) if hamiltonian_path_match else None\n",
    "\n",
    "        # Extract unitary path\n",
    "        unitary_path_match = re.search(unitary_path_pattern, content)\n",
    "        unitary_path = unitary_path_match.group(1) if unitary_path_match else None\n",
    "\n",
    "    res = {\n",
    "        \"best_loss\": float(best_loss),\n",
    "        \"initial_loss\": float(initial_loss),\n",
    "        \"hamiltonian_path\": Path(hamiltonian_path),\n",
    "        \"unitary_path\": Path(unitary_path)\n",
    "    }\n",
    "\n",
    "    if None in res.values():\n",
    "        raise ValueError(\"\"\"\n",
    "        Could not extract all required information from the given file.\n",
    "        The file should contain the following information:\n",
    "        - best loss\n",
    "        - initial loss\n",
    "        - hamiltonian path\n",
    "        - unitary path\n",
    "        The file content is:\n",
    "        {}\n",
    "        \"\"\".format(content))\n",
    "\n",
    "    return res\n"
   ]
  },
  {
   "cell_type": "code",
   "execution_count": 158,
   "id": "f195d13b",
   "metadata": {},
   "outputs": [],
   "source": [
    "def find_summary_files(directory_path):\n",
    "    \"\"\"Find all info.txt files under the given directory.\"\"\"\n",
    "    dir_path = Path(directory_path).resolve()\n",
    "    if not dir_path.is_dir():\n",
    "        raise ValueError(f\"The given path {directory_path} is not a directory.\")\n",
    "    sim_res_folder = [path.parent for path in dir_path.rglob('summary/')]\n",
    "    \n",
    "\n",
    "    res = []\n",
    "    for sim_res in sim_res_folder:\n",
    "        \n",
    "        summary_folder = sim_res / \"summary\"\n",
    "        info_file = sim_res / \"info.txt\"\n",
    "        assert summary_folder.is_dir()\n",
    "        assert info_file.exists()\n",
    "        for path in summary_folder.rglob('*.csv'):\n",
    "            dic = dict()\n",
    "            dic[\"summary\"] = path\n",
    "            dic[\"info\"] = info_file\n",
    "            res.append(dic)\n",
    "    return res\n",
    "\n",
    "import logging\n",
    "\n",
    "def get_df_from_summary_files(summary_files: str, N: int):\n",
    "    \"\"\"Get a dataframe from the given summary files.\n",
    "\n",
    "    summary files must be csv files.\n",
    "    \"\"\"\n",
    "    df = None\n",
    "    for res_dict in summary_files:\n",
    "        sum_file = res_dict[\"summary\"]\n",
    "        info_file = res_dict[\"info\"]\n",
    "        info = extract_info_from_txt(info_file)\n",
    "        if \"sweeps_{}\".format(N) in str(sum_file):\n",
    "            try:\n",
    "                df1 = pd.read_csv(sum_file)\n",
    "                if not (df1.u_path.isnull().values.any()):\n",
    "                    df1 = utils.get_loss(df1)\n",
    "                    if np.abs(df1.loss.values - info[\"best_loss\"]).mean() > 1E-6:\n",
    "                        print(df1.loss, info[\"best_loss\"])\n",
    "                        raise ValueError(\"best_loss is not consistent with summary data\")\n",
    "            except BaseException as e:\n",
    "                logging.warning(\"Could not concate or read {}\".format(sum_file))\n",
    "                logging.warning(e)\n",
    "\n",
    "            df1[\"init_loss\"] = info[\"initial_loss\"]\n",
    "\n",
    "            if df is not None:\n",
    "                df = pd.concat([df, df1])\n",
    "            else:\n",
    "                df = df1\n",
    "\n",
    "    df = df.reset_index(drop=True)\n",
    "    return df\n"
   ]
  },
  {
   "cell_type": "code",
   "execution_count": 161,
   "id": "4d35e98e",
   "metadata": {},
   "outputs": [],
   "source": [
    "sum_res = find_summary_files(worm_result_path)\n",
    "df = get_df_from_summary_files(sum_res, N)"
   ]
  },
  {
   "cell_type": "code",
   "execution_count": 162,
   "id": "59af3056",
   "metadata": {},
   "outputs": [
    {
     "name": "stdout",
     "output_type": "stream",
     "text": [
      "looking for the result in /Users/keisukemurota/Documents/todo/worms/python/rmsKit/array/quetta/HXYZ1D_loc\n",
      "/Users/keisukemurota/Documents/todo/worms/python/rmsKit/array/quetta/HXYZ1D_loc\n",
      "temeprature simulated: [0.25 1.  ]\n",
      "L simulated: [10 11 15]\n"
     ]
    }
   ],
   "source": [
    "print(\"looking for the result in {}\".format(worm_result_path.resolve()))\n",
    "print(worm_result_path.resolve())\n",
    "df = df[df.sweeps == N]\n",
    "\n",
    "df = df[df[\"T\"] >= 1 / BETA_THRES]\n",
    "print(\"temeprature simulated: {}\".format(np.sort(df[\"T\"].unique())))\n",
    "print(\"L simulated: {}\".format(np.sort(df.n_sites.unique())))\n",
    "\n",
    "params_df = utils.param_dict_normalize(df['ham_path'].apply(utils.extract_parameters_from_path))\n",
    "df_final = pd.concat([df, params_df], axis=1)\n",
    "df_final = df_final.rename(columns = {\"T\":\"temp\"})"
   ]
  },
  {
   "cell_type": "code",
   "execution_count": 163,
   "id": "14432303",
   "metadata": {},
   "outputs": [
    {
     "data": {
      "text/plain": [
       "(array([1.  , 0.25]), array([10, 11, 15]))"
      ]
     },
     "execution_count": 163,
     "metadata": {},
     "output_type": "execute_result"
    }
   ],
   "source": [
    "df_final.temp.unique(), df_final.n_sites.unique()"
   ]
  },
  {
   "cell_type": "code",
   "execution_count": 220,
   "id": "4a6ad706",
   "metadata": {},
   "outputs": [],
   "source": [
    "def filter_df(df, Jx, Jy, Jz, hx, hz):\n",
    "    fil = df.Jx == Jx\n",
    "    fil = fil & (df.Jy == Jy)\n",
    "    fil = fil & (df.Jz == Jz)\n",
    "    fil = fil & (df.hx == hx)\n",
    "    fil = fil & (df.hz == hz)\n",
    "    return df[fil]"
   ]
  },
  {
   "cell_type": "code",
   "execution_count": 221,
   "id": "54ac674f",
   "metadata": {},
   "outputs": [],
   "source": [
    "df = df_final[(df_final.temp == T)&(df_final.n_sites == L)]\n",
    "Jx_list = np.sort(df.Jx.unique())\n",
    "Jy_list = np.sort(df.Jy.unique())\n",
    "Jz_list = np.sort(df.Jz.unique())\n",
    "hx_list = np.sort(df.hx.unique())\n",
    "hz_list = np.sort(df.hz.unique())\n",
    "\n",
    "df = filter_df(df, -1.8, -1.8, 1.0, 0, 0)"
   ]
  },
  {
   "cell_type": "code",
   "execution_count": 237,
   "id": "279b4440",
   "metadata": {},
   "outputs": [
    {
     "data": {
      "text/html": [
       "<div>\n",
       "<style scoped>\n",
       "    .dataframe tbody tr th:only-of-type {\n",
       "        vertical-align: middle;\n",
       "    }\n",
       "\n",
       "    .dataframe tbody tr th {\n",
       "        vertical-align: top;\n",
       "    }\n",
       "\n",
       "    .dataframe thead th {\n",
       "        text-align: right;\n",
       "    }\n",
       "</style>\n",
       "<table border=\"1\" class=\"dataframe\">\n",
       "  <thead>\n",
       "    <tr style=\"text-align: right;\">\n",
       "      <th></th>\n",
       "      <th>model_name</th>\n",
       "      <th>alpha</th>\n",
       "      <th>temp</th>\n",
       "      <th>n_sites</th>\n",
       "      <th>u_path</th>\n",
       "      <th>ham_path</th>\n",
       "      <th>sweeps</th>\n",
       "      <th>as</th>\n",
       "      <th>as_error</th>\n",
       "      <th>e</th>\n",
       "      <th>...</th>\n",
       "      <th>chi</th>\n",
       "      <th>chi_error</th>\n",
       "      <th>loss_func</th>\n",
       "      <th>loss</th>\n",
       "      <th>init_loss</th>\n",
       "      <th>Jx</th>\n",
       "      <th>Jy</th>\n",
       "      <th>Jz</th>\n",
       "      <th>hx</th>\n",
       "      <th>hz</th>\n",
       "    </tr>\n",
       "  </thead>\n",
       "  <tbody>\n",
       "    <tr>\n",
       "      <th>4985</th>\n",
       "      <td>HXYZ1D</td>\n",
       "      <td>0.5</td>\n",
       "      <td>0.25</td>\n",
       "      <td>10</td>\n",
       "      <td>/home/keisuke/worms/python/rmsKit/array/torch/...</td>\n",
       "      <td>/home/keisuke/worms/python/rmsKit/array/torch/...</td>\n",
       "      <td>1000000</td>\n",
       "      <td>0.061756</td>\n",
       "      <td>0.006770</td>\n",
       "      <td>-0.690435</td>\n",
       "      <td>...</td>\n",
       "      <td>0.0</td>\n",
       "      <td>0.0</td>\n",
       "      <td>1_mel</td>\n",
       "      <td>0.0</td>\n",
       "      <td>2.384186e-08</td>\n",
       "      <td>-1.8</td>\n",
       "      <td>-1.8</td>\n",
       "      <td>1.0</td>\n",
       "      <td>0.0</td>\n",
       "      <td>0.0</td>\n",
       "    </tr>\n",
       "    <tr>\n",
       "      <th>4989</th>\n",
       "      <td>HXYZ1D</td>\n",
       "      <td>0.5</td>\n",
       "      <td>0.25</td>\n",
       "      <td>10</td>\n",
       "      <td>/home/keisuke/worms/python/rmsKit/array/torch/...</td>\n",
       "      <td>/home/keisuke/worms/python/rmsKit/array/torch/...</td>\n",
       "      <td>1000000</td>\n",
       "      <td>0.369516</td>\n",
       "      <td>0.006971</td>\n",
       "      <td>-0.688222</td>\n",
       "      <td>...</td>\n",
       "      <td>0.0</td>\n",
       "      <td>0.0</td>\n",
       "      <td>1_mel</td>\n",
       "      <td>0.0</td>\n",
       "      <td>2.384186e-08</td>\n",
       "      <td>-1.8</td>\n",
       "      <td>-1.8</td>\n",
       "      <td>1.0</td>\n",
       "      <td>0.0</td>\n",
       "      <td>0.0</td>\n",
       "    </tr>\n",
       "    <tr>\n",
       "      <th>4993</th>\n",
       "      <td>HXYZ1D</td>\n",
       "      <td>0.5</td>\n",
       "      <td>0.25</td>\n",
       "      <td>10</td>\n",
       "      <td>NaN</td>\n",
       "      <td>/home/keisuke/worms/python/rmsKit/array/torch/...</td>\n",
       "      <td>1000000</td>\n",
       "      <td>1.000000</td>\n",
       "      <td>0.000000</td>\n",
       "      <td>-0.689179</td>\n",
       "      <td>...</td>\n",
       "      <td>0.0</td>\n",
       "      <td>0.0</td>\n",
       "      <td>1_mel</td>\n",
       "      <td>NaN</td>\n",
       "      <td>2.384186e-08</td>\n",
       "      <td>-1.8</td>\n",
       "      <td>-1.8</td>\n",
       "      <td>1.0</td>\n",
       "      <td>0.0</td>\n",
       "      <td>0.0</td>\n",
       "    </tr>\n",
       "    <tr>\n",
       "      <th>4997</th>\n",
       "      <td>HXYZ1D</td>\n",
       "      <td>0.5</td>\n",
       "      <td>0.25</td>\n",
       "      <td>10</td>\n",
       "      <td>NaN</td>\n",
       "      <td>/home/keisuke/worms/python/rmsKit/array/torch/...</td>\n",
       "      <td>1000000</td>\n",
       "      <td>1.000000</td>\n",
       "      <td>0.000000</td>\n",
       "      <td>-0.689179</td>\n",
       "      <td>...</td>\n",
       "      <td>0.0</td>\n",
       "      <td>0.0</td>\n",
       "      <td>1_mel</td>\n",
       "      <td>NaN</td>\n",
       "      <td>2.384186e-08</td>\n",
       "      <td>-1.8</td>\n",
       "      <td>-1.8</td>\n",
       "      <td>1.0</td>\n",
       "      <td>0.0</td>\n",
       "      <td>0.0</td>\n",
       "    </tr>\n",
       "  </tbody>\n",
       "</table>\n",
       "<p>4 rows × 25 columns</p>\n",
       "</div>"
      ],
      "text/plain": [
       "     model_name  alpha  temp  n_sites  \\\n",
       "4985     HXYZ1D    0.5  0.25       10   \n",
       "4989     HXYZ1D    0.5  0.25       10   \n",
       "4993     HXYZ1D    0.5  0.25       10   \n",
       "4997     HXYZ1D    0.5  0.25       10   \n",
       "\n",
       "                                                 u_path  \\\n",
       "4985  /home/keisuke/worms/python/rmsKit/array/torch/...   \n",
       "4989  /home/keisuke/worms/python/rmsKit/array/torch/...   \n",
       "4993                                                NaN   \n",
       "4997                                                NaN   \n",
       "\n",
       "                                               ham_path   sweeps        as  \\\n",
       "4985  /home/keisuke/worms/python/rmsKit/array/torch/...  1000000  0.061756   \n",
       "4989  /home/keisuke/worms/python/rmsKit/array/torch/...  1000000  0.369516   \n",
       "4993  /home/keisuke/worms/python/rmsKit/array/torch/...  1000000  1.000000   \n",
       "4997  /home/keisuke/worms/python/rmsKit/array/torch/...  1000000  1.000000   \n",
       "\n",
       "      as_error         e  ...  chi  chi_error  loss_func  loss     init_loss  \\\n",
       "4985  0.006770 -0.690435  ...  0.0        0.0      1_mel   0.0  2.384186e-08   \n",
       "4989  0.006971 -0.688222  ...  0.0        0.0      1_mel   0.0  2.384186e-08   \n",
       "4993  0.000000 -0.689179  ...  0.0        0.0      1_mel   NaN  2.384186e-08   \n",
       "4997  0.000000 -0.689179  ...  0.0        0.0      1_mel   NaN  2.384186e-08   \n",
       "\n",
       "       Jx   Jy   Jz   hx   hz  \n",
       "4985 -1.8 -1.8  1.0  0.0  0.0  \n",
       "4989 -1.8 -1.8  1.0  0.0  0.0  \n",
       "4993 -1.8 -1.8  1.0  0.0  0.0  \n",
       "4997 -1.8 -1.8  1.0  0.0  0.0  \n",
       "\n",
       "[4 rows x 25 columns]"
      ]
     },
     "execution_count": 237,
     "metadata": {},
     "output_type": "execute_result"
    }
   ],
   "source": [
    "df"
   ]
  },
  {
   "cell_type": "code",
   "execution_count": 255,
   "id": "c1bb6334",
   "metadata": {},
   "outputs": [
    {
     "data": {
      "text/plain": [
       "array([[ 0.22602699,  0.12730438,  0.12730438,  0.02397301],\n",
       "       [ 0.12730438, -0.22602699, -0.87602699, -0.12730438],\n",
       "       [ 0.12730438, -0.87602699, -0.22602699, -0.12730438],\n",
       "       [ 0.02397301, -0.12730438, -0.12730438,  0.22602699]])"
      ]
     },
     "execution_count": 255,
     "metadata": {},
     "output_type": "execute_result"
    }
   ],
   "source": [
    "-U @ H @ U.T"
   ]
  },
  {
   "cell_type": "code",
   "execution_count": 262,
   "id": "e879b0d1",
   "metadata": {},
   "outputs": [
    {
     "data": {
      "text/plain": [
       "array([[ 0.22602699,  0.12730438,  0.12730438,  0.02397301],\n",
       "       [ 0.12730438, -0.22602699, -0.87602699, -0.12730438],\n",
       "       [ 0.12730438, -0.87602699, -0.22602699, -0.12730438],\n",
       "       [ 0.02397301, -0.12730438, -0.12730438,  0.22602699]])"
      ]
     },
     "execution_count": 262,
     "metadata": {},
     "output_type": "execute_result"
    }
   ],
   "source": [
    "-U @ H @ U.T"
   ]
  },
  {
   "cell_type": "code",
   "execution_count": 260,
   "id": "815be6ac",
   "metadata": {},
   "outputs": [
    {
     "data": {
      "text/plain": [
       "array([[0., 0., 0., 0.],\n",
       "       [0., 0., 0., 0.],\n",
       "       [0., 0., 0., 0.],\n",
       "       [0., 0., 0., 0.]])"
      ]
     },
     "execution_count": 260,
     "metadata": {},
     "output_type": "execute_result"
    }
   ],
   "source": [
    "utils.stoquastic(h1) - h1"
   ]
  },
  {
   "cell_type": "code",
   "execution_count": 268,
   "id": "a9f34dcb",
   "metadata": {},
   "outputs": [
    {
     "data": {
      "text/plain": [
       "array([[ 6.70916600e-07, -8.19094714e-04, -8.19094714e-04,\n",
       "         9.99999329e-01],\n",
       "       [-8.19094714e-04, -6.70916600e-07,  9.99999329e-01,\n",
       "         8.19094714e-04],\n",
       "       [-8.19094714e-04,  9.99999329e-01, -6.70916600e-07,\n",
       "         8.19094714e-04],\n",
       "       [ 9.99999329e-01,  8.19094714e-04,  8.19094714e-04,\n",
       "         6.70916600e-07]])"
      ]
     },
     "execution_count": 268,
     "metadata": {},
     "output_type": "execute_result"
    }
   ],
   "source": [
    "U"
   ]
  },
  {
   "cell_type": "code",
   "execution_count": 274,
   "id": "59ea599d",
   "metadata": {},
   "outputs": [
    {
     "name": "stdout",
     "output_type": "stream",
     "text": [
      "[-1.15  0.25  0.25  0.65] [-1.15  0.25  0.25  0.65]\n"
     ]
    },
    {
     "data": {
      "text/plain": [
       "array([-3.09422435e+00, -1.80000000e+00, -1.80000000e+00, -1.00000000e+00,\n",
       "        0.00000000e+00,  0.00000000e+00,  3.88729700e-32,  3.76506735e-17,\n",
       "        3.76506735e-17,  4.34853967e-16,  4.34853967e-16,  1.00000000e+00,\n",
       "        1.00000000e+00,  1.80000000e+00,  1.80000000e+00,  2.09422435e+00])"
      ]
     },
     "execution_count": 274,
     "metadata": {},
     "output_type": "execute_result"
    }
   ],
   "source": [
    "u = np.load(\"rmsKit/array/torch/HXYZ1D_loc/Jx_-2_Jy_-2_Jz_1_hx_0_hz_0/1_mel/Adam/lr_0.01_epoch_2000/loss_0.00000/u/0.npy\")\n",
    "H = np.load(\"rmsKit/array/quetta/HXYZ1D_loc/Jx_-1.8_Jy_-1.8_Jz_1_hx_0_hz_0/1_mel/H/0.npy\")\n",
    "U = np.kron(u,u)\n",
    "\n",
    "h1 = utils.stoquastic(-U @ H @ U.T)\n",
    "h2 = -H\n",
    "L = 4\n",
    "print(np.linalg.eigvalsh(utils.stoquastic(-U @ H @ U.T)), np.linalg.eigvalsh(-H))\n",
    "H1 = utils.sum_ham(h1, [[i, (i+1)%L] for i in range(L)], L, 2)\n",
    "H2 = utils.sum_ham(h2, [[i, (i+1)%L] for i in range(L)], L, 2)\n",
    "\n",
    "np.linalg.eigvalsh(H2)"
   ]
  },
  {
   "cell_type": "code",
   "execution_count": 240,
   "id": "1997a342",
   "metadata": {
    "scrolled": false
   },
   "outputs": [
    {
     "data": {
      "image/png": "[encoded data removed]",
      "text/plain": [
       "<Figure size 800x2000 with 6 Axes>"
      ]
     },
     "metadata": {},
     "output_type": "display_data"
    }
   ],
   "source": [
    "h = 0\n",
    "T = 0.25\n",
    "L = 10\n",
    "\n",
    "df = df_final[(df_final.temp == T)&(df_final.n_sites == L)]\n",
    "\n",
    "Jx_list = np.sort(df.Jx.unique())\n",
    "Jy_list = np.sort(df.Jy.unique())\n",
    "Jz_list = np.sort(df.Jz.unique())\n",
    "hx_list = np.sort(df.hx.unique())\n",
    "hz_list = np.sort(df.hz.unique())\n",
    "\n",
    "z = []\n",
    "z2 = []\n",
    "z3 = []\n",
    "df = df[df.hx == h]\n",
    "x, y = np.meshgrid(Jx_list, Jy_list)\n",
    "for Jx, Jy in zip(x.reshape(-1), y.reshape(-1)):\n",
    "    df_plot = df[df.hx == h]\n",
    "    df_plot = df_plot[(df_plot.Jx==Jx) & (df_plot.Jy==Jy)]\n",
    "    df_u = df_plot[~df_plot.loss.isna()]\n",
    "    df_h = df_plot[df_plot.loss.isna()]\n",
    "#     au = df_u[\"as\"].min()\n",
    "    ah = df_h[\"as\"].min()\n",
    "    idx = np.argmin(df_u.loss.values)\n",
    "    loss = df_u.loss.values[idx]\n",
    "    init_loss = df_u.init_loss.values[idx]\n",
    "    au = df_u[\"as\"].values[idx]\n",
    "    z3.append(loss)\n",
    "    z.append(au)\n",
    "    z2.append(ah)\n",
    "Z = np.array(z).reshape(x.shape)\n",
    "Z2 = np.array(z2).reshape(x.shape)\n",
    "Z3 = np.array(z3).reshape(x.shape)\n",
    "\n",
    "fig, ax = plt.subplots(3, 1,figsize=(8,20))\n",
    "\n",
    "c = ax[0].pcolormesh(x, y, Z, cmap='RdBu', vmin=0, vmax=1)\n",
    "ax[0].set_title('pcolormesh')\n",
    "ax[0].axis([x.min(), x.max(), y.min(), y.max()])\n",
    "fig.colorbar(c, ax=ax[0])\n",
    "\n",
    "c = ax[1].pcolormesh(x, y, Z2, cmap='RdBu', vmin=0, vmax=1)\n",
    "ax[1].set_title('pcolormesh')\n",
    "ax[1].axis([x.min(), x.max(), y.min(), y.max()])\n",
    "fig.colorbar(c, ax=ax[1])\n",
    "\n",
    "c = ax[2].pcolormesh(x, y, Z3, cmap='RdBu', vmin=0)\n",
    "ax[2].set_title('pcolormesh')\n",
    "ax[2].axis([x.min(), x.max(), y.min(), y.max()])\n",
    "fig.colorbar(c, ax=ax[2])\n",
    "\n",
    "\n",
    "plt.show()"
   ]
  },
  {
   "cell_type": "code",
   "execution_count": 224,
   "id": "206eee55",
   "metadata": {},
   "outputs": [],
   "source": [
    "df1 = df[df.Jx == df.Jy]\n",
    "df2 = df1[df1[\"as\"] != 1]"
   ]
  },
  {
   "cell_type": "code",
   "execution_count": null,
   "id": "e3f725bf",
   "metadata": {},
   "outputs": [],
   "source": []
  }
 ],
 "metadata": {
  "kernelspec": {
   "display_name": "Python 3 (ipykernel)",
   "language": "python",
   "name": "python3"
  },
  "language_info": {
   "codemirror_mode": {
    "name": "ipython",
    "version": 3
   },
   "file_extension": ".py",
   "mimetype": "text/x-python",
   "name": "python",
   "nbconvert_exporter": "python",
   "pygments_lexer": "ipython3",
   "version": "3.9.18"
  }
 },
 "nbformat": 4,
 "nbformat_minor": 5
}
