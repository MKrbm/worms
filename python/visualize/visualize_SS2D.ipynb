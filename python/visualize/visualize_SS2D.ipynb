{
 "cells": [
  {
   "cell_type": "code",
   "execution_count": 8,
   "id": "bb4d5255",
   "metadata": {},
   "outputs": [],
   "source": [
    "\"\"\"plot average sign and loss as heatmap.\"\"\"\n",
    "import numpy as np  # noqa\n",
    "import matplotlib.pyplot as plt  # noqa\n",
    "import pandas as pd  # noqa\n",
    "import itertools  # noqa\n",
    "import os\n",
    "import sys  # noqa\n",
    "from pathlib import Path  # noqa\n",
    "python_dir = Path(os.getcwd()).resolve().parent\n",
    "sys.path.insert(0, python_dir.resolve().as_posix())\n",
    "from rmsKit import utils  # noqa\n",
    "\n",
    "IMAGE_PATH = python_dir / \"visualize\" / \"image\"\n",
    "WORM_RESULT_PATH = python_dir / \"rmsKit\" / \"array\" / \"zetta\"\n",
    "\n",
    "model_name = \"MG1D\""
   ]
  },
  {
   "cell_type": "code",
   "execution_count": 30,
   "id": "36407bee",
   "metadata": {},
   "outputs": [
    {
     "name": "stdout",
     "output_type": "stream",
     "text": [
      "[[-1.00000000e+00 -2.98677749e-12]\n",
      " [-2.98679289e-12  1.00000000e+00]]\n"
     ]
    }
   ],
   "source": [
    "u = np.load(python_dir / \"rmsKit/array/torch/HXYZ1D_loc/Jx_-1_Jy_-1_Jz_1_hx_0_hz_0/1_mel/Adam/lr_0.0001_epoch_2000/loss_0.0000000/u/0.npy\")\n",
    "H = np.load(python_dir / \"rmsKit/array/torch/HXYZ1D_loc/Jx_-1_Jy_-1_Jz_1_hx_0_hz_0/1_mel/H/0.npy\")\n",
    "print(u)"
   ]
  },
  {
   "cell_type": "code",
   "execution_count": 31,
   "id": "b6b7fe50",
   "metadata": {},
   "outputs": [
    {
     "data": {
      "text/plain": [
       "array([[-0.25, -0.  , -0.  , -0.  ],\n",
       "       [-0.  ,  0.25,  0.5 ,  0.  ],\n",
       "       [-0.  ,  0.5 ,  0.25,  0.  ],\n",
       "       [-0.  ,  0.  ,  0.  , -0.25]])"
      ]
     },
     "execution_count": 31,
     "metadata": {},
     "output_type": "execute_result"
    }
   ],
   "source": [
    "U = np.kron(u,u)\n",
    "np.round(U @ H @ U.T,5)"
   ]
  },
  {
   "cell_type": "code",
   "execution_count": 27,
   "id": "b5abd336",
   "metadata": {},
   "outputs": [
    {
     "data": {
      "text/plain": [
       "array([[-0.70710682,  0.70710674],\n",
       "       [ 0.70710674,  0.70710682]])"
      ]
     },
     "execution_count": 27,
     "metadata": {},
     "output_type": "execute_result"
    }
   ],
   "source": [
    "u"
   ]
  },
  {
   "cell_type": "code",
   "execution_count": 28,
   "id": "89b0cce5",
   "metadata": {},
   "outputs": [
    {
     "data": {
      "text/plain": [
       "array([[-0.25, -0.  , -0.  , -0.  ],\n",
       "       [-0.  ,  0.25,  0.5 , -0.  ],\n",
       "       [-0.  ,  0.5 ,  0.25, -0.  ],\n",
       "       [-0.  , -0.  , -0.  , -0.25]])"
      ]
     },
     "execution_count": 28,
     "metadata": {},
     "output_type": "execute_result"
    }
   ],
   "source": [
    "H"
   ]
  }
 ],
 "metadata": {
  "kernelspec": {
   "display_name": "Python 3 (ipykernel)",
   "language": "python",
   "name": "python3"
  },
  "language_info": {
   "codemirror_mode": {
    "name": "ipython",
    "version": 3
   },
   "file_extension": ".py",
   "mimetype": "text/x-python",
   "name": "python",
   "nbconvert_exporter": "python",
   "pygments_lexer": "ipython3",
   "version": "3.9.18"
  }
 },
 "nbformat": 4,
 "nbformat_minor": 5
}
