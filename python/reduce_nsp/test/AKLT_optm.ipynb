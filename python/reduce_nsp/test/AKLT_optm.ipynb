{
 "cells": [
  {
   "cell_type": "code",
   "execution_count": 10,
   "id": "4bfbd3c6",
   "metadata": {},
   "outputs": [],
   "source": [
    "import numpy as np\n",
    "from header import *\n",
    "from nsp.utils.base_conv import *\n",
    "import argparse\n",
    "import sys\n",
    "sys.path.append('../nsp')\n",
    "from nsp.utils.func import *"
   ]
  },
  {
   "cell_type": "code",
   "execution_count": 11,
   "id": "8fd29ede",
   "metadata": {
    "scrolled": true
   },
   "outputs": [
    {
     "name": "stderr",
     "output_type": "stream",
     "text": [
      "/tmp/ipykernel_3170/2890540848.py:13: ComplexWarning: Casting complex values to real discards the imaginary part\n",
      "  SySy = np.kron(Sy,Sy).astype(np.float64)\n"
     ]
    }
   ],
   "source": [
    "Sz = np.zeros([3,3])\n",
    "Sz[0,0] = 1\n",
    "Sz[2,2] = -1\n",
    "Sx = np.zeros([3, 3])\n",
    "Sx[1,0] = Sx[0,1] = Sx[2,1] = Sx[1,2] = 1/np.sqrt(2)\n",
    "Sy = np.zeros([3, 3], dtype=np.complex64)\n",
    "Sy[1,0] = Sy[2,1] = 1j/np.sqrt(2)\n",
    "Sy[0,1] = Sy[1,2] = -1j/np.sqrt(2)\n",
    "\n",
    "\n",
    "SzSz = np.kron(Sz,Sz).astype(np.float64)\n",
    "SxSx = np.kron(Sx,Sx).astype(np.float64)\n",
    "SySy = np.kron(Sy,Sy).astype(np.float64)\n",
    "\n",
    "lh = SzSz + SxSx + SySy\n",
    "J = [1, 1/3]\n",
    "lh = lh + (lh@lh - np.eye(9))*J[1]\n",
    "lh = -lh"
   ]
  },
  {
   "cell_type": "code",
   "execution_count": 12,
   "id": "2c720d8c",
   "metadata": {},
   "outputs": [
    {
     "name": "stdout",
     "output_type": "stream",
     "text": [
      "[[-1.    -0.    -0.    -0.    -0.    -0.    -0.    -0.    -0.   ]\n",
      " [-0.     0.    -0.    -1.    -0.    -0.    -0.    -0.    -0.   ]\n",
      " [-0.    -0.     0.667 -0.    -0.667 -0.    -0.333 -0.    -0.   ]\n",
      " [-0.    -1.    -0.     0.    -0.    -0.    -0.    -0.    -0.   ]\n",
      " [-0.    -0.    -0.667 -0.    -0.333 -0.    -0.667 -0.    -0.   ]\n",
      " [-0.    -0.    -0.    -0.    -0.     0.    -0.    -1.    -0.   ]\n",
      " [-0.    -0.    -0.333 -0.    -0.667 -0.     0.667 -0.    -0.   ]\n",
      " [-0.    -0.    -0.    -0.    -0.    -1.    -0.     0.    -0.   ]\n",
      " [-0.    -0.    -0.    -0.    -0.    -0.    -0.    -0.    -1.   ]]\n"
     ]
    }
   ],
   "source": [
    "np.set_printoptions(precision=3)\n",
    "print(np.round(lh,4))\n",
    "# np.round(lh,4)"
   ]
  },
  {
   "cell_type": "code",
   "execution_count": 13,
   "id": "828f4d22",
   "metadata": {},
   "outputs": [
    {
     "data": {
      "text/plain": [
       "array([-1., -1., -1., -1., -1.,  1.,  1.,  1.,  1.])"
      ]
     },
     "execution_count": 13,
     "metadata": {},
     "output_type": "execute_result"
    }
   ],
   "source": [
    "np.linalg.eigvalsh(lh)"
   ]
  },
  {
   "cell_type": "code",
   "execution_count": 14,
   "id": "fdd271af",
   "metadata": {
    "scrolled": true
   },
   "outputs": [
    {
     "name": "stdout",
     "output_type": "stream",
     "text": [
      "target loss      : 2.0000000132\n",
      "initial loss     : 2.6627191867\n",
      "loss upper bound : 2.4880338572\n",
      "\n",
      "================================================== \n",
      "\n"
     ]
    },
    {
     "data": {
      "application/vnd.jupyter.widget-view+json": {
       "model_id": "3402ca8528274c6cba6984ed6e74eaa3",
       "version_major": 2,
       "version_minor": 0
      },
      "text/plain": [
       "  0%|          | 0/3000 [00:00<?, ?it/s]"
      ]
     },
     "metadata": {},
     "output_type": "display_data"
    },
    {
     "name": "stdout",
     "output_type": "stream",
     "text": [
      "No local minimum found\n",
      "No local minimum found\n",
      "No local minimum found\n",
      "No local minimum found\n",
      "No local minimum found\n",
      "No local minimum found\n",
      "No local minimum found\n",
      "No local minimum found\n",
      "No local minimum found\n",
      "No local minimum found\n",
      "No local minimum found\n",
      "No local minimum found\n",
      "No local minimum found\n",
      "No local minimum found\n",
      "stack in local minimum --> break loop\n",
      "res = 2.000000013242897 / seed = 3571751830\n"
     ]
    }
   ],
   "source": [
    "from random import randint\n",
    "\n",
    "D = 3\n",
    "seed = randint(0, 2<<32 - 1)\n",
    "loss_mes = nsp.loss.MES(lh, [D, D], pout = False)\n",
    "model = nsp.model.UnitaryRiemanGenerator(D, dtype=torch.float64)\n",
    "optm = RiemanNonTransUnitaryCG([[model, model]], [loss_mes], pout = False, lr = 0.01)\n",
    "solver = UnitaryNonTransTs(optm, af=False)\n",
    "ret = solver.run(3000, False)\n",
    "print(f\"res = {ret.fun} / seed = {seed}\")\n",
    "best_model = ret.model"
   ]
  },
  {
   "cell_type": "code",
   "execution_count": 16,
   "id": "2d7cc9f0",
   "metadata": {},
   "outputs": [
    {
     "data": {
      "text/plain": [
       "tensor([[ 7.0711e-01, -5.0645e-01,  4.9347e-01],\n",
       "        [-6.0105e-13, -6.9787e-01, -7.1622e-01],\n",
       "        [ 7.0711e-01,  5.0645e-01, -4.9347e-01]], dtype=torch.float64,\n",
       "       grad_fn=<ViewBackward0>)"
      ]
     },
     "execution_count": 16,
     "metadata": {},
     "output_type": "execute_result"
    }
   ],
   "source": [
    "best_model[0].matrix()"
   ]
  },
  {
   "cell_type": "code",
   "execution_count": 18,
   "id": "b7b3066f",
   "metadata": {},
   "outputs": [],
   "source": [
    "R = np.array([\n",
    "    [-1j/np.sqrt(2), 0, 1j/np.sqrt(2)],\n",
    "    [1/np.sqrt(2), 0, 1/np.sqrt(2)],\n",
    "    [0, 1j, 0],\n",
    "])"
   ]
  },
  {
   "cell_type": "code",
   "execution_count": 19,
   "id": "88cab19e",
   "metadata": {},
   "outputs": [],
   "source": [
    "UR = np.kron(R, R)"
   ]
  },
  {
   "cell_type": "code",
   "execution_count": 25,
   "id": "84a804a3",
   "metadata": {},
   "outputs": [
    {
     "data": {
      "text/plain": [
       "array([-1., -1., -1., -1., -1.,  1.,  1.,  1.,  1.])"
      ]
     },
     "execution_count": 25,
     "metadata": {},
     "output_type": "execute_result"
    }
   ],
   "source": [
    "np.linalg.eigvalsh(stoquastic(UR @ lh @ UR.T))"
   ]
  },
  {
   "cell_type": "code",
   "execution_count": 27,
   "id": "69aa1c33",
   "metadata": {},
   "outputs": [],
   "source": [
    "LHs = []\n",
    "for act, loss_ in zip(optm.models_act, optm.loss_list):\n",
    "    LHs.append(loss_._transform([best_model[s].matrix() for s in act], original = True).detach().numpy())"
   ]
  },
  {
   "cell_type": "code",
   "execution_count": 28,
   "id": "e668fe08",
   "metadata": {},
   "outputs": [
    {
     "data": {
      "text/plain": [
       "array([[-0.333, -0.   , -0.   , -0.   , -0.667, -0.   , -0.   , -0.   ,\n",
       "        -0.667],\n",
       "       [-0.   ,  0.   ,  0.   , -1.   ,  0.   ,  0.   , -0.   ,  0.   ,\n",
       "         0.   ],\n",
       "       [-0.   ,  0.   ,  0.   , -0.   ,  0.   ,  0.   , -1.   ,  0.   ,\n",
       "         0.   ],\n",
       "       [-0.   , -1.   , -0.   ,  0.   ,  0.   ,  0.   ,  0.   ,  0.   ,\n",
       "         0.   ],\n",
       "       [-0.667,  0.   ,  0.   ,  0.   , -0.333, -0.   ,  0.   , -0.   ,\n",
       "         0.667],\n",
       "       [-0.   ,  0.   ,  0.   , -0.   , -0.   ,  0.   ,  0.   , -1.   ,\n",
       "        -0.   ],\n",
       "       [-0.   , -0.   , -1.   ,  0.   ,  0.   ,  0.   ,  0.   ,  0.   ,\n",
       "         0.   ],\n",
       "       [-0.   , -0.   ,  0.   ,  0.   , -0.   , -1.   ,  0.   ,  0.   ,\n",
       "        -0.   ],\n",
       "       [-0.667,  0.   ,  0.   ,  0.   ,  0.667, -0.   ,  0.   , -0.   ,\n",
       "        -0.333]])"
      ]
     },
     "execution_count": 28,
     "metadata": {},
     "output_type": "execute_result"
    }
   ],
   "source": [
    "np.round(LHs[0],4)"
   ]
  },
  {
   "cell_type": "code",
   "execution_count": 65,
   "id": "c27325df",
   "metadata": {},
   "outputs": [
    {
     "name": "stdout",
     "output_type": "stream",
     "text": [
      "[[-2. -0. -0. -0.  1. -0. -0. -0.  1.]\n",
      " [-0. -0. -0. -1.  0. -0. -0. -0.  0.]\n",
      " [-0. -0. -0. -0.  0. -0. -1. -0.  0.]\n",
      " [-0. -1. -0. -0.  0. -0. -0. -0.  0.]\n",
      " [ 1.  0.  0.  0. -2.  0.  0.  0. -1.]\n",
      " [-0. -0. -0. -0.  0.  0. -0. -1.  0.]\n",
      " [-0. -0. -1. -0.  0. -0. -0. -0.  0.]\n",
      " [-0. -0. -0. -0.  0. -1. -0.  0.  0.]\n",
      " [ 1.  0.  0.  0. -1.  0.  0.  0. -2.]]\n"
     ]
    }
   ],
   "source": [
    "np.set_printoptions(precision=3)\n",
    "print(np.round(LH,3))"
   ]
  },
  {
   "cell_type": "code",
   "execution_count": 66,
   "id": "927a9a56",
   "metadata": {},
   "outputs": [],
   "source": [
    "E, V = np.linalg.eigh(LH)"
   ]
  },
  {
   "cell_type": "code",
   "execution_count": 207,
   "id": "c3f82ce2",
   "metadata": {},
   "outputs": [
    {
     "name": "stderr",
     "output_type": "stream",
     "text": [
      "/tmp/ipykernel_1596/2157545296.py:13: ComplexWarning: Casting complex values to real discards the imaginary part\n",
      "  SySy = np.kron(Sy,Sy).astype(np.float64)\n"
     ]
    }
   ],
   "source": [
    "Sz = np.zeros([3,3])\n",
    "Sz[0,0] = 1\n",
    "Sz[2,2] = -1\n",
    "Sx = np.zeros([3, 3])\n",
    "Sx[1,0] = Sx[0,1] = Sx[2,1] = Sx[1,2] = 1/np.sqrt(2)\n",
    "Sy = np.zeros([3, 3], dtype=np.complex64)\n",
    "Sy[1,0] = Sy[2,1] = 1j/np.sqrt(2)\n",
    "Sy[0,1] = Sy[1,2] = -1j/np.sqrt(2)\n",
    "\n",
    "\n",
    "SzSz = np.kron(Sz,Sz).astype(np.float64)\n",
    "SxSx = np.kron(Sx,Sx).astype(np.float64)\n",
    "SySy = np.kron(Sy,Sy).astype(np.float64)\n",
    "\n",
    "h = SzSz + SxSx + SySy\n",
    "J = [1, 10]\n",
    "h = h + (h@h - np.eye(9))*J[1]\n",
    "h = -h"
   ]
  },
  {
   "cell_type": "code",
   "execution_count": 206,
   "id": "e565449e",
   "metadata": {},
   "outputs": [
    {
     "data": {
      "text/plain": [
       "(array([0, 1, 2, 2, 3, 4, 5, 6, 6, 7, 8]),\n",
       " array([0, 3, 2, 6, 1, 4, 7, 2, 6, 5, 8]))"
      ]
     },
     "execution_count": 206,
     "metadata": {},
     "output_type": "execute_result"
    }
   ],
   "source": [
    "np.where(np.round(h,4) <= -1E-8)"
   ]
  },
  {
   "cell_type": "code",
   "execution_count": 85,
   "id": "b565f81f",
   "metadata": {},
   "outputs": [],
   "source": [
    "u = best_model.matrix().detach().numpy()\n",
    "U = np.kron(u, u)"
   ]
  },
  {
   "cell_type": "code",
   "execution_count": 208,
   "id": "49c8f69f",
   "metadata": {},
   "outputs": [
    {
     "name": "stdout",
     "output_type": "stream",
     "text": [
      "[[-1.e+01 -9.e-04 -1.e-04 -9.e-04  9.e+00 -0.e+00 -1.e-04 -0.e+00  9.e+00]\n",
      " [-9.e-04 -0.e+00 -0.e+00 -1.e+00  9.e-04 -0.e+00 -0.e+00 -0.e+00  9.e-04]\n",
      " [-1.e-04 -0.e+00 -0.e+00 -0.e+00  1.e-04 -0.e+00 -1.e+00 -0.e+00  1.e-04]\n",
      " [-9.e-04 -1.e+00 -0.e+00 -0.e+00  9.e-04 -0.e+00 -0.e+00 -0.e+00  9.e-04]\n",
      " [ 9.e+00  9.e-04  1.e-04  9.e-04 -1.e+01  0.e+00  1.e-04  0.e+00 -9.e+00]\n",
      " [-0.e+00 -0.e+00 -0.e+00 -0.e+00  0.e+00  0.e+00 -0.e+00 -1.e+00  0.e+00]\n",
      " [-1.e-04 -0.e+00 -1.e+00 -0.e+00  1.e-04 -0.e+00 -0.e+00 -0.e+00  1.e-04]\n",
      " [-0.e+00 -0.e+00 -0.e+00 -0.e+00  0.e+00 -1.e+00 -0.e+00  0.e+00  0.e+00]\n",
      " [ 9.e+00  9.e-04  1.e-04  9.e-04 -9.e+00  0.e+00  1.e-04  0.e+00 -1.e+01]]\n"
     ]
    }
   ],
   "source": [
    "np.set_printoptions(precision=3)\n",
    "print(np.round(U.T @ h @ U\n",
    ",4))"
   ]
  },
  {
   "cell_type": "code",
   "execution_count": 211,
   "id": "841b9af2",
   "metadata": {},
   "outputs": [
    {
     "data": {
      "text/plain": [
       "(8.000000710002148, 1.000001132488213)"
      ]
     },
     "execution_count": 211,
     "metadata": {},
     "output_type": "execute_result"
    }
   ],
   "source": [
    "h_ = U.T @ h @ U\n",
    "# h_  = h\n",
    "np.linalg.eigvalsh(stoquastic(h_))[-1], np.linalg.eigvalsh(h_)[-1]"
   ]
  },
  {
   "cell_type": "code",
   "execution_count": 71,
   "id": "42196e69",
   "metadata": {},
   "outputs": [
    {
     "data": {
      "text/plain": [
       "array([-1. , -1. , -1. , -1. , -1. ,  0.5,  1. ,  1. ,  1. ])"
      ]
     },
     "execution_count": 71,
     "metadata": {},
     "output_type": "execute_result"
    }
   ],
   "source": [
    "np.linalg.eigvalsh(h)"
   ]
  },
  {
   "cell_type": "code",
   "execution_count": 87,
   "id": "00036304",
   "metadata": {},
   "outputs": [],
   "source": [
    "L = 4\n",
    "H = sum_ham(lh, [[i, (i+1)%L] for i in range(L)], L, 3)"
   ]
  },
  {
   "cell_type": "code",
   "execution_count": 88,
   "id": "9911508f",
   "metadata": {},
   "outputs": [
    {
     "data": {
      "text/plain": [
       "array([-2.66666667, -2.00000005, -2.00000005, -1.99999996, -1.19419191,\n",
       "       -1.19419191, -1.19419191, -1.19419191, -1.1941919 , -1.1941919 ,\n",
       "       -1.0971676 , -1.0971676 , -1.09716753, -1.09716753, -1.09716751,\n",
       "        0.66666659,  0.66666659,  0.6666666 ,  0.66666669,  1.33333313,\n",
       "        1.33333313,  1.33333317,  1.33333317,  1.33333317,  1.33333317,\n",
       "        1.33333317,  1.33333317,  1.33333328,  1.33333328,  1.33333331,\n",
       "        1.33333331,  1.33333331,  1.33333331,  1.33333333,  1.33333333,\n",
       "        1.33333333,  1.33333335,  1.33333335,  1.33333339,  1.33333339,\n",
       "        1.3333334 ,  1.86085844,  1.86085844,  1.86085851,  1.86085851,\n",
       "        1.86085851,  1.86085851,  1.99999991,  2.43050073,  2.43050073,\n",
       "        2.43050079,  2.43050079,  2.43050082,  2.66666657,  2.66666657,\n",
       "        2.66666659,  2.66666659,  2.66666659,  3.33333313,  3.33333313,\n",
       "        3.33333313,  3.33333313,  3.33333324,  3.33333324,  3.33333324,\n",
       "        3.33333324,  3.3333333 ,  3.3333333 ,  3.3333333 ,  3.3333333 ,\n",
       "        3.33333333,  3.33333333,  5.33333294,  5.33333294,  5.33333313,\n",
       "        5.33333313,  5.33333328,  5.33333328,  5.33333336,  5.33333336,\n",
       "        5.33333339])"
      ]
     },
     "execution_count": 88,
     "metadata": {},
     "output_type": "execute_result"
    }
   ],
   "source": [
    "np.linalg.eigvalsh(H)"
   ]
  }
 ],
 "metadata": {
  "kernelspec": {
   "display_name": "Python 3 (ipykernel)",
   "language": "python",
   "name": "python3"
  },
  "language_info": {
   "codemirror_mode": {
    "name": "ipython",
    "version": 3
   },
   "file_extension": ".py",
   "mimetype": "text/x-python",
   "name": "python",
   "nbconvert_exporter": "python",
   "pygments_lexer": "ipython3",
   "version": "3.9.13"
  }
 },
 "nbformat": 4,
 "nbformat_minor": 5
}
