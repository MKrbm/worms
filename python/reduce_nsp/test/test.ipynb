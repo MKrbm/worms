{
 "cells": [
  {
   "cell_type": "code",
   "execution_count": 1,
   "id": "888eaf0b",
   "metadata": {},
   "outputs": [],
   "source": [
    "from header import *"
   ]
  },
  {
   "cell_type": "code",
   "execution_count": 7,
   "id": "799db3b1",
   "metadata": {},
   "outputs": [],
   "source": [
    "D  = 10\n",
    "X = np.random.randn(D, D)\n",
    "Y = (X + X.T)/2"
   ]
  },
  {
   "cell_type": "code",
   "execution_count": 14,
   "id": "4c4d27bf",
   "metadata": {},
   "outputs": [
    {
     "data": {
      "text/plain": [
       "4.670174664536864"
      ]
     },
     "execution_count": 14,
     "metadata": {},
     "output_type": "execute_result"
    }
   ],
   "source": [
    "np.linalg.eigvalsh(nsp.utils.func.stoquastic(Y))[-1]"
   ]
  },
  {
   "cell_type": "code",
   "execution_count": 17,
   "id": "af41a6be",
   "metadata": {},
   "outputs": [],
   "source": [
    "E, V = np.linalg.eigh(Y)"
   ]
  },
  {
   "cell_type": "code",
   "execution_count": 19,
   "id": "d0f2479e",
   "metadata": {},
   "outputs": [],
   "source": [
    "P = np.diag(np.sign(V[:,-1]))"
   ]
  },
  {
   "cell_type": "code",
   "execution_count": 20,
   "id": "e95b1941",
   "metadata": {},
   "outputs": [],
   "source": [
    "E_, V_ = np.linalg.eigh(P@Y@P)"
   ]
  },
  {
   "cell_type": "code",
   "execution_count": 23,
   "id": "1fef5d1b",
   "metadata": {},
   "outputs": [
    {
     "data": {
      "text/plain": [
       "4.670174664536864"
      ]
     },
     "execution_count": 23,
     "metadata": {},
     "output_type": "execute_result"
    }
   ],
   "source": [
    "np.linalg.eigvalsh(nsp.utils.func.stoquastic(P@Y@P))[-1]"
   ]
  },
  {
   "cell_type": "code",
   "execution_count": null,
   "id": "200c1c27",
   "metadata": {},
   "outputs": [],
   "source": []
  }
 ],
 "metadata": {
  "kernelspec": {
   "display_name": "Python 3 (ipykernel)",
   "language": "python",
   "name": "python3"
  },
  "language_info": {
   "codemirror_mode": {
    "name": "ipython",
    "version": 3
   },
   "file_extension": ".py",
   "mimetype": "text/x-python",
   "name": "python",
   "nbconvert_exporter": "python",
   "pygments_lexer": "ipython3",
   "version": "3.9.13"
  }
 },
 "nbformat": 4,
 "nbformat_minor": 5
}
