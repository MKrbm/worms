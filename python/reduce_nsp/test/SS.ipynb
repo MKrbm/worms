{
 "cells": [
  {
   "cell_type": "code",
   "execution_count": 3,
   "id": "4187bc64",
   "metadata": {},
   "outputs": [
    {
     "name": "stderr",
     "output_type": "stream",
     "text": [
      "/home/user/miniconda3/envs/project/lib/python3.9/site-packages/tqdm/auto.py:22: TqdmWarning: IProgress not found. Please update jupyter and ipywidgets. See https://ipywidgets.readthedocs.io/en/stable/user_install.html\n",
      "  from .autonotebook import tqdm as notebook_tqdm\n"
     ]
    }
   ],
   "source": [
    "import numpy as np\n",
    "from header import *\n",
    "from nsp.utils.base_conv import *\n",
    "import argparse\n",
    "import sys\n",
    "sys.path.append('../nsp')\n",
    "from nsp.utils.func import *\n",
    "from nsp.utils.local2global import *"
   ]
  },
  {
   "cell_type": "code",
   "execution_count": 105,
   "id": "060e4adb",
   "metadata": {},
   "outputs": [],
   "source": [
    "E4 = np.load(\"/home/user/project/doc/data/shastry_exact_J1=1.npy\")"
   ]
  },
  {
   "cell_type": "code",
   "execution_count": 109,
   "id": "d78b4f14",
   "metadata": {},
   "outputs": [
    {
     "data": {
      "text/plain": [
       "-5.585519722674071"
      ]
     },
     "execution_count": 109,
     "metadata": {},
     "output_type": "execute_result"
    }
   ],
   "source": [
    "T = 1\n",
    "beta = 1/T\n",
    "np.sum(E4 * np.exp(-beta*E4))/np.sum(np.exp(-beta*E4))"
   ]
  },
  {
   "cell_type": "markdown",
   "id": "9f476f07",
   "metadata": {},
   "source": [
    "## prepare local ham"
   ]
  },
  {
   "cell_type": "code",
   "execution_count": 110,
   "id": "7382a2c2",
   "metadata": {},
   "outputs": [],
   "source": [
    "u = np.array([\n",
    "    [0,1,0,0],\n",
    "    [1/np.sqrt(2), 0, 1/np.sqrt(2), 0],\n",
    "    [-1/np.sqrt(2), 0, 1/np.sqrt(2), 0],\n",
    "    [0,0,0,1]\n",
    "])\n",
    "\n",
    "U = np.kron(u, u)"
   ]
  },
  {
   "cell_type": "code",
   "execution_count": 122,
   "id": "d7600b93",
   "metadata": {},
   "outputs": [],
   "source": [
    "J = [0.35, 1] #J, J_D"
   ]
  },
  {
   "cell_type": "code",
   "execution_count": 123,
   "id": "2f4a352e",
   "metadata": {},
   "outputs": [],
   "source": [
    "Sz = np.zeros([2,2])\n",
    "Sz[0,0] = 1/2\n",
    "Sz[1,1] = -1/2\n",
    "Sx = np.zeros([2,2])\n",
    "Sx[1,0] = 1/2\n",
    "Sx[0,1] = 1/2\n",
    "Sy = np.zeros([2,2], dtype=np.complex64)\n",
    "Sy[1,0] = 1j/2\n",
    "Sy[0,1] = -1j/2\n",
    "\n",
    "SzSz = np.kron(Sz,Sz).real.astype(np.float64)\n",
    "SxSx = np.kron(Sx,Sx).real.astype(np.float64)\n",
    "SySy = np.kron(Sy,Sy).real.astype(np.float64)\n",
    "\n",
    "lh = SzSz + SxSx + SySy\n",
    "lh = -lh"
   ]
  },
  {
   "cell_type": "code",
   "execution_count": 124,
   "id": "69116ef7",
   "metadata": {},
   "outputs": [],
   "source": [
    "H1 = sum_ham(J[0]*lh, [[1,2],[1,3]], 4, 2)\n",
    "H1 += sum_ham(J[1]*lh/4, [[0,1],[2,3]], 4, 2)\n",
    "\n",
    "H2 = sum_ham(J[0]*lh, [[0,2],[0,3]], 4, 2)\n",
    "H2 += sum_ham(J[1]*lh/4, [[0,1],[2,3]], 4, 2)\n",
    "\n",
    "E1 = np.linalg.eigvalsh(H1)\n",
    "E2 = np.linalg.eigvalsh(H2)"
   ]
  },
  {
   "cell_type": "code",
   "execution_count": 125,
   "id": "2680aa18",
   "metadata": {
    "scrolled": true
   },
   "outputs": [
    {
     "name": "stdout",
     "output_type": "stream",
     "text": [
      "[[ 3.75000000e-01  0.00000000e+00  6.93889390e-18  0.00000000e+00\n",
      "   0.00000000e+00  0.00000000e+00  0.00000000e+00 -5.55111512e-18\n",
      "   6.93889390e-18  0.00000000e+00  6.93889390e-18  0.00000000e+00\n",
      "   0.00000000e+00  0.00000000e+00  0.00000000e+00  0.00000000e+00]\n",
      " [ 0.00000000e+00  1.25000000e-01  0.00000000e+00  0.00000000e+00\n",
      "  -3.93551224e-18  0.00000000e+00 -1.75000000e-01  0.00000000e+00\n",
      "   0.00000000e+00  1.75000000e-01  0.00000000e+00  0.00000000e+00\n",
      "   0.00000000e+00  0.00000000e+00  0.00000000e+00  0.00000000e+00]\n",
      " [-1.54074396e-33  0.00000000e+00  1.25000000e-01  0.00000000e+00\n",
      "   0.00000000e+00  0.00000000e+00  0.00000000e+00 -1.75000000e-01\n",
      "   1.54074396e-33  0.00000000e+00 -1.54074396e-33  0.00000000e+00\n",
      "   0.00000000e+00  1.75000000e-01  0.00000000e+00  0.00000000e+00]\n",
      " [ 0.00000000e+00  0.00000000e+00  0.00000000e+00  1.25000000e-01\n",
      "   0.00000000e+00  0.00000000e+00  0.00000000e+00  0.00000000e+00\n",
      "   0.00000000e+00  0.00000000e+00  0.00000000e+00 -1.75000000e-01\n",
      "   0.00000000e+00  0.00000000e+00  1.75000000e-01  0.00000000e+00]\n",
      " [ 0.00000000e+00  2.29934717e-18  0.00000000e+00  0.00000000e+00\n",
      "   1.25000000e-01  0.00000000e+00 -2.79639290e-18  0.00000000e+00\n",
      "   0.00000000e+00  2.29934717e-18  0.00000000e+00  0.00000000e+00\n",
      "   0.00000000e+00  0.00000000e+00  0.00000000e+00  0.00000000e+00]\n",
      " [ 0.00000000e+00  0.00000000e+00  0.00000000e+00  0.00000000e+00\n",
      "   0.00000000e+00 -3.00000000e-01  0.00000000e+00  0.00000000e+00\n",
      "   0.00000000e+00  0.00000000e+00  0.00000000e+00  0.00000000e+00\n",
      "   0.00000000e+00  0.00000000e+00  0.00000000e+00  0.00000000e+00]\n",
      " [ 0.00000000e+00 -1.75000000e-01  0.00000000e+00  0.00000000e+00\n",
      "   2.79639290e-18  0.00000000e+00 -1.25000000e-01  0.00000000e+00\n",
      "   0.00000000e+00 -1.75000000e-01  0.00000000e+00  0.00000000e+00\n",
      "   0.00000000e+00  0.00000000e+00  0.00000000e+00  0.00000000e+00]\n",
      " [-5.55111512e-18  0.00000000e+00 -1.75000000e-01  0.00000000e+00\n",
      "   0.00000000e+00  0.00000000e+00  0.00000000e+00  5.00000000e-02\n",
      "  -5.55111512e-18  0.00000000e+00 -1.75000000e-01  0.00000000e+00\n",
      "   0.00000000e+00  0.00000000e+00  0.00000000e+00  0.00000000e+00]\n",
      " [-1.54074396e-33  0.00000000e+00  1.54074396e-33  0.00000000e+00\n",
      "   0.00000000e+00  0.00000000e+00  0.00000000e+00 -5.55111512e-18\n",
      "   1.25000000e-01  0.00000000e+00 -1.54074396e-33  0.00000000e+00\n",
      "   0.00000000e+00  0.00000000e+00  0.00000000e+00  0.00000000e+00]\n",
      " [ 0.00000000e+00  1.75000000e-01  0.00000000e+00  0.00000000e+00\n",
      "  -3.93551224e-18  0.00000000e+00 -1.75000000e-01  0.00000000e+00\n",
      "   0.00000000e+00 -1.25000000e-01  0.00000000e+00  0.00000000e+00\n",
      "   0.00000000e+00  0.00000000e+00  0.00000000e+00  0.00000000e+00]\n",
      " [-1.54074396e-33  0.00000000e+00  1.54074396e-33  0.00000000e+00\n",
      "   0.00000000e+00  0.00000000e+00  0.00000000e+00 -1.75000000e-01\n",
      "   1.54074396e-33  0.00000000e+00 -1.25000000e-01  0.00000000e+00\n",
      "   0.00000000e+00 -1.75000000e-01  0.00000000e+00  0.00000000e+00]\n",
      " [ 0.00000000e+00  0.00000000e+00  0.00000000e+00 -1.75000000e-01\n",
      "   0.00000000e+00  0.00000000e+00  0.00000000e+00  0.00000000e+00\n",
      "   0.00000000e+00  0.00000000e+00  0.00000000e+00 -1.25000000e-01\n",
      "   0.00000000e+00  0.00000000e+00 -1.75000000e-01  0.00000000e+00]\n",
      " [ 0.00000000e+00  0.00000000e+00  0.00000000e+00 -2.29934717e-18\n",
      "   0.00000000e+00  0.00000000e+00  0.00000000e+00  0.00000000e+00\n",
      "   0.00000000e+00  0.00000000e+00  0.00000000e+00  2.29934717e-18\n",
      "   1.25000000e-01  0.00000000e+00  0.00000000e+00  0.00000000e+00]\n",
      " [ 5.55111512e-18  0.00000000e+00  1.75000000e-01  0.00000000e+00\n",
      "   0.00000000e+00  0.00000000e+00  0.00000000e+00  0.00000000e+00\n",
      "  -5.55111512e-18  0.00000000e+00 -1.75000000e-01  0.00000000e+00\n",
      "   0.00000000e+00  5.00000000e-02  0.00000000e+00  0.00000000e+00]\n",
      " [ 0.00000000e+00  0.00000000e+00  0.00000000e+00  1.75000000e-01\n",
      "   0.00000000e+00  0.00000000e+00  0.00000000e+00  0.00000000e+00\n",
      "   0.00000000e+00  0.00000000e+00  0.00000000e+00 -1.75000000e-01\n",
      "   0.00000000e+00  0.00000000e+00 -1.25000000e-01  0.00000000e+00]\n",
      " [ 0.00000000e+00  0.00000000e+00  0.00000000e+00  0.00000000e+00\n",
      "   0.00000000e+00  0.00000000e+00  0.00000000e+00  0.00000000e+00\n",
      "   0.00000000e+00  0.00000000e+00  0.00000000e+00  0.00000000e+00\n",
      "   0.00000000e+00  0.00000000e+00  0.00000000e+00 -3.00000000e-01]]\n"
     ]
    }
   ],
   "source": [
    "H1, H2 = U.T@H1@U, U.T@H2@U\n",
    "print(H1)"
   ]
  },
  {
   "cell_type": "code",
   "execution_count": 126,
   "id": "95f81718",
   "metadata": {},
   "outputs": [
    {
     "data": {
      "text/plain": [
       "array([-0.3      , -0.3      , -0.3      , -0.3      , -0.3      ,\n",
       "       -0.1628123, -0.1628123, -0.1628123,  0.125    ,  0.125    ,\n",
       "        0.125    ,  0.225    ,  0.3378123,  0.3378123,  0.3378123,\n",
       "        0.375    ])"
      ]
     },
     "execution_count": 126,
     "metadata": {},
     "output_type": "execute_result"
    }
   ],
   "source": [
    "E1"
   ]
  },
  {
   "cell_type": "markdown",
   "id": "15c0b1cb",
   "metadata": {},
   "source": [
    "### prepair plaquette "
   ]
  },
  {
   "cell_type": "code",
   "execution_count": null,
   "id": "a943bcdc",
   "metadata": {},
   "outputs": [],
   "source": [
    "square1 = [[0,1], [1,2], [2,3], [3,0]]\n",
    "square2 = [[4,5], [5,6], [6,7], [7,4]]\n",
    "H1 = sum_ham(J[0]*lh/4, square1 + square2, 8, 2)\n",
    "H1 += sum_ham(J[1]*lh, [[1,7]], 4, 2)\n",
    "\n",
    "H2 = sum_ham(J[0]*lh/4, square1 + square2, 8, 2)\n",
    "H2 += sum_ham(J[1]*lh, [[2,4]], 4, 2)"
   ]
  },
  {
   "cell_type": "code",
   "execution_count": 98,
   "id": "eae805f3",
   "metadata": {},
   "outputs": [
    {
     "data": {
      "text/plain": [
       "'/home/user/project/python/exact/SS'"
      ]
     },
     "execution_count": 98,
     "metadata": {},
     "output_type": "execute_result"
    }
   ],
   "source": [
    "os.getcwd()"
   ]
  },
  {
   "cell_type": "code",
   "execution_count": 100,
   "id": "51d0d891",
   "metadata": {},
   "outputs": [],
   "source": [
    "H1 = np.load(\"../../array/SS/plq_original_J=[1.0, 1]/0.npy\")"
   ]
  },
  {
   "cell_type": "code",
   "execution_count": 104,
   "id": "90f3ac96",
   "metadata": {},
   "outputs": [
    {
     "data": {
      "text/plain": [
       "65536"
      ]
     },
     "execution_count": 104,
     "metadata": {},
     "output_type": "execute_result"
    }
   ],
   "source": [
    "(2**4)**4"
   ]
  },
  {
   "cell_type": "code",
   "execution_count": 102,
   "id": "e2b760f2",
   "metadata": {},
   "outputs": [
    {
     "name": "stdout",
     "output_type": "stream",
     "text": [
      "(256, 256)\n"
     ]
    }
   ],
   "source": [
    "print(H1.shape)"
   ]
  },
  {
   "cell_type": "markdown",
   "id": "76513c01",
   "metadata": {},
   "source": [
    "## optimize unitary"
   ]
  },
  {
   "cell_type": "markdown",
   "id": "f76b5aa5",
   "metadata": {},
   "source": [
    "### dimer basis"
   ]
  },
  {
   "cell_type": "code",
   "execution_count": 53,
   "id": "2b333d3e",
   "metadata": {},
   "outputs": [],
   "source": [
    "D = 4\n",
    "\n",
    "models = nsp.model.UnitaryRiemanGenerator(D, dtype=torch.float64)"
   ]
  },
  {
   "cell_type": "code",
   "execution_count": 54,
   "id": "0332f208",
   "metadata": {},
   "outputs": [],
   "source": [
    "loss_f = nsp.loss.MES\n",
    "from datetime import datetime\n",
    "from random import randint"
   ]
  },
  {
   "cell_type": "code",
   "execution_count": 62,
   "id": "a144b0e0",
   "metadata": {},
   "outputs": [
    {
     "name": "stdout",
     "output_type": "stream",
     "text": [
      "target loss      : 1.3000000119\n",
      "initial loss     : 1.7798828929\n",
      "loss upper bound : 1.5000000119\n",
      "\n",
      "================================================== \n",
      "\n"
     ]
    },
    {
     "name": "stderr",
     "output_type": "stream",
     "text": [
      "  1%|██▉                                                                                                                                                                                                                         | 27/2000 [00:00<00:23, 83.77it/s, iter=26, loss=1.30000]\n"
     ]
    },
    {
     "name": "stdout",
     "output_type": "stream",
     "text": [
      "No local minimum found\n",
      "No local minimum found\n",
      "No local minimum found\n",
      "No local minimum found\n",
      "No local minimum found\n",
      "No local minimum found\n",
      "No local minimum found\n",
      "No local minimum found\n",
      "No local minimum found\n",
      "No local minimum found\n",
      "No local minimum found\n",
      "No local minimum found\n",
      "stack in local minimum --> break loop\n",
      "res = 1.3000000119208908 / seed = 3046045476\n",
      "\n",
      "best_fun updated : 1.3000000119208908\n",
      "\n",
      "target loss      : 1.3000000119\n",
      "initial loss     : 1.9955372456\n",
      "loss upper bound : 1.5000000119\n",
      "\n",
      "================================================== \n",
      "\n"
     ]
    },
    {
     "name": "stderr",
     "output_type": "stream",
     "text": [
      "  2%|████▋                                                                                                                                                                                                                       | 43/2000 [00:00<00:29, 67.35it/s, iter=42, loss=1.50000]\n"
     ]
    },
    {
     "name": "stdout",
     "output_type": "stream",
     "text": [
      "No local minimum found\n",
      "stack in local minimum --> break loop\n",
      "res = 1.5000000119206234 / seed = 3222352951\n",
      "target loss      : 1.3000000119\n",
      "initial loss     : 1.7897753081\n",
      "loss upper bound : 1.5000000119\n",
      "\n",
      "================================================== \n",
      "\n"
     ]
    },
    {
     "name": "stderr",
     "output_type": "stream",
     "text": [
      "  1%|███                                                                                                                                                                                                                         | 28/2000 [00:00<00:21, 90.40it/s, iter=27, loss=1.30821]\n"
     ]
    },
    {
     "name": "stdout",
     "output_type": "stream",
     "text": [
      "No local minimum found\n",
      "No local minimum found\n",
      "No local minimum found\n",
      "No local minimum found\n",
      "No local minimum found\n",
      "No local minimum found\n",
      "No local minimum found\n",
      "No local minimum found\n",
      "No local minimum found\n",
      "No local minimum found\n",
      "No local minimum found\n",
      "No local minimum found\n",
      "No local minimum found\n",
      "No local minimum found\n",
      "No local minimum found\n",
      "stack in local minimum --> break loop\n",
      "res = 1.3082070831056682 / seed = 2158409168\n",
      "target loss      : 1.3000000119\n",
      "initial loss     : 1.9910558634\n",
      "loss upper bound : 1.5000000119\n",
      "\n",
      "================================================== \n",
      "\n"
     ]
    },
    {
     "name": "stderr",
     "output_type": "stream",
     "text": [
      "  2%|█████▌                                                                                                                                                                                                                      | 50/2000 [00:00<00:30, 64.34it/s, iter=49, loss=1.68190]\n"
     ]
    },
    {
     "name": "stdout",
     "output_type": "stream",
     "text": [
      "stack in local minimum --> break loop\n",
      "res = 1.681904588066553 / seed = 786533599\n",
      "target loss      : 1.3000000119\n",
      "initial loss     : 1.8707051049\n",
      "loss upper bound : 1.5000000119\n",
      "\n",
      "================================================== \n",
      "\n"
     ]
    },
    {
     "name": "stderr",
     "output_type": "stream",
     "text": [
      "  1%|███                                                                                                                                                                                                                         | 28/2000 [00:00<00:24, 81.32it/s, iter=27, loss=1.30000]\n"
     ]
    },
    {
     "name": "stdout",
     "output_type": "stream",
     "text": [
      "No local minimum found\n",
      "No local minimum found\n",
      "No local minimum found\n",
      "No local minimum found\n",
      "No local minimum found\n",
      "No local minimum found\n",
      "No local minimum found\n",
      "No local minimum found\n",
      "No local minimum found\n",
      "No local minimum found\n",
      "No local minimum found\n",
      "No local minimum found\n",
      "stack in local minimum --> break loop\n",
      "res = 1.3000000119210529 / seed = 1121851147\n",
      "target loss      : 1.3000000119\n",
      "initial loss     : 2.0954257903\n",
      "loss upper bound : 1.5000000119\n",
      "\n",
      "================================================== \n",
      "\n"
     ]
    },
    {
     "name": "stderr",
     "output_type": "stream",
     "text": [
      "  2%|███▋                                                                                                                                                                                                                        | 33/2000 [00:00<00:25, 77.55it/s, iter=32, loss=1.30000]\n"
     ]
    },
    {
     "name": "stdout",
     "output_type": "stream",
     "text": [
      "No local minimum found\n",
      "No local minimum found\n",
      "No local minimum found\n",
      "No local minimum found\n",
      "No local minimum found\n",
      "No local minimum found\n",
      "No local minimum found\n",
      "No local minimum found\n",
      "No local minimum found\n",
      "No local minimum found\n",
      "No local minimum found\n",
      "stack in local minimum --> break loop\n",
      "res = 1.300000011919888 / seed = 3062348881\n",
      "\n",
      "best_fun updated : 1.300000011919888\n",
      "\n",
      "target loss      : 1.3000000119\n",
      "initial loss     : 2.0484505003\n",
      "loss upper bound : 1.5000000119\n",
      "\n",
      "================================================== \n",
      "\n"
     ]
    },
    {
     "name": "stderr",
     "output_type": "stream",
     "text": [
      "  1%|███▏                                                                                                                                                                                                                        | 29/2000 [00:00<00:23, 85.04it/s, iter=28, loss=1.30000]\n"
     ]
    },
    {
     "name": "stdout",
     "output_type": "stream",
     "text": [
      "No local minimum found\n",
      "No local minimum found\n",
      "No local minimum found\n",
      "No local minimum found\n",
      "No local minimum found\n",
      "No local minimum found\n",
      "No local minimum found\n",
      "No local minimum found\n",
      "No local minimum found\n",
      "No local minimum found\n",
      "No local minimum found\n",
      "No local minimum found\n",
      "No local minimum found\n",
      "stack in local minimum --> break loop\n",
      "res = 1.3000000119213093 / seed = 3411469672\n",
      "target loss      : 1.3000000119\n",
      "initial loss     : 1.9391566968\n",
      "loss upper bound : 1.5000000119\n",
      "\n",
      "================================================== \n",
      "\n"
     ]
    },
    {
     "name": "stderr",
     "output_type": "stream",
     "text": [
      "  1%|██▊                                                                                                                                                                                                                         | 26/2000 [00:00<00:21, 92.67it/s, iter=25, loss=1.30000]\n"
     ]
    },
    {
     "name": "stdout",
     "output_type": "stream",
     "text": [
      "No local minimum found\n",
      "No local minimum found\n",
      "No local minimum found\n",
      "No local minimum found\n",
      "No local minimum found\n",
      "No local minimum found\n",
      "No local minimum found\n",
      "No local minimum found\n",
      "No local minimum found\n",
      "No local minimum found\n",
      "No local minimum found\n",
      "No local minimum found\n",
      "No local minimum found\n",
      "No local minimum found\n",
      "No local minimum found\n",
      "stack in local minimum --> break loop\n",
      "res = 1.3000000119210653 / seed = 2851178001\n",
      "target loss      : 1.3000000119\n",
      "initial loss     : 2.0629344310\n",
      "loss upper bound : 1.5000000119\n",
      "\n",
      "================================================== \n",
      "\n"
     ]
    },
    {
     "name": "stderr",
     "output_type": "stream",
     "text": [
      "  3%|██████▌                                                                                                                                                                                                                     | 60/2000 [00:00<00:29, 65.37it/s, iter=59, loss=1.77918]\n"
     ]
    },
    {
     "name": "stdout",
     "output_type": "stream",
     "text": [
      "stack in local minimum --> break loop\n",
      "res = 1.7791814384438325 / seed = 1859769114\n",
      "target loss      : 1.3000000119\n",
      "initial loss     : 1.9053715810\n",
      "loss upper bound : 1.5000000119\n",
      "\n",
      "================================================== \n",
      "\n"
     ]
    },
    {
     "name": "stderr",
     "output_type": "stream",
     "text": [
      "  1%|██▉                                                                                                                                                                                                                         | 27/2000 [00:00<00:21, 90.16it/s, iter=26, loss=1.30000]"
     ]
    },
    {
     "name": "stdout",
     "output_type": "stream",
     "text": [
      "No local minimum found\n",
      "No local minimum found\n",
      "No local minimum found\n",
      "No local minimum found\n",
      "No local minimum found\n",
      "No local minimum found\n",
      "No local minimum found\n",
      "No local minimum found\n",
      "No local minimum found\n",
      "No local minimum found\n",
      "No local minimum found\n",
      "No local minimum found\n",
      "No local minimum found\n",
      "No local minimum found\n",
      "stack in local minimum --> break loop\n",
      "res = 1.3000000119213626 / seed = 2233820119\n"
     ]
    },
    {
     "name": "stderr",
     "output_type": "stream",
     "text": [
      "\n"
     ]
    }
   ],
   "source": [
    "D = 4\n",
    "M = 10\n",
    "loss1 = loss_f(H1, [D, D], pout = False)\n",
    "loss2 = loss_f(H2, [D, D], pout = False)\n",
    "best_fun = 1E10\n",
    "\n",
    "for _ in range(M):\n",
    "    seed = randint(0, 2<<32 - 1)\n",
    "    torch.manual_seed(seed)\n",
    "    np.random.seed(seed)\n",
    "#     models = [nsp.model.UnitaryRiemanGenerator(D, dtype=torch.float64) for _ in range(2)]\n",
    "    model = nsp.model.UnitaryRiemanGenerator(D, dtype=torch.float64)\n",
    "    cg = RiemanNonTransUnitaryCG([(model, model)]*2, [loss1, loss2], pout = False)\n",
    "    solver = UnitaryNonTransTs(cg, af=False)\n",
    "    ret = solver.run(2000, False)\n",
    "    print(f\"res = {ret.fun} / seed = {seed}\")\n",
    "    if ret.fun < best_fun:\n",
    "        print(f\"\\nbest_fun updated : {ret.fun}\\n\")\n",
    "        best_fun = ret.fun\n",
    "        best_model = ret.model\n",
    "# LHs = [loss._transform_kron([best_model[i].matrix(), best_model[(i+1)%L].matrix()], original=True).detach().numpy() for i in range(L)]\n",
    "# folder = f\"../../array/FL/optm_nt{L}Jp={(J[0]):.2}_Jx={(J[1]):.2}_{ham_type}_{loss_name}\"\n",
    "# co = nsp.utils.base_conv.change_order"
   ]
  },
  {
   "cell_type": "markdown",
   "id": "8ba1fc4d",
   "metadata": {},
   "source": [
    "### optimzie for many J"
   ]
  },
  {
   "cell_type": "code",
   "execution_count": 2,
   "id": "70913e58",
   "metadata": {},
   "outputs": [],
   "source": [
    "import re\n",
    "\n",
    "def process_line(stdout):\n",
    "    for line in str(stdout).split(\"\\\\n\"):\n",
    "        pat = \"best fun is : \"\n",
    "        if pat in line:\n",
    "            line = line.replace(pat,\"\")\n",
    "            return float(line)\n",
    "            \n"
   ]
  },
  {
   "cell_type": "code",
   "execution_count": 87,
   "id": "04463087",
   "metadata": {},
   "outputs": [
    {
     "name": "stdout",
     "output_type": "stream",
     "text": [
      "0.12\n"
     ]
    }
   ],
   "source": [
    "print(f\"{0.123:.2}\")"
   ]
  },
  {
   "cell_type": "code",
   "execution_count": 5,
   "id": "ad29b8ce",
   "metadata": {},
   "outputs": [],
   "source": [
    "J = np.arange(0.1, 1.1, 0.01)"
   ]
  },
  {
   "cell_type": "code",
   "execution_count": 6,
   "id": "0e5d847b",
   "metadata": {},
   "outputs": [
    {
     "data": {
      "text/plain": [
       "array([0.1 , 0.11, 0.12, 0.13, 0.14, 0.15, 0.16, 0.17, 0.18, 0.19, 0.2 ,\n",
       "       0.21, 0.22, 0.23, 0.24, 0.25, 0.26, 0.27, 0.28, 0.29, 0.3 , 0.31,\n",
       "       0.32, 0.33, 0.34, 0.35, 0.36, 0.37, 0.38, 0.39, 0.4 , 0.41, 0.42,\n",
       "       0.43, 0.44, 0.45, 0.46, 0.47, 0.48, 0.49, 0.5 , 0.51, 0.52, 0.53,\n",
       "       0.54, 0.55, 0.56, 0.57, 0.58, 0.59, 0.6 , 0.61, 0.62, 0.63, 0.64,\n",
       "       0.65, 0.66, 0.67, 0.68, 0.69, 0.7 , 0.71, 0.72, 0.73, 0.74, 0.75,\n",
       "       0.76, 0.77, 0.78, 0.79, 0.8 , 0.81, 0.82, 0.83, 0.84, 0.85, 0.86,\n",
       "       0.87, 0.88, 0.89, 0.9 , 0.91, 0.92, 0.93, 0.94, 0.95, 0.96, 0.97,\n",
       "       0.98, 0.99, 1.  , 1.01, 1.02, 1.03, 1.04, 1.05, 1.06, 1.07, 1.08,\n",
       "       1.09])"
      ]
     },
     "execution_count": 6,
     "metadata": {},
     "output_type": "execute_result"
    }
   ],
   "source": [
    "J"
   ]
  },
  {
   "cell_type": "code",
   "execution_count": 12,
   "id": "2ee4d08e",
   "metadata": {},
   "outputs": [
    {
     "data": {
      "text/plain": [
       "b'save matrix ((16, 16)):  ../../array/SS/dimer_basis_J_[0.1, 1]/0.npy\\nsave matrix ((16, 16)):  ../../array/SS/dimer_basis_J_[0.1, 1]/1.npy\\n'"
      ]
     },
     "execution_count": 12,
     "metadata": {},
     "output_type": "execute_result"
    }
   ],
   "source": [
    "stdout"
   ]
  },
  {
   "cell_type": "code",
   "execution_count": 15,
   "id": "a08b12bb",
   "metadata": {},
   "outputs": [
    {
     "name": "stdout",
     "output_type": "stream",
     "text": [
      "best fun at J = 0.1 is :  1.09999999403114\n",
      "best fun at J = 0.11 is :  1.1100000142911228\n",
      "best fun at J = 0.12 is :  1.120000004755787\n",
      "best fun at J = 0.13 is :  1.1299999952225246\n",
      "best fun at J = 0.14 is :  1.1399999856831173\n",
      "best fun at J = 0.15 is :  1.1500000059552327\n",
      "best fun at J = 0.16 is :  1.15999999641438\n",
      "best fun at J = 0.17 is :  1.1699999868751367\n",
      "best fun at J = 0.18 is :  1.180000007144566\n",
      "best fun at J = 0.19 is :  1.1899999976046256\n",
      "best fun at J = 0.2 is :  1.1999999880750118\n",
      "best fun at J = 0.21 is :  1.2100000083331413\n",
      "best fun at J = 0.22 is :  1.219999998795069\n",
      "best fun at J = 0.23 is :  1.2299999892637108\n",
      "best fun at J = 0.24 is :  1.2400000095210872\n",
      "best fun at J = 0.25 is :  1.249999999986863\n",
      "best fun at J = 0.26 is :  1.2599999904579366\n",
      "best fun at J = 0.27 is :  1.2699999809159264\n",
      "best fun at J = 0.28 is :  1.279999971381255\n",
      "best fun at J = 0.29 is :  1.2900000214468847\n",
      "best fun at J = 0.3 is :  1.30000001191368\n",
      "best fun at J = 0.31 is :  1.310000002372305\n",
      "best fun at J = 0.32 is :  1.3199999928390718\n",
      "best fun at J = 0.33 is :  1.329999983293896\n",
      "best fun at J = 0.34 is :  None\n",
      "best fun at J = 0.35 is :  1.3500000238312109\n",
      "best fun at J = 0.36 is :  1.3600000143016178\n",
      "best fun at J = 0.37 is :  1.3700000047644698\n",
      "best fun at J = 0.38 is :  1.3799999952210118\n",
      "best fun at J = 0.39 is :  1.389999985684796\n",
      "best fun at J = 0.4 is :  1.4178908107367154\n",
      "best fun at J = 0.41 is :  None\n",
      "best fun at J = 0.42 is :  1.4753150593280975\n",
      "best fun at J = 0.43 is :  1.5041182222732743\n",
      "best fun at J = 0.44 is :  1.5329767226990811\n",
      "best fun at J = 0.45 is :  1.5618869482130975\n",
      "best fun at J = 0.46 is :  1.5908455823484426\n",
      "best fun at J = 0.47 is :  1.6198496356540037\n",
      "best fun at J = 0.48 is :  1.6488961819696983\n",
      "best fun at J = 0.49 is :  1.677982693300995\n",
      "best fun at J = 0.5 is :  1.7071067811806135\n",
      "best fun at J = 0.51 is :  1.7362662381070102\n",
      "best fun at J = 0.52 is :  1.7654590212410823\n",
      "best fun at J = 0.53 is :  1.7946832378353066\n",
      "best fun at J = 0.54 is :  1.82393719164393\n",
      "best fun at J = 0.55 is :  None\n",
      "best fun at J = 0.56 is :  1.8825276044192862\n",
      "best fun at J = 0.57 is :  1.9118611952798275\n",
      "best fun at J = 0.58 is :  1.9412185900098522\n",
      "best fun at J = 0.59 is :  1.970598561609462\n",
      "best fun at J = 0.6 is :  2.000000023837913\n",
      "best fun at J = 0.61 is :  2.029421786354129\n",
      "best fun at J = 0.62 is :  2.058862906470794\n",
      "best fun at J = 0.63 is :  2.0883224454016647\n",
      "best fun at J = 0.64 is :  2.117799523034485\n",
      "best fun at J = 0.65 is :  2.1472933134395427\n",
      "best fun at J = 0.66 is :  2.176803100512072\n",
      "best fun at J = 0.67 is :  2.206328035824013\n",
      "best fun at J = 0.68 is :  2.2358674928823215\n",
      "best fun at J = 0.69 is :  2.265420825625613\n",
      "best fun at J = 0.7 is :  2.294987425173338\n",
      "best fun at J = 0.71 is :  2.3245667172876914\n",
      "best fun at J = 0.72 is :  2.354158219512022\n",
      "best fun at J = 0.73 is :  None\n",
      "best fun at J = 0.74 is :  2.4133755361134637\n",
      "best fun at J = 0.75 is :  2.44300046815885\n",
      "best fun at J = 0.76 is :  2.4726356632446174\n",
      "best fun at J = 0.77 is :  2.502280710724309\n",
      "best fun at J = 0.78 is :  2.5319352212960577\n",
      "best fun at J = 0.79 is :  2.561598825681094\n",
      "best fun at J = 0.8 is :  2.591271173364163\n",
      "best fun at J = 0.81 is :  2.6209519313855116\n",
      "best fun at J = 0.82 is :  2.650640902581465\n",
      "best fun at J = 0.83 is :  2.6803375475891995\n",
      "best fun at J = 0.84 is :  2.7100416993155143\n",
      "best fun at J = 0.85 is :  2.739753085155133\n",
      "best fun at J = 0.86 is :  2.769471445440464\n",
      "best fun at J = 0.87 is :  2.7991965326487653\n",
      "best fun at J = 0.88 is :  2.8289281107138864\n",
      "best fun at J = 0.89 is :  2.8586659544576687\n",
      "best fun at J = 0.9 is :  2.8884098488145185\n",
      "best fun at J = 0.91 is :  2.918159588456408\n",
      "best fun at J = 0.92 is :  2.947914977101032\n",
      "best fun at J = 0.93 is :  2.977675827119228\n",
      "best fun at J = 0.94 is :  3.0074420782236477\n",
      "best fun at J = 0.95 is :  3.0372133202607197\n",
      "best fun at J = 0.96 is :  3.066989507956074\n",
      "best fun at J = 0.97 is :  3.0967704838046974\n",
      "best fun at J = 0.98 is :  3.126556096865529\n",
      "best fun at J = 0.99 is :  3.156346202405153\n",
      "best fun at J = 1.0 is :  3.1861406616277015\n",
      "best fun at J = 1.0 is :  3.186140661625866\n",
      "best fun at J = 1.0 is :  3.1861406616255135\n",
      "best fun at J = 1.0 is :  None\n",
      "best fun at J = 1.0 is :  3.1861406616250063\n",
      "best fun at J = 1.0 is :  None\n",
      "best fun at J = 1.1 is :  3.4842979756068866\n",
      "best fun at J = 1.1 is :  3.484297975608208\n",
      "best fun at J = 1.1 is :  3.4842979756081283\n",
      "best fun at J = 1.1 is :  3.4842979756116215\n"
     ]
    }
   ],
   "source": [
    "import numpy as np\n",
    "import os \n",
    "os.chdir(\"/home/user/project/python/exact/SS\")\n",
    "import subprocess\n",
    "energy_array = []\n",
    "sign_array = []\n",
    "time_array = []\n",
    "for J in np.arange(0.1, 1.1, 0.01):\n",
    "    out = subprocess.Popen([\"python\", \"make_ss_local.py\", \"-l\", \"dimer_optm\" ,\"-J\", f\"{J:.2}\", \"-M\", \"100\"], \n",
    "               stdout=subprocess.PIPE, \n",
    "               stderr=subprocess.STDOUT)\n",
    "    stdout,stderr = out.communicate()\n",
    "\n",
    "    best = process_line(stdout)\n",
    "    print(f\"best fun at J = {J:.2} is : \",best)\n",
    "#     energy_array.append(energy)\n",
    "#     sign_array.append(sign)\n",
    "#     time_array.append(time)"
   ]
  },
  {
   "cell_type": "markdown",
   "id": "529f5d8a",
   "metadata": {},
   "source": []
  }
 ],
 "metadata": {
  "kernelspec": {
   "display_name": "Python 3.9.15 ('py39')",
   "language": "python",
   "name": "python3"
  },
  "language_info": {
   "codemirror_mode": {
    "name": "ipython",
    "version": 3
   },
   "file_extension": ".py",
   "mimetype": "text/x-python",
   "name": "python",
   "nbconvert_exporter": "python",
   "pygments_lexer": "ipython3",
   "version": "3.9.15"
  },
  "vscode": {
   "interpreter": {
    "hash": "635093cb382d24e7bb09df67eef84e97b3e0429c00b0294b3c9882ac411b8a1a"
   }
  }
 },
 "nbformat": 4,
 "nbformat_minor": 5
}
