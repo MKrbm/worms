{
 "cells": [
  {
   "cell_type": "code",
   "execution_count": 333,
   "id": "6123656e",
   "metadata": {},
   "outputs": [],
   "source": [
    "import numpy as np"
   ]
  },
  {
   "cell_type": "code",
   "execution_count": 347,
   "id": "d12b462b",
   "metadata": {},
   "outputs": [
    {
     "data": {
      "text/plain": [
       "(0.04605513913807524, 0.4669143629585321)"
      ]
     },
     "execution_count": 347,
     "metadata": {},
     "output_type": "execute_result"
    }
   ],
   "source": [
    "g = 5\n",
    "\n",
    "r = 1\n",
    "d = 0.2\n",
    "u1 = r-d\n",
    "u2 = r-d\n",
    "\n",
    "s1 = u1/g\n",
    "s2 = u2/g\n",
    "\n",
    "N = 10**7\n",
    "E = np.random.normal(u1, s1 ,N)\n",
    "S = np.random.normal(u2, s2, N)\n",
    "np.mean(E/S)-u1/u2, np.std(E/S)"
   ]
  },
  {
   "cell_type": "code",
   "execution_count": 323,
   "id": "4a1bc3f4",
   "metadata": {},
   "outputs": [
    {
     "data": {
      "text/plain": [
       "1.2222222222222223"
      ]
     },
     "execution_count": 323,
     "metadata": {},
     "output_type": "execute_result"
    }
   ],
   "source": []
  },
  {
   "cell_type": "code",
   "execution_count": 127,
   "id": "75c239a4",
   "metadata": {},
   "outputs": [
    {
     "data": {
      "text/plain": [
       "array([ 7.9769717 , -3.41385622,  1.0775035 , ...,  1.42041531,\n",
       "        0.66006511,  1.41475197])"
      ]
     },
     "execution_count": 127,
     "metadata": {},
     "output_type": "execute_result"
    }
   ],
   "source": [
    "E/S"
   ]
  },
  {
   "cell_type": "code",
   "execution_count": null,
   "id": "f118c918",
   "metadata": {},
   "outputs": [],
   "source": []
  }
 ],
 "metadata": {
  "kernelspec": {
   "display_name": "Python 3 (ipykernel)",
   "language": "python",
   "name": "python3"
  },
  "language_info": {
   "codemirror_mode": {
    "name": "ipython",
    "version": 3
   },
   "file_extension": ".py",
   "mimetype": "text/x-python",
   "name": "python",
   "nbconvert_exporter": "python",
   "pygments_lexer": "ipython3",
   "version": "3.9.13"
  }
 },
 "nbformat": 4,
 "nbformat_minor": 5
}
