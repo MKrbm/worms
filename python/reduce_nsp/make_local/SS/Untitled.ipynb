{
 "cells": [
  {
   "cell_type": "code",
   "execution_count": 2,
   "id": "eb298ebb",
   "metadata": {},
   "outputs": [
    {
     "name": "stderr",
     "output_type": "stream",
     "text": [
      "/home/user/miniconda3/envs/py39/lib/python3.9/site-packages/tqdm/auto.py:22: TqdmWarning: IProgress not found. Please update jupyter and ipywidgets. See https://ipywidgets.readthedocs.io/en/stable/user_install.html\n",
      "  from .autonotebook import tqdm as notebook_tqdm\n",
      "/home/user/miniconda3/envs/py39/lib/python3.9/site-packages/torchvision/io/image.py:13: UserWarning: Failed to load image Python extension: \n",
      "  warn(f\"Failed to load image Python extension: {e}\")\n"
     ]
    }
   ],
   "source": [
    "import numpy as np\n",
    "import sys\n",
    "sys.path.append('../..')\n",
    "from nsp.utils.base_conv import *\n",
    "from header import *"
   ]
  },
  {
   "cell_type": "code",
   "execution_count": 24,
   "id": "806d67d1",
   "metadata": {},
   "outputs": [],
   "source": [
    "Ho = np.round(np.load(\"H1_optim.npy\"),5)\n",
    "Hs = np.round(np.load(\"H1_singlet.npy\"),5)\n",
    "H = np.round(np.load(\"H1.npy\"),5)"
   ]
  },
  {
   "cell_type": "code",
   "execution_count": 51,
   "id": "92d3f46b",
   "metadata": {},
   "outputs": [],
   "source": [
    "u = np.array([\n",
    "    [0,1,0,0],\n",
    "    [1/np.sqrt(2), 0, 1/np.sqrt(2), 0],\n",
    "    [-1/np.sqrt(2), 0, 1/np.sqrt(2), 0],\n",
    "    [0,0,0,1]\n",
    "])\n",
    "\n",
    "u1 = np.array([\n",
    "    [0, 1/np.sqrt(2),0,1/np.sqrt(2)],\n",
    "    [1/np.sqrt(2), 0, 1/np.sqrt(2), 0],\n",
    "    [-1/np.sqrt(2), 0, 1/np.sqrt(2), 0],\n",
    "    [0,-1/np.sqrt(2),0,1/np.sqrt(2)]\n",
    "])\n",
    "\n",
    "U = np.kron(u1, u1)"
   ]
  },
  {
   "cell_type": "code",
   "execution_count": 49,
   "id": "2959e094",
   "metadata": {
    "scrolled": false
   },
   "outputs": [],
   "source": [
    "np.set_printoptions(linewidth=200, precision=4, suppress=True)"
   ]
  },
  {
   "cell_type": "code",
   "execution_count": 52,
   "id": "e9d4bf91",
   "metadata": {},
   "outputs": [
    {
     "data": {
      "text/plain": [
       "0.0"
      ]
     },
     "execution_count": 52,
     "metadata": {},
     "output_type": "execute_result"
    }
   ],
   "source": [
    "np.linalg.norm(np.round(U.T @ H @ U,5) - Ho)"
   ]
  },
  {
   "cell_type": "code",
   "execution_count": 23,
   "id": "219cc597",
   "metadata": {},
   "outputs": [
    {
     "name": "stdout",
     "output_type": "stream",
     "text": [
      " H1_optim.npy     \u001b[0m\u001b[01;34marray\u001b[0m/       make_ss_local.py    'test firugre.ipynb'\r\n",
      " H1_singlet.npy   \u001b[01;34mdataframe\u001b[0m/   \u001b[01;34mout\u001b[0m/\r\n",
      " LOGFILE          figure.py    \u001b[01;31mout.zip\u001b[0m\r\n",
      " Untitled.ipynb   genSS.py     study_optim_ham.py\r\n"
     ]
    }
   ],
   "source": [
    "np.load(\"array/U\")"
   ]
  },
  {
   "cell_type": "code",
   "execution_count": 56,
   "id": "d3dcb8e5",
   "metadata": {},
   "outputs": [
    {
     "name": "stdout",
     "output_type": "stream",
     "text": [
      "0.375\n",
      "0.125\n",
      "0.125\n",
      "0.125\n"
     ]
    }
   ],
   "source": [
    "for i in range(4):\n",
    "        print(Hs[i,  i])"
   ]
  },
  {
   "cell_type": "code",
   "execution_count": 55,
   "id": "ca5bdabb",
   "metadata": {},
   "outputs": [
    {
     "name": "stdout",
     "output_type": "stream",
     "text": [
      "0.375\n",
      "-0.0\n",
      "0.0\n",
      "-0.0\n",
      "-0.0\n",
      "-0.0\n",
      "0.0\n",
      "0.0\n",
      "0.0\n",
      "-0.0\n",
      "0.0\n",
      "-0.0\n",
      "-0.0\n",
      "0.0\n",
      "-0.0\n",
      "0.0\n"
     ]
    }
   ],
   "source": [
    "for i in range(4):\n",
    "    for j in range(4):\n",
    "        print(Ho[0*4 + i, j * 4 + 0])"
   ]
  },
  {
   "cell_type": "code",
   "execution_count": 3,
   "id": "4323a993",
   "metadata": {},
   "outputs": [],
   "source": [
    "Sz = np.zeros([2,2])\n",
    "Sz[0,0] = 1/2\n",
    "Sz[1,1] = -1/2\n",
    "Sx = np.zeros([2,2])\n",
    "Sx[1,0] = 1/2\n",
    "Sx[0,1] = 1/2\n",
    "Sy = np.zeros([2,2], dtype=np.complex64)\n",
    "Sy[1,0] = 1j/2\n",
    "Sy[0,1] = -1j/2\n",
    "\n",
    "SzSz = np.kron(Sz,Sz).real.astype(np.float64)\n",
    "SxSx = np.kron(Sx,Sx).real.astype(np.float64)\n",
    "SySy = np.kron(Sy,Sy).real.astype(np.float64)\n",
    "\n",
    "lh = SzSz + SxSx + SySy\n",
    "\n",
    "lh = -lh # use minus of local hamiltonian for monte-carlo (exp(-beta H ))\n",
    "\n",
    "\n",
    "u = np.array([\n",
    "    [0,1,0,0],\n",
    "    [1/np.sqrt(2), 0, 1/np.sqrt(2), 0],\n",
    "    [-1/np.sqrt(2), 0, 1/np.sqrt(2), 0],\n",
    "    [0,0,0,1]\n",
    "])\n"
   ]
  },
  {
   "cell_type": "code",
   "execution_count": 4,
   "id": "70bbd66d",
   "metadata": {},
   "outputs": [],
   "source": [
    "x1 = sum_ham(lh, [[1,2],[1,3]], 4, 2)\n",
    "x2 = sum_ham(lh/4, [[0,1],[2,3]], 4, 2)"
   ]
  },
  {
   "cell_type": "code",
   "execution_count": 11,
   "id": "f9b36763",
   "metadata": {},
   "outputs": [],
   "source": [
    "np.save(\"x1.npy\", x1)\n",
    "np.save(\"x2.npy\",x2)"
   ]
  },
  {
   "cell_type": "code",
   "execution_count": 8,
   "id": "7e02d61d",
   "metadata": {},
   "outputs": [
    {
     "name": "stdout",
     "output_type": "stream",
     "text": [
      "  (0, 0)\t-0.125\n",
      "  (1, 2)\t-0.125\n",
      "  (2, 1)\t-0.125\n",
      "  (3, 3)\t-0.125\n",
      "  (4, 8)\t-0.125\n",
      "  (5, 5)\t0.125\n",
      "  (5, 6)\t-0.125\n",
      "  (5, 9)\t-0.125\n",
      "  (6, 5)\t-0.125\n",
      "  (6, 6)\t0.125\n",
      "  (6, 10)\t-0.125\n",
      "  (7, 11)\t-0.125\n",
      "  (8, 4)\t-0.125\n",
      "  (9, 5)\t-0.125\n",
      "  (9, 9)\t0.125\n",
      "  (9, 10)\t-0.125\n",
      "  (10, 6)\t-0.125\n",
      "  (10, 9)\t-0.125\n",
      "  (10, 10)\t0.125\n",
      "  (11, 7)\t-0.125\n",
      "  (12, 12)\t-0.125\n",
      "  (13, 14)\t-0.125\n",
      "  (14, 13)\t-0.125\n",
      "  (15, 15)\t-0.125\n"
     ]
    }
   ],
   "source": [
    "print(sparse.csr_matrix(x2) )"
   ]
  }
 ],
 "metadata": {
  "kernelspec": {
   "display_name": "Python 3 (ipykernel)",
   "language": "python",
   "name": "python3"
  },
  "language_info": {
   "codemirror_mode": {
    "name": "ipython",
    "version": 3
   },
   "file_extension": ".py",
   "mimetype": "text/x-python",
   "name": "python",
   "nbconvert_exporter": "python",
   "pygments_lexer": "ipython3",
   "version": "3.9.15"
  }
 },
 "nbformat": 4,
 "nbformat_minor": 5
}
