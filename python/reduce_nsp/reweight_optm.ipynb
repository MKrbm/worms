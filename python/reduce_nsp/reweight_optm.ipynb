{
 "cells": [
  {
   "cell_type": "code",
   "execution_count": 5,
   "id": "53b697ad",
   "metadata": {},
   "outputs": [
    {
     "data": {
      "text/plain": [
       "<module 'utils.lossfunc' from '/Users/keisukemurota/Documents/todo/worms/python/nsp/utils/lossfunc.py'>"
      ]
     },
     "execution_count": 5,
     "metadata": {},
     "output_type": "execute_result"
    }
   ],
   "source": [
    "import torch\n",
    "import numpy as np\n",
    "from utils import optm\n",
    "from utils import optm_method as optmm\n",
    "from utils import lossfunc as lf\n",
    "from utils import functions as f\n",
    "\n",
    "from importlib import reload\n",
    "reload(optm)\n",
    "reload(lf)"
   ]
  },
  {
   "cell_type": "code",
   "execution_count": 9,
   "id": "42aa79e7",
   "metadata": {},
   "outputs": [],
   "source": []
  },
  {
   "cell_type": "markdown",
   "id": "e933c1b4",
   "metadata": {},
   "source": [
    "### If we know the ground state"
   ]
  },
  {
   "cell_type": "code",
   "execution_count": 16,
   "id": "68a9671f",
   "metadata": {},
   "outputs": [
    {
     "name": "stdout",
     "output_type": "stream",
     "text": [
      "rate of ground state energy =  0.9996004939667932\n"
     ]
    }
   ],
   "source": [
    "X = np.load(\"../array/MG_union_bond.npy\")\n",
    "X = (X + X.T)/2\n",
    "Y = lf.positive_map_np(X) / 1.5\n",
    "\n",
    "L = 2\n",
    "H = np.zeros((2**(3*L), 2**(3*L)), dtype=np.float64)\n",
    "for i in range(L):\n",
    "    H += f.l2nl(X, L, [i, (i+1)%L], sps = 8)    \n",
    "    \n",
    "H_abs = np.zeros((2**(3*L), 2**(3*L)), dtype=np.float64)\n",
    "for i in range(L):\n",
    "    H_abs += f.l2nl(Y, L, [i, (i+1)%L], sps = 8) \n",
    "    \n",
    "print(\"rate of ground state energy = \", np.linalg.eigvalsh(H_abs)[-1] / np.linalg.eigvalsh(H)[-1])\n",
    "np.save(\"../array/MG_union_abs1.npy\",Y)\n",
    "np.save(\"../array/MG_union_bond1.npy\", X)\n",
    "np.save(\"../array/exact_MG.npy\", np.linalg.eigvalsh(H))"
   ]
  },
  {
   "cell_type": "markdown",
   "id": "8a2d5445",
   "metadata": {},
   "source": [
    "### If I know the ground state 2"
   ]
  },
  {
   "cell_type": "code",
   "execution_count": 26,
   "id": "b415c78e",
   "metadata": {},
   "outputs": [
    {
     "name": "stdout",
     "output_type": "stream",
     "text": [
      "rate of ground state energy =  0.9999999999998589\n"
     ]
    }
   ],
   "source": [
    "X = np.load(\"../array/MG_union_rns_bond.npy\")\n",
    "X = (X + X.T)/2\n",
    "Y = lf.positive_map_np(X) / 1.3910870555241834\n",
    "L = 2\n",
    "H = np.zeros((2**(3*L), 2**(3*L)), dtype=np.float64)\n",
    "for i in range(L):\n",
    "    H += f.l2nl(X, L, [i, (i+1)%L], sps = 8)    \n",
    "    \n",
    "H_abs = np.zeros((2**(3*L), 2**(3*L)), dtype=np.float64)\n",
    "for i in range(L):\n",
    "    H_abs += f.l2nl(Y, L, [i, (i+1)%L], sps = 8) \n",
    "    \n",
    "print(\"rate of ground state energy = \", np.linalg.eigvalsh(H_abs)[-1] / np.linalg.eigvalsh(H)[-1])\n",
    "np.save(\"../array/MG_union_abs2.npy\",Y)\n",
    "np.save(\"../array/MG_union_bond2.npy\", X)"
   ]
  },
  {
   "cell_type": "code",
   "execution_count": 28,
   "id": "65aef630",
   "metadata": {},
   "outputs": [
    {
     "data": {
      "text/plain": [
       "array([2.98918909e-11, 3.14707371e-09, 5.36561134e-09, 2.90393727e-09,\n",
       "       6.00966979e-09, 1.09080330e-09, 5.44210290e-09, 6.33347839e-09,\n",
       "       6.02231238e-09, 2.48141027e-09, 3.54721045e-09, 2.28781947e-09,\n",
       "       8.72504716e-09, 4.84375093e-10, 7.68551875e-09, 3.89177907e-09,\n",
       "       1.91356861e-09, 1.39181926e-10, 8.47197533e-09, 7.81293483e-09,\n",
       "       7.46120997e-09, 4.31252283e-09, 4.14587736e-09, 4.29513180e-09,\n",
       "       4.06344265e-09, 4.79502975e-09, 1.28107267e-09, 2.39786564e-09,\n",
       "       4.06705685e-09, 8.68373812e-09, 8.88944799e-11, 1.91356861e-09,\n",
       "       9.46169760e-09, 7.84003421e-09, 2.48141027e-09, 2.28781947e-09,\n",
       "       7.46120997e-09, 4.06705685e-09, 1.39181926e-10, 4.31252283e-09,\n",
       "       4.06344265e-09, 7.77163187e-11, 8.72504716e-09, 8.68373812e-09,\n",
       "       8.47197533e-09, 4.14587736e-09, 2.98918909e-11, 8.88944799e-11,\n",
       "       4.29513180e-09, 4.79502975e-09, 6.00966979e-09, 3.54721045e-09,\n",
       "       5.36561134e-09, 5.44210290e-09, 7.81293483e-09, 3.14707371e-09,\n",
       "       6.33347839e-09, 4.84375093e-10, 9.46169760e-09, 1.28107267e-09,\n",
       "       2.39786564e-09, 6.02231238e-09, 7.68551875e-09, 3.89177907e-09,\n",
       "       7.77163187e-11, 2.90393727e-09, 1.09080330e-09, 7.84003421e-09])"
      ]
     },
     "execution_count": 28,
     "metadata": {},
     "output_type": "execute_result"
    }
   ],
   "source": [
    "Y[np.abs(Y) < 1E-8] = 0"
   ]
  },
  {
   "cell_type": "code",
   "execution_count": 3,
   "id": "0908bbab",
   "metadata": {},
   "outputs": [],
   "source": [
    "solver = optm.reweight_solver(X)\n",
    "optimizer = torch.optim.Adam(solver.parameters(), lr = 0.0012, weight_decay=0)"
   ]
  },
  {
   "cell_type": "code",
   "execution_count": null,
   "id": "933a8f91",
   "metadata": {},
   "outputs": [],
   "source": []
  },
  {
   "cell_type": "code",
   "execution_count": 253,
   "id": "88884320",
   "metadata": {
    "scrolled": true
   },
   "outputs": [
    {
     "name": "stdout",
     "output_type": "stream",
     "text": [
      "iteration :    0   loss : 2.31218\t delta : 2.31218\n",
      "iteration :  100   loss : 1.78413\t delta : 1.78413\n",
      "iteration :  200   loss : 1.38933\t delta : 1.38933\n",
      "iteration :  300   loss : 1.02431\t delta : 1.02431\n",
      "iteration :  400   loss : 0.72698\t delta : 0.72698\n",
      "iteration :  500   loss : 0.45968\t delta : 0.45968\n",
      "iteration :  600   loss : 0.21881\t delta : 0.21881\n",
      "iteration :  700   loss : 0.00000\t delta : 0.00000\n",
      "iteration :  800   loss : 0.00000\t delta : 0.00000\n",
      "iteration :  900   loss : 0.00000\t delta : 0.00000\n"
     ]
    }
   ],
   "source": [
    "E_t = solver.target\n",
    "for t in range(10**3):\n",
    "    Y = solver.matrix\n",
    "    optimizer.zero_grad()\n",
    "    loss, diff = lf.reweight_loss(Y, E_t, solver.X, lam = 0, prod = 0)\n",
    "    loss.backward()\n",
    "    optimizer.step()\n",
    "    if t % 100 == 0:\n",
    "        print(\"iteration : {:4d}   loss : {:.5f}\".format(t,loss.item()), end=\"\\t \")\n",
    "        print(\"delta : {:.5f}\".format(diff))\n",
    "    "
   ]
  },
  {
   "cell_type": "code",
   "execution_count": 244,
   "id": "463c4910",
   "metadata": {},
   "outputs": [
    {
     "data": {
      "text/plain": [
       "Parameter containing:\n",
       "tensor([ 1.1212,  0.7044,  0.0297,  0.0191,  0.2736, -0.0547, -0.1595, -0.2914,\n",
       "        -0.1737, -0.1559, -0.1997, -0.2699, -0.2280, -0.2707, -0.2982, -0.0546,\n",
       "         0.3705, -0.2046, -0.2305, -0.2793, -0.2335, -0.2792, -0.2745, -0.1635,\n",
       "        -0.2342, -0.2837, -0.2724, -0.1573, -0.2707, -0.1185,  0.1527,  0.4593,\n",
       "         0.6423,  0.1641, -0.2249, -0.3005, -0.1734, -0.2685, -0.2876, -0.2247,\n",
       "        -0.2315, -0.2446, -0.2366, -0.2361, -0.2878, -0.1794, -0.2198,  0.1816,\n",
       "        -0.0336, -0.1927, -0.2061, -0.2285, -0.2653, -0.2287, -0.1636,  0.0950,\n",
       "        -0.3033, -0.1513, -0.2028,  0.1128,  0.0142,  0.2725,  0.4936,  0.2548],\n",
       "       dtype=torch.float64, requires_grad=True)"
      ]
     },
     "execution_count": 244,
     "metadata": {},
     "output_type": "execute_result"
    }
   ],
   "source": [
    "solver._params"
   ]
  },
  {
   "cell_type": "code",
   "execution_count": 255,
   "id": "d5cec15e",
   "metadata": {},
   "outputs": [],
   "source": [
    "Y = np.array(Y.data)\n",
    "Y[np.abs(Y) < 1E-8] = 0\n",
    "np.save(\"../array/MG_reweight.npy\",Y)\n",
    "X[np.abs(X) < 1E-8] = 0\n",
    "np.save(\"../array/MG_reweight_ori.npy\",X)\n"
   ]
  },
  {
   "cell_type": "code",
   "execution_count": 321,
   "id": "ee709cc6",
   "metadata": {},
   "outputs": [],
   "source": [
    "X = np.load(\"../array/MG_union_rns_bond.npy\")\n",
    "X = (X + X.T)/2\n",
    "solver = optm.reweight_solver2(X)"
   ]
  },
  {
   "cell_type": "code",
   "execution_count": 322,
   "id": "df5820fa",
   "metadata": {},
   "outputs": [],
   "source": [
    "optimizer = torch.optim.Adam(solver.parameters(), lr = 0.0012, weight_decay=0)\n",
    "# optimizer = optmm.scheme1(solver.parameters(), gamma = 0.001)"
   ]
  },
  {
   "cell_type": "code",
   "execution_count": 323,
   "id": "448e6e97",
   "metadata": {
    "scrolled": true
   },
   "outputs": [
    {
     "name": "stdout",
     "output_type": "stream",
     "text": [
      "iteration :    0   loss : 41.98904\t delta : 0.87890\n",
      "iteration :  100   loss : 41.18868\t delta : 0.78890\n",
      "iteration :  200   loss : 41.03931\t delta : 0.71706\n",
      "iteration :  300   loss : 40.94940\t delta : 0.65600\n",
      "iteration :  400   loss : 40.89066\t delta : 0.60688\n",
      "iteration :  500   loss : 40.85002\t delta : 0.56934\n",
      "iteration :  600   loss : 40.82240\t delta : 0.54300\n",
      "iteration :  700   loss : 40.80581\t delta : 0.52848\n",
      "iteration :  800   loss : 40.79368\t delta : 0.51956\n",
      "iteration :  900   loss : 40.78442\t delta : 0.51410\n",
      "iteration : 1000   loss : 40.77786\t delta : 0.51196\n",
      "iteration : 1100   loss : 40.77237\t delta : 0.51073\n",
      "iteration : 1200   loss : 40.76813\t delta : 0.51045\n",
      "iteration : 1300   loss : 40.76522\t delta : 0.51166\n",
      "iteration : 1400   loss : 40.76283\t delta : 0.51284\n",
      "iteration : 1500   loss : 40.76078\t delta : 0.51381\n",
      "iteration : 1600   loss : 40.75903\t delta : 0.51472\n",
      "iteration : 1700   loss : 40.75754\t delta : 0.51561\n",
      "iteration : 1800   loss : 40.75626\t delta : 0.51645\n"
     ]
    },
    {
     "ename": "KeyboardInterrupt",
     "evalue": "",
     "output_type": "error",
     "traceback": [
      "\u001b[0;31m---------------------------------------------------------------------------\u001b[0m",
      "\u001b[0;31mKeyboardInterrupt\u001b[0m                         Traceback (most recent call last)",
      "\u001b[0;32m/var/folders/z7/m5qzz0hj12z06hxsn5km2c400000gn/T/ipykernel_32467/725157492.py\u001b[0m in \u001b[0;36m<module>\u001b[0;34m\u001b[0m\n\u001b[1;32m      4\u001b[0m     \u001b[0moptimizer\u001b[0m\u001b[0;34m.\u001b[0m\u001b[0mzero_grad\u001b[0m\u001b[0;34m(\u001b[0m\u001b[0;34m)\u001b[0m\u001b[0;34m\u001b[0m\u001b[0;34m\u001b[0m\u001b[0m\n\u001b[1;32m      5\u001b[0m     \u001b[0mloss\u001b[0m\u001b[0;34m,\u001b[0m \u001b[0mdiff\u001b[0m \u001b[0;34m=\u001b[0m \u001b[0mlf\u001b[0m\u001b[0;34m.\u001b[0m\u001b[0mreweight_loss\u001b[0m\u001b[0;34m(\u001b[0m\u001b[0mY\u001b[0m\u001b[0;34m,\u001b[0m \u001b[0mE_t\u001b[0m\u001b[0;34m,\u001b[0m \u001b[0msolver\u001b[0m\u001b[0;34m.\u001b[0m\u001b[0mX\u001b[0m\u001b[0;34m,\u001b[0m \u001b[0mlam\u001b[0m \u001b[0;34m=\u001b[0m \u001b[0;36m0.01\u001b[0m\u001b[0;34m,\u001b[0m \u001b[0mprod\u001b[0m \u001b[0;34m=\u001b[0m \u001b[0;36m1\u001b[0m\u001b[0;34m,\u001b[0m \u001b[0mtype_\u001b[0m \u001b[0;34m=\u001b[0m \u001b[0;36m2\u001b[0m\u001b[0;34m)\u001b[0m\u001b[0;34m\u001b[0m\u001b[0;34m\u001b[0m\u001b[0m\n\u001b[0;32m----> 6\u001b[0;31m     \u001b[0mloss\u001b[0m\u001b[0;34m.\u001b[0m\u001b[0mbackward\u001b[0m\u001b[0;34m(\u001b[0m\u001b[0;34m)\u001b[0m\u001b[0;34m\u001b[0m\u001b[0;34m\u001b[0m\u001b[0m\n\u001b[0m\u001b[1;32m      7\u001b[0m     \u001b[0moptimizer\u001b[0m\u001b[0;34m.\u001b[0m\u001b[0mstep\u001b[0m\u001b[0;34m(\u001b[0m\u001b[0;34m)\u001b[0m\u001b[0;34m\u001b[0m\u001b[0;34m\u001b[0m\u001b[0m\n\u001b[1;32m      8\u001b[0m     \u001b[0;32mif\u001b[0m \u001b[0mt\u001b[0m \u001b[0;34m%\u001b[0m \u001b[0;36m100\u001b[0m \u001b[0;34m==\u001b[0m \u001b[0;36m0\u001b[0m\u001b[0;34m:\u001b[0m\u001b[0;34m\u001b[0m\u001b[0;34m\u001b[0m\u001b[0m\n",
      "\u001b[0;32m~/miniconda3/envs/research/lib/python3.7/site-packages/torch/_tensor.py\u001b[0m in \u001b[0;36mbackward\u001b[0;34m(self, gradient, retain_graph, create_graph, inputs)\u001b[0m\n\u001b[1;32m    305\u001b[0m                 \u001b[0mcreate_graph\u001b[0m\u001b[0;34m=\u001b[0m\u001b[0mcreate_graph\u001b[0m\u001b[0;34m,\u001b[0m\u001b[0;34m\u001b[0m\u001b[0;34m\u001b[0m\u001b[0m\n\u001b[1;32m    306\u001b[0m                 inputs=inputs)\n\u001b[0;32m--> 307\u001b[0;31m         \u001b[0mtorch\u001b[0m\u001b[0;34m.\u001b[0m\u001b[0mautograd\u001b[0m\u001b[0;34m.\u001b[0m\u001b[0mbackward\u001b[0m\u001b[0;34m(\u001b[0m\u001b[0mself\u001b[0m\u001b[0;34m,\u001b[0m \u001b[0mgradient\u001b[0m\u001b[0;34m,\u001b[0m \u001b[0mretain_graph\u001b[0m\u001b[0;34m,\u001b[0m \u001b[0mcreate_graph\u001b[0m\u001b[0;34m,\u001b[0m \u001b[0minputs\u001b[0m\u001b[0;34m=\u001b[0m\u001b[0minputs\u001b[0m\u001b[0;34m)\u001b[0m\u001b[0;34m\u001b[0m\u001b[0;34m\u001b[0m\u001b[0m\n\u001b[0m\u001b[1;32m    308\u001b[0m \u001b[0;34m\u001b[0m\u001b[0m\n\u001b[1;32m    309\u001b[0m     \u001b[0;32mdef\u001b[0m \u001b[0mregister_hook\u001b[0m\u001b[0;34m(\u001b[0m\u001b[0mself\u001b[0m\u001b[0;34m,\u001b[0m \u001b[0mhook\u001b[0m\u001b[0;34m)\u001b[0m\u001b[0;34m:\u001b[0m\u001b[0;34m\u001b[0m\u001b[0;34m\u001b[0m\u001b[0m\n",
      "\u001b[0;32m~/miniconda3/envs/research/lib/python3.7/site-packages/torch/autograd/__init__.py\u001b[0m in \u001b[0;36mbackward\u001b[0;34m(tensors, grad_tensors, retain_graph, create_graph, grad_variables, inputs)\u001b[0m\n\u001b[1;32m    154\u001b[0m     Variable._execution_engine.run_backward(\n\u001b[1;32m    155\u001b[0m         \u001b[0mtensors\u001b[0m\u001b[0;34m,\u001b[0m \u001b[0mgrad_tensors_\u001b[0m\u001b[0;34m,\u001b[0m \u001b[0mretain_graph\u001b[0m\u001b[0;34m,\u001b[0m \u001b[0mcreate_graph\u001b[0m\u001b[0;34m,\u001b[0m \u001b[0minputs\u001b[0m\u001b[0;34m,\u001b[0m\u001b[0;34m\u001b[0m\u001b[0;34m\u001b[0m\u001b[0m\n\u001b[0;32m--> 156\u001b[0;31m         allow_unreachable=True, accumulate_grad=True)  # allow_unreachable flag\n\u001b[0m\u001b[1;32m    157\u001b[0m \u001b[0;34m\u001b[0m\u001b[0m\n\u001b[1;32m    158\u001b[0m \u001b[0;34m\u001b[0m\u001b[0m\n",
      "\u001b[0;31mKeyboardInterrupt\u001b[0m: "
     ]
    }
   ],
   "source": [
    "E_t = solver.target\n",
    "for t in range(3000):\n",
    "    Y = solver.matrix\n",
    "    optimizer.zero_grad()\n",
    "    loss, diff = lf.reweight_loss(Y, E_t, solver.X, lam = 0.01, prod = 1, type_ = 2)\n",
    "    loss.backward()\n",
    "    optimizer.step()\n",
    "    if t % 100 == 0:\n",
    "        print(\"iteration : {:4d}   loss : {:.5f}\".format(t,loss.item()), end=\"\\t \")\n",
    "        print(\"delta : {:.5f}\".format(diff))\n",
    "    "
   ]
  },
  {
   "cell_type": "code",
   "execution_count": 310,
   "id": "dc71b776",
   "metadata": {},
   "outputs": [],
   "source": [
    "Y = np.array(Y.data)\n",
    "Y[np.abs(Y) < 1E-8] = 0\n",
    "np.save(\"../array/MG_reweight2.npy\",Y)\n",
    "X[np.abs(X) < 1E-8] = 0\n",
    "np.save(\"../array/MG_reweight2_ori.npy\",X)"
   ]
  },
  {
   "cell_type": "code",
   "execution_count": 271,
   "id": "ebc4c86f",
   "metadata": {},
   "outputs": [],
   "source": [
    "X = np.load(\"../array/MG_union_bond.npy\")\n",
    "X = (X + X.T)/2\n",
    "solver = optm.reweight_solver3(X)"
   ]
  },
  {
   "cell_type": "code",
   "execution_count": 211,
   "id": "f42ec769",
   "metadata": {
    "scrolled": true
   },
   "outputs": [
    {
     "name": "stdout",
     "output_type": "stream",
     "text": [
      "iteration :    0   loss : 6.31825\t delta : 6.20764\n",
      "iteration :  100   loss : 5.40865\t delta : 5.28614\n",
      "iteration :  200   loss : 4.81843\t delta : 4.68148\n",
      "iteration :  300   loss : 4.29884\t delta : 4.14888\n",
      "iteration :  400   loss : 3.81432\t delta : 3.64934\n",
      "iteration :  500   loss : 3.36409\t delta : 3.18157\n",
      "iteration :  600   loss : 2.94006\t delta : 2.73787\n",
      "iteration :  700   loss : 2.53932\t delta : 2.31593\n",
      "iteration :  800   loss : 2.15896\t delta : 1.91114\n",
      "iteration :  900   loss : 1.80597\t delta : 1.52894\n",
      "iteration : 1000   loss : 1.50649\t delta : 1.20259\n",
      "iteration : 1100   loss : 1.26566\t delta : 0.93656\n",
      "iteration : 1200   loss : 1.06067\t delta : 0.70728\n",
      "iteration : 1300   loss : 0.89764\t delta : 0.52100\n",
      "iteration : 1400   loss : 0.75498\t delta : 0.35382\n",
      "iteration : 1500   loss : 0.63744\t delta : 0.21004\n",
      "iteration : 1600   loss : 0.53684\t delta : 0.07707\n",
      "iteration : 1700   loss : 0.47443\t delta : 0.00111\n",
      "iteration : 1800   loss : 0.46600\t delta : 0.00000\n",
      "iteration : 1900   loss : 0.46044\t delta : 0.00324\n",
      "iteration : 2000   loss : 0.45738\t delta : 0.00000\n",
      "iteration : 2100   loss : 0.45400\t delta : 0.00000\n",
      "iteration : 2200   loss : 0.45574\t delta : 0.00000\n",
      "iteration : 2300   loss : 0.45456\t delta : 0.00128\n",
      "iteration : 2400   loss : 0.45457\t delta : 0.00000\n",
      "iteration : 2500   loss : 0.45552\t delta : 0.00000\n",
      "iteration : 2600   loss : 0.45189\t delta : 0.00120\n"
     ]
    },
    {
     "ename": "KeyboardInterrupt",
     "evalue": "",
     "output_type": "error",
     "traceback": [
      "\u001b[0;31m---------------------------------------------------------------------------\u001b[0m",
      "\u001b[0;31mKeyboardInterrupt\u001b[0m                         Traceback (most recent call last)",
      "\u001b[0;32m/var/folders/z7/m5qzz0hj12z06hxsn5km2c400000gn/T/ipykernel_32467/3058656081.py\u001b[0m in \u001b[0;36m<module>\u001b[0;34m\u001b[0m\n\u001b[1;32m      5\u001b[0m     \u001b[0moptimizer\u001b[0m\u001b[0;34m.\u001b[0m\u001b[0mzero_grad\u001b[0m\u001b[0;34m(\u001b[0m\u001b[0;34m)\u001b[0m\u001b[0;34m\u001b[0m\u001b[0;34m\u001b[0m\u001b[0m\n\u001b[1;32m      6\u001b[0m     \u001b[0mloss\u001b[0m\u001b[0;34m,\u001b[0m \u001b[0mdiff\u001b[0m \u001b[0;34m=\u001b[0m \u001b[0mlf\u001b[0m\u001b[0;34m.\u001b[0m\u001b[0mreweight_loss\u001b[0m\u001b[0;34m(\u001b[0m\u001b[0mY\u001b[0m\u001b[0;34m,\u001b[0m \u001b[0mE_t\u001b[0m\u001b[0;34m,\u001b[0m \u001b[0msolver\u001b[0m\u001b[0;34m.\u001b[0m\u001b[0mX\u001b[0m\u001b[0;34m,\u001b[0m \u001b[0mlam\u001b[0m \u001b[0;34m=\u001b[0m \u001b[0;36m0.001\u001b[0m\u001b[0;34m,\u001b[0m \u001b[0mprod\u001b[0m \u001b[0;34m=\u001b[0m \u001b[0;36m0\u001b[0m\u001b[0;34m,\u001b[0m \u001b[0mtype_\u001b[0m \u001b[0;34m=\u001b[0m \u001b[0;36m0\u001b[0m\u001b[0;34m)\u001b[0m\u001b[0;34m\u001b[0m\u001b[0;34m\u001b[0m\u001b[0m\n\u001b[0;32m----> 7\u001b[0;31m     \u001b[0mloss\u001b[0m\u001b[0;34m.\u001b[0m\u001b[0mbackward\u001b[0m\u001b[0;34m(\u001b[0m\u001b[0;34m)\u001b[0m\u001b[0;34m\u001b[0m\u001b[0;34m\u001b[0m\u001b[0m\n\u001b[0m\u001b[1;32m      8\u001b[0m     \u001b[0moptimizer\u001b[0m\u001b[0;34m.\u001b[0m\u001b[0mstep\u001b[0m\u001b[0;34m(\u001b[0m\u001b[0;34m)\u001b[0m\u001b[0;34m\u001b[0m\u001b[0;34m\u001b[0m\u001b[0m\n\u001b[1;32m      9\u001b[0m     \u001b[0;32mif\u001b[0m \u001b[0mt\u001b[0m \u001b[0;34m%\u001b[0m \u001b[0;36m100\u001b[0m \u001b[0;34m==\u001b[0m \u001b[0;36m0\u001b[0m\u001b[0;34m:\u001b[0m\u001b[0;34m\u001b[0m\u001b[0;34m\u001b[0m\u001b[0m\n",
      "\u001b[0;32m~/miniconda3/envs/research/lib/python3.7/site-packages/torch/_tensor.py\u001b[0m in \u001b[0;36mbackward\u001b[0;34m(self, gradient, retain_graph, create_graph, inputs)\u001b[0m\n\u001b[1;32m    305\u001b[0m                 \u001b[0mcreate_graph\u001b[0m\u001b[0;34m=\u001b[0m\u001b[0mcreate_graph\u001b[0m\u001b[0;34m,\u001b[0m\u001b[0;34m\u001b[0m\u001b[0;34m\u001b[0m\u001b[0m\n\u001b[1;32m    306\u001b[0m                 inputs=inputs)\n\u001b[0;32m--> 307\u001b[0;31m         \u001b[0mtorch\u001b[0m\u001b[0;34m.\u001b[0m\u001b[0mautograd\u001b[0m\u001b[0;34m.\u001b[0m\u001b[0mbackward\u001b[0m\u001b[0;34m(\u001b[0m\u001b[0mself\u001b[0m\u001b[0;34m,\u001b[0m \u001b[0mgradient\u001b[0m\u001b[0;34m,\u001b[0m \u001b[0mretain_graph\u001b[0m\u001b[0;34m,\u001b[0m \u001b[0mcreate_graph\u001b[0m\u001b[0;34m,\u001b[0m \u001b[0minputs\u001b[0m\u001b[0;34m=\u001b[0m\u001b[0minputs\u001b[0m\u001b[0;34m)\u001b[0m\u001b[0;34m\u001b[0m\u001b[0;34m\u001b[0m\u001b[0m\n\u001b[0m\u001b[1;32m    308\u001b[0m \u001b[0;34m\u001b[0m\u001b[0m\n\u001b[1;32m    309\u001b[0m     \u001b[0;32mdef\u001b[0m \u001b[0mregister_hook\u001b[0m\u001b[0;34m(\u001b[0m\u001b[0mself\u001b[0m\u001b[0;34m,\u001b[0m \u001b[0mhook\u001b[0m\u001b[0;34m)\u001b[0m\u001b[0;34m:\u001b[0m\u001b[0;34m\u001b[0m\u001b[0;34m\u001b[0m\u001b[0m\n",
      "\u001b[0;32m~/miniconda3/envs/research/lib/python3.7/site-packages/torch/autograd/__init__.py\u001b[0m in \u001b[0;36mbackward\u001b[0;34m(tensors, grad_tensors, retain_graph, create_graph, grad_variables, inputs)\u001b[0m\n\u001b[1;32m    154\u001b[0m     Variable._execution_engine.run_backward(\n\u001b[1;32m    155\u001b[0m         \u001b[0mtensors\u001b[0m\u001b[0;34m,\u001b[0m \u001b[0mgrad_tensors_\u001b[0m\u001b[0;34m,\u001b[0m \u001b[0mretain_graph\u001b[0m\u001b[0;34m,\u001b[0m \u001b[0mcreate_graph\u001b[0m\u001b[0;34m,\u001b[0m \u001b[0minputs\u001b[0m\u001b[0;34m,\u001b[0m\u001b[0;34m\u001b[0m\u001b[0;34m\u001b[0m\u001b[0m\n\u001b[0;32m--> 156\u001b[0;31m         allow_unreachable=True, accumulate_grad=True)  # allow_unreachable flag\n\u001b[0m\u001b[1;32m    157\u001b[0m \u001b[0;34m\u001b[0m\u001b[0m\n\u001b[1;32m    158\u001b[0m \u001b[0;34m\u001b[0m\u001b[0m\n",
      "\u001b[0;31mKeyboardInterrupt\u001b[0m: "
     ]
    }
   ],
   "source": [
    "optimizer = torch.optim.Adam(solver.parameters(), lr = 0.0012, weight_decay=0)\n",
    "E_t = solver.target\n",
    "for t in range(10**4):\n",
    "    Y = solver.matrix\n",
    "    optimizer.zero_grad()\n",
    "    loss, diff = lf.reweight_loss(Y, E_t, solver.X, lam = 0.001, prod = 0, type_ = 0)\n",
    "    loss.backward()\n",
    "    optimizer.step()\n",
    "    if t % 100 == 0:\n",
    "        print(\"iteration : {:4d}   loss : {:.5f}\".format(t,loss.item()), end=\"\\t \")\n",
    "        print(\"delta : {:.5f}\".format(diff))\n",
    "    "
   ]
  },
  {
   "cell_type": "code",
   "execution_count": 212,
   "id": "5cba9798",
   "metadata": {},
   "outputs": [],
   "source": [
    "Y = np.array(Y.data)\n",
    "Y[Y < 1E-8] = 0\n",
    "np.save(\"../array/MG_reweight3.npy\",Y)\n",
    "X[np.abs(X) < 1E-8] = 0\n",
    "np.save(\"../array/MG_reweight3_ori.npy\",X)"
   ]
  },
  {
   "cell_type": "code",
   "execution_count": 219,
   "id": "2e036cdc",
   "metadata": {},
   "outputs": [
    {
     "data": {
      "text/plain": [
       "0.8888140795434099"
      ]
     },
     "execution_count": 219,
     "metadata": {},
     "output_type": "execute_result"
    }
   ],
   "source": [
    "EY = np.linalg.eigvalsh(Y.data)\n",
    "EX = np.linalg.eigvalsh(X.data)\n",
    "\n",
    "np.exp(EX).sum() / np.exp(EY).sum()"
   ]
  },
  {
   "cell_type": "code",
   "execution_count": 222,
   "id": "42e984b3",
   "metadata": {},
   "outputs": [
    {
     "data": {
      "text/plain": [
       "array([1.11551769, 0.56204556, 0.32855347, 0.30225631, 0.16581119,\n",
       "       0.15189786, 0.1380661 , 0.16770426, 0.15340152, 0.21122883,\n",
       "       0.21250688, 0.2177844 , 0.20050037, 0.20182089, 0.14387668,\n",
       "       0.30028006, 0.36214958, 0.14886978, 0.20341057, 0.20188606,\n",
       "       0.21472373, 0.20793637, 0.20283472, 0.15024733, 0.1396788 ,\n",
       "       0.19212188, 0.20282829, 0.20946463, 0.14388069, 0.15120215,\n",
       "       0.37091581, 0.43874344, 0.57131021, 0.37048926, 0.1486761 ,\n",
       "       0.1438847 , 0.21096139, 0.20286833, 0.19217128, 0.13627412,\n",
       "       0.15387374, 0.20288089, 0.20800944, 0.21106183, 0.20193677,\n",
       "       0.20177367, 0.14728428, 0.3250694 , 0.3041348 , 0.14389172,\n",
       "       0.2019065 , 0.19958041, 0.21781582, 0.21141558, 0.20933663,\n",
       "       0.37702547, 0.16772874, 0.1373965 , 0.15129395, 0.16440857,\n",
       "       0.30069904, 0.3624945 , 0.57816265, 1.11281675])"
      ]
     },
     "execution_count": 222,
     "metadata": {},
     "output_type": "execute_result"
    }
   ],
   "source": [
    "np.diag(Y)"
   ]
  },
  {
   "cell_type": "code",
   "execution_count": 223,
   "id": "ba62b81b",
   "metadata": {},
   "outputs": [
    {
     "data": {
      "text/plain": [
       "array([-1.125, -0.875, -0.375, -0.375,  0.125,  0.125,  0.125, -0.125,\n",
       "        0.125,  0.375,  0.375,  0.375,  0.375,  0.375, -0.125, -0.375,\n",
       "       -0.375, -0.125,  0.375,  0.375,  0.375,  0.375,  0.375,  0.125,\n",
       "        0.125,  0.375,  0.375,  0.375, -0.125, -0.125, -0.625, -0.875,\n",
       "       -0.875, -0.625, -0.125, -0.125,  0.375,  0.375,  0.375,  0.125,\n",
       "        0.125,  0.375,  0.375,  0.375,  0.375,  0.375, -0.125, -0.375,\n",
       "       -0.375, -0.125,  0.375,  0.375,  0.375,  0.375,  0.375,  0.125,\n",
       "       -0.125,  0.125,  0.125,  0.125, -0.375, -0.375, -0.875, -1.125])"
      ]
     },
     "execution_count": 223,
     "metadata": {},
     "output_type": "execute_result"
    }
   ],
   "source": [
    "np.diag(X)"
   ]
  },
  {
   "cell_type": "code",
   "execution_count": null,
   "id": "48b413ab",
   "metadata": {},
   "outputs": [],
   "source": []
  }
 ],
 "metadata": {
  "kernelspec": {
   "display_name": "Python 3 (ipykernel)",
   "language": "python",
   "name": "python3"
  },
  "language_info": {
   "codemirror_mode": {
    "name": "ipython",
    "version": 3
   },
   "file_extension": ".py",
   "mimetype": "text/x-python",
   "name": "python",
   "nbconvert_exporter": "python",
   "pygments_lexer": "ipython3",
   "version": "3.7.7"
  }
 },
 "nbformat": 4,
 "nbformat_minor": 5
}
