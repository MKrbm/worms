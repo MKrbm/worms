{
 "cells": [
  {
   "cell_type": "code",
   "execution_count": 2,
   "id": "d5acbe8b",
   "metadata": {},
   "outputs": [],
   "source": [
    "import numpy as np"
   ]
  },
  {
   "cell_type": "code",
   "execution_count": 3,
   "id": "6ac2ed97",
   "metadata": {},
   "outputs": [],
   "source": [
    "import numpy as np\n",
    "\n",
    "# Define the matrices A and B\n",
    "A = np.array([[2, 0, 0, 1],\n",
    "              [0, 1, 1, 1],\n",
    "              [0, 1, 2, 0],\n",
    "              [1, 1, 0, 1]])\n",
    "\n",
    "B = np.array([[0, 1, 0, 0],\n",
    "              [1, 0, 0, 0],\n",
    "              [0, 0, 0, 1],\n",
    "              [0, 0, 1, 0]])\n",
    "\n",
    "v = np.array([1, 1, 1, 1]).astype(np.float64)\n",
    "v /= np.linalg.norm(v)"
   ]
  },
  {
   "cell_type": "code",
   "execution_count": 4,
   "id": "76d833c8",
   "metadata": {},
   "outputs": [],
   "source": [
    "H = A - B"
   ]
  },
  {
   "cell_type": "code",
   "execution_count": 5,
   "id": "d1ac41cc",
   "metadata": {},
   "outputs": [
    {
     "data": {
      "text/plain": [
       "array([[ 2, -1,  0,  1],\n",
       "       [-1,  1,  1,  1],\n",
       "       [ 0,  1,  2, -1],\n",
       "       [ 1,  1, -1,  1]])"
      ]
     },
     "execution_count": 5,
     "metadata": {},
     "output_type": "execute_result"
    }
   ],
   "source": [
    "H"
   ]
  },
  {
   "cell_type": "code",
   "execution_count": 26,
   "id": "43d72580",
   "metadata": {},
   "outputs": [
    {
     "name": "stdout",
     "output_type": "stream",
     "text": [
      "Eigenvalues of A: [-0.41421356  1.          2.41421356  3.        ]\n",
      "Eigenvector of A+4I for leading eigenvalue: [0.5 0.5 0.5 0.5]\n",
      "Eigenvalues of H: [3.51339313 5.1        6.48660687 6.9       ]\n",
      "Eigenvalues of |H|: [3.6546376 4.9       6.3453624 7.1      ]\n"
     ]
    }
   ],
   "source": [
    "eigenvalues_A, eigenvectors_A = np.linalg.eigh(A)\n",
    "print(\"Eigenvalues of A:\", eigenvalues_A)\n",
    "\n",
    "# Ensure the eigenvector corresponding to the leading eigenvalue of A+4I is v = (1,1,1,1)\n",
    "I = np.eye(4)\n",
    "eigenvalues_A4I, eigenvectors_A4I = np.linalg.eigh(A + 4*I)\n",
    "print(\"Eigenvector of A+4I for leading eigenvalue:\", eigenvectors_A4I[:, -1])\n",
    "\n",
    "# Construct H = A - epsilon*B for a small epsilon\n",
    "epsilon = 0.1\n",
    "H = A + 4* I - epsilon * B\n",
    "\n",
    "# Ensure the largest eigenvalue of H is 7-epsilon\n",
    "eigenvalues_H, eigenvectors_H = np.linalg.eigh(H)\n",
    "print(\"Eigenvalues of H:\", eigenvalues_H)\n",
    "\n",
    "# Ensure the largest eigenvalue of |H| is 7+epsilon\n",
    "eigenvalues_abs_H, eigenvectors_abs_H = np.linalg.eigh(np.abs(H))\n",
    "print(\"Eigenvalues of |H|:\", eigenvalues_abs_H)\n"
   ]
  },
  {
   "cell_type": "code",
   "execution_count": 27,
   "id": "6db8abe5",
   "metadata": {},
   "outputs": [
    {
     "data": {
      "text/plain": [
       "array([[-0.25333074,  0.5       , -0.66016932,  0.5       ],\n",
       "       [-0.66016932, -0.5       ,  0.25333074,  0.5       ],\n",
       "       [ 0.25333074,  0.5       ,  0.66016932,  0.5       ],\n",
       "       [ 0.66016932, -0.5       , -0.25333074,  0.5       ]])"
      ]
     },
     "execution_count": 27,
     "metadata": {},
     "output_type": "execute_result"
    }
   ],
   "source": [
    "eigenvectors_abs_H"
   ]
  },
  {
   "cell_type": "code",
   "execution_count": 30,
   "id": "4d416937",
   "metadata": {},
   "outputs": [],
   "source": [
    "eigenvalues_B, eigenvectors_B = np.linalg.eigh(B)"
   ]
  },
  {
   "cell_type": "code",
   "execution_count": 32,
   "id": "20eaddb9",
   "metadata": {},
   "outputs": [
    {
     "data": {
      "text/plain": [
       "array([-1., -1.,  1.,  1.])"
      ]
     },
     "execution_count": 32,
     "metadata": {},
     "output_type": "execute_result"
    }
   ],
   "source": [
    "eigenvalues_B"
   ]
  }
 ],
 "metadata": {
  "kernelspec": {
   "display_name": "Python 3 (ipykernel)",
   "language": "python",
   "name": "python3"
  },
  "language_info": {
   "codemirror_mode": {
    "name": "ipython",
    "version": 3
   },
   "file_extension": ".py",
   "mimetype": "text/x-python",
   "name": "python",
   "nbconvert_exporter": "python",
   "pygments_lexer": "ipython3",
   "version": "3.9.18"
  }
 },
 "nbformat": 4,
 "nbformat_minor": 5
}
