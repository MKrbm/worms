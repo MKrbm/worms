{
 "cells": [
  {
   "cell_type": "code",
   "execution_count": 8,
   "id": "5ba4dd72",
   "metadata": {},
   "outputs": [],
   "source": [
    "import numpy as np\n",
    "from scipy import sparse\n",
    "import os\n",
    "import sys\n",
    "from lattice import KH"
   ]
  },
  {
   "cell_type": "code",
   "execution_count": 14,
   "id": "dfd55e54",
   "metadata": {},
   "outputs": [],
   "source": [
    "import rms\n",
    "u = np.load(\"array/torch/KH/3site/smel/Jx_1_Jy_1_Jz_1_hx_0_hz_0/e_300_lr_0.0001/loss_7.985455/u/0.npy\")\n",
    "H = KH.system([2,2], \"3site\", {\"Jx\" : 1, \"Jy\" : 1, \"Jz\" : 1, \"hx\" : 0, \"hz\" : 0})"
   ]
  },
  {
   "cell_type": "code",
   "execution_count": 43,
   "id": "e9bb4bc2",
   "metadata": {},
   "outputs": [],
   "source": [
    "U = np.kron(u,u)\n",
    "U = np.kron(U, U)"
   ]
  },
  {
   "cell_type": "code",
   "execution_count": 63,
   "id": "72933b66",
   "metadata": {},
   "outputs": [],
   "source": [
    "H_s = rms.stoquastic(H)\n",
    "H_u = rms.stoquastic(U @ H @ U.T)\n",
    "Es = np.linalg.eigvalsh(H)\n",
    "Es_s = np.linalg.eigvalsh(H_s)\n",
    "Es_u = np.linalg.eigvalsh(H_u)"
   ]
  },
  {
   "cell_type": "code",
   "execution_count": 47,
   "id": "e071e781",
   "metadata": {},
   "outputs": [],
   "source": [
    "T = 1\n",
    "b = 1 / T\n",
    "N = 12\n",
    "z = np.exp(-Es * b)\n",
    "z_s = np.exp(-Es_s * b)\n",
    "z_u = np.exp(-Es_u * b)\n",
    "e = (Es * z).sum() / z.sum() / N\n",
    "as_s = z.sum() / z_s.sum()\n",
    "as_u = z.sum() / z_u.sum()"
   ]
  },
  {
   "cell_type": "code",
   "execution_count": 93,
   "id": "901c32b3",
   "metadata": {},
   "outputs": [
    {
     "data": {
      "text/plain": [
       "0.6687333899279597"
      ]
     },
     "execution_count": 93,
     "metadata": {},
     "output_type": "execute_result"
    }
   ],
   "source": [
    "as_u"
   ]
  },
  {
   "cell_type": "code",
   "execution_count": 94,
   "id": "13c21bb8",
   "metadata": {},
   "outputs": [
    {
     "data": {
      "text/plain": [
       "0.6065030480402671"
      ]
     },
     "execution_count": 94,
     "metadata": {},
     "output_type": "execute_result"
    }
   ],
   "source": [
    "as_s"
   ]
  },
  {
   "cell_type": "code",
   "execution_count": 66,
   "id": "5f1b047b",
   "metadata": {},
   "outputs": [],
   "source": [
    "uu = np.kron(u,u)"
   ]
  },
  {
   "cell_type": "code",
   "execution_count": 77,
   "id": "95f62d0f",
   "metadata": {},
   "outputs": [],
   "source": [
    "H_list, sps = KH.local(\"3site\", {\"Jx\" : 1, \"Jy\" : 1, \"Jz\" : 1, \"hx\" : 0, \"hz\" : 0})\n",
    "H_list_u = [uu @ h @ uu.T for h in H_list]\n",
    "_bonds = [[0,0,2], [1,0,1], [2,0,3], [0,1,3], [1,1,0], [2,1,2], [0,2,0], [1,2,3], \n",
    "          [2,2,1], [0,3,1], [1,3,2], [2,3,0]]\n",
    "bonds = [[], [], []]\n",
    "for bond in _bonds:\n",
    "    bonds[bond[0]].append(bond[1:])\n",
    "_H_prime = rms.sum_ham(rms.stoquastic(H_list_u[0]), bonds[0], 4, 8)\n",
    "_H_prime += rms.sum_ham(rms.stoquastic(H_list_u[1]), bonds[1], 4, 8)\n",
    "_H_prime += rms.sum_ham(rms.stoquastic(H_list_u[2]), bonds[2], 4, 8)\n",
    "\n",
    "_H = rms.sum_ham(rms.stoquastic(H_list[0]), bonds[0], 4, 8)\n",
    "_H += rms.sum_ham(rms.stoquastic(H_list[1]), bonds[1], 4, 8)\n",
    "_H += rms.sum_ham(rms.stoquastic(H_list[2]), bonds[2], 4, 8)"
   ]
  },
  {
   "cell_type": "code",
   "execution_count": 78,
   "id": "e20b0025",
   "metadata": {},
   "outputs": [],
   "source": [
    "Es_u_prime = np.linalg.eigvalsh(_H_prime)\n",
    "Es_prime = np.linalg.eigvalsh(_H)"
   ]
  },
  {
   "cell_type": "code",
   "execution_count": 75,
   "id": "20865a15",
   "metadata": {},
   "outputs": [
    {
     "data": {
      "text/plain": [
       "0.19211443420014157"
      ]
     },
     "execution_count": 75,
     "metadata": {},
     "output_type": "execute_result"
    }
   ],
   "source": [
    "z_u_prime = np.exp(-Es_u_prime * b)\n",
    "z.sum() / z_u_prime.sum()"
   ]
  },
  {
   "cell_type": "code",
   "execution_count": 79,
   "id": "7f04828a",
   "metadata": {},
   "outputs": [
    {
     "data": {
      "text/plain": [
       "0.606503048040265"
      ]
     },
     "execution_count": 79,
     "metadata": {},
     "output_type": "execute_result"
    }
   ],
   "source": [
    "z_prime = np.exp(-Es_prime * b)\n",
    "z.sum() / z_prime.sum()"
   ]
  },
  {
   "cell_type": "code",
   "execution_count": 87,
   "id": "5fc021c9",
   "metadata": {},
   "outputs": [
    {
     "data": {
      "text/plain": [
       "-0.6701176359303238"
      ]
     },
     "execution_count": 87,
     "metadata": {},
     "output_type": "execute_result"
    }
   ],
   "source": [
    "(z * Es).sum() / z_u_prime.sum()"
   ]
  },
  {
   "cell_type": "code",
   "execution_count": 95,
   "id": "c3f6ec16",
   "metadata": {},
   "outputs": [
    {
     "name": "stdout",
     "output_type": "stream",
     "text": [
      "[ 4.99999958e-01  2.07671048e-05 -7.78765940e-05  1.32278394e-05\n",
      "  8.72844063e-06  1.37086278e-05  3.23666405e-05  6.34037392e-05\n",
      "  4.57617393e-05 -2.73078495e-06 -5.67486319e-09  4.48463818e-05\n",
      " -4.37487333e-05 -4.48410655e-05 -4.37668907e-05  2.97221167e-08\n",
      " -1.59977251e-05  3.50715636e-09  3.31414709e-09 -7.21470773e-09\n",
      "  4.48542218e-05  3.92646493e-09 -4.48432480e-05  8.16428776e-09\n",
      " -8.39122247e-06  2.56971854e-11  4.87510773e-09 -5.75761201e-10\n",
      "  1.71748370e-11  2.71547364e-10  8.08736938e-10 -4.99577158e-09\n",
      "  2.63845482e-05 -1.19367564e-09 -1.22957199e-09  9.01080485e-10\n",
      " -1.66485128e-05  3.19303403e-10  1.66479071e-05 -3.03227874e-09\n",
      "  3.53200256e-05  5.13030888e-10 -5.82953743e-09 -8.24110684e-09\n",
      "  8.93114892e-09  8.60387391e-09  7.50697437e-09  5.96912612e-09\n",
      "  1.47120875e-05 -1.19404960e-09 -1.03409468e-09  3.96751828e-09\n",
      " -1.39275342e-05 -2.94610778e-09  1.39207562e-05 -2.52855635e-09\n",
      "  6.34097999e-05  4.55324922e-10 -1.56983327e-08 -6.97449271e-09\n",
      "  1.56373378e-08  7.95262837e-09 -1.06883757e-09  1.60840015e-08]\n"
     ]
    }
   ],
   "source": [
    "print(H_list_u[0][0])"
   ]
  },
  {
   "cell_type": "code",
   "execution_count": 80,
   "id": "d7170494",
   "metadata": {},
   "outputs": [
    {
     "data": {
      "text/plain": [
       "-0.2906764218942057"
      ]
     },
     "execution_count": 80,
     "metadata": {},
     "output_type": "execute_result"
    }
   ],
   "source": [
    "e"
   ]
  },
  {
   "cell_type": "code",
   "execution_count": null,
   "id": "ef078f2c",
   "metadata": {},
   "outputs": [],
   "source": []
  }
 ],
 "metadata": {
  "kernelspec": {
   "display_name": "Python 3 (ipykernel)",
   "language": "python",
   "name": "python3"
  },
  "language_info": {
   "codemirror_mode": {
    "name": "ipython",
    "version": 3
   },
   "file_extension": ".py",
   "mimetype": "text/x-python",
   "name": "python",
   "nbconvert_exporter": "python",
   "pygments_lexer": "ipython3",
   "version": "3.9.16"
  }
 },
 "nbformat": 4,
 "nbformat_minor": 5
}
