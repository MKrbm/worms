{
 "cells": [
  {
   "cell_type": "code",
   "execution_count": 1,
   "id": "5ba4dd72",
   "metadata": {},
   "outputs": [],
   "source": [
    "import numpy as np\n",
    "from scipy import sparse\n",
    "import os\n",
    "import sys\n",
    "sys.path.insert(0, \"../nsp\") \n",
    "from nsp.utils.func import *\n",
    "from nsp.utils.print import beauty_array\n",
    "from header import *\n",
    "import argparse\n",
    "\n",
    "\n",
    "\n",
    "Sz = np.zeros([2,2])\n",
    "Sz[0,0] = 1/2\n",
    "Sz[1,1] = -1/2\n",
    "Sx = np.zeros([2,2])\n",
    "Sx[1,0] = 1/2\n",
    "Sx[0,1] = 1/2\n",
    "Sy = np.zeros([2,2], dtype=np.complex64)\n",
    "Sy[1,0] = 1j/2\n",
    "Sy[0,1] = -1j/2\n",
    "\n",
    "\n",
    "SzSz = np.kron(Sz,Sz).real.astype(np.float64)\n",
    "SxSx = np.kron(Sx,Sx).real.astype(np.float64)\n",
    "SySy = np.kron(Sy,Sy).real.astype(np.float64)\n",
    "\n",
    "lh = SzSz + SxSx + SySy\n",
    "\n",
    "lh = -lh # use minus of local hamiltonian for monte-carlo (exp(-beta H ))\n",
    "bonds = [[0,1], [0, 2], [1, 2]]\n",
    "lh2 = sum_ham(lh, bonds, 3, 2)\n",
    "LH = sum_ham(lh2/2, [[0,1,2], [3, 4, 5]], 6, 2) + sum_ham(lh2, [[1, 2, 3], [2, 3, 4]], 6, 2)\n",
    "\n",
    "D = 8\n",
    "L = 4\n",
    "models = [nsp.model.UnitaryRiemanGenerator(D, dtype=torch.float64) for _ in range(L)]\n",
    "model = copy.deepcopy(models[0])\n",
    "loss = nsp.loss.MES(torch.Tensor(LH), [D,D], inv = model._inv)\n",
    "\n",
    "\n",
    "# set_seed(33244233)\n",
    "# X = LH\n",
    "loss_mes = nsp.loss.MES(LH, [D, D])\n",
    "t = 0.001\n",
    "ret_min_grad = 1e10"
   ]
  },
  {
   "cell_type": "code",
   "execution_count": 2,
   "id": "b29d0e26",
   "metadata": {
    "collapsed": true
   },
   "outputs": [
    {
     "name": "stdout",
     "output_type": "stream",
     "text": [
      "number of models is :  4\n",
      "dtype changes from torch.float32 to torch.float64\n",
      "dtype changes from torch.float64 to torch.float32\n",
      "target loss      : 18.0000152588\n",
      "initial loss     : 41.5219192111\n",
      "loss upper bound : 22.5461502075\n",
      "\n",
      "================================================== \n",
      "\n"
     ]
    },
    {
     "data": {
      "application/vnd.jupyter.widget-view+json": {
       "model_id": "3df8ef360f0a4ceeb93dd0817bcc74d8",
       "version_major": 2,
       "version_minor": 0
      },
      "text/plain": [
       "  0%|          | 0/10000 [00:00<?, ?it/s]"
      ]
     },
     "metadata": {},
     "output_type": "display_data"
    },
    {
     "name": "stdout",
     "output_type": "stream",
     "text": [
      "dtype changes from torch.float32 to torch.float64\n"
     ]
    },
    {
     "name": "stderr",
     "output_type": "stream",
     "text": [
      "/home/user/project/python/exact/../nsp/nsp/optim/rieman_nontrans_unitary_optim.py:262: UserWarning: An output with one or more elements was resized since it had shape [1, 8, 8], which does not match the required output shape [1, 1, 8, 8]. This behavior is deprecated, and in a future PyTorch release outputs will not be resized unless they have zero elements. You can explicitly reuse an out tensor t by resizing it, inplace, to zero elements with t.resize_(0). (Triggered internally at  ../aten/src/ATen/native/Resize.cpp:17.)\n",
      "  U_list.append(torch.matrix_exp(-t*H)@U)\n",
      "/home/user/project/python/exact/../nsp/nsp/optim/rieman_nontrans_unitary_optim.py:347: UserWarning: An output with one or more elements was resized since it had shape [1, 8, 8], which does not match the required output shape [1, 1, 8, 8]. This behavior is deprecated, and in a future PyTorch release outputs will not be resized unless they have zero elements. You can explicitly reuse an out tensor t by resizing it, inplace, to zero elements with t.resize_(0). (Triggered internally at  ../aten/src/ATen/native/Resize.cpp:17.)\n",
      "  param.data = (torch.matrix_exp(inv_step_dir * -lr) @ U).view(-1)\n"
     ]
    },
    {
     "name": "stdout",
     "output_type": "stream",
     "text": [
      "stack in local minimum --> break loop\n",
      "\n",
      "best_fun : 21.680960661057107\n",
      "\n",
      "number of models is :  4\n",
      "dtype changes from torch.float64 to torch.float32\n",
      "target loss      : 18.0000152588\n",
      "initial loss     : 41.6440862441\n",
      "loss upper bound : 22.5461502075\n",
      "\n",
      "================================================== \n",
      "\n"
     ]
    },
    {
     "data": {
      "application/vnd.jupyter.widget-view+json": {
       "model_id": "8aa34a0515cc488c9a3a04afbb4150a7",
       "version_major": 2,
       "version_minor": 0
      },
      "text/plain": [
       "  0%|          | 0/10000 [00:00<?, ?it/s]"
      ]
     },
     "metadata": {},
     "output_type": "display_data"
    },
    {
     "name": "stdout",
     "output_type": "stream",
     "text": [
      "dtype changes from torch.float32 to torch.float64\n",
      "stack in local minimum --> break loop\n",
      "\n",
      "best_fun : 21.525749259533683\n",
      "\n",
      "number of models is :  4\n",
      "dtype changes from torch.float64 to torch.float32\n",
      "target loss      : 18.0000152588\n",
      "initial loss     : 39.9794972756\n",
      "loss upper bound : 22.5461502075\n",
      "\n",
      "================================================== \n",
      "\n"
     ]
    },
    {
     "data": {
      "application/vnd.jupyter.widget-view+json": {
       "model_id": "75c1b2a9324a49129a572691787203f7",
       "version_major": 2,
       "version_minor": 0
      },
      "text/plain": [
       "  0%|          | 0/10000 [00:00<?, ?it/s]"
      ]
     },
     "metadata": {},
     "output_type": "display_data"
    },
    {
     "name": "stdout",
     "output_type": "stream",
     "text": [
      "dtype changes from torch.float32 to torch.float64\n",
      "stack in local minimum --> break loop\n",
      "number of models is :  4\n",
      "dtype changes from torch.float64 to torch.float32\n",
      "target loss      : 18.0000152588\n",
      "initial loss     : 41.0171748509\n",
      "loss upper bound : 22.5461502075\n",
      "\n",
      "================================================== \n",
      "\n"
     ]
    },
    {
     "data": {
      "application/vnd.jupyter.widget-view+json": {
       "model_id": "0ac31ccf083f427eb03b179e2dc8b507",
       "version_major": 2,
       "version_minor": 0
      },
      "text/plain": [
       "  0%|          | 0/10000 [00:00<?, ?it/s]"
      ]
     },
     "metadata": {},
     "output_type": "display_data"
    },
    {
     "name": "stdout",
     "output_type": "stream",
     "text": [
      "dtype changes from torch.float32 to torch.float64\n",
      "stack in local minimum --> break loop\n",
      "\n",
      "best_fun : 20.599571986562296\n",
      "\n",
      "number of models is :  4\n",
      "dtype changes from torch.float64 to torch.float32\n",
      "target loss      : 18.0000152588\n",
      "initial loss     : 40.8294731594\n",
      "loss upper bound : 22.5461502075\n",
      "\n",
      "================================================== \n",
      "\n"
     ]
    },
    {
     "data": {
      "application/vnd.jupyter.widget-view+json": {
       "model_id": "1fe0bbae8a874c41a5d33b5fd5d6c393",
       "version_major": 2,
       "version_minor": 0
      },
      "text/plain": [
       "  0%|          | 0/10000 [00:00<?, ?it/s]"
      ]
     },
     "metadata": {},
     "output_type": "display_data"
    },
    {
     "name": "stdout",
     "output_type": "stream",
     "text": [
      "dtype changes from torch.float32 to torch.float64\n",
      "stack in local minimum --> break loop\n",
      "number of models is :  4\n",
      "dtype changes from torch.float64 to torch.float32\n",
      "target loss      : 18.0000152588\n",
      "initial loss     : 40.0747775048\n",
      "loss upper bound : 22.5461502075\n",
      "\n",
      "================================================== \n",
      "\n"
     ]
    },
    {
     "data": {
      "application/vnd.jupyter.widget-view+json": {
       "model_id": "86a06499f63e45cd88d0947fd1bf0cd2",
       "version_major": 2,
       "version_minor": 0
      },
      "text/plain": [
       "  0%|          | 0/10000 [00:00<?, ?it/s]"
      ]
     },
     "metadata": {},
     "output_type": "display_data"
    },
    {
     "name": "stdout",
     "output_type": "stream",
     "text": [
      "dtype changes from torch.float32 to torch.float64\n",
      "stack in local minimum --> break loop\n",
      "number of models is :  4\n",
      "dtype changes from torch.float64 to torch.float32\n",
      "target loss      : 18.0000152588\n",
      "initial loss     : 40.6776999378\n",
      "loss upper bound : 22.5461502075\n",
      "\n",
      "================================================== \n",
      "\n"
     ]
    },
    {
     "data": {
      "application/vnd.jupyter.widget-view+json": {
       "model_id": "e23d911d6d224933bb05120925e9593c",
       "version_major": 2,
       "version_minor": 0
      },
      "text/plain": [
       "  0%|          | 0/10000 [00:00<?, ?it/s]"
      ]
     },
     "metadata": {},
     "output_type": "display_data"
    },
    {
     "name": "stdout",
     "output_type": "stream",
     "text": [
      "dtype changes from torch.float32 to torch.float64\n",
      "stack in local minimum --> break loop\n",
      "number of models is :  4\n",
      "dtype changes from torch.float64 to torch.float32\n",
      "target loss      : 18.0000152588\n",
      "initial loss     : 41.2820180989\n",
      "loss upper bound : 22.5461502075\n",
      "\n",
      "================================================== \n",
      "\n"
     ]
    },
    {
     "data": {
      "application/vnd.jupyter.widget-view+json": {
       "model_id": "7c778497579d47e18bb9afc592323e15",
       "version_major": 2,
       "version_minor": 0
      },
      "text/plain": [
       "  0%|          | 0/10000 [00:00<?, ?it/s]"
      ]
     },
     "metadata": {},
     "output_type": "display_data"
    },
    {
     "name": "stdout",
     "output_type": "stream",
     "text": [
      "dtype changes from torch.float32 to torch.float64\n",
      "stack in local minimum --> break loop\n",
      "number of models is :  4\n",
      "dtype changes from torch.float64 to torch.float32\n",
      "target loss      : 18.0000152588\n",
      "initial loss     : 41.7256388040\n",
      "loss upper bound : 22.5461502075\n",
      "\n",
      "================================================== \n",
      "\n"
     ]
    },
    {
     "data": {
      "application/vnd.jupyter.widget-view+json": {
       "model_id": "fd9fdfeea61a485e9180571c00162fc9",
       "version_major": 2,
       "version_minor": 0
      },
      "text/plain": [
       "  0%|          | 0/10000 [00:00<?, ?it/s]"
      ]
     },
     "metadata": {},
     "output_type": "display_data"
    },
    {
     "name": "stdout",
     "output_type": "stream",
     "text": [
      "dtype changes from torch.float32 to torch.float64\n",
      "stack in local minimum --> break loop\n",
      "number of models is :  4\n",
      "dtype changes from torch.float64 to torch.float32\n",
      "target loss      : 18.0000152588\n",
      "initial loss     : 40.5379406227\n",
      "loss upper bound : 22.5461502075\n",
      "\n",
      "================================================== \n",
      "\n"
     ]
    },
    {
     "data": {
      "application/vnd.jupyter.widget-view+json": {
       "model_id": "91bb58c6af6f4443b12bffdd6869ff8f",
       "version_major": 2,
       "version_minor": 0
      },
      "text/plain": [
       "  0%|          | 0/10000 [00:00<?, ?it/s]"
      ]
     },
     "metadata": {},
     "output_type": "display_data"
    },
    {
     "name": "stdout",
     "output_type": "stream",
     "text": [
      "dtype changes from torch.float32 to torch.float64\n",
      "stack in local minimum --> break loop\n",
      "number of models is :  4\n",
      "dtype changes from torch.float64 to torch.float32\n",
      "target loss      : 18.0000152588\n",
      "initial loss     : 40.6917247437\n",
      "loss upper bound : 22.5461502075\n",
      "\n",
      "================================================== \n",
      "\n"
     ]
    },
    {
     "data": {
      "application/vnd.jupyter.widget-view+json": {
       "model_id": "7748c7cb6a3140209f69295b4a78ca82",
       "version_major": 2,
       "version_minor": 0
      },
      "text/plain": [
       "  0%|          | 0/10000 [00:00<?, ?it/s]"
      ]
     },
     "metadata": {},
     "output_type": "display_data"
    },
    {
     "name": "stdout",
     "output_type": "stream",
     "text": [
      "dtype changes from torch.float32 to torch.float64\n",
      "stack in local minimum --> break loop\n",
      "number of models is :  4\n",
      "dtype changes from torch.float64 to torch.float32\n",
      "target loss      : 18.0000152588\n",
      "initial loss     : 41.6760710017\n",
      "loss upper bound : 22.5461502075\n",
      "\n",
      "================================================== \n",
      "\n"
     ]
    },
    {
     "data": {
      "application/vnd.jupyter.widget-view+json": {
       "model_id": "2c63d558a2114da1a6111ec5452d0087",
       "version_major": 2,
       "version_minor": 0
      },
      "text/plain": [
       "  0%|          | 0/10000 [00:00<?, ?it/s]"
      ]
     },
     "metadata": {},
     "output_type": "display_data"
    },
    {
     "name": "stdout",
     "output_type": "stream",
     "text": [
      "dtype changes from torch.float32 to torch.float64\n",
      "stack in local minimum --> break loop\n",
      "number of models is :  4\n",
      "dtype changes from torch.float64 to torch.float32\n",
      "target loss      : 18.0000152588\n",
      "initial loss     : 41.0945958644\n",
      "loss upper bound : 22.5461502075\n",
      "\n",
      "================================================== \n",
      "\n"
     ]
    },
    {
     "data": {
      "application/vnd.jupyter.widget-view+json": {
       "model_id": "9e5a031ca9fd47f4abf68f776c9d5e91",
       "version_major": 2,
       "version_minor": 0
      },
      "text/plain": [
       "  0%|          | 0/10000 [00:00<?, ?it/s]"
      ]
     },
     "metadata": {},
     "output_type": "display_data"
    },
    {
     "name": "stdout",
     "output_type": "stream",
     "text": [
      "dtype changes from torch.float32 to torch.float64\n",
      "stack in local minimum --> break loop\n",
      "number of models is :  4\n",
      "dtype changes from torch.float64 to torch.float32\n",
      "target loss      : 18.0000152588\n",
      "initial loss     : 40.5916132253\n",
      "loss upper bound : 22.5461502075\n",
      "\n",
      "================================================== \n",
      "\n"
     ]
    },
    {
     "data": {
      "application/vnd.jupyter.widget-view+json": {
       "model_id": "60f3aeeaca80463386b12ebc45de7516",
       "version_major": 2,
       "version_minor": 0
      },
      "text/plain": [
       "  0%|          | 0/10000 [00:00<?, ?it/s]"
      ]
     },
     "metadata": {},
     "output_type": "display_data"
    },
    {
     "name": "stdout",
     "output_type": "stream",
     "text": [
      "dtype changes from torch.float32 to torch.float64\n",
      "stack in local minimum --> break loop\n",
      "number of models is :  4\n",
      "dtype changes from torch.float64 to torch.float32\n",
      "target loss      : 18.0000152588\n",
      "initial loss     : 42.2652988077\n",
      "loss upper bound : 22.5461502075\n",
      "\n",
      "================================================== \n",
      "\n"
     ]
    },
    {
     "data": {
      "application/vnd.jupyter.widget-view+json": {
       "model_id": "d5987fee0878430290729b12e70e1f83",
       "version_major": 2,
       "version_minor": 0
      },
      "text/plain": [
       "  0%|          | 0/10000 [00:00<?, ?it/s]"
      ]
     },
     "metadata": {},
     "output_type": "display_data"
    },
    {
     "name": "stdout",
     "output_type": "stream",
     "text": [
      "dtype changes from torch.float32 to torch.float64\n",
      "stack in local minimum --> break loop\n",
      "number of models is :  4\n",
      "dtype changes from torch.float64 to torch.float32\n",
      "target loss      : 18.0000152588\n",
      "initial loss     : 41.5705115214\n",
      "loss upper bound : 22.5461502075\n",
      "\n",
      "================================================== \n",
      "\n"
     ]
    },
    {
     "data": {
      "application/vnd.jupyter.widget-view+json": {
       "model_id": "ac6371ef6640403c92c46e05bb20472f",
       "version_major": 2,
       "version_minor": 0
      },
      "text/plain": [
       "  0%|          | 0/10000 [00:00<?, ?it/s]"
      ]
     },
     "metadata": {},
     "output_type": "display_data"
    },
    {
     "name": "stdout",
     "output_type": "stream",
     "text": [
      "dtype changes from torch.float32 to torch.float64\n",
      "stack in local minimum --> break loop\n",
      "number of models is :  4\n",
      "dtype changes from torch.float64 to torch.float32\n",
      "target loss      : 18.0000152588\n",
      "initial loss     : 39.3501902889\n",
      "loss upper bound : 22.5461502075\n",
      "\n",
      "================================================== \n",
      "\n"
     ]
    },
    {
     "data": {
      "application/vnd.jupyter.widget-view+json": {
       "model_id": "17ae6e557a9e4488bc143503c35466b3",
       "version_major": 2,
       "version_minor": 0
      },
      "text/plain": [
       "  0%|          | 0/10000 [00:00<?, ?it/s]"
      ]
     },
     "metadata": {},
     "output_type": "display_data"
    },
    {
     "name": "stdout",
     "output_type": "stream",
     "text": [
      "dtype changes from torch.float32 to torch.float64\n",
      "stack in local minimum --> break loop\n",
      "number of models is :  4\n",
      "dtype changes from torch.float64 to torch.float32\n",
      "target loss      : 18.0000152588\n",
      "initial loss     : 41.7255475583\n",
      "loss upper bound : 22.5461502075\n",
      "\n",
      "================================================== \n",
      "\n"
     ]
    },
    {
     "data": {
      "application/vnd.jupyter.widget-view+json": {
       "model_id": "832ef2faa5ca45908a924edd6af2a852",
       "version_major": 2,
       "version_minor": 0
      },
      "text/plain": [
       "  0%|          | 0/10000 [00:00<?, ?it/s]"
      ]
     },
     "metadata": {},
     "output_type": "display_data"
    },
    {
     "name": "stdout",
     "output_type": "stream",
     "text": [
      "dtype changes from torch.float32 to torch.float64\n",
      "stack in local minimum --> break loop\n",
      "number of models is :  4\n",
      "dtype changes from torch.float64 to torch.float32\n",
      "target loss      : 18.0000152588\n",
      "initial loss     : 41.0465539154\n",
      "loss upper bound : 22.5461502075\n",
      "\n",
      "================================================== \n",
      "\n"
     ]
    },
    {
     "data": {
      "application/vnd.jupyter.widget-view+json": {
       "model_id": "de2668770425418585f978f2b2058892",
       "version_major": 2,
       "version_minor": 0
      },
      "text/plain": [
       "  0%|          | 0/10000 [00:00<?, ?it/s]"
      ]
     },
     "metadata": {},
     "output_type": "display_data"
    },
    {
     "name": "stdout",
     "output_type": "stream",
     "text": [
      "dtype changes from torch.float32 to torch.float64\n",
      "stack in local minimum --> break loop\n",
      "number of models is :  4\n",
      "dtype changes from torch.float64 to torch.float32\n",
      "target loss      : 18.0000152588\n",
      "initial loss     : 40.8315153800\n",
      "loss upper bound : 22.5461502075\n",
      "\n",
      "================================================== \n",
      "\n"
     ]
    },
    {
     "data": {
      "application/vnd.jupyter.widget-view+json": {
       "model_id": "86833052f08a49008288f43adeec02da",
       "version_major": 2,
       "version_minor": 0
      },
      "text/plain": [
       "  0%|          | 0/10000 [00:00<?, ?it/s]"
      ]
     },
     "metadata": {},
     "output_type": "display_data"
    },
    {
     "name": "stdout",
     "output_type": "stream",
     "text": [
      "dtype changes from torch.float32 to torch.float64\n",
      "stack in local minimum --> break loop\n",
      "number of models is :  4\n",
      "dtype changes from torch.float64 to torch.float32\n",
      "target loss      : 18.0000152588\n",
      "initial loss     : 41.4692426920\n",
      "loss upper bound : 22.5461502075\n",
      "\n",
      "================================================== \n",
      "\n"
     ]
    },
    {
     "data": {
      "application/vnd.jupyter.widget-view+json": {
       "model_id": "bb72be642f894939a57234b915949125",
       "version_major": 2,
       "version_minor": 0
      },
      "text/plain": [
       "  0%|          | 0/10000 [00:00<?, ?it/s]"
      ]
     },
     "metadata": {},
     "output_type": "display_data"
    },
    {
     "name": "stdout",
     "output_type": "stream",
     "text": [
      "dtype changes from torch.float32 to torch.float64\n",
      "stack in local minimum --> break loop\n",
      "number of models is :  4\n",
      "dtype changes from torch.float64 to torch.float32\n",
      "target loss      : 18.0000152588\n",
      "initial loss     : 40.6723230324\n",
      "loss upper bound : 22.5461502075\n",
      "\n",
      "================================================== \n",
      "\n"
     ]
    },
    {
     "data": {
      "application/vnd.jupyter.widget-view+json": {
       "model_id": "a6bd2d0e0f924722912fc40fbbc0eb77",
       "version_major": 2,
       "version_minor": 0
      },
      "text/plain": [
       "  0%|          | 0/10000 [00:00<?, ?it/s]"
      ]
     },
     "metadata": {},
     "output_type": "display_data"
    },
    {
     "name": "stdout",
     "output_type": "stream",
     "text": [
      "dtype changes from torch.float32 to torch.float64\n",
      "stack in local minimum --> break loop\n",
      "number of models is :  4\n",
      "dtype changes from torch.float64 to torch.float32\n",
      "target loss      : 18.0000152588\n",
      "initial loss     : 41.5835174267\n",
      "loss upper bound : 22.5461502075\n",
      "\n",
      "================================================== \n",
      "\n"
     ]
    },
    {
     "data": {
      "application/vnd.jupyter.widget-view+json": {
       "model_id": "929b626e56bc4aba80867cdf3080517f",
       "version_major": 2,
       "version_minor": 0
      },
      "text/plain": [
       "  0%|          | 0/10000 [00:00<?, ?it/s]"
      ]
     },
     "metadata": {},
     "output_type": "display_data"
    },
    {
     "name": "stdout",
     "output_type": "stream",
     "text": [
      "dtype changes from torch.float32 to torch.float64\n",
      "stack in local minimum --> break loop\n",
      "number of models is :  4\n",
      "dtype changes from torch.float64 to torch.float32\n",
      "target loss      : 18.0000152588\n",
      "initial loss     : 40.7369527151\n",
      "loss upper bound : 22.5461502075\n",
      "\n",
      "================================================== \n",
      "\n"
     ]
    },
    {
     "data": {
      "application/vnd.jupyter.widget-view+json": {
       "model_id": "9e7a178a4f4e40dfb3491f3b910619ed",
       "version_major": 2,
       "version_minor": 0
      },
      "text/plain": [
       "  0%|          | 0/10000 [00:00<?, ?it/s]"
      ]
     },
     "metadata": {},
     "output_type": "display_data"
    },
    {
     "name": "stdout",
     "output_type": "stream",
     "text": [
      "dtype changes from torch.float32 to torch.float64\n",
      "stack in local minimum --> break loop\n",
      "number of models is :  4\n",
      "dtype changes from torch.float64 to torch.float32\n",
      "target loss      : 18.0000152588\n",
      "initial loss     : 40.9873682567\n",
      "loss upper bound : 22.5461502075\n",
      "\n",
      "================================================== \n",
      "\n"
     ]
    },
    {
     "data": {
      "application/vnd.jupyter.widget-view+json": {
       "model_id": "81a7592465734a08b93f92773a275c8e",
       "version_major": 2,
       "version_minor": 0
      },
      "text/plain": [
       "  0%|          | 0/10000 [00:00<?, ?it/s]"
      ]
     },
     "metadata": {},
     "output_type": "display_data"
    },
    {
     "name": "stdout",
     "output_type": "stream",
     "text": [
      "dtype changes from torch.float32 to torch.float64\n",
      "stack in local minimum --> break loop\n",
      "number of models is :  4\n",
      "dtype changes from torch.float64 to torch.float32\n",
      "target loss      : 18.0000152588\n",
      "initial loss     : 42.2363004586\n",
      "loss upper bound : 22.5461502075\n",
      "\n",
      "================================================== \n",
      "\n"
     ]
    },
    {
     "data": {
      "application/vnd.jupyter.widget-view+json": {
       "model_id": "552cf77fb0a541cf911b06dba6ecd413",
       "version_major": 2,
       "version_minor": 0
      },
      "text/plain": [
       "  0%|          | 0/10000 [00:00<?, ?it/s]"
      ]
     },
     "metadata": {},
     "output_type": "display_data"
    },
    {
     "name": "stdout",
     "output_type": "stream",
     "text": [
      "dtype changes from torch.float32 to torch.float64\n",
      "stack in local minimum --> break loop\n",
      "number of models is :  4\n",
      "dtype changes from torch.float64 to torch.float32\n",
      "target loss      : 18.0000152588\n",
      "initial loss     : 41.0119920608\n",
      "loss upper bound : 22.5461502075\n",
      "\n",
      "================================================== \n",
      "\n"
     ]
    },
    {
     "data": {
      "application/vnd.jupyter.widget-view+json": {
       "model_id": "ecf0ffdaa2e74aa9a8470532e3b63574",
       "version_major": 2,
       "version_minor": 0
      },
      "text/plain": [
       "  0%|          | 0/10000 [00:00<?, ?it/s]"
      ]
     },
     "metadata": {},
     "output_type": "display_data"
    },
    {
     "name": "stdout",
     "output_type": "stream",
     "text": [
      "dtype changes from torch.float32 to torch.float64\n",
      "stack in local minimum --> break loop\n",
      "number of models is :  4\n",
      "dtype changes from torch.float64 to torch.float32\n",
      "target loss      : 18.0000152588\n",
      "initial loss     : 41.9390575494\n",
      "loss upper bound : 22.5461502075\n",
      "\n",
      "================================================== \n",
      "\n"
     ]
    },
    {
     "data": {
      "application/vnd.jupyter.widget-view+json": {
       "model_id": "e68467e2fa1c45a0a7b21504a59e322d",
       "version_major": 2,
       "version_minor": 0
      },
      "text/plain": [
       "  0%|          | 0/10000 [00:00<?, ?it/s]"
      ]
     },
     "metadata": {},
     "output_type": "display_data"
    },
    {
     "name": "stdout",
     "output_type": "stream",
     "text": [
      "dtype changes from torch.float32 to torch.float64\n",
      "stack in local minimum --> break loop\n",
      "number of models is :  4\n",
      "dtype changes from torch.float64 to torch.float32\n",
      "target loss      : 18.0000152588\n",
      "initial loss     : 40.4808390311\n",
      "loss upper bound : 22.5461502075\n",
      "\n",
      "================================================== \n",
      "\n"
     ]
    },
    {
     "data": {
      "application/vnd.jupyter.widget-view+json": {
       "model_id": "e50e76dfa1ce44d4851d39f1d885c713",
       "version_major": 2,
       "version_minor": 0
      },
      "text/plain": [
       "  0%|          | 0/10000 [00:00<?, ?it/s]"
      ]
     },
     "metadata": {},
     "output_type": "display_data"
    },
    {
     "name": "stdout",
     "output_type": "stream",
     "text": [
      "dtype changes from torch.float32 to torch.float64\n",
      "stack in local minimum --> break loop\n",
      "number of models is :  4\n",
      "dtype changes from torch.float64 to torch.float32\n",
      "target loss      : 18.0000152588\n",
      "initial loss     : 41.3860930774\n",
      "loss upper bound : 22.5461502075\n",
      "\n",
      "================================================== \n",
      "\n"
     ]
    },
    {
     "data": {
      "application/vnd.jupyter.widget-view+json": {
       "model_id": "73ede5faf66845d5b1059d9045988d97",
       "version_major": 2,
       "version_minor": 0
      },
      "text/plain": [
       "  0%|          | 0/10000 [00:00<?, ?it/s]"
      ]
     },
     "metadata": {},
     "output_type": "display_data"
    },
    {
     "name": "stdout",
     "output_type": "stream",
     "text": [
      "dtype changes from torch.float32 to torch.float64\n",
      "stack in local minimum --> break loop\n",
      "number of models is :  4\n",
      "dtype changes from torch.float64 to torch.float32\n",
      "target loss      : 18.0000152588\n",
      "initial loss     : 41.3128614316\n",
      "loss upper bound : 22.5461502075\n",
      "\n",
      "================================================== \n",
      "\n"
     ]
    },
    {
     "data": {
      "application/vnd.jupyter.widget-view+json": {
       "model_id": "a3cb9dfaaaed45278b8026428cb7424c",
       "version_major": 2,
       "version_minor": 0
      },
      "text/plain": [
       "  0%|          | 0/10000 [00:00<?, ?it/s]"
      ]
     },
     "metadata": {},
     "output_type": "display_data"
    },
    {
     "name": "stdout",
     "output_type": "stream",
     "text": [
      "dtype changes from torch.float32 to torch.float64\n",
      "stack in local minimum --> break loop\n",
      "number of models is :  4\n",
      "dtype changes from torch.float64 to torch.float32\n",
      "target loss      : 18.0000152588\n",
      "initial loss     : 41.1356891772\n",
      "loss upper bound : 22.5461502075\n",
      "\n",
      "================================================== \n",
      "\n"
     ]
    },
    {
     "data": {
      "application/vnd.jupyter.widget-view+json": {
       "model_id": "ae77b7e201ec4e9193ef546d4c3f469d",
       "version_major": 2,
       "version_minor": 0
      },
      "text/plain": [
       "  0%|          | 0/10000 [00:00<?, ?it/s]"
      ]
     },
     "metadata": {},
     "output_type": "display_data"
    },
    {
     "name": "stdout",
     "output_type": "stream",
     "text": [
      "dtype changes from torch.float32 to torch.float64\n",
      "stack in local minimum --> break loop\n",
      "number of models is :  4\n",
      "dtype changes from torch.float64 to torch.float32\n",
      "target loss      : 18.0000152588\n",
      "initial loss     : 41.2811532313\n",
      "loss upper bound : 22.5461502075\n",
      "\n",
      "================================================== \n",
      "\n"
     ]
    },
    {
     "data": {
      "application/vnd.jupyter.widget-view+json": {
       "model_id": "26d65b53be9e453187344792979b5e34",
       "version_major": 2,
       "version_minor": 0
      },
      "text/plain": [
       "  0%|          | 0/10000 [00:00<?, ?it/s]"
      ]
     },
     "metadata": {},
     "output_type": "display_data"
    },
    {
     "name": "stdout",
     "output_type": "stream",
     "text": [
      "dtype changes from torch.float32 to torch.float64\n",
      "stack in local minimum --> break loop\n",
      "number of models is :  4\n",
      "dtype changes from torch.float64 to torch.float32\n",
      "target loss      : 18.0000152588\n",
      "initial loss     : 40.5683099398\n",
      "loss upper bound : 22.5461502075\n",
      "\n",
      "================================================== \n",
      "\n"
     ]
    },
    {
     "data": {
      "application/vnd.jupyter.widget-view+json": {
       "model_id": "bb8cd06afaf0408f84e7b425cb087438",
       "version_major": 2,
       "version_minor": 0
      },
      "text/plain": [
       "  0%|          | 0/10000 [00:00<?, ?it/s]"
      ]
     },
     "metadata": {},
     "output_type": "display_data"
    },
    {
     "name": "stdout",
     "output_type": "stream",
     "text": [
      "dtype changes from torch.float32 to torch.float64\n",
      "stack in local minimum --> break loop\n",
      "number of models is :  4\n",
      "dtype changes from torch.float64 to torch.float32\n",
      "target loss      : 18.0000152588\n",
      "initial loss     : 41.2073922723\n",
      "loss upper bound : 22.5461502075\n",
      "\n",
      "================================================== \n",
      "\n"
     ]
    },
    {
     "data": {
      "application/vnd.jupyter.widget-view+json": {
       "model_id": "533dab563f8b4f62b7aa977d37c32ff4",
       "version_major": 2,
       "version_minor": 0
      },
      "text/plain": [
       "  0%|          | 0/10000 [00:00<?, ?it/s]"
      ]
     },
     "metadata": {},
     "output_type": "display_data"
    },
    {
     "name": "stdout",
     "output_type": "stream",
     "text": [
      "dtype changes from torch.float32 to torch.float64\n",
      "stack in local minimum --> break loop\n",
      "number of models is :  4\n",
      "dtype changes from torch.float64 to torch.float32\n",
      "target loss      : 18.0000152588\n",
      "initial loss     : 41.0334414729\n",
      "loss upper bound : 22.5461502075\n",
      "\n",
      "================================================== \n",
      "\n"
     ]
    },
    {
     "data": {
      "application/vnd.jupyter.widget-view+json": {
       "model_id": "b2f51441674c4333addc924326667acb",
       "version_major": 2,
       "version_minor": 0
      },
      "text/plain": [
       "  0%|          | 0/10000 [00:00<?, ?it/s]"
      ]
     },
     "metadata": {},
     "output_type": "display_data"
    },
    {
     "name": "stdout",
     "output_type": "stream",
     "text": [
      "dtype changes from torch.float32 to torch.float64\n",
      "stack in local minimum --> break loop\n",
      "number of models is :  4\n",
      "dtype changes from torch.float64 to torch.float32\n",
      "target loss      : 18.0000152588\n",
      "initial loss     : 41.5923431780\n",
      "loss upper bound : 22.5461502075\n",
      "\n",
      "================================================== \n",
      "\n"
     ]
    },
    {
     "data": {
      "application/vnd.jupyter.widget-view+json": {
       "model_id": "472dc71ab5b945fa904931c8ecf94935",
       "version_major": 2,
       "version_minor": 0
      },
      "text/plain": [
       "  0%|          | 0/10000 [00:00<?, ?it/s]"
      ]
     },
     "metadata": {},
     "output_type": "display_data"
    },
    {
     "name": "stdout",
     "output_type": "stream",
     "text": [
      "dtype changes from torch.float32 to torch.float64\n",
      "stack in local minimum --> break loop\n",
      "number of models is :  4\n",
      "dtype changes from torch.float64 to torch.float32\n",
      "target loss      : 18.0000152588\n",
      "initial loss     : 40.8679660540\n",
      "loss upper bound : 22.5461502075\n",
      "\n",
      "================================================== \n",
      "\n"
     ]
    },
    {
     "data": {
      "application/vnd.jupyter.widget-view+json": {
       "model_id": "a5941e82609a4bd29574bc62d84e3aa8",
       "version_major": 2,
       "version_minor": 0
      },
      "text/plain": [
       "  0%|          | 0/10000 [00:00<?, ?it/s]"
      ]
     },
     "metadata": {},
     "output_type": "display_data"
    },
    {
     "name": "stdout",
     "output_type": "stream",
     "text": [
      "dtype changes from torch.float32 to torch.float64\n",
      "stack in local minimum --> break loop\n",
      "number of models is :  4\n",
      "dtype changes from torch.float64 to torch.float32\n",
      "target loss      : 18.0000152588\n",
      "initial loss     : 41.1574063294\n",
      "loss upper bound : 22.5461502075\n",
      "\n",
      "================================================== \n",
      "\n"
     ]
    },
    {
     "data": {
      "application/vnd.jupyter.widget-view+json": {
       "model_id": "bd0f17c4fa8b471996eca65ae97c7cb9",
       "version_major": 2,
       "version_minor": 0
      },
      "text/plain": [
       "  0%|          | 0/10000 [00:00<?, ?it/s]"
      ]
     },
     "metadata": {},
     "output_type": "display_data"
    },
    {
     "name": "stdout",
     "output_type": "stream",
     "text": [
      "dtype changes from torch.float32 to torch.float64\n",
      "stack in local minimum --> break loop\n",
      "number of models is :  4\n",
      "dtype changes from torch.float64 to torch.float32\n",
      "target loss      : 18.0000152588\n",
      "initial loss     : 41.6077941700\n",
      "loss upper bound : 22.5461502075\n",
      "\n",
      "================================================== \n",
      "\n"
     ]
    },
    {
     "data": {
      "application/vnd.jupyter.widget-view+json": {
       "model_id": "6a31b776db1d455f934447ff9b024bc6",
       "version_major": 2,
       "version_minor": 0
      },
      "text/plain": [
       "  0%|          | 0/10000 [00:00<?, ?it/s]"
      ]
     },
     "metadata": {},
     "output_type": "display_data"
    },
    {
     "name": "stdout",
     "output_type": "stream",
     "text": [
      "dtype changes from torch.float32 to torch.float64\n",
      "stack in local minimum --> break loop\n",
      "number of models is :  4\n",
      "dtype changes from torch.float64 to torch.float32\n",
      "target loss      : 18.0000152588\n",
      "initial loss     : 41.2809958320\n",
      "loss upper bound : 22.5461502075\n",
      "\n",
      "================================================== \n",
      "\n"
     ]
    },
    {
     "data": {
      "application/vnd.jupyter.widget-view+json": {
       "model_id": "848ccfbc51b44138aeb5421a3587bbd3",
       "version_major": 2,
       "version_minor": 0
      },
      "text/plain": [
       "  0%|          | 0/10000 [00:00<?, ?it/s]"
      ]
     },
     "metadata": {},
     "output_type": "display_data"
    },
    {
     "name": "stdout",
     "output_type": "stream",
     "text": [
      "dtype changes from torch.float32 to torch.float64\n",
      "stack in local minimum --> break loop\n",
      "number of models is :  4\n",
      "dtype changes from torch.float64 to torch.float32\n",
      "target loss      : 18.0000152588\n",
      "initial loss     : 41.8060368632\n",
      "loss upper bound : 22.5461502075\n",
      "\n",
      "================================================== \n",
      "\n"
     ]
    },
    {
     "data": {
      "application/vnd.jupyter.widget-view+json": {
       "model_id": "a9a00dc3a9de443a88b23e36a0652485",
       "version_major": 2,
       "version_minor": 0
      },
      "text/plain": [
       "  0%|          | 0/10000 [00:00<?, ?it/s]"
      ]
     },
     "metadata": {},
     "output_type": "display_data"
    },
    {
     "name": "stdout",
     "output_type": "stream",
     "text": [
      "dtype changes from torch.float32 to torch.float64\n",
      "stack in local minimum --> break loop\n",
      "number of models is :  4\n",
      "dtype changes from torch.float64 to torch.float32\n",
      "target loss      : 18.0000152588\n",
      "initial loss     : 40.9721245945\n",
      "loss upper bound : 22.5461502075\n",
      "\n",
      "================================================== \n",
      "\n"
     ]
    },
    {
     "data": {
      "application/vnd.jupyter.widget-view+json": {
       "model_id": "68c1484bf28d41a791cc6f588b8370f7",
       "version_major": 2,
       "version_minor": 0
      },
      "text/plain": [
       "  0%|          | 0/10000 [00:00<?, ?it/s]"
      ]
     },
     "metadata": {},
     "output_type": "display_data"
    },
    {
     "name": "stdout",
     "output_type": "stream",
     "text": [
      "dtype changes from torch.float32 to torch.float64\n",
      "stack in local minimum --> break loop\n",
      "number of models is :  4\n",
      "dtype changes from torch.float64 to torch.float32\n",
      "target loss      : 18.0000152588\n",
      "initial loss     : 41.0889621812\n",
      "loss upper bound : 22.5461502075\n",
      "\n",
      "================================================== \n",
      "\n"
     ]
    },
    {
     "data": {
      "application/vnd.jupyter.widget-view+json": {
       "model_id": "eed0c83724a748a7a7897ca7238f379b",
       "version_major": 2,
       "version_minor": 0
      },
      "text/plain": [
       "  0%|          | 0/10000 [00:00<?, ?it/s]"
      ]
     },
     "metadata": {},
     "output_type": "display_data"
    },
    {
     "name": "stdout",
     "output_type": "stream",
     "text": [
      "dtype changes from torch.float32 to torch.float64\n",
      "stack in local minimum --> break loop\n",
      "number of models is :  4\n",
      "dtype changes from torch.float64 to torch.float32\n",
      "target loss      : 18.0000152588\n",
      "initial loss     : 41.3106093760\n",
      "loss upper bound : 22.5461502075\n",
      "\n",
      "================================================== \n",
      "\n"
     ]
    },
    {
     "data": {
      "application/vnd.jupyter.widget-view+json": {
       "model_id": "d8e83663a23b479fab1b828b68d09848",
       "version_major": 2,
       "version_minor": 0
      },
      "text/plain": [
       "  0%|          | 0/10000 [00:00<?, ?it/s]"
      ]
     },
     "metadata": {},
     "output_type": "display_data"
    },
    {
     "name": "stdout",
     "output_type": "stream",
     "text": [
      "dtype changes from torch.float32 to torch.float64\n",
      "stack in local minimum --> break loop\n",
      "number of models is :  4\n",
      "dtype changes from torch.float64 to torch.float32\n",
      "target loss      : 18.0000152588\n",
      "initial loss     : 41.6203797716\n",
      "loss upper bound : 22.5461502075\n",
      "\n",
      "================================================== \n",
      "\n"
     ]
    },
    {
     "data": {
      "application/vnd.jupyter.widget-view+json": {
       "model_id": "b66d35903abb40649c777ede0fc35ba3",
       "version_major": 2,
       "version_minor": 0
      },
      "text/plain": [
       "  0%|          | 0/10000 [00:00<?, ?it/s]"
      ]
     },
     "metadata": {},
     "output_type": "display_data"
    },
    {
     "name": "stdout",
     "output_type": "stream",
     "text": [
      "dtype changes from torch.float32 to torch.float64\n",
      "stack in local minimum --> break loop\n",
      "number of models is :  4\n",
      "dtype changes from torch.float64 to torch.float32\n",
      "target loss      : 18.0000152588\n",
      "initial loss     : 42.1493972921\n",
      "loss upper bound : 22.5461502075\n",
      "\n",
      "================================================== \n",
      "\n"
     ]
    },
    {
     "data": {
      "application/vnd.jupyter.widget-view+json": {
       "model_id": "305e6409f3a64eb3bc0134ce851072b6",
       "version_major": 2,
       "version_minor": 0
      },
      "text/plain": [
       "  0%|          | 0/10000 [00:00<?, ?it/s]"
      ]
     },
     "metadata": {},
     "output_type": "display_data"
    },
    {
     "name": "stdout",
     "output_type": "stream",
     "text": [
      "dtype changes from torch.float32 to torch.float64\n",
      "stack in local minimum --> break loop\n",
      "number of models is :  4\n",
      "dtype changes from torch.float64 to torch.float32\n",
      "target loss      : 18.0000152588\n",
      "initial loss     : 41.6981746605\n",
      "loss upper bound : 22.5461502075\n",
      "\n",
      "================================================== \n",
      "\n"
     ]
    },
    {
     "data": {
      "application/vnd.jupyter.widget-view+json": {
       "model_id": "e4751631d17f4967b5cb69b971d82877",
       "version_major": 2,
       "version_minor": 0
      },
      "text/plain": [
       "  0%|          | 0/10000 [00:00<?, ?it/s]"
      ]
     },
     "metadata": {},
     "output_type": "display_data"
    },
    {
     "name": "stdout",
     "output_type": "stream",
     "text": [
      "dtype changes from torch.float32 to torch.float64\n",
      "stack in local minimum --> break loop\n",
      "number of models is :  4\n",
      "dtype changes from torch.float64 to torch.float32\n",
      "target loss      : 18.0000152588\n",
      "initial loss     : 41.4710943754\n",
      "loss upper bound : 22.5461502075\n",
      "\n",
      "================================================== \n",
      "\n"
     ]
    },
    {
     "data": {
      "application/vnd.jupyter.widget-view+json": {
       "model_id": "7f0becd9640f4c1cb2ae017a9a91ba14",
       "version_major": 2,
       "version_minor": 0
      },
      "text/plain": [
       "  0%|          | 0/10000 [00:00<?, ?it/s]"
      ]
     },
     "metadata": {},
     "output_type": "display_data"
    },
    {
     "name": "stdout",
     "output_type": "stream",
     "text": [
      "dtype changes from torch.float32 to torch.float64\n",
      "stack in local minimum --> break loop\n",
      "number of models is :  4\n",
      "dtype changes from torch.float64 to torch.float32\n",
      "target loss      : 18.0000152588\n",
      "initial loss     : 41.2714756548\n",
      "loss upper bound : 22.5461502075\n",
      "\n",
      "================================================== \n",
      "\n"
     ]
    },
    {
     "data": {
      "application/vnd.jupyter.widget-view+json": {
       "model_id": "93f4acda5fd04d6dbaa3ab30f615bafc",
       "version_major": 2,
       "version_minor": 0
      },
      "text/plain": [
       "  0%|          | 0/10000 [00:00<?, ?it/s]"
      ]
     },
     "metadata": {},
     "output_type": "display_data"
    },
    {
     "name": "stdout",
     "output_type": "stream",
     "text": [
      "dtype changes from torch.float32 to torch.float64\n",
      "stack in local minimum --> break loop\n",
      "number of models is :  4\n",
      "dtype changes from torch.float64 to torch.float32\n",
      "target loss      : 18.0000152588\n",
      "initial loss     : 41.3485598600\n",
      "loss upper bound : 22.5461502075\n",
      "\n",
      "================================================== \n",
      "\n"
     ]
    },
    {
     "data": {
      "application/vnd.jupyter.widget-view+json": {
       "model_id": "e55ca059e76247e4ac47708c47f7a73e",
       "version_major": 2,
       "version_minor": 0
      },
      "text/plain": [
       "  0%|          | 0/10000 [00:00<?, ?it/s]"
      ]
     },
     "metadata": {},
     "output_type": "display_data"
    },
    {
     "name": "stdout",
     "output_type": "stream",
     "text": [
      "dtype changes from torch.float32 to torch.float64\n",
      "stack in local minimum --> break loop\n",
      "number of models is :  4\n",
      "dtype changes from torch.float64 to torch.float32\n",
      "target loss      : 18.0000152588\n",
      "initial loss     : 40.8016049593\n",
      "loss upper bound : 22.5461502075\n",
      "\n",
      "================================================== \n",
      "\n"
     ]
    },
    {
     "data": {
      "application/vnd.jupyter.widget-view+json": {
       "model_id": "814077f5106f4b77bf7b8aca6abdd171",
       "version_major": 2,
       "version_minor": 0
      },
      "text/plain": [
       "  0%|          | 0/10000 [00:00<?, ?it/s]"
      ]
     },
     "metadata": {},
     "output_type": "display_data"
    },
    {
     "name": "stdout",
     "output_type": "stream",
     "text": [
      "dtype changes from torch.float32 to torch.float64\n",
      "stack in local minimum --> break loop\n",
      "number of models is :  4\n",
      "dtype changes from torch.float64 to torch.float32\n",
      "target loss      : 18.0000152588\n",
      "initial loss     : 41.2690432045\n",
      "loss upper bound : 22.5461502075\n",
      "\n",
      "================================================== \n",
      "\n"
     ]
    },
    {
     "data": {
      "application/vnd.jupyter.widget-view+json": {
       "model_id": "3c5e8e6f39ea4960850ff0f1dc126855",
       "version_major": 2,
       "version_minor": 0
      },
      "text/plain": [
       "  0%|          | 0/10000 [00:00<?, ?it/s]"
      ]
     },
     "metadata": {},
     "output_type": "display_data"
    },
    {
     "name": "stdout",
     "output_type": "stream",
     "text": [
      "dtype changes from torch.float32 to torch.float64\n",
      "stack in local minimum --> break loop\n",
      "number of models is :  4\n",
      "dtype changes from torch.float64 to torch.float32\n",
      "target loss      : 18.0000152588\n",
      "initial loss     : 40.3410687565\n",
      "loss upper bound : 22.5461502075\n",
      "\n",
      "================================================== \n",
      "\n"
     ]
    },
    {
     "data": {
      "application/vnd.jupyter.widget-view+json": {
       "model_id": "86abcb8e1c1e460e9764fdbdce3b2824",
       "version_major": 2,
       "version_minor": 0
      },
      "text/plain": [
       "  0%|          | 0/10000 [00:00<?, ?it/s]"
      ]
     },
     "metadata": {},
     "output_type": "display_data"
    },
    {
     "name": "stdout",
     "output_type": "stream",
     "text": [
      "dtype changes from torch.float32 to torch.float64\n",
      "stack in local minimum --> break loop\n",
      "number of models is :  4\n",
      "dtype changes from torch.float64 to torch.float32\n",
      "target loss      : 18.0000152588\n",
      "initial loss     : 41.1048961539\n",
      "loss upper bound : 22.5461502075\n",
      "\n",
      "================================================== \n",
      "\n"
     ]
    },
    {
     "data": {
      "application/vnd.jupyter.widget-view+json": {
       "model_id": "1caaad52fb7f48c689c1e06599d9a118",
       "version_major": 2,
       "version_minor": 0
      },
      "text/plain": [
       "  0%|          | 0/10000 [00:00<?, ?it/s]"
      ]
     },
     "metadata": {},
     "output_type": "display_data"
    },
    {
     "name": "stdout",
     "output_type": "stream",
     "text": [
      "dtype changes from torch.float32 to torch.float64\n",
      "stack in local minimum --> break loop\n",
      "number of models is :  4\n",
      "dtype changes from torch.float64 to torch.float32\n",
      "target loss      : 18.0000152588\n",
      "initial loss     : 41.3280594453\n",
      "loss upper bound : 22.5461502075\n",
      "\n",
      "================================================== \n",
      "\n"
     ]
    },
    {
     "data": {
      "application/vnd.jupyter.widget-view+json": {
       "model_id": "ef457b655cb9488b8daa270cf5e7db80",
       "version_major": 2,
       "version_minor": 0
      },
      "text/plain": [
       "  0%|          | 0/10000 [00:00<?, ?it/s]"
      ]
     },
     "metadata": {},
     "output_type": "display_data"
    },
    {
     "name": "stdout",
     "output_type": "stream",
     "text": [
      "dtype changes from torch.float32 to torch.float64\n",
      "stack in local minimum --> break loop\n",
      "number of models is :  4\n",
      "dtype changes from torch.float64 to torch.float32\n",
      "target loss      : 18.0000152588\n",
      "initial loss     : 41.6867393295\n",
      "loss upper bound : 22.5461502075\n",
      "\n",
      "================================================== \n",
      "\n"
     ]
    },
    {
     "data": {
      "application/vnd.jupyter.widget-view+json": {
       "model_id": "d47415b921454f2082186c9c5d072a07",
       "version_major": 2,
       "version_minor": 0
      },
      "text/plain": [
       "  0%|          | 0/10000 [00:00<?, ?it/s]"
      ]
     },
     "metadata": {},
     "output_type": "display_data"
    },
    {
     "name": "stdout",
     "output_type": "stream",
     "text": [
      "dtype changes from torch.float32 to torch.float64\n",
      "stack in local minimum --> break loop\n",
      "number of models is :  4\n",
      "dtype changes from torch.float64 to torch.float32\n",
      "target loss      : 18.0000152588\n",
      "initial loss     : 41.1301635053\n",
      "loss upper bound : 22.5461502075\n",
      "\n",
      "================================================== \n",
      "\n"
     ]
    },
    {
     "data": {
      "application/vnd.jupyter.widget-view+json": {
       "model_id": "bbeb705829f6457b84830169d4dca319",
       "version_major": 2,
       "version_minor": 0
      },
      "text/plain": [
       "  0%|          | 0/10000 [00:00<?, ?it/s]"
      ]
     },
     "metadata": {},
     "output_type": "display_data"
    },
    {
     "name": "stdout",
     "output_type": "stream",
     "text": [
      "dtype changes from torch.float32 to torch.float64\n",
      "stack in local minimum --> break loop\n",
      "number of models is :  4\n",
      "dtype changes from torch.float64 to torch.float32\n",
      "target loss      : 18.0000152588\n",
      "initial loss     : 41.1789246702\n",
      "loss upper bound : 22.5461502075\n",
      "\n",
      "================================================== \n",
      "\n"
     ]
    },
    {
     "data": {
      "application/vnd.jupyter.widget-view+json": {
       "model_id": "b6a0c6d3a82e46889f795c323719d159",
       "version_major": 2,
       "version_minor": 0
      },
      "text/plain": [
       "  0%|          | 0/10000 [00:00<?, ?it/s]"
      ]
     },
     "metadata": {},
     "output_type": "display_data"
    },
    {
     "name": "stdout",
     "output_type": "stream",
     "text": [
      "dtype changes from torch.float32 to torch.float64\n",
      "stack in local minimum --> break loop\n",
      "number of models is :  4\n",
      "dtype changes from torch.float64 to torch.float32\n",
      "target loss      : 18.0000152588\n",
      "initial loss     : 41.3900161649\n",
      "loss upper bound : 22.5461502075\n",
      "\n",
      "================================================== \n",
      "\n"
     ]
    },
    {
     "data": {
      "application/vnd.jupyter.widget-view+json": {
       "model_id": "90a794a3a2284979b49ed89abd404ea0",
       "version_major": 2,
       "version_minor": 0
      },
      "text/plain": [
       "  0%|          | 0/10000 [00:00<?, ?it/s]"
      ]
     },
     "metadata": {},
     "output_type": "display_data"
    },
    {
     "name": "stdout",
     "output_type": "stream",
     "text": [
      "dtype changes from torch.float32 to torch.float64\n",
      "stack in local minimum --> break loop\n",
      "number of models is :  4\n",
      "dtype changes from torch.float64 to torch.float32\n",
      "target loss      : 18.0000152588\n",
      "initial loss     : 41.2528435930\n",
      "loss upper bound : 22.5461502075\n",
      "\n",
      "================================================== \n",
      "\n"
     ]
    },
    {
     "data": {
      "application/vnd.jupyter.widget-view+json": {
       "model_id": "66b52db704d24b54b744455bbd9a8cc2",
       "version_major": 2,
       "version_minor": 0
      },
      "text/plain": [
       "  0%|          | 0/10000 [00:00<?, ?it/s]"
      ]
     },
     "metadata": {},
     "output_type": "display_data"
    },
    {
     "name": "stdout",
     "output_type": "stream",
     "text": [
      "dtype changes from torch.float32 to torch.float64\n",
      "stack in local minimum --> break loop\n",
      "number of models is :  4\n",
      "dtype changes from torch.float64 to torch.float32\n",
      "target loss      : 18.0000152588\n",
      "initial loss     : 42.1581107436\n",
      "loss upper bound : 22.5461502075\n",
      "\n",
      "================================================== \n",
      "\n"
     ]
    },
    {
     "data": {
      "application/vnd.jupyter.widget-view+json": {
       "model_id": "32be04dbb7884eff845c782a50ce7f8f",
       "version_major": 2,
       "version_minor": 0
      },
      "text/plain": [
       "  0%|          | 0/10000 [00:00<?, ?it/s]"
      ]
     },
     "metadata": {},
     "output_type": "display_data"
    },
    {
     "name": "stdout",
     "output_type": "stream",
     "text": [
      "dtype changes from torch.float32 to torch.float64\n",
      "stack in local minimum --> break loop\n",
      "number of models is :  4\n",
      "dtype changes from torch.float64 to torch.float32\n",
      "target loss      : 18.0000152588\n",
      "initial loss     : 40.6152056904\n",
      "loss upper bound : 22.5461502075\n",
      "\n",
      "================================================== \n",
      "\n"
     ]
    },
    {
     "data": {
      "application/vnd.jupyter.widget-view+json": {
       "model_id": "ac5fef0193fd46e29669201fc588004f",
       "version_major": 2,
       "version_minor": 0
      },
      "text/plain": [
       "  0%|          | 0/10000 [00:00<?, ?it/s]"
      ]
     },
     "metadata": {},
     "output_type": "display_data"
    },
    {
     "name": "stdout",
     "output_type": "stream",
     "text": [
      "dtype changes from torch.float32 to torch.float64\n",
      "stack in local minimum --> break loop\n",
      "number of models is :  4\n",
      "dtype changes from torch.float64 to torch.float32\n",
      "target loss      : 18.0000152588\n",
      "initial loss     : 41.8127702151\n",
      "loss upper bound : 22.5461502075\n",
      "\n",
      "================================================== \n",
      "\n"
     ]
    },
    {
     "data": {
      "application/vnd.jupyter.widget-view+json": {
       "model_id": "537543db384e4e32aab6e7dae73a3bc5",
       "version_major": 2,
       "version_minor": 0
      },
      "text/plain": [
       "  0%|          | 0/10000 [00:00<?, ?it/s]"
      ]
     },
     "metadata": {},
     "output_type": "display_data"
    },
    {
     "name": "stdout",
     "output_type": "stream",
     "text": [
      "dtype changes from torch.float32 to torch.float64\n",
      "stack in local minimum --> break loop\n",
      "number of models is :  4\n",
      "dtype changes from torch.float64 to torch.float32\n",
      "target loss      : 18.0000152588\n",
      "initial loss     : 41.4855683912\n",
      "loss upper bound : 22.5461502075\n",
      "\n",
      "================================================== \n",
      "\n"
     ]
    },
    {
     "data": {
      "application/vnd.jupyter.widget-view+json": {
       "model_id": "6c7a62c51c7d48abb8ecf6a2b9eb4a1e",
       "version_major": 2,
       "version_minor": 0
      },
      "text/plain": [
       "  0%|          | 0/10000 [00:00<?, ?it/s]"
      ]
     },
     "metadata": {},
     "output_type": "display_data"
    },
    {
     "name": "stdout",
     "output_type": "stream",
     "text": [
      "dtype changes from torch.float32 to torch.float64\n",
      "stack in local minimum --> break loop\n",
      "number of models is :  4\n",
      "dtype changes from torch.float64 to torch.float32\n",
      "target loss      : 18.0000152588\n",
      "initial loss     : 41.0258359411\n",
      "loss upper bound : 22.5461502075\n",
      "\n",
      "================================================== \n",
      "\n"
     ]
    },
    {
     "data": {
      "application/vnd.jupyter.widget-view+json": {
       "model_id": "cc4c8ad803c84614afd1ea57de1896ff",
       "version_major": 2,
       "version_minor": 0
      },
      "text/plain": [
       "  0%|          | 0/10000 [00:00<?, ?it/s]"
      ]
     },
     "metadata": {},
     "output_type": "display_data"
    },
    {
     "name": "stdout",
     "output_type": "stream",
     "text": [
      "dtype changes from torch.float32 to torch.float64\n",
      "stack in local minimum --> break loop\n",
      "number of models is :  4\n",
      "dtype changes from torch.float64 to torch.float32\n",
      "target loss      : 18.0000152588\n",
      "initial loss     : 41.3061701321\n",
      "loss upper bound : 22.5461502075\n",
      "\n",
      "================================================== \n",
      "\n"
     ]
    },
    {
     "data": {
      "application/vnd.jupyter.widget-view+json": {
       "model_id": "e11d6e94098d4338bc7dae6027d52153",
       "version_major": 2,
       "version_minor": 0
      },
      "text/plain": [
       "  0%|          | 0/10000 [00:00<?, ?it/s]"
      ]
     },
     "metadata": {},
     "output_type": "display_data"
    },
    {
     "name": "stdout",
     "output_type": "stream",
     "text": [
      "dtype changes from torch.float32 to torch.float64\n",
      "stack in local minimum --> break loop\n",
      "number of models is :  4\n",
      "dtype changes from torch.float64 to torch.float32\n",
      "target loss      : 18.0000152588\n",
      "initial loss     : 42.1224809535\n",
      "loss upper bound : 22.5461502075\n",
      "\n",
      "================================================== \n",
      "\n"
     ]
    },
    {
     "data": {
      "application/vnd.jupyter.widget-view+json": {
       "model_id": "e555006c15d849b394fc2b032159cec8",
       "version_major": 2,
       "version_minor": 0
      },
      "text/plain": [
       "  0%|          | 0/10000 [00:00<?, ?it/s]"
      ]
     },
     "metadata": {},
     "output_type": "display_data"
    },
    {
     "name": "stdout",
     "output_type": "stream",
     "text": [
      "dtype changes from torch.float32 to torch.float64\n",
      "stack in local minimum --> break loop\n",
      "number of models is :  4\n",
      "dtype changes from torch.float64 to torch.float32\n",
      "target loss      : 18.0000152588\n",
      "initial loss     : 42.0669906095\n",
      "loss upper bound : 22.5461502075\n",
      "\n",
      "================================================== \n",
      "\n"
     ]
    },
    {
     "data": {
      "application/vnd.jupyter.widget-view+json": {
       "model_id": "749ddd20512741c4ac434c95e0786f88",
       "version_major": 2,
       "version_minor": 0
      },
      "text/plain": [
       "  0%|          | 0/10000 [00:00<?, ?it/s]"
      ]
     },
     "metadata": {},
     "output_type": "display_data"
    },
    {
     "name": "stdout",
     "output_type": "stream",
     "text": [
      "dtype changes from torch.float32 to torch.float64\n",
      "stack in local minimum --> break loop\n",
      "number of models is :  4\n",
      "dtype changes from torch.float64 to torch.float32\n",
      "target loss      : 18.0000152588\n",
      "initial loss     : 41.0171897532\n",
      "loss upper bound : 22.5461502075\n",
      "\n",
      "================================================== \n",
      "\n"
     ]
    },
    {
     "data": {
      "application/vnd.jupyter.widget-view+json": {
       "model_id": "6b1215c241934c21b460926a8ffa1e5a",
       "version_major": 2,
       "version_minor": 0
      },
      "text/plain": [
       "  0%|          | 0/10000 [00:00<?, ?it/s]"
      ]
     },
     "metadata": {},
     "output_type": "display_data"
    },
    {
     "name": "stdout",
     "output_type": "stream",
     "text": [
      "dtype changes from torch.float32 to torch.float64\n",
      "stack in local minimum --> break loop\n",
      "number of models is :  4\n",
      "dtype changes from torch.float64 to torch.float32\n",
      "target loss      : 18.0000152588\n",
      "initial loss     : 40.6729544387\n",
      "loss upper bound : 22.5461502075\n",
      "\n",
      "================================================== \n",
      "\n"
     ]
    },
    {
     "data": {
      "application/vnd.jupyter.widget-view+json": {
       "model_id": "ebfaa7fcfc82457ba1732f7e8d73aba2",
       "version_major": 2,
       "version_minor": 0
      },
      "text/plain": [
       "  0%|          | 0/10000 [00:00<?, ?it/s]"
      ]
     },
     "metadata": {},
     "output_type": "display_data"
    },
    {
     "name": "stdout",
     "output_type": "stream",
     "text": [
      "dtype changes from torch.float32 to torch.float64\n",
      "stack in local minimum --> break loop\n",
      "number of models is :  4\n",
      "dtype changes from torch.float64 to torch.float32\n",
      "target loss      : 18.0000152588\n",
      "initial loss     : 41.2987916601\n",
      "loss upper bound : 22.5461502075\n",
      "\n",
      "================================================== \n",
      "\n"
     ]
    },
    {
     "data": {
      "application/vnd.jupyter.widget-view+json": {
       "model_id": "12bc3de0b5d74e4f82ab3f6454e20580",
       "version_major": 2,
       "version_minor": 0
      },
      "text/plain": [
       "  0%|          | 0/10000 [00:00<?, ?it/s]"
      ]
     },
     "metadata": {},
     "output_type": "display_data"
    },
    {
     "name": "stdout",
     "output_type": "stream",
     "text": [
      "dtype changes from torch.float32 to torch.float64\n",
      "stack in local minimum --> break loop\n",
      "number of models is :  4\n",
      "dtype changes from torch.float64 to torch.float32\n",
      "target loss      : 18.0000152588\n",
      "initial loss     : 40.0769578538\n",
      "loss upper bound : 22.5461502075\n",
      "\n",
      "================================================== \n",
      "\n"
     ]
    },
    {
     "data": {
      "application/vnd.jupyter.widget-view+json": {
       "model_id": "7c613861c77c491bbb53f2a51a0ea67e",
       "version_major": 2,
       "version_minor": 0
      },
      "text/plain": [
       "  0%|          | 0/10000 [00:00<?, ?it/s]"
      ]
     },
     "metadata": {},
     "output_type": "display_data"
    },
    {
     "name": "stdout",
     "output_type": "stream",
     "text": [
      "dtype changes from torch.float32 to torch.float64\n",
      "stack in local minimum --> break loop\n",
      "number of models is :  4\n",
      "dtype changes from torch.float64 to torch.float32\n",
      "target loss      : 18.0000152588\n",
      "initial loss     : 40.0659436158\n",
      "loss upper bound : 22.5461502075\n",
      "\n",
      "================================================== \n",
      "\n"
     ]
    },
    {
     "data": {
      "application/vnd.jupyter.widget-view+json": {
       "model_id": "112ae88805224b68be8c6056fe6b78e3",
       "version_major": 2,
       "version_minor": 0
      },
      "text/plain": [
       "  0%|          | 0/10000 [00:00<?, ?it/s]"
      ]
     },
     "metadata": {},
     "output_type": "display_data"
    },
    {
     "name": "stdout",
     "output_type": "stream",
     "text": [
      "dtype changes from torch.float32 to torch.float64\n",
      "stack in local minimum --> break loop\n",
      "number of models is :  4\n",
      "dtype changes from torch.float64 to torch.float32\n",
      "target loss      : 18.0000152588\n",
      "initial loss     : 41.1406625885\n",
      "loss upper bound : 22.5461502075\n",
      "\n",
      "================================================== \n",
      "\n"
     ]
    },
    {
     "data": {
      "application/vnd.jupyter.widget-view+json": {
       "model_id": "1dd825fc576c4da79d8ce668dd1a5d10",
       "version_major": 2,
       "version_minor": 0
      },
      "text/plain": [
       "  0%|          | 0/10000 [00:00<?, ?it/s]"
      ]
     },
     "metadata": {},
     "output_type": "display_data"
    },
    {
     "name": "stdout",
     "output_type": "stream",
     "text": [
      "dtype changes from torch.float32 to torch.float64\n",
      "stack in local minimum --> break loop\n",
      "\n",
      "best_fun : 20.599464716735632\n",
      "\n",
      "number of models is :  4\n",
      "dtype changes from torch.float64 to torch.float32\n",
      "target loss      : 18.0000152588\n",
      "initial loss     : 41.0628019497\n",
      "loss upper bound : 22.5461502075\n",
      "\n",
      "================================================== \n",
      "\n"
     ]
    },
    {
     "data": {
      "application/vnd.jupyter.widget-view+json": {
       "model_id": "29ac400e751f418db4fc3373d7c22fbd",
       "version_major": 2,
       "version_minor": 0
      },
      "text/plain": [
       "  0%|          | 0/10000 [00:00<?, ?it/s]"
      ]
     },
     "metadata": {},
     "output_type": "display_data"
    },
    {
     "name": "stdout",
     "output_type": "stream",
     "text": [
      "dtype changes from torch.float32 to torch.float64\n",
      "stack in local minimum --> break loop\n",
      "number of models is :  4\n",
      "dtype changes from torch.float64 to torch.float32\n",
      "target loss      : 18.0000152588\n",
      "initial loss     : 40.2697831769\n",
      "loss upper bound : 22.5461502075\n",
      "\n",
      "================================================== \n",
      "\n"
     ]
    },
    {
     "data": {
      "application/vnd.jupyter.widget-view+json": {
       "model_id": "063295539fab4b9f88be6863a41feb92",
       "version_major": 2,
       "version_minor": 0
      },
      "text/plain": [
       "  0%|          | 0/10000 [00:00<?, ?it/s]"
      ]
     },
     "metadata": {},
     "output_type": "display_data"
    },
    {
     "name": "stdout",
     "output_type": "stream",
     "text": [
      "dtype changes from torch.float32 to torch.float64\n",
      "stack in local minimum --> break loop\n",
      "number of models is :  4\n",
      "dtype changes from torch.float64 to torch.float32\n",
      "target loss      : 18.0000152588\n",
      "initial loss     : 40.7473147450\n",
      "loss upper bound : 22.5461502075\n",
      "\n",
      "================================================== \n",
      "\n"
     ]
    },
    {
     "data": {
      "application/vnd.jupyter.widget-view+json": {
       "model_id": "6108a3ac1c6f471c8139c59d08540b33",
       "version_major": 2,
       "version_minor": 0
      },
      "text/plain": [
       "  0%|          | 0/10000 [00:00<?, ?it/s]"
      ]
     },
     "metadata": {},
     "output_type": "display_data"
    },
    {
     "name": "stdout",
     "output_type": "stream",
     "text": [
      "dtype changes from torch.float32 to torch.float64\n",
      "stack in local minimum --> break loop\n",
      "number of models is :  4\n",
      "dtype changes from torch.float64 to torch.float32\n",
      "target loss      : 18.0000152588\n",
      "initial loss     : 40.7745353770\n",
      "loss upper bound : 22.5461502075\n",
      "\n",
      "================================================== \n",
      "\n"
     ]
    },
    {
     "data": {
      "application/vnd.jupyter.widget-view+json": {
       "model_id": "7fce592fb62842f6ba70b07efe9bb7e7",
       "version_major": 2,
       "version_minor": 0
      },
      "text/plain": [
       "  0%|          | 0/10000 [00:00<?, ?it/s]"
      ]
     },
     "metadata": {},
     "output_type": "display_data"
    },
    {
     "name": "stdout",
     "output_type": "stream",
     "text": [
      "dtype changes from torch.float32 to torch.float64\n",
      "stack in local minimum --> break loop\n",
      "number of models is :  4\n",
      "dtype changes from torch.float64 to torch.float32\n",
      "target loss      : 18.0000152588\n",
      "initial loss     : 41.0771226195\n",
      "loss upper bound : 22.5461502075\n",
      "\n",
      "================================================== \n",
      "\n"
     ]
    },
    {
     "data": {
      "application/vnd.jupyter.widget-view+json": {
       "model_id": "e5a19450ca9f470cbb2584322212b236",
       "version_major": 2,
       "version_minor": 0
      },
      "text/plain": [
       "  0%|          | 0/10000 [00:00<?, ?it/s]"
      ]
     },
     "metadata": {},
     "output_type": "display_data"
    },
    {
     "name": "stdout",
     "output_type": "stream",
     "text": [
      "dtype changes from torch.float32 to torch.float64\n",
      "stack in local minimum --> break loop\n",
      "number of models is :  4\n",
      "dtype changes from torch.float64 to torch.float32\n",
      "target loss      : 18.0000152588\n",
      "initial loss     : 41.5063327887\n",
      "loss upper bound : 22.5461502075\n",
      "\n",
      "================================================== \n",
      "\n"
     ]
    },
    {
     "data": {
      "application/vnd.jupyter.widget-view+json": {
       "model_id": "91291504186d48518333490a53143486",
       "version_major": 2,
       "version_minor": 0
      },
      "text/plain": [
       "  0%|          | 0/10000 [00:00<?, ?it/s]"
      ]
     },
     "metadata": {},
     "output_type": "display_data"
    },
    {
     "name": "stdout",
     "output_type": "stream",
     "text": [
      "dtype changes from torch.float32 to torch.float64\n",
      "stack in local minimum --> break loop\n",
      "number of models is :  4\n",
      "dtype changes from torch.float64 to torch.float32\n",
      "target loss      : 18.0000152588\n",
      "initial loss     : 40.3844328541\n",
      "loss upper bound : 22.5461502075\n",
      "\n",
      "================================================== \n",
      "\n"
     ]
    },
    {
     "data": {
      "application/vnd.jupyter.widget-view+json": {
       "model_id": "8d5c6ca8c19643f28511f1b9c468da93",
       "version_major": 2,
       "version_minor": 0
      },
      "text/plain": [
       "  0%|          | 0/10000 [00:00<?, ?it/s]"
      ]
     },
     "metadata": {},
     "output_type": "display_data"
    },
    {
     "name": "stdout",
     "output_type": "stream",
     "text": [
      "dtype changes from torch.float32 to torch.float64\n",
      "No local minimum found\n",
      "stack in local minimum --> break loop\n",
      "number of models is :  4\n",
      "dtype changes from torch.float64 to torch.float32\n",
      "target loss      : 18.0000152588\n",
      "initial loss     : 40.8076297011\n",
      "loss upper bound : 22.5461502075\n",
      "\n",
      "================================================== \n",
      "\n"
     ]
    },
    {
     "data": {
      "application/vnd.jupyter.widget-view+json": {
       "model_id": "4b84e4e0e1b54fd18e9566c3621481b5",
       "version_major": 2,
       "version_minor": 0
      },
      "text/plain": [
       "  0%|          | 0/10000 [00:00<?, ?it/s]"
      ]
     },
     "metadata": {},
     "output_type": "display_data"
    },
    {
     "name": "stdout",
     "output_type": "stream",
     "text": [
      "dtype changes from torch.float32 to torch.float64\n",
      "stack in local minimum --> break loop\n",
      "number of models is :  4\n",
      "dtype changes from torch.float64 to torch.float32\n",
      "target loss      : 18.0000152588\n",
      "initial loss     : 40.6004212591\n",
      "loss upper bound : 22.5461502075\n",
      "\n",
      "================================================== \n",
      "\n"
     ]
    },
    {
     "data": {
      "application/vnd.jupyter.widget-view+json": {
       "model_id": "ba94b3fdea0f46b2a44608be2b40fda5",
       "version_major": 2,
       "version_minor": 0
      },
      "text/plain": [
       "  0%|          | 0/10000 [00:00<?, ?it/s]"
      ]
     },
     "metadata": {},
     "output_type": "display_data"
    },
    {
     "name": "stdout",
     "output_type": "stream",
     "text": [
      "dtype changes from torch.float32 to torch.float64\n",
      "stack in local minimum --> break loop\n",
      "number of models is :  4\n",
      "dtype changes from torch.float64 to torch.float32\n",
      "target loss      : 18.0000152588\n",
      "initial loss     : 40.7520835635\n",
      "loss upper bound : 22.5461502075\n",
      "\n",
      "================================================== \n",
      "\n"
     ]
    },
    {
     "data": {
      "application/vnd.jupyter.widget-view+json": {
       "model_id": "77defdcde4a04704a91c291b2041a4f1",
       "version_major": 2,
       "version_minor": 0
      },
      "text/plain": [
       "  0%|          | 0/10000 [00:00<?, ?it/s]"
      ]
     },
     "metadata": {},
     "output_type": "display_data"
    },
    {
     "name": "stdout",
     "output_type": "stream",
     "text": [
      "dtype changes from torch.float32 to torch.float64\n",
      "stack in local minimum --> break loop\n",
      "number of models is :  4\n",
      "dtype changes from torch.float64 to torch.float32\n",
      "target loss      : 18.0000152588\n",
      "initial loss     : 40.6978674665\n",
      "loss upper bound : 22.5461502075\n",
      "\n",
      "================================================== \n",
      "\n"
     ]
    },
    {
     "data": {
      "application/vnd.jupyter.widget-view+json": {
       "model_id": "9da66bf03498430aab9b33d5f167ef1b",
       "version_major": 2,
       "version_minor": 0
      },
      "text/plain": [
       "  0%|          | 0/10000 [00:00<?, ?it/s]"
      ]
     },
     "metadata": {},
     "output_type": "display_data"
    },
    {
     "name": "stdout",
     "output_type": "stream",
     "text": [
      "dtype changes from torch.float32 to torch.float64\n",
      "stack in local minimum --> break loop\n",
      "number of models is :  4\n",
      "dtype changes from torch.float64 to torch.float32\n",
      "target loss      : 18.0000152588\n",
      "initial loss     : 40.5675849099\n",
      "loss upper bound : 22.5461502075\n",
      "\n",
      "================================================== \n",
      "\n"
     ]
    },
    {
     "data": {
      "application/vnd.jupyter.widget-view+json": {
       "model_id": "32d625eb5c174b1ca2d5f17b2a021a4f",
       "version_major": 2,
       "version_minor": 0
      },
      "text/plain": [
       "  0%|          | 0/10000 [00:00<?, ?it/s]"
      ]
     },
     "metadata": {},
     "output_type": "display_data"
    },
    {
     "name": "stdout",
     "output_type": "stream",
     "text": [
      "dtype changes from torch.float32 to torch.float64\n",
      "stack in local minimum --> break loop\n",
      "number of models is :  4\n",
      "dtype changes from torch.float64 to torch.float32\n",
      "target loss      : 18.0000152588\n",
      "initial loss     : 41.0492115047\n",
      "loss upper bound : 22.5461502075\n",
      "\n",
      "================================================== \n",
      "\n"
     ]
    },
    {
     "data": {
      "application/vnd.jupyter.widget-view+json": {
       "model_id": "3ac86f40bf3c469e9a608f371e163996",
       "version_major": 2,
       "version_minor": 0
      },
      "text/plain": [
       "  0%|          | 0/10000 [00:00<?, ?it/s]"
      ]
     },
     "metadata": {},
     "output_type": "display_data"
    },
    {
     "name": "stdout",
     "output_type": "stream",
     "text": [
      "dtype changes from torch.float32 to torch.float64\n",
      "stack in local minimum --> break loop\n",
      "number of models is :  4\n",
      "dtype changes from torch.float64 to torch.float32\n",
      "target loss      : 18.0000152588\n",
      "initial loss     : 40.7336397625\n",
      "loss upper bound : 22.5461502075\n",
      "\n",
      "================================================== \n",
      "\n"
     ]
    },
    {
     "data": {
      "application/vnd.jupyter.widget-view+json": {
       "model_id": "4580251e609e45bcbaca44ba67c1be59",
       "version_major": 2,
       "version_minor": 0
      },
      "text/plain": [
       "  0%|          | 0/10000 [00:00<?, ?it/s]"
      ]
     },
     "metadata": {},
     "output_type": "display_data"
    },
    {
     "name": "stdout",
     "output_type": "stream",
     "text": [
      "dtype changes from torch.float32 to torch.float64\n",
      "stack in local minimum --> break loop\n",
      "number of models is :  4\n",
      "dtype changes from torch.float64 to torch.float32\n",
      "target loss      : 18.0000152588\n",
      "initial loss     : 41.5524389783\n",
      "loss upper bound : 22.5461502075\n",
      "\n",
      "================================================== \n",
      "\n"
     ]
    },
    {
     "data": {
      "application/vnd.jupyter.widget-view+json": {
       "model_id": "4e6fcc40059b47b59e2d0f5faa098590",
       "version_major": 2,
       "version_minor": 0
      },
      "text/plain": [
       "  0%|          | 0/10000 [00:00<?, ?it/s]"
      ]
     },
     "metadata": {},
     "output_type": "display_data"
    },
    {
     "name": "stdout",
     "output_type": "stream",
     "text": [
      "dtype changes from torch.float32 to torch.float64\n",
      "stack in local minimum --> break loop\n",
      "number of models is :  4\n",
      "dtype changes from torch.float64 to torch.float32\n",
      "target loss      : 18.0000152588\n",
      "initial loss     : 41.6563130102\n",
      "loss upper bound : 22.5461502075\n",
      "\n",
      "================================================== \n",
      "\n"
     ]
    },
    {
     "data": {
      "application/vnd.jupyter.widget-view+json": {
       "model_id": "63c44cf742e3415bb93cb9adb44080f5",
       "version_major": 2,
       "version_minor": 0
      },
      "text/plain": [
       "  0%|          | 0/10000 [00:00<?, ?it/s]"
      ]
     },
     "metadata": {},
     "output_type": "display_data"
    },
    {
     "name": "stdout",
     "output_type": "stream",
     "text": [
      "dtype changes from torch.float32 to torch.float64\n",
      "stack in local minimum --> break loop\n",
      "number of models is :  4\n",
      "dtype changes from torch.float64 to torch.float32\n",
      "target loss      : 18.0000152588\n",
      "initial loss     : 39.6141744449\n",
      "loss upper bound : 22.5461502075\n",
      "\n",
      "================================================== \n",
      "\n"
     ]
    },
    {
     "data": {
      "application/vnd.jupyter.widget-view+json": {
       "model_id": "0a577c0d2b2a40a29b4aabd8acc63710",
       "version_major": 2,
       "version_minor": 0
      },
      "text/plain": [
       "  0%|          | 0/10000 [00:00<?, ?it/s]"
      ]
     },
     "metadata": {},
     "output_type": "display_data"
    },
    {
     "name": "stdout",
     "output_type": "stream",
     "text": [
      "dtype changes from torch.float32 to torch.float64\n",
      "stack in local minimum --> break loop\n",
      "number of models is :  4\n",
      "dtype changes from torch.float64 to torch.float32\n",
      "target loss      : 18.0000152588\n",
      "initial loss     : 41.5500349905\n",
      "loss upper bound : 22.5461502075\n",
      "\n",
      "================================================== \n",
      "\n"
     ]
    },
    {
     "data": {
      "application/vnd.jupyter.widget-view+json": {
       "model_id": "1e109d56384e4a5db938f5c2ad10c94d",
       "version_major": 2,
       "version_minor": 0
      },
      "text/plain": [
       "  0%|          | 0/10000 [00:00<?, ?it/s]"
      ]
     },
     "metadata": {},
     "output_type": "display_data"
    },
    {
     "name": "stdout",
     "output_type": "stream",
     "text": [
      "dtype changes from torch.float32 to torch.float64\n",
      "stack in local minimum --> break loop\n",
      "number of models is :  4\n",
      "dtype changes from torch.float64 to torch.float32\n",
      "target loss      : 18.0000152588\n",
      "initial loss     : 40.9559058665\n",
      "loss upper bound : 22.5461502075\n",
      "\n",
      "================================================== \n",
      "\n"
     ]
    },
    {
     "data": {
      "application/vnd.jupyter.widget-view+json": {
       "model_id": "d13cbe8907264fd6919edad2aee16234",
       "version_major": 2,
       "version_minor": 0
      },
      "text/plain": [
       "  0%|          | 0/10000 [00:00<?, ?it/s]"
      ]
     },
     "metadata": {},
     "output_type": "display_data"
    },
    {
     "name": "stdout",
     "output_type": "stream",
     "text": [
      "dtype changes from torch.float32 to torch.float64\n",
      "stack in local minimum --> break loop\n",
      "number of models is :  4\n",
      "dtype changes from torch.float64 to torch.float32\n",
      "target loss      : 18.0000152588\n",
      "initial loss     : 40.6496810408\n",
      "loss upper bound : 22.5461502075\n",
      "\n",
      "================================================== \n",
      "\n"
     ]
    },
    {
     "data": {
      "application/vnd.jupyter.widget-view+json": {
       "model_id": "6a7d62166c1048aeae7c5e5996866516",
       "version_major": 2,
       "version_minor": 0
      },
      "text/plain": [
       "  0%|          | 0/10000 [00:00<?, ?it/s]"
      ]
     },
     "metadata": {},
     "output_type": "display_data"
    },
    {
     "name": "stdout",
     "output_type": "stream",
     "text": [
      "dtype changes from torch.float32 to torch.float64\n",
      "stack in local minimum --> break loop\n",
      "number of models is :  4\n",
      "dtype changes from torch.float64 to torch.float32\n",
      "target loss      : 18.0000152588\n",
      "initial loss     : 41.6591964330\n",
      "loss upper bound : 22.5461502075\n",
      "\n",
      "================================================== \n",
      "\n"
     ]
    },
    {
     "data": {
      "application/vnd.jupyter.widget-view+json": {
       "model_id": "482c867839ce41e58b457fbf7988e69e",
       "version_major": 2,
       "version_minor": 0
      },
      "text/plain": [
       "  0%|          | 0/10000 [00:00<?, ?it/s]"
      ]
     },
     "metadata": {},
     "output_type": "display_data"
    },
    {
     "name": "stdout",
     "output_type": "stream",
     "text": [
      "dtype changes from torch.float32 to torch.float64\n",
      "stack in local minimum --> break loop\n",
      "number of models is :  4\n",
      "dtype changes from torch.float64 to torch.float32\n",
      "target loss      : 18.0000152588\n",
      "initial loss     : 41.7389323298\n",
      "loss upper bound : 22.5461502075\n",
      "\n",
      "================================================== \n",
      "\n"
     ]
    },
    {
     "data": {
      "application/vnd.jupyter.widget-view+json": {
       "model_id": "92a469083903446ebd43daa2708c00c1",
       "version_major": 2,
       "version_minor": 0
      },
      "text/plain": [
       "  0%|          | 0/10000 [00:00<?, ?it/s]"
      ]
     },
     "metadata": {},
     "output_type": "display_data"
    },
    {
     "name": "stdout",
     "output_type": "stream",
     "text": [
      "dtype changes from torch.float32 to torch.float64\n",
      "stack in local minimum --> break loop\n",
      "number of models is :  4\n",
      "dtype changes from torch.float64 to torch.float32\n",
      "target loss      : 18.0000152588\n",
      "initial loss     : 41.1630467516\n",
      "loss upper bound : 22.5461502075\n",
      "\n",
      "================================================== \n",
      "\n"
     ]
    },
    {
     "data": {
      "application/vnd.jupyter.widget-view+json": {
       "model_id": "a697b361b3e9484aac308e67ec27cd59",
       "version_major": 2,
       "version_minor": 0
      },
      "text/plain": [
       "  0%|          | 0/10000 [00:00<?, ?it/s]"
      ]
     },
     "metadata": {},
     "output_type": "display_data"
    },
    {
     "name": "stdout",
     "output_type": "stream",
     "text": [
      "dtype changes from torch.float32 to torch.float64\n",
      "stack in local minimum --> break loop\n",
      "number of models is :  4\n",
      "dtype changes from torch.float64 to torch.float32\n",
      "target loss      : 18.0000152588\n",
      "initial loss     : 41.3288241706\n",
      "loss upper bound : 22.5461502075\n",
      "\n",
      "================================================== \n",
      "\n"
     ]
    },
    {
     "data": {
      "application/vnd.jupyter.widget-view+json": {
       "model_id": "e7601284805b4ae3a9be195ecae877c2",
       "version_major": 2,
       "version_minor": 0
      },
      "text/plain": [
       "  0%|          | 0/10000 [00:00<?, ?it/s]"
      ]
     },
     "metadata": {},
     "output_type": "display_data"
    },
    {
     "name": "stdout",
     "output_type": "stream",
     "text": [
      "dtype changes from torch.float32 to torch.float64\n",
      "stack in local minimum --> break loop\n",
      "number of models is :  4\n",
      "dtype changes from torch.float64 to torch.float32\n",
      "target loss      : 18.0000152588\n",
      "initial loss     : 42.2839152185\n",
      "loss upper bound : 22.5461502075\n",
      "\n",
      "================================================== \n",
      "\n"
     ]
    },
    {
     "data": {
      "application/vnd.jupyter.widget-view+json": {
       "model_id": "ac25b4d1edfa4127871ee890e81e9e6c",
       "version_major": 2,
       "version_minor": 0
      },
      "text/plain": [
       "  0%|          | 0/10000 [00:00<?, ?it/s]"
      ]
     },
     "metadata": {},
     "output_type": "display_data"
    },
    {
     "name": "stdout",
     "output_type": "stream",
     "text": [
      "dtype changes from torch.float32 to torch.float64\n",
      "stack in local minimum --> break loop\n",
      "number of models is :  4\n",
      "dtype changes from torch.float64 to torch.float32\n",
      "target loss      : 18.0000152588\n",
      "initial loss     : 40.2157503206\n",
      "loss upper bound : 22.5461502075\n",
      "\n",
      "================================================== \n",
      "\n"
     ]
    },
    {
     "data": {
      "application/vnd.jupyter.widget-view+json": {
       "model_id": "c955b9e3f81c49998cf70b3a88675ca4",
       "version_major": 2,
       "version_minor": 0
      },
      "text/plain": [
       "  0%|          | 0/10000 [00:00<?, ?it/s]"
      ]
     },
     "metadata": {},
     "output_type": "display_data"
    },
    {
     "name": "stdout",
     "output_type": "stream",
     "text": [
      "dtype changes from torch.float32 to torch.float64\n",
      "stack in local minimum --> break loop\n",
      "number of models is :  4\n",
      "dtype changes from torch.float64 to torch.float32\n",
      "target loss      : 18.0000152588\n",
      "initial loss     : 41.5369586332\n",
      "loss upper bound : 22.5461502075\n",
      "\n",
      "================================================== \n",
      "\n"
     ]
    },
    {
     "data": {
      "application/vnd.jupyter.widget-view+json": {
       "model_id": "c56bfb0a0b3547efb2f2f5651a644f47",
       "version_major": 2,
       "version_minor": 0
      },
      "text/plain": [
       "  0%|          | 0/10000 [00:00<?, ?it/s]"
      ]
     },
     "metadata": {},
     "output_type": "display_data"
    },
    {
     "name": "stdout",
     "output_type": "stream",
     "text": [
      "dtype changes from torch.float32 to torch.float64\n",
      "stack in local minimum --> break loop\n",
      "number of models is :  4\n",
      "dtype changes from torch.float64 to torch.float32\n",
      "target loss      : 18.0000152588\n",
      "initial loss     : 40.1771193298\n",
      "loss upper bound : 22.5461502075\n",
      "\n",
      "================================================== \n",
      "\n"
     ]
    },
    {
     "data": {
      "application/vnd.jupyter.widget-view+json": {
       "model_id": "31f9f43c7a4042adab1031c502cbcaa5",
       "version_major": 2,
       "version_minor": 0
      },
      "text/plain": [
       "  0%|          | 0/10000 [00:00<?, ?it/s]"
      ]
     },
     "metadata": {},
     "output_type": "display_data"
    },
    {
     "name": "stdout",
     "output_type": "stream",
     "text": [
      "dtype changes from torch.float32 to torch.float64\n",
      "stack in local minimum --> break loop\n",
      "number of models is :  4\n",
      "dtype changes from torch.float64 to torch.float32\n",
      "target loss      : 18.0000152588\n",
      "initial loss     : 41.2848707901\n",
      "loss upper bound : 22.5461502075\n",
      "\n",
      "================================================== \n",
      "\n"
     ]
    },
    {
     "data": {
      "application/vnd.jupyter.widget-view+json": {
       "model_id": "ecf37ea9daab4eceb9d68c787e6458c6",
       "version_major": 2,
       "version_minor": 0
      },
      "text/plain": [
       "  0%|          | 0/10000 [00:00<?, ?it/s]"
      ]
     },
     "metadata": {},
     "output_type": "display_data"
    },
    {
     "name": "stdout",
     "output_type": "stream",
     "text": [
      "dtype changes from torch.float32 to torch.float64\n",
      "stack in local minimum --> break loop\n",
      "number of models is :  4\n",
      "dtype changes from torch.float64 to torch.float32\n",
      "target loss      : 18.0000152588\n",
      "initial loss     : 39.8767330117\n",
      "loss upper bound : 22.5461502075\n",
      "\n",
      "================================================== \n",
      "\n"
     ]
    },
    {
     "data": {
      "application/vnd.jupyter.widget-view+json": {
       "model_id": "883b79b0e0b549768a00b35847dc0834",
       "version_major": 2,
       "version_minor": 0
      },
      "text/plain": [
       "  0%|          | 0/10000 [00:00<?, ?it/s]"
      ]
     },
     "metadata": {},
     "output_type": "display_data"
    },
    {
     "name": "stdout",
     "output_type": "stream",
     "text": [
      "dtype changes from torch.float32 to torch.float64\n",
      "stack in local minimum --> break loop\n",
      "\n",
      "best_fun : 20.59930656618408\n",
      "\n",
      "number of models is :  4\n",
      "dtype changes from torch.float64 to torch.float32\n",
      "target loss      : 18.0000152588\n",
      "initial loss     : 41.5702675063\n",
      "loss upper bound : 22.5461502075\n",
      "\n",
      "================================================== \n",
      "\n"
     ]
    },
    {
     "data": {
      "application/vnd.jupyter.widget-view+json": {
       "model_id": "96a35e2ff52d47aa9cee1ebaeeccb6a0",
       "version_major": 2,
       "version_minor": 0
      },
      "text/plain": [
       "  0%|          | 0/10000 [00:00<?, ?it/s]"
      ]
     },
     "metadata": {},
     "output_type": "display_data"
    },
    {
     "name": "stdout",
     "output_type": "stream",
     "text": [
      "dtype changes from torch.float32 to torch.float64\n",
      "stack in local minimum --> break loop\n",
      "number of models is :  4\n",
      "dtype changes from torch.float64 to torch.float32\n",
      "target loss      : 18.0000152588\n",
      "initial loss     : 41.8335492301\n",
      "loss upper bound : 22.5461502075\n",
      "\n",
      "================================================== \n",
      "\n"
     ]
    },
    {
     "data": {
      "application/vnd.jupyter.widget-view+json": {
       "model_id": "bd8a44036da843d7ae95ac3034702bad",
       "version_major": 2,
       "version_minor": 0
      },
      "text/plain": [
       "  0%|          | 0/10000 [00:00<?, ?it/s]"
      ]
     },
     "metadata": {},
     "output_type": "display_data"
    },
    {
     "name": "stdout",
     "output_type": "stream",
     "text": [
      "dtype changes from torch.float32 to torch.float64\n",
      "stack in local minimum --> break loop\n",
      "number of models is :  4\n",
      "dtype changes from torch.float64 to torch.float32\n",
      "target loss      : 18.0000152588\n",
      "initial loss     : 41.7625291942\n",
      "loss upper bound : 22.5461502075\n",
      "\n",
      "================================================== \n",
      "\n"
     ]
    },
    {
     "data": {
      "application/vnd.jupyter.widget-view+json": {
       "model_id": "b896f25cd2104a59a947abd83142c460",
       "version_major": 2,
       "version_minor": 0
      },
      "text/plain": [
       "  0%|          | 0/10000 [00:00<?, ?it/s]"
      ]
     },
     "metadata": {},
     "output_type": "display_data"
    },
    {
     "name": "stdout",
     "output_type": "stream",
     "text": [
      "dtype changes from torch.float32 to torch.float64\n",
      "stack in local minimum --> break loop\n",
      "number of models is :  4\n",
      "dtype changes from torch.float64 to torch.float32\n",
      "target loss      : 18.0000152588\n",
      "initial loss     : 41.0882405795\n",
      "loss upper bound : 22.5461502075\n",
      "\n",
      "================================================== \n",
      "\n"
     ]
    },
    {
     "data": {
      "application/vnd.jupyter.widget-view+json": {
       "model_id": "d3f96f9efe7a45548280cc1ce34fbbbf",
       "version_major": 2,
       "version_minor": 0
      },
      "text/plain": [
       "  0%|          | 0/10000 [00:00<?, ?it/s]"
      ]
     },
     "metadata": {},
     "output_type": "display_data"
    },
    {
     "name": "stdout",
     "output_type": "stream",
     "text": [
      "dtype changes from torch.float32 to torch.float64\n",
      "stack in local minimum --> break loop\n",
      "number of models is :  4\n",
      "dtype changes from torch.float64 to torch.float32\n",
      "target loss      : 18.0000152588\n",
      "initial loss     : 41.5565604109\n",
      "loss upper bound : 22.5461502075\n",
      "\n",
      "================================================== \n",
      "\n"
     ]
    },
    {
     "data": {
      "application/vnd.jupyter.widget-view+json": {
       "model_id": "d5cab480bd4a48beb42cf1183a07e0a0",
       "version_major": 2,
       "version_minor": 0
      },
      "text/plain": [
       "  0%|          | 0/10000 [00:00<?, ?it/s]"
      ]
     },
     "metadata": {},
     "output_type": "display_data"
    },
    {
     "name": "stdout",
     "output_type": "stream",
     "text": [
      "dtype changes from torch.float32 to torch.float64\n",
      "stack in local minimum --> break loop\n",
      "number of models is :  4\n",
      "dtype changes from torch.float64 to torch.float32\n",
      "target loss      : 18.0000152588\n",
      "initial loss     : 41.7853447624\n",
      "loss upper bound : 22.5461502075\n",
      "\n",
      "================================================== \n",
      "\n"
     ]
    },
    {
     "data": {
      "application/vnd.jupyter.widget-view+json": {
       "model_id": "b21b7a9ff9674b409b3860ac2ee3903d",
       "version_major": 2,
       "version_minor": 0
      },
      "text/plain": [
       "  0%|          | 0/10000 [00:00<?, ?it/s]"
      ]
     },
     "metadata": {},
     "output_type": "display_data"
    },
    {
     "name": "stdout",
     "output_type": "stream",
     "text": [
      "dtype changes from torch.float32 to torch.float64\n",
      "stack in local minimum --> break loop\n",
      "number of models is :  4\n",
      "dtype changes from torch.float64 to torch.float32\n",
      "target loss      : 18.0000152588\n",
      "initial loss     : 41.2693150655\n",
      "loss upper bound : 22.5461502075\n",
      "\n",
      "================================================== \n",
      "\n"
     ]
    },
    {
     "data": {
      "application/vnd.jupyter.widget-view+json": {
       "model_id": "ec6042b06c8f49aab04f160f9d129e64",
       "version_major": 2,
       "version_minor": 0
      },
      "text/plain": [
       "  0%|          | 0/10000 [00:00<?, ?it/s]"
      ]
     },
     "metadata": {},
     "output_type": "display_data"
    },
    {
     "name": "stdout",
     "output_type": "stream",
     "text": [
      "dtype changes from torch.float32 to torch.float64\n",
      "No local minimum found\n",
      "stack in local minimum --> break loop\n",
      "number of models is :  4\n",
      "dtype changes from torch.float64 to torch.float32\n",
      "target loss      : 18.0000152588\n",
      "initial loss     : 42.0395054437\n",
      "loss upper bound : 22.5461502075\n",
      "\n",
      "================================================== \n",
      "\n"
     ]
    },
    {
     "data": {
      "application/vnd.jupyter.widget-view+json": {
       "model_id": "811ae8d479a64fd4ae24f0212a79ca2d",
       "version_major": 2,
       "version_minor": 0
      },
      "text/plain": [
       "  0%|          | 0/10000 [00:00<?, ?it/s]"
      ]
     },
     "metadata": {},
     "output_type": "display_data"
    },
    {
     "name": "stdout",
     "output_type": "stream",
     "text": [
      "dtype changes from torch.float32 to torch.float64\n",
      "stack in local minimum --> break loop\n",
      "number of models is :  4\n",
      "dtype changes from torch.float64 to torch.float32\n",
      "target loss      : 18.0000152588\n",
      "initial loss     : 40.2937851113\n",
      "loss upper bound : 22.5461502075\n",
      "\n",
      "================================================== \n",
      "\n"
     ]
    },
    {
     "data": {
      "application/vnd.jupyter.widget-view+json": {
       "model_id": "4ce168a10380439789451d9d7fc5387e",
       "version_major": 2,
       "version_minor": 0
      },
      "text/plain": [
       "  0%|          | 0/10000 [00:00<?, ?it/s]"
      ]
     },
     "metadata": {},
     "output_type": "display_data"
    },
    {
     "name": "stdout",
     "output_type": "stream",
     "text": [
      "dtype changes from torch.float32 to torch.float64\n",
      "stack in local minimum --> break loop\n",
      "number of models is :  4\n",
      "dtype changes from torch.float64 to torch.float32\n",
      "target loss      : 18.0000152588\n",
      "initial loss     : 40.7342657811\n",
      "loss upper bound : 22.5461502075\n",
      "\n",
      "================================================== \n",
      "\n"
     ]
    },
    {
     "data": {
      "application/vnd.jupyter.widget-view+json": {
       "model_id": "16bfa9904eb54c90a7dbe1b98747e3cc",
       "version_major": 2,
       "version_minor": 0
      },
      "text/plain": [
       "  0%|          | 0/10000 [00:00<?, ?it/s]"
      ]
     },
     "metadata": {},
     "output_type": "display_data"
    },
    {
     "name": "stdout",
     "output_type": "stream",
     "text": [
      "dtype changes from torch.float32 to torch.float64\n",
      "stack in local minimum --> break loop\n",
      "number of models is :  4\n",
      "dtype changes from torch.float64 to torch.float32\n",
      "target loss      : 18.0000152588\n",
      "initial loss     : 40.7984437667\n",
      "loss upper bound : 22.5461502075\n",
      "\n",
      "================================================== \n",
      "\n"
     ]
    },
    {
     "data": {
      "application/vnd.jupyter.widget-view+json": {
       "model_id": "2c6389ed40be46a9a0b7f1a937d6d4da",
       "version_major": 2,
       "version_minor": 0
      },
      "text/plain": [
       "  0%|          | 0/10000 [00:00<?, ?it/s]"
      ]
     },
     "metadata": {},
     "output_type": "display_data"
    },
    {
     "name": "stdout",
     "output_type": "stream",
     "text": [
      "dtype changes from torch.float32 to torch.float64\n",
      "stack in local minimum --> break loop\n",
      "number of models is :  4\n",
      "dtype changes from torch.float64 to torch.float32\n",
      "target loss      : 18.0000152588\n",
      "initial loss     : 39.8376748864\n",
      "loss upper bound : 22.5461502075\n",
      "\n",
      "================================================== \n",
      "\n"
     ]
    },
    {
     "data": {
      "application/vnd.jupyter.widget-view+json": {
       "model_id": "412307602ad145c3be35318f38d2a75b",
       "version_major": 2,
       "version_minor": 0
      },
      "text/plain": [
       "  0%|          | 0/10000 [00:00<?, ?it/s]"
      ]
     },
     "metadata": {},
     "output_type": "display_data"
    },
    {
     "name": "stdout",
     "output_type": "stream",
     "text": [
      "dtype changes from torch.float32 to torch.float64\n",
      "stack in local minimum --> break loop\n",
      "number of models is :  4\n",
      "dtype changes from torch.float64 to torch.float32\n",
      "target loss      : 18.0000152588\n",
      "initial loss     : 41.3418189982\n",
      "loss upper bound : 22.5461502075\n",
      "\n",
      "================================================== \n",
      "\n"
     ]
    },
    {
     "data": {
      "application/vnd.jupyter.widget-view+json": {
       "model_id": "67fd20f59f2e49e8a662e9d3290dd137",
       "version_major": 2,
       "version_minor": 0
      },
      "text/plain": [
       "  0%|          | 0/10000 [00:00<?, ?it/s]"
      ]
     },
     "metadata": {},
     "output_type": "display_data"
    },
    {
     "name": "stdout",
     "output_type": "stream",
     "text": [
      "dtype changes from torch.float32 to torch.float64\n",
      "stack in local minimum --> break loop\n",
      "number of models is :  4\n",
      "dtype changes from torch.float64 to torch.float32\n",
      "target loss      : 18.0000152588\n",
      "initial loss     : 40.2924790580\n",
      "loss upper bound : 22.5461502075\n",
      "\n",
      "================================================== \n",
      "\n"
     ]
    },
    {
     "data": {
      "application/vnd.jupyter.widget-view+json": {
       "model_id": "57fe458c026c4ddba8ce3b7a7ba02ceb",
       "version_major": 2,
       "version_minor": 0
      },
      "text/plain": [
       "  0%|          | 0/10000 [00:00<?, ?it/s]"
      ]
     },
     "metadata": {},
     "output_type": "display_data"
    },
    {
     "name": "stdout",
     "output_type": "stream",
     "text": [
      "dtype changes from torch.float32 to torch.float64\n",
      "stack in local minimum --> break loop\n",
      "number of models is :  4\n",
      "dtype changes from torch.float64 to torch.float32\n",
      "target loss      : 18.0000152588\n",
      "initial loss     : 40.2301861431\n",
      "loss upper bound : 22.5461502075\n",
      "\n",
      "================================================== \n",
      "\n"
     ]
    },
    {
     "data": {
      "application/vnd.jupyter.widget-view+json": {
       "model_id": "3b94d9e2b5764a68bf04b08ddeabce9e",
       "version_major": 2,
       "version_minor": 0
      },
      "text/plain": [
       "  0%|          | 0/10000 [00:00<?, ?it/s]"
      ]
     },
     "metadata": {},
     "output_type": "display_data"
    },
    {
     "name": "stdout",
     "output_type": "stream",
     "text": [
      "dtype changes from torch.float32 to torch.float64\n",
      "stack in local minimum --> break loop\n",
      "number of models is :  4\n",
      "dtype changes from torch.float64 to torch.float32\n",
      "target loss      : 18.0000152588\n",
      "initial loss     : 40.6022284859\n",
      "loss upper bound : 22.5461502075\n",
      "\n",
      "================================================== \n",
      "\n"
     ]
    },
    {
     "data": {
      "application/vnd.jupyter.widget-view+json": {
       "model_id": "3082fddfdc9c488f86754d5bc29459a4",
       "version_major": 2,
       "version_minor": 0
      },
      "text/plain": [
       "  0%|          | 0/10000 [00:00<?, ?it/s]"
      ]
     },
     "metadata": {},
     "output_type": "display_data"
    },
    {
     "name": "stdout",
     "output_type": "stream",
     "text": [
      "dtype changes from torch.float32 to torch.float64\n",
      "stack in local minimum --> break loop\n",
      "number of models is :  4\n",
      "dtype changes from torch.float64 to torch.float32\n",
      "target loss      : 18.0000152588\n",
      "initial loss     : 41.7627939991\n",
      "loss upper bound : 22.5461502075\n",
      "\n",
      "================================================== \n",
      "\n"
     ]
    },
    {
     "data": {
      "application/vnd.jupyter.widget-view+json": {
       "model_id": "93b190e010ae4d96b88b14659d0bf7e3",
       "version_major": 2,
       "version_minor": 0
      },
      "text/plain": [
       "  0%|          | 0/10000 [00:00<?, ?it/s]"
      ]
     },
     "metadata": {},
     "output_type": "display_data"
    },
    {
     "name": "stdout",
     "output_type": "stream",
     "text": [
      "dtype changes from torch.float32 to torch.float64\n",
      "stack in local minimum --> break loop\n",
      "number of models is :  4\n",
      "dtype changes from torch.float64 to torch.float32\n",
      "target loss      : 18.0000152588\n",
      "initial loss     : 41.2183032474\n",
      "loss upper bound : 22.5461502075\n",
      "\n",
      "================================================== \n",
      "\n"
     ]
    },
    {
     "data": {
      "application/vnd.jupyter.widget-view+json": {
       "model_id": "77806c9d0c3246e2acae6762b4fbb2d2",
       "version_major": 2,
       "version_minor": 0
      },
      "text/plain": [
       "  0%|          | 0/10000 [00:00<?, ?it/s]"
      ]
     },
     "metadata": {},
     "output_type": "display_data"
    },
    {
     "name": "stdout",
     "output_type": "stream",
     "text": [
      "dtype changes from torch.float32 to torch.float64\n",
      "stack in local minimum --> break loop\n",
      "number of models is :  4\n",
      "dtype changes from torch.float64 to torch.float32\n",
      "target loss      : 18.0000152588\n",
      "initial loss     : 39.9182781404\n",
      "loss upper bound : 22.5461502075\n",
      "\n",
      "================================================== \n",
      "\n"
     ]
    },
    {
     "data": {
      "application/vnd.jupyter.widget-view+json": {
       "model_id": "923c8e43143b4484904f79b38d416cfe",
       "version_major": 2,
       "version_minor": 0
      },
      "text/plain": [
       "  0%|          | 0/10000 [00:00<?, ?it/s]"
      ]
     },
     "metadata": {},
     "output_type": "display_data"
    },
    {
     "name": "stdout",
     "output_type": "stream",
     "text": [
      "dtype changes from torch.float32 to torch.float64\n",
      "stack in local minimum --> break loop\n",
      "number of models is :  4\n",
      "dtype changes from torch.float64 to torch.float32\n",
      "target loss      : 18.0000152588\n",
      "initial loss     : 41.6794833203\n",
      "loss upper bound : 22.5461502075\n",
      "\n",
      "================================================== \n",
      "\n"
     ]
    },
    {
     "data": {
      "application/vnd.jupyter.widget-view+json": {
       "model_id": "01a8269d0169493f9e3d6f2bf7111a0e",
       "version_major": 2,
       "version_minor": 0
      },
      "text/plain": [
       "  0%|          | 0/10000 [00:00<?, ?it/s]"
      ]
     },
     "metadata": {},
     "output_type": "display_data"
    },
    {
     "name": "stdout",
     "output_type": "stream",
     "text": [
      "dtype changes from torch.float32 to torch.float64\n",
      "stack in local minimum --> break loop\n",
      "number of models is :  4\n",
      "dtype changes from torch.float64 to torch.float32\n",
      "target loss      : 18.0000152588\n",
      "initial loss     : 40.9755001827\n",
      "loss upper bound : 22.5461502075\n",
      "\n",
      "================================================== \n",
      "\n"
     ]
    },
    {
     "data": {
      "application/vnd.jupyter.widget-view+json": {
       "model_id": "ac6bd0ac5bc740b6b6f4fbd6c124a2ab",
       "version_major": 2,
       "version_minor": 0
      },
      "text/plain": [
       "  0%|          | 0/10000 [00:00<?, ?it/s]"
      ]
     },
     "metadata": {},
     "output_type": "display_data"
    },
    {
     "name": "stdout",
     "output_type": "stream",
     "text": [
      "dtype changes from torch.float32 to torch.float64\n",
      "stack in local minimum --> break loop\n",
      "number of models is :  4\n",
      "dtype changes from torch.float64 to torch.float32\n",
      "target loss      : 18.0000152588\n",
      "initial loss     : 40.4415944408\n",
      "loss upper bound : 22.5461502075\n",
      "\n",
      "================================================== \n",
      "\n"
     ]
    },
    {
     "data": {
      "application/vnd.jupyter.widget-view+json": {
       "model_id": "c0a77d210d9d430e804c53a56e9646a1",
       "version_major": 2,
       "version_minor": 0
      },
      "text/plain": [
       "  0%|          | 0/10000 [00:00<?, ?it/s]"
      ]
     },
     "metadata": {},
     "output_type": "display_data"
    },
    {
     "name": "stdout",
     "output_type": "stream",
     "text": [
      "dtype changes from torch.float32 to torch.float64\n",
      "stack in local minimum --> break loop\n",
      "number of models is :  4\n",
      "dtype changes from torch.float64 to torch.float32\n",
      "target loss      : 18.0000152588\n",
      "initial loss     : 40.9248743730\n",
      "loss upper bound : 22.5461502075\n",
      "\n",
      "================================================== \n",
      "\n"
     ]
    },
    {
     "data": {
      "application/vnd.jupyter.widget-view+json": {
       "model_id": "8e368533e78641759a7559032ee1bf89",
       "version_major": 2,
       "version_minor": 0
      },
      "text/plain": [
       "  0%|          | 0/10000 [00:00<?, ?it/s]"
      ]
     },
     "metadata": {},
     "output_type": "display_data"
    },
    {
     "name": "stdout",
     "output_type": "stream",
     "text": [
      "dtype changes from torch.float32 to torch.float64\n",
      "stack in local minimum --> break loop\n",
      "number of models is :  4\n",
      "dtype changes from torch.float64 to torch.float32\n",
      "target loss      : 18.0000152588\n",
      "initial loss     : 41.6453835699\n",
      "loss upper bound : 22.5461502075\n",
      "\n",
      "================================================== \n",
      "\n"
     ]
    },
    {
     "data": {
      "application/vnd.jupyter.widget-view+json": {
       "model_id": "65bdcb5ff8f642e0b8cde43588077e09",
       "version_major": 2,
       "version_minor": 0
      },
      "text/plain": [
       "  0%|          | 0/10000 [00:00<?, ?it/s]"
      ]
     },
     "metadata": {},
     "output_type": "display_data"
    },
    {
     "name": "stdout",
     "output_type": "stream",
     "text": [
      "dtype changes from torch.float32 to torch.float64\n",
      "stack in local minimum --> break loop\n",
      "number of models is :  4\n",
      "dtype changes from torch.float64 to torch.float32\n",
      "target loss      : 18.0000152588\n",
      "initial loss     : 41.5647073531\n",
      "loss upper bound : 22.5461502075\n",
      "\n",
      "================================================== \n",
      "\n"
     ]
    },
    {
     "data": {
      "application/vnd.jupyter.widget-view+json": {
       "model_id": "2823331ce61845cf94614b213d7dccb0",
       "version_major": 2,
       "version_minor": 0
      },
      "text/plain": [
       "  0%|          | 0/10000 [00:00<?, ?it/s]"
      ]
     },
     "metadata": {},
     "output_type": "display_data"
    },
    {
     "name": "stdout",
     "output_type": "stream",
     "text": [
      "dtype changes from torch.float32 to torch.float64\n",
      "stack in local minimum --> break loop\n",
      "number of models is :  4\n",
      "dtype changes from torch.float64 to torch.float32\n",
      "target loss      : 18.0000152588\n",
      "initial loss     : 41.0651632939\n",
      "loss upper bound : 22.5461502075\n",
      "\n",
      "================================================== \n",
      "\n"
     ]
    },
    {
     "data": {
      "application/vnd.jupyter.widget-view+json": {
       "model_id": "a0478ca302674df198a705f0227cb013",
       "version_major": 2,
       "version_minor": 0
      },
      "text/plain": [
       "  0%|          | 0/10000 [00:00<?, ?it/s]"
      ]
     },
     "metadata": {},
     "output_type": "display_data"
    },
    {
     "name": "stdout",
     "output_type": "stream",
     "text": [
      "dtype changes from torch.float32 to torch.float64\n",
      "stack in local minimum --> break loop\n",
      "number of models is :  4\n",
      "dtype changes from torch.float64 to torch.float32\n",
      "target loss      : 18.0000152588\n",
      "initial loss     : 42.2593885077\n",
      "loss upper bound : 22.5461502075\n",
      "\n",
      "================================================== \n",
      "\n"
     ]
    },
    {
     "data": {
      "application/vnd.jupyter.widget-view+json": {
       "model_id": "480f5ed3fe3c465bb8dbca8a39ed74d4",
       "version_major": 2,
       "version_minor": 0
      },
      "text/plain": [
       "  0%|          | 0/10000 [00:00<?, ?it/s]"
      ]
     },
     "metadata": {},
     "output_type": "display_data"
    },
    {
     "name": "stdout",
     "output_type": "stream",
     "text": [
      "dtype changes from torch.float32 to torch.float64\n",
      "stack in local minimum --> break loop\n",
      "number of models is :  4\n",
      "dtype changes from torch.float64 to torch.float32\n",
      "target loss      : 18.0000152588\n",
      "initial loss     : 41.3798304957\n",
      "loss upper bound : 22.5461502075\n",
      "\n",
      "================================================== \n",
      "\n"
     ]
    },
    {
     "data": {
      "application/vnd.jupyter.widget-view+json": {
       "model_id": "7cd957dca8ce4504b633d738821db62b",
       "version_major": 2,
       "version_minor": 0
      },
      "text/plain": [
       "  0%|          | 0/10000 [00:00<?, ?it/s]"
      ]
     },
     "metadata": {},
     "output_type": "display_data"
    },
    {
     "name": "stdout",
     "output_type": "stream",
     "text": [
      "dtype changes from torch.float32 to torch.float64\n",
      "stack in local minimum --> break loop\n",
      "number of models is :  4\n",
      "dtype changes from torch.float64 to torch.float32\n",
      "target loss      : 18.0000152588\n",
      "initial loss     : 41.1043613461\n",
      "loss upper bound : 22.5461502075\n",
      "\n",
      "================================================== \n",
      "\n"
     ]
    },
    {
     "data": {
      "application/vnd.jupyter.widget-view+json": {
       "model_id": "38a8e9f51939440e99b17d8cc174092e",
       "version_major": 2,
       "version_minor": 0
      },
      "text/plain": [
       "  0%|          | 0/10000 [00:00<?, ?it/s]"
      ]
     },
     "metadata": {},
     "output_type": "display_data"
    },
    {
     "name": "stdout",
     "output_type": "stream",
     "text": [
      "dtype changes from torch.float32 to torch.float64\n",
      "stack in local minimum --> break loop\n",
      "number of models is :  4\n",
      "dtype changes from torch.float64 to torch.float32\n",
      "target loss      : 18.0000152588\n",
      "initial loss     : 41.2194899010\n",
      "loss upper bound : 22.5461502075\n",
      "\n",
      "================================================== \n",
      "\n"
     ]
    },
    {
     "data": {
      "application/vnd.jupyter.widget-view+json": {
       "model_id": "f00264c4cd3a4a53893126e016801602",
       "version_major": 2,
       "version_minor": 0
      },
      "text/plain": [
       "  0%|          | 0/10000 [00:00<?, ?it/s]"
      ]
     },
     "metadata": {},
     "output_type": "display_data"
    },
    {
     "name": "stdout",
     "output_type": "stream",
     "text": [
      "dtype changes from torch.float32 to torch.float64\n",
      "stack in local minimum --> break loop\n",
      "number of models is :  4\n",
      "dtype changes from torch.float64 to torch.float32\n",
      "target loss      : 18.0000152588\n",
      "initial loss     : 40.9157410165\n",
      "loss upper bound : 22.5461502075\n",
      "\n",
      "================================================== \n",
      "\n"
     ]
    },
    {
     "data": {
      "application/vnd.jupyter.widget-view+json": {
       "model_id": "63d1e773afa6464fbd4d1e0b736c7ab6",
       "version_major": 2,
       "version_minor": 0
      },
      "text/plain": [
       "  0%|          | 0/10000 [00:00<?, ?it/s]"
      ]
     },
     "metadata": {},
     "output_type": "display_data"
    },
    {
     "name": "stdout",
     "output_type": "stream",
     "text": [
      "dtype changes from torch.float32 to torch.float64\n",
      "stack in local minimum --> break loop\n",
      "number of models is :  4\n",
      "dtype changes from torch.float64 to torch.float32\n",
      "target loss      : 18.0000152588\n",
      "initial loss     : 40.8185493524\n",
      "loss upper bound : 22.5461502075\n",
      "\n",
      "================================================== \n",
      "\n"
     ]
    },
    {
     "data": {
      "application/vnd.jupyter.widget-view+json": {
       "model_id": "48742b3d43b844348558c96a5ad55bc3",
       "version_major": 2,
       "version_minor": 0
      },
      "text/plain": [
       "  0%|          | 0/10000 [00:00<?, ?it/s]"
      ]
     },
     "metadata": {},
     "output_type": "display_data"
    },
    {
     "name": "stdout",
     "output_type": "stream",
     "text": [
      "dtype changes from torch.float32 to torch.float64\n",
      "stack in local minimum --> break loop\n",
      "number of models is :  4\n",
      "dtype changes from torch.float64 to torch.float32\n",
      "target loss      : 18.0000152588\n",
      "initial loss     : 41.0581468252\n",
      "loss upper bound : 22.5461502075\n",
      "\n",
      "================================================== \n",
      "\n"
     ]
    },
    {
     "data": {
      "application/vnd.jupyter.widget-view+json": {
       "model_id": "8331d7bf3ae0418d90c80f985f4a89b7",
       "version_major": 2,
       "version_minor": 0
      },
      "text/plain": [
       "  0%|          | 0/10000 [00:00<?, ?it/s]"
      ]
     },
     "metadata": {},
     "output_type": "display_data"
    },
    {
     "name": "stdout",
     "output_type": "stream",
     "text": [
      "dtype changes from torch.float32 to torch.float64\n",
      "stack in local minimum --> break loop\n",
      "number of models is :  4\n",
      "dtype changes from torch.float64 to torch.float32\n",
      "target loss      : 18.0000152588\n",
      "initial loss     : 41.4957582661\n",
      "loss upper bound : 22.5461502075\n",
      "\n",
      "================================================== \n",
      "\n"
     ]
    },
    {
     "data": {
      "application/vnd.jupyter.widget-view+json": {
       "model_id": "494e85cc4b2f48eebdffc75cc0484ea4",
       "version_major": 2,
       "version_minor": 0
      },
      "text/plain": [
       "  0%|          | 0/10000 [00:00<?, ?it/s]"
      ]
     },
     "metadata": {},
     "output_type": "display_data"
    },
    {
     "name": "stdout",
     "output_type": "stream",
     "text": [
      "dtype changes from torch.float32 to torch.float64\n",
      "No local minimum found\n",
      "stack in local minimum --> break loop\n",
      "number of models is :  4\n",
      "dtype changes from torch.float64 to torch.float32\n",
      "target loss      : 18.0000152588\n",
      "initial loss     : 41.7963641985\n",
      "loss upper bound : 22.5461502075\n",
      "\n",
      "================================================== \n",
      "\n"
     ]
    },
    {
     "data": {
      "application/vnd.jupyter.widget-view+json": {
       "model_id": "9b18594212374b2a88be44815b757b91",
       "version_major": 2,
       "version_minor": 0
      },
      "text/plain": [
       "  0%|          | 0/10000 [00:00<?, ?it/s]"
      ]
     },
     "metadata": {},
     "output_type": "display_data"
    },
    {
     "name": "stdout",
     "output_type": "stream",
     "text": [
      "dtype changes from torch.float32 to torch.float64\n",
      "stack in local minimum --> break loop\n",
      "number of models is :  4\n",
      "dtype changes from torch.float64 to torch.float32\n",
      "target loss      : 18.0000152588\n",
      "initial loss     : 40.2926056586\n",
      "loss upper bound : 22.5461502075\n",
      "\n",
      "================================================== \n",
      "\n"
     ]
    },
    {
     "data": {
      "application/vnd.jupyter.widget-view+json": {
       "model_id": "c0ec4a824c9249f69be97df1a4fb3eff",
       "version_major": 2,
       "version_minor": 0
      },
      "text/plain": [
       "  0%|          | 0/10000 [00:00<?, ?it/s]"
      ]
     },
     "metadata": {},
     "output_type": "display_data"
    },
    {
     "name": "stdout",
     "output_type": "stream",
     "text": [
      "dtype changes from torch.float32 to torch.float64\n",
      "stack in local minimum --> break loop\n",
      "number of models is :  4\n",
      "dtype changes from torch.float64 to torch.float32\n",
      "target loss      : 18.0000152588\n",
      "initial loss     : 41.2627471997\n",
      "loss upper bound : 22.5461502075\n",
      "\n",
      "================================================== \n",
      "\n"
     ]
    },
    {
     "data": {
      "application/vnd.jupyter.widget-view+json": {
       "model_id": "0bbee44265d04e9e9438bee5e51fc714",
       "version_major": 2,
       "version_minor": 0
      },
      "text/plain": [
       "  0%|          | 0/10000 [00:00<?, ?it/s]"
      ]
     },
     "metadata": {},
     "output_type": "display_data"
    },
    {
     "name": "stdout",
     "output_type": "stream",
     "text": [
      "dtype changes from torch.float32 to torch.float64\n",
      "stack in local minimum --> break loop\n",
      "number of models is :  4\n",
      "dtype changes from torch.float64 to torch.float32\n",
      "target loss      : 18.0000152588\n",
      "initial loss     : 41.0061184935\n",
      "loss upper bound : 22.5461502075\n",
      "\n",
      "================================================== \n",
      "\n"
     ]
    },
    {
     "data": {
      "application/vnd.jupyter.widget-view+json": {
       "model_id": "7f55fb4e331e46db92613ba05cbcd90d",
       "version_major": 2,
       "version_minor": 0
      },
      "text/plain": [
       "  0%|          | 0/10000 [00:00<?, ?it/s]"
      ]
     },
     "metadata": {},
     "output_type": "display_data"
    },
    {
     "name": "stdout",
     "output_type": "stream",
     "text": [
      "dtype changes from torch.float32 to torch.float64\n",
      "stack in local minimum --> break loop\n",
      "number of models is :  4\n",
      "dtype changes from torch.float64 to torch.float32\n",
      "target loss      : 18.0000152588\n",
      "initial loss     : 40.9838947922\n",
      "loss upper bound : 22.5461502075\n",
      "\n",
      "================================================== \n",
      "\n"
     ]
    },
    {
     "data": {
      "application/vnd.jupyter.widget-view+json": {
       "model_id": "5e1bc039e5e54a699dccb4528b8237df",
       "version_major": 2,
       "version_minor": 0
      },
      "text/plain": [
       "  0%|          | 0/10000 [00:00<?, ?it/s]"
      ]
     },
     "metadata": {},
     "output_type": "display_data"
    },
    {
     "name": "stdout",
     "output_type": "stream",
     "text": [
      "dtype changes from torch.float32 to torch.float64\n",
      "stack in local minimum --> break loop\n",
      "number of models is :  4\n",
      "dtype changes from torch.float64 to torch.float32\n",
      "target loss      : 18.0000152588\n",
      "initial loss     : 40.7639911393\n",
      "loss upper bound : 22.5461502075\n",
      "\n",
      "================================================== \n",
      "\n"
     ]
    },
    {
     "data": {
      "application/vnd.jupyter.widget-view+json": {
       "model_id": "92d4ccf3c9334bc68f84a927f97b9bc0",
       "version_major": 2,
       "version_minor": 0
      },
      "text/plain": [
       "  0%|          | 0/10000 [00:00<?, ?it/s]"
      ]
     },
     "metadata": {},
     "output_type": "display_data"
    },
    {
     "name": "stdout",
     "output_type": "stream",
     "text": [
      "dtype changes from torch.float32 to torch.float64\n",
      "stack in local minimum --> break loop\n",
      "number of models is :  4\n",
      "dtype changes from torch.float64 to torch.float32\n",
      "target loss      : 18.0000152588\n",
      "initial loss     : 41.5482730839\n",
      "loss upper bound : 22.5461502075\n",
      "\n",
      "================================================== \n",
      "\n"
     ]
    },
    {
     "data": {
      "application/vnd.jupyter.widget-view+json": {
       "model_id": "a21cbb9db9bb4b8380e1cb92d7e5274f",
       "version_major": 2,
       "version_minor": 0
      },
      "text/plain": [
       "  0%|          | 0/10000 [00:00<?, ?it/s]"
      ]
     },
     "metadata": {},
     "output_type": "display_data"
    },
    {
     "name": "stdout",
     "output_type": "stream",
     "text": [
      "dtype changes from torch.float32 to torch.float64\n",
      "stack in local minimum --> break loop\n",
      "number of models is :  4\n",
      "dtype changes from torch.float64 to torch.float32\n",
      "target loss      : 18.0000152588\n",
      "initial loss     : 41.0609721089\n",
      "loss upper bound : 22.5461502075\n",
      "\n",
      "================================================== \n",
      "\n"
     ]
    },
    {
     "data": {
      "application/vnd.jupyter.widget-view+json": {
       "model_id": "17105fa316b945d0b185cdf3a8e53694",
       "version_major": 2,
       "version_minor": 0
      },
      "text/plain": [
       "  0%|          | 0/10000 [00:00<?, ?it/s]"
      ]
     },
     "metadata": {},
     "output_type": "display_data"
    },
    {
     "name": "stdout",
     "output_type": "stream",
     "text": [
      "dtype changes from torch.float32 to torch.float64\n",
      "stack in local minimum --> break loop\n",
      "number of models is :  4\n",
      "dtype changes from torch.float64 to torch.float32\n",
      "target loss      : 18.0000152588\n",
      "initial loss     : 41.1599945809\n",
      "loss upper bound : 22.5461502075\n",
      "\n",
      "================================================== \n",
      "\n"
     ]
    },
    {
     "data": {
      "application/vnd.jupyter.widget-view+json": {
       "model_id": "7e51413ed0cc4bbc9ab4ceef8f164ceb",
       "version_major": 2,
       "version_minor": 0
      },
      "text/plain": [
       "  0%|          | 0/10000 [00:00<?, ?it/s]"
      ]
     },
     "metadata": {},
     "output_type": "display_data"
    },
    {
     "name": "stdout",
     "output_type": "stream",
     "text": [
      "dtype changes from torch.float32 to torch.float64\n",
      "stack in local minimum --> break loop\n",
      "number of models is :  4\n",
      "dtype changes from torch.float64 to torch.float32\n",
      "target loss      : 18.0000152588\n",
      "initial loss     : 41.2752054773\n",
      "loss upper bound : 22.5461502075\n",
      "\n",
      "================================================== \n",
      "\n"
     ]
    },
    {
     "data": {
      "application/vnd.jupyter.widget-view+json": {
       "model_id": "4665452606bf493f8d93fcb0c19c7719",
       "version_major": 2,
       "version_minor": 0
      },
      "text/plain": [
       "  0%|          | 0/10000 [00:00<?, ?it/s]"
      ]
     },
     "metadata": {},
     "output_type": "display_data"
    },
    {
     "name": "stdout",
     "output_type": "stream",
     "text": [
      "dtype changes from torch.float32 to torch.float64\n",
      "stack in local minimum --> break loop\n",
      "number of models is :  4\n",
      "dtype changes from torch.float64 to torch.float32\n",
      "target loss      : 18.0000152588\n",
      "initial loss     : 41.4122380767\n",
      "loss upper bound : 22.5461502075\n",
      "\n",
      "================================================== \n",
      "\n"
     ]
    },
    {
     "data": {
      "application/vnd.jupyter.widget-view+json": {
       "model_id": "51a59652818148f9bd1be3a95644c324",
       "version_major": 2,
       "version_minor": 0
      },
      "text/plain": [
       "  0%|          | 0/10000 [00:00<?, ?it/s]"
      ]
     },
     "metadata": {},
     "output_type": "display_data"
    },
    {
     "name": "stdout",
     "output_type": "stream",
     "text": [
      "dtype changes from torch.float32 to torch.float64\n",
      "stack in local minimum --> break loop\n",
      "number of models is :  4\n",
      "dtype changes from torch.float64 to torch.float32\n",
      "target loss      : 18.0000152588\n",
      "initial loss     : 40.9260117979\n",
      "loss upper bound : 22.5461502075\n",
      "\n",
      "================================================== \n",
      "\n"
     ]
    },
    {
     "data": {
      "application/vnd.jupyter.widget-view+json": {
       "model_id": "26e60ef8001147cf93e111c4c1385122",
       "version_major": 2,
       "version_minor": 0
      },
      "text/plain": [
       "  0%|          | 0/10000 [00:00<?, ?it/s]"
      ]
     },
     "metadata": {},
     "output_type": "display_data"
    },
    {
     "name": "stdout",
     "output_type": "stream",
     "text": [
      "dtype changes from torch.float32 to torch.float64\n",
      "stack in local minimum --> break loop\n",
      "number of models is :  4\n",
      "dtype changes from torch.float64 to torch.float32\n",
      "target loss      : 18.0000152588\n",
      "initial loss     : 40.4069526761\n",
      "loss upper bound : 22.5461502075\n",
      "\n",
      "================================================== \n",
      "\n"
     ]
    },
    {
     "data": {
      "application/vnd.jupyter.widget-view+json": {
       "model_id": "bd50278e47414474a73634d44796a733",
       "version_major": 2,
       "version_minor": 0
      },
      "text/plain": [
       "  0%|          | 0/10000 [00:00<?, ?it/s]"
      ]
     },
     "metadata": {},
     "output_type": "display_data"
    },
    {
     "name": "stdout",
     "output_type": "stream",
     "text": [
      "dtype changes from torch.float32 to torch.float64\n",
      "stack in local minimum --> break loop\n",
      "number of models is :  4\n",
      "dtype changes from torch.float64 to torch.float32\n",
      "target loss      : 18.0000152588\n",
      "initial loss     : 39.8450268366\n",
      "loss upper bound : 22.5461502075\n",
      "\n",
      "================================================== \n",
      "\n"
     ]
    },
    {
     "data": {
      "application/vnd.jupyter.widget-view+json": {
       "model_id": "cdf38034d99b4a27bacc8a82830fb362",
       "version_major": 2,
       "version_minor": 0
      },
      "text/plain": [
       "  0%|          | 0/10000 [00:00<?, ?it/s]"
      ]
     },
     "metadata": {},
     "output_type": "display_data"
    },
    {
     "name": "stdout",
     "output_type": "stream",
     "text": [
      "dtype changes from torch.float32 to torch.float64\n",
      "stack in local minimum --> break loop\n",
      "number of models is :  4\n",
      "dtype changes from torch.float64 to torch.float32\n",
      "target loss      : 18.0000152588\n",
      "initial loss     : 40.2751584512\n",
      "loss upper bound : 22.5461502075\n",
      "\n",
      "================================================== \n",
      "\n"
     ]
    },
    {
     "data": {
      "application/vnd.jupyter.widget-view+json": {
       "model_id": "cc0b4482be9f45abb6bcf361ca3dd329",
       "version_major": 2,
       "version_minor": 0
      },
      "text/plain": [
       "  0%|          | 0/10000 [00:00<?, ?it/s]"
      ]
     },
     "metadata": {},
     "output_type": "display_data"
    },
    {
     "name": "stdout",
     "output_type": "stream",
     "text": [
      "dtype changes from torch.float32 to torch.float64\n",
      "stack in local minimum --> break loop\n",
      "number of models is :  4\n",
      "dtype changes from torch.float64 to torch.float32\n",
      "target loss      : 18.0000152588\n",
      "initial loss     : 41.2249670700\n",
      "loss upper bound : 22.5461502075\n",
      "\n",
      "================================================== \n",
      "\n"
     ]
    },
    {
     "data": {
      "application/vnd.jupyter.widget-view+json": {
       "model_id": "5de89c25015149069e077336658ad485",
       "version_major": 2,
       "version_minor": 0
      },
      "text/plain": [
       "  0%|          | 0/10000 [00:00<?, ?it/s]"
      ]
     },
     "metadata": {},
     "output_type": "display_data"
    },
    {
     "name": "stdout",
     "output_type": "stream",
     "text": [
      "dtype changes from torch.float32 to torch.float64\n",
      "stack in local minimum --> break loop\n",
      "number of models is :  4\n",
      "dtype changes from torch.float64 to torch.float32\n",
      "target loss      : 18.0000152588\n",
      "initial loss     : 41.3909975016\n",
      "loss upper bound : 22.5461502075\n",
      "\n",
      "================================================== \n",
      "\n"
     ]
    },
    {
     "data": {
      "application/vnd.jupyter.widget-view+json": {
       "model_id": "2c39682c1293438a828d1249185256bd",
       "version_major": 2,
       "version_minor": 0
      },
      "text/plain": [
       "  0%|          | 0/10000 [00:00<?, ?it/s]"
      ]
     },
     "metadata": {},
     "output_type": "display_data"
    },
    {
     "name": "stdout",
     "output_type": "stream",
     "text": [
      "dtype changes from torch.float32 to torch.float64\n",
      "stack in local minimum --> break loop\n",
      "number of models is :  4\n",
      "dtype changes from torch.float64 to torch.float32\n",
      "target loss      : 18.0000152588\n",
      "initial loss     : 41.1690650776\n",
      "loss upper bound : 22.5461502075\n",
      "\n",
      "================================================== \n",
      "\n"
     ]
    },
    {
     "data": {
      "application/vnd.jupyter.widget-view+json": {
       "model_id": "9ea5a4f173874ca4be8b1231cf8fd410",
       "version_major": 2,
       "version_minor": 0
      },
      "text/plain": [
       "  0%|          | 0/10000 [00:00<?, ?it/s]"
      ]
     },
     "metadata": {},
     "output_type": "display_data"
    },
    {
     "name": "stdout",
     "output_type": "stream",
     "text": [
      "dtype changes from torch.float32 to torch.float64\n",
      "stack in local minimum --> break loop\n",
      "number of models is :  4\n",
      "dtype changes from torch.float64 to torch.float32\n",
      "target loss      : 18.0000152588\n",
      "initial loss     : 40.5885672774\n",
      "loss upper bound : 22.5461502075\n",
      "\n",
      "================================================== \n",
      "\n"
     ]
    },
    {
     "data": {
      "application/vnd.jupyter.widget-view+json": {
       "model_id": "d64d25df266f4a41b3dd4991c24e0c04",
       "version_major": 2,
       "version_minor": 0
      },
      "text/plain": [
       "  0%|          | 0/10000 [00:00<?, ?it/s]"
      ]
     },
     "metadata": {},
     "output_type": "display_data"
    },
    {
     "name": "stdout",
     "output_type": "stream",
     "text": [
      "dtype changes from torch.float32 to torch.float64\n",
      "stack in local minimum --> break loop\n",
      "number of models is :  4\n",
      "dtype changes from torch.float64 to torch.float32\n",
      "target loss      : 18.0000152588\n",
      "initial loss     : 41.2269829724\n",
      "loss upper bound : 22.5461502075\n",
      "\n",
      "================================================== \n",
      "\n"
     ]
    },
    {
     "data": {
      "application/vnd.jupyter.widget-view+json": {
       "model_id": "5fc4321e146740389a60b41d8b9a6ea7",
       "version_major": 2,
       "version_minor": 0
      },
      "text/plain": [
       "  0%|          | 0/10000 [00:00<?, ?it/s]"
      ]
     },
     "metadata": {},
     "output_type": "display_data"
    },
    {
     "name": "stdout",
     "output_type": "stream",
     "text": [
      "dtype changes from torch.float32 to torch.float64\n",
      "stack in local minimum --> break loop\n",
      "number of models is :  4\n",
      "dtype changes from torch.float64 to torch.float32\n",
      "target loss      : 18.0000152588\n",
      "initial loss     : 41.1059990582\n",
      "loss upper bound : 22.5461502075\n",
      "\n",
      "================================================== \n",
      "\n"
     ]
    },
    {
     "data": {
      "application/vnd.jupyter.widget-view+json": {
       "model_id": "39c18c9f843c4933945e0ea48c8ff461",
       "version_major": 2,
       "version_minor": 0
      },
      "text/plain": [
       "  0%|          | 0/10000 [00:00<?, ?it/s]"
      ]
     },
     "metadata": {},
     "output_type": "display_data"
    },
    {
     "name": "stdout",
     "output_type": "stream",
     "text": [
      "dtype changes from torch.float32 to torch.float64\n",
      "stack in local minimum --> break loop\n",
      "number of models is :  4\n",
      "dtype changes from torch.float64 to torch.float32\n",
      "target loss      : 18.0000152588\n",
      "initial loss     : 41.3953204892\n",
      "loss upper bound : 22.5461502075\n",
      "\n",
      "================================================== \n",
      "\n"
     ]
    },
    {
     "data": {
      "application/vnd.jupyter.widget-view+json": {
       "model_id": "57be5f325d5c45a493d57b1e83bde371",
       "version_major": 2,
       "version_minor": 0
      },
      "text/plain": [
       "  0%|          | 0/10000 [00:00<?, ?it/s]"
      ]
     },
     "metadata": {},
     "output_type": "display_data"
    },
    {
     "name": "stdout",
     "output_type": "stream",
     "text": [
      "dtype changes from torch.float32 to torch.float64\n",
      "stack in local minimum --> break loop\n",
      "number of models is :  4\n",
      "dtype changes from torch.float64 to torch.float32\n",
      "target loss      : 18.0000152588\n",
      "initial loss     : 40.2972407795\n",
      "loss upper bound : 22.5461502075\n",
      "\n",
      "================================================== \n",
      "\n"
     ]
    },
    {
     "data": {
      "application/vnd.jupyter.widget-view+json": {
       "model_id": "01d0dd8b594049e99669f943fde5ebe8",
       "version_major": 2,
       "version_minor": 0
      },
      "text/plain": [
       "  0%|          | 0/10000 [00:00<?, ?it/s]"
      ]
     },
     "metadata": {},
     "output_type": "display_data"
    },
    {
     "name": "stdout",
     "output_type": "stream",
     "text": [
      "dtype changes from torch.float32 to torch.float64\n",
      "stack in local minimum --> break loop\n",
      "number of models is :  4\n",
      "dtype changes from torch.float64 to torch.float32\n",
      "target loss      : 18.0000152588\n",
      "initial loss     : 40.5944111250\n",
      "loss upper bound : 22.5461502075\n",
      "\n",
      "================================================== \n",
      "\n"
     ]
    },
    {
     "data": {
      "application/vnd.jupyter.widget-view+json": {
       "model_id": "84c840687a1944a883d0115d48758ea0",
       "version_major": 2,
       "version_minor": 0
      },
      "text/plain": [
       "  0%|          | 0/10000 [00:00<?, ?it/s]"
      ]
     },
     "metadata": {},
     "output_type": "display_data"
    },
    {
     "name": "stdout",
     "output_type": "stream",
     "text": [
      "dtype changes from torch.float32 to torch.float64\n",
      "stack in local minimum --> break loop\n",
      "number of models is :  4\n",
      "dtype changes from torch.float64 to torch.float32\n",
      "target loss      : 18.0000152588\n",
      "initial loss     : 40.0796131415\n",
      "loss upper bound : 22.5461502075\n",
      "\n",
      "================================================== \n",
      "\n"
     ]
    },
    {
     "data": {
      "application/vnd.jupyter.widget-view+json": {
       "model_id": "60babd9cb8444d83b4d493572b600e58",
       "version_major": 2,
       "version_minor": 0
      },
      "text/plain": [
       "  0%|          | 0/10000 [00:00<?, ?it/s]"
      ]
     },
     "metadata": {},
     "output_type": "display_data"
    },
    {
     "name": "stdout",
     "output_type": "stream",
     "text": [
      "dtype changes from torch.float32 to torch.float64\n",
      "stack in local minimum --> break loop\n",
      "number of models is :  4\n",
      "dtype changes from torch.float64 to torch.float32\n",
      "target loss      : 18.0000152588\n",
      "initial loss     : 40.8449822106\n",
      "loss upper bound : 22.5461502075\n",
      "\n",
      "================================================== \n",
      "\n"
     ]
    },
    {
     "data": {
      "application/vnd.jupyter.widget-view+json": {
       "model_id": "e8ab7890ccf94417b08f962c077fc7fa",
       "version_major": 2,
       "version_minor": 0
      },
      "text/plain": [
       "  0%|          | 0/10000 [00:00<?, ?it/s]"
      ]
     },
     "metadata": {},
     "output_type": "display_data"
    },
    {
     "name": "stdout",
     "output_type": "stream",
     "text": [
      "dtype changes from torch.float32 to torch.float64\n",
      "stack in local minimum --> break loop\n",
      "number of models is :  4\n",
      "dtype changes from torch.float64 to torch.float32\n",
      "target loss      : 18.0000152588\n",
      "initial loss     : 41.6017055410\n",
      "loss upper bound : 22.5461502075\n",
      "\n",
      "================================================== \n",
      "\n"
     ]
    },
    {
     "data": {
      "application/vnd.jupyter.widget-view+json": {
       "model_id": "9b55fa48383448f7a15dd03d9f5a0f4f",
       "version_major": 2,
       "version_minor": 0
      },
      "text/plain": [
       "  0%|          | 0/10000 [00:00<?, ?it/s]"
      ]
     },
     "metadata": {},
     "output_type": "display_data"
    },
    {
     "name": "stdout",
     "output_type": "stream",
     "text": [
      "dtype changes from torch.float32 to torch.float64\n",
      "stack in local minimum --> break loop\n",
      "number of models is :  4\n",
      "dtype changes from torch.float64 to torch.float32\n",
      "target loss      : 18.0000152588\n",
      "initial loss     : 40.5885769419\n",
      "loss upper bound : 22.5461502075\n",
      "\n",
      "================================================== \n",
      "\n"
     ]
    },
    {
     "data": {
      "application/vnd.jupyter.widget-view+json": {
       "model_id": "73736e96b6f440b2913d7aa5b35cc970",
       "version_major": 2,
       "version_minor": 0
      },
      "text/plain": [
       "  0%|          | 0/10000 [00:00<?, ?it/s]"
      ]
     },
     "metadata": {},
     "output_type": "display_data"
    },
    {
     "name": "stdout",
     "output_type": "stream",
     "text": [
      "dtype changes from torch.float32 to torch.float64\n",
      "stack in local minimum --> break loop\n",
      "number of models is :  4\n",
      "dtype changes from torch.float64 to torch.float32\n",
      "target loss      : 18.0000152588\n",
      "initial loss     : 41.4000809948\n",
      "loss upper bound : 22.5461502075\n",
      "\n",
      "================================================== \n",
      "\n"
     ]
    },
    {
     "data": {
      "application/vnd.jupyter.widget-view+json": {
       "model_id": "65053b82166c46248a160a02a96013e3",
       "version_major": 2,
       "version_minor": 0
      },
      "text/plain": [
       "  0%|          | 0/10000 [00:00<?, ?it/s]"
      ]
     },
     "metadata": {},
     "output_type": "display_data"
    },
    {
     "name": "stdout",
     "output_type": "stream",
     "text": [
      "dtype changes from torch.float32 to torch.float64\n",
      "stack in local minimum --> break loop\n",
      "number of models is :  4\n",
      "dtype changes from torch.float64 to torch.float32\n",
      "target loss      : 18.0000152588\n",
      "initial loss     : 41.1335887154\n",
      "loss upper bound : 22.5461502075\n",
      "\n",
      "================================================== \n",
      "\n"
     ]
    },
    {
     "data": {
      "application/vnd.jupyter.widget-view+json": {
       "model_id": "e47f27753e594bf09523d8456fa8e374",
       "version_major": 2,
       "version_minor": 0
      },
      "text/plain": [
       "  0%|          | 0/10000 [00:00<?, ?it/s]"
      ]
     },
     "metadata": {},
     "output_type": "display_data"
    },
    {
     "name": "stdout",
     "output_type": "stream",
     "text": [
      "dtype changes from torch.float32 to torch.float64\n",
      "stack in local minimum --> break loop\n",
      "number of models is :  4\n",
      "dtype changes from torch.float64 to torch.float32\n",
      "target loss      : 18.0000152588\n",
      "initial loss     : 41.4390112014\n",
      "loss upper bound : 22.5461502075\n",
      "\n",
      "================================================== \n",
      "\n"
     ]
    },
    {
     "data": {
      "application/vnd.jupyter.widget-view+json": {
       "model_id": "323060143b914ac38ffc21129791b742",
       "version_major": 2,
       "version_minor": 0
      },
      "text/plain": [
       "  0%|          | 0/10000 [00:00<?, ?it/s]"
      ]
     },
     "metadata": {},
     "output_type": "display_data"
    },
    {
     "name": "stdout",
     "output_type": "stream",
     "text": [
      "dtype changes from torch.float32 to torch.float64\n",
      "stack in local minimum --> break loop\n",
      "number of models is :  4\n",
      "dtype changes from torch.float64 to torch.float32\n",
      "target loss      : 18.0000152588\n",
      "initial loss     : 41.8490673306\n",
      "loss upper bound : 22.5461502075\n",
      "\n",
      "================================================== \n",
      "\n"
     ]
    },
    {
     "data": {
      "application/vnd.jupyter.widget-view+json": {
       "model_id": "6683c4f51f5a431e90f7dd11e45e86b5",
       "version_major": 2,
       "version_minor": 0
      },
      "text/plain": [
       "  0%|          | 0/10000 [00:00<?, ?it/s]"
      ]
     },
     "metadata": {},
     "output_type": "display_data"
    },
    {
     "name": "stdout",
     "output_type": "stream",
     "text": [
      "dtype changes from torch.float32 to torch.float64\n",
      "stack in local minimum --> break loop\n",
      "number of models is :  4\n",
      "dtype changes from torch.float64 to torch.float32\n",
      "target loss      : 18.0000152588\n",
      "initial loss     : 41.6213776318\n",
      "loss upper bound : 22.5461502075\n",
      "\n",
      "================================================== \n",
      "\n"
     ]
    },
    {
     "data": {
      "application/vnd.jupyter.widget-view+json": {
       "model_id": "02582a7016c4487a8f87b41da969d1e6",
       "version_major": 2,
       "version_minor": 0
      },
      "text/plain": [
       "  0%|          | 0/10000 [00:00<?, ?it/s]"
      ]
     },
     "metadata": {},
     "output_type": "display_data"
    },
    {
     "name": "stdout",
     "output_type": "stream",
     "text": [
      "dtype changes from torch.float32 to torch.float64\n",
      "stack in local minimum --> break loop\n",
      "number of models is :  4\n",
      "dtype changes from torch.float64 to torch.float32\n",
      "target loss      : 18.0000152588\n",
      "initial loss     : 40.4076499245\n",
      "loss upper bound : 22.5461502075\n",
      "\n",
      "================================================== \n",
      "\n"
     ]
    },
    {
     "data": {
      "application/vnd.jupyter.widget-view+json": {
       "model_id": "afdfabd2277a43469d3205dda11582e9",
       "version_major": 2,
       "version_minor": 0
      },
      "text/plain": [
       "  0%|          | 0/10000 [00:00<?, ?it/s]"
      ]
     },
     "metadata": {},
     "output_type": "display_data"
    },
    {
     "name": "stdout",
     "output_type": "stream",
     "text": [
      "dtype changes from torch.float32 to torch.float64\n",
      "stack in local minimum --> break loop\n",
      "number of models is :  4\n",
      "dtype changes from torch.float64 to torch.float32\n",
      "target loss      : 18.0000152588\n",
      "initial loss     : 40.4369790937\n",
      "loss upper bound : 22.5461502075\n",
      "\n",
      "================================================== \n",
      "\n"
     ]
    },
    {
     "data": {
      "application/vnd.jupyter.widget-view+json": {
       "model_id": "e6d180beecbd4568bf36c659e397cd6c",
       "version_major": 2,
       "version_minor": 0
      },
      "text/plain": [
       "  0%|          | 0/10000 [00:00<?, ?it/s]"
      ]
     },
     "metadata": {},
     "output_type": "display_data"
    },
    {
     "name": "stdout",
     "output_type": "stream",
     "text": [
      "dtype changes from torch.float32 to torch.float64\n",
      "stack in local minimum --> break loop\n",
      "number of models is :  4\n",
      "dtype changes from torch.float64 to torch.float32\n",
      "target loss      : 18.0000152588\n",
      "initial loss     : 40.4791568075\n",
      "loss upper bound : 22.5461502075\n",
      "\n",
      "================================================== \n",
      "\n"
     ]
    },
    {
     "data": {
      "application/vnd.jupyter.widget-view+json": {
       "model_id": "0d9c61e6a7b746fc8f0fc8a1312ca317",
       "version_major": 2,
       "version_minor": 0
      },
      "text/plain": [
       "  0%|          | 0/10000 [00:00<?, ?it/s]"
      ]
     },
     "metadata": {},
     "output_type": "display_data"
    },
    {
     "name": "stdout",
     "output_type": "stream",
     "text": [
      "dtype changes from torch.float32 to torch.float64\n",
      "stack in local minimum --> break loop\n",
      "number of models is :  4\n",
      "dtype changes from torch.float64 to torch.float32\n",
      "target loss      : 18.0000152588\n",
      "initial loss     : 40.8131281336\n",
      "loss upper bound : 22.5461502075\n",
      "\n",
      "================================================== \n",
      "\n"
     ]
    },
    {
     "data": {
      "application/vnd.jupyter.widget-view+json": {
       "model_id": "a15c636e2d774d9ea107980da39263b6",
       "version_major": 2,
       "version_minor": 0
      },
      "text/plain": [
       "  0%|          | 0/10000 [00:00<?, ?it/s]"
      ]
     },
     "metadata": {},
     "output_type": "display_data"
    },
    {
     "name": "stdout",
     "output_type": "stream",
     "text": [
      "dtype changes from torch.float32 to torch.float64\n",
      "stack in local minimum --> break loop\n",
      "number of models is :  4\n",
      "dtype changes from torch.float64 to torch.float32\n",
      "target loss      : 18.0000152588\n",
      "initial loss     : 40.2559451429\n",
      "loss upper bound : 22.5461502075\n",
      "\n",
      "================================================== \n",
      "\n"
     ]
    },
    {
     "data": {
      "application/vnd.jupyter.widget-view+json": {
       "model_id": "4b3a551cc0774a0b8bb022152db752d1",
       "version_major": 2,
       "version_minor": 0
      },
      "text/plain": [
       "  0%|          | 0/10000 [00:00<?, ?it/s]"
      ]
     },
     "metadata": {},
     "output_type": "display_data"
    },
    {
     "name": "stdout",
     "output_type": "stream",
     "text": [
      "dtype changes from torch.float32 to torch.float64\n",
      "stack in local minimum --> break loop\n",
      "number of models is :  4\n",
      "dtype changes from torch.float64 to torch.float32\n",
      "target loss      : 18.0000152588\n",
      "initial loss     : 41.8370044984\n",
      "loss upper bound : 22.5461502075\n",
      "\n",
      "================================================== \n",
      "\n"
     ]
    },
    {
     "data": {
      "application/vnd.jupyter.widget-view+json": {
       "model_id": "478da1deab214eb993cfe2c3f7b978a5",
       "version_major": 2,
       "version_minor": 0
      },
      "text/plain": [
       "  0%|          | 0/10000 [00:00<?, ?it/s]"
      ]
     },
     "metadata": {},
     "output_type": "display_data"
    },
    {
     "name": "stdout",
     "output_type": "stream",
     "text": [
      "dtype changes from torch.float32 to torch.float64\n",
      "stack in local minimum --> break loop\n",
      "number of models is :  4\n",
      "dtype changes from torch.float64 to torch.float32\n",
      "target loss      : 18.0000152588\n",
      "initial loss     : 40.6342605905\n",
      "loss upper bound : 22.5461502075\n",
      "\n",
      "================================================== \n",
      "\n"
     ]
    },
    {
     "data": {
      "application/vnd.jupyter.widget-view+json": {
       "model_id": "6d96a89dde094461a13ab6953bcb87d4",
       "version_major": 2,
       "version_minor": 0
      },
      "text/plain": [
       "  0%|          | 0/10000 [00:00<?, ?it/s]"
      ]
     },
     "metadata": {},
     "output_type": "display_data"
    },
    {
     "name": "stdout",
     "output_type": "stream",
     "text": [
      "dtype changes from torch.float32 to torch.float64\n",
      "stack in local minimum --> break loop\n",
      "number of models is :  4\n",
      "dtype changes from torch.float64 to torch.float32\n",
      "target loss      : 18.0000152588\n",
      "initial loss     : 41.6132387744\n",
      "loss upper bound : 22.5461502075\n",
      "\n",
      "================================================== \n",
      "\n"
     ]
    },
    {
     "data": {
      "application/vnd.jupyter.widget-view+json": {
       "model_id": "61c9d645ffb74fbbbcd7564d2999cc9d",
       "version_major": 2,
       "version_minor": 0
      },
      "text/plain": [
       "  0%|          | 0/10000 [00:00<?, ?it/s]"
      ]
     },
     "metadata": {},
     "output_type": "display_data"
    },
    {
     "name": "stdout",
     "output_type": "stream",
     "text": [
      "dtype changes from torch.float32 to torch.float64\n",
      "stack in local minimum --> break loop\n",
      "number of models is :  4\n",
      "dtype changes from torch.float64 to torch.float32\n",
      "target loss      : 18.0000152588\n",
      "initial loss     : 41.0035436915\n",
      "loss upper bound : 22.5461502075\n",
      "\n",
      "================================================== \n",
      "\n"
     ]
    },
    {
     "data": {
      "application/vnd.jupyter.widget-view+json": {
       "model_id": "ec753f084ccf4e4fa943183326c9b8c8",
       "version_major": 2,
       "version_minor": 0
      },
      "text/plain": [
       "  0%|          | 0/10000 [00:00<?, ?it/s]"
      ]
     },
     "metadata": {},
     "output_type": "display_data"
    },
    {
     "name": "stdout",
     "output_type": "stream",
     "text": [
      "dtype changes from torch.float32 to torch.float64\n",
      "stack in local minimum --> break loop\n",
      "number of models is :  4\n",
      "dtype changes from torch.float64 to torch.float32\n",
      "target loss      : 18.0000152588\n",
      "initial loss     : 41.5422961832\n",
      "loss upper bound : 22.5461502075\n",
      "\n",
      "================================================== \n",
      "\n"
     ]
    },
    {
     "data": {
      "application/vnd.jupyter.widget-view+json": {
       "model_id": "797fc905bdc1433584046644dcf639c7",
       "version_major": 2,
       "version_minor": 0
      },
      "text/plain": [
       "  0%|          | 0/10000 [00:00<?, ?it/s]"
      ]
     },
     "metadata": {},
     "output_type": "display_data"
    },
    {
     "name": "stdout",
     "output_type": "stream",
     "text": [
      "dtype changes from torch.float32 to torch.float64\n",
      "stack in local minimum --> break loop\n",
      "number of models is :  4\n",
      "dtype changes from torch.float64 to torch.float32\n",
      "target loss      : 18.0000152588\n",
      "initial loss     : 41.1275786661\n",
      "loss upper bound : 22.5461502075\n",
      "\n",
      "================================================== \n",
      "\n"
     ]
    },
    {
     "data": {
      "application/vnd.jupyter.widget-view+json": {
       "model_id": "36ecfe797f0e47838bc61fa891f14fa8",
       "version_major": 2,
       "version_minor": 0
      },
      "text/plain": [
       "  0%|          | 0/10000 [00:00<?, ?it/s]"
      ]
     },
     "metadata": {},
     "output_type": "display_data"
    },
    {
     "name": "stdout",
     "output_type": "stream",
     "text": [
      "dtype changes from torch.float32 to torch.float64\n",
      "stack in local minimum --> break loop\n",
      "number of models is :  4\n",
      "dtype changes from torch.float64 to torch.float32\n",
      "target loss      : 18.0000152588\n",
      "initial loss     : 41.4180898681\n",
      "loss upper bound : 22.5461502075\n",
      "\n",
      "================================================== \n",
      "\n"
     ]
    },
    {
     "data": {
      "application/vnd.jupyter.widget-view+json": {
       "model_id": "0db52f651f7248b7a790ab1691a501da",
       "version_major": 2,
       "version_minor": 0
      },
      "text/plain": [
       "  0%|          | 0/10000 [00:00<?, ?it/s]"
      ]
     },
     "metadata": {},
     "output_type": "display_data"
    },
    {
     "name": "stdout",
     "output_type": "stream",
     "text": [
      "dtype changes from torch.float32 to torch.float64\n",
      "stack in local minimum --> break loop\n",
      "number of models is :  4\n",
      "dtype changes from torch.float64 to torch.float32\n",
      "target loss      : 18.0000152588\n",
      "initial loss     : 40.9896298799\n",
      "loss upper bound : 22.5461502075\n",
      "\n",
      "================================================== \n",
      "\n"
     ]
    },
    {
     "data": {
      "application/vnd.jupyter.widget-view+json": {
       "model_id": "91a0c45376a34ec78541a36c5b5e7dac",
       "version_major": 2,
       "version_minor": 0
      },
      "text/plain": [
       "  0%|          | 0/10000 [00:00<?, ?it/s]"
      ]
     },
     "metadata": {},
     "output_type": "display_data"
    },
    {
     "name": "stdout",
     "output_type": "stream",
     "text": [
      "dtype changes from torch.float32 to torch.float64\n",
      "No local minimum found\n",
      "No local minimum found\n",
      "No local minimum found\n",
      "No local minimum found\n",
      "No local minimum found\n",
      "No local minimum found\n",
      "No local minimum found\n",
      "No local minimum found\n",
      "No local minimum found\n",
      "No local minimum found\n",
      "No local minimum found\n",
      "No local minimum found\n",
      "No local minimum found\n",
      "No local minimum found\n",
      "No local minimum found\n",
      "No local minimum found\n",
      "stack in local minimum --> break loop\n",
      "number of models is :  4\n",
      "dtype changes from torch.float64 to torch.float32\n",
      "target loss      : 18.0000152588\n",
      "initial loss     : 40.3912089811\n",
      "loss upper bound : 22.5461502075\n",
      "\n",
      "================================================== \n",
      "\n"
     ]
    },
    {
     "data": {
      "application/vnd.jupyter.widget-view+json": {
       "model_id": "c1fd55d9550445299627dcce9b4bc283",
       "version_major": 2,
       "version_minor": 0
      },
      "text/plain": [
       "  0%|          | 0/10000 [00:00<?, ?it/s]"
      ]
     },
     "metadata": {},
     "output_type": "display_data"
    },
    {
     "name": "stdout",
     "output_type": "stream",
     "text": [
      "dtype changes from torch.float32 to torch.float64\n",
      "stack in local minimum --> break loop\n",
      "number of models is :  4\n",
      "dtype changes from torch.float64 to torch.float32\n",
      "target loss      : 18.0000152588\n",
      "initial loss     : 40.6851722067\n",
      "loss upper bound : 22.5461502075\n",
      "\n",
      "================================================== \n",
      "\n"
     ]
    },
    {
     "data": {
      "application/vnd.jupyter.widget-view+json": {
       "model_id": "1d6d45263b4849a093149f274bc07a80",
       "version_major": 2,
       "version_minor": 0
      },
      "text/plain": [
       "  0%|          | 0/10000 [00:00<?, ?it/s]"
      ]
     },
     "metadata": {},
     "output_type": "display_data"
    },
    {
     "name": "stdout",
     "output_type": "stream",
     "text": [
      "dtype changes from torch.float32 to torch.float64\n",
      "stack in local minimum --> break loop\n",
      "number of models is :  4\n",
      "dtype changes from torch.float64 to torch.float32\n",
      "target loss      : 18.0000152588\n",
      "initial loss     : 40.9858582800\n",
      "loss upper bound : 22.5461502075\n",
      "\n",
      "================================================== \n",
      "\n"
     ]
    },
    {
     "data": {
      "application/vnd.jupyter.widget-view+json": {
       "model_id": "0ec770ddbe2d4e438841cac506f8730b",
       "version_major": 2,
       "version_minor": 0
      },
      "text/plain": [
       "  0%|          | 0/10000 [00:00<?, ?it/s]"
      ]
     },
     "metadata": {},
     "output_type": "display_data"
    },
    {
     "name": "stdout",
     "output_type": "stream",
     "text": [
      "dtype changes from torch.float32 to torch.float64\n",
      "stack in local minimum --> break loop\n",
      "number of models is :  4\n",
      "dtype changes from torch.float64 to torch.float32\n",
      "target loss      : 18.0000152588\n",
      "initial loss     : 40.4242924265\n",
      "loss upper bound : 22.5461502075\n",
      "\n",
      "================================================== \n",
      "\n"
     ]
    },
    {
     "data": {
      "application/vnd.jupyter.widget-view+json": {
       "model_id": "a30a202d3ee34e4b8914bfdabf021a73",
       "version_major": 2,
       "version_minor": 0
      },
      "text/plain": [
       "  0%|          | 0/10000 [00:00<?, ?it/s]"
      ]
     },
     "metadata": {},
     "output_type": "display_data"
    },
    {
     "name": "stdout",
     "output_type": "stream",
     "text": [
      "dtype changes from torch.float32 to torch.float64\n",
      "stack in local minimum --> break loop\n",
      "number of models is :  4\n",
      "dtype changes from torch.float64 to torch.float32\n",
      "target loss      : 18.0000152588\n",
      "initial loss     : 40.7876314669\n",
      "loss upper bound : 22.5461502075\n",
      "\n",
      "================================================== \n",
      "\n"
     ]
    },
    {
     "data": {
      "application/vnd.jupyter.widget-view+json": {
       "model_id": "64200495378643d5b860d7d223530ecf",
       "version_major": 2,
       "version_minor": 0
      },
      "text/plain": [
       "  0%|          | 0/10000 [00:00<?, ?it/s]"
      ]
     },
     "metadata": {},
     "output_type": "display_data"
    },
    {
     "name": "stdout",
     "output_type": "stream",
     "text": [
      "dtype changes from torch.float32 to torch.float64\n",
      "stack in local minimum --> break loop\n",
      "number of models is :  4\n",
      "dtype changes from torch.float64 to torch.float32\n",
      "target loss      : 18.0000152588\n",
      "initial loss     : 40.5081388520\n",
      "loss upper bound : 22.5461502075\n",
      "\n",
      "================================================== \n",
      "\n"
     ]
    },
    {
     "data": {
      "application/vnd.jupyter.widget-view+json": {
       "model_id": "832aa1f7f99c4a10a7e59c0e53ee0d94",
       "version_major": 2,
       "version_minor": 0
      },
      "text/plain": [
       "  0%|          | 0/10000 [00:00<?, ?it/s]"
      ]
     },
     "metadata": {},
     "output_type": "display_data"
    },
    {
     "name": "stdout",
     "output_type": "stream",
     "text": [
      "dtype changes from torch.float32 to torch.float64\n",
      "stack in local minimum --> break loop\n",
      "number of models is :  4\n",
      "dtype changes from torch.float64 to torch.float32\n",
      "target loss      : 18.0000152588\n",
      "initial loss     : 41.9112938324\n",
      "loss upper bound : 22.5461502075\n",
      "\n",
      "================================================== \n",
      "\n"
     ]
    },
    {
     "data": {
      "application/vnd.jupyter.widget-view+json": {
       "model_id": "d662c57b74a9420b95d17e9b3a46d595",
       "version_major": 2,
       "version_minor": 0
      },
      "text/plain": [
       "  0%|          | 0/10000 [00:00<?, ?it/s]"
      ]
     },
     "metadata": {},
     "output_type": "display_data"
    },
    {
     "name": "stdout",
     "output_type": "stream",
     "text": [
      "dtype changes from torch.float32 to torch.float64\n",
      "stack in local minimum --> break loop\n",
      "number of models is :  4\n",
      "dtype changes from torch.float64 to torch.float32\n",
      "target loss      : 18.0000152588\n",
      "initial loss     : 41.0343142786\n",
      "loss upper bound : 22.5461502075\n",
      "\n",
      "================================================== \n",
      "\n"
     ]
    },
    {
     "data": {
      "application/vnd.jupyter.widget-view+json": {
       "model_id": "463d49f5f47142e48de83a0c8ea320e3",
       "version_major": 2,
       "version_minor": 0
      },
      "text/plain": [
       "  0%|          | 0/10000 [00:00<?, ?it/s]"
      ]
     },
     "metadata": {},
     "output_type": "display_data"
    },
    {
     "name": "stdout",
     "output_type": "stream",
     "text": [
      "dtype changes from torch.float32 to torch.float64\n",
      "stack in local minimum --> break loop\n",
      "number of models is :  4\n",
      "dtype changes from torch.float64 to torch.float32\n",
      "target loss      : 18.0000152588\n",
      "initial loss     : 40.7489767846\n",
      "loss upper bound : 22.5461502075\n",
      "\n",
      "================================================== \n",
      "\n"
     ]
    },
    {
     "data": {
      "application/vnd.jupyter.widget-view+json": {
       "model_id": "f27d83aa9add4050abb3d6cd25c26b65",
       "version_major": 2,
       "version_minor": 0
      },
      "text/plain": [
       "  0%|          | 0/10000 [00:00<?, ?it/s]"
      ]
     },
     "metadata": {},
     "output_type": "display_data"
    },
    {
     "name": "stdout",
     "output_type": "stream",
     "text": [
      "dtype changes from torch.float32 to torch.float64\n",
      "No local minimum found\n",
      "stack in local minimum --> break loop\n",
      "number of models is :  4\n",
      "dtype changes from torch.float64 to torch.float32\n",
      "target loss      : 18.0000152588\n",
      "initial loss     : 40.5784831259\n",
      "loss upper bound : 22.5461502075\n",
      "\n",
      "================================================== \n",
      "\n"
     ]
    },
    {
     "data": {
      "application/vnd.jupyter.widget-view+json": {
       "model_id": "1e6196937a404065a44589df6406b90c",
       "version_major": 2,
       "version_minor": 0
      },
      "text/plain": [
       "  0%|          | 0/10000 [00:00<?, ?it/s]"
      ]
     },
     "metadata": {},
     "output_type": "display_data"
    },
    {
     "name": "stdout",
     "output_type": "stream",
     "text": [
      "dtype changes from torch.float32 to torch.float64\n",
      "stack in local minimum --> break loop\n",
      "number of models is :  4\n",
      "dtype changes from torch.float64 to torch.float32\n",
      "target loss      : 18.0000152588\n",
      "initial loss     : 40.6757233881\n",
      "loss upper bound : 22.5461502075\n",
      "\n",
      "================================================== \n",
      "\n"
     ]
    },
    {
     "data": {
      "application/vnd.jupyter.widget-view+json": {
       "model_id": "a379984402214177b69b36048c74ee0c",
       "version_major": 2,
       "version_minor": 0
      },
      "text/plain": [
       "  0%|          | 0/10000 [00:00<?, ?it/s]"
      ]
     },
     "metadata": {},
     "output_type": "display_data"
    },
    {
     "name": "stdout",
     "output_type": "stream",
     "text": [
      "dtype changes from torch.float32 to torch.float64\n",
      "stack in local minimum --> break loop\n",
      "number of models is :  4\n",
      "dtype changes from torch.float64 to torch.float32\n",
      "target loss      : 18.0000152588\n",
      "initial loss     : 40.5033780470\n",
      "loss upper bound : 22.5461502075\n",
      "\n",
      "================================================== \n",
      "\n"
     ]
    },
    {
     "data": {
      "application/vnd.jupyter.widget-view+json": {
       "model_id": "5fa0ade01b7d4c9fb819296d762f23b1",
       "version_major": 2,
       "version_minor": 0
      },
      "text/plain": [
       "  0%|          | 0/10000 [00:00<?, ?it/s]"
      ]
     },
     "metadata": {},
     "output_type": "display_data"
    },
    {
     "name": "stdout",
     "output_type": "stream",
     "text": [
      "dtype changes from torch.float32 to torch.float64\n",
      "stack in local minimum --> break loop\n",
      "number of models is :  4\n",
      "dtype changes from torch.float64 to torch.float32\n",
      "target loss      : 18.0000152588\n",
      "initial loss     : 41.4815852105\n",
      "loss upper bound : 22.5461502075\n",
      "\n",
      "================================================== \n",
      "\n"
     ]
    },
    {
     "data": {
      "application/vnd.jupyter.widget-view+json": {
       "model_id": "107ff8558f2a4cc2b098c2731f0a5f63",
       "version_major": 2,
       "version_minor": 0
      },
      "text/plain": [
       "  0%|          | 0/10000 [00:00<?, ?it/s]"
      ]
     },
     "metadata": {},
     "output_type": "display_data"
    },
    {
     "name": "stdout",
     "output_type": "stream",
     "text": [
      "dtype changes from torch.float32 to torch.float64\n",
      "stack in local minimum --> break loop\n",
      "number of models is :  4\n",
      "dtype changes from torch.float64 to torch.float32\n",
      "target loss      : 18.0000152588\n",
      "initial loss     : 40.3237446928\n",
      "loss upper bound : 22.5461502075\n",
      "\n",
      "================================================== \n",
      "\n"
     ]
    },
    {
     "data": {
      "application/vnd.jupyter.widget-view+json": {
       "model_id": "75781e6a9e7c4997a661a565fdaf3e1b",
       "version_major": 2,
       "version_minor": 0
      },
      "text/plain": [
       "  0%|          | 0/10000 [00:00<?, ?it/s]"
      ]
     },
     "metadata": {},
     "output_type": "display_data"
    },
    {
     "name": "stdout",
     "output_type": "stream",
     "text": [
      "dtype changes from torch.float32 to torch.float64\n",
      "stack in local minimum --> break loop\n",
      "number of models is :  4\n",
      "dtype changes from torch.float64 to torch.float32\n",
      "target loss      : 18.0000152588\n",
      "initial loss     : 41.3493541963\n",
      "loss upper bound : 22.5461502075\n",
      "\n",
      "================================================== \n",
      "\n"
     ]
    },
    {
     "data": {
      "application/vnd.jupyter.widget-view+json": {
       "model_id": "d3e3c85b148e4cde941a9facf7e429bd",
       "version_major": 2,
       "version_minor": 0
      },
      "text/plain": [
       "  0%|          | 0/10000 [00:00<?, ?it/s]"
      ]
     },
     "metadata": {},
     "output_type": "display_data"
    },
    {
     "name": "stdout",
     "output_type": "stream",
     "text": [
      "dtype changes from torch.float32 to torch.float64\n",
      "stack in local minimum --> break loop\n",
      "number of models is :  4\n",
      "dtype changes from torch.float64 to torch.float32\n",
      "target loss      : 18.0000152588\n",
      "initial loss     : 39.9645036829\n",
      "loss upper bound : 22.5461502075\n",
      "\n",
      "================================================== \n",
      "\n"
     ]
    },
    {
     "data": {
      "application/vnd.jupyter.widget-view+json": {
       "model_id": "8a1ff7fa53504de39d5663e74ee656fb",
       "version_major": 2,
       "version_minor": 0
      },
      "text/plain": [
       "  0%|          | 0/10000 [00:00<?, ?it/s]"
      ]
     },
     "metadata": {},
     "output_type": "display_data"
    },
    {
     "name": "stdout",
     "output_type": "stream",
     "text": [
      "dtype changes from torch.float32 to torch.float64\n",
      "stack in local minimum --> break loop\n",
      "number of models is :  4\n",
      "dtype changes from torch.float64 to torch.float32\n",
      "target loss      : 18.0000152588\n",
      "initial loss     : 41.4888082836\n",
      "loss upper bound : 22.5461502075\n",
      "\n",
      "================================================== \n",
      "\n"
     ]
    },
    {
     "data": {
      "application/vnd.jupyter.widget-view+json": {
       "model_id": "fd7905140d624da0876a0230c5e3d9a2",
       "version_major": 2,
       "version_minor": 0
      },
      "text/plain": [
       "  0%|          | 0/10000 [00:00<?, ?it/s]"
      ]
     },
     "metadata": {},
     "output_type": "display_data"
    },
    {
     "name": "stdout",
     "output_type": "stream",
     "text": [
      "dtype changes from torch.float32 to torch.float64\n",
      "stack in local minimum --> break loop\n",
      "number of models is :  4\n",
      "dtype changes from torch.float64 to torch.float32\n",
      "target loss      : 18.0000152588\n",
      "initial loss     : 41.2970744036\n",
      "loss upper bound : 22.5461502075\n",
      "\n",
      "================================================== \n",
      "\n"
     ]
    },
    {
     "data": {
      "application/vnd.jupyter.widget-view+json": {
       "model_id": "42b171dcc8104616b0ca2a89c59e4220",
       "version_major": 2,
       "version_minor": 0
      },
      "text/plain": [
       "  0%|          | 0/10000 [00:00<?, ?it/s]"
      ]
     },
     "metadata": {},
     "output_type": "display_data"
    },
    {
     "name": "stdout",
     "output_type": "stream",
     "text": [
      "dtype changes from torch.float32 to torch.float64\n",
      "stack in local minimum --> break loop\n",
      "number of models is :  4\n",
      "dtype changes from torch.float64 to torch.float32\n",
      "target loss      : 18.0000152588\n",
      "initial loss     : 41.3489264009\n",
      "loss upper bound : 22.5461502075\n",
      "\n",
      "================================================== \n",
      "\n"
     ]
    },
    {
     "data": {
      "application/vnd.jupyter.widget-view+json": {
       "model_id": "0fa1a921f08d48cd944f0b491ef1120c",
       "version_major": 2,
       "version_minor": 0
      },
      "text/plain": [
       "  0%|          | 0/10000 [00:00<?, ?it/s]"
      ]
     },
     "metadata": {},
     "output_type": "display_data"
    },
    {
     "name": "stdout",
     "output_type": "stream",
     "text": [
      "dtype changes from torch.float32 to torch.float64\n",
      "stack in local minimum --> break loop\n",
      "number of models is :  4\n",
      "dtype changes from torch.float64 to torch.float32\n",
      "target loss      : 18.0000152588\n",
      "initial loss     : 41.9591655259\n",
      "loss upper bound : 22.5461502075\n",
      "\n",
      "================================================== \n",
      "\n"
     ]
    },
    {
     "data": {
      "application/vnd.jupyter.widget-view+json": {
       "model_id": "ef990c3033a94112bab71df03d80b2ca",
       "version_major": 2,
       "version_minor": 0
      },
      "text/plain": [
       "  0%|          | 0/10000 [00:00<?, ?it/s]"
      ]
     },
     "metadata": {},
     "output_type": "display_data"
    },
    {
     "name": "stdout",
     "output_type": "stream",
     "text": [
      "dtype changes from torch.float32 to torch.float64\n",
      "stack in local minimum --> break loop\n",
      "number of models is :  4\n",
      "dtype changes from torch.float64 to torch.float32\n",
      "target loss      : 18.0000152588\n",
      "initial loss     : 40.5318544526\n",
      "loss upper bound : 22.5461502075\n",
      "\n",
      "================================================== \n",
      "\n"
     ]
    },
    {
     "data": {
      "application/vnd.jupyter.widget-view+json": {
       "model_id": "f592637c7f68466bafa302d70fb8b28c",
       "version_major": 2,
       "version_minor": 0
      },
      "text/plain": [
       "  0%|          | 0/10000 [00:00<?, ?it/s]"
      ]
     },
     "metadata": {},
     "output_type": "display_data"
    },
    {
     "name": "stdout",
     "output_type": "stream",
     "text": [
      "dtype changes from torch.float32 to torch.float64\n",
      "stack in local minimum --> break loop\n",
      "number of models is :  4\n",
      "dtype changes from torch.float64 to torch.float32\n",
      "target loss      : 18.0000152588\n",
      "initial loss     : 41.6504845491\n",
      "loss upper bound : 22.5461502075\n",
      "\n",
      "================================================== \n",
      "\n"
     ]
    },
    {
     "data": {
      "application/vnd.jupyter.widget-view+json": {
       "model_id": "7d0f24dbdbf540969eb7f93a1d2f1ee1",
       "version_major": 2,
       "version_minor": 0
      },
      "text/plain": [
       "  0%|          | 0/10000 [00:00<?, ?it/s]"
      ]
     },
     "metadata": {},
     "output_type": "display_data"
    },
    {
     "name": "stdout",
     "output_type": "stream",
     "text": [
      "dtype changes from torch.float32 to torch.float64\n",
      "stack in local minimum --> break loop\n",
      "number of models is :  4\n",
      "dtype changes from torch.float64 to torch.float32\n",
      "target loss      : 18.0000152588\n",
      "initial loss     : 40.7656243727\n",
      "loss upper bound : 22.5461502075\n",
      "\n",
      "================================================== \n",
      "\n"
     ]
    },
    {
     "data": {
      "application/vnd.jupyter.widget-view+json": {
       "model_id": "e996a54168544bcb9f701f4ae82fe96d",
       "version_major": 2,
       "version_minor": 0
      },
      "text/plain": [
       "  0%|          | 0/10000 [00:00<?, ?it/s]"
      ]
     },
     "metadata": {},
     "output_type": "display_data"
    },
    {
     "name": "stdout",
     "output_type": "stream",
     "text": [
      "dtype changes from torch.float32 to torch.float64\n",
      "stack in local minimum --> break loop\n",
      "number of models is :  4\n",
      "dtype changes from torch.float64 to torch.float32\n",
      "target loss      : 18.0000152588\n",
      "initial loss     : 41.4504396488\n",
      "loss upper bound : 22.5461502075\n",
      "\n",
      "================================================== \n",
      "\n"
     ]
    },
    {
     "data": {
      "application/vnd.jupyter.widget-view+json": {
       "model_id": "45cc22d7e8be441a8ce83f9208f72fe8",
       "version_major": 2,
       "version_minor": 0
      },
      "text/plain": [
       "  0%|          | 0/10000 [00:00<?, ?it/s]"
      ]
     },
     "metadata": {},
     "output_type": "display_data"
    },
    {
     "name": "stdout",
     "output_type": "stream",
     "text": [
      "dtype changes from torch.float32 to torch.float64\n",
      "stack in local minimum --> break loop\n",
      "number of models is :  4\n",
      "dtype changes from torch.float64 to torch.float32\n",
      "target loss      : 18.0000152588\n",
      "initial loss     : 41.4435220446\n",
      "loss upper bound : 22.5461502075\n",
      "\n",
      "================================================== \n",
      "\n"
     ]
    },
    {
     "data": {
      "application/vnd.jupyter.widget-view+json": {
       "model_id": "26495f359e154879b332af3082878b5c",
       "version_major": 2,
       "version_minor": 0
      },
      "text/plain": [
       "  0%|          | 0/10000 [00:00<?, ?it/s]"
      ]
     },
     "metadata": {},
     "output_type": "display_data"
    },
    {
     "name": "stdout",
     "output_type": "stream",
     "text": [
      "dtype changes from torch.float32 to torch.float64\n",
      "stack in local minimum --> break loop\n",
      "number of models is :  4\n",
      "dtype changes from torch.float64 to torch.float32\n",
      "target loss      : 18.0000152588\n",
      "initial loss     : 40.9388187376\n",
      "loss upper bound : 22.5461502075\n",
      "\n",
      "================================================== \n",
      "\n"
     ]
    },
    {
     "data": {
      "application/vnd.jupyter.widget-view+json": {
       "model_id": "b304bfa7f87740448cf8c7f4c13b47a9",
       "version_major": 2,
       "version_minor": 0
      },
      "text/plain": [
       "  0%|          | 0/10000 [00:00<?, ?it/s]"
      ]
     },
     "metadata": {},
     "output_type": "display_data"
    },
    {
     "name": "stdout",
     "output_type": "stream",
     "text": [
      "dtype changes from torch.float32 to torch.float64\n",
      "stack in local minimum --> break loop\n",
      "number of models is :  4\n",
      "dtype changes from torch.float64 to torch.float32\n",
      "target loss      : 18.0000152588\n",
      "initial loss     : 40.2871615843\n",
      "loss upper bound : 22.5461502075\n",
      "\n",
      "================================================== \n",
      "\n"
     ]
    },
    {
     "data": {
      "application/vnd.jupyter.widget-view+json": {
       "model_id": "327129219f2f466193faaec35a323102",
       "version_major": 2,
       "version_minor": 0
      },
      "text/plain": [
       "  0%|          | 0/10000 [00:00<?, ?it/s]"
      ]
     },
     "metadata": {},
     "output_type": "display_data"
    },
    {
     "name": "stdout",
     "output_type": "stream",
     "text": [
      "dtype changes from torch.float32 to torch.float64\n",
      "stack in local minimum --> break loop\n",
      "number of models is :  4\n",
      "dtype changes from torch.float64 to torch.float32\n",
      "target loss      : 18.0000152588\n",
      "initial loss     : 40.9239417324\n",
      "loss upper bound : 22.5461502075\n",
      "\n",
      "================================================== \n",
      "\n"
     ]
    },
    {
     "data": {
      "application/vnd.jupyter.widget-view+json": {
       "model_id": "8dee08dbf8ca4663964feb31e0d4beea",
       "version_major": 2,
       "version_minor": 0
      },
      "text/plain": [
       "  0%|          | 0/10000 [00:00<?, ?it/s]"
      ]
     },
     "metadata": {},
     "output_type": "display_data"
    },
    {
     "name": "stdout",
     "output_type": "stream",
     "text": [
      "dtype changes from torch.float32 to torch.float64\n",
      "stack in local minimum --> break loop\n",
      "number of models is :  4\n",
      "dtype changes from torch.float64 to torch.float32\n",
      "target loss      : 18.0000152588\n",
      "initial loss     : 40.2600783112\n",
      "loss upper bound : 22.5461502075\n",
      "\n",
      "================================================== \n",
      "\n"
     ]
    },
    {
     "data": {
      "application/vnd.jupyter.widget-view+json": {
       "model_id": "c6f0d1048af44d6395229a3b208bc92b",
       "version_major": 2,
       "version_minor": 0
      },
      "text/plain": [
       "  0%|          | 0/10000 [00:00<?, ?it/s]"
      ]
     },
     "metadata": {},
     "output_type": "display_data"
    },
    {
     "name": "stdout",
     "output_type": "stream",
     "text": [
      "dtype changes from torch.float32 to torch.float64\n",
      "stack in local minimum --> break loop\n",
      "number of models is :  4\n",
      "dtype changes from torch.float64 to torch.float32\n",
      "target loss      : 18.0000152588\n",
      "initial loss     : 41.2069589745\n",
      "loss upper bound : 22.5461502075\n",
      "\n",
      "================================================== \n",
      "\n"
     ]
    },
    {
     "data": {
      "application/vnd.jupyter.widget-view+json": {
       "model_id": "327ac04f9aa244f89a362e523967bce5",
       "version_major": 2,
       "version_minor": 0
      },
      "text/plain": [
       "  0%|          | 0/10000 [00:00<?, ?it/s]"
      ]
     },
     "metadata": {},
     "output_type": "display_data"
    },
    {
     "name": "stdout",
     "output_type": "stream",
     "text": [
      "dtype changes from torch.float32 to torch.float64\n",
      "stack in local minimum --> break loop\n",
      "number of models is :  4\n",
      "dtype changes from torch.float64 to torch.float32\n",
      "target loss      : 18.0000152588\n",
      "initial loss     : 40.8907214316\n",
      "loss upper bound : 22.5461502075\n",
      "\n",
      "================================================== \n",
      "\n"
     ]
    },
    {
     "data": {
      "application/vnd.jupyter.widget-view+json": {
       "model_id": "4df8d1f0dbe9421a9b752b2631d63ec9",
       "version_major": 2,
       "version_minor": 0
      },
      "text/plain": [
       "  0%|          | 0/10000 [00:00<?, ?it/s]"
      ]
     },
     "metadata": {},
     "output_type": "display_data"
    },
    {
     "name": "stdout",
     "output_type": "stream",
     "text": [
      "dtype changes from torch.float32 to torch.float64\n",
      "stack in local minimum --> break loop\n",
      "number of models is :  4\n",
      "dtype changes from torch.float64 to torch.float32\n",
      "target loss      : 18.0000152588\n",
      "initial loss     : 40.5690851277\n",
      "loss upper bound : 22.5461502075\n",
      "\n",
      "================================================== \n",
      "\n"
     ]
    },
    {
     "data": {
      "application/vnd.jupyter.widget-view+json": {
       "model_id": "e955af3aff7d49849f95d59bad30a0d8",
       "version_major": 2,
       "version_minor": 0
      },
      "text/plain": [
       "  0%|          | 0/10000 [00:00<?, ?it/s]"
      ]
     },
     "metadata": {},
     "output_type": "display_data"
    },
    {
     "name": "stdout",
     "output_type": "stream",
     "text": [
      "dtype changes from torch.float32 to torch.float64\n",
      "stack in local minimum --> break loop\n",
      "number of models is :  4\n",
      "dtype changes from torch.float64 to torch.float32\n",
      "target loss      : 18.0000152588\n",
      "initial loss     : 40.2370466394\n",
      "loss upper bound : 22.5461502075\n",
      "\n",
      "================================================== \n",
      "\n"
     ]
    },
    {
     "data": {
      "application/vnd.jupyter.widget-view+json": {
       "model_id": "c4925590d7a049878fabcf1d836e3275",
       "version_major": 2,
       "version_minor": 0
      },
      "text/plain": [
       "  0%|          | 0/10000 [00:00<?, ?it/s]"
      ]
     },
     "metadata": {},
     "output_type": "display_data"
    },
    {
     "name": "stdout",
     "output_type": "stream",
     "text": [
      "dtype changes from torch.float32 to torch.float64\n",
      "stack in local minimum --> break loop\n",
      "number of models is :  4\n",
      "dtype changes from torch.float64 to torch.float32\n",
      "target loss      : 18.0000152588\n",
      "initial loss     : 41.0145556827\n",
      "loss upper bound : 22.5461502075\n",
      "\n",
      "================================================== \n",
      "\n"
     ]
    },
    {
     "data": {
      "application/vnd.jupyter.widget-view+json": {
       "model_id": "02df1c37ee2c42f591effa04ddeab271",
       "version_major": 2,
       "version_minor": 0
      },
      "text/plain": [
       "  0%|          | 0/10000 [00:00<?, ?it/s]"
      ]
     },
     "metadata": {},
     "output_type": "display_data"
    },
    {
     "name": "stdout",
     "output_type": "stream",
     "text": [
      "dtype changes from torch.float32 to torch.float64\n",
      "stack in local minimum --> break loop\n",
      "number of models is :  4\n",
      "dtype changes from torch.float64 to torch.float32\n",
      "target loss      : 18.0000152588\n",
      "initial loss     : 40.5643656766\n",
      "loss upper bound : 22.5461502075\n",
      "\n",
      "================================================== \n",
      "\n"
     ]
    },
    {
     "data": {
      "application/vnd.jupyter.widget-view+json": {
       "model_id": "f4b79da6717e4096b619ec4d9b2daa4a",
       "version_major": 2,
       "version_minor": 0
      },
      "text/plain": [
       "  0%|          | 0/10000 [00:00<?, ?it/s]"
      ]
     },
     "metadata": {},
     "output_type": "display_data"
    },
    {
     "name": "stdout",
     "output_type": "stream",
     "text": [
      "dtype changes from torch.float32 to torch.float64\n",
      "stack in local minimum --> break loop\n",
      "number of models is :  4\n",
      "dtype changes from torch.float64 to torch.float32\n",
      "target loss      : 18.0000152588\n",
      "initial loss     : 41.1180487194\n",
      "loss upper bound : 22.5461502075\n",
      "\n",
      "================================================== \n",
      "\n"
     ]
    },
    {
     "data": {
      "application/vnd.jupyter.widget-view+json": {
       "model_id": "2c6aad3c5ae345cbb90cc6e83ae06ae5",
       "version_major": 2,
       "version_minor": 0
      },
      "text/plain": [
       "  0%|          | 0/10000 [00:00<?, ?it/s]"
      ]
     },
     "metadata": {},
     "output_type": "display_data"
    },
    {
     "name": "stdout",
     "output_type": "stream",
     "text": [
      "dtype changes from torch.float32 to torch.float64\n",
      "stack in local minimum --> break loop\n",
      "number of models is :  4\n",
      "dtype changes from torch.float64 to torch.float32\n",
      "target loss      : 18.0000152588\n",
      "initial loss     : 40.4593964868\n",
      "loss upper bound : 22.5461502075\n",
      "\n",
      "================================================== \n",
      "\n"
     ]
    },
    {
     "data": {
      "application/vnd.jupyter.widget-view+json": {
       "model_id": "3841622ada9d424485eb35ef0803ea3f",
       "version_major": 2,
       "version_minor": 0
      },
      "text/plain": [
       "  0%|          | 0/10000 [00:00<?, ?it/s]"
      ]
     },
     "metadata": {},
     "output_type": "display_data"
    },
    {
     "name": "stdout",
     "output_type": "stream",
     "text": [
      "dtype changes from torch.float32 to torch.float64\n",
      "No local minimum found\n",
      "No local minimum found\n",
      "stack in local minimum --> break loop\n",
      "number of models is :  4\n",
      "dtype changes from torch.float64 to torch.float32\n",
      "target loss      : 18.0000152588\n",
      "initial loss     : 41.3420437078\n",
      "loss upper bound : 22.5461502075\n",
      "\n",
      "================================================== \n",
      "\n"
     ]
    },
    {
     "data": {
      "application/vnd.jupyter.widget-view+json": {
       "model_id": "ea69972855874cf586ab3f05ae5b87e1",
       "version_major": 2,
       "version_minor": 0
      },
      "text/plain": [
       "  0%|          | 0/10000 [00:00<?, ?it/s]"
      ]
     },
     "metadata": {},
     "output_type": "display_data"
    },
    {
     "name": "stdout",
     "output_type": "stream",
     "text": [
      "dtype changes from torch.float32 to torch.float64\n",
      "stack in local minimum --> break loop\n",
      "number of models is :  4\n",
      "dtype changes from torch.float64 to torch.float32\n",
      "target loss      : 18.0000152588\n",
      "initial loss     : 40.9230430611\n",
      "loss upper bound : 22.5461502075\n",
      "\n",
      "================================================== \n",
      "\n"
     ]
    },
    {
     "data": {
      "application/vnd.jupyter.widget-view+json": {
       "model_id": "11200db6afba4534922c83c19f56d452",
       "version_major": 2,
       "version_minor": 0
      },
      "text/plain": [
       "  0%|          | 0/10000 [00:00<?, ?it/s]"
      ]
     },
     "metadata": {},
     "output_type": "display_data"
    },
    {
     "name": "stdout",
     "output_type": "stream",
     "text": [
      "dtype changes from torch.float32 to torch.float64\n",
      "stack in local minimum --> break loop\n",
      "number of models is :  4\n",
      "dtype changes from torch.float64 to torch.float32\n",
      "target loss      : 18.0000152588\n",
      "initial loss     : 40.8740833438\n",
      "loss upper bound : 22.5461502075\n",
      "\n",
      "================================================== \n",
      "\n"
     ]
    },
    {
     "data": {
      "application/vnd.jupyter.widget-view+json": {
       "model_id": "f5ec45c5401e48719304dc2253df6a06",
       "version_major": 2,
       "version_minor": 0
      },
      "text/plain": [
       "  0%|          | 0/10000 [00:00<?, ?it/s]"
      ]
     },
     "metadata": {},
     "output_type": "display_data"
    },
    {
     "name": "stdout",
     "output_type": "stream",
     "text": [
      "dtype changes from torch.float32 to torch.float64\n"
     ]
    },
    {
     "ename": "KeyboardInterrupt",
     "evalue": "",
     "output_type": "error",
     "traceback": [
      "\u001b[0;31m---------------------------------------------------------------------------\u001b[0m",
      "\u001b[0;31mKeyboardInterrupt\u001b[0m                         Traceback (most recent call last)",
      "Input \u001b[0;32mIn [2]\u001b[0m, in \u001b[0;36m<cell line: 2>\u001b[0;34m()\u001b[0m\n\u001b[1;32m      4\u001b[0m cg2 \u001b[38;5;241m=\u001b[39m RiemanNonTransUnitaryCG([(models[i], models[(i\u001b[38;5;241m+\u001b[39m\u001b[38;5;241m1\u001b[39m)\u001b[38;5;241m%\u001b[39mL]) \u001b[38;5;28;01mfor\u001b[39;00m i \u001b[38;5;129;01min\u001b[39;00m \u001b[38;5;28mrange\u001b[39m(L)], [loss]\u001b[38;5;241m*\u001b[39mL)\n\u001b[1;32m      5\u001b[0m solver2 \u001b[38;5;241m=\u001b[39m UnitaryNonTransTs(cg2)\n\u001b[0;32m----> 6\u001b[0m ret \u001b[38;5;241m=\u001b[39m \u001b[43msolver2\u001b[49m\u001b[38;5;241;43m.\u001b[39;49m\u001b[43mrun\u001b[49m\u001b[43m(\u001b[49m\u001b[38;5;241;43m10000\u001b[39;49m\u001b[43m,\u001b[49m\u001b[43m \u001b[49m\u001b[43mdisable_message\u001b[49m\u001b[38;5;241;43m=\u001b[39;49m\u001b[38;5;28;43;01mFalse\u001b[39;49;00m\u001b[43m)\u001b[49m\n\u001b[1;32m      7\u001b[0m \u001b[38;5;28;01mif\u001b[39;00m ret\u001b[38;5;241m.\u001b[39mfun \u001b[38;5;241m<\u001b[39m best_fun:\n\u001b[1;32m      8\u001b[0m     \u001b[38;5;28mprint\u001b[39m(\u001b[38;5;124mf\u001b[39m\u001b[38;5;124m\"\u001b[39m\u001b[38;5;130;01m\\n\u001b[39;00m\u001b[38;5;124mbest_fun : \u001b[39m\u001b[38;5;132;01m{\u001b[39;00mret\u001b[38;5;241m.\u001b[39mfun\u001b[38;5;132;01m}\u001b[39;00m\u001b[38;5;130;01m\\n\u001b[39;00m\u001b[38;5;124m\"\u001b[39m)\n",
      "File \u001b[0;32m~/project/python/exact/../nsp/nsp/solver/torch_solver.py:205\u001b[0m, in \u001b[0;36mUnitaryNonTransTs.run\u001b[0;34m(self, n_iter, disable_message)\u001b[0m\n\u001b[1;32m    203\u001b[0m optim\u001b[38;5;241m.\u001b[39mzero_grad()\n\u001b[1;32m    204\u001b[0m loss_\u001b[38;5;241m.\u001b[39mbackward()\n\u001b[0;32m--> 205\u001b[0m \u001b[38;5;28;01mif\u001b[39;00m \u001b[43moptim\u001b[49m\u001b[38;5;241;43m.\u001b[39;49m\u001b[43mstep\u001b[49m\u001b[43m(\u001b[49m\u001b[43m)\u001b[49m:\n\u001b[1;32m    206\u001b[0m     \u001b[38;5;28;01mif\u001b[39;00m \u001b[38;5;28mself\u001b[39m\u001b[38;5;241m.\u001b[39mprt:\n\u001b[1;32m    207\u001b[0m         \u001b[38;5;28mprint\u001b[39m(\u001b[38;5;124m\"\u001b[39m\u001b[38;5;124mstack in local minimum --> break loop\u001b[39m\u001b[38;5;124m\"\u001b[39m)\n",
      "File \u001b[0;32m~/project/python/exact/../nsp/nsp/optim/rieman_nontrans_unitary_optim.py:145\u001b[0m, in \u001b[0;36mBaseRiemanNonTransUnitaryOptimizer.step\u001b[0;34m(self, closure)\u001b[0m\n\u001b[1;32m    143\u001b[0m             \u001b[38;5;28;01melse\u001b[39;00m:\n\u001b[1;32m    144\u001b[0m                 momentum_buffer_list\u001b[38;5;241m.\u001b[39mappend(state[\u001b[38;5;124m'\u001b[39m\u001b[38;5;124mmomentum_buffer\u001b[39m\u001b[38;5;124m'\u001b[39m])\n\u001b[0;32m--> 145\u001b[0m \u001b[38;5;28;01mif\u001b[39;00m \u001b[38;5;28;43mself\u001b[39;49m\u001b[38;5;241;43m.\u001b[39;49m\u001b[43mmethod\u001b[49m\u001b[43m(\u001b[49m\n\u001b[1;32m    146\u001b[0m \u001b[43m    \u001b[49m\u001b[43mparams_with_grad\u001b[49m\u001b[43m,\u001b[49m\n\u001b[1;32m    147\u001b[0m \u001b[43m    \u001b[49m\u001b[43mrd_p_n_U_list\u001b[49m\u001b[43m,\u001b[49m\n\u001b[1;32m    148\u001b[0m \u001b[43m    \u001b[49m\u001b[43mmomentum_buffer_list\u001b[49m\u001b[43m,\u001b[49m\n\u001b[1;32m    149\u001b[0m \u001b[43m    \u001b[49m\u001b[43mweight_decay\u001b[49m\u001b[38;5;241;43m=\u001b[39;49m\u001b[38;5;28;43mself\u001b[39;49m\u001b[38;5;241;43m.\u001b[39;49m\u001b[43mweight_decay\u001b[49m\u001b[43m,\u001b[49m\n\u001b[1;32m    150\u001b[0m \u001b[43m    \u001b[49m\u001b[43mmomentum\u001b[49m\u001b[38;5;241;43m=\u001b[39;49m\u001b[38;5;28;43mself\u001b[39;49m\u001b[38;5;241;43m.\u001b[39;49m\u001b[43mmomentum\u001b[49m\u001b[43m,\u001b[49m\n\u001b[1;32m    151\u001b[0m \u001b[43m    \u001b[49m\u001b[43mlr\u001b[49m\u001b[38;5;241;43m=\u001b[39;49m\u001b[38;5;28;43mself\u001b[39;49m\u001b[38;5;241;43m.\u001b[39;49m\u001b[43mlr\u001b[49m\u001b[43m,\u001b[49m\u001b[43m)\u001b[49m \u001b[38;5;129;01mis\u001b[39;00m \u001b[38;5;28;01mTrue\u001b[39;00m:\n\u001b[1;32m    153\u001b[0m     \u001b[38;5;28;01mreturn\u001b[39;00m \u001b[38;5;28;01mTrue\u001b[39;00m\n\u001b[1;32m    155\u001b[0m \u001b[38;5;66;03m# update momentum_buffers in state\u001b[39;00m\n",
      "File \u001b[0;32m~/project/python/exact/../nsp/nsp/optim/rieman_nontrans_unitary_optim.py:343\u001b[0m, in \u001b[0;36mRiemanNonTransUnitaryCG.method\u001b[0;34m(self, params, rd_p_n_U_list, momentum_buffer_list, weight_decay, momentum, lr)\u001b[0m\n\u001b[1;32m    336\u001b[0m         \u001b[38;5;66;03m# add old information to buffer\u001b[39;00m\n\u001b[1;32m    337\u001b[0m         momentum_buffer_list[i] \u001b[38;5;241m=\u001b[39m [\n\u001b[1;32m    338\u001b[0m             torch\u001b[38;5;241m.\u001b[39mclone(inv_step_dir\u001b[38;5;241m.\u001b[39mdata), \n\u001b[1;32m    339\u001b[0m             torch\u001b[38;5;241m.\u001b[39mclone(rd_p\u001b[38;5;241m.\u001b[39mdata),\n\u001b[1;32m    340\u001b[0m             rieman_grad_norm\n\u001b[1;32m    341\u001b[0m         ]\n\u001b[0;32m--> 343\u001b[0m lr \u001b[38;5;241m=\u001b[39m \u001b[38;5;28;43mself\u001b[39;49m\u001b[38;5;241;43m.\u001b[39;49m\u001b[43m_golden\u001b[49m\u001b[43m(\u001b[49m\u001b[38;5;28;43mself\u001b[39;49m\u001b[38;5;241;43m.\u001b[39;49m\u001b[43minv_list\u001b[49m\u001b[43m)\u001b[49m\n\u001b[1;32m    345\u001b[0m \u001b[38;5;28;01mfor\u001b[39;00m i, param \u001b[38;5;129;01min\u001b[39;00m \u001b[38;5;28menumerate\u001b[39m(params):\n\u001b[1;32m    346\u001b[0m     inv_step_dir, U \u001b[38;5;241m=\u001b[39m \u001b[38;5;28mself\u001b[39m\u001b[38;5;241m.\u001b[39minv_list[i]\n",
      "File \u001b[0;32m~/project/python/exact/../nsp/nsp/optim/rieman_nontrans_unitary_optim.py:276\u001b[0m, in \u001b[0;36mRiemanNonTransUnitaryCG._golden\u001b[0;34m(self, grad_U_list, delta)\u001b[0m\n\u001b[1;32m    273\u001b[0m t \u001b[38;5;241m=\u001b[39m \u001b[38;5;241m10\u001b[39m\n\u001b[1;32m    274\u001b[0m \u001b[38;5;28;01mfor\u001b[39;00m _ \u001b[38;5;129;01min\u001b[39;00m \u001b[38;5;28mrange\u001b[39m(\u001b[38;5;241m10\u001b[39m):\n\u001b[1;32m    275\u001b[0m     \u001b[38;5;66;03m# print(objective(step))\u001b[39;00m\n\u001b[0;32m--> 276\u001b[0m     \u001b[38;5;28;01mif\u001b[39;00m (objective(step) \u001b[38;5;241m<\u001b[39m \u001b[43mobjective\u001b[49m\u001b[43m(\u001b[49m\u001b[38;5;241;43m0\u001b[39;49m\u001b[43m)\u001b[49m):\n\u001b[1;32m    277\u001b[0m         \u001b[38;5;28;01mwhile\u001b[39;00m \u001b[38;5;28;01mTrue\u001b[39;00m:\n\u001b[1;32m    278\u001b[0m             \u001b[38;5;28;01mif\u001b[39;00m objective(step) \u001b[38;5;241m<\u001b[39m objective(step\u001b[38;5;241m*\u001b[39mt):\n\u001b[1;32m    279\u001b[0m                 \u001b[38;5;66;03m# print(objective(0) ,objective(step), objective(step*t))\u001b[39;00m\n",
      "File \u001b[0;32m~/project/python/exact/../nsp/nsp/optim/rieman_nontrans_unitary_optim.py:262\u001b[0m, in \u001b[0;36mRiemanNonTransUnitaryCG._golden.<locals>.objective\u001b[0;34m(t)\u001b[0m\n\u001b[1;32m    260\u001b[0m U_list \u001b[38;5;241m=\u001b[39m []\n\u001b[1;32m    261\u001b[0m \u001b[38;5;28;01mfor\u001b[39;00m H, U \u001b[38;5;129;01min\u001b[39;00m grad_U_list:\n\u001b[0;32m--> 262\u001b[0m     U_list\u001b[38;5;241m.\u001b[39mappend(\u001b[43mtorch\u001b[49m\u001b[38;5;241;43m.\u001b[39;49m\u001b[43mmatrix_exp\u001b[49m\u001b[43m(\u001b[49m\u001b[38;5;241;43m-\u001b[39;49m\u001b[43mt\u001b[49m\u001b[38;5;241;43m*\u001b[39;49m\u001b[43mH\u001b[49m\u001b[43m)\u001b[49m\u001b[38;5;129m@U\u001b[39m)\n\u001b[1;32m    263\u001b[0m \u001b[38;5;28;01mreturn\u001b[39;00m \u001b[38;5;28mself\u001b[39m\u001b[38;5;241m.\u001b[39mloss_val(U_list)\n",
      "\u001b[0;31mKeyboardInterrupt\u001b[0m: "
     ]
    }
   ],
   "source": [
    "best_fun = 1E10\n",
    "for _ in range(1000):\n",
    "    models = [nsp.model.UnitaryRiemanGenerator(D, dtype=torch.float64) for _ in range(L)]\n",
    "    cg2 = RiemanNonTransUnitaryCG([(models[i], models[(i+1)%L]) for i in range(L)], [loss]*L)\n",
    "    solver2 = UnitaryNonTransTs(cg2)\n",
    "    ret = solver2.run(10000, disable_message=False)\n",
    "    if ret.fun < best_fun:\n",
    "        print(f\"\\nbest_fun : {ret.fun}\\n\")\n",
    "        best_fun = ret.fun\n",
    "        best_model = models"
   ]
  },
  {
   "cell_type": "code",
   "execution_count": 97,
   "id": "3f1e3934",
   "metadata": {},
   "outputs": [
    {
     "data": {
      "text/plain": [
       "tensor([[-2.2500,  0.0000,  0.0000,  ...,  0.0000,  0.0000,  0.0000],\n",
       "        [ 0.0000, -1.7500, -0.2500,  ...,  0.0000,  0.0000,  0.0000],\n",
       "        [ 0.0000, -0.2500, -0.7500,  ...,  0.0000,  0.0000,  0.0000],\n",
       "        ...,\n",
       "        [ 0.0000,  0.0000,  0.0000,  ..., -0.7500, -0.2500,  0.0000],\n",
       "        [ 0.0000,  0.0000,  0.0000,  ..., -0.2500, -1.7500,  0.0000],\n",
       "        [ 0.0000,  0.0000,  0.0000,  ...,  0.0000,  0.0000, -2.2500]],\n",
       "       dtype=torch.float64)"
      ]
     },
     "execution_count": 97,
     "metadata": {},
     "output_type": "execute_result"
    }
   ],
   "source": [
    "loss.X_original"
   ]
  },
  {
   "cell_type": "code",
   "execution_count": 129,
   "id": "c3ce151e",
   "metadata": {},
   "outputs": [],
   "source": [
    "def _kron(U_list : list):\n",
    "    U = torch.eye(1)\n",
    "    for u in U_list:\n",
    "        U = torch.kron(u, U)\n",
    "    return U\n",
    "\n",
    "def _kron2(U_list : list):\n",
    "    U = torch.eye(1)\n",
    "    for u in U_list:\n",
    "        U = torch.kron(U, u)\n",
    "    return U"
   ]
  },
  {
   "cell_type": "code",
   "execution_count": 151,
   "id": "ea829565",
   "metadata": {},
   "outputs": [],
   "source": [
    "UXs = []\n",
    "for i in range(4):\n",
    "    kronU = _kron([best_model[i].matrix(), best_model[(i+1)%L].matrix()])\n",
    "    UXs.append((kronU.T @ loss.X_original @ kronU).detach().numpy())"
   ]
  },
  {
   "cell_type": "code",
   "execution_count": 144,
   "id": "0dfa933c",
   "metadata": {
    "scrolled": true
   },
   "outputs": [],
   "source": [
    "UXs = [loss._transform_kron([best_model[i].matrix(), best_model[(i+1)%L].matrix()], original=True).detach().numpy() for i in range(L)]"
   ]
  },
  {
   "cell_type": "code",
   "execution_count": 153,
   "id": "9462036f",
   "metadata": {},
   "outputs": [
    {
     "name": "stdout",
     "output_type": "stream",
     "text": [
      "save :  ../array/majumdar_ghosh/optimize8_4/0.npy\n",
      "save :  ../array/majumdar_ghosh/optimize8_4/1.npy\n",
      "save :  ../array/majumdar_ghosh/optimize8_4/2.npy\n",
      "save :  ../array/majumdar_ghosh/optimize8_4/3.npy\n"
     ]
    }
   ],
   "source": [
    "path = \"../array/majumdar_ghosh/optimize8_4/\"\n",
    "if not os.path.exists(path):\n",
    "    os.makedirs(path)\n",
    "for i, name in enumerate(range(4)):\n",
    "    if not os.path.isfile(path):\n",
    "        np.save(path + f\"{name}\", UXs[i]/2)\n",
    "        print(\"save : \", path + f\"{name}\" + \".npy\")"
   ]
  },
  {
   "cell_type": "code",
   "execution_count": 102,
   "id": "dc79861d",
   "metadata": {},
   "outputs": [
    {
     "data": {
      "text/plain": [
       "array([[-1.28303533e-07, -4.86465869e-04,  3.56447191e-05, ...,\n",
       "        -9.70259142e-07,  1.22293046e-08,  9.73386411e-07],\n",
       "       [-4.86465869e-04, -1.51591142e-07,  3.28764612e-04, ...,\n",
       "        -2.87178904e-11, -2.47491708e-07,  3.37001271e-09],\n",
       "       [ 3.56447191e-05,  3.28764612e-04, -7.49999979e-01, ...,\n",
       "        -1.14593373e-04, -2.59757687e-08,  1.51360116e-05],\n",
       "       ...,\n",
       "       [-9.70259142e-07, -2.87179052e-11, -1.14593373e-04, ...,\n",
       "         7.49999901e-01, -1.63871967e-04, -4.15025756e-08],\n",
       "       [ 1.22293046e-08, -2.47491708e-07, -2.59757687e-08, ...,\n",
       "        -1.63871967e-04,  9.99999898e-01, -3.97894105e-05],\n",
       "       [ 9.73386411e-07,  3.37001271e-09,  1.51360116e-05, ...,\n",
       "        -4.15025756e-08, -3.97894105e-05,  1.24999982e+00]])"
      ]
     },
     "execution_count": 102,
     "metadata": {},
     "output_type": "execute_result"
    }
   ],
   "source": [
    "UXs[0]"
   ]
  },
  {
   "cell_type": "code",
   "execution_count": 100,
   "id": "6564a610",
   "metadata": {},
   "outputs": [
    {
     "data": {
      "text/plain": [
       "array([[-1.28303533e-07, -4.86465869e-04,  3.56447191e-05, ...,\n",
       "        -9.70259142e-07,  1.22293046e-08,  9.73386411e-07],\n",
       "       [-4.86465869e-04, -1.51591142e-07,  3.28764612e-04, ...,\n",
       "        -2.87179308e-11, -2.47491708e-07,  3.37001270e-09],\n",
       "       [ 3.56447191e-05,  3.28764612e-04, -7.49999979e-01, ...,\n",
       "        -1.14593373e-04, -2.59757687e-08,  1.51360116e-05],\n",
       "       ...,\n",
       "       [-9.70259142e-07, -2.87179082e-11, -1.14593373e-04, ...,\n",
       "         7.49999901e-01, -1.63871967e-04, -4.15025756e-08],\n",
       "       [ 1.22293046e-08, -2.47491708e-07, -2.59757687e-08, ...,\n",
       "        -1.63871967e-04,  9.99999898e-01, -3.97894105e-05],\n",
       "       [ 9.73386411e-07,  3.37001272e-09,  1.51360116e-05, ...,\n",
       "        -4.15025756e-08, -3.97894105e-05,  1.24999982e+00]])"
      ]
     },
     "execution_count": 100,
     "metadata": {},
     "output_type": "execute_result"
    }
   ],
   "source": [
    "UXs[0]"
   ]
  },
  {
   "cell_type": "code",
   "execution_count": 85,
   "id": "cffb96b8",
   "metadata": {},
   "outputs": [
    {
     "name": "stdout",
     "output_type": "stream",
     "text": [
      "[-2.25       -2.25       -2.25       -2.25       -2.25       -2.25\n",
      " -2.25       -1.83859073 -1.83859073 -1.83859073 -1.83859073 -1.83859073\n",
      " -1.5        -1.5        -1.5        -1.5        -1.5        -1.23245494\n",
      " -1.23245494 -1.23245494 -0.70791833 -0.70791833 -0.70791833 -0.70791833\n",
      " -0.70791833 -0.41800601 -0.41800601 -0.41800601 -0.32632054 -0.32632054\n",
      " -0.32632054 -0.25        0.5         0.5         0.5         0.5\n",
      "  0.5         0.72366884  0.72366884  0.72366884  0.86759845  0.86759845\n",
      "  0.86759845  1.25        1.25        1.25        1.25        1.25\n",
      "  1.29650906  1.29650906  1.29650906  1.29650906  1.29650906  1.7828625\n",
      "  1.7828625   1.7828625   1.8526517   1.8526517   1.8526517   2.25\n",
      "  2.25        2.25        2.25        2.25      ]\n",
      "[-2.25       -2.25       -2.25       -2.25       -2.25       -2.25\n",
      " -2.25       -1.83859073 -1.83859073 -1.83859073 -1.83859073 -1.83859073\n",
      " -1.5        -1.5        -1.5        -1.5        -1.5        -1.23245494\n",
      " -1.23245494 -1.23245494 -0.70791833 -0.70791833 -0.70791833 -0.70791833\n",
      " -0.70791833 -0.41800601 -0.41800601 -0.41800601 -0.32632054 -0.32632054\n",
      " -0.32632054 -0.25        0.5         0.5         0.5         0.5\n",
      "  0.5         0.72366884  0.72366884  0.72366884  0.86759845  0.86759845\n",
      "  0.86759845  1.25        1.25        1.25        1.25        1.25\n",
      "  1.29650906  1.29650906  1.29650906  1.29650906  1.29650906  1.7828625\n",
      "  1.7828625   1.7828625   1.8526517   1.8526517   1.8526517   2.25\n",
      "  2.25        2.25        2.25        2.25      ]\n",
      "[-2.25       -2.25       -2.25       -2.25       -2.25       -2.25\n",
      " -2.25       -1.83859073 -1.83859073 -1.83859073 -1.83859073 -1.83859073\n",
      " -1.5        -1.5        -1.5        -1.5        -1.5        -1.23245494\n",
      " -1.23245494 -1.23245494 -0.70791833 -0.70791833 -0.70791833 -0.70791833\n",
      " -0.70791833 -0.41800601 -0.41800601 -0.41800601 -0.32632054 -0.32632054\n",
      " -0.32632054 -0.25        0.5         0.5         0.5         0.5\n",
      "  0.5         0.72366884  0.72366884  0.72366884  0.86759845  0.86759845\n",
      "  0.86759845  1.25        1.25        1.25        1.25        1.25\n",
      "  1.29650906  1.29650906  1.29650906  1.29650906  1.29650906  1.7828625\n",
      "  1.7828625   1.7828625   1.8526517   1.8526517   1.8526517   2.25\n",
      "  2.25        2.25        2.25        2.25      ]\n",
      "[-2.25       -2.25       -2.25       -2.25       -2.25       -2.25\n",
      " -2.25       -1.83859073 -1.83859073 -1.83859073 -1.83859073 -1.83859073\n",
      " -1.5        -1.5        -1.5        -1.5        -1.5        -1.23245494\n",
      " -1.23245494 -1.23245494 -0.70791833 -0.70791833 -0.70791833 -0.70791833\n",
      " -0.70791833 -0.41800601 -0.41800601 -0.41800601 -0.32632054 -0.32632054\n",
      " -0.32632054 -0.25        0.5         0.5         0.5         0.5\n",
      "  0.5         0.72366884  0.72366884  0.72366884  0.86759845  0.86759845\n",
      "  0.86759845  1.25        1.25        1.25        1.25        1.25\n",
      "  1.29650906  1.29650906  1.29650906  1.29650906  1.29650906  1.7828625\n",
      "  1.7828625   1.7828625   1.8526517   1.8526517   1.8526517   2.25\n",
      "  2.25        2.25        2.25        2.25      ]\n"
     ]
    }
   ],
   "source": [
    "for i in range(4):\n",
    "    print(np.linalg.eigvalsh(UXs[i]))"
   ]
  },
  {
   "cell_type": "code",
   "execution_count": 61,
   "id": "dcb13da1",
   "metadata": {},
   "outputs": [
    {
     "data": {
      "text/plain": [
       "array([-1.125     , -1.125     , -1.125     , -1.125     , -1.125     ,\n",
       "       -1.125     , -1.125     , -0.91929537, -0.91929537, -0.91929537,\n",
       "       -0.91929537, -0.91929537, -0.75      , -0.75      , -0.75      ,\n",
       "       -0.75      , -0.75      , -0.61622747, -0.61622747, -0.61622747,\n",
       "       -0.35395916, -0.35395916, -0.35395916, -0.35395916, -0.35395916,\n",
       "       -0.20900301, -0.20900301, -0.20900301, -0.16316027, -0.16316027,\n",
       "       -0.16316027, -0.125     ,  0.25      ,  0.25      ,  0.25      ,\n",
       "        0.25      ,  0.25      ,  0.36183442,  0.36183442,  0.36183442,\n",
       "        0.43379923,  0.43379923,  0.43379923,  0.625     ,  0.625     ,\n",
       "        0.625     ,  0.625     ,  0.625     ,  0.64825453,  0.64825453,\n",
       "        0.64825453,  0.64825453,  0.64825453,  0.89143125,  0.89143125,\n",
       "        0.89143125,  0.92632585,  0.92632585,  0.92632585,  1.125     ,\n",
       "        1.125     ,  1.125     ,  1.125     ,  1.125     ])"
      ]
     },
     "execution_count": 61,
     "metadata": {},
     "output_type": "execute_result"
    }
   ],
   "source": [
    "np.linalg.eigvalsh(UXs[0]/2)"
   ]
  },
  {
   "cell_type": "code",
   "execution_count": 58,
   "id": "e9d22755",
   "metadata": {},
   "outputs": [
    {
     "data": {
      "text/plain": [
       "array([-1.125     , -1.125     , -1.125     , -1.125     , -1.125     ,\n",
       "       -1.125     , -1.125     , -0.91929537, -0.91929537, -0.91929537,\n",
       "       -0.91929537, -0.91929537, -0.75      , -0.75      , -0.75      ,\n",
       "       -0.75      , -0.75      , -0.61622747, -0.61622747, -0.61622747,\n",
       "       -0.35395916, -0.35395916, -0.35395916, -0.35395916, -0.35395916,\n",
       "       -0.20900301, -0.20900301, -0.20900301, -0.16316027, -0.16316027,\n",
       "       -0.16316027, -0.125     ,  0.25      ,  0.25      ,  0.25      ,\n",
       "        0.25      ,  0.25      ,  0.36183442,  0.36183442,  0.36183442,\n",
       "        0.43379923,  0.43379923,  0.43379923,  0.625     ,  0.625     ,\n",
       "        0.625     ,  0.625     ,  0.625     ,  0.64825453,  0.64825453,\n",
       "        0.64825453,  0.64825453,  0.64825453,  0.89143125,  0.89143125,\n",
       "        0.89143125,  0.92632585,  0.92632585,  0.92632585,  1.125     ,\n",
       "        1.125     ,  1.125     ,  1.125     ,  1.125     ])"
      ]
     },
     "execution_count": 58,
     "metadata": {},
     "output_type": "execute_result"
    }
   ],
   "source": [
    "np.linalg.eigvalsh(LH/2)"
   ]
  },
  {
   "cell_type": "code",
   "execution_count": 67,
   "id": "4e723992",
   "metadata": {},
   "outputs": [
    {
     "data": {
      "text/plain": [
       "array([[-2.50000002e-01,  1.76776686e-01, -6.13765591e-06, ...,\n",
       "        -2.95385751e-06,  1.56168244e-06,  1.24999974e-01],\n",
       "       [ 1.76776686e-01, -4.99999930e-01,  9.41361965e-06, ...,\n",
       "         5.68044240e-05,  6.02437547e-05,  5.86158172e-10],\n",
       "       [-6.13765591e-06,  9.41361965e-06,  1.08715680e-07, ...,\n",
       "         1.03655013e-04, -1.02685276e-04,  2.65649397e-06],\n",
       "       ...,\n",
       "       [-2.95385751e-06,  5.68044240e-05,  1.03655013e-04, ...,\n",
       "         7.49999777e-01,  1.24999890e-01, -1.56672812e-06],\n",
       "       [ 1.56168244e-06,  6.02437547e-05, -1.02685276e-04, ...,\n",
       "         1.24999890e-01, -1.16169120e-09, -3.23091052e-05],\n",
       "       [ 1.24999974e-01,  5.86158177e-10,  2.65649397e-06, ...,\n",
       "        -1.56672812e-06, -3.23091052e-05,  7.49999896e-01]])"
      ]
     },
     "execution_count": 67,
     "metadata": {},
     "output_type": "execute_result"
    }
   ],
   "source": [
    "np.load(\"../array/majumdar_ghosh/optimize8_4/0.npy\")"
   ]
  },
  {
   "cell_type": "code",
   "execution_count": 68,
   "id": "b4a58e32",
   "metadata": {},
   "outputs": [
    {
     "data": {
      "text/plain": [
       "array([[-2.50000002e-01,  1.76776686e-01, -6.13765591e-06, ...,\n",
       "        -2.95385751e-06,  1.56168244e-06,  1.24999974e-01],\n",
       "       [ 1.76776686e-01, -4.99999930e-01,  9.41361965e-06, ...,\n",
       "         5.68044240e-05,  6.02437547e-05,  5.86158172e-10],\n",
       "       [-6.13765591e-06,  9.41361965e-06,  1.08715680e-07, ...,\n",
       "         1.03655013e-04, -1.02685276e-04,  2.65649397e-06],\n",
       "       ...,\n",
       "       [-2.95385751e-06,  5.68044240e-05,  1.03655013e-04, ...,\n",
       "         7.49999777e-01,  1.24999890e-01, -1.56672812e-06],\n",
       "       [ 1.56168244e-06,  6.02437547e-05, -1.02685276e-04, ...,\n",
       "         1.24999890e-01, -1.16169120e-09, -3.23091052e-05],\n",
       "       [ 1.24999974e-01,  5.86158177e-10,  2.65649397e-06, ...,\n",
       "        -1.56672812e-06, -3.23091052e-05,  7.49999896e-01]])"
      ]
     },
     "execution_count": 68,
     "metadata": {},
     "output_type": "execute_result"
    }
   ],
   "source": [
    "np.load(\"../array/majumdar_ghosh/optimize8_4/1.npy\")"
   ]
  },
  {
   "cell_type": "code",
   "execution_count": 63,
   "id": "0dc0e992",
   "metadata": {},
   "outputs": [
    {
     "data": {
      "text/plain": [
       "array([[False, False, False, ..., False, False, False],\n",
       "       [False, False, False, ..., False, False, False],\n",
       "       [False, False, False, ..., False, False, False],\n",
       "       ...,\n",
       "       [False, False, False, ..., False, False, False],\n",
       "       [False, False, False, ..., False, False, False],\n",
       "       [False, False, False, ..., False, False, False]])"
      ]
     },
     "execution_count": 63,
     "metadata": {},
     "output_type": "execute_result"
    }
   ],
   "source": [
    "np.load(\"../array/majumdar_ghosh/optimize8_4/0.npy\") == np.load(\"../array/majumdar_ghosh/optimize8_4/1.npy\")"
   ]
  }
 ],
 "metadata": {
  "kernelspec": {
   "display_name": "Python 3 (ipykernel)",
   "language": "python",
   "name": "python3"
  },
  "language_info": {
   "codemirror_mode": {
    "name": "ipython",
    "version": 3
   },
   "file_extension": ".py",
   "mimetype": "text/x-python",
   "name": "python",
   "nbconvert_exporter": "python",
   "pygments_lexer": "ipython3",
   "version": "3.9.13"
  }
 },
 "nbformat": 4,
 "nbformat_minor": 5
}
