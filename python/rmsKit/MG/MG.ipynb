{
 "cells": [
  {
   "cell_type": "code",
   "execution_count": 1,
   "id": "065e41c0",
   "metadata": {},
   "outputs": [],
   "source": [
    "import numpy as np\n",
    "from scipy.linalg import expm, sinm, cosm\n",
    "from scipy import sparse\n",
    "import scipy\n",
    "\n",
    "import sys\n",
    "sys.path.append('../nsp')\n"
   ]
  },
  {
   "cell_type": "code",
   "execution_count": 2,
   "id": "883134c1",
   "metadata": {},
   "outputs": [
    {
     "name": "stderr",
     "output_type": "stream",
     "text": [
      "/home/.local/lib/python3.9/site-packages/torchvision/io/image.py:13: UserWarning: Failed to load image Python extension: \n",
      "  warn(f\"Failed to load image Python extension: {e}\")\n"
     ]
    }
   ],
   "source": [
    "from nsp.utils.local2global import *\n",
    "from nsp.utils.func import *"
   ]
  },
  {
   "cell_type": "code",
   "execution_count": 8,
   "id": "5f360bbe",
   "metadata": {},
   "outputs": [
    {
     "data": {
      "text/plain": [
       "4096"
      ]
     },
     "execution_count": 8,
     "metadata": {},
     "output_type": "execute_result"
    }
   ],
   "source": [
    "(64 ** 2) "
   ]
  },
  {
   "cell_type": "code",
   "execution_count": 3,
   "id": "44def888",
   "metadata": {},
   "outputs": [
    {
     "name": "stderr",
     "output_type": "stream",
     "text": [
      "/tmp/ipykernel_5140/1812047852.py:16: ComplexWarning: Casting complex values to real discards the imaginary part\n",
      "  SySy = np.kron(Sy,Sy).astype(np.float64)\n"
     ]
    }
   ],
   "source": [
    "L = 12\n",
    "\n",
    "Sz = np.zeros([2,2])\n",
    "Sz[0,0] = 1/2\n",
    "Sz[1,1] = -1/2\n",
    "Sx = np.zeros([2,2])\n",
    "Sx[1,0] = 1/2\n",
    "Sx[0,1] = 1/2\n",
    "Sy = np.zeros([2,2], dtype=np.complex64)\n",
    "Sy[1,0] = 1j/2\n",
    "Sy[0,1] = -1j/2\n",
    "\n",
    "\n",
    "SzSz = np.kron(Sz,Sz).astype(np.float64)\n",
    "SxSx = np.kron(Sx,Sx).astype(np.float64)\n",
    "SySy = np.kron(Sy,Sy).astype(np.float64)\n",
    "\n",
    "lh = SzSz + SxSx + SySy\n",
    "\n",
    "\n"
   ]
  },
  {
   "cell_type": "code",
   "execution_count": 4,
   "id": "ccd70b8f",
   "metadata": {},
   "outputs": [],
   "source": [
    "L = 12\n",
    "bonds1 = []\n",
    "bonds2 = []\n",
    "\n",
    "h = []\n",
    "LH = np.kron(lh, np.eye(2**(L-2)))\n",
    "for i in range(L):\n",
    "    bonds1.append([i, (i+1)%L])\n",
    "    bonds2.append([i, (i+2)%L])\n",
    "    "
   ]
  },
  {
   "cell_type": "code",
   "execution_count": 6,
   "id": "4924a550",
   "metadata": {},
   "outputs": [
    {
     "data": {
      "text/plain": [
       "array([-4.5       , -4.5       , -4.18086623, ...,  4.5       ,\n",
       "        4.5       ,  4.5       ])"
      ]
     },
     "execution_count": 6,
     "metadata": {},
     "output_type": "execute_result"
    }
   ],
   "source": [
    "H = sum_ham(lh, bonds1, L, 2) + sum_ham(lh/2, bonds2, L, 2)\n",
    "np.linalg.eigvalsh(H)"
   ]
  },
  {
   "cell_type": "code",
   "execution_count": 10,
   "id": "81412801",
   "metadata": {},
   "outputs": [],
   "source": [
    "bounds = [[0,1], [0, 2], [1, 2]]\n",
    "lh2 = sum_ham(lh, bounds, 3, 2)\n",
    "LH = sum_ham(lh2, [[0,1,2], [3, 4, 5]], 6, 2) + sum_ham(lh2/2, [[1, 2, 3], [2, 3, 4]], 6, 2)"
   ]
  },
  {
   "cell_type": "code",
   "execution_count": 9,
   "id": "c4f0e2ea",
   "metadata": {},
   "outputs": [
    {
     "data": {
      "text/plain": [
       "array([[ 0.75,  0.  ,  0.  ,  0.  ,  0.  ,  0.  ,  0.  ,  0.  ],\n",
       "       [ 0.  , -0.25,  0.5 ,  0.  ,  0.5 ,  0.  ,  0.  ,  0.  ],\n",
       "       [ 0.  ,  0.5 , -0.25,  0.  ,  0.5 ,  0.  ,  0.  ,  0.  ],\n",
       "       [ 0.  ,  0.  ,  0.  , -0.25,  0.  ,  0.5 ,  0.5 ,  0.  ],\n",
       "       [ 0.  ,  0.5 ,  0.5 ,  0.  , -0.25,  0.  ,  0.  ,  0.  ],\n",
       "       [ 0.  ,  0.  ,  0.  ,  0.5 ,  0.  , -0.25,  0.5 ,  0.  ],\n",
       "       [ 0.  ,  0.  ,  0.  ,  0.5 ,  0.  ,  0.5 , -0.25,  0.  ],\n",
       "       [ 0.  ,  0.  ,  0.  ,  0.  ,  0.  ,  0.  ,  0.  ,  0.75]])"
      ]
     },
     "execution_count": 9,
     "metadata": {},
     "output_type": "execute_result"
    }
   ],
   "source": [
    "H = sum_ham(LH, [[0, 1], [1, 0]])"
   ]
  },
  {
   "cell_type": "code",
   "execution_count": 5,
   "id": "5a13ebcf",
   "metadata": {},
   "outputs": [
    {
     "data": {
      "text/plain": [
       "1"
      ]
     },
     "execution_count": 5,
     "metadata": {},
     "output_type": "execute_result"
    }
   ],
   "source": [
    "import numpy as np\n",
    "state2num([0, 1], sps = 2)"
   ]
  },
  {
   "cell_type": "code",
   "execution_count": 3,
   "id": "2d3636ae",
   "metadata": {},
   "outputs": [],
   "source": [
    "def state2num(state, sps = 2, rev=False):\n",
    "    s = np.int32(0)\n",
    "    sps = np.int32(sps)\n",
    "    if rev:\n",
    "        state = state[::-1]\n",
    "    for i in range(len(state)):\n",
    "        s *= sps\n",
    "        s += state[i]\n",
    "    return s"
   ]
  },
  {
   "cell_type": "code",
   "execution_count": null,
   "id": "d1934b8a",
   "metadata": {},
   "outputs": [],
   "source": []
  }
 ],
 "metadata": {
  "kernelspec": {
   "display_name": "Python 3 (ipykernel)",
   "language": "python",
   "name": "python3"
  },
  "language_info": {
   "codemirror_mode": {
    "name": "ipython",
    "version": 3
   },
   "file_extension": ".py",
   "mimetype": "text/x-python",
   "name": "python",
   "nbconvert_exporter": "python",
   "pygments_lexer": "ipython3",
   "version": "3.9.13"
  }
 },
 "nbformat": 4,
 "nbformat_minor": 5
}
