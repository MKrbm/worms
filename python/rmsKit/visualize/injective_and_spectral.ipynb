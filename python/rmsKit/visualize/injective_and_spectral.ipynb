{
 "cells": [
  {
   "cell_type": "code",
   "execution_count": 1,
   "id": "ea2cc610",
   "metadata": {},
   "outputs": [],
   "source": [
    "import numpy as np\n",
    "from scipy.stats import ortho_group\n",
    "import sys\n",
    "sys.path.append(\"../\")\n",
    "import numpy as np \n",
    "from utils import *\n",
    "from lattice import *"
   ]
  },
  {
   "cell_type": "code",
   "execution_count": 2,
   "id": "073d318f",
   "metadata": {},
   "outputs": [
    {
     "name": "stdout",
     "output_type": "stream",
     "text": [
      "spectrum of transfer matrix of canonical MPS :  [ 1.          0.27222952  0.14273616 -0.18315069]\n",
      "fixed point is identiy matrix :  1.9903230855597885e-15\n"
     ]
    }
   ],
   "source": [
    "bd = 2\n",
    "sps = 3\n",
    "B = FF.block1D(bd, sps, bd, canonical=True, seed = 9).real\n",
    "B_transfer = np.einsum(\"ipj, kpl->ikjl\",B, B).reshape((bd**2,)*2)\n",
    "Et, Vt = np.linalg.eig(B_transfer)\n",
    "print(\"spectrum of transfer matrix of canonical MPS : \", Et)\n",
    "X = Vt[:,0].reshape(bd, bd)\n",
    "print(\"fixed point is identiy matrix : \",np.linalg.norm(X / X[0,0] - np.eye(X.shape[0])))"
   ]
  },
  {
   "cell_type": "code",
   "execution_count": 12,
   "id": "cb5fc0f8",
   "metadata": {},
   "outputs": [
    {
     "name": "stdout",
     "output_type": "stream",
     "text": [
      "spectrum of transfer matrix of canonical MPS :  [ 4.22627733  1.15051744  0.6032426  -0.77404563]\n",
      "Eigen vector corresponds to the largest ev can be taken to be positive matrix\n",
      " [-0.23269428 -0.97254993]\n"
     ]
    }
   ],
   "source": [
    "B = FF.block1D(bd, sps, bd, canonical=False, seed = 9, sym=True).real\n",
    "B_transfer = np.einsum(\"ipj, kpl->ikjl\",B, B).reshape((bd**2,)*2)\n",
    "Et, Vt = np.linalg.eig(B_transfer)\n",
    "print(\"spectrum of transfer matrix of canonical MPS : \", Et)\n",
    "X = Vt[:,0].reshape(bd, bd)\n",
    "print(\"Eigen vector corresponds to the largest ev can be taken to be positive matrix\\n\", np.linalg.eigvals(X))"
   ]
  },
  {
   "cell_type": "code",
   "execution_count": 14,
   "id": "a3f364de",
   "metadata": {},
   "outputs": [
    {
     "name": "stdout",
     "output_type": "stream",
     "text": [
      "spectrum of transfer matrix of canonical MPS :  [ 3.10356847+0.j          1.08734681+0.29120278j  1.08734681-0.29120278j\n",
      " -0.07227035+0.j        ]\n",
      "Eigen vector corresponds to the largest ev can be taken to be positive matrix (non symmetric calse ) :\n",
      " [-0.06641156+0.j -0.99779232+0.j]\n"
     ]
    }
   ],
   "source": [
    "B = FF.block1D(bd, sps, bd, canonical=False, seed = 9, sym=False).real\n",
    "B_transfer = np.einsum(\"ipj, kpl->ikjl\",B, B).reshape((bd**2,)*2)\n",
    "Et, Vt = np.linalg.eig(B_transfer)\n",
    "print(\"spectrum of transfer matrix of canonical MPS : \", Et)\n",
    "X = Vt[:,0].reshape(bd, bd)\n",
    "print(\"Eigen vector corresponds to the largest ev can be taken to be positive matrix (non symmetric calse ) :\\n\", np.linalg.eigvals(X))"
   ]
  },
  {
   "cell_type": "markdown",
   "id": "95419606",
   "metadata": {},
   "source": [
    "**Check for multiple seeds and see if the eigenvalue of X is either all positive or negative**\n",
    "\n",
    "If you take random transfer matrix, then you will never achieve this property. We'll see below the case if transfer matrix created randomly"
   ]
  },
  {
   "cell_type": "code",
   "execution_count": 201,
   "id": "961bdf43",
   "metadata": {},
   "outputs": [
    {
     "name": "stdout",
     "output_type": "stream",
     "text": [
      "check if this is symmetric :  3.925231146709438e-17\n"
     ]
    }
   ],
   "source": [
    "bd = 2\n",
    "seed = 10 # change here\n",
    "S = np.zeros((bd,)*4)\n",
    "for i in range(bd):\n",
    "    for j in range(bd):\n",
    "        S[i,j,j,i] = 1\n",
    "S = S.reshape(bd**2, bd**2)\n",
    "Es, Vs = np.linalg.eigh(S)\n",
    "\n",
    "\n",
    "np.random.seed(seed)\n",
    "U_tmp = np.zeros((bd**2,bd**2))\n",
    "idx = np.argwhere(Es == -1)[-1]\n",
    "U_tmp[:idx[0]+1, :idx[0]+1] = ortho_group.rvs(dim=np.round(idx[0]+1)) if idx[0] != 0 else 1\n",
    "U_tmp[idx[0]+1:, idx[0]+1:] = ortho_group.rvs(dim=np.round(bd**2-idx[0]-1))\n",
    "U = Vs @ U_tmp @ Vs.T\n",
    "\n",
    "lam_tmp = np.sort(np.random.uniform(low=-0.5,high = 1, size = (bd**2)))\n",
    "# lam_tmp[-1:] = 1\n",
    "# lam_tmp[0] = 0\n",
    "lam = Vs @ np.diag(lam_tmp) @ Vs.T\n",
    "A_transfer = U @ lam @ U.T\n",
    "print(\"check if this is symmetric : \",np.linalg.norm(S @ A_transfer @ S - A_transfer))"
   ]
  },
  {
   "cell_type": "code",
   "execution_count": 206,
   "id": "372eb634",
   "metadata": {},
   "outputs": [
    {
     "name": "stdout",
     "output_type": "stream",
     "text": [
      "check if this is symmetric :  0.0\n"
     ]
    }
   ],
   "source": [
    "lam_tmp = np.sort(np.random.uniform(low=-0.5,high = 1, size = (bd**2)))\n",
    "lam_tmp[-2:] = 1\n",
    "# lam_tmp[0] = 0\n",
    "lam = Vs @ np.diag(lam_tmp) @ Vs.T\n",
    "A_transfer = U @ lam @ U.T\n",
    "print(\"check if this is symmetric : \",np.linalg.norm(S @ A_transfer @ S - A_transfer))"
   ]
  },
  {
   "cell_type": "code",
   "execution_count": 207,
   "id": "35ecd2ec",
   "metadata": {},
   "outputs": [
    {
     "name": "stdout",
     "output_type": "stream",
     "text": [
      "spectrum of transfer matrix of canonical MPS :  [0.06001114 0.15102099 1.         1.        ]\n",
      "Eigen vector corresponds to the largest ev can be taken to be positive matrix\n",
      " [-0.0429247   0.99907831]\n"
     ]
    }
   ],
   "source": [
    "Et, Vt = np.linalg.eigh(A_transfer)\n",
    "print(\"spectrum of transfer matrix of canonical MPS : \", Et)\n",
    "X = Vt[:,-1].reshape(bd, bd)\n",
    "print(\"Eigen vector corresponds to the largest ev can be taken to be positive matrix\\n\", np.linalg.eigvals(X))"
   ]
  },
  {
   "cell_type": "markdown",
   "id": "99e5debc",
   "metadata": {},
   "source": [
    "**X not being positive matrix means this by no means can be represented in MPS form** \n",
    "When you shift the A_encoder so that the all energy become positive, then fixed point become positive again."
   ]
  },
  {
   "cell_type": "code",
   "execution_count": 208,
   "id": "4744c18f",
   "metadata": {},
   "outputs": [
    {
     "name": "stdout",
     "output_type": "stream",
     "text": [
      "[-0.06072711  0.03366411  0.87926175  1.11735688]\n"
     ]
    }
   ],
   "source": [
    "A_transfer_tmp = np.einsum(\"ijkl->ikjl\",A_transfer.reshape((bd,)*4)).reshape(bd**2, bd**2)\n",
    "Et_tmp, Vt_tmp = np.linalg.eigh(A_transfer_tmp)\n",
    "print(Et_tmp)\n",
    "A_transfer_tmp = A_transfer_tmp - 1 * Et_tmp[0] * np.eye(bd**2) # shift energy "
   ]
  },
  {
   "cell_type": "code",
   "execution_count": 209,
   "id": "ff0d959c",
   "metadata": {},
   "outputs": [
    {
     "name": "stdout",
     "output_type": "stream",
     "text": [
      "spectrum of transfer matrix of canonical MPS :  [0.06001114 0.15292987 1.         1.11954534]\n",
      "Eigen vector corresponds to the largest ev can be taken to be positive matrix\n",
      " [-0.78520565 -0.61923508]\n"
     ]
    }
   ],
   "source": [
    "A_transfer = np.einsum(\"ijkl->ikjl\",A_transfer_tmp.reshape((bd,)*4)).reshape(bd**2, bd**2)\n",
    "Et, Vt = np.linalg.eigh(A_transfer)\n",
    "print(\"spectrum of transfer matrix of canonical MPS : \", Et)\n",
    "X = Vt[:,-1].reshape(bd, bd)\n",
    "print(\"Eigen vector corresponds to the largest ev can be taken to be positive matrix\\n\", np.linalg.eigvals(X))"
   ]
  },
  {
   "cell_type": "markdown",
   "id": "523bd704",
   "metadata": {},
   "source": [
    "**But note that this is not necessary condition. You don't need to shift by E[0], and indeed much smaller shift can result in positive matrix**\n",
    "\n",
    "\n",
    "Important things for uniquness should be injectivity."
   ]
  },
  {
   "cell_type": "markdown",
   "id": "018c6d7e",
   "metadata": {},
   "source": [
    "# Create canonical MPS with more than one block"
   ]
  },
  {
   "cell_type": "code",
   "execution_count": 417,
   "id": "dfe0ad85",
   "metadata": {},
   "outputs": [],
   "source": [
    "sps = 3\n",
    "bd1 = 1\n",
    "bd2 = 1\n",
    "bd =  bd1 + bd2\n",
    "seed = 15\n",
    "B1 = FF.block1D(bd2, sps, bd2, canonical=True, seed = seed)\n",
    "B2 = FF.block1D(bd1, sps, bd1, canonical=True, seed = seed+1)\n",
    "\n",
    "A = np.zeros((bd, sps, bd))"
   ]
  },
  {
   "cell_type": "code",
   "execution_count": 420,
   "id": "1b468607",
   "metadata": {},
   "outputs": [],
   "source": [
    "lams = np.random.uniform(low = 0,  high = 1, size= 2)\n",
    "# lams[:] = 1\n",
    "A[:bd1, :, :bd1] = B2 * lams[0]\n",
    "A[bd1:, :, bd1:] = B1 * lams[1]"
   ]
  },
  {
   "cell_type": "code",
   "execution_count": 423,
   "id": "329b8b12",
   "metadata": {},
   "outputs": [
    {
     "name": "stdout",
     "output_type": "stream",
     "text": [
      "spectrum of transfer matrix :  [ 0.47434373  0.02680798 -0.06560394 -0.06560394]\n",
      "note that fixed point is not invertible :  [1. 0.]\n"
     ]
    }
   ],
   "source": [
    "A_transfer = np.einsum(\"ipj, kpl->ikjl\",A, A).reshape((bd**2,)*2)\n",
    "E, V = np.linalg.eig(A_transfer)\n",
    "idx = E.argsort()[::-1] \n",
    "E = E[idx]\n",
    "V = V[:, idx]\n",
    "\n",
    "print(\"spectrum of transfer matrix : \", E)\n",
    "print(\"note that fixed point is not invertible : \",np.linalg.eigvals(V[:,0].reshape(bd,bd)))"
   ]
  },
  {
   "cell_type": "code",
   "execution_count": 424,
   "id": "8d27930a",
   "metadata": {},
   "outputs": [
    {
     "ename": "ValueError",
     "evalue": "matmul: Input operand 1 has a mismatch in its core dimension 0, with gufunc signature (n?,k),(k,m?)->(n?,m?) (size 2 is different from 3)",
     "output_type": "error",
     "traceback": [
      "\u001b[0;31m---------------------------------------------------------------------------\u001b[0m",
      "\u001b[0;31mValueError\u001b[0m                                Traceback (most recent call last)",
      "Cell \u001b[0;32mIn[424], line 2\u001b[0m\n\u001b[1;32m      1\u001b[0m B \u001b[38;5;241m=\u001b[39m A\u001b[38;5;241m.\u001b[39mtranspose(\u001b[38;5;241m1\u001b[39m,\u001b[38;5;241m0\u001b[39m,\u001b[38;5;241m2\u001b[39m)\n\u001b[0;32m----> 2\u001b[0m \u001b[38;5;28mprint\u001b[39m(\u001b[38;5;124m\"\u001b[39m\u001b[38;5;124many lenght of set of B cannot be injective : \u001b[39m\u001b[38;5;124m\"\u001b[39m,\u001b[43mnp\u001b[49m\u001b[38;5;241;43m.\u001b[39;49m\u001b[43marray\u001b[49m\u001b[43m(\u001b[49m\u001b[43m[\u001b[49m\u001b[38;5;241;43m0\u001b[39;49m\u001b[43m,\u001b[49m\u001b[38;5;241;43m0\u001b[39;49m\u001b[43m,\u001b[49m\u001b[38;5;241;43m1\u001b[39;49m\u001b[43m]\u001b[49m\u001b[43m)\u001b[49m\u001b[43m \u001b[49m\u001b[38;5;241;43m@\u001b[39;49m\u001b[43m \u001b[49m\u001b[43m(\u001b[49m\u001b[43mB\u001b[49m\u001b[43m[\u001b[49m\u001b[38;5;241;43m0\u001b[39;49m\u001b[43m]\u001b[49m\u001b[43m \u001b[49m\u001b[38;5;241;43m@\u001b[39;49m\u001b[43m \u001b[49m\u001b[43mB\u001b[49m\u001b[43m[\u001b[49m\u001b[38;5;241;43m1\u001b[39;49m\u001b[43m]\u001b[49m\u001b[43m \u001b[49m\u001b[38;5;241;43m@\u001b[39;49m\u001b[43m \u001b[49m\u001b[43mB\u001b[49m\u001b[43m[\u001b[49m\u001b[38;5;241;43m1\u001b[39;49m\u001b[43m]\u001b[49m\u001b[43m)\u001b[49m \u001b[38;5;241m@\u001b[39m np\u001b[38;5;241m.\u001b[39marray([\u001b[38;5;241m1\u001b[39m,\u001b[38;5;241m0\u001b[39m,\u001b[38;5;241m0\u001b[39m]))\n",
      "\u001b[0;31mValueError\u001b[0m: matmul: Input operand 1 has a mismatch in its core dimension 0, with gufunc signature (n?,k),(k,m?)->(n?,m?) (size 2 is different from 3)"
     ]
    }
   ],
   "source": [
    "B = A.transpose(1,0,2)\n",
    "print(\"any lenght of set of B cannot be injective : \",np.array([0,0,1]) @ (B[0] @ B[1] @ B[1]) @ np.array([1,0,0]))"
   ]
  },
  {
   "cell_type": "markdown",
   "id": "8d2231c9",
   "metadata": {},
   "source": [
    "## Construct parent ham with above MPS"
   ]
  },
  {
   "cell_type": "code",
   "execution_count": 425,
   "id": "5f1d7136",
   "metadata": {},
   "outputs": [],
   "source": [
    "A2 = np.einsum(\"ijk,klm->jlim\", A, A).reshape(sps**2, bd**2)\n",
    "U, s, V = np.linalg.svd(A2)\n",
    "Up = U[:, len(s):]\n",
    "h = Up @ Up.T"
   ]
  },
  {
   "cell_type": "code",
   "execution_count": 426,
   "id": "bef8b439",
   "metadata": {},
   "outputs": [],
   "source": [
    "L = 6\n",
    "H = sum_ham(h, [[i,(i+1)%L] for i in range(L)], L, sps)"
   ]
  },
  {
   "cell_type": "code",
   "execution_count": 427,
   "id": "048fe5cf",
   "metadata": {},
   "outputs": [],
   "source": [
    "EH, VH = np.linalg.eigh(H)"
   ]
  },
  {
   "cell_type": "code",
   "execution_count": 428,
   "id": "fa854847",
   "metadata": {},
   "outputs": [
    {
     "name": "stdout",
     "output_type": "stream",
     "text": [
      "[-3.70880987e-15  2.62230971e-15  2.73834641e-01  3.33621423e-01\n",
      "  3.33621423e-01  3.49389368e-01  4.37404395e-01  4.37404395e-01\n",
      "  5.28488897e-01  5.92540286e-01  5.92540286e-01  6.12446409e-01\n",
      "  6.21512223e-01  6.21512223e-01  7.48313630e-01  7.77519614e-01\n",
      "  7.77519614e-01  9.71406680e-01  9.99582482e-01  1.00890144e+00\n",
      "  1.00890144e+00  1.04805711e+00  1.04805711e+00  1.07209867e+00\n",
      "  1.15579175e+00  1.15579175e+00  1.16275147e+00  1.17073069e+00\n",
      "  1.17073069e+00  1.22358717e+00  1.29481393e+00  1.29481393e+00\n",
      "  1.29487311e+00  1.30065476e+00  1.30065476e+00  1.31077300e+00\n",
      "  1.33538965e+00  1.33538965e+00  1.37085124e+00  1.39024828e+00\n",
      "  1.39024828e+00  1.42170922e+00  1.42170922e+00  1.43852950e+00\n",
      "  1.44003693e+00  1.44003693e+00  1.44997228e+00  1.48430535e+00\n",
      "  1.48430535e+00  1.48598380e+00  1.48848320e+00  1.48848320e+00\n",
      "  1.51727798e+00  1.53048173e+00  1.53048173e+00  1.55640318e+00\n",
      "  1.55962261e+00  1.58149076e+00  1.58149076e+00  1.61282400e+00\n",
      "  1.61282400e+00  1.61291573e+00  1.61291573e+00  1.62949104e+00\n",
      "  1.64291547e+00  1.66407899e+00  1.66407899e+00  1.70483564e+00\n",
      "  1.75063539e+00  1.75063539e+00  1.75574268e+00  1.76686678e+00\n",
      "  1.77512113e+00  1.77512113e+00  1.79778836e+00  1.79778836e+00\n",
      "  1.81557858e+00  1.85332947e+00  1.85554753e+00  1.85554753e+00\n",
      "  1.88435943e+00  1.89266005e+00  1.89266005e+00  1.90624022e+00\n",
      "  1.92749934e+00  1.92749934e+00  1.92856445e+00  1.95289023e+00\n",
      "  1.95289023e+00  1.99552181e+00  1.99552181e+00  1.99589570e+00\n",
      "  1.99750056e+00  1.99750056e+00  1.99899980e+00  2.00291811e+00\n",
      "  2.01918402e+00  2.02170831e+00  2.03055275e+00  2.03055275e+00\n",
      "  2.03156919e+00  2.03156919e+00  2.06038712e+00  2.06038712e+00\n",
      "  2.06202274e+00  2.08836081e+00  2.08836081e+00  2.09570407e+00\n",
      "  2.09570407e+00  2.10058274e+00  2.10525719e+00  2.11063365e+00\n",
      "  2.11063365e+00  2.11865942e+00  2.11865942e+00  2.13505315e+00\n",
      "  2.15612892e+00  2.15612892e+00  2.16635496e+00  2.17267966e+00\n",
      "  2.19468658e+00  2.19468658e+00  2.20773805e+00  2.20773805e+00\n",
      "  2.22006176e+00  2.22006176e+00  2.22092911e+00  2.22736257e+00\n",
      "  2.25417795e+00  2.25594417e+00  2.25594417e+00  2.27116432e+00\n",
      "  2.27116432e+00  2.27186565e+00  2.27186565e+00  2.27433275e+00\n",
      "  2.28361166e+00  2.28787977e+00  2.30454359e+00  2.30454359e+00\n",
      "  2.31291700e+00  2.32019467e+00  2.33271955e+00  2.33271955e+00\n",
      "  2.33618975e+00  2.34042118e+00  2.34042118e+00  2.35329870e+00\n",
      "  2.36815444e+00  2.37745720e+00  2.37745720e+00  2.37803122e+00\n",
      "  2.37803122e+00  2.37977509e+00  2.38992648e+00  2.39148654e+00\n",
      "  2.39148654e+00  2.39316091e+00  2.39316091e+00  2.40616291e+00\n",
      "  2.40616291e+00  2.41149915e+00  2.41149915e+00  2.42008430e+00\n",
      "  2.42206303e+00  2.44082590e+00  2.44082590e+00  2.44757953e+00\n",
      "  2.44822176e+00  2.44822176e+00  2.46431236e+00  2.46950719e+00\n",
      "  2.46950719e+00  2.47087027e+00  2.47087027e+00  2.47781699e+00\n",
      "  2.49070558e+00  2.49112830e+00  2.51707509e+00  2.51707509e+00\n",
      "  2.51973686e+00  2.51973686e+00  2.53688948e+00  2.55772394e+00\n",
      "  2.56061529e+00  2.56061529e+00  2.57813117e+00  2.57942763e+00\n",
      "  2.58999247e+00  2.59667303e+00  2.59667303e+00  2.62113914e+00\n",
      "  2.62113914e+00  2.62331952e+00  2.64803631e+00  2.64803631e+00\n",
      "  2.66195997e+00  2.66195997e+00  2.66293050e+00  2.66864236e+00\n",
      "  2.66864236e+00  2.66977510e+00  2.68101310e+00  2.69000551e+00\n",
      "  2.69000551e+00  2.70132434e+00  2.70132434e+00  2.70448947e+00\n",
      "  2.70672096e+00  2.70923733e+00  2.70923733e+00  2.71475964e+00\n",
      "  2.71475964e+00  2.72132052e+00  2.73019004e+00  2.73019004e+00\n",
      "  2.73021634e+00  2.73021634e+00  2.73089467e+00  2.73956150e+00\n",
      "  2.74638400e+00  2.74638400e+00  2.74688438e+00  2.74688438e+00\n",
      "  2.75478768e+00  2.75691866e+00  2.76675084e+00  2.76675084e+00\n",
      "  2.76825274e+00  2.77443700e+00  2.77443700e+00  2.77507736e+00\n",
      "  2.78148874e+00  2.78639560e+00  2.78639560e+00  2.79500372e+00\n",
      "  2.79832245e+00  2.79861780e+00  2.79861780e+00  2.81393667e+00\n",
      "  2.81393667e+00  2.82664816e+00  2.82854062e+00  2.82854062e+00\n",
      "  2.86118316e+00  2.86118316e+00  2.86537530e+00  2.86644066e+00\n",
      "  2.86644066e+00  2.87015297e+00  2.93067508e+00  2.93067508e+00\n",
      "  2.93228672e+00  2.94937677e+00  2.94937677e+00  2.95176258e+00\n",
      "  2.95176258e+00  2.95607411e+00  2.95774253e+00  2.96550469e+00\n",
      "  2.97674704e+00  2.97674704e+00  2.97907056e+00  2.98249060e+00\n",
      "  2.98249060e+00  2.99182555e+00  2.99447047e+00  2.99534231e+00\n",
      "  2.99534231e+00  2.99789285e+00  2.99832134e+00  2.99832134e+00\n",
      "  3.00022804e+00  3.00022804e+00  3.00057895e+00  3.00227053e+00\n",
      "  3.00227053e+00  3.00719652e+00  3.00719652e+00  3.01509688e+00\n",
      "  3.01509688e+00  3.01621068e+00  3.01621068e+00  3.02658504e+00\n",
      "  3.02897287e+00  3.03180735e+00  3.03180735e+00  3.03571988e+00\n",
      "  3.03956007e+00  3.03956007e+00  3.03989674e+00  3.03989674e+00\n",
      "  3.05047342e+00  3.05162849e+00  3.06754222e+00  3.07107207e+00\n",
      "  3.07107207e+00  3.08698645e+00  3.10299252e+00  3.10299252e+00\n",
      "  3.10343098e+00  3.10343098e+00  3.10465066e+00  3.10844925e+00\n",
      "  3.10844925e+00  3.10968298e+00  3.12228116e+00  3.12228116e+00\n",
      "  3.14546281e+00  3.14546281e+00  3.14848334e+00  3.15660094e+00\n",
      "  3.15676664e+00  3.19389105e+00  3.19389105e+00  3.19944361e+00\n",
      "  3.19944361e+00  3.21995204e+00  3.23328637e+00  3.23728129e+00\n",
      "  3.23728129e+00  3.23847163e+00  3.26398925e+00  3.27293480e+00\n",
      "  3.27293480e+00  3.27927096e+00  3.28125074e+00  3.29171620e+00\n",
      "  3.29171620e+00  3.29915052e+00  3.29915052e+00  3.30613350e+00\n",
      "  3.31161722e+00  3.31321218e+00  3.31321218e+00  3.32916318e+00\n",
      "  3.33097101e+00  3.33097101e+00  3.34818279e+00  3.34828774e+00\n",
      "  3.34828774e+00  3.35216034e+00  3.35805529e+00  3.35805529e+00\n",
      "  3.37071277e+00  3.37382750e+00  3.37496681e+00  3.37496681e+00\n",
      "  3.37771924e+00  3.37771924e+00  3.38618032e+00  3.38618032e+00\n",
      "  3.38886392e+00  3.38977500e+00  3.38977500e+00  3.40338480e+00\n",
      "  3.40338480e+00  3.41024423e+00  3.41037127e+00  3.41037127e+00\n",
      "  3.41135994e+00  3.42059724e+00  3.42059724e+00  3.42234686e+00\n",
      "  3.42733359e+00  3.42733359e+00  3.42873073e+00  3.42960936e+00\n",
      "  3.42960936e+00  3.43357934e+00  3.43530848e+00  3.43530848e+00\n",
      "  3.43635249e+00  3.44517213e+00  3.44639495e+00  3.45463292e+00\n",
      "  3.45727539e+00  3.45727539e+00  3.46107571e+00  3.46107571e+00\n",
      "  3.46657643e+00  3.46657643e+00  3.47074908e+00  3.47935354e+00\n",
      "  3.47935354e+00  3.47940780e+00  3.48832656e+00  3.49646173e+00\n",
      "  3.49646173e+00  3.49847639e+00  3.49847639e+00  3.49868251e+00\n",
      "  3.51321748e+00  3.51321748e+00  3.51354158e+00  3.51354158e+00\n",
      "  3.52876457e+00  3.55671300e+00  3.55671300e+00  3.57367329e+00\n",
      "  3.57367329e+00  3.57830556e+00  3.58016634e+00  3.59023710e+00\n",
      "  3.59023710e+00  3.59489553e+00  3.59740286e+00  3.59948169e+00\n",
      "  3.59948169e+00  3.61442272e+00  3.61442272e+00  3.63317191e+00\n",
      "  3.63317191e+00  3.64256572e+00  3.64590655e+00  3.65728965e+00\n",
      "  3.65728965e+00  3.66558319e+00  3.66716176e+00  3.66716176e+00\n",
      "  3.69119380e+00  3.69480370e+00  3.69480370e+00  3.70507787e+00\n",
      "  3.70507787e+00  3.70631330e+00  3.70739004e+00  3.72284125e+00\n",
      "  3.72284125e+00  3.72875269e+00  3.74435662e+00  3.74435662e+00\n",
      "  3.74644555e+00  3.74828336e+00  3.74828336e+00  3.76289488e+00\n",
      "  3.77291570e+00  3.77480416e+00  3.77480416e+00  3.78774847e+00\n",
      "  3.79432899e+00  3.79965381e+00  3.80535751e+00  3.80535751e+00\n",
      "  3.80596756e+00  3.80596756e+00  3.83099344e+00  3.83130797e+00\n",
      "  3.83130797e+00  3.84454875e+00  3.84638052e+00  3.84638052e+00\n",
      "  3.84977189e+00  3.84977189e+00  3.85152949e+00  3.86034698e+00\n",
      "  3.86391811e+00  3.86391811e+00  3.86832425e+00  3.86832425e+00\n",
      "  3.87172507e+00  3.87560106e+00  3.87560106e+00  3.88609174e+00\n",
      "  3.89467558e+00  3.89692590e+00  3.89692590e+00  3.90225726e+00\n",
      "  3.90304613e+00  3.90520433e+00  3.90520433e+00  3.91038190e+00\n",
      "  3.91038190e+00  3.92517407e+00  3.92517407e+00  3.92573516e+00\n",
      "  3.92595701e+00  3.92703619e+00  3.92857467e+00  3.92857467e+00\n",
      "  3.93341253e+00  3.93341253e+00  3.93959990e+00  3.93959990e+00\n",
      "  3.94479019e+00  3.94956109e+00  3.94956109e+00  3.94967468e+00\n",
      "  3.95152090e+00  3.95152090e+00  3.95449689e+00  3.95938433e+00\n",
      "  3.95938433e+00  3.96568433e+00  3.96568433e+00  3.96605146e+00\n",
      "  3.96921155e+00  3.97312454e+00  3.97371370e+00  3.97858916e+00\n",
      "  3.97858916e+00  3.98472570e+00  3.98472570e+00  3.98783496e+00\n",
      "  3.99075145e+00  3.99150169e+00  3.99150169e+00  3.99554419e+00\n",
      "  3.99554419e+00  3.99628727e+00  3.99628727e+00  3.99934269e+00\n",
      "  3.99934269e+00  3.99991551e+00  4.00174210e+00  4.00220240e+00\n",
      "  4.00340725e+00  4.00340725e+00  4.00590032e+00  4.00590032e+00\n",
      "  4.00627646e+00  4.00810103e+00  4.01398021e+00  4.01398021e+00\n",
      "  4.01455070e+00  4.01455070e+00  4.02200986e+00  4.02313407e+00\n",
      "  4.02313407e+00  4.02343932e+00  4.02343932e+00  4.02459392e+00\n",
      "  4.02918027e+00  4.03772375e+00  4.03772375e+00  4.03826797e+00\n",
      "  4.03826797e+00  4.03880115e+00  4.04094022e+00  4.04662094e+00\n",
      "  4.04783774e+00  4.04783774e+00  4.05304611e+00  4.05304611e+00\n",
      "  4.05615729e+00  4.05615729e+00  4.05822208e+00  4.05969543e+00\n",
      "  4.06032704e+00  4.06592589e+00  4.06592589e+00  4.07766345e+00\n",
      "  4.08335940e+00  4.08445208e+00  4.08445208e+00  4.10451583e+00\n",
      "  4.10451583e+00  4.10655653e+00  4.10655653e+00  4.11948499e+00\n",
      "  4.16294162e+00  4.21481595e+00  4.22444770e+00  4.22444770e+00\n",
      "  4.22735054e+00  4.22735054e+00  4.24616614e+00  4.27395401e+00\n",
      "  4.27725182e+00  4.27725182e+00  4.27798743e+00  4.27798743e+00\n",
      "  4.28481433e+00  4.28964521e+00  4.30168090e+00  4.30168090e+00\n",
      "  4.31949844e+00  4.32039933e+00  4.32039933e+00  4.35165355e+00\n",
      "  4.35165355e+00  4.35504215e+00  4.38775655e+00  4.38775655e+00\n",
      "  4.39336547e+00  4.39336547e+00  4.39926780e+00  4.41043404e+00\n",
      "  4.41690105e+00  4.41918750e+00  4.41918750e+00  4.41954363e+00\n",
      "  4.41954363e+00  4.42796319e+00  4.42796319e+00  4.44129418e+00\n",
      "  4.44952943e+00  4.44952943e+00  4.45645873e+00  4.46215201e+00\n",
      "  4.46215201e+00  4.47127984e+00  4.51374530e+00  4.51374530e+00\n",
      "  4.51737616e+00  4.51737616e+00  4.52515789e+00  4.54150315e+00\n",
      "  4.54607307e+00  4.54722262e+00  4.54722262e+00  4.55914578e+00\n",
      "  4.55914578e+00  4.56572377e+00  4.56572377e+00  4.57624511e+00\n",
      "  4.58220841e+00  4.58603475e+00  4.58603475e+00  4.58842932e+00\n",
      "  4.61153095e+00  4.64608948e+00  4.64608948e+00  4.64657491e+00\n",
      "  4.64657491e+00  4.65417709e+00  4.67522077e+00  4.67522077e+00\n",
      "  4.67642176e+00  4.67777687e+00  4.68907641e+00  4.68907641e+00\n",
      "  4.69944786e+00  4.71191947e+00  4.71191947e+00  4.71300583e+00\n",
      "  4.72358291e+00  4.72358291e+00  4.73250579e+00  4.74639446e+00\n",
      "  4.75265442e+00  4.75265442e+00  4.77714481e+00  4.77714481e+00\n",
      "  4.78092954e+00  4.78092954e+00  4.78466351e+00  4.78723999e+00\n",
      "  4.79983481e+00  4.79983481e+00  4.82516348e+00  4.83306861e+00\n",
      "  4.83306861e+00  4.83457160e+00  4.83457160e+00  4.83543326e+00\n",
      "  4.85954990e+00  4.85954990e+00  4.86190745e+00  4.86290786e+00\n",
      "  4.86290786e+00  4.86624858e+00  4.87728755e+00  4.87993472e+00\n",
      "  4.87993472e+00  4.88885727e+00  4.88885727e+00  4.89126523e+00\n",
      "  4.89134242e+00  4.90304067e+00  4.90304067e+00  4.90357649e+00\n",
      "  4.90357649e+00  4.90845560e+00  4.92026409e+00  4.92026409e+00\n",
      "  4.93465250e+00  4.93801752e+00  4.94181636e+00  4.94181636e+00\n",
      "  4.94466172e+00  4.94744909e+00  4.94916151e+00  4.94916151e+00\n",
      "  4.94991005e+00  4.94991005e+00  4.96082072e+00  4.96082072e+00\n",
      "  4.96656561e+00  4.96875346e+00  4.97578127e+00  4.97578127e+00\n",
      "  4.98415394e+00  4.99690089e+00  5.00275098e+00  5.00275098e+00\n",
      "  5.00740326e+00  5.00740326e+00  5.01444312e+00  5.03055735e+00\n",
      "  5.03055735e+00  5.03304377e+00  5.03472161e+00  5.03472161e+00\n",
      "  5.03511961e+00  5.04104609e+00  5.04189862e+00  5.04189862e+00\n",
      "  5.04430450e+00  5.04430450e+00  5.04475014e+00  5.13402331e+00\n",
      "  5.26872092e+00  5.31255133e+00  5.31255133e+00  5.39976936e+00\n",
      "  5.40822217e+00  5.40822217e+00  5.55840949e+00  5.63830075e+00\n",
      "  5.65280495e+00  5.65280495e+00  5.67318017e+00  5.67318017e+00\n",
      "  5.81348131e+00  5.81348131e+00  5.85103940e+00  6.00000000e+00\n",
      "  6.00000000e+00]\n"
     ]
    }
   ],
   "source": [
    "print(EH)"
   ]
  },
  {
   "cell_type": "code",
   "execution_count": null,
   "id": "d752ea50",
   "metadata": {},
   "outputs": [],
   "source": []
  }
 ],
 "metadata": {
  "kernelspec": {
   "display_name": "Python 3 (ipykernel)",
   "language": "python",
   "name": "python3"
  },
  "language_info": {
   "codemirror_mode": {
    "name": "ipython",
    "version": 3
   },
   "file_extension": ".py",
   "mimetype": "text/x-python",
   "name": "python",
   "nbconvert_exporter": "python",
   "pygments_lexer": "ipython3",
   "version": "3.9.18"
  }
 },
 "nbformat": 4,
 "nbformat_minor": 5
}
