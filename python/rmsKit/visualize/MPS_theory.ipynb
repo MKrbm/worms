{
 "cells": [
  {
   "cell_type": "code",
   "execution_count": 1,
   "id": "dbdfc075",
   "metadata": {},
   "outputs": [],
   "source": [
    "import sys\n",
    "sys.path.append(\"../\")\n",
    "import numpy as np \n",
    "from utils import *\n",
    "from lattice import *\n",
    "import pandas\n",
    "import pandas as pd\n",
    "import matplotlib.pyplot as plt\n",
    "import matplotlib.gridspec as gridspec\n",
    "import tensornetwork as tn"
   ]
  },
  {
   "cell_type": "code",
   "execution_count": 153,
   "id": "6b266e33",
   "metadata": {},
   "outputs": [
    {
     "name": "stdout",
     "output_type": "stream",
     "text": [
      "[[ 0.93465598 -0.22428086]\n",
      " [-0.22428086  0.12754249]]\n"
     ]
    }
   ],
   "source": [
    "sps = 3\n",
    "bd = 2\n",
    "seed = 36\n",
    "A = FF.block1D(bd, sps, bd, seed=seed, canonical=True).real\n",
    "tmp = np.zeros((2,2))\n",
    "for i in range(2):\n",
    "    tmp += A[:,i,:] @ A[:,i,:].T\n",
    "print(tmp)"
   ]
  },
  {
   "cell_type": "code",
   "execution_count": 154,
   "id": "20832223",
   "metadata": {},
   "outputs": [],
   "source": [
    "A2 = np.einsum(\"ijk,klm->jlim\", A, A).reshape(sps**2, bd**2)\n",
    "U, s , V = np.linalg.svd(A2)\n",
    "Up = U[:, len(s):]\n",
    "h = Up @ Up.T"
   ]
  },
  {
   "cell_type": "code",
   "execution_count": 155,
   "id": "7d8b5ffb",
   "metadata": {},
   "outputs": [],
   "source": [
    "mps_nodes, mps_edges = FF.create_MPS(6, A)\n",
    "for k in range(len(mps_edges)):\n",
    "    C = tn.contract(mps_edges[k])\n",
    "y1 = C.tensor.reshape(-1)\n",
    "y1 /= np.linalg.norm(y1)"
   ]
  },
  {
   "cell_type": "code",
   "execution_count": 156,
   "id": "06b3feee",
   "metadata": {
    "scrolled": true
   },
   "outputs": [
    {
     "name": "stdout",
     "output_type": "stream",
     "text": [
      "y is eigen state for h? :  9.312774901445156e-18\n"
     ]
    }
   ],
   "source": [
    "y_ = y1.reshape((sps**2, -1))\n",
    "rho = y_ @ y_.T \n",
    "print(\"y is eigen state for h? : \",np.trace(rho @ h))"
   ]
  },
  {
   "cell_type": "markdown",
   "id": "18963d6e",
   "metadata": {},
   "source": [
    "### Check canonical give same state"
   ]
  },
  {
   "cell_type": "code",
   "execution_count": 157,
   "id": "9a26bd4d",
   "metadata": {},
   "outputs": [
    {
     "data": {
      "text/plain": [
       "(5.114424018633868e-16, 2.3865583919308875e-15)"
      ]
     },
     "execution_count": 157,
     "metadata": {},
     "output_type": "execute_result"
    }
   ],
   "source": [
    "B = FF.block1D(bd, sps, bd, seed=seed, canonical=False).real\n",
    "B2 = np.einsum(\"ijk,klm->jlim\", B, B).reshape(sps**2, bd**2)\n",
    "U, s , V = np.linalg.svd(B2)\n",
    "Up = U[:, len(s):]\n",
    "hb = Up @ Up.T\n",
    "mps_nodes, mps_edges = FF.create_MPS(6, B)\n",
    "for k in range(len(mps_edges)):\n",
    "    C = tn.contract(mps_edges[k])\n",
    "y2 = C.tensor.reshape(-1)\n",
    "y2 /= np.linalg.norm(y2)\n",
    "np.linalg.norm(y1 - y2), np.linalg.norm(h - hb)"
   ]
  },
  {
   "cell_type": "markdown",
   "id": "b6590861",
   "metadata": {},
   "source": [
    "### Check energy gap"
   ]
  },
  {
   "cell_type": "code",
   "execution_count": 158,
   "id": "215af4d8",
   "metadata": {},
   "outputs": [],
   "source": [
    "TA = np.einsum(\"jik,lim->jlkm\", A, A).reshape(bd**2, bd**2)\n",
    "e_ = np.sort(np.linalg.eigvals(TA))\n",
    "gap_transfer = e_[-1] - e_[-2]\n",
    "gaps = []\n",
    "for L in range(2, 8):\n",
    "    H = sum_ham(h, [[i, (i + 1) % L] for i in range(L)], L, sps)\n",
    "    E = np.linalg.eigvalsh(H)\n",
    "    gap = E[1] - E[0]\n",
    "    gaps.append(gap)"
   ]
  },
  {
   "cell_type": "code",
   "execution_count": 159,
   "id": "62b94b20",
   "metadata": {},
   "outputs": [
    {
     "data": {
      "text/plain": [
       "[3.082995880203112e-16,\n",
       " 0.0043482878883649555,\n",
       " 0.004688357437257469,\n",
       " 0.0049369975793628115,\n",
       " 0.005064493273186074,\n",
       " 0.0051235460386071805]"
      ]
     },
     "execution_count": 159,
     "metadata": {},
     "output_type": "execute_result"
    }
   ],
   "source": [
    "gaps"
   ]
  },
  {
   "cell_type": "code",
   "execution_count": 86,
   "id": "21aeab26",
   "metadata": {},
   "outputs": [
    {
     "data": {
      "text/plain": [
       "0.5362674250844774"
      ]
     },
     "execution_count": 86,
     "metadata": {},
     "output_type": "execute_result"
    }
   ],
   "source": [
    "gap_transfer"
   ]
  },
  {
   "cell_type": "code",
   "execution_count": 75,
   "id": "86f238f2",
   "metadata": {},
   "outputs": [
    {
     "data": {
      "text/plain": [
       "array([-1.59633129e-17,  8.29053885e-17,  2.01326062e-16,  2.51122624e-16,\n",
       "        1.00000000e+00,  1.00000000e+00,  1.00000000e+00,  1.00000000e+00,\n",
       "        1.00000000e+00])"
      ]
     },
     "execution_count": 75,
     "metadata": {},
     "output_type": "execute_result"
    }
   ],
   "source": [
    "np.linalg.eigvalsh(h)"
   ]
  }
 ],
 "metadata": {
  "kernelspec": {
   "display_name": "Python 3 (ipykernel)",
   "language": "python",
   "name": "python3"
  },
  "language_info": {
   "codemirror_mode": {
    "name": "ipython",
    "version": 3
   },
   "file_extension": ".py",
   "mimetype": "text/x-python",
   "name": "python",
   "nbconvert_exporter": "python",
   "pygments_lexer": "ipython3",
   "version": "3.9.18"
  }
 },
 "nbformat": 4,
 "nbformat_minor": 5
}
