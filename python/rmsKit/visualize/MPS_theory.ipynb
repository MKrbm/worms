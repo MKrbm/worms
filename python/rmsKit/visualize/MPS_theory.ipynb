{
 "cells": [
  {
   "cell_type": "code",
   "execution_count": 1,
   "id": "dbdfc075",
   "metadata": {},
   "outputs": [],
   "source": [
    "import sys\n",
    "sys.path.append(\"../\")\n",
    "import numpy as np \n",
    "from utils import *\n",
    "from lattice import *\n",
    "import pandas\n",
    "import pandas as pd\n",
    "import matplotlib.pyplot as plt\n",
    "import matplotlib.gridspec as gridspec\n",
    "import tensornetwork as tn"
   ]
  },
  {
   "cell_type": "code",
   "execution_count": 2,
   "id": "6b266e33",
   "metadata": {},
   "outputs": [
    {
     "name": "stdout",
     "output_type": "stream",
     "text": [
      "[[ 0.93465598 -0.22428086]\n",
      " [-0.22428086  0.12754249]]\n"
     ]
    }
   ],
   "source": [
    "sps = 3\n",
    "bd = 2\n",
    "seed = 36\n",
    "A = FF.block1D(bd, sps, bd, seed=seed, canonical=True).real\n",
    "tmp = np.zeros((2,2))\n",
    "for i in range(2):\n",
    "    tmp += A[:,i,:] @ A[:,i,:].T\n",
    "print(tmp)"
   ]
  },
  {
   "cell_type": "code",
   "execution_count": 3,
   "id": "20832223",
   "metadata": {},
   "outputs": [],
   "source": [
    "A2 = np.einsum(\"ijk,klm->jlim\", A, A).reshape(sps**2, bd**2)\n",
    "U, s , V = np.linalg.svd(A2)\n",
    "Up = U[:, len(s):]\n",
    "h = Up @ Up.T"
   ]
  },
  {
   "cell_type": "code",
   "execution_count": 4,
   "id": "7d8b5ffb",
   "metadata": {},
   "outputs": [],
   "source": [
    "mps_nodes, mps_edges = FF.create_MPS(6, A)\n",
    "for k in range(len(mps_edges)):\n",
    "    C = tn.contract(mps_edges[k])\n",
    "y1 = C.tensor.reshape(-1)\n",
    "y1 /= np.linalg.norm(y1)"
   ]
  },
  {
   "cell_type": "code",
   "execution_count": 5,
   "id": "06b3feee",
   "metadata": {
    "scrolled": true
   },
   "outputs": [
    {
     "name": "stdout",
     "output_type": "stream",
     "text": [
      "y is eigen state for h? :  9.312774901445156e-18\n"
     ]
    }
   ],
   "source": [
    "y_ = y1.reshape((sps**2, -1))\n",
    "rho = y_ @ y_.T \n",
    "print(\"y is eigen state for h? : \",np.trace(rho @ h))"
   ]
  },
  {
   "cell_type": "markdown",
   "id": "18963d6e",
   "metadata": {},
   "source": [
    "### Check canonical give same state"
   ]
  },
  {
   "cell_type": "code",
   "execution_count": 6,
   "id": "9a26bd4d",
   "metadata": {},
   "outputs": [
    {
     "data": {
      "text/plain": [
       "(5.114424018633868e-16, 2.3865583919308875e-15)"
      ]
     },
     "execution_count": 6,
     "metadata": {},
     "output_type": "execute_result"
    }
   ],
   "source": [
    "B = FF.block1D(bd, sps, bd, seed=seed, canonical=False).real\n",
    "B2 = np.einsum(\"ijk,klm->jlim\", B, B).reshape(sps**2, bd**2)\n",
    "U, s , V = np.linalg.svd(B2)\n",
    "Up = U[:, len(s):]\n",
    "hb = Up @ Up.T\n",
    "mps_nodes, mps_edges = FF.create_MPS(6, B)\n",
    "for k in range(len(mps_edges)):\n",
    "    C = tn.contract(mps_edges[k])\n",
    "y2 = C.tensor.reshape(-1)\n",
    "y2 /= np.linalg.norm(y2)\n",
    "np.linalg.norm(y1 - y2), np.linalg.norm(h - hb)"
   ]
  },
  {
   "cell_type": "markdown",
   "id": "b6590861",
   "metadata": {},
   "source": [
    "### Check energy gap"
   ]
  },
  {
   "cell_type": "code",
   "execution_count": 30,
   "id": "215af4d8",
   "metadata": {},
   "outputs": [
    {
     "ename": "ValueError",
     "evalue": "operand has more dimensions than subscripts given in einstein sum, but no '...' ellipsis provided to broadcast the extra dimensions.",
     "output_type": "error",
     "traceback": [
      "\u001b[0;31m---------------------------------------------------------------------------\u001b[0m",
      "\u001b[0;31mValueError\u001b[0m                                Traceback (most recent call last)",
      "Cell \u001b[0;32mIn[30], line 1\u001b[0m\n\u001b[0;32m----> 1\u001b[0m TA \u001b[38;5;241m=\u001b[39m \u001b[43mnp\u001b[49m\u001b[38;5;241;43m.\u001b[39;49m\u001b[43meinsum\u001b[49m\u001b[43m(\u001b[49m\u001b[38;5;124;43m\"\u001b[39;49m\u001b[38;5;124;43mjik,lim->jlkm\u001b[39;49m\u001b[38;5;124;43m\"\u001b[39;49m\u001b[43m,\u001b[49m\u001b[43m \u001b[49m\u001b[43mA\u001b[49m\u001b[43m,\u001b[49m\u001b[43m \u001b[49m\u001b[43mA\u001b[49m\u001b[43m)\u001b[49m\u001b[38;5;241m.\u001b[39mreshape(bd\u001b[38;5;241m*\u001b[39m\u001b[38;5;241m*\u001b[39m\u001b[38;5;241m2\u001b[39m, bd\u001b[38;5;241m*\u001b[39m\u001b[38;5;241m*\u001b[39m\u001b[38;5;241m2\u001b[39m)\n\u001b[1;32m      2\u001b[0m e_ \u001b[38;5;241m=\u001b[39m np\u001b[38;5;241m.\u001b[39msort(np\u001b[38;5;241m.\u001b[39mlinalg\u001b[38;5;241m.\u001b[39meigvals(TA))\n\u001b[1;32m      3\u001b[0m gap_transfer \u001b[38;5;241m=\u001b[39m e_[\u001b[38;5;241m-\u001b[39m\u001b[38;5;241m1\u001b[39m] \u001b[38;5;241m-\u001b[39m e_[\u001b[38;5;241m-\u001b[39m\u001b[38;5;241m2\u001b[39m]\n",
      "File \u001b[0;32m~/Documents/todo/worms/env/lib/python3.9/site-packages/numpy/core/einsumfunc.py:1371\u001b[0m, in \u001b[0;36meinsum\u001b[0;34m(out, optimize, *operands, **kwargs)\u001b[0m\n\u001b[1;32m   1369\u001b[0m     \u001b[38;5;28;01mif\u001b[39;00m specified_out:\n\u001b[1;32m   1370\u001b[0m         kwargs[\u001b[38;5;124m'\u001b[39m\u001b[38;5;124mout\u001b[39m\u001b[38;5;124m'\u001b[39m] \u001b[38;5;241m=\u001b[39m out\n\u001b[0;32m-> 1371\u001b[0m     \u001b[38;5;28;01mreturn\u001b[39;00m \u001b[43mc_einsum\u001b[49m\u001b[43m(\u001b[49m\u001b[38;5;241;43m*\u001b[39;49m\u001b[43moperands\u001b[49m\u001b[43m,\u001b[49m\u001b[43m \u001b[49m\u001b[38;5;241;43m*\u001b[39;49m\u001b[38;5;241;43m*\u001b[39;49m\u001b[43mkwargs\u001b[49m\u001b[43m)\u001b[49m\n\u001b[1;32m   1373\u001b[0m \u001b[38;5;66;03m# Check the kwargs to avoid a more cryptic error later, without having to\u001b[39;00m\n\u001b[1;32m   1374\u001b[0m \u001b[38;5;66;03m# repeat default values here\u001b[39;00m\n\u001b[1;32m   1375\u001b[0m valid_einsum_kwargs \u001b[38;5;241m=\u001b[39m [\u001b[38;5;124m'\u001b[39m\u001b[38;5;124mdtype\u001b[39m\u001b[38;5;124m'\u001b[39m, \u001b[38;5;124m'\u001b[39m\u001b[38;5;124morder\u001b[39m\u001b[38;5;124m'\u001b[39m, \u001b[38;5;124m'\u001b[39m\u001b[38;5;124mcasting\u001b[39m\u001b[38;5;124m'\u001b[39m]\n",
      "\u001b[0;31mValueError\u001b[0m: operand has more dimensions than subscripts given in einstein sum, but no '...' ellipsis provided to broadcast the extra dimensions."
     ]
    }
   ],
   "source": [
    "TA = np.einsum(\"jik,lim->jlkm\", A, A).reshape(bd**2, bd**2)\n",
    "e_ = np.sort(np.linalg.eigvals(TA))\n",
    "gap_transfer = e_[-1] - e_[-2]\n",
    "gaps = []\n",
    "for L in range(2, 8):\n",
    "    H = sum_ham(h, [[i, (i + 1) % L] for i in range(L)], L, sps)\n",
    "    E = np.linalg.eigvalsh(H)\n",
    "    gap = E[1] - E[0]\n",
    "    gaps.append(gap)"
   ]
  },
  {
   "cell_type": "markdown",
   "id": "26253008",
   "metadata": {},
   "source": [
    "### Create MPS from transfer matrix\n",
    "\n",
    "```\n",
    "k - | A^T | - l\n",
    "i - | A | - j\n",
    "```\n",
    "\n",
    "should be symmetric to $ i \\leftrightarrow j, k \\leftrightarrow l $ ( vertical flip) and horizonal flip "
   ]
  },
  {
   "cell_type": "code",
   "execution_count": 142,
   "id": "4b5eb9c1",
   "metadata": {},
   "outputs": [],
   "source": [
    "bd = 2\n",
    "A0 = np.random.normal(size=(bd**2, bd**2))#(i,k) x (j,l)  matrix \n",
    "A = A0.reshape(bd,bd,bd,bd) "
   ]
  },
  {
   "cell_type": "code",
   "execution_count": 143,
   "id": "51e29174",
   "metadata": {},
   "outputs": [],
   "source": [
    "A = (A.transpose((1,0,3,2)) + A.transpose((2,3,0,1)) + A.transpose((3,2,1,0)) + A) / 4"
   ]
  },
  {
   "cell_type": "markdown",
   "id": "9e9c5d30",
   "metadata": {},
   "source": [
    "- Next, bundle $(k, l)$ and $(i, j)$\n",
    "- Make sure B is symmetric matrix"
   ]
  },
  {
   "cell_type": "code",
   "execution_count": 135,
   "id": "d4b08fad",
   "metadata": {},
   "outputs": [
    {
     "name": "stdout",
     "output_type": "stream",
     "text": [
      "[[ 5.61098505  1.18567413  1.18567413  4.58090475]\n",
      " [ 1.18567413 -0.04670784  0.08688897 -0.68035489]\n",
      " [ 1.18567413  0.08688897 -0.04670784 -0.68035489]\n",
      " [ 4.58090475 -0.68035489 -0.68035489  4.25721818]]\n"
     ]
    }
   ],
   "source": [
    "B = np.einsum(\"ijkl->ikjl\",A).reshape(bd**2, bd**2)\n",
    "print(B)"
   ]
  },
  {
   "cell_type": "code",
   "execution_count": 145,
   "id": "a8304cb1",
   "metadata": {},
   "outputs": [],
   "source": [
    "U, S, V = np.linalg.svd(B)"
   ]
  },
  {
   "cell_type": "code",
   "execution_count": 161,
   "id": "6f6a5a23",
   "metadata": {},
   "outputs": [
    {
     "data": {
      "text/plain": [
       "array([[-7.64016249e-01, -4.37717500e-01,  4.74006921e-01,\n",
       "        -1.21754692e-16],\n",
       "       [-4.90595072e-02, -4.77065277e-01, -5.19617057e-01,\n",
       "         7.07106781e-01],\n",
       "       [-4.90595072e-02, -4.77065277e-01, -5.19617057e-01,\n",
       "        -7.07106781e-01],\n",
       "       [-6.41455766e-01,  5.94323845e-01, -4.85091401e-01,\n",
       "         6.10820386e-17]])"
      ]
     },
     "execution_count": 161,
     "metadata": {},
     "output_type": "execute_result"
    }
   ],
   "source": [
    "U "
   ]
  },
  {
   "cell_type": "code",
   "execution_count": 162,
   "id": "08cb3520",
   "metadata": {},
   "outputs": [
    {
     "data": {
      "text/plain": [
       "array([[-7.64016249e-01, -4.37717500e-01, -4.74006921e-01,\n",
       "         0.00000000e+00],\n",
       "       [-4.90595072e-02, -4.77065277e-01,  5.19617057e-01,\n",
       "        -7.07106781e-01],\n",
       "       [-4.90595072e-02, -4.77065277e-01,  5.19617057e-01,\n",
       "         7.07106781e-01],\n",
       "       [-6.41455766e-01,  5.94323845e-01,  4.85091401e-01,\n",
       "        -9.61483260e-17]])"
      ]
     },
     "execution_count": 162,
     "metadata": {},
     "output_type": "execute_result"
    }
   ],
   "source": [
    "V.T"
   ]
  },
  {
   "cell_type": "code",
   "execution_count": 132,
   "id": "ffc50b75",
   "metadata": {},
   "outputs": [
    {
     "data": {
      "text/plain": [
       "(5.338100145117183e-15,\n",
       " array([-0.30370736,  0.36945071,  0.74403308,  7.73287618]))"
      ]
     },
     "execution_count": 132,
     "metadata": {},
     "output_type": "execute_result"
    }
   ],
   "source": [
    "E, V = np.linalg.eigh(B)\n",
    "np.linalg.norm(V @ np.diag(E) @ V.T-B), E"
   ]
  },
  {
   "cell_type": "markdown",
   "id": "e6264dde",
   "metadata": {},
   "source": [
    "```\n",
    "k - | A^T  A = B | - i\n",
    "l - |            | - j\n",
    "```\n",
    "\n",
    "```\n",
    "k - | db^T |  -  | db | - \n",
    "l - |      |     |    | -  \n",
    "```"
   ]
  },
  {
   "cell_type": "code",
   "execution_count": 127,
   "id": "228534de",
   "metadata": {},
   "outputs": [
    {
     "name": "stderr",
     "output_type": "stream",
     "text": [
      "/var/folders/z7/m5qzz0hj12z06hxsn5km2c400000gn/T/ipykernel_3674/1316602744.py:1: RuntimeWarning: invalid value encountered in sqrt\n",
      "  db = np.diag(np.sqrt(E)) @ V.T\n"
     ]
    },
    {
     "data": {
      "text/plain": [
       "nan"
      ]
     },
     "execution_count": 127,
     "metadata": {},
     "output_type": "execute_result"
    }
   ],
   "source": [
    "db = np.diag(np.sqrt(E)) @ V.T\n",
    "np.linalg.norm(db.T @ db - B)"
   ]
  },
  {
   "cell_type": "markdown",
   "id": "2cea807d",
   "metadata": {},
   "source": [
    "### invariant under reflective symmetry\n",
    "\n",
    "```   \n",
    "      py\n",
    "       |\n",
    "i - | da | -   j\n",
    "```"
   ]
  },
  {
   "cell_type": "code",
   "execution_count": 128,
   "id": "78ed6761",
   "metadata": {},
   "outputs": [
    {
     "data": {
      "text/plain": [
       "nan"
      ]
     },
     "execution_count": 128,
     "metadata": {},
     "output_type": "execute_result"
    }
   ],
   "source": [
    "A_MPS = db.reshape(4, 2, 2)\n",
    "np.linalg.norm(A_MPS - A_MPS.transpose(0, 2, 1))"
   ]
  },
  {
   "cell_type": "markdown",
   "id": "762200f0",
   "metadata": {},
   "source": [
    "### Reconstruct transition matrix"
   ]
  },
  {
   "cell_type": "code",
   "execution_count": 129,
   "id": "a6542b59",
   "metadata": {},
   "outputs": [],
   "source": [
    "A_tilde_ = np.einsum(\"pij,pkl->ikjl\", A_MPS, A_MPS)\n",
    "A_tilde = A_tilde_.reshape(4,4)"
   ]
  },
  {
   "cell_type": "code",
   "execution_count": 130,
   "id": "5a19c12d",
   "metadata": {},
   "outputs": [
    {
     "data": {
      "text/plain": [
       "nan"
      ]
     },
     "execution_count": 130,
     "metadata": {},
     "output_type": "execute_result"
    }
   ],
   "source": [
    "np.linalg.norm(A_tilde - A0)"
   ]
  },
  {
   "cell_type": "code",
   "execution_count": 131,
   "id": "fac5c0e6",
   "metadata": {},
   "outputs": [
    {
     "data": {
      "text/plain": [
       "array([[[[nan, nan],\n",
       "         [nan, nan]],\n",
       "\n",
       "        [[nan, nan],\n",
       "         [nan, nan]]],\n",
       "\n",
       "\n",
       "       [[[nan, nan],\n",
       "         [nan, nan]],\n",
       "\n",
       "        [[nan, nan],\n",
       "         [nan, nan]]]])"
      ]
     },
     "execution_count": 131,
     "metadata": {},
     "output_type": "execute_result"
    }
   ],
   "source": [
    "A_tilde_ - A"
   ]
  },
  {
   "cell_type": "code",
   "execution_count": null,
   "id": "014ca685",
   "metadata": {},
   "outputs": [],
   "source": []
  }
 ],
 "metadata": {
  "kernelspec": {
   "display_name": "Python 3 (ipykernel)",
   "language": "python",
   "name": "python3"
  },
  "language_info": {
   "codemirror_mode": {
    "name": "ipython",
    "version": 3
   },
   "file_extension": ".py",
   "mimetype": "text/x-python",
   "name": "python",
   "nbconvert_exporter": "python",
   "pygments_lexer": "ipython3",
   "version": "3.9.18"
  }
 },
 "nbformat": 4,
 "nbformat_minor": 5
}
