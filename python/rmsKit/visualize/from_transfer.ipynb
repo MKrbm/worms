{
 "cells": [
  {
   "cell_type": "code",
   "execution_count": 1,
   "id": "cf937131",
   "metadata": {},
   "outputs": [],
   "source": [
    "import numpy as np\n",
    "from scipy.stats import ortho_group\n",
    "import sys\n",
    "sys.path.append(\"../\")\n",
    "import numpy as np \n",
    "from utils import *\n",
    "from lattice import *"
   ]
  },
  {
   "cell_type": "markdown",
   "id": "6c01698c",
   "metadata": {},
   "source": [
    "### Define swap operator"
   ]
  },
  {
   "cell_type": "code",
   "execution_count": 2,
   "id": "9d74f48e",
   "metadata": {},
   "outputs": [],
   "source": [
    "bd = 2\n",
    "S = np.zeros((bd,)*4)\n",
    "for i in range(bd):\n",
    "    for j in range(bd):\n",
    "        S[i,j,j,i] = 1\n",
    "S = S.reshape(bd**2, bd**2)"
   ]
  },
  {
   "cell_type": "code",
   "execution_count": 3,
   "id": "6a7672af",
   "metadata": {},
   "outputs": [],
   "source": [
    "Es, Vs = np.linalg.eigh(S)"
   ]
  },
  {
   "cell_type": "markdown",
   "id": "f88961e1",
   "metadata": {},
   "source": [
    "### Define unitary transformation with above symmetry "
   ]
  },
  {
   "cell_type": "code",
   "execution_count": 4,
   "id": "7f56c38c",
   "metadata": {},
   "outputs": [],
   "source": [
    "U_tmp = np.zeros((bd**2,bd**2))\n",
    "idx = np.argwhere(Es == -1)[-1]\n",
    "U_tmp[:idx[0]+1, :idx[0]+1] = ortho_group.rvs(dim=np.round(idx[0]+1)) if idx[0] != 0 else 1\n",
    "U_tmp[idx[0]+1:, idx[0]+1:] = ortho_group.rvs(dim=np.round(bd**2-idx[0]-1))\n",
    "U = Vs @ U_tmp @ Vs.T"
   ]
  },
  {
   "cell_type": "markdown",
   "id": "1a5d309c",
   "metadata": {},
   "source": [
    "### Define transfer matrix with degenerated eigenvalues\n",
    "\n"
   ]
  },
  {
   "cell_type": "code",
   "execution_count": 9,
   "id": "94f00d11",
   "metadata": {},
   "outputs": [
    {
     "name": "stdout",
     "output_type": "stream",
     "text": [
      "check if this is symmetric :  5.551115123125783e-17\n"
     ]
    }
   ],
   "source": [
    "lam_tmp = np.sort(np.random.uniform(low=-0.5,high = 1, size = (bd**2)))\n",
    "lam_tmp[-2:] = 1\n",
    "lam_tmp[0] = 0\n",
    "lam = Vs @ np.diag(lam_tmp) @ Vs.T\n",
    "A_transfer = U @ lam @ U.T\n",
    "print(\"check if this is symmetric : \",np.linalg.norm(S @ A_transfer @ S - A_transfer))"
   ]
  },
  {
   "cell_type": "markdown",
   "id": "26253008",
   "metadata": {},
   "source": [
    "### Create MPS from transfer matrix\n",
    "\n",
    "```\n",
    "k - | A | - l\n",
    "i - |  | - j\n",
    "```\n",
    "\n",
    "should be symmetric to $ i \\leftrightarrow j, k \\leftrightarrow l $ ( vertical flip) and horizonal flip "
   ]
  },
  {
   "cell_type": "markdown",
   "id": "4f42444d",
   "metadata": {},
   "source": [
    "### Return spectrum of transfer matrix"
   ]
  },
  {
   "cell_type": "code",
   "execution_count": 26,
   "id": "a72a8149",
   "metadata": {},
   "outputs": [
    {
     "name": "stdout",
     "output_type": "stream",
     "text": [
      "Ea:  [-0.19392068 -0.14106267  0.21596272  1.        ]\n",
      "spectrum of transfer matrix of canonical MPS :  [-0.19392068 -0.14106267  0.21596272  1.        ]\n"
     ]
    }
   ],
   "source": [
    "B = FF.block1D(bd, 3, bd, canonical=True).real\n",
    "B_transfer = np.einsum(\"ipj, kpl->ikjl\",B, B).reshape((bd**2,)*2)\n",
    "print(\"spectrum of transfer matrix of canonical MPS : \", np.sort(np.linalg.eigvals(B_transfer)))"
   ]
  },
  {
   "cell_type": "code",
   "execution_count": 24,
   "id": "402a086c",
   "metadata": {},
   "outputs": [
    {
     "name": "stdout",
     "output_type": "stream",
     "text": [
      "confirm A has symmetry :  5.551115123125783e-17 1.1775693440128312e-16\n",
      "confirm spectrum is degenerated :  [-0.48756  1.       1.       0.     ]\n"
     ]
    }
   ],
   "source": [
    "A = A_transfer.reshape((bd,)*4)\n",
    "print(\"confirm A has symmetry : \",np.linalg.norm(A.transpose((1,0,3,2))- A), np.linalg.norm(A.transpose((2,3,0,1))- A))\n",
    "print(\"confirm spectrum is degenerated : \", np.round(np.linalg.eigvals(A.reshape((bd**2,)*2)),5))"
   ]
  },
  {
   "cell_type": "markdown",
   "id": "9e9c5d30",
   "metadata": {},
   "source": [
    "- Next, bundle $(k, l)$ and $(i, j)$. change the view of matrix\n",
    "- Make sure B is symmetric matrix"
   ]
  },
  {
   "cell_type": "code",
   "execution_count": 20,
   "id": "d4b08fad",
   "metadata": {},
   "outputs": [
    {
     "name": "stdout",
     "output_type": "stream",
     "text": [
      "[-0.09130237  0.05516803  0.32703293  1.64722999]\n"
     ]
    }
   ],
   "source": [
    "B = np.einsum(\"ijkl->ikjl\",A).reshape(bd**2, bd**2)\n",
    "print(np.linalg.eigvalsh(B))"
   ]
  },
  {
   "cell_type": "code",
   "execution_count": 249,
   "id": "ffc50b75",
   "metadata": {},
   "outputs": [
    {
     "data": {
      "text/plain": [
       "(1.1951300559350904e-15,\n",
       " array([-0.73672021, -0.59216896,  0.91357297,  1.36804351]))"
      ]
     },
     "execution_count": 249,
     "metadata": {},
     "output_type": "execute_result"
    }
   ],
   "source": [
    "E, V = np.linalg.eigh(B)\n",
    "np.linalg.norm(V @ np.diag(E) @ V.T-B), E"
   ]
  },
  {
   "cell_type": "markdown",
   "id": "e6264dde",
   "metadata": {},
   "source": [
    "```\n",
    "k - | A^T  A = B | - i\n",
    "l - |            | - j\n",
    "```\n",
    "\n",
    "```\n",
    "k - | db^T |  -  | db | - \n",
    "l - |      |     |    | -  \n",
    "```"
   ]
  },
  {
   "cell_type": "code",
   "execution_count": 8,
   "id": "228534de",
   "metadata": {},
   "outputs": [
    {
     "name": "stderr",
     "output_type": "stream",
     "text": [
      "/var/folders/z7/m5qzz0hj12z06hxsn5km2c400000gn/T/ipykernel_41605/1316602744.py:1: RuntimeWarning: invalid value encountered in sqrt\n",
      "  db = np.diag(np.sqrt(E)) @ V.T\n"
     ]
    },
    {
     "data": {
      "text/plain": [
       "nan"
      ]
     },
     "execution_count": 8,
     "metadata": {},
     "output_type": "execute_result"
    }
   ],
   "source": [
    "db = np.diag(np.sqrt(E)) @ V.T\n",
    "np.linalg.norm(db.T @ db - B)"
   ]
  },
  {
   "cell_type": "markdown",
   "id": "2cea807d",
   "metadata": {},
   "source": [
    "### invariant under reflective symmetry\n",
    "\n",
    "```   \n",
    "      py\n",
    "       |\n",
    "i - | da | -   j\n",
    "```"
   ]
  },
  {
   "cell_type": "code",
   "execution_count": 9,
   "id": "78ed6761",
   "metadata": {},
   "outputs": [
    {
     "data": {
      "text/plain": [
       "nan"
      ]
     },
     "execution_count": 9,
     "metadata": {},
     "output_type": "execute_result"
    }
   ],
   "source": [
    "A_MPS = db.reshape(4, 2, 2)\n",
    "np.linalg.norm(A_MPS - A_MPS.transpose(0, 2, 1))"
   ]
  },
  {
   "cell_type": "markdown",
   "id": "762200f0",
   "metadata": {},
   "source": [
    "### Reconstruct transition matrix"
   ]
  },
  {
   "cell_type": "code",
   "execution_count": 129,
   "id": "a6542b59",
   "metadata": {},
   "outputs": [],
   "source": [
    "A_tilde_ = np.einsum(\"pij,pkl->ikjl\", A_MPS, A_MPS)\n",
    "A_tilde = A_tilde_.reshape(4,4)"
   ]
  },
  {
   "cell_type": "code",
   "execution_count": 130,
   "id": "5a19c12d",
   "metadata": {},
   "outputs": [
    {
     "data": {
      "text/plain": [
       "nan"
      ]
     },
     "execution_count": 130,
     "metadata": {},
     "output_type": "execute_result"
    }
   ],
   "source": [
    "np.linalg.norm(A_tilde - A0)"
   ]
  },
  {
   "cell_type": "code",
   "execution_count": 131,
   "id": "fac5c0e6",
   "metadata": {
    "scrolled": true
   },
   "outputs": [
    {
     "data": {
      "text/plain": [
       "array([[[[nan, nan],\n",
       "         [nan, nan]],\n",
       "\n",
       "        [[nan, nan],\n",
       "         [nan, nan]]],\n",
       "\n",
       "\n",
       "       [[[nan, nan],\n",
       "         [nan, nan]],\n",
       "\n",
       "        [[nan, nan],\n",
       "         [nan, nan]]]])"
      ]
     },
     "execution_count": 131,
     "metadata": {},
     "output_type": "execute_result"
    }
   ],
   "source": [
    "A_tilde_ - A"
   ]
  },
  {
   "cell_type": "code",
   "execution_count": null,
   "id": "b8b16ca8",
   "metadata": {},
   "outputs": [],
   "source": []
  },
  {
   "cell_type": "code",
   "execution_count": null,
   "id": "88815147",
   "metadata": {},
   "outputs": [],
   "source": []
  },
  {
   "cell_type": "code",
   "execution_count": 27,
   "id": "fc2de0fe",
   "metadata": {},
   "outputs": [],
   "source": [
    "import numpy as np"
   ]
  },
  {
   "cell_type": "code",
   "execution_count": null,
   "id": "c83ca7d6",
   "metadata": {},
   "outputs": [],
   "source": []
  }
 ],
 "metadata": {
  "kernelspec": {
   "display_name": "Python 3 (ipykernel)",
   "language": "python",
   "name": "python3"
  },
  "language_info": {
   "codemirror_mode": {
    "name": "ipython",
    "version": 3
   },
   "file_extension": ".py",
   "mimetype": "text/x-python",
   "name": "python",
   "nbconvert_exporter": "python",
   "pygments_lexer": "ipython3",
   "version": "3.9.18"
  }
 },
 "nbformat": 4,
 "nbformat_minor": 5
}
