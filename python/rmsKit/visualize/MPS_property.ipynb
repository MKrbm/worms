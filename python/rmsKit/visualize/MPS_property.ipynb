{
 "cells": [
  {
   "cell_type": "code",
   "execution_count": 1,
   "id": "429e9e56",
   "metadata": {},
   "outputs": [],
   "source": [
    "import sys\n",
    "sys.path.append(\"../\")\n",
    "import numpy as np \n",
    "from utils import *\n",
    "from lattice import *\n",
    "import pandas\n",
    "import pandas as pd\n",
    "import matplotlib.pyplot as plt\n",
    "import matplotlib.gridspec as gridspec\n",
    "import tensornetwork as tn"
   ]
  },
  {
   "cell_type": "code",
   "execution_count": 2,
   "id": "814a6819",
   "metadata": {},
   "outputs": [],
   "source": [
    "df = get_seed_and_loss(\"../../../worm_result\")"
   ]
  },
  {
   "cell_type": "code",
   "execution_count": 24,
   "id": "640c0b7e",
   "metadata": {},
   "outputs": [],
   "source": []
  },
  {
   "cell_type": "code",
   "execution_count": 14,
   "id": "994ad65b",
   "metadata": {},
   "outputs": [],
   "source": [
    "sps = 3\n",
    "bd = 2\n",
    "res = {}\n",
    "for seed in range(0, 11):\n",
    "    parent_dir = f\"../array/torch/FF1D_loc/s_3_r_2_lt_1_d_1_seed_{seed}/original_mel_LION/lr_0.005_epoch_20000\"\n",
    "    u_path, lv = path_with_lowest_loss(parent_dir)\n",
    "    A = FF.block1D(bd, sps, bd, seed=seed)\n",
    "    # mps_nodes, mps_edges = FF.create_MPS(6, A)\n",
    "    # for k in range(len(mps_edges)):\n",
    "    #     C = tn.contract(mps_edges[k])\n",
    "    # y = C.tensor.reshape(sps**2, -1)\n",
    "    A2 = np.einsum(\"ijk,klm->jlim\", A, A).reshape(sps**2, bd**2)\n",
    "    U, s , V = np.linalg.svd(A2)\n",
    "    Up = U[:, len(s):]\n",
    "    h = Up @ Up.T\n",
    "    L = 6\n",
    "    H = sum_ham(h, [[i, (i + 1) % L] for i in range(L)], L, sps)\n",
    "    res[seed] = {\n",
    "        \"E\" : np.linalg.eigvalsh(H),\n",
    "        \"loss\" : lv\n",
    "    }\n"
   ]
  },
  {
   "cell_type": "code",
   "execution_count": 27,
   "id": "8c863132",
   "metadata": {},
   "outputs": [
    {
     "name": "stdout",
     "output_type": "stream",
     "text": [
      "0.17387 0.014409947267715335\n",
      "0.0 3.808084226575378e-08\n",
      "2e-05 3.088894926684373e-08\n",
      "0.26422 0.022424657326068447\n",
      "0.09499 0.012584317829217564\n",
      "0.06638 0.00510515577127765\n",
      "0.027 0.00046814891419191395\n",
      "0.00521 0.0012275567273297924\n",
      "0.0005 0.00025582230076526486\n",
      "0.11884 0.23563248342923143\n",
      "0.15375 0.013735076408410358\n"
     ]
    }
   ],
   "source": [
    "for key, val in res.items():\n",
    "    E = val[\"E\"]\n",
    "    gap = E[1] - E[0]\n",
    "    res[key][\"gap\"]  = gap\n",
    "    print(val[\"loss\"], gap)"
   ]
  },
  {
   "cell_type": "markdown",
   "id": "15ef7619",
   "metadata": {},
   "source": [
    "## Calculate transfer matrix"
   ]
  },
  {
   "cell_type": "code",
   "execution_count": 36,
   "id": "89fc79e7",
   "metadata": {},
   "outputs": [],
   "source": [
    "for seed in range(0, 11):\n",
    "    A = FF.block1D(bd, sps, bd, seed=seed)\n",
    "    A_ = A.transpose(1,0,2)\n",
    "    A_tilde_ = np.einsum(\"ijk,ilm->jlkm\", A_, A_)\n",
    "    A_tilde = A_tilde_.reshape(4,4)\n",
    "    e_t = np.linalg.eigvalsh(A_tilde)\n",
    "    res[seed][\"et\"]  = e_t\n",
    "    \n",
    "    A2 = np.einsum(\"ijk,klm->jlim\",A,A)\n",
    "    A2_ = A2.reshape(sps**2, bd, bd)\n",
    "    A2_tilde_ = np.einsum(\"ijk,ilm->jlkm\", A2_, A2_)\n",
    "    A2_tilde = A2_tilde_.reshape(4,4)\n",
    "    e_t = np.linalg.eigvalsh(A2_tilde)\n",
    "    res[seed][\"et2\"]  = e_t"
   ]
  },
  {
   "cell_type": "code",
   "execution_count": 37,
   "id": "b18ad80b",
   "metadata": {},
   "outputs": [
    {
     "name": "stdout",
     "output_type": "stream",
     "text": [
      "loss: 0.17387\n",
      "gap : 0.014409947267715335\n",
      "et : [1.07903285 1.41623274 4.14088113 8.92945925]\n",
      "et2 : [ 1.16431189  2.00571517 17.14689655 79.73524257]\n",
      "\n",
      "\n",
      "loss: 0.0\n",
      "gap : 3.808084226575378e-08\n",
      "et : [-3.52683104 -2.4892931   3.46655985  5.3265312 ]\n",
      "et2 : [ 6.19658016 12.01703717 12.43853718 28.37193457]\n",
      "\n",
      "\n",
      "loss: 2e-05\n",
      "gap : 3.088894926684373e-08\n",
      "et : [-1.80583275 -1.69885453  7.63632091  8.15280263]\n",
      "et2 : [ 2.8861067   3.26103194 58.31339699 66.46819078]\n",
      "\n",
      "\n",
      "loss: 0.26422\n",
      "gap : 0.022424657326068447\n",
      "et : [-3.0497284  -0.4825839   1.14272441  4.25264852]\n",
      "et2 : [ 0.23288722  1.30581908  9.30084333 18.08501945]\n",
      "\n",
      "\n",
      "loss: 0.09499\n",
      "gap : 0.012584317829217564\n",
      "et : [0.7080587  0.83183422 0.92752041 2.80439502]\n",
      "et2 : [0.50134713 0.69194816 0.86029412 7.86463145]\n",
      "\n",
      "\n",
      "loss: 0.06638\n",
      "gap : 0.00510515577127765\n",
      "et : [-1.50881426 -0.8815801   0.66147717  6.17440182]\n",
      "et2 : [ 0.43755205  0.77718348  2.27652046 38.12323784]\n",
      "\n",
      "\n",
      "loss: 0.027\n",
      "gap : 0.00046814891419191395\n",
      "et : [-5.25731758 -2.88693889  2.25853235 12.81759364]\n",
      "et2 : [  5.10096839   8.33441618  27.63938815 164.29070668]\n",
      "\n",
      "\n",
      "loss: 0.00521\n",
      "gap : 0.0012275567273297924\n",
      "et : [-3.47076767 -2.43799771  2.99948473  4.23699977]\n",
      "et2 : [ 5.94383286  8.99690862 12.04622821 17.95216703]\n",
      "\n",
      "\n",
      "loss: 0.0005\n",
      "gap : 0.00025582230076526486\n",
      "et : [-8.55126085 -5.96013061  8.18140983 12.68696325]\n",
      "et2 : [ 35.52315687  66.93546673  73.1240621  160.95903649]\n",
      "\n",
      "\n",
      "loss: 0.11884\n",
      "gap : 0.23563248342923143\n",
      "et : [-0.77404563  0.6032426   1.15051744  4.22627733]\n",
      "et2 : [ 0.36390163  0.59914663  1.32369038 17.8614201 ]\n",
      "\n",
      "\n",
      "loss: 0.15375\n",
      "gap : 0.013735076408410358\n",
      "et : [0.90076688 1.09620857 1.60843429 4.75531901]\n",
      "et2 : [ 0.81138097  1.20167322  2.58706087 22.61305887]\n",
      "\n",
      "\n"
     ]
    }
   ],
   "source": [
    "for key, val in res.items():\n",
    "    print(f'loss: {val[\"loss\"]}')\n",
    "    print(f'gap : {val[\"gap\"]}')\n",
    "    print(f\"et : {val['et']}\")\n",
    "    print(f\"et2 : {val['et2']}\")\n",
    "    print(\"\\n\")"
   ]
  }
 ],
 "metadata": {
  "kernelspec": {
   "display_name": "Python 3 (ipykernel)",
   "language": "python",
   "name": "python3"
  },
  "language_info": {
   "codemirror_mode": {
    "name": "ipython",
    "version": 3
   },
   "file_extension": ".py",
   "mimetype": "text/x-python",
   "name": "python",
   "nbconvert_exporter": "python",
   "pygments_lexer": "ipython3",
   "version": "3.9.18"
  }
 },
 "nbformat": 4,
 "nbformat_minor": 5
}
