{
 "cells": [
  {
   "cell_type": "code",
   "execution_count": 1,
   "id": "85386518",
   "metadata": {},
   "outputs": [],
   "source": [
    "import numpy as np\n",
    "import sys\n",
    "sys.path.append(\"../\")\n",
    "import rms_torch \n",
    "import utils\n",
    "import lattice"
   ]
  },
  {
   "cell_type": "markdown",
   "id": "f06a6075",
   "metadata": {},
   "source": [
    "## Above procedure doesn't have kernel"
   ]
  },
  {
   "cell_type": "code",
   "execution_count": 2,
   "id": "f9011d9c",
   "metadata": {},
   "outputs": [],
   "source": [
    "import tensornetwork as tn\n",
    "import numpy as np\n",
    "from matplotlib import pyplot as plt\n",
    "import copy "
   ]
  },
  {
   "cell_type": "code",
   "execution_count": 12,
   "id": "9a4be20a",
   "metadata": {},
   "outputs": [],
   "source": [
    "sps = 8\n",
    "bd = 2\n",
    "AP = lattice.FF.block2D(sps, bd,seed=0)\n",
    "peps, peps_edges = lattice.FF.create_PEPS(3,2,AP)\n",
    "for k in range(len(peps_edges)):\n",
    "    A = tn.contract(peps_edges[k])"
   ]
  },
  {
   "cell_type": "markdown",
   "id": "bc27d458",
   "metadata": {},
   "source": [
    "### Demonstrate symmetry : translation, reflection"
   ]
  },
  {
   "cell_type": "code",
   "execution_count": 13,
   "id": "e85593dd",
   "metadata": {},
   "outputs": [
    {
     "data": {
      "text/plain": [
       "6.019113015731008e-16"
      ]
     },
     "execution_count": 13,
     "metadata": {},
     "output_type": "execute_result"
    }
   ],
   "source": [
    "y1 = A.tensor.reshape(sps**2, - 1)\n",
    "y1 = y1/np.linalg.norm(y1)\n",
    "rho1 = y1 @ y1.T\n",
    "\n",
    "y2 = A.tensor.transpose(1,0,2,3,4,5)\n",
    "y2 = y2/np.linalg.norm(y2)\n",
    "rho2 = np.einsum(\"ijabcd, klabcd->ijkl\",y2, y2).reshape(sps**2, sps**2)\n",
    "\n",
    "np.linalg.norm(rho1 - rho2)"
   ]
  },
  {
   "cell_type": "code",
   "execution_count": 14,
   "id": "1077a14a",
   "metadata": {
    "scrolled": true
   },
   "outputs": [
    {
     "data": {
      "text/plain": [
       "(875.7768813175701, 875.7768813175701, 875.7768813175701)"
      ]
     },
     "execution_count": 14,
     "metadata": {},
     "output_type": "execute_result"
    }
   ],
   "source": [
    "A.tensor[0,1,2,2,1,0], A.tensor[1,2,0,1,0,2], A.tensor[2,1,0,0,1,2]"
   ]
  },
  {
   "cell_type": "markdown",
   "id": "290a37fe",
   "metadata": {},
   "source": [
    "### Generate hamiltonian and check symmetry"
   ]
  },
  {
   "cell_type": "code",
   "execution_count": 15,
   "id": "21220bf1",
   "metadata": {},
   "outputs": [],
   "source": [
    "AP2 = np.einsum(\"ijklm,abide->mejklabd\",AP,AP).reshape(sps ** 2, -1)\n",
    "U, s, V = np.linalg.svd(AP2)\n",
    "s = np.round(s,10)\n",
    "s = s[s!=0]\n",
    "Up = U[:, len(s):]\n",
    "h1 = Up @ Up.T"
   ]
  },
  {
   "cell_type": "code",
   "execution_count": 16,
   "id": "93e22e21",
   "metadata": {},
   "outputs": [
    {
     "name": "stdout",
     "output_type": "stream",
     "text": [
      "1.0063678396838812e-14\n"
     ]
    }
   ],
   "source": [
    "AP2 = np.einsum(\"ijkbm,abcde->meijkacd\",AP,AP).reshape(sps ** 2, -1)\n",
    "U, s, V = np.linalg.svd(AP2)\n",
    "s = np.round(s,10)\n",
    "s = s[s!=0]\n",
    "Up = U[:, len(s):]\n",
    "h2 = Up @ Up.T\n",
    "print(np.linalg.norm(h1 - h2))"
   ]
  },
  {
   "cell_type": "code",
   "execution_count": 17,
   "id": "8fe210b2",
   "metadata": {},
   "outputs": [
    {
     "data": {
      "text/plain": [
       "9.014831804188498e-15"
      ]
     },
     "execution_count": 17,
     "metadata": {},
     "output_type": "execute_result"
    }
   ],
   "source": [
    "np.linalg.norm(h1.reshape((sps,)*4).transpose(1,0,3,2) - h1.reshape((sps,)*4))"
   ]
  },
  {
   "cell_type": "code",
   "execution_count": 18,
   "id": "1a697bc3",
   "metadata": {},
   "outputs": [
    {
     "name": "stdout",
     "output_type": "stream",
     "text": [
      "-1.776915728899653e-17\n",
      "-2.6791171260048176e-17\n"
     ]
    }
   ],
   "source": [
    "y = A.tensor.reshape(sps**2, - 1)\n",
    "y = y/np.linalg.norm(y)\n",
    "rho = y @ y.T\n",
    "print(np.trace(rho @ h1))\n",
    "\n",
    "y = A.tensor.transpose(0,3,1,4,5,2)\n",
    "y = y/np.linalg.norm(y)\n",
    "rho = np.einsum(\"ijabcd, klabcd->ijkl\",y, y).reshape(sps**2, sps**2)\n",
    "print(np.trace(rho @ h1))"
   ]
  },
  {
   "cell_type": "code",
   "execution_count": null,
   "id": "e7efb054",
   "metadata": {},
   "outputs": [],
   "source": []
  }
 ],
 "metadata": {
  "kernelspec": {
   "display_name": "Python 3 (ipykernel)",
   "language": "python",
   "name": "python3"
  },
  "language_info": {
   "codemirror_mode": {
    "name": "ipython",
    "version": 3
   },
   "file_extension": ".py",
   "mimetype": "text/x-python",
   "name": "python",
   "nbconvert_exporter": "python",
   "pygments_lexer": "ipython3",
   "version": "3.9.18"
  }
 },
 "nbformat": 4,
 "nbformat_minor": 5
}
