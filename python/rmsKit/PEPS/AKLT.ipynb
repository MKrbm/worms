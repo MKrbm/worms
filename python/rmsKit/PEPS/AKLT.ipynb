{
 "cells": [
  {
   "cell_type": "code",
   "execution_count": 1,
   "id": "bc32e0a2",
   "metadata": {},
   "outputs": [],
   "source": [
    "import sys\n",
    "sys.path.append(\"../\")\n",
    "import rms_torch \n",
    "import numpy as np\n",
    "import torch"
   ]
  },
  {
   "cell_type": "code",
   "execution_count": 2,
   "id": "65424762",
   "metadata": {},
   "outputs": [
    {
     "name": "stdout",
     "output_type": "stream",
     "text": [
      "tensor([1.], device='mps:0')\n"
     ]
    }
   ],
   "source": [
    "import torch\n",
    "if torch.backends.mps.is_available():\n",
    "    mps_device = torch.device(\"mps\")\n",
    "    x = torch.ones(1, device=mps_device)\n",
    "    print (x)\n",
    "else:\n",
    "    print (\"MPS device not found.\")"
   ]
  },
  {
   "cell_type": "code",
   "execution_count": 3,
   "id": "3a71e90f",
   "metadata": {},
   "outputs": [
    {
     "name": "stderr",
     "output_type": "stream",
     "text": [
      "/var/folders/z7/m5qzz0hj12z06hxsn5km2c400000gn/T/ipykernel_53701/1414407092.py:13: ComplexWarning: Casting complex values to real discards the imaginary part\n",
      "  SySy = np.kron(Sy, Sy).astype(np.float64)\n"
     ]
    }
   ],
   "source": [
    "Sz = np.zeros([3, 3])\n",
    "Sz[0, 0] = 1\n",
    "Sz[2, 2] = -1\n",
    "Sx = np.zeros([3, 3])\n",
    "Sx[1, 0] = Sx[0, 1] = Sx[2, 1] = Sx[1, 2] = 1 / np.sqrt(2)\n",
    "Sy = np.zeros([3, 3], dtype=np.complex64)\n",
    "Sy[1, 0] = Sy[2, 1] = 1j / np.sqrt(2)\n",
    "Sy[0, 1] = Sy[1, 2] = -1j / np.sqrt(2)\n",
    "\n",
    "\n",
    "SzSz = np.kron(Sz, Sz).astype(np.float64)\n",
    "SxSx = np.kron(Sx, Sx).astype(np.float64)\n",
    "SySy = np.kron(Sy, Sy).astype(np.float64)\n",
    "lh = SzSz + SxSx + SySy\n",
    "lh = lh  + lh @ lh * 1/3\n",
    "\n",
    "u = np.array(\n",
    "[\n",
    "    [-1/np.sqrt(2), 0, 1/np.sqrt(2)],\n",
    "    [1/np.sqrt(2), 0, 1/np.sqrt(2)],\n",
    "    [0,1,0]\n",
    "]\n",
    ")\n",
    "U = np.kron(u,u)\n",
    "\n",
    "lh_u = (U @ lh @ U.conj().T).real"
   ]
  },
  {
   "cell_type": "code",
   "execution_count": 61,
   "id": "ddfa84f5",
   "metadata": {},
   "outputs": [],
   "source": [
    "L = 4\n",
    "e0 = L * -2/3\n",
    "bonds = [[i, (i+1)%L] for i in range(L)]"
   ]
  },
  {
   "cell_type": "code",
   "execution_count": 62,
   "id": "aaeb9bee",
   "metadata": {},
   "outputs": [],
   "source": [
    "H = rms_torch.sum_ham(lh, bonds, L, 3)\n",
    "H_u = rms_torch.sum_ham(lh_u, bonds, L, 3)\n",
    "H_u_s = rms_torch.stoquastic(H_u)\n",
    "H_tensor = torch.tensor(H.astype(np.float32), device=mps_device)"
   ]
  },
  {
   "cell_type": "code",
   "execution_count": 63,
   "id": "afdbef4e",
   "metadata": {},
   "outputs": [],
   "source": [
    "e, v = np.linalg.eigh(H)\n",
    "es, vs = np.linalg.eigh(H_u_s)\n",
    "eu, vu = np.linalg.eigh(H_u)"
   ]
  },
  {
   "cell_type": "code",
   "execution_count": 64,
   "id": "0d5bd160",
   "metadata": {},
   "outputs": [
    {
     "name": "stdout",
     "output_type": "stream",
     "text": [
      "e0 :  -2.6666666666666665\n",
      "e[0], es[0], eu[0] :  -2.6666666742355103 -2.6666666742355076 -2.6666666742355063\n"
     ]
    }
   ],
   "source": [
    "print(\"e0 : \", e0)\n",
    "print(\"e[0], es[0], eu[0] : \", e[0], es[0], eu[0])"
   ]
  },
  {
   "cell_type": "code",
   "execution_count": 65,
   "id": "77640430",
   "metadata": {},
   "outputs": [],
   "source": [
    "v0 = v[:,0]\n",
    "vs0 = vs[:,0]\n",
    "vu0 = vu[:,0]"
   ]
  },
  {
   "cell_type": "code",
   "execution_count": 66,
   "id": "b4142c19",
   "metadata": {},
   "outputs": [
    {
     "data": {
      "text/plain": [
       "(-2.6666666742355103, -2.6666666742355076)"
      ]
     },
     "execution_count": 66,
     "metadata": {},
     "output_type": "execute_result"
    }
   ],
   "source": [
    "e[0], es[0]"
   ]
  },
  {
   "cell_type": "code",
   "execution_count": 67,
   "id": "24e75ce0",
   "metadata": {},
   "outputs": [
    {
     "data": {
      "text/plain": [
       "-2.6666666742355054"
      ]
     },
     "execution_count": 67,
     "metadata": {},
     "output_type": "execute_result"
    }
   ],
   "source": [
    "vs0_a = np.abs(vs0)\n",
    "vs0_a @ H_u_s @ vs0_a"
   ]
  },
  {
   "cell_type": "code",
   "execution_count": 68,
   "id": "6ff20f0a",
   "metadata": {},
   "outputs": [
    {
     "data": {
      "text/plain": [
       "array([-2.66666667, -2.66666667, -2.66666667, -2.66666666, -1.0971676 ,\n",
       "       -1.09716751, -0.66666673, -0.66666673, -0.6666666 , -0.25170115,\n",
       "       -0.25170115, -0.25170111, -0.25170111, -0.25170111, -0.25170111,\n",
       "        0.17863275,  0.17863275,  0.17863275,  0.17863275,  0.17863275,\n",
       "        0.17863275,  0.66666659,  0.66666659,  0.6666666 ,  0.66666669,\n",
       "        1.33333316,  1.33333317,  1.33333317,  1.33333317,  1.33333317,\n",
       "        1.33333321,  1.33333321,  1.33333333,  1.33333333,  1.33333333,\n",
       "        1.33333333,  1.33333333,  1.33333334,  1.33333334,  1.33333335,\n",
       "        1.33333335,  1.88862974,  1.88862974,  1.88862984,  1.88862984,\n",
       "        1.88862984,  1.88862984,  1.99999991,  2.43050073,  2.43050082,\n",
       "        2.48803377,  2.48803377,  2.4880338 ,  2.4880338 ,  2.4880338 ,\n",
       "        2.4880338 ,  2.66666657,  2.66666657,  2.66666659,  2.66666659,\n",
       "        2.66666659,  3.33333324,  3.33333324,  3.99999983,  3.99999983,\n",
       "        3.99999988,  3.99999988,  3.99999991,  4.00000002,  4.36307107,\n",
       "        4.36307107,  4.36307107,  4.36307107,  4.36307115,  4.36307115,\n",
       "        5.33333294,  5.33333294,  5.33333328,  5.33333333,  5.33333333,\n",
       "        5.33333339])"
      ]
     },
     "execution_count": 68,
     "metadata": {},
     "output_type": "execute_result"
    }
   ],
   "source": [
    "es"
   ]
  },
  {
   "cell_type": "code",
   "execution_count": 69,
   "id": "396f5f08",
   "metadata": {},
   "outputs": [
    {
     "name": "stdout",
     "output_type": "stream",
     "text": [
      "abs of rho must be rho_sa 2.816998853304935e-08\n"
     ]
    }
   ],
   "source": [
    "print(\"abs of rho must be rho_sa\",np.linalg.norm(np.abs(vu0) - vs0_a))"
   ]
  },
  {
   "cell_type": "code",
   "execution_count": 70,
   "id": "16e53c4e",
   "metadata": {},
   "outputs": [],
   "source": [
    "rho = vu0[:, None] @ vu0[None, :]\n",
    "rho_sa = vs0_a[:,None] @ vs0_a[None,:]"
   ]
  },
  {
   "cell_type": "code",
   "execution_count": 71,
   "id": "4b14ed5c",
   "metadata": {},
   "outputs": [
    {
     "name": "stdout",
     "output_type": "stream",
     "text": [
      "abs of rho must be rho_sa 3.9838379835332935e-08\n"
     ]
    }
   ],
   "source": [
    "print(\"abs of rho must be rho_sa\",np.linalg.norm(np.abs(rho) - rho_sa))"
   ]
  },
  {
   "cell_type": "markdown",
   "id": "573d1661",
   "metadata": {},
   "source": [
    "### Abs of partial rho must be prho_abs"
   ]
  },
  {
   "cell_type": "code",
   "execution_count": 72,
   "id": "700a6bed",
   "metadata": {},
   "outputs": [],
   "source": [
    "rho_ = rho.reshape(9, 3**(L-2), 9, 3**(L-2))\n",
    "prho = np.einsum(\"jiki->jk\", rho_)\n",
    "rho_sa_ = rho_sa.reshape(9, 3**(L-2), 9, 3**(L-2))\n",
    "prho_sa = np.einsum(\"jiki->jk\", rho_sa_)"
   ]
  },
  {
   "cell_type": "code",
   "execution_count": 73,
   "id": "c0bc673f",
   "metadata": {},
   "outputs": [
    {
     "name": "stdout",
     "output_type": "stream",
     "text": [
      "abs of prho must be pro_sa 2.843700879150999e-08\n"
     ]
    }
   ],
   "source": [
    "print(\"abs of prho must be pro_sa\",np.linalg.norm(np.abs(prho) - prho_sa))"
   ]
  },
  {
   "cell_type": "code",
   "execution_count": 74,
   "id": "b95e285f",
   "metadata": {},
   "outputs": [],
   "source": [
    "S = np.sign(prho)"
   ]
  },
  {
   "cell_type": "code",
   "execution_count": 75,
   "id": "dcefd5e3",
   "metadata": {},
   "outputs": [
    {
     "data": {
      "text/plain": [
       "array([[ 1., -1.,  1.,  1., -1.,  1., -1., -1.,  1.],\n",
       "       [-1.,  1.,  1., -1.,  1.,  1., -1., -1., -1.],\n",
       "       [ 1.,  1.,  1., -1.,  1.,  1., -1.,  1., -1.],\n",
       "       [ 1., -1., -1.,  1., -1., -1., -1., -1.,  1.],\n",
       "       [-1.,  1.,  1., -1.,  1., -1., -1.,  1., -1.],\n",
       "       [ 1.,  1.,  1., -1., -1.,  1., -1., -1.,  1.],\n",
       "       [-1., -1., -1., -1., -1., -1.,  1., -1.,  1.],\n",
       "       [-1., -1.,  1., -1.,  1., -1., -1.,  1., -1.],\n",
       "       [ 1., -1., -1.,  1., -1.,  1.,  1., -1.,  1.]])"
      ]
     },
     "execution_count": 75,
     "metadata": {},
     "output_type": "execute_result"
    }
   ],
   "source": [
    "S"
   ]
  },
  {
   "cell_type": "code",
   "execution_count": 77,
   "id": "b50a7161",
   "metadata": {},
   "outputs": [
    {
     "data": {
      "text/plain": [
       "array([[ 0.14285714, -0.        ,  0.        ,  0.        , -0.14285715,\n",
       "         0.        , -0.        , -0.        ,  0.14285714],\n",
       "       [-0.        ,  0.0952381 ,  0.        , -0.0952381 ,  0.        ,\n",
       "         0.        , -0.        , -0.        , -0.        ],\n",
       "       [ 0.        ,  0.        ,  0.09523809, -0.        ,  0.        ,\n",
       "         0.        , -0.09523809,  0.        , -0.        ],\n",
       "       [ 0.        , -0.0952381 , -0.        ,  0.0952381 , -0.        ,\n",
       "        -0.        , -0.        , -0.        ,  0.        ],\n",
       "       [-0.14285715,  0.        ,  0.        , -0.        ,  0.14285715,\n",
       "        -0.        , -0.        ,  0.        , -0.14285715],\n",
       "       [ 0.        ,  0.        ,  0.        , -0.        , -0.        ,\n",
       "         0.0952381 , -0.        , -0.0952381 ,  0.        ],\n",
       "       [-0.        , -0.        , -0.09523809, -0.        , -0.        ,\n",
       "        -0.        ,  0.09523809, -0.        ,  0.        ],\n",
       "       [-0.        , -0.        ,  0.        , -0.        ,  0.        ,\n",
       "        -0.0952381 , -0.        ,  0.0952381 , -0.        ],\n",
       "       [ 0.14285714, -0.        , -0.        ,  0.        , -0.14285715,\n",
       "         0.        ,  0.        , -0.        ,  0.14285714]])"
      ]
     },
     "execution_count": 77,
     "metadata": {},
     "output_type": "execute_result"
    }
   ],
   "source": [
    "np.round(prho,8)"
   ]
  },
  {
   "cell_type": "code",
   "execution_count": null,
   "id": "c5c3edbe",
   "metadata": {},
   "outputs": [],
   "source": []
  }
 ],
 "metadata": {
  "kernelspec": {
   "display_name": "Python 3 (ipykernel)",
   "language": "python",
   "name": "python3"
  },
  "language_info": {
   "codemirror_mode": {
    "name": "ipython",
    "version": 3
   },
   "file_extension": ".py",
   "mimetype": "text/x-python",
   "name": "python",
   "nbconvert_exporter": "python",
   "pygments_lexer": "ipython3",
   "version": "3.9.18"
  }
 },
 "nbformat": 4,
 "nbformat_minor": 5
}
