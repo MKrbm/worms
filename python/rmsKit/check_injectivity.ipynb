{
 "cells": [
  {
   "cell_type": "code",
   "execution_count": 1,
   "id": "f30e57ff",
   "metadata": {},
   "outputs": [],
   "source": [
    "import tensornetwork as tn\n",
    "import numpy as np"
   ]
  },
  {
   "cell_type": "code",
   "execution_count": 2,
   "id": "fa9f9baa",
   "metadata": {},
   "outputs": [],
   "source": [
    "def block1D(*dimensions, normal = True):\n",
    "    \"\"\"Construct a new matrix for the MPS with random numbers from 0 to 1\"\"\"\n",
    "    size = tuple([x for x in dimensions])\n",
    "    if normal:\n",
    "        A = np.random.normal(size=size)\n",
    "    else:\n",
    "        A = np.random.random_sample(size)\n",
    "    A = (A.transpose(2, 1, 0) + A) / 2\n",
    "    return A\n",
    "\n",
    "\n",
    "\n",
    "\n",
    "def create_MPS(n, A):\n",
    "    \"\"\"Build the MPS tensor\"\"\"\n",
    "    mps = [tn.Node(np.copy(A)) for _ in range(n)]\n",
    "    # connect edges to build mps\n",
    "    connected_edges = []\n",
    "    for k in range(0, n):\n",
    "        conn = mps[k][2] ^ mps[(k + 1) % n][0]\n",
    "        connected_edges.append(conn)\n",
    "    return mps, connected_edges\n"
   ]
  },
  {
   "cell_type": "markdown",
   "id": "2663b2a1",
   "metadata": {},
   "source": [
    "# Check injectivity with random matrix"
   ]
  },
  {
   "cell_type": "code",
   "execution_count": 6,
   "id": "04eb7395",
   "metadata": {},
   "outputs": [],
   "source": [
    "bond_dim = 2\n",
    "sps = 4\n",
    "A = block1D(bond_dim, sps, bond_dim)"
   ]
  },
  {
   "cell_type": "code",
   "execution_count": 7,
   "id": "17a8142d",
   "metadata": {},
   "outputs": [],
   "source": [
    "A_ = A.transpose(1,0,2)\n",
    "B = A_.reshape(sps,bond_dim**2)"
   ]
  },
  {
   "cell_type": "code",
   "execution_count": 8,
   "id": "11de4fd4",
   "metadata": {},
   "outputs": [
    {
     "name": "stdout",
     "output_type": "stream",
     "text": [
      "Injective ?  False\n"
     ]
    }
   ],
   "source": [
    "U, S, V = np.linalg.svd(B)\n",
    "print(\"Injective ? \",  np.sum(np.abs(S) > 1E-10) == bond_dim**2)"
   ]
  },
  {
   "cell_type": "markdown",
   "id": "31a6e1e2",
   "metadata": {},
   "source": [
    "### SIngle matrix cannot be injective for this sps and bd case\n",
    "But when we use blocked matrix with l = 2, it achieve injectivity. (Injective length is 2)"
   ]
  },
  {
   "cell_type": "code",
   "execution_count": 9,
   "id": "7e43b082",
   "metadata": {
    "scrolled": true
   },
   "outputs": [
    {
     "name": "stdout",
     "output_type": "stream",
     "text": [
      "Injective ?  True\n"
     ]
    }
   ],
   "source": [
    "A2 = np.einsum(\"ijk,klm->jlim\",A,A)\n",
    "A2_ = A2.reshape(sps**2, bond_dim**2)\n",
    "U, S, V = np.linalg.svd(A2_)\n",
    "print(\"Injective ? \",  np.sum(np.abs(S) > 1E-10) == bond_dim**2)"
   ]
  },
  {
   "cell_type": "markdown",
   "id": "e6fefe25",
   "metadata": {},
   "source": [
    "### Check kernel of reduced density matrix is same as kernel of bocked matrix with l = 2"
   ]
  },
  {
   "cell_type": "markdown",
   "id": "9f0550de",
   "metadata": {},
   "source": [
    "calculate MPS"
   ]
  },
  {
   "cell_type": "code",
   "execution_count": 10,
   "id": "6949572c",
   "metadata": {},
   "outputs": [],
   "source": [
    "mps_nodes, mps_edges = create_MPS(6, A)\n",
    "for k in range(len(mps_edges)):\n",
    "    C = tn.contract(mps_edges[k])\n",
    "y = C.tensor.reshape(sps**2, -1)\n",
    "rho = y @ y.T\n",
    "E, V = np.linalg.eigh(rho)\n",
    "Vp = V[:, (np.abs(E) < 1E-10)]\n",
    "P = Vp @ Vp.T"
   ]
  },
  {
   "cell_type": "markdown",
   "id": "11a7020c",
   "metadata": {},
   "source": [
    "calculate with A2"
   ]
  },
  {
   "cell_type": "code",
   "execution_count": 11,
   "id": "438bc8e3",
   "metadata": {},
   "outputs": [],
   "source": [
    "U, s, V = np.linalg.svd(A2_)\n",
    "Up = U[:, len(s):]\n",
    "Up2 = U[:, :len(s)]\n",
    "h = Up @ Up.T\n",
    "h2 = Up2 @ Up2.T"
   ]
  },
  {
   "cell_type": "code",
   "execution_count": 12,
   "id": "7e164c92",
   "metadata": {},
   "outputs": [
    {
     "name": "stdout",
     "output_type": "stream",
     "text": [
      "two projector are the same? :  5.315654982393576e-15\n"
     ]
    }
   ],
   "source": [
    "print(\"two projector are the same? : \",np.linalg.norm(h - P))"
   ]
  },
  {
   "cell_type": "markdown",
   "id": "12395cf2",
   "metadata": {},
   "source": [
    "This means we can use both kernel to construct ff model."
   ]
  },
  {
   "cell_type": "code",
   "execution_count": 13,
   "id": "3499a569",
   "metadata": {},
   "outputs": [
    {
     "name": "stdout",
     "output_type": "stream",
     "text": [
      "absolute of reduced matrix is same as reduce matrix of absolute state? :  False\n"
     ]
    }
   ],
   "source": [
    "ya = np.abs(y)\n",
    "rho = y @ y.T\n",
    "rho_a = ya @ ya.T\n",
    "print(\"absolute of reduced matrix is same as reduce matrix of absolute state? : \", np.all(np.abs(rho) == rho_a))"
   ]
  },
  {
   "cell_type": "markdown",
   "id": "5aa1dd8f",
   "metadata": {},
   "source": [
    "## AKLT"
   ]
  },
  {
   "cell_type": "code",
   "execution_count": 14,
   "id": "5ac82439",
   "metadata": {},
   "outputs": [],
   "source": []
  },
  {
   "cell_type": "code",
   "execution_count": 15,
   "id": "f21d2f4c",
   "metadata": {},
   "outputs": [],
   "source": [
    "A = np.zeros((3, 2, 2))\n",
    "A[0][1,0] = -1/np.sqrt(2)\n",
    "A[2][0,1] = 1/np.sqrt(2)\n",
    "A[1][0,0] = 1/2\n",
    "A[1][1,1] = -1/2\n",
    "A_ = A.transpose(1, 0, 2)"
   ]
  },
  {
   "cell_type": "code",
   "execution_count": 16,
   "id": "f4c1741f",
   "metadata": {},
   "outputs": [
    {
     "name": "stdout",
     "output_type": "stream",
     "text": [
      "Injective ?  False\n"
     ]
    }
   ],
   "source": [
    "AKLT_B = A.reshape(3, 4)\n",
    "U, S, V = np.linalg.svd(AKLT_B)\n",
    "print(\"Injective ? \",  np.sum(np.abs(S) > 1E-10) == 2**2)"
   ]
  },
  {
   "cell_type": "code",
   "execution_count": 17,
   "id": "66efccd9",
   "metadata": {},
   "outputs": [],
   "source": [
    "mps_nodes, mps_edges = create_MPS(6, A_)\n",
    "for k in range(len(mps_edges)):\n",
    "    C = tn.contract(mps_edges[k])\n",
    "y = C.tensor.reshape((3,) * 6)\n",
    "ya = np.abs(y)\n",
    "rho = y @ y.T\n",
    "rho_a = ya @ ya.T"
   ]
  },
  {
   "cell_type": "code",
   "execution_count": 18,
   "id": "e22439da",
   "metadata": {},
   "outputs": [
    {
     "name": "stdout",
     "output_type": "stream",
     "text": [
      "absolute of reduced matrix is same as reduce matrix of absolute state? :  True\n"
     ]
    }
   ],
   "source": [
    "print(\"absolute of reduced matrix is same as reduce matrix of absolute state? : \", np.all(np.abs(rho) == rho_a))"
   ]
  },
  {
   "cell_type": "markdown",
   "id": "cb18dc99",
   "metadata": {},
   "source": [
    "## Test concept for seed = 0"
   ]
  },
  {
   "cell_type": "code",
   "execution_count": 85,
   "id": "52cf99b3",
   "metadata": {},
   "outputs": [],
   "source": [
    "import numpy as np\n",
    "import random\n",
    "import utils\n",
    "np.random.seed(0)\n",
    "random.seed(0)\n",
    "path = \"array/torch/FF1D_loc/s_3_r_2_lt_1_d_1_seed_0/original_mel_LION/lr_0.005_epoch_20000/\"\n",
    "h = np.load(path + \"H/0.npy\")\n",
    "u = np.load(path + \"loss_0.17387/u/0.npy\")\n",
    "A = block1D(2,3,2)"
   ]
  },
  {
   "cell_type": "code",
   "execution_count": 86,
   "id": "e0ba57ac",
   "metadata": {},
   "outputs": [],
   "source": [
    "sps = 3\n",
    "mps_nodes, mps_edges = create_MPS(6, A)\n",
    "for k in range(len(mps_edges)):\n",
    "    C = tn.contract(mps_edges[k])\n",
    "y = C.tensor.reshape(sps**2, -1)\n",
    "y /= np.linalg.norm(y)\n",
    "x = y.reshape(-1)"
   ]
  },
  {
   "cell_type": "code",
   "execution_count": 87,
   "id": "ce0bbecb",
   "metadata": {},
   "outputs": [],
   "source": [
    "L = 6\n",
    "U = np.kron(u,u)\n",
    "H = -utils.sum_ham(h, [[i, (i+1)%L] for i in range(L)], L, 3)\n",
    "HU = -utils.sum_ham(U @ h @ U.T, [[i, (i+1)%L] for i in range(L)], L, 3)"
   ]
  },
  {
   "cell_type": "code",
   "execution_count": 88,
   "id": "23a3fad2",
   "metadata": {},
   "outputs": [
    {
     "name": "stdout",
     "output_type": "stream",
     "text": [
      "check if MPS is gs of H 5.575987107248906e-18\n"
     ]
    }
   ],
   "source": [
    "print(\"check if MPS is gs of H\",x @ H @ x)"
   ]
  },
  {
   "cell_type": "code",
   "execution_count": 89,
   "id": "656c9e67",
   "metadata": {},
   "outputs": [
    {
     "name": "stdout",
     "output_type": "stream",
     "text": [
      "absolute of reduced matrix is same as reduce matrix of absolute state? :  False\n"
     ]
    }
   ],
   "source": [
    "ya = np.abs(y)\n",
    "rho_a = ya @ ya.T\n",
    "rho = y @ y.T\n",
    "print(\"absolute of reduced matrix is same as reduce matrix of absolute state? : \", np.all(np.abs(rho) == rho_a))"
   ]
  },
  {
   "cell_type": "code",
   "execution_count": 90,
   "id": "2254840c",
   "metadata": {},
   "outputs": [
    {
     "name": "stdout",
     "output_type": "stream",
     "text": [
      "[-0.83925147 -0.13908918 -0.09866087 -0.09866087]\n",
      "[6.60797479e-16 1.44099473e-02 4.75701599e-02 9.52892885e-02]\n",
      "system energy < local energy * L : True\n"
     ]
    }
   ],
   "source": [
    "EU, VU = np.linalg.eigh(HU)\n",
    "EUA, VUA = np.linalg.eigh(utils.stoquastic(HU))\n",
    "eua, vua = np.linalg.eigh(utils.stoquastic(-U @ h @ U.T))\n",
    "print(EUA[:4])\n",
    "print(EU[:4])\n",
    "print(\"system energy < local energy * L :\",np.abs(EUA[0]) < np.abs(eua[0] * L))"
   ]
  },
  {
   "cell_type": "code",
   "execution_count": 53,
   "id": "cef5e2b0",
   "metadata": {},
   "outputs": [
    {
     "name": "stdout",
     "output_type": "stream",
     "text": [
      "[-1.21061520e-16 -5.85601514e-17  2.40630362e-17  1.55558635e-16\n",
      "  1.00000000e+00  1.00000000e+00  1.00000000e+00  1.00000000e+00\n",
      "  1.00000000e+00]\n",
      "[-0.1738801   0.02115874  0.03146863  0.15053682  0.95557734  0.97187827\n",
      "  0.99080875  1.02395328  1.02849826]\n"
     ]
    }
   ],
   "source": [
    "print(np.linalg.eigvalsh(-h)[:10])\n",
    "print(np.linalg.eigvalsh(utils.stoquastic(-U @ h @ U.T))[:10])"
   ]
  },
  {
   "cell_type": "code",
   "execution_count": 60,
   "id": "6303b117",
   "metadata": {
    "scrolled": true
   },
   "outputs": [
    {
     "name": "stdout",
     "output_type": "stream",
     "text": [
      "similarity between abs gs and original gs 0.8214617847419597\n"
     ]
    }
   ],
   "source": [
    "print(\"similarity between abs gs and original gs\",np.abs(VU[:,0]) @ VUA[:,0])"
   ]
  },
  {
   "cell_type": "markdown",
   "id": "c991d029",
   "metadata": {},
   "source": [
    "## Test concept for seed = 1"
   ]
  },
  {
   "cell_type": "code",
   "execution_count": 105,
   "id": "5137b44f",
   "metadata": {},
   "outputs": [],
   "source": [
    "np.random.seed(1)\n",
    "random.seed(1)\n",
    "path = \"array/torch/FF1D_loc/s_3_r_2_lt_1_d_1_seed_1/original_mel_LION/lr_0.005_epoch_20000/\"\n",
    "h = np.load(path + \"H/0.npy\")\n",
    "u = np.load(path + \"loss_0.00000/u/0.npy\")\n",
    "A = block1D(2,3,2)"
   ]
  },
  {
   "cell_type": "code",
   "execution_count": 106,
   "id": "52b80c8d",
   "metadata": {},
   "outputs": [],
   "source": [
    "sps = 3\n",
    "mps_nodes, mps_edges = create_MPS(6, A)\n",
    "for k in range(len(mps_edges)):\n",
    "    C = tn.contract(mps_edges[k])\n",
    "y = C.tensor.reshape(sps**2, -1)\n",
    "y /= np.linalg.norm(y)\n",
    "x = y.reshape(-1)"
   ]
  },
  {
   "cell_type": "code",
   "execution_count": 107,
   "id": "d74d5586",
   "metadata": {},
   "outputs": [],
   "source": [
    "L = 6\n",
    "U = np.kron(u,u)\n",
    "H = -utils.sum_ham(h, [[i, (i+1)%L] for i in range(L)], L, 3)\n",
    "HU = -utils.sum_ham(U @ h @ U.T, [[i, (i+1)%L] for i in range(L)], L, 3)"
   ]
  },
  {
   "cell_type": "code",
   "execution_count": 108,
   "id": "d6f02612",
   "metadata": {},
   "outputs": [
    {
     "name": "stdout",
     "output_type": "stream",
     "text": [
      "check if MPS is gs of H 1.1414333081516405e-16\n"
     ]
    }
   ],
   "source": [
    "print(\"check if MPS is gs of H\",x @ H @ x)"
   ]
  },
  {
   "cell_type": "code",
   "execution_count": 109,
   "id": "5313c0ef",
   "metadata": {},
   "outputs": [
    {
     "name": "stdout",
     "output_type": "stream",
     "text": [
      "absolute of reduced matrix is same as reduce matrix of absolute state? :  False\n"
     ]
    }
   ],
   "source": [
    "ya = np.abs(y)\n",
    "rho_a = ya @ ya.T\n",
    "rho = y @ y.T\n",
    "print(\"absolute of reduced matrix is same as reduce matrix of absolute state? : \", np.all(np.abs(rho) == rho_a))"
   ]
  },
  {
   "cell_type": "code",
   "execution_count": 110,
   "id": "1f1f06a1",
   "metadata": {},
   "outputs": [
    {
     "name": "stdout",
     "output_type": "stream",
     "text": [
      "[-7.22298599e-06 -2.03072481e-06 -1.73025351e-06 -8.12094903e-07]\n",
      "[-3.66817746e-15  3.80808374e-08  4.31880625e-08  6.29862947e-08]\n",
      "system energy < local energy * L : True\n"
     ]
    }
   ],
   "source": [
    "EU, VU = np.linalg.eigh(HU)\n",
    "EUA, VUA = np.linalg.eigh(utils.stoquastic(HU))\n",
    "eua, vua = np.linalg.eigh(utils.stoquastic(-U @ h @ U.T))\n",
    "print(EUA[:4])\n",
    "print(EU[:4])\n",
    "print(\"system energy < local energy * L :\",np.abs(EUA[0]) < np.abs(eua[0] * L))"
   ]
  },
  {
   "cell_type": "code",
   "execution_count": 111,
   "id": "e3fc2dad",
   "metadata": {},
   "outputs": [
    {
     "name": "stdout",
     "output_type": "stream",
     "text": [
      "[-1.28693374e-16 -3.61496388e-17  1.24668866e-17  2.13632818e-16\n",
      "  1.00000000e+00  1.00000000e+00  1.00000000e+00  1.00000000e+00\n",
      "  1.00000000e+00]\n",
      "[-1.41069773e-06  2.59445219e-09  2.01728866e-07  1.20637616e-06\n",
      "  9.99999957e-01  1.00000000e+00  1.00000000e+00  1.00000000e+00\n",
      "  1.00000004e+00]\n",
      "[-2.15712124e-17 -1.69051265e-17  4.04807782e-17  1.13307289e-16\n",
      "  1.00000000e+00  1.00000000e+00  1.00000000e+00  1.00000000e+00\n",
      "  1.00000000e+00]\n"
     ]
    }
   ],
   "source": [
    "print(np.linalg.eigvalsh(-h)[:10])\n",
    "print(np.linalg.eigvalsh(utils.stoquastic(-U @ h @ U.T))[:10])\n",
    "print(np.linalg.eigvalsh(-U @ h @ U.T)[:10])"
   ]
  },
  {
   "cell_type": "code",
   "execution_count": 112,
   "id": "dc347cd1",
   "metadata": {
    "scrolled": true
   },
   "outputs": [
    {
     "name": "stdout",
     "output_type": "stream",
     "text": [
      "similarity between abs gs and original gs -0.7489758709633559\n"
     ]
    }
   ],
   "source": [
    "print(\"similarity between abs gs and original gs\",np.abs(VU[:,0]) @ VUA[:,0])"
   ]
  },
  {
   "cell_type": "code",
   "execution_count": 113,
   "id": "3c917e41",
   "metadata": {},
   "outputs": [
    {
     "data": {
      "text/plain": [
       "array([[[ 1.62434536,  0.56652768],\n",
       "        [-0.52817175, -0.37696476],\n",
       "        [ 0.86540763, -0.41971538]],\n",
       "\n",
       "       [[ 0.56652768, -0.7612069 ],\n",
       "        [-0.37696476, -0.24937038],\n",
       "        [-0.41971538, -2.06014071]]])"
      ]
     },
     "execution_count": 113,
     "metadata": {},
     "output_type": "execute_result"
    }
   ],
   "source": [
    "A"
   ]
  },
  {
   "cell_type": "markdown",
   "id": "99e53a43",
   "metadata": {},
   "source": [
    "## Test concept for seed = 2"
   ]
  },
  {
   "cell_type": "code",
   "execution_count": 92,
   "id": "6d41aa22",
   "metadata": {},
   "outputs": [],
   "source": [
    "np.random.seed(2)\n",
    "random.seed(2)\n",
    "path = \"array/torch/FF1D_loc/s_3_r_2_lt_1_d_1_seed_2/original_mel_LION/lr_0.005_epoch_20000/\"\n",
    "h = np.load(path + \"H/0.npy\")\n",
    "u = np.load(path + \"loss_0.00003/u/0.npy\")\n",
    "A = block1D(2,3,2)"
   ]
  },
  {
   "cell_type": "code",
   "execution_count": 93,
   "id": "42d38abc",
   "metadata": {},
   "outputs": [],
   "source": [
    "sps = 3\n",
    "mps_nodes, mps_edges = create_MPS(6, A)\n",
    "for k in range(len(mps_edges)):\n",
    "    C = tn.contract(mps_edges[k])\n",
    "y = C.tensor.reshape(sps**2, -1)\n",
    "y /= np.linalg.norm(y)\n",
    "x = y.reshape(-1)"
   ]
  },
  {
   "cell_type": "code",
   "execution_count": 94,
   "id": "ddeb8527",
   "metadata": {},
   "outputs": [],
   "source": [
    "L = 6\n",
    "U = np.kron(u,u)\n",
    "H = -utils.sum_ham(h, [[i, (i+1)%L] for i in range(L)], L, 3)\n",
    "HU = -utils.sum_ham(U @ h @ U.T, [[i, (i+1)%L] for i in range(L)], L, 3)"
   ]
  },
  {
   "cell_type": "code",
   "execution_count": 95,
   "id": "2d861df3",
   "metadata": {},
   "outputs": [
    {
     "name": "stdout",
     "output_type": "stream",
     "text": [
      "check if MPS is gs of H -1.7024966217198452e-17\n"
     ]
    }
   ],
   "source": [
    "print(\"check if MPS is gs of H\",x @ H @ x)"
   ]
  },
  {
   "cell_type": "code",
   "execution_count": 96,
   "id": "58d8b9e4",
   "metadata": {},
   "outputs": [
    {
     "name": "stdout",
     "output_type": "stream",
     "text": [
      "absolute of reduced matrix is same as reduce matrix of absolute state? :  False\n"
     ]
    }
   ],
   "source": [
    "ya = np.abs(y)\n",
    "rho_a = ya @ ya.T\n",
    "rho = y @ y.T\n",
    "print(\"absolute of reduced matrix is same as reduce matrix of absolute state? : \", np.all(np.abs(rho) == rho_a))"
   ]
  },
  {
   "cell_type": "code",
   "execution_count": 101,
   "id": "a4d6d213",
   "metadata": {},
   "outputs": [
    {
     "name": "stdout",
     "output_type": "stream",
     "text": [
      "[-1.25554735e-04 -3.53733998e-06  1.20532536e-05  1.87710922e-05]\n",
      "[-3.97531403e-16  3.08889596e-08  1.91522648e-06  6.87843956e-06]\n",
      "system energy < local energy * L : True\n"
     ]
    }
   ],
   "source": [
    "EU, VU = np.linalg.eigh(HU)\n",
    "EUA, VUA = np.linalg.eigh(utils.stoquastic(HU))\n",
    "eua, vua = np.linalg.eigh(utils.stoquastic(-U @ h @ U.T))\n",
    "print(EUA[:4])\n",
    "print(EU[:4])\n",
    "print(\"system energy < local energy * L :\",np.abs(EUA[0]) < np.abs(eua[0] * L))"
   ]
  },
  {
   "cell_type": "code",
   "execution_count": 102,
   "id": "e2304482",
   "metadata": {},
   "outputs": [
    {
     "name": "stdout",
     "output_type": "stream",
     "text": [
      "[-1.58570710e-16 -5.24109144e-18  1.57484442e-16  2.28371965e-16\n",
      "  1.00000000e+00  1.00000000e+00  1.00000000e+00  1.00000000e+00\n",
      "  1.00000000e+00]\n",
      "[-2.53382271e-05  1.02204863e-06  4.29662871e-06  2.00200875e-05\n",
      "  9.99998110e-01  9.99998268e-01  1.00000000e+00  1.00000172e+00\n",
      "  1.00000190e+00]\n",
      "[-2.27460895e-16 -4.32496448e-17  3.01862446e-18  4.56473109e-17\n",
      "  1.00000000e+00  1.00000000e+00  1.00000000e+00  1.00000000e+00\n",
      "  1.00000000e+00]\n"
     ]
    }
   ],
   "source": [
    "print(np.linalg.eigvalsh(-h)[:10])\n",
    "print(np.linalg.eigvalsh(utils.stoquastic(-U @ h @ U.T))[:10])\n",
    "print(np.linalg.eigvalsh(-U @ h @ U.T)[:10])"
   ]
  },
  {
   "cell_type": "code",
   "execution_count": 103,
   "id": "31d12d72",
   "metadata": {
    "scrolled": true
   },
   "outputs": [
    {
     "name": "stdout",
     "output_type": "stream",
     "text": [
      "similarity between abs gs and original gs -0.7342053037197074\n"
     ]
    }
   ],
   "source": [
    "print(\"similarity between abs gs and original gs\",np.abs(VU[:,0]) @ VUA[:,0])"
   ]
  },
  {
   "cell_type": "code",
   "execution_count": 104,
   "id": "09e66c71",
   "metadata": {},
   "outputs": [
    {
     "data": {
      "text/plain": [
       "array([[[-0.41675785,  0.22330729],\n",
       "        [-2.1361961 ,  0.29115929],\n",
       "        [-1.79343559, -0.14514666]],\n",
       "\n",
       "       [[ 0.22330729, -1.24528809],\n",
       "        [ 0.29115929, -0.90900761],\n",
       "        [-0.14514666,  2.29220801]]])"
      ]
     },
     "execution_count": 104,
     "metadata": {},
     "output_type": "execute_result"
    }
   ],
   "source": [
    "A"
   ]
  },
  {
   "cell_type": "markdown",
   "id": "f861cac2",
   "metadata": {},
   "source": [
    "## seed 3"
   ]
  },
  {
   "cell_type": "code",
   "execution_count": 115,
   "id": "a8ff518b",
   "metadata": {},
   "outputs": [],
   "source": [
    "np.random.seed(3)\n",
    "random.seed(3)\n",
    "path = \"array/torch/FF1D_loc/s_3_r_2_lt_1_d_1_seed_3/original_mel_LION/lr_0.005_epoch_20000/\"\n",
    "h = np.load(path + \"H/0.npy\")\n",
    "u = np.load(path + \"loss_0.26422/u/0.npy\")"
   ]
  },
  {
   "cell_type": "code",
   "execution_count": 116,
   "id": "f4b63e0b",
   "metadata": {},
   "outputs": [],
   "source": [
    "L = 6\n",
    "U = np.kron(u,u)\n",
    "H = -utils.sum_ham(h, [[i, (i+1)%L] for i in range(L)], L, 3)\n",
    "HU = -utils.sum_ham(U @ h @ U.T, [[i, (i+1)%L] for i in range(L)], L, 3)"
   ]
  },
  {
   "cell_type": "code",
   "execution_count": 118,
   "id": "81acc2ff",
   "metadata": {},
   "outputs": [
    {
     "name": "stdout",
     "output_type": "stream",
     "text": [
      "[-1.24706448 -0.38915866 -0.21792774 -0.21792774]\n",
      "[3.79624928e-15 2.24246573e-02 1.08197562e-01 1.89560221e-01]\n",
      "[-4.11276158e-17  2.67788601e-17  8.29393041e-17  1.35228564e-16]\n",
      "[-0.26423722  0.02156496  0.06297436  0.25055308]\n",
      "system energy < local energy * L : True\n"
     ]
    }
   ],
   "source": [
    "EU, VU = np.linalg.eigh(HU)\n",
    "EUA, VUA = np.linalg.eigh(utils.stoquastic(HU))\n",
    "eua, vua = np.linalg.eigh(utils.stoquastic(-U @ h @ U.T))\n",
    "print(EUA[:4])\n",
    "print(EU[:4])\n",
    "print(np.linalg.eigvalsh(-h)[:4])\n",
    "print(np.linalg.eigvalsh(utils.stoquastic(-U @ h @ U.T))[:4])\n",
    "print(\"system energy < local energy * L :\",np.abs(EUA[0]) < np.abs(eua[0] * L))"
   ]
  },
  {
   "cell_type": "code",
   "execution_count": null,
   "id": "01ca68e8",
   "metadata": {},
   "outputs": [],
   "source": []
  }
 ],
 "metadata": {
  "kernelspec": {
   "display_name": "Python 3 (ipykernel)",
   "language": "python",
   "name": "python3"
  },
  "language_info": {
   "codemirror_mode": {
    "name": "ipython",
    "version": 3
   },
   "file_extension": ".py",
   "mimetype": "text/x-python",
   "name": "python",
   "nbconvert_exporter": "python",
   "pygments_lexer": "ipython3",
   "version": "3.9.18"
  }
 },
 "nbformat": 4,
 "nbformat_minor": 5
}
