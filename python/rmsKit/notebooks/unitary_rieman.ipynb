{
 "cells": [
  {
   "cell_type": "code",
   "execution_count": 39,
   "metadata": {},
   "outputs": [],
   "source": [
    "import torch\n",
    "import torch.optim as optim\n",
    "import sys\n",
    "sys.path.append(\"../\")\n",
    "from rms_torch import functions as torch_func\n",
    "\n"
   ]
  },
  {
   "cell_type": "code",
   "execution_count": 40,
   "metadata": {},
   "outputs": [],
   "source": [
    "device = torch.device(\"cuda\" if torch.cuda.is_available() else \"cpu\")"
   ]
  },
  {
   "cell_type": "code",
   "execution_count": 41,
   "metadata": {},
   "outputs": [],
   "source": [
    "# Define the size of the matrix\n",
    "n = 4  # Example size\n",
    "\n",
    "H = torch.randn(n*n, n*n, dtype=torch.complex64, requires_grad=False).to(device)\n",
    "H = H + H.T\n",
    "\n",
    "# Initialize a complex matrix\n",
    "ur = torch.randn(n, n, dtype=torch.complex64).to(device)\n",
    "ui = torch.randn(n, n, dtype=torch.complex64).to(device)\n",
    "ur.requires_grad_(True)\n",
    "ui.requires_grad_(True)\n",
    "\n",
    "# Define the optimizer\n",
    "optimizer = optim.Adam([ur, ui], lr=0.01)\n",
    "\n"
   ]
  },
  {
   "cell_type": "code",
   "execution_count": 8,
   "metadata": {},
   "outputs": [],
   "source": [
    "A = torch.complex(torch.randn(4, 4), torch.randn(4, 4))\n",
    "\n"
   ]
  },
  {
   "cell_type": "code",
   "execution_count": 12,
   "metadata": {},
   "outputs": [],
   "source": [
    "U = torch.matrix_exp(A - A.H)"
   ]
  },
  {
   "cell_type": "code",
   "execution_count": 13,
   "metadata": {},
   "outputs": [
    {
     "data": {
      "text/plain": [
       "tensor([[ 1.0000e+00+0.0000e+00j, -9.6858e-08-2.9802e-08j,\n",
       "         -4.4703e-08+3.1572e-07j, -1.7881e-07-9.6858e-08j],\n",
       "        [-9.6858e-08+2.9802e-08j,  1.0000e+00+0.0000e+00j,\n",
       "          1.4156e-07+2.9802e-08j,  7.4506e-08+1.6578e-07j],\n",
       "        [-4.4703e-08-3.1572e-07j,  1.4156e-07-2.9802e-08j,\n",
       "          1.0000e+00+0.0000e+00j, -8.9407e-08-4.4703e-08j],\n",
       "        [-1.7881e-07+9.6858e-08j,  7.4506e-08-1.6578e-07j,\n",
       "         -8.9407e-08+4.4703e-08j,  1.0000e+00+0.0000e+00j]])"
      ]
     },
     "execution_count": 13,
     "metadata": {},
     "output_type": "execute_result"
    }
   ],
   "source": [
    "U @ U.H"
   ]
  },
  {
   "cell_type": "code",
   "execution_count": 17,
   "metadata": {},
   "outputs": [
    {
     "name": "stdout",
     "output_type": "stream",
     "text": [
      "318 ms ± 11.9 ms per loop (mean ± std. dev. of 7 runs, 1 loop each)\n"
     ]
    }
   ],
   "source": [
    "import torch\n",
    "\n",
    "# Define the size of the matrices\n",
    "n = 100  # You can adjust this size based on your computational resources\n",
    "\n",
    "# Generate random real and imaginary parts for u1 and u2\n",
    "ur1 = torch.randn(n, n)\n",
    "ui1 = torch.randn(n, n)\n",
    "ur2 = torch.randn(n, n)\n",
    "ui2 = torch.randn(n, n)\n",
    "\n",
    "u1 = torch.complex(ur1, ui1)\n",
    "u2 = torch.complex(ur2, ui2)\n",
    "\n",
    "# Create ComplexMat instances\n",
    "%timeit torch_func.kron_complex(ur1, ui1, ur2, ui2)"
   ]
  },
  {
   "cell_type": "code",
   "execution_count": 18,
   "metadata": {},
   "outputs": [
    {
     "name": "stdout",
     "output_type": "stream",
     "text": [
      "90 ms ± 2.88 ms per loop (mean ± std. dev. of 7 runs, 10 loops each)\n"
     ]
    }
   ],
   "source": [
    "%timeit torch.kron(u1, u2)"
   ]
  },
  {
   "cell_type": "code",
   "execution_count": null,
   "metadata": {},
   "outputs": [],
   "source": []
  },
  {
   "cell_type": "code",
   "execution_count": 38,
   "metadata": {},
   "outputs": [
    {
     "name": "stdout",
     "output_type": "stream",
     "text": [
      "Time taken by kron_complex: 30.8172 seconds\n",
      "Time taken by torch.kron: 7.4881 seconds\n"
     ]
    }
   ],
   "source": [
    "import time\n",
    "\n",
    "# Define the size of the matrices for the test\n",
    "n = 100  # You can adjust this size based on your computational resources\n",
    "\n",
    "# Generate random real and imaginary parts for u1 and u2\n",
    "ur1 = torch.randn(n, n)\n",
    "ui1 = torch.randn(n, n)\n",
    "ur2 = torch.randn(n, n)\n",
    "ui2 = torch.randn(n, n)\n",
    "\n",
    "u1 = torch.complex(ur1, ui1)\n",
    "u2 = torch.complex(ur2, ui2)\n",
    "\n",
    "# Time the kron_complex function\n",
    "start_time_kron_complex = time.time()\n",
    "for _ in range(100):\n",
    "    torch_func.kron_complex(ur1, ui1, ur2, ui2)\n",
    "end_time_kron_complex = time.time()\n",
    "time_kron_complex = end_time_kron_complex - start_time_kron_complex\n",
    "\n",
    "# Time the torch.kron function\n",
    "start_time_kron = time.time()\n",
    "for _ in range(100):\n",
    "    torch.kron(u1, u2)\n",
    "end_time_kron = time.time()\n",
    "time_kron = end_time_kron - start_time_kron\n",
    "\n",
    "print(f\"Time taken by kron_complex: {time_kron_complex:.4f} seconds\")\n",
    "print(f\"Time taken by torch.kron: {time_kron:.4f} seconds\")\n"
   ]
  },
  {
   "cell_type": "code",
   "execution_count": 22,
   "metadata": {},
   "outputs": [
    {
     "name": "stdout",
     "output_type": "stream",
     "text": [
      "Time taken by custom matmul: 0.0091 seconds\n",
      "Time taken by torch.matmul: 0.0029 seconds\n"
     ]
    }
   ],
   "source": [
    "import time\n",
    "import torch\n",
    "\n",
    "# Define the size of the matrices\n",
    "n = 100  # Adjust based on computational resources\n",
    "\n",
    "# Generate random real and imaginary parts for u1 and u2\n",
    "ur1 = torch.randn(n, n, dtype=torch.float32)\n",
    "ui1 = torch.randn(n, n, dtype=torch.float32)\n",
    "ur2 = torch.randn(n, n, dtype=torch.float32)\n",
    "ui2 = torch.randn(n, n, dtype=torch.float32)\n",
    "\n",
    "u1 = torch.complex(ur1, ui1)\n",
    "u2 = torch.complex(ur2, ui2)\n",
    "\n",
    "# Time the custom matrix multiplication function (if exists)\n",
    "start_time_custom = time.time()\n",
    "for _ in range(100):\n",
    "    # Replace 'custom_matmul' with your custom function if it exists\n",
    "    # result_custom = torch.matmul(u1, u2)  # Example placeholder\n",
    "    result_custom = torch_func.matmal_complex(ur1, ui1, ur2, ui2)\n",
    "end_time_custom = time.time()\n",
    "time_custom = end_time_custom - start_time_custom\n",
    "\n",
    "# Time the torch.matmul function\n",
    "start_time_torch = time.time()\n",
    "for _ in range(100):\n",
    "    result_torch = torch.matmul(u1, u2)\n",
    "end_time_torch = time.time()\n",
    "time_torch = end_time_torch - start_time_torch\n",
    "\n",
    "print(f\"Time taken by custom matmul: {time_custom:.4f} seconds\")\n",
    "print(f\"Time taken by torch.matmul: {time_torch:.4f} seconds\")"
   ]
  },
  {
   "cell_type": "code",
   "execution_count": 37,
   "metadata": {},
   "outputs": [
    {
     "name": "stdout",
     "output_type": "stream",
     "text": [
      "Time taken by custom operations: 3.8851 seconds\n",
      "Time taken by built-in operations: 3.3536 seconds\n"
     ]
    }
   ],
   "source": [
    "# Define the size of the matrices\n",
    "n = 30  # Smaller size for demonstration; adjust based on computational resources\n",
    "\n",
    "# Generate random real and imaginary parts for u1 and u2\n",
    "ur1 = torch.randn(n, n, dtype=torch.float32, requires_grad=True)\n",
    "ui1 = torch.randn(n, n, dtype=torch.float32, requires_grad=True)\n",
    "ur2 = torch.randn(n, n, dtype=torch.float32, requires_grad=True)\n",
    "ui2 = torch.randn(n, n, dtype=torch.float32, requires_grad=True)\n",
    "\n",
    "u1 = torch.complex(ur1, ui1)\n",
    "u2 = torch.complex(ur2, ui2)\n",
    "\n",
    "u1 = u1.clone().detach().requires_grad_(True)\n",
    "u2 = u2.clone().detach().requires_grad_(True)\n",
    "\n",
    "# Time the custom operations\n",
    "start_time_custom = time.time()\n",
    "for _ in range(100):\n",
    "    # Reset gradients\n",
    "    if u1.grad is not None:\n",
    "        u1.grad.zero_()\n",
    "    if u2.grad is not None:\n",
    "        u2.grad.zero_()\n",
    "    \n",
    "    # Assuming custom_kron and custom_matmul are your custom functions\n",
    "    kron_result_custom = torch_func.kron_complex(ur1, ui1, ur2, ui2)  # Custom Kronecker product\n",
    "    UR1, UI1 = kron_result_custom\n",
    "    matmul_result_custom = torch_func.matmal_complex(UR1, UI1, UR1.T, -UI1.T)  # Custom matrix multiplication\n",
    "    trace_result_custom = torch.trace(matmul_result_custom[1]) + torch.abs(matmul_result_custom[0]).sum()\n",
    "    trace_result_custom.backward()\n",
    "end_time_custom = time.time()\n",
    "time_custom = end_time_custom - start_time_custom\n",
    "\n",
    "\n",
    "# Time the built-in operations\n",
    "start_time_builtin = time.time()\n",
    "for _ in range(100):\n",
    "    # Reset gradients\n",
    "    if u1.grad is not None:\n",
    "        u1.grad.zero_()\n",
    "    if u2.grad is not None:\n",
    "        u2.grad.zero_()\n",
    "    \n",
    "    kron_result_builtin = torch.kron(u1, u2)  # Built-in Kronecker product\n",
    "    matmul_result_builtin = torch.matmul(kron_result_builtin, torch.conj(kron_result_builtin).t())  # Built-in matrix multiplication\n",
    "    trace_result_builtin = torch.abs(torch.trace(matmul_result_builtin)) + torch.abs(matmul_result_builtin).sum()\n",
    "    trace_result_builtin.backward()\n",
    "end_time_builtin = time.time()\n",
    "time_builtin = end_time_builtin - start_time_builtin\n",
    "\n",
    "print(f\"Time taken by custom operations: {time_custom:.4f} seconds\")\n",
    "print(f\"Time taken by built-in operations: {time_builtin:.4f} seconds\")"
   ]
  },
  {
   "cell_type": "code",
   "execution_count": 31,
   "metadata": {},
   "outputs": [
    {
     "data": {
      "text/plain": [
       "tensor(398558.8750, grad_fn=<AddBackward0>)"
      ]
     },
     "execution_count": 31,
     "metadata": {},
     "output_type": "execute_result"
    }
   ],
   "source": [
    "trace_result_builtin"
   ]
  },
  {
   "cell_type": "code",
   "execution_count": null,
   "metadata": {},
   "outputs": [],
   "source": []
  }
 ],
 "metadata": {
  "kernelspec": {
   "display_name": "py39",
   "language": "python",
   "name": "python3"
  },
  "language_info": {
   "codemirror_mode": {
    "name": "ipython",
    "version": 3
   },
   "file_extension": ".py",
   "mimetype": "text/x-python",
   "name": "python",
   "nbconvert_exporter": "python",
   "pygments_lexer": "ipython3",
   "version": "3.9.19"
  }
 },
 "nbformat": 4,
 "nbformat_minor": 2
}
