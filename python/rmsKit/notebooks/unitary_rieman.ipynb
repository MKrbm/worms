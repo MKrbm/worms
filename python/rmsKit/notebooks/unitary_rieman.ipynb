{
 "cells": [
  {
   "cell_type": "code",
   "execution_count": 4,
   "metadata": {},
   "outputs": [
    {
     "name": "stdout",
     "output_type": "stream",
     "text": [
      "12.1\n"
     ]
    }
   ],
   "source": [
    "import torch\n",
    "import torch.optim as optim\n",
    "import sys\n",
    "sys.path.append(\"../\")\n",
    "from rms_torch import functions as torch_func\n",
    "\n",
    "print(torch.version.cuda)"
   ]
  },
  {
   "cell_type": "code",
   "execution_count": 2,
   "metadata": {},
   "outputs": [
    {
     "data": {
      "text/plain": [
       "-inf"
      ]
     },
     "execution_count": 2,
     "metadata": {},
     "output_type": "execute_result"
    }
   ],
   "source": [
    "import numpy as np\n",
    "- np.infty\n"
   ]
  },
  {
   "cell_type": "code",
   "execution_count": 22,
   "metadata": {},
   "outputs": [
    {
     "name": "stdout",
     "output_type": "stream",
     "text": [
      "Scalar Tensor: tensor(0.)\n"
     ]
    }
   ],
   "source": [
    "# Create a scalar valued torch tensor\n",
    "scalar_tensor = torch.tensor(0.0)\n",
    "print(\"Scalar Tensor:\", scalar_tensor)\n"
   ]
  },
  {
   "cell_type": "code",
   "execution_count": 6,
   "metadata": {},
   "outputs": [],
   "source": [
    "device = torch.device(\"cuda\" if torch.cuda.is_available() else \"cpu\")"
   ]
  },
  {
   "cell_type": "code",
   "execution_count": 13,
   "metadata": {},
   "outputs": [],
   "source": [
    "# Define the size of the matrix\n",
    "n = 4  # Example size\n",
    "\n",
    "H = torch.randn(3, n*n, n*n, dtype=torch.complex64, requires_grad=False).to(device)\n",
    "H = H + H.transpose(2, 1).conj()\n",
    "\n",
    "# Initialize a complex matrix\n",
    "u = torch.randn(n, n, dtype=torch.complex64).to(device)\n",
    "u.requires_grad_(True)\n",
    "\n",
    "# Define the optimizer\n",
    "optimizer = optim.Adam([u], lr=0.01)\n",
    "\n"
   ]
  },
  {
   "cell_type": "code",
   "execution_count": 20,
   "metadata": {},
   "outputs": [
    {
     "data": {
      "text/plain": [
       "torch.Size([10, 1])"
      ]
     },
     "execution_count": 20,
     "metadata": {},
     "output_type": "execute_result"
    }
   ],
   "source": [
    "a = torch.randn(10, dtype=torch.complex64)\n",
    "a[Non[e, :].shape\n",
    "a.unsqueeze(-1).shape\n"
   ]
  },
  {
   "cell_type": "code",
   "execution_count": 4,
   "metadata": {},
   "outputs": [],
   "source": [
    "U = torch.kron(u,u)\n",
    "H1 = U @ H @ U.H\n",
    "\n",
    "H2 = torch.abs(H1)\n",
    "e0 = torch.linalg.eigvalsh(H2)[0]"
   ]
  },
  {
   "cell_type": "code",
   "execution_count": 5,
   "metadata": {},
   "outputs": [],
   "source": [
    "e0.backward()"
   ]
  },
  {
   "cell_type": "code",
   "execution_count": 6,
   "metadata": {},
   "outputs": [],
   "source": [
    "H_ = H.view(n,n,n,n)\n",
    "H_ = torch.einsum(\"ab,cd,bdkl->ackl\", u, u, H_).view(n*n, n*n)"
   ]
  },
  {
   "cell_type": "code",
   "execution_count": 11,
   "metadata": {},
   "outputs": [
    {
     "ename": "TypeError",
     "evalue": "is_complex(): argument 'input' (position 1) must be Tensor, not torch.dtype",
     "output_type": "error",
     "traceback": [
      "\u001b[0;31m---------------------------------------------------------------------------\u001b[0m",
      "\u001b[0;31mTypeError\u001b[0m                                 Traceback (most recent call last)",
      "Cell \u001b[0;32mIn[11], line 1\u001b[0m\n\u001b[0;32m----> 1\u001b[0m \u001b[43mtorch\u001b[49m\u001b[38;5;241;43m.\u001b[39;49m\u001b[43mis_complex\u001b[49m\u001b[43m(\u001b[49m\u001b[43mtorch\u001b[49m\u001b[38;5;241;43m.\u001b[39;49m\u001b[43mcomplex128\u001b[49m\u001b[43m)\u001b[49m\n",
      "\u001b[0;31mTypeError\u001b[0m: is_complex(): argument 'input' (position 1) must be Tensor, not torch.dtype"
     ]
    }
   ],
   "source": [
    "torch.is_complex(torch.complex128)"
   ]
  },
  {
   "cell_type": "code",
   "execution_count": 13,
   "metadata": {},
   "outputs": [
    {
     "data": {
      "text/plain": [
       "True"
      ]
     },
     "execution_count": 13,
     "metadata": {},
     "output_type": "execute_result"
    }
   ],
   "source": [
    "import numpy as np\n",
    "np.emath.logn(4, 16).is_integer()"
   ]
  },
  {
   "cell_type": "code",
   "execution_count": 8,
   "metadata": {},
   "outputs": [
    {
     "name": "stdout",
     "output_type": "stream",
     "text": [
      "28683442.0\n",
      "-----------------------------  ------------  ------------  ------------  ------------  ------------  ------------  \n",
      "                         Name    Self CPU %      Self CPU   CPU total %     CPU total  CPU time avg    # of Calls  \n",
      "-----------------------------  ------------  ------------  ------------  ------------  ------------  ------------  \n",
      "                 aten::matmul         0.55%      16.000us        55.37%       1.609ms       1.609ms             1  \n",
      "                     aten::mm        54.82%       1.593ms        54.82%       1.593ms       1.593ms             1  \n",
      "                    aten::abs         8.43%     245.000us        36.44%       1.059ms     529.500us             2  \n",
      "                    aten::sum         9.77%     284.000us         9.84%     286.000us     286.000us             1  \n",
      "                   aten::real         4.37%     127.000us         7.60%     221.000us     221.000us             1  \n",
      "                   aten::item         0.10%       3.000us         5.68%     165.000us     165.000us             1  \n",
      "    aten::_local_scalar_dense         5.57%     162.000us         5.57%     162.000us     162.000us             1  \n",
      "                  aten::copy_         5.02%     146.000us         5.02%     146.000us      73.000us             2  \n",
      "                     aten::to         0.17%       5.000us         4.37%     127.000us     127.000us             1  \n",
      "               aten::_to_copy         1.07%      31.000us         4.20%     122.000us     122.000us             1  \n",
      "-----------------------------  ------------  ------------  ------------  ------------  ------------  ------------  \n",
      "Self CPU time total: 2.906ms\n",
      "\n",
      "29681228.0\n",
      "-----------------------------  ------------  ------------  ------------  ------------  ------------  ------------  \n",
      "                         Name    Self CPU %      Self CPU   CPU total %     CPU total  CPU time avg    # of Calls  \n",
      "-----------------------------  ------------  ------------  ------------  ------------  ------------  ------------  \n",
      "                   aten::item         0.18%       2.000us        52.65%     595.000us     595.000us             1  \n",
      "    aten::_local_scalar_dense        52.48%     593.000us        52.48%     593.000us     593.000us             1  \n",
      "                 aten::einsum        12.30%     139.000us        26.64%     301.000us     301.000us             1  \n",
      "                    aten::abs         2.74%      31.000us        10.44%     118.000us      59.000us             2  \n",
      "                     aten::to         0.44%       5.000us         8.85%     100.000us     100.000us             1  \n",
      "                  aten::copy_         8.58%      97.000us         8.58%      97.000us      48.500us             2  \n",
      "               aten::_to_copy         0.62%       7.000us         8.41%      95.000us      95.000us             1  \n",
      "                    aten::bmm         6.99%      79.000us         6.99%      79.000us      79.000us             1  \n",
      "                    aten::mul         3.54%      40.000us         3.54%      40.000us      40.000us             1  \n",
      "                    aten::sum         3.19%      36.000us         3.19%      36.000us      36.000us             1  \n",
      "-----------------------------  ------------  ------------  ------------  ------------  ------------  ------------  \n",
      "Self CPU time total: 1.130ms\n",
      "\n"
     ]
    },
    {
     "name": "stderr",
     "output_type": "stream",
     "text": [
      "STAGE:2024-05-08 16:24:05 1885:1885 ActivityProfilerController.cpp:314] Completed Stage: Warm Up\n",
      "STAGE:2024-05-08 16:24:05 1885:1885 ActivityProfilerController.cpp:320] Completed Stage: Collection\n",
      "STAGE:2024-05-08 16:24:05 1885:1885 ActivityProfilerController.cpp:324] Completed Stage: Post Processing\n",
      "STAGE:2024-05-08 16:24:05 1885:1885 ActivityProfilerController.cpp:314] Completed Stage: Warm Up\n",
      "STAGE:2024-05-08 16:24:05 1885:1885 ActivityProfilerController.cpp:320] Completed Stage: Collection\n",
      "STAGE:2024-05-08 16:24:05 1885:1885 ActivityProfilerController.cpp:324] Completed Stage: Post Processing\n"
     ]
    }
   ],
   "source": [
    "import torch\n",
    "\n",
    "n = 30\n",
    "\n",
    "H = torch.randn(n*n, n*n, dtype=torch.complex64, requires_grad=False).to(device)\n",
    "H = H + H.T\n",
    "\n",
    "def kron_operation():\n",
    "    u = torch.randn(n, n, dtype=torch.complex64).to(device)\n",
    "    U = torch.kron(u,u)\n",
    "    H1 = U @ H\n",
    "    res = torch.abs(H1).sum().item()\n",
    "    print(res)\n",
    "\n",
    "def einsum_operation():\n",
    "    u = torch.randn(n, n, dtype=torch.complex64).to(device)\n",
    "    H_ = H.view(n,n,n,n)\n",
    "    H_ = torch.einsum(\"ab,cd,bdkl->ackl\", u, u, H_).view(n*n, n*n)\n",
    "    res = torch.abs(H_).sum().item()\n",
    "    print(res)\n",
    "\n",
    "with torch.autograd.profiler.profile(use_cuda=False) as prof:\n",
    "    kron_operation()\n",
    "print(prof.key_averages().table(sort_by=\"cpu_time_total\", row_limit=10))\n",
    "\n",
    "with torch.autograd.profiler.profile(use_cuda=False) as prof:\n",
    "    einsum_operation()\n",
    "print(prof.key_averages().table(sort_by=\"cpu_time_total\", row_limit=10))"
   ]
  },
  {
   "cell_type": "code",
   "execution_count": 8,
   "metadata": {},
   "outputs": [],
   "source": [
    "A = torch.complex(torch.randn(4, 4), torch.randn(4, 4))\n",
    "\n"
   ]
  },
  {
   "cell_type": "code",
   "execution_count": 12,
   "metadata": {},
   "outputs": [],
   "source": [
    "U = torch.matrix_exp(A - A.H)"
   ]
  },
  {
   "cell_type": "code",
   "execution_count": 13,
   "metadata": {},
   "outputs": [
    {
     "data": {
      "text/plain": [
       "tensor([[ 1.0000e+00+0.0000e+00j, -9.6858e-08-2.9802e-08j,\n",
       "         -4.4703e-08+3.1572e-07j, -1.7881e-07-9.6858e-08j],\n",
       "        [-9.6858e-08+2.9802e-08j,  1.0000e+00+0.0000e+00j,\n",
       "          1.4156e-07+2.9802e-08j,  7.4506e-08+1.6578e-07j],\n",
       "        [-4.4703e-08-3.1572e-07j,  1.4156e-07-2.9802e-08j,\n",
       "          1.0000e+00+0.0000e+00j, -8.9407e-08-4.4703e-08j],\n",
       "        [-1.7881e-07+9.6858e-08j,  7.4506e-08-1.6578e-07j,\n",
       "         -8.9407e-08+4.4703e-08j,  1.0000e+00+0.0000e+00j]])"
      ]
     },
     "execution_count": 13,
     "metadata": {},
     "output_type": "execute_result"
    }
   ],
   "source": []
  },
  {
   "cell_type": "code",
   "execution_count": 17,
   "metadata": {},
   "outputs": [
    {
     "name": "stdout",
     "output_type": "stream",
     "text": [
      "318 ms ± 11.9 ms per loop (mean ± std. dev. of 7 runs, 1 loop each)\n"
     ]
    }
   ],
   "source": [
    "import torch\n",
    "\n",
    "# Define the size of the matrices\n",
    "n = 100  # You can adjust this size based on your computational resources\n",
    "\n",
    "# Generate random real and imaginary parts for u1 and u2\n",
    "ur1 = torch.randn(n, n)\n",
    "ui1 = torch.randn(n, n)\n",
    "ur2 = torch.randn(n, n)\n",
    "ui2 = torch.randn(n, n)\n",
    "\n",
    "u1 = torch.complex(ur1, ui1)\n",
    "u2 = torch.complex(ur2, ui2)\n",
    "\n",
    "# Create ComplexMat instances\n",
    "%timeit torch_func.kron_complex(ur1, ui1, ur2, ui2)"
   ]
  },
  {
   "cell_type": "code",
   "execution_count": 18,
   "metadata": {},
   "outputs": [
    {
     "name": "stdout",
     "output_type": "stream",
     "text": [
      "90 ms ± 2.88 ms per loop (mean ± std. dev. of 7 runs, 10 loops each)\n"
     ]
    }
   ],
   "source": [
    "%timeit torch.kron(u1, u2)"
   ]
  },
  {
   "cell_type": "code",
   "execution_count": null,
   "metadata": {},
   "outputs": [],
   "source": []
  },
  {
   "cell_type": "code",
   "execution_count": 38,
   "metadata": {},
   "outputs": [
    {
     "name": "stdout",
     "output_type": "stream",
     "text": [
      "Time taken by kron_complex: 30.8172 seconds\n",
      "Time taken by torch.kron: 7.4881 seconds\n"
     ]
    }
   ],
   "source": [
    "import time\n",
    "\n",
    "# Define the size of the matrices for the test\n",
    "n = 100  # You can adjust this size based on your computational resources\n",
    "\n",
    "# Generate random real and imaginary parts for u1 and u2\n",
    "ur1 = torch.randn(n, n)\n",
    "ui1 = torch.randn(n, n)\n",
    "ur2 = torch.randn(n, n)\n",
    "ui2 = torch.randn(n, n)\n",
    "\n",
    "u1 = torch.complex(ur1, ui1)\n",
    "u2 = torch.complex(ur2, ui2)\n",
    "\n",
    "# Time the kron_complex function\n",
    "start_time_kron_complex = time.time()\n",
    "for _ in range(100):\n",
    "    torch_func.kron_complex(ur1, ui1, ur2, ui2)\n",
    "end_time_kron_complex = time.time()\n",
    "time_kron_complex = end_time_kron_complex - start_time_kron_complex\n",
    "\n",
    "# Time the torch.kron function\n",
    "start_time_kron = time.time()\n",
    "for _ in range(100):\n",
    "    torch.kron(u1, u2)\n",
    "end_time_kron = time.time()\n",
    "time_kron = end_time_kron - start_time_kron\n",
    "\n",
    "print(f\"Time taken by kron_complex: {time_kron_complex:.4f} seconds\")\n",
    "print(f\"Time taken by torch.kron: {time_kron:.4f} seconds\")\n"
   ]
  },
  {
   "cell_type": "code",
   "execution_count": 22,
   "metadata": {},
   "outputs": [
    {
     "name": "stdout",
     "output_type": "stream",
     "text": [
      "Time taken by custom matmul: 0.0091 seconds\n",
      "Time taken by torch.matmul: 0.0029 seconds\n"
     ]
    }
   ],
   "source": [
    "import time\n",
    "import torch\n",
    "\n",
    "# Define the size of the matrices\n",
    "n = 100  # Adjust based on computational resources\n",
    "\n",
    "# Generate random real and imaginary parts for u1 and u2\n",
    "ur1 = torch.randn(n, n, dtype=torch.float32)\n",
    "ui1 = torch.randn(n, n, dtype=torch.float32)\n",
    "ur2 = torch.randn(n, n, dtype=torch.float32)\n",
    "ui2 = torch.randn(n, n, dtype=torch.float32)\n",
    "\n",
    "u1 = torch.complex(ur1, ui1)\n",
    "u2 = torch.complex(ur2, ui2)\n",
    "\n",
    "# Time the custom matrix multiplication function (if exists)\n",
    "start_time_custom = time.time()\n",
    "for _ in range(100):\n",
    "    # Replace 'custom_matmul' with your custom function if it exists\n",
    "    # result_custom = torch.matmul(u1, u2)  # Example placeholder\n",
    "    result_custom = torch_func.matmal_complex(ur1, ui1, ur2, ui2)\n",
    "end_time_custom = time.time()\n",
    "time_custom = end_time_custom - start_time_custom\n",
    "\n",
    "# Time the torch.matmul function\n",
    "start_time_torch = time.time()\n",
    "for _ in range(100):\n",
    "    result_torch = torch.matmul(u1, u2)\n",
    "end_time_torch = time.time()\n",
    "time_torch = end_time_torch - start_time_torch\n",
    "\n",
    "print(f\"Time taken by custom matmul: {time_custom:.4f} seconds\")\n",
    "print(f\"Time taken by torch.matmul: {time_torch:.4f} seconds\")"
   ]
  },
  {
   "cell_type": "code",
   "execution_count": 37,
   "metadata": {},
   "outputs": [
    {
     "name": "stdout",
     "output_type": "stream",
     "text": [
      "Time taken by custom operations: 3.8851 seconds\n",
      "Time taken by built-in operations: 3.3536 seconds\n"
     ]
    }
   ],
   "source": [
    "# Define the size of the matrices\n",
    "n = 30  # Smaller size for demonstration; adjust based on computational resources\n",
    "\n",
    "# Generate random real and imaginary parts for u1 and u2\n",
    "ur1 = torch.randn(n, n, dtype=torch.float32, requires_grad=True)\n",
    "ui1 = torch.randn(n, n, dtype=torch.float32, requires_grad=True)\n",
    "ur2 = torch.randn(n, n, dtype=torch.float32, requires_grad=True)\n",
    "ui2 = torch.randn(n, n, dtype=torch.float32, requires_grad=True)\n",
    "\n",
    "u1 = torch.complex(ur1, ui1)\n",
    "u2 = torch.complex(ur2, ui2)\n",
    "\n",
    "u1 = u1.clone().detach().requires_grad_(True)\n",
    "u2 = u2.clone().detach().requires_grad_(True)\n",
    "\n",
    "# Time the custom operations\n",
    "start_time_custom = time.time()\n",
    "for _ in range(100):\n",
    "    # Reset gradients\n",
    "    if u1.grad is not None:\n",
    "        u1.grad.zero_()\n",
    "    if u2.grad is not None:\n",
    "        u2.grad.zero_()\n",
    "    \n",
    "    # Assuming custom_kron and custom_matmul are your custom functions\n",
    "    kron_result_custom = torch_func.kron_complex(ur1, ui1, ur2, ui2)  # Custom Kronecker product\n",
    "    UR1, UI1 = kron_result_custom\n",
    "    matmul_result_custom = torch_func.matmal_complex(UR1, UI1, UR1.T, -UI1.T)  # Custom matrix multiplication\n",
    "    trace_result_custom = torch.trace(matmul_result_custom[1]) + torch.abs(matmul_result_custom[0]).sum()\n",
    "    trace_result_custom.backward()\n",
    "end_time_custom = time.time()\n",
    "time_custom = end_time_custom - start_time_custom\n",
    "\n",
    "\n",
    "# Time the built-in operations\n",
    "start_time_builtin = time.time()\n",
    "for _ in range(100):\n",
    "    # Reset gradients\n",
    "    if u1.grad is not None:\n",
    "        u1.grad.zero_()\n",
    "    if u2.grad is not None:\n",
    "        u2.grad.zero_()\n",
    "    \n",
    "    kron_result_builtin = torch.kron(u1, u2)  # Built-in Kronecker product\n",
    "    matmul_result_builtin = torch.matmul(kron_result_builtin, torch.conj(kron_result_builtin).t())  # Built-in matrix multiplication\n",
    "    trace_result_builtin = torch.abs(torch.trace(matmul_result_builtin)) + torch.abs(matmul_result_builtin).sum()\n",
    "    trace_result_builtin.backward()\n",
    "end_time_builtin = time.time()\n",
    "time_builtin = end_time_builtin - start_time_builtin\n",
    "\n",
    "print(f\"Time taken by custom operations: {time_custom:.4f} seconds\")\n",
    "print(f\"Time taken by built-in operations: {time_builtin:.4f} seconds\")"
   ]
  },
  {
   "cell_type": "code",
   "execution_count": 31,
   "metadata": {},
   "outputs": [
    {
     "data": {
      "text/plain": [
       "tensor(398558.8750, grad_fn=<AddBackward0>)"
      ]
     },
     "execution_count": 31,
     "metadata": {},
     "output_type": "execute_result"
    }
   ],
   "source": [
    "trace_result_builtin"
   ]
  }
 ],
 "metadata": {
  "kernelspec": {
   "display_name": "py39",
   "language": "python",
   "name": "python3"
  },
  "language_info": {
   "codemirror_mode": {
    "name": "ipython",
    "version": 3
   },
   "file_extension": ".py",
   "mimetype": "text/x-python",
   "name": "python",
   "nbconvert_exporter": "python",
   "pygments_lexer": "ipython3",
   "version": "3.9.19"
  }
 },
 "nbformat": 4,
 "nbformat_minor": 2
}
