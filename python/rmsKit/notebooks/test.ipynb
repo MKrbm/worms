{
 "cells": [
  {
   "cell_type": "code",
   "execution_count": 26,
   "id": "30443750",
   "metadata": {},
   "outputs": [
    {
     "data": {
      "text/plain": [
       "array([324.81609563, 328.56090871, 247.22897192, 347.88749465,\n",
       "       320.27628092, 319.14439326, 258.41914419, 258.79167806,\n",
       "       325.73551073, 409.33475358])"
      ]
     },
     "execution_count": 26,
     "metadata": {},
     "output_type": "execute_result"
    }
   ],
   "source": [
    "import numpy as np\n",
    "\n",
    "\n",
    "x = np.random.rand(100)\n",
    "W1 = np.random.rand(100, 30)\n",
    "W2 = np.random.rand(30, 10)\n",
    "x @ W1 @ W2\n",
    "W1 = np.roll(W1, shift=1, axis=1)\n",
    "W2 = np.roll(W2, shift=1, axis=0)\n",
    "x @ W1 @ W2"
   ]
  },
  {
   "cell_type": "code",
   "execution_count": 27,
   "id": "f25416a4",
   "metadata": {},
   "outputs": [
    {
     "data": {
      "text/plain": [
       "array([[0.53377467, 0.43873602, 0.70498503, ..., 0.98754248, 0.65593061,\n",
       "        0.08666089],\n",
       "       [0.97759354, 0.56705562, 0.06801628, ..., 0.3930781 , 0.36627467,\n",
       "        0.27909425],\n",
       "       [0.3609085 , 0.930884  , 0.78037204, ..., 0.39263339, 0.8701619 ,\n",
       "        0.54241307],\n",
       "       ...,\n",
       "       [0.28445831, 0.44873667, 0.66710246, ..., 0.78023156, 0.18148429,\n",
       "        0.57582046],\n",
       "       [0.50207183, 0.20137371, 0.78374308, ..., 0.96268149, 0.33161731,\n",
       "        0.69611297],\n",
       "       [0.55850422, 0.03479659, 0.42559988, ..., 0.64448496, 0.76664363,\n",
       "        0.8166123 ]])"
      ]
     },
     "execution_count": 27,
     "metadata": {},
     "output_type": "execute_result"
    }
   ],
   "source": [
    "W1"
   ]
  }
 ],
 "metadata": {
  "kernelspec": {
   "display_name": "Python 3 (ipykernel)",
   "language": "python",
   "name": "python3"
  },
  "language_info": {
   "codemirror_mode": {
    "name": "ipython",
    "version": 3
   },
   "file_extension": ".py",
   "mimetype": "text/x-python",
   "name": "python",
   "nbconvert_exporter": "python",
   "pygments_lexer": "ipython3",
   "version": "3.9.18"
  }
 },
 "nbformat": 4,
 "nbformat_minor": 5
}
