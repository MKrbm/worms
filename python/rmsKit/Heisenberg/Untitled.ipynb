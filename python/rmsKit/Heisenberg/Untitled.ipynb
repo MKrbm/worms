{
 "cells": [
  {
   "cell_type": "code",
   "execution_count": 1,
   "id": "989cf46f",
   "metadata": {},
   "outputs": [],
   "source": [
    "import numpy as np"
   ]
  },
  {
   "cell_type": "code",
   "execution_count": 2,
   "id": "c564d8f1",
   "metadata": {},
   "outputs": [],
   "source": [
    "Sz = np.zeros([2,2])\n",
    "Sz[0,0] = 1/2\n",
    "Sz[1,1] = -1/2\n",
    "Sx = np.zeros([2,2])\n",
    "Sx[1,0] = 1/2\n",
    "Sx[0,1] = 1/2\n",
    "Sy = np.zeros([2,2], dtype=np.complex64)\n",
    "Sy[1,0] = 1j/2\n",
    "Sy[0,1] = -1j/2\n",
    "\n",
    "I = np.eye(2)\n",
    "I4 = np.eye(4)\n",
    "\n",
    "\n",
    "SzSz = np.kron(Sz,Sz).real.astype(np.float64)\n",
    "SxSx = np.kron(Sx,Sx).real.astype(np.float64)\n",
    "SySy = np.kron(Sy,Sy).real.astype(np.float64)\n",
    "o = np.kron(I, Sz) + np.kron(Sz, I)\n",
    "Sp = (Sx + 1j*Sy).real\n",
    "Sm = (Sx - 1j*Sy).real"
   ]
  },
  {
   "cell_type": "code",
   "execution_count": 3,
   "id": "f1c9191a",
   "metadata": {},
   "outputs": [],
   "source": [
    "Sp2 = np.kron(Sp, I) + np.kron(I, Sp)\n",
    "Sm2 = np.kron(Sm, I) + np.kron(I, Sm)\n",
    "g = np.kron(Sp2, Sm2) + np.kron(Sm2, Sp2)"
   ]
  },
  {
   "cell_type": "code",
   "execution_count": 5,
   "id": "a959944c",
   "metadata": {},
   "outputs": [],
   "source": [
    "np.save(\"0.npy\", Sx*2)"
   ]
  },
  {
   "cell_type": "code",
   "execution_count": 4,
   "id": "c3d9399e",
   "metadata": {},
   "outputs": [
    {
     "data": {
      "text/plain": [
       "array([[0., 1.],\n",
       "       [1., 0.]])"
      ]
     },
     "execution_count": 4,
     "metadata": {},
     "output_type": "execute_result"
    }
   ],
   "source": [
    "Sx*2"
   ]
  },
  {
   "cell_type": "code",
   "execution_count": 15,
   "id": "a124b4ef",
   "metadata": {},
   "outputs": [
    {
     "data": {
      "text/plain": [
       "array([[2., 0., 0., 0.],\n",
       "       [0., 1., 1., 0.],\n",
       "       [0., 1., 1., 0.],\n",
       "       [0., 0., 0., 0.]])"
      ]
     },
     "execution_count": 15,
     "metadata": {},
     "output_type": "execute_result"
    }
   ],
   "source": [
    "Sp2 @ Sm2"
   ]
  }
 ],
 "metadata": {
  "kernelspec": {
   "display_name": "Python 3 (ipykernel)",
   "language": "python",
   "name": "python3"
  },
  "language_info": {
   "codemirror_mode": {
    "name": "ipython",
    "version": 3
   },
   "file_extension": ".py",
   "mimetype": "text/x-python",
   "name": "python",
   "nbconvert_exporter": "python",
   "pygments_lexer": "ipython3",
   "version": "3.9.16"
  }
 },
 "nbformat": 4,
 "nbformat_minor": 5
}
