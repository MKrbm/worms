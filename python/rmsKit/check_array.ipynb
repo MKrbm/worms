{
 "cells": [
  {
   "cell_type": "code",
   "execution_count": 43,
   "id": "16ff457b",
   "metadata": {},
   "outputs": [],
   "source": [
    "import numpy as np\n",
    "\n",
    "H = np.load(\"array/torch/HXYZ1D_loc/Jx_-1_Jy_5_Jz_0.3_hx_0.1_hz_0.4_lt_1/H/0.npy\")\n",
    "H2 = np.load(\"array/torch/HXYZ1D_loc/Jx_0.04851_Jy_5_Jz_1.043_hx_0.4123_hz_0_lt_1/H/0.npy\")"
   ]
  },
  {
   "cell_type": "code",
   "execution_count": 44,
   "id": "46bd3f5f",
   "metadata": {},
   "outputs": [
    {
     "data": {
      "text/plain": [
       "array([-1.58829115, -0.9260362 ,  1.075     ,  1.43932734])"
      ]
     },
     "execution_count": 44,
     "metadata": {},
     "output_type": "execute_result"
    }
   ],
   "source": [
    "np.linalg.eigvalsh(H)"
   ]
  },
  {
   "cell_type": "code",
   "execution_count": 45,
   "id": "183c791f",
   "metadata": {},
   "outputs": [
    {
     "data": {
      "text/plain": [
       "array([-1.49859902, -1.0226531 ,  0.99839954,  1.52285258])"
      ]
     },
     "execution_count": 45,
     "metadata": {},
     "output_type": "execute_result"
    }
   ],
   "source": [
    "np.linalg.eigvalsh(H2)"
   ]
  },
  {
   "cell_type": "code",
   "execution_count": 34,
   "id": "3e545820",
   "metadata": {},
   "outputs": [
    {
     "data": {
      "text/plain": [
       "array([[-0.70711552,  0.70709805],\n",
       "       [ 0.70709805,  0.70711552]])"
      ]
     },
     "execution_count": 34,
     "metadata": {},
     "output_type": "execute_result"
    }
   ],
   "source": [
    "u = np.load(\"array/torch/HXYZ1D_loc/Jx_0.0485_Jy_5_Jz_1.4_hx_0.4_hz_0_lt_1/1_mel_Adam/lr_0.01_epoch_100/loss_0.00000/u/0.npy\")\n",
    "u"
   ]
  },
  {
   "cell_type": "code",
   "execution_count": 23,
   "id": "93673682",
   "metadata": {},
   "outputs": [],
   "source": [
    "from utils import stoquastic"
   ]
  },
  {
   "cell_type": "code",
   "execution_count": 27,
   "id": "6958a037",
   "metadata": {},
   "outputs": [
    {
     "data": {
      "text/plain": [
       "array([-0.75,  0.25,  0.25,  0.25])"
      ]
     },
     "execution_count": 27,
     "metadata": {},
     "output_type": "execute_result"
    }
   ],
   "source": [
    "np.linalg.eigvalsh(stoquastic(H1))"
   ]
  },
  {
   "cell_type": "code",
   "execution_count": 66,
   "id": "e6c0a8c4",
   "metadata": {},
   "outputs": [],
   "source": [
    "J = np.array([-1, 5, 0.3])\n",
    "h = np.array([0.1, 0, 0.4])"
   ]
  },
  {
   "cell_type": "code",
   "execution_count": 55,
   "id": "70d462e0",
   "metadata": {},
   "outputs": [],
   "source": [
    "import numpy as np\n",
    "from lattice.core.constants import *"
   ]
  },
  {
   "cell_type": "code",
   "execution_count": 7,
   "id": "5b17779c",
   "metadata": {},
   "outputs": [
    {
     "data": {
      "text/plain": [
       "array([[ 0.  ,  0.  ,  0.  , -0.25],\n",
       "       [ 0.  ,  0.  ,  0.25,  0.  ],\n",
       "       [ 0.  ,  0.25,  0.  ,  0.  ],\n",
       "       [-0.25,  0.  ,  0.  ,  0.  ]])"
      ]
     },
     "execution_count": 7,
     "metadata": {},
     "output_type": "execute_result"
    }
   ],
   "source": [
    "SySy"
   ]
  },
  {
   "cell_type": "code",
   "execution_count": 8,
   "id": "3d854cbb",
   "metadata": {},
   "outputs": [
    {
     "data": {
      "text/plain": [
       "array([[ 0.25,  0.  ,  0.  ,  0.  ],\n",
       "       [ 0.  , -0.25,  0.  , -0.  ],\n",
       "       [ 0.  ,  0.  , -0.25, -0.  ],\n",
       "       [ 0.  , -0.  , -0.  ,  0.25]])"
      ]
     },
     "execution_count": 8,
     "metadata": {},
     "output_type": "execute_result"
    }
   ],
   "source": [
    "SzSz"
   ]
  },
  {
   "cell_type": "code",
   "execution_count": null,
   "id": "b80541ef",
   "metadata": {},
   "outputs": [],
   "source": []
  },
  {
   "cell_type": "code",
   "execution_count": 10,
   "id": "f4e62d3b",
   "metadata": {},
   "outputs": [],
   "source": []
  },
  {
   "cell_type": "code",
   "execution_count": 87,
   "id": "3348efe6",
   "metadata": {},
   "outputs": [],
   "source": [
    "import numpy as np\n",
    "\n",
    "def cartesian_to_spherical(x, y, z):\n",
    "    r = np.sqrt(x**2 + y**2 + z**2)\n",
    "    theta = np.arccos(z / r)\n",
    "    phi = np.arctan2(y, x)\n",
    "    return r, theta, phi\n",
    "\n",
    "def rotation_matrix(theta, phi):\n",
    "    # Convert angles from degrees to radians\n",
    "\n",
    "    # Rotation matrix around the x-axis\n",
    "    Rx = np.array([[1, 0, 0],\n",
    "                   [0, np.cos(phi), -np.sin(phi)],\n",
    "                   [0, np.sin(phi), np.cos(phi)]])\n",
    "    \n",
    "    \n",
    "    # Rotation matrix around the z-axis\n",
    "    Rz = np.array([[np.cos(theta), 0, -np.sin(theta)],\n",
    "                   [0, 1, 0],\n",
    "                   [np.sin(theta), 0, np.cos(theta)]])\n",
    "    \n",
    "    print(Rz)\n",
    "\n",
    "    # Combined rotation matrix (Rz first, then Rx)\n",
    "    R = np.dot(Rz, Rx)\n",
    "\n",
    "    return R\n",
    "\n",
    "r, theta, phi = cartesian_to_spherical(h[0], h[1], h[2])"
   ]
  },
  {
   "cell_type": "code",
   "execution_count": 88,
   "id": "c34d187f",
   "metadata": {},
   "outputs": [
    {
     "data": {
      "text/plain": [
       "0.2449786631268647"
      ]
     },
     "execution_count": 88,
     "metadata": {},
     "output_type": "execute_result"
    }
   ],
   "source": [
    "theta"
   ]
  },
  {
   "cell_type": "code",
   "execution_count": 97,
   "id": "1e66696b",
   "metadata": {},
   "outputs": [
    {
     "data": {
      "text/plain": [
       "0.2449786631268647"
      ]
     },
     "execution_count": 97,
     "metadata": {},
     "output_type": "execute_result"
    }
   ],
   "source": [
    "theta"
   ]
  },
  {
   "cell_type": "code",
   "execution_count": 93,
   "id": "faf81cc3",
   "metadata": {},
   "outputs": [],
   "source": [
    "import scipy\n",
    "U2 = scipy.linalg.expm(-1j * theta * Sy)"
   ]
  },
  {
   "cell_type": "code",
   "execution_count": 99,
   "id": "4dbaa5b0",
   "metadata": {},
   "outputs": [
    {
     "data": {
      "text/plain": [
       "array([[ 0.12126782+0.j,  0.48507127+0.j],\n",
       "       [ 0.48507127+0.j, -0.12126782+0.j]])"
      ]
     },
     "execution_count": 99,
     "metadata": {},
     "output_type": "execute_result"
    }
   ],
   "source": [
    "U2.T.conj() @ Sx @ U2"
   ]
  },
  {
   "cell_type": "code",
   "execution_count": 105,
   "id": "854f9ba2",
   "metadata": {},
   "outputs": [
    {
     "name": "stdout",
     "output_type": "stream",
     "text": [
      "[[ 0.99500417  0.         -0.09983342]\n",
      " [ 0.          1.          0.        ]\n",
      " [ 0.09983342  0.          0.99500417]]\n"
     ]
    },
    {
     "data": {
      "text/plain": [
       "array([-1.39167987, -1.10832013,  0.9091528 ,  1.5908472 ])"
      ]
     },
     "execution_count": 105,
     "metadata": {},
     "output_type": "execute_result"
    }
   ],
   "source": [
    "J = np.array([-1, 5, 0.3])\n",
    "h = np.array([0, 0, 0])\n",
    "rot = (np.pi/2 - theta)/2\n",
    "R = rotation_matrix(0.1, phi)\n",
    "\n",
    "\n",
    "h = R.T @ R.T @ h\n",
    "J = R.T @ J\n",
    "h_single = h[2] * Sz + h[0] * Sx\n",
    "h_single = np.kron(h_single, I2) + np.kron(I2, h_single)\n",
    "\n",
    "H = J[0] * SxSx + J[1] * SySy + J[2] * SzSz + h_single\n",
    "np.linalg.eigvalsh(H)"
   ]
  },
  {
   "cell_type": "code",
   "execution_count": null,
   "id": "13bd21d4",
   "metadata": {},
   "outputs": [],
   "source": []
  }
 ],
 "metadata": {
  "kernelspec": {
   "display_name": "Python 3 (ipykernel)",
   "language": "python",
   "name": "python3"
  },
  "language_info": {
   "codemirror_mode": {
    "name": "ipython",
    "version": 3
   },
   "file_extension": ".py",
   "mimetype": "text/x-python",
   "name": "python",
   "nbconvert_exporter": "python",
   "pygments_lexer": "ipython3",
   "version": "3.9.18"
  }
 },
 "nbformat": 4,
 "nbformat_minor": 5
}
