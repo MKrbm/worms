{
 "cells": [
  {
   "cell_type": "code",
   "execution_count": 456,
   "id": "16ff457b",
   "metadata": {},
   "outputs": [],
   "source": [
    "import numpy as np\n",
    "import torch\n",
    "import rms_torch\n",
    "\n",
    "H = np.load(\"array/torch/BLBQ1D_loc/J0_3_J1_1_hx_0_hz_0/1_mel/H/0.npy\")\n",
    "# H2 = np.load(\"array/torch/HXYZ1D_loc/Jx_0.04851_Jy_5_Jz_1.043_hx_0.4123_hz_0_lt_1/H/0.npy\")\n",
    "u = np.load(\"/Users/keisukemurota/Documents/todo/worms/python/rmsKit/array/torch/BLBQ1D_loc/J0_3_J1_1_hx_0_hz_0/1_mel/Adam/lr_0.01_epoch_2000/loss_0.00000/u/0.npy\")\n"
   ]
  },
  {
   "cell_type": "code",
   "execution_count": 457,
   "id": "ae456e2a",
   "metadata": {},
   "outputs": [
    {
     "data": {
      "text/plain": [
       "tensor(-5.7049e-08, dtype=torch.float64, grad_fn=<SubBackward0>)"
      ]
     },
     "execution_count": 457,
     "metadata": {},
     "output_type": "execute_result"
    }
   ],
   "source": [
    "h_list = [-H]\n",
    "loss = rms_torch.SystemQUasiEnergyLoss(h_list, device=\"cpu\")\n",
    "model = rms_torch.UnitaryRieman(\n",
    "    h_list[0].shape[1], 3, device=\"cpu\").to(\"cpu\")\n",
    "model.reset_params(torch.from_numpy(u))\n",
    "loss(model())"
   ]
  },
  {
   "cell_type": "code",
   "execution_count": 458,
   "id": "851a0f1d",
   "metadata": {},
   "outputs": [
    {
     "data": {
      "text/plain": [
       "array([[ 0.,  0.,  0.,  0.,  0.,  0.,  0.,  0.,  0.],\n",
       "       [ 0., -3.,  0.,  3.,  0.,  0.,  0.,  0.,  0.],\n",
       "       [ 0.,  0., -5.,  0.,  2.,  0.,  1.,  0.,  0.],\n",
       "       [ 0.,  3.,  0., -3.,  0.,  0.,  0.,  0.,  0.],\n",
       "       [ 0.,  0.,  2.,  0., -2.,  0.,  2.,  0.,  0.],\n",
       "       [ 0.,  0.,  0.,  0.,  0., -3.,  0.,  3.,  0.],\n",
       "       [ 0.,  0.,  1.,  0.,  2.,  0., -5.,  0.,  0.],\n",
       "       [ 0.,  0.,  0.,  0.,  0.,  3.,  0., -3.,  0.],\n",
       "       [ 0.,  0.,  0.,  0.,  0.,  0.,  0.,  0.,  0.]])"
      ]
     },
     "execution_count": 458,
     "metadata": {},
     "output_type": "execute_result"
    }
   ],
   "source": [
    "np.round(h_list[0],5)"
   ]
  },
  {
   "cell_type": "code",
   "execution_count": 459,
   "id": "b9a682f7",
   "metadata": {},
   "outputs": [
    {
     "data": {
      "text/plain": [
       "array([[-7.07106709e-01, -6.15873786e-08, -7.07106854e-01],\n",
       "       [-2.06606316e-02, -9.99573045e-01,  2.06607144e-02],\n",
       "       [-7.06804953e-01,  2.92186039e-02,  7.06804805e-01]])"
      ]
     },
     "execution_count": 459,
     "metadata": {},
     "output_type": "execute_result"
    }
   ],
   "source": [
    "u"
   ]
  },
  {
   "cell_type": "code",
   "execution_count": 460,
   "id": "93673682",
   "metadata": {},
   "outputs": [],
   "source": [
    "from utils import stoquastic\n",
    "import utils"
   ]
  },
  {
   "cell_type": "code",
   "execution_count": 466,
   "id": "6094fea4",
   "metadata": {},
   "outputs": [],
   "source": [
    "u0 = np.array([\n",
    "    [1/np.sqrt(2),0,-1/np.sqrt(2)],\n",
    "    [1/np.sqrt(2),0,1/np.sqrt(2)],\n",
    "    [0,1,0]\n",
    "])\n",
    "U = np.kron(u,u)"
   ]
  },
  {
   "cell_type": "code",
   "execution_count": 467,
   "id": "95afc932",
   "metadata": {},
   "outputs": [],
   "source": [
    "L = 6\n",
    "h1 = - H\n",
    "h2 = stoquastic(-U @ H @ U.T)\n",
    "HS1 = utils.sum_ham(h1, [[i, (i+1)%L] for i in range(L)], L, 3)\n",
    "HS2 = utils.sum_ham(h2, [[i, (i+1)%L] for i in range(L)], L, 3)"
   ]
  },
  {
   "cell_type": "code",
   "execution_count": 468,
   "id": "f8b79200",
   "metadata": {},
   "outputs": [],
   "source": [
    "e2, v2 = np.linalg.eigh(h2)\n",
    "e1, v1 = np.linalg.eigh(h1)"
   ]
  },
  {
   "cell_type": "code",
   "execution_count": 469,
   "id": "4d5a20b7",
   "metadata": {},
   "outputs": [
    {
     "data": {
      "text/plain": [
       "array([-2.00000002, -2.        , -2.        , -1.99999997,  3.99999983,\n",
       "        3.99999983,  4.        ,  4.        ,  4.00000006])"
      ]
     },
     "execution_count": 469,
     "metadata": {},
     "output_type": "execute_result"
    }
   ],
   "source": [
    "e1"
   ]
  },
  {
   "cell_type": "code",
   "execution_count": 470,
   "id": "9386e0aa",
   "metadata": {},
   "outputs": [
    {
     "data": {
      "text/plain": [
       "array([-2.00000118, -2.        , -1.99999997, -1.99999884,  3.99999983,\n",
       "        3.99999983,  4.        ,  4.        ,  4.00000006])"
      ]
     },
     "execution_count": 470,
     "metadata": {},
     "output_type": "execute_result"
    }
   ],
   "source": [
    "e2"
   ]
  },
  {
   "cell_type": "code",
   "execution_count": 445,
   "id": "e6c0a8c4",
   "metadata": {},
   "outputs": [],
   "source": [
    "J = np.array([-1, 5, 0.3])\n",
    "h = np.array([0.1, 0, 0.4])"
   ]
  },
  {
   "cell_type": "code",
   "execution_count": 313,
   "id": "70d462e0",
   "metadata": {},
   "outputs": [],
   "source": [
    "import numpy as np\n",
    "from lattice.core.constants import *"
   ]
  },
  {
   "cell_type": "code",
   "execution_count": 314,
   "id": "5b17779c",
   "metadata": {},
   "outputs": [
    {
     "data": {
      "text/plain": [
       "array([[ 0.  ,  0.  ,  0.  , -0.25],\n",
       "       [ 0.  ,  0.  ,  0.25,  0.  ],\n",
       "       [ 0.  ,  0.25,  0.  ,  0.  ],\n",
       "       [-0.25,  0.  ,  0.  ,  0.  ]])"
      ]
     },
     "execution_count": 314,
     "metadata": {},
     "output_type": "execute_result"
    }
   ],
   "source": [
    "SySy"
   ]
  },
  {
   "cell_type": "code",
   "execution_count": 315,
   "id": "3d854cbb",
   "metadata": {},
   "outputs": [
    {
     "data": {
      "text/plain": [
       "array([[ 0.25,  0.  ,  0.  ,  0.  ],\n",
       "       [ 0.  , -0.25,  0.  , -0.  ],\n",
       "       [ 0.  ,  0.  , -0.25, -0.  ],\n",
       "       [ 0.  , -0.  , -0.  ,  0.25]])"
      ]
     },
     "execution_count": 315,
     "metadata": {},
     "output_type": "execute_result"
    }
   ],
   "source": [
    "SzSz"
   ]
  },
  {
   "cell_type": "code",
   "execution_count": null,
   "id": "b80541ef",
   "metadata": {},
   "outputs": [],
   "source": []
  },
  {
   "cell_type": "code",
   "execution_count": 10,
   "id": "f4e62d3b",
   "metadata": {},
   "outputs": [],
   "source": []
  },
  {
   "cell_type": "code",
   "execution_count": 87,
   "id": "3348efe6",
   "metadata": {},
   "outputs": [],
   "source": [
    "import numpy as np\n",
    "\n",
    "def cartesian_to_spherical(x, y, z):\n",
    "    r = np.sqrt(x**2 + y**2 + z**2)\n",
    "    theta = np.arccos(z / r)\n",
    "    phi = np.arctan2(y, x)\n",
    "    return r, theta, phi\n",
    "\n",
    "def rotation_matrix(theta, phi):\n",
    "    # Convert angles from degrees to radians\n",
    "\n",
    "    # Rotation matrix around the x-axis\n",
    "    Rx = np.array([[1, 0, 0],\n",
    "                   [0, np.cos(phi), -np.sin(phi)],\n",
    "                   [0, np.sin(phi), np.cos(phi)]])\n",
    "    \n",
    "    \n",
    "    # Rotation matrix around the z-axis\n",
    "    Rz = np.array([[np.cos(theta), 0, -np.sin(theta)],\n",
    "                   [0, 1, 0],\n",
    "                   [np.sin(theta), 0, np.cos(theta)]])\n",
    "    \n",
    "    print(Rz)\n",
    "\n",
    "    # Combined rotation matrix (Rz first, then Rx)\n",
    "    R = np.dot(Rz, Rx)\n",
    "\n",
    "    return R\n",
    "\n",
    "r, theta, phi = cartesian_to_spherical(h[0], h[1], h[2])"
   ]
  },
  {
   "cell_type": "code",
   "execution_count": 88,
   "id": "c34d187f",
   "metadata": {},
   "outputs": [
    {
     "data": {
      "text/plain": [
       "0.2449786631268647"
      ]
     },
     "execution_count": 88,
     "metadata": {},
     "output_type": "execute_result"
    }
   ],
   "source": [
    "theta"
   ]
  },
  {
   "cell_type": "code",
   "execution_count": 97,
   "id": "1e66696b",
   "metadata": {},
   "outputs": [
    {
     "data": {
      "text/plain": [
       "0.2449786631268647"
      ]
     },
     "execution_count": 97,
     "metadata": {},
     "output_type": "execute_result"
    }
   ],
   "source": [
    "theta"
   ]
  },
  {
   "cell_type": "code",
   "execution_count": 93,
   "id": "faf81cc3",
   "metadata": {},
   "outputs": [],
   "source": [
    "import scipy\n",
    "U2 = scipy.linalg.expm(-1j * theta * Sy)"
   ]
  },
  {
   "cell_type": "code",
   "execution_count": 99,
   "id": "4dbaa5b0",
   "metadata": {},
   "outputs": [
    {
     "data": {
      "text/plain": [
       "array([[ 0.12126782+0.j,  0.48507127+0.j],\n",
       "       [ 0.48507127+0.j, -0.12126782+0.j]])"
      ]
     },
     "execution_count": 99,
     "metadata": {},
     "output_type": "execute_result"
    }
   ],
   "source": [
    "U2.T.conj() @ Sx @ U2"
   ]
  },
  {
   "cell_type": "code",
   "execution_count": 105,
   "id": "854f9ba2",
   "metadata": {},
   "outputs": [
    {
     "name": "stdout",
     "output_type": "stream",
     "text": [
      "[[ 0.99500417  0.         -0.09983342]\n",
      " [ 0.          1.          0.        ]\n",
      " [ 0.09983342  0.          0.99500417]]\n"
     ]
    },
    {
     "data": {
      "text/plain": [
       "array([-1.39167987, -1.10832013,  0.9091528 ,  1.5908472 ])"
      ]
     },
     "execution_count": 105,
     "metadata": {},
     "output_type": "execute_result"
    }
   ],
   "source": [
    "J = np.array([-1, 5, 0.3])\n",
    "h = np.array([0, 0, 0])\n",
    "rot = (np.pi/2 - theta)/2\n",
    "R = rotation_matrix(0.1, phi)\n",
    "\n",
    "\n",
    "h = R.T @ R.T @ h\n",
    "J = R.T @ J\n",
    "h_single = h[2] * Sz + h[0] * Sx\n",
    "h_single = np.kron(h_single, I2) + np.kron(I2, h_single)\n",
    "\n",
    "H = J[0] * SxSx + J[1] * SySy + J[2] * SzSz + h_single\n",
    "np.linalg.eigvalsh(H)"
   ]
  },
  {
   "cell_type": "code",
   "execution_count": 32,
   "id": "13bd21d4",
   "metadata": {},
   "outputs": [
    {
     "data": {
      "text/plain": [
       "array([[-4.00000000e+00, -0.00000000e+00, -1.71142705e-08,\n",
       "        -0.00000000e+00, -6.84570831e-08, -0.00000000e+00,\n",
       "        -1.71142705e-08, -0.00000000e+00, -2.92898264e-16],\n",
       "       [-0.00000000e+00, -9.99999966e-01, -0.00000000e+00,\n",
       "        -2.99999995e+00, -0.00000000e+00, -5.13428123e-08,\n",
       "        -0.00000000e+00, -3.42285410e-08, -0.00000000e+00],\n",
       "       [-1.71142705e-08, -0.00000000e+00,  1.00000003e+00,\n",
       "        -0.00000000e+00, -1.99999997e+00, -0.00000000e+00,\n",
       "        -9.99999966e-01, -0.00000000e+00, -1.71142705e-08],\n",
       "       [-0.00000000e+00, -2.99999995e+00, -0.00000000e+00,\n",
       "        -9.99999966e-01, -0.00000000e+00, -3.42285410e-08,\n",
       "        -0.00000000e+00, -5.13428123e-08, -0.00000000e+00],\n",
       "       [-6.84570831e-08, -0.00000000e+00, -1.99999997e+00,\n",
       "        -0.00000000e+00, -1.99999993e+00, -0.00000000e+00,\n",
       "        -1.99999997e+00, -0.00000000e+00, -6.84570831e-08],\n",
       "       [-0.00000000e+00, -5.13428123e-08, -0.00000000e+00,\n",
       "        -3.42285410e-08, -0.00000000e+00, -9.99999966e-01,\n",
       "        -0.00000000e+00, -2.99999995e+00, -0.00000000e+00],\n",
       "       [-1.71142705e-08, -0.00000000e+00, -9.99999966e-01,\n",
       "        -0.00000000e+00, -1.99999997e+00, -0.00000000e+00,\n",
       "         1.00000003e+00, -0.00000000e+00, -1.71142705e-08],\n",
       "       [-0.00000000e+00, -3.42285410e-08, -0.00000000e+00,\n",
       "        -5.13428123e-08, -0.00000000e+00, -2.99999995e+00,\n",
       "        -0.00000000e+00, -9.99999966e-01, -0.00000000e+00],\n",
       "       [-2.92898264e-16, -0.00000000e+00, -1.71142705e-08,\n",
       "        -0.00000000e+00, -6.84570831e-08, -0.00000000e+00,\n",
       "        -1.71142705e-08, -0.00000000e+00, -4.00000000e+00]])"
      ]
     },
     "execution_count": 32,
     "metadata": {},
     "output_type": "execute_result"
    }
   ],
   "source": [
    "H"
   ]
  }
 ],
 "metadata": {
  "kernelspec": {
   "display_name": "Python 3 (ipykernel)",
   "language": "python",
   "name": "python3"
  },
  "language_info": {
   "codemirror_mode": {
    "name": "ipython",
    "version": 3
   },
   "file_extension": ".py",
   "mimetype": "text/x-python",
   "name": "python",
   "nbconvert_exporter": "python",
   "pygments_lexer": "ipython3",
   "version": "3.9.18"
  }
 },
 "nbformat": 4,
 "nbformat_minor": 5
}
