{
 "cells": [
  {
   "cell_type": "code",
   "execution_count": 7,
   "id": "16ff457b",
   "metadata": {},
   "outputs": [],
   "source": [
    "import numpy as np\n",
    "\n",
    "H = np.load(\"array/torch/HXYZ1D_loc/Jx_0.8_Jy_0.5_Jz_-0.3_hx_0.3_hz_0_lt_1/H/0.npy\")"
   ]
  },
  {
   "cell_type": "code",
   "execution_count": 6,
   "id": "46bd3f5f",
   "metadata": {},
   "outputs": [
    {
     "data": {
      "text/plain": [
       "array([[ 0.075, -0.   , -0.   , -0.075],\n",
       "       [-0.   , -0.075, -0.325, -0.   ],\n",
       "       [-0.   , -0.325, -0.075, -0.   ],\n",
       "       [-0.075, -0.   , -0.   ,  0.075]])"
      ]
     },
     "execution_count": 6,
     "metadata": {},
     "output_type": "execute_result"
    }
   ],
   "source": [
    "H"
   ]
  },
  {
   "cell_type": "code",
   "execution_count": 23,
   "id": "93673682",
   "metadata": {},
   "outputs": [],
   "source": [
    "from utils import stoquastic"
   ]
  },
  {
   "cell_type": "code",
   "execution_count": 27,
   "id": "6958a037",
   "metadata": {},
   "outputs": [
    {
     "data": {
      "text/plain": [
       "array([-0.75,  0.25,  0.25,  0.25])"
      ]
     },
     "execution_count": 27,
     "metadata": {},
     "output_type": "execute_result"
    }
   ],
   "source": [
    "np.linalg.eigvalsh(stoquastic(H1))"
   ]
  },
  {
   "cell_type": "code",
   "execution_count": 31,
   "id": "e6c0a8c4",
   "metadata": {},
   "outputs": [
    {
     "data": {
      "text/plain": [
       "array([[ 0.25, -0.  , -0.  , -0.  ],\n",
       "       [-0.  , -0.25,  0.5 , -0.  ],\n",
       "       [-0.  ,  0.5 , -0.25, -0.  ],\n",
       "       [-0.  , -0.  , -0.  ,  0.25]])"
      ]
     },
     "execution_count": 31,
     "metadata": {},
     "output_type": "execute_result"
    }
   ],
   "source": [
    "H1"
   ]
  },
  {
   "cell_type": "code",
   "execution_count": 30,
   "id": "b80541ef",
   "metadata": {},
   "outputs": [
    {
     "data": {
      "text/plain": [
       "array([[ 0.25,  0.  ,  0.  ,  0.  ],\n",
       "       [ 0.  , -0.25, -0.5 ,  0.  ],\n",
       "       [ 0.  , -0.5 , -0.25,  0.  ],\n",
       "       [ 0.  ,  0.  ,  0.  ,  0.25]])"
      ]
     },
     "execution_count": 30,
     "metadata": {},
     "output_type": "execute_result"
    }
   ],
   "source": [
    "stoquastic(H1)"
   ]
  },
  {
   "cell_type": "code",
   "execution_count": 21,
   "id": "f4e62d3b",
   "metadata": {},
   "outputs": [
    {
     "data": {
      "text/plain": [
       "array([-0.25, -0.25, -0.25,  0.75])"
      ]
     },
     "execution_count": 21,
     "metadata": {},
     "output_type": "execute_result"
    }
   ],
   "source": [
    "np.linalg.eigvalsh(H2)"
   ]
  },
  {
   "cell_type": "code",
   "execution_count": 13,
   "id": "c39a50cf",
   "metadata": {},
   "outputs": [
    {
     "data": {
      "text/plain": [
       "array([[-0.9629321 , -0.26974391],\n",
       "       [-0.26974391,  0.9629321 ]])"
      ]
     },
     "execution_count": 13,
     "metadata": {},
     "output_type": "execute_result"
    }
   ],
   "source": [
    "u"
   ]
  },
  {
   "cell_type": "code",
   "execution_count": null,
   "id": "3348efe6",
   "metadata": {},
   "outputs": [],
   "source": []
  }
 ],
 "metadata": {
  "kernelspec": {
   "display_name": "Python 3 (ipykernel)",
   "language": "python",
   "name": "python3"
  },
  "language_info": {
   "codemirror_mode": {
    "name": "ipython",
    "version": 3
   },
   "file_extension": ".py",
   "mimetype": "text/x-python",
   "name": "python",
   "nbconvert_exporter": "python",
   "pygments_lexer": "ipython3",
   "version": "3.9.18"
  }
 },
 "nbformat": 4,
 "nbformat_minor": 5
}
