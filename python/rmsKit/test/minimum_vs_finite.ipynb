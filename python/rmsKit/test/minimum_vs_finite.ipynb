{
 "cells": [
  {
   "cell_type": "code",
   "execution_count": 9,
   "metadata": {},
   "outputs": [
    {
     "name": "stdout",
     "output_type": "stream",
     "text": [
      "The autoreload extension is already loaded. To reload it, use:\n",
      "  %reload_ext autoreload\n"
     ]
    }
   ],
   "source": [
    "%load_ext autoreload\n",
    "%autoreload 2\n",
    "import sys\n",
    "sys.path.append(\"/home/user/project/python/rmsKit\")\n",
    "import os\n",
    "import torch\n",
    "from lattice import KH\n",
    "# # os.environ[\"CUDA_VISIBLE_DEVICES\"] = \"\"\n",
    "# # os.environ[\"XLA_PYTHON_CLIENT_PREALLOCATE\"] = \"false\"\n",
    "import rms_torch\n",
    "import numpy as np\n",
    "# u = np.load(\"/home/user/project/python/rmsKit/array/KH/3site/sel/Jx_1_Jy_1_Jz_1_hx_0_hz_0/M_1/u/0.npy\")\n",
    "u = np.load(\"/home/user/project/python/rmsKit/array/torch/KH/3site/smel/\"+\n",
    "        \"Jx_1_Jy_1_Jz_1_hx_0_hz_0/e_100_lr_0.001/loss_7.985083/u/0.npy\")\n",
    "device = torch.device(\"cuda\")\n",
    "p = dict(\n",
    "    Jx=1,\n",
    "    Jy=1,\n",
    "    Jz=1,\n",
    "    hx=0,\n",
    "    hz=0,\n",
    ")\n",
    "H = KH.system([2, 2], \"3site\", p)\n",
    "# Create an instance of the CustomModel class\n",
    "E, V = np.linalg.eigh(H)"
   ]
  },
  {
   "cell_type": "code",
   "execution_count": 16,
   "metadata": {},
   "outputs": [],
   "source": [
    "H_gpu = torch.tensor(H, dtype=torch.float64, device=device)\n",
    "model = rms_torch.UnitaryRieman(H.shape[0], 8, device=device, u0=u).to(device)\n",
    "loss_smel = rms_torch.SystemMinimumEnergyLoss(H, device=device).to(device)\n",
    "loss_sel = rms_torch.SystemEnergyLoss(H, device=device).to(device)\n",
    "compiled_model = torch.compile(model, dynamic = False, fullgraph=True)\n"
   ]
  },
  {
   "attachments": {},
   "cell_type": "markdown",
   "metadata": {},
   "source": [
    "## Before optimization"
   ]
  },
  {
   "cell_type": "code",
   "execution_count": 23,
   "metadata": {},
   "outputs": [
    {
     "name": "stdout",
     "output_type": "stream",
     "text": [
      "System finite temperature energy:  10.788146799451779\n",
      "System minimum energy:  8.195037963688478\n"
     ]
    }
   ],
   "source": [
    "loss_smel.initializer(torch.eye(4096, device=device, dtype = torch.float64))\n",
    "sel = loss_sel(torch.eye(4096, device=device, dtype = torch.float64)).item()\n",
    "smel = loss_smel(torch.eye(4096, device=device, dtype = torch.float64)).item()\n",
    "print(\"System finite temperature energy: \", sel)\n",
    "print(\"System minimum energy: \", smel)"
   ]
  },
  {
   "attachments": {},
   "cell_type": "markdown",
   "metadata": {},
   "source": [
    "## SML optimization \n",
    "\n",
    "We optimized minimum eigen value"
   ]
  },
  {
   "cell_type": "code",
   "execution_count": 25,
   "metadata": {},
   "outputs": [
    {
     "name": "stdout",
     "output_type": "stream",
     "text": [
      "System finite temperature energy:  10.690365032623017\n",
      "System minimum energy:  7.985082781440802\n"
     ]
    }
   ],
   "source": [
    "loss_smel.initializer(compiled_model())\n",
    "sel = loss_sel(compiled_model()).item()\n",
    "smel = loss_smel(compiled_model()).item()\n",
    "print(\"System finite temperature energy: \", sel)\n",
    "print(\"System minimum energy: \", smel)"
   ]
  },
  {
   "attachments": {},
   "cell_type": "markdown",
   "metadata": {},
   "source": [
    "## SEL optimization\n"
   ]
  },
  {
   "cell_type": "code",
   "execution_count": 37,
   "metadata": {},
   "outputs": [
    {
     "name": "stdout",
     "output_type": "stream",
     "text": [
      "System finite temperature energy:  10.699970951642108\n",
      "System minimum energy:  8.030657783532432\n"
     ]
    }
   ],
   "source": [
    "u1 = np.load(\"/home/user/project/python/rmsKit/array/KH/3site/sel/Jx_1_Jy_1_Jz_1_hx_0_hz_0/M_1/u/0.npy\")\n",
    "model2 = rms_torch.UnitaryRieman(H.shape[0], 8, device=device, u0=u1).to(device)\n",
    "compiled_model2 = torch.compile(model2, dynamic = False, fullgraph=True)\n",
    "\n",
    "loss_smel.initializer(compiled_model2())\n",
    "sel = loss_sel(compiled_model2()).item()\n",
    "smel = loss_smel(compiled_model2()).item()\n",
    "print(\"System finite temperature energy: \", sel)\n",
    "print(\"System minimum energy: \", smel)"
   ]
  }
 ],
 "metadata": {
  "kernelspec": {
   "display_name": "py39",
   "language": "python",
   "name": "python3"
  },
  "language_info": {
   "codemirror_mode": {
    "name": "ipython",
    "version": 3
   },
   "file_extension": ".py",
   "mimetype": "text/x-python",
   "name": "python",
   "nbconvert_exporter": "python",
   "pygments_lexer": "ipython3",
   "version": "3.9.16"
  },
  "orig_nbformat": 4,
  "vscode": {
   "interpreter": {
    "hash": "635093cb382d24e7bb09df67eef84e97b3e0429c00b0294b3c9882ac411b8a1a"
   }
  }
 },
 "nbformat": 4,
 "nbformat_minor": 2
}
