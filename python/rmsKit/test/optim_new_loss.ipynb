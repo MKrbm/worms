{
 "cells": [
  {
   "cell_type": "code",
   "execution_count": 1,
   "metadata": {},
   "outputs": [
    {
     "name": "stderr",
     "output_type": "stream",
     "text": [
      "/home/user/miniconda3/envs/py39/lib/python3.9/site-packages/tqdm/auto.py:22: TqdmWarning: IProgress not found. Please update jupyter and ipywidgets. See https://ipywidgets.readthedocs.io/en/stable/user_install.html\n",
      "  from .autonotebook import tqdm as notebook_tqdm\n"
     ]
    }
   ],
   "source": [
    "import sys\n",
    "sys.path.append(\"/home/user/project/python/reduce_nsp\")\n",
    "sys.path.append(\"/home/user/project/python/exact\")\n",
    "import nsp\n",
    "from jax_exact.core.constants import *\n",
    "import numpy as np\n",
    "\n",
    "from jax import numpy as jnp\n",
    "import jax\n",
    "\n",
    "bonds = [[0,0,2], [1,0,1], [2,0,3], [0,1,3], [1,1,0], [2,1,2], [0,2,0], [1,2,3], [2,2,1], [0,3,1], [1,3,2], [2,3,0]]\n",
    "_bonds = [[], [], []]\n",
    "for bond in bonds:\n",
    "    _bonds[bond[0]].append(bond[1:])"
   ]
  },
  {
   "cell_type": "code",
   "execution_count": 2,
   "metadata": {},
   "outputs": [],
   "source": [
    "H0 = -np.load(\"/home/user/project/python/make_local/array/KH/3site/none/Jx_1_Jy_1_Jz_1_hx_0_hz_0/H/0.npy\")\n",
    "H1 = -np.load(\"/home/user/project/python/make_local/array/KH/3site/none/Jx_1_Jy_1_Jz_1_hx_0_hz_0/H/1.npy\")\n",
    "H2 = -np.load(\"/home/user/project/python/make_local/array/KH/3site/none/Jx_1_Jy_1_Jz_1_hx_0_hz_0/H/2.npy\")\n",
    "u = np.load(\"/home/user/project/python/make_local/array/KH/3site/mes/Jx_1_Jy_1_Jz_1_hx_0_hz_0/M_240/u/0.npy\")\n",
    "\n",
    "H_list = [H0, H1, H2]\n",
    "SH_list = [\n",
    "    -nsp.utils.stoquastic(-H) for H in H_list\n",
    "]"
   ]
  },
  {
   "cell_type": "code",
   "execution_count": 3,
   "metadata": {},
   "outputs": [],
   "source": [
    "H = nsp.utils.sum_ham(H_list[0], _bonds[0], 4, 8)\n",
    "H += nsp.utils.sum_ham(H_list[1], _bonds[1], 4, 8)\n",
    "H += nsp.utils.sum_ham(H_list[2], _bonds[2], 4, 8)\n",
    "H = jnp.array(H)\n",
    "E, V = jax.scipy.linalg.eigh(H)\n",
    "gs = V[:,0]"
   ]
  },
  {
   "cell_type": "code",
   "execution_count": 5,
   "metadata": {},
   "outputs": [
    {
     "data": {
      "text/plain": [
       "(8, 8)"
      ]
     },
     "execution_count": 5,
     "metadata": {},
     "output_type": "execute_result"
    }
   ],
   "source": []
  },
  {
   "cell_type": "code",
   "execution_count": null,
   "metadata": {},
   "outputs": [],
   "source": []
  }
 ],
 "metadata": {
  "kernelspec": {
   "display_name": "py39",
   "language": "python",
   "name": "python3"
  },
  "language_info": {
   "codemirror_mode": {
    "name": "ipython",
    "version": 3
   },
   "file_extension": ".py",
   "mimetype": "text/x-python",
   "name": "python",
   "nbconvert_exporter": "python",
   "pygments_lexer": "ipython3",
   "version": "3.9.16"
  },
  "orig_nbformat": 4,
  "vscode": {
   "interpreter": {
    "hash": "635093cb382d24e7bb09df67eef84e97b3e0429c00b0294b3c9882ac411b8a1a"
   }
  }
 },
 "nbformat": 4,
 "nbformat_minor": 2
}
