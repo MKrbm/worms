{
 "cells": [
  {
   "cell_type": "code",
   "execution_count": 23,
   "id": "c9c17698",
   "metadata": {},
   "outputs": [],
   "source": [
    "import sys\n",
    "import numpy as np\n",
    "sys.path.append(\"../\")\n",
    "import utils"
   ]
  },
  {
   "cell_type": "code",
   "execution_count": 24,
   "id": "6ecf1e73",
   "metadata": {},
   "outputs": [],
   "source": [
    "h = -np.load(\"../array/torch/FF1D_loc/original/none/s_3_r_2_seed_1/H/0.npy\")\n",
    "# u = np.load(\"../array/torch/FF1D_loc/original/mes/s_3_r_2_l_6_seed_0/e_1000_lr_0.01/loss_0.204822/u/0.npy\")      "
   ]
  },
  {
   "cell_type": "code",
   "execution_count": 21,
   "id": "ac02d577",
   "metadata": {},
   "outputs": [],
   "source": [
    "h = h - np.eye(h.shape[0])\n",
    "e, V = np.linalg.eigh(h)\n",
    "U = np.kron(u, u)\n",
    "hu = U @ h @ U.T"
   ]
  },
  {
   "cell_type": "code",
   "execution_count": 35,
   "id": "330e4320",
   "metadata": {},
   "outputs": [],
   "source": [
    "L = 6\n",
    "H = utils.sum_ham(h, [[i, (i+1)%L] for i in range(L)], L, 3)"
   ]
  },
  {
   "cell_type": "code",
   "execution_count": 36,
   "id": "c13b60e8",
   "metadata": {},
   "outputs": [],
   "source": [
    "e, V = np.linalg.eigh(H)"
   ]
  },
  {
   "cell_type": "code",
   "execution_count": null,
   "id": "1092dc6d",
   "metadata": {},
   "outputs": [],
   "source": []
  }
 ],
 "metadata": {
  "kernelspec": {
   "display_name": "Python 3 (ipykernel)",
   "language": "python",
   "name": "python3"
  },
  "language_info": {
   "codemirror_mode": {
    "name": "ipython",
    "version": 3
   },
   "file_extension": ".py",
   "mimetype": "text/x-python",
   "name": "python",
   "nbconvert_exporter": "python",
   "pygments_lexer": "ipython3",
   "version": "3.9.18"
  }
 },
 "nbformat": 4,
 "nbformat_minor": 5
}
