{
 "cells": [
  {
   "cell_type": "code",
   "execution_count": 2,
   "metadata": {},
   "outputs": [
    {
     "name": "stderr",
     "output_type": "stream",
     "text": [
      "/home/user/miniconda3/envs/py39/lib/python3.9/site-packages/tqdm/auto.py:22: TqdmWarning: IProgress not found. Please update jupyter and ipywidgets. See https://ipywidgets.readthedocs.io/en/stable/user_install.html\n",
      "  from .autonotebook import tqdm as notebook_tqdm\n"
     ]
    }
   ],
   "source": [
    "%load_ext autoreload\n",
    "%autoreload 2\n",
    "import sys\n",
    "sys.path.append(\"/home/user/project/python/rmsKit\")\n",
    "import os\n",
    "import torch\n",
    "from lattice import KH, save_npy\n",
    "os.environ[\"CUDA_VISIBLE_DEVICES\"] = \"\"\n",
    "os.environ[\"XLA_PYTHON_CLIENT_PREALLOCATE\"] = \"false\"\n",
    "import rms_torch\n",
    "import numpy as np\n",
    "import rms\n",
    "\n",
    "# u = np.load(\"/home/user/project/python/rmsKit/array/KH/3site/sel/Jx_1_Jy_1_Jz_1_hx_0_hz_0/M_1/u/0.npy\")\n",
    "u = np.load(\"/home/user/project/python/rmsKit/array/torch/KH/3site/smel/\"+\n",
    "        \"Jx_1_Jy_1_Jz_1_hx_0_hz_0/e_100_lr_0.001/loss_7.985083/u/0.npy\")\n",
    "device = torch.device(\"cuda\")\n",
    "p = dict(\n",
    "    Jx=1,\n",
    "    Jy=1,\n",
    "    Jz=1,\n",
    "    hx=0,\n",
    "    hz=0,\n",
    ")\n",
    "h_list = KH.local(\"3site\", p)\n",
    "U = np.kron(u, u)\n",
    "\n",
    "#* don't forget to add minus sign to h\n",
    "h_list_prime = [-np.array(U @ h @ U.T) for h in h_list[0]]\n",
    "save_npy(f\"/home/user/project/python/rmsKit/array/torch/KH/3site/smel/\"+\n",
    "        \"Jx_1_Jy_1_Jz_1_hx_0_hz_0/e_100_lr_0.001/loss_7.985083/H\", h_list_prime)"
   ]
  },
  {
   "cell_type": "code",
   "execution_count": 16,
   "metadata": {},
   "outputs": [],
   "source": [
    "H_gpu = torch.tensor(H, dtype=torch.float64, device=device)\n",
    "model = rms_torch.UnitaryRieman(H.shape[0], 8, device=device, u0=u).to(device)\n",
    "loss_smel = rms_torch.SystemMinimumEnergyLoss(H, device=device).to(device)\n",
    "loss_sel = rms_torch.SystemEnergyLoss(H, device=device).to(device)\n",
    "compiled_model = torch.compile(model, dynamic = False, fullgraph=True)\n"
   ]
  },
  {
   "attachments": {},
   "cell_type": "markdown",
   "metadata": {},
   "source": [
    "## Before optimization"
   ]
  },
  {
   "cell_type": "code",
   "execution_count": 23,
   "metadata": {},
   "outputs": [
    {
     "name": "stdout",
     "output_type": "stream",
     "text": [
      "System finite temperature energy:  10.788146799451779\n",
      "System minimum energy:  8.195037963688478\n"
     ]
    }
   ],
   "source": [
    "loss_smel.initializer(torch.eye(4096, device=device, dtype = torch.float64))\n",
    "sel = loss_sel(torch.eye(4096, device=device, dtype = torch.float64)).item()\n",
    "smel = loss_smel(torch.eye(4096, device=device, dtype = torch.float64)).item()\n",
    "print(\"System finite temperature energy: \", sel)\n",
    "print(\"System minimum energy: \", smel)"
   ]
  },
  {
   "attachments": {},
   "cell_type": "markdown",
   "metadata": {},
   "source": [
    "## SML optimization \n",
    "\n",
    "We optimized minimum eigen value"
   ]
  },
  {
   "cell_type": "code",
   "execution_count": 25,
   "metadata": {},
   "outputs": [
    {
     "name": "stdout",
     "output_type": "stream",
     "text": [
      "System finite temperature energy:  10.690365032623017\n",
      "System minimum energy:  7.985082781440802\n"
     ]
    }
   ],
   "source": [
    "loss_smel.initializer(compiled_model())\n",
    "sel = loss_sel(compiled_model()).item()\n",
    "smel = loss_smel(compiled_model()).item()\n",
    "print(\"System finite temperature energy: \", sel)\n",
    "print(\"System minimum energy: \", smel)"
   ]
  },
  {
   "attachments": {},
   "cell_type": "markdown",
   "metadata": {},
   "source": [
    "## SEL optimization\n"
   ]
  },
  {
   "cell_type": "code",
   "execution_count": 37,
   "metadata": {},
   "outputs": [
    {
     "name": "stdout",
     "output_type": "stream",
     "text": [
      "System finite temperature energy:  10.699970951642108\n",
      "System minimum energy:  8.030657783532432\n"
     ]
    }
   ],
   "source": [
    "u1 = np.load(\"/home/user/project/python/rmsKit/array/KH/3site/sel/Jx_1_Jy_1_Jz_1_hx_0_hz_0/M_1/u/0.npy\")\n",
    "model2 = rms_torch.UnitaryRieman(H.shape[0], 8, device=device, u0=u1).to(device)\n",
    "compiled_model2 = torch.compile(model2, dynamic = False, fullgraph=True)\n",
    "\n",
    "loss_smel.initializer(compiled_model2())\n",
    "sel = loss_sel(compiled_model2()).item()\n",
    "smel = loss_smel(compiled_model2()).item()\n",
    "print(\"System finite temperature energy: \", sel)\n",
    "print(\"System minimum energy: \", smel)"
   ]
  },
  {
   "cell_type": "code",
   "execution_count": null,
   "metadata": {},
   "outputs": [],
   "source": []
  },
  {
   "cell_type": "code",
   "execution_count": 27,
   "metadata": {},
   "outputs": [],
   "source": [
    "h1 = np.load(\"0.npy\")\n",
    "h2 = np.load(\"1.npy\")\n",
    "h3 = np.load(\"2.npy\")"
   ]
  },
  {
   "cell_type": "code",
   "execution_count": 19,
   "metadata": {},
   "outputs": [
    {
     "data": {
      "text/plain": [
       "(array([ 1,  3, 25, 27, 41, 43, 49, 51]),\n",
       " array([ 3,  1, 27, 25, 43, 41, 51, 49]))"
      ]
     },
     "execution_count": 19,
     "metadata": {},
     "output_type": "execute_result"
    }
   ],
   "source": [
    "np.where(np.abs(-0.11785106 - h_list_prime[0]) < 1E-8)"
   ]
  },
  {
   "cell_type": "code",
   "execution_count": 20,
   "metadata": {},
   "outputs": [
    {
     "name": "stdout",
     "output_type": "stream",
     "text": [
      "0 0 -4.496925849443831e-06\n",
      "0 1 -5.137348502907461e-05\n",
      "0 2 7.848753057178515e-05\n",
      "0 3 -1.656699728947993e-05\n",
      "0 4 -1.778307781966555e-05\n",
      "1 0 -5.137348502915376e-05\n",
      "1 1 0.16666670986278273\n",
      "1 2 -3.103655928599431e-05\n",
      "1 3 -0.11785629850799827\n",
      "1 4 1.4818667503460935e-05\n",
      "2 0 7.84875305717614e-05\n",
      "2 1 -3.103655928601166e-05\n",
      "2 2 -0.4999997205711204\n",
      "2 3 -1.686455903025833e-05\n",
      "2 4 -2.5938780355883226e-05\n",
      "3 0 -1.656699728945294e-05\n",
      "3 1 -0.11785629850799832\n",
      "3 2 -1.686455903025139e-05\n",
      "3 3 -0.16666596146430332\n",
      "3 4 1.043730927097233e-05\n",
      "4 0 -1.7783077819691516e-05\n",
      "4 1 1.4818667503448792e-05\n",
      "4 2 -2.593878035588149e-05\n",
      "4 3 1.043730927091335e-05\n",
      "4 4 -0.33333079565882834\n"
     ]
    }
   ],
   "source": [
    "for i in range(5):\n",
    "    for j in range(5):\n",
    "        print(i, j, h_list_prime[0][2 + i*8,2 + j*8])"
   ]
  },
  {
   "cell_type": "code",
   "execution_count": 11,
   "metadata": {},
   "outputs": [
    {
     "data": {
      "text/plain": [
       "array([], shape=(0, 2), dtype=int64)"
      ]
     },
     "execution_count": 11,
     "metadata": {},
     "output_type": "execute_result"
    }
   ],
   "source": [
    "np.argwhere(np.abs(h_list_prime[0] - 0.43333375) < 1E-4)"
   ]
  }
 ],
 "metadata": {
  "kernelspec": {
   "display_name": "py39",
   "language": "python",
   "name": "python3"
  },
  "language_info": {
   "codemirror_mode": {
    "name": "ipython",
    "version": 3
   },
   "file_extension": ".py",
   "mimetype": "text/x-python",
   "name": "python",
   "nbconvert_exporter": "python",
   "pygments_lexer": "ipython3",
   "version": "3.9.16"
  },
  "orig_nbformat": 4,
  "vscode": {
   "interpreter": {
    "hash": "635093cb382d24e7bb09df67eef84e97b3e0429c00b0294b3c9882ac411b8a1a"
   }
  }
 },
 "nbformat": 4,
 "nbformat_minor": 2
}
