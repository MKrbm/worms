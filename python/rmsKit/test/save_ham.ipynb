{
 "cells": [
  {
   "cell_type": "code",
   "execution_count": 2,
   "metadata": {},
   "outputs": [
    {
     "name": "stderr",
     "output_type": "stream",
     "text": [
      "/home/user/miniconda3/envs/py39/lib/python3.9/site-packages/tqdm/auto.py:22: TqdmWarning: IProgress not found. Please update jupyter and ipywidgets. See https://ipywidgets.readthedocs.io/en/stable/user_install.html\n",
      "  from .autonotebook import tqdm as notebook_tqdm\n"
     ]
    }
   ],
   "source": [
    "%load_ext autoreload\n",
    "%autoreload 2\n",
    "import sys\n",
    "sys.path.append(\"/home/user/project/python/rmsKit\")\n",
    "import os\n",
    "import torch\n",
    "from lattice import KH, save_npy\n",
    "os.environ[\"CUDA_VISIBLE_DEVICES\"] = \"\"\n",
    "os.environ[\"XLA_PYTHON_CLIENT_PREALLOCATE\"] = \"false\"\n",
    "import rms_torch\n",
    "import numpy as np\n",
    "import rms\n",
    "\n",
    "# u = np.load(\"/home/user/project/python/rmsKit/array/KH/3site/sel/Jx_1_Jy_1_Jz_1_hx_0_hz_0/M_1/u/0.npy\")\n",
    "u = np.load(\"/home/user/project/python/rmsKit/array/torch/KH/3site/smel/\"+\n",
    "        \"Jx_1_Jy_1_Jz_1_hx_0_hz_0/e_100_lr_0.001/loss_7.985083/u/0.npy\")\n",
    "device = torch.device(\"cuda\")\n",
    "p = dict(\n",
    "    Jx=1,\n",
    "    Jy=1,\n",
    "    Jz=1,\n",
    "    hx=0,\n",
    "    hz=0,\n",
    ")\n",
    "h_list = KH.local(\"3site\", p)\n",
    "U = np.kron(u, u)\n",
    "\n",
    "#* don't forget to add minus sign to h\n",
    "h_list_prime = [-np.array(U @ h @ U.T) for h in h_list[0]]\n",
    "save_npy(f\"/home/user/project/python/rmsKit/array/torch/KH/3site/smel/\"+\n",
    "        \"Jx_1_Jy_1_Jz_1_hx_0_hz_0/e_100_lr_0.001/loss_7.985083/H\", h_list_prime)"
   ]
  },
  {
   "cell_type": "code",
   "execution_count": 16,
   "metadata": {},
   "outputs": [],
   "source": [
    "H_gpu = torch.tensor(H, dtype=torch.float64, device=device)\n",
    "model = rms_torch.UnitaryRieman(H.shape[0], 8, device=device, u0=u).to(device)\n",
    "loss_smel = rms_torch.SystemMinimumEnergyLoss(H, device=device).to(device)\n",
    "loss_sel = rms_torch.SystemEnergyLoss(H, device=device).to(device)\n",
    "compiled_model = torch.compile(model, dynamic = False, fullgraph=True)\n"
   ]
  },
  {
   "attachments": {},
   "cell_type": "markdown",
   "metadata": {},
   "source": [
    "## Before optimization"
   ]
  },
  {
   "cell_type": "code",
   "execution_count": 23,
   "metadata": {},
   "outputs": [
    {
     "name": "stdout",
     "output_type": "stream",
     "text": [
      "System finite temperature energy:  10.788146799451779\n",
      "System minimum energy:  8.195037963688478\n"
     ]
    }
   ],
   "source": [
    "loss_smel.initializer(torch.eye(4096, device=device, dtype = torch.float64))\n",
    "sel = loss_sel(torch.eye(4096, device=device, dtype = torch.float64)).item()\n",
    "smel = loss_smel(torch.eye(4096, device=device, dtype = torch.float64)).item()\n",
    "print(\"System finite temperature energy: \", sel)\n",
    "print(\"System minimum energy: \", smel)"
   ]
  },
  {
   "attachments": {},
   "cell_type": "markdown",
   "metadata": {},
   "source": [
    "## SML optimization \n",
    "\n",
    "We optimized minimum eigen value"
   ]
  },
  {
   "cell_type": "code",
   "execution_count": 25,
   "metadata": {},
   "outputs": [
    {
     "name": "stdout",
     "output_type": "stream",
     "text": [
      "System finite temperature energy:  10.690365032623017\n",
      "System minimum energy:  7.985082781440802\n"
     ]
    }
   ],
   "source": [
    "loss_smel.initializer(compiled_model())\n",
    "sel = loss_sel(compiled_model()).item()\n",
    "smel = loss_smel(compiled_model()).item()\n",
    "print(\"System finite temperature energy: \", sel)\n",
    "print(\"System minimum energy: \", smel)"
   ]
  },
  {
   "attachments": {},
   "cell_type": "markdown",
   "metadata": {},
   "source": [
    "## SEL optimization\n"
   ]
  },
  {
   "cell_type": "code",
   "execution_count": 37,
   "metadata": {},
   "outputs": [
    {
     "name": "stdout",
     "output_type": "stream",
     "text": [
      "System finite temperature energy:  10.699970951642108\n",
      "System minimum energy:  8.030657783532432\n"
     ]
    }
   ],
   "source": [
    "u1 = np.load(\"/home/user/project/python/rmsKit/array/KH/3site/sel/Jx_1_Jy_1_Jz_1_hx_0_hz_0/M_1/u/0.npy\")\n",
    "model2 = rms_torch.UnitaryRieman(H.shape[0], 8, device=device, u0=u1).to(device)\n",
    "compiled_model2 = torch.compile(model2, dynamic = False, fullgraph=True)\n",
    "\n",
    "loss_smel.initializer(compiled_model2())\n",
    "sel = loss_sel(compiled_model2()).item()\n",
    "smel = loss_smel(compiled_model2()).item()\n",
    "print(\"System finite temperature energy: \", sel)\n",
    "print(\"System minimum energy: \", smel)"
   ]
  },
  {
   "cell_type": "code",
   "execution_count": 17,
   "metadata": {},
   "outputs": [],
   "source": [
    "H = KH.system([2,2],\"3site\", p)\n",
    "H_prime = np.kron(U, U) @ H @ np.kron(U, U).T\n"
   ]
  },
  {
   "cell_type": "code",
   "execution_count": 27,
   "metadata": {},
   "outputs": [],
   "source": [
    "h1 = np.load(\"0.npy\")\n",
    "h2 = np.load(\"1.npy\")\n",
    "h3 = np.load(\"2.npy\")"
   ]
  },
  {
   "cell_type": "code",
   "execution_count": 12,
   "metadata": {},
   "outputs": [],
   "source": [
    "def int_to_6_digit_binary(number):\n",
    "    binary_str = format(number, 'b')  # Convert the integer to its binary representation\n",
    "    padded_binary_str = binary_str.zfill(6)  # Pad with leading zeros to ensure 6 digits\n",
    "    \n",
    "    binary_vector = np.array([int(digit) for digit in padded_binary_str])\n",
    "    return binary_vector"
   ]
  },
  {
   "cell_type": "code",
   "execution_count": 13,
   "metadata": {},
   "outputs": [],
   "source": [
    "h_list_shift = []\n",
    "for h in h_list_prime:\n",
    "    h = h.copy()\n",
    "    shift = 0\n",
    "    for i in range(h.shape[0]):\n",
    "        shift = min(shift, h[i, i])\n",
    "    shift *= -1;\n",
    "    shift += 0.1\n",
    "    h += shift * np.eye(h.shape[0])\n",
    "    h_list_shift.append(h)"
   ]
  },
  {
   "cell_type": "code",
   "execution_count": 11,
   "metadata": {},
   "outputs": [
    {
     "data": {
      "text/plain": [
       "array([0.84999522, 0.76666207, 0.59999522, 0.68333736, 0.76667329,\n",
       "       0.68332615, 0.85000422, 0.60000424, 1.01666653, 0.93333337,\n",
       "       0.76666643, 0.34999972, 0.43333565, 0.84999748, 0.5166666 ,\n",
       "       0.26666675, 0.34999989, 0.26666675, 0.1       , 0.68333272,\n",
       "       0.76666865, 0.1833308 , 0.84999955, 0.59999945, 0.68333376,\n",
       "       0.60000061, 0.43333376, 0.5166651 , 0.60000103, 0.51666468,\n",
       "       0.68333196, 0.43333198, 0.51666881, 0.43333566, 0.26666892,\n",
       "       0.85000192, 0.93333785, 0.34999972, 1.01666876, 0.76666866,\n",
       "       0.68333514, 0.60000199, 0.43333515, 0.51665929, 0.59999522,\n",
       "       0.51666607, 0.68332615, 0.43332617, 0.84999883, 0.76666568,\n",
       "       0.59999884, 0.68333374, 0.76666967, 0.68332976, 0.8500006 ,\n",
       "       0.60000062, 0.84999957, 0.76666642, 0.59999948, 0.18333302,\n",
       "       0.26666895, 0.68333053, 0.3499999 , 0.10000005])"
      ]
     },
     "execution_count": 11,
     "metadata": {},
     "output_type": "execute_result"
    }
   ],
   "source": [
    "np.diag(h_list_shift[0])"
   ]
  },
  {
   "cell_type": "code",
   "execution_count": 14,
   "metadata": {},
   "outputs": [],
   "source": [
    "for j in range(8):\n",
    "    max_val = 0\n",
    "    for i in range(8**6):\n",
    "        state = int_to_6_digit_binary(i)\n",
    "        sum_val = 0\n",
    "        sum_val += np.diag(h_list_shift[0])[state[0] + j * 8]\n",
    "        sum_val += np.diag(h_list_shift[1])[state[2] + j * 8]\n",
    "        sum_val += np.diag(h_list_shift[2])[state[4] + j * 8]\n",
    "        sum_val += np.diag(h_list_shift[0])[state[1] * 8 + j]\n",
    "        sum_val += np.diag(h_list_shift[1])[state[3] * 8 + j]\n",
    "        sum_val += np.diag(h_list_shift[2])[state[5] * 8 + j]\n",
    "        max_val = max(max_val, sum_val)\n",
    "    print(max_val)"
   ]
  },
  {
   "cell_type": "code",
   "execution_count": 25,
   "metadata": {},
   "outputs": [
    {
     "data": {
      "text/plain": [
       "'max_val / 12'"
      ]
     },
     "execution_count": 25,
     "metadata": {},
     "output_type": "execute_result"
    }
   ],
   "source": []
  }
 ],
 "metadata": {
  "kernelspec": {
   "display_name": "py39",
   "language": "python",
   "name": "python3"
  },
  "language_info": {
   "codemirror_mode": {
    "name": "ipython",
    "version": 3
   },
   "file_extension": ".py",
   "mimetype": "text/x-python",
   "name": "python",
   "nbconvert_exporter": "python",
   "pygments_lexer": "ipython3",
   "version": "3.9.16"
  },
  "orig_nbformat": 4,
  "vscode": {
   "interpreter": {
    "hash": "635093cb382d24e7bb09df67eef84e97b3e0429c00b0294b3c9882ac411b8a1a"
   }
  }
 },
 "nbformat": 4,
 "nbformat_minor": 2
}
