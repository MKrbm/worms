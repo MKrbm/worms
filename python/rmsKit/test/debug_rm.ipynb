{
 "cells": [
  {
   "cell_type": "code",
   "execution_count": 1,
   "metadata": {},
   "outputs": [
    {
     "name": "stdout",
     "output_type": "stream",
     "text": [
      "/home/user/project/python/make_local\n"
     ]
    }
   ],
   "source": [
    "cd '/home/user/project/python/make_local/'"
   ]
  },
  {
   "cell_type": "code",
   "execution_count": 2,
   "metadata": {},
   "outputs": [],
   "source": [
    "%load_ext autoreload\n",
    "%autoreload 2"
   ]
  },
  {
   "cell_type": "code",
   "execution_count": 3,
   "metadata": {},
   "outputs": [
    {
     "name": "stderr",
     "output_type": "stream",
     "text": [
      "/home/user/miniconda3/envs/py39/lib/python3.9/site-packages/tqdm/auto.py:22: TqdmWarning: IProgress not found. Please update jupyter and ipywidgets. See https://ipywidgets.readthedocs.io/en/stable/user_install.html\n",
      "  from .autonotebook import tqdm as notebook_tqdm\n"
     ]
    }
   ],
   "source": [
    "from importlib import reload\n",
    "import sys\n",
    "import rms\n",
    "import jax \n",
    "import numpy as np\n",
    "import jax.numpy as jnp\n",
    "from jax.config import config\n",
    "sys.path.append(\"/home/user/project/python/reduce_nsp\")\n",
    "sys.path.append(\"/home/user/project/python/exact\")\n",
    "import nsp\n",
    "import numpy as np\n",
    "reload(rms)\n",
    "groundstate = np.load(\"../exact/test/out/KH_2x2/Jx_1_Jy_1_Jz_1_h_0/groundstate.npy\")\n"
   ]
  },
  {
   "cell_type": "code",
   "execution_count": 4,
   "metadata": {},
   "outputs": [],
   "source": [
    "H0 = -np.load(\"/home/user/project/python/make_local/array/KH/3site/none/Jx_1_Jy_1_Jz_1_hx_0_hz_0/H/0.npy\")\n",
    "H1 = -np.load(\"/home/user/project/python/make_local/array/KH/3site/none/Jx_1_Jy_1_Jz_1_hx_0_hz_0/H/1.npy\")\n",
    "H2 = -np.load(\"/home/user/project/python/make_local/array/KH/3site/none/Jx_1_Jy_1_Jz_1_hx_0_hz_0/H/2.npy\")\n",
    "U = np.load(\"/home/user/project/python/make_local/array/KH/3site/mes/Jx_1_Jy_1_Jz_1_hx_0_hz_0/M_240/u/0.npy\")\n",
    "H_list = [H0, H1, H2]\n",
    "SH_list = [\n",
    "    -nsp.utils.stoquastic(-H) for H in H_list\n",
    "]"
   ]
  },
  {
   "cell_type": "code",
   "execution_count": 5,
   "metadata": {},
   "outputs": [
    {
     "name": "stdout",
     "output_type": "stream",
     "text": [
      "UnitaryRiemanGenerator is initialized\n"
     ]
    }
   ],
   "source": [
    "ur = rms.unitary.UnitaryRiemanGenerator(8, jax.random.PRNGKey(0), np.float64)"
   ]
  },
  {
   "cell_type": "code",
   "execution_count": 6,
   "metadata": {},
   "outputs": [
    {
     "name": "stdout",
     "output_type": "stream",
     "text": [
      "upper bounds : 3.079512\n",
      "target       : 3.000000\n"
     ]
    }
   ],
   "source": [
    "x = groundstate.reshape([8]*4)\n",
    "x = x.transpose([0,2,1,3]).reshape(-1)\n",
    "x = jnp.array(x)\n",
    "# loss = rms.loss.QuasiEnergy(jnp.array(H0), 8, x, np.float64)\n",
    "mesLoss_list = [\n",
    "    rms.loss.MinimumEnergy(jnp.array(h), 8, np.float64) for h in H_list\n",
    "    ]\n",
    "mesLoss = rms.loss.MeanMultiLoss(mesLoss_list)"
   ]
  },
  {
   "cell_type": "code",
   "execution_count": 7,
   "metadata": {},
   "outputs": [
    {
     "data": {
      "text/plain": [
       "Array([-1.00034916e+00, -9.79097151e-01, -9.54217542e-01, -9.22754087e-01,\n",
       "       -8.47858563e-01, -8.27327814e-01, -8.03594034e-01, -7.74211543e-01,\n",
       "       -7.50342166e-01, -7.19016830e-01, -6.94152126e-01, -6.72754991e-01,\n",
       "       -5.97851422e-01, -5.68802974e-01, -5.45086775e-01, -5.24212930e-01,\n",
       "       -1.86787936e-04,  2.28647186e-04,  8.12965998e-03,  1.61914494e-02,\n",
       "        2.39737064e-02,  2.46443726e-02,  5.26298037e-02,  8.32114952e-02,\n",
       "        8.34328182e-02,  8.34552292e-02,  9.81950029e-02,  9.86915642e-02,\n",
       "        9.99084906e-02,  1.07549837e-01,  1.19775868e-01,  1.19967414e-01,\n",
       "        1.66614088e-01,  1.66761855e-01,  2.49801149e-01,  2.49835676e-01,\n",
       "        2.49900315e-01,  2.49999561e-01,  2.49999675e-01,  2.50044942e-01,\n",
       "        2.50226277e-01,  2.73973989e-01,  2.84817010e-01,  2.88121759e-01,\n",
       "        2.98172437e-01,  3.15221184e-01,  3.15351509e-01,  3.33211884e-01,\n",
       "        3.33432977e-01,  3.33453582e-01,  3.48198797e-01,  3.49104132e-01,\n",
       "        3.51217641e-01,  3.57549202e-01,  4.16597763e-01,  4.16671665e-01,\n",
       "        4.63435992e-01,  4.63466073e-01,  4.99955475e-01,  5.00000006e-01,\n",
       "        5.00000061e-01,  5.24996710e-01,  5.46349002e-01,  5.65349152e-01],      dtype=float64)"
      ]
     },
     "execution_count": 7,
     "metadata": {},
     "output_type": "execute_result"
    }
   ],
   "source": [
    "t = rms.functions.stoquastic(jnp.kron(U, U).T @ H_list[0] @ jnp.kron(U, U))\n",
    "jnp.linalg.eigvalsh(t)"
   ]
  },
  {
   "cell_type": "code",
   "execution_count": 10,
   "metadata": {},
   "outputs": [],
   "source": [
    "u = ur.reset_matrix()\n",
    "# u = jnp.array(U)\n",
    "opt_init, opt_update, get_unitary = rms.optimizer.momentum(0.01, 0.3)\n",
    "opt_state = opt_init(u)"
   ]
  },
  {
   "cell_type": "code",
   "execution_count": 12,
   "metadata": {},
   "outputs": [
    {
     "name": "stdout",
     "output_type": "stream",
     "text": [
      "PyTreeDef(*)\n",
      "3.793801872578438\n",
      "PyTreeDef(*)\n",
      "3.793540885527282\n",
      "PyTreeDef(*)\n",
      "3.7960833723174003\n",
      "PyTreeDef(*)\n",
      "3.7880898744929823\n",
      "PyTreeDef(*)\n",
      "3.798076359576701\n",
      "PyTreeDef(*)\n",
      "3.779108590043689\n",
      "PyTreeDef(*)\n",
      "3.7937821341728073\n",
      "PyTreeDef(*)\n",
      "3.7830308861353856\n",
      "PyTreeDef(*)\n",
      "3.785408368973421\n",
      "PyTreeDef(*)\n",
      "3.7759930616374517\n",
      "PyTreeDef(*)\n",
      "3.7933465432387736\n",
      "PyTreeDef(*)\n",
      "3.7741735632324627\n",
      "PyTreeDef(*)\n",
      "3.7872150583572584\n",
      "PyTreeDef(*)\n",
      "3.7717171261065126\n",
      "PyTreeDef(*)\n",
      "3.78292870420564\n",
      "PyTreeDef(*)\n",
      "3.771304962279557\n",
      "PyTreeDef(*)\n",
      "3.7760983081103223\n",
      "PyTreeDef(*)\n",
      "3.761649624941146\n",
      "PyTreeDef(*)\n",
      "3.7841510690378417\n",
      "PyTreeDef(*)\n",
      "3.7502822774955753\n",
      "PyTreeDef(*)\n",
      "3.7948216062462263\n",
      "PyTreeDef(*)\n",
      "3.7503520853077603\n",
      "PyTreeDef(*)\n",
      "3.7662974555494726\n",
      "PyTreeDef(*)\n",
      "3.7586291305881376\n",
      "PyTreeDef(*)\n",
      "3.7700979405678066\n",
      "PyTreeDef(*)\n",
      "3.7602334025027773\n",
      "PyTreeDef(*)\n",
      "3.765113911561391\n",
      "PyTreeDef(*)\n",
      "3.754174161259166\n",
      "PyTreeDef(*)\n",
      "3.7663730276646317\n",
      "PyTreeDef(*)\n",
      "3.7520231514883617\n",
      "PyTreeDef(*)\n",
      "3.7571723834010333\n",
      "PyTreeDef(*)\n",
      "3.7501063932288567\n",
      "PyTreeDef(*)\n",
      "3.7585858564615044\n",
      "PyTreeDef(*)\n",
      "3.750268958809401\n",
      "PyTreeDef(*)\n",
      "3.7496017908619597\n",
      "PyTreeDef(*)\n",
      "3.7389970716808008\n",
      "PyTreeDef(*)\n",
      "3.749274423385739\n",
      "PyTreeDef(*)\n",
      "3.738345758810723\n",
      "PyTreeDef(*)\n",
      "3.753719553820191\n",
      "PyTreeDef(*)\n",
      "3.733772192844321\n",
      "PyTreeDef(*)\n",
      "3.7489767409803174\n",
      "PyTreeDef(*)\n",
      "3.7388406078999563\n",
      "PyTreeDef(*)\n",
      "3.7386475627588402\n",
      "PyTreeDef(*)\n",
      "3.736119092084288\n",
      "PyTreeDef(*)\n",
      "3.7374351067102447\n",
      "PyTreeDef(*)\n",
      "3.7334322318299025\n",
      "PyTreeDef(*)\n",
      "3.7270448978410267\n",
      "PyTreeDef(*)\n",
      "3.7359755136937745\n",
      "PyTreeDef(*)\n",
      "3.7205752327737662\n",
      "PyTreeDef(*)\n",
      "3.739164557045884\n",
      "PyTreeDef(*)\n",
      "3.7167034656114892\n",
      "PyTreeDef(*)\n",
      "3.7277175545555274\n",
      "PyTreeDef(*)\n",
      "3.7209715893860054\n",
      "PyTreeDef(*)\n",
      "3.7189373034356006\n",
      "PyTreeDef(*)\n",
      "3.714958314715396\n"
     ]
    },
    {
     "ename": "KeyboardInterrupt",
     "evalue": "",
     "output_type": "error",
     "traceback": [
      "\u001b[0;31m---------------------------------------------------------------------------\u001b[0m",
      "\u001b[0;31mKeyboardInterrupt\u001b[0m                         Traceback (most recent call last)",
      "Cell \u001b[0;32mIn[12], line 8\u001b[0m\n\u001b[1;32m      6\u001b[0m     \u001b[39mreturn\u001b[39;00m value, opt_state\n\u001b[1;32m      7\u001b[0m \u001b[39mfor\u001b[39;00m i \u001b[39min\u001b[39;00m \u001b[39mrange\u001b[39m(\u001b[39m10000\u001b[39m):\n\u001b[0;32m----> 8\u001b[0m     value, opt_state \u001b[39m=\u001b[39m step(i, opt_state)\n\u001b[1;32m      9\u001b[0m     u \u001b[39m=\u001b[39m get_unitary(opt_state)\n\u001b[1;32m     10\u001b[0m     \u001b[39m# print(jnp.linalg.norm(u @ u.T - jnp.eye(8)))\u001b[39;00m\n",
      "Cell \u001b[0;32mIn[12], line 2\u001b[0m, in \u001b[0;36mstep\u001b[0;34m(step, opt_state)\u001b[0m\n\u001b[1;32m      1\u001b[0m \u001b[39mdef\u001b[39;00m \u001b[39mstep\u001b[39m(step, opt_state):\n\u001b[0;32m----> 2\u001b[0m     value, grads \u001b[39m=\u001b[39m jax\u001b[39m.\u001b[39;49mvalue_and_grad(mesLoss)(get_unitary(opt_state))\n\u001b[1;32m      3\u001b[0m     riemannian_grad \u001b[39m=\u001b[39m ur\u001b[39m.\u001b[39mriemannian_grad(u, grads)\n\u001b[1;32m      4\u001b[0m     opt_state \u001b[39m=\u001b[39m opt_update(step, riemannian_grad, opt_state)\n",
      "    \u001b[0;31m[... skipping hidden 1 frame]\u001b[0m\n",
      "File \u001b[0;32m~/miniconda3/envs/py39/lib/python3.9/site-packages/jax/_src/api.py:1255\u001b[0m, in \u001b[0;36mvalue_and_grad.<locals>.value_and_grad_f\u001b[0;34m(*args, **kwargs)\u001b[0m\n\u001b[1;32m   1253\u001b[0m   _check_input_dtype_grad(holomorphic, allow_int, leaf)\n\u001b[1;32m   1254\u001b[0m \u001b[39mif\u001b[39;00m \u001b[39mnot\u001b[39;00m has_aux:\n\u001b[0;32m-> 1255\u001b[0m   ans, vjp_py \u001b[39m=\u001b[39m _vjp(f_partial, \u001b[39m*\u001b[39;49mdyn_args, reduce_axes\u001b[39m=\u001b[39;49mreduce_axes)\n\u001b[1;32m   1256\u001b[0m \u001b[39melse\u001b[39;00m:\n\u001b[1;32m   1257\u001b[0m   ans, vjp_py, aux \u001b[39m=\u001b[39m _vjp(\n\u001b[1;32m   1258\u001b[0m       f_partial, \u001b[39m*\u001b[39mdyn_args, has_aux\u001b[39m=\u001b[39m\u001b[39mTrue\u001b[39;00m, reduce_axes\u001b[39m=\u001b[39mreduce_axes)\n",
      "File \u001b[0;32m~/miniconda3/envs/py39/lib/python3.9/site-packages/jax/_src/api.py:2804\u001b[0m, in \u001b[0;36m_vjp\u001b[0;34m(fun, has_aux, reduce_axes, *primals)\u001b[0m\n\u001b[1;32m   2802\u001b[0m \u001b[39mif\u001b[39;00m \u001b[39mnot\u001b[39;00m has_aux:\n\u001b[1;32m   2803\u001b[0m   flat_fun, out_tree \u001b[39m=\u001b[39m flatten_fun_nokwargs(fun, in_tree)\n\u001b[0;32m-> 2804\u001b[0m   out_primal, out_vjp \u001b[39m=\u001b[39m ad\u001b[39m.\u001b[39;49mvjp(\n\u001b[1;32m   2805\u001b[0m       flat_fun, primals_flat, reduce_axes\u001b[39m=\u001b[39;49mreduce_axes)\n\u001b[1;32m   2806\u001b[0m   out_tree \u001b[39m=\u001b[39m out_tree()\n\u001b[1;32m   2807\u001b[0m \u001b[39melse\u001b[39;00m:\n",
      "File \u001b[0;32m~/miniconda3/envs/py39/lib/python3.9/site-packages/jax/_src/interpreters/ad.py:139\u001b[0m, in \u001b[0;36mvjp\u001b[0;34m(traceable, primals, has_aux, reduce_axes)\u001b[0m\n\u001b[1;32m    137\u001b[0m \u001b[39mdef\u001b[39;00m \u001b[39mvjp\u001b[39m(traceable, primals, has_aux\u001b[39m=\u001b[39m\u001b[39mFalse\u001b[39;00m, reduce_axes\u001b[39m=\u001b[39m()):\n\u001b[1;32m    138\u001b[0m   \u001b[39mif\u001b[39;00m \u001b[39mnot\u001b[39;00m has_aux:\n\u001b[0;32m--> 139\u001b[0m     out_primals, pvals, jaxpr, consts \u001b[39m=\u001b[39m linearize(traceable, \u001b[39m*\u001b[39;49mprimals)\n\u001b[1;32m    140\u001b[0m   \u001b[39melse\u001b[39;00m:\n\u001b[1;32m    141\u001b[0m     out_primals, pvals, jaxpr, consts, aux \u001b[39m=\u001b[39m linearize(traceable, \u001b[39m*\u001b[39mprimals, has_aux\u001b[39m=\u001b[39m\u001b[39mTrue\u001b[39;00m)\n",
      "File \u001b[0;32m~/miniconda3/envs/py39/lib/python3.9/site-packages/jax/_src/interpreters/ad.py:128\u001b[0m, in \u001b[0;36mlinearize\u001b[0;34m(traceable, *primals, **kwargs)\u001b[0m\n\u001b[1;32m    126\u001b[0m _, in_tree \u001b[39m=\u001b[39m tree_flatten(((primals, primals), {}))\n\u001b[1;32m    127\u001b[0m jvpfun_flat, out_tree \u001b[39m=\u001b[39m flatten_fun(jvpfun, in_tree)\n\u001b[0;32m--> 128\u001b[0m jaxpr, out_pvals, consts \u001b[39m=\u001b[39m pe\u001b[39m.\u001b[39;49mtrace_to_jaxpr_nounits(jvpfun_flat, in_pvals)\n\u001b[1;32m    129\u001b[0m out_primals_pvals, out_tangents_pvals \u001b[39m=\u001b[39m tree_unflatten(out_tree(), out_pvals)\n\u001b[1;32m    130\u001b[0m \u001b[39massert\u001b[39;00m \u001b[39mall\u001b[39m(out_primal_pval\u001b[39m.\u001b[39mis_known() \u001b[39mfor\u001b[39;00m out_primal_pval \u001b[39min\u001b[39;00m out_primals_pvals)\n",
      "File \u001b[0;32m~/miniconda3/envs/py39/lib/python3.9/site-packages/jax/_src/profiler.py:314\u001b[0m, in \u001b[0;36mannotate_function.<locals>.wrapper\u001b[0;34m(*args, **kwargs)\u001b[0m\n\u001b[1;32m    311\u001b[0m \u001b[39m@wraps\u001b[39m(func)\n\u001b[1;32m    312\u001b[0m \u001b[39mdef\u001b[39;00m \u001b[39mwrapper\u001b[39m(\u001b[39m*\u001b[39margs, \u001b[39m*\u001b[39m\u001b[39m*\u001b[39mkwargs):\n\u001b[1;32m    313\u001b[0m   \u001b[39mwith\u001b[39;00m TraceAnnotation(name, \u001b[39m*\u001b[39m\u001b[39m*\u001b[39mdecorator_kwargs):\n\u001b[0;32m--> 314\u001b[0m     \u001b[39mreturn\u001b[39;00m func(\u001b[39m*\u001b[39;49margs, \u001b[39m*\u001b[39;49m\u001b[39m*\u001b[39;49mkwargs)\n\u001b[1;32m    315\u001b[0m   \u001b[39mreturn\u001b[39;00m wrapper\n",
      "File \u001b[0;32m~/miniconda3/envs/py39/lib/python3.9/site-packages/jax/interpreters/partial_eval.py:772\u001b[0m, in \u001b[0;36mtrace_to_jaxpr_nounits\u001b[0;34m(fun, pvals, instantiate)\u001b[0m\n\u001b[1;32m    770\u001b[0m \u001b[39mwith\u001b[39;00m core\u001b[39m.\u001b[39mnew_main(JaxprTrace, name_stack\u001b[39m=\u001b[39mcurrent_name_stack) \u001b[39mas\u001b[39;00m main:\n\u001b[1;32m    771\u001b[0m   fun \u001b[39m=\u001b[39m trace_to_subjaxpr_nounits(fun, main, instantiate)\n\u001b[0;32m--> 772\u001b[0m   jaxpr, (out_pvals, consts, env) \u001b[39m=\u001b[39m fun\u001b[39m.\u001b[39;49mcall_wrapped(pvals)\n\u001b[1;32m    773\u001b[0m   \u001b[39massert\u001b[39;00m \u001b[39mnot\u001b[39;00m env\n\u001b[1;32m    774\u001b[0m   \u001b[39mdel\u001b[39;00m main, fun, env\n",
      "File \u001b[0;32m~/miniconda3/envs/py39/lib/python3.9/site-packages/jax/_src/linear_util.py:165\u001b[0m, in \u001b[0;36mWrappedFun.call_wrapped\u001b[0;34m(self, *args, **kwargs)\u001b[0m\n\u001b[1;32m    162\u001b[0m gen \u001b[39m=\u001b[39m gen_static_args \u001b[39m=\u001b[39m out_store \u001b[39m=\u001b[39m \u001b[39mNone\u001b[39;00m\n\u001b[1;32m    164\u001b[0m \u001b[39mtry\u001b[39;00m:\n\u001b[0;32m--> 165\u001b[0m   ans \u001b[39m=\u001b[39m \u001b[39mself\u001b[39;49m\u001b[39m.\u001b[39;49mf(\u001b[39m*\u001b[39;49margs, \u001b[39m*\u001b[39;49m\u001b[39m*\u001b[39;49m\u001b[39mdict\u001b[39;49m(\u001b[39mself\u001b[39;49m\u001b[39m.\u001b[39;49mparams, \u001b[39m*\u001b[39;49m\u001b[39m*\u001b[39;49mkwargs))\n\u001b[1;32m    166\u001b[0m \u001b[39mexcept\u001b[39;00m:\n\u001b[1;32m    167\u001b[0m   \u001b[39m# Some transformations yield from inside context managers, so we have to\u001b[39;00m\n\u001b[1;32m    168\u001b[0m   \u001b[39m# interrupt them before reraising the exception. Otherwise they will only\u001b[39;00m\n\u001b[1;32m    169\u001b[0m   \u001b[39m# get garbage-collected at some later time, running their cleanup tasks\u001b[39;00m\n\u001b[1;32m    170\u001b[0m   \u001b[39m# only after this exception is handled, which can corrupt the global\u001b[39;00m\n\u001b[1;32m    171\u001b[0m   \u001b[39m# state.\u001b[39;00m\n\u001b[1;32m    172\u001b[0m   \u001b[39mwhile\u001b[39;00m stack:\n",
      "File \u001b[0;32m~/project/python/make_local/rms/loss/multi_loss.py:45\u001b[0m, in \u001b[0;36mBaseMultiLoss.__call__\u001b[0;34m(self, M, stq)\u001b[0m\n\u001b[1;32m     40\u001b[0m \u001b[39mdef\u001b[39;00m \u001b[39m__call__\u001b[39m(\n\u001b[1;32m     41\u001b[0m         \u001b[39mself\u001b[39m,\n\u001b[1;32m     42\u001b[0m         M: Array,\n\u001b[1;32m     43\u001b[0m         stq: \u001b[39mbool\u001b[39m \u001b[39m=\u001b[39m \u001b[39mTrue\u001b[39;00m,\n\u001b[1;32m     44\u001b[0m ) \u001b[39m-\u001b[39m\u001b[39m>\u001b[39m Array:\n\u001b[0;32m---> 45\u001b[0m     \u001b[39mreturn\u001b[39;00m \u001b[39mself\u001b[39;49m\u001b[39m.\u001b[39;49m_multi_loss(M, stq)\n",
      "File \u001b[0;32m~/project/python/make_local/rms/loss/multi_loss.py:57\u001b[0m, in \u001b[0;36mMeanMultiLoss._multi_loss\u001b[0;34m(self, M, stq)\u001b[0m\n\u001b[1;32m     55\u001b[0m loss \u001b[39m=\u001b[39m jnp\u001b[39m.\u001b[39marray(\u001b[39m0\u001b[39m)\n\u001b[1;32m     56\u001b[0m \u001b[39mfor\u001b[39;00m loss_func \u001b[39min\u001b[39;00m \u001b[39mself\u001b[39m\u001b[39m.\u001b[39mloss_list:\n\u001b[0;32m---> 57\u001b[0m     loss \u001b[39m+\u001b[39m\u001b[39m=\u001b[39m loss_func(M, stq)\n\u001b[1;32m     58\u001b[0m \u001b[39mreturn\u001b[39;00m loss\n",
      "File \u001b[0;32m~/project/python/make_local/rms/loss/loss.py:52\u001b[0m, in \u001b[0;36mBaseLoss.__call__\u001b[0;34m(self, M, stq)\u001b[0m\n\u001b[1;32m     50\u001b[0m \u001b[39mif\u001b[39;00m (M\u001b[39m.\u001b[39mdtype \u001b[39m!=\u001b[39m \u001b[39mself\u001b[39m\u001b[39m.\u001b[39mdtype):\n\u001b[1;32m     51\u001b[0m     \u001b[39mraise\u001b[39;00m \u001b[39mValueError\u001b[39;00m(\u001b[39m\"\u001b[39m\u001b[39mdtype of M is not appropriate\u001b[39m\u001b[39m\"\u001b[39m)\n\u001b[0;32m---> 52\u001b[0m \u001b[39mreturn\u001b[39;00m \u001b[39mself\u001b[39;49m\u001b[39m.\u001b[39;49m_loss(M, stq)\n",
      "File \u001b[0;32m~/project/python/make_local/rms/loss/loss.py:153\u001b[0m, in \u001b[0;36mMinimumEnergy._loss\u001b[0;34m(self, u, stq)\u001b[0m\n\u001b[1;32m    149\u001b[0m \u001b[39m\"\"\"\u001b[39;00m\n\u001b[1;32m    150\u001b[0m \u001b[39mloss function\u001b[39;00m\n\u001b[1;32m    151\u001b[0m \u001b[39m\"\"\"\u001b[39;00m\n\u001b[1;32m    152\u001b[0m U \u001b[39m=\u001b[39m jnp\u001b[39m.\u001b[39mkron(u, u)\n\u001b[0;32m--> 153\u001b[0m E \u001b[39m=\u001b[39m jnp\u001b[39m.\u001b[39;49mlinalg\u001b[39m.\u001b[39;49meigvalsh(stoquastic(\n\u001b[1;32m    154\u001b[0m     U\u001b[39m.\u001b[39;49mT \u001b[39m@\u001b[39;49m \u001b[39mself\u001b[39;49m\u001b[39m.\u001b[39;49mH \u001b[39m@\u001b[39;49m U)) \u001b[39mif\u001b[39;00m stq \u001b[39melse\u001b[39;00m jnp\u001b[39m.\u001b[39mlinalg\u001b[39m.\u001b[39meigvalsh(U\u001b[39m.\u001b[39mT \u001b[39m@\u001b[39m \u001b[39mself\u001b[39m\u001b[39m.\u001b[39mH \u001b[39m@\u001b[39m U)\n\u001b[1;32m    155\u001b[0m \u001b[39m# print(E[0])\u001b[39;00m\n\u001b[1;32m    156\u001b[0m \u001b[39mreturn\u001b[39;00m \u001b[39m-\u001b[39mE[\u001b[39m0\u001b[39m]\n",
      "    \u001b[0;31m[... skipping hidden 1 frame]\u001b[0m\n",
      "File \u001b[0;32m~/miniconda3/envs/py39/lib/python3.9/site-packages/jax/_src/pjit.py:235\u001b[0m, in \u001b[0;36m_cpp_pjit.<locals>.cache_miss\u001b[0;34m(*args, **kwargs)\u001b[0m\n\u001b[1;32m    233\u001b[0m \u001b[39m@api_boundary\u001b[39m\n\u001b[1;32m    234\u001b[0m \u001b[39mdef\u001b[39;00m \u001b[39mcache_miss\u001b[39m(\u001b[39m*\u001b[39margs, \u001b[39m*\u001b[39m\u001b[39m*\u001b[39mkwargs):\n\u001b[0;32m--> 235\u001b[0m   outs, out_flat, out_tree, args_flat \u001b[39m=\u001b[39m _python_pjit_helper(\n\u001b[1;32m    236\u001b[0m       fun, infer_params_fn, \u001b[39m*\u001b[39;49margs, \u001b[39m*\u001b[39;49m\u001b[39m*\u001b[39;49mkwargs)\n\u001b[1;32m    238\u001b[0m   executable \u001b[39m=\u001b[39m _read_most_recent_pjit_call_executable()\n\u001b[1;32m    240\u001b[0m   use_fastpath \u001b[39m=\u001b[39m (\n\u001b[1;32m    241\u001b[0m       executable \u001b[39mis\u001b[39;00m \u001b[39mnot\u001b[39;00m \u001b[39mNone\u001b[39;00m \u001b[39mand\u001b[39;00m\n\u001b[1;32m    242\u001b[0m       \u001b[39misinstance\u001b[39m(executable, pxla\u001b[39m.\u001b[39mMeshExecutable) \u001b[39mand\u001b[39;00m\n\u001b[0;32m   (...)\u001b[0m\n\u001b[1;32m    248\u001b[0m       \u001b[39mall\u001b[39m(\u001b[39misinstance\u001b[39m(x, xc\u001b[39m.\u001b[39mArrayImpl) \u001b[39mfor\u001b[39;00m x \u001b[39min\u001b[39;00m out_flat)\n\u001b[1;32m    249\u001b[0m   )\n",
      "File \u001b[0;32m~/miniconda3/envs/py39/lib/python3.9/site-packages/jax/_src/pjit.py:184\u001b[0m, in \u001b[0;36m_python_pjit_helper\u001b[0;34m(fun, infer_params_fn, *args, **kwargs)\u001b[0m\n\u001b[1;32m    182\u001b[0m   dispatch\u001b[39m.\u001b[39mcheck_arg(arg)\n\u001b[1;32m    183\u001b[0m \u001b[39mtry\u001b[39;00m:\n\u001b[0;32m--> 184\u001b[0m   out_flat \u001b[39m=\u001b[39m pjit_p\u001b[39m.\u001b[39;49mbind(\u001b[39m*\u001b[39;49margs_flat, \u001b[39m*\u001b[39;49m\u001b[39m*\u001b[39;49mparams)\n\u001b[1;32m    185\u001b[0m \u001b[39mexcept\u001b[39;00m pxla\u001b[39m.\u001b[39mDeviceAssignmentMismatchError \u001b[39mas\u001b[39;00m e:\n\u001b[1;32m    186\u001b[0m   fails, \u001b[39m=\u001b[39m e\u001b[39m.\u001b[39margs\n",
      "File \u001b[0;32m~/miniconda3/envs/py39/lib/python3.9/site-packages/jax/_src/core.py:2577\u001b[0m, in \u001b[0;36mAxisPrimitive.bind\u001b[0;34m(self, *args, **params)\u001b[0m\n\u001b[1;32m   2573\u001b[0m axis_main \u001b[39m=\u001b[39m \u001b[39mmax\u001b[39m((axis_frame(a)\u001b[39m.\u001b[39mmain_trace \u001b[39mfor\u001b[39;00m a \u001b[39min\u001b[39;00m used_axis_names(\u001b[39mself\u001b[39m, params)),\n\u001b[1;32m   2574\u001b[0m                 default\u001b[39m=\u001b[39m\u001b[39mNone\u001b[39;00m, key\u001b[39m=\u001b[39m\u001b[39mlambda\u001b[39;00m t: \u001b[39mgetattr\u001b[39m(t, \u001b[39m'\u001b[39m\u001b[39mlevel\u001b[39m\u001b[39m'\u001b[39m, \u001b[39m-\u001b[39m\u001b[39m1\u001b[39m))\n\u001b[1;32m   2575\u001b[0m top_trace \u001b[39m=\u001b[39m (top_trace \u001b[39mif\u001b[39;00m \u001b[39mnot\u001b[39;00m axis_main \u001b[39mor\u001b[39;00m axis_main\u001b[39m.\u001b[39mlevel \u001b[39m<\u001b[39m top_trace\u001b[39m.\u001b[39mlevel\n\u001b[1;32m   2576\u001b[0m              \u001b[39melse\u001b[39;00m axis_main\u001b[39m.\u001b[39mwith_cur_sublevel())\n\u001b[0;32m-> 2577\u001b[0m \u001b[39mreturn\u001b[39;00m \u001b[39mself\u001b[39;49m\u001b[39m.\u001b[39;49mbind_with_trace(top_trace, args, params)\n",
      "File \u001b[0;32m~/miniconda3/envs/py39/lib/python3.9/site-packages/jax/_src/core.py:363\u001b[0m, in \u001b[0;36mPrimitive.bind_with_trace\u001b[0;34m(self, trace, args, params)\u001b[0m\n\u001b[1;32m    362\u001b[0m \u001b[39mdef\u001b[39;00m \u001b[39mbind_with_trace\u001b[39m(\u001b[39mself\u001b[39m, trace, args, params):\n\u001b[0;32m--> 363\u001b[0m   out \u001b[39m=\u001b[39m trace\u001b[39m.\u001b[39;49mprocess_primitive(\u001b[39mself\u001b[39;49m, \u001b[39mmap\u001b[39;49m(trace\u001b[39m.\u001b[39;49mfull_raise, args), params)\n\u001b[1;32m    364\u001b[0m   \u001b[39mreturn\u001b[39;00m \u001b[39mmap\u001b[39m(full_lower, out) \u001b[39mif\u001b[39;00m \u001b[39mself\u001b[39m\u001b[39m.\u001b[39mmultiple_results \u001b[39melse\u001b[39;00m full_lower(out)\n",
      "File \u001b[0;32m~/miniconda3/envs/py39/lib/python3.9/site-packages/jax/_src/interpreters/ad.py:315\u001b[0m, in \u001b[0;36mJVPTrace.process_primitive\u001b[0;34m(self, primitive, tracers, params)\u001b[0m\n\u001b[1;32m    313\u001b[0m   msg \u001b[39m=\u001b[39m \u001b[39mf\u001b[39m\u001b[39m\"\u001b[39m\u001b[39mDifferentiation rule for \u001b[39m\u001b[39m'\u001b[39m\u001b[39m{\u001b[39;00mprimitive\u001b[39m}\u001b[39;00m\u001b[39m'\u001b[39m\u001b[39m not implemented\u001b[39m\u001b[39m\"\u001b[39m\n\u001b[1;32m    314\u001b[0m   \u001b[39mraise\u001b[39;00m \u001b[39mNotImplementedError\u001b[39;00m(msg)\n\u001b[0;32m--> 315\u001b[0m primal_out, tangent_out \u001b[39m=\u001b[39m jvp(primals_in, tangents_in, \u001b[39m*\u001b[39;49m\u001b[39m*\u001b[39;49mparams)\n\u001b[1;32m    316\u001b[0m \u001b[39mif\u001b[39;00m primitive\u001b[39m.\u001b[39mmultiple_results:\n\u001b[1;32m    317\u001b[0m   \u001b[39mreturn\u001b[39;00m [JVPTracer(\u001b[39mself\u001b[39m, x, t) \u001b[39mfor\u001b[39;00m x, t \u001b[39min\u001b[39;00m \u001b[39mzip\u001b[39m(primal_out, tangent_out)]\n",
      "File \u001b[0;32m~/miniconda3/envs/py39/lib/python3.9/site-packages/jax/_src/pjit.py:1584\u001b[0m, in \u001b[0;36m_pjit_jvp\u001b[0;34m(primals_in, tangents_in, jaxpr, in_shardings, out_shardings, resource_env, donated_invars, name, in_positional_semantics, out_positional_semantics, keep_unused, inline)\u001b[0m\n\u001b[1;32m   1582\u001b[0m _filter_zeros_in \u001b[39m=\u001b[39m partial(_filter_zeros, is_nz_tangents_in)\n\u001b[1;32m   1583\u001b[0m _filter_zeros_out \u001b[39m=\u001b[39m partial(_filter_zeros, is_nz_tangents_out)\n\u001b[0;32m-> 1584\u001b[0m outputs \u001b[39m=\u001b[39m pjit_p\u001b[39m.\u001b[39;49mbind(\n\u001b[1;32m   1585\u001b[0m     \u001b[39m*\u001b[39;49mprimals_in, \u001b[39m*\u001b[39;49m_filter_zeros_in(tangents_in),\n\u001b[1;32m   1586\u001b[0m     jaxpr\u001b[39m=\u001b[39;49mjaxpr_jvp,\n\u001b[1;32m   1587\u001b[0m     in_shardings\u001b[39m=\u001b[39;49m(\u001b[39m*\u001b[39;49min_shardings, \u001b[39m*\u001b[39;49m_filter_zeros_in(in_shardings)),\n\u001b[1;32m   1588\u001b[0m     out_shardings\u001b[39m=\u001b[39;49m(\u001b[39m*\u001b[39;49mout_shardings, \u001b[39m*\u001b[39;49m_filter_zeros_out(out_shardings)),\n\u001b[1;32m   1589\u001b[0m     resource_env\u001b[39m=\u001b[39;49mresource_env,\n\u001b[1;32m   1590\u001b[0m     donated_invars\u001b[39m=\u001b[39;49m(\u001b[39m*\u001b[39;49mdonated_invars, \u001b[39m*\u001b[39;49m_filter_zeros_in(donated_invars)),\n\u001b[1;32m   1591\u001b[0m     name\u001b[39m=\u001b[39;49mname,\n\u001b[1;32m   1592\u001b[0m     in_positional_semantics\u001b[39m=\u001b[39;49m(\u001b[39m*\u001b[39;49min_positional_semantics, \u001b[39m*\u001b[39;49m_filter_zeros_in(in_positional_semantics)),\n\u001b[1;32m   1593\u001b[0m     out_positional_semantics\u001b[39m=\u001b[39;49mout_positional_semantics,\n\u001b[1;32m   1594\u001b[0m     keep_unused\u001b[39m=\u001b[39;49mkeep_unused,\n\u001b[1;32m   1595\u001b[0m     inline\u001b[39m=\u001b[39;49minline)\n\u001b[1;32m   1597\u001b[0m primals_out, tangents_out \u001b[39m=\u001b[39m split_list(outputs, [\u001b[39mlen\u001b[39m(jaxpr\u001b[39m.\u001b[39mjaxpr\u001b[39m.\u001b[39moutvars)])\n\u001b[1;32m   1598\u001b[0m \u001b[39massert\u001b[39;00m \u001b[39mlen\u001b[39m(primals_out) \u001b[39m==\u001b[39m \u001b[39mlen\u001b[39m(jaxpr\u001b[39m.\u001b[39mjaxpr\u001b[39m.\u001b[39moutvars)\n",
      "File \u001b[0;32m~/miniconda3/envs/py39/lib/python3.9/site-packages/jax/_src/core.py:2577\u001b[0m, in \u001b[0;36mAxisPrimitive.bind\u001b[0;34m(self, *args, **params)\u001b[0m\n\u001b[1;32m   2573\u001b[0m axis_main \u001b[39m=\u001b[39m \u001b[39mmax\u001b[39m((axis_frame(a)\u001b[39m.\u001b[39mmain_trace \u001b[39mfor\u001b[39;00m a \u001b[39min\u001b[39;00m used_axis_names(\u001b[39mself\u001b[39m, params)),\n\u001b[1;32m   2574\u001b[0m                 default\u001b[39m=\u001b[39m\u001b[39mNone\u001b[39;00m, key\u001b[39m=\u001b[39m\u001b[39mlambda\u001b[39;00m t: \u001b[39mgetattr\u001b[39m(t, \u001b[39m'\u001b[39m\u001b[39mlevel\u001b[39m\u001b[39m'\u001b[39m, \u001b[39m-\u001b[39m\u001b[39m1\u001b[39m))\n\u001b[1;32m   2575\u001b[0m top_trace \u001b[39m=\u001b[39m (top_trace \u001b[39mif\u001b[39;00m \u001b[39mnot\u001b[39;00m axis_main \u001b[39mor\u001b[39;00m axis_main\u001b[39m.\u001b[39mlevel \u001b[39m<\u001b[39m top_trace\u001b[39m.\u001b[39mlevel\n\u001b[1;32m   2576\u001b[0m              \u001b[39melse\u001b[39;00m axis_main\u001b[39m.\u001b[39mwith_cur_sublevel())\n\u001b[0;32m-> 2577\u001b[0m \u001b[39mreturn\u001b[39;00m \u001b[39mself\u001b[39;49m\u001b[39m.\u001b[39;49mbind_with_trace(top_trace, args, params)\n",
      "File \u001b[0;32m~/miniconda3/envs/py39/lib/python3.9/site-packages/jax/_src/core.py:363\u001b[0m, in \u001b[0;36mPrimitive.bind_with_trace\u001b[0;34m(self, trace, args, params)\u001b[0m\n\u001b[1;32m    362\u001b[0m \u001b[39mdef\u001b[39;00m \u001b[39mbind_with_trace\u001b[39m(\u001b[39mself\u001b[39m, trace, args, params):\n\u001b[0;32m--> 363\u001b[0m   out \u001b[39m=\u001b[39m trace\u001b[39m.\u001b[39;49mprocess_primitive(\u001b[39mself\u001b[39;49m, \u001b[39mmap\u001b[39;49m(trace\u001b[39m.\u001b[39;49mfull_raise, args), params)\n\u001b[1;32m    364\u001b[0m   \u001b[39mreturn\u001b[39;00m \u001b[39mmap\u001b[39m(full_lower, out) \u001b[39mif\u001b[39;00m \u001b[39mself\u001b[39m\u001b[39m.\u001b[39mmultiple_results \u001b[39melse\u001b[39;00m full_lower(out)\n",
      "File \u001b[0;32m~/miniconda3/envs/py39/lib/python3.9/site-packages/jax/interpreters/partial_eval.py:212\u001b[0m, in \u001b[0;36mJaxprTrace.process_primitive\u001b[0;34m(self, primitive, tracers, params)\u001b[0m\n\u001b[1;32m    210\u001b[0m \u001b[39mdef\u001b[39;00m \u001b[39mprocess_primitive\u001b[39m(\u001b[39mself\u001b[39m, primitive, tracers, params):\n\u001b[1;32m    211\u001b[0m   \u001b[39mif\u001b[39;00m primitive \u001b[39min\u001b[39;00m custom_partial_eval_rules:\n\u001b[0;32m--> 212\u001b[0m     \u001b[39mreturn\u001b[39;00m custom_partial_eval_rules[primitive](\u001b[39mself\u001b[39;49m, \u001b[39m*\u001b[39;49mtracers, \u001b[39m*\u001b[39;49m\u001b[39m*\u001b[39;49mparams)\n\u001b[1;32m    213\u001b[0m   \u001b[39melse\u001b[39;00m:\n\u001b[1;32m    214\u001b[0m     \u001b[39mreturn\u001b[39;00m \u001b[39mself\u001b[39m\u001b[39m.\u001b[39mdefault_process_primitive(primitive, tracers, params)\n",
      "File \u001b[0;32m~/miniconda3/envs/py39/lib/python3.9/site-packages/jax/_src/pjit.py:1701\u001b[0m, in \u001b[0;36m_pjit_partial_eval\u001b[0;34m(trace, jaxpr, in_shardings, out_shardings, resource_env, donated_invars, name, in_positional_semantics, out_positional_semantics, keep_unused, inline, *in_tracers)\u001b[0m\n\u001b[1;32m   1699\u001b[0m \u001b[39m# Bind known things to pjit_p.\u001b[39;00m\n\u001b[1;32m   1700\u001b[0m known_inputs \u001b[39m=\u001b[39m [pv\u001b[39m.\u001b[39mget_known() \u001b[39mfor\u001b[39;00m pv \u001b[39min\u001b[39;00m in_pvals \u001b[39mif\u001b[39;00m pv\u001b[39m.\u001b[39mis_known()]\n\u001b[0;32m-> 1701\u001b[0m all_known_outs \u001b[39m=\u001b[39m pjit_p\u001b[39m.\u001b[39;49mbind(\u001b[39m*\u001b[39;49mknown_inputs, \u001b[39m*\u001b[39;49m\u001b[39m*\u001b[39;49mknown_params)\n\u001b[1;32m   1703\u001b[0m known_outs_iter \u001b[39m=\u001b[39m \u001b[39miter\u001b[39m(all_known_outs)\n\u001b[1;32m   1704\u001b[0m all_known_outs \u001b[39m=\u001b[39m [\u001b[39mnext\u001b[39m(known_outs_iter)\n\u001b[1;32m   1705\u001b[0m                   \u001b[39mif\u001b[39;00m fwd_idx \u001b[39mis\u001b[39;00m \u001b[39mNone\u001b[39;00m \u001b[39melse\u001b[39;00m known_inputs[fwd_idx]\n\u001b[1;32m   1706\u001b[0m                   \u001b[39mfor\u001b[39;00m fwd_idx \u001b[39min\u001b[39;00m fwds_known]\n",
      "File \u001b[0;32m~/miniconda3/envs/py39/lib/python3.9/site-packages/jax/_src/core.py:2577\u001b[0m, in \u001b[0;36mAxisPrimitive.bind\u001b[0;34m(self, *args, **params)\u001b[0m\n\u001b[1;32m   2573\u001b[0m axis_main \u001b[39m=\u001b[39m \u001b[39mmax\u001b[39m((axis_frame(a)\u001b[39m.\u001b[39mmain_trace \u001b[39mfor\u001b[39;00m a \u001b[39min\u001b[39;00m used_axis_names(\u001b[39mself\u001b[39m, params)),\n\u001b[1;32m   2574\u001b[0m                 default\u001b[39m=\u001b[39m\u001b[39mNone\u001b[39;00m, key\u001b[39m=\u001b[39m\u001b[39mlambda\u001b[39;00m t: \u001b[39mgetattr\u001b[39m(t, \u001b[39m'\u001b[39m\u001b[39mlevel\u001b[39m\u001b[39m'\u001b[39m, \u001b[39m-\u001b[39m\u001b[39m1\u001b[39m))\n\u001b[1;32m   2575\u001b[0m top_trace \u001b[39m=\u001b[39m (top_trace \u001b[39mif\u001b[39;00m \u001b[39mnot\u001b[39;00m axis_main \u001b[39mor\u001b[39;00m axis_main\u001b[39m.\u001b[39mlevel \u001b[39m<\u001b[39m top_trace\u001b[39m.\u001b[39mlevel\n\u001b[1;32m   2576\u001b[0m              \u001b[39melse\u001b[39;00m axis_main\u001b[39m.\u001b[39mwith_cur_sublevel())\n\u001b[0;32m-> 2577\u001b[0m \u001b[39mreturn\u001b[39;00m \u001b[39mself\u001b[39;49m\u001b[39m.\u001b[39;49mbind_with_trace(top_trace, args, params)\n",
      "File \u001b[0;32m~/miniconda3/envs/py39/lib/python3.9/site-packages/jax/_src/core.py:363\u001b[0m, in \u001b[0;36mPrimitive.bind_with_trace\u001b[0;34m(self, trace, args, params)\u001b[0m\n\u001b[1;32m    362\u001b[0m \u001b[39mdef\u001b[39;00m \u001b[39mbind_with_trace\u001b[39m(\u001b[39mself\u001b[39m, trace, args, params):\n\u001b[0;32m--> 363\u001b[0m   out \u001b[39m=\u001b[39m trace\u001b[39m.\u001b[39;49mprocess_primitive(\u001b[39mself\u001b[39;49m, \u001b[39mmap\u001b[39;49m(trace\u001b[39m.\u001b[39;49mfull_raise, args), params)\n\u001b[1;32m    364\u001b[0m   \u001b[39mreturn\u001b[39;00m \u001b[39mmap\u001b[39m(full_lower, out) \u001b[39mif\u001b[39;00m \u001b[39mself\u001b[39m\u001b[39m.\u001b[39mmultiple_results \u001b[39melse\u001b[39;00m full_lower(out)\n",
      "File \u001b[0;32m~/miniconda3/envs/py39/lib/python3.9/site-packages/jax/_src/core.py:807\u001b[0m, in \u001b[0;36mEvalTrace.process_primitive\u001b[0;34m(self, primitive, tracers, params)\u001b[0m\n\u001b[1;32m    806\u001b[0m \u001b[39mdef\u001b[39;00m \u001b[39mprocess_primitive\u001b[39m(\u001b[39mself\u001b[39m, primitive, tracers, params):\n\u001b[0;32m--> 807\u001b[0m   \u001b[39mreturn\u001b[39;00m primitive\u001b[39m.\u001b[39;49mimpl(\u001b[39m*\u001b[39;49mtracers, \u001b[39m*\u001b[39;49m\u001b[39m*\u001b[39;49mparams)\n",
      "File \u001b[0;32m~/miniconda3/envs/py39/lib/python3.9/site-packages/jax/_src/pjit.py:1314\u001b[0m, in \u001b[0;36m_pjit_call_impl\u001b[0;34m(jaxpr, in_shardings, out_shardings, resource_env, donated_invars, name, in_positional_semantics, out_positional_semantics, keep_unused, inline, *args)\u001b[0m\n\u001b[1;32m   1308\u001b[0m   distributed_debug_log((\u001b[39m\"\u001b[39m\u001b[39mRunning pjit\u001b[39m\u001b[39m'\u001b[39m\u001b[39md function\u001b[39m\u001b[39m\"\u001b[39m, name),\n\u001b[1;32m   1309\u001b[0m                         (\u001b[39m\"\u001b[39m\u001b[39min_shardings\u001b[39m\u001b[39m\"\u001b[39m, in_shardings),\n\u001b[1;32m   1310\u001b[0m                         (\u001b[39m\"\u001b[39m\u001b[39mout_shardings\u001b[39m\u001b[39m\"\u001b[39m, out_shardings),\n\u001b[1;32m   1311\u001b[0m                         (\u001b[39m\"\u001b[39m\u001b[39mabstract args\u001b[39m\u001b[39m\"\u001b[39m, \u001b[39mlist\u001b[39m(\u001b[39mmap\u001b[39m(xla\u001b[39m.\u001b[39mabstractify, args))),\n\u001b[1;32m   1312\u001b[0m                         (\u001b[39m\"\u001b[39m\u001b[39mfingerprint\u001b[39m\u001b[39m\"\u001b[39m, fingerprint))\n\u001b[1;32m   1313\u001b[0m \u001b[39mtry\u001b[39;00m:\n\u001b[0;32m-> 1314\u001b[0m   \u001b[39mreturn\u001b[39;00m compiled\u001b[39m.\u001b[39;49munsafe_call(\u001b[39m*\u001b[39;49margs)\n\u001b[1;32m   1315\u001b[0m \u001b[39mexcept\u001b[39;00m \u001b[39mFloatingPointError\u001b[39;00m:\n\u001b[1;32m   1316\u001b[0m   \u001b[39massert\u001b[39;00m config\u001b[39m.\u001b[39mjax_debug_nans \u001b[39mor\u001b[39;00m config\u001b[39m.\u001b[39mjax_debug_infs  \u001b[39m# compiled_fun can only raise in this case\u001b[39;00m\n",
      "File \u001b[0;32m~/miniconda3/envs/py39/lib/python3.9/site-packages/jax/_src/profiler.py:314\u001b[0m, in \u001b[0;36mannotate_function.<locals>.wrapper\u001b[0;34m(*args, **kwargs)\u001b[0m\n\u001b[1;32m    311\u001b[0m \u001b[39m@wraps\u001b[39m(func)\n\u001b[1;32m    312\u001b[0m \u001b[39mdef\u001b[39;00m \u001b[39mwrapper\u001b[39m(\u001b[39m*\u001b[39margs, \u001b[39m*\u001b[39m\u001b[39m*\u001b[39mkwargs):\n\u001b[1;32m    313\u001b[0m   \u001b[39mwith\u001b[39;00m TraceAnnotation(name, \u001b[39m*\u001b[39m\u001b[39m*\u001b[39mdecorator_kwargs):\n\u001b[0;32m--> 314\u001b[0m     \u001b[39mreturn\u001b[39;00m func(\u001b[39m*\u001b[39;49margs, \u001b[39m*\u001b[39;49m\u001b[39m*\u001b[39;49mkwargs)\n\u001b[1;32m    315\u001b[0m   \u001b[39mreturn\u001b[39;00m wrapper\n",
      "File \u001b[0;32m~/miniconda3/envs/py39/lib/python3.9/site-packages/jax/_src/interpreters/pxla.py:2180\u001b[0m, in \u001b[0;36mExecuteReplicated.__call__\u001b[0;34m(self, *args)\u001b[0m\n\u001b[1;32m   2175\u001b[0m   \u001b[39mself\u001b[39m\u001b[39m.\u001b[39m_handle_token_bufs(\n\u001b[1;32m   2176\u001b[0m       results\u001b[39m.\u001b[39mdisassemble_prefix_into_single_device_arrays(\n\u001b[1;32m   2177\u001b[0m           \u001b[39mlen\u001b[39m(\u001b[39mself\u001b[39m\u001b[39m.\u001b[39mordered_effects)),\n\u001b[1;32m   2178\u001b[0m       results\u001b[39m.\u001b[39mconsume_token())\n\u001b[1;32m   2179\u001b[0m \u001b[39melse\u001b[39;00m:\n\u001b[0;32m-> 2180\u001b[0m   results \u001b[39m=\u001b[39m \u001b[39mself\u001b[39;49m\u001b[39m.\u001b[39;49mxla_executable\u001b[39m.\u001b[39;49mexecute_sharded(input_bufs)\n\u001b[1;32m   2181\u001b[0m \u001b[39mif\u001b[39;00m dispatch\u001b[39m.\u001b[39mneeds_check_special():\n\u001b[1;32m   2182\u001b[0m   out_arrays \u001b[39m=\u001b[39m results\u001b[39m.\u001b[39mdisassemble_into_single_device_arrays()\n",
      "\u001b[0;31mKeyboardInterrupt\u001b[0m: "
     ]
    }
   ],
   "source": [
    "def step(step, opt_state):\n",
    "    value, grads = jax.value_and_grad(mesLoss)(get_unitary(opt_state))\n",
    "    riemannian_grad = ur.riemannian_grad(u, grads)\n",
    "    opt_state = opt_update(step, riemannian_grad, opt_state)\n",
    "    return value, opt_state\n",
    "for i in range(10000):\n",
    "    value, opt_state = step(i, opt_state)\n",
    "    u = get_unitary(opt_state)\n",
    "    # print(jnp.linalg.norm(u @ u.T - jnp.eye(8)))\n",
    "    print(value)"
   ]
  },
  {
   "cell_type": "code",
   "execution_count": 63,
   "metadata": {},
   "outputs": [
    {
     "data": {
      "text/plain": [
       "Array([[ 0.02637667, -0.62523228, -0.25824682,  0.07652412, -0.27652208,\n",
       "        -0.38720954, -0.00610629, -0.55619447],\n",
       "       [-0.51539503,  0.33571185,  0.35349429,  0.27117806,  0.10260862,\n",
       "        -0.03989071,  0.31229313, -0.55838893],\n",
       "       [-0.04371901, -0.0180621 ,  0.28708313,  0.24463985, -0.86876533,\n",
       "         0.18117465,  0.11503734,  0.22398933],\n",
       "       [-0.03605591, -0.36168213,  0.64388014, -0.32749439,  0.15367543,\n",
       "        -0.41718214,  0.27541101,  0.2740728 ],\n",
       "       [ 0.01582695, -0.34372539,  0.36680637, -0.2736082 ,  0.06825381,\n",
       "         0.68720487, -0.29529531, -0.32858958],\n",
       "       [-0.79769207, -0.24126144, -0.13116612,  0.07727826,  0.03992199,\n",
       "        -0.04169526, -0.42303294,  0.315108  ],\n",
       "       [-0.29819277, -0.07747142, -0.39826263, -0.50908523, -0.10746989,\n",
       "         0.2787619 ,  0.62583567,  0.04138408],\n",
       "       [ 0.07631887, -0.42299142, -0.04946863,  0.6438758 ,  0.33804042,\n",
       "         0.29962748,  0.38757305,  0.20948032]], dtype=float64)"
      ]
     },
     "execution_count": 63,
     "metadata": {},
     "output_type": "execute_result"
    }
   ],
   "source": [
    "get_unitary(opt_state)"
   ]
  },
  {
   "cell_type": "code",
   "execution_count": 40,
   "metadata": {},
   "outputs": [
    {
     "name": "stdout",
     "output_type": "stream",
     "text": [
      "[[ 0.          0.04848574 -0.14949599 -0.12895075  0.08539086  0.21497774\n",
      "  -0.30938472  0.146692  ]\n",
      " [-0.04848574  0.         -0.13104768  0.1381185   0.15857814  0.02893414\n",
      "   0.03815241  0.12007688]\n",
      " [ 0.14949599  0.13104768  0.         -0.1519691   0.01669821  0.09771466\n",
      "  -0.07352611  0.08505269]\n",
      " [ 0.12895075 -0.1381185   0.1519691   0.          0.14733817  0.00988164\n",
      "   0.03453659  0.04185871]\n",
      " [-0.08539086 -0.15857814 -0.01669821 -0.14733817  0.          0.19016541\n",
      "  -0.0569112   0.27680873]\n",
      " [-0.21497774 -0.02893414 -0.09771466 -0.00988164 -0.19016541  0.\n",
      "  -0.06713462 -0.1142042 ]\n",
      " [ 0.30938472 -0.03815241  0.07352611 -0.03453659  0.0569112   0.06713462\n",
      "   0.          0.17117901]\n",
      " [-0.146692   -0.12007688 -0.08505269 -0.04185871 -0.27680873  0.1142042\n",
      "  -0.17117901  0.        ]]\n"
     ]
    }
   ],
   "source": [
    "ur.reset_params()\n",
    "val = mesLoss(ur.matrix)\n",
    "# print(val)\n",
    "grad = jax.grad(mesLoss)(ur.matrix)\n",
    "riemannian_grad = ur.riemannian_grad(grad)\n",
    "print(riemannian_grad)\n",
    "\n"
   ]
  },
  {
   "cell_type": "code",
   "execution_count": 15,
   "metadata": {},
   "outputs": [
    {
     "data": {
      "text/plain": [
       "Array(1.03253213e-15, dtype=float64)"
      ]
     },
     "execution_count": 15,
     "metadata": {},
     "output_type": "execute_result"
    }
   ],
   "source": [
    "jnp.linalg.norm(riemannian_grad)"
   ]
  },
  {
   "cell_type": "code",
   "execution_count": 1,
   "metadata": {},
   "outputs": [],
   "source": [
    "import os\n",
    "os.environ['XLA_PYTHON_CLIENT_PREALLOCATE'] = 'false'\n",
    "import jax.numpy as jnp\n",
    "import jax\n",
    "# jax.config.update(\"jax_platform_name\", args.platform)\n",
    "A = jax.random.normal(jax.random.PRNGKey(0), (3, 3))\n",
    "# A = jax.random.normal(jax.random.PRNGKey(0), (4096, 4096))\n",
    "# A = A + A.T"
   ]
  },
  {
   "cell_type": "code",
   "execution_count": 10,
   "metadata": {},
   "outputs": [
    {
     "data": {
      "text/plain": [
       "134217728"
      ]
     },
     "execution_count": 10,
     "metadata": {},
     "output_type": "execute_result"
    }
   ],
   "source": [
    "4096 ** 2 * 8"
   ]
  },
  {
   "cell_type": "code",
   "execution_count": 7,
   "metadata": {},
   "outputs": [],
   "source": [
    "E, V = jnp.linalg.eigh(A)"
   ]
  },
  {
   "cell_type": "code",
   "execution_count": null,
   "metadata": {},
   "outputs": [],
   "source": [
    "def f(x):\n",
    "    return jnp.linalg.norm(jnp.linalg.eigvalsh(x)[0])"
   ]
  },
  {
   "attachments": {},
   "cell_type": "markdown",
   "metadata": {},
   "source": [
    "## Gradient"
   ]
  }
 ],
 "metadata": {
  "kernelspec": {
   "display_name": "py39",
   "language": "python",
   "name": "python3"
  },
  "language_info": {
   "codemirror_mode": {
    "name": "ipython",
    "version": 3
   },
   "file_extension": ".py",
   "mimetype": "text/x-python",
   "name": "python",
   "nbconvert_exporter": "python",
   "pygments_lexer": "ipython3",
   "version": "3.9.16"
  },
  "orig_nbformat": 4,
  "vscode": {
   "interpreter": {
    "hash": "635093cb382d24e7bb09df67eef84e97b3e0429c00b0294b3c9882ac411b8a1a"
   }
  }
 },
 "nbformat": 4,
 "nbformat_minor": 2
}
