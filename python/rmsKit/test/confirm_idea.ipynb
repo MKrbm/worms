{
 "cells": [
  {
   "cell_type": "code",
   "execution_count": 1,
   "id": "e28889a4",
   "metadata": {},
   "outputs": [],
   "source": [
    "# I want to confirm the idea of optimization of unitary matrix\n",
    "import sys\n",
    "sys.path.insert(0,\"../\")"
   ]
  },
  {
   "cell_type": "code",
   "execution_count": 2,
   "id": "87d280b7",
   "metadata": {},
   "outputs": [
    {
     "name": "stderr",
     "output_type": "stream",
     "text": [
      "/home/user/miniconda3/envs/py39/lib/python3.9/site-packages/tqdm/auto.py:22: TqdmWarning: IProgress not found. Please update jupyter and ipywidgets. See https://ipywidgets.readthedocs.io/en/stable/user_install.html\n",
      "  from .autonotebook import tqdm as notebook_tqdm\n"
     ]
    }
   ],
   "source": [
    "import numpy as np\n",
    "import rms\n",
    "import jax\n",
    "import jax.numpy as jnp"
   ]
  },
  {
   "cell_type": "code",
   "execution_count": 3,
   "id": "10e7a563",
   "metadata": {},
   "outputs": [],
   "source": [
    "# generate random hamiltonian \n",
    "n = 4 # local dimension\n",
    "N = n*n"
   ]
  },
  {
   "cell_type": "markdown",
   "id": "bf0fe62c",
   "metadata": {},
   "source": [
    "### Random Hamiltonian sample from normal distribution"
   ]
  },
  {
   "cell_type": "code",
   "execution_count": 35,
   "id": "efda47ef",
   "metadata": {},
   "outputs": [
    {
     "name": "stdout",
     "output_type": "stream",
     "text": [
      "initial loss :  9.205718966887204\n",
      "minimum loss :  5.243969924646554\n",
      "UnitaryRiemanGenerator is initialized\n"
     ]
    }
   ],
   "source": [
    "H = np.random.normal(size = (N,N))\n",
    "H = (H + H.T)/2\n",
    "H = jnp.array(H)\n",
    "e = jnp.linalg.eigvalsh(rms.stoquastic(U @ H @ U.T))[0]\n",
    "e_min = jnp.linalg.eigvalsh(U @ H @ U.T)[0]\n",
    "print(\"initial loss : \", -e)\n",
    "print(\"minimum loss : \", -e_min)\n",
    "state = rms.loss.init_loss(H, n, np.float64, \"smel\")\n",
    "state_list = [state]\n",
    "qesLoss = rms.loss.system_mel_multi\n",
    "lion_solver = rms.solver.lionSolver(qesLoss, state_list, system = True)\n",
    "seed = np.random.randint(0, 100000)\n",
    "np.random.seed(seed)\n",
    "ur = rms.unitary.UnitaryRiemanGenerator(n, jax.random.PRNGKey(seed), np.float64)"
   ]
  },
  {
   "cell_type": "code",
   "execution_count": 36,
   "id": "d3b6aad6",
   "metadata": {},
   "outputs": [
    {
     "name": "stderr",
     "output_type": "stream",
     "text": [
      " 40%|█████████████▉                     | 399/1000 [00:03<00:05, 110.33it/s, iter=399, lr = 0.00100 bad_cnt=10, loss=8.43067, ]"
     ]
    },
    {
     "name": "stdout",
     "output_type": "stream",
     "text": [
      "optimized loss :  8.430168137513581\n"
     ]
    },
    {
     "name": "stderr",
     "output_type": "stream",
     "text": [
      "\n"
     ]
    }
   ],
   "source": [
    "u = ur.reset_matrix()\n",
    "u, lv = lion_solver(\n",
    "    u,\n",
    "    1000,\n",
    "    0.001,\n",
    "    cout=True,\n",
    "    cutoff_cnt=10,\n",
    "    mass1=0.9,\n",
    "    mass2=0.6,\n",
    "    offset=0.001\n",
    ")\n",
    "\n",
    "U = jnp.kron(u,u)\n",
    "HU = U @ H @ U.T\n",
    "e_ = jnp.linalg.eigvalsh(rms.stoquastic(HU))[0]\n",
    "print(\"optimized loss : \", -e_)"
   ]
  },
  {
   "cell_type": "code",
   "execution_count": 37,
   "id": "fce05e60",
   "metadata": {
    "scrolled": true
   },
   "outputs": [
    {
     "data": {
      "text/plain": [
       "Array([-8.43016814, -3.7156706 , -2.63084349, -2.35976217, -1.13788208,\n",
       "       -0.87965537, -0.53801147,  0.00876012,  0.17746265,  0.37446924,\n",
       "        1.05378425,  1.55344456,  1.7663003 ,  2.63530019,  3.58333481,\n",
       "        4.6169361 ], dtype=float64)"
      ]
     },
     "execution_count": 37,
     "metadata": {},
     "output_type": "execute_result"
    }
   ],
   "source": [
    "jnp.linalg.eigvalsh(rms.stoquastic(HU))"
   ]
  },
  {
   "cell_type": "code",
   "execution_count": 39,
   "id": "2d79e363",
   "metadata": {},
   "outputs": [
    {
     "data": {
      "text/plain": [
       "Array([[ 0.     ,  3.16797,  0.     ,  0.51317,  0.80946,  0.     ,\n",
       "         0.     ,  0.1354 ,  1.06842,  0.     ,  0.     ,  1.56992,\n",
       "         0.11966,  0.     ,  0.     ,  0.     ],\n",
       "       [ 3.16797,  0.     ,  0.0371 ,  0.28155,  0.     ,  0.31971,\n",
       "         0.     ,  0.     ,  0.     ,  1.92212,  0.18022,  0.     ,\n",
       "         0.90578,  1.25505,  0.26281,  1.50342],\n",
       "       [ 0.     ,  0.0371 , -0.     ,  1.16065,  0.     ,  1.70787,\n",
       "         0.     ,  0.     ,  0.     ,  0.     ,  0.     ,  1.21447,\n",
       "         0.     ,  0.     ,  0.     ,  0.05527],\n",
       "       [ 0.51317,  0.28155,  1.16065,  0.     ,  0.4075 ,  0.47478,\n",
       "         0.     ,  0.     ,  0.0074 ,  1.05954,  0.     ,  3.23323,\n",
       "         0.     ,  0.     ,  0.     ,  3.62089],\n",
       "       [ 0.80946,  0.     ,  0.     ,  0.4075 ,  0.     ,  3.0001 ,\n",
       "         0.     ,  0.35123,  1.61242,  0.03759,  3.5516 ,  2.50922,\n",
       "         0.     ,  0.     ,  0.     ,  0.     ],\n",
       "       [ 0.     ,  0.31971,  1.70787,  0.47478,  3.0001 ,  0.     ,\n",
       "         0.60093,  0.     ,  0.     ,  0.     ,  0.     ,  0.95444,\n",
       "         0.77175,  0.     ,  0.46012,  0.     ],\n",
       "       [ 0.     ,  0.     ,  0.     ,  0.     ,  0.     ,  0.60093,\n",
       "        -0.     ,  0.66881,  0.     ,  0.67406,  0.     ,  0.53705,\n",
       "         0.     ,  1.37633,  0.     ,  0.69421],\n",
       "       [ 0.1354 ,  0.     ,  0.     ,  0.     ,  0.35123,  0.     ,\n",
       "         0.66881,  0.     ,  0.19896,  0.     ,  0.     ,  0.     ,\n",
       "         1.14803,  0.35211,  1.90736,  0.     ],\n",
       "       [ 1.06842,  0.     ,  0.     ,  0.0074 ,  1.61242,  0.     ,\n",
       "         0.     ,  0.19896, -0.     ,  0.84414,  0.     ,  0.     ,\n",
       "         0.     ,  0.21848,  0.     ,  0.00779],\n",
       "       [ 0.     ,  1.92212,  0.     ,  1.05954,  0.03759,  0.     ,\n",
       "         0.67406,  0.     ,  0.84414,  0.     ,  0.     ,  1.13128,\n",
       "         1.09323,  0.     ,  0.     ,  0.     ],\n",
       "       [ 0.     ,  0.18022,  0.     ,  0.     ,  3.5516 ,  0.     ,\n",
       "         0.     ,  0.     ,  0.     ,  0.     ,  0.     ,  0.61062,\n",
       "         0.88458,  0.     ,  4.34731,  0.54407],\n",
       "       [ 1.56992,  0.     ,  1.21447,  3.23323,  2.50922,  0.95444,\n",
       "         0.53705,  0.     ,  0.     ,  1.13128,  0.61062,  0.     ,\n",
       "         0.     ,  0.9955 ,  0.     ,  0.     ],\n",
       "       [ 0.11966,  0.90578,  0.     ,  0.     ,  0.     ,  0.77175,\n",
       "         0.     ,  1.14803,  0.     ,  1.09323,  0.88458,  0.     ,\n",
       "        -0.     ,  0.     ,  0.4846 ,  0.     ],\n",
       "       [ 0.     ,  1.25505,  0.     ,  0.     ,  0.     ,  0.     ,\n",
       "         1.37633,  0.35211,  0.21848,  0.     ,  0.     ,  0.9955 ,\n",
       "         0.     ,  0.     ,  0.     ,  0.     ],\n",
       "       [ 0.     ,  0.26281,  0.     ,  0.     ,  0.     ,  0.46012,\n",
       "         0.     ,  1.90736,  0.     ,  0.     ,  4.34731,  0.     ,\n",
       "         0.4846 ,  0.     ,  0.     ,  0.00443],\n",
       "       [ 0.     ,  1.50342,  0.05527,  3.62089,  0.     ,  0.     ,\n",
       "         0.69421,  0.     ,  0.00779,  0.     ,  0.54407,  0.     ,\n",
       "         0.     ,  0.     ,  0.00443,  0.     ]], dtype=float64)"
      ]
     },
     "execution_count": 39,
     "metadata": {},
     "output_type": "execute_result"
    }
   ],
   "source": [
    "np.round(HU - rms.stoquastic(HU),5)"
   ]
  },
  {
   "cell_type": "code",
   "execution_count": null,
   "id": "d4619557",
   "metadata": {},
   "outputs": [],
   "source": []
  }
 ],
 "metadata": {
  "kernelspec": {
   "display_name": "Python 3 (ipykernel)",
   "language": "python",
   "name": "python3"
  },
  "language_info": {
   "codemirror_mode": {
    "name": "ipython",
    "version": 3
   },
   "file_extension": ".py",
   "mimetype": "text/x-python",
   "name": "python",
   "nbconvert_exporter": "python",
   "pygments_lexer": "ipython3",
   "version": "3.9.16"
  }
 },
 "nbformat": 4,
 "nbformat_minor": 5
}
