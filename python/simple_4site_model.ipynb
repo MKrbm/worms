{
 "cells": [
  {
   "cell_type": "markdown",
   "id": "ae013457",
   "metadata": {},
   "source": [
    "### heisernberg1D with 2 spin per site"
   ]
  },
  {
   "cell_type": "code",
   "execution_count": 131,
   "id": "49f181e2",
   "metadata": {},
   "outputs": [],
   "source": [
    "from __future__ import print_function, division\n",
    "import sys,os\n",
    "os.environ['KMP_DUPLICATE_LIB_OK']='True' # uncomment this line if omp error occurs on OSX for python 3\n",
    "os.environ['OMP_NUM_THREADS']='1' # set number of OpenMP threads to run in parallel\n",
    "os.environ['MKL_NUM_THREADS']='10' # set number of MKL threads to run in parallel\n",
    "#\n",
    "quspin_path = os.path.join(os.getcwd(),\"../../\")\n",
    "sys.path.insert(0,quspin_path)\n",
    "from quspin.basis import spin_basis_1d, spin_basis_general\n",
    "from quspin.operators import hamiltonian,quantum_operator\n",
    "from quspin.tools.lanczos import lanczos_full,lanczos_iter,FTLM_static_iteration,LTLM_static_iteration\n",
    "import numpy as np\n",
    "import matplotlib.pyplot as plt\n",
    "from mpl_toolkits.axes_grid1.inset_locator import inset_axes\n",
    "import numpy as np\n",
    "from scipy import sparse\n",
    "import scipy"
   ]
  },
  {
   "cell_type": "code",
   "execution_count": 119,
   "id": "0f8a18a4",
   "metadata": {},
   "outputs": [],
   "source": [
    "I = np.identity(2)\n",
    "Sz = np.zeros([2,2])\n",
    "Sz[0,0] = 1/2\n",
    "Sz[1,1] = -1/2\n",
    "Sx = np.zeros([2,2])\n",
    "Sx[1,0] = 1/2\n",
    "Sx[0,1] = 1/2\n",
    "Sy = np.zeros([2,2], dtype=np.complex64)\n",
    "Sy[1,0] = 1j/2\n",
    "Sy[0,1] = -1j/2\n",
    "\n",
    "\n",
    "Sz = sparse.csr_matrix(Sz)\n",
    "Sx = sparse.csr_matrix(Sx)\n",
    "Sy = sparse.csr_matrix(Sy)\n",
    "I = sparse.csr_matrix(I)\n",
    "\n",
    "Sz1 = sparse.kron(I,Sz,format='csr')\n",
    "Sz2 = sparse.kron(Sz,I,format='csr')\n",
    "SzSz = sparse.kron(Sz,Sz,format='csr')\n",
    "\n",
    "Sx1 = sparse.kron(I,Sx,format='csr')\n",
    "Sx2 = sparse.kron(Sx,I,format='csr')\n",
    "SxSx = sparse.kron(Sx,Sx,format='csr')\n",
    "\n",
    "Sy1 = sparse.kron(I,Sy,format='csr')\n",
    "Sy2 = sparse.kron(Sy,I,format='csr')\n",
    "SySy = sparse.kron(Sy,Sy,format='csr')\n",
    "\n",
    "\n",
    "h1 = -(sparse.kron(Sz1, Sz2,format='csr') \n",
    "       - sparse.kron(Sx1, Sx2,format='csr')\n",
    "       - sparse.kron(Sy1, Sy2,format='csr') \n",
    "     ).real\n",
    "\n",
    "h2 = -(sparse.kron(SzSz, np.identity(4),format='csr') \n",
    "       - sparse.kron(SxSx, np.identity(4),format='csr')\n",
    "       - sparse.kron(SxSx, np.identity(4),format='csr') \n",
    "     ).real * (1/2)\n",
    "\n",
    "h3 = -(sparse.kron(np.identity(4),SzSz, format='csr') \n",
    "       - sparse.kron(np.identity(4),SxSx, format='csr')\n",
    "       - sparse.kron(np.identity(4), SySy, format='csr') \n",
    "     ).real * (1/2)\n",
    "\n",
    "lh = h1 + h2 + h3"
   ]
  },
  {
   "cell_type": "code",
   "execution_count": 120,
   "id": "612038ce",
   "metadata": {},
   "outputs": [
    {
     "name": "stderr",
     "output_type": "stream",
     "text": [
      "<>:2: SyntaxWarning: assertion is always true, perhaps remove parentheses?\n",
      "<>:3: SyntaxWarning: assertion is always true, perhaps remove parentheses?\n",
      "<>:2: SyntaxWarning: assertion is always true, perhaps remove parentheses?\n",
      "<>:3: SyntaxWarning: assertion is always true, perhaps remove parentheses?\n",
      "<>:2: SyntaxWarning: assertion is always true, perhaps remove parentheses?\n",
      "<>:3: SyntaxWarning: assertion is always true, perhaps remove parentheses?\n",
      "<ipython-input-120-26772de5078c>:2: SyntaxWarning: assertion is always true, perhaps remove parentheses?\n",
      "  assert(len(pos) == len(hams), \"size of position and hams must be the same\")\n",
      "<ipython-input-120-26772de5078c>:3: SyntaxWarning: assertion is always true, perhaps remove parentheses?\n",
      "  assert(sps == hams[0].shape[0], \"dimension of hamiltonian is inconsistent\")\n"
     ]
    }
   ],
   "source": [
    "def make_local_ham(pos, hams, sps = 2, L = 10):\n",
    "    assert(len(pos) == len(hams), \"size of position and hams must be the same\")\n",
    "    assert(sps == hams[0].shape[0], \"dimension of hamiltonian is inconsistent\")\n",
    "    \n",
    "    cnt = 0\n",
    "    h = sparse.identity(1, dtype=np.float64)\n",
    "    for i in range(L):\n",
    "        tmp = sparse.identity(sps)\n",
    "        if i in pos:\n",
    "#             print(f\"insert operator at {i}th site\")\n",
    "            tmp = hams[cnt]\n",
    "            cnt+=1\n",
    "        h = sparse.kron(tmp, h, format='csr')\n",
    "    return h"
   ]
  },
  {
   "cell_type": "code",
   "execution_count": 187,
   "id": "b61e1bc2",
   "metadata": {},
   "outputs": [],
   "source": [
    "L = 8\n",
    "L_ = int(L/2)\n",
    "\n",
    "\n",
    "H = sparse.csr_matrix((4**L_, 4**L_), dtype=np.float64)\n",
    "for i in range(L_):\n",
    "    tmp = make_local_ham([2*i + 1, (2*(i+1))%L], [Sz,Sz], 2, L)\n",
    "    tmp += make_local_ham([2*i + 1, (2*(i+1))%L], [Sx,Sx], 2, L)\n",
    "    tmp += make_local_ham([2*i + 1, (2*(i+1))%L], [Sy,Sy], 2, L) \n",
    "    \n",
    "    tmp += make_local_ham([2*i, (2*i+1)%L], [Sz,Sz/2], 2, L)\n",
    "    tmp += make_local_ham([2*i, (2*i+1)%L], [Sx,Sx/2], 2, L)\n",
    "    tmp += make_local_ham([2*i, (2*i+1)%L], [Sy,Sy/2], 2, L) \n",
    "    \n",
    "    tmp += make_local_ham([(2*i+2)%L, (2*i+3)%L], [Sz,Sz/2], 2, L)\n",
    "    tmp += make_local_ham([(2*i+2)%L, (2*i+3)%L], [Sx,Sx/2], 2, L)\n",
    "    tmp += make_local_ham([(2*i+2)%L, (2*i+3)%L], [Sy,Sy/2], 2, L)\n",
    "    H += tmp"
   ]
  },
  {
   "cell_type": "code",
   "execution_count": 188,
   "id": "123fee5d",
   "metadata": {
    "scrolled": true
   },
   "outputs": [],
   "source": [
    "E_, _ = scipy.linalg.eig(H.toarray())\n",
    "E_.sort()"
   ]
  },
  {
   "cell_type": "markdown",
   "id": "9a18b2cb",
   "metadata": {},
   "source": [
    "### construct with quspin"
   ]
  },
  {
   "cell_type": "code",
   "execution_count": 189,
   "id": "51d8cb0e",
   "metadata": {},
   "outputs": [
    {
     "name": "stdout",
     "output_type": "stream",
     "text": [
      "Hermiticity check passed!\n"
     ]
    }
   ],
   "source": [
    "basis = spin_basis_1d(L,pauli=False)\n",
    "J_zz = [[1,i,(i+1)%L] for i in range(L)] # OBC\n",
    "J_xy = [[1/2.0,i,(i+1)%L] for i in range(L)] # OBC\n",
    "ops_dict = dict(Jpm=[[\"+-\",J_xy]],Jmp=[[\"-+\",J_xy]],Jzz=[[\"zz\",J_zz]])\n",
    "H2 = quantum_operator(ops_dict,basis=basis,dtype=np.float64, check_symm=False)"
   ]
  },
  {
   "cell_type": "code",
   "execution_count": 190,
   "id": "6232ae91",
   "metadata": {},
   "outputs": [
    {
     "data": {
      "text/plain": [
       "7.65494925668007e-14"
      ]
     },
     "execution_count": 190,
     "metadata": {},
     "output_type": "execute_result"
    }
   ],
   "source": [
    "E = H2.eigvalsh({})\n",
    "np.linalg.norm(E - E_)"
   ]
  },
  {
   "cell_type": "code",
   "execution_count": 183,
   "id": "74704588",
   "metadata": {},
   "outputs": [
    {
     "data": {
      "text/plain": [
       "array([-3.65109341, -3.12841906, -3.12841906, -3.12841906, -2.69962815,\n",
       "       -2.45873851, -2.45873851, -2.45873851, -2.45873851, -2.45873851])"
      ]
     },
     "execution_count": 183,
     "metadata": {},
     "output_type": "execute_result"
    }
   ],
   "source": [
    "E[:10]"
   ]
  },
  {
   "cell_type": "code",
   "execution_count": 184,
   "id": "ad184817",
   "metadata": {},
   "outputs": [
    {
     "data": {
      "text/plain": [
       "array([-3.65109341, -3.12841906, -3.12841906, -3.12841906, -2.69962815,\n",
       "       -2.45873851, -2.45873851, -2.45873851, -2.45873851, -2.45873851])"
      ]
     },
     "execution_count": 184,
     "metadata": {},
     "output_type": "execute_result"
    }
   ],
   "source": [
    "H"
   ]
  },
  {
   "cell_type": "markdown",
   "id": "fbc64c4e",
   "metadata": {},
   "source": [
    "### construct local hamiltonian for worm algorithm"
   ]
  },
  {
   "cell_type": "code",
   "execution_count": 192,
   "id": "77200340",
   "metadata": {},
   "outputs": [],
   "source": [
    "L = 4\n",
    "tmp = make_local_ham([2*i + 1, (2*(i+1))%L], [Sz,Sz], 2, L)\n",
    "tmp += make_local_ham([2*i + 1, (2*(i+1))%L], [Sx,Sx], 2, L)\n",
    "tmp += make_local_ham([2*i + 1, (2*(i+1))%L], [Sy,Sy], 2, L) \n",
    "\n",
    "tmp += make_local_ham([2*i, (2*i+1)%L], [Sz,Sz/2], 2, L)\n",
    "tmp += make_local_ham([2*i, (2*i+1)%L], [Sx,Sx/2], 2, L)\n",
    "tmp += make_local_ham([2*i, (2*i+1)%L], [Sy,Sy/2], 2, L) \n",
    "\n",
    "tmp += make_local_ham([(2*i+2)%L, (2*i+3)%L], [Sz,Sz/2], 2, L)\n",
    "tmp += make_local_ham([(2*i+2)%L, (2*i+3)%L], [Sx,Sx/2], 2, L)\n",
    "tmp += make_local_ham([(2*i+2)%L, (2*i+3)%L], [Sy,Sy/2], 2, L)\n",
    "np.save(\"array/test_model.npy\", tmp.real.toarray())"
   ]
  },
  {
   "cell_type": "code",
   "execution_count": 196,
   "id": "4e959334",
   "metadata": {},
   "outputs": [
    {
     "name": "stdout",
     "output_type": "stream",
     "text": [
      "[ 1.125+0.j -0.125+0.j  0.875+0.j  0.125+0.j  1.125+0.j -0.125+0.j\n",
      "  0.875+0.j  0.125+0.j  0.125+0.j -1.125+0.j -0.125+0.j -0.875+0.j\n",
      "  0.125+0.j -1.125+0.j -0.125+0.j -0.875+0.j]\n"
     ]
    }
   ],
   "source": [
    "print(tmp.diagonal())"
   ]
  },
  {
   "cell_type": "code",
   "execution_count": null,
   "id": "c362feaa",
   "metadata": {},
   "outputs": [],
   "source": []
  }
 ],
 "metadata": {
  "kernelspec": {
   "display_name": "Python 3",
   "language": "python",
   "name": "python3"
  },
  "language_info": {
   "codemirror_mode": {
    "name": "ipython",
    "version": 3
   },
   "file_extension": ".py",
   "mimetype": "text/x-python",
   "name": "python",
   "nbconvert_exporter": "python",
   "pygments_lexer": "ipython3",
   "version": "3.7.7"
  }
 },
 "nbformat": 4,
 "nbformat_minor": 5
}
