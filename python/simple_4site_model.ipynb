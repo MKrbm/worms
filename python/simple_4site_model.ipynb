{
 "cells": [
  {
   "cell_type": "markdown",
   "id": "988aa037",
   "metadata": {},
   "source": [
    "# heisernberg1D with 2 spin per site"
   ]
  },
  {
   "cell_type": "code",
   "execution_count": 5,
   "id": "e4f9dece",
   "metadata": {},
   "outputs": [],
   "source": [
    "from __future__ import print_function, division\n",
    "import sys,os\n",
    "os.environ['KMP_DUPLICATE_LIB_OK']='True' # uncomment this line if omp error occurs on OSX for python 3\n",
    "os.environ['OMP_NUM_THREADS']='1' # set number of OpenMP threads to run in parallel\n",
    "os.environ['MKL_NUM_THREADS']='10' # set number of MKL threads to run in parallel\n",
    "#\n",
    "quspin_path = os.path.join(os.getcwd(),\"../../\")\n",
    "sys.path.insert(0,quspin_path)\n",
    "from quspin.basis import spin_basis_1d, spin_basis_general\n",
    "from quspin.operators import hamiltonian,quantum_operator\n",
    "from quspin.tools.lanczos import lanczos_full,lanczos_iter,FTLM_static_iteration,LTLM_static_iteration\n",
    "import numpy as np\n",
    "import matplotlib.pyplot as plt\n",
    "from mpl_toolkits.axes_grid1.inset_locator import inset_axes\n",
    "import numpy as np\n",
    "from scipy import sparse\n",
    "import scipy"
   ]
  },
  {
   "cell_type": "code",
   "execution_count": 6,
   "id": "9edf4f0b",
   "metadata": {},
   "outputs": [],
   "source": [
    "I = np.identity(2)\n",
    "Sz = np.zeros([2,2])\n",
    "Sz[0,0] = 1/2\n",
    "Sz[1,1] = -1/2\n",
    "Sx = np.zeros([2,2])\n",
    "Sx[1,0] = 1/2\n",
    "Sx[0,1] = 1/2\n",
    "Sy = np.zeros([2,2], dtype=np.complex64)\n",
    "Sy[1,0] = 1j/2\n",
    "Sy[0,1] = -1j/2\n",
    "\n",
    "\n",
    "Sz = sparse.csr_matrix(Sz)\n",
    "Sx = sparse.csr_matrix(Sx)\n",
    "Sy = sparse.csr_matrix(Sy)\n",
    "I = sparse.csr_matrix(I)\n",
    "\n",
    "Sz1 = sparse.kron(I,Sz,format='csr')\n",
    "Sz2 = sparse.kron(Sz,I,format='csr')\n",
    "SzSz = sparse.kron(Sz,Sz,format='csr')\n",
    "\n",
    "Sx1 = sparse.kron(I,Sx,format='csr')\n",
    "Sx2 = sparse.kron(Sx,I,format='csr')\n",
    "SxSx = sparse.kron(Sx,Sx,format='csr')\n",
    "\n",
    "Sy1 = sparse.kron(I,Sy,format='csr')\n",
    "Sy2 = sparse.kron(Sy,I,format='csr')\n",
    "SySy = sparse.kron(Sy,Sy,format='csr')\n",
    "\n",
    "\n",
    "h1 = -(sparse.kron(Sz1, Sz2,format='csr') \n",
    "       - sparse.kron(Sx1, Sx2,format='csr')\n",
    "       - sparse.kron(Sy1, Sy2,format='csr') \n",
    "     ).real\n",
    "\n",
    "h2 = -(sparse.kron(SzSz, np.identity(4),format='csr') \n",
    "       - sparse.kron(SxSx, np.identity(4),format='csr')\n",
    "       - sparse.kron(SxSx, np.identity(4),format='csr') \n",
    "     ).real * (1/2)\n",
    "\n",
    "h3 = -(sparse.kron(np.identity(4),SzSz, format='csr') \n",
    "       - sparse.kron(np.identity(4),SxSx, format='csr')\n",
    "       - sparse.kron(np.identity(4), SySy, format='csr') \n",
    "     ).real * (1/2)\n",
    "\n",
    "lh = h1 + h2 + h3"
   ]
  },
  {
   "cell_type": "code",
   "execution_count": 7,
   "id": "1156fd7a",
   "metadata": {},
   "outputs": [],
   "source": [
    "def make_local_ham(pos, hams, sps = 2, L = 10):\n",
    "#     assert(len(pos) == len(hams), \"size of position and hams must be the same\")\n",
    "#     assert(sps == hams[0].shape[0], \"dimension of hamiltonian is inconsistent\")\n",
    "    \n",
    "    cnt = 0\n",
    "    h = sparse.identity(1, dtype=np.float64)\n",
    "    for i in range(L):\n",
    "        tmp = sparse.identity(sps)\n",
    "        if i in pos:\n",
    "#             print(f\"insert operator at {i}th site\")\n",
    "            tmp = hams[cnt]\n",
    "            cnt+=1\n",
    "        h = sparse.kron(tmp, h, format='csr')\n",
    "    return h"
   ]
  },
  {
   "cell_type": "markdown",
   "id": "3f39537d",
   "metadata": {},
   "source": [
    "## construct with quspin"
   ]
  },
  {
   "cell_type": "code",
   "execution_count": 24,
   "id": "dfb0ace3",
   "metadata": {},
   "outputs": [
    {
     "name": "stdout",
     "output_type": "stream",
     "text": [
      "Hermiticity check passed!\n"
     ]
    }
   ],
   "source": [
    "L = 8\n",
    "L_ = int(L/2)\n",
    "basis = spin_basis_1d(L,pauli=False)\n",
    "J_zz = [[1,i,(i+1)%L] for i in range(L)] # OBC\n",
    "J_xy = [[1/2.0,i,(i+1)%L] for i in range(L)] # OBC\n",
    "# J_zz = [[1,2*i,(2*i+1)%L] for i in range(L_)] # OBC\n",
    "# J_xy = [[1/2.0,2*i,(2*i+1)%L] for i in range(L_)] # OBC\n",
    "ops_dict = dict(Jpm=[[\"+-\",J_xy]],Jmp=[[\"-+\",J_xy]],Jzz=[[\"zz\",J_zz]])\n",
    "H2 = quantum_operator(ops_dict,basis=basis,dtype=np.float64, check_symm=False)"
   ]
  },
  {
   "cell_type": "markdown",
   "id": "tested-break",
   "metadata": {},
   "source": [
    "### check difference between energies."
   ]
  },
  {
   "cell_type": "code",
   "execution_count": 25,
   "id": "2822dc13",
   "metadata": {},
   "outputs": [],
   "source": [
    "E = H2.eigvalsh({})\n",
    "# np.linalg.norm(E - E_)"
   ]
  },
  {
   "cell_type": "code",
   "execution_count": 64,
   "id": "7eee4040",
   "metadata": {},
   "outputs": [],
   "source": [
    "L = 8\n",
    "L_ = int(L/2)\n",
    "\n",
    "\n",
    "H = sparse.csr_matrix((4**L_, 4**L_), dtype=np.float64)\n",
    "O = sparse.csr_matrix((4**L_, 4**L_), dtype=np.float64)\n",
    "for i in range(L_):\n",
    "    tmp = make_local_ham([2*i + 1, (2*(i+1))%L], [Sz,Sz], 2, L)\n",
    "    tmp += make_local_ham([2*i + 1, (2*(i+1))%L], [Sx,Sx], 2, L)\n",
    "    tmp += make_local_ham([2*i + 1, (2*(i+1))%L], [Sy,Sy], 2, L) \n",
    "    \n",
    "    tmp += make_local_ham([2*i, (2*i+1)%L], [Sz,Sz/2], 2, L)\n",
    "    tmp += make_local_ham([2*i, (2*i+1)%L], [Sx,Sx/2], 2, L)\n",
    "    tmp += make_local_ham([2*i, (2*i+1)%L], [Sy,Sy/2], 2, L) \n",
    "    \n",
    "    tmp += make_local_ham([(2*i+2)%L, (2*i+3)%L], [Sz,Sz/2], 2, L)\n",
    "    tmp += make_local_ham([(2*i+2)%L, (2*i+3)%L], [Sx,Sx/2], 2, L)\n",
    "    tmp += make_local_ham([(2*i+2)%L, (2*i+3)%L], [Sy,Sy/2], 2, L)\n",
    "    H += tmp\n",
    "for i in range(L):\n",
    "    O += make_local_ham([i], [Sz], 2, L)"
   ]
  },
  {
   "cell_type": "code",
   "execution_count": 65,
   "id": "c5f32ede",
   "metadata": {
    "scrolled": false
   },
   "outputs": [
    {
     "name": "stdout",
     "output_type": "stream",
     "text": [
      "temperature : 1\n",
      "energy : -1.6375851132825823\n"
     ]
    }
   ],
   "source": [
    "E_exact, V_exact = scipy.linalg.eigh(H.toarray().real)\n",
    "# E_.sort()\n",
    "T = 1\n",
    "beta = 1/T\n",
    "print(f\"temperature : {T}\")\n",
    "print(f\"energy : {np.sum(E_exact * np.exp(-beta*E_exact))/np.sum(np.exp(-beta*E_exact))}\")\n",
    "# print(f\"expectation value of Operator O : {np.trace(O.toarray()@V@np.diag(np.exp(-beta*E_))@V.T)/np.sum(np.exp(-beta*E_))}\")"
   ]
  },
  {
   "cell_type": "code",
   "execution_count": 28,
   "id": "4a9e121b",
   "metadata": {},
   "outputs": [
    {
     "data": {
      "text/plain": [
       "2.8040763276868062e-14"
      ]
     },
     "execution_count": 28,
     "metadata": {},
     "output_type": "execute_result"
    }
   ],
   "source": [
    "np.linalg.norm(E - E_)"
   ]
  },
  {
   "cell_type": "markdown",
   "id": "7c00ccb5",
   "metadata": {},
   "source": [
    "### construct local hamiltonian for worm algorithm"
   ]
  },
  {
   "cell_type": "code",
   "execution_count": 29,
   "id": "fffbf85c",
   "metadata": {},
   "outputs": [
    {
     "data": {
      "text/plain": [
       "array([-1.00000000e+00, -8.09016994e-01, -8.09016994e-01, -8.09016994e-01,\n",
       "        0.00000000e+00,  0.00000000e+00,  1.11022302e-16,  1.11022302e-16,\n",
       "        3.09016994e-01,  3.09016994e-01,  3.09016994e-01,  5.00000000e-01,\n",
       "        5.00000000e-01,  5.00000000e-01,  5.00000000e-01,  5.00000000e-01])"
      ]
     },
     "execution_count": 29,
     "metadata": {},
     "output_type": "execute_result"
    }
   ],
   "source": [
    "L = 4\n",
    "i = 0\n",
    "H = make_local_ham([2*i + 1, (2*(i+1))%L], [Sz,Sz], 2, L)\n",
    "H -= make_local_ham([2*i + 1, (2*(i+1))%L], [Sx,Sx], 2, L)\n",
    "H -= make_local_ham([2*i + 1, (2*(i+1))%L], [Sy,Sy], 2, L) \n",
    "\n",
    "H += make_local_ham([2*i, (2*i+1)%L], [Sz,Sz/2], 2, L)\n",
    "H -= make_local_ham([2*i, (2*i+1)%L], [Sx,Sx/2], 2, L)\n",
    "H -= make_local_ham([2*i, (2*i+1)%L], [Sy,Sy/2], 2, L) \n",
    "\n",
    "H += make_local_ham([(2*i+2)%L, (2*i+3)%L], [Sz,Sz/2], 2, L)\n",
    "H -= make_local_ham([(2*i+2)%L, (2*i+3)%L], [Sx,Sx/2], 2, L)\n",
    "H -= make_local_ham([(2*i+2)%L, (2*i+3)%L], [Sy,Sy/2], 2, L)\n",
    "np.save(\"array/test_model.npy\", -H.real.toarray())\n",
    "np.sort(scipy.linalg.eigh(H.toarray())[0])"
   ]
  },
  {
   "cell_type": "code",
   "execution_count": 20,
   "id": "d40fedd9",
   "metadata": {},
   "outputs": [
    {
     "name": "stdout",
     "output_type": "stream",
     "text": [
      "  (0, 0)\t(0.25+0j)\n",
      "  (1, 1)\t(0.25+0j)\n",
      "  (2, 2)\t(-0.25+0j)\n",
      "  (2, 4)\t(-0.5+0j)\n",
      "  (3, 3)\t(-0.25+0j)\n",
      "  (3, 5)\t(-0.5+0j)\n",
      "  (4, 2)\t(-0.5+0j)\n",
      "  (4, 4)\t(-0.25+0j)\n",
      "  (5, 3)\t(-0.5+0j)\n",
      "  (5, 5)\t(-0.25+0j)\n",
      "  (6, 6)\t(0.25+0j)\n",
      "  (7, 7)\t(0.25+0j)\n",
      "  (8, 8)\t(0.25+0j)\n",
      "  (9, 9)\t(0.25+0j)\n",
      "  (10, 10)\t(-0.25+0j)\n",
      "  (10, 12)\t(-0.5+0j)\n",
      "  (11, 11)\t(-0.25+0j)\n",
      "  (11, 13)\t(-0.5+0j)\n",
      "  (12, 10)\t(-0.5+0j)\n",
      "  (12, 12)\t(-0.25+0j)\n",
      "  (13, 11)\t(-0.5+0j)\n",
      "  (13, 13)\t(-0.25+0j)\n",
      "  (14, 14)\t(0.25+0j)\n",
      "  (15, 15)\t(0.25+0j)\n"
     ]
    }
   ],
   "source": [
    "print(H)"
   ]
  },
  {
   "cell_type": "markdown",
   "id": "living-paintball",
   "metadata": {},
   "source": [
    "### check if all element is connected via worm update"
   ]
  },
  {
   "cell_type": "code",
   "execution_count": 15,
   "id": "b770ccc2",
   "metadata": {},
   "outputs": [
    {
     "data": {
      "text/plain": [
       "[1, 1, 3, 0]"
      ]
     },
     "execution_count": 15,
     "metadata": {},
     "output_type": "execute_result"
    }
   ],
   "source": [
    "def num2state(s, L = 4):\n",
    "    state = []\n",
    "    for i in range(L):\n",
    "        state.append(s%4)\n",
    "        s >>= 2;\n",
    "    return state\n",
    "\n",
    "def state_update(index, leg, fl):\n",
    "    d = leg // 2\n",
    "    l = leg % 2\n",
    "    index[d] = index[d] ^ (fl << (l * 2))\n",
    "    return index\n",
    "\n",
    "num2state(53)"
   ]
  },
  {
   "cell_type": "code",
   "execution_count": 16,
   "id": "wooden-staff",
   "metadata": {},
   "outputs": [
    {
     "name": "stdout",
     "output_type": "stream",
     "text": [
      "remaining :  []\n"
     ]
    }
   ],
   "source": [
    "indices = (np.array((H + 0.25*sparse.identity(H.shape[0])).nonzero()).T).tolist()\n",
    "indices_list = [indices[0]]\n",
    "index_rem = indices.copy()\n",
    "index_bag = []\n",
    "index_rem.remove(indices[0])\n",
    "\n",
    "\n",
    "while indices_list:\n",
    "    index = indices_list.pop()\n",
    "#     print(\"\\n\\n\")\n",
    "#     print(index)\n",
    "    index_bag.append(index)\n",
    "    for i in range(4):\n",
    "        for j in range(3):\n",
    "            for i1 in range(4):\n",
    "                for j1 in range(3):\n",
    "                    tmp = state_update(index.copy(), i, j+1)\n",
    "                    tmp = state_update(tmp, i1, j1+1)\n",
    "                    if (tmp in indices) and (tmp not in index_bag) and (tmp not in indices_list):\n",
    "                        indices_list.append(tmp)\n",
    "                        if tmp in index_rem:\n",
    "                            index_rem.remove(tmp)\n",
    "#     print(indices_list)\n",
    "print(\"remaining : \" , index_rem)"
   ]
  },
  {
   "cell_type": "markdown",
   "id": "609c3429",
   "metadata": {},
   "source": [
    "## apply unitary transformation on the same model"
   ]
  },
  {
   "cell_type": "code",
   "execution_count": 33,
   "id": "fe37cca6",
   "metadata": {},
   "outputs": [],
   "source": [
    "from __future__ import print_function, division\n",
    "import sys,os\n",
    "os.environ['KMP_DUPLICATE_LIB_OK']='True' # uncomment this line if omp error occurs on OSX for python 3\n",
    "os.environ['OMP_NUM_THREADS']='1' # set number of OpenMP threads to run in parallel\n",
    "os.environ['MKL_NUM_THREADS']='10' # set number of MKL threads to run in parallel\n",
    "#\n",
    "quspin_path = os.path.join(os.getcwd(),\"../../\")\n",
    "sys.path.insert(0,quspin_path)\n",
    "from quspin.basis import spin_basis_1d, spin_basis_general\n",
    "from quspin.operators import hamiltonian,quantum_operator\n",
    "from quspin.tools.lanczos import lanczos_full,lanczos_iter,FTLM_static_iteration,LTLM_static_iteration\n",
    "import numpy as np\n",
    "import matplotlib.pyplot as plt\n",
    "from mpl_toolkits.axes_grid1.inset_locator import inset_axes\n",
    "import numpy as np\n",
    "from scipy import sparse\n",
    "import scipy"
   ]
  },
  {
   "cell_type": "markdown",
   "id": "126d2219",
   "metadata": {},
   "source": [
    "### construct unitary transformation"
   ]
  },
  {
   "cell_type": "code",
   "execution_count": 35,
   "id": "faa75ec3",
   "metadata": {},
   "outputs": [],
   "source": [
    "u = np.array([\n",
    "    [0,1,0,0],\n",
    "    [1/np.sqrt(2), 0, 1/np.sqrt(2), 0],\n",
    "    [-1/np.sqrt(2), 0, 1/np.sqrt(2), 0],\n",
    "    [0,0,0,1]\n",
    "])\n",
    "u = sparse.csr_matrix(u)"
   ]
  },
  {
   "cell_type": "code",
   "execution_count": 144,
   "id": "02c3ddfa",
   "metadata": {},
   "outputs": [],
   "source": [
    "L = 6\n",
    "L_ = int(L/2)\n",
    "\n",
    "\n",
    "H = sparse.csr_matrix((4**L_, 4**L_), dtype=np.float64)\n",
    "for i in range(L_):\n",
    "    tmp = make_local_ham([2*i + 1, (2*(i+1))%L], [Sz,Sz], 2, L)\n",
    "    u_tmp = make_local_ham([i, (i+1)%L_], [u, u], 4, L_)\n",
    "    tmp += make_local_ham([2*i + 1, (2*(i+1))%L], [Sx,Sx], 2, L)\n",
    "    tmp += make_local_ham([2*i + 1, (2*(i+1))%L], [Sy,Sy], 2, L) \n",
    "    \n",
    "    tmp += make_local_ham([2*i, (2*i+1)%L], [Sz,Sz/2], 2, L)\n",
    "    tmp += make_local_ham([2*i, (2*i+1)%L], [Sx,Sx/2], 2, L)\n",
    "    tmp += make_local_ham([2*i, (2*i+1)%L], [Sy,Sy/2], 2, L) \n",
    "    \n",
    "    tmp += make_local_ham([(2*i+2)%L, (2*i+3)%L], [Sz,Sz/2], 2, L)\n",
    "    tmp += make_local_ham([(2*i+2)%L, (2*i+3)%L], [Sx,Sx/2], 2, L)\n",
    "    tmp += make_local_ham([(2*i+2)%L, (2*i+3)%L], [Sy,Sy/2], 2, L)\n",
    "    tmp = u_tmp @ tmp @ u_tmp.T\n",
    "\n",
    "    H += tmp"
   ]
  },
  {
   "cell_type": "code",
   "execution_count": 146,
   "id": "edff868c",
   "metadata": {},
   "outputs": [
    {
     "name": "stdout",
     "output_type": "stream",
     "text": [
      "temperature : 1\n",
      "energy : -1.2322905660945869\n"
     ]
    }
   ],
   "source": [
    "E_st, V_st = scipy.linalg.eigh(H.toarray().real)\n",
    "# E_.sort()\n",
    "T = 1\n",
    "beta = 1/T\n",
    "print(f\"temperature : {T}\")\n",
    "print(f\"energy : {np.sum(E_st * np.exp(-beta*E_st))/np.sum(np.exp(-beta*E_st))}\")\n",
    "# print(f\"expectation value of Operator O : {np.trace(O.toarray()@V@np.diag(np.exp(-beta*E_))@V.T)/np.sum(np.exp(-beta*E_))}\")"
   ]
  },
  {
   "cell_type": "code",
   "execution_count": 66,
   "id": "0d10aaa3",
   "metadata": {},
   "outputs": [
    {
     "data": {
      "text/plain": [
       "8.44706116973489e-15"
      ]
     },
     "execution_count": 66,
     "metadata": {},
     "output_type": "execute_result"
    }
   ],
   "source": [
    "np.linalg.norm(E_st - E_exact)"
   ]
  },
  {
   "cell_type": "markdown",
   "id": "f65d0c95",
   "metadata": {},
   "source": [
    "### local hamiltonian for worm algorithm"
   ]
  },
  {
   "cell_type": "code",
   "execution_count": 149,
   "id": "e2885a9b",
   "metadata": {},
   "outputs": [],
   "source": [
    "L = 4\n",
    "i = 0\n",
    "H = make_local_ham([2*i + 1, (2*(i+1))%L], [Sz,Sz], 2, L)\n",
    "H -= make_local_ham([2*i + 1, (2*(i+1))%L], [Sx,Sx], 2, L)\n",
    "H -= make_local_ham([2*i + 1, (2*(i+1))%L], [Sy,Sy], 2, L) \n",
    "\n",
    "H += make_local_ham([2*i, (2*i+1)%L], [Sz,Sz/2], 2, L)\n",
    "H -= make_local_ham([2*i, (2*i+1)%L], [Sx,Sx/2], 2, L)\n",
    "H -= make_local_ham([2*i, (2*i+1)%L], [Sy,Sy/2], 2, L) \n",
    "\n",
    "H += make_local_ham([(2*i+2)%L, (2*i+3)%L], [Sz,Sz/2], 2, L)\n",
    "H -= make_local_ham([(2*i+2)%L, (2*i+3)%L], [Sx,Sx/2], 2, L)\n",
    "H -= make_local_ham([(2*i+2)%L, (2*i+3)%L], [Sy,Sy/2], 2, L)\n",
    "u_tmp = make_local_ham([0, 1], [u, u], 4, 2)\n",
    "\n",
    "\n",
    "H_transformed = H\n",
    "np.save(\"array/test_model.npy\", -H.real.toarray())\n",
    "# np.sort(scipy.linalg.eigh(H.toarray())[0])"
   ]
  },
  {
   "cell_type": "code",
   "execution_count": 134,
   "id": "32590c2d",
   "metadata": {},
   "outputs": [
    {
     "name": "stdout",
     "output_type": "stream",
     "text": [
      "0.20049286308729863\n"
     ]
    }
   ],
   "source": [
    "sign = 0\n",
    "indices = sparse.find(H_transformed)\n",
    "sum_ = 0\n",
    "for i, j, ele in zip(indices[0], indices[1], indices[2]):\n",
    "    if (i != j):\n",
    "        sign += ele.real\n",
    "        sum_ += np.abs(ele.real)\n",
    "\n",
    "print(sign/sum_)"
   ]
  },
  {
   "cell_type": "markdown",
   "id": "fa1d05d3",
   "metadata": {},
   "source": [
    "## generate random orthogonal matrix"
   ]
  },
  {
   "cell_type": "code",
   "execution_count": 141,
   "id": "b9dc0fc6",
   "metadata": {},
   "outputs": [],
   "source": [
    "from scipy.stats import ortho_group\n",
    "\n",
    "ave_sign_max = 0\n",
    "for _ in range(int(1E5)):\n",
    "    u = ortho_group.rvs(dim=4)\n",
    "    u = sparse.csr_matrix(u)\n",
    "    u_tmp = make_local_ham([0, 1], [u, u], 4, 2)\n",
    "    \n",
    "    H_unitary_tmp = u_tmp @ H @ u_tmp.T\n",
    "    indices = sparse.find(-H_unitary_tmp)\n",
    "    sign = 0\n",
    "    sum_ = 0\n",
    "    for i, j, ele in zip(indices[0], indices[1], indices[2]):\n",
    "        if (i != j):\n",
    "            sign += ele.real\n",
    "            sum_ += np.abs(ele.real)\n",
    "\n",
    "    if ave_sign_max < sign/sum_:\n",
    "        ave_sign_max = sign/sum_\n",
    "        H_unitary_cand = H_unitary_tmp\n",
    "        u_cand = u\n",
    "np.save(\"array/test_model.npy\", -H_unitary_cand.real.toarray())\n",
    "    "
   ]
  },
  {
   "cell_type": "code",
   "execution_count": 142,
   "id": "4ac9f7a6",
   "metadata": {},
   "outputs": [
    {
     "data": {
      "text/plain": [
       "0.7900206072942177"
      ]
     },
     "execution_count": 142,
     "metadata": {},
     "output_type": "execute_result"
    }
   ],
   "source": [
    "ave_sign_max"
   ]
  },
  {
   "cell_type": "code",
   "execution_count": null,
   "id": "235519e3",
   "metadata": {},
   "outputs": [],
   "source": []
  }
 ],
 "metadata": {
  "kernelspec": {
   "display_name": "Python 3",
   "language": "python",
   "name": "python3"
  },
  "language_info": {
   "codemirror_mode": {
    "name": "ipython",
    "version": 3
   },
   "file_extension": ".py",
   "mimetype": "text/x-python",
   "name": "python",
   "nbconvert_exporter": "python",
   "pygments_lexer": "ipython3",
   "version": "3.7.7"
  }
 },
 "nbformat": 4,
 "nbformat_minor": 5
}
