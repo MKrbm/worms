{
 "cells": [
  {
   "cell_type": "markdown",
   "id": "988aa037",
   "metadata": {},
   "source": [
    "# heisernberg1D with 2 spin per site"
   ]
  },
  {
   "cell_type": "code",
   "execution_count": 1,
   "id": "e4f9dece",
   "metadata": {},
   "outputs": [],
   "source": [
    "from __future__ import print_function, division\n",
    "import sys,os\n",
    "os.environ['KMP_DUPLICATE_LIB_OK']='True' # uncomment this line if omp error occurs on OSX for python 3\n",
    "os.environ['OMP_NUM_THREADS']='1' # set number of OpenMP threads to run in parallel\n",
    "os.environ['MKL_NUM_THREADS']='10' # set number of MKL threads to run in parallel\n",
    "#\n",
    "quspin_path = os.path.join(os.getcwd(),\"../../\")\n",
    "sys.path.insert(0,quspin_path)\n",
    "from quspin.basis import spin_basis_1d, spin_basis_general\n",
    "from quspin.operators import hamiltonian,quantum_operator\n",
    "from quspin.tools.lanczos import lanczos_full,lanczos_iter,FTLM_static_iteration,LTLM_static_iteration\n",
    "import numpy as np\n",
    "import matplotlib.pyplot as plt\n",
    "from mpl_toolkits.axes_grid1.inset_locator import inset_axes\n",
    "import numpy as np\n",
    "from scipy import sparse\n",
    "import scipy"
   ]
  },
  {
   "cell_type": "code",
   "execution_count": 21,
   "id": "9edf4f0b",
   "metadata": {},
   "outputs": [],
   "source": [
    "I = np.identity(2)\n",
    "Sz = np.zeros([2,2])\n",
    "Sz[0,0] = 1/2\n",
    "Sz[1,1] = -1/2\n",
    "Sx = np.zeros([2,2])\n",
    "Sx[1,0] = 1/2\n",
    "Sx[0,1] = 1/2\n",
    "Sy = np.zeros([2,2], dtype=np.complex64)\n",
    "Sy[1,0] = 1j/2\n",
    "Sy[0,1] = -1j/2\n",
    "\n",
    "\n",
    "Sz = sparse.csr_matrix(Sz)\n",
    "Sx = sparse.csr_matrix(Sx)\n",
    "Sy = sparse.csr_matrix(Sy)\n",
    "I = sparse.csr_matrix(I)\n",
    "\n",
    "Sz1 = sparse.kron(I,Sz,format='csr')\n",
    "Sz2 = sparse.kron(Sz,I,format='csr')\n",
    "SzSz = sparse.kron(Sz,Sz,format='csr')\n",
    "\n",
    "Sx1 = sparse.kron(I,Sx,format='csr')\n",
    "Sx2 = sparse.kron(Sx,I,format='csr')\n",
    "SxSx = sparse.kron(Sx,Sx,format='csr')\n",
    "\n",
    "Sy1 = sparse.kron(I,Sy,format='csr')\n",
    "Sy2 = sparse.kron(Sy,I,format='csr')\n",
    "SySy = sparse.kron(Sy,Sy,format='csr')\n",
    "\n",
    "\n",
    "h1 = -(sparse.kron(Sz1, Sz2,format='csr') \n",
    "       - sparse.kron(Sx1, Sx2,format='csr')\n",
    "       - sparse.kron(Sy1, Sy2,format='csr') \n",
    "     ).real\n",
    "\n",
    "h2 = -(sparse.kron(SzSz, np.identity(4),format='csr') \n",
    "       - sparse.kron(SxSx, np.identity(4),format='csr')\n",
    "       - sparse.kron(SxSx, np.identity(4),format='csr') \n",
    "     ).real * (1/2)\n",
    "\n",
    "h3 = -(sparse.kron(np.identity(4),SzSz, format='csr') \n",
    "       - sparse.kron(np.identity(4),SxSx, format='csr')\n",
    "       - sparse.kron(np.identity(4), SySy, format='csr') \n",
    "     ).real * (1/2)\n",
    "\n",
    "lh = h1 + h2 + h3"
   ]
  },
  {
   "cell_type": "code",
   "execution_count": 22,
   "id": "1156fd7a",
   "metadata": {},
   "outputs": [
    {
     "name": "stderr",
     "output_type": "stream",
     "text": [
      "<>:2: SyntaxWarning: assertion is always true, perhaps remove parentheses?\n",
      "<>:3: SyntaxWarning: assertion is always true, perhaps remove parentheses?\n",
      "<>:2: SyntaxWarning: assertion is always true, perhaps remove parentheses?\n",
      "<>:3: SyntaxWarning: assertion is always true, perhaps remove parentheses?\n",
      "<>:2: SyntaxWarning: assertion is always true, perhaps remove parentheses?\n",
      "<>:3: SyntaxWarning: assertion is always true, perhaps remove parentheses?\n",
      "<ipython-input-22-26772de5078c>:2: SyntaxWarning: assertion is always true, perhaps remove parentheses?\n",
      "  assert(len(pos) == len(hams), \"size of position and hams must be the same\")\n",
      "<ipython-input-22-26772de5078c>:3: SyntaxWarning: assertion is always true, perhaps remove parentheses?\n",
      "  assert(sps == hams[0].shape[0], \"dimension of hamiltonian is inconsistent\")\n"
     ]
    }
   ],
   "source": [
    "def make_local_ham(pos, hams, sps = 2, L = 10):\n",
    "    assert(len(pos) == len(hams), \"size of position and hams must be the same\")\n",
    "    assert(sps == hams[0].shape[0], \"dimension of hamiltonian is inconsistent\")\n",
    "    \n",
    "    cnt = 0\n",
    "    h = sparse.identity(1, dtype=np.float64)\n",
    "    for i in range(L):\n",
    "        tmp = sparse.identity(sps)\n",
    "        if i in pos:\n",
    "#             print(f\"insert operator at {i}th site\")\n",
    "            tmp = hams[cnt]\n",
    "            cnt+=1\n",
    "        h = sparse.kron(tmp, h, format='csr')\n",
    "    return h"
   ]
  },
  {
   "cell_type": "markdown",
   "id": "3f39537d",
   "metadata": {},
   "source": [
    "## construct with quspin"
   ]
  },
  {
   "cell_type": "code",
   "execution_count": 23,
   "id": "dfb0ace3",
   "metadata": {
    "collapsed": true
   },
   "outputs": [
    {
     "name": "stdout",
     "output_type": "stream",
     "text": [
      "Hermiticity check passed!\n"
     ]
    },
    {
     "ename": "ValueError",
     "evalue": "values in indx falls outside of system",
     "output_type": "error",
     "traceback": [
      "\u001b[0;31m---------------------------------------------------------------------------\u001b[0m",
      "\u001b[0;31mValueError\u001b[0m                                Traceback (most recent call last)",
      "\u001b[0;32m<ipython-input-23-8a0268fee57d>\u001b[0m in \u001b[0;36m<module>\u001b[0;34m\u001b[0m\n\u001b[1;32m      5\u001b[0m \u001b[0mJ_xy\u001b[0m \u001b[0;34m=\u001b[0m \u001b[0;34m[\u001b[0m\u001b[0;34m[\u001b[0m\u001b[0;36m1\u001b[0m\u001b[0;34m/\u001b[0m\u001b[0;36m2.0\u001b[0m\u001b[0;34m,\u001b[0m\u001b[0;36m2\u001b[0m\u001b[0;34m*\u001b[0m\u001b[0mi\u001b[0m\u001b[0;34m,\u001b[0m\u001b[0;34m(\u001b[0m\u001b[0;36m2\u001b[0m\u001b[0;34m*\u001b[0m\u001b[0mi\u001b[0m\u001b[0;34m+\u001b[0m\u001b[0;36m1\u001b[0m\u001b[0;34m)\u001b[0m\u001b[0;34m%\u001b[0m\u001b[0mL\u001b[0m\u001b[0;34m]\u001b[0m \u001b[0;32mfor\u001b[0m \u001b[0mi\u001b[0m \u001b[0;32min\u001b[0m \u001b[0mrange\u001b[0m\u001b[0;34m(\u001b[0m\u001b[0mL_\u001b[0m\u001b[0;34m)\u001b[0m\u001b[0;34m]\u001b[0m \u001b[0;31m# OBC\u001b[0m\u001b[0;34m\u001b[0m\u001b[0;34m\u001b[0m\u001b[0m\n\u001b[1;32m      6\u001b[0m \u001b[0mops_dict\u001b[0m \u001b[0;34m=\u001b[0m \u001b[0mdict\u001b[0m\u001b[0;34m(\u001b[0m\u001b[0mJpm\u001b[0m\u001b[0;34m=\u001b[0m\u001b[0;34m[\u001b[0m\u001b[0;34m[\u001b[0m\u001b[0;34m\"+-\"\u001b[0m\u001b[0;34m,\u001b[0m\u001b[0mJ_xy\u001b[0m\u001b[0;34m]\u001b[0m\u001b[0;34m]\u001b[0m\u001b[0;34m,\u001b[0m\u001b[0mJmp\u001b[0m\u001b[0;34m=\u001b[0m\u001b[0;34m[\u001b[0m\u001b[0;34m[\u001b[0m\u001b[0;34m\"-+\"\u001b[0m\u001b[0;34m,\u001b[0m\u001b[0mJ_xy\u001b[0m\u001b[0;34m]\u001b[0m\u001b[0;34m]\u001b[0m\u001b[0;34m,\u001b[0m\u001b[0mJzz\u001b[0m\u001b[0;34m=\u001b[0m\u001b[0;34m[\u001b[0m\u001b[0;34m[\u001b[0m\u001b[0;34m\"zz\"\u001b[0m\u001b[0;34m,\u001b[0m\u001b[0mJ_zz\u001b[0m\u001b[0;34m]\u001b[0m\u001b[0;34m]\u001b[0m\u001b[0;34m)\u001b[0m\u001b[0;34m\u001b[0m\u001b[0;34m\u001b[0m\u001b[0m\n\u001b[0;32m----> 7\u001b[0;31m \u001b[0mH2\u001b[0m \u001b[0;34m=\u001b[0m \u001b[0mquantum_operator\u001b[0m\u001b[0;34m(\u001b[0m\u001b[0mops_dict\u001b[0m\u001b[0;34m,\u001b[0m\u001b[0mbasis\u001b[0m\u001b[0;34m=\u001b[0m\u001b[0mbasis\u001b[0m\u001b[0;34m,\u001b[0m\u001b[0mdtype\u001b[0m\u001b[0;34m=\u001b[0m\u001b[0mnp\u001b[0m\u001b[0;34m.\u001b[0m\u001b[0mfloat64\u001b[0m\u001b[0;34m,\u001b[0m \u001b[0mcheck_symm\u001b[0m\u001b[0;34m=\u001b[0m\u001b[0;32mFalse\u001b[0m\u001b[0;34m)\u001b[0m\u001b[0;34m\u001b[0m\u001b[0;34m\u001b[0m\u001b[0m\n\u001b[0m",
      "\u001b[0;32m~/miniconda3/envs/research/lib/python3.7/site-packages/quspin/operators/quantum_operator_core.py\u001b[0m in \u001b[0;36m__init__\u001b[0;34m(self, input_dict, N, basis, shape, copy, check_symm, check_herm, check_pcon, matrix_formats, dtype, **basis_args)\u001b[0m\n\u001b[1;32m    170\u001b[0m \u001b[0;34m\u001b[0m\u001b[0m\n\u001b[1;32m    171\u001b[0m                         \u001b[0;32mfor\u001b[0m \u001b[0mkey\u001b[0m\u001b[0;34m,\u001b[0m\u001b[0mopstr_list\u001b[0m \u001b[0;32min\u001b[0m \u001b[0miteritems\u001b[0m\u001b[0;34m(\u001b[0m\u001b[0mopstr_dict\u001b[0m\u001b[0;34m)\u001b[0m\u001b[0;34m:\u001b[0m\u001b[0;34m\u001b[0m\u001b[0;34m\u001b[0m\u001b[0m\n\u001b[0;32m--> 172\u001b[0;31m                                 \u001b[0mO\u001b[0m \u001b[0;34m=\u001b[0m \u001b[0mmake_static\u001b[0m\u001b[0;34m(\u001b[0m\u001b[0mbasis\u001b[0m\u001b[0;34m,\u001b[0m\u001b[0mopstr_list\u001b[0m\u001b[0;34m,\u001b[0m\u001b[0mdtype\u001b[0m\u001b[0;34m)\u001b[0m\u001b[0;34m\u001b[0m\u001b[0;34m\u001b[0m\u001b[0m\n\u001b[0m\u001b[1;32m    173\u001b[0m                                 \u001b[0mself\u001b[0m\u001b[0;34m.\u001b[0m\u001b[0m_quantum_operator\u001b[0m\u001b[0;34m[\u001b[0m\u001b[0mkey\u001b[0m\u001b[0;34m]\u001b[0m \u001b[0;34m=\u001b[0m \u001b[0mO\u001b[0m\u001b[0;34m\u001b[0m\u001b[0;34m\u001b[0m\u001b[0m\n\u001b[1;32m    174\u001b[0m \u001b[0;34m\u001b[0m\u001b[0m\n",
      "\u001b[0;32m~/miniconda3/envs/research/lib/python3.7/site-packages/quspin/operators/_make_hamiltonian.py\u001b[0m in \u001b[0;36mmake_static\u001b[0;34m(basis, static_list, dtype)\u001b[0m\n\u001b[1;32m    107\u001b[0m \t\"\"\"\n\u001b[1;32m    108\u001b[0m         \u001b[0mstatic_list\u001b[0m \u001b[0;34m=\u001b[0m \u001b[0m_consolidate_static\u001b[0m\u001b[0;34m(\u001b[0m\u001b[0mstatic_list\u001b[0m\u001b[0;34m)\u001b[0m\u001b[0;34m\u001b[0m\u001b[0;34m\u001b[0m\u001b[0m\n\u001b[0;32m--> 109\u001b[0;31m         \u001b[0;32mreturn\u001b[0m \u001b[0mbasis\u001b[0m\u001b[0;34m.\u001b[0m\u001b[0m_make_matrix\u001b[0m\u001b[0;34m(\u001b[0m\u001b[0mstatic_list\u001b[0m\u001b[0;34m,\u001b[0m\u001b[0mdtype\u001b[0m\u001b[0;34m)\u001b[0m\u001b[0;34m\u001b[0m\u001b[0;34m\u001b[0m\u001b[0m\n\u001b[0m\u001b[1;32m    110\u001b[0m \u001b[0;34m\u001b[0m\u001b[0m\n\u001b[1;32m    111\u001b[0m \u001b[0;34m\u001b[0m\u001b[0m\n",
      "\u001b[0;32m~/miniconda3/envs/research/lib/python3.7/site-packages/quspin/basis/base.py\u001b[0m in \u001b[0;36m_make_matrix\u001b[0;34m(self, op_list, dtype)\u001b[0m\n\u001b[1;32m    224\u001b[0m \u001b[0;34m\u001b[0m\u001b[0m\n\u001b[1;32m    225\u001b[0m                 \u001b[0;32mfor\u001b[0m \u001b[0mopstr\u001b[0m\u001b[0;34m,\u001b[0m\u001b[0mindx\u001b[0m\u001b[0;34m,\u001b[0m\u001b[0mJ\u001b[0m \u001b[0;32min\u001b[0m \u001b[0mop_list\u001b[0m\u001b[0;34m:\u001b[0m\u001b[0;34m\u001b[0m\u001b[0;34m\u001b[0m\u001b[0m\n\u001b[0;32m--> 226\u001b[0;31m                         \u001b[0mME\u001b[0m\u001b[0;34m,\u001b[0m\u001b[0mrow\u001b[0m\u001b[0;34m,\u001b[0m\u001b[0mcol\u001b[0m \u001b[0;34m=\u001b[0m \u001b[0mself\u001b[0m\u001b[0;34m.\u001b[0m\u001b[0mOp\u001b[0m\u001b[0;34m(\u001b[0m\u001b[0mopstr\u001b[0m\u001b[0;34m,\u001b[0m\u001b[0mindx\u001b[0m\u001b[0;34m,\u001b[0m\u001b[0mJ\u001b[0m\u001b[0;34m,\u001b[0m\u001b[0mdtype\u001b[0m\u001b[0;34m)\u001b[0m\u001b[0;34m\u001b[0m\u001b[0;34m\u001b[0m\u001b[0m\n\u001b[0m\u001b[1;32m    227\u001b[0m                         \u001b[0;32mif\u001b[0m\u001b[0;34m(\u001b[0m\u001b[0mlen\u001b[0m\u001b[0;34m(\u001b[0m\u001b[0mME\u001b[0m\u001b[0;34m)\u001b[0m\u001b[0;34m>\u001b[0m\u001b[0;36m0\u001b[0m\u001b[0;34m)\u001b[0m\u001b[0;34m:\u001b[0m\u001b[0;34m\u001b[0m\u001b[0;34m\u001b[0m\u001b[0m\n\u001b[1;32m    228\u001b[0m                                 \u001b[0mimax\u001b[0m \u001b[0;34m=\u001b[0m \u001b[0mmax\u001b[0m\u001b[0;34m(\u001b[0m\u001b[0mrow\u001b[0m\u001b[0;34m.\u001b[0m\u001b[0mmax\u001b[0m\u001b[0;34m(\u001b[0m\u001b[0;34m)\u001b[0m\u001b[0;34m,\u001b[0m\u001b[0mcol\u001b[0m\u001b[0;34m.\u001b[0m\u001b[0mmax\u001b[0m\u001b[0;34m(\u001b[0m\u001b[0;34m)\u001b[0m\u001b[0;34m)\u001b[0m\u001b[0;34m\u001b[0m\u001b[0;34m\u001b[0m\u001b[0m\n",
      "\u001b[0;32m~/miniconda3/envs/research/lib/python3.7/site-packages/quspin/basis/base.py\u001b[0m in \u001b[0;36mOp\u001b[0;34m(self, opstr, indx, J, dtype)\u001b[0m\n\u001b[1;32m    216\u001b[0m \u001b[0;34m\u001b[0m\u001b[0m\n\u001b[1;32m    217\u001b[0m \t\t\"\"\"\n\u001b[0;32m--> 218\u001b[0;31m                 \u001b[0;32mreturn\u001b[0m \u001b[0mself\u001b[0m\u001b[0;34m.\u001b[0m\u001b[0m_Op\u001b[0m\u001b[0;34m(\u001b[0m\u001b[0mopstr\u001b[0m\u001b[0;34m,\u001b[0m\u001b[0mindx\u001b[0m\u001b[0;34m,\u001b[0m\u001b[0mJ\u001b[0m\u001b[0;34m,\u001b[0m\u001b[0mdtype\u001b[0m\u001b[0;34m)\u001b[0m\u001b[0;34m\u001b[0m\u001b[0;34m\u001b[0m\u001b[0m\n\u001b[0m\u001b[1;32m    219\u001b[0m \u001b[0;34m\u001b[0m\u001b[0m\n\u001b[1;32m    220\u001b[0m         \u001b[0;32mdef\u001b[0m \u001b[0m_make_matrix\u001b[0m\u001b[0;34m(\u001b[0m\u001b[0mself\u001b[0m\u001b[0;34m,\u001b[0m\u001b[0mop_list\u001b[0m\u001b[0;34m,\u001b[0m\u001b[0mdtype\u001b[0m\u001b[0;34m)\u001b[0m\u001b[0;34m:\u001b[0m\u001b[0;34m\u001b[0m\u001b[0;34m\u001b[0m\u001b[0m\n",
      "\u001b[0;32m~/miniconda3/envs/research/lib/python3.7/site-packages/quspin/basis/basis_1d/spin.py\u001b[0m in \u001b[0;36m_Op\u001b[0;34m(self, opstr, indx, J, dtype)\u001b[0m\n\u001b[1;32m    236\u001b[0m \u001b[0;34m\u001b[0m\u001b[0m\n\u001b[1;32m    237\u001b[0m         \u001b[0;32mdef\u001b[0m \u001b[0m_Op\u001b[0m\u001b[0;34m(\u001b[0m\u001b[0mself\u001b[0m\u001b[0;34m,\u001b[0m\u001b[0mopstr\u001b[0m\u001b[0;34m,\u001b[0m\u001b[0mindx\u001b[0m\u001b[0;34m,\u001b[0m\u001b[0mJ\u001b[0m\u001b[0;34m,\u001b[0m\u001b[0mdtype\u001b[0m\u001b[0;34m)\u001b[0m\u001b[0;34m:\u001b[0m\u001b[0;34m\u001b[0m\u001b[0;34m\u001b[0m\u001b[0m\n\u001b[0;32m--> 238\u001b[0;31m                 \u001b[0mME\u001b[0m\u001b[0;34m,\u001b[0m\u001b[0mrow\u001b[0m\u001b[0;34m,\u001b[0m\u001b[0mcol\u001b[0m \u001b[0;34m=\u001b[0m \u001b[0mbasis_1d\u001b[0m\u001b[0;34m.\u001b[0m\u001b[0m_Op\u001b[0m\u001b[0;34m(\u001b[0m\u001b[0mself\u001b[0m\u001b[0;34m,\u001b[0m\u001b[0mopstr\u001b[0m\u001b[0;34m,\u001b[0m\u001b[0mindx\u001b[0m\u001b[0;34m,\u001b[0m\u001b[0mJ\u001b[0m\u001b[0;34m,\u001b[0m\u001b[0mdtype\u001b[0m\u001b[0;34m)\u001b[0m\u001b[0;34m\u001b[0m\u001b[0;34m\u001b[0m\u001b[0m\n\u001b[0m\u001b[1;32m    239\u001b[0m                 \u001b[0;32mif\u001b[0m \u001b[0mself\u001b[0m\u001b[0;34m.\u001b[0m\u001b[0m_pauli\u001b[0m\u001b[0;34m==\u001b[0m\u001b[0;36m1\u001b[0m\u001b[0;34m:\u001b[0m\u001b[0;34m\u001b[0m\u001b[0;34m\u001b[0m\u001b[0m\n\u001b[1;32m    240\u001b[0m                         \u001b[0mn\u001b[0m \u001b[0;34m=\u001b[0m \u001b[0mlen\u001b[0m\u001b[0;34m(\u001b[0m\u001b[0mopstr\u001b[0m\u001b[0;34m.\u001b[0m\u001b[0mreplace\u001b[0m\u001b[0;34m(\u001b[0m\u001b[0;34m\"I\"\u001b[0m\u001b[0;34m,\u001b[0m\u001b[0;34m\"\"\u001b[0m\u001b[0;34m)\u001b[0m\u001b[0;34m)\u001b[0m\u001b[0;34m\u001b[0m\u001b[0;34m\u001b[0m\u001b[0m\n",
      "\u001b[0;32m~/miniconda3/envs/research/lib/python3.7/site-packages/quspin/basis/basis_1d/base_1d.py\u001b[0m in \u001b[0;36m_Op\u001b[0;34m(self, opstr, indx, J, dtype)\u001b[0m\n\u001b[1;32m    574\u001b[0m \u001b[0;34m\u001b[0m\u001b[0m\n\u001b[1;32m    575\u001b[0m                 \u001b[0;32mif\u001b[0m \u001b[0m_np\u001b[0m\u001b[0;34m.\u001b[0m\u001b[0many\u001b[0m\u001b[0;34m(\u001b[0m\u001b[0mindx\u001b[0m \u001b[0;34m>=\u001b[0m \u001b[0mself\u001b[0m\u001b[0;34m.\u001b[0m\u001b[0mN\u001b[0m\u001b[0;34m)\u001b[0m \u001b[0;32mor\u001b[0m \u001b[0m_np\u001b[0m\u001b[0;34m.\u001b[0m\u001b[0many\u001b[0m\u001b[0;34m(\u001b[0m\u001b[0mindx\u001b[0m \u001b[0;34m<\u001b[0m \u001b[0;36m0\u001b[0m\u001b[0;34m)\u001b[0m\u001b[0;34m:\u001b[0m\u001b[0;34m\u001b[0m\u001b[0;34m\u001b[0m\u001b[0m\n\u001b[0;32m--> 576\u001b[0;31m                         \u001b[0;32mraise\u001b[0m \u001b[0mValueError\u001b[0m\u001b[0;34m(\u001b[0m\u001b[0;34m'values in indx falls outside of system'\u001b[0m\u001b[0;34m)\u001b[0m\u001b[0;34m\u001b[0m\u001b[0;34m\u001b[0m\u001b[0m\n\u001b[0m\u001b[1;32m    577\u001b[0m \u001b[0;34m\u001b[0m\u001b[0m\n\u001b[1;32m    578\u001b[0m                 \u001b[0mextra_ops\u001b[0m \u001b[0;34m=\u001b[0m \u001b[0mset\u001b[0m\u001b[0;34m(\u001b[0m\u001b[0mopstr\u001b[0m\u001b[0;34m)\u001b[0m \u001b[0;34m-\u001b[0m \u001b[0mself\u001b[0m\u001b[0;34m.\u001b[0m\u001b[0m_allowed_ops\u001b[0m\u001b[0;34m\u001b[0m\u001b[0;34m\u001b[0m\u001b[0m\n",
      "\u001b[0;31mValueError\u001b[0m: values in indx falls outside of system"
     ]
    }
   ],
   "source": [
    "basis = spin_basis_1d(L,pauli=False)\n",
    "# J_zz = [[1,i,(i+1)%L] for i in range(L)] # OBC\n",
    "# J_xy = [[1/2.0,i,(i+1)%L] for i in range(L)] # OBC\n",
    "J_zz = [[1,2*i,(2*i+1)%L] for i in range(L_)] # OBC\n",
    "J_xy = [[1/2.0,2*i,(2*i+1)%L] for i in range(L_)] # OBC\n",
    "ops_dict = dict(Jpm=[[\"+-\",J_xy]],Jmp=[[\"-+\",J_xy]],Jzz=[[\"zz\",J_zz]])\n",
    "H2 = quantum_operator(ops_dict,basis=basis,dtype=np.float64, check_symm=False)"
   ]
  },
  {
   "cell_type": "markdown",
   "id": "tested-break",
   "metadata": {},
   "source": [
    "### check difference between energies."
   ]
  },
  {
   "cell_type": "code",
   "execution_count": 25,
   "id": "7eee4040",
   "metadata": {},
   "outputs": [],
   "source": [
    "L = 6\n",
    "L_ = int(L/2)\n",
    "\n",
    "\n",
    "H = sparse.csr_matrix((4**L_, 4**L_), dtype=np.float64)\n",
    "O = sparse.csr_matrix((4**L_, 4**L_), dtype=np.float64)\n",
    "for i in range(L_):\n",
    "    tmp = make_local_ham([2*i + 1, (2*(i+1))%L], [Sz,Sz], 2, L)\n",
    "    tmp += make_local_ham([2*i + 1, (2*(i+1))%L], [Sx,Sx], 2, L)\n",
    "    tmp += make_local_ham([2*i + 1, (2*(i+1))%L], [Sy,Sy], 2, L) \n",
    "    \n",
    "    tmp += make_local_ham([2*i, (2*i+1)%L], [Sz,Sz/2], 2, L)\n",
    "    tmp += make_local_ham([2*i, (2*i+1)%L], [Sx,Sx/2], 2, L)\n",
    "    tmp += make_local_ham([2*i, (2*i+1)%L], [Sy,Sy/2], 2, L) \n",
    "    \n",
    "    tmp += make_local_ham([(2*i+2)%L, (2*i+3)%L], [Sz,Sz/2], 2, L)\n",
    "    tmp += make_local_ham([(2*i+2)%L, (2*i+3)%L], [Sx,Sx/2], 2, L)\n",
    "    tmp += make_local_ham([(2*i+2)%L, (2*i+3)%L], [Sy,Sy/2], 2, L)\n",
    "    H += tmp\n",
    "for i in range(L):\n",
    "    O += make_local_ham([i], [Sz], 2, L)"
   ]
  },
  {
   "cell_type": "code",
   "execution_count": 26,
   "id": "c5f32ede",
   "metadata": {
    "scrolled": false
   },
   "outputs": [
    {
     "name": "stdout",
     "output_type": "stream",
     "text": [
      "temperature : 1\n",
      "energy : -1.2322905660945862\n",
      "expectation value of Operator O : 1.0512196918199049e-15\n"
     ]
    }
   ],
   "source": [
    "E_, V = scipy.linalg.eigh(H.toarray().real)\n",
    "# E_.sort()\n",
    "T = 1\n",
    "beta = 1/T\n",
    "print(f\"temperature : {T}\")\n",
    "print(f\"energy : {np.sum(E_ * np.exp(-beta*E_))/np.sum(np.exp(-beta*E_))}\")\n",
    "print(f\"expectation value of Operator O : {np.trace(O.toarray()@V@np.diag(np.exp(-beta*E_))@V.T)/np.sum(np.exp(-beta*E_))}\")"
   ]
  },
  {
   "cell_type": "markdown",
   "id": "7c00ccb5",
   "metadata": {},
   "source": [
    "### construct local hamiltonian for worm algorithm"
   ]
  },
  {
   "cell_type": "code",
   "execution_count": 7,
   "id": "fffbf85c",
   "metadata": {},
   "outputs": [
    {
     "data": {
      "text/plain": [
       "array([-1.00000000e+00, -8.09016994e-01, -8.09016994e-01, -8.09016994e-01,\n",
       "        0.00000000e+00,  0.00000000e+00,  1.11022302e-16,  1.11022302e-16,\n",
       "        3.09016994e-01,  3.09016994e-01,  3.09016994e-01,  5.00000000e-01,\n",
       "        5.00000000e-01,  5.00000000e-01,  5.00000000e-01,  5.00000000e-01])"
      ]
     },
     "execution_count": 7,
     "metadata": {},
     "output_type": "execute_result"
    }
   ],
   "source": [
    "L = 4\n",
    "i = 0\n",
    "H = make_local_ham([2*i + 1, (2*(i+1))%L], [Sz,Sz], 2, L)\n",
    "H += make_local_ham([2*i + 1, (2*(i+1))%L], [Sx,Sx], 2, L)\n",
    "H += make_local_ham([2*i + 1, (2*(i+1))%L], [Sy,Sy], 2, L) \n",
    "\n",
    "H += make_local_ham([2*i, (2*i+1)%L], [Sz,Sz/2], 2, L)\n",
    "H += make_local_ham([2*i, (2*i+1)%L], [Sx,Sx/2], 2, L)\n",
    "H += make_local_ham([2*i, (2*i+1)%L], [Sy,Sy/2], 2, L) \n",
    "\n",
    "H += make_local_ham([(2*i+2)%L, (2*i+3)%L], [Sz,Sz/2], 2, L)\n",
    "H += make_local_ham([(2*i+2)%L, (2*i+3)%L], [Sx,Sx/2], 2, L)\n",
    "H += make_local_ham([(2*i+2)%L, (2*i+3)%L], [Sy,Sy/2], 2, L)\n",
    "np.save(\"array/test_model.npy\", -H.real.toarray())\n",
    "np.sort(scipy.linalg.eigh(H.toarray())[0])"
   ]
  },
  {
   "cell_type": "code",
   "execution_count": 14,
   "id": "b770ccc2",
   "metadata": {},
   "outputs": [
    {
     "data": {
      "text/plain": [
       "[1, 1, 3, 0]"
      ]
     },
     "execution_count": 14,
     "metadata": {},
     "output_type": "execute_result"
    }
   ],
   "source": [
    "def num2state(s, L = 4):\n",
    "    state = []\n",
    "    for i in range(L):\n",
    "        state.append(s%4)\n",
    "        s >>= 2;\n",
    "    return state\n",
    "\n",
    "def state_update(index, leg, fl):\n",
    "    d = leg // 2\n",
    "    l = leg % 2\n",
    "    index[d] = index[d] ^ (fl << (l * 2))\n",
    "    return index\n",
    "\n",
    "num2state(53)"
   ]
  },
  {
   "cell_type": "markdown",
   "id": "living-paintball",
   "metadata": {},
   "source": [
    "### check if all element is connected via worm update"
   ]
  },
  {
   "cell_type": "code",
   "execution_count": 15,
   "id": "23689bb0",
   "metadata": {},
   "outputs": [],
   "source": [
    "h1 = np.load(\"array/SS_bond1.npy\")\n",
    "h2 = np.load(\"array/SS_bond2.npy\")\n",
    "ho = np.load(\"array/SS_onsite.npy\")\n",
    "H = sparse.csr_matrix(0.4*h1 + ho)\n",
    "shift = -min(np.diagonal(H.toarray()).min(), 0)"
   ]
  },
  {
   "cell_type": "code",
   "execution_count": 16,
   "id": "wooden-staff",
   "metadata": {},
   "outputs": [
    {
     "name": "stdout",
     "output_type": "stream",
     "text": [
      "remaining :  []\n"
     ]
    }
   ],
   "source": [
    "indices = (np.array((H + shift*sparse.identity(H.shape[0])).nonzero()).T).tolist()\n",
    "indices_list = [indices[0]]\n",
    "index_rem = indices.copy()\n",
    "index_bag = []\n",
    "index_rem.remove(indices[0])\n",
    "\n",
    "\n",
    "while indices_list:\n",
    "    index = indices_list.pop()\n",
    "#     print(\"\\n\\n\")\n",
    "#     print(index)\n",
    "    index_bag.append(index)\n",
    "    for i in range(4):\n",
    "        for j in range(3):\n",
    "            for i1 in range(4):\n",
    "                for j1 in range(3):\n",
    "                    tmp = state_update(index.copy(), i, j+1)\n",
    "                    tmp = state_update(tmp, i1, j1+1)\n",
    "                    if (tmp in indices) and (tmp not in index_bag) and (tmp not in indices_list):\n",
    "                        indices_list.append(tmp)\n",
    "                        if tmp in index_rem:\n",
    "                            index_rem.remove(tmp)\n",
    "                            \n",
    "print(\"remaining : \" , index_rem)"
   ]
  },
  {
   "cell_type": "code",
   "execution_count": 25,
   "id": "3782a77e",
   "metadata": {},
   "outputs": [
    {
     "data": {
      "text/plain": [
       "0.37499999999999983"
      ]
     },
     "execution_count": 25,
     "metadata": {},
     "output_type": "execute_result"
    }
   ],
   "source": [
    "H[0,0]"
   ]
  },
  {
   "cell_type": "code",
   "execution_count": 24,
   "id": "silver-guyana",
   "metadata": {},
   "outputs": [
    {
     "data": {
      "text/plain": [
       "[[0, 0],\n",
       " [1, 1],\n",
       " [2, 2],\n",
       " [3, 3],\n",
       " [4, 4],\n",
       " [4, 6],\n",
       " [4, 9],\n",
       " [6, 4],\n",
       " [6, 6],\n",
       " [6, 9],\n",
       " [7, 7],\n",
       " [7, 8],\n",
       " [7, 10],\n",
       " [8, 7],\n",
       " [8, 8],\n",
       " [8, 13],\n",
       " [9, 4],\n",
       " [9, 6],\n",
       " [9, 9],\n",
       " [10, 7],\n",
       " [10, 10],\n",
       " [10, 13],\n",
       " [11, 11],\n",
       " [11, 12],\n",
       " [11, 14],\n",
       " [12, 11],\n",
       " [12, 12],\n",
       " [12, 14],\n",
       " [13, 8],\n",
       " [13, 10],\n",
       " [13, 13],\n",
       " [14, 11],\n",
       " [14, 12],\n",
       " [14, 14]]"
      ]
     },
     "execution_count": 24,
     "metadata": {},
     "output_type": "execute_result"
    }
   ],
   "source": [
    "indices = (np.array((H + shift*sparse.identity(H.shape[0])).nonzero()).T).tolist()\n",
    "indices"
   ]
  }
 ],
 "metadata": {
  "kernelspec": {
   "display_name": "Python 3",
   "language": "python",
   "name": "python3"
  },
  "language_info": {
   "codemirror_mode": {
    "name": "ipython",
    "version": 3
   },
   "file_extension": ".py",
   "mimetype": "text/x-python",
   "name": "python",
   "nbconvert_exporter": "python",
   "pygments_lexer": "ipython3",
   "version": "3.7.7"
  }
 },
 "nbformat": 4,
 "nbformat_minor": 5
}
