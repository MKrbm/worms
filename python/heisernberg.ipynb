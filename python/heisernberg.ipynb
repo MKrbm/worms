{
 "cells": [
  {
   "cell_type": "code",
   "execution_count": 6,
   "id": "loose-chart",
   "metadata": {},
   "outputs": [],
   "source": [
    "from __future__ import print_function, division\n",
    "#\n",
    "import sys,os\n",
    "os.environ['KMP_DUPLICATE_LIB_OK']='True' # uncomment this line if omp error occurs on OSX for python 3\n",
    "os.environ['OMP_NUM_THREADS']='1' # set number of OpenMP threads to run in parallel\n",
    "os.environ['MKL_NUM_THREADS']='10' # set number of MKL threads to run in parallel\n",
    "#\n",
    "quspin_path = os.path.join(os.getcwd(),\"../../\")\n",
    "sys.path.insert(0,quspin_path)\n",
    "from quspin.basis import spin_basis_1d, spin_basis_general\n",
    "from quspin.operators import hamiltonian,quantum_operator\n",
    "from quspin.tools.lanczos import lanczos_full,lanczos_iter,FTLM_static_iteration,LTLM_static_iteration\n",
    "import numpy as np\n",
    "import matplotlib.pyplot as plt\n",
    "from mpl_toolkits.axes_grid1.inset_locator import inset_axes"
   ]
  },
  {
   "cell_type": "markdown",
   "id": "9a10ce11",
   "metadata": {},
   "source": [
    "### hisenberg1D"
   ]
  },
  {
   "cell_type": "code",
   "execution_count": 9,
   "id": "d732c18d",
   "metadata": {},
   "outputs": [
    {
     "name": "stdout",
     "output_type": "stream",
     "text": [
      "Hermiticity check passed!\n"
     ]
    }
   ],
   "source": [
    "L = 6\n",
    "basis = spin_basis_1d(L,pauli=False)\n",
    "J_zz = [[1,i,(i+1)%L] for i in range(L)] # OBC\n",
    "J_xy = [[1/4.0,i,(i+1)%L] for i in range(L)] # OBC\n",
    "zz = [[1.0,i,(i+1)%L] for i in range(L)]\n",
    "ops_dict = dict(Jpm=[[\"+-\",J_xy]],Jmp=[[\"-+\",J_xy]],Jzz=[[\"zz\",J_zz]])\n",
    "H = quantum_operator(ops_dict,basis=basis,dtype=np.float64, check_symm=False)"
   ]
  },
  {
   "cell_type": "code",
   "execution_count": 10,
   "id": "b4e272e9",
   "metadata": {},
   "outputs": [
    {
     "name": "stdout",
     "output_type": "stream",
     "text": [
      "[-1.92788625e+00 -1.72474487e+00 -1.28077641e+00 -1.28077641e+00\n",
      " -1.00000000e+00 -8.76975693e-01 -8.76975693e-01 -8.76975693e-01\n",
      " -8.76975693e-01 -8.43070331e-01 -8.43070331e-01 -7.50000000e-01\n",
      " -7.50000000e-01 -6.61437828e-01 -6.61437828e-01 -6.61437828e-01\n",
      " -6.61437828e-01 -6.60818587e-01 -5.00000000e-01 -5.00000000e-01\n",
      " -3.90388203e-01 -3.90388203e-01 -2.50000000e-01 -2.50000000e-01\n",
      " -1.88910019e-01 -1.88910019e-01 -1.88910019e-01 -1.88910019e-01\n",
      " -1.04922430e-16 -3.09140257e-17 -2.79160930e-17 -1.47968130e-17\n",
      "  6.38419275e-17  1.73658929e-16  2.50000000e-01  2.50000000e-01\n",
      "  2.50000000e-01  2.50000000e-01  5.00000000e-01  5.00000000e-01\n",
      "  5.65885712e-01  5.65885712e-01  5.65885712e-01  5.65885712e-01\n",
      "  5.88704840e-01  5.93070331e-01  5.93070331e-01  6.40388203e-01\n",
      "  6.40388203e-01  6.61437828e-01  6.61437828e-01  6.61437828e-01\n",
      "  6.61437828e-01  7.24744871e-01  7.50000000e-01  7.50000000e-01\n",
      "  7.50000000e-01  7.50000000e-01  7.80776406e-01  7.80776406e-01\n",
      "  1.00000000e+00  1.00000000e+00  1.50000000e+00  1.50000000e+00]\n"
     ]
    }
   ],
   "source": [
    "# H = quantum_operator(ops_dict,basis=basis_2d, dtype=np.float64, check_symm=False)\n",
    "E = H.eigvalsh({})\n",
    "T = 1\n",
    "beta = 1/T\n",
    "np.sum(E * np.exp(-beta*E))/np.sum(np.exp(-beta*E)) / L\n",
    "print(E)"
   ]
  },
  {
   "cell_type": "markdown",
   "id": "impaired-times",
   "metadata": {},
   "source": [
    "### heisenberg2D"
   ]
  },
  {
   "cell_type": "markdown",
   "id": "obvious-enemy",
   "metadata": {},
   "source": [
    "### use pauli operator"
   ]
  },
  {
   "cell_type": "code",
   "execution_count": 5,
   "id": "mental-cholesterol",
   "metadata": {},
   "outputs": [],
   "source": [
    "L = 4\n",
    "Lx, Ly = L, L # linear dimension of spin 1 2d lattice\n",
    "N_2d = Lx*Ly # number of sites for spin 1\n",
    "s = np.arange(N_2d) # sites [0,1,2,....]\n",
    "x = s%Lx # x positions for sites\n",
    "y = s//Lx # y positions for sites\n",
    "T_x = (x+1)%Lx + Lx*y # translation along x-direction\n",
    "T_y = x +Lx*((y+1)%Ly) # translation along y-direction\n",
    "P_x = x + Lx*(Ly-y-1) # reflection about x-axis\n",
    "P_y = (Lx-x-1) + Lx*y # reflection about y-axis\n",
    "Z   = -(s+1) # spin inversion\n",
    "\n",
    "Jz = 1\n",
    "J_zz = [[Jz,i,T_x[i]] for i in range(N_2d)]+[[Jz,i,T_y[i]] for i in range(N_2d)]\n",
    "Jx = 1/2.0\n",
    "J_xy = [[Jx,i,T_x[i]] for i in range(N_2d)]+[[Jx,i,T_y[i]] for i in range(N_2d)]\n",
    "ops_dict = dict(Jpm=[[\"+-\",J_xy]],Jmp=[[\"-+\",J_xy]],Jzz=[[\"zz\",J_zz]])"
   ]
  },
  {
   "cell_type": "code",
   "execution_count": 5,
   "id": "environmental-regard",
   "metadata": {
    "scrolled": true
   },
   "outputs": [
    {
     "name": "stdout",
     "output_type": "stream",
     "text": [
      "0\n",
      "Hermiticity check passed!\n",
      "Particle conservation check passed!\n",
      "1\n",
      "Hermiticity check passed!\n",
      "Particle conservation check passed!\n",
      "2\n",
      "Hermiticity check passed!\n",
      "Particle conservation check passed!\n",
      "3\n",
      "Hermiticity check passed!\n",
      "Particle conservation check passed!\n",
      "4\n",
      "Hermiticity check passed!\n",
      "Particle conservation check passed!\n",
      "5\n",
      "Hermiticity check passed!\n",
      "Particle conservation check passed!\n",
      "6\n",
      "Hermiticity check passed!\n",
      "Particle conservation check passed!\n",
      "7\n",
      "Hermiticity check passed!\n",
      "Particle conservation check passed!\n",
      "8\n",
      "Hermiticity check passed!\n",
      "Particle conservation check passed!\n",
      "9\n",
      "Hermiticity check passed!\n",
      "Particle conservation check passed!\n",
      "10\n",
      "Hermiticity check passed!\n",
      "Particle conservation check passed!\n",
      "11\n",
      "Hermiticity check passed!\n",
      "Particle conservation check passed!\n",
      "12\n",
      "Hermiticity check passed!\n",
      "Particle conservation check passed!\n",
      "13\n",
      "Hermiticity check passed!\n",
      "Particle conservation check passed!\n",
      "14\n",
      "Hermiticity check passed!\n",
      "Particle conservation check passed!\n",
      "15\n",
      "Hermiticity check passed!\n",
      "Particle conservation check passed!\n"
     ]
    }
   ],
   "source": [
    "E = []\n",
    "\n",
    "for nup in range(L*L):\n",
    "    print(nup)\n",
    "    basis_2d = spin_basis_general(N_2d, Nup=nup, pauli=0)\n",
    "    H = quantum_operator(ops_dict,basis=basis_2d, dtype=np.float64, check_symm=False)\n",
    "    E_= H.eigvalsh({})\n",
    "    E.append(E_)\n",
    "E = np.concatenate(E,axis=0)"
   ]
  },
  {
   "cell_type": "markdown",
   "id": "african-image",
   "metadata": {},
   "source": [
    "### expectation value for energy at T = 1"
   ]
  },
  {
   "cell_type": "code",
   "execution_count": 55,
   "id": "weird-pharmacology",
   "metadata": {
    "scrolled": true
   },
   "outputs": [
    {
     "data": {
      "text/plain": [
       "-0.4182908067960382"
      ]
     },
     "execution_count": 55,
     "metadata": {},
     "output_type": "execute_result"
    }
   ],
   "source": [
    "T = 1\n",
    "beta = 1/T\n",
    "np.sum(E * np.exp(-beta*E))/np.sum(np.exp(-beta*E)) / (L**2)"
   ]
  },
  {
   "cell_type": "markdown",
   "id": "turned-insert",
   "metadata": {},
   "source": [
    "### use approx method (detail [here](https://docs.scipy.org/doc/scipy/reference/generated/scipy.sparse.linalg.eigsh.html) )"
   ]
  },
  {
   "cell_type": "code",
   "execution_count": 65,
   "id": "surprising-dubai",
   "metadata": {},
   "outputs": [
    {
     "name": "stdout",
     "output_type": "stream",
     "text": [
      "Hermiticity check passed!\n"
     ]
    }
   ],
   "source": [
    "basis_2d = spin_basis_general(N_2d, pauli=0)\n",
    "H = quantum_operator(ops_dict,basis=basis_2d, dtype=np.float64, check_symm=False)\n",
    "E_eigsh, _ = H.eigsh({}, k = 10)"
   ]
  },
  {
   "cell_type": "code",
   "execution_count": null,
   "id": "obvious-simple",
   "metadata": {},
   "outputs": [],
   "source": []
  }
 ],
 "metadata": {
  "kernelspec": {
   "display_name": "Python 3",
   "language": "python",
   "name": "python3"
  },
  "language_info": {
   "codemirror_mode": {
    "name": "ipython",
    "version": 3
   },
   "file_extension": ".py",
   "mimetype": "text/x-python",
   "name": "python",
   "nbconvert_exporter": "python",
   "pygments_lexer": "ipython3",
   "version": "3.7.9"
  }
 },
 "nbformat": 4,
 "nbformat_minor": 5
}
