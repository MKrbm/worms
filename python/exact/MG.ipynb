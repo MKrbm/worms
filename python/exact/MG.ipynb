{
 "cells": [
  {
   "cell_type": "code",
   "execution_count": 17,
   "id": "065e41c0",
   "metadata": {},
   "outputs": [],
   "source": [
    "import numpy as np\n",
    "from scipy.linalg import expm, sinm, cosm\n",
    "from scipy import sparse\n",
    "import scipy\n",
    "\n",
    "import sys\n",
    "sys.path.append('../nsp')\n"
   ]
  },
  {
   "cell_type": "code",
   "execution_count": 18,
   "id": "883134c1",
   "metadata": {},
   "outputs": [],
   "source": [
    "from nsp.utils.local2global import *\n",
    "from nsp.utils.func import *"
   ]
  },
  {
   "cell_type": "code",
   "execution_count": 19,
   "id": "44def888",
   "metadata": {},
   "outputs": [
    {
     "name": "stderr",
     "output_type": "stream",
     "text": [
      "/tmp/ipykernel_11218/1812047852.py:16: ComplexWarning: Casting complex values to real discards the imaginary part\n",
      "  SySy = np.kron(Sy,Sy).astype(np.float64)\n"
     ]
    }
   ],
   "source": [
    "L = 12\n",
    "\n",
    "Sz = np.zeros([2,2])\n",
    "Sz[0,0] = 1/2\n",
    "Sz[1,1] = -1/2\n",
    "Sx = np.zeros([2,2])\n",
    "Sx[1,0] = 1/2\n",
    "Sx[0,1] = 1/2\n",
    "Sy = np.zeros([2,2], dtype=np.complex64)\n",
    "Sy[1,0] = 1j/2\n",
    "Sy[0,1] = -1j/2\n",
    "\n",
    "\n",
    "SzSz = np.kron(Sz,Sz).astype(np.float64)\n",
    "SxSx = np.kron(Sx,Sx).astype(np.float64)\n",
    "SySy = np.kron(Sy,Sy).astype(np.float64)\n",
    "\n",
    "lh = SzSz + SxSx + SySy\n",
    "\n",
    "\n"
   ]
  },
  {
   "cell_type": "code",
   "execution_count": 20,
   "id": "ccd70b8f",
   "metadata": {},
   "outputs": [],
   "source": [
    "L = 12\n",
    "bonds1 = []\n",
    "bonds2 = []\n",
    "\n",
    "h = []\n",
    "LH = np.kron(lh, np.eye(2**(L-2)))\n",
    "for i in range(L):\n",
    "    bonds1.append([i, (i+1)%L])\n",
    "    bonds2.append([i, (i+2)%L])\n",
    "    "
   ]
  },
  {
   "cell_type": "code",
   "execution_count": 24,
   "id": "4924a550",
   "metadata": {},
   "outputs": [
    {
     "data": {
      "text/plain": [
       "array([-4.5       , -4.5       , -4.18086623, ...,  4.5       ,\n",
       "        4.5       ,  4.5       ])"
      ]
     },
     "execution_count": 24,
     "metadata": {},
     "output_type": "execute_result"
    }
   ],
   "source": [
    "H = sum_ham(lh, bonds1, L, 2) + sum_ham(lh/2, bonds2, L, 2)\n",
    "np.linalg.eigvalsh(H)"
   ]
  }
 ],
 "metadata": {
  "kernelspec": {
   "display_name": "Python 3 (ipykernel)",
   "language": "python",
   "name": "python3"
  },
  "language_info": {
   "codemirror_mode": {
    "name": "ipython",
    "version": 3
   },
   "file_extension": ".py",
   "mimetype": "text/x-python",
   "name": "python",
   "nbconvert_exporter": "python",
   "pygments_lexer": "ipython3",
   "version": "3.9.13"
  }
 },
 "nbformat": 4,
 "nbformat_minor": 5
}
