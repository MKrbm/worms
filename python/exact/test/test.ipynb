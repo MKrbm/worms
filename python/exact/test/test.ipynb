{
 "cells": [
  {
   "cell_type": "code",
   "execution_count": 2,
   "id": "0f9ac0cd",
   "metadata": {},
   "outputs": [],
   "source": [
    "import pandas as pd\n",
    "import numpy as np"
   ]
  },
  {
   "cell_type": "code",
   "execution_count": 3,
   "id": "7c8b2bd8",
   "metadata": {},
   "outputs": [],
   "source": [
    "# %run -i \"../solve_jax.py\" -m KH -L1 2 \n",
    "#* you can run the python executable directly and can use the same arguments defined in the executable"
   ]
  },
  {
   "cell_type": "code",
   "execution_count": 110,
   "id": "c05b3010",
   "metadata": {},
   "outputs": [],
   "source": [
    "spins = [2] * 12\n",
    "groundstate = np.load(\"out/KH_2x2/Jx_1_Jy_1_Jz_1_h_0/groundstate.npy\")\n",
    "groundstate = groundstate.reshape(spins)\n",
    "x = groundstate.copy()"
   ]
  },
  {
   "attachments": {},
   "cell_type": "markdown",
   "id": "804defc2",
   "metadata": {},
   "source": [
    "## Check if the transition symmetry is correct"
   ]
  },
  {
   "cell_type": "code",
   "execution_count": 80,
   "id": "b0d9279a",
   "metadata": {},
   "outputs": [
    {
     "name": "stdout",
     "output_type": "stream",
     "text": [
      "difference of partial trace :  1.4910943e-07\n"
     ]
    }
   ],
   "source": [
    "r1 = x.reshape(2**3, -1)\n",
    "r2 = x.transpose([6,7,8,9,10,11,0,1,2,3,4,5]).reshape(2**3, -1)\n",
    "partial_trace1 = np.einsum(\"im,jm->ij\", r1, r1)\n",
    "partial_trace2 = np.einsum(\"im,jm->ij\", r2, r2)\n",
    "print(\"difference of partial trace : \", np.linalg.norm(partial_trace1 - partial_trace2))\n",
    "rho = partial_trace1\n",
    "rho = (rho + rho.T)/2 #* make sure rho is Hermitian ( moreover, it should be positive semi-definite )"
   ]
  },
  {
   "attachments": {},
   "cell_type": "markdown",
   "id": "b712de86",
   "metadata": {},
   "source": [
    "## Conduct eigen decomposition"
   ]
  },
  {
   "cell_type": "code",
   "execution_count": 91,
   "id": "cb94bcae",
   "metadata": {},
   "outputs": [
    {
     "name": "stdout",
     "output_type": "stream",
     "text": [
      "sum of eigenvalues =  1.0000002\n",
      "All eigenvalues are positive :  True\n",
      "recreate from eigenvalues and vectors / diff :  3.5450057e-08\n"
     ]
    }
   ],
   "source": [
    "E, V = np.linalg.eigh(rho)\n",
    "print(\"sum of eigenvalues = \",E.sum()) #* should be 1\n",
    "print(\"All eigenvalues are positive : \", (E>=0).all())\n",
    "print(\"recreate from eigenvalues and vectors / diff : \",np.linalg.norm(V @ np.diag(E) @ V.T - rho)) #* should be zero"
   ]
  },
  {
   "attachments": {},
   "cell_type": "markdown",
   "id": "b0665ea1",
   "metadata": {},
   "source": [
    "### Check overwrap with local ground state\n",
    "\n",
    "- #### Partical Trace for n = 6,7,8,9,10,11\n"
   ]
  },
  {
   "cell_type": "code",
   "execution_count": 111,
   "id": "a956080c",
   "metadata": {},
   "outputs": [
    {
     "name": "stdout",
     "output_type": "stream",
     "text": [
      "check trace :  1.0000002\n"
     ]
    }
   ],
   "source": [
    "x = groundstate.copy()\n",
    "r = x.reshape(2**6, -1)\n",
    "rho = np.einsum(\"im,jm->ij\", r, r)\n",
    "rho = (rho + rho.T)/2\n",
    "print(\"check trace : \", rho.trace())"
   ]
  },
  {
   "attachments": {},
   "cell_type": "markdown",
   "id": "84a94ba2",
   "metadata": {},
   "source": [
    "#### Original Hamiltonian\n",
    "\n",
    "\n",
    "H1 is local hamiltonian between triangle (0,1,2) and (3,4,5)\n"
   ]
  },
  {
   "cell_type": "code",
   "execution_count": 130,
   "id": "d9d20c54",
   "metadata": {},
   "outputs": [],
   "source": [
    "# minus is for compenstating the minus sign in the stores local Hamiltonian\n",
    "H0 = -np.load(\"/home/user/project/python/make_local/array/KH/3site/none/Jx_1_Jy_1_Jz_1_hx_0_hz_0/H/0.npy\")\n",
    "H1 = -np.load(\"/home/user/project/python/make_local/array/KH/3site/none/Jx_1_Jy_1_Jz_1_hx_0_hz_0/H/1.npy\")\n",
    "H2 = -np.load(\"/home/user/project/python/make_local/array/KH/3site/none/Jx_1_Jy_1_Jz_1_hx_0_hz_0/H/2.npy\")\n",
    "E0, V0 = np.linalg.eigh(H0)\n",
    "E1, V1 = np.linalg.eigh(H1)\n",
    "E2, V2 = np.linalg.eigh(H2)\n",
    "for i in range(20):\n",
    "    print(f\"{i}th local ground state\" ,V1[:,i] @ rho @ V1[:,i]) "
   ]
  },
  {
   "attachments": {},
   "cell_type": "markdown",
   "id": "f8618290",
   "metadata": {},
   "source": [
    "#### Check overwarpping with stochastic local ground state with local ground state"
   ]
  },
  {
   "cell_type": "code",
   "execution_count": 145,
   "id": "2d605f00",
   "metadata": {},
   "outputs": [],
   "source": [
    "import sys\n",
    "sys.path.append(\"/home/user/project/python/reduce_nsp\")\n",
    "import nsp\n",
    "SH1 = -nsp.utils.stoquastic(-H1) #* make all-off-diagonal elements negative\n",
    "SE1, SV1 = np.linalg.eigh(SH1)"
   ]
  },
  {
   "attachments": {},
   "cell_type": "markdown",
   "id": "9a851e6b",
   "metadata": {},
   "source": [
    "since stoquastic local ground state can be all positive vector, and try to be the same vector up to sign of its elements, inner product of the two vectors can be good measure of optimization.\n",
    "\n",
    "- Of course, you can compare it with their ground energy."
   ]
  },
  {
   "cell_type": "code",
   "execution_count": 149,
   "id": "7af88205",
   "metadata": {},
   "outputs": [
    {
     "name": "stdout",
     "output_type": "stream",
     "text": [
      "0.985526456763024\n",
      "0.026504056397945175\n"
     ]
    }
   ],
   "source": [
    "print(np.abs(SV1[:,0]) @ np.abs(V1[:,0]) )\n",
    "print(abs(SE1[0]-E1[0]))"
   ]
  },
  {
   "attachments": {},
   "cell_type": "markdown",
   "id": "88076d47",
   "metadata": {},
   "source": [
    "This is really good result, which means local hamiltonian almost doesn't have negative sign. \n",
    "Next compare for Partical Diagonalized Hamiltonian"
   ]
  },
  {
   "cell_type": "code",
   "execution_count": 158,
   "id": "d8164359",
   "metadata": {},
   "outputs": [],
   "source": [
    "# minus is for compenstating the minus sign in the stores local Hamiltonian\n",
    "H0 = -np.load(\"/home/user/project/python/make_local/array/KH/3siteDiag/none/Jx_1_Jy_1_Jz_1_hx_0_hz_0/H/0.npy\")\n",
    "H1 = -np.load(\"/home/user/project/python/make_local/array/KH/3siteDiag/none/Jx_1_Jy_1_Jz_1_hx_0_hz_0/H/1.npy\")\n",
    "H2 = -np.load(\"/home/user/project/python/make_local/array/KH/3siteDiag/none/Jx_1_Jy_1_Jz_1_hx_0_hz_0/H/2.npy\")\n",
    "E0, V0 = np.linalg.eigh(H0)\n",
    "E1, V1 = np.linalg.eigh(H1)\n",
    "E2, V2 = np.linalg.eigh(H2)"
   ]
  },
  {
   "attachments": {},
   "cell_type": "markdown",
   "id": "f196f1f8",
   "metadata": {},
   "source": [
    "### Optimized Hamiltonian"
   ]
  },
  {
   "cell_type": "code",
   "execution_count": 218,
   "id": "8928e113",
   "metadata": {},
   "outputs": [
    {
     "name": "stdout",
     "output_type": "stream",
     "text": [
      "local 0th\n",
      "0.9999349078484887 0.00034916060574463614\n",
      "local 1th\n",
      "0.9999283544467124 0.0002446148999630804\n",
      "local 2th\n",
      "0.7072735320822696 0.0017438369396829412\n"
     ]
    }
   ],
   "source": [
    "import numpy as np\n",
    "# minus is for compenstating the minus sign in the stores local Hamiltonian\n",
    "H0 = -np.load(\"/home/user/project/python/make_local/array/KH/3site/mes/Jx_1_Jy_1_Jz_1_hx_0_hz_0/M_240/H/0.npy\")\n",
    "H1 = -np.load(\"/home/user/project/python/make_local/array/KH/3site/mes/Jx_1_Jy_1_Jz_1_hx_0_hz_0/M_240/H/1.npy\")\n",
    "H2 = -np.load(\"/home/user/project/python/make_local/array/KH/3site/mes/Jx_1_Jy_1_Jz_1_hx_0_hz_0/M_240/H/2.npy\")\n",
    "u = np.load(\"/home/user/project/python/make_local/array/KH/3site/mes/Jx_1_Jy_1_Jz_1_hx_0_hz_0/M_240/u/0.npy\")\n",
    "\n",
    "H_list = [H0, H1, H2]\n",
    "SH_list = [\n",
    "    -nsp.utils.stoquastic(-H) for H in H_list\n",
    "]\n",
    "\n",
    "# E0, V0 = np.linalg.eigh(H0)\n",
    "# E1, V1 = np.linalg.eigh(H1)\n",
    "# E2, V2 = np.linalg.eigh(H2)\n",
    "\n",
    "# SE, SV = np.linalg.eigh(SH_list[1])\n",
    "\n",
    "for l in range(3):\n",
    "    E, V = np.linalg.eigh(H_list[l])\n",
    "    SE, SV = np.linalg.eigh(SH_list[l])\n",
    "    print(f\"local {l}th\")\n",
    "    print(np.abs(SV[:,0]) @ np.abs(V[:,0]), abs(SE[0]-E[0]))"
   ]
  },
  {
   "attachments": {},
   "cell_type": "markdown",
   "id": "c86a9457",
   "metadata": {},
   "source": [
    "Check if the Local Hamiltonian is expressed by unitary matrix"
   ]
  },
  {
   "cell_type": "code",
   "execution_count": 190,
   "id": "a7e95d47",
   "metadata": {},
   "outputs": [
    {
     "data": {
      "text/plain": [
       "6.213945649735919e-14"
      ]
     },
     "execution_count": 190,
     "metadata": {},
     "output_type": "execute_result"
    }
   ],
   "source": [
    "OH0 = -np.load(\"/home/user/project/python/make_local/array/KH/3site/none/Jx_1_Jy_1_Jz_1_hx_0_hz_0/H/0.npy\")\n",
    "OE0, OV0 = np.linalg.eigh(OH0)\n",
    "np.linalg.norm(np.kron(u,u) @ H0 @ np.kron(u,u).T - OH0)"
   ]
  },
  {
   "attachments": {},
   "cell_type": "markdown",
   "id": "ab8d4fb5",
   "metadata": {},
   "source": [
    "# Servey with Exact Diagonalization"
   ]
  },
  {
   "cell_type": "code",
   "execution_count": 1,
   "id": "c8a317d3",
   "metadata": {},
   "outputs": [
    {
     "name": "stderr",
     "output_type": "stream",
     "text": [
      "/home/user/miniconda3/envs/py39/lib/python3.9/site-packages/tqdm/auto.py:22: TqdmWarning: IProgress not found. Please update jupyter and ipywidgets. See https://ipywidgets.readthedocs.io/en/stable/user_install.html\n",
      "  from .autonotebook import tqdm as notebook_tqdm\n"
     ]
    }
   ],
   "source": [
    "import sys\n",
    "sys.path.append(\"/home/user/project/python/reduce_nsp\")\n",
    "sys.path.append(\"/home/user/project/python/exact\")\n",
    "import nsp\n",
    "from jax_exact.core.constants import *\n",
    "import numpy as np"
   ]
  },
  {
   "attachments": {},
   "cell_type": "markdown",
   "id": "dd460676",
   "metadata": {},
   "source": [
    "### Test original Hamiltonian"
   ]
  },
  {
   "cell_type": "code",
   "execution_count": 89,
   "id": "2dbedb13",
   "metadata": {},
   "outputs": [],
   "source": [
    "\n",
    "# minus is for compenstating the minus sign in the stores local Hamiltonian\n",
    "H0 = -np.load(\"/home/user/project/python/make_local/array/KH/3site/none/Jx_1_Jy_1_Jz_1_hx_0_hz_0/H/0.npy\")\n",
    "H1 = -np.load(\"/home/user/project/python/make_local/array/KH/3site/none/Jx_1_Jy_1_Jz_1_hx_0_hz_0/H/1.npy\")\n",
    "H2 = -np.load(\"/home/user/project/python/make_local/array/KH/3site/none/Jx_1_Jy_1_Jz_1_hx_0_hz_0/H/2.npy\")\n",
    "\n",
    "H_list = [H0, H1, H2]\n",
    "SH_list = [\n",
    "    -nsp.utils.stoquastic(-H) for H in H_list\n",
    "]\n",
    "\n",
    "\n",
    "\n",
    "\n",
    "bonds = [[0,0,2], [1,0,1], [2,0,3], [0,1,3], [1,1,0], [2,1,2], [0,2,0], [1,2,3], [2,2,1], [0,3,1], [1,3,2], [2,3,0]]\n",
    "_bonds = [[], [], []]\n",
    "for bond in bonds:\n",
    "    _bonds[bond[0]].append(bond[1:])\n"
   ]
  },
  {
   "attachments": {},
   "cell_type": "markdown",
   "id": "d2516089",
   "metadata": {},
   "source": [
    "#### Pure hamiltonian"
   ]
  },
  {
   "cell_type": "code",
   "execution_count": 90,
   "id": "df353a23",
   "metadata": {},
   "outputs": [],
   "source": [
    "_H = nsp.utils.sum_ham(H_list[0], _bonds[0], 4, 8)\n",
    "_H += nsp.utils.sum_ham(H_list[1], _bonds[1], 4, 8)\n",
    "_H += nsp.utils.sum_ham(H_list[2], _bonds[2], 4, 8)\n",
    "\n",
    "from jax import numpy as jnp\n",
    "import jax\n",
    "_H = jnp.array(_H)\n",
    "_E, _V = jax.scipy.linalg.eigh(_H)\n",
    "\n"
   ]
  },
  {
   "cell_type": "code",
   "execution_count": 91,
   "id": "6a6b6f5c",
   "metadata": {},
   "outputs": [
    {
     "name": "stdout",
     "output_type": "stream",
     "text": [
      "l = 0 / innder product of eigenvector [0] :  0.20229731150902824\n",
      "l = 1 / innder product of eigenvector [0] :  0.20229698950424807\n",
      "l = 2 / innder product of eigenvector [0] :  0.20229675550945114\n"
     ]
    }
   ],
   "source": [
    "i = 0\n",
    "x = _V[:,0].copy()\n",
    "x = x.reshape([2]*12)\n",
    "x = x.transpose([0,1,2,6,7,8,3,4,5,9,10,11]) # for l = 0\n",
    "l = 0\n",
    "r = x.reshape(2**6, -1)\n",
    "rho = np.einsum(\"im,jm->ij\", r, r)\n",
    "rho = (rho + rho.T)/2\n",
    "LE, LV = np.linalg.eigh(H_list[l])\n",
    "print(f\"l = 0 / innder product of eigenvector [{i}] : \",LV[:,i] @ rho @ LV[:,i])\n",
    "\n",
    "x = _V[:,0].copy()\n",
    "l = 1\n",
    "r = x.reshape(2**6, -1)\n",
    "rho = np.einsum(\"im,jm->ij\", r, r)\n",
    "rho = (rho + rho.T)/2\n",
    "LE, LV = np.linalg.eigh(H_list[l])\n",
    "print(f\"l = 1 / innder product of eigenvector [{i}] : \",LV[:,i] @ rho @ LV[:,i])\n",
    "\n",
    "x = _V[:,0].copy()\n",
    "x = x.reshape([2]*12)\n",
    "x = x.transpose([0,1,2,9,10,11,3,4,5,6,7,8]) # for l = 2\n",
    "l = 2\n",
    "r = x.reshape(2**6, -1)\n",
    "rho = np.einsum(\"im,jm->ij\", r, r)\n",
    "rho = (rho + rho.T)/2\n",
    "LE, LV = np.linalg.eigh(H_list[l])\n",
    "print(f\"l = 2 / innder product of eigenvector [{i}] : \",LV[:,i] @ rho @ LV[:,i])"
   ]
  },
  {
   "attachments": {},
   "cell_type": "markdown",
   "id": "5fac3fc2",
   "metadata": {},
   "source": [
    "The above show that global ground state is covered by local ground state to some extent."
   ]
  },
  {
   "attachments": {},
   "cell_type": "markdown",
   "id": "2387c7dd",
   "metadata": {},
   "source": [
    "#### Stoquastic hamiltonian"
   ]
  },
  {
   "cell_type": "code",
   "execution_count": 92,
   "id": "22c8905c",
   "metadata": {},
   "outputs": [],
   "source": [
    "_SH = nsp.utils.sum_ham(SH_list[0], _bonds[0], 4, 8)\n",
    "_SH += nsp.utils.sum_ham(SH_list[1], _bonds[1], 4, 8)\n",
    "_SH += nsp.utils.sum_ham(SH_list[2], _bonds[2], 4, 8)\n",
    "\n",
    "from jax import numpy as jnp\n",
    "import jax\n",
    "_SH = jnp.array(_SH)\n",
    "_SE, _SV = jax.scipy.linalg.eigh(_SH)"
   ]
  },
  {
   "cell_type": "code",
   "execution_count": 93,
   "id": "da4d4b6c",
   "metadata": {},
   "outputs": [
    {
     "name": "stdout",
     "output_type": "stream",
     "text": [
      "Inner product of ground state -0.8145067\n"
     ]
    }
   ],
   "source": [
    "print(\"Inner product of ground state\", _SV[:,0] @ jnp.abs(_V[:,0]))"
   ]
  },
  {
   "cell_type": "code",
   "execution_count": 94,
   "id": "3c104ab0",
   "metadata": {},
   "outputs": [
    {
     "name": "stdout",
     "output_type": "stream",
     "text": [
      "l = 0 / innder product of eigenvector [0] :  0.32738108943819233\n",
      "local stoquastic energy of ground state : -1.0265040563979462\n",
      "--------------------\n",
      "l = 1 / innder product of eigenvector [0] :  0.32738109690556505\n",
      "local stoquastic energy of ground state : -1.026504056397945\n",
      "--------------------\n",
      "l = 2 / innder product of eigenvector [0] :  0.32738110380336116\n",
      "local stoquastic energy of ground state : -1.0265040563979455\n",
      "--------------------\n"
     ]
    }
   ],
   "source": [
    "i = 0\n",
    "x = _SV[:,0].copy()\n",
    "x = x.reshape([2]*12)\n",
    "x = x.transpose([0,1,2,6,7,8,3,4,5,9,10,11]) # for l = 0\n",
    "l = 0\n",
    "r = x.reshape(2**6, -1)\n",
    "Srho = np.einsum(\"im,jm->ij\", r, r)\n",
    "Srho = (Srho + Srho.T)/2\n",
    "LSE, LSV = np.linalg.eigh(SH_list[l])\n",
    "print(f\"l = 0 / innder product of eigenvector [{i}] : \",LSV[:,i] @ Srho @ LSV[:,i])\n",
    "print(f\"local stoquastic energy of ground state : {LSE[0]}\")\n",
    "print(\"-\"*20)\n",
    "x = _SV[:,0].copy()\n",
    "l = 1\n",
    "r = x.reshape(2**6, -1)\n",
    "Srho = np.einsum(\"im,jm->ij\", r, r)\n",
    "Srho = (Srho + Srho.T)/2\n",
    "LSE, LSV = np.linalg.eigh(SH_list[l])\n",
    "print(f\"l = 1 / innder product of eigenvector [{i}] : \",LSV[:,i] @ Srho @ LSV[:,i])\n",
    "print(f\"local stoquastic energy of ground state : {LSE[0]}\")\n",
    "print(\"-\"*20)\n",
    "\n",
    "x = _SV[:,0].copy()\n",
    "x = x.reshape([2]*12)\n",
    "x = x.transpose([0,1,2,9,10,11,3,4,5,6,7,8]) # for l = 2\n",
    "l = 2\n",
    "r = x.reshape(2**6, -1)\n",
    "Srho = np.einsum(\"im,jm->ij\", r, r)\n",
    "Srho = (Srho + Srho.T)/2\n",
    "LSE, LSV = np.linalg.eigh(SH_list[l])\n",
    "print(f\"l = 2 / innder product of eigenvector [{i}] : \",LSV[:,i] @ Srho @ LSV[:,i])\n",
    "print(f\"local stoquastic energy of ground state : {LSE[0]}\")\n",
    "print(\"-\"*20)\n"
   ]
  },
  {
   "cell_type": "code",
   "execution_count": 105,
   "id": "1d1f4508",
   "metadata": {},
   "outputs": [
    {
     "name": "stdout",
     "output_type": "stream",
     "text": [
      "l = 1 / innder product of eigenvector [0] :  0.32738109690556505\n",
      "local stoquastic energy of ground state : -1.026504056397945\n",
      "l = 1 / innder product of eigenvector [1] :  0.15025257200947267\n",
      "local stoquastic energy of ground state : -0.8793846160070569\n",
      "l = 1 / innder product of eigenvector [2] :  0.15025264442891278\n",
      "local stoquastic energy of ground state : -0.879384616007056\n",
      "l = 1 / innder product of eigenvector [3] :  0.00827017081088954\n",
      "local stoquastic energy of ground state : -0.8460056123187534\n",
      "l = 1 / innder product of eigenvector [4] :  0.014376807409863935\n",
      "local stoquastic energy of ground state : -0.8460056123187528\n",
      "-0.6829196213414735\n"
     ]
    }
   ],
   "source": [
    "x = _SV[:,0].copy()\n",
    "l = 1\n",
    "r = x.reshape(2**6, -1)\n",
    "Srho = np.einsum(\"im,jm->ij\", r, r)\n",
    "Srho = (Srho + Srho.T)/2\n",
    "LSE, LSV = np.linalg.eigh(SH_list[l])\n",
    "for i in range(5):\n",
    "    print(f\"l = 1 / innder product of eigenvector [{i}] : \",LSV[:,i] @ Srho @ LSV[:,i])\n",
    "    print(f\"local stoquastic energy of ground state : {LSE[i]}\")\n",
    "\n",
    "\n"
   ]
  },
  {
   "attachments": {},
   "cell_type": "markdown",
   "id": "cc181f71",
   "metadata": {},
   "source": [
    "#### Calculate energy using density matrix"
   ]
  },
  {
   "cell_type": "code",
   "execution_count": 22,
   "id": "065392da",
   "metadata": {},
   "outputs": [
    {
     "name": "stdout",
     "output_type": "stream",
     "text": [
      "dot = 0.14017802137647267\n",
      "dot = 0.3758865247444629\n",
      "dot = 0.3474908743306805\n",
      "dot = 0.12130706114810602\n",
      "dot = 3.226729698284084e-05\n",
      "dot = 8.189981614850446e-05\n",
      "dot = 7.798991502110583e-05\n",
      "dot = 2.577637071557837e-05\n",
      "dot = 2.3867006075274005e-08\n",
      "dot = 0.006745428810205151\n",
      "dot = 0.007145650944577893\n",
      "dot = 1.5355275037047434e-08\n",
      "dot = 3.7869982796859167e-10\n",
      "dot = 2.106688153391306e-06\n",
      "dot = 9.276090589524561e-07\n",
      "dot = 1.0738835031307937e-09\n",
      "dot = 4.089329283792569e-06\n",
      "dot = 2.3502667160431978e-05\n",
      "dot = 3.914500700378338e-05\n",
      "dot = 4.190841307701314e-05\n",
      "dot = 7.742224838582336e-05\n",
      "dot = 7.982941151935945e-05\n",
      "dot = 3.634818649108459e-05\n",
      "dot = 1.986628406152843e-08\n",
      "dot = 1.3815201037499042e-05\n",
      "dot = -1.2919297383518137e-09\n",
      "dot = 3.6450314497419304e-08\n",
      "dot = 5.934891434320779e-07\n",
      "dot = 9.636831807068233e-07\n",
      "dot = 7.501752730280998e-06\n",
      "dot = 1.326211423717509e-09\n",
      "dot = -1.1275237781648826e-09\n",
      "dot = 4.512586699636711e-10\n",
      "dot = -4.3744523353788594e-10\n",
      "dot = 7.576761638863526e-07\n",
      "dot = 5.425798027020262e-06\n",
      "dot = 1.7957806178094257e-06\n",
      "dot = 2.8112616814619513e-07\n",
      "dot = 1.8812208995413293e-09\n",
      "dot = 1.5476099813208966e-07\n",
      "dot = -6.707295704261156e-11\n",
      "dot = 3.810054256299124e-10\n",
      "dot = 9.961178207532637e-05\n",
      "dot = 8.132028346299562e-05\n",
      "dot = 0.00011123873885707193\n",
      "dot = 4.6950124161431004e-05\n",
      "dot = 0.00018817788915649126\n",
      "dot = -4.4511559439403605e-10\n",
      "dot = 1.6851597034591364e-10\n",
      "dot = -2.338963923790295e-10\n",
      "dot = 9.676455958622704e-10\n",
      "dot = 6.536161116470253e-07\n",
      "dot = 2.424831013564858e-06\n",
      "dot = 1.314080949309249e-09\n",
      "dot = 3.601104410912024e-11\n",
      "dot = 2.3377917487357634e-10\n",
      "dot = 3.198512187848624e-10\n",
      "dot = 1.2733634871346706e-09\n",
      "dot = -3.1430304003310593e-10\n",
      "dot = 1.0660373619867842e-09\n",
      "dot = 4.911595121362645e-10\n",
      "dot = 7.735540230613495e-05\n",
      "dot = 8.41711328173247e-05\n",
      "dot = 4.146628468225086e-10\n",
      "energy calculated by density matrix:  -0.961480118586305\n",
      "energy calculated by ground state:  -0.9614435\n"
     ]
    }
   ],
   "source": [
    "_SHT = nsp.utils.sum_ham(SH_list[0], [_bonds[0][0]], 4, 8)\n",
    "_SHT = jnp.array(_SHT)\n",
    "e_test = _SV[:,0] @ _SHT @ _SV[:,0]\n",
    "\n",
    "\n",
    "e_sum = 0\n",
    "for i in range(len(LSV[0])):\n",
    "    print(f\"dot = {LSV[:,i] @ Srho @ LSV[:,i]:3}\")\n",
    "    e_sum += LSV[:,i] @ Srho @ LSV[:,i] * LSE[i]\n",
    "print(\"energy calculated by density matrix: \", e_sum)\n",
    "print(\"energy calculated by ground state: \", e_test)"
   ]
  },
  {
   "cell_type": "code",
   "execution_count": 21,
   "id": "7ebb7911",
   "metadata": {},
   "outputs": [
    {
     "data": {
      "text/plain": [
       "array([-1.00024461, -0.97903667, -0.95421481, -0.92284767, -0.8480168 ,\n",
       "       -0.82741435, -0.80358326, -0.77404457, -0.75023699, -0.71900751])"
      ]
     },
     "execution_count": 21,
     "metadata": {},
     "output_type": "execute_result"
    }
   ],
   "source": [
    "LSE[:10]"
   ]
  },
  {
   "attachments": {},
   "cell_type": "markdown",
   "id": "07710025",
   "metadata": {},
   "source": [
    "### Test optimized Hamiltonian"
   ]
  },
  {
   "cell_type": "code",
   "execution_count": 1,
   "id": "2ba0f6ff",
   "metadata": {},
   "outputs": [
    {
     "name": "stderr",
     "output_type": "stream",
     "text": [
      "/home/user/miniconda3/envs/py39/lib/python3.9/site-packages/tqdm/auto.py:22: TqdmWarning: IProgress not found. Please update jupyter and ipywidgets. See https://ipywidgets.readthedocs.io/en/stable/user_install.html\n",
      "  from .autonotebook import tqdm as notebook_tqdm\n"
     ]
    }
   ],
   "source": [
    "import sys\n",
    "sys.path.append(\"/home/user/project/python/reduce_nsp\")\n",
    "sys.path.append(\"/home/user/project/python/exact\")\n",
    "import nsp\n",
    "from jax_exact.core.constants import *\n",
    "import numpy as np\n",
    "# minus is for compenstating the minus sign in the stores local Hamiltonian\n",
    "H0 = -np.load(\"/home/user/project/python/make_local/array/KH/3site/mes/Jx_1_Jy_1_Jz_1_hx_0_hz_0/M_240/H/0.npy\")\n",
    "H1 = -np.load(\"/home/user/project/python/make_local/array/KH/3site/mes/Jx_1_Jy_1_Jz_1_hx_0_hz_0/M_240/H/1.npy\")\n",
    "H2 = -np.load(\"/home/user/project/python/make_local/array/KH/3site/mes/Jx_1_Jy_1_Jz_1_hx_0_hz_0/M_240/H/2.npy\")\n",
    "\n",
    "H_list = [H0, H1, H2]\n",
    "SH_list = [\n",
    "    -nsp.utils.stoquastic(-H) for H in H_list\n",
    "]\n",
    "\n",
    "\n",
    "\n",
    "\n",
    "bonds = [[0,0,2], [1,0,1], [2,0,3], [0,1,3], [1,1,0], [2,1,2], [0,2,0], [1,2,3], [2,2,1], [0,3,1], [1,3,2], [2,3,0]]\n",
    "_bonds = [[], [], []]\n",
    "for bond in bonds:\n",
    "    _bonds[bond[0]].append(bond[1:])\n"
   ]
  },
  {
   "attachments": {},
   "cell_type": "markdown",
   "id": "dc01fafc",
   "metadata": {},
   "source": [
    "#### Pure hamiltonian"
   ]
  },
  {
   "cell_type": "code",
   "execution_count": 2,
   "id": "25b3f139",
   "metadata": {},
   "outputs": [],
   "source": [
    "_H = nsp.utils.sum_ham(H_list[0], _bonds[0], 4, 8)\n",
    "_H += nsp.utils.sum_ham(H_list[1], _bonds[1], 4, 8)\n",
    "_H += nsp.utils.sum_ham(H_list[2], _bonds[2], 4, 8)\n",
    "\n",
    "from jax import numpy as jnp\n",
    "import jax\n",
    "_H = jnp.array(_H)\n",
    "_E, _V = jax.scipy.linalg.eigh(_H)\n"
   ]
  },
  {
   "attachments": {},
   "cell_type": "markdown",
   "id": "22c1b202",
   "metadata": {},
   "source": [
    "#### Stoquastic hamiltonian"
   ]
  },
  {
   "cell_type": "code",
   "execution_count": 3,
   "id": "41e0607d",
   "metadata": {},
   "outputs": [],
   "source": [
    "_SH = nsp.utils.sum_ham(SH_list[0], _bonds[0], 4, 8)\n",
    "_SH += nsp.utils.sum_ham(SH_list[1], _bonds[1], 4, 8)\n",
    "_SH += nsp.utils.sum_ham(SH_list[2], _bonds[2], 4, 8)\n",
    "\n",
    "from jax import numpy as jnp\n",
    "import jax\n",
    "_SH = jnp.array(_SH)\n",
    "_SE, _SV = jax.scipy.linalg.eigh(_SH)"
   ]
  },
  {
   "cell_type": "code",
   "execution_count": 4,
   "id": "e49e2903",
   "metadata": {},
   "outputs": [
    {
     "name": "stdout",
     "output_type": "stream",
     "text": [
      "Inner product of ground state 0.4446661\n"
     ]
    }
   ],
   "source": [
    "print(\"Inner product of ground state\", _SV[:,0] @ jnp.abs(_V[:,0]))"
   ]
  },
  {
   "attachments": {},
   "cell_type": "markdown",
   "id": "b77ad215",
   "metadata": {},
   "source": [
    "Check overlapping of stoquastic local ground state with stoquastic global ground state"
   ]
  },
  {
   "cell_type": "code",
   "execution_count": 5,
   "id": "7ace8a69",
   "metadata": {},
   "outputs": [
    {
     "name": "stdout",
     "output_type": "stream",
     "text": [
      "l = 0 / innder product of eigenvector [0] :  0.13976965871283176\n",
      "local stoquastic energy of ground state : -1.000349160605744\n",
      "--------------------\n",
      "l = 1 / innder product of eigenvector [0] :  0.14017802137647267\n",
      "local stoquastic energy of ground state : -1.000244614899966\n",
      "--------------------\n",
      "l = 2 / innder product of eigenvector [0] :  0.9984060123397892\n",
      "local stoquastic energy of ground state : -1.0017438369396832\n",
      "--------------------\n"
     ]
    }
   ],
   "source": [
    "i = 0\n",
    "x = _SV[:,0].copy()\n",
    "x = x.reshape([2]*12)\n",
    "x = x.transpose([0,1,2,6,7,8,3,4,5,9,10,11]) # for l = 0\n",
    "l = 0\n",
    "r = x.reshape(2**6, -1)\n",
    "Srho = np.einsum(\"im,jm->ij\", r, r)\n",
    "Srho = (Srho + Srho.T)/2\n",
    "LSE, LSV = np.linalg.eigh(SH_list[l])\n",
    "print(f\"l = 0 / innder product of eigenvector [{i}] : \",LSV[:,i] @ Srho @ LSV[:,i])\n",
    "print(f\"local stoquastic energy of ground state : {LSE[0]}\")\n",
    "print(\"-\"*20)\n",
    "x = _SV[:,0].copy()\n",
    "l = 1\n",
    "r = x.reshape(2**6, -1)\n",
    "Srho = np.einsum(\"im,jm->ij\", r, r)\n",
    "Srho = (Srho + Srho.T)/2\n",
    "LSE, LSV = np.linalg.eigh(SH_list[l])\n",
    "print(f\"l = 1 / innder product of eigenvector [{i}] : \",LSV[:,i] @ Srho @ LSV[:,i])\n",
    "print(f\"local stoquastic energy of ground state : {LSE[0]}\")\n",
    "print(\"-\"*20)\n",
    "\n",
    "x = _SV[:,0].copy()\n",
    "x = x.reshape([2]*12)\n",
    "x = x.transpose([0,1,2,9,10,11,3,4,5,6,7,8]) # for l = 2\n",
    "l = 2\n",
    "r = x.reshape(2**6, -1)\n",
    "Srho = np.einsum(\"im,jm->ij\", r, r)\n",
    "Srho = (Srho + Srho.T)/2\n",
    "LSE, LSV = np.linalg.eigh(SH_list[l])\n",
    "print(f\"l = 2 / innder product of eigenvector [{i}] : \",LSV[:,i] @ Srho @ LSV[:,i])\n",
    "print(f\"local stoquastic energy of ground state : {LSE[0]}\")\n",
    "print(\"-\"*20)\n"
   ]
  },
  {
   "attachments": {},
   "cell_type": "markdown",
   "id": "baa955d8",
   "metadata": {},
   "source": [
    "This suggests that the wors optimized local hamiltonian amoung three behave badly, leading huge gap between global ground state energy?"
   ]
  },
  {
   "cell_type": "code",
   "execution_count": 18,
   "id": "97557de2",
   "metadata": {},
   "outputs": [
    {
     "name": "stdout",
     "output_type": "stream",
     "text": [
      "dot = 0.14\n",
      "dot = 0.376\n",
      "dot = 0.347\n",
      "dot = 0.121\n",
      "dot = 3.23e-05\n",
      "dot = 8.19e-05\n",
      "dot = 7.8e-05\n",
      "dot = 2.58e-05\n",
      "dot = 2.39e-08\n",
      "dot = 0.00675\n",
      "dot = 0.00715\n",
      "dot = 1.54e-08\n",
      "dot = 3.79e-10\n",
      "dot = 2.11e-06\n",
      "dot = 9.28e-07\n",
      "dot = 1.07e-09\n",
      "dot = 4.09e-06\n",
      "dot = 2.35e-05\n",
      "dot = 3.91e-05\n",
      "dot = 4.19e-05\n",
      "dot = 7.74e-05\n",
      "dot = 7.98e-05\n",
      "dot = 3.63e-05\n",
      "dot = 1.99e-08\n",
      "dot = 1.38e-05\n",
      "dot = -1.29e-09\n",
      "dot = 3.65e-08\n",
      "dot = 5.93e-07\n",
      "dot = 9.64e-07\n",
      "dot = 7.5e-06\n",
      "dot = 1.33e-09\n",
      "dot = -1.13e-09\n",
      "dot = 4.51e-10\n",
      "dot = -4.37e-10\n",
      "dot = 7.58e-07\n",
      "dot = 5.43e-06\n",
      "dot = 1.8e-06\n",
      "dot = 2.81e-07\n",
      "dot = 1.88e-09\n",
      "dot = 1.55e-07\n",
      "dot = -6.71e-11\n",
      "dot = 3.81e-10\n",
      "dot = 9.96e-05\n",
      "dot = 8.13e-05\n",
      "dot = 0.000111\n",
      "dot = 4.7e-05\n",
      "dot = 0.000188\n",
      "dot = -4.45e-10\n",
      "dot = 1.69e-10\n",
      "dot = -2.34e-10\n",
      "dot = 9.68e-10\n",
      "dot = 6.54e-07\n",
      "dot = 2.42e-06\n",
      "dot = 1.31e-09\n",
      "dot = 3.6e-11\n",
      "dot = 2.34e-10\n",
      "dot = 3.2e-10\n",
      "dot = 1.27e-09\n",
      "dot = -3.14e-10\n",
      "dot = 1.07e-09\n",
      "dot = 4.91e-10\n",
      "dot = 7.74e-05\n",
      "dot = 8.42e-05\n",
      "dot = 4.15e-10\n",
      "energy calculated by density matrix:  -0.961480118586305\n",
      "energy calculated by ground state:  -0.96147996\n"
     ]
    }
   ],
   "source": [
    "_SHT = nsp.utils.sum_ham(SH_list[1], [_bonds[1][0]], 4, 8)\n",
    "_SHT = jnp.array(_SHT)\n",
    "e_test = _SV[:,0] @ _SHT @ _SV[:,0]\n",
    "\n",
    "e_sum = 0\n",
    "x = _SV[:,0].copy()\n",
    "l = 1\n",
    "LSE, LSV = np.linalg.eigh(SH_list[l])\n",
    "r = x.reshape(2**6, -1)\n",
    "Srho = np.einsum(\"im,jm->ij\", r, r)\n",
    "Srho = (Srho + Srho.T)/2\n",
    "for i in range(len(LSV[0])):\n",
    "    print(f\"dot = {LSV[:,i] @ Srho @ LSV[:,i]:.3}\")\n",
    "    e_sum += LSV[:,i] @ Srho @ LSV[:,i] * LSE[i]\n",
    "print(\"energy calculated by density matrix: \", e_sum)\n",
    "print(\"energy calculated by ground state: \", e_test)"
   ]
  },
  {
   "attachments": {},
   "cell_type": "markdown",
   "id": "08759390",
   "metadata": {},
   "source": [
    "This suggests that second and thrid eigen values are too bit and they greatly contribute to global gs energy"
   ]
  },
  {
   "attachments": {},
   "cell_type": "markdown",
   "id": "a83d81a9",
   "metadata": {},
   "source": [
    "### Test optimized Hamiltonian in modified scheme (take minimum of three)"
   ]
  },
  {
   "cell_type": "code",
   "execution_count": 64,
   "id": "70fdaee5",
   "metadata": {},
   "outputs": [],
   "source": [
    "import sys\n",
    "sys.path.append(\"/home/user/project/python/reduce_nsp\")\n",
    "sys.path.append(\"/home/user/project/python/exact\")\n",
    "from jax_exact.core.constants import *\n",
    "import numpy as np\n",
    "# minus is for compenstating the minus sign in the stores local Hamiltonian\n",
    "H0 = -np.load(\"/home/user/project/python/make_local/array/KH/3site/mes/Jx_1_Jy_1_Jz_1_hx_0_hz_0/M_244/H/0.npy\")\n",
    "H1 = -np.load(\"/home/user/project/python/make_local/array/KH/3site/mes/Jx_1_Jy_1_Jz_1_hx_0_hz_0/M_244/H/1.npy\")\n",
    "H2 = -np.load(\"/home/user/project/python/make_local/array/KH/3site/mes/Jx_1_Jy_1_Jz_1_hx_0_hz_0/M_244/H/2.npy\")\n",
    "\n",
    "H_list = [H0, H1, H2]\n",
    "SH_list = [\n",
    "    -nsp.utils.stoquastic(-H) for H in H_list\n",
    "]\n",
    "\n",
    "\n",
    "\n",
    "\n",
    "bonds = [[0,0,2], [1,0,1], [2,0,3], [0,1,3], [1,1,0], [2,1,2], [0,2,0], [1,2,3], [2,2,1], [0,3,1], [1,3,2], [2,3,0]]\n",
    "_bonds = [[], [], []]\n",
    "for bond in bonds:\n",
    "    _bonds[bond[0]].append(bond[1:])\n"
   ]
  },
  {
   "cell_type": "markdown",
   "id": "ff622e49",
   "metadata": {},
   "source": [
    "#### Pure hamiltonian"
   ]
  },
  {
   "cell_type": "code",
   "execution_count": 65,
   "id": "bd6bdeab",
   "metadata": {},
   "outputs": [],
   "source": [
    "_H = nsp.utils.sum_ham(H_list[0], _bonds[0], 4, 8)\n",
    "_H += nsp.utils.sum_ham(H_list[1], _bonds[1], 4, 8)\n",
    "_H += nsp.utils.sum_ham(H_list[2], _bonds[2], 4, 8)\n",
    "\n",
    "from jax import numpy as jnp\n",
    "import jax\n",
    "_H = jnp.array(_H)\n",
    "_E, _V = jax.scipy.linalg.eigh(_H)\n"
   ]
  },
  {
   "cell_type": "markdown",
   "id": "ce2b2274",
   "metadata": {},
   "source": [
    "#### Stoquastic hamiltonian"
   ]
  },
  {
   "cell_type": "code",
   "execution_count": 61,
   "id": "75f0ebc1",
   "metadata": {},
   "outputs": [],
   "source": [
    "_SH = nsp.utils.sum_ham(SH_list[0], _bonds[0], 4, 8)\n",
    "_SH += nsp.utils.sum_ham(SH_list[1], _bonds[1], 4, 8)\n",
    "_SH += nsp.utils.sum_ham(SH_list[2], _bonds[2], 4, 8)\n",
    "\n",
    "from jax import numpy as jnp\n",
    "import jax\n",
    "_SH = jnp.array(_SH)\n",
    "_SE, _SV = jax.scipy.linalg.eigh(_SH)"
   ]
  },
  {
   "cell_type": "code",
   "execution_count": 62,
   "id": "71208146",
   "metadata": {},
   "outputs": [
    {
     "name": "stdout",
     "output_type": "stream",
     "text": [
      "Inner product of ground state -0.62793386\n"
     ]
    },
    {
     "data": {
      "text/plain": [
       "Array([-11.4248295, -11.421765 ,  -9.034054 , ...,   5.4970393,\n",
       "         5.9149704,   5.9155645], dtype=float32)"
      ]
     },
     "execution_count": 62,
     "metadata": {},
     "output_type": "execute_result"
    }
   ],
   "source": [
    "print(\"Inner product of ground state\", _SV[:,0] @ jnp.abs(_V[:,0]))\n",
    "_SE"
   ]
  },
  {
   "cell_type": "code",
   "execution_count": 63,
   "id": "c5f3b0fd",
   "metadata": {},
   "outputs": [
    {
     "name": "stdout",
     "output_type": "stream",
     "text": [
      "-1.000177700541588\n",
      "-1.158498533022129\n",
      "-1.0000676290110921\n"
     ]
    }
   ],
   "source": [
    "for l in range(3):\n",
    "    print(np.linalg.eigvalsh(SH_list[l])[0])"
   ]
  },
  {
   "cell_type": "markdown",
   "id": "1f73feb7",
   "metadata": {},
   "source": [
    "Check overlapping of stoquastic local ground state with stoquastic global ground state"
   ]
  },
  {
   "cell_type": "code",
   "execution_count": 55,
   "id": "81ccec1c",
   "metadata": {},
   "outputs": [
    {
     "name": "stdout",
     "output_type": "stream",
     "text": [
      "l = 0 / innder product of eigenvector [0] :  0.13976965871283176\n",
      "local stoquastic energy of ground state : -1.000349160605744\n",
      "--------------------\n",
      "l = 1 / innder product of eigenvector [0] :  0.14017802137647267\n",
      "local stoquastic energy of ground state : -1.000244614899966\n",
      "--------------------\n",
      "l = 2 / innder product of eigenvector [0] :  0.9984060123397892\n",
      "local stoquastic energy of ground state : -1.0017438369396832\n",
      "--------------------\n"
     ]
    }
   ],
   "source": [
    "i = 0\n",
    "x = _SV[:,0].copy()\n",
    "x = x.reshape([2]*12)\n",
    "x = x.transpose([0,1,2,6,7,8,3,4,5,9,10,11]) # for l = 0\n",
    "l = 0\n",
    "r = x.reshape(2**6, -1)\n",
    "Srho = np.einsum(\"im,jm->ij\", r, r)\n",
    "Srho = (Srho + Srho.T)/2\n",
    "LSE, LSV = np.linalg.eigh(SH_list[l])\n",
    "print(f\"l = 0 / innder product of eigenvector [{i}] : \",LSV[:,i] @ Srho @ LSV[:,i])\n",
    "print(f\"local stoquastic energy of ground state : {LSE[0]}\")\n",
    "print(\"-\"*20)\n",
    "x = _SV[:,0].copy()\n",
    "l = 1\n",
    "r = x.reshape(2**6, -1)\n",
    "Srho = np.einsum(\"im,jm->ij\", r, r)\n",
    "Srho = (Srho + Srho.T)/2\n",
    "LSE, LSV = np.linalg.eigh(SH_list[l])\n",
    "print(f\"l = 1 / innder product of eigenvector [{i}] : \",LSV[:,i] @ Srho @ LSV[:,i])\n",
    "print(f\"local stoquastic energy of ground state : {LSE[0]}\")\n",
    "print(\"-\"*20)\n",
    "\n",
    "x = _SV[:,0].copy()\n",
    "x = x.reshape([2]*12)\n",
    "x = x.transpose([0,1,2,9,10,11,3,4,5,6,7,8]) # for l = 2\n",
    "l = 2\n",
    "r = x.reshape(2**6, -1)\n",
    "Srho = np.einsum(\"im,jm->ij\", r, r)\n",
    "Srho = (Srho + Srho.T)/2\n",
    "LSE, LSV = np.linalg.eigh(SH_list[l])\n",
    "print(f\"l = 2 / innder product of eigenvector [{i}] : \",LSV[:,i] @ Srho @ LSV[:,i])\n",
    "print(f\"local stoquastic energy of ground state : {LSE[0]}\")\n",
    "print(\"-\"*20)\n"
   ]
  },
  {
   "cell_type": "markdown",
   "id": "07e068c4",
   "metadata": {},
   "source": [
    "In this case, all hamiltonian optimized well. But only one of them occupy the global ground state. I expected it equally distributed among three."
   ]
  },
  {
   "attachments": {},
   "cell_type": "markdown",
   "id": "0180995d",
   "metadata": {},
   "source": [
    "### Test optimized Hamiltonian in modified scheme (take maximum of three)"
   ]
  },
  {
   "cell_type": "code",
   "execution_count": 67,
   "id": "2b30577d",
   "metadata": {},
   "outputs": [],
   "source": [
    "import sys\n",
    "sys.path.append(\"/home/user/project/python/reduce_nsp\")\n",
    "sys.path.append(\"/home/user/project/python/exact\")\n",
    "from jax_exact.core.constants import *\n",
    "import numpy as np\n",
    "# minus is for compenstating the minus sign in the stores local Hamiltonian\n",
    "H0 = -np.load(\"/home/user/project/python/make_local/array/KH/3site/mes/Jx_1_Jy_1_Jz_1_hx_0_hz_0/M_1/H/0.npy\")\n",
    "H1 = -np.load(\"/home/user/project/python/make_local/array/KH/3site/mes/Jx_1_Jy_1_Jz_1_hx_0_hz_0/M_1/H/1.npy\")\n",
    "H2 = -np.load(\"/home/user/project/python/make_local/array/KH/3site/mes/Jx_1_Jy_1_Jz_1_hx_0_hz_0/M_1/H/2.npy\")\n",
    "\n",
    "H_list = [H0, H1, H2]\n",
    "SH_list = [\n",
    "    -nsp.utils.stoquastic(-H) for H in H_list\n",
    "]\n",
    "\n",
    "\n",
    "\n",
    "\n",
    "bonds = [[0,0,2], [1,0,1], [2,0,3], [0,1,3], [1,1,0], [2,1,2], [0,2,0], [1,2,3], [2,2,1], [0,3,1], [1,3,2], [2,3,0]]\n",
    "_bonds = [[], [], []]\n",
    "for bond in bonds:\n",
    "    _bonds[bond[0]].append(bond[1:])\n"
   ]
  },
  {
   "cell_type": "markdown",
   "id": "97b233ba",
   "metadata": {},
   "source": [
    "#### Pure hamiltonian"
   ]
  },
  {
   "cell_type": "code",
   "execution_count": 68,
   "id": "1f10daaa",
   "metadata": {},
   "outputs": [],
   "source": [
    "_H = nsp.utils.sum_ham(H_list[0], _bonds[0], 4, 8)\n",
    "_H += nsp.utils.sum_ham(H_list[1], _bonds[1], 4, 8)\n",
    "_H += nsp.utils.sum_ham(H_list[2], _bonds[2], 4, 8)\n",
    "\n",
    "from jax import numpy as jnp\n",
    "import jax\n",
    "_H = jnp.array(_H)\n",
    "_E, _V = jax.scipy.linalg.eigh(_H)\n"
   ]
  },
  {
   "cell_type": "markdown",
   "id": "a590ff76",
   "metadata": {},
   "source": [
    "#### Stoquastic hamiltonian"
   ]
  },
  {
   "cell_type": "code",
   "execution_count": 69,
   "id": "b65eb7f2",
   "metadata": {},
   "outputs": [],
   "source": [
    "_SH = nsp.utils.sum_ham(SH_list[0], _bonds[0], 4, 8)\n",
    "_SH += nsp.utils.sum_ham(SH_list[1], _bonds[1], 4, 8)\n",
    "_SH += nsp.utils.sum_ham(SH_list[2], _bonds[2], 4, 8)\n",
    "\n",
    "from jax import numpy as jnp\n",
    "import jax\n",
    "_SH = jnp.array(_SH)\n",
    "_SE, _SV = jax.scipy.linalg.eigh(_SH)"
   ]
  },
  {
   "cell_type": "code",
   "execution_count": 73,
   "id": "0a6c3b81",
   "metadata": {},
   "outputs": [
    {
     "name": "stdout",
     "output_type": "stream",
     "text": [
      "local stoquastic energy of ground state are \n",
      "[-1.00024887 -0.97956155 -0.95481491 -0.92328368 -0.84801807]\n",
      "[-1.00042168 -0.97964041 -0.95470461 -0.92293865 -0.84783306]\n",
      "[-1.00393964 -0.99921168 -0.84927691 -0.84916852 -0.84760019]\n"
     ]
    }
   ],
   "source": [
    "print(\"local stoquastic energy of ground state are \")\n",
    "for l in range(3):\n",
    "    print(np.linalg.eigvalsh(SH_list[l])[:5])"
   ]
  },
  {
   "cell_type": "code",
   "execution_count": 72,
   "id": "6df69598",
   "metadata": {},
   "outputs": [
    {
     "name": "stdout",
     "output_type": "stream",
     "text": [
      "[-11.716789 -11.672066  -8.9985    -8.971427  -8.839621]\n",
      "[-5.4448752 -5.328395  -5.2982364 -5.2982364 -5.165295 ]\n"
     ]
    }
   ],
   "source": [
    "print(_SE[:5])\n",
    "print(_E[:5])"
   ]
  },
  {
   "cell_type": "code",
   "execution_count": 39,
   "id": "916b2ffd",
   "metadata": {},
   "outputs": [
    {
     "name": "stdout",
     "output_type": "stream",
     "text": [
      "Inner product of ground state 0.4446772\n"
     ]
    }
   ],
   "source": [
    "print(\"Inner product of ground state\", _SV[:,0] @ jnp.abs(_V[:,0]))"
   ]
  },
  {
   "attachments": {},
   "cell_type": "markdown",
   "id": "b17d4274",
   "metadata": {},
   "source": [
    "Note that the result is worser than the one with optimization of average.\n",
    "Check overlapping of stoquastic local ground state with stoquastic global ground state"
   ]
  },
  {
   "cell_type": "code",
   "execution_count": 41,
   "id": "3ffa7f32",
   "metadata": {},
   "outputs": [
    {
     "name": "stdout",
     "output_type": "stream",
     "text": [
      "l = 0 / innder product of eigenvector [0] :  0.1486917598370786\n",
      "local stoquastic energy of ground state : -1.000248865011823\n",
      "--------------------\n",
      "l = 1 / innder product of eigenvector [0] :  0.14748093107524332\n",
      "local stoquastic energy of ground state : -1.0004216832046362\n",
      "--------------------\n",
      "l = 2 / innder product of eigenvector [0] :  0.9984103447999974\n",
      "local stoquastic energy of ground state : -1.0039396389784765\n",
      "--------------------\n"
     ]
    }
   ],
   "source": [
    "i = 0\n",
    "x = _SV[:,0].copy()\n",
    "x = x.reshape([2]*12)\n",
    "x = x.transpose([0,1,2,6,7,8,3,4,5,9,10,11]) # for l = 0\n",
    "l = 0\n",
    "r = x.reshape(2**6, -1)\n",
    "Srho = np.einsum(\"im,jm->ij\", r, r)\n",
    "Srho = (Srho + Srho.T)/2\n",
    "LSE, LSV = np.linalg.eigh(SH_list[l])\n",
    "print(f\"l = 0 / innder product of eigenvector [{i}] : \",LSV[:,i] @ Srho @ LSV[:,i])\n",
    "print(f\"local stoquastic energy of ground state : {LSE[0]}\")\n",
    "print(\"-\"*20)\n",
    "x = _SV[:,0].copy()\n",
    "l = 1\n",
    "r = x.reshape(2**6, -1)\n",
    "Srho = np.einsum(\"im,jm->ij\", r, r)\n",
    "Srho = (Srho + Srho.T)/2\n",
    "LSE, LSV = np.linalg.eigh(SH_list[l])\n",
    "print(f\"l = 1 / innder product of eigenvector [{i}] : \",LSV[:,i] @ Srho @ LSV[:,i])\n",
    "print(f\"local stoquastic energy of ground state : {LSE[0]}\")\n",
    "print(\"-\"*20)\n",
    "\n",
    "x = _SV[:,0].copy()\n",
    "x = x.reshape([2]*12)\n",
    "x = x.transpose([0,1,2,9,10,11,3,4,5,6,7,8]) # for l = 2\n",
    "l = 2\n",
    "r = x.reshape(2**6, -1)\n",
    "Srho = np.einsum(\"im,jm->ij\", r, r)\n",
    "Srho = (Srho + Srho.T)/2\n",
    "LSE, LSV = np.linalg.eigh(SH_list[l])\n",
    "print(f\"l = 2 / innder product of eigenvector [{i}] : \",LSV[:,i] @ Srho @ LSV[:,i])\n",
    "print(f\"local stoquastic energy of ground state : {LSE[0]}\")\n",
    "print(\"-\"*20)\n"
   ]
  },
  {
   "attachments": {},
   "cell_type": "markdown",
   "id": "6a9d1abe",
   "metadata": {},
   "source": [
    "In this case, all hamiltonian optimized well. But only one of them occupy the global ground state. I expected it equally distributed among three."
   ]
  },
  {
   "cell_type": "code",
   "execution_count": 44,
   "id": "537cbd24",
   "metadata": {},
   "outputs": [
    {
     "name": "stdout",
     "output_type": "stream",
     "text": [
      "l = 1 / innder product of eigenvector [0] :  0.14748093107524332\n",
      "local stoquastic energy of ground state : -1.0004216832046362\n",
      "l = 1 / innder product of eigenvector [1] :  0.39957868359682625\n",
      "local stoquastic energy of ground state : -0.9796404081959669\n",
      "l = 1 / innder product of eigenvector [2] :  0.3223953965597398\n",
      "local stoquastic energy of ground state : -0.9547046096658286\n",
      "l = 1 / innder product of eigenvector [3] :  0.11561606151367278\n",
      "local stoquastic energy of ground state : -0.922938647596009\n",
      "l = 1 / innder product of eigenvector [4] :  3.311896112410876e-05\n",
      "local stoquastic energy of ground state : -0.8478330584558101\n",
      "l = 1 / innder product of eigenvector [5] :  8.254510672067024e-05\n",
      "local stoquastic energy of ground state : -0.8276318741800783\n",
      "l = 1 / innder product of eigenvector [6] :  7.667640706862021e-05\n",
      "local stoquastic energy of ground state : -0.8038576974393363\n",
      "l = 1 / innder product of eigenvector [7] :  2.490896607239086e-05\n",
      "local stoquastic energy of ground state : -0.773942117830579\n",
      "l = 1 / innder product of eigenvector [8] :  4.818025824837165e-07\n",
      "local stoquastic energy of ground state : -0.7503102932898957\n",
      "l = 1 / innder product of eigenvector [9] :  0.006391663493773531\n",
      "local stoquastic energy of ground state : -0.7188379436308967\n"
     ]
    }
   ],
   "source": [
    "x = _SV[:,0].copy()\n",
    "l = 1\n",
    "r = x.reshape(2**6, -1)\n",
    "Srho = np.einsum(\"im,jm->ij\", r, r)\n",
    "Srho = (Srho + Srho.T)/2\n",
    "LSE, LSV = np.linalg.eigh(SH_list[l])\n",
    "for i in range(10):\n",
    "    print(f\"l = 1 / innder product of eigenvector [{i}] : \",LSV[:,i] @ Srho @ LSV[:,i])\n",
    "    print(f\"local stoquastic energy of ground state : {LSE[i]}\")"
   ]
  },
  {
   "attachments": {},
   "cell_type": "markdown",
   "id": "945a2973",
   "metadata": {},
   "source": [
    "This suggest global ground state is mostly occupied by excited state rather than ground state."
   ]
  },
  {
   "attachments": {},
   "cell_type": "markdown",
   "id": "98939111",
   "metadata": {},
   "source": [
    "# Comparison of two cases : 1) original Hamiltonian, 2) optimized Hamiltonian"
   ]
  },
  {
   "cell_type": "code",
   "execution_count": 27,
   "id": "e94bdc3a",
   "metadata": {},
   "outputs": [],
   "source": [
    "import sys\n",
    "sys.path.append(\"/home/user/project/python/reduce_nsp\")\n",
    "sys.path.append(\"/home/user/project/python/exact\")\n",
    "import nsp\n",
    "from jax_exact.core.constants import *\n",
    "import numpy as np\n",
    "\n",
    "from jax import numpy as jnp\n",
    "import jax\n",
    "\n",
    "bonds = [[0,0,2], [1,0,1], [2,0,3], [0,1,3], [1,1,0], [2,1,2], [0,2,0], [1,2,3], [2,2,1], [0,3,1], [1,3,2], [2,3,0]]\n",
    "_bonds = [[], [], []]\n",
    "for bond in bonds:\n",
    "    _bonds[bond[0]].append(bond[1:])"
   ]
  },
  {
   "cell_type": "code",
   "execution_count": 31,
   "id": "4f73db04",
   "metadata": {},
   "outputs": [],
   "source": [
    "H0 = -np.load(\"/home/user/project/python/make_local/array/KH/3site/none/Jx_1_Jy_1_Jz_1_hx_0_hz_0/H/0.npy\")\n",
    "H1 = -np.load(\"/home/user/project/python/make_local/array/KH/3site/none/Jx_1_Jy_1_Jz_1_hx_0_hz_0/H/1.npy\")\n",
    "H2 = -np.load(\"/home/user/project/python/make_local/array/KH/3site/none/Jx_1_Jy_1_Jz_1_hx_0_hz_0/H/2.npy\")\n",
    "u = np.load(\"/home/user/project/python/make_local/array/KH/3site/mes/Jx_1_Jy_1_Jz_1_hx_0_hz_0/M_240/u/0.npy\")\n",
    "\n",
    "H_list = [H0, H1, H2]\n",
    "SH_list = [\n",
    "    -nsp.utils.stoquastic(-H) for H in H_list\n",
    "]"
   ]
  },
  {
   "cell_type": "code",
   "execution_count": 45,
   "id": "41aa470c",
   "metadata": {},
   "outputs": [],
   "source": [
    "H0 = -np.load(\"/home/user/project/python/make_local/array/KH/3site/mes/Jx_1_Jy_1_Jz_1_hx_0_hz_0/M_240/H/0.npy\")\n",
    "H1 = -np.load(\"/home/user/project/python/make_local/array/KH/3site/mes/Jx_1_Jy_1_Jz_1_hx_0_hz_0/M_240/H/1.npy\")\n",
    "H2 = -np.load(\"/home/user/project/python/make_local/array/KH/3site/mes/Jx_1_Jy_1_Jz_1_hx_0_hz_0/M_240/H/2.npy\")\n",
    "\n",
    "OH_list = [H0, H1, H2] #* optimized Hamiltonian\n",
    "OSH_list = [\n",
    "    -nsp.utils.stoquastic(-H) for H in OH_list\n",
    "]"
   ]
  },
  {
   "cell_type": "code",
   "execution_count": 60,
   "id": "4debabe6",
   "metadata": {},
   "outputs": [],
   "source": [
    "SH = nsp.utils.sum_ham(SH_list[0], _bonds[0], 4, 8)\n",
    "SH += nsp.utils.sum_ham(SH_list[1], _bonds[1], 4, 8)\n",
    "SH += nsp.utils.sum_ham(SH_list[2], _bonds[2], 4, 8)\n",
    "SH = jnp.array(SH)\n",
    "SE, SV = jax.scipy.linalg.eigh(SH)\n",
    "\n",
    "\n",
    "OSH = nsp.utils.sum_ham(OSH_list[0], _bonds[0], 4, 8)\n",
    "OSH += nsp.utils.sum_ham(OSH_list[1], _bonds[1], 4, 8)\n",
    "OSH += nsp.utils.sum_ham(OSH_list[2], _bonds[2], 4, 8)\n",
    "OSH = jnp.array(OSH)\n",
    "OSE, OSV = jax.scipy.linalg.eigh(OSH)\n"
   ]
  },
  {
   "cell_type": "code",
   "execution_count": 48,
   "id": "74d3e6ea",
   "metadata": {},
   "outputs": [
    {
     "name": "stdout",
     "output_type": "stream",
     "text": [
      "gs energy of stoquastic Hamiltonian :  -8.195041\n",
      "gs energy of optimized stoquastic Hamiltonian :  -11.695035\n"
     ]
    }
   ],
   "source": [
    "print(\"gs energy of stoquastic Hamiltonian : \", SE[0])\n",
    "print(\"gs energy of optimized stoquastic Hamiltonian : \", OSE[0])"
   ]
  },
  {
   "attachments": {},
   "cell_type": "markdown",
   "id": "45f2bbbd",
   "metadata": {},
   "source": [
    "This is huge difference although the optimized Hamiltonian give a good result in terms of local ground state."
   ]
  },
  {
   "cell_type": "code",
   "execution_count": 51,
   "id": "d052a7ba",
   "metadata": {},
   "outputs": [
    {
     "name": "stdout",
     "output_type": "stream",
     "text": [
      "l = 0 / local stoquastic ene spectrum           = [-1.027 -0.879 -0.879 -0.846 -0.846]\n",
      "l = 0 / local optimized stoquastic ene spectrum = [-1.    -0.848 -0.848 -0.848 -0.848]\n",
      "l = 1 / local stoquastic ene spectrum           = [-1.027 -0.879 -0.879 -0.846 -0.846]\n",
      "l = 1 / local optimized stoquastic ene spectrum = [-1.    -0.848 -0.848 -0.848 -0.848]\n",
      "l = 2 / local stoquastic ene spectrum           = [-1.027 -0.879 -0.879 -0.846 -0.846]\n",
      "l = 2 / local optimized stoquastic ene spectrum = [-1.    -0.848 -0.848 -0.848 -0.848]\n"
     ]
    }
   ],
   "source": [
    "for l in range(3):\n",
    "    LSE = np.linalg.eigvalsh(SH_list[l])\n",
    "    LOSE = np.linalg.eigvalsh(OH_list[l])\n",
    "    print(f\"l = {l} / local stoquastic ene spectrum           = {np.round(LSE[:5],3)}\", )\n",
    "    print(f\"l = {l} / local optimized stoquastic ene spectrum = {np.round(LOSE[:5],3)}\", )"
   ]
  },
  {
   "attachments": {},
   "cell_type": "markdown",
   "id": "171dbdc0",
   "metadata": {},
   "source": [
    "It looks like just improving gs energy without any flaw.\n",
    "But as a matter of fact, and as you already confirmed in the above cells, the global ground eneryg is rather high."
   ]
  },
  {
   "attachments": {},
   "cell_type": "markdown",
   "id": "001564ba",
   "metadata": {},
   "source": [
    "### hamiltonian index = 1"
   ]
  },
  {
   "cell_type": "code",
   "execution_count": 96,
   "id": "478a65cc",
   "metadata": {},
   "outputs": [
    {
     "name": "stdout",
     "output_type": "stream",
     "text": [
      "i=0 original / similarity : 0.327 / ene : -1.03/ ene_sum : -0.336\n",
      "   optimized / similarity : 0.14 / ene : -1.0/ ene_sum : -0.14\n",
      "\n",
      "i=1 original / similarity : 0.15 / ene : -0.879/ ene_sum : -0.468\n",
      "   optimized / similarity : 0.376 / ene : -0.979/ ene_sum : -0.508\n",
      "\n",
      "i=2 original / similarity : 0.15 / ene : -0.879/ ene_sum : -0.6\n",
      "   optimized / similarity : 0.347 / ene : -0.954/ ene_sum : -0.84\n",
      "\n",
      "i=3 original / similarity : 0.00827 / ene : -0.846/ ene_sum : -0.607\n",
      "   optimized / similarity : 0.121 / ene : -0.923/ ene_sum : -0.952\n",
      "\n",
      "i=4 original / similarity : 0.0144 / ene : -0.846/ ene_sum : -0.619\n",
      "   optimized / similarity : 3.23e-05 / ene : -0.848/ ene_sum : -0.952\n",
      "\n",
      "i=5 original / similarity : 0.00207 / ene : -0.845/ ene_sum : -0.621\n",
      "   optimized / similarity : 8.19e-05 / ene : -0.827/ ene_sum : -0.952\n",
      "\n",
      "i=6 original / similarity : 0.00207 / ene : -0.845/ ene_sum : -0.623\n",
      "   optimized / similarity : 7.8e-05 / ene : -0.804/ ene_sum : -0.952\n",
      "\n",
      "exp energy of single local hamiltonian:  -0.6829196213414735\n",
      "exp energy of optimized local hamiltonian:  -0.961480118586305\n"
     ]
    }
   ],
   "source": [
    "\n",
    "x = SV[:,0].copy()\n",
    "r = x.reshape(2**6, -1)\n",
    "Srho = np.einsum(\"im,jm->ij\", r, r)\n",
    "Srho = (Srho + Srho.T)/2\n",
    "LSE, LSV = np.linalg.eigh(SH_list[l])\n",
    "\n",
    "x = OSV[:,0].copy()\n",
    "r = x.reshape(2**6, -1)\n",
    "OSrho = np.einsum(\"im,jm->ij\", r, r)\n",
    "OSrho = (OSrho + OSrho.T)/2\n",
    "LOSE, LOSV = np.linalg.eigh(OSH_list[l])\n",
    "\n",
    "ene_sum = 0\n",
    "opt_ene_sum = 0\n",
    "for i in range(len(LSE)):\n",
    "    ene_sum += LSE[i] * (LSV[:,i] @ Srho @ LSV[:,i])\n",
    "    opt_ene_sum += LOSE[i] * (LOSV[:,i] @ OSrho @ LOSV[:,i])\n",
    "    if (i < 7):\n",
    "        # print(f\"                energy : {ene_sum:.3} / optimized : {opt_ene_sum:.3}\")\n",
    "        print(f\"i={i} original / similarity : {LSV[:,i] @ Srho @ LSV[:,i]:.3} / ene : {LSE[i]:.3}/ ene_sum : {ene_sum:.3}\")\n",
    "        print(f\"   optimized / similarity : {LOSV[:,i] @ OSrho @ LOSV[:,i]:.3} / ene : {LOSE[i]:.3}/ ene_sum : {opt_ene_sum:.3}\")\n",
    "                            \n",
    "        print(\"\")\n",
    "print(\"exp energy of single local hamiltonian: \", ene_sum)\n",
    "print(\"exp energy of optimized local hamiltonian: \", opt_ene_sum)"
   ]
  },
  {
   "attachments": {},
   "cell_type": "markdown",
   "id": "08fc2fd0",
   "metadata": {},
   "source": [
    "### Hamiltonian index = 2"
   ]
  },
  {
   "cell_type": "code",
   "execution_count": 99,
   "id": "2f1403e3",
   "metadata": {},
   "outputs": [
    {
     "name": "stdout",
     "output_type": "stream",
     "text": [
      "i=0 original / similarity : 0.327 / ene : -1.03/ ene_sum : -0.336\n",
      "   optimized / similarity : 0.998 / ene : -1.0/ ene_sum : -1.0\n",
      "\n",
      "i=1 original / similarity : 0.15 / ene : -0.879/ ene_sum : -0.468\n",
      "   optimized / similarity : 6.84e-07 / ene : -1.0/ ene_sum : -1.0\n",
      "\n",
      "i=2 original / similarity : 0.15 / ene : -0.879/ ene_sum : -0.6\n",
      "   optimized / similarity : 5.29e-08 / ene : -0.849/ ene_sum : -1.0\n",
      "\n",
      "i=3 original / similarity : 0.0113 / ene : -0.846/ ene_sum : -0.61\n",
      "   optimized / similarity : 0.000893 / ene : -0.849/ ene_sum : -1.0\n",
      "\n",
      "i=4 original / similarity : 0.0113 / ene : -0.846/ ene_sum : -0.619\n",
      "   optimized / similarity : 6.01e-08 / ene : -0.848/ ene_sum : -1.0\n",
      "\n",
      "i=5 original / similarity : 0.00207 / ene : -0.845/ ene_sum : -0.621\n",
      "   optimized / similarity : 3.4e-08 / ene : -0.848/ ene_sum : -1.0\n",
      "\n",
      "i=6 original / similarity : 0.00207 / ene : -0.845/ ene_sum : -0.623\n",
      "   optimized / similarity : 5.34e-07 / ene : -0.728/ ene_sum : -1.0\n",
      "\n",
      "exp energy of single local hamiltonian:  -0.6829196042047745\n",
      "exp energy of optimized local hamiltonian:  -1.0008349454074406\n"
     ]
    }
   ],
   "source": [
    "\n",
    "l = 2\n",
    "x = SV[:,0].copy()\n",
    "x = x.reshape([2]*12)\n",
    "x = x.transpose([0,1,2,9,10,11,3,4,5,6,7,8]) # for l = 2\n",
    "r = x.reshape(2**6, -1)\n",
    "Srho = np.einsum(\"im,jm->ij\", r, r)\n",
    "Srho = (Srho + Srho.T)/2\n",
    "LSE, LSV = np.linalg.eigh(SH_list[l])\n",
    "\n",
    "x = OSV[:,0].copy()\n",
    "x = x.reshape([2]*12)\n",
    "x = x.transpose([0,1,2,9,10,11,3,4,5,6,7,8]) # for l = 2\n",
    "r = x.reshape(2**6, -1)\n",
    "OSrho = np.einsum(\"im,jm->ij\", r, r)\n",
    "OSrho = (OSrho + OSrho.T)/2\n",
    "LOSE, LOSV = np.linalg.eigh(OSH_list[l])\n",
    "\n",
    "ene_sum = 0\n",
    "opt_ene_sum = 0\n",
    "for i in range(len(LSE)):\n",
    "    ene_sum += LSE[i] * (LSV[:,i] @ Srho @ LSV[:,i])\n",
    "    opt_ene_sum += LOSE[i] * (LOSV[:,i] @ OSrho @ LOSV[:,i])\n",
    "    if (i < 7):\n",
    "        # print(f\"                energy : {ene_sum:.3} / optimized : {opt_ene_sum:.3}\")\n",
    "        print(f\"i={i} original / similarity : {LSV[:,i] @ Srho @ LSV[:,i]:.3} / ene : {LSE[i]:.3}/ ene_sum : {ene_sum:.3}\")\n",
    "        print(f\"   optimized / similarity : {LOSV[:,i] @ OSrho @ LOSV[:,i]:.3} / ene : {LOSE[i]:.3}/ ene_sum : {opt_ene_sum:.3}\")\n",
    "                            \n",
    "        print(\"\")\n",
    "print(\"exp energy of single local hamiltonian: \", ene_sum)\n",
    "print(\"exp energy of optimized local hamiltonian: \", opt_ene_sum)"
   ]
  },
  {
   "attachments": {},
   "cell_type": "markdown",
   "id": "eeb2c41c",
   "metadata": {},
   "source": [
    "Above result shows exitation states largely contribute to global ground state energy. (only ground state contributes for l=2)"
   ]
  },
  {
   "cell_type": "markdown",
   "id": "bb75509b",
   "metadata": {},
   "source": []
  }
 ],
 "metadata": {
  "kernelspec": {
   "display_name": "py39",
   "language": "python",
   "name": "python3"
  },
  "language_info": {
   "codemirror_mode": {
    "name": "ipython",
    "version": 3
   },
   "file_extension": ".py",
   "mimetype": "text/x-python",
   "name": "python",
   "nbconvert_exporter": "python",
   "pygments_lexer": "ipython3",
   "version": "3.9.16"
  },
  "vscode": {
   "interpreter": {
    "hash": "635093cb382d24e7bb09df67eef84e97b3e0429c00b0294b3c9882ac411b8a1a"
   }
  }
 },
 "nbformat": 4,
 "nbformat_minor": 5
}
