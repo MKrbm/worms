{
 "cells": [
  {
   "cell_type": "code",
   "execution_count": 2,
   "id": "0f9ac0cd",
   "metadata": {},
   "outputs": [],
   "source": [
    "import pandas as pd\n",
    "import numpy as np"
   ]
  },
  {
   "cell_type": "code",
   "execution_count": 3,
   "id": "7c8b2bd8",
   "metadata": {},
   "outputs": [],
   "source": [
    "# %run -i \"../solve_jax.py\" -m KH -L1 2 \n",
    "#* you can run the python executable directly and can use the same arguments defined in the executable"
   ]
  },
  {
   "cell_type": "code",
   "execution_count": 110,
   "id": "c05b3010",
   "metadata": {},
   "outputs": [],
   "source": [
    "spins = [2] * 12\n",
    "groundstate = np.load(\"out/KH_2x2/Jx_1_Jy_1_Jz_1_h_0/groundstate.npy\")\n",
    "groundstate = groundstate.reshape(spins)\n",
    "x = groundstate.copy()"
   ]
  },
  {
   "attachments": {},
   "cell_type": "markdown",
   "id": "804defc2",
   "metadata": {},
   "source": [
    "## Check if the transition symmetry is correct"
   ]
  },
  {
   "cell_type": "code",
   "execution_count": 80,
   "id": "b0d9279a",
   "metadata": {},
   "outputs": [
    {
     "name": "stdout",
     "output_type": "stream",
     "text": [
      "difference of partial trace :  1.4910943e-07\n"
     ]
    }
   ],
   "source": [
    "r1 = x.reshape(2**3, -1)\n",
    "r2 = x.transpose([6,7,8,9,10,11,0,1,2,3,4,5]).reshape(2**3, -1)\n",
    "partial_trace1 = np.einsum(\"im,jm->ij\", r1, r1)\n",
    "partial_trace2 = np.einsum(\"im,jm->ij\", r2, r2)\n",
    "print(\"difference of partial trace : \", np.linalg.norm(partial_trace1 - partial_trace2))\n",
    "rho = partial_trace1\n",
    "rho = (rho + rho.T)/2 #* make sure rho is Hermitian ( moreover, it should be positive semi-definite )"
   ]
  },
  {
   "attachments": {},
   "cell_type": "markdown",
   "id": "b712de86",
   "metadata": {},
   "source": [
    "## Conduct eigen decomposition"
   ]
  },
  {
   "cell_type": "code",
   "execution_count": 91,
   "id": "cb94bcae",
   "metadata": {},
   "outputs": [
    {
     "name": "stdout",
     "output_type": "stream",
     "text": [
      "sum of eigenvalues =  1.0000002\n",
      "All eigenvalues are positive :  True\n",
      "recreate from eigenvalues and vectors / diff :  3.5450057e-08\n"
     ]
    }
   ],
   "source": [
    "E, V = np.linalg.eigh(rho)\n",
    "print(\"sum of eigenvalues = \",E.sum()) #* should be 1\n",
    "print(\"All eigenvalues are positive : \", (E>=0).all())\n",
    "print(\"recreate from eigenvalues and vectors / diff : \",np.linalg.norm(V @ np.diag(E) @ V.T - rho)) #* should be zero"
   ]
  },
  {
   "attachments": {},
   "cell_type": "markdown",
   "id": "b0665ea1",
   "metadata": {},
   "source": [
    "### Check overwrap with local ground state\n",
    "\n",
    "- #### Partical Trace for n = 6,7,8,9,10,11\n"
   ]
  },
  {
   "cell_type": "code",
   "execution_count": 111,
   "id": "a956080c",
   "metadata": {},
   "outputs": [
    {
     "name": "stdout",
     "output_type": "stream",
     "text": [
      "check trace :  1.0000002\n"
     ]
    }
   ],
   "source": [
    "x = groundstate.copy()\n",
    "r = x.reshape(2**6, -1)\n",
    "rho = np.einsum(\"im,jm->ij\", r, r)\n",
    "rho = (rho + rho.T)/2\n",
    "print(\"check trace : \", rho.trace())"
   ]
  },
  {
   "attachments": {},
   "cell_type": "markdown",
   "id": "84a94ba2",
   "metadata": {},
   "source": [
    "#### Original Hamiltonian\n",
    "\n",
    "\n",
    "H1 is local hamiltonian between triangle (0,1,2) and (3,4,5)\n"
   ]
  },
  {
   "cell_type": "code",
   "execution_count": 130,
   "id": "d9d20c54",
   "metadata": {},
   "outputs": [],
   "source": [
    "# minus is for compenstating the minus sign in the stores local Hamiltonian\n",
    "H0 = -np.load(\"/home/user/project/python/make_local/array/KH/3site/none/Jx_1_Jy_1_Jz_1_hx_0_hz_0/H/0.npy\")\n",
    "H1 = -np.load(\"/home/user/project/python/make_local/array/KH/3site/none/Jx_1_Jy_1_Jz_1_hx_0_hz_0/H/1.npy\")\n",
    "H2 = -np.load(\"/home/user/project/python/make_local/array/KH/3site/none/Jx_1_Jy_1_Jz_1_hx_0_hz_0/H/2.npy\")\n",
    "E0, V0 = np.linalg.eigh(H0)\n",
    "E1, V1 = np.linalg.eigh(H1)\n",
    "E2, V2 = np.linalg.eigh(H2)\n",
    "for i in range(20):\n",
    "    print(f\"{i}th local ground state\" ,V1[:,i] @ rho @ V1[:,i]) "
   ]
  },
  {
   "attachments": {},
   "cell_type": "markdown",
   "id": "f8618290",
   "metadata": {},
   "source": [
    "#### Check overwarpping with stochastic local ground state with local ground state"
   ]
  },
  {
   "cell_type": "code",
   "execution_count": 145,
   "id": "2d605f00",
   "metadata": {},
   "outputs": [],
   "source": [
    "import sys\n",
    "sys.path.append(\"/home/user/project/python/reduce_nsp\")\n",
    "import nsp\n",
    "SH1 = -nsp.utils.stoquastic(-H1) #* make all-off-diagonal elements negative\n",
    "SE1, SV1 = np.linalg.eigh(SH1)"
   ]
  },
  {
   "attachments": {},
   "cell_type": "markdown",
   "id": "9a851e6b",
   "metadata": {},
   "source": [
    "since stoquastic local ground state can be all positive vector, and try to be the same vector up to sign of its elements, inner product of the two vectors can be good measure of optimization.\n",
    "\n",
    "- Of course, you can compare it with their ground energy."
   ]
  },
  {
   "cell_type": "code",
   "execution_count": 149,
   "id": "7af88205",
   "metadata": {},
   "outputs": [
    {
     "name": "stdout",
     "output_type": "stream",
     "text": [
      "0.985526456763024\n",
      "0.026504056397945175\n"
     ]
    }
   ],
   "source": [
    "print(np.abs(SV1[:,0]) @ np.abs(V1[:,0]) )\n",
    "print(abs(SE1[0]-E1[0]))"
   ]
  },
  {
   "attachments": {},
   "cell_type": "markdown",
   "id": "88076d47",
   "metadata": {},
   "source": [
    "This is really good result, which means local hamiltonian almost doesn't have negative sign. \n",
    "Next compare for Partical Diagonalized Hamiltonian"
   ]
  },
  {
   "cell_type": "code",
   "execution_count": 158,
   "id": "d8164359",
   "metadata": {},
   "outputs": [],
   "source": [
    "# minus is for compenstating the minus sign in the stores local Hamiltonian\n",
    "H0 = -np.load(\"/home/user/project/python/make_local/array/KH/3siteDiag/none/Jx_1_Jy_1_Jz_1_hx_0_hz_0/H/0.npy\")\n",
    "H1 = -np.load(\"/home/user/project/python/make_local/array/KH/3siteDiag/none/Jx_1_Jy_1_Jz_1_hx_0_hz_0/H/1.npy\")\n",
    "H2 = -np.load(\"/home/user/project/python/make_local/array/KH/3siteDiag/none/Jx_1_Jy_1_Jz_1_hx_0_hz_0/H/2.npy\")\n",
    "E0, V0 = np.linalg.eigh(H0)\n",
    "E1, V1 = np.linalg.eigh(H1)\n",
    "E2, V2 = np.linalg.eigh(H2)"
   ]
  },
  {
   "attachments": {},
   "cell_type": "markdown",
   "id": "f196f1f8",
   "metadata": {},
   "source": [
    "### Optimized Hamiltonian"
   ]
  },
  {
   "cell_type": "code",
   "execution_count": 218,
   "id": "8928e113",
   "metadata": {},
   "outputs": [
    {
     "name": "stdout",
     "output_type": "stream",
     "text": [
      "local 0th\n",
      "0.9999349078484887 0.00034916060574463614\n",
      "local 1th\n",
      "0.9999283544467124 0.0002446148999630804\n",
      "local 2th\n",
      "0.7072735320822696 0.0017438369396829412\n"
     ]
    }
   ],
   "source": [
    "import numpy as np\n",
    "# minus is for compenstating the minus sign in the stores local Hamiltonian\n",
    "H0 = -np.load(\"/home/user/project/python/make_local/array/KH/3site/mes/Jx_1_Jy_1_Jz_1_hx_0_hz_0/M_240/H/0.npy\")\n",
    "H1 = -np.load(\"/home/user/project/python/make_local/array/KH/3site/mes/Jx_1_Jy_1_Jz_1_hx_0_hz_0/M_240/H/1.npy\")\n",
    "H2 = -np.load(\"/home/user/project/python/make_local/array/KH/3site/mes/Jx_1_Jy_1_Jz_1_hx_0_hz_0/M_240/H/2.npy\")\n",
    "u = np.load(\"/home/user/project/python/make_local/array/KH/3site/mes/Jx_1_Jy_1_Jz_1_hx_0_hz_0/M_240/u/0.npy\")\n",
    "\n",
    "H_list = [H0, H1, H2]\n",
    "SH_list = [\n",
    "    -nsp.utils.stoquastic(-H) for H in H_list\n",
    "]\n",
    "\n",
    "# E0, V0 = np.linalg.eigh(H0)\n",
    "# E1, V1 = np.linalg.eigh(H1)\n",
    "# E2, V2 = np.linalg.eigh(H2)\n",
    "\n",
    "# SE, SV = np.linalg.eigh(SH_list[1])\n",
    "\n",
    "for l in range(3):\n",
    "    E, V = np.linalg.eigh(H_list[l])\n",
    "    SE, SV = np.linalg.eigh(SH_list[l])\n",
    "    print(f\"local {l}th\")\n",
    "    print(np.abs(SV[:,0]) @ np.abs(V[:,0]), abs(SE[0]-E[0]))"
   ]
  },
  {
   "attachments": {},
   "cell_type": "markdown",
   "id": "c86a9457",
   "metadata": {},
   "source": [
    "Check if the Local Hamiltonian is expressed by unitary matrix"
   ]
  },
  {
   "cell_type": "code",
   "execution_count": 190,
   "id": "a7e95d47",
   "metadata": {},
   "outputs": [
    {
     "data": {
      "text/plain": [
       "6.213945649735919e-14"
      ]
     },
     "execution_count": 190,
     "metadata": {},
     "output_type": "execute_result"
    }
   ],
   "source": [
    "OH0 = -np.load(\"/home/user/project/python/make_local/array/KH/3site/none/Jx_1_Jy_1_Jz_1_hx_0_hz_0/H/0.npy\")\n",
    "OE0, OV0 = np.linalg.eigh(OH0)\n",
    "np.linalg.norm(np.kron(u,u) @ H0 @ np.kron(u,u).T - OH0)"
   ]
  },
  {
   "attachments": {},
   "cell_type": "markdown",
   "id": "ab8d4fb5",
   "metadata": {},
   "source": [
    "# Servey with Exact Diagonalization"
   ]
  },
  {
   "cell_type": "code",
   "execution_count": 1,
   "id": "c8a317d3",
   "metadata": {},
   "outputs": [
    {
     "name": "stderr",
     "output_type": "stream",
     "text": [
      "/home/user/miniconda3/envs/py39/lib/python3.9/site-packages/tqdm/auto.py:22: TqdmWarning: IProgress not found. Please update jupyter and ipywidgets. See https://ipywidgets.readthedocs.io/en/stable/user_install.html\n",
      "  from .autonotebook import tqdm as notebook_tqdm\n"
     ]
    }
   ],
   "source": [
    "import sys\n",
    "sys.path.append(\"/home/user/project/python/reduce_nsp\")\n",
    "sys.path.append(\"/home/user/project/python/exact\")\n",
    "import nsp\n",
    "from jax_exact.core.constants import *\n",
    "import numpy as np"
   ]
  },
  {
   "attachments": {},
   "cell_type": "markdown",
   "id": "dd460676",
   "metadata": {},
   "source": [
    "### Test original Hamiltonian"
   ]
  },
  {
   "cell_type": "code",
   "execution_count": 3,
   "id": "2dbedb13",
   "metadata": {},
   "outputs": [],
   "source": [
    "\n",
    "# minus is for compenstating the minus sign in the stores local Hamiltonian\n",
    "H0 = -np.load(\"/home/user/project/python/make_local/array/KH/3site/none/Jx_1_Jy_1_Jz_1_hx_0_hz_0/H/0.npy\")\n",
    "H1 = -np.load(\"/home/user/project/python/make_local/array/KH/3site/none/Jx_1_Jy_1_Jz_1_hx_0_hz_0/H/1.npy\")\n",
    "H2 = -np.load(\"/home/user/project/python/make_local/array/KH/3site/none/Jx_1_Jy_1_Jz_1_hx_0_hz_0/H/2.npy\")\n",
    "\n",
    "H_list = [H0, H1, H2]\n",
    "SH_list = [\n",
    "    -nsp.utils.stoquastic(-H) for H in H_list\n",
    "]\n",
    "\n",
    "\n",
    "\n",
    "\n",
    "bonds = [[0,0,2], [1,0,1], [2,0,3], [0,1,3], [1,1,0], [2,1,2], [0,2,0], [1,2,3], [2,2,1], [0,3,1], [1,3,2], [2,3,0]]\n",
    "_bonds = [[], [], []]\n",
    "for bond in bonds:\n",
    "    _bonds[bond[0]].append(bond[1:])\n"
   ]
  },
  {
   "attachments": {},
   "cell_type": "markdown",
   "id": "d2516089",
   "metadata": {},
   "source": [
    "#### Pure hamiltonian"
   ]
  },
  {
   "cell_type": "code",
   "execution_count": 4,
   "id": "df353a23",
   "metadata": {},
   "outputs": [],
   "source": [
    "_H = nsp.utils.sum_ham(H_list[0], _bonds[0], 4, 8)\n",
    "_H += nsp.utils.sum_ham(H_list[1], _bonds[1], 4, 8)\n",
    "_H += nsp.utils.sum_ham(H_list[2], _bonds[2], 4, 8)\n",
    "\n",
    "from jax import numpy as jnp\n",
    "import jax\n",
    "_H = jnp.array(_H)\n",
    "_E, _V = jax.scipy.linalg.eigh(_H)\n",
    "\n"
   ]
  },
  {
   "cell_type": "code",
   "execution_count": 5,
   "id": "6a6b6f5c",
   "metadata": {},
   "outputs": [
    {
     "name": "stdout",
     "output_type": "stream",
     "text": [
      "l = 0 / innder product of eigenvector [0] :  0.20229731150902824\n",
      "l = 1 / innder product of eigenvector [0] :  0.20229698950424807\n",
      "l = 2 / innder product of eigenvector [0] :  0.20229675550945114\n"
     ]
    }
   ],
   "source": [
    "i = 0\n",
    "x = _V[:,0].copy()\n",
    "x = x.reshape([2]*12)\n",
    "x = x.transpose([0,1,2,6,7,8,3,4,5,9,10,11]) # for l = 0\n",
    "l = 0\n",
    "r = x.reshape(2**6, -1)\n",
    "rho = np.einsum(\"im,jm->ij\", r, r)\n",
    "rho = (rho + rho.T)/2\n",
    "LE, LV = np.linalg.eigh(H_list[l])\n",
    "print(f\"l = 0 / innder product of eigenvector [{i}] : \",LV[:,i] @ rho @ LV[:,i])\n",
    "\n",
    "x = _V[:,0].copy()\n",
    "l = 1\n",
    "r = x.reshape(2**6, -1)\n",
    "rho = np.einsum(\"im,jm->ij\", r, r)\n",
    "rho = (rho + rho.T)/2\n",
    "LE, LV = np.linalg.eigh(H_list[l])\n",
    "print(f\"l = 1 / innder product of eigenvector [{i}] : \",LV[:,i] @ rho @ LV[:,i])\n",
    "\n",
    "x = _V[:,0].copy()\n",
    "x = x.reshape([2]*12)\n",
    "x = x.transpose([0,1,2,9,10,11,3,4,5,6,7,8]) # for l = 2\n",
    "l = 2\n",
    "r = x.reshape(2**6, -1)\n",
    "rho = np.einsum(\"im,jm->ij\", r, r)\n",
    "rho = (rho + rho.T)/2\n",
    "LE, LV = np.linalg.eigh(H_list[l])\n",
    "print(f\"l = 2 / innder product of eigenvector [{i}] : \",LV[:,i] @ rho @ LV[:,i])"
   ]
  },
  {
   "attachments": {},
   "cell_type": "markdown",
   "id": "5fac3fc2",
   "metadata": {},
   "source": [
    "The above show that global ground state is covered by local ground state to some extent."
   ]
  },
  {
   "attachments": {},
   "cell_type": "markdown",
   "id": "2387c7dd",
   "metadata": {},
   "source": [
    "#### Stoquastic hamiltonian"
   ]
  },
  {
   "cell_type": "code",
   "execution_count": 6,
   "id": "22c8905c",
   "metadata": {},
   "outputs": [],
   "source": [
    "_SH = nsp.utils.sum_ham(SH_list[0], _bonds[0], 4, 8)\n",
    "_SH += nsp.utils.sum_ham(SH_list[1], _bonds[1], 4, 8)\n",
    "_SH += nsp.utils.sum_ham(SH_list[2], _bonds[2], 4, 8)\n",
    "\n",
    "from jax import numpy as jnp\n",
    "import jax\n",
    "_SH = jnp.array(_SH)\n",
    "_SE, _SV = jax.scipy.linalg.eigh(_SH)"
   ]
  },
  {
   "cell_type": "code",
   "execution_count": 8,
   "id": "da4d4b6c",
   "metadata": {},
   "outputs": [
    {
     "name": "stdout",
     "output_type": "stream",
     "text": [
      "Inner product of ground state -0.8145067\n"
     ]
    }
   ],
   "source": [
    "print(\"Inner product of ground state\", _SV[:,0] @ jnp.abs(_V[:,0]))"
   ]
  },
  {
   "attachments": {},
   "cell_type": "markdown",
   "id": "07710025",
   "metadata": {},
   "source": [
    "### Test optimized Hamiltonian"
   ]
  },
  {
   "cell_type": "code",
   "execution_count": 10,
   "id": "2ba0f6ff",
   "metadata": {},
   "outputs": [],
   "source": [
    "import sys\n",
    "sys.path.append(\"/home/user/project/python/reduce_nsp\")\n",
    "sys.path.append(\"/home/user/project/python/exact\")\n",
    "from jax_exact.core.constants import *\n",
    "import numpy as np\n",
    "# minus is for compenstating the minus sign in the stores local Hamiltonian\n",
    "H0 = -np.load(\"/home/user/project/python/make_local/array/KH/3site/mes/Jx_1_Jy_1_Jz_1_hx_0_hz_0/M_240/H/0.npy\")\n",
    "H1 = -np.load(\"/home/user/project/python/make_local/array/KH/3site/mes/Jx_1_Jy_1_Jz_1_hx_0_hz_0/M_240/H/1.npy\")\n",
    "H2 = -np.load(\"/home/user/project/python/make_local/array/KH/3site/mes/Jx_1_Jy_1_Jz_1_hx_0_hz_0/M_240/H/2.npy\")\n",
    "\n",
    "H_list = [H0, H1, H2]\n",
    "SH_list = [\n",
    "    -nsp.utils.stoquastic(-H) for H in H_list\n",
    "]\n",
    "\n",
    "\n",
    "\n",
    "\n",
    "bonds = [[0,0,2], [1,0,1], [2,0,3], [0,1,3], [1,1,0], [2,1,2], [0,2,0], [1,2,3], [2,2,1], [0,3,1], [1,3,2], [2,3,0]]\n",
    "_bonds = [[], [], []]\n",
    "for bond in bonds:\n",
    "    _bonds[bond[0]].append(bond[1:])\n"
   ]
  },
  {
   "attachments": {},
   "cell_type": "markdown",
   "id": "dc01fafc",
   "metadata": {},
   "source": [
    "#### Pure hamiltonian"
   ]
  },
  {
   "cell_type": "code",
   "execution_count": 11,
   "id": "25b3f139",
   "metadata": {},
   "outputs": [],
   "source": [
    "_H = nsp.utils.sum_ham(H_list[0], _bonds[0], 4, 8)\n",
    "_H += nsp.utils.sum_ham(H_list[1], _bonds[1], 4, 8)\n",
    "_H += nsp.utils.sum_ham(H_list[2], _bonds[2], 4, 8)\n",
    "\n",
    "from jax import numpy as jnp\n",
    "import jax\n",
    "_H = jnp.array(_H)\n",
    "_E, _V = jax.scipy.linalg.eigh(_H)\n"
   ]
  },
  {
   "attachments": {},
   "cell_type": "markdown",
   "id": "22c1b202",
   "metadata": {},
   "source": [
    "#### Stoquastic hamiltonian"
   ]
  },
  {
   "cell_type": "code",
   "execution_count": 12,
   "id": "41e0607d",
   "metadata": {},
   "outputs": [],
   "source": [
    "_SH = nsp.utils.sum_ham(SH_list[0], _bonds[0], 4, 8)\n",
    "_SH += nsp.utils.sum_ham(SH_list[1], _bonds[1], 4, 8)\n",
    "_SH += nsp.utils.sum_ham(SH_list[2], _bonds[2], 4, 8)\n",
    "\n",
    "from jax import numpy as jnp\n",
    "import jax\n",
    "_SH = jnp.array(_SH)\n",
    "_SE, _SV = jax.scipy.linalg.eigh(_SH)"
   ]
  },
  {
   "cell_type": "code",
   "execution_count": 13,
   "id": "e49e2903",
   "metadata": {},
   "outputs": [
    {
     "name": "stdout",
     "output_type": "stream",
     "text": [
      "Inner product of ground state 0.4446661\n"
     ]
    }
   ],
   "source": [
    "print(\"Inner product of ground state\", _SV[:,0] @ jnp.abs(_V[:,0]))"
   ]
  },
  {
   "attachments": {},
   "cell_type": "markdown",
   "id": "b77ad215",
   "metadata": {},
   "source": [
    "Check overlapping of stoquastic local ground state with stoquastic global ground state"
   ]
  },
  {
   "cell_type": "code",
   "execution_count": 14,
   "id": "7ace8a69",
   "metadata": {},
   "outputs": [
    {
     "name": "stdout",
     "output_type": "stream",
     "text": [
      "l = 0 / innder product of eigenvector [0] :  0.13976965871283176\n",
      "local stoquastic energy of ground state : -1.000349160605744\n",
      "--------------------\n",
      "l = 1 / innder product of eigenvector [0] :  0.14017802137647267\n",
      "local stoquastic energy of ground state : -1.000244614899966\n",
      "--------------------\n",
      "l = 2 / innder product of eigenvector [0] :  0.9984060123397892\n",
      "local stoquastic energy of ground state : -1.0017438369396832\n",
      "--------------------\n"
     ]
    }
   ],
   "source": [
    "i = 0\n",
    "x = _SV[:,0].copy()\n",
    "x = x.reshape([2]*12)\n",
    "x = x.transpose([0,1,2,6,7,8,3,4,5,9,10,11]) # for l = 0\n",
    "l = 0\n",
    "r = x.reshape(2**6, -1)\n",
    "Srho = np.einsum(\"im,jm->ij\", r, r)\n",
    "Srho = (Srho + Srho.T)/2\n",
    "LSE, LSV = np.linalg.eigh(SH_list[l])\n",
    "print(f\"l = 0 / innder product of eigenvector [{i}] : \",LSV[:,i] @ Srho @ LSV[:,i])\n",
    "print(f\"local stoquastic energy of ground state : {LSE[0]}\")\n",
    "print(\"-\"*20)\n",
    "x = _SV[:,0].copy()\n",
    "l = 1\n",
    "r = x.reshape(2**6, -1)\n",
    "Srho = np.einsum(\"im,jm->ij\", r, r)\n",
    "Srho = (Srho + Srho.T)/2\n",
    "LSE, LSV = np.linalg.eigh(SH_list[l])\n",
    "print(f\"l = 1 / innder product of eigenvector [{i}] : \",LSV[:,i] @ Srho @ LSV[:,i])\n",
    "print(f\"local stoquastic energy of ground state : {LSE[0]}\")\n",
    "print(\"-\"*20)\n",
    "\n",
    "x = _SV[:,0].copy()\n",
    "x = x.reshape([2]*12)\n",
    "x = x.transpose([0,1,2,9,10,11,3,4,5,6,7,8]) # for l = 2\n",
    "l = 2\n",
    "r = x.reshape(2**6, -1)\n",
    "Srho = np.einsum(\"im,jm->ij\", r, r)\n",
    "Srho = (Srho + Srho.T)/2\n",
    "LSE, LSV = np.linalg.eigh(SH_list[l])\n",
    "print(f\"l = 2 / innder product of eigenvector [{i}] : \",LSV[:,i] @ Srho @ LSV[:,i])\n",
    "print(f\"local stoquastic energy of ground state : {LSE[0]}\")\n",
    "print(\"-\"*20)\n"
   ]
  },
  {
   "attachments": {},
   "cell_type": "markdown",
   "id": "baa955d8",
   "metadata": {},
   "source": [
    "This suggests that the wors optimized local hamiltonian amoung three behave badly, leading huge gap between global ground state energy?"
   ]
  },
  {
   "cell_type": "code",
   "execution_count": null,
   "id": "97557de2",
   "metadata": {},
   "outputs": [],
   "source": []
  },
  {
   "attachments": {},
   "cell_type": "markdown",
   "id": "a83d81a9",
   "metadata": {},
   "source": [
    "### Test optimized Hamiltonian in modified scheme (take minimum of three)"
   ]
  },
  {
   "cell_type": "code",
   "execution_count": 64,
   "id": "70fdaee5",
   "metadata": {},
   "outputs": [],
   "source": [
    "import sys\n",
    "sys.path.append(\"/home/user/project/python/reduce_nsp\")\n",
    "sys.path.append(\"/home/user/project/python/exact\")\n",
    "from jax_exact.core.constants import *\n",
    "import numpy as np\n",
    "# minus is for compenstating the minus sign in the stores local Hamiltonian\n",
    "H0 = -np.load(\"/home/user/project/python/make_local/array/KH/3site/mes/Jx_1_Jy_1_Jz_1_hx_0_hz_0/M_244/H/0.npy\")\n",
    "H1 = -np.load(\"/home/user/project/python/make_local/array/KH/3site/mes/Jx_1_Jy_1_Jz_1_hx_0_hz_0/M_244/H/1.npy\")\n",
    "H2 = -np.load(\"/home/user/project/python/make_local/array/KH/3site/mes/Jx_1_Jy_1_Jz_1_hx_0_hz_0/M_244/H/2.npy\")\n",
    "\n",
    "H_list = [H0, H1, H2]\n",
    "SH_list = [\n",
    "    -nsp.utils.stoquastic(-H) for H in H_list\n",
    "]\n",
    "\n",
    "\n",
    "\n",
    "\n",
    "bonds = [[0,0,2], [1,0,1], [2,0,3], [0,1,3], [1,1,0], [2,1,2], [0,2,0], [1,2,3], [2,2,1], [0,3,1], [1,3,2], [2,3,0]]\n",
    "_bonds = [[], [], []]\n",
    "for bond in bonds:\n",
    "    _bonds[bond[0]].append(bond[1:])\n"
   ]
  },
  {
   "cell_type": "markdown",
   "id": "ff622e49",
   "metadata": {},
   "source": [
    "#### Pure hamiltonian"
   ]
  },
  {
   "cell_type": "code",
   "execution_count": 65,
   "id": "bd6bdeab",
   "metadata": {},
   "outputs": [],
   "source": [
    "_H = nsp.utils.sum_ham(H_list[0], _bonds[0], 4, 8)\n",
    "_H += nsp.utils.sum_ham(H_list[1], _bonds[1], 4, 8)\n",
    "_H += nsp.utils.sum_ham(H_list[2], _bonds[2], 4, 8)\n",
    "\n",
    "from jax import numpy as jnp\n",
    "import jax\n",
    "_H = jnp.array(_H)\n",
    "_E, _V = jax.scipy.linalg.eigh(_H)\n"
   ]
  },
  {
   "cell_type": "markdown",
   "id": "ce2b2274",
   "metadata": {},
   "source": [
    "#### Stoquastic hamiltonian"
   ]
  },
  {
   "cell_type": "code",
   "execution_count": 61,
   "id": "75f0ebc1",
   "metadata": {},
   "outputs": [],
   "source": [
    "_SH = nsp.utils.sum_ham(SH_list[0], _bonds[0], 4, 8)\n",
    "_SH += nsp.utils.sum_ham(SH_list[1], _bonds[1], 4, 8)\n",
    "_SH += nsp.utils.sum_ham(SH_list[2], _bonds[2], 4, 8)\n",
    "\n",
    "from jax import numpy as jnp\n",
    "import jax\n",
    "_SH = jnp.array(_SH)\n",
    "_SE, _SV = jax.scipy.linalg.eigh(_SH)"
   ]
  },
  {
   "cell_type": "code",
   "execution_count": 62,
   "id": "71208146",
   "metadata": {},
   "outputs": [
    {
     "name": "stdout",
     "output_type": "stream",
     "text": [
      "Inner product of ground state -0.62793386\n"
     ]
    },
    {
     "data": {
      "text/plain": [
       "Array([-11.4248295, -11.421765 ,  -9.034054 , ...,   5.4970393,\n",
       "         5.9149704,   5.9155645], dtype=float32)"
      ]
     },
     "execution_count": 62,
     "metadata": {},
     "output_type": "execute_result"
    }
   ],
   "source": [
    "print(\"Inner product of ground state\", _SV[:,0] @ jnp.abs(_V[:,0]))\n",
    "_SE"
   ]
  },
  {
   "cell_type": "code",
   "execution_count": 63,
   "id": "c5f3b0fd",
   "metadata": {},
   "outputs": [
    {
     "name": "stdout",
     "output_type": "stream",
     "text": [
      "-1.000177700541588\n",
      "-1.158498533022129\n",
      "-1.0000676290110921\n"
     ]
    }
   ],
   "source": [
    "for l in range(3):\n",
    "    print(np.linalg.eigvalsh(SH_list[l])[0])"
   ]
  },
  {
   "cell_type": "markdown",
   "id": "1f73feb7",
   "metadata": {},
   "source": [
    "Check overlapping of stoquastic local ground state with stoquastic global ground state"
   ]
  },
  {
   "cell_type": "code",
   "execution_count": 55,
   "id": "81ccec1c",
   "metadata": {},
   "outputs": [
    {
     "name": "stdout",
     "output_type": "stream",
     "text": [
      "l = 0 / innder product of eigenvector [0] :  0.13976965871283176\n",
      "local stoquastic energy of ground state : -1.000349160605744\n",
      "--------------------\n",
      "l = 1 / innder product of eigenvector [0] :  0.14017802137647267\n",
      "local stoquastic energy of ground state : -1.000244614899966\n",
      "--------------------\n",
      "l = 2 / innder product of eigenvector [0] :  0.9984060123397892\n",
      "local stoquastic energy of ground state : -1.0017438369396832\n",
      "--------------------\n"
     ]
    }
   ],
   "source": [
    "i = 0\n",
    "x = _SV[:,0].copy()\n",
    "x = x.reshape([2]*12)\n",
    "x = x.transpose([0,1,2,6,7,8,3,4,5,9,10,11]) # for l = 0\n",
    "l = 0\n",
    "r = x.reshape(2**6, -1)\n",
    "Srho = np.einsum(\"im,jm->ij\", r, r)\n",
    "Srho = (Srho + Srho.T)/2\n",
    "LSE, LSV = np.linalg.eigh(SH_list[l])\n",
    "print(f\"l = 0 / innder product of eigenvector [{i}] : \",LSV[:,i] @ Srho @ LSV[:,i])\n",
    "print(f\"local stoquastic energy of ground state : {LSE[0]}\")\n",
    "print(\"-\"*20)\n",
    "x = _SV[:,0].copy()\n",
    "l = 1\n",
    "r = x.reshape(2**6, -1)\n",
    "Srho = np.einsum(\"im,jm->ij\", r, r)\n",
    "Srho = (Srho + Srho.T)/2\n",
    "LSE, LSV = np.linalg.eigh(SH_list[l])\n",
    "print(f\"l = 1 / innder product of eigenvector [{i}] : \",LSV[:,i] @ Srho @ LSV[:,i])\n",
    "print(f\"local stoquastic energy of ground state : {LSE[0]}\")\n",
    "print(\"-\"*20)\n",
    "\n",
    "x = _SV[:,0].copy()\n",
    "x = x.reshape([2]*12)\n",
    "x = x.transpose([0,1,2,9,10,11,3,4,5,6,7,8]) # for l = 2\n",
    "l = 2\n",
    "r = x.reshape(2**6, -1)\n",
    "Srho = np.einsum(\"im,jm->ij\", r, r)\n",
    "Srho = (Srho + Srho.T)/2\n",
    "LSE, LSV = np.linalg.eigh(SH_list[l])\n",
    "print(f\"l = 2 / innder product of eigenvector [{i}] : \",LSV[:,i] @ Srho @ LSV[:,i])\n",
    "print(f\"local stoquastic energy of ground state : {LSE[0]}\")\n",
    "print(\"-\"*20)\n"
   ]
  },
  {
   "cell_type": "markdown",
   "id": "07e068c4",
   "metadata": {},
   "source": [
    "In this case, all hamiltonian optimized well. But only one of them occupy the global ground state. I expected it equally distributed among three."
   ]
  },
  {
   "attachments": {},
   "cell_type": "markdown",
   "id": "0180995d",
   "metadata": {},
   "source": [
    "### Test optimized Hamiltonian in modified scheme (take maximum of three)"
   ]
  },
  {
   "cell_type": "code",
   "execution_count": 36,
   "id": "2b30577d",
   "metadata": {},
   "outputs": [],
   "source": [
    "import sys\n",
    "sys.path.append(\"/home/user/project/python/reduce_nsp\")\n",
    "sys.path.append(\"/home/user/project/python/exact\")\n",
    "from jax_exact.core.constants import *\n",
    "import numpy as np\n",
    "# minus is for compenstating the minus sign in the stores local Hamiltonian\n",
    "H0 = -np.load(\"/home/user/project/python/make_local/array/KH/3site/mes/Jx_1_Jy_1_Jz_1_hx_0_hz_0/M_1/H/0.npy\")\n",
    "H1 = -np.load(\"/home/user/project/python/make_local/array/KH/3site/mes/Jx_1_Jy_1_Jz_1_hx_0_hz_0/M_1/H/1.npy\")\n",
    "H2 = -np.load(\"/home/user/project/python/make_local/array/KH/3site/mes/Jx_1_Jy_1_Jz_1_hx_0_hz_0/M_1/H/2.npy\")\n",
    "\n",
    "H_list = [H0, H1, H2]\n",
    "SH_list = [\n",
    "    -nsp.utils.stoquastic(-H) for H in H_list\n",
    "]\n",
    "\n",
    "\n",
    "\n",
    "\n",
    "bonds = [[0,0,2], [1,0,1], [2,0,3], [0,1,3], [1,1,0], [2,1,2], [0,2,0], [1,2,3], [2,2,1], [0,3,1], [1,3,2], [2,3,0]]\n",
    "_bonds = [[], [], []]\n",
    "for bond in bonds:\n",
    "    _bonds[bond[0]].append(bond[1:])\n"
   ]
  },
  {
   "cell_type": "markdown",
   "id": "97b233ba",
   "metadata": {},
   "source": [
    "#### Pure hamiltonian"
   ]
  },
  {
   "cell_type": "code",
   "execution_count": 37,
   "id": "1f10daaa",
   "metadata": {},
   "outputs": [],
   "source": [
    "_H = nsp.utils.sum_ham(H_list[0], _bonds[0], 4, 8)\n",
    "_H += nsp.utils.sum_ham(H_list[1], _bonds[1], 4, 8)\n",
    "_H += nsp.utils.sum_ham(H_list[2], _bonds[2], 4, 8)\n",
    "\n",
    "from jax import numpy as jnp\n",
    "import jax\n",
    "_H = jnp.array(_H)\n",
    "_E, _V = jax.scipy.linalg.eigh(_H)\n"
   ]
  },
  {
   "cell_type": "markdown",
   "id": "a590ff76",
   "metadata": {},
   "source": [
    "#### Stoquastic hamiltonian"
   ]
  },
  {
   "cell_type": "code",
   "execution_count": 38,
   "id": "b65eb7f2",
   "metadata": {},
   "outputs": [],
   "source": [
    "_SH = nsp.utils.sum_ham(SH_list[0], _bonds[0], 4, 8)\n",
    "_SH += nsp.utils.sum_ham(SH_list[1], _bonds[1], 4, 8)\n",
    "_SH += nsp.utils.sum_ham(SH_list[2], _bonds[2], 4, 8)\n",
    "\n",
    "from jax import numpy as jnp\n",
    "import jax\n",
    "_SH = jnp.array(_SH)\n",
    "_SE, _SV = jax.scipy.linalg.eigh(_SH)"
   ]
  },
  {
   "cell_type": "code",
   "execution_count": 39,
   "id": "916b2ffd",
   "metadata": {},
   "outputs": [
    {
     "name": "stdout",
     "output_type": "stream",
     "text": [
      "Inner product of ground state 0.4446772\n"
     ]
    }
   ],
   "source": [
    "print(\"Inner product of ground state\", _SV[:,0] @ jnp.abs(_V[:,0]))"
   ]
  },
  {
   "cell_type": "code",
   "execution_count": 40,
   "id": "0a6c3b81",
   "metadata": {},
   "outputs": [
    {
     "name": "stdout",
     "output_type": "stream",
     "text": [
      "-1.0002488650118235\n",
      "-1.0004216832046366\n",
      "-1.0039396389784765\n"
     ]
    }
   ],
   "source": [
    "for l in range(3):\n",
    "    print(np.linalg.eigvalsh(SH_list[l])[0])"
   ]
  },
  {
   "attachments": {},
   "cell_type": "markdown",
   "id": "b17d4274",
   "metadata": {},
   "source": [
    "Note that the result is worser than the one with optimization of average.\n",
    "Check overlapping of stoquastic local ground state with stoquastic global ground state"
   ]
  },
  {
   "cell_type": "code",
   "execution_count": 41,
   "id": "3ffa7f32",
   "metadata": {},
   "outputs": [
    {
     "name": "stdout",
     "output_type": "stream",
     "text": [
      "l = 0 / innder product of eigenvector [0] :  0.1486917598370786\n",
      "local stoquastic energy of ground state : -1.000248865011823\n",
      "--------------------\n",
      "l = 1 / innder product of eigenvector [0] :  0.14748093107524332\n",
      "local stoquastic energy of ground state : -1.0004216832046362\n",
      "--------------------\n",
      "l = 2 / innder product of eigenvector [0] :  0.9984103447999974\n",
      "local stoquastic energy of ground state : -1.0039396389784765\n",
      "--------------------\n"
     ]
    }
   ],
   "source": [
    "i = 0\n",
    "x = _SV[:,0].copy()\n",
    "x = x.reshape([2]*12)\n",
    "x = x.transpose([0,1,2,6,7,8,3,4,5,9,10,11]) # for l = 0\n",
    "l = 0\n",
    "r = x.reshape(2**6, -1)\n",
    "Srho = np.einsum(\"im,jm->ij\", r, r)\n",
    "Srho = (Srho + Srho.T)/2\n",
    "LSE, LSV = np.linalg.eigh(SH_list[l])\n",
    "print(f\"l = 0 / innder product of eigenvector [{i}] : \",LSV[:,i] @ Srho @ LSV[:,i])\n",
    "print(f\"local stoquastic energy of ground state : {LSE[0]}\")\n",
    "print(\"-\"*20)\n",
    "x = _SV[:,0].copy()\n",
    "l = 1\n",
    "r = x.reshape(2**6, -1)\n",
    "Srho = np.einsum(\"im,jm->ij\", r, r)\n",
    "Srho = (Srho + Srho.T)/2\n",
    "LSE, LSV = np.linalg.eigh(SH_list[l])\n",
    "print(f\"l = 1 / innder product of eigenvector [{i}] : \",LSV[:,i] @ Srho @ LSV[:,i])\n",
    "print(f\"local stoquastic energy of ground state : {LSE[0]}\")\n",
    "print(\"-\"*20)\n",
    "\n",
    "x = _SV[:,0].copy()\n",
    "x = x.reshape([2]*12)\n",
    "x = x.transpose([0,1,2,9,10,11,3,4,5,6,7,8]) # for l = 2\n",
    "l = 2\n",
    "r = x.reshape(2**6, -1)\n",
    "Srho = np.einsum(\"im,jm->ij\", r, r)\n",
    "Srho = (Srho + Srho.T)/2\n",
    "LSE, LSV = np.linalg.eigh(SH_list[l])\n",
    "print(f\"l = 2 / innder product of eigenvector [{i}] : \",LSV[:,i] @ Srho @ LSV[:,i])\n",
    "print(f\"local stoquastic energy of ground state : {LSE[0]}\")\n",
    "print(\"-\"*20)\n"
   ]
  },
  {
   "attachments": {},
   "cell_type": "markdown",
   "id": "6a9d1abe",
   "metadata": {},
   "source": [
    "In this case, all hamiltonian optimized well. But only one of them occupy the global ground state. I expected it equally distributed among three."
   ]
  },
  {
   "cell_type": "code",
   "execution_count": 44,
   "id": "537cbd24",
   "metadata": {},
   "outputs": [
    {
     "name": "stdout",
     "output_type": "stream",
     "text": [
      "l = 1 / innder product of eigenvector [0] :  0.14748093107524332\n",
      "local stoquastic energy of ground state : -1.0004216832046362\n",
      "l = 1 / innder product of eigenvector [1] :  0.39957868359682625\n",
      "local stoquastic energy of ground state : -0.9796404081959669\n",
      "l = 1 / innder product of eigenvector [2] :  0.3223953965597398\n",
      "local stoquastic energy of ground state : -0.9547046096658286\n",
      "l = 1 / innder product of eigenvector [3] :  0.11561606151367278\n",
      "local stoquastic energy of ground state : -0.922938647596009\n",
      "l = 1 / innder product of eigenvector [4] :  3.311896112410876e-05\n",
      "local stoquastic energy of ground state : -0.8478330584558101\n",
      "l = 1 / innder product of eigenvector [5] :  8.254510672067024e-05\n",
      "local stoquastic energy of ground state : -0.8276318741800783\n",
      "l = 1 / innder product of eigenvector [6] :  7.667640706862021e-05\n",
      "local stoquastic energy of ground state : -0.8038576974393363\n",
      "l = 1 / innder product of eigenvector [7] :  2.490896607239086e-05\n",
      "local stoquastic energy of ground state : -0.773942117830579\n",
      "l = 1 / innder product of eigenvector [8] :  4.818025824837165e-07\n",
      "local stoquastic energy of ground state : -0.7503102932898957\n",
      "l = 1 / innder product of eigenvector [9] :  0.006391663493773531\n",
      "local stoquastic energy of ground state : -0.7188379436308967\n"
     ]
    }
   ],
   "source": [
    "x = _SV[:,0].copy()\n",
    "l = 1\n",
    "r = x.reshape(2**6, -1)\n",
    "Srho = np.einsum(\"im,jm->ij\", r, r)\n",
    "Srho = (Srho + Srho.T)/2\n",
    "LSE, LSV = np.linalg.eigh(SH_list[l])\n",
    "for i in range(10):\n",
    "    print(f\"l = 1 / innder product of eigenvector [{i}] : \",LSV[:,i] @ Srho @ LSV[:,i])\n",
    "    print(f\"local stoquastic energy of ground state : {LSE[i]}\")"
   ]
  },
  {
   "attachments": {},
   "cell_type": "markdown",
   "id": "945a2973",
   "metadata": {},
   "source": [
    "This suggest global ground state is mostly occupied by excited state rather than ground state."
   ]
  },
  {
   "attachments": {},
   "cell_type": "markdown",
   "id": "98939111",
   "metadata": {},
   "source": [
    "v"
   ]
  }
 ],
 "metadata": {
  "kernelspec": {
   "display_name": "py39",
   "language": "python",
   "name": "python3"
  },
  "language_info": {
   "codemirror_mode": {
    "name": "ipython",
    "version": 3
   },
   "file_extension": ".py",
   "mimetype": "text/x-python",
   "name": "python",
   "nbconvert_exporter": "python",
   "pygments_lexer": "ipython3",
   "version": "3.9.16"
  },
  "vscode": {
   "interpreter": {
    "hash": "635093cb382d24e7bb09df67eef84e97b3e0429c00b0294b3c9882ac411b8a1a"
   }
  }
 },
 "nbformat": 4,
 "nbformat_minor": 5
}
