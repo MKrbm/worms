{
 "cells": [
  {
   "cell_type": "code",
   "execution_count": 2,
   "id": "0995b3bc",
   "metadata": {},
   "outputs": [],
   "source": [
    "import numpy as np"
   ]
  },
  {
   "cell_type": "code",
   "execution_count": 3,
   "id": "6af85ca2",
   "metadata": {},
   "outputs": [],
   "source": [
    "import sys,os\n",
    "import numpy as np\n",
    "\n",
    "from quspin.basis import spin_basis_1d, spin_basis_general\n",
    "from quspin.operators import hamiltonian,quantum_operator\n",
    "\n",
    "os.environ['KMP_DUPLICATE_LIB_OK']='True' # uncomment this line if omp error occurs on OSX for python 3\n",
    "os.environ['OMP_NUM_THREADS']='1' # set number of OpenMP threads to run in parallel\n",
    "os.environ['MKL_NUM_THREADS']='12' # set number of MKL threads to run in parallel"
   ]
  },
  {
   "cell_type": "code",
   "execution_count": 4,
   "id": "61b67d1d",
   "metadata": {},
   "outputs": [],
   "source": [
    "Lx,Ly = 3, 4\n",
    "N_2d = Lx*Ly\n",
    "Jz, Jx, Jy, h = [1, -0.3, -0.3, 1]\n",
    "s = np.arange(N_2d)\n",
    "x = s%Lx \n",
    "y = s//Lx \n",
    "T_x = (x+1)%Lx + Lx*y \n",
    "T_y = x +Lx*((y+1)%Ly) "
   ]
  },
  {
   "cell_type": "code",
   "execution_count": 5,
   "id": "b0118578",
   "metadata": {},
   "outputs": [
    {
     "name": "stdout",
     "output_type": "stream",
     "text": [
      "Hermiticity check passed!\n",
      "Hermiticity check passed!\n",
      "Symmetry checks passed!\n"
     ]
    }
   ],
   "source": [
    "J_zz = [[1,i,T_x[i]] for i in range(N_2d)]+[[1,i,T_y[i]] for i in range(N_2d)] \n",
    "h_list = [[-1.0,i] for i in range(N_2d)]\n",
    "ops_dict = dict(Jz=[[\"zz\", J_zz]], # J for z\n",
    "                Jx=[[\"xx\",J_zz]],\n",
    "                Jy=[[\"yy\",J_zz]], # J for x and y\n",
    "                h=[[\"z\",h_list]])\n",
    "M_list = [[1.0/N_2d,i] for i in range(N_2d)]\n",
    "\n",
    "basis_2d = spin_basis_general(N_2d ,pauli=False)\n",
    "_H = quantum_operator(ops_dict,basis=basis_2d, dtype=np.float64, check_symm=False)\n",
    "M = hamiltonian([[\"z\",M_list]],[],basis=basis_2d, dtype=np.float64)\n",
    "params_dict=dict(Jz=Jz, Jx=Jx,Jy=Jy,h=h)"
   ]
  },
  {
   "cell_type": "code",
   "execution_count": 6,
   "id": "97d2ab7b",
   "metadata": {},
   "outputs": [],
   "source": [
    "Hs = _H.tohamiltonian(params_dict)\n",
    "H = Hs.toarray()"
   ]
  },
  {
   "cell_type": "code",
   "execution_count": 7,
   "id": "f8b42ead",
   "metadata": {},
   "outputs": [],
   "source": [
    "E, V = np.linalg.eigh(H)"
   ]
  },
  {
   "cell_type": "code",
   "execution_count": null,
   "id": "6a825c26",
   "metadata": {},
   "outputs": [],
   "source": [
    "T = 1\n",
    "M_np = M.toarray()\n",
    "beta = 1/T\n",
    "Z = np.exp(-beta*E).sum()\n",
    "M_mean = np.einsum(\"n,in,jn,ij->\", np.exp(-beta*E), V, V, M_np) / Z\n",
    "M2_mean = np.einsum(\"n,in,jn,ij->\", np.exp(-beta*E), V, V, M_np@M_np) / Z\n",
    "E_mean = (E*np.exp(-beta*E)).sum() / Z\n",
    "E2_mean = ((E*E)*np.exp(-beta*E)).sum() / Z"
   ]
  },
  {
   "cell_type": "code",
   "execution_count": 214,
   "id": "acfe9a36",
   "metadata": {},
   "outputs": [
    {
     "name": "stdout",
     "output_type": "stream",
     "text": [
      "{'Jz': 1, 'Jx': -0.3, 'Jy': -0.3, 'h': 1}\n",
      "T               = 0.3\n",
      "E               = -0.2730339836265664\n",
      "C               = 0.13699753184107943\n",
      "M               = 0.20530285681405502\n",
      "M^2             = 0.05188517444027588\n"
     ]
    }
   ],
   "source": [
    "print(params_dict)\n",
    "print(f\"T               = {T}\")\n",
    "print(f\"E               = {E_mean / L}\")\n",
    "print(f\"C               = {(E2_mean - E_mean**2)*(beta**2)/L}\")\n",
    "print(f\"M               = {M_mean}\")\n",
    "print(f\"M^2             = {M2_mean}\")"
   ]
  },
  {
   "cell_type": "code",
   "execution_count": 215,
   "id": "5ea9f869",
   "metadata": {},
   "outputs": [
    {
     "name": "stdout",
     "output_type": "stream",
     "text": [
      "Chi             = 0.2911610229843903\n"
     ]
    }
   ],
   "source": [
    "print(f\"Chi             = {(0.20530285681405502 - 0.20239124658421112)/0.01}\")"
   ]
  },
  {
   "cell_type": "code",
   "execution_count": null,
   "id": "45d1144e",
   "metadata": {},
   "outputs": [],
   "source": []
  }
 ],
 "metadata": {
  "kernelspec": {
   "display_name": "Python 3 (ipykernel)",
   "language": "python",
   "name": "python3"
  },
  "language_info": {
   "codemirror_mode": {
    "name": "ipython",
    "version": 3
   },
   "file_extension": ".py",
   "mimetype": "text/x-python",
   "name": "python",
   "nbconvert_exporter": "python",
   "pygments_lexer": "ipython3",
   "version": "3.9.15"
  }
 },
 "nbformat": 4,
 "nbformat_minor": 5
}
