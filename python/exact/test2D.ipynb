{
 "cells": [
  {
   "cell_type": "code",
   "execution_count": 1,
   "id": "0995b3bc",
   "metadata": {},
   "outputs": [],
   "source": [
    "import numpy as np"
   ]
  },
  {
   "cell_type": "code",
   "execution_count": 2,
   "id": "6af85ca2",
   "metadata": {},
   "outputs": [],
   "source": [
    "import sys,os\n",
    "import numpy as np\n",
    "\n",
    "from quspin.basis import spin_basis_1d, spin_basis_general\n",
    "from quspin.operators import hamiltonian,quantum_operator\n",
    "\n",
    "os.environ['KMP_DUPLICATE_LIB_OK']='True' # uncomment this line if omp error occurs on OSX for python 3\n",
    "os.environ['OMP_NUM_THREADS']='1' # set number of OpenMP threads to run in parallel\n",
    "os.environ['MKL_NUM_THREADS']='12' # set number of MKL threads to run in parallel"
   ]
  },
  {
   "cell_type": "code",
   "execution_count": null,
   "id": "d85ea99c",
   "metadata": {},
   "outputs": [],
   "source": []
  },
  {
   "cell_type": "code",
   "execution_count": 3,
   "id": "12dee981",
   "metadata": {},
   "outputs": [
    {
     "data": {
      "text/plain": [
       "274877906944"
      ]
     },
     "execution_count": 3,
     "metadata": {},
     "output_type": "execute_result"
    }
   ],
   "source": [
    "(4 ** (16)) * 64"
   ]
  },
  {
   "cell_type": "code",
   "execution_count": 3,
   "id": "61b67d1d",
   "metadata": {},
   "outputs": [],
   "source": [
    "Lx,Ly = 4, 4\n",
    "N_2d = Lx*Ly\n",
    "Jz, Jx, Jy, h = [1, -0.3, 0.5, 1]\n",
    "s = np.arange(N_2d)\n",
    "x = s%Lx \n",
    "y = s//Lx \n",
    "T_x = (x+1)%Lx + Lx*y \n",
    "T_y = x +Lx*((y+1)%Ly) "
   ]
  },
  {
   "cell_type": "code",
   "execution_count": 4,
   "id": "b0118578",
   "metadata": {},
   "outputs": [
    {
     "name": "stdout",
     "output_type": "stream",
     "text": [
      "Hermiticity check passed!\n",
      "Hermiticity check passed!\n"
     ]
    },
    {
     "name": "stderr",
     "output_type": "stream",
     "text": [
      "/tmp/ipykernel_14324/560145047.py:11: UserWarning: Test for symmetries not implemented for <class 'quspin.basis.basis_general.spin.spin_basis_general'>, to turn off this warning set check_symm=False in hamiltonian\n",
      "  M = hamiltonian([[\"z\",M_list]],[],basis=basis_2d, dtype=np.float64)\n"
     ]
    }
   ],
   "source": [
    "J_zz = [[1,i,T_x[i]] for i in range(N_2d)]+[[1,i,T_y[i]] for i in range(N_2d)] \n",
    "h_list = [[-1.0,i] for i in range(N_2d)]\n",
    "ops_dict = dict(Jz=[[\"zz\", J_zz]], # J for z\n",
    "                Jx=[[\"xx\",J_zz]],\n",
    "                Jy=[[\"yy\",J_zz]], # J for x and y\n",
    "                h=[[\"z\",h_list]])\n",
    "M_list = [[1.0/N_2d,i] for i in range(N_2d)]\n",
    "\n",
    "basis_2d = spin_basis_general(N_2d ,pauli=False)\n",
    "_H = quantum_operator(ops_dict,basis=basis_2d, dtype=np.float64, check_symm=False)\n",
    "M = hamiltonian([[\"z\",M_list]],[],basis=basis_2d, dtype=np.float64)\n",
    "params_dict=dict(Jz=Jz, Jx=Jx,Jy=Jy,h=h)"
   ]
  },
  {
   "cell_type": "code",
   "execution_count": 5,
   "id": "8fdec250",
   "metadata": {},
   "outputs": [],
   "source": [
    "import cupy as cp"
   ]
  },
  {
   "cell_type": "code",
   "execution_count": 6,
   "id": "97d2ab7b",
   "metadata": {},
   "outputs": [
    {
     "ename": "OutOfMemoryError",
     "evalue": "Out of memory allocating 34,359,738,368 bytes (allocated so far: 0 bytes).",
     "output_type": "error",
     "traceback": [
      "\u001b[0;31m---------------------------------------------------------------------------\u001b[0m",
      "\u001b[0;31mOutOfMemoryError\u001b[0m                          Traceback (most recent call last)",
      "Cell \u001b[0;32mIn[6], line 3\u001b[0m\n\u001b[1;32m      1\u001b[0m Hs \u001b[38;5;241m=\u001b[39m _H\u001b[38;5;241m.\u001b[39mtohamiltonian(params_dict)\n\u001b[1;32m      2\u001b[0m H \u001b[38;5;241m=\u001b[39m Hs\u001b[38;5;241m.\u001b[39mtoarray()\n\u001b[0;32m----> 3\u001b[0m H_gpu \u001b[38;5;241m=\u001b[39m \u001b[43mcp\u001b[49m\u001b[38;5;241;43m.\u001b[39;49m\u001b[43masarray\u001b[49m\u001b[43m(\u001b[49m\u001b[43mH\u001b[49m\u001b[43m)\u001b[49m\n",
      "File \u001b[0;32m~/miniconda3/envs/py39/lib/python3.9/site-packages/cupy/_creation/from_data.py:76\u001b[0m, in \u001b[0;36masarray\u001b[0;34m(a, dtype, order)\u001b[0m\n\u001b[1;32m     49\u001b[0m \u001b[38;5;28;01mdef\u001b[39;00m \u001b[38;5;21masarray\u001b[39m(a, dtype\u001b[38;5;241m=\u001b[39m\u001b[38;5;28;01mNone\u001b[39;00m, order\u001b[38;5;241m=\u001b[39m\u001b[38;5;28;01mNone\u001b[39;00m):\n\u001b[1;32m     50\u001b[0m     \u001b[38;5;124;03m\"\"\"Converts an object to array.\u001b[39;00m\n\u001b[1;32m     51\u001b[0m \n\u001b[1;32m     52\u001b[0m \u001b[38;5;124;03m    This is equivalent to ``array(a, dtype, copy=False)``.\u001b[39;00m\n\u001b[0;32m   (...)\u001b[0m\n\u001b[1;32m     74\u001b[0m \n\u001b[1;32m     75\u001b[0m \u001b[38;5;124;03m    \"\"\"\u001b[39;00m\n\u001b[0;32m---> 76\u001b[0m     \u001b[38;5;28;01mreturn\u001b[39;00m \u001b[43m_core\u001b[49m\u001b[38;5;241;43m.\u001b[39;49m\u001b[43marray\u001b[49m\u001b[43m(\u001b[49m\u001b[43ma\u001b[49m\u001b[43m,\u001b[49m\u001b[43m \u001b[49m\u001b[43mdtype\u001b[49m\u001b[43m,\u001b[49m\u001b[43m \u001b[49m\u001b[38;5;28;43;01mFalse\u001b[39;49;00m\u001b[43m,\u001b[49m\u001b[43m \u001b[49m\u001b[43morder\u001b[49m\u001b[43m)\u001b[49m\n",
      "File \u001b[0;32mcupy/_core/core.pyx:2360\u001b[0m, in \u001b[0;36mcupy._core.core.array\u001b[0;34m()\u001b[0m\n",
      "File \u001b[0;32mcupy/_core/core.pyx:2384\u001b[0m, in \u001b[0;36mcupy._core.core.array\u001b[0;34m()\u001b[0m\n",
      "File \u001b[0;32mcupy/_core/core.pyx:2516\u001b[0m, in \u001b[0;36mcupy._core.core._array_default\u001b[0;34m()\u001b[0m\n",
      "File \u001b[0;32mcupy/_core/core.pyx:136\u001b[0m, in \u001b[0;36mcupy._core.core.ndarray.__new__\u001b[0;34m()\u001b[0m\n",
      "File \u001b[0;32mcupy/_core/core.pyx:224\u001b[0m, in \u001b[0;36mcupy._core.core._ndarray_base._init\u001b[0;34m()\u001b[0m\n",
      "File \u001b[0;32mcupy/cuda/memory.pyx:742\u001b[0m, in \u001b[0;36mcupy.cuda.memory.alloc\u001b[0;34m()\u001b[0m\n",
      "File \u001b[0;32mcupy/cuda/memory.pyx:1419\u001b[0m, in \u001b[0;36mcupy.cuda.memory.MemoryPool.malloc\u001b[0;34m()\u001b[0m\n",
      "File \u001b[0;32mcupy/cuda/memory.pyx:1440\u001b[0m, in \u001b[0;36mcupy.cuda.memory.MemoryPool.malloc\u001b[0;34m()\u001b[0m\n",
      "File \u001b[0;32mcupy/cuda/memory.pyx:1120\u001b[0m, in \u001b[0;36mcupy.cuda.memory.SingleDeviceMemoryPool.malloc\u001b[0;34m()\u001b[0m\n",
      "File \u001b[0;32mcupy/cuda/memory.pyx:1141\u001b[0m, in \u001b[0;36mcupy.cuda.memory.SingleDeviceMemoryPool._malloc\u001b[0;34m()\u001b[0m\n",
      "File \u001b[0;32mcupy/cuda/memory.pyx:1379\u001b[0m, in \u001b[0;36mcupy.cuda.memory.SingleDeviceMemoryPool._try_malloc\u001b[0;34m()\u001b[0m\n",
      "\u001b[0;31mOutOfMemoryError\u001b[0m: Out of memory allocating 34,359,738,368 bytes (allocated so far: 0 bytes)."
     ]
    }
   ],
   "source": [
    "Hs = _H.tohamiltonian(params_dict)\n",
    "H = Hs.toarray()\n",
    "H_gpu = cp.asarray(H)"
   ]
  },
  {
   "cell_type": "code",
   "execution_count": 50,
   "id": "f8b42ead",
   "metadata": {},
   "outputs": [],
   "source": [
    "E, V = cp.linalg.eigh(H_gpu)"
   ]
  },
  {
   "cell_type": "code",
   "execution_count": 51,
   "id": "327f21c5",
   "metadata": {},
   "outputs": [],
   "source": [
    "M_np = M.toarray()\n",
    "M_gpu = cp.asarray(M_np)"
   ]
  },
  {
   "cell_type": "code",
   "execution_count": 52,
   "id": "6a825c26",
   "metadata": {},
   "outputs": [],
   "source": [
    "T = 0.4\n",
    "beta = 1/T\n",
    "Z = cp.exp(-beta*E).sum()\n",
    "M_mean = cp.einsum(\"n,in,jn,ij->\", cp.exp(-beta*E), V, V, M_gpu) / Z\n",
    "M2_mean = cp.einsum(\"n,in,jn,ij->\", cp.exp(-beta*E), V, V, M_gpu@M_gpu) / Z\n",
    "E_mean = (E*cp.exp(-beta*E)).sum() / Z\n",
    "E2_mean = ((E*E)*cp.exp(-beta*E)).sum() / Z"
   ]
  },
  {
   "cell_type": "code",
   "execution_count": 53,
   "id": "acfe9a36",
   "metadata": {},
   "outputs": [
    {
     "name": "stdout",
     "output_type": "stream",
     "text": [
      "{'Jz': 1, 'Jx': -0.3, 'Jy': 0.5, 'h': 1}\n",
      "T               = 0.4\n",
      "E               = -0.31290500262456744\n",
      "C               = 0.20476937630462452\n",
      "M               = 0.11860093087143614\n",
      "M^2             = 0.02034135779893476\n"
     ]
    }
   ],
   "source": [
    "print(params_dict)\n",
    "print(f\"T               = {T}\")\n",
    "print(f\"E               = {E_mean / N_2d}\")\n",
    "print(f\"C               = {(E2_mean - E_mean**2)*(beta**2)/N_2d}\")\n",
    "print(f\"M               = {M_mean}\")\n",
    "print(f\"M^2             = {M2_mean}\")"
   ]
  },
  {
   "cell_type": "code",
   "execution_count": 54,
   "id": "5ea9f869",
   "metadata": {},
   "outputs": [
    {
     "name": "stdout",
     "output_type": "stream",
     "text": [
      "Chi             = 0.13907915083508915\n"
     ]
    }
   ],
   "source": [
    "print(f\"Chi             = {(0.11860093087143614 - 0.11721013936308525)/0.01}\")"
   ]
  },
  {
   "cell_type": "code",
   "execution_count": null,
   "id": "45d1144e",
   "metadata": {},
   "outputs": [],
   "source": []
  }
 ],
 "metadata": {
  "kernelspec": {
   "display_name": "Python 3 (ipykernel)",
   "language": "python",
   "name": "python3"
  },
  "language_info": {
   "codemirror_mode": {
    "name": "ipython",
    "version": 3
   },
   "file_extension": ".py",
   "mimetype": "text/x-python",
   "name": "python",
   "nbconvert_exporter": "python",
   "pygments_lexer": "ipython3",
   "version": "3.9.16"
  }
 },
 "nbformat": 4,
 "nbformat_minor": 5
}
