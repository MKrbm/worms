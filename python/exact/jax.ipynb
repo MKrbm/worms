{
 "cells": [
  {
   "cell_type": "code",
   "execution_count": 1,
   "id": "f358e518",
   "metadata": {},
   "outputs": [
    {
     "name": "stderr",
     "output_type": "stream",
     "text": [
      "/home/user/miniconda3/envs/py39/lib/python3.9/site-packages/tqdm/auto.py:22: TqdmWarning: IProgress not found. Please update jupyter and ipywidgets. See https://ipywidgets.readthedocs.io/en/stable/user_install.html\n",
      "  from .autonotebook import tqdm as notebook_tqdm\n"
     ]
    }
   ],
   "source": [
    "import sys,os\n",
    "import numpy as np\n",
    "from jax import numpy as jnp\n",
    "import jax\n",
    "sys.path.append('../reduce_nsp')\n",
    "from nsp.utils import l2nl, sum_ham"
   ]
  },
  {
   "cell_type": "code",
   "execution_count": 2,
   "id": "9d04b1af",
   "metadata": {},
   "outputs": [],
   "source": [
    "Sz = np.zeros([2,2])\n",
    "Sz[0,0] = 1/2\n",
    "Sz[1,1] = -1/2\n",
    "Sx = np.zeros([2,2])\n",
    "Sx[1,0] = 1/2\n",
    "Sx[0,1] = 1/2\n",
    "Sy = np.zeros([2,2], dtype=np.complex64)\n",
    "Sy[1,0] = 1j/2\n",
    "Sy[0,1] = -1j/2\n",
    "\n",
    "I = np.eye(2)\n",
    "I4 = np.eye(4)\n",
    "\n",
    "SzSz = np.kron(Sz,Sz).real.astype(np.float64)\n",
    "SxSx = np.kron(Sx,Sx).real.astype(np.float64)\n",
    "SySy = np.kron(Sy,Sy).real.astype(np.float64)\n",
    "o = np.kron(I, Sz) + np.kron(Sz, I)\n",
    "Sp = (Sx + 1j*Sy).real\n",
    "Sm = (Sx - 1j*Sy).real\n",
    "g = np.kron(Sp, Sm) + np.kron(Sm, Sp)"
   ]
  },
  {
   "cell_type": "code",
   "execution_count": 3,
   "id": "4299ef97",
   "metadata": {},
   "outputs": [],
   "source": [
    "def proj_symm(x):\n",
    "    s = int(np.sqrt(x.shape[0]))\n",
    "    x = x.reshape(s,s,s,s)\n",
    "    return ((x + np.einsum(\"ijkl->jilk\", x))/2).reshape(s*s, s*s)"
   ]
  },
  {
   "cell_type": "code",
   "execution_count": 4,
   "id": "767517b5",
   "metadata": {},
   "outputs": [],
   "source": [
    "np.random.seed(10)\n",
    "g2 = np.random.rand(4,4)\n",
    "g2 = (g2 + g2.T)/2\n",
    "g2 = proj_symm(g2) / 10\n",
    "# g2 = np.diag(np.diag(g2))\n",
    "np.save(\"test5\", g2)\n",
    "\n",
    "g21 = np.random.rand(2,2)\n",
    "g21 = (g21 + g21.T)/2\n",
    "g21 /= 10\n",
    "# g21 = np.diag(np.diag(g21))\n",
    "np.save(\"test5_1\", g21)"
   ]
  },
  {
   "cell_type": "code",
   "execution_count": 5,
   "id": "5cd649ae",
   "metadata": {},
   "outputs": [],
   "source": [
    "L = 10\n",
    "\n",
    "G = np.zeros((2**L, 2**L))\n",
    "for bond in [[i, j] for i in range(L) for j in range(L) if i < j]:\n",
    "    G += l2nl(g, L, bond, sps=2)\n",
    "\n",
    "G2 = np.zeros((2**L, 2**L))\n",
    "for bond in [[i, j] for i in range(L) for j in range(L) if i < j]:\n",
    "    G2 += l2nl(g2, L, bond, sps=2)    \n",
    "for i in range(L):\n",
    "    G2 += l2nl(g21, L, [i], sps=2)\n",
    "\n",
    "M = np.zeros((2**L, 2**L))\n",
    "for i in range(L):\n",
    "    M += l2nl(Sz, L, [i], sps=2)\n"
   ]
  },
  {
   "cell_type": "code",
   "execution_count": 6,
   "id": "ea9bedcf",
   "metadata": {},
   "outputs": [],
   "source": [
    "Jz, Jx, Jy, hz, hx = [-1,0.5,0.3,0,0.5]\n",
    "LH = Jz*SzSz + Jx*SxSx + Jy*SySy\n",
    "LH1 = hz*Sz + hx*Sx\n",
    "H = np.zeros((2**L, 2**L))\n",
    "for bond in [[i,(i+1)%L] for i in range(L)]:\n",
    "    H += l2nl(LH, L, bond, sps=2)\n",
    "for i in range(L):\n",
    "    H += l2nl(-LH1, L, [i], sps=2)\n",
    "params_dict=dict(Jz=Jz, Jx=Jx,Jy=Jy,hz=hz, hx=hx)\n"
   ]
  },
  {
   "cell_type": "code",
   "execution_count": 7,
   "id": "ac91ae63",
   "metadata": {},
   "outputs": [],
   "source": [
    "Hjax = jnp.array(H)\n",
    "Gjax = jnp.array(G)\n",
    "G2jax = jnp.array(G2)\n",
    "Mjax = jnp.array(M)"
   ]
  },
  {
   "cell_type": "code",
   "execution_count": 8,
   "id": "2d01a12a",
   "metadata": {},
   "outputs": [],
   "source": [
    "E, V = jax.scipy.linalg.eigh(Hjax)"
   ]
  },
  {
   "cell_type": "code",
   "execution_count": 9,
   "id": "f12542e3",
   "metadata": {},
   "outputs": [],
   "source": [
    "T = 0.5\n",
    "beta = 1/T\n",
    "B = jnp.exp(-beta*E)\n",
    "Z = B.sum()\n",
    "M_mean = jnp.einsum(\"n,in,jn,ij->\", B, V, V, Mjax, optimize = \"greedy\") / Z\n",
    "M2_mean = jnp.einsum(\"n,in,jn,ij->\", B, V, V, Mjax@Mjax, optimize = \"greedy\") / Z\n",
    "E_mean = (E*B).sum() / Z\n",
    "E_square_mean = ((E*E)*B).sum() / Z\n",
    "G_mean = jnp.einsum(\"n,in,jn,ij->\", B, V, V, Gjax, optimize = \"greedy\") / Z\n",
    "G2_mean = jnp.einsum(\"n,in,jn,ij->\", B, V, V, G2jax, optimize = \"greedy\") / Z"
   ]
  },
  {
   "cell_type": "code",
   "execution_count": 10,
   "id": "e84ae337",
   "metadata": {},
   "outputs": [
    {
     "name": "stdout",
     "output_type": "stream",
     "text": [
      "L = 10 {'Jz': -1, 'Jx': 0.5, 'Jy': 0.3, 'hz': 0, 'hx': 0.5}\n",
      "T               = 0.5\n",
      "E               = -0.17920081317424774\n",
      "C               = 0.19045209884643555\n",
      "M               = -6.4285181906598154e-06\n",
      "M^2             = 6.039064884185791\n",
      "G               = 1.106979489326477\n",
      "G2              = 5.013575077056885\n"
     ]
    }
   ],
   "source": [
    "print(f\"L = {L}\", params_dict)\n",
    "print(f\"T               = {T}\")\n",
    "print(f\"E               = {E_mean / L}\")\n",
    "print(f\"C               = {(E_square_mean - E_mean**2)*(beta**2)/L}\")\n",
    "print(f\"M               = {M_mean}\")\n",
    "print(f\"M^2             = {M2_mean}\")\n",
    "print(f\"G               = {G_mean}\")\n",
    "print(f\"G2              = {G2_mean}\")"
   ]
  },
  {
   "attachments": {},
   "cell_type": "markdown",
   "id": "6dc572ce",
   "metadata": {},
   "source": [
    "### 2sites versions"
   ]
  },
  {
   "cell_type": "code",
   "execution_count": 11,
   "id": "c598cad4",
   "metadata": {},
   "outputs": [],
   "source": [
    "LL = int(L/2)"
   ]
  },
  {
   "cell_type": "code",
   "execution_count": 67,
   "id": "c9b647ec",
   "metadata": {},
   "outputs": [],
   "source": [
    "Jz, Jx, Jy, hz, hx = [-1,-0.5,-0.3,0,0.5]\n",
    "LH = Jz*SzSz + Jx*SxSx + Jy*SySy\n",
    "LH1 = hz*Sz + hx*Sx\n",
    "H_ = sum_ham(LH, [[1,2]], 4, 2)\n",
    "H_ += sum_ham(LH/2, [[0,1],[2,3]], 4, 2)\n",
    "LH = H_\n",
    "LH1_2 = np.kron(LH1, I) + np.kron(I, LH1)\n",
    "H2 = np.zeros((4**LL, 4**LL))\n",
    "# for bond in [[i,(i+1)%L] for i in range(L)]:\n",
    "H2 += sum_ham(LH, [[i,(i+1)%LL] for i in range(LL)],LL, 4)\n",
    "H2 += sum_ham(-LH1_2, [[i] for i in range(LL)],LL, 4)\n"
   ]
  },
  {
   "cell_type": "code",
   "execution_count": 68,
   "id": "c1fa3951",
   "metadata": {},
   "outputs": [],
   "source": [
    "g_2site = sum_ham(g, [[0,2],[1,2],[0,3],[1,3]], 4, 2)\n",
    "np.save(\"2site\", g_2site)\n",
    "g_2site_single = g\n",
    "np.save(\"2site_single\", g_2site_single)"
   ]
  },
  {
   "cell_type": "code",
   "execution_count": 92,
   "id": "1afa24f3",
   "metadata": {},
   "outputs": [],
   "source": [
    "G = np.zeros((4**LL, 4**LL))\n",
    "G = sum_ham(g_2site, [[i, j] for i in range(LL) for j in range(LL) if i < j], LL, 4)\n",
    "G += sum_ham(g_2site_single, [[i] for i in range(LL)], LL, 4)"
   ]
  },
  {
   "cell_type": "code",
   "execution_count": 119,
   "id": "f45de616",
   "metadata": {},
   "outputs": [],
   "source": [
    "np.random.seed(10)\n",
    "g2 = np.random.rand(16,16)\n",
    "g2 = (g2 + g2.T)/2\n",
    "g2 = proj_symm(g2) / 10\n",
    "np.save(\"2site_2\", g2)\n",
    "\n",
    "g2_single = np.random.rand(4,4)\n",
    "g2_single = (g2_single + g2_single.T)/2\n",
    "np.save(\"2site_2_single\", g2_single)\n"
   ]
  },
  {
   "cell_type": "code",
   "execution_count": 114,
   "id": "38ec98eb",
   "metadata": {},
   "outputs": [],
   "source": [
    "G2 = np.zeros((4**LL, 4**LL))\n",
    "G2 = sum_ham(g2, [[i, j] for i in range(LL) for j in range(LL) if i < j], LL, 4)\n",
    "G2 += sum_ham(g2_single, [[i] for i in range(LL)], LL, 4)"
   ]
  },
  {
   "cell_type": "code",
   "execution_count": 115,
   "id": "1cfce4be",
   "metadata": {},
   "outputs": [],
   "source": [
    "Hjax = jnp.array(H2)\n",
    "Gjax = jnp.array(G)\n",
    "G2jax = jnp.array(G2)\n",
    "\n",
    "# G2jax = jnp.array(G2)\n",
    "# Mjax = jnp.array(M)"
   ]
  },
  {
   "cell_type": "code",
   "execution_count": 116,
   "id": "c00ad854",
   "metadata": {},
   "outputs": [],
   "source": [
    "E, V = jax.scipy.linalg.eigh(Hjax)"
   ]
  },
  {
   "cell_type": "code",
   "execution_count": 117,
   "id": "5c88e6b9",
   "metadata": {},
   "outputs": [],
   "source": [
    "T = 0.5\n",
    "beta = 1/T\n",
    "B = jnp.exp(-beta*E)\n",
    "Z = B.sum()\n",
    "E_mean = (E*B).sum() / Z\n",
    "E_square_mean = ((E*E)*B).sum() / Z\n",
    "G_mean = jnp.einsum(\"n,in,jn,ij->\", B, V, V, Gjax, optimize = \"greedy\") / Z\n",
    "G2_mean = jnp.einsum(\"n,in,jn,ij->\", B, V, V, G2jax, optimize = \"greedy\") / Z"
   ]
  },
  {
   "cell_type": "code",
   "execution_count": 118,
   "id": "fea34656",
   "metadata": {},
   "outputs": [
    {
     "name": "stdout",
     "output_type": "stream",
     "text": [
      "L = 10 {'Jz': -1, 'Jx': 0.5, 'Jy': 0.3, 'hz': 0, 'hx': 0.5}\n",
      "T               = 0.5\n",
      "E               = -0.2736138701438904\n",
      "C               = 0.3662477433681488\n",
      "G               = 7.666713714599609\n",
      "G2              = 10.180668830871582\n"
     ]
    }
   ],
   "source": [
    "print(f\"L = {L}\", params_dict)\n",
    "print(f\"T               = {T}\")\n",
    "print(f\"E               = {E_mean / L}\")\n",
    "print(f\"C               = {(E_square_mean - E_mean**2)*(beta**2)/L}\")\n",
    "# print(f\"M               = {M_mean}\")\n",
    "# print(f\"M^2             = {M2_mean}\")\n",
    "print(f\"G               = {G_mean}\")\n",
    "print(f\"G2              = {G2_mean}\")"
   ]
  },
  {
   "cell_type": "code",
   "execution_count": null,
   "id": "3d12014c",
   "metadata": {},
   "outputs": [],
   "source": []
  }
 ],
 "metadata": {
  "kernelspec": {
   "display_name": "Python 3 (ipykernel)",
   "language": "python",
   "name": "python3"
  },
  "language_info": {
   "codemirror_mode": {
    "name": "ipython",
    "version": 3
   },
   "file_extension": ".py",
   "mimetype": "text/x-python",
   "name": "python",
   "nbconvert_exporter": "python",
   "pygments_lexer": "ipython3",
   "version": "3.9.16"
  },
  "vscode": {
   "interpreter": {
    "hash": "635093cb382d24e7bb09df67eef84e97b3e0429c00b0294b3c9882ac411b8a1a"
   }
  }
 },
 "nbformat": 4,
 "nbformat_minor": 5
}
