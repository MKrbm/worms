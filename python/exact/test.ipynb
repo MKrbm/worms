{
 "cells": [
  {
   "cell_type": "code",
   "execution_count": 1,
   "id": "6af85ca2",
   "metadata": {},
   "outputs": [],
   "source": [
    "import sys,os\n",
    "import numpy as np\n",
    "\n",
    "from quspin.basis import spin_basis_1d, spin_basis_general\n",
    "from quspin.operators import hamiltonian,quantum_operator\n",
    "\n",
    "os.environ['KMP_DUPLICATE_LIB_OK']='True' # uncomment this line if omp error occurs on OSX for python 3\n",
    "os.environ['OMP_NUM_THREADS']='1' # set number of OpenMP threads to run in parallel\n",
    "os.environ['MKL_NUM_THREADS']='12' # set number of MKL threads to run in parallel"
   ]
  },
  {
   "cell_type": "code",
   "execution_count": 13,
   "id": "61b67d1d",
   "metadata": {},
   "outputs": [],
   "source": [
    "L = 12\n",
    "Jz, Jx, Jy, h = [-1, -1, -1, 0.01]"
   ]
  },
  {
   "cell_type": "code",
   "execution_count": 14,
   "id": "b0118578",
   "metadata": {},
   "outputs": [
    {
     "name": "stdout",
     "output_type": "stream",
     "text": [
      "Hermiticity check passed!\n",
      "Hermiticity check passed!\n",
      "Hermiticity check passed!\n"
     ]
    },
    {
     "name": "stderr",
     "output_type": "stream",
     "text": [
      "/tmp/ipykernel_2159/1176320865.py:13: UserWarning: Test for symmetries not implemented for <class 'quspin.basis.basis_1d.spin.spin_basis_1d'>, to turn off this warning set check_symm=False in hamiltonian\n",
      "  M = hamiltonian([[\"z\",M_list]],[],basis=basis_2d, dtype=np.float64)\n",
      "/tmp/ipykernel_2159/1176320865.py:14: UserWarning: Test for symmetries not implemented for <class 'quspin.basis.basis_1d.spin.spin_basis_1d'>, to turn off this warning set check_symm=False in hamiltonian\n",
      "  G = hamiltonian([[\"-+\",G_list]],[],basis=basis_2d, dtype=np.float64)\n"
     ]
    }
   ],
   "source": [
    "J_zz = [[1,i,(i+1)%L] for i in range(L)]\n",
    "J_xy = [[1,i,(i+1)%L] for i in range(L)]\n",
    "h_list = [[-1.0,i] for i in range(L)]\n",
    "ops_dict = dict(Jz=[[\"zz\", J_zz]], # J for z\n",
    "                Jx=[[\"xx\",J_xy]], # J for x and y\n",
    "                Jy=[[\"yy\",J_xy]],\n",
    "                h=[[\"z\",h_list]])\n",
    "M_list = [[1.0/L,i] for i in range(L)]\n",
    "G_list = [[1.0, i, j] for i in range(L) for j in range(L) if i != j]\n",
    "\n",
    "basis_2d = spin_basis_1d(L ,pauli=False)\n",
    "_H = quantum_operator(ops_dict,basis=basis_2d, dtype=np.float64, check_symm=False)\n",
    "M = hamiltonian([[\"z\",M_list]],[],basis=basis_2d, dtype=np.float64)\n",
    "G = hamiltonian([[\"-+\",G_list]],[],basis=basis_2d, dtype=np.float64)\n",
    "params_dict=dict(Jz=Jz, Jx=Jx,Jy=Jy,h=h)"
   ]
  },
  {
   "cell_type": "code",
   "execution_count": 15,
   "id": "bc06e963",
   "metadata": {},
   "outputs": [],
   "source": [
    "import cupy as cp"
   ]
  },
  {
   "cell_type": "code",
   "execution_count": 16,
   "id": "97d2ab7b",
   "metadata": {},
   "outputs": [],
   "source": [
    "Hs = _H.tohamiltonian(params_dict)\n",
    "H = Hs.toarray()\n",
    "H_gpu = cp.asarray(H)\n",
    "\n",
    "M_np = M.toarray()\n",
    "M_gpu = cp.asarray(M_np)\n",
    "G_gpu = cp.asarray(G.toarray())"
   ]
  },
  {
   "cell_type": "code",
   "execution_count": 17,
   "id": "f8b42ead",
   "metadata": {},
   "outputs": [],
   "source": [
    "E, V = cp.linalg.eigh(H_gpu)"
   ]
  },
  {
   "cell_type": "code",
   "execution_count": 18,
   "id": "6a825c26",
   "metadata": {},
   "outputs": [],
   "source": [
    "T = 1\n",
    "beta = 1/T\n",
    "Z = cp.exp(-beta*E).sum()\n",
    "M_mean = cp.einsum(\"n,in,jn,ij->\", cp.exp(-beta*E), V, V, M_gpu) / Z\n",
    "M2_mean = cp.einsum(\"n,in,jn,ij->\", cp.exp(-beta*E), V, V, M_gpu@M_gpu) / Z\n",
    "E_mean = (E*cp.exp(-beta*E)).sum() / Z\n",
    "E2_mean = ((E*E)*cp.exp(-beta*E)).sum() / Z\n",
    "G_mean = cp.einsum(\"n,in,jn,ij->\", cp.exp(-beta*E), V, V, G_gpu) / Z"
   ]
  },
  {
   "cell_type": "code",
   "execution_count": 19,
   "id": "acfe9a36",
   "metadata": {},
   "outputs": [
    {
     "name": "stdout",
     "output_type": "stream",
     "text": [
      "L = 12 {'Jz': -1, 'Jx': -1, 'Jy': -1, 'h': 0.01}\n",
      "T               = 1\n",
      "E               = -0.13411824184551827\n",
      "C               = 0.08393347654426941\n",
      "M               = 0.0036824933153474\n",
      "M^2             = 0.030699585335757243\n",
      "G               = 2.8380576065773115\n"
     ]
    }
   ],
   "source": [
    "print(f\"L = {L}\", params_dict)\n",
    "print(f\"T               = {T}\")\n",
    "print(f\"E               = {E_mean / L}\")\n",
    "print(f\"C               = {(E2_mean - E_mean**2)*(beta**2)/L}\")\n",
    "print(f\"M               = {M_mean}\")\n",
    "print(f\"M^2             = {M2_mean}\")\n",
    "print(f\"G               = {G_mean}\")"
   ]
  },
  {
   "cell_type": "code",
   "execution_count": 20,
   "id": "5ea9f869",
   "metadata": {},
   "outputs": [
    {
     "name": "stdout",
     "output_type": "stream",
     "text": [
      "Chi             = 0.36824933153474\n"
     ]
    }
   ],
   "source": [
    "print(f\"Chi             = {(0.0036824933153474)/0.01}\")"
   ]
  },
  {
   "cell_type": "code",
   "execution_count": 255,
   "id": "fefe2f97",
   "metadata": {},
   "outputs": [
    {
     "data": {
      "text/plain": [
       "5.99425198871235"
      ]
     },
     "execution_count": 255,
     "metadata": {},
     "output_type": "execute_result"
    }
   ],
   "source": [
    "2.8381884028754674 / 0.473485"
   ]
  },
  {
   "cell_type": "code",
   "execution_count": 266,
   "id": "e5e9fe33",
   "metadata": {},
   "outputs": [
    {
     "data": {
      "text/plain": [
       "0.9410990014520151"
      ]
     },
     "execution_count": 266,
     "metadata": {},
     "output_type": "execute_result"
    }
   ],
   "source": [
    "2.3651511884691754 / 2.51318"
   ]
  },
  {
   "cell_type": "code",
   "execution_count": 237,
   "id": "5de0573a",
   "metadata": {},
   "outputs": [
    {
     "data": {
      "text/plain": [
       "5.000210189053551"
      ]
     },
     "execution_count": 237,
     "metadata": {},
     "output_type": "execute_result"
    }
   ],
   "source": [
    "3.1803636899067547 / 0.636046"
   ]
  },
  {
   "cell_type": "code",
   "execution_count": 238,
   "id": "11a508af",
   "metadata": {},
   "outputs": [
    {
     "data": {
      "text/plain": [
       "5.0042023605043084"
      ]
     },
     "execution_count": 238,
     "metadata": {},
     "output_type": "execute_result"
    }
   ],
   "source": [
    "1.7311637729975817 / 0.345942"
   ]
  },
  {
   "cell_type": "code",
   "execution_count": 219,
   "id": "b17c7474",
   "metadata": {},
   "outputs": [
    {
     "data": {
      "text/plain": [
       "6.872227254355164"
      ]
     },
     "execution_count": 219,
     "metadata": {},
     "output_type": "execute_result"
    }
   ],
   "source": [
    "3.1803636899067547 / 0.462785"
   ]
  }
 ],
 "metadata": {
  "kernelspec": {
   "display_name": "Python 3 (ipykernel)",
   "language": "python",
   "name": "python3"
  },
  "language_info": {
   "codemirror_mode": {
    "name": "ipython",
    "version": 3
   },
   "file_extension": ".py",
   "mimetype": "text/x-python",
   "name": "python",
   "nbconvert_exporter": "python",
   "pygments_lexer": "ipython3",
   "version": "3.9.16"
  }
 },
 "nbformat": 4,
 "nbformat_minor": 5
}
