{
 "cells": [
  {
   "cell_type": "code",
   "execution_count": 2,
   "id": "6af85ca2",
   "metadata": {},
   "outputs": [],
   "source": [
    "import sys,os\n",
    "import numpy as np\n",
    "import cupy as cp\n",
    "\n",
    "from quspin.basis import spin_basis_1d, spin_basis_general\n",
    "from quspin.operators import hamiltonian,quantum_operator\n",
    "\n",
    "os.environ['KMP_DUPLICATE_LIB_OK']='True' # uncomment this line if omp error occurs on OSX for python 3\n",
    "os.environ['OMP_NUM_THREADS']='1' # set number of OpenMP threads to run in parallel\n",
    "os.environ['MKL_NUM_THREADS']='12' # set number of MKL threads to run in parallel"
   ]
  },
  {
   "cell_type": "code",
   "execution_count": 3,
   "id": "b17c7474",
   "metadata": {},
   "outputs": [],
   "source": [
    "Sz = np.zeros([2,2])\n",
    "Sz[0,0] = 1/2\n",
    "Sz[1,1] = -1/2\n",
    "Sx = np.zeros([2,2])\n",
    "Sx[1,0] = 1/2\n",
    "Sx[0,1] = 1/2\n",
    "Sy = np.zeros([2,2], dtype=np.complex64)\n",
    "Sy[1,0] = 1j/2\n",
    "Sy[0,1] = -1j/2\n",
    "\n",
    "I = np.eye(2)\n",
    "I4 = np.eye(4)"
   ]
  },
  {
   "cell_type": "code",
   "execution_count": 4,
   "id": "d61950ac",
   "metadata": {},
   "outputs": [],
   "source": [
    "SzSz = np.kron(Sz,Sz).real.astype(np.float64)\n",
    "SxSx = np.kron(Sx,Sx).real.astype(np.float64)\n",
    "SySy = np.kron(Sy,Sy).real.astype(np.float64)\n",
    "o = np.kron(I, Sz) + np.kron(Sz, I)\n",
    "Sp = (Sx + 1j*Sy).real\n",
    "Sm = (Sx - 1j*Sy).real\n",
    "G_ = np.kron(Sp, Sm) + np.kron(Sm, Sp)"
   ]
  },
  {
   "cell_type": "code",
   "execution_count": 5,
   "id": "19190cfa",
   "metadata": {},
   "outputs": [],
   "source": [
    "G_2 = np.zeros((4,4))\n",
    "G_2[0, 1] = G_2[1,0] = 1\n",
    "G_2[2, 3] = G_2[3,2] = 0.5\n",
    "G_2[0,2] = G_2[2,0] = -0.5\n",
    "np.save(\"test2.npy\", G_2)"
   ]
  },
  {
   "cell_type": "code",
   "execution_count": 6,
   "id": "61b67d1d",
   "metadata": {},
   "outputs": [],
   "source": [
    "L = 10\n",
    "x = np.load(\"1D_symm.npy\")\n",
    "sys.path.append('../reduce_nsp')"
   ]
  },
  {
   "cell_type": "code",
   "execution_count": 7,
   "id": "72e2a5f4",
   "metadata": {},
   "outputs": [
    {
     "name": "stderr",
     "output_type": "stream",
     "text": [
      "/home/user/miniconda3/envs/py39/lib/python3.9/site-packages/tqdm/auto.py:22: TqdmWarning: IProgress not found. Please update jupyter and ipywidgets. See https://ipywidgets.readthedocs.io/en/stable/user_install.html\n",
      "  from .autonotebook import tqdm as notebook_tqdm\n"
     ]
    }
   ],
   "source": [
    "\n",
    "from nsp.utils import l2nl\n",
    "\n",
    "G2 = np.zeros((2**L, 2**L))\n",
    "for bond in [[i, j] for i in range(L) for j in range(L) if i < j]:\n",
    "    G2 += l2nl(G_2.reshape(4,4), L, bond , sps=2)\n",
    "    \n",
    "G2_gpu = cp.asarray(G2)\n",
    "\n",
    "G3 = np.zeros((2**L, 2**L))\n",
    "for bond in [[i, j] for i in range(L) for j in range(L) if i < j]:\n",
    "    G3 += l2nl(x.reshape(4,4), L, bond , sps=2)\n",
    "    \n",
    "G3_gpu = cp.asarray(G3)"
   ]
  },
  {
   "cell_type": "code",
   "execution_count": 8,
   "id": "4d5dda27",
   "metadata": {},
   "outputs": [],
   "source": [
    "y = x.reshape(2,2,2,2).copy()\n",
    "for i in range(2):\n",
    "    y[:,i,:,i] = 0\n",
    "    y[i,:,i,:] = 0    \n",
    "G4 = np.zeros((2**L, 2**L))\n",
    "for bond in [[i, j] for i in range(L) for j in range(L) if i < j]:\n",
    "    G4 += l2nl(y.reshape(4,4).T, L, bond , sps=2)\n",
    "    \n",
    "G4_gpu = cp.asarray(G4)\n",
    "np.save(\"1D_no_onesite.npy\", y)\n"
   ]
  },
  {
   "cell_type": "code",
   "execution_count": 9,
   "id": "e8394a58",
   "metadata": {},
   "outputs": [],
   "source": [
    "z = x.reshape(2,2,2,2).copy()\n",
    "for i in range(2):\n",
    "    for j in range(2):\n",
    "        z[j,i,j,i] = 0\n",
    "        z[i,j,i,j] = 0    \n",
    "G5 = np.zeros((2**L, 2**L))\n",
    "for bond in [[i, j] for i in range(L) for j in range(L) if i < j]:\n",
    "    G5 += l2nl(z.reshape(4,4), L, bond , sps=2)\n",
    "    \n",
    "G5_gpu = cp.asarray(G5)\n",
    "np.save(\"1D_no_diagonal.npy\", z)"
   ]
  },
  {
   "cell_type": "code",
   "execution_count": 10,
   "id": "2caf8942",
   "metadata": {},
   "outputs": [],
   "source": [
    "# o1 = y.reshape(4,4).copy()\n",
    "# o1[0,3] = o1[3,0] = 0\n",
    "\n",
    "# np.save(\"test.npy\", o1)"
   ]
  },
  {
   "cell_type": "code",
   "execution_count": 11,
   "id": "7717e806",
   "metadata": {},
   "outputs": [],
   "source": [
    "a1 = np.zeros((4,4))\n",
    "a1[1,2] = a1[2,1] = 1\n",
    "a2 = np.zeros((4,4))\n",
    "a2[3,0] = a2[0,3] = 1\n",
    "a3 = np.zeros((4,4))\n",
    "a3[3,0] = a3[0,3] = 1"
   ]
  },
  {
   "cell_type": "code",
   "execution_count": 12,
   "id": "57479ad4",
   "metadata": {},
   "outputs": [],
   "source": [
    "E1 = l2nl(a1, L, [0,1] , sps=2)\n",
    "# for bond in [[i, j] for i in range(L) for j in range(L) if i < j]:\n",
    "#     G6 += l2nl(np.ones(16).reshape(4,4), L, bond , sps=2)\n",
    "E1 = cp.asarray(E1)\n",
    "\n",
    "\n",
    "E2 = l2nl(a2, L, [0,1] , sps=2)\n",
    "E2 = cp.asarray(E2)\n",
    "E3 = l2nl(a3, L, [0,1] , sps=2)\n",
    "E3 = cp.asarray(E3)\n"
   ]
  },
  {
   "cell_type": "code",
   "execution_count": 13,
   "id": "b0118578",
   "metadata": {},
   "outputs": [
    {
     "name": "stdout",
     "output_type": "stream",
     "text": [
      "Hermiticity check passed!\n",
      "Hermiticity check passed!\n",
      "Hermiticity check passed!\n"
     ]
    },
    {
     "name": "stderr",
     "output_type": "stream",
     "text": [
      "/tmp/ipykernel_21221/3182355799.py:19: UserWarning: Test for symmetries not implemented for <class 'quspin.basis.basis_1d.spin.spin_basis_1d'>, to turn off this warning set check_symm=False in hamiltonian\n",
      "  M = hamiltonian([[\"z\",Mz_list]],[],basis=basis_2d, dtype=np.float64)\n",
      "/tmp/ipykernel_21221/3182355799.py:20: UserWarning: Test for symmetries not implemented for <class 'quspin.basis.basis_1d.spin.spin_basis_1d'>, to turn off this warning set check_symm=False in hamiltonian\n",
      "  G = hamiltonian([[\"-+\",G_list], [\"+-\",G_list]],[],basis=basis_2d, dtype=np.float64)\n"
     ]
    }
   ],
   "source": [
    "Jz, Jx, Jy, hz, hx = [-1, 0.5, 0.3, 0, 0.5]\n",
    "# Jz, Jx, Jy, hz, hx = [0,0,0, 0, 1]\n",
    "\n",
    "\n",
    "J_zz = [[1,i,(i+1)%L] for i in range(L)]\n",
    "J_xy = [[1,i,(i+1)%L] for i in range(L)]\n",
    "h_list = [[-1.0,i] for i in range(L)]\n",
    "ops_dict = dict(Jz=[[\"zz\", J_zz]], # J for z\n",
    "                Jx=[[\"xx\",J_xy]], # J for x and y\n",
    "                Jy=[[\"yy\",J_xy]],\n",
    "                hz=[[\"z\",h_list]],\n",
    "                hx=[[\"x\",h_list]])\n",
    "Mz_list = [[1.0/L,i] for i in range(L)]\n",
    "# Mx_list = [[0.3/L,i] for i in range(L)]\n",
    "G_list = [[1.0, i, j] for i in range(L) for j in range(L) if i < j]\n",
    "\n",
    "basis_2d = spin_basis_1d(L ,pauli=False)\n",
    "_H = quantum_operator(ops_dict,basis=basis_2d, dtype=np.float64, check_symm=False)\n",
    "M = hamiltonian([[\"z\",Mz_list]],[],basis=basis_2d, dtype=np.float64)\n",
    "G = hamiltonian([[\"-+\",G_list], [\"+-\",G_list]],[],basis=basis_2d, dtype=np.float64)\n",
    "params_dict=dict(Jz=Jz, Jx=Jx,Jy=Jy,hz=hz, hx=hx)"
   ]
  },
  {
   "cell_type": "code",
   "execution_count": 37,
   "id": "97d2ab7b",
   "metadata": {},
   "outputs": [],
   "source": [
    "Hs = _H.tohamiltonian(params_dict)\n",
    "H = Hs.toarray()\n",
    "H_gpu = cp.asarray(H)\n",
    "\n",
    "M_np = M.toarray()\n",
    "M_gpu = cp.asarray(M_np)\n",
    "G_gpu = cp.asarray(G.toarray())"
   ]
  },
  {
   "cell_type": "code",
   "execution_count": 38,
   "id": "f8b42ead",
   "metadata": {},
   "outputs": [],
   "source": [
    "E, V = cp.linalg.eigh(H_gpu)"
   ]
  },
  {
   "cell_type": "code",
   "execution_count": 39,
   "id": "6a825c26",
   "metadata": {},
   "outputs": [],
   "source": [
    "T = 0.5\n",
    "beta = 1/T\n",
    "Z = cp.exp(-beta*E).sum()\n",
    "M_mean = cp.einsum(\"n,in,jn,ij->\", cp.exp(-beta*E), V, V, M_gpu) / Z\n",
    "M2_mean = cp.einsum(\"n,in,jn,ij->\", cp.exp(-beta*E), V, V, M_gpu@M_gpu) / Z\n",
    "E_mean = (E*cp.exp(-beta*E)).sum() / Z\n",
    "E_square_mean = ((E*E)*cp.exp(-beta*E)).sum() / Z\n",
    "G_mean = cp.einsum(\"n,in,jn,ij->\", cp.exp(-beta*E), V, V, G_gpu) / Z\n",
    "G2_mean = cp.einsum(\"n,in,jn,ij->\", cp.exp(-beta*E), V, V, G2_gpu) / Z\n",
    "G3_mean = cp.einsum(\"n,in,jn,ij->\", cp.exp(-beta*E), V, V, G3_gpu) / Z\n",
    "G4_mean = cp.einsum(\"n,in,jn,ij->\", cp.exp(-beta*E), V, V, G4_gpu) / Z\n",
    "G5_mean = cp.einsum(\"n,in,jn,ij->\", cp.exp(-beta*E), V, V, G5_gpu) / Z\n",
    "E1_mean = cp.einsum(\"n,in,jn,ij->\", cp.exp(-beta*E), V, V, E1) / Z\n",
    "E2_mean = cp.einsum(\"n,in,jn,ij->\", cp.exp(-beta*E), V, V, E2) / Z"
   ]
  },
  {
   "cell_type": "code",
   "execution_count": 40,
   "id": "acfe9a36",
   "metadata": {},
   "outputs": [
    {
     "name": "stdout",
     "output_type": "stream",
     "text": [
      "L = 10 {'Jz': -1, 'Jx': 0.5, 'Jy': 0.3, 'hz': 0, 'hx': 0.5}\n",
      "T               = 0.5\n",
      "E               = -0.17920077733642997\n",
      "C               = 0.1904521933525169\n",
      "M               = 2.2011215518437648e-17\n",
      "M^2             = 0.060388084315426575\n",
      "G               = 1.107024487276901\n",
      "G2(G)           = 6.359046488914256\n",
      "G3              = 28.46201476783561\n",
      "G4(No one site) = 0.732466347939629\n",
      "G5(No diagonal) = 18.489228471076085\n",
      "E1        = -0.04242390087746677\n",
      "E2        = 0.006167896186444027\n"
     ]
    }
   ],
   "source": [
    "print(f\"L = {L}\", params_dict)\n",
    "print(f\"T               = {T}\")\n",
    "print(f\"E               = {E_mean / L}\")\n",
    "print(f\"C               = {(E_square_mean - E_mean**2)*(beta**2)/L}\")\n",
    "print(f\"M               = {M_mean}\")\n",
    "print(f\"M^2             = {M2_mean}\")\n",
    "print(f\"G               = {G_mean}\")\n",
    "print(f\"G2(G)           = {G2_mean}\")\n",
    "print(f\"G3              = {G3_mean}\")\n",
    "print(f\"G4(No one site) = {G4_mean}\")\n",
    "print(f\"G5(No diagonal) = {G5_mean}\")\n",
    "# print(f\"phys cnt        = {1 / G6_mean}\")\n",
    "print(f\"E1        = {E1_mean}\")\n",
    "print(f\"E2        = {E2_mean}\")"
   ]
  },
  {
   "cell_type": "code",
   "execution_count": null,
   "id": "10886586",
   "metadata": {},
   "outputs": [],
   "source": [
    "0.020723304513837117 / 0.605358"
   ]
  },
  {
   "cell_type": "code",
   "execution_count": null,
   "id": "1cbbb035",
   "metadata": {},
   "outputs": [],
   "source": [
    "8.464660399793908 / 3.72963"
   ]
  },
  {
   "cell_type": "code",
   "execution_count": null,
   "id": "a38e8d5d",
   "metadata": {},
   "outputs": [],
   "source": [
    "0.17719472483205861 / 0.171871"
   ]
  },
  {
   "cell_type": "code",
   "execution_count": null,
   "id": "266b9155",
   "metadata": {},
   "outputs": [],
   "source": [
    "0.2728582784660241 / 0.250143"
   ]
  },
  {
   "cell_type": "code",
   "execution_count": null,
   "id": "5ea9f869",
   "metadata": {},
   "outputs": [],
   "source": [
    "0.3872213252980646 / 0.330939"
   ]
  },
  {
   "cell_type": "code",
   "execution_count": null,
   "id": "8cc6febf",
   "metadata": {},
   "outputs": [],
   "source": [
    "0.5208056763100141 / 0.412862"
   ]
  },
  {
   "cell_type": "code",
   "execution_count": null,
   "id": "4d10278e",
   "metadata": {},
   "outputs": [],
   "source": [
    "0.6738376801266748 / 0.48966"
   ]
  },
  {
   "cell_type": "code",
   "execution_count": null,
   "id": "3bc1b4ed",
   "metadata": {},
   "outputs": [],
   "source": [
    "0.846417397441997 / 0.569147"
   ]
  },
  {
   "cell_type": "code",
   "execution_count": null,
   "id": "d65558ac",
   "metadata": {
    "scrolled": true
   },
   "outputs": [],
   "source": [
    "1.0385878074655466 / 0.643328"
   ]
  },
  {
   "cell_type": "code",
   "execution_count": null,
   "id": "6e071009",
   "metadata": {},
   "outputs": [],
   "source": [
    "1.2503667614679046 / 0.721431"
   ]
  },
  {
   "cell_type": "code",
   "execution_count": null,
   "id": "90b7395e",
   "metadata": {},
   "outputs": [],
   "source": [
    "1.4817614530671108 / 0.789988 "
   ]
  },
  {
   "cell_type": "code",
   "execution_count": null,
   "id": "00587022",
   "metadata": {},
   "outputs": [],
   "source": [
    "y = [1.030975119898404, \n",
    " 1.090809171018274,\n",
    " 1.1700685784935128,\n",
    " 1.2614521954309528,\n",
    " 1.3761338073901785,\n",
    " 1.487168336900655,\n",
    " 1.6143985765667692,\n",
    " 1.7331758151062326,\n",
    " 1.875675900225207\n",
    "]\n",
    "y = np.array(y)\n",
    "x = np.arange(4, 13)"
   ]
  },
  {
   "cell_type": "code",
   "execution_count": null,
   "id": "f5850320",
   "metadata": {},
   "outputs": [],
   "source": [
    "from matplotlib import pyplot as plt\n",
    "\n",
    "# plt.yscale('log')\n",
    "# plt.xscale('log')\n",
    "plt.plot(x, y - 1)\n"
   ]
  },
  {
   "cell_type": "code",
   "execution_count": null,
   "id": "a99c7b66",
   "metadata": {},
   "outputs": [],
   "source": []
  }
 ],
 "metadata": {
  "kernelspec": {
   "display_name": "Python 3 (ipykernel)",
   "language": "python",
   "name": "python3"
  },
  "language_info": {
   "codemirror_mode": {
    "name": "ipython",
    "version": 3
   },
   "file_extension": ".py",
   "mimetype": "text/x-python",
   "name": "python",
   "nbconvert_exporter": "python",
   "pygments_lexer": "ipython3",
   "version": "3.9.16"
  },
  "vscode": {
   "interpreter": {
    "hash": "635093cb382d24e7bb09df67eef84e97b3e0429c00b0294b3c9882ac411b8a1a"
   }
  }
 },
 "nbformat": 4,
 "nbformat_minor": 5
}
