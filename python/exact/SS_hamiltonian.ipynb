{
 "cells": [
  {
   "cell_type": "code",
   "execution_count": 27,
   "id": "29272ab6",
   "metadata": {},
   "outputs": [],
   "source": [
    "import sys,os\n",
    "import numpy as np\n",
    "from scipy import sparse"
   ]
  },
  {
   "cell_type": "code",
   "execution_count": 28,
   "id": "73370415",
   "metadata": {},
   "outputs": [],
   "source": [
    "from quspin.basis import spin_basis_1d, spin_basis_general\n",
    "from quspin.operators import hamiltonian,quantum_operator\n",
    "from quspin.tools.lanczos import lanczos_full,lanczos_iter,FTLM_static_iteration,LTLM_static_iteration\n",
    "import numpy as np\n",
    "import matplotlib.pyplot as plt\n",
    "from mpl_toolkits.axes_grid1.inset_locator import inset_axes\n"
   ]
  },
  {
   "cell_type": "code",
   "execution_count": 29,
   "id": "48671122",
   "metadata": {},
   "outputs": [
    {
     "name": "stderr",
     "output_type": "stream",
     "text": [
      "/home/user/miniconda3/envs/py39/lib/python3.9/site-packages/tqdm/auto.py:22: TqdmWarning: IProgress not found. Please update jupyter and ipywidgets. See https://ipywidgets.readthedocs.io/en/stable/user_install.html\n",
      "  from .autonotebook import tqdm as notebook_tqdm\n"
     ]
    }
   ],
   "source": [
    "sys.path.insert(0, \"/home/user/project/python/reduce_nsp\")\n",
    "from nsp.utils import save_fig\n",
    "\n",
    "os.environ['KMP_DUPLICATE_LIB_OK']='True' # uncomment this line if omp error occurs on OSX for python 3\n",
    "os.environ['OMP_NUM_THREADS']='1' # set number of OpenMP threads to run in parallel\n",
    "os.environ['MKL_NUM_THREADS']='12' # set number of MKL threads to run in parallel"
   ]
  },
  {
   "cell_type": "code",
   "execution_count": 30,
   "id": "0d19f0b9",
   "metadata": {},
   "outputs": [],
   "source": [
    "quspin_path = os.path.join(os.getcwd(),\"../../\")\n",
    "sys.path.insert(0,quspin_path)\n",
    "from quspin.basis import spin_basis_1d\n",
    "from quspin.operators import hamiltonian,quantum_operator\n",
    "from quspin.tools.lanczos import lanczos_full,lanczos_iter,FTLM_static_iteration,LTLM_static_iteration\n",
    "import numpy as np\n",
    "import matplotlib.pyplot as plt\n",
    "from mpl_toolkits.axes_grid1.inset_locator import inset_axes"
   ]
  },
  {
   "cell_type": "markdown",
   "id": "892cc67f",
   "metadata": {},
   "source": [
    "# Calculate exact 4 x 4 SS model"
   ]
  },
  {
   "cell_type": "code",
   "execution_count": 31,
   "id": "58a5d41a",
   "metadata": {},
   "outputs": [],
   "source": [
    "def bootstrap_mean(O_r,Id_r,n_bootstrap=100):\n",
    "    \"\"\"\n",
    "    Uses boostraping to esimate the error due to sampling.\n",
    "\n",
    "    O_r: numerator\n",
    "    Id_r: denominator\n",
    "    n_bootstrap: bootstrap sample size\n",
    "\n",
    "    \"\"\"\n",
    "    O_r = np.asarray(O_r)\n",
    "    Id_r = np.asarray(Id_r)\n",
    "    #\n",
    "    avg = np.nanmean(O_r,axis=0)/np.nanmean(Id_r,axis=0)\n",
    "    n_Id = Id_r.shape[0]\n",
    "    #n_N = O_r.shape[0]\n",
    "    #\n",
    "    i_iter = (np.random.randint(n_Id,size=n_Id) for i in range(n_bootstrap))\n",
    "    #\n",
    "    bootstrap_iter = (np.nanmean(O_r[i,...],axis=0)/np.nanmean(Id_r[i,...],axis=0) for i in i_iter)\n",
    "    diff_iter = ((bootstrap-avg)**2 for bootstrap in bootstrap_iter)\n",
    "    err = np.sqrt(sum(diff_iter)/n_bootstrap)\n",
    "    #\n",
    "    return avg,err\n",
    "\n",
    "class lanczos_wrapper(object):\n",
    "    \"\"\"\n",
    "    Class that contains minimum requirments to use Lanczos. \n",
    "    \n",
    "    Using it is equired, since the dot and dtype methods of quantum_operator objects take more parameters \n",
    "    \n",
    "    \"\"\"\n",
    "    #\n",
    "    def __init__(self,A,**kwargs):\n",
    "        \"\"\"\n",
    "        A: array-like object to assign/overwrite the dot and dtype objects of\n",
    "        kwargs: any optional arguments used when overwriting the methods\n",
    "\n",
    "        \"\"\"\n",
    "        self._A = A\n",
    "        self._kwargs = kwargs\n",
    "    #\n",
    "    def dot(self,v,out=None):\n",
    "        \"\"\"\n",
    "        Calls the `dot` method of quantum_operator with the parameters fixed to a given value.\n",
    "\n",
    "        \"\"\"\n",
    "        return self._A.dot(v,out=out,pars=self._kwargs)\n",
    "    #\n",
    "    @property\n",
    "    def dtype(self):\n",
    "        \"\"\"\n",
    "        The dtype attribute is required to figure out result types in lanczos calculations.\n",
    "\n",
    "        \"\"\"\n",
    "        return self._A.dtype"
   ]
  },
  {
   "cell_type": "code",
   "execution_count": 32,
   "id": "05e5aa47",
   "metadata": {},
   "outputs": [],
   "source": [
    "from scipy.linalg import eigh_tridiagonal\n",
    "from six import iteritems\n",
    "import numpy as _np\n",
    "def _get_first_lv_iter(r,Q_iter):\n",
    "    yield r\n",
    "    for Q in Q_iter:\n",
    "        yield Q\n",
    "\n",
    "\n",
    "def _get_first_lv(Q_iter):\n",
    "    r = next(Q_iter)\n",
    "    return r,_get_first_lv_iter(r,Q_iter)\n",
    "\n",
    "# FTLM and LTLM reduce to same algorithm if O_dict is diagonal in eigenvectors.\n",
    "def FTLM_static_iteration_poly(O_dict,E,V,Q_T,beta=0):\n",
    "    # O_dict can contains operators polynomial in H\n",
    "    p = _np.exp(-_np.outer(_np.atleast_1d(beta),E))\n",
    "    c_dict = {key:_np.einsum(\"j,aj,j,...j->a...\",V[0,:],V,A,p) for key, A in iteritems(O_dict)}\n",
    "    c = _np.einsum(\"j,aj,...j->a...\",V[0,:],V,p)\n",
    "    r,Q_T = _get_first_lv(iter(Q_T))\n",
    "    results_dict = {}\n",
    "    \n",
    "#     Ar_dict = {key:A.dot(r) for key,A in iteritems(O_dict)}\n",
    "\n",
    "    for i,lv in enumerate(Q_T): # nv matvecs\n",
    "        for key,A in iteritems(O_dict):\n",
    "            if key in results_dict:\n",
    "                results_dict[key] += _np.squeeze(c_dict[key][i,...] * _np.vdot(lv,r))\n",
    "            else:\n",
    "                results_dict[key]  = _np.squeeze(c_dict[key][i,...] * _np.vdot(lv,r))\n",
    "\n",
    "    return results_dict,_np.squeeze(c[0,...])"
   ]
  },
  {
   "cell_type": "code",
   "execution_count": 34,
   "id": "0cb954e5",
   "metadata": {},
   "outputs": [
    {
     "name": "stderr",
     "output_type": "stream",
     "text": [
      "/tmp/ipykernel_1359/3906632402.py:12: GeneralBasisWarning: using non-commuting symmetries can lead to unwanted behaviour of general basis, make sure that quantum numbers are invariant under non-commuting symmetries!\n",
      "  spin_basis_general(N_2d,kxblock=(T_x,0),kyblock=(T_y,0),pxblock=(P_x,0),pyblock=(P_y,0),zblock=(Z,0), pauli=True)\n"
     ]
    },
    {
     "data": {
      "text/plain": [
       "< instance of 'qspin.basis.general_hcb' with 787 states >"
      ]
     },
     "execution_count": 34,
     "metadata": {},
     "output_type": "execute_result"
    }
   ],
   "source": [
    "Lx, Ly = 4, 4 # linear dimension of spin 1 2d lattice\n",
    "N_2d = Lx*Ly # number of sites for spin 1\n",
    "s = np.arange(N_2d) # sites [0,1,2,....]\n",
    "x = s%Lx # x positions for sites\n",
    "y = s//Lx # y positions for sites\n",
    "T_x = (x+1)%Lx + Lx*y # translation along x-direction\n",
    "T_y = x +Lx*((y+1)%Ly) # translation along y-direction\n",
    "P_x = x + Lx*(Ly-y-1) # reflection about x-axis\n",
    "P_y = (Lx-x-1) + Lx*y # reflection about y-axis\n",
    "Z   = -(s+1) # spin inversion\n",
    "# basis_2d = spin_basis_general(N_2d,pauli=False)\n",
    "spin_basis_general(N_2d,kxblock=(T_x,0),kyblock=(T_y,0),pxblock=(P_x,0),pyblock=(P_y,0),zblock=(Z,0), pauli=True)"
   ]
  },
  {
   "cell_type": "code",
   "execution_count": 35,
   "id": "3603c452",
   "metadata": {},
   "outputs": [
    {
     "name": "stdout",
     "output_type": "stream",
     "text": [
      "Hermiticity check passed!\n"
     ]
    }
   ],
   "source": [
    "# set up coupling \n",
    "J1 = 1 # J2 represent coupling constant between diagonal part (if J2 strong (or J1 week) dimer appears)\n",
    "h = 0\n",
    "J_zz_p = [[1,i,T_x[i]] for i in range(N_2d)]+[[1,i,T_y[i]] for i in range(N_2d)] \n",
    "J_zz_x = [[1,0,5],[1,2,7],[1,8,13],[1,10,15],[1,1,14],[1,3,12],[1,6,9],[1,4,11]]\n",
    "J_xy_p = [[1/2.0,i,T_x[i]] for i in range(N_2d)]+[[1/2.0,i,T_y[i]] for i in range(N_2d)]\n",
    "J_xy_x = [[1/2.0,0,5],[1/2.0,2,7],[1/2.0,8,13],[1/2.0,10,15],[1/2.0,1,14],[1/2.0,3,12],[1/2.0,6,9],[1/2.0,4,11]]\n",
    "h_list = [[-1.0,i] for i in range(N_2d)]\n",
    "ops_dict = dict(Jp=[[\"+-\",J_xy_p], [\"-+\",J_xy_p], [\"zz\", J_zz_p]],\n",
    "                Jx=[[\"+-\",J_xy_x], [\"-+\",J_xy_x], [\"zz\", J_zz_x]],\n",
    "                h=[[\"z\",h_list]])\n",
    "basis_2d = spin_basis_general(N_2d ,pauli=False)\n",
    "H_SS = quantum_operator(ops_dict,basis=basis_2d,dtype=np.float64, check_symm=False)\n",
    "\n",
    "params_dict=dict(Jp=J1,h=h)\n",
    "H = H_SS.tohamiltonian(params_dict)"
   ]
  },
  {
   "cell_type": "markdown",
   "id": "cc8ea81d",
   "metadata": {},
   "source": [
    "## define magnetization "
   ]
  },
  {
   "cell_type": "code",
   "execution_count": 39,
   "id": "60787389",
   "metadata": {},
   "outputs": [
    {
     "name": "stdout",
     "output_type": "stream",
     "text": [
      "Hermiticity check passed!\n",
      "Symmetry checks passed!\n"
     ]
    }
   ],
   "source": [
    "M_list = [[1.0/L,i] for i in range(N_2d)]\n",
    "# create magnetization-squared operator\n",
    "M = hamiltonian([[\"z\",M_list]],[],basis=basis_2d,dtype=np.float64)\n",
    "M2 = M**2"
   ]
  },
  {
   "cell_type": "code",
   "execution_count": 36,
   "id": "751597d0",
   "metadata": {},
   "outputs": [],
   "source": [
    "E = []\n",
    "L = N_2d # system size\n",
    "N_samples = 50 # of samples to approximate thermal expectation value with\n",
    "m = 50 # dimensio of Krylov space\n",
    "T = np.logspace(-1.6, 0.3, num=50) # temperature vector\n",
    "beta = 1.0/(T+1e-15) # inverse temperature vector\n",
    "out = np.zeros((m,H.Ns),dtype=np.float64)\n",
    "[E0] = H.eigsh(k=1,which=\"SA\",return_eigenvectors=False)\n",
    "E_list = []\n",
    "Vs = []\n",
    "lvs = []\n",
    "for i in range(N_samples):\n",
    "    r = np.random.normal(0,1,size=H.Ns)\n",
    "    r /= np.linalg.norm(r)\n",
    "    E,V,lv = lanczos_full(H,r,m,eps=1e-8,full_ortho=True)\n",
    "    # E -= E0\n",
    "    E_list.append(E)\n",
    "    Vs.append(V)\n",
    "    lvs.append(lv)"
   ]
  },
  {
   "cell_type": "code",
   "execution_count": 37,
   "id": "43fabac1",
   "metadata": {},
   "outputs": [],
   "source": [
    "H2 = H.tocsc()**2\n",
    "\n",
    "\n",
    "E_FT_list = []\n",
    "E_LT_list = []\n",
    "H2_FT_list = []\n",
    "H2_LT_list = []\n",
    "Z_FT_list = []\n",
    "Z_LT_list = []\n",
    "E_poly_list = []\n",
    "H2_poly_list = []\n",
    "\n",
    "M_FT_list = []\n",
    "M_LT_list = []\n",
    "\n",
    "\n",
    "\n",
    "T = np.logspace(-1.6, 0.3, num=80) # temperature vector\n",
    "beta = 1.0/(T+1e-15) # inverse temperature vector\n",
    "\n",
    "\n",
    "for i in range(len(lvs)):\n",
    "    E,V,lv = E_list[i], Vs[i], lvs[i]\n",
    "    results_FT,Id_FT = FTLM_static_iteration({\"E\":H, \"H2\":H2, \"M\":M, \"M2\":M2},E - E0,V,lv,beta=beta)\n",
    "    results_LT,Id_LT = LTLM_static_iteration({\"E\":H, \"H2\":H2, \"M\":M, \"M2\":M2},E - E0,V,lv,beta=beta)\n",
    "    results_FT_H ,Id_FT = FTLM_static_iteration_poly({\"E\":E, \"H2\":E**2},E - E0,V,lv,beta=beta)\n",
    "    \n",
    "    # save results to a list\n",
    "    \n",
    "    M_FT_list.append(results_FT[\"M\"])\n",
    "    E_FT_list.append(results_FT[\"E\"])\n",
    "    E_poly_list.append(results_FT_H[\"E\"])\n",
    "    H2_FT_list.append(results_FT[\"H2\"])\n",
    "    H2_poly_list.append(results_FT_H[\"H2\"])\n",
    "    Z_FT_list.append(Id_FT)\n",
    "    E_LT_list.append(results_LT[\"E\"])\n",
    "    H2_LT_list.append(results_LT[\"H2\"])\n",
    "    Z_LT_list.append(Id_LT)\n",
    "\n",
    "# calculating error bars on the expectation values\n",
    "E_FT,dE_FT = bootstrap_mean(E_FT_list,Z_FT_list)\n",
    "E_poly,dE_poly = bootstrap_mean(E_poly_list,Z_FT_list)\n",
    "E_LT,dE_LT = bootstrap_mean(E_LT_list,Z_LT_list)\n",
    "\n",
    "H2_FT,dH2_FT = bootstrap_mean(H2_FT_list,Z_FT_list)\n",
    "H2_poly,dH2_poly = bootstrap_mean(H2_poly_list,Z_FT_list)\n",
    "H2_LT,dH2_LT = bootstrap_mean(H2_LT_list,Z_LT_list)\n",
    "\n",
    "\n",
    "C_FT = (H2_FT - E_FT**2) * (beta**2)\n",
    "C_LT = (H2_LT - E_LT**2) * (beta**2)\n",
    "C_poly = (H2_poly - E_poly**2) * (beta**2)\n",
    "\n",
    "dC_FT = dH2_FT * (beta**2)\n",
    "dC_LT = dH2_LT * (beta**2)\n",
    "dC_poly = dH2_poly * (beta**2)"
   ]
  },
  {
   "cell_type": "code",
   "execution_count": null,
   "id": "eec03a47",
   "metadata": {},
   "outputs": [],
   "source": []
  }
 ],
 "metadata": {
  "kernelspec": {
   "display_name": "Python 3 (ipykernel)",
   "language": "python",
   "name": "python3"
  },
  "language_info": {
   "codemirror_mode": {
    "name": "ipython",
    "version": 3
   },
   "file_extension": ".py",
   "mimetype": "text/x-python",
   "name": "python",
   "nbconvert_exporter": "python",
   "pygments_lexer": "ipython3",
   "version": "3.9.15"
  }
 },
 "nbformat": 4,
 "nbformat_minor": 5
}
