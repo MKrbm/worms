{
 "cells": [
  {
   "cell_type": "code",
   "execution_count": 116,
   "id": "9df5422a",
   "metadata": {},
   "outputs": [],
   "source": [
    "import numpy as np\n",
    "from scipy import sparse"
   ]
  },
  {
   "cell_type": "markdown",
   "id": "ccad03ef",
   "metadata": {},
   "source": [
    "## exact diagonalization"
   ]
  },
  {
   "cell_type": "code",
   "execution_count": 117,
   "id": "5d5c2f5d",
   "metadata": {},
   "outputs": [],
   "source": [
    "from quspin.basis import spin_basis_1d, spin_basis_general\n",
    "from quspin.operators import hamiltonian,quantum_operator\n",
    "from quspin.tools.lanczos import lanczos_full,lanczos_iter,FTLM_static_iteration,LTLM_static_iteration\n",
    "import numpy as np\n",
    "import matplotlib.pyplot as plt\n",
    "from mpl_toolkits.axes_grid1.inset_locator import inset_axes"
   ]
  },
  {
   "cell_type": "code",
   "execution_count": 133,
   "id": "cd303174",
   "metadata": {},
   "outputs": [
    {
     "name": "stderr",
     "output_type": "stream",
     "text": [
      "/tmp/ipykernel_31221/714237641.py:12: GeneralBasisWarning: using non-commuting symmetries can lead to unwanted behaviour of general basis, make sure that quantum numbers are invariant under non-commuting symmetries!\n",
      "  spin_basis_general(N_2d,kxblock=(T_x,0),kyblock=(T_y,0),pxblock=(P_x,0),pyblock=(P_y,0),zblock=(Z,0), pauli=True)\n"
     ]
    }
   ],
   "source": [
    "Lx, Ly = 4, 4 # linear dimension of spin 1 2d lattice\n",
    "N_2d = Lx*Ly # number of sites for spin 1\n",
    "s = np.arange(N_2d) # sites [0,1,2,....]\n",
    "x = s%Lx # x positions for sites\n",
    "y = s//Lx # y positions for sites\n",
    "T_x = (x+1)%Lx + Lx*y # translation along x-direction\n",
    "T_y = x +Lx*((y+1)%Ly) # translation along y-direction\n",
    "P_x = x + Lx*(Ly-y-1) # reflection about x-axis\n",
    "P_y = (Lx-x-1) + Lx*y # reflection about y-axis\n",
    "Z   = -(s+1) # spin inversion\n",
    "# basis_2d = spin_basis_general(N_2d,pauli=False)\n",
    "spin_basis_general(N_2d,kxblock=(T_x,0),kyblock=(T_y,0),pxblock=(P_x,0),pyblock=(P_y,0),zblock=(Z,0), pauli=True)\n",
    "\n",
    "# set up coupling \n",
    "J1 = 0.5\n",
    "J2 = 1\n",
    "J_zz = [[J1,i,T_x[i]] for i in range(N_2d)]+[[J1,i,T_y[i]] for i in range(N_2d)] \n",
    "J_zz = J_zz + [[J2,0,5],[J2,2,7],[J2,8,13],[J2,10,15],[J2,1,14],[J2,3,12],[J2,6,9],[J2,4,11]]\n",
    "J_xy = [[J1/2.0,i,T_x[i]] for i in range(N_2d)]+[[J1/2.0,i,T_y[i]] for i in range(N_2d)]\n",
    "J_xy = J_xy + [[J2/2.0,0,5],[J2/2.0,2,7],[J2/2.0,8,13],[J2/2.0,10,15],[J2/2.0,1,14],[J2/2.0,3,12],[J2/2.0,6,9],[J2/2.0,4,11]]\n",
    "ops_dict = dict(Jpm=[[\"+-\",J_xy]],Jmp=[[\"-+\",J_xy]],Jzz=[[\"zz\",J_zz]])"
   ]
  },
  {
   "cell_type": "code",
   "execution_count": 134,
   "id": "da257ccf",
   "metadata": {
    "scrolled": true
   },
   "outputs": [
    {
     "name": "stdout",
     "output_type": "stream",
     "text": [
      "Hermiticity check passed!\n",
      "analitic = -6.0, exact diagonalization = -5.999999999999992\n"
     ]
    }
   ],
   "source": [
    "E = []\n",
    "# for i in range(Lx*Ly+1):\n",
    "basis_2d = spin_basis_general(N_2d ,pauli=False)\n",
    "H = quantum_operator(ops_dict,basis=basis_2d,dtype=np.float64, check_symm=False)\n",
    "[E0] = H.eigsh(k=1,which=\"SA\",return_eigenvectors=False)\n",
    "print(f\"analitic = {-3/8 * N_2d * J2}, exact diagonalization = {E0}\")"
   ]
  },
  {
   "cell_type": "code",
   "execution_count": 127,
   "id": "31ede831",
   "metadata": {},
   "outputs": [
    {
     "name": "stdout",
     "output_type": "stream",
     "text": [
      "ground energy =  -5.999999999999986\n"
     ]
    }
   ],
   "source": [
    "import scipy \n",
    "A = H_.tocsc()\n",
    "E = scipy.sparse.linalg.eigsh(A, k = 1, return_eigenvectors=False, which='SA')\n",
    "print(\"ground energy = \", E[0])"
   ]
  },
  {
   "cell_type": "code",
   "execution_count": 36,
   "id": "a071d167",
   "metadata": {},
   "outputs": [],
   "source": [
    "from __future__ import print_function, division\n",
    "#\n",
    "import sys,os\n",
    "os.environ['KMP_DUPLICATE_LIB_OK']='True' # uncomment this line if omp error occurs on OSX for python 3\n",
    "os.environ['OMP_NUM_THREADS']='1' # set number of OpenMP threads to run in parallel\n",
    "os.environ['MKL_NUM_THREADS']='1' # set number of MKL threads to run in parallel\n",
    "#\n",
    "quspin_path = os.path.join(os.getcwd(),\"../../\")\n",
    "sys.path.insert(0,quspin_path)\n",
    "#######################################################################\n",
    "#                            example 21                               #    \n",
    "# This example shows how to use the `Lanczos` submodule of the        #\n",
    "# `tools` module to compute finite temperature expectation values     #\n",
    "# using `FTLM_statc_iteration` and `LTLM_statiic_iteration`.          #\n",
    "#######################################################################\n",
    "from quspin.basis import spin_basis_1d\n",
    "from quspin.operators import hamiltonian,quantum_operator\n",
    "from quspin.tools.lanczos import lanczos_full,lanczos_iter,FTLM_static_iteration,LTLM_static_iteration\n",
    "import numpy as np\n",
    "import matplotlib.pyplot as plt\n",
    "from mpl_toolkits.axes_grid1.inset_locator import inset_axes"
   ]
  },
  {
   "cell_type": "code",
   "execution_count": 37,
   "id": "49cd77b7",
   "metadata": {},
   "outputs": [],
   "source": [
    "def bootstrap_mean(O_r,Id_r,n_bootstrap=100):\n",
    "    \"\"\"\n",
    "    Uses boostraping to esimate the error due to sampling.\n",
    "\n",
    "    O_r: numerator\n",
    "    Id_r: denominator\n",
    "    n_bootstrap: bootstrap sample size\n",
    "\n",
    "    \"\"\"\n",
    "    O_r = np.asarray(O_r)\n",
    "    Id_r = np.asarray(Id_r)\n",
    "    #\n",
    "    avg = np.nanmean(O_r,axis=0)/np.nanmean(Id_r,axis=0)\n",
    "    n_Id = Id_r.shape[0]\n",
    "    #n_N = O_r.shape[0]\n",
    "    #\n",
    "    i_iter = (np.random.randint(n_Id,size=n_Id) for i in range(n_bootstrap))\n",
    "    #\n",
    "    bootstrap_iter = (np.nanmean(O_r[i,...],axis=0)/np.nanmean(Id_r[i,...],axis=0) for i in i_iter)\n",
    "    diff_iter = ((bootstrap-avg)**2 for bootstrap in bootstrap_iter)\n",
    "    err = np.sqrt(sum(diff_iter)/n_bootstrap)\n",
    "    #\n",
    "    return avg,err\n",
    "class lanczos_wrapper(object):\n",
    "    \"\"\"\n",
    "    Class that contains minimum requirments to use Lanczos. \n",
    "    \n",
    "    Using it is equired, since the dot and dtype methods of quantum_operator objects take more parameters \n",
    "    \n",
    "    \"\"\"\n",
    "    #\n",
    "    def __init__(self,A,**kwargs):\n",
    "        \"\"\"\n",
    "        A: array-like object to assign/overwrite the dot and dtype objects of\n",
    "        kwargs: any optional arguments used when overwriting the methods\n",
    "\n",
    "        \"\"\"\n",
    "        self._A = A\n",
    "        self._kwargs = kwargs\n",
    "    #\n",
    "    def dot(self,v,out=None):\n",
    "        \"\"\"\n",
    "        Calls the `dot` method of quantum_operator with the parameters fixed to a given value.\n",
    "\n",
    "        \"\"\"\n",
    "        return self._A.dot(v,out=out,pars=self._kwargs)\n",
    "    #\n",
    "    @property\n",
    "    def dtype(self):\n",
    "        \"\"\"\n",
    "        The dtype attribute is required to figure out result types in lanczos calculations.\n",
    "\n",
    "        \"\"\"\n",
    "        return self._A.dtype"
   ]
  },
  {
   "cell_type": "code",
   "execution_count": 75,
   "id": "dfc11f2c",
   "metadata": {},
   "outputs": [],
   "source": [
    "L = N_2d # system size\n",
    "N_samples = 100 # of samples to approximate thermal expectation value with\n",
    "m = 50 # dimensio of Krylov space\n",
    "T = np.logspace(-1.6, 0.3, num=50) # temperature vector\n",
    "beta = 1.0/(T+1e-15) # inverse temperature vector\n",
    "H_wrapped = lanczos_wrapper(H_)\n",
    "out = np.zeros((m,H_.Ns),dtype=np.float64)\n",
    "[E0] = H_.eigsh(k=1,which=\"SA\",return_eigenvectors=False)"
   ]
  },
  {
   "cell_type": "code",
   "execution_count": 88,
   "id": "91f05a39",
   "metadata": {},
   "outputs": [
    {
     "data": {
      "text/plain": [
       "array([[ 3.01980663e-14,  6.31227054e-01,  1.36618171e+00,\n",
       "         1.39106865e+00,  1.69550212e+00,  1.77182808e+00,\n",
       "         2.00695334e+00,  2.21697515e+00,  2.49428910e+00,\n",
       "         2.73588607e+00,  3.09433914e+00,  3.42404442e+00,\n",
       "         3.78228314e+00,  4.16137111e+00,  4.54874301e+00,\n",
       "         4.97410078e+00,  5.40337710e+00,  5.84209386e+00,\n",
       "         6.30667042e+00,  6.76805887e+00,  7.24467071e+00,\n",
       "         7.72226742e+00,  8.20963043e+00,  8.70430374e+00,\n",
       "         9.19490088e+00,  9.68899413e+00,  1.01761003e+01,\n",
       "         1.06788946e+01,  1.11509705e+01,  1.16359442e+01,\n",
       "         1.21087390e+01,  1.25773918e+01,  1.30312356e+01,\n",
       "         1.34769759e+01,  1.39080271e+01,  1.43107778e+01,\n",
       "         1.47165110e+01,  1.50814566e+01,  1.54335268e+01,\n",
       "         1.57714016e+01,  1.60386065e+01,  1.63224556e+01,\n",
       "         1.66269613e+01,  1.67929353e+01,  1.69678605e+01,\n",
       "         1.71177907e+01,  1.73433348e+01,  1.76242644e+01,\n",
       "         1.82422984e+01,  1.96242644e+01],\n",
       "       [-1.77635684e-15,  6.31227054e-01,  1.36625994e+00,\n",
       "         1.39139466e+00,  1.67321801e+00,  1.76759087e+00,\n",
       "         2.01370647e+00,  2.21334118e+00,  2.50187628e+00,\n",
       "         2.74181926e+00,  3.09879980e+00,  3.42754389e+00,\n",
       "         3.77972432e+00,  4.16475995e+00,  4.55158442e+00,\n",
       "         4.98043455e+00,  5.40028010e+00,  5.84682637e+00,\n",
       "         6.30682710e+00,  6.76707919e+00,  7.24107807e+00,\n",
       "         7.72246338e+00,  8.21027750e+00,  8.69458595e+00,\n",
       "         9.18564452e+00,  9.68551844e+00,  1.01755111e+01,\n",
       "         1.06674311e+01,  1.11469976e+01,  1.16283151e+01,\n",
       "         1.21062012e+01,  1.25694351e+01,  1.30190319e+01,\n",
       "         1.34708598e+01,  1.38974278e+01,  1.42971946e+01,\n",
       "         1.47069942e+01,  1.50782414e+01,  1.54182363e+01,\n",
       "         1.57377719e+01,  1.60245983e+01,  1.63088076e+01,\n",
       "         1.66211295e+01,  1.67808207e+01,  1.69739711e+01,\n",
       "         1.71179265e+01,  1.73433376e+01,  1.76242644e+01,\n",
       "         1.82422984e+01,  1.96242644e+01],\n",
       "       [ 3.55271368e-15,  6.31227054e-01,  1.36618755e+00,\n",
       "         1.39150108e+00,  1.68552458e+00,  1.77518033e+00,\n",
       "         2.02672163e+00,  2.22153359e+00,  2.52817595e+00,\n",
       "         2.74733476e+00,  3.09946948e+00,  3.43234589e+00,\n",
       "         3.79254492e+00,  4.16417277e+00,  4.55064197e+00,\n",
       "         4.97968166e+00,  5.40092309e+00,  5.84717272e+00,\n",
       "         6.30833839e+00,  6.76183872e+00,  7.25027823e+00,\n",
       "         7.72725101e+00,  8.20869681e+00,  8.69747354e+00,\n",
       "         9.19032426e+00,  9.68981306e+00,  1.01753618e+01,\n",
       "         1.06768354e+01,  1.11565972e+01,  1.16354009e+01,\n",
       "         1.20998341e+01,  1.25729447e+01,  1.30291493e+01,\n",
       "         1.34729318e+01,  1.39036117e+01,  1.42999161e+01,\n",
       "         1.47116915e+01,  1.50899932e+01,  1.54260687e+01,\n",
       "         1.57469772e+01,  1.60227092e+01,  1.63109698e+01,\n",
       "         1.66274711e+01,  1.67998873e+01,  1.69729363e+01,\n",
       "         1.71180172e+01,  1.73433391e+01,  1.76242644e+01,\n",
       "         1.82422984e+01,  1.96242644e+01],\n",
       "       [ 4.79616347e-14,  6.31227054e-01,  1.36619578e+00,\n",
       "         1.39410149e+00,  1.70074398e+00,  1.77225871e+00,\n",
       "         2.01169728e+00,  2.20435074e+00,  2.48990270e+00,\n",
       "         2.72589036e+00,  3.10233652e+00,  3.42927979e+00,\n",
       "         3.78763108e+00,  4.16624484e+00,  4.54478956e+00,\n",
       "         4.97629270e+00,  5.39952572e+00,  5.84934157e+00,\n",
       "         6.29852636e+00,  6.76177684e+00,  7.24183653e+00,\n",
       "         7.72286244e+00,  8.20870829e+00,  8.69737128e+00,\n",
       "         9.18586206e+00,  9.68268088e+00,  1.01746588e+01,\n",
       "         1.06709410e+01,  1.11462305e+01,  1.16284330e+01,\n",
       "         1.21038432e+01,  1.25750037e+01,  1.30209734e+01,\n",
       "         1.34653581e+01,  1.38974979e+01,  1.42973726e+01,\n",
       "         1.47088567e+01,  1.50908642e+01,  1.54233364e+01,\n",
       "         1.57622219e+01,  1.60180133e+01,  1.63245138e+01,\n",
       "         1.66159326e+01,  1.67882378e+01,  1.69693221e+01,\n",
       "         1.71175624e+01,  1.73433365e+01,  1.76242644e+01,\n",
       "         1.82422984e+01,  1.96242644e+01],\n",
       "       [ 2.30926389e-14,  6.31227054e-01,  1.36621236e+00,\n",
       "         1.39145391e+00,  1.68595902e+00,  1.75899802e+00,\n",
       "         2.00801139e+00,  2.20946227e+00,  2.50796830e+00,\n",
       "         2.73974613e+00,  3.09160484e+00,  3.41256023e+00,\n",
       "         3.77342256e+00,  4.15404333e+00,  4.54578067e+00,\n",
       "         4.98126694e+00,  5.39280928e+00,  5.84660506e+00,\n",
       "         6.29622479e+00,  6.76097600e+00,  7.23604491e+00,\n",
       "         7.71631089e+00,  8.20099901e+00,  8.69387127e+00,\n",
       "         9.18538537e+00,  9.68056607e+00,  1.01671072e+01,\n",
       "         1.06697683e+01,  1.11439739e+01,  1.16299470e+01,\n",
       "         1.20937481e+01,  1.25652624e+01,  1.30138461e+01,\n",
       "         1.34660323e+01,  1.38966447e+01,  1.43002042e+01,\n",
       "         1.47057849e+01,  1.50785455e+01,  1.54207984e+01,\n",
       "         1.57492873e+01,  1.60177233e+01,  1.62998033e+01,\n",
       "         1.66348631e+01,  1.68035885e+01,  1.69723997e+01,\n",
       "         1.71180021e+01,  1.73433379e+01,  1.76242644e+01,\n",
       "         1.82422984e+01,  1.96242644e+01],\n",
       "       [-2.48689958e-14,  6.31227054e-01,  1.36620368e+00,\n",
       "         1.39118272e+00,  1.69326741e+00,  1.79533925e+00,\n",
       "         2.01329849e+00,  2.21567829e+00,  2.49737934e+00,\n",
       "         2.74602738e+00,  3.10429102e+00,  3.42212891e+00,\n",
       "         3.80470791e+00,  4.17762822e+00,  4.55418391e+00,\n",
       "         4.98421868e+00,  5.40277262e+00,  5.84863562e+00,\n",
       "         6.30459722e+00,  6.76262011e+00,  7.24636970e+00,\n",
       "         7.72698949e+00,  8.21107584e+00,  8.70117524e+00,\n",
       "         9.18936204e+00,  9.69222006e+00,  1.01780659e+01,\n",
       "         1.06732048e+01,  1.11497005e+01,  1.16323492e+01,\n",
       "         1.21116533e+01,  1.25738874e+01,  1.30221646e+01,\n",
       "         1.34721807e+01,  1.39033801e+01,  1.42980144e+01,\n",
       "         1.47136030e+01,  1.50936924e+01,  1.54250789e+01,\n",
       "         1.57539982e+01,  1.60199845e+01,  1.63159761e+01,\n",
       "         1.66171935e+01,  1.67806060e+01,  1.69742335e+01,\n",
       "         1.71172746e+01,  1.73433411e+01,  1.76242644e+01,\n",
       "         1.82422984e+01,  1.96242644e+01],\n",
       "       [-1.42108547e-14,  6.31227054e-01,  1.36621674e+00,\n",
       "         1.39144839e+00,  1.69818689e+00,  1.79104921e+00,\n",
       "         1.99128410e+00,  2.22020998e+00,  2.49221535e+00,\n",
       "         2.72575326e+00,  3.09045396e+00,  3.40620788e+00,\n",
       "         3.77668416e+00,  4.16279654e+00,  4.53650566e+00,\n",
       "         4.96492983e+00,  5.39521071e+00,  5.83582363e+00,\n",
       "         6.29573225e+00,  6.75738596e+00,  7.23970920e+00,\n",
       "         7.71440827e+00,  8.20030545e+00,  8.69449955e+00,\n",
       "         9.18404416e+00,  9.68355517e+00,  1.01703060e+01,\n",
       "         1.06673182e+01,  1.11474899e+01,  1.16239247e+01,\n",
       "         1.20985300e+01,  1.25699162e+01,  1.30149347e+01,\n",
       "         1.34652077e+01,  1.38974050e+01,  1.43045688e+01,\n",
       "         1.47114567e+01,  1.50959642e+01,  1.54268703e+01,\n",
       "         1.57520048e+01,  1.60323117e+01,  1.63057115e+01,\n",
       "         1.66276318e+01,  1.67898289e+01,  1.69691767e+01,\n",
       "         1.71178443e+01,  1.73433387e+01,  1.76242644e+01,\n",
       "         1.82422984e+01,  1.96242644e+01],\n",
       "       [ 1.42108547e-14,  6.31227054e-01,  1.36621405e+00,\n",
       "         1.39354290e+00,  1.71526504e+00,  1.81236235e+00,\n",
       "         2.00325362e+00,  2.21364096e+00,  2.51259791e+00,\n",
       "         2.75965072e+00,  3.09841939e+00,  3.41585386e+00,\n",
       "         3.79249487e+00,  4.16484888e+00,  4.54949772e+00,\n",
       "         4.98204620e+00,  5.41038431e+00,  5.84167599e+00,\n",
       "         6.30157918e+00,  6.76533925e+00,  7.24784133e+00,\n",
       "         7.73094146e+00,  8.21340214e+00,  8.69829025e+00,\n",
       "         9.19008443e+00,  9.68954622e+00,  1.01773470e+01,\n",
       "         1.06745727e+01,  1.11609429e+01,  1.16374146e+01,\n",
       "         1.21127515e+01,  1.25793302e+01,  1.30280132e+01,\n",
       "         1.34758307e+01,  1.39034890e+01,  1.42956514e+01,\n",
       "         1.47173616e+01,  1.50922575e+01,  1.54290136e+01,\n",
       "         1.57594617e+01,  1.60264497e+01,  1.63137965e+01,\n",
       "         1.66251118e+01,  1.68035697e+01,  1.69716820e+01,\n",
       "         1.71170880e+01,  1.73433319e+01,  1.76242644e+01,\n",
       "         1.82422984e+01,  1.96242644e+01],\n",
       "       [ 0.00000000e+00,  6.31227054e-01,  1.36624582e+00,\n",
       "         1.39136998e+00,  1.67867001e+00,  1.78484919e+00,\n",
       "         2.00070889e+00,  2.20235866e+00,  2.48186876e+00,\n",
       "         2.71970588e+00,  3.08484797e+00,  3.41435727e+00,\n",
       "         3.77337312e+00,  4.16298077e+00,  4.54196785e+00,\n",
       "         4.96774452e+00,  5.39583262e+00,  5.83319988e+00,\n",
       "         6.29444563e+00,  6.76090275e+00,  7.24328101e+00,\n",
       "         7.71972004e+00,  8.20351011e+00,  8.69322644e+00,\n",
       "         9.18538573e+00,  9.68496270e+00,  1.01694600e+01,\n",
       "         1.06682232e+01,  1.11491700e+01,  1.16322884e+01,\n",
       "         1.21074454e+01,  1.25673422e+01,  1.30218214e+01,\n",
       "         1.34695705e+01,  1.39028372e+01,  1.43083815e+01,\n",
       "         1.47078498e+01,  1.50837942e+01,  1.54376374e+01,\n",
       "         1.57660851e+01,  1.60375211e+01,  1.63303518e+01,\n",
       "         1.66198692e+01,  1.68056402e+01,  1.69651470e+01,\n",
       "         1.71174652e+01,  1.73433384e+01,  1.76242644e+01,\n",
       "         1.82422984e+01,  1.96242644e+01],\n",
       "       [ 3.01980663e-14,  6.31227054e-01,  1.36625857e+00,\n",
       "         1.39169374e+00,  1.70330039e+00,  1.80525024e+00,\n",
       "         1.99833998e+00,  2.20318658e+00,  2.49978980e+00,\n",
       "         2.74113116e+00,  3.09491058e+00,  3.41272490e+00,\n",
       "         3.78089493e+00,  4.16378631e+00,  4.54687115e+00,\n",
       "         4.96467452e+00,  5.38959171e+00,  5.83741057e+00,\n",
       "         6.29700599e+00,  6.75542830e+00,  7.24397869e+00,\n",
       "         7.71510447e+00,  8.20493662e+00,  8.69274882e+00,\n",
       "         9.18430046e+00,  9.68455860e+00,  1.01725292e+01,\n",
       "         1.06651457e+01,  1.11501501e+01,  1.16303298e+01,\n",
       "         1.21011449e+01,  1.25694388e+01,  1.30183493e+01,\n",
       "         1.34668087e+01,  1.38981914e+01,  1.42941656e+01,\n",
       "         1.47058815e+01,  1.50931221e+01,  1.54163006e+01,\n",
       "         1.57591391e+01,  1.60260180e+01,  1.63042554e+01,\n",
       "         1.66240770e+01,  1.67854622e+01,  1.69673378e+01,\n",
       "         1.71176228e+01,  1.73433384e+01,  1.76242644e+01,\n",
       "         1.82422984e+01,  1.96242644e+01]])"
      ]
     },
     "execution_count": 88,
     "metadata": {},
     "output_type": "execute_result"
    }
   ],
   "source": [
    "np.load(\"SS_J_1_N_50x10.npy\")"
   ]
  },
  {
   "cell_type": "code",
   "execution_count": 98,
   "id": "41054e12",
   "metadata": {},
   "outputs": [],
   "source": [
    "np.save(\"Hi\", H_)"
   ]
  },
  {
   "cell_type": "code",
   "execution_count": 109,
   "id": "f4e20ebe",
   "metadata": {},
   "outputs": [],
   "source": [
    "import pickle\n",
    "with open('test.pickle', 'wb') as handle:\n",
    "    pickle.dump(H_, handle, protocol=pickle.HIGHEST_PROTOCOL)\n",
    "    \n",
    "with open('test.pickle', 'rb') as handle:\n",
    "    b = pickle.load(handle)"
   ]
  },
  {
   "cell_type": "code",
   "execution_count": 95,
   "id": "53148a5d",
   "metadata": {
    "scrolled": true
   },
   "outputs": [],
   "source": [
    "M2_FT_list = []\n",
    "M2_LT_list = []\n",
    "Z_FT_list = []\n",
    "Z_LT_list = []\n",
    "Es = np.load(\"SS_E_J_1_N_50x50.npy\")\n",
    "Vs = np.load(\"SS_V_J_1_N_50x50.npy\")\n",
    "lvs = np.load(\"SS_lv_J_1_N_50x50.npy\")\n",
    "\n",
    "for i in range(len(lvs)):\n",
    "    E,V,lv = Es[i], Vs[i], lvs[i]\n",
    "    results_FT,Id_FT = FTLM_static_iteration({\"E\":H_},E,V,lv,beta=beta)\n",
    "    results_LT,Id_LT = LTLM_static_iteration({\"E\":H_},E,V,lv,beta=beta)\n",
    "    # save results to a list\n",
    "    M2_FT_list.append(results_FT[\"E\"])\n",
    "    Z_FT_list.append(Id_FT)\n",
    "    M2_LT_list.append(results_LT[\"E\"])\n",
    "    Z_LT_list.append(Id_LT)"
   ]
  },
  {
   "cell_type": "code",
   "execution_count": 96,
   "id": "c671bdbe",
   "metadata": {},
   "outputs": [],
   "source": [
    "# calculating error bars on the expectation values\n",
    "m2_FT,dm2_FT = bootstrap_mean(M2_FT_list,Z_FT_list)\n",
    "m2_LT,dm2_LT = bootstrap_mean(M2_LT_list,Z_LT_list)"
   ]
  },
  {
   "cell_type": "code",
   "execution_count": 92,
   "id": "3421e811",
   "metadata": {},
   "outputs": [
    {
     "data": {
      "image/png": "[encoded data removed]",
      "text/plain": [
       "<Figure size 630x420 with 1 Axes>"
      ]
     },
     "metadata": {},
     "output_type": "display_data"
    }
   ],
   "source": [
    "##### plot results #####\n",
    "#\n",
    "# setting up plot and inset\n",
    "h=4.2 # figure aspect ratio parameter\n",
    "f,ax = plt.subplots(figsize=(1.5*h,h))\n",
    "# axinset = inset_axes(ax, width=\"45%\", height=\"65%\", loc=\"upper right\")\n",
    "# axs = [ax,axinset]\n",
    "#\n",
    "# plot results for FTLM and LTLM.\n",
    "# for a in axs:\n",
    "ax.errorbar(T,m2_LT,dm2_LT,marker=\".\",label=\"LTLM\",zorder=-1)\n",
    "ax.errorbar(T,m2_FT,dm2_FT,marker=\".\",label=\"FTLM\",zorder=-2)\n",
    "#\n",
    "ax.set_xscale(\"log\")\n",
    "#\n",
    "# adding space for inset by expanding x limits.\n",
    "xmin,xmax = ax.get_xlim()\n",
    "# ax.set_xlim((xmin,10*xmax))\n",
    "ax.legend(loc=\"lower right\")\n",
    "# #\n",
    "# # inset adjustment to zoom in low-temp limit.\n",
    "# xmin,xmax = axinset.get_xlim()\n",
    "# #\n",
    "# a = -0.6\n",
    "# m = np.logical_and(T>=xmin,T<=10**(a))\n",
    "# axinset.set_xlim((xmin,10**(a+0.1)))\n",
    "# ymin = min(m2_LT[m].min(),m2_FT[m].min())\n",
    "# ymax = max(m2_LT[m].max(),m2_FT[m].max())\n",
    "# ywin = ymax-ymin\n",
    "# boundy = 0.1*ywin\n",
    "# axinset.set_ylim((ymin-boundy,ymax+boundy))\n",
    "#\n",
    "# display plot\n",
    "f.tight_layout()"
   ]
  },
  {
   "cell_type": "markdown",
   "id": "76c25a46",
   "metadata": {},
   "source": [
    "## apply unitary transformation to Shastry-Sutherland\n",
    "\n",
    "local state will be transformed from standard basis to singlet & triplet."
   ]
  },
  {
   "cell_type": "markdown",
   "id": "0624802a",
   "metadata": {},
   "source": [
    "### original local hamiltonian"
   ]
  },
  {
   "cell_type": "code",
   "execution_count": 4,
   "id": "5e1d0541",
   "metadata": {},
   "outputs": [],
   "source": [
    "I = np.identity(2)\n",
    "Sz = np.zeros([2,2])\n",
    "Sz[0,0] = 1/2\n",
    "Sz[1,1] = -1/2\n",
    "Sx = np.zeros([2,2])\n",
    "Sx[1,0] = 1/2\n",
    "Sx[0,1] = 1/2\n",
    "Sy = np.zeros([2,2], dtype=np.complex64)\n",
    "Sy[1,0] = 1j/2\n",
    "Sy[0,1] = -1j/2\n",
    "\n",
    "\n",
    "Sz = sparse.csr_matrix(Sz)\n",
    "Sx = sparse.csr_matrix(Sx)\n",
    "Sy = sparse.csr_matrix(Sy)\n",
    "I = sparse.csr_matrix(I)\n",
    "\n",
    "h1 = -(sparse.kron(sparse.kron(I,Sz,format='csr'), sparse.kron(Sz,I,format='csr'),format='csr') \n",
    "       - sparse.kron(sparse.kron(I,Sx,format='csr'), sparse.kron(Sx,I,format='csr'),format='csr')\n",
    "       - sparse.kron(sparse.kron(I,Sy,format='csr'), sparse.kron(Sy,I,format='csr'),format='csr') \n",
    "     ).real\n",
    "\n",
    "\n",
    "h2 = -(sparse.kron(sparse.kron(Sz,I,format='csr'), sparse.kron(Sz,I,format='csr'),format='csr') \n",
    "       - sparse.kron(sparse.kron(Sx,I,format='csr'), sparse.kron(Sx,I,format='csr'),format='csr')\n",
    "       - sparse.kron(sparse.kron(Sy,I,format='csr'), sparse.kron(Sy,I,format='csr'),format='csr') \n",
    "     ).real\n",
    "\n",
    "\n",
    "h3 = -(sparse.kron(sparse.kron(Sz,Sz,format='csr'), sparse.kron(I,I,format='csr'),format='csr') \n",
    "       + sparse.kron(sparse.kron(Sx,Sx,format='csr'), sparse.kron(I,I,format='csr'),format='csr')\n",
    "       + sparse.kron(sparse.kron(Sy,Sy,format='csr'), sparse.kron(I,I,format='csr'),format='csr') \n",
    "     ).real\n",
    "\n",
    "h4 = -(sparse.kron(sparse.kron(I,I,format='csr'), sparse.kron(Sz,Sz,format='csr'),format='csr') \n",
    "       + sparse.kron(sparse.kron(I,I,format='csr'), sparse.kron(Sx,Sx,format='csr'),format='csr')\n",
    "       + sparse.kron(sparse.kron(I,I,format='csr'), sparse.kron(Sy,Sy,format='csr'),format='csr') \n",
    "     ).real\n",
    "\n",
    "\n",
    "\n",
    "\n",
    "h1_ = -(sparse.kron(sparse.kron(Sz,I,format='csr'), sparse.kron(I,Sz,format='csr'),format='csr') \n",
    "       - sparse.kron(sparse.kron(Sx,I,format='csr'), sparse.kron(I,Sx,format='csr'),format='csr')\n",
    "       - sparse.kron(sparse.kron(Sy,I,format='csr'), sparse.kron(I,Sy,format='csr'),format='csr') \n",
    "     ).real\n",
    "\n",
    "h2_ = -(sparse.kron(sparse.kron(I,Sz,format='csr'), sparse.kron(I,Sz,format='csr'),format='csr') \n",
    "       - sparse.kron(sparse.kron(I,Sx,format='csr'), sparse.kron(I,Sx,format='csr'),format='csr')\n",
    "       - sparse.kron(sparse.kron(I,Sy,format='csr'), sparse.kron(I,Sy,format='csr'),format='csr') \n",
    "     ).real\n",
    "\n",
    "\n",
    "\n",
    "h = h1 + h2\n",
    " \n",
    "h_ = h1_ + h2_\n",
    "\n",
    "on_site = h3/4 + h4/4\n"
   ]
  },
  {
   "cell_type": "code",
   "execution_count": 6,
   "id": "2e760d9f",
   "metadata": {},
   "outputs": [
    {
     "name": "stdout",
     "output_type": "stream",
     "text": [
      "  (0, 0)\t-0.5\n",
      "  (1, 1)\t-0.5\n",
      "  (2, 2)\t0.5\n",
      "  (2, 4)\t0.5\n",
      "  (2, 8)\t0.5\n",
      "  (3, 3)\t0.5\n",
      "  (3, 5)\t0.5\n",
      "  (3, 9)\t0.5\n",
      "  (4, 2)\t0.5\n",
      "  (5, 3)\t0.5\n",
      "  (6, 12)\t0.5\n",
      "  (7, 13)\t0.5\n",
      "  (8, 2)\t0.5\n",
      "  (9, 3)\t0.5\n",
      "  (10, 12)\t0.5\n",
      "  (11, 13)\t0.5\n",
      "  (12, 6)\t0.5\n",
      "  (12, 10)\t0.5\n",
      "  (12, 12)\t0.5\n",
      "  (13, 7)\t0.5\n",
      "  (13, 11)\t0.5\n",
      "  (13, 13)\t0.5\n",
      "  (14, 14)\t-0.5\n",
      "  (15, 15)\t-0.5\n"
     ]
    }
   ],
   "source": [
    "print(h1+h2)"
   ]
  },
  {
   "cell_type": "markdown",
   "id": "b2e5a82c",
   "metadata": {},
   "source": [
    "### construct unitary transformation"
   ]
  },
  {
   "cell_type": "code",
   "execution_count": 7,
   "id": "22d2bf13",
   "metadata": {},
   "outputs": [],
   "source": [
    "u = np.array([\n",
    "    [0,1,0,0],\n",
    "    [1/np.sqrt(2), 0, 1/np.sqrt(2), 0],\n",
    "    [-1/np.sqrt(2), 0, 1/np.sqrt(2), 0],\n",
    "    [0,0,0,1]\n",
    "])\n",
    "u = sparse.csr_matrix(u)\n",
    "U = sparse.kron(u, u,format='csr')"
   ]
  },
  {
   "cell_type": "code",
   "execution_count": 8,
   "id": "6be5fb87",
   "metadata": {},
   "outputs": [],
   "source": [
    "H = U.T @ h @ U\n",
    "H2 = U.T @ h_ @ U\n",
    "ON = U.T @ on_site @ U"
   ]
  },
  {
   "cell_type": "code",
   "execution_count": 9,
   "id": "e1f24ec7",
   "metadata": {},
   "outputs": [
    {
     "name": "stdout",
     "output_type": "stream",
     "text": [
      "  (9, 4)\t-0.4999999999999999\n",
      "  (6, 4)\t-0.4999999999999999\n",
      "  (5, 5)\t-0.5\n",
      "  (9, 6)\t0.4999999999999999\n",
      "  (4, 6)\t-0.4999999999999999\n",
      "  (7, 7)\t0.5\n",
      "  (8, 7)\t0.4999999999999999\n",
      "  (10, 7)\t0.4999999999999999\n",
      "  (13, 8)\t-0.4999999999999999\n",
      "  (7, 8)\t0.4999999999999999\n",
      "  (4, 9)\t-0.4999999999999999\n",
      "  (6, 9)\t0.4999999999999999\n",
      "  (13, 10)\t0.4999999999999999\n",
      "  (7, 10)\t0.4999999999999999\n",
      "  (12, 11)\t0.4999999999999999\n",
      "  (14, 11)\t0.4999999999999999\n",
      "  (11, 12)\t0.4999999999999999\n",
      "  (14, 12)\t0.4999999999999999\n",
      "  (8, 13)\t-0.4999999999999999\n",
      "  (10, 13)\t0.4999999999999999\n",
      "  (13, 13)\t0.5\n",
      "  (11, 14)\t0.4999999999999999\n",
      "  (12, 14)\t0.4999999999999999\n",
      "  (15, 15)\t-0.5\n"
     ]
    }
   ],
   "source": [
    "print(H)"
   ]
  },
  {
   "cell_type": "code",
   "execution_count": 41,
   "id": "metropolitan-cattle",
   "metadata": {},
   "outputs": [],
   "source": [
    "def num2state(s, L = 4):\n",
    "    state = []\n",
    "    for i in range(L):\n",
    "        state.append(s%4)\n",
    "        s >>= 2\n",
    "    return state[::-1]"
   ]
  },
  {
   "cell_type": "code",
   "execution_count": 43,
   "id": "52f495c4",
   "metadata": {},
   "outputs": [],
   "source": [
    "def state2num(state):\n",
    "    s = 0\n",
    "    for i in range(len(state)):\n",
    "        s <<=2\n",
    "        s += state[i]\n",
    "    return s"
   ]
  },
  {
   "cell_type": "code",
   "execution_count": 21,
   "id": "7c89ffce",
   "metadata": {},
   "outputs": [
    {
     "data": {
      "text/plain": [
       "0.0"
      ]
     },
     "execution_count": 21,
     "metadata": {},
     "output_type": "execute_result"
    }
   ],
   "source": [
    "np.load(\"array/SS_bond_test1.npy\")[0,1]"
   ]
  },
  {
   "cell_type": "code",
   "execution_count": 19,
   "id": "a472809c",
   "metadata": {
    "scrolled": true
   },
   "outputs": [
    {
     "name": "stdout",
     "output_type": "stream",
     "text": [
      "SS_hamiltonian.ipynb      check_conn_from_index.py  simple_4site_model.ipynb\r\n",
      "Untitled1.ipynb           heisernberg.ipynb         test.py\r\n",
      "\u001b[34marray\u001b[m\u001b[m/                    make_SS_local.py          visualize.ipynb\r\n",
      "check_conn.py             shastry_exact.py\r\n"
     ]
    }
   ],
   "source": [
    "ls"
   ]
  },
  {
   "cell_type": "code",
   "execution_count": null,
   "id": "d419d954",
   "metadata": {},
   "outputs": [],
   "source": [
    "with open('readme.txt', 'w') as f:\n",
    "    f.write('readme')"
   ]
  },
  {
   "cell_type": "code",
   "execution_count": 52,
   "id": "unlimited-theater",
   "metadata": {},
   "outputs": [],
   "source": [
    "with open('readme.txt', 'w') as f:\n",
    "    H_tmp = (H+ON).toarray()\n",
    "    f.write(\"{:>6} \".format(\"\"))\n",
    "    for j in range(H_tmp.shape[1]):\n",
    "        f.write(\"{:>6}  \".format(str(num2state(j, 2))))\n",
    "\n",
    "    f.write(\"\\n\\n\")\n",
    "    for i in range(H_tmp.shape[0]):\n",
    "    #     print(\"{:>6}\".format(\"\"), end=\"\")\n",
    "        f.write(\"{:>6}\".format(str(num2state(i, 2))))\n",
    "        for j in range(H_tmp.shape[1]):    \n",
    "            f.write(\"{:>6.3f}, \".format(H_tmp[i,j]))\n",
    "        f.write(\"\\n\")"
   ]
  },
  {
   "cell_type": "code",
   "execution_count": null,
   "id": "593a53a0",
   "metadata": {},
   "outputs": [],
   "source": []
  }
 ],
 "metadata": {
  "kernelspec": {
   "display_name": "Python 3 (ipykernel)",
   "language": "python",
   "name": "python3"
  },
  "language_info": {
   "codemirror_mode": {
    "name": "ipython",
    "version": 3
   },
   "file_extension": ".py",
   "mimetype": "text/x-python",
   "name": "python",
   "nbconvert_exporter": "python",
   "pygments_lexer": "ipython3",
   "version": "3.9.15"
  }
 },
 "nbformat": 4,
 "nbformat_minor": 5
}
