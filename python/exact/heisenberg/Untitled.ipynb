{
 "cells": [
  {
   "cell_type": "code",
   "execution_count": 1,
   "id": "eb6c4f1c",
   "metadata": {},
   "outputs": [],
   "source": [
    "from __future__ import print_function, division\n",
    "import sys,os\n",
    "\n",
    "from quspin.operators import hamiltonian\n",
    "from quspin.basis import spin_basis_1d, spin_basis_general\n",
    "import numpy as np \n",
    "\n",
    "os.environ['KMP_DUPLICATE_LIB_OK']='True' # uncomment this line if omp error occurs on OSX for python 3\n",
    "os.environ['OMP_NUM_THREADS']='1' # set number of OpenMP threads to run in parallel\n",
    "os.environ['MKL_NUM_THREADS']='12' # set number of MKL threads to run in parallel"
   ]
  },
  {
   "cell_type": "code",
   "execution_count": 2,
   "id": "a3931261",
   "metadata": {},
   "outputs": [],
   "source": [
    "Lx, Ly = 4, 4\n",
    "N_2d = Lx*Ly \n",
    "s = np.arange(N_2d) \n",
    "x = s%Lx \n",
    "y = s//Lx \n",
    "T_x = (x+1)%Lx + Lx*y \n",
    "T_y = x +Lx*((y+1)%Ly) \n",
    "Jxy = 1.0\n",
    "Jzz = 1.0\n",
    "hz = 1.0"
   ]
  },
  {
   "cell_type": "code",
   "execution_count": 3,
   "id": "cd732922",
   "metadata": {},
   "outputs": [
    {
     "name": "stdout",
     "output_type": "stream",
     "text": [
      "Hermiticity check passed!\n",
      "Particle conservation check passed!\n"
     ]
    }
   ],
   "source": [
    "basis_2d = spin_basis_general(N_2d, pauli = False, Nup = N_2d//2)\n",
    "\n",
    "J_zz = [[Jzz,i,T_x[i]] for i in range(N_2d)]+[[Jzz,i,T_y[i]] for i in range(N_2d)]\n",
    "J_xy = [[Jxy,i,T_x[i]] for i in range(N_2d)]+[[Jxy,i,T_y[i]] for i in range(N_2d)]\n",
    "h_z = [[hz, i] for i in range(N_2d)]\n",
    "static = [[\"xx\", J_xy], [\"yy\", J_xy],[\"zz\",J_zz],[\"z\",h_z]]\n",
    "H_XXZ = hamiltonian(static,[],basis=basis_2d, dtype=np.float64, check_symm=False)\n"
   ]
  },
  {
   "cell_type": "code",
   "execution_count": 4,
   "id": "05cda0e4",
   "metadata": {},
   "outputs": [
    {
     "data": {
      "text/plain": [
       "< instance of 'qspin.basis.general_hcb' with 12870 states >"
      ]
     },
     "execution_count": 4,
     "metadata": {},
     "output_type": "execute_result"
    }
   ],
   "source": [
    "H_XXZ.basis"
   ]
  },
  {
   "cell_type": "code",
   "execution_count": null,
   "id": "e4fd5d95",
   "metadata": {},
   "outputs": [],
   "source": [
    "E, V = H_XXZ.eigh()"
   ]
  },
  {
   "cell_type": "code",
   "execution_count": 22,
   "id": "03498598",
   "metadata": {},
   "outputs": [],
   "source": [
    "params_dict=dict(Jp=Jxy,h=hz)"
   ]
  },
  {
   "cell_type": "code",
   "execution_count": 23,
   "id": "dd6c96e1",
   "metadata": {},
   "outputs": [
    {
     "data": {
      "text/plain": [
       "{'Jp': 1.0, 'h': 1.0}"
      ]
     },
     "execution_count": 23,
     "metadata": {},
     "output_type": "execute_result"
    }
   ],
   "source": [
    "params_dict"
   ]
  },
  {
   "cell_type": "code",
   "execution_count": 30,
   "id": "3eb1080d",
   "metadata": {},
   "outputs": [],
   "source": [
    "a = \"\"\n",
    "for k, v in params_dict.items():\n",
    "    a += f\"{k}_{v:.2}_\"\n",
    "a = a[:-1]"
   ]
  },
  {
   "cell_type": "code",
   "execution_count": 31,
   "id": "19e927e1",
   "metadata": {},
   "outputs": [
    {
     "data": {
      "text/plain": [
       "'Jp_1.0_h_1.0'"
      ]
     },
     "execution_count": 31,
     "metadata": {},
     "output_type": "execute_result"
    }
   ],
   "source": [
    "a"
   ]
  },
  {
   "cell_type": "code",
   "execution_count": null,
   "id": "15deb705",
   "metadata": {},
   "outputs": [],
   "source": []
  }
 ],
 "metadata": {
  "kernelspec": {
   "display_name": "Python 3 (ipykernel)",
   "language": "python",
   "name": "python3"
  },
  "language_info": {
   "codemirror_mode": {
    "name": "ipython",
    "version": 3
   },
   "file_extension": ".py",
   "mimetype": "text/x-python",
   "name": "python",
   "nbconvert_exporter": "python",
   "pygments_lexer": "ipython3",
   "version": "3.9.15"
  }
 },
 "nbformat": 4,
 "nbformat_minor": 5
}
